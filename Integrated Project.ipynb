{
 "cells": [
  {
   "cell_type": "markdown",
   "metadata": {},
   "source": [
    "**Purpose of the project:**\n",
    "\n",
    "Identify patterns that test whether a game is successful or not, which will help us find the winning games and plan successful advertising campaigns."
   ]
  },
  {
   "cell_type": "code",
   "execution_count": 1,
   "metadata": {},
   "outputs": [
    {
     "name": "stderr",
     "output_type": "stream",
     "text": [
      "/opt/conda/lib/python3.7/site-packages/statsmodels/tools/_testing.py:19: FutureWarning: pandas.util.testing is deprecated. Use the functions in the public API at pandas.testing instead.\n",
      "  import pandas.util.testing as tm\n"
     ]
    }
   ],
   "source": [
    "import pandas as pd\n",
    "#import sidetable as stb\n",
    "import numpy as np\n",
    "import seaborn as sns\n",
    "import matplotlib.pyplot as plt\n",
    "import seaborn as sns\n",
    "import datetime as dt\n",
    "from math import factorial\n",
    "from nltk.stem import SnowballStemmer \n",
    "from scipy import stats as st\n",
    "import math"
   ]
  },
  {
   "cell_type": "code",
   "execution_count": 2,
   "metadata": {},
   "outputs": [],
   "source": [
    "data = pd.read_csv('/datasets/games.csv')\n",
    "data = pd.DataFrame(data)"
   ]
  },
  {
   "cell_type": "code",
   "execution_count": 3,
   "metadata": {},
   "outputs": [
    {
     "data": {
      "text/html": [
       "<div>\n",
       "<style scoped>\n",
       "    .dataframe tbody tr th:only-of-type {\n",
       "        vertical-align: middle;\n",
       "    }\n",
       "\n",
       "    .dataframe tbody tr th {\n",
       "        vertical-align: top;\n",
       "    }\n",
       "\n",
       "    .dataframe thead th {\n",
       "        text-align: right;\n",
       "    }\n",
       "</style>\n",
       "<table border=\"1\" class=\"dataframe\">\n",
       "  <thead>\n",
       "    <tr style=\"text-align: right;\">\n",
       "      <th></th>\n",
       "      <th>Name</th>\n",
       "      <th>Platform</th>\n",
       "      <th>Year_of_Release</th>\n",
       "      <th>Genre</th>\n",
       "      <th>NA_sales</th>\n",
       "      <th>EU_sales</th>\n",
       "      <th>JP_sales</th>\n",
       "      <th>Other_sales</th>\n",
       "      <th>Critic_Score</th>\n",
       "      <th>User_Score</th>\n",
       "      <th>Rating</th>\n",
       "    </tr>\n",
       "  </thead>\n",
       "  <tbody>\n",
       "    <tr>\n",
       "      <th>0</th>\n",
       "      <td>Wii Sports</td>\n",
       "      <td>Wii</td>\n",
       "      <td>2006.0</td>\n",
       "      <td>Sports</td>\n",
       "      <td>41.36</td>\n",
       "      <td>28.96</td>\n",
       "      <td>3.77</td>\n",
       "      <td>8.45</td>\n",
       "      <td>76.0</td>\n",
       "      <td>8</td>\n",
       "      <td>E</td>\n",
       "    </tr>\n",
       "    <tr>\n",
       "      <th>1</th>\n",
       "      <td>Super Mario Bros.</td>\n",
       "      <td>NES</td>\n",
       "      <td>1985.0</td>\n",
       "      <td>Platform</td>\n",
       "      <td>29.08</td>\n",
       "      <td>3.58</td>\n",
       "      <td>6.81</td>\n",
       "      <td>0.77</td>\n",
       "      <td>NaN</td>\n",
       "      <td>NaN</td>\n",
       "      <td>NaN</td>\n",
       "    </tr>\n",
       "    <tr>\n",
       "      <th>2</th>\n",
       "      <td>Mario Kart Wii</td>\n",
       "      <td>Wii</td>\n",
       "      <td>2008.0</td>\n",
       "      <td>Racing</td>\n",
       "      <td>15.68</td>\n",
       "      <td>12.76</td>\n",
       "      <td>3.79</td>\n",
       "      <td>3.29</td>\n",
       "      <td>82.0</td>\n",
       "      <td>8.3</td>\n",
       "      <td>E</td>\n",
       "    </tr>\n",
       "    <tr>\n",
       "      <th>3</th>\n",
       "      <td>Wii Sports Resort</td>\n",
       "      <td>Wii</td>\n",
       "      <td>2009.0</td>\n",
       "      <td>Sports</td>\n",
       "      <td>15.61</td>\n",
       "      <td>10.93</td>\n",
       "      <td>3.28</td>\n",
       "      <td>2.95</td>\n",
       "      <td>80.0</td>\n",
       "      <td>8</td>\n",
       "      <td>E</td>\n",
       "    </tr>\n",
       "    <tr>\n",
       "      <th>4</th>\n",
       "      <td>Pokemon Red/Pokemon Blue</td>\n",
       "      <td>GB</td>\n",
       "      <td>1996.0</td>\n",
       "      <td>Role-Playing</td>\n",
       "      <td>11.27</td>\n",
       "      <td>8.89</td>\n",
       "      <td>10.22</td>\n",
       "      <td>1.00</td>\n",
       "      <td>NaN</td>\n",
       "      <td>NaN</td>\n",
       "      <td>NaN</td>\n",
       "    </tr>\n",
       "  </tbody>\n",
       "</table>\n",
       "</div>"
      ],
      "text/plain": [
       "                       Name Platform  Year_of_Release         Genre  NA_sales  \\\n",
       "0                Wii Sports      Wii           2006.0        Sports     41.36   \n",
       "1         Super Mario Bros.      NES           1985.0      Platform     29.08   \n",
       "2            Mario Kart Wii      Wii           2008.0        Racing     15.68   \n",
       "3         Wii Sports Resort      Wii           2009.0        Sports     15.61   \n",
       "4  Pokemon Red/Pokemon Blue       GB           1996.0  Role-Playing     11.27   \n",
       "\n",
       "   EU_sales  JP_sales  Other_sales  Critic_Score User_Score Rating  \n",
       "0     28.96      3.77         8.45          76.0          8      E  \n",
       "1      3.58      6.81         0.77           NaN        NaN    NaN  \n",
       "2     12.76      3.79         3.29          82.0        8.3      E  \n",
       "3     10.93      3.28         2.95          80.0          8      E  \n",
       "4      8.89     10.22         1.00           NaN        NaN    NaN  "
      ]
     },
     "execution_count": 3,
     "metadata": {},
     "output_type": "execute_result"
    }
   ],
   "source": [
    "data.head()"
   ]
  },
  {
   "cell_type": "code",
   "execution_count": 4,
   "metadata": {
    "scrolled": true
   },
   "outputs": [
    {
     "data": {
      "text/html": [
       "<div>\n",
       "<style scoped>\n",
       "    .dataframe tbody tr th:only-of-type {\n",
       "        vertical-align: middle;\n",
       "    }\n",
       "\n",
       "    .dataframe tbody tr th {\n",
       "        vertical-align: top;\n",
       "    }\n",
       "\n",
       "    .dataframe thead th {\n",
       "        text-align: right;\n",
       "    }\n",
       "</style>\n",
       "<table border=\"1\" class=\"dataframe\">\n",
       "  <thead>\n",
       "    <tr style=\"text-align: right;\">\n",
       "      <th></th>\n",
       "      <th>name</th>\n",
       "      <th>platform</th>\n",
       "      <th>year_of_release</th>\n",
       "      <th>genre</th>\n",
       "      <th>na_sales</th>\n",
       "      <th>eu_sales</th>\n",
       "      <th>jp_sales</th>\n",
       "      <th>other_sales</th>\n",
       "      <th>critic_score</th>\n",
       "      <th>user_score</th>\n",
       "      <th>rating</th>\n",
       "    </tr>\n",
       "  </thead>\n",
       "  <tbody>\n",
       "    <tr>\n",
       "      <th>0</th>\n",
       "      <td>Wii Sports</td>\n",
       "      <td>Wii</td>\n",
       "      <td>2006.0</td>\n",
       "      <td>Sports</td>\n",
       "      <td>41.36</td>\n",
       "      <td>28.96</td>\n",
       "      <td>3.77</td>\n",
       "      <td>8.45</td>\n",
       "      <td>76.0</td>\n",
       "      <td>8</td>\n",
       "      <td>E</td>\n",
       "    </tr>\n",
       "    <tr>\n",
       "      <th>1</th>\n",
       "      <td>Super Mario Bros.</td>\n",
       "      <td>NES</td>\n",
       "      <td>1985.0</td>\n",
       "      <td>Platform</td>\n",
       "      <td>29.08</td>\n",
       "      <td>3.58</td>\n",
       "      <td>6.81</td>\n",
       "      <td>0.77</td>\n",
       "      <td>NaN</td>\n",
       "      <td>NaN</td>\n",
       "      <td>NaN</td>\n",
       "    </tr>\n",
       "    <tr>\n",
       "      <th>2</th>\n",
       "      <td>Mario Kart Wii</td>\n",
       "      <td>Wii</td>\n",
       "      <td>2008.0</td>\n",
       "      <td>Racing</td>\n",
       "      <td>15.68</td>\n",
       "      <td>12.76</td>\n",
       "      <td>3.79</td>\n",
       "      <td>3.29</td>\n",
       "      <td>82.0</td>\n",
       "      <td>8.3</td>\n",
       "      <td>E</td>\n",
       "    </tr>\n",
       "    <tr>\n",
       "      <th>3</th>\n",
       "      <td>Wii Sports Resort</td>\n",
       "      <td>Wii</td>\n",
       "      <td>2009.0</td>\n",
       "      <td>Sports</td>\n",
       "      <td>15.61</td>\n",
       "      <td>10.93</td>\n",
       "      <td>3.28</td>\n",
       "      <td>2.95</td>\n",
       "      <td>80.0</td>\n",
       "      <td>8</td>\n",
       "      <td>E</td>\n",
       "    </tr>\n",
       "    <tr>\n",
       "      <th>4</th>\n",
       "      <td>Pokemon Red/Pokemon Blue</td>\n",
       "      <td>GB</td>\n",
       "      <td>1996.0</td>\n",
       "      <td>Role-Playing</td>\n",
       "      <td>11.27</td>\n",
       "      <td>8.89</td>\n",
       "      <td>10.22</td>\n",
       "      <td>1.00</td>\n",
       "      <td>NaN</td>\n",
       "      <td>NaN</td>\n",
       "      <td>NaN</td>\n",
       "    </tr>\n",
       "  </tbody>\n",
       "</table>\n",
       "</div>"
      ],
      "text/plain": [
       "                       name platform  year_of_release         genre  na_sales  \\\n",
       "0                Wii Sports      Wii           2006.0        Sports     41.36   \n",
       "1         Super Mario Bros.      NES           1985.0      Platform     29.08   \n",
       "2            Mario Kart Wii      Wii           2008.0        Racing     15.68   \n",
       "3         Wii Sports Resort      Wii           2009.0        Sports     15.61   \n",
       "4  Pokemon Red/Pokemon Blue       GB           1996.0  Role-Playing     11.27   \n",
       "\n",
       "   eu_sales  jp_sales  other_sales  critic_score user_score rating  \n",
       "0     28.96      3.77         8.45          76.0          8      E  \n",
       "1      3.58      6.81         0.77           NaN        NaN    NaN  \n",
       "2     12.76      3.79         3.29          82.0        8.3      E  \n",
       "3     10.93      3.28         2.95          80.0          8      E  \n",
       "4      8.89     10.22         1.00           NaN        NaN    NaN  "
      ]
     },
     "execution_count": 4,
     "metadata": {},
     "output_type": "execute_result"
    }
   ],
   "source": [
    "data.columns= data.columns.str.lower()\n",
    "data.head()"
   ]
  },
  {
   "cell_type": "code",
   "execution_count": 5,
   "metadata": {},
   "outputs": [
    {
     "data": {
      "text/plain": [
       "name                0.011965\n",
       "platform            0.000000\n",
       "year_of_release     1.609333\n",
       "genre               0.011965\n",
       "na_sales            0.000000\n",
       "eu_sales            0.000000\n",
       "jp_sales            0.000000\n",
       "other_sales         0.000000\n",
       "critic_score       51.319174\n",
       "user_score         40.089740\n",
       "rating             40.478612\n",
       "dtype: float64"
      ]
     },
     "execution_count": 5,
     "metadata": {},
     "output_type": "execute_result"
    }
   ],
   "source": [
    "data.isnull().sum()/len(data)*100"
   ]
  },
  {
   "cell_type": "code",
   "execution_count": 6,
   "metadata": {},
   "outputs": [
    {
     "data": {
      "text/plain": [
       "name                0.011965\n",
       "platform            0.000000\n",
       "year_of_release     1.609333\n",
       "genre               0.011965\n",
       "na_sales            0.000000\n",
       "eu_sales            0.000000\n",
       "jp_sales            0.000000\n",
       "other_sales         0.000000\n",
       "critic_score       51.319174\n",
       "user_score         40.089740\n",
       "rating             40.478612\n",
       "dtype: float64"
      ]
     },
     "execution_count": 6,
     "metadata": {},
     "output_type": "execute_result"
    }
   ],
   "source": [
    "data.isnull().sum()/len(data)*100"
   ]
  },
  {
   "cell_type": "code",
   "execution_count": 7,
   "metadata": {},
   "outputs": [],
   "source": [
    "data.dropna(subset =['name', 'year_of_release'], inplace=True)"
   ]
  },
  {
   "cell_type": "code",
   "execution_count": 8,
   "metadata": {},
   "outputs": [],
   "source": [
    "data['rating'] = data['rating'].fillna('unknown')"
   ]
  },
  {
   "cell_type": "code",
   "execution_count": 9,
   "metadata": {},
   "outputs": [],
   "source": [
    "data['critic_score'] = data['critic_score'].fillna(-1)"
   ]
  },
  {
   "cell_type": "code",
   "execution_count": 10,
   "metadata": {},
   "outputs": [],
   "source": [
    "data['user_score'] = data['user_score'].fillna(-1)"
   ]
  },
  {
   "cell_type": "code",
   "execution_count": 11,
   "metadata": {},
   "outputs": [
    {
     "data": {
      "text/plain": [
       "-1     6605\n",
       "tbd    2376\n",
       "7.8     322\n",
       "8       285\n",
       "8.2     276\n",
       "       ... \n",
       "1.9       2\n",
       "9.6       2\n",
       "0.9       2\n",
       "0         1\n",
       "9.7       1\n",
       "Name: user_score, Length: 97, dtype: int64"
      ]
     },
     "execution_count": 11,
     "metadata": {},
     "output_type": "execute_result"
    }
   ],
   "source": [
    "data['user_score'].value_counts()"
   ]
  },
  {
   "cell_type": "code",
   "execution_count": 12,
   "metadata": {},
   "outputs": [
    {
     "data": {
      "text/plain": [
       "name               0\n",
       "platform           0\n",
       "year_of_release    0\n",
       "genre              0\n",
       "na_sales           0\n",
       "eu_sales           0\n",
       "jp_sales           0\n",
       "other_sales        0\n",
       "critic_score       0\n",
       "user_score         0\n",
       "rating             0\n",
       "dtype: int64"
      ]
     },
     "execution_count": 12,
     "metadata": {},
     "output_type": "execute_result"
    }
   ],
   "source": [
    "data.isnull().sum()"
   ]
  },
  {
   "cell_type": "code",
   "execution_count": 13,
   "metadata": {},
   "outputs": [
    {
     "data": {
      "text/plain": [
       "0        2006\n",
       "1        1985\n",
       "2        2008\n",
       "3        2009\n",
       "4        1996\n",
       "         ... \n",
       "16710    2016\n",
       "16711    2006\n",
       "16712    2016\n",
       "16713    2003\n",
       "16714    2016\n",
       "Name: year_of_release, Length: 16444, dtype: int64"
      ]
     },
     "execution_count": 13,
     "metadata": {},
     "output_type": "execute_result"
    }
   ],
   "source": [
    "data['year_of_release'] = data['year_of_release'].astype(int)\n",
    "data['year_of_release']"
   ]
  },
  {
   "cell_type": "code",
   "execution_count": 14,
   "metadata": {},
   "outputs": [
    {
     "data": {
      "text/plain": [
       "0        7.6\n",
       "1       -0.1\n",
       "2        8.2\n",
       "3        8.0\n",
       "4       -0.1\n",
       "        ... \n",
       "16710   -0.1\n",
       "16711   -0.1\n",
       "16712   -0.1\n",
       "16713   -0.1\n",
       "16714   -0.1\n",
       "Name: critic_score, Length: 16444, dtype: float64"
      ]
     },
     "execution_count": 14,
     "metadata": {},
     "output_type": "execute_result"
    }
   ],
   "source": [
    "data['critic_score'] = data['critic_score']/ 10\n",
    "data['critic_score']"
   ]
  },
  {
   "cell_type": "code",
   "execution_count": 15,
   "metadata": {},
   "outputs": [
    {
     "data": {
      "text/html": [
       "<div>\n",
       "<style scoped>\n",
       "    .dataframe tbody tr th:only-of-type {\n",
       "        vertical-align: middle;\n",
       "    }\n",
       "\n",
       "    .dataframe tbody tr th {\n",
       "        vertical-align: top;\n",
       "    }\n",
       "\n",
       "    .dataframe thead th {\n",
       "        text-align: right;\n",
       "    }\n",
       "</style>\n",
       "<table border=\"1\" class=\"dataframe\">\n",
       "  <thead>\n",
       "    <tr style=\"text-align: right;\">\n",
       "      <th></th>\n",
       "      <th>name</th>\n",
       "      <th>platform</th>\n",
       "      <th>year_of_release</th>\n",
       "      <th>genre</th>\n",
       "      <th>na_sales</th>\n",
       "      <th>eu_sales</th>\n",
       "      <th>jp_sales</th>\n",
       "      <th>other_sales</th>\n",
       "      <th>critic_score</th>\n",
       "      <th>user_score</th>\n",
       "      <th>rating</th>\n",
       "      <th>total_sales</th>\n",
       "    </tr>\n",
       "  </thead>\n",
       "  <tbody>\n",
       "    <tr>\n",
       "      <th>0</th>\n",
       "      <td>Wii Sports</td>\n",
       "      <td>Wii</td>\n",
       "      <td>2006</td>\n",
       "      <td>Sports</td>\n",
       "      <td>41.36</td>\n",
       "      <td>28.96</td>\n",
       "      <td>3.77</td>\n",
       "      <td>8.45</td>\n",
       "      <td>7.6</td>\n",
       "      <td>8</td>\n",
       "      <td>E</td>\n",
       "      <td>82.54</td>\n",
       "    </tr>\n",
       "    <tr>\n",
       "      <th>1</th>\n",
       "      <td>Super Mario Bros.</td>\n",
       "      <td>NES</td>\n",
       "      <td>1985</td>\n",
       "      <td>Platform</td>\n",
       "      <td>29.08</td>\n",
       "      <td>3.58</td>\n",
       "      <td>6.81</td>\n",
       "      <td>0.77</td>\n",
       "      <td>-0.1</td>\n",
       "      <td>-1</td>\n",
       "      <td>unknown</td>\n",
       "      <td>40.24</td>\n",
       "    </tr>\n",
       "    <tr>\n",
       "      <th>2</th>\n",
       "      <td>Mario Kart Wii</td>\n",
       "      <td>Wii</td>\n",
       "      <td>2008</td>\n",
       "      <td>Racing</td>\n",
       "      <td>15.68</td>\n",
       "      <td>12.76</td>\n",
       "      <td>3.79</td>\n",
       "      <td>3.29</td>\n",
       "      <td>8.2</td>\n",
       "      <td>8.3</td>\n",
       "      <td>E</td>\n",
       "      <td>35.52</td>\n",
       "    </tr>\n",
       "    <tr>\n",
       "      <th>3</th>\n",
       "      <td>Wii Sports Resort</td>\n",
       "      <td>Wii</td>\n",
       "      <td>2009</td>\n",
       "      <td>Sports</td>\n",
       "      <td>15.61</td>\n",
       "      <td>10.93</td>\n",
       "      <td>3.28</td>\n",
       "      <td>2.95</td>\n",
       "      <td>8.0</td>\n",
       "      <td>8</td>\n",
       "      <td>E</td>\n",
       "      <td>32.77</td>\n",
       "    </tr>\n",
       "    <tr>\n",
       "      <th>4</th>\n",
       "      <td>Pokemon Red/Pokemon Blue</td>\n",
       "      <td>GB</td>\n",
       "      <td>1996</td>\n",
       "      <td>Role-Playing</td>\n",
       "      <td>11.27</td>\n",
       "      <td>8.89</td>\n",
       "      <td>10.22</td>\n",
       "      <td>1.00</td>\n",
       "      <td>-0.1</td>\n",
       "      <td>-1</td>\n",
       "      <td>unknown</td>\n",
       "      <td>31.38</td>\n",
       "    </tr>\n",
       "  </tbody>\n",
       "</table>\n",
       "</div>"
      ],
      "text/plain": [
       "                       name platform  year_of_release         genre  na_sales  \\\n",
       "0                Wii Sports      Wii             2006        Sports     41.36   \n",
       "1         Super Mario Bros.      NES             1985      Platform     29.08   \n",
       "2            Mario Kart Wii      Wii             2008        Racing     15.68   \n",
       "3         Wii Sports Resort      Wii             2009        Sports     15.61   \n",
       "4  Pokemon Red/Pokemon Blue       GB             1996  Role-Playing     11.27   \n",
       "\n",
       "   eu_sales  jp_sales  other_sales  critic_score user_score   rating  \\\n",
       "0     28.96      3.77         8.45           7.6          8        E   \n",
       "1      3.58      6.81         0.77          -0.1         -1  unknown   \n",
       "2     12.76      3.79         3.29           8.2        8.3        E   \n",
       "3     10.93      3.28         2.95           8.0          8        E   \n",
       "4      8.89     10.22         1.00          -0.1         -1  unknown   \n",
       "\n",
       "   total_sales  \n",
       "0        82.54  \n",
       "1        40.24  \n",
       "2        35.52  \n",
       "3        32.77  \n",
       "4        31.38  "
      ]
     },
     "execution_count": 15,
     "metadata": {},
     "output_type": "execute_result"
    }
   ],
   "source": [
    "data['total_sales'] = data['na_sales'] + data['eu_sales'] + data['jp_sales'] + data['other_sales']\n",
    "data.head()"
   ]
  },
  {
   "cell_type": "markdown",
   "metadata": {},
   "source": [
    "***Missing values:***\n",
    "\n",
    "*Missing values were found and treated in various ways:*\n",
    "\n",
    "1.We decided to make the abbreviation TBD a (-1), as it does not really have information available and at this point it does not contribute to the analysis.\n",
    "\n",
    "2.In the columns 'name' and years of release the percentage of missing values was minor (0.01%, 1.6%), so we deleted them.\n",
    "\n",
    "3.In the rating column, the missing values make up a significant percentage (40.4%) of the data, so they cannot be deleted and have been changed to an \"unknown\" value.\n",
    "\n",
    "4.In the columns 'critic score' and 'user score' considerable percentage of missing values were found (51.3%, 47.5%) so they were not deleted and since these are numerical values I did not replace them with any value and left them missing.\n",
    "\n",
    "\n",
    "Possible reasons for the missing values:\n",
    "\n",
    "*The rating column is a system that calculates the appropriate user age for the game, perhaps it is games that it does not know how to rate or bug in its system.\n",
    "\n",
    "*In the review columns it may be that the missing entries are just very unsuccessful or very old games that no one has given their opinion on."
   ]
  },
  {
   "cell_type": "markdown",
   "metadata": {},
   "source": [
    "***Steps taken up to this point:***\n",
    "\n",
    "1.Loading the libraries and data.\n",
    "\n",
    "2.Make the column names lowercase.\n",
    "\n",
    "3.Checking for missing values:\n",
    "\n",
    "-Expend the percentage of the missing values.\n",
    "\n",
    "-Treatment of missing values.\n",
    "\n",
    "4.Changing the column of the year the game was published to an integer.\n",
    "\n",
    "5.Divide the critic_score column by 10 so that it is on the same scale as user_score in case I need to compare them.\n",
    "\n",
    "6.Create a new column which includes the total revenue of the game from all areas."
   ]
  },
  {
   "cell_type": "markdown",
   "metadata": {},
   "source": [
    "***data analysis***"
   ]
  },
  {
   "cell_type": "code",
   "execution_count": 16,
   "metadata": {},
   "outputs": [
    {
     "data": {
      "image/png": "[encoded data removed]",
      "text/plain": [
       "<Figure size 432x288 with 1 Axes>"
      ]
     },
     "metadata": {
      "needs_background": "light"
     },
     "output_type": "display_data"
    }
   ],
   "source": [
    "data['year_of_release'].hist();\n",
    "plt.ylabel('Number of games released per year');\n",
    "plt.xlabel('Year of release');"
   ]
  },
  {
   "cell_type": "markdown",
   "metadata": {},
   "source": [
    "The table shows the distribution of games exits by year. It can be seen that the data begin to be significant in the early 2000s."
   ]
  },
  {
   "cell_type": "code",
   "execution_count": 17,
   "metadata": {},
   "outputs": [],
   "source": [
    "def years_group(cell):\n",
    "    if cell < 1990:\n",
    "        return '80'\n",
    "    if cell< 2000:\n",
    "        return '90s'\n",
    "    if cell< 2010:\n",
    "        return '00s'\n",
    "    else:\n",
    "        return '10s'"
   ]
  },
  {
   "cell_type": "markdown",
   "metadata": {},
   "source": [
    "<div class=\"alert alert-block alert-success\">\n",
    "<b>Reviewer's comment</b> <a class=\"tocSkip\"></a>\n",
    "\n",
    "Nice function)\n",
    "</div>"
   ]
  },
  {
   "cell_type": "code",
   "execution_count": 18,
   "metadata": {},
   "outputs": [
    {
     "data": {
      "text/plain": [
       "00s    9193\n",
       "10s    5277\n",
       "90s    1769\n",
       "80      205\n",
       "Name: year_group, dtype: int64"
      ]
     },
     "execution_count": 18,
     "metadata": {},
     "output_type": "execute_result"
    }
   ],
   "source": [
    "data['year_group']=data['year_of_release'].apply(years_group)\n",
    "data['year_group'].value_counts()"
   ]
  },
  {
   "cell_type": "markdown",
   "metadata": {},
   "source": [
    "The period of time I decided to divide the data according to which is decades.\n",
    "We can see that there is growth in the number of games over the decades when in the 00s the growth reaches a peak (and a considerable gap from the other decades) and a significant decline begins (56.8%) when entering the 10's decade."
   ]
  },
  {
   "cell_type": "code",
   "execution_count": 19,
   "metadata": {},
   "outputs": [
    {
     "data": {
      "text/html": [
       "<div>\n",
       "<style scoped>\n",
       "    .dataframe tbody tr th:only-of-type {\n",
       "        vertical-align: middle;\n",
       "    }\n",
       "\n",
       "    .dataframe tbody tr th {\n",
       "        vertical-align: top;\n",
       "    }\n",
       "\n",
       "    .dataframe thead th {\n",
       "        text-align: right;\n",
       "    }\n",
       "</style>\n",
       "<table border=\"1\" class=\"dataframe\">\n",
       "  <thead>\n",
       "    <tr style=\"text-align: right;\">\n",
       "      <th></th>\n",
       "      <th>total_sales</th>\n",
       "    </tr>\n",
       "  </thead>\n",
       "  <tbody>\n",
       "    <tr>\n",
       "      <th>count</th>\n",
       "      <td>31.000000</td>\n",
       "    </tr>\n",
       "    <tr>\n",
       "      <th>mean</th>\n",
       "      <td>284.334516</td>\n",
       "    </tr>\n",
       "    <tr>\n",
       "      <th>std</th>\n",
       "      <td>343.954144</td>\n",
       "    </tr>\n",
       "    <tr>\n",
       "      <th>min</th>\n",
       "      <td>0.030000</td>\n",
       "    </tr>\n",
       "    <tr>\n",
       "      <th>25%</th>\n",
       "      <td>22.150000</td>\n",
       "    </tr>\n",
       "    <tr>\n",
       "      <th>50%</th>\n",
       "      <td>200.040000</td>\n",
       "    </tr>\n",
       "    <tr>\n",
       "      <th>75%</th>\n",
       "      <td>301.205000</td>\n",
       "    </tr>\n",
       "    <tr>\n",
       "      <th>max</th>\n",
       "      <td>1233.560000</td>\n",
       "    </tr>\n",
       "  </tbody>\n",
       "</table>\n",
       "</div>"
      ],
      "text/plain": [
       "       total_sales\n",
       "count    31.000000\n",
       "mean    284.334516\n",
       "std     343.954144\n",
       "min       0.030000\n",
       "25%      22.150000\n",
       "50%     200.040000\n",
       "75%     301.205000\n",
       "max    1233.560000"
      ]
     },
     "execution_count": 19,
     "metadata": {},
     "output_type": "execute_result"
    },
    {
     "data": {
      "image/png": "[encoded data removed]",
      "text/plain": [
       "<Figure size 432x288 with 1 Axes>"
      ]
     },
     "metadata": {
      "needs_background": "light"
     },
     "output_type": "display_data"
    }
   ],
   "source": [
    "pdata = pd.pivot_table(data, values='total_sales', index='platform', aggfunc='sum').sort_values(by='total_sales', ascending=False)\n",
    "pdata.plot(kind='bar')\n",
    "pdata.describe()"
   ]
  },
  {
   "cell_type": "markdown",
   "metadata": {},
   "source": [
    "This table shows the distribution of total sales by platform."
   ]
  },
  {
   "cell_type": "code",
   "execution_count": 20,
   "metadata": {},
   "outputs": [
    {
     "data": {
      "text/plain": [
       "count    2127.000000\n",
       "mean     2004.583921\n",
       "std         2.567689\n",
       "min      2000.000000\n",
       "25%      2002.000000\n",
       "50%      2005.000000\n",
       "75%      2007.000000\n",
       "max      2011.000000\n",
       "Name: year_of_release, dtype: float64"
      ]
     },
     "execution_count": 20,
     "metadata": {},
     "output_type": "execute_result"
    },
    {
     "data": {
      "image/png": "[encoded data removed]",
      "text/plain": [
       "<Figure size 432x288 with 1 Axes>"
      ]
     },
     "metadata": {
      "needs_background": "light"
     },
     "output_type": "display_data"
    }
   ],
   "source": [
    "ps2 = data.query('platform== \"PS2\"')\n",
    "ps2.hist('year_of_release', bins=50)\n",
    "plt.ylabel('Number of games released per year');\n",
    "ps2['year_of_release'].describe()"
   ]
  },
  {
   "cell_type": "code",
   "execution_count": 21,
   "metadata": {},
   "outputs": [
    {
     "data": {
      "text/plain": [
       "count    1232.000000\n",
       "mean     2009.880682\n",
       "std         2.458339\n",
       "min      2005.000000\n",
       "25%      2008.000000\n",
       "50%      2010.000000\n",
       "75%      2011.000000\n",
       "max      2016.000000\n",
       "Name: year_of_release, dtype: float64"
      ]
     },
     "execution_count": 21,
     "metadata": {},
     "output_type": "execute_result"
    },
    {
     "data": {
      "image/png": "[encoded data removed]",
      "text/plain": [
       "<Figure size 432x288 with 1 Axes>"
      ]
     },
     "metadata": {
      "needs_background": "light"
     },
     "output_type": "display_data"
    }
   ],
   "source": [
    "x360= data.query('platform== \"X360\"')\n",
    "x360.hist('year_of_release', bins=50)\n",
    "plt.ylabel('Number of games released per year');\n",
    "x360['year_of_release'].describe()"
   ]
  },
  {
   "cell_type": "code",
   "execution_count": 22,
   "metadata": {},
   "outputs": [
    {
     "data": {
      "text/plain": [
       "count    1306.000000\n",
       "mean     2010.840735\n",
       "std         2.459616\n",
       "min      2006.000000\n",
       "25%      2009.000000\n",
       "50%      2011.000000\n",
       "75%      2013.000000\n",
       "max      2016.000000\n",
       "Name: year_of_release, dtype: float64"
      ]
     },
     "execution_count": 22,
     "metadata": {},
     "output_type": "execute_result"
    },
    {
     "data": {
      "image/png": "[encoded data removed]",
      "text/plain": [
       "<Figure size 432x288 with 1 Axes>"
      ]
     },
     "metadata": {
      "needs_background": "light"
     },
     "output_type": "display_data"
    }
   ],
   "source": [
    "ps3 = data.query('platform== \"PS3\"').sort_values(by='year_of_release', ascending=False)\n",
    "ps3.hist('year_of_release', bins=50)\n",
    "plt.ylabel('Number of games released per year');\n",
    "ps3['year_of_release'].describe()"
   ]
  },
  {
   "cell_type": "markdown",
   "metadata": {},
   "source": [
    "The above three tables show the distributions of the three most profitable platforms."
   ]
  },
  {
   "cell_type": "markdown",
   "metadata": {},
   "source": [
    "I took the PS2 platform.\n",
    "The platform is analyzed above and it can be seen that the \"lifespan\" of a platform is about 11 years. You can see that it has been on the rise from the moment it hit the market until 2006, and from there the trend changed and started to go down until it disappeared in 2011. If you compare its data to the PS3 platform (its more advanced model), you can see that when the PS3 hit the market, the PS2 changed Which overall makes a lot of sense).\n",
    "Conclusion - The lifespan of the platform ranges around 11 years. Rises in about 6 years, and when a new model arrives it starts to drop."
   ]
  },
  {
   "cell_type": "markdown",
   "metadata": {},
   "source": [
    "In light of the above data, the time period I will work with will be 11 years and since we are preparing for 2017, only data from 2006 will be relevant at the moment."
   ]
  },
  {
   "cell_type": "code",
   "execution_count": 23,
   "metadata": {},
   "outputs": [],
   "source": [
    "reldata = data.query('year_of_release>= 2006')\n",
    "reldata = pd.DataFrame(data=reldata)"
   ]
  },
  {
   "cell_type": "code",
   "execution_count": 24,
   "metadata": {},
   "outputs": [
    {
     "data": {
      "text/html": [
       "<div>\n",
       "<style scoped>\n",
       "    .dataframe tbody tr th:only-of-type {\n",
       "        vertical-align: middle;\n",
       "    }\n",
       "\n",
       "    .dataframe tbody tr th {\n",
       "        vertical-align: top;\n",
       "    }\n",
       "\n",
       "    .dataframe thead th {\n",
       "        text-align: right;\n",
       "    }\n",
       "</style>\n",
       "<table border=\"1\" class=\"dataframe\">\n",
       "  <thead>\n",
       "    <tr style=\"text-align: right;\">\n",
       "      <th></th>\n",
       "      <th>total_sales</th>\n",
       "    </tr>\n",
       "    <tr>\n",
       "      <th>platform</th>\n",
       "      <th></th>\n",
       "    </tr>\n",
       "  </thead>\n",
       "  <tbody>\n",
       "    <tr>\n",
       "      <th>X360</th>\n",
       "      <td>952.99</td>\n",
       "    </tr>\n",
       "    <tr>\n",
       "      <th>PS3</th>\n",
       "      <td>931.34</td>\n",
       "    </tr>\n",
       "    <tr>\n",
       "      <th>Wii</th>\n",
       "      <td>891.18</td>\n",
       "    </tr>\n",
       "    <tr>\n",
       "      <th>DS</th>\n",
       "      <td>655.35</td>\n",
       "    </tr>\n",
       "    <tr>\n",
       "      <th>PS4</th>\n",
       "      <td>314.14</td>\n",
       "    </tr>\n",
       "    <tr>\n",
       "      <th>PS2</th>\n",
       "      <td>265.80</td>\n",
       "    </tr>\n",
       "    <tr>\n",
       "      <th>3DS</th>\n",
       "      <td>257.81</td>\n",
       "    </tr>\n",
       "    <tr>\n",
       "      <th>PSP</th>\n",
       "      <td>238.63</td>\n",
       "    </tr>\n",
       "    <tr>\n",
       "      <th>PC</th>\n",
       "      <td>163.42</td>\n",
       "    </tr>\n",
       "    <tr>\n",
       "      <th>XOne</th>\n",
       "      <td>159.32</td>\n",
       "    </tr>\n",
       "    <tr>\n",
       "      <th>WiiU</th>\n",
       "      <td>82.19</td>\n",
       "    </tr>\n",
       "    <tr>\n",
       "      <th>PSV</th>\n",
       "      <td>53.81</td>\n",
       "    </tr>\n",
       "    <tr>\n",
       "      <th>GC</th>\n",
       "      <td>11.53</td>\n",
       "    </tr>\n",
       "    <tr>\n",
       "      <th>XB</th>\n",
       "      <td>10.77</td>\n",
       "    </tr>\n",
       "    <tr>\n",
       "      <th>GBA</th>\n",
       "      <td>8.68</td>\n",
       "    </tr>\n",
       "    <tr>\n",
       "      <th>DC</th>\n",
       "      <td>0.06</td>\n",
       "    </tr>\n",
       "  </tbody>\n",
       "</table>\n",
       "</div>"
      ],
      "text/plain": [
       "          total_sales\n",
       "platform             \n",
       "X360           952.99\n",
       "PS3            931.34\n",
       "Wii            891.18\n",
       "DS             655.35\n",
       "PS4            314.14\n",
       "PS2            265.80\n",
       "3DS            257.81\n",
       "PSP            238.63\n",
       "PC             163.42\n",
       "XOne           159.32\n",
       "WiiU            82.19\n",
       "PSV             53.81\n",
       "GC              11.53\n",
       "XB              10.77\n",
       "GBA              8.68\n",
       "DC               0.06"
      ]
     },
     "execution_count": 24,
     "metadata": {},
     "output_type": "execute_result"
    },
    {
     "data": {
      "image/png": "[encoded data removed]",
      "text/plain": [
       "<Figure size 432x288 with 1 Axes>"
      ]
     },
     "metadata": {
      "needs_background": "light"
     },
     "output_type": "display_data"
    }
   ],
   "source": [
    "pv2 = pd.pivot_table(reldata, values='total_sales', index='platform', aggfunc='sum').sort_values(by='total_sales', ascending=False)\n",
    "pv2.plot(kind='bar')\n",
    "pv2"
   ]
  },
  {
   "cell_type": "markdown",
   "metadata": {},
   "source": [
    "The PS3 and X360 platforms are still the top, but the PS2 has dropped significantly.\n",
    "We will continue to work with the same platforms, only we will replace the PS2 with wii."
   ]
  },
  {
   "cell_type": "code",
   "execution_count": 25,
   "metadata": {},
   "outputs": [
    {
     "data": {
      "text/html": [
       "<div>\n",
       "<style scoped>\n",
       "    .dataframe tbody tr th:only-of-type {\n",
       "        vertical-align: middle;\n",
       "    }\n",
       "\n",
       "    .dataframe tbody tr th {\n",
       "        vertical-align: top;\n",
       "    }\n",
       "\n",
       "    .dataframe thead th {\n",
       "        text-align: right;\n",
       "    }\n",
       "</style>\n",
       "<table border=\"1\" class=\"dataframe\">\n",
       "  <thead>\n",
       "    <tr style=\"text-align: right;\">\n",
       "      <th></th>\n",
       "      <th>platform</th>\n",
       "      <th>name</th>\n",
       "      <th>total_sales</th>\n",
       "    </tr>\n",
       "  </thead>\n",
       "  <tbody>\n",
       "    <tr>\n",
       "      <th>0</th>\n",
       "      <td>3DS</td>\n",
       "      <td>Beyblade Burst</td>\n",
       "      <td>0.03</td>\n",
       "    </tr>\n",
       "    <tr>\n",
       "      <th>1</th>\n",
       "      <td>3DS</td>\n",
       "      <td>Fire Emblem Fates</td>\n",
       "      <td>1.67</td>\n",
       "    </tr>\n",
       "    <tr>\n",
       "      <th>2</th>\n",
       "      <td>3DS</td>\n",
       "      <td>Frozen: Olaf's Quest</td>\n",
       "      <td>0.59</td>\n",
       "    </tr>\n",
       "    <tr>\n",
       "      <th>3</th>\n",
       "      <td>3DS</td>\n",
       "      <td>Haikyu!! Cross Team Match!</td>\n",
       "      <td>0.04</td>\n",
       "    </tr>\n",
       "    <tr>\n",
       "      <th>4</th>\n",
       "      <td>3DS</td>\n",
       "      <td>12-Sai. Honto no Kimochi</td>\n",
       "      <td>0.07</td>\n",
       "    </tr>\n",
       "    <tr>\n",
       "      <th>...</th>\n",
       "      <td>...</td>\n",
       "      <td>...</td>\n",
       "      <td>...</td>\n",
       "    </tr>\n",
       "    <tr>\n",
       "      <th>10327</th>\n",
       "      <td>XOne</td>\n",
       "      <td>XCOM 2</td>\n",
       "      <td>0.04</td>\n",
       "    </tr>\n",
       "    <tr>\n",
       "      <th>10328</th>\n",
       "      <td>XOne</td>\n",
       "      <td>ZombiU</td>\n",
       "      <td>0.01</td>\n",
       "    </tr>\n",
       "    <tr>\n",
       "      <th>10329</th>\n",
       "      <td>XOne</td>\n",
       "      <td>Zombie Army Trilogy</td>\n",
       "      <td>0.11</td>\n",
       "    </tr>\n",
       "    <tr>\n",
       "      <th>10330</th>\n",
       "      <td>XOne</td>\n",
       "      <td>Zoo Tycoon (2013)</td>\n",
       "      <td>0.36</td>\n",
       "    </tr>\n",
       "    <tr>\n",
       "      <th>10331</th>\n",
       "      <td>XOne</td>\n",
       "      <td>Zumba Fitness: World Party</td>\n",
       "      <td>0.24</td>\n",
       "    </tr>\n",
       "  </tbody>\n",
       "</table>\n",
       "<p>10332 rows × 3 columns</p>\n",
       "</div>"
      ],
      "text/plain": [
       "      platform                         name  total_sales\n",
       "0          3DS               Beyblade Burst         0.03\n",
       "1          3DS            Fire Emblem Fates         1.67\n",
       "2          3DS         Frozen: Olaf's Quest         0.59\n",
       "3          3DS   Haikyu!! Cross Team Match!         0.04\n",
       "4          3DS     12-Sai. Honto no Kimochi         0.07\n",
       "...        ...                          ...          ...\n",
       "10327     XOne                       XCOM 2         0.04\n",
       "10328     XOne                       ZombiU         0.01\n",
       "10329     XOne          Zombie Army Trilogy         0.11\n",
       "10330     XOne            Zoo Tycoon (2013)         0.36\n",
       "10331     XOne   Zumba Fitness: World Party         0.24\n",
       "\n",
       "[10332 rows x 3 columns]"
      ]
     },
     "execution_count": 25,
     "metadata": {},
     "output_type": "execute_result"
    }
   ],
   "source": [
    "grouped = reldata.groupby(['platform','name'])['total_sales'].sum().reset_index()\n",
    "grouped"
   ]
  },
  {
   "cell_type": "code",
   "execution_count": 26,
   "metadata": {},
   "outputs": [
    {
     "data": {
      "text/plain": [
       "<matplotlib.axes._subplots.AxesSubplot at 0x7febd22135d0>"
      ]
     },
     "execution_count": 26,
     "metadata": {},
     "output_type": "execute_result"
    },
    {
     "data": {
      "image/png": "[encoded data removed]",
      "text/plain": [
       "<Figure size 936x720 with 1 Axes>"
      ]
     },
     "metadata": {
      "needs_background": "light"
     },
     "output_type": "display_data"
    }
   ],
   "source": [
    "plt.figure(figsize=(13,10))\n",
    "sns.boxplot(x='platform', y='total_sales', data=grouped, showfliers=False)"
   ]
  },
  {
   "cell_type": "code",
   "execution_count": 27,
   "metadata": {},
   "outputs": [
    {
     "name": "stdout",
     "output_type": "stream",
     "text": [
      "Mean of total sales by platform:\n"
     ]
    },
    {
     "data": {
      "text/html": [
       "<div>\n",
       "<style scoped>\n",
       "    .dataframe tbody tr th:only-of-type {\n",
       "        vertical-align: middle;\n",
       "    }\n",
       "\n",
       "    .dataframe tbody tr th {\n",
       "        vertical-align: top;\n",
       "    }\n",
       "\n",
       "    .dataframe thead th {\n",
       "        text-align: right;\n",
       "    }\n",
       "</style>\n",
       "<table border=\"1\" class=\"dataframe\">\n",
       "  <thead>\n",
       "    <tr style=\"text-align: right;\">\n",
       "      <th></th>\n",
       "      <th>total_sales</th>\n",
       "    </tr>\n",
       "    <tr>\n",
       "      <th>platform</th>\n",
       "      <th></th>\n",
       "    </tr>\n",
       "  </thead>\n",
       "  <tbody>\n",
       "    <tr>\n",
       "      <th>PS4</th>\n",
       "      <td>0.801378</td>\n",
       "    </tr>\n",
       "    <tr>\n",
       "      <th>X360</th>\n",
       "      <td>0.785000</td>\n",
       "    </tr>\n",
       "    <tr>\n",
       "      <th>PS3</th>\n",
       "      <td>0.713124</td>\n",
       "    </tr>\n",
       "    <tr>\n",
       "      <th>Wii</th>\n",
       "      <td>0.692986</td>\n",
       "    </tr>\n",
       "    <tr>\n",
       "      <th>XOne</th>\n",
       "      <td>0.645020</td>\n",
       "    </tr>\n",
       "    <tr>\n",
       "      <th>WiiU</th>\n",
       "      <td>0.559116</td>\n",
       "    </tr>\n",
       "    <tr>\n",
       "      <th>3DS</th>\n",
       "      <td>0.503535</td>\n",
       "    </tr>\n",
       "    <tr>\n",
       "      <th>DS</th>\n",
       "      <td>0.331152</td>\n",
       "    </tr>\n",
       "    <tr>\n",
       "      <th>PS2</th>\n",
       "      <td>0.330186</td>\n",
       "    </tr>\n",
       "    <tr>\n",
       "      <th>GC</th>\n",
       "      <td>0.262045</td>\n",
       "    </tr>\n",
       "    <tr>\n",
       "      <th>PSP</th>\n",
       "      <td>0.220342</td>\n",
       "    </tr>\n",
       "    <tr>\n",
       "      <th>PC</th>\n",
       "      <td>0.210593</td>\n",
       "    </tr>\n",
       "    <tr>\n",
       "      <th>GBA</th>\n",
       "      <td>0.192889</td>\n",
       "    </tr>\n",
       "    <tr>\n",
       "      <th>XB</th>\n",
       "      <td>0.163182</td>\n",
       "    </tr>\n",
       "    <tr>\n",
       "      <th>PSV</th>\n",
       "      <td>0.125431</td>\n",
       "    </tr>\n",
       "    <tr>\n",
       "      <th>DC</th>\n",
       "      <td>0.030000</td>\n",
       "    </tr>\n",
       "  </tbody>\n",
       "</table>\n",
       "</div>"
      ],
      "text/plain": [
       "          total_sales\n",
       "platform             \n",
       "PS4          0.801378\n",
       "X360         0.785000\n",
       "PS3          0.713124\n",
       "Wii          0.692986\n",
       "XOne         0.645020\n",
       "WiiU         0.559116\n",
       "3DS          0.503535\n",
       "DS           0.331152\n",
       "PS2          0.330186\n",
       "GC           0.262045\n",
       "PSP          0.220342\n",
       "PC           0.210593\n",
       "GBA          0.192889\n",
       "XB           0.163182\n",
       "PSV          0.125431\n",
       "DC           0.030000"
      ]
     },
     "execution_count": 27,
     "metadata": {},
     "output_type": "execute_result"
    }
   ],
   "source": [
    "pv3 = pd.pivot_table(reldata, values='total_sales', index='platform', aggfunc='mean').sort_values(by='total_sales', ascending=False)\n",
    "print('Mean of total sales by platform:')\n",
    "pv3"
   ]
  },
  {
   "cell_type": "markdown",
   "metadata": {},
   "source": [
    "In the above Plot Box we can see the distribution of sales for our relevant products that are divided by platform. It can be clearly seen that the top four platforms are X360, XONE, PS3 and PS4.\n",
    "In addition we can see very large exceptions in these platforms, which indicates that some games are sold in a much more massive way than the others.\n",
    "As for the wii platform, its average sales are higher than the PS4, but it can be seen that it does not have as much sought-after games as the PS4 (because it does not have such extreme exceptions).\n",
    "As for the average sales, it is quite equal between the platforms.\n",
    "\n",
    "conclusion:\n",
    "\n",
    "The platforms I mentioned above have games that sell more radically than the rest of the platform games."
   ]
  },
  {
   "cell_type": "code",
   "execution_count": 78,
   "metadata": {},
   "outputs": [],
   "source": [
    "def score_effect(platform, score_type):\n",
    "    df= data[(data.platform==platform)&(data[score_type].notna())][['total_sales', score_type]]        \n",
    "    plot = data.plot(x=platform, y=score_type, kind='scatter') \n",
    "    corre = data[platform].corr(data[score_type])\n",
    "    if corre > 0.7:\n",
    "        result = 'positive correlation'\n",
    "    else:\n",
    "        result = 'negative correlation'\n",
    "    print (result)     "
   ]
  },
  {
   "cell_type": "code",
   "execution_count": 68,
   "metadata": {},
   "outputs": [
    {
     "data": {
      "text/html": [
       "<div>\n",
       "<style scoped>\n",
       "    .dataframe tbody tr th:only-of-type {\n",
       "        vertical-align: middle;\n",
       "    }\n",
       "\n",
       "    .dataframe tbody tr th {\n",
       "        vertical-align: top;\n",
       "    }\n",
       "\n",
       "    .dataframe thead th {\n",
       "        text-align: right;\n",
       "    }\n",
       "</style>\n",
       "<table border=\"1\" class=\"dataframe\">\n",
       "  <thead>\n",
       "    <tr style=\"text-align: right;\">\n",
       "      <th></th>\n",
       "      <th>platform</th>\n",
       "      <th>na_sales</th>\n",
       "    </tr>\n",
       "  </thead>\n",
       "  <tbody>\n",
       "    <tr>\n",
       "      <th>13</th>\n",
       "      <td>X360</td>\n",
       "      <td>588.84</td>\n",
       "    </tr>\n",
       "    <tr>\n",
       "      <th>11</th>\n",
       "      <td>Wii</td>\n",
       "      <td>486.87</td>\n",
       "    </tr>\n",
       "    <tr>\n",
       "      <th>7</th>\n",
       "      <td>PS3</td>\n",
       "      <td>390.13</td>\n",
       "    </tr>\n",
       "    <tr>\n",
       "      <th>2</th>\n",
       "      <td>DS</td>\n",
       "      <td>323.99</td>\n",
       "    </tr>\n",
       "    <tr>\n",
       "      <th>6</th>\n",
       "      <td>PS2</td>\n",
       "      <td>114.89</td>\n",
       "    </tr>\n",
       "  </tbody>\n",
       "</table>\n",
       "</div>"
      ],
      "text/plain": [
       "   platform  na_sales\n",
       "13     X360    588.84\n",
       "11      Wii    486.87\n",
       "7       PS3    390.13\n",
       "2        DS    323.99\n",
       "6       PS2    114.89"
      ]
     },
     "execution_count": 68,
     "metadata": {},
     "output_type": "execute_result"
    }
   ],
   "source": [
    "na = reldata.groupby(['platform'])['na_sales'].sum().reset_index().sort_values(by='na_sales', ascending=False).head()\n",
    "na"
   ]
  },
  {
   "cell_type": "code",
   "execution_count": 69,
   "metadata": {},
   "outputs": [
    {
     "data": {
      "image/png": "[encoded data removed]",
      "text/plain": [
       "<Figure size 432x288 with 1 Axes>"
      ]
     },
     "metadata": {},
     "output_type": "display_data"
    }
   ],
   "source": [
    "na['na_sales']=pd.to_numeric(na['na_sales'])\n",
    "mylabels3 = [\"X360\", \"Wii\", \"PS3\", \"DS\", \"PS2\"]\n",
    "plt.pie(na['na_sales'], labels = mylabels3)\n",
    "plt.show()"
   ]
  },
  {
   "cell_type": "code",
   "execution_count": 70,
   "metadata": {},
   "outputs": [
    {
     "data": {
      "text/html": [
       "<div>\n",
       "<style scoped>\n",
       "    .dataframe tbody tr th:only-of-type {\n",
       "        vertical-align: middle;\n",
       "    }\n",
       "\n",
       "    .dataframe tbody tr th {\n",
       "        vertical-align: top;\n",
       "    }\n",
       "\n",
       "    .dataframe thead th {\n",
       "        text-align: right;\n",
       "    }\n",
       "</style>\n",
       "<table border=\"1\" class=\"dataframe\">\n",
       "  <thead>\n",
       "    <tr style=\"text-align: right;\">\n",
       "      <th></th>\n",
       "      <th>platform</th>\n",
       "      <th>eu_sales</th>\n",
       "    </tr>\n",
       "  </thead>\n",
       "  <tbody>\n",
       "    <tr>\n",
       "      <th>7</th>\n",
       "      <td>PS3</td>\n",
       "      <td>327.21</td>\n",
       "    </tr>\n",
       "    <tr>\n",
       "      <th>13</th>\n",
       "      <td>X360</td>\n",
       "      <td>267.89</td>\n",
       "    </tr>\n",
       "    <tr>\n",
       "      <th>11</th>\n",
       "      <td>Wii</td>\n",
       "      <td>258.32</td>\n",
       "    </tr>\n",
       "    <tr>\n",
       "      <th>2</th>\n",
       "      <td>DS</td>\n",
       "      <td>142.99</td>\n",
       "    </tr>\n",
       "    <tr>\n",
       "      <th>8</th>\n",
       "      <td>PS4</td>\n",
       "      <td>141.09</td>\n",
       "    </tr>\n",
       "  </tbody>\n",
       "</table>\n",
       "</div>"
      ],
      "text/plain": [
       "   platform  eu_sales\n",
       "7       PS3    327.21\n",
       "13     X360    267.89\n",
       "11      Wii    258.32\n",
       "2        DS    142.99\n",
       "8       PS4    141.09"
      ]
     },
     "execution_count": 70,
     "metadata": {},
     "output_type": "execute_result"
    }
   ],
   "source": [
    "eu = reldata.groupby(['platform'])['eu_sales'].sum().reset_index().sort_values(by='eu_sales', ascending=False).head()\n",
    "eu"
   ]
  },
  {
   "cell_type": "code",
   "execution_count": 72,
   "metadata": {},
   "outputs": [
    {
     "data": {
      "image/png": "[encoded data removed]",
      "text/plain": [
       "<Figure size 432x288 with 1 Axes>"
      ]
     },
     "metadata": {},
     "output_type": "display_data"
    }
   ],
   "source": [
    "eu['eu_sales']=pd.to_numeric(eu['eu_sales'])\n",
    "mylabels4 = [\"PS3\", \"X360\", \"Wii\", \"DS\", \"PS4\"]\n",
    "plt.pie(eu['eu_sales'], labels = mylabels4)\n",
    "plt.show()"
   ]
  },
  {
   "cell_type": "code",
   "execution_count": 31,
   "metadata": {},
   "outputs": [
    {
     "data": {
      "text/html": [
       "<div>\n",
       "<style scoped>\n",
       "    .dataframe tbody tr th:only-of-type {\n",
       "        vertical-align: middle;\n",
       "    }\n",
       "\n",
       "    .dataframe tbody tr th {\n",
       "        vertical-align: top;\n",
       "    }\n",
       "\n",
       "    .dataframe thead th {\n",
       "        text-align: right;\n",
       "    }\n",
       "</style>\n",
       "<table border=\"1\" class=\"dataframe\">\n",
       "  <thead>\n",
       "    <tr style=\"text-align: right;\">\n",
       "      <th></th>\n",
       "      <th>platform</th>\n",
       "      <th>jp_sales</th>\n",
       "    </tr>\n",
       "  </thead>\n",
       "  <tbody>\n",
       "    <tr>\n",
       "      <th>2</th>\n",
       "      <td>DS</td>\n",
       "      <td>141.49</td>\n",
       "    </tr>\n",
       "    <tr>\n",
       "      <th>0</th>\n",
       "      <td>3DS</td>\n",
       "      <td>100.62</td>\n",
       "    </tr>\n",
       "    <tr>\n",
       "      <th>7</th>\n",
       "      <td>PS3</td>\n",
       "      <td>79.41</td>\n",
       "    </tr>\n",
       "    <tr>\n",
       "      <th>9</th>\n",
       "      <td>PSP</td>\n",
       "      <td>70.63</td>\n",
       "    </tr>\n",
       "    <tr>\n",
       "      <th>11</th>\n",
       "      <td>Wii</td>\n",
       "      <td>68.28</td>\n",
       "    </tr>\n",
       "  </tbody>\n",
       "</table>\n",
       "</div>"
      ],
      "text/plain": [
       "   platform  jp_sales\n",
       "2        DS    141.49\n",
       "0       3DS    100.62\n",
       "7       PS3     79.41\n",
       "9       PSP     70.63\n",
       "11      Wii     68.28"
      ]
     },
     "execution_count": 31,
     "metadata": {},
     "output_type": "execute_result"
    }
   ],
   "source": [
    "jp = reldata.groupby(['platform'])['jp_sales'].sum().reset_index().sort_values(by='jp_sales', ascending=False).head()\n",
    "jp"
   ]
  },
  {
   "cell_type": "code",
   "execution_count": 73,
   "metadata": {},
   "outputs": [
    {
     "data": {
      "image/png": "[encoded data removed]",
      "text/plain": [
       "<Figure size 432x288 with 1 Axes>"
      ]
     },
     "metadata": {},
     "output_type": "display_data"
    }
   ],
   "source": [
    "jp['jp_sales']=pd.to_numeric(jp['jp_sales'])\n",
    "mylabels5 = [\"DS\", \"3DS\", \"PS3\", \"PSP\", \"Wii\"]\n",
    "plt.pie(jp['jp_sales'], labels = mylabels5)\n",
    "plt.show()"
   ]
  },
  {
   "cell_type": "markdown",
   "metadata": {},
   "source": [
    "In the tables above you can see the most requested platforms by region.\n",
    "It seems that in Europe and North America the competition between Sony and Xbox is close while in Europe one tends towards Sony and in North America towards Xbox.\n",
    "In Japan the DS is ranked first while the Sony third, and it seems that the Xbox is not so popular."
   ]
  },
  {
   "cell_type": "code",
   "execution_count": 74,
   "metadata": {},
   "outputs": [
    {
     "data": {
      "text/html": [
       "<div>\n",
       "<style scoped>\n",
       "    .dataframe tbody tr th:only-of-type {\n",
       "        vertical-align: middle;\n",
       "    }\n",
       "\n",
       "    .dataframe tbody tr th {\n",
       "        vertical-align: top;\n",
       "    }\n",
       "\n",
       "    .dataframe thead th {\n",
       "        text-align: right;\n",
       "    }\n",
       "</style>\n",
       "<table border=\"1\" class=\"dataframe\">\n",
       "  <thead>\n",
       "    <tr style=\"text-align: right;\">\n",
       "      <th></th>\n",
       "      <th>genre</th>\n",
       "      <th>na_sales</th>\n",
       "    </tr>\n",
       "  </thead>\n",
       "  <tbody>\n",
       "    <tr>\n",
       "      <th>0</th>\n",
       "      <td>Action</td>\n",
       "      <td>530.44</td>\n",
       "    </tr>\n",
       "    <tr>\n",
       "      <th>10</th>\n",
       "      <td>Sports</td>\n",
       "      <td>396.64</td>\n",
       "    </tr>\n",
       "    <tr>\n",
       "      <th>8</th>\n",
       "      <td>Shooter</td>\n",
       "      <td>373.13</td>\n",
       "    </tr>\n",
       "    <tr>\n",
       "      <th>3</th>\n",
       "      <td>Misc</td>\n",
       "      <td>285.06</td>\n",
       "    </tr>\n",
       "    <tr>\n",
       "      <th>7</th>\n",
       "      <td>Role-Playing</td>\n",
       "      <td>199.63</td>\n",
       "    </tr>\n",
       "  </tbody>\n",
       "</table>\n",
       "</div>"
      ],
      "text/plain": [
       "           genre  na_sales\n",
       "0         Action    530.44\n",
       "10        Sports    396.64\n",
       "8        Shooter    373.13\n",
       "3           Misc    285.06\n",
       "7   Role-Playing    199.63"
      ]
     },
     "execution_count": 74,
     "metadata": {},
     "output_type": "execute_result"
    }
   ],
   "source": [
    "nag = reldata.groupby(['genre'])['na_sales'].sum().reset_index().sort_values(by='na_sales', ascending=False).head()\n",
    "nag"
   ]
  },
  {
   "cell_type": "code",
   "execution_count": 75,
   "metadata": {},
   "outputs": [
    {
     "data": {
      "image/png": "[encoded data removed]",
      "text/plain": [
       "<Figure size 432x288 with 1 Axes>"
      ]
     },
     "metadata": {},
     "output_type": "display_data"
    }
   ],
   "source": [
    "nag['na_sales']=pd.to_numeric(nag['na_sales'])\n",
    "mylabels6 = [\"Action\", \"Sports\", \"Shooter\", \"Misc\", \"Role-Playing\"]\n",
    "plt.pie(nag['na_sales'], labels = mylabels6)\n",
    "plt.show()"
   ]
  },
  {
   "cell_type": "code",
   "execution_count": 35,
   "metadata": {},
   "outputs": [
    {
     "data": {
      "text/html": [
       "<div>\n",
       "<style scoped>\n",
       "    .dataframe tbody tr th:only-of-type {\n",
       "        vertical-align: middle;\n",
       "    }\n",
       "\n",
       "    .dataframe tbody tr th {\n",
       "        vertical-align: top;\n",
       "    }\n",
       "\n",
       "    .dataframe thead th {\n",
       "        text-align: right;\n",
       "    }\n",
       "</style>\n",
       "<table border=\"1\" class=\"dataframe\">\n",
       "  <thead>\n",
       "    <tr style=\"text-align: right;\">\n",
       "      <th></th>\n",
       "      <th>genre</th>\n",
       "      <th>eu_sales</th>\n",
       "    </tr>\n",
       "  </thead>\n",
       "  <tbody>\n",
       "    <tr>\n",
       "      <th>0</th>\n",
       "      <td>Action</td>\n",
       "      <td>350.70</td>\n",
       "    </tr>\n",
       "    <tr>\n",
       "      <th>10</th>\n",
       "      <td>Sports</td>\n",
       "      <td>251.55</td>\n",
       "    </tr>\n",
       "    <tr>\n",
       "      <th>8</th>\n",
       "      <td>Shooter</td>\n",
       "      <td>238.89</td>\n",
       "    </tr>\n",
       "    <tr>\n",
       "      <th>3</th>\n",
       "      <td>Misc</td>\n",
       "      <td>146.88</td>\n",
       "    </tr>\n",
       "    <tr>\n",
       "      <th>6</th>\n",
       "      <td>Racing</td>\n",
       "      <td>113.39</td>\n",
       "    </tr>\n",
       "  </tbody>\n",
       "</table>\n",
       "</div>"
      ],
      "text/plain": [
       "      genre  eu_sales\n",
       "0    Action    350.70\n",
       "10   Sports    251.55\n",
       "8   Shooter    238.89\n",
       "3      Misc    146.88\n",
       "6    Racing    113.39"
      ]
     },
     "execution_count": 35,
     "metadata": {},
     "output_type": "execute_result"
    }
   ],
   "source": [
    "eug = reldata.groupby(['genre'])['eu_sales'].sum().reset_index().sort_values(by='eu_sales', ascending=False).head()\n",
    "eug"
   ]
  },
  {
   "cell_type": "code",
   "execution_count": 76,
   "metadata": {},
   "outputs": [
    {
     "data": {
      "image/png": "[encoded data removed]",
      "text/plain": [
       "<Figure size 432x288 with 1 Axes>"
      ]
     },
     "metadata": {},
     "output_type": "display_data"
    }
   ],
   "source": [
    "eug['eu_sales']=pd.to_numeric(eug['eu_sales'])\n",
    "mylabels7 = [\"Action\", \"Sports\", \"Shooter\", \"Misc\", \"Racing\"]\n",
    "plt.pie(eug['eu_sales'], labels = mylabels7)\n",
    "plt.show()"
   ]
  },
  {
   "cell_type": "code",
   "execution_count": 36,
   "metadata": {},
   "outputs": [
    {
     "data": {
      "text/html": [
       "<div>\n",
       "<style scoped>\n",
       "    .dataframe tbody tr th:only-of-type {\n",
       "        vertical-align: middle;\n",
       "    }\n",
       "\n",
       "    .dataframe tbody tr th {\n",
       "        vertical-align: top;\n",
       "    }\n",
       "\n",
       "    .dataframe thead th {\n",
       "        text-align: right;\n",
       "    }\n",
       "</style>\n",
       "<table border=\"1\" class=\"dataframe\">\n",
       "  <thead>\n",
       "    <tr style=\"text-align: right;\">\n",
       "      <th></th>\n",
       "      <th>genre</th>\n",
       "      <th>jp_sales</th>\n",
       "    </tr>\n",
       "  </thead>\n",
       "  <tbody>\n",
       "    <tr>\n",
       "      <th>7</th>\n",
       "      <td>Role-Playing</td>\n",
       "      <td>170.38</td>\n",
       "    </tr>\n",
       "    <tr>\n",
       "      <th>0</th>\n",
       "      <td>Action</td>\n",
       "      <td>102.07</td>\n",
       "    </tr>\n",
       "    <tr>\n",
       "      <th>3</th>\n",
       "      <td>Misc</td>\n",
       "      <td>64.53</td>\n",
       "    </tr>\n",
       "    <tr>\n",
       "      <th>10</th>\n",
       "      <td>Sports</td>\n",
       "      <td>48.97</td>\n",
       "    </tr>\n",
       "    <tr>\n",
       "      <th>4</th>\n",
       "      <td>Platform</td>\n",
       "      <td>35.20</td>\n",
       "    </tr>\n",
       "  </tbody>\n",
       "</table>\n",
       "</div>"
      ],
      "text/plain": [
       "           genre  jp_sales\n",
       "7   Role-Playing    170.38\n",
       "0         Action    102.07\n",
       "3           Misc     64.53\n",
       "10        Sports     48.97\n",
       "4       Platform     35.20"
      ]
     },
     "execution_count": 36,
     "metadata": {},
     "output_type": "execute_result"
    }
   ],
   "source": [
    "jpg = reldata.groupby(['genre'])['jp_sales'].sum().reset_index().sort_values(by='jp_sales', ascending=False).head()\n",
    "jpg"
   ]
  },
  {
   "cell_type": "code",
   "execution_count": 77,
   "metadata": {},
   "outputs": [
    {
     "data": {
      "image/png": "[encoded data removed]",
      "text/plain": [
       "<Figure size 432x288 with 1 Axes>"
      ]
     },
     "metadata": {},
     "output_type": "display_data"
    }
   ],
   "source": [
    "jpg['jp_sales']=pd.to_numeric(jpg['jp_sales'])\n",
    "mylabels8 = [\"Role-Playing\", \"Action\", \"Misc\", \"Sports\", \"Platform\"]\n",
    "plt.pie(jpg['jp_sales'], labels = mylabels8)\n",
    "plt.show()"
   ]
  },
  {
   "cell_type": "markdown",
   "metadata": {},
   "source": [
    "In the tables above you can see the most popular genres divided by region.\n",
    "North America and Europe seem to be very similar in taste, with both preferring action and sports.\n",
    "In Japan the action is also popular but the most popular genre is role-playing games."
   ]
  },
  {
   "cell_type": "code",
   "execution_count": 64,
   "metadata": {},
   "outputs": [
    {
     "data": {
      "text/html": [
       "<div>\n",
       "<style scoped>\n",
       "    .dataframe tbody tr th:only-of-type {\n",
       "        vertical-align: middle;\n",
       "    }\n",
       "\n",
       "    .dataframe tbody tr th {\n",
       "        vertical-align: top;\n",
       "    }\n",
       "\n",
       "    .dataframe thead th {\n",
       "        text-align: right;\n",
       "    }\n",
       "</style>\n",
       "<table border=\"1\" class=\"dataframe\">\n",
       "  <thead>\n",
       "    <tr style=\"text-align: right;\">\n",
       "      <th></th>\n",
       "      <th>rating</th>\n",
       "      <th>na_sales</th>\n",
       "    </tr>\n",
       "  </thead>\n",
       "  <tbody>\n",
       "    <tr>\n",
       "      <th>0</th>\n",
       "      <td>E</td>\n",
       "      <td>796.98</td>\n",
       "    </tr>\n",
       "    <tr>\n",
       "      <th>3</th>\n",
       "      <td>M</td>\n",
       "      <td>574.33</td>\n",
       "    </tr>\n",
       "    <tr>\n",
       "      <th>5</th>\n",
       "      <td>T</td>\n",
       "      <td>424.14</td>\n",
       "    </tr>\n",
       "    <tr>\n",
       "      <th>1</th>\n",
       "      <td>E10+</td>\n",
       "      <td>315.40</td>\n",
       "    </tr>\n",
       "    <tr>\n",
       "      <th>6</th>\n",
       "      <td>unknown</td>\n",
       "      <td>274.50</td>\n",
       "    </tr>\n",
       "  </tbody>\n",
       "</table>\n",
       "</div>"
      ],
      "text/plain": [
       "    rating  na_sales\n",
       "0        E    796.98\n",
       "3        M    574.33\n",
       "5        T    424.14\n",
       "1     E10+    315.40\n",
       "6  unknown    274.50"
      ]
     },
     "execution_count": 64,
     "metadata": {},
     "output_type": "execute_result"
    }
   ],
   "source": [
    "nar = reldata.groupby(['rating'])['na_sales'].sum().reset_index().sort_values(by='na_sales', ascending=False).head()\n",
    "nar"
   ]
  },
  {
   "cell_type": "code",
   "execution_count": 65,
   "metadata": {},
   "outputs": [
    {
     "data": {
      "image/png": "[encoded data removed]",
      "text/plain": [
       "<Figure size 432x288 with 1 Axes>"
      ]
     },
     "metadata": {},
     "output_type": "display_data"
    }
   ],
   "source": [
    "nar['na_sales']=pd.to_numeric(nar['na_sales'])\n",
    "mylabels1 = [\"E\", \"T\", \"M\", \"E10+\", \"unknown\"]\n",
    "plt.pie(nar['na_sales'], labels = mylabels1)\n",
    "plt.show()"
   ]
  },
  {
   "cell_type": "code",
   "execution_count": 66,
   "metadata": {},
   "outputs": [
    {
     "data": {
      "text/html": [
       "<div>\n",
       "<style scoped>\n",
       "    .dataframe tbody tr th:only-of-type {\n",
       "        vertical-align: middle;\n",
       "    }\n",
       "\n",
       "    .dataframe tbody tr th {\n",
       "        vertical-align: top;\n",
       "    }\n",
       "\n",
       "    .dataframe thead th {\n",
       "        text-align: right;\n",
       "    }\n",
       "</style>\n",
       "<table border=\"1\" class=\"dataframe\">\n",
       "  <thead>\n",
       "    <tr style=\"text-align: right;\">\n",
       "      <th></th>\n",
       "      <th>rating</th>\n",
       "      <th>eu_sales</th>\n",
       "    </tr>\n",
       "  </thead>\n",
       "  <tbody>\n",
       "    <tr>\n",
       "      <th>0</th>\n",
       "      <td>E</td>\n",
       "      <td>461.09</td>\n",
       "    </tr>\n",
       "    <tr>\n",
       "      <th>3</th>\n",
       "      <td>M</td>\n",
       "      <td>398.90</td>\n",
       "    </tr>\n",
       "    <tr>\n",
       "      <th>5</th>\n",
       "      <td>T</td>\n",
       "      <td>235.44</td>\n",
       "    </tr>\n",
       "    <tr>\n",
       "      <th>6</th>\n",
       "      <td>unknown</td>\n",
       "      <td>227.19</td>\n",
       "    </tr>\n",
       "    <tr>\n",
       "      <th>1</th>\n",
       "      <td>E10+</td>\n",
       "      <td>173.35</td>\n",
       "    </tr>\n",
       "  </tbody>\n",
       "</table>\n",
       "</div>"
      ],
      "text/plain": [
       "    rating  eu_sales\n",
       "0        E    461.09\n",
       "3        M    398.90\n",
       "5        T    235.44\n",
       "6  unknown    227.19\n",
       "1     E10+    173.35"
      ]
     },
     "execution_count": 66,
     "metadata": {},
     "output_type": "execute_result"
    }
   ],
   "source": [
    "eur = reldata.groupby(['rating'])['eu_sales'].sum().reset_index().sort_values(by='eu_sales', ascending=False).head()\n",
    "eur"
   ]
  },
  {
   "cell_type": "code",
   "execution_count": 67,
   "metadata": {},
   "outputs": [
    {
     "data": {
      "image/png": "[encoded data removed]",
      "text/plain": [
       "<Figure size 432x288 with 1 Axes>"
      ]
     },
     "metadata": {},
     "output_type": "display_data"
    }
   ],
   "source": [
    "eur['eu_sales']=pd.to_numeric(eur['eu_sales'])\n",
    "mylabels2 = [\"E\", \"M\", \"T\", \"unknown\", \"E10+\"]\n",
    "plt.pie(eur['eu_sales'], labels = mylabels2)\n",
    "plt.show()"
   ]
  },
  {
   "cell_type": "code",
   "execution_count": 60,
   "metadata": {},
   "outputs": [
    {
     "data": {
      "text/html": [
       "<div>\n",
       "<style scoped>\n",
       "    .dataframe tbody tr th:only-of-type {\n",
       "        vertical-align: middle;\n",
       "    }\n",
       "\n",
       "    .dataframe tbody tr th {\n",
       "        vertical-align: top;\n",
       "    }\n",
       "\n",
       "    .dataframe thead th {\n",
       "        text-align: right;\n",
       "    }\n",
       "</style>\n",
       "<table border=\"1\" class=\"dataframe\">\n",
       "  <thead>\n",
       "    <tr style=\"text-align: right;\">\n",
       "      <th></th>\n",
       "      <th>rating</th>\n",
       "      <th>jp_sales</th>\n",
       "    </tr>\n",
       "  </thead>\n",
       "  <tbody>\n",
       "    <tr>\n",
       "      <th>6</th>\n",
       "      <td>unknown</td>\n",
       "      <td>276.69</td>\n",
       "    </tr>\n",
       "    <tr>\n",
       "      <th>0</th>\n",
       "      <td>E</td>\n",
       "      <td>120.36</td>\n",
       "    </tr>\n",
       "    <tr>\n",
       "      <th>5</th>\n",
       "      <td>T</td>\n",
       "      <td>83.90</td>\n",
       "    </tr>\n",
       "    <tr>\n",
       "      <th>3</th>\n",
       "      <td>M</td>\n",
       "      <td>43.79</td>\n",
       "    </tr>\n",
       "    <tr>\n",
       "      <th>1</th>\n",
       "      <td>E10+</td>\n",
       "      <td>36.57</td>\n",
       "    </tr>\n",
       "  </tbody>\n",
       "</table>\n",
       "</div>"
      ],
      "text/plain": [
       "    rating  jp_sales\n",
       "6  unknown    276.69\n",
       "0        E    120.36\n",
       "5        T     83.90\n",
       "3        M     43.79\n",
       "1     E10+     36.57"
      ]
     },
     "execution_count": 60,
     "metadata": {},
     "output_type": "execute_result"
    }
   ],
   "source": [
    "jpr = reldata.groupby(['rating'])['jp_sales'].sum().reset_index().sort_values(by='jp_sales', ascending=False).head()\n",
    "jpr"
   ]
  },
  {
   "cell_type": "code",
   "execution_count": 61,
   "metadata": {},
   "outputs": [
    {
     "data": {
      "image/png": "[encoded data removed]",
      "text/plain": [
       "<Figure size 432x288 with 1 Axes>"
      ]
     },
     "metadata": {},
     "output_type": "display_data"
    }
   ],
   "source": [
    "jpr['jp_sales']=pd.to_numeric(jpr['jp_sales'])\n",
    "mylabels = [\"unknown\", \"E\", \"T\", \"M\", \"E10+\"]\n",
    "plt.pie(jpr['jp_sales'], labels = mylabels)\n",
    "plt.show()"
   ]
  },
  {
   "cell_type": "markdown",
   "metadata": {},
   "source": [
    "The above tables show the amount of sales according to the ESRB rating which is divided by regions.\n",
    "The results really seem to be the same, so there is an effect of the ranking on sales (in Japan there are a lot of unknown values ​​but it is a result of missing values ​​that we converted in previous steps)."
   ]
  },
  {
   "cell_type": "markdown",
   "metadata": {},
   "source": [
    "***Hypothesis testing***"
   ]
  },
  {
   "cell_type": "code",
   "execution_count": 42,
   "metadata": {},
   "outputs": [],
   "source": [
    "xbox_1 = data.query('platform ==\"XOne\" and user_score != \"tbd\" and user_score != -1')"
   ]
  },
  {
   "cell_type": "code",
   "execution_count": 43,
   "metadata": {},
   "outputs": [],
   "source": [
    "pc = data.query('platform ==\"PC\" and user_score != \"tbd\" and user_score != -1')"
   ]
  },
  {
   "cell_type": "code",
   "execution_count": 44,
   "metadata": {},
   "outputs": [
    {
     "name": "stderr",
     "output_type": "stream",
     "text": [
      "/opt/conda/lib/python3.7/site-packages/ipykernel_launcher.py:1: SettingWithCopyWarning: \n",
      "A value is trying to be set on a copy of a slice from a DataFrame.\n",
      "Try using .loc[row_indexer,col_indexer] = value instead\n",
      "\n",
      "See the caveats in the documentation: https://pandas.pydata.org/pandas-docs/stable/user_guide/indexing.html#returning-a-view-versus-a-copy\n",
      "  \"\"\"Entry point for launching an IPython kernel.\n",
      "/opt/conda/lib/python3.7/site-packages/ipykernel_launcher.py:2: SettingWithCopyWarning: \n",
      "A value is trying to be set on a copy of a slice from a DataFrame.\n",
      "Try using .loc[row_indexer,col_indexer] = value instead\n",
      "\n",
      "See the caveats in the documentation: https://pandas.pydata.org/pandas-docs/stable/user_guide/indexing.html#returning-a-view-versus-a-copy\n",
      "  \n"
     ]
    }
   ],
   "source": [
    "xbox_1['user_score'] = pd.to_numeric(xbox_1['user_score'])\n",
    "pc['user_score'] = pd.to_numeric(pc['user_score'])"
   ]
  },
  {
   "cell_type": "markdown",
   "metadata": {},
   "source": [
    "H0 = Average user ratings of the Xbox One and PC platforms are the same.\n",
    "\n",
    "H1 = Average user ratings of the Xbox One and PC platforms are diffrent."
   ]
  },
  {
   "cell_type": "code",
   "execution_count": 45,
   "metadata": {},
   "outputs": [
    {
     "name": "stdout",
     "output_type": "stream",
     "text": [
      "p-value 4.5385802963771776e-06\n",
      "we reject the null hypothesis\n"
     ]
    },
    {
     "name": "stderr",
     "output_type": "stream",
     "text": [
      "/opt/conda/lib/python3.7/site-packages/ipykernel_launcher.py:13: FutureWarning: Dropping of nuisance columns in DataFrame reductions (with 'numeric_only=None') is deprecated; in a future version this will raise TypeError.  Select only valid columns before calling the reduction.\n",
      "  del sys.path[0]\n",
      "/opt/conda/lib/python3.7/site-packages/ipykernel_launcher.py:14: FutureWarning: Dropping of nuisance columns in DataFrame reductions (with 'numeric_only=None') is deprecated; in a future version this will raise TypeError.  Select only valid columns before calling the reduction.\n",
      "  \n"
     ]
    }
   ],
   "source": [
    "alfa = 0.05\n",
    "\n",
    "\n",
    "result2 = st.ttest_ind( \n",
    "        xbox_1['user_score'], pc['user_score'], equal_var = False)\n",
    "print('p-value', result2.pvalue)\n",
    "\n",
    "if (result2.pvalue < alfa):\n",
    "    print('we reject the null hypothesis')\n",
    "else:\n",
    "    print('we can not reject the null hypothesis')    \n",
    "    \n",
    "xbox_1_m =xbox_1.mean()\n",
    "pc_m = pc.mean()"
   ]
  },
  {
   "cell_type": "code",
   "execution_count": 47,
   "metadata": {},
   "outputs": [
    {
     "name": "stderr",
     "output_type": "stream",
     "text": [
      "/opt/conda/lib/python3.7/site-packages/ipykernel_launcher.py:3: SettingWithCopyWarning: \n",
      "A value is trying to be set on a copy of a slice from a DataFrame.\n",
      "Try using .loc[row_indexer,col_indexer] = value instead\n",
      "\n",
      "See the caveats in the documentation: https://pandas.pydata.org/pandas-docs/stable/user_guide/indexing.html#returning-a-view-versus-a-copy\n",
      "  This is separate from the ipykernel package so we can avoid doing imports until\n",
      "/opt/conda/lib/python3.7/site-packages/ipykernel_launcher.py:4: SettingWithCopyWarning: \n",
      "A value is trying to be set on a copy of a slice from a DataFrame.\n",
      "Try using .loc[row_indexer,col_indexer] = value instead\n",
      "\n",
      "See the caveats in the documentation: https://pandas.pydata.org/pandas-docs/stable/user_guide/indexing.html#returning-a-view-versus-a-copy\n",
      "  after removing the cwd from sys.path.\n"
     ]
    },
    {
     "data": {
      "text/html": [
       "<div>\n",
       "<style scoped>\n",
       "    .dataframe tbody tr th:only-of-type {\n",
       "        vertical-align: middle;\n",
       "    }\n",
       "\n",
       "    .dataframe tbody tr th {\n",
       "        vertical-align: top;\n",
       "    }\n",
       "\n",
       "    .dataframe thead th {\n",
       "        text-align: right;\n",
       "    }\n",
       "</style>\n",
       "<table border=\"1\" class=\"dataframe\">\n",
       "  <thead>\n",
       "    <tr style=\"text-align: right;\">\n",
       "      <th></th>\n",
       "      <th>name</th>\n",
       "      <th>platform</th>\n",
       "      <th>year_of_release</th>\n",
       "      <th>genre</th>\n",
       "      <th>na_sales</th>\n",
       "      <th>eu_sales</th>\n",
       "      <th>jp_sales</th>\n",
       "      <th>other_sales</th>\n",
       "      <th>critic_score</th>\n",
       "      <th>user_score</th>\n",
       "      <th>rating</th>\n",
       "      <th>total_sales</th>\n",
       "      <th>year_group</th>\n",
       "    </tr>\n",
       "  </thead>\n",
       "  <tbody>\n",
       "    <tr>\n",
       "      <th>0</th>\n",
       "      <td>Wii Sports</td>\n",
       "      <td>Wii</td>\n",
       "      <td>2006</td>\n",
       "      <td>Sports</td>\n",
       "      <td>41.36</td>\n",
       "      <td>28.96</td>\n",
       "      <td>3.77</td>\n",
       "      <td>8.45</td>\n",
       "      <td>7.6</td>\n",
       "      <td>8.0</td>\n",
       "      <td>E</td>\n",
       "      <td>82.54</td>\n",
       "      <td>00s</td>\n",
       "    </tr>\n",
       "    <tr>\n",
       "      <th>3</th>\n",
       "      <td>Wii Sports Resort</td>\n",
       "      <td>Wii</td>\n",
       "      <td>2009</td>\n",
       "      <td>Sports</td>\n",
       "      <td>15.61</td>\n",
       "      <td>10.93</td>\n",
       "      <td>3.28</td>\n",
       "      <td>2.95</td>\n",
       "      <td>8.0</td>\n",
       "      <td>8.0</td>\n",
       "      <td>E</td>\n",
       "      <td>32.77</td>\n",
       "      <td>00s</td>\n",
       "    </tr>\n",
       "    <tr>\n",
       "      <th>13</th>\n",
       "      <td>Wii Fit</td>\n",
       "      <td>Wii</td>\n",
       "      <td>2007</td>\n",
       "      <td>Sports</td>\n",
       "      <td>8.92</td>\n",
       "      <td>8.03</td>\n",
       "      <td>3.60</td>\n",
       "      <td>2.15</td>\n",
       "      <td>8.0</td>\n",
       "      <td>7.7</td>\n",
       "      <td>E</td>\n",
       "      <td>22.70</td>\n",
       "      <td>00s</td>\n",
       "    </tr>\n",
       "    <tr>\n",
       "      <th>15</th>\n",
       "      <td>Wii Fit Plus</td>\n",
       "      <td>Wii</td>\n",
       "      <td>2009</td>\n",
       "      <td>Sports</td>\n",
       "      <td>9.01</td>\n",
       "      <td>8.49</td>\n",
       "      <td>2.53</td>\n",
       "      <td>1.77</td>\n",
       "      <td>8.0</td>\n",
       "      <td>7.4</td>\n",
       "      <td>E</td>\n",
       "      <td>21.80</td>\n",
       "      <td>00s</td>\n",
       "    </tr>\n",
       "    <tr>\n",
       "      <th>77</th>\n",
       "      <td>FIFA 16</td>\n",
       "      <td>PS4</td>\n",
       "      <td>2015</td>\n",
       "      <td>Sports</td>\n",
       "      <td>1.12</td>\n",
       "      <td>6.12</td>\n",
       "      <td>0.06</td>\n",
       "      <td>1.28</td>\n",
       "      <td>8.2</td>\n",
       "      <td>4.3</td>\n",
       "      <td>E</td>\n",
       "      <td>8.58</td>\n",
       "      <td>10s</td>\n",
       "    </tr>\n",
       "    <tr>\n",
       "      <th>...</th>\n",
       "      <td>...</td>\n",
       "      <td>...</td>\n",
       "      <td>...</td>\n",
       "      <td>...</td>\n",
       "      <td>...</td>\n",
       "      <td>...</td>\n",
       "      <td>...</td>\n",
       "      <td>...</td>\n",
       "      <td>...</td>\n",
       "      <td>...</td>\n",
       "      <td>...</td>\n",
       "      <td>...</td>\n",
       "      <td>...</td>\n",
       "    </tr>\n",
       "    <tr>\n",
       "      <th>16450</th>\n",
       "      <td>Turbo: Super Stunt Squad</td>\n",
       "      <td>X360</td>\n",
       "      <td>2013</td>\n",
       "      <td>Sports</td>\n",
       "      <td>0.00</td>\n",
       "      <td>0.01</td>\n",
       "      <td>0.00</td>\n",
       "      <td>0.00</td>\n",
       "      <td>-0.1</td>\n",
       "      <td>4.5</td>\n",
       "      <td>E</td>\n",
       "      <td>0.01</td>\n",
       "      <td>10s</td>\n",
       "    </tr>\n",
       "    <tr>\n",
       "      <th>16518</th>\n",
       "      <td>Rugby World Cup 2015</td>\n",
       "      <td>PC</td>\n",
       "      <td>2015</td>\n",
       "      <td>Sports</td>\n",
       "      <td>0.00</td>\n",
       "      <td>0.01</td>\n",
       "      <td>0.00</td>\n",
       "      <td>0.00</td>\n",
       "      <td>-0.1</td>\n",
       "      <td>1.4</td>\n",
       "      <td>E</td>\n",
       "      <td>0.01</td>\n",
       "      <td>10s</td>\n",
       "    </tr>\n",
       "    <tr>\n",
       "      <th>16528</th>\n",
       "      <td>Pro Evolution Soccer 2010</td>\n",
       "      <td>PC</td>\n",
       "      <td>2009</td>\n",
       "      <td>Sports</td>\n",
       "      <td>0.00</td>\n",
       "      <td>0.01</td>\n",
       "      <td>0.00</td>\n",
       "      <td>0.00</td>\n",
       "      <td>7.8</td>\n",
       "      <td>6.9</td>\n",
       "      <td>E</td>\n",
       "      <td>0.01</td>\n",
       "      <td>00s</td>\n",
       "    </tr>\n",
       "    <tr>\n",
       "      <th>16546</th>\n",
       "      <td>Wade Hixton's Counter Punch</td>\n",
       "      <td>GBA</td>\n",
       "      <td>2004</td>\n",
       "      <td>Sports</td>\n",
       "      <td>0.01</td>\n",
       "      <td>0.00</td>\n",
       "      <td>0.00</td>\n",
       "      <td>0.00</td>\n",
       "      <td>7.8</td>\n",
       "      <td>9.5</td>\n",
       "      <td>T</td>\n",
       "      <td>0.01</td>\n",
       "      <td>00s</td>\n",
       "    </tr>\n",
       "    <tr>\n",
       "      <th>16643</th>\n",
       "      <td>Rugby Challenge 3</td>\n",
       "      <td>XOne</td>\n",
       "      <td>2016</td>\n",
       "      <td>Sports</td>\n",
       "      <td>0.00</td>\n",
       "      <td>0.01</td>\n",
       "      <td>0.00</td>\n",
       "      <td>0.00</td>\n",
       "      <td>-0.1</td>\n",
       "      <td>6.6</td>\n",
       "      <td>E</td>\n",
       "      <td>0.01</td>\n",
       "      <td>10s</td>\n",
       "    </tr>\n",
       "  </tbody>\n",
       "</table>\n",
       "<p>1081 rows × 13 columns</p>\n",
       "</div>"
      ],
      "text/plain": [
       "                              name platform  year_of_release   genre  \\\n",
       "0                       Wii Sports      Wii             2006  Sports   \n",
       "3                Wii Sports Resort      Wii             2009  Sports   \n",
       "13                         Wii Fit      Wii             2007  Sports   \n",
       "15                    Wii Fit Plus      Wii             2009  Sports   \n",
       "77                         FIFA 16      PS4             2015  Sports   \n",
       "...                            ...      ...              ...     ...   \n",
       "16450     Turbo: Super Stunt Squad     X360             2013  Sports   \n",
       "16518         Rugby World Cup 2015       PC             2015  Sports   \n",
       "16528    Pro Evolution Soccer 2010       PC             2009  Sports   \n",
       "16546  Wade Hixton's Counter Punch      GBA             2004  Sports   \n",
       "16643            Rugby Challenge 3     XOne             2016  Sports   \n",
       "\n",
       "       na_sales  eu_sales  jp_sales  other_sales  critic_score  user_score  \\\n",
       "0         41.36     28.96      3.77         8.45           7.6         8.0   \n",
       "3         15.61     10.93      3.28         2.95           8.0         8.0   \n",
       "13         8.92      8.03      3.60         2.15           8.0         7.7   \n",
       "15         9.01      8.49      2.53         1.77           8.0         7.4   \n",
       "77         1.12      6.12      0.06         1.28           8.2         4.3   \n",
       "...         ...       ...       ...          ...           ...         ...   \n",
       "16450      0.00      0.01      0.00         0.00          -0.1         4.5   \n",
       "16518      0.00      0.01      0.00         0.00          -0.1         1.4   \n",
       "16528      0.00      0.01      0.00         0.00           7.8         6.9   \n",
       "16546      0.01      0.00      0.00         0.00           7.8         9.5   \n",
       "16643      0.00      0.01      0.00         0.00          -0.1         6.6   \n",
       "\n",
       "      rating  total_sales year_group  \n",
       "0          E        82.54        00s  \n",
       "3          E        32.77        00s  \n",
       "13         E        22.70        00s  \n",
       "15         E        21.80        00s  \n",
       "77         E         8.58        10s  \n",
       "...      ...          ...        ...  \n",
       "16450      E         0.01        10s  \n",
       "16518      E         0.01        10s  \n",
       "16528      E         0.01        00s  \n",
       "16546      T         0.01        00s  \n",
       "16643      E         0.01        10s  \n",
       "\n",
       "[1081 rows x 13 columns]"
      ]
     },
     "execution_count": 47,
     "metadata": {},
     "output_type": "execute_result"
    }
   ],
   "source": [
    "action = data.query('genre ==\"Action\" and user_score != \"tbd\" and user_score != -1')\n",
    "sport = data.query('genre ==\"Sports\" and user_score != \"tbd\" and user_score != -1')\n",
    "action['user_score'] = pd.to_numeric(action['user_score'])\n",
    "sport['user_score'] = pd.to_numeric(sport['user_score'])\n",
    "sport"
   ]
  },
  {
   "cell_type": "markdown",
   "metadata": {},
   "source": [
    "H0 = Average user ratings for the Action and Sports genres are the same.\n",
    "\n",
    "H1 = Average user ratings for the Action and Sports genres are different."
   ]
  },
  {
   "cell_type": "code",
   "execution_count": 48,
   "metadata": {},
   "outputs": [
    {
     "name": "stdout",
     "output_type": "stream",
     "text": [
      "p-value 0.07370217419278534\n",
      "we can not reject the null hypothesis\n"
     ]
    },
    {
     "name": "stderr",
     "output_type": "stream",
     "text": [
      "/opt/conda/lib/python3.7/site-packages/ipykernel_launcher.py:12: FutureWarning: Dropping of nuisance columns in DataFrame reductions (with 'numeric_only=None') is deprecated; in a future version this will raise TypeError.  Select only valid columns before calling the reduction.\n",
      "  if sys.path[0] == '':\n",
      "/opt/conda/lib/python3.7/site-packages/ipykernel_launcher.py:13: FutureWarning: Dropping of nuisance columns in DataFrame reductions (with 'numeric_only=None') is deprecated; in a future version this will raise TypeError.  Select only valid columns before calling the reduction.\n",
      "  del sys.path[0]\n"
     ]
    }
   ],
   "source": [
    "alfa = 0.05\n",
    "\n",
    "result3 = st.ttest_ind(action['user_score'], sport['user_score'], equal_var=False)\n",
    "\n",
    "print('p-value', result3.pvalue)\n",
    "\n",
    "if (result3.pvalue < alfa):\n",
    "    print('we reject the null hypothesis')\n",
    "else:\n",
    "    print('we can not reject the null hypothesis')    \n",
    "    \n",
    "action_m =action.mean()\n",
    "sport_m = sport.mean()"
   ]
  },
  {
   "cell_type": "markdown",
   "metadata": {},
   "source": [
    "***Hypotheses tested:***\n",
    "\n",
    "1.Average user ratings of the Xbox One and PC platforms are the same - rejected.\n",
    "\n",
    "2.Average user ratings for the Action and Sports genres are the same - we can not reject the hypothesis."
   ]
  },
  {
   "cell_type": "markdown",
   "metadata": {},
   "source": [
    "***General conclusion:***"
   ]
  },
  {
   "cell_type": "markdown",
   "metadata": {},
   "source": [
    "We will start with the conclusion for which we have come together, what are the most profitable patterns of games according to the last time period we have defined (11 years):\n",
    "\n",
    "1.X360, XONE, PS3 and PS4 are the most profitable platforms so it is advisable to focus on them (if we are operating in North America and Europe).\n",
    "\n",
    "2.If we are operating in Japan, it is better to focus on the DS platform.\n",
    "\n",
    "3.The ESRB ranking does affect sales and the more appropriate it is for a wider age range, the greater the sales.\n",
    "\n",
    "4.In North America and Europe the preferred playing styles are action and sports while in Japan it is role-playing."
   ]
  },
  {
   "cell_type": "markdown",
   "metadata": {},
   "source": [
    "***Steps taken:***\n",
    "\n",
    "***Data preparation:***\n",
    "\n",
    "1.Loading the libraries and data.\n",
    "\n",
    "2.Make the column names lowercase.\n",
    "\n",
    "3.Checking for missing values:\n",
    "\n",
    "-Expend the percentage of the missing values.\n",
    "\n",
    "-Treatment of missing values.\n",
    "\n",
    "4.Changing the column of the year the game was published to an integer.\n",
    "\n",
    "5.Divide the critic_score column by 10 so that it is on the same scale as user_score in case I need to compare them.\n",
    "\n",
    "6.Create a new column which includes the total revenue of the game from all areas.\n",
    "\n",
    "***Data Analysis:***\n",
    "\n",
    "1.Creating a scatter histogram of the games by year of publication.\n",
    "\n",
    "2.Divide the data by decades.\n",
    "\n",
    "3.Create a table of sales according to platform.\n",
    "\n",
    "4.Create sales charts by years for the top three platforms.\n",
    "\n",
    "5.Cutting the data according to a relevant time period.\n",
    "\n",
    "6.Test by regions in the world of:\n",
    "\n",
    "-Sales by platform.\n",
    "\n",
    "-Sales by genre.\n",
    "\n",
    "-Sales according to ESRB rating.\n",
    "\n",
    "***Hypothesis testing:***\n",
    "\n",
    "1.Average user ratings of the Xbox One and PC platforms are the same - rejected.\n",
    "\n",
    "2.Average user ratings for the Action and Sports genres are the same - we can not reject the hypothesis."
   ]
  }
 ],
 "metadata": {
  "ExecuteTimeLog": [
   {
    "duration": 1867,
    "start_time": "2022-02-21T14:53:40.936Z"
   },
   {
    "duration": 34,
    "start_time": "2022-02-21T14:54:30.808Z"
   },
   {
    "duration": 16,
    "start_time": "2022-02-21T14:54:48.085Z"
   },
   {
    "duration": 15,
    "start_time": "2022-02-21T14:55:13.329Z"
   },
   {
    "duration": 16,
    "start_time": "2022-02-21T14:58:57.349Z"
   },
   {
    "duration": 34,
    "start_time": "2022-02-21T15:04:57.890Z"
   },
   {
    "duration": 16,
    "start_time": "2022-02-21T15:05:00.200Z"
   },
   {
    "duration": 4,
    "start_time": "2022-02-21T15:07:52.089Z"
   },
   {
    "duration": 14,
    "start_time": "2022-02-21T15:08:04.039Z"
   },
   {
    "duration": 14,
    "start_time": "2022-02-21T15:08:11.751Z"
   },
   {
    "duration": 7,
    "start_time": "2022-02-21T15:11:07.789Z"
   },
   {
    "duration": 5,
    "start_time": "2022-02-21T15:11:17.700Z"
   },
   {
    "duration": 6,
    "start_time": "2022-02-21T15:11:24.000Z"
   },
   {
    "duration": 7,
    "start_time": "2022-02-21T15:11:38.412Z"
   },
   {
    "duration": 23,
    "start_time": "2022-02-21T15:12:18.703Z"
   },
   {
    "duration": 13,
    "start_time": "2022-02-21T15:15:14.952Z"
   },
   {
    "duration": 8,
    "start_time": "2022-02-21T15:15:28.881Z"
   },
   {
    "duration": 14,
    "start_time": "2022-02-21T15:32:44.412Z"
   },
   {
    "duration": 53,
    "start_time": "2022-02-21T15:33:47.268Z"
   },
   {
    "duration": 1467,
    "start_time": "2022-02-21T15:33:52.015Z"
   },
   {
    "duration": 1443,
    "start_time": "2022-02-21T15:34:17.465Z"
   },
   {
    "duration": 191,
    "start_time": "2022-02-21T15:34:46.695Z"
   },
   {
    "duration": 188,
    "start_time": "2022-02-21T15:34:57.689Z"
   },
   {
    "duration": 479,
    "start_time": "2022-02-21T15:35:01.203Z"
   },
   {
    "duration": 93,
    "start_time": "2022-02-21T15:41:54.616Z"
   },
   {
    "duration": 293,
    "start_time": "2022-02-21T15:41:59.013Z"
   },
   {
    "duration": 3130,
    "start_time": "2022-02-21T15:42:06.089Z"
   },
   {
    "duration": 37,
    "start_time": "2022-02-21T15:42:09.221Z"
   },
   {
    "duration": 18,
    "start_time": "2022-02-21T15:42:09.261Z"
   },
   {
    "duration": 42,
    "start_time": "2022-02-21T15:42:09.281Z"
   },
   {
    "duration": 26,
    "start_time": "2022-02-21T15:42:09.325Z"
   },
   {
    "duration": 8,
    "start_time": "2022-02-21T15:42:24.085Z"
   },
   {
    "duration": 352,
    "start_time": "2022-02-21T15:44:57.346Z"
   },
   {
    "duration": 274,
    "start_time": "2022-02-21T15:50:06.922Z"
   },
   {
    "duration": 3,
    "start_time": "2022-02-21T15:51:12.031Z"
   },
   {
    "duration": 4767,
    "start_time": "2022-02-21T15:51:14.836Z"
   },
   {
    "duration": 7,
    "start_time": "2022-02-21T15:53:57.683Z"
   },
   {
    "duration": 5,
    "start_time": "2022-02-21T15:54:07.112Z"
   },
   {
    "duration": 4,
    "start_time": "2022-02-21T15:55:56.015Z"
   },
   {
    "duration": 7,
    "start_time": "2022-02-21T15:56:03.540Z"
   },
   {
    "duration": 243,
    "start_time": "2022-02-21T15:56:24.252Z"
   },
   {
    "duration": 73,
    "start_time": "2022-02-21T15:57:16.640Z"
   },
   {
    "duration": 7,
    "start_time": "2022-02-21T15:57:21.760Z"
   },
   {
    "duration": 238,
    "start_time": "2022-02-21T15:57:23.969Z"
   },
   {
    "duration": 6,
    "start_time": "2022-02-21T15:57:33.171Z"
   },
   {
    "duration": 273,
    "start_time": "2022-02-21T15:57:34.810Z"
   },
   {
    "duration": 4,
    "start_time": "2022-02-21T16:00:42.604Z"
   },
   {
    "duration": 6,
    "start_time": "2022-02-21T16:00:50.084Z"
   },
   {
    "duration": 7,
    "start_time": "2022-02-21T16:03:07.323Z"
   },
   {
    "duration": 7183,
    "start_time": "2022-02-21T16:04:27.103Z"
   },
   {
    "duration": 5,
    "start_time": "2022-02-21T16:05:04.591Z"
   },
   {
    "duration": 7,
    "start_time": "2022-02-21T16:05:11.162Z"
   },
   {
    "duration": 6,
    "start_time": "2022-02-21T16:05:41.982Z"
   },
   {
    "duration": 6,
    "start_time": "2022-02-21T16:06:00.923Z"
   },
   {
    "duration": 6,
    "start_time": "2022-02-21T16:06:08.084Z"
   },
   {
    "duration": 7,
    "start_time": "2022-02-21T16:06:38.662Z"
   },
   {
    "duration": 7,
    "start_time": "2022-02-21T16:07:01.482Z"
   },
   {
    "duration": 5,
    "start_time": "2022-02-21T16:07:26.530Z"
   },
   {
    "duration": 7,
    "start_time": "2022-02-21T16:07:36.403Z"
   },
   {
    "duration": 7,
    "start_time": "2022-02-21T16:07:51.111Z"
   },
   {
    "duration": 8,
    "start_time": "2022-02-21T16:07:54.252Z"
   },
   {
    "duration": 7,
    "start_time": "2022-02-21T16:07:57.051Z"
   },
   {
    "duration": 6,
    "start_time": "2022-02-21T16:08:15.083Z"
   },
   {
    "duration": 15,
    "start_time": "2022-02-21T16:08:23.444Z"
   },
   {
    "duration": 76,
    "start_time": "2022-02-21T16:08:51.085Z"
   },
   {
    "duration": 5,
    "start_time": "2022-02-21T16:08:59.579Z"
   },
   {
    "duration": 14,
    "start_time": "2022-02-21T16:09:04.548Z"
   },
   {
    "duration": 7,
    "start_time": "2022-02-21T16:09:15.574Z"
   },
   {
    "duration": 15,
    "start_time": "2022-02-21T16:09:26.521Z"
   },
   {
    "duration": 15,
    "start_time": "2022-02-21T16:09:39.286Z"
   },
   {
    "duration": 4,
    "start_time": "2022-02-21T16:09:45.792Z"
   },
   {
    "duration": 35,
    "start_time": "2022-02-21T16:09:45.844Z"
   },
   {
    "duration": 13,
    "start_time": "2022-02-21T16:09:45.882Z"
   },
   {
    "duration": 28,
    "start_time": "2022-02-21T16:09:45.898Z"
   },
   {
    "duration": 273,
    "start_time": "2022-02-21T16:09:45.928Z"
   },
   {
    "duration": -1456,
    "start_time": "2022-02-21T16:09:47.659Z"
   },
   {
    "duration": 9,
    "start_time": "2022-02-21T16:10:14.067Z"
   },
   {
    "duration": 8,
    "start_time": "2022-02-21T16:10:26.702Z"
   },
   {
    "duration": 15,
    "start_time": "2022-02-21T16:10:33.361Z"
   },
   {
    "duration": 7,
    "start_time": "2022-02-21T16:10:41.390Z"
   },
   {
    "duration": 14,
    "start_time": "2022-02-21T16:11:09.372Z"
   },
   {
    "duration": 14,
    "start_time": "2022-02-21T16:11:14.283Z"
   },
   {
    "duration": 4,
    "start_time": "2022-02-21T16:11:17.355Z"
   },
   {
    "duration": 40,
    "start_time": "2022-02-21T16:11:18.909Z"
   },
   {
    "duration": 21,
    "start_time": "2022-02-21T16:11:20.791Z"
   },
   {
    "duration": 14,
    "start_time": "2022-02-21T16:11:23.661Z"
   },
   {
    "duration": 8,
    "start_time": "2022-02-21T16:11:34.330Z"
   },
   {
    "duration": 14,
    "start_time": "2022-02-21T16:11:38.747Z"
   },
   {
    "duration": 235,
    "start_time": "2022-02-21T16:14:46.061Z"
   },
   {
    "duration": 20,
    "start_time": "2022-02-21T16:15:17.331Z"
   },
   {
    "duration": 10,
    "start_time": "2022-02-21T16:15:25.570Z"
   },
   {
    "duration": 5,
    "start_time": "2022-02-21T16:21:00.965Z"
   },
   {
    "duration": 10,
    "start_time": "2022-02-21T16:21:14.927Z"
   },
   {
    "duration": 5,
    "start_time": "2022-02-21T16:21:21.071Z"
   },
   {
    "duration": 11,
    "start_time": "2022-02-21T16:21:23.658Z"
   },
   {
    "duration": 6,
    "start_time": "2022-02-21T16:21:34.186Z"
   },
   {
    "duration": 9,
    "start_time": "2022-02-21T16:21:35.879Z"
   },
   {
    "duration": 4,
    "start_time": "2022-02-21T16:21:49.004Z"
   },
   {
    "duration": 10,
    "start_time": "2022-02-21T16:21:51.041Z"
   },
   {
    "duration": 4,
    "start_time": "2022-02-21T16:21:55.570Z"
   },
   {
    "duration": 40,
    "start_time": "2022-02-21T16:21:55.578Z"
   },
   {
    "duration": 14,
    "start_time": "2022-02-21T16:21:55.620Z"
   },
   {
    "duration": 6337,
    "start_time": "2022-02-21T16:21:55.636Z"
   },
   {
    "duration": -1435,
    "start_time": "2022-02-21T16:22:03.411Z"
   },
   {
    "duration": -1443,
    "start_time": "2022-02-21T16:22:03.421Z"
   },
   {
    "duration": -1451,
    "start_time": "2022-02-21T16:22:03.430Z"
   },
   {
    "duration": -1530,
    "start_time": "2022-02-21T16:22:03.511Z"
   },
   {
    "duration": -1532,
    "start_time": "2022-02-21T16:22:03.515Z"
   },
   {
    "duration": 13,
    "start_time": "2022-02-21T16:22:07.976Z"
   },
   {
    "duration": 9,
    "start_time": "2022-02-21T16:22:11.381Z"
   },
   {
    "duration": 7,
    "start_time": "2022-02-21T16:22:13.744Z"
   },
   {
    "duration": 11,
    "start_time": "2022-02-21T16:22:15.857Z"
   },
   {
    "duration": 5,
    "start_time": "2022-02-21T16:25:33.539Z"
   },
   {
    "duration": 12,
    "start_time": "2022-02-21T16:25:37.176Z"
   },
   {
    "duration": 4,
    "start_time": "2022-02-21T16:28:15.484Z"
   },
   {
    "duration": 12,
    "start_time": "2022-02-21T16:28:17.631Z"
   },
   {
    "duration": 5,
    "start_time": "2022-02-21T16:28:26.972Z"
   },
   {
    "duration": 10,
    "start_time": "2022-02-21T16:28:29.051Z"
   },
   {
    "duration": 10,
    "start_time": "2022-02-21T16:28:42.803Z"
   },
   {
    "duration": 9,
    "start_time": "2022-02-21T16:28:44.472Z"
   },
   {
    "duration": 3,
    "start_time": "2022-02-21T16:28:50.391Z"
   },
   {
    "duration": 9,
    "start_time": "2022-02-21T16:28:52.492Z"
   },
   {
    "duration": 4,
    "start_time": "2022-02-21T16:28:58.094Z"
   },
   {
    "duration": 42,
    "start_time": "2022-02-21T16:28:58.101Z"
   },
   {
    "duration": 14,
    "start_time": "2022-02-21T16:28:58.145Z"
   },
   {
    "duration": 6282,
    "start_time": "2022-02-21T16:28:58.162Z"
   },
   {
    "duration": -1456,
    "start_time": "2022-02-21T16:29:05.902Z"
   },
   {
    "duration": -1557,
    "start_time": "2022-02-21T16:29:06.004Z"
   },
   {
    "duration": -1567,
    "start_time": "2022-02-21T16:29:06.015Z"
   },
   {
    "duration": -1572,
    "start_time": "2022-02-21T16:29:06.021Z"
   },
   {
    "duration": -1573,
    "start_time": "2022-02-21T16:29:06.023Z"
   },
   {
    "duration": 14,
    "start_time": "2022-02-21T16:29:09.412Z"
   },
   {
    "duration": 10,
    "start_time": "2022-02-21T16:29:12.371Z"
   },
   {
    "duration": 10,
    "start_time": "2022-02-21T16:29:14.171Z"
   },
   {
    "duration": 12,
    "start_time": "2022-02-21T16:31:27.024Z"
   },
   {
    "duration": 10,
    "start_time": "2022-02-21T16:31:28.741Z"
   },
   {
    "duration": 11,
    "start_time": "2022-02-21T16:32:01.302Z"
   },
   {
    "duration": 10,
    "start_time": "2022-02-21T16:32:03.940Z"
   },
   {
    "duration": 8,
    "start_time": "2022-02-21T16:34:12.246Z"
   },
   {
    "duration": 10,
    "start_time": "2022-02-21T16:34:13.973Z"
   },
   {
    "duration": 10,
    "start_time": "2022-02-21T16:35:24.013Z"
   },
   {
    "duration": 9,
    "start_time": "2022-02-21T16:35:25.782Z"
   },
   {
    "duration": 5,
    "start_time": "2022-02-21T16:39:09.186Z"
   },
   {
    "duration": 10,
    "start_time": "2022-02-21T16:39:11.589Z"
   },
   {
    "duration": 6,
    "start_time": "2022-02-21T16:42:22.568Z"
   },
   {
    "duration": 4,
    "start_time": "2022-02-21T16:42:34.935Z"
   },
   {
    "duration": 45,
    "start_time": "2022-02-21T16:42:34.944Z"
   },
   {
    "duration": 14,
    "start_time": "2022-02-21T16:42:34.991Z"
   },
   {
    "duration": 19,
    "start_time": "2022-02-21T16:42:35.008Z"
   },
   {
    "duration": 12,
    "start_time": "2022-02-21T16:42:35.029Z"
   },
   {
    "duration": 7,
    "start_time": "2022-02-21T16:42:35.043Z"
   },
   {
    "duration": 13,
    "start_time": "2022-02-21T16:42:35.052Z"
   },
   {
    "duration": 15,
    "start_time": "2022-02-21T16:42:35.067Z"
   },
   {
    "duration": 30,
    "start_time": "2022-02-21T16:42:35.085Z"
   },
   {
    "duration": 8,
    "start_time": "2022-02-21T16:42:35.117Z"
   },
   {
    "duration": 10,
    "start_time": "2022-02-21T16:42:35.127Z"
   },
   {
    "duration": 4,
    "start_time": "2022-02-21T16:43:09.181Z"
   },
   {
    "duration": 40,
    "start_time": "2022-02-21T16:43:09.187Z"
   },
   {
    "duration": 14,
    "start_time": "2022-02-21T16:43:09.230Z"
   },
   {
    "duration": 18,
    "start_time": "2022-02-21T16:43:09.246Z"
   },
   {
    "duration": 27,
    "start_time": "2022-02-21T16:43:09.266Z"
   },
   {
    "duration": 11,
    "start_time": "2022-02-21T16:43:09.295Z"
   },
   {
    "duration": 21,
    "start_time": "2022-02-21T16:43:09.308Z"
   },
   {
    "duration": 11,
    "start_time": "2022-02-21T16:43:09.331Z"
   },
   {
    "duration": 5,
    "start_time": "2022-02-21T16:43:09.344Z"
   },
   {
    "duration": 28,
    "start_time": "2022-02-21T16:43:09.351Z"
   },
   {
    "duration": 10,
    "start_time": "2022-02-21T16:43:09.381Z"
   },
   {
    "duration": 15,
    "start_time": "2022-02-21T16:43:09.393Z"
   },
   {
    "duration": 27,
    "start_time": "2022-02-21T16:44:34.497Z"
   },
   {
    "duration": 6,
    "start_time": "2022-02-21T16:52:03.624Z"
   },
   {
    "duration": 16,
    "start_time": "2022-02-21T16:52:15.664Z"
   },
   {
    "duration": 15,
    "start_time": "2022-02-21T16:53:54.115Z"
   },
   {
    "duration": 4,
    "start_time": "2022-02-21T17:03:19.745Z"
   },
   {
    "duration": 45,
    "start_time": "2022-02-21T17:03:19.751Z"
   },
   {
    "duration": 14,
    "start_time": "2022-02-21T17:03:19.798Z"
   },
   {
    "duration": 87,
    "start_time": "2022-02-21T17:03:19.814Z"
   },
   {
    "duration": 16,
    "start_time": "2022-02-21T17:03:19.907Z"
   },
   {
    "duration": 5,
    "start_time": "2022-02-21T17:03:19.925Z"
   },
   {
    "duration": 9,
    "start_time": "2022-02-21T17:03:19.932Z"
   },
   {
    "duration": 9,
    "start_time": "2022-02-21T17:03:19.943Z"
   },
   {
    "duration": 10,
    "start_time": "2022-02-21T17:03:19.954Z"
   },
   {
    "duration": 13,
    "start_time": "2022-02-21T17:03:19.966Z"
   },
   {
    "duration": 31,
    "start_time": "2022-02-21T17:03:19.981Z"
   },
   {
    "duration": 6,
    "start_time": "2022-02-21T17:03:20.015Z"
   },
   {
    "duration": 18,
    "start_time": "2022-02-21T17:03:20.023Z"
   },
   {
    "duration": 13,
    "start_time": "2022-02-21T17:03:20.043Z"
   },
   {
    "duration": 21,
    "start_time": "2022-02-21T17:03:20.058Z"
   },
   {
    "duration": 32,
    "start_time": "2022-02-21T17:03:20.081Z"
   },
   {
    "duration": 4,
    "start_time": "2022-02-21T17:25:35.108Z"
   },
   {
    "duration": 39,
    "start_time": "2022-02-21T17:25:35.121Z"
   },
   {
    "duration": 15,
    "start_time": "2022-02-21T17:25:35.162Z"
   },
   {
    "duration": 34,
    "start_time": "2022-02-21T17:25:35.180Z"
   },
   {
    "duration": 12,
    "start_time": "2022-02-21T17:25:35.281Z"
   },
   {
    "duration": 22,
    "start_time": "2022-02-21T17:25:35.295Z"
   },
   {
    "duration": 11,
    "start_time": "2022-02-21T17:25:35.319Z"
   },
   {
    "duration": 27,
    "start_time": "2022-02-21T17:25:35.333Z"
   },
   {
    "duration": 17,
    "start_time": "2022-02-21T17:25:35.362Z"
   },
   {
    "duration": 22,
    "start_time": "2022-02-21T17:25:35.382Z"
   },
   {
    "duration": 20,
    "start_time": "2022-02-21T17:25:35.406Z"
   },
   {
    "duration": 20,
    "start_time": "2022-02-21T17:25:35.428Z"
   },
   {
    "duration": 17,
    "start_time": "2022-02-21T17:25:35.451Z"
   },
   {
    "duration": 10,
    "start_time": "2022-02-21T17:25:35.500Z"
   },
   {
    "duration": 35,
    "start_time": "2022-02-21T17:25:35.512Z"
   },
   {
    "duration": 19,
    "start_time": "2022-02-21T17:25:35.549Z"
   },
   {
    "duration": 29,
    "start_time": "2022-02-21T17:25:35.570Z"
   },
   {
    "duration": 29,
    "start_time": "2022-02-21T17:28:17.216Z"
   },
   {
    "duration": 15,
    "start_time": "2022-02-21T17:28:57.958Z"
   },
   {
    "duration": 3,
    "start_time": "2022-02-21T18:06:24.983Z"
   },
   {
    "duration": 52,
    "start_time": "2022-02-21T18:06:24.988Z"
   },
   {
    "duration": 14,
    "start_time": "2022-02-21T18:06:25.042Z"
   },
   {
    "duration": 50,
    "start_time": "2022-02-21T18:06:25.058Z"
   },
   {
    "duration": 24,
    "start_time": "2022-02-21T18:06:25.110Z"
   },
   {
    "duration": 24,
    "start_time": "2022-02-21T18:06:25.136Z"
   },
   {
    "duration": 20,
    "start_time": "2022-02-21T18:06:25.162Z"
   },
   {
    "duration": 22,
    "start_time": "2022-02-21T18:06:25.184Z"
   },
   {
    "duration": 27,
    "start_time": "2022-02-21T18:06:25.208Z"
   },
   {
    "duration": 20,
    "start_time": "2022-02-21T18:06:25.237Z"
   },
   {
    "duration": 28,
    "start_time": "2022-02-21T18:06:25.259Z"
   },
   {
    "duration": 20,
    "start_time": "2022-02-21T18:06:25.289Z"
   },
   {
    "duration": 23,
    "start_time": "2022-02-21T18:10:16.422Z"
   },
   {
    "duration": 24,
    "start_time": "2022-02-21T18:10:53.539Z"
   },
   {
    "duration": 30,
    "start_time": "2022-02-21T18:11:05.609Z"
   },
   {
    "duration": 9,
    "start_time": "2022-02-21T18:12:27.097Z"
   },
   {
    "duration": 8,
    "start_time": "2022-02-21T18:13:09.216Z"
   },
   {
    "duration": 10,
    "start_time": "2022-02-21T18:13:31.766Z"
   },
   {
    "duration": 8,
    "start_time": "2022-02-21T18:13:49.336Z"
   },
   {
    "duration": 235,
    "start_time": "2022-02-21T18:34:32.624Z"
   },
   {
    "duration": 267,
    "start_time": "2022-02-21T18:34:38.104Z"
   },
   {
    "duration": 5,
    "start_time": "2022-02-21T18:34:44.444Z"
   },
   {
    "duration": 11,
    "start_time": "2022-02-21T18:34:48.828Z"
   },
   {
    "duration": 11,
    "start_time": "2022-02-21T18:35:17.543Z"
   },
   {
    "duration": 4,
    "start_time": "2022-02-21T18:35:31.285Z"
   },
   {
    "duration": 49,
    "start_time": "2022-02-21T18:35:31.292Z"
   },
   {
    "duration": 14,
    "start_time": "2022-02-21T18:35:31.343Z"
   },
   {
    "duration": 32,
    "start_time": "2022-02-21T18:35:31.359Z"
   },
   {
    "duration": 31,
    "start_time": "2022-02-21T18:35:31.393Z"
   },
   {
    "duration": 10,
    "start_time": "2022-02-21T18:35:31.426Z"
   },
   {
    "duration": 11,
    "start_time": "2022-02-21T18:35:37.103Z"
   },
   {
    "duration": 15,
    "start_time": "2022-02-21T18:35:44.851Z"
   },
   {
    "duration": 3,
    "start_time": "2022-02-21T18:35:46.884Z"
   },
   {
    "duration": 11,
    "start_time": "2022-02-21T18:35:48.667Z"
   },
   {
    "duration": 4,
    "start_time": "2022-02-21T18:35:51.785Z"
   },
   {
    "duration": 52,
    "start_time": "2022-02-21T18:35:51.791Z"
   },
   {
    "duration": 14,
    "start_time": "2022-02-21T18:35:51.845Z"
   },
   {
    "duration": 39,
    "start_time": "2022-02-21T18:35:51.860Z"
   },
   {
    "duration": 20,
    "start_time": "2022-02-21T18:35:51.900Z"
   },
   {
    "duration": 16,
    "start_time": "2022-02-21T18:35:51.922Z"
   },
   {
    "duration": 5,
    "start_time": "2022-02-21T18:36:02.164Z"
   },
   {
    "duration": 12,
    "start_time": "2022-02-21T18:36:03.893Z"
   },
   {
    "duration": 5,
    "start_time": "2022-02-21T18:36:33.531Z"
   },
   {
    "duration": 11,
    "start_time": "2022-02-21T18:36:36.503Z"
   },
   {
    "duration": 4,
    "start_time": "2022-02-21T18:37:29.780Z"
   },
   {
    "duration": 11,
    "start_time": "2022-02-21T18:37:34.017Z"
   },
   {
    "duration": 10,
    "start_time": "2022-02-21T18:37:53.227Z"
   },
   {
    "duration": 235,
    "start_time": "2022-02-21T18:38:16.645Z"
   },
   {
    "duration": 4,
    "start_time": "2022-02-21T18:38:23.036Z"
   },
   {
    "duration": 11,
    "start_time": "2022-02-21T18:38:25.076Z"
   },
   {
    "duration": 5,
    "start_time": "2022-02-21T18:39:02.076Z"
   },
   {
    "duration": 12,
    "start_time": "2022-02-21T18:39:03.684Z"
   },
   {
    "duration": 238,
    "start_time": "2022-02-21T18:39:18.796Z"
   },
   {
    "duration": 232,
    "start_time": "2022-02-21T18:41:55.720Z"
   },
   {
    "duration": 5,
    "start_time": "2022-02-21T18:42:01.080Z"
   },
   {
    "duration": 11,
    "start_time": "2022-02-21T18:42:07.040Z"
   },
   {
    "duration": 16,
    "start_time": "2022-02-21T18:42:45.685Z"
   },
   {
    "duration": 6,
    "start_time": "2022-02-21T18:42:56.961Z"
   },
   {
    "duration": 10,
    "start_time": "2022-02-21T18:43:17.487Z"
   },
   {
    "duration": 3,
    "start_time": "2022-02-21T18:43:50.199Z"
   },
   {
    "duration": 45,
    "start_time": "2022-02-21T18:43:50.205Z"
   },
   {
    "duration": 14,
    "start_time": "2022-02-21T18:43:50.252Z"
   },
   {
    "duration": 19,
    "start_time": "2022-02-21T18:43:50.268Z"
   },
   {
    "duration": 12,
    "start_time": "2022-02-21T18:43:50.289Z"
   },
   {
    "duration": 9,
    "start_time": "2022-02-21T18:44:26.998Z"
   },
   {
    "duration": 4,
    "start_time": "2022-02-21T18:44:41.203Z"
   },
   {
    "duration": 8,
    "start_time": "2022-02-21T18:44:45.212Z"
   },
   {
    "duration": 10,
    "start_time": "2022-02-21T18:45:02.323Z"
   },
   {
    "duration": 12,
    "start_time": "2022-02-21T18:45:10.021Z"
   },
   {
    "duration": 9,
    "start_time": "2022-02-21T18:53:36.691Z"
   },
   {
    "duration": 4,
    "start_time": "2022-02-21T18:54:01.304Z"
   },
   {
    "duration": 54,
    "start_time": "2022-02-21T18:54:01.311Z"
   },
   {
    "duration": 15,
    "start_time": "2022-02-21T18:54:01.367Z"
   },
   {
    "duration": 25,
    "start_time": "2022-02-21T18:54:01.384Z"
   },
   {
    "duration": 26,
    "start_time": "2022-02-21T18:54:01.411Z"
   },
   {
    "duration": 10,
    "start_time": "2022-02-21T18:54:01.439Z"
   },
   {
    "duration": 37,
    "start_time": "2022-02-21T18:54:01.451Z"
   },
   {
    "duration": 11,
    "start_time": "2022-02-21T18:54:01.491Z"
   },
   {
    "duration": 10,
    "start_time": "2022-02-21T18:54:01.504Z"
   },
   {
    "duration": 22,
    "start_time": "2022-02-21T18:54:01.516Z"
   },
   {
    "duration": 20,
    "start_time": "2022-02-21T18:54:01.541Z"
   },
   {
    "duration": 14,
    "start_time": "2022-02-21T18:54:01.564Z"
   },
   {
    "duration": 35,
    "start_time": "2022-02-21T18:54:01.580Z"
   },
   {
    "duration": 11,
    "start_time": "2022-02-21T18:54:01.617Z"
   },
   {
    "duration": 241,
    "start_time": "2022-02-21T18:58:17.938Z"
   },
   {
    "duration": 10,
    "start_time": "2022-02-21T18:58:28.551Z"
   },
   {
    "duration": 237,
    "start_time": "2022-02-21T19:14:48.649Z"
   },
   {
    "duration": 3597,
    "start_time": "2022-02-21T19:15:48.357Z"
   },
   {
    "duration": 3562,
    "start_time": "2022-02-21T19:16:10.686Z"
   },
   {
    "duration": 3593,
    "start_time": "2022-02-21T19:16:22.314Z"
   },
   {
    "duration": 3404,
    "start_time": "2022-02-21T19:16:40.908Z"
   },
   {
    "duration": 3330,
    "start_time": "2022-02-21T19:17:13.248Z"
   },
   {
    "duration": 86,
    "start_time": "2022-02-21T19:18:19.228Z"
   },
   {
    "duration": 266,
    "start_time": "2022-02-21T19:18:25.288Z"
   },
   {
    "duration": 3466,
    "start_time": "2022-02-21T19:18:42.348Z"
   },
   {
    "duration": 17,
    "start_time": "2022-02-21T19:19:04.310Z"
   },
   {
    "duration": 3459,
    "start_time": "2022-02-21T19:20:05.948Z"
   },
   {
    "duration": 3528,
    "start_time": "2022-02-21T19:20:27.868Z"
   },
   {
    "duration": 3346,
    "start_time": "2022-02-21T19:20:54.988Z"
   },
   {
    "duration": 3491,
    "start_time": "2022-02-21T19:21:58.508Z"
   },
   {
    "duration": 19,
    "start_time": "2022-02-21T19:23:16.277Z"
   },
   {
    "duration": 3,
    "start_time": "2022-02-21T19:23:22.348Z"
   },
   {
    "duration": 61,
    "start_time": "2022-02-21T19:23:22.354Z"
   },
   {
    "duration": 15,
    "start_time": "2022-02-21T19:23:22.418Z"
   },
   {
    "duration": 20,
    "start_time": "2022-02-21T19:23:22.435Z"
   },
   {
    "duration": 32,
    "start_time": "2022-02-21T19:23:22.457Z"
   },
   {
    "duration": 25,
    "start_time": "2022-02-21T19:23:22.491Z"
   },
   {
    "duration": 24,
    "start_time": "2022-02-21T19:23:22.518Z"
   },
   {
    "duration": 26,
    "start_time": "2022-02-21T19:23:22.545Z"
   },
   {
    "duration": 16,
    "start_time": "2022-02-21T19:23:22.574Z"
   },
   {
    "duration": 19,
    "start_time": "2022-02-21T19:23:22.592Z"
   },
   {
    "duration": 10,
    "start_time": "2022-02-21T19:23:22.613Z"
   },
   {
    "duration": 8,
    "start_time": "2022-02-21T19:23:22.624Z"
   },
   {
    "duration": 20,
    "start_time": "2022-02-21T19:23:22.634Z"
   },
   {
    "duration": 12,
    "start_time": "2022-02-21T19:23:22.656Z"
   },
   {
    "duration": 9876,
    "start_time": "2022-02-21T19:23:22.670Z"
   },
   {
    "duration": 3441,
    "start_time": "2022-02-21T19:23:38.881Z"
   },
   {
    "duration": 3461,
    "start_time": "2022-02-21T19:25:09.878Z"
   },
   {
    "duration": 3520,
    "start_time": "2022-02-21T19:26:00.553Z"
   },
   {
    "duration": 3477,
    "start_time": "2022-02-21T19:26:58.369Z"
   },
   {
    "duration": 3456,
    "start_time": "2022-02-21T19:27:29.988Z"
   },
   {
    "duration": 3443,
    "start_time": "2022-02-21T19:27:55.148Z"
   },
   {
    "duration": 3635,
    "start_time": "2022-02-21T19:28:07.030Z"
   },
   {
    "duration": 3621,
    "start_time": "2022-02-21T19:30:46.675Z"
   },
   {
    "duration": 129,
    "start_time": "2022-02-21T19:31:47.688Z"
   },
   {
    "duration": 3994,
    "start_time": "2022-02-21T19:31:56.831Z"
   },
   {
    "duration": 240,
    "start_time": "2022-02-21T19:32:53.234Z"
   },
   {
    "duration": 3807,
    "start_time": "2022-02-21T19:36:46.522Z"
   },
   {
    "duration": 3482,
    "start_time": "2022-02-21T19:37:40.188Z"
   },
   {
    "duration": 3784,
    "start_time": "2022-02-21T19:38:21.244Z"
   },
   {
    "duration": 3812,
    "start_time": "2022-02-21T19:38:35.513Z"
   },
   {
    "duration": 3673,
    "start_time": "2022-02-21T19:38:51.498Z"
   },
   {
    "duration": 3847,
    "start_time": "2022-02-21T19:39:16.090Z"
   },
   {
    "duration": 4806,
    "start_time": "2022-02-21T19:40:14.820Z"
   },
   {
    "duration": 27,
    "start_time": "2022-02-21T19:41:40.960Z"
   },
   {
    "duration": 25,
    "start_time": "2022-02-21T19:42:09.315Z"
   },
   {
    "duration": 16,
    "start_time": "2022-02-21T19:42:26.004Z"
   },
   {
    "duration": 16,
    "start_time": "2022-02-21T19:42:38.349Z"
   },
   {
    "duration": 1776,
    "start_time": "2022-02-22T13:38:13.375Z"
   },
   {
    "duration": 38,
    "start_time": "2022-02-22T13:38:15.153Z"
   },
   {
    "duration": 16,
    "start_time": "2022-02-22T13:38:15.193Z"
   },
   {
    "duration": 19,
    "start_time": "2022-02-22T13:38:15.211Z"
   },
   {
    "duration": 13,
    "start_time": "2022-02-22T13:38:15.232Z"
   },
   {
    "duration": 11,
    "start_time": "2022-02-22T13:38:15.247Z"
   },
   {
    "duration": 14,
    "start_time": "2022-02-22T13:38:15.259Z"
   },
   {
    "duration": 24,
    "start_time": "2022-02-22T13:38:15.275Z"
   },
   {
    "duration": 10,
    "start_time": "2022-02-22T13:38:15.302Z"
   },
   {
    "duration": 37,
    "start_time": "2022-02-22T13:38:15.314Z"
   },
   {
    "duration": 15,
    "start_time": "2022-02-22T13:38:15.353Z"
   },
   {
    "duration": 11,
    "start_time": "2022-02-22T13:38:15.370Z"
   },
   {
    "duration": 18,
    "start_time": "2022-02-22T13:38:15.382Z"
   },
   {
    "duration": 6,
    "start_time": "2022-02-22T13:38:15.402Z"
   },
   {
    "duration": 6323,
    "start_time": "2022-02-22T13:38:15.410Z"
   },
   {
    "duration": 253,
    "start_time": "2022-02-22T13:39:00.213Z"
   },
   {
    "duration": 83,
    "start_time": "2022-02-22T13:40:47.914Z"
   },
   {
    "duration": 85,
    "start_time": "2022-02-22T13:41:31.113Z"
   },
   {
    "duration": 86,
    "start_time": "2022-02-22T13:42:05.373Z"
   },
   {
    "duration": 14,
    "start_time": "2022-02-22T13:42:28.293Z"
   },
   {
    "duration": 157,
    "start_time": "2022-02-22T14:31:16.336Z"
   },
   {
    "duration": 15,
    "start_time": "2022-02-22T14:32:32.567Z"
   },
   {
    "duration": 244,
    "start_time": "2022-02-22T14:34:20.845Z"
   },
   {
    "duration": 15,
    "start_time": "2022-02-22T14:34:58.326Z"
   },
   {
    "duration": 266,
    "start_time": "2022-02-22T14:36:24.075Z"
   },
   {
    "duration": 17,
    "start_time": "2022-02-22T14:37:02.313Z"
   },
   {
    "duration": 15,
    "start_time": "2022-02-22T14:37:16.299Z"
   },
   {
    "duration": 14,
    "start_time": "2022-02-22T14:56:41.086Z"
   },
   {
    "duration": 287,
    "start_time": "2022-02-22T14:56:58.298Z"
   },
   {
    "duration": 15,
    "start_time": "2022-02-22T14:57:09.166Z"
   },
   {
    "duration": 30,
    "start_time": "2022-02-22T14:57:29.985Z"
   },
   {
    "duration": 88,
    "start_time": "2022-02-22T14:59:34.952Z"
   },
   {
    "duration": 27,
    "start_time": "2022-02-22T15:00:06.624Z"
   },
   {
    "duration": 259,
    "start_time": "2022-02-22T15:44:33.912Z"
   },
   {
    "duration": -934,
    "start_time": "2022-02-22T15:44:35.107Z"
   },
   {
    "duration": -944,
    "start_time": "2022-02-22T15:44:35.119Z"
   },
   {
    "duration": -952,
    "start_time": "2022-02-22T15:44:35.128Z"
   },
   {
    "duration": -953,
    "start_time": "2022-02-22T15:44:35.130Z"
   },
   {
    "duration": -953,
    "start_time": "2022-02-22T15:44:35.131Z"
   },
   {
    "duration": -958,
    "start_time": "2022-02-22T15:44:35.137Z"
   },
   {
    "duration": -1077,
    "start_time": "2022-02-22T15:44:35.257Z"
   },
   {
    "duration": -1359,
    "start_time": "2022-02-22T15:44:35.540Z"
   },
   {
    "duration": -1365,
    "start_time": "2022-02-22T15:44:35.546Z"
   },
   {
    "duration": -1365,
    "start_time": "2022-02-22T15:44:35.547Z"
   },
   {
    "duration": -1365,
    "start_time": "2022-02-22T15:44:35.548Z"
   },
   {
    "duration": -1366,
    "start_time": "2022-02-22T15:44:35.550Z"
   },
   {
    "duration": 7,
    "start_time": "2022-02-22T15:44:34.244Z"
   },
   {
    "duration": 21,
    "start_time": "2022-02-22T15:44:34.253Z"
   },
   {
    "duration": 16,
    "start_time": "2022-02-22T15:44:34.276Z"
   },
   {
    "duration": 32,
    "start_time": "2022-02-22T15:44:34.293Z"
   },
   {
    "duration": 299,
    "start_time": "2022-02-22T15:44:34.327Z"
   },
   {
    "duration": 260,
    "start_time": "2022-02-22T15:45:27.499Z"
   },
   {
    "duration": 330,
    "start_time": "2022-02-22T15:46:19.550Z"
   },
   {
    "duration": 261,
    "start_time": "2022-02-22T15:46:33.282Z"
   },
   {
    "duration": 249,
    "start_time": "2022-02-22T15:47:26.772Z"
   },
   {
    "duration": 278,
    "start_time": "2022-02-22T15:47:40.580Z"
   },
   {
    "duration": 83,
    "start_time": "2022-02-22T15:51:21.144Z"
   },
   {
    "duration": 287,
    "start_time": "2022-02-22T15:53:36.413Z"
   },
   {
    "duration": 8260,
    "start_time": "2022-02-22T16:02:59.059Z"
   },
   {
    "duration": 8,
    "start_time": "2022-02-22T16:03:15.511Z"
   },
   {
    "duration": 2400,
    "start_time": "2022-02-22T16:03:21.091Z"
   },
   {
    "duration": 5,
    "start_time": "2022-02-22T16:03:23.493Z"
   },
   {
    "duration": 203,
    "start_time": "2022-02-22T16:03:23.500Z"
   },
   {
    "duration": 14,
    "start_time": "2022-02-22T16:03:23.705Z"
   },
   {
    "duration": 19,
    "start_time": "2022-02-22T16:03:23.721Z"
   },
   {
    "duration": 21,
    "start_time": "2022-02-22T16:03:23.742Z"
   },
   {
    "duration": 9,
    "start_time": "2022-02-22T16:03:23.765Z"
   },
   {
    "duration": 19,
    "start_time": "2022-02-22T16:03:23.776Z"
   },
   {
    "duration": 11,
    "start_time": "2022-02-22T16:03:23.797Z"
   },
   {
    "duration": 12,
    "start_time": "2022-02-22T16:03:23.810Z"
   },
   {
    "duration": 26,
    "start_time": "2022-02-22T16:03:23.825Z"
   },
   {
    "duration": 14,
    "start_time": "2022-02-22T16:03:23.853Z"
   },
   {
    "duration": 17,
    "start_time": "2022-02-22T16:03:23.869Z"
   },
   {
    "duration": 27,
    "start_time": "2022-02-22T16:03:23.888Z"
   },
   {
    "duration": 7,
    "start_time": "2022-02-22T16:03:23.917Z"
   },
   {
    "duration": 14,
    "start_time": "2022-02-22T16:03:23.926Z"
   },
   {
    "duration": 25,
    "start_time": "2022-02-22T16:03:23.941Z"
   },
   {
    "duration": 31,
    "start_time": "2022-02-22T16:03:23.967Z"
   },
   {
    "duration": 285,
    "start_time": "2022-02-22T16:03:24.000Z"
   },
   {
    "duration": 772,
    "start_time": "2022-02-22T16:04:10.082Z"
   },
   {
    "duration": 27,
    "start_time": "2022-02-22T16:05:38.571Z"
   },
   {
    "duration": 17,
    "start_time": "2022-02-22T16:07:49.070Z"
   },
   {
    "duration": 2491,
    "start_time": "2022-02-22T16:23:19.931Z"
   },
   {
    "duration": 3,
    "start_time": "2022-02-22T16:23:22.425Z"
   },
   {
    "duration": 40,
    "start_time": "2022-02-22T16:23:22.431Z"
   },
   {
    "duration": 14,
    "start_time": "2022-02-22T16:23:22.473Z"
   },
   {
    "duration": 21,
    "start_time": "2022-02-22T16:23:22.489Z"
   },
   {
    "duration": 15,
    "start_time": "2022-02-22T16:23:22.512Z"
   },
   {
    "duration": 4,
    "start_time": "2022-02-22T16:23:22.529Z"
   },
   {
    "duration": 19,
    "start_time": "2022-02-22T16:23:22.535Z"
   },
   {
    "duration": 15,
    "start_time": "2022-02-22T16:23:22.556Z"
   },
   {
    "duration": 5,
    "start_time": "2022-02-22T16:23:22.572Z"
   },
   {
    "duration": 19,
    "start_time": "2022-02-22T16:23:22.579Z"
   },
   {
    "duration": 19,
    "start_time": "2022-02-22T16:23:22.600Z"
   },
   {
    "duration": 6,
    "start_time": "2022-02-22T16:23:22.621Z"
   },
   {
    "duration": 19,
    "start_time": "2022-02-22T16:23:22.628Z"
   },
   {
    "duration": 13,
    "start_time": "2022-02-22T16:23:22.649Z"
   },
   {
    "duration": 2468,
    "start_time": "2022-02-22T16:29:31.184Z"
   },
   {
    "duration": 4,
    "start_time": "2022-02-22T16:29:33.654Z"
   },
   {
    "duration": 49,
    "start_time": "2022-02-22T16:29:33.660Z"
   },
   {
    "duration": 13,
    "start_time": "2022-02-22T16:29:33.711Z"
   },
   {
    "duration": 23,
    "start_time": "2022-02-22T16:29:33.726Z"
   },
   {
    "duration": 13,
    "start_time": "2022-02-22T16:29:33.750Z"
   },
   {
    "duration": 11,
    "start_time": "2022-02-22T16:29:33.764Z"
   },
   {
    "duration": 33,
    "start_time": "2022-02-22T16:29:33.776Z"
   },
   {
    "duration": 13,
    "start_time": "2022-02-22T16:29:33.811Z"
   },
   {
    "duration": 15,
    "start_time": "2022-02-22T16:29:33.826Z"
   },
   {
    "duration": 16,
    "start_time": "2022-02-22T16:29:33.842Z"
   },
   {
    "duration": 18,
    "start_time": "2022-02-22T16:29:33.860Z"
   },
   {
    "duration": 9,
    "start_time": "2022-02-22T16:29:33.880Z"
   },
   {
    "duration": 24,
    "start_time": "2022-02-22T16:29:33.891Z"
   },
   {
    "duration": 6,
    "start_time": "2022-02-22T16:29:33.917Z"
   },
   {
    "duration": 9,
    "start_time": "2022-02-22T16:29:33.924Z"
   },
   {
    "duration": 22,
    "start_time": "2022-02-22T16:29:33.935Z"
   },
   {
    "duration": 19,
    "start_time": "2022-02-22T16:29:33.959Z"
   },
   {
    "duration": 24,
    "start_time": "2022-02-22T16:29:33.980Z"
   },
   {
    "duration": 289,
    "start_time": "2022-02-22T16:29:34.005Z"
   },
   {
    "duration": -1196,
    "start_time": "2022-02-22T16:29:35.491Z"
   },
   {
    "duration": -1196,
    "start_time": "2022-02-22T16:29:35.492Z"
   },
   {
    "duration": 350,
    "start_time": "2022-02-22T16:30:03.654Z"
   },
   {
    "duration": 221,
    "start_time": "2022-02-22T16:30:27.436Z"
   },
   {
    "duration": 71930,
    "start_time": "2022-02-22T16:34:02.463Z"
   },
   {
    "duration": 551,
    "start_time": "2022-02-22T16:35:25.195Z"
   },
   {
    "duration": 428,
    "start_time": "2022-02-22T16:35:41.836Z"
   },
   {
    "duration": 47447,
    "start_time": "2022-02-22T16:36:47.035Z"
   },
   {
    "duration": 451,
    "start_time": "2022-02-22T16:47:49.081Z"
   },
   {
    "duration": 191,
    "start_time": "2022-02-22T16:48:28.260Z"
   },
   {
    "duration": 79,
    "start_time": "2022-02-22T16:49:21.569Z"
   },
   {
    "duration": 192,
    "start_time": "2022-02-22T16:49:41.160Z"
   },
   {
    "duration": 183,
    "start_time": "2022-02-22T16:49:51.243Z"
   },
   {
    "duration": 6042,
    "start_time": "2022-02-22T16:51:16.084Z"
   },
   {
    "duration": 333,
    "start_time": "2022-02-22T16:51:48.814Z"
   },
   {
    "duration": 6558,
    "start_time": "2022-02-22T16:52:02.444Z"
   },
   {
    "duration": 15,
    "start_time": "2022-02-22T16:52:21.649Z"
   },
   {
    "duration": 16,
    "start_time": "2022-02-22T16:52:30.974Z"
   },
   {
    "duration": 5896,
    "start_time": "2022-02-22T16:53:09.464Z"
   },
   {
    "duration": 278,
    "start_time": "2022-02-22T16:54:34.044Z"
   },
   {
    "duration": 291,
    "start_time": "2022-02-22T16:55:05.091Z"
   },
   {
    "duration": 260,
    "start_time": "2022-02-22T16:55:13.364Z"
   },
   {
    "duration": 181,
    "start_time": "2022-02-22T16:55:52.143Z"
   },
   {
    "duration": 302,
    "start_time": "2022-02-22T16:56:38.894Z"
   },
   {
    "duration": 319,
    "start_time": "2022-02-22T16:57:00.366Z"
   },
   {
    "duration": 183,
    "start_time": "2022-02-22T16:58:44.016Z"
   },
   {
    "duration": 440,
    "start_time": "2022-02-22T16:59:10.805Z"
   },
   {
    "duration": 26,
    "start_time": "2022-02-22T16:59:58.385Z"
   },
   {
    "duration": 509,
    "start_time": "2022-02-22T17:02:01.903Z"
   },
   {
    "duration": 2360,
    "start_time": "2022-02-22T17:02:30.061Z"
   },
   {
    "duration": 254,
    "start_time": "2022-02-22T17:02:42.664Z"
   },
   {
    "duration": 251,
    "start_time": "2022-02-22T17:03:02.281Z"
   },
   {
    "duration": 256,
    "start_time": "2022-02-22T17:03:16.152Z"
   },
   {
    "duration": 313,
    "start_time": "2022-02-22T17:07:11.237Z"
   },
   {
    "duration": 276,
    "start_time": "2022-02-22T17:10:02.010Z"
   },
   {
    "duration": 267,
    "start_time": "2022-02-22T17:11:13.527Z"
   },
   {
    "duration": 257,
    "start_time": "2022-02-22T17:11:25.070Z"
   },
   {
    "duration": 255,
    "start_time": "2022-02-22T17:11:37.051Z"
   },
   {
    "duration": 269,
    "start_time": "2022-02-22T17:12:57.078Z"
   },
   {
    "duration": 326,
    "start_time": "2022-02-22T17:13:28.998Z"
   },
   {
    "duration": 2545,
    "start_time": "2022-02-22T17:14:07.638Z"
   },
   {
    "duration": 4,
    "start_time": "2022-02-22T17:14:10.186Z"
   },
   {
    "duration": 58,
    "start_time": "2022-02-22T17:14:10.192Z"
   },
   {
    "duration": 15,
    "start_time": "2022-02-22T17:14:10.252Z"
   },
   {
    "duration": 21,
    "start_time": "2022-02-22T17:14:10.269Z"
   },
   {
    "duration": 26,
    "start_time": "2022-02-22T17:14:10.292Z"
   },
   {
    "duration": 19,
    "start_time": "2022-02-22T17:14:10.320Z"
   },
   {
    "duration": 19,
    "start_time": "2022-02-22T17:14:10.341Z"
   },
   {
    "duration": 205,
    "start_time": "2022-02-22T17:14:10.364Z"
   },
   {
    "duration": 21,
    "start_time": "2022-02-22T17:14:10.572Z"
   },
   {
    "duration": 12,
    "start_time": "2022-02-22T17:14:10.595Z"
   },
   {
    "duration": 13,
    "start_time": "2022-02-22T17:14:10.610Z"
   },
   {
    "duration": 12,
    "start_time": "2022-02-22T17:14:10.625Z"
   },
   {
    "duration": 19,
    "start_time": "2022-02-22T17:14:10.639Z"
   },
   {
    "duration": 7,
    "start_time": "2022-02-22T17:14:10.661Z"
   },
   {
    "duration": 6,
    "start_time": "2022-02-22T17:14:10.670Z"
   },
   {
    "duration": 25,
    "start_time": "2022-02-22T17:14:10.678Z"
   },
   {
    "duration": 339,
    "start_time": "2022-02-22T17:14:10.705Z"
   },
   {
    "duration": 263,
    "start_time": "2022-02-22T17:14:11.046Z"
   },
   {
    "duration": 270,
    "start_time": "2022-02-22T17:14:11.311Z"
   },
   {
    "duration": 295,
    "start_time": "2022-02-22T17:14:11.583Z"
   },
   {
    "duration": 2398,
    "start_time": "2022-02-22T17:58:53.912Z"
   },
   {
    "duration": 5,
    "start_time": "2022-02-22T17:58:56.313Z"
   },
   {
    "duration": 47,
    "start_time": "2022-02-22T17:58:56.320Z"
   },
   {
    "duration": 14,
    "start_time": "2022-02-22T17:58:56.369Z"
   },
   {
    "duration": 14,
    "start_time": "2022-02-22T17:58:56.385Z"
   },
   {
    "duration": 24,
    "start_time": "2022-02-22T17:58:56.401Z"
   },
   {
    "duration": 3,
    "start_time": "2022-02-22T17:58:56.427Z"
   },
   {
    "duration": 12,
    "start_time": "2022-02-22T17:58:56.433Z"
   },
   {
    "duration": 10,
    "start_time": "2022-02-22T17:58:56.447Z"
   },
   {
    "duration": 5,
    "start_time": "2022-02-22T17:58:56.458Z"
   },
   {
    "duration": 12,
    "start_time": "2022-02-22T17:58:56.464Z"
   },
   {
    "duration": 8,
    "start_time": "2022-02-22T17:58:56.478Z"
   },
   {
    "duration": 8,
    "start_time": "2022-02-22T17:58:56.519Z"
   },
   {
    "duration": 16,
    "start_time": "2022-02-22T17:58:56.529Z"
   },
   {
    "duration": 597,
    "start_time": "2022-02-22T17:58:56.547Z"
   },
   {
    "duration": -1394,
    "start_time": "2022-02-22T17:58:58.541Z"
   },
   {
    "duration": -1394,
    "start_time": "2022-02-22T17:58:58.543Z"
   },
   {
    "duration": -1397,
    "start_time": "2022-02-22T17:58:58.547Z"
   },
   {
    "duration": -1531,
    "start_time": "2022-02-22T17:58:58.683Z"
   },
   {
    "duration": -1536,
    "start_time": "2022-02-22T17:58:58.689Z"
   },
   {
    "duration": -1540,
    "start_time": "2022-02-22T17:58:58.695Z"
   },
   {
    "duration": 322,
    "start_time": "2022-02-22T17:59:13.162Z"
   },
   {
    "duration": 270,
    "start_time": "2022-02-22T17:59:55.608Z"
   },
   {
    "duration": 720,
    "start_time": "2022-02-22T18:00:05.748Z"
   },
   {
    "duration": 3,
    "start_time": "2022-02-22T18:00:22.873Z"
   },
   {
    "duration": 17,
    "start_time": "2022-02-22T18:00:25.301Z"
   },
   {
    "duration": 338,
    "start_time": "2022-02-22T18:00:29.349Z"
   },
   {
    "duration": 422,
    "start_time": "2022-02-22T18:02:33.749Z"
   },
   {
    "duration": 291,
    "start_time": "2022-02-22T18:02:42.293Z"
   },
   {
    "duration": 288,
    "start_time": "2022-02-22T18:02:45.128Z"
   },
   {
    "duration": 274,
    "start_time": "2022-02-22T18:03:24.106Z"
   },
   {
    "duration": 286,
    "start_time": "2022-02-22T18:09:02.828Z"
   },
   {
    "duration": 8,
    "start_time": "2022-02-22T18:09:20.560Z"
   },
   {
    "duration": 26,
    "start_time": "2022-02-22T18:09:33.221Z"
   },
   {
    "duration": 241,
    "start_time": "2022-02-22T18:11:13.780Z"
   },
   {
    "duration": 265,
    "start_time": "2022-02-22T18:15:31.348Z"
   },
   {
    "duration": 281,
    "start_time": "2022-02-22T18:17:23.227Z"
   },
   {
    "duration": 286,
    "start_time": "2022-02-22T18:19:08.792Z"
   },
   {
    "duration": 26,
    "start_time": "2022-02-22T18:20:54.641Z"
   },
   {
    "duration": 264,
    "start_time": "2022-02-22T18:20:59.201Z"
   },
   {
    "duration": 8,
    "start_time": "2022-02-22T18:21:29.411Z"
   },
   {
    "duration": 250,
    "start_time": "2022-02-22T18:21:34.146Z"
   },
   {
    "duration": 8,
    "start_time": "2022-02-22T18:21:40.406Z"
   },
   {
    "duration": 246,
    "start_time": "2022-02-22T18:21:53.346Z"
   },
   {
    "duration": 27,
    "start_time": "2022-02-22T18:22:03.412Z"
   },
   {
    "duration": 16,
    "start_time": "2022-02-22T18:22:10.145Z"
   },
   {
    "duration": 2677,
    "start_time": "2022-02-22T18:22:25.695Z"
   },
   {
    "duration": 4,
    "start_time": "2022-02-22T18:22:28.375Z"
   },
   {
    "duration": 51,
    "start_time": "2022-02-22T18:22:28.382Z"
   },
   {
    "duration": 15,
    "start_time": "2022-02-22T18:22:28.435Z"
   },
   {
    "duration": 22,
    "start_time": "2022-02-22T18:22:28.452Z"
   },
   {
    "duration": 15,
    "start_time": "2022-02-22T18:22:28.476Z"
   },
   {
    "duration": 7,
    "start_time": "2022-02-22T18:22:28.493Z"
   },
   {
    "duration": 28,
    "start_time": "2022-02-22T18:22:28.502Z"
   },
   {
    "duration": 12,
    "start_time": "2022-02-22T18:22:28.533Z"
   },
   {
    "duration": 8,
    "start_time": "2022-02-22T18:22:28.548Z"
   },
   {
    "duration": 12,
    "start_time": "2022-02-22T18:22:28.558Z"
   },
   {
    "duration": 7,
    "start_time": "2022-02-22T18:22:28.572Z"
   },
   {
    "duration": 13,
    "start_time": "2022-02-22T18:22:28.581Z"
   },
   {
    "duration": 43,
    "start_time": "2022-02-22T18:22:28.596Z"
   },
   {
    "duration": 566,
    "start_time": "2022-02-22T18:22:28.641Z"
   },
   {
    "duration": 3,
    "start_time": "2022-02-22T18:22:29.208Z"
   },
   {
    "duration": 18,
    "start_time": "2022-02-22T18:22:29.213Z"
   },
   {
    "duration": 359,
    "start_time": "2022-02-22T18:22:29.233Z"
   },
   {
    "duration": 274,
    "start_time": "2022-02-22T18:22:29.595Z"
   },
   {
    "duration": 517,
    "start_time": "2022-02-22T18:22:29.871Z"
   },
   {
    "duration": 285,
    "start_time": "2022-02-22T18:22:30.390Z"
   },
   {
    "duration": 27,
    "start_time": "2022-02-22T18:22:30.677Z"
   },
   {
    "duration": 243,
    "start_time": "2022-02-22T18:22:30.719Z"
   },
   {
    "duration": 237,
    "start_time": "2022-02-22T18:22:44.123Z"
   },
   {
    "duration": 275,
    "start_time": "2022-02-22T18:23:02.266Z"
   },
   {
    "duration": 24,
    "start_time": "2022-02-22T18:24:22.407Z"
   },
   {
    "duration": 14,
    "start_time": "2022-02-22T18:24:28.045Z"
   },
   {
    "duration": 5856,
    "start_time": "2022-02-22T18:24:54.275Z"
   },
   {
    "duration": 303,
    "start_time": "2022-02-22T18:25:01.824Z"
   },
   {
    "duration": 9,
    "start_time": "2022-02-22T18:29:45.101Z"
   },
   {
    "duration": 266,
    "start_time": "2022-02-22T18:31:11.363Z"
   },
   {
    "duration": 7,
    "start_time": "2022-02-22T18:31:34.184Z"
   },
   {
    "duration": 10,
    "start_time": "2022-02-22T18:40:04.679Z"
   },
   {
    "duration": 290,
    "start_time": "2022-02-22T18:40:30.579Z"
   },
   {
    "duration": 161,
    "start_time": "2022-02-22T18:42:48.559Z"
   },
   {
    "duration": 407,
    "start_time": "2022-02-22T18:55:13.972Z"
   },
   {
    "duration": 9,
    "start_time": "2022-02-22T18:58:47.964Z"
   },
   {
    "duration": 760,
    "start_time": "2022-02-22T18:59:12.244Z"
   },
   {
    "duration": 262,
    "start_time": "2022-02-22T18:59:25.817Z"
   },
   {
    "duration": 238,
    "start_time": "2022-02-22T18:59:49.610Z"
   },
   {
    "duration": 13,
    "start_time": "2022-02-22T19:00:09.744Z"
   },
   {
    "duration": 16,
    "start_time": "2022-02-22T19:00:17.277Z"
   },
   {
    "duration": 223,
    "start_time": "2022-02-22T19:00:46.348Z"
   },
   {
    "duration": 274,
    "start_time": "2022-02-22T19:11:13.690Z"
   },
   {
    "duration": 44,
    "start_time": "2022-02-22T19:11:24.419Z"
   },
   {
    "duration": 254,
    "start_time": "2022-02-22T19:19:39.190Z"
   },
   {
    "duration": 483,
    "start_time": "2022-02-22T19:19:47.350Z"
   },
   {
    "duration": 10,
    "start_time": "2022-02-22T19:25:43.870Z"
   },
   {
    "duration": 15,
    "start_time": "2022-02-22T19:25:51.251Z"
   },
   {
    "duration": 326,
    "start_time": "2022-02-23T16:04:05.093Z"
   },
   {
    "duration": 7486,
    "start_time": "2022-02-23T16:05:05.507Z"
   },
   {
    "duration": 4,
    "start_time": "2022-02-23T16:05:12.995Z"
   },
   {
    "duration": 67,
    "start_time": "2022-02-23T16:05:13.001Z"
   },
   {
    "duration": 17,
    "start_time": "2022-02-23T16:05:13.070Z"
   },
   {
    "duration": 28,
    "start_time": "2022-02-23T16:05:13.089Z"
   },
   {
    "duration": 31,
    "start_time": "2022-02-23T16:05:13.119Z"
   },
   {
    "duration": 31,
    "start_time": "2022-02-23T16:05:13.152Z"
   },
   {
    "duration": 30,
    "start_time": "2022-02-23T16:05:13.185Z"
   },
   {
    "duration": 24,
    "start_time": "2022-02-23T16:05:13.217Z"
   },
   {
    "duration": 9,
    "start_time": "2022-02-23T16:05:13.243Z"
   },
   {
    "duration": 13,
    "start_time": "2022-02-23T16:05:13.254Z"
   },
   {
    "duration": 22,
    "start_time": "2022-02-23T16:05:13.269Z"
   },
   {
    "duration": 22,
    "start_time": "2022-02-23T16:05:13.293Z"
   },
   {
    "duration": 32,
    "start_time": "2022-02-23T16:05:13.316Z"
   },
   {
    "duration": 622,
    "start_time": "2022-02-23T16:05:13.350Z"
   },
   {
    "duration": 4,
    "start_time": "2022-02-23T16:05:13.973Z"
   },
   {
    "duration": 57,
    "start_time": "2022-02-23T16:05:13.978Z"
   },
   {
    "duration": 449,
    "start_time": "2022-02-23T16:05:14.037Z"
   },
   {
    "duration": 324,
    "start_time": "2022-02-23T16:05:14.488Z"
   },
   {
    "duration": 324,
    "start_time": "2022-02-23T16:05:14.814Z"
   },
   {
    "duration": 301,
    "start_time": "2022-02-23T16:05:15.139Z"
   },
   {
    "duration": 6,
    "start_time": "2022-02-23T16:05:15.442Z"
   },
   {
    "duration": 275,
    "start_time": "2022-02-23T16:05:15.450Z"
   },
   {
    "duration": 25,
    "start_time": "2022-02-23T16:05:15.727Z"
   },
   {
    "duration": 706,
    "start_time": "2022-02-23T16:05:15.754Z"
   },
   {
    "duration": 17,
    "start_time": "2022-02-23T16:05:16.462Z"
   },
   {
    "duration": 15,
    "start_time": "2022-02-23T16:05:52.802Z"
   },
   {
    "duration": 950,
    "start_time": "2022-02-23T16:15:36.693Z"
   },
   {
    "duration": 18,
    "start_time": "2022-02-23T16:15:43.007Z"
   },
   {
    "duration": 19,
    "start_time": "2022-02-23T16:16:19.612Z"
   },
   {
    "duration": 20,
    "start_time": "2022-02-23T16:17:12.977Z"
   },
   {
    "duration": 270,
    "start_time": "2022-02-23T16:46:06.350Z"
   },
   {
    "duration": 105,
    "start_time": "2022-02-23T16:46:15.003Z"
   },
   {
    "duration": 4,
    "start_time": "2022-02-23T16:46:31.338Z"
   },
   {
    "duration": 535,
    "start_time": "2022-02-23T16:46:33.368Z"
   },
   {
    "duration": 4,
    "start_time": "2022-02-23T16:48:46.436Z"
   },
   {
    "duration": 523,
    "start_time": "2022-02-23T16:48:49.440Z"
   },
   {
    "duration": 5,
    "start_time": "2022-02-23T16:49:50.194Z"
   },
   {
    "duration": 541,
    "start_time": "2022-02-23T16:49:51.655Z"
   },
   {
    "duration": 3,
    "start_time": "2022-02-23T16:52:24.584Z"
   },
   {
    "duration": 515,
    "start_time": "2022-02-23T16:52:26.930Z"
   },
   {
    "duration": 5,
    "start_time": "2022-02-23T16:53:06.430Z"
   },
   {
    "duration": 537,
    "start_time": "2022-02-23T16:53:08.022Z"
   },
   {
    "duration": 4,
    "start_time": "2022-02-23T16:53:38.287Z"
   },
   {
    "duration": 566,
    "start_time": "2022-02-23T16:53:40.239Z"
   },
   {
    "duration": 4,
    "start_time": "2022-02-23T16:58:55.501Z"
   },
   {
    "duration": 521,
    "start_time": "2022-02-23T16:58:57.063Z"
   },
   {
    "duration": 4,
    "start_time": "2022-02-23T17:00:45.364Z"
   },
   {
    "duration": 525,
    "start_time": "2022-02-23T17:00:47.503Z"
   },
   {
    "duration": 5,
    "start_time": "2022-02-23T17:02:11.528Z"
   },
   {
    "duration": 561,
    "start_time": "2022-02-23T17:02:13.954Z"
   },
   {
    "duration": 4,
    "start_time": "2022-02-23T17:03:43.408Z"
   },
   {
    "duration": 593,
    "start_time": "2022-02-23T17:03:45.213Z"
   },
   {
    "duration": 545,
    "start_time": "2022-02-23T17:04:34.044Z"
   },
   {
    "duration": 5,
    "start_time": "2022-02-23T17:05:05.254Z"
   },
   {
    "duration": 573,
    "start_time": "2022-02-23T17:05:07.108Z"
   },
   {
    "duration": 4,
    "start_time": "2022-02-23T17:05:44.841Z"
   },
   {
    "duration": 545,
    "start_time": "2022-02-23T17:05:46.820Z"
   },
   {
    "duration": 3,
    "start_time": "2022-02-23T17:05:54.690Z"
   },
   {
    "duration": 3823,
    "start_time": "2022-02-23T17:05:56.275Z"
   },
   {
    "duration": 4,
    "start_time": "2022-02-23T17:08:26.798Z"
   },
   {
    "duration": 3848,
    "start_time": "2022-02-23T17:08:31.962Z"
   },
   {
    "duration": 3712,
    "start_time": "2022-02-23T17:09:03.252Z"
   },
   {
    "duration": 258,
    "start_time": "2022-02-23T17:10:30.606Z"
   },
   {
    "duration": 3705,
    "start_time": "2022-02-23T17:11:10.317Z"
   },
   {
    "duration": 3752,
    "start_time": "2022-02-23T17:12:41.352Z"
   },
   {
    "duration": 5,
    "start_time": "2022-02-23T17:23:18.599Z"
   },
   {
    "duration": 250,
    "start_time": "2022-02-23T17:23:52.224Z"
   },
   {
    "duration": 3588,
    "start_time": "2022-02-23T17:24:22.467Z"
   },
   {
    "duration": 3683,
    "start_time": "2022-02-23T17:24:52.325Z"
   },
   {
    "duration": 4,
    "start_time": "2022-02-23T17:25:16.963Z"
   },
   {
    "duration": 3953,
    "start_time": "2022-02-23T17:25:19.273Z"
   },
   {
    "duration": 88,
    "start_time": "2022-02-23T17:26:49.401Z"
   },
   {
    "duration": 90,
    "start_time": "2022-02-23T17:27:03.221Z"
   },
   {
    "duration": 82,
    "start_time": "2022-02-23T17:27:12.264Z"
   },
   {
    "duration": 91,
    "start_time": "2022-02-23T17:27:40.764Z"
   },
   {
    "duration": 100,
    "start_time": "2022-02-23T17:28:04.281Z"
   },
   {
    "duration": 739,
    "start_time": "2022-02-23T17:33:09.615Z"
   },
   {
    "duration": 3851,
    "start_time": "2022-02-23T17:33:33.970Z"
   },
   {
    "duration": 87,
    "start_time": "2022-02-23T17:35:00.764Z"
   },
   {
    "duration": 363,
    "start_time": "2022-02-23T17:36:15.300Z"
   },
   {
    "duration": 14,
    "start_time": "2022-02-23T17:38:30.966Z"
   },
   {
    "duration": 13,
    "start_time": "2022-02-23T17:39:11.121Z"
   },
   {
    "duration": 16,
    "start_time": "2022-02-23T17:39:19.600Z"
   },
   {
    "duration": 257,
    "start_time": "2022-02-23T17:41:40.789Z"
   },
   {
    "duration": 23,
    "start_time": "2022-02-23T17:41:59.369Z"
   },
   {
    "duration": 2062,
    "start_time": "2022-02-23T17:42:53.061Z"
   },
   {
    "duration": 19,
    "start_time": "2022-02-23T17:43:18.267Z"
   },
   {
    "duration": 8,
    "start_time": "2022-02-23T17:43:24.288Z"
   },
   {
    "duration": 1948,
    "start_time": "2022-02-23T17:44:21.580Z"
   },
   {
    "duration": 1783,
    "start_time": "2022-02-23T17:44:41.682Z"
   },
   {
    "duration": 1929,
    "start_time": "2022-02-23T17:47:34.300Z"
   },
   {
    "duration": 1878,
    "start_time": "2022-02-23T17:50:12.367Z"
   },
   {
    "duration": 6,
    "start_time": "2022-02-23T17:51:28.933Z"
   },
   {
    "duration": 802,
    "start_time": "2022-02-23T17:51:42.678Z"
   },
   {
    "duration": 4,
    "start_time": "2022-02-23T17:52:41.195Z"
   },
   {
    "duration": 934,
    "start_time": "2022-02-23T17:53:07.907Z"
   },
   {
    "duration": 19,
    "start_time": "2022-02-23T17:53:29.339Z"
   },
   {
    "duration": 854,
    "start_time": "2022-02-23T17:53:38.321Z"
   },
   {
    "duration": 788,
    "start_time": "2022-02-23T17:54:18.165Z"
   },
   {
    "duration": 31,
    "start_time": "2022-02-23T17:54:44.445Z"
   },
   {
    "duration": 7,
    "start_time": "2022-02-23T17:54:50.909Z"
   },
   {
    "duration": 291,
    "start_time": "2022-02-23T17:55:02.244Z"
   },
   {
    "duration": 22,
    "start_time": "2022-02-23T17:55:18.122Z"
   },
   {
    "duration": 93,
    "start_time": "2022-02-23T17:56:21.606Z"
   },
   {
    "duration": 86,
    "start_time": "2022-02-23T17:56:37.406Z"
   },
   {
    "duration": 105,
    "start_time": "2022-02-23T17:56:51.954Z"
   },
   {
    "duration": 84,
    "start_time": "2022-02-23T17:57:06.383Z"
   },
   {
    "duration": 84,
    "start_time": "2022-02-23T17:57:37.621Z"
   },
   {
    "duration": 3,
    "start_time": "2022-02-23T17:57:59.829Z"
   },
   {
    "duration": 4,
    "start_time": "2022-02-23T18:01:57.860Z"
   },
   {
    "duration": 1147,
    "start_time": "2022-02-23T18:03:02.709Z"
   },
   {
    "duration": 20,
    "start_time": "2022-02-23T18:03:39.571Z"
   },
   {
    "duration": 7,
    "start_time": "2022-02-23T18:03:46.822Z"
   },
   {
    "duration": 3,
    "start_time": "2022-02-23T18:04:00.597Z"
   },
   {
    "duration": 8,
    "start_time": "2022-02-23T18:04:02.963Z"
   },
   {
    "duration": 10,
    "start_time": "2022-02-23T18:04:34.265Z"
   },
   {
    "duration": 19,
    "start_time": "2022-02-23T18:04:39.770Z"
   },
   {
    "duration": 6,
    "start_time": "2022-02-23T18:05:06.760Z"
   },
   {
    "duration": 6,
    "start_time": "2022-02-23T18:05:29.806Z"
   },
   {
    "duration": 1759,
    "start_time": "2022-02-23T18:05:53.041Z"
   },
   {
    "duration": 1121,
    "start_time": "2022-02-23T18:05:59.451Z"
   },
   {
    "duration": 336,
    "start_time": "2022-02-23T18:07:10.445Z"
   },
   {
    "duration": 6,
    "start_time": "2022-02-23T18:07:19.893Z"
   },
   {
    "duration": 7,
    "start_time": "2022-02-23T18:07:27.695Z"
   },
   {
    "duration": 853,
    "start_time": "2022-02-23T18:07:35.286Z"
   },
   {
    "duration": 642,
    "start_time": "2022-02-23T18:14:10.284Z"
   },
   {
    "duration": 598,
    "start_time": "2022-02-23T18:14:28.110Z"
   },
   {
    "duration": 277,
    "start_time": "2022-02-23T18:16:43.968Z"
   },
   {
    "duration": 7555,
    "start_time": "2022-02-23T18:17:00.590Z"
   },
   {
    "duration": 4,
    "start_time": "2022-02-23T18:17:08.148Z"
   },
   {
    "duration": 48,
    "start_time": "2022-02-23T18:17:08.155Z"
   },
   {
    "duration": 17,
    "start_time": "2022-02-23T18:17:08.205Z"
   },
   {
    "duration": 20,
    "start_time": "2022-02-23T18:17:08.224Z"
   },
   {
    "duration": 27,
    "start_time": "2022-02-23T18:17:08.246Z"
   },
   {
    "duration": 5,
    "start_time": "2022-02-23T18:17:08.275Z"
   },
   {
    "duration": 12,
    "start_time": "2022-02-23T18:17:08.283Z"
   },
   {
    "duration": 9,
    "start_time": "2022-02-23T18:17:08.297Z"
   },
   {
    "duration": 4,
    "start_time": "2022-02-23T18:17:08.309Z"
   },
   {
    "duration": 15,
    "start_time": "2022-02-23T18:17:08.315Z"
   },
   {
    "duration": 7,
    "start_time": "2022-02-23T18:17:08.369Z"
   },
   {
    "duration": 9,
    "start_time": "2022-02-23T18:17:08.377Z"
   },
   {
    "duration": 19,
    "start_time": "2022-02-23T18:17:08.388Z"
   },
   {
    "duration": 679,
    "start_time": "2022-02-23T18:17:08.409Z"
   },
   {
    "duration": 3,
    "start_time": "2022-02-23T18:17:09.090Z"
   },
   {
    "duration": 20,
    "start_time": "2022-02-23T18:17:09.094Z"
   },
   {
    "duration": 608,
    "start_time": "2022-02-23T18:17:09.116Z"
   },
   {
    "duration": 337,
    "start_time": "2022-02-23T18:17:09.726Z"
   },
   {
    "duration": 357,
    "start_time": "2022-02-23T18:17:10.066Z"
   },
   {
    "duration": 314,
    "start_time": "2022-02-23T18:17:10.425Z"
   },
   {
    "duration": 7,
    "start_time": "2022-02-23T18:17:10.741Z"
   },
   {
    "duration": 302,
    "start_time": "2022-02-23T18:17:10.752Z"
   },
   {
    "duration": 46,
    "start_time": "2022-02-23T18:17:11.057Z"
   },
   {
    "duration": 619,
    "start_time": "2022-02-23T18:17:11.104Z"
   },
   {
    "duration": 16,
    "start_time": "2022-02-23T18:17:11.724Z"
   },
   {
    "duration": 31,
    "start_time": "2022-02-23T18:17:11.742Z"
   },
   {
    "duration": 4,
    "start_time": "2022-02-23T18:17:11.775Z"
   },
   {
    "duration": 20,
    "start_time": "2022-02-23T18:17:11.780Z"
   },
   {
    "duration": 623,
    "start_time": "2022-02-23T18:17:11.802Z"
   },
   {
    "duration": 5,
    "start_time": "2022-02-23T18:17:49.276Z"
   },
   {
    "duration": 7352,
    "start_time": "2022-02-23T18:17:52.102Z"
   },
   {
    "duration": 4,
    "start_time": "2022-02-23T18:17:59.456Z"
   },
   {
    "duration": 55,
    "start_time": "2022-02-23T18:17:59.462Z"
   },
   {
    "duration": 16,
    "start_time": "2022-02-23T18:17:59.519Z"
   },
   {
    "duration": 52,
    "start_time": "2022-02-23T18:17:59.536Z"
   },
   {
    "duration": 21,
    "start_time": "2022-02-23T18:17:59.590Z"
   },
   {
    "duration": 18,
    "start_time": "2022-02-23T18:17:59.613Z"
   },
   {
    "duration": 19,
    "start_time": "2022-02-23T18:17:59.633Z"
   },
   {
    "duration": 15,
    "start_time": "2022-02-23T18:17:59.655Z"
   },
   {
    "duration": 12,
    "start_time": "2022-02-23T18:17:59.672Z"
   },
   {
    "duration": 61,
    "start_time": "2022-02-23T18:17:59.686Z"
   },
   {
    "duration": 11,
    "start_time": "2022-02-23T18:17:59.749Z"
   },
   {
    "duration": 12,
    "start_time": "2022-02-23T18:17:59.762Z"
   },
   {
    "duration": 27,
    "start_time": "2022-02-23T18:17:59.776Z"
   },
   {
    "duration": 653,
    "start_time": "2022-02-23T18:17:59.804Z"
   },
   {
    "duration": 4,
    "start_time": "2022-02-23T18:18:00.458Z"
   },
   {
    "duration": 21,
    "start_time": "2022-02-23T18:18:00.464Z"
   },
   {
    "duration": 595,
    "start_time": "2022-02-23T18:18:00.487Z"
   },
   {
    "duration": 355,
    "start_time": "2022-02-23T18:18:01.085Z"
   },
   {
    "duration": 370,
    "start_time": "2022-02-23T18:18:01.443Z"
   },
   {
    "duration": 343,
    "start_time": "2022-02-23T18:18:01.816Z"
   },
   {
    "duration": 13,
    "start_time": "2022-02-23T18:18:02.161Z"
   },
   {
    "duration": 300,
    "start_time": "2022-02-23T18:18:02.176Z"
   },
   {
    "duration": 27,
    "start_time": "2022-02-23T18:18:02.478Z"
   },
   {
    "duration": 610,
    "start_time": "2022-02-23T18:18:02.507Z"
   },
   {
    "duration": 16,
    "start_time": "2022-02-23T18:18:03.119Z"
   },
   {
    "duration": 31,
    "start_time": "2022-02-23T18:18:03.139Z"
   },
   {
    "duration": 5,
    "start_time": "2022-02-23T18:18:03.172Z"
   },
   {
    "duration": 35,
    "start_time": "2022-02-23T18:18:03.179Z"
   },
   {
    "duration": 293,
    "start_time": "2022-02-23T18:18:03.216Z"
   },
   {
    "duration": 289,
    "start_time": "2022-02-23T18:19:04.747Z"
   },
   {
    "duration": 290,
    "start_time": "2022-02-23T18:19:44.009Z"
   },
   {
    "duration": 400,
    "start_time": "2022-02-23T18:21:26.134Z"
   },
   {
    "duration": 7353,
    "start_time": "2022-02-23T18:21:57.030Z"
   },
   {
    "duration": 5,
    "start_time": "2022-02-23T18:22:04.386Z"
   },
   {
    "duration": 78,
    "start_time": "2022-02-23T18:22:04.393Z"
   },
   {
    "duration": 16,
    "start_time": "2022-02-23T18:22:04.474Z"
   },
   {
    "duration": 32,
    "start_time": "2022-02-23T18:22:04.492Z"
   },
   {
    "duration": 41,
    "start_time": "2022-02-23T18:22:04.525Z"
   },
   {
    "duration": 30,
    "start_time": "2022-02-23T18:22:04.568Z"
   },
   {
    "duration": 49,
    "start_time": "2022-02-23T18:22:04.600Z"
   },
   {
    "duration": 36,
    "start_time": "2022-02-23T18:22:04.651Z"
   },
   {
    "duration": 17,
    "start_time": "2022-02-23T18:22:04.689Z"
   },
   {
    "duration": 67,
    "start_time": "2022-02-23T18:22:04.708Z"
   },
   {
    "duration": 20,
    "start_time": "2022-02-23T18:22:04.777Z"
   },
   {
    "duration": 39,
    "start_time": "2022-02-23T18:22:04.799Z"
   },
   {
    "duration": 37,
    "start_time": "2022-02-23T18:22:04.840Z"
   },
   {
    "duration": 634,
    "start_time": "2022-02-23T18:22:04.878Z"
   },
   {
    "duration": 3,
    "start_time": "2022-02-23T18:22:05.514Z"
   },
   {
    "duration": 40,
    "start_time": "2022-02-23T18:22:05.519Z"
   },
   {
    "duration": 602,
    "start_time": "2022-02-23T18:22:05.560Z"
   },
   {
    "duration": 330,
    "start_time": "2022-02-23T18:22:06.163Z"
   },
   {
    "duration": 336,
    "start_time": "2022-02-23T18:22:06.495Z"
   },
   {
    "duration": 331,
    "start_time": "2022-02-23T18:22:06.833Z"
   },
   {
    "duration": 8,
    "start_time": "2022-02-23T18:22:07.169Z"
   },
   {
    "duration": 283,
    "start_time": "2022-02-23T18:22:07.180Z"
   },
   {
    "duration": 25,
    "start_time": "2022-02-23T18:22:07.468Z"
   },
   {
    "duration": 588,
    "start_time": "2022-02-23T18:22:07.495Z"
   },
   {
    "duration": 16,
    "start_time": "2022-02-23T18:22:08.085Z"
   },
   {
    "duration": 12,
    "start_time": "2022-02-23T18:22:08.102Z"
   },
   {
    "duration": 5,
    "start_time": "2022-02-23T18:22:08.116Z"
   },
   {
    "duration": 47,
    "start_time": "2022-02-23T18:22:08.122Z"
   },
   {
    "duration": 393,
    "start_time": "2022-02-23T18:22:08.171Z"
   },
   {
    "duration": 402,
    "start_time": "2022-02-23T18:23:00.587Z"
   },
   {
    "duration": 612,
    "start_time": "2022-02-23T18:24:17.701Z"
   },
   {
    "duration": 5,
    "start_time": "2022-02-23T18:25:43.247Z"
   },
   {
    "duration": 522,
    "start_time": "2022-02-23T18:25:45.546Z"
   },
   {
    "duration": 12,
    "start_time": "2022-02-23T18:26:51.576Z"
   },
   {
    "duration": 17,
    "start_time": "2022-02-23T18:27:11.214Z"
   },
   {
    "duration": 717,
    "start_time": "2022-02-23T18:27:26.192Z"
   },
   {
    "duration": 200,
    "start_time": "2022-02-23T18:30:07.487Z"
   },
   {
    "duration": 17,
    "start_time": "2022-02-23T18:30:25.290Z"
   },
   {
    "duration": 198,
    "start_time": "2022-02-23T18:30:29.233Z"
   },
   {
    "duration": 17,
    "start_time": "2022-02-23T18:31:13.428Z"
   },
   {
    "duration": 210,
    "start_time": "2022-02-23T18:31:15.500Z"
   },
   {
    "duration": 7606,
    "start_time": "2022-02-23T18:32:23.973Z"
   },
   {
    "duration": 4,
    "start_time": "2022-02-23T18:32:31.581Z"
   },
   {
    "duration": 49,
    "start_time": "2022-02-23T18:32:31.587Z"
   },
   {
    "duration": 16,
    "start_time": "2022-02-23T18:32:31.638Z"
   },
   {
    "duration": 18,
    "start_time": "2022-02-23T18:32:31.656Z"
   },
   {
    "duration": 12,
    "start_time": "2022-02-23T18:32:31.676Z"
   },
   {
    "duration": 5,
    "start_time": "2022-02-23T18:32:31.690Z"
   },
   {
    "duration": 23,
    "start_time": "2022-02-23T18:32:31.698Z"
   },
   {
    "duration": 16,
    "start_time": "2022-02-23T18:32:31.724Z"
   },
   {
    "duration": 5,
    "start_time": "2022-02-23T18:32:31.742Z"
   },
   {
    "duration": 28,
    "start_time": "2022-02-23T18:32:31.749Z"
   },
   {
    "duration": 6,
    "start_time": "2022-02-23T18:32:31.779Z"
   },
   {
    "duration": 6,
    "start_time": "2022-02-23T18:32:31.787Z"
   },
   {
    "duration": 19,
    "start_time": "2022-02-23T18:32:31.795Z"
   },
   {
    "duration": 811,
    "start_time": "2022-02-23T18:32:31.816Z"
   },
   {
    "duration": 3,
    "start_time": "2022-02-23T18:32:32.629Z"
   },
   {
    "duration": 14,
    "start_time": "2022-02-23T18:32:32.635Z"
   },
   {
    "duration": 398,
    "start_time": "2022-02-23T18:32:32.651Z"
   },
   {
    "duration": 344,
    "start_time": "2022-02-23T18:32:33.052Z"
   },
   {
    "duration": 344,
    "start_time": "2022-02-23T18:32:33.398Z"
   },
   {
    "duration": 325,
    "start_time": "2022-02-23T18:32:33.744Z"
   },
   {
    "duration": 7,
    "start_time": "2022-02-23T18:32:34.071Z"
   },
   {
    "duration": 287,
    "start_time": "2022-02-23T18:32:34.082Z"
   },
   {
    "duration": 25,
    "start_time": "2022-02-23T18:32:34.371Z"
   },
   {
    "duration": 607,
    "start_time": "2022-02-23T18:32:34.398Z"
   },
   {
    "duration": 16,
    "start_time": "2022-02-23T18:32:35.007Z"
   },
   {
    "duration": 15,
    "start_time": "2022-02-23T18:32:35.025Z"
   },
   {
    "duration": 5,
    "start_time": "2022-02-23T18:32:35.042Z"
   },
   {
    "duration": 18,
    "start_time": "2022-02-23T18:32:35.070Z"
   },
   {
    "duration": 211,
    "start_time": "2022-02-23T18:32:35.090Z"
   },
   {
    "duration": 12,
    "start_time": "2022-02-23T18:32:59.595Z"
   },
   {
    "duration": 20,
    "start_time": "2022-02-23T18:33:22.353Z"
   },
   {
    "duration": 18,
    "start_time": "2022-02-23T18:33:46.299Z"
   },
   {
    "duration": 25,
    "start_time": "2022-02-23T18:34:01.691Z"
   },
   {
    "duration": 4,
    "start_time": "2022-02-23T18:34:28.524Z"
   },
   {
    "duration": 599,
    "start_time": "2022-02-23T18:36:11.386Z"
   },
   {
    "duration": 5,
    "start_time": "2022-02-23T18:36:20.137Z"
   },
   {
    "duration": 6081,
    "start_time": "2022-02-23T18:36:21.807Z"
   },
   {
    "duration": 257,
    "start_time": "2022-02-23T18:44:38.097Z"
   },
   {
    "duration": 7426,
    "start_time": "2022-02-23T18:45:09.251Z"
   },
   {
    "duration": 4,
    "start_time": "2022-02-23T18:45:16.679Z"
   },
   {
    "duration": 51,
    "start_time": "2022-02-23T18:45:16.685Z"
   },
   {
    "duration": 21,
    "start_time": "2022-02-23T18:45:16.738Z"
   },
   {
    "duration": 25,
    "start_time": "2022-02-23T18:45:16.761Z"
   },
   {
    "duration": 11,
    "start_time": "2022-02-23T18:45:16.788Z"
   },
   {
    "duration": 5,
    "start_time": "2022-02-23T18:45:16.801Z"
   },
   {
    "duration": 15,
    "start_time": "2022-02-23T18:45:16.809Z"
   },
   {
    "duration": 9,
    "start_time": "2022-02-23T18:45:16.826Z"
   },
   {
    "duration": 5,
    "start_time": "2022-02-23T18:45:16.836Z"
   },
   {
    "duration": 35,
    "start_time": "2022-02-23T18:45:16.842Z"
   },
   {
    "duration": 17,
    "start_time": "2022-02-23T18:45:16.879Z"
   },
   {
    "duration": 9,
    "start_time": "2022-02-23T18:45:16.898Z"
   },
   {
    "duration": 17,
    "start_time": "2022-02-23T18:45:16.909Z"
   },
   {
    "duration": 661,
    "start_time": "2022-02-23T18:45:16.928Z"
   },
   {
    "duration": 4,
    "start_time": "2022-02-23T18:45:17.590Z"
   },
   {
    "duration": 20,
    "start_time": "2022-02-23T18:45:17.595Z"
   },
   {
    "duration": 381,
    "start_time": "2022-02-23T18:45:17.616Z"
   },
   {
    "duration": 515,
    "start_time": "2022-02-23T18:45:17.999Z"
   },
   {
    "duration": 337,
    "start_time": "2022-02-23T18:45:18.516Z"
   },
   {
    "duration": 324,
    "start_time": "2022-02-23T18:45:18.855Z"
   },
   {
    "duration": 7,
    "start_time": "2022-02-23T18:45:19.181Z"
   },
   {
    "duration": 283,
    "start_time": "2022-02-23T18:45:19.191Z"
   },
   {
    "duration": 27,
    "start_time": "2022-02-23T18:45:19.476Z"
   },
   {
    "duration": 589,
    "start_time": "2022-02-23T18:45:19.505Z"
   },
   {
    "duration": 16,
    "start_time": "2022-02-23T18:45:20.096Z"
   },
   {
    "duration": 12,
    "start_time": "2022-02-23T18:45:20.114Z"
   },
   {
    "duration": 3621,
    "start_time": "2022-02-23T18:45:20.128Z"
   },
   {
    "duration": -1049,
    "start_time": "2022-02-23T18:45:24.800Z"
   },
   {
    "duration": 311,
    "start_time": "2022-02-23T18:45:28.564Z"
   },
   {
    "duration": 295,
    "start_time": "2022-02-23T18:45:57.164Z"
   },
   {
    "duration": 275,
    "start_time": "2022-02-23T18:46:24.368Z"
   },
   {
    "duration": 7453,
    "start_time": "2022-02-23T18:49:43.284Z"
   },
   {
    "duration": 4,
    "start_time": "2022-02-23T18:49:50.739Z"
   },
   {
    "duration": 55,
    "start_time": "2022-02-23T18:49:50.745Z"
   },
   {
    "duration": 16,
    "start_time": "2022-02-23T18:49:50.802Z"
   },
   {
    "duration": 20,
    "start_time": "2022-02-23T18:49:50.819Z"
   },
   {
    "duration": 17,
    "start_time": "2022-02-23T18:49:50.841Z"
   },
   {
    "duration": 6,
    "start_time": "2022-02-23T18:49:50.869Z"
   },
   {
    "duration": 23,
    "start_time": "2022-02-23T18:49:50.878Z"
   },
   {
    "duration": 11,
    "start_time": "2022-02-23T18:49:50.904Z"
   },
   {
    "duration": 10,
    "start_time": "2022-02-23T18:49:50.917Z"
   },
   {
    "duration": 18,
    "start_time": "2022-02-23T18:49:50.929Z"
   },
   {
    "duration": 21,
    "start_time": "2022-02-23T18:49:50.949Z"
   },
   {
    "duration": 7,
    "start_time": "2022-02-23T18:49:50.972Z"
   },
   {
    "duration": 22,
    "start_time": "2022-02-23T18:49:50.980Z"
   },
   {
    "duration": 661,
    "start_time": "2022-02-23T18:49:51.004Z"
   },
   {
    "duration": 3,
    "start_time": "2022-02-23T18:49:51.669Z"
   },
   {
    "duration": 18,
    "start_time": "2022-02-23T18:49:51.674Z"
   },
   {
    "duration": 410,
    "start_time": "2022-02-23T18:49:51.694Z"
   },
   {
    "duration": 323,
    "start_time": "2022-02-23T18:49:52.105Z"
   },
   {
    "duration": 323,
    "start_time": "2022-02-23T18:49:52.430Z"
   },
   {
    "duration": 326,
    "start_time": "2022-02-23T18:49:52.755Z"
   },
   {
    "duration": 8,
    "start_time": "2022-02-23T18:49:53.082Z"
   },
   {
    "duration": 275,
    "start_time": "2022-02-23T18:49:53.094Z"
   },
   {
    "duration": 26,
    "start_time": "2022-02-23T18:49:53.371Z"
   },
   {
    "duration": 800,
    "start_time": "2022-02-23T18:49:53.399Z"
   },
   {
    "duration": 15,
    "start_time": "2022-02-23T18:49:54.200Z"
   },
   {
    "duration": 4,
    "start_time": "2022-02-23T18:49:54.216Z"
   },
   {
    "duration": 4254,
    "start_time": "2022-02-23T18:49:54.222Z"
   },
   {
    "duration": -1080,
    "start_time": "2022-02-23T18:49:59.558Z"
   },
   {
    "duration": 7,
    "start_time": "2022-02-23T18:51:12.280Z"
   },
   {
    "duration": 13,
    "start_time": "2022-02-23T18:51:24.632Z"
   },
   {
    "duration": 14,
    "start_time": "2022-02-23T18:52:35.550Z"
   },
   {
    "duration": 308,
    "start_time": "2022-02-23T18:54:00.455Z"
   },
   {
    "duration": 12,
    "start_time": "2022-02-23T18:54:33.386Z"
   },
   {
    "duration": 12,
    "start_time": "2022-02-23T18:54:37.113Z"
   },
   {
    "duration": 16,
    "start_time": "2022-02-23T18:58:19.426Z"
   },
   {
    "duration": 11,
    "start_time": "2022-02-23T18:58:49.900Z"
   },
   {
    "duration": 12,
    "start_time": "2022-02-23T18:58:56.183Z"
   },
   {
    "duration": 272,
    "start_time": "2022-02-23T18:59:30.725Z"
   },
   {
    "duration": 12,
    "start_time": "2022-02-23T18:59:46.384Z"
   },
   {
    "duration": 12,
    "start_time": "2022-02-23T19:00:06.955Z"
   },
   {
    "duration": 12,
    "start_time": "2022-02-23T19:01:18.141Z"
   },
   {
    "duration": 12,
    "start_time": "2022-02-23T19:01:45.579Z"
   },
   {
    "duration": 13,
    "start_time": "2022-02-23T19:02:14.509Z"
   },
   {
    "duration": 23,
    "start_time": "2022-02-23T19:07:20.160Z"
   },
   {
    "duration": 13,
    "start_time": "2022-02-23T19:07:41.239Z"
   },
   {
    "duration": 14,
    "start_time": "2022-02-23T19:07:49.499Z"
   },
   {
    "duration": 13,
    "start_time": "2022-02-23T19:10:45.525Z"
   },
   {
    "duration": 20,
    "start_time": "2022-02-23T19:10:59.758Z"
   },
   {
    "duration": 13,
    "start_time": "2022-02-23T19:11:06.864Z"
   },
   {
    "duration": 268,
    "start_time": "2022-02-23T19:11:27.474Z"
   },
   {
    "duration": 13,
    "start_time": "2022-02-23T19:12:10.841Z"
   },
   {
    "duration": 281,
    "start_time": "2022-02-23T19:12:22.041Z"
   },
   {
    "duration": 384,
    "start_time": "2022-02-23T19:13:00.776Z"
   },
   {
    "duration": 18,
    "start_time": "2022-02-23T19:13:14.076Z"
   },
   {
    "duration": 14,
    "start_time": "2022-02-23T19:13:25.099Z"
   },
   {
    "duration": 12,
    "start_time": "2022-02-23T19:13:37.833Z"
   },
   {
    "duration": 13,
    "start_time": "2022-02-23T19:13:42.742Z"
   },
   {
    "duration": 12,
    "start_time": "2022-02-23T19:14:28.255Z"
   },
   {
    "duration": 12,
    "start_time": "2022-02-23T19:18:28.555Z"
   },
   {
    "duration": 7421,
    "start_time": "2022-02-23T19:19:04.437Z"
   },
   {
    "duration": 4,
    "start_time": "2022-02-23T19:19:11.860Z"
   },
   {
    "duration": 56,
    "start_time": "2022-02-23T19:19:11.866Z"
   },
   {
    "duration": 17,
    "start_time": "2022-02-23T19:19:11.924Z"
   },
   {
    "duration": 20,
    "start_time": "2022-02-23T19:19:11.943Z"
   },
   {
    "duration": 12,
    "start_time": "2022-02-23T19:19:11.965Z"
   },
   {
    "duration": 6,
    "start_time": "2022-02-23T19:19:11.979Z"
   },
   {
    "duration": 13,
    "start_time": "2022-02-23T19:19:11.988Z"
   },
   {
    "duration": 9,
    "start_time": "2022-02-23T19:19:12.003Z"
   },
   {
    "duration": 4,
    "start_time": "2022-02-23T19:19:12.014Z"
   },
   {
    "duration": 11,
    "start_time": "2022-02-23T19:19:12.020Z"
   },
   {
    "duration": 37,
    "start_time": "2022-02-23T19:19:12.033Z"
   },
   {
    "duration": 8,
    "start_time": "2022-02-23T19:19:12.072Z"
   },
   {
    "duration": 25,
    "start_time": "2022-02-23T19:19:12.081Z"
   },
   {
    "duration": 669,
    "start_time": "2022-02-23T19:19:12.107Z"
   },
   {
    "duration": 3,
    "start_time": "2022-02-23T19:19:12.778Z"
   },
   {
    "duration": 18,
    "start_time": "2022-02-23T19:19:12.783Z"
   },
   {
    "duration": 385,
    "start_time": "2022-02-23T19:19:12.802Z"
   },
   {
    "duration": 310,
    "start_time": "2022-02-23T19:19:13.190Z"
   },
   {
    "duration": 320,
    "start_time": "2022-02-23T19:19:13.502Z"
   },
   {
    "duration": 320,
    "start_time": "2022-02-23T19:19:13.824Z"
   },
   {
    "duration": 7,
    "start_time": "2022-02-23T19:19:14.147Z"
   },
   {
    "duration": 289,
    "start_time": "2022-02-23T19:19:14.168Z"
   },
   {
    "duration": 32,
    "start_time": "2022-02-23T19:19:14.460Z"
   },
   {
    "duration": 581,
    "start_time": "2022-02-23T19:19:14.495Z"
   },
   {
    "duration": 18,
    "start_time": "2022-02-23T19:19:15.079Z"
   },
   {
    "duration": 5,
    "start_time": "2022-02-23T19:19:15.099Z"
   },
   {
    "duration": 13,
    "start_time": "2022-02-23T19:19:15.106Z"
   },
   {
    "duration": 12,
    "start_time": "2022-02-23T19:19:15.121Z"
   },
   {
    "duration": 13,
    "start_time": "2022-02-23T19:19:15.168Z"
   },
   {
    "duration": 12,
    "start_time": "2022-02-23T19:19:15.183Z"
   },
   {
    "duration": 11,
    "start_time": "2022-02-23T19:19:15.196Z"
   },
   {
    "duration": 10,
    "start_time": "2022-02-23T19:19:15.209Z"
   },
   {
    "duration": 49,
    "start_time": "2022-02-23T19:19:15.221Z"
   },
   {
    "duration": 10,
    "start_time": "2022-02-23T19:19:15.272Z"
   },
   {
    "duration": 11,
    "start_time": "2022-02-23T19:19:15.284Z"
   },
   {
    "duration": 327,
    "start_time": "2022-02-25T16:27:42.426Z"
   },
   {
    "duration": 12854,
    "start_time": "2022-02-25T16:27:49.913Z"
   },
   {
    "duration": 2055,
    "start_time": "2022-02-25T16:28:02.771Z"
   },
   {
    "duration": 55,
    "start_time": "2022-02-25T16:28:04.829Z"
   },
   {
    "duration": 26,
    "start_time": "2022-02-25T16:28:04.887Z"
   },
   {
    "duration": 34,
    "start_time": "2022-02-25T16:28:04.916Z"
   },
   {
    "duration": 20,
    "start_time": "2022-02-25T16:28:04.953Z"
   },
   {
    "duration": 9,
    "start_time": "2022-02-25T16:28:04.976Z"
   },
   {
    "duration": 14,
    "start_time": "2022-02-25T16:28:05.027Z"
   },
   {
    "duration": 27,
    "start_time": "2022-02-25T16:28:05.044Z"
   },
   {
    "duration": 8,
    "start_time": "2022-02-25T16:28:05.074Z"
   },
   {
    "duration": 19,
    "start_time": "2022-02-25T16:28:05.085Z"
   },
   {
    "duration": 28,
    "start_time": "2022-02-25T16:28:05.106Z"
   },
   {
    "duration": 14,
    "start_time": "2022-02-25T16:28:05.136Z"
   },
   {
    "duration": 50,
    "start_time": "2022-02-25T16:28:05.153Z"
   },
   {
    "duration": 1420,
    "start_time": "2022-02-25T16:28:05.206Z"
   },
   {
    "duration": 5,
    "start_time": "2022-02-25T16:28:06.628Z"
   },
   {
    "duration": 43,
    "start_time": "2022-02-25T16:28:06.635Z"
   },
   {
    "duration": 549,
    "start_time": "2022-02-25T16:28:06.681Z"
   },
   {
    "duration": 446,
    "start_time": "2022-02-25T16:28:07.234Z"
   },
   {
    "duration": 646,
    "start_time": "2022-02-25T16:28:07.683Z"
   },
   {
    "duration": 486,
    "start_time": "2022-02-25T16:28:08.332Z"
   },
   {
    "duration": 11,
    "start_time": "2022-02-25T16:28:08.821Z"
   },
   {
    "duration": 389,
    "start_time": "2022-02-25T16:28:08.836Z"
   },
   {
    "duration": 34,
    "start_time": "2022-02-25T16:28:09.229Z"
   },
   {
    "duration": 1209,
    "start_time": "2022-02-25T16:28:09.266Z"
   },
   {
    "duration": 21,
    "start_time": "2022-02-25T16:28:10.478Z"
   },
   {
    "duration": 25,
    "start_time": "2022-02-25T16:28:10.502Z"
   },
   {
    "duration": 20,
    "start_time": "2022-02-25T16:28:10.529Z"
   },
   {
    "duration": 15,
    "start_time": "2022-02-25T16:28:10.551Z"
   },
   {
    "duration": 62,
    "start_time": "2022-02-25T16:28:10.568Z"
   },
   {
    "duration": 16,
    "start_time": "2022-02-25T16:28:10.634Z"
   },
   {
    "duration": 20,
    "start_time": "2022-02-25T16:28:10.652Z"
   },
   {
    "duration": 16,
    "start_time": "2022-02-25T16:28:10.674Z"
   },
   {
    "duration": 44,
    "start_time": "2022-02-25T16:28:10.695Z"
   },
   {
    "duration": 18,
    "start_time": "2022-02-25T16:28:10.742Z"
   },
   {
    "duration": 16,
    "start_time": "2022-02-25T16:28:10.762Z"
   },
   {
    "duration": 46,
    "start_time": "2022-02-25T16:28:10.781Z"
   },
   {
    "duration": 8,
    "start_time": "2022-02-25T16:28:36.778Z"
   },
   {
    "duration": 7,
    "start_time": "2022-02-25T16:29:00.997Z"
   },
   {
    "duration": 7,
    "start_time": "2022-02-25T16:29:34.950Z"
   },
   {
    "duration": 10,
    "start_time": "2022-02-25T16:32:14.443Z"
   },
   {
    "duration": 12,
    "start_time": "2022-02-25T16:32:18.390Z"
   },
   {
    "duration": 12,
    "start_time": "2022-02-25T16:32:50.605Z"
   },
   {
    "duration": 13,
    "start_time": "2022-02-25T16:33:04.966Z"
   },
   {
    "duration": 12,
    "start_time": "2022-02-25T16:33:32.597Z"
   },
   {
    "duration": 467,
    "start_time": "2022-02-25T16:33:57.936Z"
   },
   {
    "duration": 296,
    "start_time": "2022-02-25T16:34:26.622Z"
   },
   {
    "duration": 12,
    "start_time": "2022-02-25T16:34:46.318Z"
   },
   {
    "duration": 300,
    "start_time": "2022-02-25T16:37:58.233Z"
   },
   {
    "duration": 8,
    "start_time": "2022-02-25T16:38:35.716Z"
   },
   {
    "duration": 32,
    "start_time": "2022-02-25T16:40:52.007Z"
   },
   {
    "duration": 15,
    "start_time": "2022-02-25T16:40:57.297Z"
   },
   {
    "duration": 20,
    "start_time": "2022-02-25T16:44:55.388Z"
   },
   {
    "duration": 20,
    "start_time": "2022-02-25T16:45:36.156Z"
   },
   {
    "duration": 36,
    "start_time": "2022-02-25T16:45:56.814Z"
   },
   {
    "duration": 18,
    "start_time": "2022-02-25T16:46:28.816Z"
   },
   {
    "duration": 18,
    "start_time": "2022-02-25T16:46:33.867Z"
   },
   {
    "duration": 35,
    "start_time": "2022-02-25T16:47:06.305Z"
   },
   {
    "duration": 277,
    "start_time": "2022-02-25T16:47:22.756Z"
   },
   {
    "duration": 41,
    "start_time": "2022-02-25T16:47:28.942Z"
   },
   {
    "duration": 17,
    "start_time": "2022-02-25T16:47:51.550Z"
   },
   {
    "duration": 15,
    "start_time": "2022-02-25T16:49:15.285Z"
   },
   {
    "duration": 12,
    "start_time": "2022-02-25T16:49:37.796Z"
   },
   {
    "duration": 15,
    "start_time": "2022-02-25T16:49:43.034Z"
   },
   {
    "duration": 11,
    "start_time": "2022-02-25T16:49:59.041Z"
   },
   {
    "duration": 14,
    "start_time": "2022-02-25T16:50:01.242Z"
   },
   {
    "duration": 3398,
    "start_time": "2022-02-25T16:50:24.925Z"
   },
   {
    "duration": 5,
    "start_time": "2022-02-25T16:50:28.326Z"
   },
   {
    "duration": 51,
    "start_time": "2022-02-25T16:50:28.334Z"
   },
   {
    "duration": 22,
    "start_time": "2022-02-25T16:50:28.388Z"
   },
   {
    "duration": 21,
    "start_time": "2022-02-25T16:50:28.428Z"
   },
   {
    "duration": 13,
    "start_time": "2022-02-25T16:50:28.452Z"
   },
   {
    "duration": 6,
    "start_time": "2022-02-25T16:50:28.468Z"
   },
   {
    "duration": 50,
    "start_time": "2022-02-25T16:50:28.478Z"
   },
   {
    "duration": 12,
    "start_time": "2022-02-25T16:50:28.531Z"
   },
   {
    "duration": 6,
    "start_time": "2022-02-25T16:50:28.545Z"
   },
   {
    "duration": 11,
    "start_time": "2022-02-25T16:50:28.554Z"
   },
   {
    "duration": 8,
    "start_time": "2022-02-25T16:50:28.567Z"
   },
   {
    "duration": 49,
    "start_time": "2022-02-25T16:50:28.577Z"
   },
   {
    "duration": 26,
    "start_time": "2022-02-25T16:50:28.629Z"
   },
   {
    "duration": 919,
    "start_time": "2022-02-25T16:50:28.658Z"
   },
   {
    "duration": 4,
    "start_time": "2022-02-25T16:50:29.579Z"
   },
   {
    "duration": 39,
    "start_time": "2022-02-25T16:50:29.587Z"
   },
   {
    "duration": 539,
    "start_time": "2022-02-25T16:50:29.629Z"
   },
   {
    "duration": 467,
    "start_time": "2022-02-25T16:50:30.172Z"
   },
   {
    "duration": 463,
    "start_time": "2022-02-25T16:50:30.641Z"
   },
   {
    "duration": 459,
    "start_time": "2022-02-25T16:50:31.107Z"
   },
   {
    "duration": 9,
    "start_time": "2022-02-25T16:50:31.568Z"
   },
   {
    "duration": 392,
    "start_time": "2022-02-25T16:50:31.582Z"
   },
   {
    "duration": 50,
    "start_time": "2022-02-25T16:50:31.977Z"
   },
   {
    "duration": 1096,
    "start_time": "2022-02-25T16:50:32.030Z"
   },
   {
    "duration": 23,
    "start_time": "2022-02-25T16:50:33.128Z"
   },
   {
    "duration": 7,
    "start_time": "2022-02-25T16:50:33.154Z"
   },
   {
    "duration": 14,
    "start_time": "2022-02-25T16:50:33.164Z"
   },
   {
    "duration": 52,
    "start_time": "2022-02-25T16:50:33.180Z"
   },
   {
    "duration": 16,
    "start_time": "2022-02-25T16:50:33.235Z"
   },
   {
    "duration": 15,
    "start_time": "2022-02-25T16:50:33.254Z"
   },
   {
    "duration": 16,
    "start_time": "2022-02-25T16:50:33.272Z"
   },
   {
    "duration": 51,
    "start_time": "2022-02-25T16:50:33.290Z"
   },
   {
    "duration": 15,
    "start_time": "2022-02-25T16:50:33.344Z"
   },
   {
    "duration": 16,
    "start_time": "2022-02-25T16:50:33.362Z"
   },
   {
    "duration": 58,
    "start_time": "2022-02-25T16:50:33.381Z"
   },
   {
    "duration": 16,
    "start_time": "2022-02-25T16:50:38.656Z"
   },
   {
    "duration": 15,
    "start_time": "2022-02-25T16:52:58.697Z"
   },
   {
    "duration": 8,
    "start_time": "2022-02-25T16:53:06.345Z"
   },
   {
    "duration": 12,
    "start_time": "2022-02-25T16:53:10.870Z"
   },
   {
    "duration": 37,
    "start_time": "2022-02-25T16:53:21.383Z"
   },
   {
    "duration": 270,
    "start_time": "2022-02-25T16:54:43.777Z"
   },
   {
    "duration": 1115,
    "start_time": "2022-02-25T16:55:15.432Z"
   },
   {
    "duration": 324,
    "start_time": "2022-02-25T16:58:19.798Z"
   },
   {
    "duration": 14,
    "start_time": "2022-02-25T16:58:34.565Z"
   },
   {
    "duration": 7,
    "start_time": "2022-02-25T16:58:57.434Z"
   },
   {
    "duration": 7,
    "start_time": "2022-02-25T16:59:21.578Z"
   },
   {
    "duration": 17,
    "start_time": "2022-02-25T16:59:38.049Z"
   },
   {
    "duration": 17,
    "start_time": "2022-02-25T16:59:46.448Z"
   },
   {
    "duration": 14,
    "start_time": "2022-02-25T17:00:54.974Z"
   },
   {
    "duration": 10,
    "start_time": "2022-02-25T17:03:49.586Z"
   },
   {
    "duration": 12,
    "start_time": "2022-02-25T17:04:43.620Z"
   },
   {
    "duration": 5,
    "start_time": "2022-02-25T17:05:21.852Z"
   },
   {
    "duration": 17,
    "start_time": "2022-02-25T17:08:18.765Z"
   },
   {
    "duration": 38,
    "start_time": "2022-02-25T17:08:55.250Z"
   },
   {
    "duration": 588,
    "start_time": "2022-02-25T17:08:59.068Z"
   },
   {
    "duration": 658,
    "start_time": "2022-02-25T17:09:29.665Z"
   },
   {
    "duration": 570,
    "start_time": "2022-02-25T17:09:37.325Z"
   },
   {
    "duration": 1803,
    "start_time": "2022-02-26T11:20:15.582Z"
   },
   {
    "duration": 8508,
    "start_time": "2022-02-26T11:20:26.115Z"
   },
   {
    "duration": 2449,
    "start_time": "2022-02-26T11:20:34.625Z"
   },
   {
    "duration": 50,
    "start_time": "2022-02-26T11:20:37.076Z"
   },
   {
    "duration": 14,
    "start_time": "2022-02-26T11:20:37.128Z"
   },
   {
    "duration": 11,
    "start_time": "2022-02-26T11:20:37.143Z"
   },
   {
    "duration": 9,
    "start_time": "2022-02-26T11:20:37.156Z"
   },
   {
    "duration": 4,
    "start_time": "2022-02-26T11:20:37.166Z"
   },
   {
    "duration": 10,
    "start_time": "2022-02-26T11:20:37.171Z"
   },
   {
    "duration": 8,
    "start_time": "2022-02-26T11:20:37.183Z"
   },
   {
    "duration": 4,
    "start_time": "2022-02-26T11:20:37.192Z"
   },
   {
    "duration": 8,
    "start_time": "2022-02-26T11:20:37.197Z"
   },
   {
    "duration": 28,
    "start_time": "2022-02-26T11:20:37.206Z"
   },
   {
    "duration": 8,
    "start_time": "2022-02-26T11:20:37.780Z"
   },
   {
    "duration": 7,
    "start_time": "2022-02-26T11:20:50.827Z"
   },
   {
    "duration": 14,
    "start_time": "2022-02-26T11:21:03.297Z"
   },
   {
    "duration": 738,
    "start_time": "2022-02-26T11:21:17.793Z"
   },
   {
    "duration": 379,
    "start_time": "2022-02-26T11:21:40.504Z"
   },
   {
    "duration": 2089,
    "start_time": "2022-02-26T11:21:47.696Z"
   },
   {
    "duration": 4,
    "start_time": "2022-02-26T11:21:49.788Z"
   },
   {
    "duration": 73,
    "start_time": "2022-02-26T11:21:49.793Z"
   },
   {
    "duration": 18,
    "start_time": "2022-02-26T11:21:49.869Z"
   },
   {
    "duration": 17,
    "start_time": "2022-02-26T11:21:49.889Z"
   },
   {
    "duration": 27,
    "start_time": "2022-02-26T11:21:49.908Z"
   },
   {
    "duration": 5,
    "start_time": "2022-02-26T11:21:49.936Z"
   },
   {
    "duration": 10,
    "start_time": "2022-02-26T11:21:49.944Z"
   },
   {
    "duration": 6,
    "start_time": "2022-02-26T11:21:49.956Z"
   },
   {
    "duration": 8,
    "start_time": "2022-02-26T11:21:49.964Z"
   },
   {
    "duration": 10,
    "start_time": "2022-02-26T11:21:49.973Z"
   },
   {
    "duration": 11,
    "start_time": "2022-02-26T11:21:49.984Z"
   },
   {
    "duration": 12,
    "start_time": "2022-02-26T11:21:49.997Z"
   },
   {
    "duration": 9,
    "start_time": "2022-02-26T11:21:50.010Z"
   },
   {
    "duration": 4,
    "start_time": "2022-02-26T11:21:50.032Z"
   },
   {
    "duration": 15,
    "start_time": "2022-02-26T11:21:50.038Z"
   },
   {
    "duration": 553,
    "start_time": "2022-02-26T11:21:50.055Z"
   },
   {
    "duration": 3,
    "start_time": "2022-02-26T11:21:50.610Z"
   },
   {
    "duration": 26,
    "start_time": "2022-02-26T11:21:50.615Z"
   },
   {
    "duration": 290,
    "start_time": "2022-02-26T11:21:50.643Z"
   },
   {
    "duration": 236,
    "start_time": "2022-02-26T11:21:50.934Z"
   },
   {
    "duration": 262,
    "start_time": "2022-02-26T11:21:51.172Z"
   },
   {
    "duration": 330,
    "start_time": "2022-02-26T11:21:51.436Z"
   },
   {
    "duration": 5,
    "start_time": "2022-02-26T11:21:51.768Z"
   },
   {
    "duration": 224,
    "start_time": "2022-02-26T11:21:51.774Z"
   },
   {
    "duration": 33,
    "start_time": "2022-02-26T11:21:52.000Z"
   },
   {
    "duration": 441,
    "start_time": "2022-02-26T11:21:52.035Z"
   },
   {
    "duration": 16,
    "start_time": "2022-02-26T11:21:52.478Z"
   },
   {
    "duration": 3,
    "start_time": "2022-02-26T11:21:52.496Z"
   },
   {
    "duration": 39,
    "start_time": "2022-02-26T11:21:52.501Z"
   },
   {
    "duration": 10,
    "start_time": "2022-02-26T11:21:52.541Z"
   },
   {
    "duration": 10,
    "start_time": "2022-02-26T11:21:52.552Z"
   },
   {
    "duration": 9,
    "start_time": "2022-02-26T11:21:52.564Z"
   },
   {
    "duration": 9,
    "start_time": "2022-02-26T11:21:52.575Z"
   },
   {
    "duration": 47,
    "start_time": "2022-02-26T11:21:52.586Z"
   },
   {
    "duration": 11,
    "start_time": "2022-02-26T11:21:52.634Z"
   },
   {
    "duration": 9,
    "start_time": "2022-02-26T11:21:52.647Z"
   },
   {
    "duration": 9,
    "start_time": "2022-02-26T11:21:52.658Z"
   },
   {
    "duration": 6,
    "start_time": "2022-02-26T11:21:52.669Z"
   },
   {
    "duration": 11,
    "start_time": "2022-02-26T11:21:52.676Z"
   },
   {
    "duration": 48,
    "start_time": "2022-02-26T11:21:52.688Z"
   },
   {
    "duration": 10,
    "start_time": "2022-02-26T11:21:52.738Z"
   },
   {
    "duration": 34,
    "start_time": "2022-02-26T11:21:52.750Z"
   },
   {
    "duration": 642,
    "start_time": "2022-02-26T11:21:52.785Z"
   },
   {
    "duration": 6,
    "start_time": "2022-02-26T11:22:49.804Z"
   },
   {
    "duration": 11,
    "start_time": "2022-02-26T11:22:53.364Z"
   },
   {
    "duration": 11,
    "start_time": "2022-02-26T11:23:22.394Z"
   },
   {
    "duration": 21,
    "start_time": "2022-02-26T11:23:32.171Z"
   },
   {
    "duration": 10,
    "start_time": "2022-02-26T11:23:45.974Z"
   },
   {
    "duration": 10,
    "start_time": "2022-02-26T11:23:57.033Z"
   },
   {
    "duration": 111,
    "start_time": "2022-02-26T11:24:06.105Z"
   },
   {
    "duration": 22,
    "start_time": "2022-02-26T11:24:13.280Z"
   },
   {
    "duration": 5,
    "start_time": "2022-02-26T11:27:21.346Z"
   },
   {
    "duration": 11,
    "start_time": "2022-02-26T11:27:30.067Z"
   },
   {
    "duration": 20,
    "start_time": "2022-02-26T11:27:43.309Z"
   },
   {
    "duration": 22,
    "start_time": "2022-02-26T11:28:47.764Z"
   },
   {
    "duration": 12,
    "start_time": "2022-02-26T11:28:54.257Z"
   },
   {
    "duration": 12,
    "start_time": "2022-02-26T11:28:59.774Z"
   },
   {
    "duration": 13,
    "start_time": "2022-02-26T11:29:10.725Z"
   },
   {
    "duration": 313,
    "start_time": "2022-02-26T11:29:24.730Z"
   },
   {
    "duration": 13,
    "start_time": "2022-02-26T11:30:30.673Z"
   },
   {
    "duration": 13,
    "start_time": "2022-02-26T11:30:44.235Z"
   },
   {
    "duration": 23,
    "start_time": "2022-02-26T11:30:52.235Z"
   },
   {
    "duration": 22,
    "start_time": "2022-02-26T11:31:07.531Z"
   },
   {
    "duration": 289,
    "start_time": "2022-02-26T11:32:09.164Z"
   },
   {
    "duration": 312,
    "start_time": "2022-02-26T11:32:33.180Z"
   },
   {
    "duration": 309,
    "start_time": "2022-02-26T11:32:59.727Z"
   },
   {
    "duration": 541,
    "start_time": "2022-02-26T11:33:46.809Z"
   },
   {
    "duration": 10,
    "start_time": "2022-02-26T11:35:16.663Z"
   },
   {
    "duration": 22,
    "start_time": "2022-02-26T11:35:28.053Z"
   },
   {
    "duration": 4,
    "start_time": "2022-02-26T11:36:13.663Z"
   },
   {
    "duration": 3,
    "start_time": "2022-02-26T11:36:15.297Z"
   },
   {
    "duration": 5,
    "start_time": "2022-02-26T11:36:19.765Z"
   },
   {
    "duration": 4,
    "start_time": "2022-02-26T11:36:32.567Z"
   },
   {
    "duration": 3,
    "start_time": "2022-02-26T11:36:34.364Z"
   },
   {
    "duration": 6,
    "start_time": "2022-02-26T11:36:37.012Z"
   },
   {
    "duration": 5,
    "start_time": "2022-02-26T11:37:02.900Z"
   },
   {
    "duration": 6,
    "start_time": "2022-02-26T11:37:10.348Z"
   },
   {
    "duration": 2008,
    "start_time": "2022-02-26T11:37:13.845Z"
   },
   {
    "duration": 3,
    "start_time": "2022-02-26T11:37:15.856Z"
   },
   {
    "duration": 50,
    "start_time": "2022-02-26T11:37:15.861Z"
   },
   {
    "duration": 13,
    "start_time": "2022-02-26T11:37:15.913Z"
   },
   {
    "duration": 13,
    "start_time": "2022-02-26T11:37:15.928Z"
   },
   {
    "duration": 9,
    "start_time": "2022-02-26T11:37:15.943Z"
   },
   {
    "duration": 4,
    "start_time": "2022-02-26T11:37:15.953Z"
   },
   {
    "duration": 10,
    "start_time": "2022-02-26T11:37:15.959Z"
   },
   {
    "duration": 7,
    "start_time": "2022-02-26T11:37:15.971Z"
   },
   {
    "duration": 5,
    "start_time": "2022-02-26T11:37:15.979Z"
   },
   {
    "duration": 7,
    "start_time": "2022-02-26T11:37:15.986Z"
   },
   {
    "duration": 12,
    "start_time": "2022-02-26T11:37:15.994Z"
   },
   {
    "duration": 28,
    "start_time": "2022-02-26T11:37:16.008Z"
   },
   {
    "duration": 6,
    "start_time": "2022-02-26T11:37:16.038Z"
   },
   {
    "duration": 7,
    "start_time": "2022-02-26T11:37:16.046Z"
   },
   {
    "duration": 15,
    "start_time": "2022-02-26T11:37:16.054Z"
   },
   {
    "duration": 461,
    "start_time": "2022-02-26T11:37:16.071Z"
   },
   {
    "duration": 3,
    "start_time": "2022-02-26T11:37:16.534Z"
   },
   {
    "duration": 10,
    "start_time": "2022-02-26T11:37:16.539Z"
   },
   {
    "duration": 283,
    "start_time": "2022-02-26T11:37:16.551Z"
   },
   {
    "duration": 225,
    "start_time": "2022-02-26T11:37:16.836Z"
   },
   {
    "duration": 243,
    "start_time": "2022-02-26T11:37:17.063Z"
   },
   {
    "duration": 230,
    "start_time": "2022-02-26T11:37:17.310Z"
   },
   {
    "duration": 6,
    "start_time": "2022-02-26T11:37:17.542Z"
   },
   {
    "duration": 320,
    "start_time": "2022-02-26T11:37:17.550Z"
   },
   {
    "duration": 21,
    "start_time": "2022-02-26T11:37:17.871Z"
   },
   {
    "duration": 450,
    "start_time": "2022-02-26T11:37:17.894Z"
   },
   {
    "duration": 13,
    "start_time": "2022-02-26T11:37:18.345Z"
   },
   {
    "duration": 3,
    "start_time": "2022-02-26T11:37:18.359Z"
   },
   {
    "duration": 11,
    "start_time": "2022-02-26T11:37:18.364Z"
   },
   {
    "duration": 8,
    "start_time": "2022-02-26T11:37:18.376Z"
   },
   {
    "duration": 8,
    "start_time": "2022-02-26T11:37:18.385Z"
   },
   {
    "duration": 41,
    "start_time": "2022-02-26T11:37:18.394Z"
   },
   {
    "duration": 9,
    "start_time": "2022-02-26T11:37:18.436Z"
   },
   {
    "duration": 8,
    "start_time": "2022-02-26T11:37:18.446Z"
   },
   {
    "duration": 9,
    "start_time": "2022-02-26T11:37:18.455Z"
   },
   {
    "duration": 8,
    "start_time": "2022-02-26T11:37:18.465Z"
   },
   {
    "duration": 10,
    "start_time": "2022-02-26T11:37:18.475Z"
   },
   {
    "duration": 318,
    "start_time": "2022-02-26T11:37:18.486Z"
   },
   {
    "duration": -1460,
    "start_time": "2022-02-26T11:37:20.266Z"
   },
   {
    "duration": -1463,
    "start_time": "2022-02-26T11:37:20.270Z"
   },
   {
    "duration": -1464,
    "start_time": "2022-02-26T11:37:20.273Z"
   },
   {
    "duration": -1466,
    "start_time": "2022-02-26T11:37:20.276Z"
   },
   {
    "duration": 6,
    "start_time": "2022-02-26T11:38:02.868Z"
   },
   {
    "duration": 5,
    "start_time": "2022-02-26T11:38:31.421Z"
   },
   {
    "duration": 5,
    "start_time": "2022-02-26T11:38:38.554Z"
   },
   {
    "duration": 2024,
    "start_time": "2022-02-26T11:38:43.846Z"
   },
   {
    "duration": 3,
    "start_time": "2022-02-26T11:38:45.873Z"
   },
   {
    "duration": 56,
    "start_time": "2022-02-26T11:38:45.878Z"
   },
   {
    "duration": 13,
    "start_time": "2022-02-26T11:38:45.936Z"
   },
   {
    "duration": 14,
    "start_time": "2022-02-26T11:38:45.950Z"
   },
   {
    "duration": 11,
    "start_time": "2022-02-26T11:38:45.966Z"
   },
   {
    "duration": 4,
    "start_time": "2022-02-26T11:38:45.978Z"
   },
   {
    "duration": 9,
    "start_time": "2022-02-26T11:38:45.984Z"
   },
   {
    "duration": 8,
    "start_time": "2022-02-26T11:38:45.994Z"
   },
   {
    "duration": 4,
    "start_time": "2022-02-26T11:38:46.004Z"
   },
   {
    "duration": 27,
    "start_time": "2022-02-26T11:38:46.009Z"
   },
   {
    "duration": 9,
    "start_time": "2022-02-26T11:38:46.037Z"
   },
   {
    "duration": 11,
    "start_time": "2022-02-26T11:38:46.047Z"
   },
   {
    "duration": 8,
    "start_time": "2022-02-26T11:38:46.059Z"
   },
   {
    "duration": 8,
    "start_time": "2022-02-26T11:38:46.068Z"
   },
   {
    "duration": 21,
    "start_time": "2022-02-26T11:38:46.077Z"
   },
   {
    "duration": 452,
    "start_time": "2022-02-26T11:38:46.100Z"
   },
   {
    "duration": 4,
    "start_time": "2022-02-26T11:38:46.554Z"
   },
   {
    "duration": 11,
    "start_time": "2022-02-26T11:38:46.559Z"
   },
   {
    "duration": 296,
    "start_time": "2022-02-26T11:38:46.571Z"
   },
   {
    "duration": 231,
    "start_time": "2022-02-26T11:38:46.868Z"
   },
   {
    "duration": 233,
    "start_time": "2022-02-26T11:38:47.101Z"
   },
   {
    "duration": 227,
    "start_time": "2022-02-26T11:38:47.337Z"
   },
   {
    "duration": 6,
    "start_time": "2022-02-26T11:38:47.566Z"
   },
   {
    "duration": 202,
    "start_time": "2022-02-26T11:38:47.573Z"
   },
   {
    "duration": 20,
    "start_time": "2022-02-26T11:38:47.777Z"
   },
   {
    "duration": 585,
    "start_time": "2022-02-26T11:38:47.798Z"
   },
   {
    "duration": 12,
    "start_time": "2022-02-26T11:38:48.385Z"
   },
   {
    "duration": 8,
    "start_time": "2022-02-26T11:38:48.399Z"
   },
   {
    "duration": 43,
    "start_time": "2022-02-26T11:38:48.408Z"
   },
   {
    "duration": 24,
    "start_time": "2022-02-26T11:38:48.453Z"
   },
   {
    "duration": 13,
    "start_time": "2022-02-26T11:38:48.479Z"
   },
   {
    "duration": 22,
    "start_time": "2022-02-26T11:38:48.493Z"
   },
   {
    "duration": 21,
    "start_time": "2022-02-26T11:38:48.516Z"
   },
   {
    "duration": 9,
    "start_time": "2022-02-26T11:38:48.538Z"
   },
   {
    "duration": 17,
    "start_time": "2022-02-26T11:38:48.548Z"
   },
   {
    "duration": 16,
    "start_time": "2022-02-26T11:38:48.567Z"
   },
   {
    "duration": 23,
    "start_time": "2022-02-26T11:38:48.585Z"
   },
   {
    "duration": 406,
    "start_time": "2022-02-26T11:38:48.609Z"
   },
   {
    "duration": -1442,
    "start_time": "2022-02-26T11:38:50.459Z"
   },
   {
    "duration": -1448,
    "start_time": "2022-02-26T11:38:50.466Z"
   },
   {
    "duration": -1450,
    "start_time": "2022-02-26T11:38:50.469Z"
   },
   {
    "duration": -1451,
    "start_time": "2022-02-26T11:38:50.471Z"
   },
   {
    "duration": 5,
    "start_time": "2022-02-26T11:38:51.845Z"
   },
   {
    "duration": 7,
    "start_time": "2022-02-26T11:39:38.197Z"
   },
   {
    "duration": 5,
    "start_time": "2022-02-26T11:39:54.728Z"
   },
   {
    "duration": 5,
    "start_time": "2022-02-26T11:40:02.361Z"
   },
   {
    "duration": 9,
    "start_time": "2022-02-26T11:40:18.245Z"
   },
   {
    "duration": 9,
    "start_time": "2022-02-26T11:40:33.161Z"
   },
   {
    "duration": 9,
    "start_time": "2022-02-26T11:41:52.773Z"
   },
   {
    "duration": 4,
    "start_time": "2022-02-26T11:42:07.422Z"
   },
   {
    "duration": 10,
    "start_time": "2022-02-26T11:42:09.764Z"
   },
   {
    "duration": 3,
    "start_time": "2022-02-26T11:42:15.425Z"
   },
   {
    "duration": 9,
    "start_time": "2022-02-26T11:42:17.176Z"
   },
   {
    "duration": 4,
    "start_time": "2022-02-26T11:42:22.051Z"
   },
   {
    "duration": 5,
    "start_time": "2022-02-26T11:42:23.553Z"
   },
   {
    "duration": 5,
    "start_time": "2022-02-26T11:42:26.175Z"
   },
   {
    "duration": 13,
    "start_time": "2022-02-26T11:42:44.802Z"
   },
   {
    "duration": 10,
    "start_time": "2022-02-26T11:42:47.512Z"
   },
   {
    "duration": 2354,
    "start_time": "2022-02-26T11:43:04.515Z"
   },
   {
    "duration": 4,
    "start_time": "2022-02-26T11:43:06.871Z"
   },
   {
    "duration": 40,
    "start_time": "2022-02-26T11:43:06.877Z"
   },
   {
    "duration": 12,
    "start_time": "2022-02-26T11:43:06.919Z"
   },
   {
    "duration": 12,
    "start_time": "2022-02-26T11:43:06.932Z"
   },
   {
    "duration": 9,
    "start_time": "2022-02-26T11:43:06.946Z"
   },
   {
    "duration": 3,
    "start_time": "2022-02-26T11:43:06.957Z"
   },
   {
    "duration": 13,
    "start_time": "2022-02-26T11:43:06.962Z"
   },
   {
    "duration": 9,
    "start_time": "2022-02-26T11:43:06.978Z"
   },
   {
    "duration": 6,
    "start_time": "2022-02-26T11:43:06.989Z"
   },
   {
    "duration": 10,
    "start_time": "2022-02-26T11:43:06.996Z"
   },
   {
    "duration": 27,
    "start_time": "2022-02-26T11:43:07.007Z"
   },
   {
    "duration": 8,
    "start_time": "2022-02-26T11:43:07.036Z"
   },
   {
    "duration": 7,
    "start_time": "2022-02-26T11:43:07.045Z"
   },
   {
    "duration": 11,
    "start_time": "2022-02-26T11:43:07.053Z"
   },
   {
    "duration": 20,
    "start_time": "2022-02-26T11:43:07.066Z"
   },
   {
    "duration": 713,
    "start_time": "2022-02-26T11:43:07.088Z"
   },
   {
    "duration": 3,
    "start_time": "2022-02-26T11:43:07.803Z"
   },
   {
    "duration": 11,
    "start_time": "2022-02-26T11:43:07.808Z"
   },
   {
    "duration": 289,
    "start_time": "2022-02-26T11:43:07.831Z"
   },
   {
    "duration": 240,
    "start_time": "2022-02-26T11:43:08.122Z"
   },
   {
    "duration": 243,
    "start_time": "2022-02-26T11:43:08.363Z"
   },
   {
    "duration": 235,
    "start_time": "2022-02-26T11:43:08.607Z"
   },
   {
    "duration": 6,
    "start_time": "2022-02-26T11:43:08.843Z"
   },
   {
    "duration": 204,
    "start_time": "2022-02-26T11:43:08.851Z"
   },
   {
    "duration": 21,
    "start_time": "2022-02-26T11:43:09.056Z"
   },
   {
    "duration": 689,
    "start_time": "2022-02-26T11:43:09.080Z"
   },
   {
    "duration": 12,
    "start_time": "2022-02-26T11:43:09.771Z"
   },
   {
    "duration": 3,
    "start_time": "2022-02-26T11:43:09.785Z"
   },
   {
    "duration": 11,
    "start_time": "2022-02-26T11:43:09.790Z"
   },
   {
    "duration": 30,
    "start_time": "2022-02-26T11:43:09.803Z"
   },
   {
    "duration": 9,
    "start_time": "2022-02-26T11:43:09.834Z"
   },
   {
    "duration": 9,
    "start_time": "2022-02-26T11:43:09.844Z"
   },
   {
    "duration": 9,
    "start_time": "2022-02-26T11:43:09.854Z"
   },
   {
    "duration": 8,
    "start_time": "2022-02-26T11:43:09.864Z"
   },
   {
    "duration": 10,
    "start_time": "2022-02-26T11:43:09.874Z"
   },
   {
    "duration": 8,
    "start_time": "2022-02-26T11:43:09.886Z"
   },
   {
    "duration": 41,
    "start_time": "2022-02-26T11:43:09.895Z"
   },
   {
    "duration": 324,
    "start_time": "2022-02-26T11:43:09.938Z"
   },
   {
    "duration": -1440,
    "start_time": "2022-02-26T11:43:11.704Z"
   },
   {
    "duration": -1442,
    "start_time": "2022-02-26T11:43:11.707Z"
   },
   {
    "duration": -1444,
    "start_time": "2022-02-26T11:43:11.710Z"
   },
   {
    "duration": -1448,
    "start_time": "2022-02-26T11:43:11.714Z"
   },
   {
    "duration": -1450,
    "start_time": "2022-02-26T11:43:11.718Z"
   },
   {
    "duration": 4,
    "start_time": "2022-02-26T11:43:51.486Z"
   },
   {
    "duration": 5,
    "start_time": "2022-02-26T11:43:58.916Z"
   },
   {
    "duration": 11,
    "start_time": "2022-02-26T11:44:00.942Z"
   },
   {
    "duration": 2059,
    "start_time": "2022-02-26T11:44:05.114Z"
   },
   {
    "duration": 3,
    "start_time": "2022-02-26T11:44:07.175Z"
   },
   {
    "duration": 42,
    "start_time": "2022-02-26T11:44:07.180Z"
   },
   {
    "duration": 12,
    "start_time": "2022-02-26T11:44:07.224Z"
   },
   {
    "duration": 12,
    "start_time": "2022-02-26T11:44:07.238Z"
   },
   {
    "duration": 11,
    "start_time": "2022-02-26T11:44:07.252Z"
   },
   {
    "duration": 4,
    "start_time": "2022-02-26T11:44:07.264Z"
   },
   {
    "duration": 9,
    "start_time": "2022-02-26T11:44:07.270Z"
   },
   {
    "duration": 7,
    "start_time": "2022-02-26T11:44:07.281Z"
   },
   {
    "duration": 5,
    "start_time": "2022-02-26T11:44:07.289Z"
   },
   {
    "duration": 8,
    "start_time": "2022-02-26T11:44:07.295Z"
   },
   {
    "duration": 9,
    "start_time": "2022-02-26T11:44:07.304Z"
   },
   {
    "duration": 25,
    "start_time": "2022-02-26T11:44:07.314Z"
   },
   {
    "duration": 6,
    "start_time": "2022-02-26T11:44:07.341Z"
   },
   {
    "duration": 7,
    "start_time": "2022-02-26T11:44:07.348Z"
   },
   {
    "duration": 17,
    "start_time": "2022-02-26T11:44:07.357Z"
   },
   {
    "duration": 464,
    "start_time": "2022-02-26T11:44:07.376Z"
   },
   {
    "duration": 4,
    "start_time": "2022-02-26T11:44:07.842Z"
   },
   {
    "duration": 10,
    "start_time": "2022-02-26T11:44:07.848Z"
   },
   {
    "duration": 298,
    "start_time": "2022-02-26T11:44:07.860Z"
   },
   {
    "duration": 263,
    "start_time": "2022-02-26T11:44:08.160Z"
   },
   {
    "duration": 262,
    "start_time": "2022-02-26T11:44:08.425Z"
   },
   {
    "duration": 461,
    "start_time": "2022-02-26T11:44:08.692Z"
   },
   {
    "duration": 7,
    "start_time": "2022-02-26T11:44:09.156Z"
   },
   {
    "duration": 230,
    "start_time": "2022-02-26T11:44:09.165Z"
   },
   {
    "duration": 22,
    "start_time": "2022-02-26T11:44:09.396Z"
   },
   {
    "duration": 464,
    "start_time": "2022-02-26T11:44:09.419Z"
   },
   {
    "duration": 14,
    "start_time": "2022-02-26T11:44:09.885Z"
   },
   {
    "duration": 4,
    "start_time": "2022-02-26T11:44:09.901Z"
   },
   {
    "duration": 31,
    "start_time": "2022-02-26T11:44:09.907Z"
   },
   {
    "duration": 8,
    "start_time": "2022-02-26T11:44:09.940Z"
   },
   {
    "duration": 8,
    "start_time": "2022-02-26T11:44:09.950Z"
   },
   {
    "duration": 9,
    "start_time": "2022-02-26T11:44:09.960Z"
   },
   {
    "duration": 8,
    "start_time": "2022-02-26T11:44:09.971Z"
   },
   {
    "duration": 8,
    "start_time": "2022-02-26T11:44:09.981Z"
   },
   {
    "duration": 43,
    "start_time": "2022-02-26T11:44:09.990Z"
   },
   {
    "duration": 12,
    "start_time": "2022-02-26T11:44:10.035Z"
   },
   {
    "duration": 12,
    "start_time": "2022-02-26T11:44:10.049Z"
   },
   {
    "duration": 301,
    "start_time": "2022-02-26T11:44:10.063Z"
   },
   {
    "duration": -1398,
    "start_time": "2022-02-26T11:44:11.764Z"
   },
   {
    "duration": -1401,
    "start_time": "2022-02-26T11:44:11.768Z"
   },
   {
    "duration": -1409,
    "start_time": "2022-02-26T11:44:11.777Z"
   },
   {
    "duration": -1411,
    "start_time": "2022-02-26T11:44:11.780Z"
   },
   {
    "duration": -1413,
    "start_time": "2022-02-26T11:44:11.783Z"
   },
   {
    "duration": 350,
    "start_time": "2022-02-26T11:44:56.109Z"
   },
   {
    "duration": 3852,
    "start_time": "2022-02-26T11:45:14.117Z"
   },
   {
    "duration": 307,
    "start_time": "2022-02-26T11:45:29.553Z"
   },
   {
    "duration": 115,
    "start_time": "2022-02-26T11:45:40.007Z"
   },
   {
    "duration": 1136,
    "start_time": "2022-02-26T11:45:53.027Z"
   },
   {
    "duration": 6,
    "start_time": "2022-02-26T11:46:04.489Z"
   },
   {
    "duration": 1271,
    "start_time": "2022-02-26T11:46:31.539Z"
   },
   {
    "duration": 333,
    "start_time": "2022-02-26T11:46:40.270Z"
   },
   {
    "duration": 96,
    "start_time": "2022-02-26T11:47:06.344Z"
   },
   {
    "duration": 23,
    "start_time": "2022-02-26T11:47:12.703Z"
   },
   {
    "duration": 21,
    "start_time": "2022-02-26T11:47:40.847Z"
   },
   {
    "duration": 512,
    "start_time": "2022-02-26T11:47:46.473Z"
   },
   {
    "duration": 26,
    "start_time": "2022-02-26T11:48:52.842Z"
   },
   {
    "duration": 501,
    "start_time": "2022-02-26T11:48:57.000Z"
   },
   {
    "duration": 635,
    "start_time": "2022-02-26T11:49:17.061Z"
   },
   {
    "duration": 299,
    "start_time": "2022-02-26T11:50:38.642Z"
   },
   {
    "duration": 330,
    "start_time": "2022-02-26T11:51:08.530Z"
   },
   {
    "duration": 502,
    "start_time": "2022-02-26T11:51:39.786Z"
   },
   {
    "duration": 622,
    "start_time": "2022-02-26T11:55:05.227Z"
   },
   {
    "duration": 568,
    "start_time": "2022-02-26T11:55:28.470Z"
   },
   {
    "duration": 2418,
    "start_time": "2022-02-26T11:55:55.107Z"
   },
   {
    "duration": 3,
    "start_time": "2022-02-26T11:55:57.528Z"
   },
   {
    "duration": 56,
    "start_time": "2022-02-26T11:55:57.533Z"
   },
   {
    "duration": 13,
    "start_time": "2022-02-26T11:55:57.590Z"
   },
   {
    "duration": 13,
    "start_time": "2022-02-26T11:55:57.605Z"
   },
   {
    "duration": 11,
    "start_time": "2022-02-26T11:55:57.619Z"
   },
   {
    "duration": 6,
    "start_time": "2022-02-26T11:55:57.631Z"
   },
   {
    "duration": 11,
    "start_time": "2022-02-26T11:55:57.639Z"
   },
   {
    "duration": 8,
    "start_time": "2022-02-26T11:55:57.654Z"
   },
   {
    "duration": 5,
    "start_time": "2022-02-26T11:55:57.664Z"
   },
   {
    "duration": 10,
    "start_time": "2022-02-26T11:55:57.670Z"
   },
   {
    "duration": 19,
    "start_time": "2022-02-26T11:55:57.682Z"
   },
   {
    "duration": 18,
    "start_time": "2022-02-26T11:55:57.702Z"
   },
   {
    "duration": 10,
    "start_time": "2022-02-26T11:55:57.721Z"
   },
   {
    "duration": 13,
    "start_time": "2022-02-26T11:55:57.733Z"
   },
   {
    "duration": 24,
    "start_time": "2022-02-26T11:55:57.747Z"
   },
   {
    "duration": 593,
    "start_time": "2022-02-26T11:55:57.772Z"
   },
   {
    "duration": 3,
    "start_time": "2022-02-26T11:55:58.366Z"
   },
   {
    "duration": 38,
    "start_time": "2022-02-26T11:55:58.370Z"
   },
   {
    "duration": 324,
    "start_time": "2022-02-26T11:55:58.409Z"
   },
   {
    "duration": 226,
    "start_time": "2022-02-26T11:55:58.734Z"
   },
   {
    "duration": 236,
    "start_time": "2022-02-26T11:55:58.961Z"
   },
   {
    "duration": 223,
    "start_time": "2022-02-26T11:55:59.199Z"
   },
   {
    "duration": 8,
    "start_time": "2022-02-26T11:55:59.423Z"
   },
   {
    "duration": 199,
    "start_time": "2022-02-26T11:55:59.433Z"
   },
   {
    "duration": 21,
    "start_time": "2022-02-26T11:55:59.633Z"
   },
   {
    "duration": 435,
    "start_time": "2022-02-26T11:55:59.657Z"
   },
   {
    "duration": 14,
    "start_time": "2022-02-26T11:56:00.094Z"
   },
   {
    "duration": 4,
    "start_time": "2022-02-26T11:56:00.110Z"
   },
   {
    "duration": 9,
    "start_time": "2022-02-26T11:56:00.132Z"
   },
   {
    "duration": 12,
    "start_time": "2022-02-26T11:56:00.142Z"
   },
   {
    "duration": 10,
    "start_time": "2022-02-26T11:56:00.156Z"
   },
   {
    "duration": 9,
    "start_time": "2022-02-26T11:56:00.168Z"
   },
   {
    "duration": 9,
    "start_time": "2022-02-26T11:56:00.179Z"
   },
   {
    "duration": 44,
    "start_time": "2022-02-26T11:56:00.190Z"
   },
   {
    "duration": 11,
    "start_time": "2022-02-26T11:56:00.235Z"
   },
   {
    "duration": 9,
    "start_time": "2022-02-26T11:56:00.247Z"
   },
   {
    "duration": 9,
    "start_time": "2022-02-26T11:56:00.258Z"
   },
   {
    "duration": 30,
    "start_time": "2022-02-26T11:56:00.269Z"
   },
   {
    "duration": 42,
    "start_time": "2022-02-26T11:56:00.301Z"
   },
   {
    "duration": 533,
    "start_time": "2022-02-26T11:56:00.345Z"
   },
   {
    "duration": -1476,
    "start_time": "2022-02-26T11:56:02.356Z"
   },
   {
    "duration": -1478,
    "start_time": "2022-02-26T11:56:02.359Z"
   },
   {
    "duration": 28,
    "start_time": "2022-02-26T11:56:10.299Z"
   },
   {
    "duration": 528,
    "start_time": "2022-02-26T11:56:13.132Z"
   },
   {
    "duration": 544,
    "start_time": "2022-02-26T11:56:48.199Z"
   },
   {
    "duration": 4,
    "start_time": "2022-02-26T11:57:31.747Z"
   },
   {
    "duration": 4,
    "start_time": "2022-02-26T11:57:41.855Z"
   },
   {
    "duration": 2162,
    "start_time": "2022-02-26T11:57:44.881Z"
   },
   {
    "duration": 3,
    "start_time": "2022-02-26T11:57:47.045Z"
   },
   {
    "duration": 51,
    "start_time": "2022-02-26T11:57:47.050Z"
   },
   {
    "duration": 12,
    "start_time": "2022-02-26T11:57:47.103Z"
   },
   {
    "duration": 11,
    "start_time": "2022-02-26T11:57:47.117Z"
   },
   {
    "duration": 8,
    "start_time": "2022-02-26T11:57:47.130Z"
   },
   {
    "duration": 6,
    "start_time": "2022-02-26T11:57:47.139Z"
   },
   {
    "duration": 9,
    "start_time": "2022-02-26T11:57:47.146Z"
   },
   {
    "duration": 9,
    "start_time": "2022-02-26T11:57:47.158Z"
   },
   {
    "duration": 4,
    "start_time": "2022-02-26T11:57:47.169Z"
   },
   {
    "duration": 8,
    "start_time": "2022-02-26T11:57:47.174Z"
   },
   {
    "duration": 13,
    "start_time": "2022-02-26T11:57:47.183Z"
   },
   {
    "duration": 15,
    "start_time": "2022-02-26T11:57:47.197Z"
   },
   {
    "duration": 18,
    "start_time": "2022-02-26T11:57:47.214Z"
   },
   {
    "duration": 5,
    "start_time": "2022-02-26T11:57:47.234Z"
   },
   {
    "duration": 17,
    "start_time": "2022-02-26T11:57:47.241Z"
   },
   {
    "duration": 456,
    "start_time": "2022-02-26T11:57:47.259Z"
   },
   {
    "duration": 2,
    "start_time": "2022-02-26T11:57:47.717Z"
   },
   {
    "duration": 17,
    "start_time": "2022-02-26T11:57:47.721Z"
   },
   {
    "duration": 460,
    "start_time": "2022-02-26T11:57:47.739Z"
   },
   {
    "duration": 233,
    "start_time": "2022-02-26T11:57:48.201Z"
   },
   {
    "duration": 237,
    "start_time": "2022-02-26T11:57:48.436Z"
   },
   {
    "duration": 247,
    "start_time": "2022-02-26T11:57:48.675Z"
   },
   {
    "duration": 11,
    "start_time": "2022-02-26T11:57:48.924Z"
   },
   {
    "duration": 201,
    "start_time": "2022-02-26T11:57:48.937Z"
   },
   {
    "duration": 20,
    "start_time": "2022-02-26T11:57:49.139Z"
   },
   {
    "duration": 450,
    "start_time": "2022-02-26T11:57:49.162Z"
   },
   {
    "duration": 21,
    "start_time": "2022-02-26T11:57:49.614Z"
   },
   {
    "duration": 3,
    "start_time": "2022-02-26T11:57:49.637Z"
   },
   {
    "duration": 10,
    "start_time": "2022-02-26T11:57:49.642Z"
   },
   {
    "duration": 9,
    "start_time": "2022-02-26T11:57:49.654Z"
   },
   {
    "duration": 9,
    "start_time": "2022-02-26T11:57:49.665Z"
   },
   {
    "duration": 10,
    "start_time": "2022-02-26T11:57:49.675Z"
   },
   {
    "duration": 50,
    "start_time": "2022-02-26T11:57:49.686Z"
   },
   {
    "duration": 10,
    "start_time": "2022-02-26T11:57:49.738Z"
   },
   {
    "duration": 9,
    "start_time": "2022-02-26T11:57:49.749Z"
   },
   {
    "duration": 8,
    "start_time": "2022-02-26T11:57:49.759Z"
   },
   {
    "duration": 7,
    "start_time": "2022-02-26T11:57:49.769Z"
   },
   {
    "duration": 9,
    "start_time": "2022-02-26T11:57:49.778Z"
   },
   {
    "duration": 46,
    "start_time": "2022-02-26T11:57:49.789Z"
   },
   {
    "duration": 6,
    "start_time": "2022-02-26T11:57:49.837Z"
   },
   {
    "duration": 12,
    "start_time": "2022-02-26T11:57:49.845Z"
   },
   {
    "duration": 5,
    "start_time": "2022-02-26T11:57:49.859Z"
   },
   {
    "duration": 6,
    "start_time": "2022-02-26T11:57:54.942Z"
   },
   {
    "duration": 14,
    "start_time": "2022-02-26T11:58:03.020Z"
   },
   {
    "duration": 3,
    "start_time": "2022-02-26T11:58:29.296Z"
   },
   {
    "duration": 3,
    "start_time": "2022-02-26T11:58:31.881Z"
   },
   {
    "duration": 10,
    "start_time": "2022-02-26T11:58:34.674Z"
   },
   {
    "duration": 6,
    "start_time": "2022-02-26T12:00:01.575Z"
   },
   {
    "duration": 3,
    "start_time": "2022-02-26T12:00:22.902Z"
   },
   {
    "duration": 5,
    "start_time": "2022-02-26T12:00:25.192Z"
   },
   {
    "duration": 6,
    "start_time": "2022-02-26T12:00:29.280Z"
   },
   {
    "duration": 5,
    "start_time": "2022-02-26T12:00:33.526Z"
   },
   {
    "duration": 4,
    "start_time": "2022-02-26T12:00:53.206Z"
   },
   {
    "duration": 2007,
    "start_time": "2022-02-26T12:00:55.772Z"
   },
   {
    "duration": 3,
    "start_time": "2022-02-26T12:00:57.782Z"
   },
   {
    "duration": 52,
    "start_time": "2022-02-26T12:00:57.786Z"
   },
   {
    "duration": 14,
    "start_time": "2022-02-26T12:00:57.839Z"
   },
   {
    "duration": 14,
    "start_time": "2022-02-26T12:00:57.854Z"
   },
   {
    "duration": 11,
    "start_time": "2022-02-26T12:00:57.869Z"
   },
   {
    "duration": 5,
    "start_time": "2022-02-26T12:00:57.882Z"
   },
   {
    "duration": 8,
    "start_time": "2022-02-26T12:00:57.890Z"
   },
   {
    "duration": 32,
    "start_time": "2022-02-26T12:00:57.900Z"
   },
   {
    "duration": 4,
    "start_time": "2022-02-26T12:00:57.933Z"
   },
   {
    "duration": 5,
    "start_time": "2022-02-26T12:00:57.939Z"
   },
   {
    "duration": 7,
    "start_time": "2022-02-26T12:00:57.945Z"
   },
   {
    "duration": 11,
    "start_time": "2022-02-26T12:00:57.954Z"
   },
   {
    "duration": 13,
    "start_time": "2022-02-26T12:00:57.967Z"
   },
   {
    "duration": 13,
    "start_time": "2022-02-26T12:00:57.981Z"
   },
   {
    "duration": 8,
    "start_time": "2022-02-26T12:00:57.995Z"
   },
   {
    "duration": 11,
    "start_time": "2022-02-26T12:00:58.004Z"
   },
   {
    "duration": 28,
    "start_time": "2022-02-26T12:00:58.016Z"
   },
   {
    "duration": 539,
    "start_time": "2022-02-26T12:00:58.046Z"
   },
   {
    "duration": 3,
    "start_time": "2022-02-26T12:00:58.587Z"
   },
   {
    "duration": 12,
    "start_time": "2022-02-26T12:00:58.592Z"
   },
   {
    "duration": 297,
    "start_time": "2022-02-26T12:00:58.606Z"
   },
   {
    "duration": 242,
    "start_time": "2022-02-26T12:00:58.907Z"
   },
   {
    "duration": 244,
    "start_time": "2022-02-26T12:00:59.152Z"
   },
   {
    "duration": 238,
    "start_time": "2022-02-26T12:00:59.397Z"
   },
   {
    "duration": 7,
    "start_time": "2022-02-26T12:00:59.637Z"
   },
   {
    "duration": 416,
    "start_time": "2022-02-26T12:00:59.645Z"
   },
   {
    "duration": 20,
    "start_time": "2022-02-26T12:01:00.063Z"
   },
   {
    "duration": 440,
    "start_time": "2022-02-26T12:01:00.085Z"
   },
   {
    "duration": 15,
    "start_time": "2022-02-26T12:01:00.531Z"
   },
   {
    "duration": 4,
    "start_time": "2022-02-26T12:01:00.547Z"
   },
   {
    "duration": 14,
    "start_time": "2022-02-26T12:01:00.552Z"
   },
   {
    "duration": 9,
    "start_time": "2022-02-26T12:01:00.568Z"
   },
   {
    "duration": 12,
    "start_time": "2022-02-26T12:01:00.579Z"
   },
   {
    "duration": 41,
    "start_time": "2022-02-26T12:01:00.592Z"
   },
   {
    "duration": 9,
    "start_time": "2022-02-26T12:01:00.635Z"
   },
   {
    "duration": 11,
    "start_time": "2022-02-26T12:01:00.646Z"
   },
   {
    "duration": 11,
    "start_time": "2022-02-26T12:01:00.658Z"
   },
   {
    "duration": 9,
    "start_time": "2022-02-26T12:01:00.671Z"
   },
   {
    "duration": 14,
    "start_time": "2022-02-26T12:01:00.681Z"
   },
   {
    "duration": 48,
    "start_time": "2022-02-26T12:01:00.697Z"
   },
   {
    "duration": 23,
    "start_time": "2022-02-26T12:01:00.746Z"
   },
   {
    "duration": 510,
    "start_time": "2022-02-26T12:01:00.771Z"
   },
   {
    "duration": -1417,
    "start_time": "2022-02-26T12:01:02.700Z"
   },
   {
    "duration": -1422,
    "start_time": "2022-02-26T12:01:02.706Z"
   },
   {
    "duration": 4,
    "start_time": "2022-02-26T12:01:12.369Z"
   },
   {
    "duration": 5,
    "start_time": "2022-02-26T12:01:14.344Z"
   },
   {
    "duration": 8,
    "start_time": "2022-02-26T12:01:18.144Z"
   },
   {
    "duration": 4,
    "start_time": "2022-02-26T12:01:53.926Z"
   },
   {
    "duration": 313,
    "start_time": "2022-02-27T09:12:23.011Z"
   },
   {
    "duration": 15084,
    "start_time": "2022-02-27T09:12:26.674Z"
   },
   {
    "duration": 1928,
    "start_time": "2022-02-27T09:12:41.761Z"
   },
   {
    "duration": 54,
    "start_time": "2022-02-27T09:12:43.693Z"
   },
   {
    "duration": 30,
    "start_time": "2022-02-27T09:12:43.750Z"
   },
   {
    "duration": 20,
    "start_time": "2022-02-27T09:12:43.782Z"
   },
   {
    "duration": 18,
    "start_time": "2022-02-27T09:12:43.805Z"
   },
   {
    "duration": 6,
    "start_time": "2022-02-27T09:12:43.825Z"
   },
   {
    "duration": 46,
    "start_time": "2022-02-27T09:12:43.835Z"
   },
   {
    "duration": 10,
    "start_time": "2022-02-27T09:12:43.885Z"
   },
   {
    "duration": 6,
    "start_time": "2022-02-27T09:12:43.897Z"
   },
   {
    "duration": 8,
    "start_time": "2022-02-27T09:12:43.905Z"
   },
   {
    "duration": 9,
    "start_time": "2022-02-27T09:12:43.915Z"
   },
   {
    "duration": 50,
    "start_time": "2022-02-27T09:12:43.926Z"
   },
   {
    "duration": 7,
    "start_time": "2022-02-27T09:12:43.978Z"
   },
   {
    "duration": 14,
    "start_time": "2022-02-27T09:12:43.987Z"
   },
   {
    "duration": 10,
    "start_time": "2022-02-27T09:12:44.004Z"
   },
   {
    "duration": 10,
    "start_time": "2022-02-27T09:12:44.017Z"
   },
   {
    "duration": 23,
    "start_time": "2022-02-27T09:12:44.073Z"
   },
   {
    "duration": 1250,
    "start_time": "2022-02-27T09:12:44.099Z"
   },
   {
    "duration": 4,
    "start_time": "2022-02-27T09:12:45.351Z"
   },
   {
    "duration": 15,
    "start_time": "2022-02-27T09:12:45.373Z"
   },
   {
    "duration": 534,
    "start_time": "2022-02-27T09:12:45.391Z"
   },
   {
    "duration": 443,
    "start_time": "2022-02-27T09:12:45.930Z"
   },
   {
    "duration": 445,
    "start_time": "2022-02-27T09:12:46.376Z"
   },
   {
    "duration": 422,
    "start_time": "2022-02-27T09:12:46.824Z"
   },
   {
    "duration": 9,
    "start_time": "2022-02-27T09:12:47.248Z"
   },
   {
    "duration": 378,
    "start_time": "2022-02-27T09:12:47.259Z"
   },
   {
    "duration": 44,
    "start_time": "2022-02-27T09:12:47.639Z"
   },
   {
    "duration": 895,
    "start_time": "2022-02-27T09:12:47.685Z"
   },
   {
    "duration": 19,
    "start_time": "2022-02-27T09:12:48.583Z"
   },
   {
    "duration": 5,
    "start_time": "2022-02-27T09:12:48.605Z"
   },
   {
    "duration": 16,
    "start_time": "2022-02-27T09:12:48.612Z"
   },
   {
    "duration": 50,
    "start_time": "2022-02-27T09:12:48.631Z"
   },
   {
    "duration": 14,
    "start_time": "2022-02-27T09:12:48.684Z"
   },
   {
    "duration": 19,
    "start_time": "2022-02-27T09:12:48.700Z"
   },
   {
    "duration": 14,
    "start_time": "2022-02-27T09:12:48.721Z"
   },
   {
    "duration": 52,
    "start_time": "2022-02-27T09:12:48.738Z"
   },
   {
    "duration": 14,
    "start_time": "2022-02-27T09:12:48.793Z"
   },
   {
    "duration": 14,
    "start_time": "2022-02-27T09:12:48.810Z"
   },
   {
    "duration": 48,
    "start_time": "2022-02-27T09:12:48.827Z"
   },
   {
    "duration": 41,
    "start_time": "2022-02-27T09:12:48.877Z"
   },
   {
    "duration": 63,
    "start_time": "2022-02-27T09:12:48.921Z"
   },
   {
    "duration": 518,
    "start_time": "2022-02-27T09:12:48.986Z"
   },
   {
    "duration": -67,
    "start_time": "2022-02-27T09:12:49.574Z"
   },
   {
    "duration": -77,
    "start_time": "2022-02-27T09:12:49.585Z"
   },
   {
    "duration": 248,
    "start_time": "2022-02-27T09:16:07.261Z"
   },
   {
    "duration": 729,
    "start_time": "2022-02-27T09:16:31.484Z"
   },
   {
    "duration": 675,
    "start_time": "2022-02-27T09:16:47.164Z"
   },
   {
    "duration": 488,
    "start_time": "2022-02-27T09:17:54.526Z"
   },
   {
    "duration": 448,
    "start_time": "2022-02-27T09:18:01.519Z"
   },
   {
    "duration": 454,
    "start_time": "2022-02-27T09:18:13.925Z"
   },
   {
    "duration": 472,
    "start_time": "2022-02-27T09:19:54.521Z"
   },
   {
    "duration": 493,
    "start_time": "2022-02-27T09:20:22.721Z"
   },
   {
    "duration": 1007,
    "start_time": "2022-02-27T09:20:41.661Z"
   },
   {
    "duration": 1004,
    "start_time": "2022-02-27T09:20:54.603Z"
   },
   {
    "duration": 884,
    "start_time": "2022-02-27T09:22:34.667Z"
   },
   {
    "duration": 922,
    "start_time": "2022-02-27T09:24:04.902Z"
   },
   {
    "duration": 1071,
    "start_time": "2022-02-27T09:24:45.760Z"
   },
   {
    "duration": 12,
    "start_time": "2022-02-27T09:27:11.975Z"
   },
   {
    "duration": 7,
    "start_time": "2022-02-27T09:27:24.094Z"
   },
   {
    "duration": 6,
    "start_time": "2022-02-27T09:27:30.103Z"
   },
   {
    "duration": 10,
    "start_time": "2022-02-27T09:27:32.687Z"
   },
   {
    "duration": 3,
    "start_time": "2022-02-27T09:27:39.733Z"
   },
   {
    "duration": 8,
    "start_time": "2022-02-27T09:27:41.983Z"
   },
   {
    "duration": 7,
    "start_time": "2022-02-27T09:27:43.767Z"
   },
   {
    "duration": 3147,
    "start_time": "2022-02-27T09:27:53.108Z"
   },
   {
    "duration": 5,
    "start_time": "2022-02-27T09:27:56.258Z"
   },
   {
    "duration": 58,
    "start_time": "2022-02-27T09:27:56.266Z"
   },
   {
    "duration": 21,
    "start_time": "2022-02-27T09:27:56.327Z"
   },
   {
    "duration": 38,
    "start_time": "2022-02-27T09:27:56.351Z"
   },
   {
    "duration": 16,
    "start_time": "2022-02-27T09:27:56.391Z"
   },
   {
    "duration": 3,
    "start_time": "2022-02-27T09:27:56.410Z"
   },
   {
    "duration": 388,
    "start_time": "2022-02-27T09:28:00.860Z"
   },
   {
    "duration": 6,
    "start_time": "2022-02-27T09:28:37.356Z"
   },
   {
    "duration": 7,
    "start_time": "2022-02-27T09:28:39.583Z"
   },
   {
    "duration": 14,
    "start_time": "2022-02-27T09:28:50.822Z"
   },
   {
    "duration": 6,
    "start_time": "2022-02-27T09:29:18.636Z"
   },
   {
    "duration": 7,
    "start_time": "2022-02-27T09:29:20.910Z"
   },
   {
    "duration": 14,
    "start_time": "2022-02-27T09:29:25.990Z"
   },
   {
    "duration": 7,
    "start_time": "2022-02-27T09:29:42.951Z"
   },
   {
    "duration": 3151,
    "start_time": "2022-02-27T09:29:45.864Z"
   },
   {
    "duration": 5,
    "start_time": "2022-02-27T09:29:49.018Z"
   },
   {
    "duration": 58,
    "start_time": "2022-02-27T09:29:49.026Z"
   },
   {
    "duration": 21,
    "start_time": "2022-02-27T09:29:49.087Z"
   },
   {
    "duration": 22,
    "start_time": "2022-02-27T09:29:49.110Z"
   },
   {
    "duration": 40,
    "start_time": "2022-02-27T09:29:49.135Z"
   },
   {
    "duration": 246,
    "start_time": "2022-02-27T09:29:49.177Z"
   },
   {
    "duration": -157,
    "start_time": "2022-02-27T09:29:49.584Z"
   },
   {
    "duration": -159,
    "start_time": "2022-02-27T09:29:49.587Z"
   },
   {
    "duration": -160,
    "start_time": "2022-02-27T09:29:49.590Z"
   },
   {
    "duration": -161,
    "start_time": "2022-02-27T09:29:49.592Z"
   },
   {
    "duration": -254,
    "start_time": "2022-02-27T09:29:49.686Z"
   },
   {
    "duration": -269,
    "start_time": "2022-02-27T09:29:49.702Z"
   },
   {
    "duration": -272,
    "start_time": "2022-02-27T09:29:49.707Z"
   },
   {
    "duration": -276,
    "start_time": "2022-02-27T09:29:49.712Z"
   },
   {
    "duration": -279,
    "start_time": "2022-02-27T09:29:49.716Z"
   },
   {
    "duration": -281,
    "start_time": "2022-02-27T09:29:49.719Z"
   },
   {
    "duration": -283,
    "start_time": "2022-02-27T09:29:49.723Z"
   },
   {
    "duration": -285,
    "start_time": "2022-02-27T09:29:49.726Z"
   },
   {
    "duration": -287,
    "start_time": "2022-02-27T09:29:49.729Z"
   },
   {
    "duration": -287,
    "start_time": "2022-02-27T09:29:49.731Z"
   },
   {
    "duration": -288,
    "start_time": "2022-02-27T09:29:49.733Z"
   },
   {
    "duration": -346,
    "start_time": "2022-02-27T09:29:49.792Z"
   },
   {
    "duration": -348,
    "start_time": "2022-02-27T09:29:49.795Z"
   },
   {
    "duration": -348,
    "start_time": "2022-02-27T09:29:49.797Z"
   },
   {
    "duration": -352,
    "start_time": "2022-02-27T09:29:49.802Z"
   },
   {
    "duration": -354,
    "start_time": "2022-02-27T09:29:49.805Z"
   },
   {
    "duration": -355,
    "start_time": "2022-02-27T09:29:49.807Z"
   },
   {
    "duration": -355,
    "start_time": "2022-02-27T09:29:49.808Z"
   },
   {
    "duration": -356,
    "start_time": "2022-02-27T09:29:49.811Z"
   },
   {
    "duration": -358,
    "start_time": "2022-02-27T09:29:49.814Z"
   },
   {
    "duration": -359,
    "start_time": "2022-02-27T09:29:49.816Z"
   },
   {
    "duration": -359,
    "start_time": "2022-02-27T09:29:49.817Z"
   },
   {
    "duration": -436,
    "start_time": "2022-02-27T09:29:49.895Z"
   },
   {
    "duration": -427,
    "start_time": "2022-02-27T09:29:49.900Z"
   },
   {
    "duration": -429,
    "start_time": "2022-02-27T09:29:49.903Z"
   },
   {
    "duration": -430,
    "start_time": "2022-02-27T09:29:49.905Z"
   },
   {
    "duration": -431,
    "start_time": "2022-02-27T09:29:49.908Z"
   },
   {
    "duration": -433,
    "start_time": "2022-02-27T09:29:49.911Z"
   },
   {
    "duration": -434,
    "start_time": "2022-02-27T09:29:49.913Z"
   },
   {
    "duration": -435,
    "start_time": "2022-02-27T09:29:49.915Z"
   },
   {
    "duration": -436,
    "start_time": "2022-02-27T09:29:49.917Z"
   },
   {
    "duration": -435,
    "start_time": "2022-02-27T09:29:49.918Z"
   },
   {
    "duration": -463,
    "start_time": "2022-02-27T09:29:49.947Z"
   },
   {
    "duration": -465,
    "start_time": "2022-02-27T09:29:49.950Z"
   },
   {
    "duration": 13,
    "start_time": "2022-02-27T09:30:06.094Z"
   },
   {
    "duration": 2964,
    "start_time": "2022-02-27T09:30:32.957Z"
   },
   {
    "duration": 5,
    "start_time": "2022-02-27T09:30:35.924Z"
   },
   {
    "duration": 55,
    "start_time": "2022-02-27T09:30:35.932Z"
   },
   {
    "duration": 20,
    "start_time": "2022-02-27T09:30:35.990Z"
   },
   {
    "duration": 21,
    "start_time": "2022-02-27T09:30:36.013Z"
   },
   {
    "duration": 38,
    "start_time": "2022-02-27T09:30:36.036Z"
   },
   {
    "duration": 13,
    "start_time": "2022-02-27T09:30:36.077Z"
   },
   {
    "duration": 11,
    "start_time": "2022-02-27T09:30:36.094Z"
   },
   {
    "duration": 5,
    "start_time": "2022-02-27T09:30:36.108Z"
   },
   {
    "duration": 7,
    "start_time": "2022-02-27T09:30:36.116Z"
   },
   {
    "duration": 10,
    "start_time": "2022-02-27T09:30:36.125Z"
   },
   {
    "duration": 9,
    "start_time": "2022-02-27T09:30:36.174Z"
   },
   {
    "duration": 12,
    "start_time": "2022-02-27T09:30:36.185Z"
   },
   {
    "duration": 16,
    "start_time": "2022-02-27T09:30:36.200Z"
   },
   {
    "duration": 9,
    "start_time": "2022-02-27T09:30:36.218Z"
   },
   {
    "duration": 44,
    "start_time": "2022-02-27T09:30:36.229Z"
   },
   {
    "duration": 24,
    "start_time": "2022-02-27T09:30:36.276Z"
   },
   {
    "duration": 1023,
    "start_time": "2022-02-27T09:30:36.302Z"
   },
   {
    "duration": 4,
    "start_time": "2022-02-27T09:30:37.328Z"
   },
   {
    "duration": 19,
    "start_time": "2022-02-27T09:30:37.334Z"
   },
   {
    "duration": 546,
    "start_time": "2022-02-27T09:30:37.355Z"
   },
   {
    "duration": 453,
    "start_time": "2022-02-27T09:30:37.903Z"
   },
   {
    "duration": 466,
    "start_time": "2022-02-27T09:30:38.361Z"
   },
   {
    "duration": 435,
    "start_time": "2022-02-27T09:30:38.830Z"
   },
   {
    "duration": 13,
    "start_time": "2022-02-27T09:30:39.267Z"
   },
   {
    "duration": 389,
    "start_time": "2022-02-27T09:30:39.283Z"
   },
   {
    "duration": 30,
    "start_time": "2022-02-27T09:30:39.675Z"
   },
   {
    "duration": 1066,
    "start_time": "2022-02-27T09:30:39.707Z"
   },
   {
    "duration": 20,
    "start_time": "2022-02-27T09:30:40.775Z"
   },
   {
    "duration": 5,
    "start_time": "2022-02-27T09:30:40.797Z"
   },
   {
    "duration": 19,
    "start_time": "2022-02-27T09:30:40.804Z"
   },
   {
    "duration": 14,
    "start_time": "2022-02-27T09:30:40.825Z"
   },
   {
    "duration": 14,
    "start_time": "2022-02-27T09:30:40.873Z"
   },
   {
    "duration": 15,
    "start_time": "2022-02-27T09:30:40.889Z"
   },
   {
    "duration": 14,
    "start_time": "2022-02-27T09:30:40.906Z"
   },
   {
    "duration": 52,
    "start_time": "2022-02-27T09:30:40.923Z"
   },
   {
    "duration": 14,
    "start_time": "2022-02-27T09:30:40.977Z"
   },
   {
    "duration": 14,
    "start_time": "2022-02-27T09:30:40.994Z"
   },
   {
    "duration": 15,
    "start_time": "2022-02-27T09:30:41.010Z"
   },
   {
    "duration": 73,
    "start_time": "2022-02-27T09:30:41.028Z"
   },
   {
    "duration": 36,
    "start_time": "2022-02-27T09:30:41.104Z"
   },
   {
    "duration": 528,
    "start_time": "2022-02-27T09:30:41.143Z"
   },
   {
    "duration": -148,
    "start_time": "2022-02-27T09:30:41.821Z"
   },
   {
    "duration": -150,
    "start_time": "2022-02-27T09:30:41.824Z"
   },
   {
    "duration": 6,
    "start_time": "2022-02-27T09:32:05.747Z"
   },
   {
    "duration": 9,
    "start_time": "2022-02-27T09:32:13.136Z"
   },
   {
    "duration": 14,
    "start_time": "2022-02-27T09:32:33.756Z"
   },
   {
    "duration": 294,
    "start_time": "2022-02-27T09:34:23.920Z"
   },
   {
    "duration": 42,
    "start_time": "2022-02-27T09:34:48.873Z"
   },
   {
    "duration": 41,
    "start_time": "2022-02-27T09:35:01.706Z"
   },
   {
    "duration": 40,
    "start_time": "2022-02-27T09:35:13.596Z"
   },
   {
    "duration": 38,
    "start_time": "2022-02-27T09:35:56.187Z"
   },
   {
    "duration": 388,
    "start_time": "2022-02-27T09:36:03.374Z"
   },
   {
    "duration": 390,
    "start_time": "2022-02-27T09:36:47.565Z"
   },
   {
    "duration": 48,
    "start_time": "2022-02-27T09:37:47.710Z"
   },
   {
    "duration": 381,
    "start_time": "2022-02-27T09:37:51.753Z"
   },
   {
    "duration": 3290,
    "start_time": "2022-02-27T09:38:21.490Z"
   },
   {
    "duration": 5,
    "start_time": "2022-02-27T09:38:24.783Z"
   },
   {
    "duration": 71,
    "start_time": "2022-02-27T09:38:24.791Z"
   },
   {
    "duration": 21,
    "start_time": "2022-02-27T09:38:24.864Z"
   },
   {
    "duration": 36,
    "start_time": "2022-02-27T09:38:24.888Z"
   },
   {
    "duration": 25,
    "start_time": "2022-02-27T09:38:24.927Z"
   },
   {
    "duration": 21,
    "start_time": "2022-02-27T09:38:24.955Z"
   },
   {
    "duration": 11,
    "start_time": "2022-02-27T09:38:24.980Z"
   },
   {
    "duration": 16,
    "start_time": "2022-02-27T09:38:24.994Z"
   },
   {
    "duration": 9,
    "start_time": "2022-02-27T09:38:25.012Z"
   },
   {
    "duration": 26,
    "start_time": "2022-02-27T09:38:25.024Z"
   },
   {
    "duration": 18,
    "start_time": "2022-02-27T09:38:25.053Z"
   },
   {
    "duration": 22,
    "start_time": "2022-02-27T09:38:25.074Z"
   },
   {
    "duration": 27,
    "start_time": "2022-02-27T09:38:25.098Z"
   },
   {
    "duration": 28,
    "start_time": "2022-02-27T09:38:25.128Z"
   },
   {
    "duration": 39,
    "start_time": "2022-02-27T09:38:25.158Z"
   },
   {
    "duration": 998,
    "start_time": "2022-02-27T09:38:25.200Z"
   },
   {
    "duration": 5,
    "start_time": "2022-02-27T09:38:26.202Z"
   },
   {
    "duration": 27,
    "start_time": "2022-02-27T09:38:26.210Z"
   },
   {
    "duration": 534,
    "start_time": "2022-02-27T09:38:26.239Z"
   },
   {
    "duration": 444,
    "start_time": "2022-02-27T09:38:26.775Z"
   },
   {
    "duration": 465,
    "start_time": "2022-02-27T09:38:27.221Z"
   },
   {
    "duration": 464,
    "start_time": "2022-02-27T09:38:27.691Z"
   },
   {
    "duration": 20,
    "start_time": "2022-02-27T09:38:28.157Z"
   },
   {
    "duration": 393,
    "start_time": "2022-02-27T09:38:28.180Z"
   },
   {
    "duration": 32,
    "start_time": "2022-02-27T09:38:28.576Z"
   },
   {
    "duration": 963,
    "start_time": "2022-02-27T09:38:28.610Z"
   },
   {
    "duration": 22,
    "start_time": "2022-02-27T09:38:29.575Z"
   },
   {
    "duration": 6,
    "start_time": "2022-02-27T09:38:29.600Z"
   },
   {
    "duration": 17,
    "start_time": "2022-02-27T09:38:29.609Z"
   },
   {
    "duration": 55,
    "start_time": "2022-02-27T09:38:29.628Z"
   },
   {
    "duration": 23,
    "start_time": "2022-02-27T09:38:29.685Z"
   },
   {
    "duration": 14,
    "start_time": "2022-02-27T09:38:29.710Z"
   },
   {
    "duration": 16,
    "start_time": "2022-02-27T09:38:29.726Z"
   },
   {
    "duration": 15,
    "start_time": "2022-02-27T09:38:29.773Z"
   },
   {
    "duration": 15,
    "start_time": "2022-02-27T09:38:29.790Z"
   },
   {
    "duration": 16,
    "start_time": "2022-02-27T09:38:29.808Z"
   },
   {
    "duration": 53,
    "start_time": "2022-02-27T09:38:29.827Z"
   },
   {
    "duration": 40,
    "start_time": "2022-02-27T09:38:29.883Z"
   },
   {
    "duration": 75,
    "start_time": "2022-02-27T09:38:29.926Z"
   },
   {
    "duration": 488,
    "start_time": "2022-02-27T09:38:30.004Z"
   },
   {
    "duration": -63,
    "start_time": "2022-02-27T09:38:30.557Z"
   },
   {
    "duration": -63,
    "start_time": "2022-02-27T09:38:30.559Z"
   },
   {
    "duration": 466,
    "start_time": "2022-02-27T09:40:18.186Z"
   },
   {
    "duration": 389,
    "start_time": "2022-02-27T09:41:04.210Z"
   },
   {
    "duration": 6,
    "start_time": "2022-02-27T09:41:31.961Z"
   },
   {
    "duration": 8,
    "start_time": "2022-02-27T09:42:01.969Z"
   },
   {
    "duration": 6,
    "start_time": "2022-02-27T09:42:56.705Z"
   },
   {
    "duration": 403,
    "start_time": "2022-02-27T09:43:26.513Z"
   },
   {
    "duration": 83,
    "start_time": "2022-02-27T09:44:53.014Z"
   },
   {
    "duration": 374,
    "start_time": "2022-02-27T09:52:29.620Z"
   },
   {
    "duration": 338,
    "start_time": "2022-02-27T09:56:37.698Z"
   },
   {
    "duration": 50,
    "start_time": "2022-02-27T10:00:17.458Z"
   },
   {
    "duration": 242,
    "start_time": "2022-02-27T10:00:54.723Z"
   },
   {
    "duration": 2972,
    "start_time": "2022-02-27T10:01:06.473Z"
   },
   {
    "duration": 5,
    "start_time": "2022-02-27T10:01:09.448Z"
   },
   {
    "duration": 58,
    "start_time": "2022-02-27T10:01:09.456Z"
   },
   {
    "duration": 20,
    "start_time": "2022-02-27T10:01:09.517Z"
   },
   {
    "duration": 34,
    "start_time": "2022-02-27T10:01:09.539Z"
   },
   {
    "duration": 15,
    "start_time": "2022-02-27T10:01:09.575Z"
   },
   {
    "duration": 13,
    "start_time": "2022-02-27T10:01:09.592Z"
   },
   {
    "duration": 13,
    "start_time": "2022-02-27T10:01:09.609Z"
   },
   {
    "duration": 6,
    "start_time": "2022-02-27T10:01:09.625Z"
   },
   {
    "duration": 40,
    "start_time": "2022-02-27T10:01:09.633Z"
   },
   {
    "duration": 9,
    "start_time": "2022-02-27T10:01:09.676Z"
   },
   {
    "duration": 10,
    "start_time": "2022-02-27T10:01:09.687Z"
   },
   {
    "duration": 16,
    "start_time": "2022-02-27T10:01:09.699Z"
   },
   {
    "duration": 9,
    "start_time": "2022-02-27T10:01:09.717Z"
   },
   {
    "duration": 45,
    "start_time": "2022-02-27T10:01:09.728Z"
   },
   {
    "duration": 25,
    "start_time": "2022-02-27T10:01:09.775Z"
   },
   {
    "duration": 881,
    "start_time": "2022-02-27T10:01:09.802Z"
   },
   {
    "duration": 4,
    "start_time": "2022-02-27T10:01:10.685Z"
   },
   {
    "duration": 17,
    "start_time": "2022-02-27T10:01:10.691Z"
   },
   {
    "duration": 561,
    "start_time": "2022-02-27T10:01:10.710Z"
   },
   {
    "duration": 448,
    "start_time": "2022-02-27T10:01:11.274Z"
   },
   {
    "duration": 483,
    "start_time": "2022-02-27T10:01:11.724Z"
   },
   {
    "duration": 453,
    "start_time": "2022-02-27T10:01:12.212Z"
   },
   {
    "duration": 9,
    "start_time": "2022-02-27T10:01:12.672Z"
   },
   {
    "duration": 393,
    "start_time": "2022-02-27T10:01:12.683Z"
   },
   {
    "duration": 32,
    "start_time": "2022-02-27T10:01:13.079Z"
   },
   {
    "duration": 836,
    "start_time": "2022-02-27T10:01:13.114Z"
   },
   {
    "duration": 30,
    "start_time": "2022-02-27T10:01:13.952Z"
   },
   {
    "duration": 6,
    "start_time": "2022-02-27T10:01:13.984Z"
   },
   {
    "duration": 20,
    "start_time": "2022-02-27T10:01:13.992Z"
   },
   {
    "duration": 15,
    "start_time": "2022-02-27T10:01:14.014Z"
   },
   {
    "duration": 51,
    "start_time": "2022-02-27T10:01:14.031Z"
   },
   {
    "duration": 190,
    "start_time": "2022-02-27T10:01:14.084Z"
   },
   {
    "duration": 15,
    "start_time": "2022-02-27T10:01:14.276Z"
   },
   {
    "duration": 13,
    "start_time": "2022-02-27T10:01:14.294Z"
   },
   {
    "duration": 14,
    "start_time": "2022-02-27T10:01:14.310Z"
   },
   {
    "duration": 51,
    "start_time": "2022-02-27T10:01:14.326Z"
   },
   {
    "duration": 14,
    "start_time": "2022-02-27T10:01:14.379Z"
   },
   {
    "duration": 38,
    "start_time": "2022-02-27T10:01:14.395Z"
   },
   {
    "duration": 69,
    "start_time": "2022-02-27T10:01:14.436Z"
   },
   {
    "duration": 420,
    "start_time": "2022-02-27T10:01:14.508Z"
   },
   {
    "duration": -138,
    "start_time": "2022-02-27T10:01:15.069Z"
   },
   {
    "duration": -143,
    "start_time": "2022-02-27T10:01:15.075Z"
   },
   {
    "duration": 250,
    "start_time": "2022-02-27T10:01:31.938Z"
   },
   {
    "duration": 17,
    "start_time": "2022-02-27T10:02:02.625Z"
   },
   {
    "duration": 16,
    "start_time": "2022-02-27T10:02:53.843Z"
   },
   {
    "duration": 53,
    "start_time": "2022-02-27T10:03:36.285Z"
   },
   {
    "duration": 24,
    "start_time": "2022-02-27T10:03:43.116Z"
   },
   {
    "duration": 325,
    "start_time": "2022-02-27T14:57:27.984Z"
   },
   {
    "duration": 128384,
    "start_time": "2022-02-27T15:00:21.372Z"
   },
   {
    "duration": 16,
    "start_time": "2022-02-27T15:02:30.578Z"
   },
   {
    "duration": 18,
    "start_time": "2022-02-27T15:02:30.595Z"
   },
   {
    "duration": 15,
    "start_time": "2022-02-27T15:02:30.615Z"
   },
   {
    "duration": 15,
    "start_time": "2022-02-27T15:02:30.632Z"
   },
   {
    "duration": 20,
    "start_time": "2022-02-27T15:02:30.648Z"
   },
   {
    "duration": 4,
    "start_time": "2022-02-27T15:02:30.679Z"
   },
   {
    "duration": 26,
    "start_time": "2022-02-27T15:02:30.686Z"
   },
   {
    "duration": 18,
    "start_time": "2022-02-27T15:02:30.714Z"
   },
   {
    "duration": 13,
    "start_time": "2022-02-27T15:02:30.733Z"
   },
   {
    "duration": 17,
    "start_time": "2022-02-27T15:02:30.748Z"
   },
   {
    "duration": 16,
    "start_time": "2022-02-27T15:02:30.768Z"
   },
   {
    "duration": 15,
    "start_time": "2022-02-27T15:02:30.788Z"
   },
   {
    "duration": 33,
    "start_time": "2022-02-27T15:02:30.805Z"
   },
   {
    "duration": 5,
    "start_time": "2022-02-27T15:10:38.624Z"
   },
   {
    "duration": 10,
    "start_time": "2022-02-27T15:10:38.685Z"
   },
   {
    "duration": 29,
    "start_time": "2022-02-27T15:10:38.757Z"
   },
   {
    "duration": 13,
    "start_time": "2022-02-27T15:10:38.816Z"
   },
   {
    "duration": 17,
    "start_time": "2022-02-27T15:10:38.891Z"
   },
   {
    "duration": 12,
    "start_time": "2022-02-27T15:10:38.936Z"
   },
   {
    "duration": 14,
    "start_time": "2022-02-27T15:10:39.000Z"
   },
   {
    "duration": 41,
    "start_time": "2022-02-27T15:10:39.038Z"
   },
   {
    "duration": 18,
    "start_time": "2022-02-27T15:10:39.099Z"
   },
   {
    "duration": 8,
    "start_time": "2022-02-27T15:10:39.138Z"
   },
   {
    "duration": 8,
    "start_time": "2022-02-27T15:10:39.198Z"
   },
   {
    "duration": 32,
    "start_time": "2022-02-27T15:10:39.246Z"
   },
   {
    "duration": -1165,
    "start_time": "2022-02-27T15:10:40.965Z"
   },
   {
    "duration": -1167,
    "start_time": "2022-02-27T15:10:40.970Z"
   },
   {
    "duration": -1170,
    "start_time": "2022-02-27T15:10:40.977Z"
   },
   {
    "duration": -1173,
    "start_time": "2022-02-27T15:10:40.983Z"
   },
   {
    "duration": -1174,
    "start_time": "2022-02-27T15:10:40.989Z"
   },
   {
    "duration": -1178,
    "start_time": "2022-02-27T15:10:40.997Z"
   },
   {
    "duration": -1180,
    "start_time": "2022-02-27T15:10:41.003Z"
   },
   {
    "duration": -1185,
    "start_time": "2022-02-27T15:10:41.011Z"
   },
   {
    "duration": -1305,
    "start_time": "2022-02-27T15:10:41.134Z"
   },
   {
    "duration": -1317,
    "start_time": "2022-02-27T15:10:41.149Z"
   },
   {
    "duration": -1282,
    "start_time": "2022-02-27T15:10:41.158Z"
   },
   {
    "duration": -1287,
    "start_time": "2022-02-27T15:10:41.167Z"
   },
   {
    "duration": -1290,
    "start_time": "2022-02-27T15:10:41.173Z"
   },
   {
    "duration": -1293,
    "start_time": "2022-02-27T15:10:41.179Z"
   },
   {
    "duration": -1294,
    "start_time": "2022-02-27T15:10:41.184Z"
   },
   {
    "duration": -1299,
    "start_time": "2022-02-27T15:10:41.192Z"
   },
   {
    "duration": -1303,
    "start_time": "2022-02-27T15:10:41.199Z"
   },
   {
    "duration": -1306,
    "start_time": "2022-02-27T15:10:41.205Z"
   },
   {
    "duration": -1326,
    "start_time": "2022-02-27T15:10:41.228Z"
   },
   {
    "duration": -1333,
    "start_time": "2022-02-27T15:10:41.238Z"
   },
   {
    "duration": -1340,
    "start_time": "2022-02-27T15:10:41.248Z"
   },
   {
    "duration": -1343,
    "start_time": "2022-02-27T15:10:41.255Z"
   },
   {
    "duration": -1347,
    "start_time": "2022-02-27T15:10:41.262Z"
   },
   {
    "duration": -1291,
    "start_time": "2022-02-27T15:10:41.269Z"
   },
   {
    "duration": -1292,
    "start_time": "2022-02-27T15:10:41.274Z"
   },
   {
    "duration": -1296,
    "start_time": "2022-02-27T15:10:41.281Z"
   },
   {
    "duration": -1297,
    "start_time": "2022-02-27T15:10:41.286Z"
   },
   {
    "duration": -1300,
    "start_time": "2022-02-27T15:10:41.292Z"
   },
   {
    "duration": -1302,
    "start_time": "2022-02-27T15:10:41.297Z"
   },
   {
    "duration": -1311,
    "start_time": "2022-02-27T15:10:41.309Z"
   },
   {
    "duration": -1314,
    "start_time": "2022-02-27T15:10:41.316Z"
   },
   {
    "duration": -1341,
    "start_time": "2022-02-27T15:10:41.347Z"
   },
   {
    "duration": -1351,
    "start_time": "2022-02-27T15:10:41.361Z"
   },
   {
    "duration": 3,
    "start_time": "2022-02-27T15:12:59.165Z"
   },
   {
    "duration": 17,
    "start_time": "2022-02-27T15:12:59.170Z"
   },
   {
    "duration": 54,
    "start_time": "2022-02-27T15:12:59.189Z"
   },
   {
    "duration": 14,
    "start_time": "2022-02-27T15:12:59.245Z"
   },
   {
    "duration": 36,
    "start_time": "2022-02-27T15:12:59.261Z"
   },
   {
    "duration": 24,
    "start_time": "2022-02-27T15:12:59.299Z"
   },
   {
    "duration": 23,
    "start_time": "2022-02-27T15:12:59.325Z"
   },
   {
    "duration": 30,
    "start_time": "2022-02-27T15:12:59.350Z"
   },
   {
    "duration": 14,
    "start_time": "2022-02-27T15:12:59.382Z"
   },
   {
    "duration": 32,
    "start_time": "2022-02-27T15:12:59.398Z"
   },
   {
    "duration": 31,
    "start_time": "2022-02-27T15:12:59.432Z"
   },
   {
    "duration": 34,
    "start_time": "2022-02-27T15:12:59.465Z"
   },
   {
    "duration": 24,
    "start_time": "2022-02-27T15:12:59.500Z"
   },
   {
    "duration": 10,
    "start_time": "2022-02-27T15:12:59.526Z"
   },
   {
    "duration": 19,
    "start_time": "2022-02-27T15:12:59.538Z"
   },
   {
    "duration": 26,
    "start_time": "2022-02-27T15:12:59.559Z"
   },
   {
    "duration": 3,
    "start_time": "2022-02-27T15:18:16.702Z"
   },
   {
    "duration": 1503,
    "start_time": "2022-02-27T15:18:16.707Z"
   },
   {
    "duration": 40,
    "start_time": "2022-02-27T15:18:18.213Z"
   },
   {
    "duration": 22,
    "start_time": "2022-02-27T15:18:18.255Z"
   },
   {
    "duration": 15,
    "start_time": "2022-02-27T15:18:18.278Z"
   },
   {
    "duration": 13,
    "start_time": "2022-02-27T15:18:18.294Z"
   },
   {
    "duration": 10,
    "start_time": "2022-02-27T15:18:18.309Z"
   },
   {
    "duration": 9,
    "start_time": "2022-02-27T15:18:18.320Z"
   },
   {
    "duration": 5,
    "start_time": "2022-02-27T15:18:18.332Z"
   },
   {
    "duration": 40,
    "start_time": "2022-02-27T15:18:18.339Z"
   },
   {
    "duration": 7,
    "start_time": "2022-02-27T15:18:18.380Z"
   },
   {
    "duration": 9,
    "start_time": "2022-02-27T15:18:18.388Z"
   },
   {
    "duration": 10,
    "start_time": "2022-02-27T15:18:18.399Z"
   },
   {
    "duration": 7,
    "start_time": "2022-02-27T15:18:18.410Z"
   },
   {
    "duration": 6,
    "start_time": "2022-02-27T15:18:18.418Z"
   },
   {
    "duration": 18,
    "start_time": "2022-02-27T15:18:18.425Z"
   },
   {
    "duration": 4,
    "start_time": "2022-02-27T15:19:50.959Z"
   },
   {
    "duration": 1563,
    "start_time": "2022-02-27T15:19:50.965Z"
   },
   {
    "duration": 44,
    "start_time": "2022-02-27T15:19:52.530Z"
   },
   {
    "duration": 20,
    "start_time": "2022-02-27T15:19:52.577Z"
   },
   {
    "duration": 16,
    "start_time": "2022-02-27T15:19:52.599Z"
   },
   {
    "duration": 14,
    "start_time": "2022-02-27T15:19:52.617Z"
   },
   {
    "duration": 13,
    "start_time": "2022-02-27T15:19:52.633Z"
   },
   {
    "duration": 8,
    "start_time": "2022-02-27T15:19:52.680Z"
   },
   {
    "duration": 8,
    "start_time": "2022-02-27T15:19:52.690Z"
   },
   {
    "duration": 7,
    "start_time": "2022-02-27T15:19:52.699Z"
   },
   {
    "duration": 8,
    "start_time": "2022-02-27T15:19:52.707Z"
   },
   {
    "duration": 10,
    "start_time": "2022-02-27T15:19:52.717Z"
   },
   {
    "duration": 18,
    "start_time": "2022-02-27T15:19:52.728Z"
   },
   {
    "duration": 29,
    "start_time": "2022-02-27T15:19:52.748Z"
   },
   {
    "duration": 7,
    "start_time": "2022-02-27T15:19:52.779Z"
   },
   {
    "duration": 21,
    "start_time": "2022-02-27T15:19:52.788Z"
   },
   {
    "duration": 4,
    "start_time": "2022-02-27T15:24:18.631Z"
   },
   {
    "duration": 1496,
    "start_time": "2022-02-27T15:24:18.636Z"
   },
   {
    "duration": 40,
    "start_time": "2022-02-27T15:24:20.134Z"
   },
   {
    "duration": 18,
    "start_time": "2022-02-27T15:24:20.176Z"
   },
   {
    "duration": 21,
    "start_time": "2022-02-27T15:24:20.196Z"
   },
   {
    "duration": 13,
    "start_time": "2022-02-27T15:24:20.218Z"
   },
   {
    "duration": 12,
    "start_time": "2022-02-27T15:24:20.233Z"
   },
   {
    "duration": 30,
    "start_time": "2022-02-27T15:24:20.247Z"
   },
   {
    "duration": 4,
    "start_time": "2022-02-27T15:24:20.280Z"
   },
   {
    "duration": 11,
    "start_time": "2022-02-27T15:24:20.287Z"
   },
   {
    "duration": 9,
    "start_time": "2022-02-27T15:24:20.300Z"
   },
   {
    "duration": 9,
    "start_time": "2022-02-27T15:24:20.311Z"
   },
   {
    "duration": 11,
    "start_time": "2022-02-27T15:24:20.322Z"
   },
   {
    "duration": 6,
    "start_time": "2022-02-27T15:24:20.335Z"
   },
   {
    "duration": 6,
    "start_time": "2022-02-27T15:24:20.343Z"
   },
   {
    "duration": 42,
    "start_time": "2022-02-27T15:24:20.350Z"
   },
   {
    "duration": 1625,
    "start_time": "2022-02-27T15:34:33.615Z"
   },
   {
    "duration": 44,
    "start_time": "2022-02-27T15:34:37.674Z"
   },
   {
    "duration": 20,
    "start_time": "2022-02-27T15:34:45.005Z"
   },
   {
    "duration": -1400,
    "start_time": "2022-02-27T15:42:30.768Z"
   },
   {
    "duration": -1407,
    "start_time": "2022-02-27T15:42:30.776Z"
   },
   {
    "duration": -1415,
    "start_time": "2022-02-27T15:42:30.785Z"
   },
   {
    "duration": -1428,
    "start_time": "2022-02-27T15:42:30.798Z"
   },
   {
    "duration": -1461,
    "start_time": "2022-02-27T15:42:30.833Z"
   },
   {
    "duration": -1537,
    "start_time": "2022-02-27T15:42:30.910Z"
   },
   {
    "duration": -1546,
    "start_time": "2022-02-27T15:42:30.920Z"
   },
   {
    "duration": -1549,
    "start_time": "2022-02-27T15:42:30.924Z"
   },
   {
    "duration": -1553,
    "start_time": "2022-02-27T15:42:30.929Z"
   },
   {
    "duration": -1596,
    "start_time": "2022-02-27T15:42:30.973Z"
   },
   {
    "duration": -1603,
    "start_time": "2022-02-27T15:42:30.981Z"
   },
   {
    "duration": -1610,
    "start_time": "2022-02-27T15:42:30.990Z"
   },
   {
    "duration": -1617,
    "start_time": "2022-02-27T15:42:30.998Z"
   },
   {
    "duration": -1622,
    "start_time": "2022-02-27T15:42:31.004Z"
   },
   {
    "duration": -1625,
    "start_time": "2022-02-27T15:42:31.008Z"
   },
   {
    "duration": -1658,
    "start_time": "2022-02-27T15:42:31.042Z"
   },
   {
    "duration": -1680,
    "start_time": "2022-02-27T15:42:31.065Z"
   },
   {
    "duration": -1727,
    "start_time": "2022-02-27T15:42:31.114Z"
   },
   {
    "duration": -1729,
    "start_time": "2022-02-27T15:42:31.117Z"
   },
   {
    "duration": -1731,
    "start_time": "2022-02-27T15:42:31.120Z"
   },
   {
    "duration": -1739,
    "start_time": "2022-02-27T15:42:31.130Z"
   },
   {
    "duration": -1791,
    "start_time": "2022-02-27T15:42:31.183Z"
   },
   {
    "duration": -1794,
    "start_time": "2022-02-27T15:42:31.187Z"
   },
   {
    "duration": -1798,
    "start_time": "2022-02-27T15:42:31.192Z"
   },
   {
    "duration": -1801,
    "start_time": "2022-02-27T15:42:31.196Z"
   },
   {
    "duration": -1815,
    "start_time": "2022-02-27T15:42:31.211Z"
   },
   {
    "duration": -1855,
    "start_time": "2022-02-27T15:42:31.252Z"
   },
   {
    "duration": -1865,
    "start_time": "2022-02-27T15:42:31.263Z"
   },
   {
    "duration": -1869,
    "start_time": "2022-02-27T15:42:31.268Z"
   },
   {
    "duration": -1872,
    "start_time": "2022-02-27T15:42:31.273Z"
   },
   {
    "duration": -1882,
    "start_time": "2022-02-27T15:42:31.284Z"
   },
   {
    "duration": -1919,
    "start_time": "2022-02-27T15:42:31.322Z"
   },
   {
    "duration": -1944,
    "start_time": "2022-02-27T15:42:31.348Z"
   },
   {
    "duration": -1948,
    "start_time": "2022-02-27T15:42:31.353Z"
   },
   {
    "duration": -1988,
    "start_time": "2022-02-27T15:42:31.394Z"
   },
   {
    "duration": -1992,
    "start_time": "2022-02-27T15:42:31.399Z"
   },
   {
    "duration": -1995,
    "start_time": "2022-02-27T15:42:31.403Z"
   },
   {
    "duration": -1999,
    "start_time": "2022-02-27T15:42:31.408Z"
   },
   {
    "duration": -2002,
    "start_time": "2022-02-27T15:42:31.412Z"
   },
   {
    "duration": -2059,
    "start_time": "2022-02-27T15:42:31.470Z"
   },
   {
    "duration": -2066,
    "start_time": "2022-02-27T15:42:31.478Z"
   },
   {
    "duration": -2084,
    "start_time": "2022-02-27T15:42:31.497Z"
   },
   {
    "duration": -2126,
    "start_time": "2022-02-27T15:42:31.540Z"
   },
   {
    "duration": -2131,
    "start_time": "2022-02-27T15:42:31.546Z"
   },
   {
    "duration": -2134,
    "start_time": "2022-02-27T15:42:31.550Z"
   },
   {
    "duration": -2143,
    "start_time": "2022-02-27T15:42:31.560Z"
   },
   {
    "duration": -2093,
    "start_time": "2022-02-27T15:42:31.570Z"
   },
   {
    "duration": -2125,
    "start_time": "2022-02-27T15:42:31.603Z"
   },
   {
    "duration": 3,
    "start_time": "2022-02-27T15:43:03.127Z"
   },
   {
    "duration": 19,
    "start_time": "2022-02-27T15:43:03.136Z"
   },
   {
    "duration": 40,
    "start_time": "2022-02-27T15:43:04.085Z"
   },
   {
    "duration": 15,
    "start_time": "2022-02-27T15:43:04.127Z"
   },
   {
    "duration": 42,
    "start_time": "2022-02-27T15:43:04.144Z"
   },
   {
    "duration": 32,
    "start_time": "2022-02-27T15:43:04.188Z"
   },
   {
    "duration": 31,
    "start_time": "2022-02-27T15:43:04.222Z"
   },
   {
    "duration": 10,
    "start_time": "2022-02-27T15:43:04.813Z"
   },
   {
    "duration": 12,
    "start_time": "2022-02-27T15:43:04.825Z"
   },
   {
    "duration": 8,
    "start_time": "2022-02-27T15:43:04.840Z"
   },
   {
    "duration": 8,
    "start_time": "2022-02-27T15:43:04.850Z"
   },
   {
    "duration": 8,
    "start_time": "2022-02-27T15:43:04.900Z"
   },
   {
    "duration": 17,
    "start_time": "2022-02-27T15:43:04.910Z"
   },
   {
    "duration": 12,
    "start_time": "2022-02-27T15:43:04.929Z"
   },
   {
    "duration": 9,
    "start_time": "2022-02-27T15:43:04.944Z"
   },
   {
    "duration": 19,
    "start_time": "2022-02-27T15:43:04.956Z"
   },
   {
    "duration": 1560,
    "start_time": "2022-02-27T15:46:02.259Z"
   },
   {
    "duration": 42,
    "start_time": "2022-02-27T15:46:03.821Z"
   },
   {
    "duration": 18,
    "start_time": "2022-02-27T15:46:03.865Z"
   },
   {
    "duration": 15,
    "start_time": "2022-02-27T15:46:03.885Z"
   },
   {
    "duration": 19,
    "start_time": "2022-02-27T15:46:03.902Z"
   },
   {
    "duration": 10,
    "start_time": "2022-02-27T15:46:03.923Z"
   },
   {
    "duration": 13,
    "start_time": "2022-02-27T15:46:03.935Z"
   },
   {
    "duration": 28,
    "start_time": "2022-02-27T15:46:03.950Z"
   },
   {
    "duration": 6,
    "start_time": "2022-02-27T15:46:03.981Z"
   },
   {
    "duration": 10,
    "start_time": "2022-02-27T15:46:03.989Z"
   },
   {
    "duration": 10,
    "start_time": "2022-02-27T15:46:04.001Z"
   },
   {
    "duration": 14,
    "start_time": "2022-02-27T15:46:04.012Z"
   },
   {
    "duration": 8,
    "start_time": "2022-02-27T15:46:04.028Z"
   },
   {
    "duration": 11,
    "start_time": "2022-02-27T15:46:04.038Z"
   },
   {
    "duration": 37,
    "start_time": "2022-02-27T15:46:04.050Z"
   },
   {
    "duration": 379,
    "start_time": "2022-02-27T15:54:21.413Z"
   },
   {
    "duration": 324,
    "start_time": "2022-02-27T15:54:21.794Z"
   },
   {
    "duration": 312,
    "start_time": "2022-02-27T15:54:22.120Z"
   },
   {
    "duration": 312,
    "start_time": "2022-02-27T15:54:22.434Z"
   },
   {
    "duration": 6,
    "start_time": "2022-02-27T15:54:22.752Z"
   },
   {
    "duration": 275,
    "start_time": "2022-02-27T15:54:22.760Z"
   },
   {
    "duration": 22,
    "start_time": "2022-02-27T15:54:23.037Z"
   },
   {
    "duration": 569,
    "start_time": "2022-02-27T15:54:23.061Z"
   },
   {
    "duration": 15,
    "start_time": "2022-02-27T15:54:23.632Z"
   },
   {
    "duration": 4,
    "start_time": "2022-02-27T15:54:23.649Z"
   },
   {
    "duration": 33,
    "start_time": "2022-02-27T15:54:23.654Z"
   },
   {
    "duration": 10,
    "start_time": "2022-02-27T15:54:23.689Z"
   },
   {
    "duration": 11,
    "start_time": "2022-02-27T15:54:23.701Z"
   },
   {
    "duration": 399,
    "start_time": "2022-02-27T15:54:23.713Z"
   },
   {
    "duration": -1127,
    "start_time": "2022-02-27T15:54:25.241Z"
   },
   {
    "duration": -1130,
    "start_time": "2022-02-27T15:54:25.245Z"
   },
   {
    "duration": -1134,
    "start_time": "2022-02-27T15:54:25.249Z"
   },
   {
    "duration": -1137,
    "start_time": "2022-02-27T15:54:25.253Z"
   },
   {
    "duration": -1139,
    "start_time": "2022-02-27T15:54:25.256Z"
   },
   {
    "duration": -1141,
    "start_time": "2022-02-27T15:54:25.259Z"
   },
   {
    "duration": -1142,
    "start_time": "2022-02-27T15:54:25.261Z"
   },
   {
    "duration": -1148,
    "start_time": "2022-02-27T15:54:25.268Z"
   },
   {
    "duration": -1188,
    "start_time": "2022-02-27T15:54:25.309Z"
   },
   {
    "duration": -1191,
    "start_time": "2022-02-27T15:54:25.313Z"
   },
   {
    "duration": -1192,
    "start_time": "2022-02-27T15:54:25.315Z"
   },
   {
    "duration": -1195,
    "start_time": "2022-02-27T15:54:25.318Z"
   },
   {
    "duration": -1201,
    "start_time": "2022-02-27T15:54:25.325Z"
   },
   {
    "duration": -1204,
    "start_time": "2022-02-27T15:54:25.329Z"
   },
   {
    "duration": -1206,
    "start_time": "2022-02-27T15:54:25.332Z"
   },
   {
    "duration": -1206,
    "start_time": "2022-02-27T15:54:25.335Z"
   },
   {
    "duration": -1208,
    "start_time": "2022-02-27T15:54:25.338Z"
   },
   {
    "duration": -1209,
    "start_time": "2022-02-27T15:54:25.340Z"
   },
   {
    "duration": 260,
    "start_time": "2022-02-27T15:58:57.947Z"
   },
   {
    "duration": 4,
    "start_time": "2022-02-27T15:59:03.174Z"
   },
   {
    "duration": 41,
    "start_time": "2022-02-27T15:59:03.181Z"
   },
   {
    "duration": 17,
    "start_time": "2022-02-27T15:59:03.225Z"
   },
   {
    "duration": 43,
    "start_time": "2022-02-27T15:59:03.244Z"
   },
   {
    "duration": 20,
    "start_time": "2022-02-27T15:59:03.289Z"
   },
   {
    "duration": 18,
    "start_time": "2022-02-27T15:59:03.312Z"
   },
   {
    "duration": 23,
    "start_time": "2022-02-27T15:59:03.332Z"
   },
   {
    "duration": 26,
    "start_time": "2022-02-27T15:59:03.358Z"
   },
   {
    "duration": 11,
    "start_time": "2022-02-27T15:59:03.387Z"
   },
   {
    "duration": 15,
    "start_time": "2022-02-27T15:59:03.400Z"
   },
   {
    "duration": 24,
    "start_time": "2022-02-27T15:59:03.417Z"
   },
   {
    "duration": 17,
    "start_time": "2022-02-27T15:59:03.443Z"
   },
   {
    "duration": 14,
    "start_time": "2022-02-27T15:59:03.462Z"
   },
   {
    "duration": 19,
    "start_time": "2022-02-27T15:59:03.478Z"
   },
   {
    "duration": 27,
    "start_time": "2022-02-27T15:59:03.499Z"
   },
   {
    "duration": 1517,
    "start_time": "2022-02-27T16:00:04.721Z"
   },
   {
    "duration": 43,
    "start_time": "2022-02-27T16:00:08.381Z"
   },
   {
    "duration": 20,
    "start_time": "2022-02-27T16:00:12.339Z"
   },
   {
    "duration": 16,
    "start_time": "2022-02-27T16:00:15.078Z"
   },
   {
    "duration": 11,
    "start_time": "2022-02-27T16:00:17.930Z"
   },
   {
    "duration": 11,
    "start_time": "2022-02-27T16:00:20.282Z"
   },
   {
    "duration": 9,
    "start_time": "2022-02-27T16:00:22.588Z"
   },
   {
    "duration": 6,
    "start_time": "2022-02-27T16:00:25.148Z"
   },
   {
    "duration": 4,
    "start_time": "2022-02-27T16:00:27.260Z"
   },
   {
    "duration": 6,
    "start_time": "2022-02-27T16:00:29.448Z"
   },
   {
    "duration": 7,
    "start_time": "2022-02-27T16:00:31.713Z"
   },
   {
    "duration": 9,
    "start_time": "2022-02-27T16:00:34.319Z"
   },
   {
    "duration": 6,
    "start_time": "2022-02-27T16:00:36.459Z"
   },
   {
    "duration": 7,
    "start_time": "2022-02-27T16:00:38.838Z"
   },
   {
    "duration": 17,
    "start_time": "2022-02-27T16:00:41.746Z"
   },
   {
    "duration": 1459,
    "start_time": "2022-02-27T16:02:40.975Z"
   },
   {
    "duration": 42,
    "start_time": "2022-02-27T16:02:44.398Z"
   },
   {
    "duration": 19,
    "start_time": "2022-02-27T16:02:45.981Z"
   },
   {
    "duration": 15,
    "start_time": "2022-02-27T16:02:49.021Z"
   },
   {
    "duration": 11,
    "start_time": "2022-02-27T16:02:52.141Z"
   },
   {
    "duration": 10,
    "start_time": "2022-02-27T16:02:54.588Z"
   },
   {
    "duration": 8,
    "start_time": "2022-02-27T16:02:57.089Z"
   },
   {
    "duration": 5,
    "start_time": "2022-02-27T16:02:58.584Z"
   },
   {
    "duration": 3,
    "start_time": "2022-02-27T16:03:00.272Z"
   },
   {
    "duration": 5,
    "start_time": "2022-02-27T16:03:01.682Z"
   },
   {
    "duration": 7,
    "start_time": "2022-02-27T16:03:04.481Z"
   },
   {
    "duration": 10,
    "start_time": "2022-02-27T16:03:08.074Z"
   },
   {
    "duration": 7,
    "start_time": "2022-02-27T16:03:10.230Z"
   },
   {
    "duration": 7,
    "start_time": "2022-02-27T16:03:12.381Z"
   },
   {
    "duration": 18,
    "start_time": "2022-02-27T16:03:14.522Z"
   },
   {
    "duration": 521,
    "start_time": "2022-02-27T16:03:18.842Z"
   },
   {
    "duration": 3,
    "start_time": "2022-02-27T16:03:32.362Z"
   },
   {
    "duration": 12,
    "start_time": "2022-02-27T16:03:42.118Z"
   },
   {
    "duration": 363,
    "start_time": "2022-02-27T16:03:45.017Z"
   },
   {
    "duration": 309,
    "start_time": "2022-02-27T16:03:50.884Z"
   },
   {
    "duration": 322,
    "start_time": "2022-02-27T16:03:53.657Z"
   },
   {
    "duration": 337,
    "start_time": "2022-02-27T16:03:56.459Z"
   },
   {
    "duration": 6,
    "start_time": "2022-02-27T16:04:04.258Z"
   },
   {
    "duration": 262,
    "start_time": "2022-02-27T16:04:06.138Z"
   },
   {
    "duration": 26,
    "start_time": "2022-02-27T16:04:15.582Z"
   },
   {
    "duration": 551,
    "start_time": "2022-02-27T16:04:18.544Z"
   },
   {
    "duration": 16,
    "start_time": "2022-02-27T16:04:23.338Z"
   },
   {
    "duration": 4,
    "start_time": "2022-02-27T16:04:31.992Z"
   },
   {
    "duration": 12,
    "start_time": "2022-02-27T16:04:41.799Z"
   },
   {
    "duration": 10,
    "start_time": "2022-02-27T16:04:44.220Z"
   },
   {
    "duration": 11,
    "start_time": "2022-02-27T16:04:46.618Z"
   },
   {
    "duration": 385,
    "start_time": "2022-02-27T16:04:52.579Z"
   },
   {
    "duration": 527,
    "start_time": "2022-02-27T16:04:59.197Z"
   },
   {
    "duration": 11,
    "start_time": "2022-02-27T16:05:35.194Z"
   },
   {
    "duration": 11,
    "start_time": "2022-02-27T16:05:38.053Z"
   },
   {
    "duration": 11,
    "start_time": "2022-02-27T16:05:39.846Z"
   },
   {
    "duration": 447,
    "start_time": "2022-02-27T16:05:42.748Z"
   },
   {
    "duration": 12,
    "start_time": "2022-02-27T16:06:11.053Z"
   },
   {
    "duration": 12,
    "start_time": "2022-02-27T16:06:13.737Z"
   },
   {
    "duration": 12,
    "start_time": "2022-02-27T16:06:18.247Z"
   },
   {
    "duration": 429,
    "start_time": "2022-02-27T16:06:20.976Z"
   },
   {
    "duration": 8,
    "start_time": "2022-02-27T16:06:27.289Z"
   },
   {
    "duration": 9,
    "start_time": "2022-02-27T16:06:29.579Z"
   },
   {
    "duration": 5,
    "start_time": "2022-02-27T16:06:34.904Z"
   },
   {
    "duration": 11,
    "start_time": "2022-02-27T16:06:39.900Z"
   },
   {
    "duration": 266,
    "start_time": "2022-02-27T16:07:29.512Z"
   },
   {
    "duration": 34,
    "start_time": "2022-02-27T16:07:38.627Z"
   },
   {
    "duration": 17,
    "start_time": "2022-02-27T16:07:45.331Z"
   },
   {
    "duration": 260,
    "start_time": "2022-02-27T16:11:44.188Z"
   },
   {
    "duration": 254,
    "start_time": "2022-02-27T16:12:24.692Z"
   },
   {
    "duration": 2552,
    "start_time": "2022-02-27T16:13:06.549Z"
   },
   {
    "duration": 2673,
    "start_time": "2022-02-27T16:14:14.936Z"
   },
   {
    "duration": 451,
    "start_time": "2022-02-27T16:14:56.104Z"
   },
   {
    "duration": 446,
    "start_time": "2022-02-27T16:16:48.429Z"
   },
   {
    "duration": 264,
    "start_time": "2022-02-27T16:17:17.115Z"
   },
   {
    "duration": 69,
    "start_time": "2022-02-27T16:19:11.866Z"
   },
   {
    "duration": 1625,
    "start_time": "2022-02-27T16:20:16.410Z"
   },
   {
    "duration": 477,
    "start_time": "2022-02-27T16:20:38.011Z"
   },
   {
    "duration": 77,
    "start_time": "2022-02-27T16:21:08.948Z"
   },
   {
    "duration": 13,
    "start_time": "2022-02-27T16:21:51.946Z"
   },
   {
    "duration": 69,
    "start_time": "2022-02-27T16:22:30.613Z"
   },
   {
    "duration": 2661,
    "start_time": "2022-02-27T16:24:44.645Z"
   },
   {
    "duration": 2726,
    "start_time": "2022-02-27T16:25:47.018Z"
   },
   {
    "duration": 11,
    "start_time": "2022-02-27T16:25:57.328Z"
   },
   {
    "duration": 70,
    "start_time": "2022-02-27T16:25:59.429Z"
   },
   {
    "duration": 11,
    "start_time": "2022-02-27T16:27:21.348Z"
   },
   {
    "duration": 73,
    "start_time": "2022-02-27T16:27:38.148Z"
   },
   {
    "duration": 12,
    "start_time": "2022-02-27T16:29:45.156Z"
   },
   {
    "duration": 71,
    "start_time": "2022-02-27T16:29:47.706Z"
   },
   {
    "duration": 15,
    "start_time": "2022-02-27T16:30:30.809Z"
   },
   {
    "duration": 75,
    "start_time": "2022-02-27T16:32:25.177Z"
   },
   {
    "duration": 70,
    "start_time": "2022-02-27T16:32:51.423Z"
   },
   {
    "duration": 73,
    "start_time": "2022-02-27T16:34:03.968Z"
   },
   {
    "duration": 11,
    "start_time": "2022-02-27T16:35:14.763Z"
   },
   {
    "duration": 76,
    "start_time": "2022-02-27T16:35:17.240Z"
   },
   {
    "duration": 179,
    "start_time": "2022-02-27T16:36:31.974Z"
   },
   {
    "duration": 78,
    "start_time": "2022-02-27T16:37:37.172Z"
   },
   {
    "duration": 3,
    "start_time": "2022-02-27T16:45:04.227Z"
   }
  ],
  "kernelspec": {
   "display_name": "Python 3 (ipykernel)",
   "language": "python",
   "name": "python3"
  },
  "language_info": {
   "codemirror_mode": {
    "name": "ipython",
    "version": 3
   },
   "file_extension": ".py",
   "mimetype": "text/x-python",
   "name": "python",
   "nbconvert_exporter": "python",
   "pygments_lexer": "ipython3",
   "version": "3.9.7"
  },
  "toc": {
   "base_numbering": 1,
   "nav_menu": {},
   "number_sections": true,
   "sideBar": true,
   "skip_h1_title": true,
   "title_cell": "Table of Contents",
   "title_sidebar": "Contents",
   "toc_cell": false,
   "toc_position": {},
   "toc_section_display": true,
   "toc_window_display": false
  }
 },
 "nbformat": 4,
 "nbformat_minor": 2
}
