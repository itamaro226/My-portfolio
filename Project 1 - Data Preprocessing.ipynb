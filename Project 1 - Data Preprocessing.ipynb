{
 "cells": [
  {
   "cell_type": "markdown",
   "metadata": {},
   "source": [
    "<font color='#32cd32'><b><u> Reviewer Comment. V. 2</u></b></font>\n",
    "<div class=\"alert alert-block alert-success\">\n",
    "    \n",
    "**General feedback:**\n",
    "  \n",
    "Hello! \n",
    "\n",
    "I'm glad to tell you that your project is at a good level now! **Thank you for the corrections**👍\n",
    "   \n",
    "    \n",
    "The project has been accepted, great! 😄\n",
    "    \n",
    "Good luck on the next sprint! :) \n",
    "    \n",
    "______\n",
    "    \n",
    "Best wishes,\n",
    "    \n",
    "Ksenia Larchenko    \n",
    "\n",
    "\n",
    "</div>"
   ]
  },
  {
   "cell_type": "markdown",
   "metadata": {},
   "source": [
    "# Analyzing borrowers’ risk of defaulting\n",
    "\n",
    "Your project is to prepare a report for a bank’s loan division. You’ll need to find out if a customer’s marital status and number of children has an impact on whether they will default on a loan. The bank already has some data on customers’ credit worthiness.\n",
    "\n",
    "Your report will be considered when building the **credit score** of a potential customer. The **credit score** is used to evaluate the ability of a potential borrower to repay their loan.\n",
    "\n",
    "[In this notebook you're provided with hints and brief instructions and thinking prompts. Don't ignore them as they are designed to equip you with the structure for the project and will help you analyze what you're doing on a deeper level. Before submitting your project, make sure you remove all hints and descriptions provided to you. Instead, make this report look as if you're sending it to your teammates to demonstrate your findings - they shouldn't know you had some external help from us! To help you out, we've placed the hints you should remove in square brackets.]\n",
    "\n",
    "[Before you dive into analyzing your data, explain the purposes of the project and hypotheses you're going to test.]"
   ]
  },
  {
   "cell_type": "markdown",
   "metadata": {},
   "source": [
    "## Open the data file and have a look at the general information. \n",
    "\n",
    "[Start with importing the libraries and loading the data. You may realise that you need additional libraries as you go, which is totally fine - just make sure to update this section when you do.]"
   ]
  },
  {
   "cell_type": "code",
   "execution_count": 2,
   "metadata": {},
   "outputs": [],
   "source": [
    "# Loading all the libraries\n",
    "import pandas as pd\n",
    "import numpy as np\n",
    "# Load the data\n",
    "data = pd.read_csv('/datasets/credit_scoring_eng.csv')"
   ]
  },
  {
   "cell_type": "markdown",
   "metadata": {},
   "source": [
    "## Task 1. Data exploration\n",
    "\n",
    "**Description of the data**\n",
    "- `children` - the number of children in the family\n",
    "- `days_employed` - work experience in days\n",
    "- `dob_years` - client's age in years\n",
    "- `education` - client's education\n",
    "- `education_id` - education identifier\n",
    "- `family_status` - marital status\n",
    "- `family_status_id` - marital status identifier\n",
    "- `gender` - gender of the client\n",
    "- `income_type` - type of employment\n",
    "- `debt` - was there any debt on loan repayment\n",
    "- `total_income` - monthly income\n",
    "- `purpose` - the purpose of obtaining a loan\n",
    "\n",
    "[Now let's explore our data. You'll want to see how many columns and rows it has, look at a few rows to check for potential issues with the data.]"
   ]
  },
  {
   "cell_type": "code",
   "execution_count": 3,
   "metadata": {},
   "outputs": [
    {
     "data": {
      "text/html": [
       "<div>\n",
       "<style scoped>\n",
       "    .dataframe tbody tr th:only-of-type {\n",
       "        vertical-align: middle;\n",
       "    }\n",
       "\n",
       "    .dataframe tbody tr th {\n",
       "        vertical-align: top;\n",
       "    }\n",
       "\n",
       "    .dataframe thead th {\n",
       "        text-align: right;\n",
       "    }\n",
       "</style>\n",
       "<table border=\"1\" class=\"dataframe\">\n",
       "  <thead>\n",
       "    <tr style=\"text-align: right;\">\n",
       "      <th></th>\n",
       "      <th>children</th>\n",
       "      <th>days_employed</th>\n",
       "      <th>dob_years</th>\n",
       "      <th>education_id</th>\n",
       "      <th>family_status_id</th>\n",
       "      <th>debt</th>\n",
       "      <th>total_income</th>\n",
       "    </tr>\n",
       "  </thead>\n",
       "  <tbody>\n",
       "    <tr>\n",
       "      <td>count</td>\n",
       "      <td>21525.000000</td>\n",
       "      <td>19351.000000</td>\n",
       "      <td>21525.000000</td>\n",
       "      <td>21525.000000</td>\n",
       "      <td>21525.000000</td>\n",
       "      <td>21525.000000</td>\n",
       "      <td>19351.000000</td>\n",
       "    </tr>\n",
       "    <tr>\n",
       "      <td>mean</td>\n",
       "      <td>0.538908</td>\n",
       "      <td>63046.497661</td>\n",
       "      <td>43.293380</td>\n",
       "      <td>0.817236</td>\n",
       "      <td>0.972544</td>\n",
       "      <td>0.080883</td>\n",
       "      <td>26787.568355</td>\n",
       "    </tr>\n",
       "    <tr>\n",
       "      <td>std</td>\n",
       "      <td>1.381587</td>\n",
       "      <td>140827.311974</td>\n",
       "      <td>12.574584</td>\n",
       "      <td>0.548138</td>\n",
       "      <td>1.420324</td>\n",
       "      <td>0.272661</td>\n",
       "      <td>16475.450632</td>\n",
       "    </tr>\n",
       "    <tr>\n",
       "      <td>min</td>\n",
       "      <td>-1.000000</td>\n",
       "      <td>-18388.949901</td>\n",
       "      <td>0.000000</td>\n",
       "      <td>0.000000</td>\n",
       "      <td>0.000000</td>\n",
       "      <td>0.000000</td>\n",
       "      <td>3306.762000</td>\n",
       "    </tr>\n",
       "    <tr>\n",
       "      <td>25%</td>\n",
       "      <td>0.000000</td>\n",
       "      <td>-2747.423625</td>\n",
       "      <td>33.000000</td>\n",
       "      <td>1.000000</td>\n",
       "      <td>0.000000</td>\n",
       "      <td>0.000000</td>\n",
       "      <td>16488.504500</td>\n",
       "    </tr>\n",
       "    <tr>\n",
       "      <td>50%</td>\n",
       "      <td>0.000000</td>\n",
       "      <td>-1203.369529</td>\n",
       "      <td>42.000000</td>\n",
       "      <td>1.000000</td>\n",
       "      <td>0.000000</td>\n",
       "      <td>0.000000</td>\n",
       "      <td>23202.870000</td>\n",
       "    </tr>\n",
       "    <tr>\n",
       "      <td>75%</td>\n",
       "      <td>1.000000</td>\n",
       "      <td>-291.095954</td>\n",
       "      <td>53.000000</td>\n",
       "      <td>1.000000</td>\n",
       "      <td>1.000000</td>\n",
       "      <td>0.000000</td>\n",
       "      <td>32549.611000</td>\n",
       "    </tr>\n",
       "    <tr>\n",
       "      <td>max</td>\n",
       "      <td>20.000000</td>\n",
       "      <td>401755.400475</td>\n",
       "      <td>75.000000</td>\n",
       "      <td>4.000000</td>\n",
       "      <td>4.000000</td>\n",
       "      <td>1.000000</td>\n",
       "      <td>362496.645000</td>\n",
       "    </tr>\n",
       "  </tbody>\n",
       "</table>\n",
       "</div>"
      ],
      "text/plain": [
       "           children  days_employed     dob_years  education_id  \\\n",
       "count  21525.000000   19351.000000  21525.000000  21525.000000   \n",
       "mean       0.538908   63046.497661     43.293380      0.817236   \n",
       "std        1.381587  140827.311974     12.574584      0.548138   \n",
       "min       -1.000000  -18388.949901      0.000000      0.000000   \n",
       "25%        0.000000   -2747.423625     33.000000      1.000000   \n",
       "50%        0.000000   -1203.369529     42.000000      1.000000   \n",
       "75%        1.000000    -291.095954     53.000000      1.000000   \n",
       "max       20.000000  401755.400475     75.000000      4.000000   \n",
       "\n",
       "       family_status_id          debt   total_income  \n",
       "count      21525.000000  21525.000000   19351.000000  \n",
       "mean           0.972544      0.080883   26787.568355  \n",
       "std            1.420324      0.272661   16475.450632  \n",
       "min            0.000000      0.000000    3306.762000  \n",
       "25%            0.000000      0.000000   16488.504500  \n",
       "50%            0.000000      0.000000   23202.870000  \n",
       "75%            1.000000      0.000000   32549.611000  \n",
       "max            4.000000      1.000000  362496.645000  "
      ]
     },
     "execution_count": 3,
     "metadata": {},
     "output_type": "execute_result"
    }
   ],
   "source": [
    "# Let's see how many rows and columns our dataset has\n",
    "\n",
    "data.describe()"
   ]
  },
  {
   "cell_type": "code",
   "execution_count": 4,
   "metadata": {
    "scrolled": true
   },
   "outputs": [
    {
     "data": {
      "text/html": [
       "<div>\n",
       "<style scoped>\n",
       "    .dataframe tbody tr th:only-of-type {\n",
       "        vertical-align: middle;\n",
       "    }\n",
       "\n",
       "    .dataframe tbody tr th {\n",
       "        vertical-align: top;\n",
       "    }\n",
       "\n",
       "    .dataframe thead th {\n",
       "        text-align: right;\n",
       "    }\n",
       "</style>\n",
       "<table border=\"1\" class=\"dataframe\">\n",
       "  <thead>\n",
       "    <tr style=\"text-align: right;\">\n",
       "      <th></th>\n",
       "      <th>children</th>\n",
       "      <th>days_employed</th>\n",
       "      <th>dob_years</th>\n",
       "      <th>education</th>\n",
       "      <th>education_id</th>\n",
       "      <th>family_status</th>\n",
       "      <th>family_status_id</th>\n",
       "      <th>gender</th>\n",
       "      <th>income_type</th>\n",
       "      <th>debt</th>\n",
       "      <th>total_income</th>\n",
       "      <th>purpose</th>\n",
       "    </tr>\n",
       "  </thead>\n",
       "  <tbody>\n",
       "    <tr>\n",
       "      <td>0</td>\n",
       "      <td>1</td>\n",
       "      <td>-8437.673028</td>\n",
       "      <td>42</td>\n",
       "      <td>bachelor's degree</td>\n",
       "      <td>0</td>\n",
       "      <td>married</td>\n",
       "      <td>0</td>\n",
       "      <td>F</td>\n",
       "      <td>employee</td>\n",
       "      <td>0</td>\n",
       "      <td>40620.102</td>\n",
       "      <td>purchase of the house</td>\n",
       "    </tr>\n",
       "    <tr>\n",
       "      <td>1</td>\n",
       "      <td>1</td>\n",
       "      <td>-4024.803754</td>\n",
       "      <td>36</td>\n",
       "      <td>secondary education</td>\n",
       "      <td>1</td>\n",
       "      <td>married</td>\n",
       "      <td>0</td>\n",
       "      <td>F</td>\n",
       "      <td>employee</td>\n",
       "      <td>0</td>\n",
       "      <td>17932.802</td>\n",
       "      <td>car purchase</td>\n",
       "    </tr>\n",
       "    <tr>\n",
       "      <td>2</td>\n",
       "      <td>0</td>\n",
       "      <td>-5623.422610</td>\n",
       "      <td>33</td>\n",
       "      <td>Secondary Education</td>\n",
       "      <td>1</td>\n",
       "      <td>married</td>\n",
       "      <td>0</td>\n",
       "      <td>M</td>\n",
       "      <td>employee</td>\n",
       "      <td>0</td>\n",
       "      <td>23341.752</td>\n",
       "      <td>purchase of the house</td>\n",
       "    </tr>\n",
       "    <tr>\n",
       "      <td>3</td>\n",
       "      <td>3</td>\n",
       "      <td>-4124.747207</td>\n",
       "      <td>32</td>\n",
       "      <td>secondary education</td>\n",
       "      <td>1</td>\n",
       "      <td>married</td>\n",
       "      <td>0</td>\n",
       "      <td>M</td>\n",
       "      <td>employee</td>\n",
       "      <td>0</td>\n",
       "      <td>42820.568</td>\n",
       "      <td>supplementary education</td>\n",
       "    </tr>\n",
       "    <tr>\n",
       "      <td>4</td>\n",
       "      <td>0</td>\n",
       "      <td>340266.072047</td>\n",
       "      <td>53</td>\n",
       "      <td>secondary education</td>\n",
       "      <td>1</td>\n",
       "      <td>civil partnership</td>\n",
       "      <td>1</td>\n",
       "      <td>F</td>\n",
       "      <td>retiree</td>\n",
       "      <td>0</td>\n",
       "      <td>25378.572</td>\n",
       "      <td>to have a wedding</td>\n",
       "    </tr>\n",
       "    <tr>\n",
       "      <td>5</td>\n",
       "      <td>0</td>\n",
       "      <td>-926.185831</td>\n",
       "      <td>27</td>\n",
       "      <td>bachelor's degree</td>\n",
       "      <td>0</td>\n",
       "      <td>civil partnership</td>\n",
       "      <td>1</td>\n",
       "      <td>M</td>\n",
       "      <td>business</td>\n",
       "      <td>0</td>\n",
       "      <td>40922.170</td>\n",
       "      <td>purchase of the house</td>\n",
       "    </tr>\n",
       "    <tr>\n",
       "      <td>6</td>\n",
       "      <td>0</td>\n",
       "      <td>-2879.202052</td>\n",
       "      <td>43</td>\n",
       "      <td>bachelor's degree</td>\n",
       "      <td>0</td>\n",
       "      <td>married</td>\n",
       "      <td>0</td>\n",
       "      <td>F</td>\n",
       "      <td>business</td>\n",
       "      <td>0</td>\n",
       "      <td>38484.156</td>\n",
       "      <td>housing transactions</td>\n",
       "    </tr>\n",
       "    <tr>\n",
       "      <td>7</td>\n",
       "      <td>0</td>\n",
       "      <td>-152.779569</td>\n",
       "      <td>50</td>\n",
       "      <td>SECONDARY EDUCATION</td>\n",
       "      <td>1</td>\n",
       "      <td>married</td>\n",
       "      <td>0</td>\n",
       "      <td>M</td>\n",
       "      <td>employee</td>\n",
       "      <td>0</td>\n",
       "      <td>21731.829</td>\n",
       "      <td>education</td>\n",
       "    </tr>\n",
       "    <tr>\n",
       "      <td>8</td>\n",
       "      <td>2</td>\n",
       "      <td>-6929.865299</td>\n",
       "      <td>35</td>\n",
       "      <td>BACHELOR'S DEGREE</td>\n",
       "      <td>0</td>\n",
       "      <td>civil partnership</td>\n",
       "      <td>1</td>\n",
       "      <td>F</td>\n",
       "      <td>employee</td>\n",
       "      <td>0</td>\n",
       "      <td>15337.093</td>\n",
       "      <td>having a wedding</td>\n",
       "    </tr>\n",
       "    <tr>\n",
       "      <td>9</td>\n",
       "      <td>0</td>\n",
       "      <td>-2188.756445</td>\n",
       "      <td>41</td>\n",
       "      <td>secondary education</td>\n",
       "      <td>1</td>\n",
       "      <td>married</td>\n",
       "      <td>0</td>\n",
       "      <td>M</td>\n",
       "      <td>employee</td>\n",
       "      <td>0</td>\n",
       "      <td>23108.150</td>\n",
       "      <td>purchase of the house for my family</td>\n",
       "    </tr>\n",
       "  </tbody>\n",
       "</table>\n",
       "</div>"
      ],
      "text/plain": [
       "   children  days_employed  dob_years            education  education_id  \\\n",
       "0         1   -8437.673028         42    bachelor's degree             0   \n",
       "1         1   -4024.803754         36  secondary education             1   \n",
       "2         0   -5623.422610         33  Secondary Education             1   \n",
       "3         3   -4124.747207         32  secondary education             1   \n",
       "4         0  340266.072047         53  secondary education             1   \n",
       "5         0    -926.185831         27    bachelor's degree             0   \n",
       "6         0   -2879.202052         43    bachelor's degree             0   \n",
       "7         0    -152.779569         50  SECONDARY EDUCATION             1   \n",
       "8         2   -6929.865299         35    BACHELOR'S DEGREE             0   \n",
       "9         0   -2188.756445         41  secondary education             1   \n",
       "\n",
       "       family_status  family_status_id gender income_type  debt  total_income  \\\n",
       "0            married                 0      F    employee     0     40620.102   \n",
       "1            married                 0      F    employee     0     17932.802   \n",
       "2            married                 0      M    employee     0     23341.752   \n",
       "3            married                 0      M    employee     0     42820.568   \n",
       "4  civil partnership                 1      F     retiree     0     25378.572   \n",
       "5  civil partnership                 1      M    business     0     40922.170   \n",
       "6            married                 0      F    business     0     38484.156   \n",
       "7            married                 0      M    employee     0     21731.829   \n",
       "8  civil partnership                 1      F    employee     0     15337.093   \n",
       "9            married                 0      M    employee     0     23108.150   \n",
       "\n",
       "                               purpose  \n",
       "0                purchase of the house  \n",
       "1                         car purchase  \n",
       "2                purchase of the house  \n",
       "3              supplementary education  \n",
       "4                    to have a wedding  \n",
       "5                purchase of the house  \n",
       "6                 housing transactions  \n",
       "7                            education  \n",
       "8                     having a wedding  \n",
       "9  purchase of the house for my family  "
      ]
     },
     "execution_count": 4,
     "metadata": {},
     "output_type": "execute_result"
    }
   ],
   "source": [
    "# let's print the first N rows\n",
    "\n",
    "data.head(10)"
   ]
  },
  {
   "cell_type": "markdown",
   "metadata": {},
   "source": [
    "The 'days_employed' column has a lot of negative values, which does not make sense.\n",
    "Also in the column 'education' there are values written in capital letters that can be a problem."
   ]
  },
  {
   "cell_type": "code",
   "execution_count": 5,
   "metadata": {
    "scrolled": false
   },
   "outputs": [
    {
     "name": "stdout",
     "output_type": "stream",
     "text": [
      "<class 'pandas.core.frame.DataFrame'>\n",
      "RangeIndex: 21525 entries, 0 to 21524\n",
      "Data columns (total 12 columns):\n",
      "children            21525 non-null int64\n",
      "days_employed       19351 non-null float64\n",
      "dob_years           21525 non-null int64\n",
      "education           21525 non-null object\n",
      "education_id        21525 non-null int64\n",
      "family_status       21525 non-null object\n",
      "family_status_id    21525 non-null int64\n",
      "gender              21525 non-null object\n",
      "income_type         21525 non-null object\n",
      "debt                21525 non-null int64\n",
      "total_income        19351 non-null float64\n",
      "purpose             21525 non-null object\n",
      "dtypes: float64(2), int64(5), object(5)\n",
      "memory usage: 2.0+ MB\n"
     ]
    }
   ],
   "source": [
    "# Get info on data\n",
    "data.info()"
   ]
  },
  {
   "cell_type": "markdown",
   "metadata": {},
   "source": [
    "From what can currently be seen there are missing values in 2 columns.\n"
   ]
  },
  {
   "cell_type": "code",
   "execution_count": null,
   "metadata": {},
   "outputs": [],
   "source": []
  },
  {
   "cell_type": "code",
   "execution_count": null,
   "metadata": {},
   "outputs": [],
   "source": []
  },
  {
   "cell_type": "code",
   "execution_count": 6,
   "metadata": {},
   "outputs": [
    {
     "data": {
      "text/plain": [
       "children               0\n",
       "days_employed       2174\n",
       "dob_years              0\n",
       "education              0\n",
       "education_id           0\n",
       "family_status          0\n",
       "family_status_id       0\n",
       "gender                 0\n",
       "income_type            0\n",
       "debt                   0\n",
       "total_income        2174\n",
       "purpose                0\n",
       "dtype: int64"
      ]
     },
     "execution_count": 6,
     "metadata": {},
     "output_type": "execute_result"
    }
   ],
   "source": [
    "data.isnull().sum()"
   ]
  },
  {
   "cell_type": "code",
   "execution_count": 7,
   "metadata": {
    "scrolled": true
   },
   "outputs": [
    {
     "data": {
      "text/html": [
       "<div>\n",
       "<style scoped>\n",
       "    .dataframe tbody tr th:only-of-type {\n",
       "        vertical-align: middle;\n",
       "    }\n",
       "\n",
       "    .dataframe tbody tr th {\n",
       "        vertical-align: top;\n",
       "    }\n",
       "\n",
       "    .dataframe thead th {\n",
       "        text-align: right;\n",
       "    }\n",
       "</style>\n",
       "<table border=\"1\" class=\"dataframe\">\n",
       "  <thead>\n",
       "    <tr style=\"text-align: right;\">\n",
       "      <th></th>\n",
       "      <th>children</th>\n",
       "      <th>days_employed</th>\n",
       "      <th>dob_years</th>\n",
       "      <th>education</th>\n",
       "      <th>education_id</th>\n",
       "      <th>family_status</th>\n",
       "      <th>family_status_id</th>\n",
       "      <th>gender</th>\n",
       "      <th>income_type</th>\n",
       "      <th>debt</th>\n",
       "      <th>total_income</th>\n",
       "      <th>purpose</th>\n",
       "    </tr>\n",
       "  </thead>\n",
       "  <tbody>\n",
       "    <tr>\n",
       "      <td>12</td>\n",
       "      <td>0</td>\n",
       "      <td>NaN</td>\n",
       "      <td>65</td>\n",
       "      <td>secondary education</td>\n",
       "      <td>1</td>\n",
       "      <td>civil partnership</td>\n",
       "      <td>1</td>\n",
       "      <td>M</td>\n",
       "      <td>retiree</td>\n",
       "      <td>0</td>\n",
       "      <td>NaN</td>\n",
       "      <td>to have a wedding</td>\n",
       "    </tr>\n",
       "    <tr>\n",
       "      <td>26</td>\n",
       "      <td>0</td>\n",
       "      <td>NaN</td>\n",
       "      <td>41</td>\n",
       "      <td>secondary education</td>\n",
       "      <td>1</td>\n",
       "      <td>married</td>\n",
       "      <td>0</td>\n",
       "      <td>M</td>\n",
       "      <td>civil servant</td>\n",
       "      <td>0</td>\n",
       "      <td>NaN</td>\n",
       "      <td>education</td>\n",
       "    </tr>\n",
       "    <tr>\n",
       "      <td>29</td>\n",
       "      <td>0</td>\n",
       "      <td>NaN</td>\n",
       "      <td>63</td>\n",
       "      <td>secondary education</td>\n",
       "      <td>1</td>\n",
       "      <td>unmarried</td>\n",
       "      <td>4</td>\n",
       "      <td>F</td>\n",
       "      <td>retiree</td>\n",
       "      <td>0</td>\n",
       "      <td>NaN</td>\n",
       "      <td>building a real estate</td>\n",
       "    </tr>\n",
       "    <tr>\n",
       "      <td>41</td>\n",
       "      <td>0</td>\n",
       "      <td>NaN</td>\n",
       "      <td>50</td>\n",
       "      <td>secondary education</td>\n",
       "      <td>1</td>\n",
       "      <td>married</td>\n",
       "      <td>0</td>\n",
       "      <td>F</td>\n",
       "      <td>civil servant</td>\n",
       "      <td>0</td>\n",
       "      <td>NaN</td>\n",
       "      <td>second-hand car purchase</td>\n",
       "    </tr>\n",
       "    <tr>\n",
       "      <td>55</td>\n",
       "      <td>0</td>\n",
       "      <td>NaN</td>\n",
       "      <td>54</td>\n",
       "      <td>secondary education</td>\n",
       "      <td>1</td>\n",
       "      <td>civil partnership</td>\n",
       "      <td>1</td>\n",
       "      <td>F</td>\n",
       "      <td>retiree</td>\n",
       "      <td>1</td>\n",
       "      <td>NaN</td>\n",
       "      <td>to have a wedding</td>\n",
       "    </tr>\n",
       "    <tr>\n",
       "      <td>...</td>\n",
       "      <td>...</td>\n",
       "      <td>...</td>\n",
       "      <td>...</td>\n",
       "      <td>...</td>\n",
       "      <td>...</td>\n",
       "      <td>...</td>\n",
       "      <td>...</td>\n",
       "      <td>...</td>\n",
       "      <td>...</td>\n",
       "      <td>...</td>\n",
       "      <td>...</td>\n",
       "      <td>...</td>\n",
       "    </tr>\n",
       "    <tr>\n",
       "      <td>21489</td>\n",
       "      <td>2</td>\n",
       "      <td>NaN</td>\n",
       "      <td>47</td>\n",
       "      <td>Secondary Education</td>\n",
       "      <td>1</td>\n",
       "      <td>married</td>\n",
       "      <td>0</td>\n",
       "      <td>M</td>\n",
       "      <td>business</td>\n",
       "      <td>0</td>\n",
       "      <td>NaN</td>\n",
       "      <td>purchase of a car</td>\n",
       "    </tr>\n",
       "    <tr>\n",
       "      <td>21495</td>\n",
       "      <td>1</td>\n",
       "      <td>NaN</td>\n",
       "      <td>50</td>\n",
       "      <td>secondary education</td>\n",
       "      <td>1</td>\n",
       "      <td>civil partnership</td>\n",
       "      <td>1</td>\n",
       "      <td>F</td>\n",
       "      <td>employee</td>\n",
       "      <td>0</td>\n",
       "      <td>NaN</td>\n",
       "      <td>wedding ceremony</td>\n",
       "    </tr>\n",
       "    <tr>\n",
       "      <td>21497</td>\n",
       "      <td>0</td>\n",
       "      <td>NaN</td>\n",
       "      <td>48</td>\n",
       "      <td>BACHELOR'S DEGREE</td>\n",
       "      <td>0</td>\n",
       "      <td>married</td>\n",
       "      <td>0</td>\n",
       "      <td>F</td>\n",
       "      <td>business</td>\n",
       "      <td>0</td>\n",
       "      <td>NaN</td>\n",
       "      <td>building a property</td>\n",
       "    </tr>\n",
       "    <tr>\n",
       "      <td>21502</td>\n",
       "      <td>1</td>\n",
       "      <td>NaN</td>\n",
       "      <td>42</td>\n",
       "      <td>secondary education</td>\n",
       "      <td>1</td>\n",
       "      <td>married</td>\n",
       "      <td>0</td>\n",
       "      <td>F</td>\n",
       "      <td>employee</td>\n",
       "      <td>0</td>\n",
       "      <td>NaN</td>\n",
       "      <td>building a real estate</td>\n",
       "    </tr>\n",
       "    <tr>\n",
       "      <td>21510</td>\n",
       "      <td>2</td>\n",
       "      <td>NaN</td>\n",
       "      <td>28</td>\n",
       "      <td>secondary education</td>\n",
       "      <td>1</td>\n",
       "      <td>married</td>\n",
       "      <td>0</td>\n",
       "      <td>F</td>\n",
       "      <td>employee</td>\n",
       "      <td>0</td>\n",
       "      <td>NaN</td>\n",
       "      <td>car purchase</td>\n",
       "    </tr>\n",
       "  </tbody>\n",
       "</table>\n",
       "<p>2174 rows × 12 columns</p>\n",
       "</div>"
      ],
      "text/plain": [
       "       children  days_employed  dob_years            education  education_id  \\\n",
       "12            0            NaN         65  secondary education             1   \n",
       "26            0            NaN         41  secondary education             1   \n",
       "29            0            NaN         63  secondary education             1   \n",
       "41            0            NaN         50  secondary education             1   \n",
       "55            0            NaN         54  secondary education             1   \n",
       "...         ...            ...        ...                  ...           ...   \n",
       "21489         2            NaN         47  Secondary Education             1   \n",
       "21495         1            NaN         50  secondary education             1   \n",
       "21497         0            NaN         48    BACHELOR'S DEGREE             0   \n",
       "21502         1            NaN         42  secondary education             1   \n",
       "21510         2            NaN         28  secondary education             1   \n",
       "\n",
       "           family_status  family_status_id gender    income_type  debt  \\\n",
       "12     civil partnership                 1      M        retiree     0   \n",
       "26               married                 0      M  civil servant     0   \n",
       "29             unmarried                 4      F        retiree     0   \n",
       "41               married                 0      F  civil servant     0   \n",
       "55     civil partnership                 1      F        retiree     1   \n",
       "...                  ...               ...    ...            ...   ...   \n",
       "21489            married                 0      M       business     0   \n",
       "21495  civil partnership                 1      F       employee     0   \n",
       "21497            married                 0      F       business     0   \n",
       "21502            married                 0      F       employee     0   \n",
       "21510            married                 0      F       employee     0   \n",
       "\n",
       "       total_income                   purpose  \n",
       "12              NaN         to have a wedding  \n",
       "26              NaN                 education  \n",
       "29              NaN    building a real estate  \n",
       "41              NaN  second-hand car purchase  \n",
       "55              NaN         to have a wedding  \n",
       "...             ...                       ...  \n",
       "21489           NaN         purchase of a car  \n",
       "21495           NaN          wedding ceremony  \n",
       "21497           NaN       building a property  \n",
       "21502           NaN    building a real estate  \n",
       "21510           NaN              car purchase  \n",
       "\n",
       "[2174 rows x 12 columns]"
      ]
     },
     "execution_count": 7,
     "metadata": {},
     "output_type": "execute_result"
    }
   ],
   "source": [
    "# Let's look at the filtered table with missing values in the the first column with missing data\n",
    "\n",
    "data[data['total_income'].isnull()]"
   ]
  },
  {
   "cell_type": "markdown",
   "metadata": {},
   "source": [
    "[Do missing values seem symmetric? Can we be sure in this assumption? Explain your thoughts briefly in this section. You may probably want to conduct further investigations, and count the missing values in all the rows with missing values to confirm the the missing samples are of the same size.]"
   ]
  },
  {
   "cell_type": "markdown",
   "metadata": {},
   "source": [
    "The missing values in both columns look the same at the moment but further investigation is needed."
   ]
  },
  {
   "cell_type": "code",
   "execution_count": 8,
   "metadata": {},
   "outputs": [
    {
     "data": {
      "text/html": [
       "<div>\n",
       "<style scoped>\n",
       "    .dataframe tbody tr th:only-of-type {\n",
       "        vertical-align: middle;\n",
       "    }\n",
       "\n",
       "    .dataframe tbody tr th {\n",
       "        vertical-align: top;\n",
       "    }\n",
       "\n",
       "    .dataframe thead th {\n",
       "        text-align: right;\n",
       "    }\n",
       "</style>\n",
       "<table border=\"1\" class=\"dataframe\">\n",
       "  <thead>\n",
       "    <tr style=\"text-align: right;\">\n",
       "      <th></th>\n",
       "      <th>children</th>\n",
       "      <th>days_employed</th>\n",
       "      <th>dob_years</th>\n",
       "      <th>education</th>\n",
       "      <th>education_id</th>\n",
       "      <th>family_status</th>\n",
       "      <th>family_status_id</th>\n",
       "      <th>gender</th>\n",
       "      <th>income_type</th>\n",
       "      <th>debt</th>\n",
       "      <th>total_income</th>\n",
       "      <th>purpose</th>\n",
       "    </tr>\n",
       "  </thead>\n",
       "  <tbody>\n",
       "    <tr>\n",
       "      <td>12</td>\n",
       "      <td>0</td>\n",
       "      <td>NaN</td>\n",
       "      <td>65</td>\n",
       "      <td>secondary education</td>\n",
       "      <td>1</td>\n",
       "      <td>civil partnership</td>\n",
       "      <td>1</td>\n",
       "      <td>M</td>\n",
       "      <td>retiree</td>\n",
       "      <td>0</td>\n",
       "      <td>NaN</td>\n",
       "      <td>to have a wedding</td>\n",
       "    </tr>\n",
       "    <tr>\n",
       "      <td>26</td>\n",
       "      <td>0</td>\n",
       "      <td>NaN</td>\n",
       "      <td>41</td>\n",
       "      <td>secondary education</td>\n",
       "      <td>1</td>\n",
       "      <td>married</td>\n",
       "      <td>0</td>\n",
       "      <td>M</td>\n",
       "      <td>civil servant</td>\n",
       "      <td>0</td>\n",
       "      <td>NaN</td>\n",
       "      <td>education</td>\n",
       "    </tr>\n",
       "    <tr>\n",
       "      <td>29</td>\n",
       "      <td>0</td>\n",
       "      <td>NaN</td>\n",
       "      <td>63</td>\n",
       "      <td>secondary education</td>\n",
       "      <td>1</td>\n",
       "      <td>unmarried</td>\n",
       "      <td>4</td>\n",
       "      <td>F</td>\n",
       "      <td>retiree</td>\n",
       "      <td>0</td>\n",
       "      <td>NaN</td>\n",
       "      <td>building a real estate</td>\n",
       "    </tr>\n",
       "    <tr>\n",
       "      <td>41</td>\n",
       "      <td>0</td>\n",
       "      <td>NaN</td>\n",
       "      <td>50</td>\n",
       "      <td>secondary education</td>\n",
       "      <td>1</td>\n",
       "      <td>married</td>\n",
       "      <td>0</td>\n",
       "      <td>F</td>\n",
       "      <td>civil servant</td>\n",
       "      <td>0</td>\n",
       "      <td>NaN</td>\n",
       "      <td>second-hand car purchase</td>\n",
       "    </tr>\n",
       "    <tr>\n",
       "      <td>55</td>\n",
       "      <td>0</td>\n",
       "      <td>NaN</td>\n",
       "      <td>54</td>\n",
       "      <td>secondary education</td>\n",
       "      <td>1</td>\n",
       "      <td>civil partnership</td>\n",
       "      <td>1</td>\n",
       "      <td>F</td>\n",
       "      <td>retiree</td>\n",
       "      <td>1</td>\n",
       "      <td>NaN</td>\n",
       "      <td>to have a wedding</td>\n",
       "    </tr>\n",
       "    <tr>\n",
       "      <td>...</td>\n",
       "      <td>...</td>\n",
       "      <td>...</td>\n",
       "      <td>...</td>\n",
       "      <td>...</td>\n",
       "      <td>...</td>\n",
       "      <td>...</td>\n",
       "      <td>...</td>\n",
       "      <td>...</td>\n",
       "      <td>...</td>\n",
       "      <td>...</td>\n",
       "      <td>...</td>\n",
       "      <td>...</td>\n",
       "    </tr>\n",
       "    <tr>\n",
       "      <td>21489</td>\n",
       "      <td>2</td>\n",
       "      <td>NaN</td>\n",
       "      <td>47</td>\n",
       "      <td>Secondary Education</td>\n",
       "      <td>1</td>\n",
       "      <td>married</td>\n",
       "      <td>0</td>\n",
       "      <td>M</td>\n",
       "      <td>business</td>\n",
       "      <td>0</td>\n",
       "      <td>NaN</td>\n",
       "      <td>purchase of a car</td>\n",
       "    </tr>\n",
       "    <tr>\n",
       "      <td>21495</td>\n",
       "      <td>1</td>\n",
       "      <td>NaN</td>\n",
       "      <td>50</td>\n",
       "      <td>secondary education</td>\n",
       "      <td>1</td>\n",
       "      <td>civil partnership</td>\n",
       "      <td>1</td>\n",
       "      <td>F</td>\n",
       "      <td>employee</td>\n",
       "      <td>0</td>\n",
       "      <td>NaN</td>\n",
       "      <td>wedding ceremony</td>\n",
       "    </tr>\n",
       "    <tr>\n",
       "      <td>21497</td>\n",
       "      <td>0</td>\n",
       "      <td>NaN</td>\n",
       "      <td>48</td>\n",
       "      <td>BACHELOR'S DEGREE</td>\n",
       "      <td>0</td>\n",
       "      <td>married</td>\n",
       "      <td>0</td>\n",
       "      <td>F</td>\n",
       "      <td>business</td>\n",
       "      <td>0</td>\n",
       "      <td>NaN</td>\n",
       "      <td>building a property</td>\n",
       "    </tr>\n",
       "    <tr>\n",
       "      <td>21502</td>\n",
       "      <td>1</td>\n",
       "      <td>NaN</td>\n",
       "      <td>42</td>\n",
       "      <td>secondary education</td>\n",
       "      <td>1</td>\n",
       "      <td>married</td>\n",
       "      <td>0</td>\n",
       "      <td>F</td>\n",
       "      <td>employee</td>\n",
       "      <td>0</td>\n",
       "      <td>NaN</td>\n",
       "      <td>building a real estate</td>\n",
       "    </tr>\n",
       "    <tr>\n",
       "      <td>21510</td>\n",
       "      <td>2</td>\n",
       "      <td>NaN</td>\n",
       "      <td>28</td>\n",
       "      <td>secondary education</td>\n",
       "      <td>1</td>\n",
       "      <td>married</td>\n",
       "      <td>0</td>\n",
       "      <td>F</td>\n",
       "      <td>employee</td>\n",
       "      <td>0</td>\n",
       "      <td>NaN</td>\n",
       "      <td>car purchase</td>\n",
       "    </tr>\n",
       "  </tbody>\n",
       "</table>\n",
       "<p>2174 rows × 12 columns</p>\n",
       "</div>"
      ],
      "text/plain": [
       "       children  days_employed  dob_years            education  education_id  \\\n",
       "12            0            NaN         65  secondary education             1   \n",
       "26            0            NaN         41  secondary education             1   \n",
       "29            0            NaN         63  secondary education             1   \n",
       "41            0            NaN         50  secondary education             1   \n",
       "55            0            NaN         54  secondary education             1   \n",
       "...         ...            ...        ...                  ...           ...   \n",
       "21489         2            NaN         47  Secondary Education             1   \n",
       "21495         1            NaN         50  secondary education             1   \n",
       "21497         0            NaN         48    BACHELOR'S DEGREE             0   \n",
       "21502         1            NaN         42  secondary education             1   \n",
       "21510         2            NaN         28  secondary education             1   \n",
       "\n",
       "           family_status  family_status_id gender    income_type  debt  \\\n",
       "12     civil partnership                 1      M        retiree     0   \n",
       "26               married                 0      M  civil servant     0   \n",
       "29             unmarried                 4      F        retiree     0   \n",
       "41               married                 0      F  civil servant     0   \n",
       "55     civil partnership                 1      F        retiree     1   \n",
       "...                  ...               ...    ...            ...   ...   \n",
       "21489            married                 0      M       business     0   \n",
       "21495  civil partnership                 1      F       employee     0   \n",
       "21497            married                 0      F       business     0   \n",
       "21502            married                 0      F       employee     0   \n",
       "21510            married                 0      F       employee     0   \n",
       "\n",
       "       total_income                   purpose  \n",
       "12              NaN         to have a wedding  \n",
       "26              NaN                 education  \n",
       "29              NaN    building a real estate  \n",
       "41              NaN  second-hand car purchase  \n",
       "55              NaN         to have a wedding  \n",
       "...             ...                       ...  \n",
       "21489           NaN         purchase of a car  \n",
       "21495           NaN          wedding ceremony  \n",
       "21497           NaN       building a property  \n",
       "21502           NaN    building a real estate  \n",
       "21510           NaN              car purchase  \n",
       "\n",
       "[2174 rows x 12 columns]"
      ]
     },
     "execution_count": 8,
     "metadata": {},
     "output_type": "execute_result"
    }
   ],
   "source": [
    "# Let's apply multiple conditions for filtering data and look at the number of rows in the filtered table.\n",
    "\n",
    "data[(data['total_income'].isnull())&(data['days_employed'].isnull())]"
   ]
  },
  {
   "cell_type": "markdown",
   "metadata": {},
   "source": [
    "**Intermediate conclusion**\n",
    "\n",
    "[Does the number of rows in the filtered table match the number of missing values? What conclusion can we make from this?]\n",
    "\n",
    "[Calculate the percentage of the missing values compared to the whole dataset. Is it a considerably large piece of data? If so, you may want to fill the missing values. To do that, firstly we should consider whether the missing data could be due to the specific client characteristic, such as employment type or something else. You will need to decide which characteristic *you* think might be the reason. Secondly, we should check whether there's any dependence missing values have on the value of other indicators with the columns with identified specific client characteristic.]\n",
    "\n",
    "[Explain your next steps and how they correlate with the conclusions you made so far.]"
   ]
  },
  {
   "cell_type": "code",
   "execution_count": 9,
   "metadata": {},
   "outputs": [
    {
     "data": {
      "text/plain": [
       "children            0.000000\n",
       "days_employed       0.100999\n",
       "dob_years           0.000000\n",
       "education           0.000000\n",
       "education_id        0.000000\n",
       "family_status       0.000000\n",
       "family_status_id    0.000000\n",
       "gender              0.000000\n",
       "income_type         0.000000\n",
       "debt                0.000000\n",
       "total_income        0.100999\n",
       "purpose             0.000000\n",
       "dtype: float64"
      ]
     },
     "execution_count": 9,
     "metadata": {},
     "output_type": "execute_result"
    }
   ],
   "source": [
    "# Calculate the percentage of the missing values compared to the whole dataset:\n",
    "data.isnull().sum()/len(data)"
   ]
  },
  {
   "cell_type": "markdown",
   "metadata": {},
   "source": [
    "We got a result that shows that 10% of the values are missing values in two columns (and their number matches exactly, they probably affect each other). My hypothesis is that these are unemployed or retired people, so both their working days and their income are missing values, but we will keep checking. Also because it is a large percentage I will have to make up for the missing values.\n",
    "The next step is to check out who is the clients who do not have data on identified characteristic and the column with the missing values.\n"
   ]
  },
  {
   "cell_type": "code",
   "execution_count": 10,
   "metadata": {},
   "outputs": [
    {
     "data": {
      "text/plain": [
       "employee         1105\n",
       "business          508\n",
       "retiree           413\n",
       "civil servant     147\n",
       "entrepreneur        1\n",
       "Name: income_type, dtype: int64"
      ]
     },
     "execution_count": 10,
     "metadata": {},
     "output_type": "execute_result"
    }
   ],
   "source": [
    "# Let's investigate clients who do not have data on identified characteristic and the column with the missing clients who do not have data on identified characteristic and the column with the mvalues\n",
    "\n",
    "data[data['days_employed'].isnull()]['income_type'].value_counts()"
   ]
  },
  {
   "cell_type": "code",
   "execution_count": 11,
   "metadata": {},
   "outputs": [
    {
     "data": {
      "text/plain": [
       "employee         1105\n",
       "business          508\n",
       "retiree           413\n",
       "civil servant     147\n",
       "entrepreneur        1\n",
       "Name: income_type, dtype: int64"
      ]
     },
     "execution_count": 11,
     "metadata": {},
     "output_type": "execute_result"
    }
   ],
   "source": [
    "# Checking distribution\n",
    "\n",
    "data[data['total_income'].isnull()]['income_type'].value_counts()"
   ]
  },
  {
   "cell_type": "markdown",
   "metadata": {},
   "source": [
    "[Describe your findings here.]\n",
    "\n",
    "**Possible reasons for missing values in data**\n",
    "\n",
    "[Propose your ideas on why you think the values might be missing. Do you think they are missing randomly or there are any patterns?]\n",
    "\n",
    "[Let's start checking whether the missing values are random.]"
   ]
  },
  {
   "cell_type": "markdown",
   "metadata": {},
   "source": [
    "Since the income type of the missing values is not only the unemployed and retirees, the claim I made is wrong. If so it does not seem to me that the error is random because the missing values are symmetrical in both columns and it is hard to believe that it is random.\n",
    "Further investigation is required."
   ]
  },
  {
   "cell_type": "code",
   "execution_count": 12,
   "metadata": {},
   "outputs": [
    {
     "data": {
      "text/plain": [
       "employee                       11119\n",
       "business                        5085\n",
       "retiree                         3856\n",
       "civil servant                   1459\n",
       "entrepreneur                       2\n",
       "unemployed                         2\n",
       "paternity / maternity leave        1\n",
       "student                            1\n",
       "Name: income_type, dtype: int64"
      ]
     },
     "execution_count": 12,
     "metadata": {},
     "output_type": "execute_result"
    }
   ],
   "source": [
    "# Checking the distribution in the whole dataset\n",
    "\n",
    "data['income_type'].value_counts()"
   ]
  },
  {
   "cell_type": "markdown",
   "metadata": {},
   "source": [
    "**Intermediate conclusion**\n",
    "\n",
    "[Is the distribution in the original dataset similar to the distribution of the filtered table? What does that mean for us?]\n",
    "\n",
    "[If you think we can't make any conclusions yet, let's investigate our dataset further. Let's think about other reasons that could lead to data missing and check if we can find any patterns that may lead us to thinking that the missing values are not random. Because this is your work, this is section is optional.]"
   ]
  },
  {
   "cell_type": "code",
   "execution_count": 13,
   "metadata": {},
   "outputs": [
    {
     "data": {
      "text/plain": [
       " 0     14149\n",
       " 1      4818\n",
       " 2      2055\n",
       " 3       330\n",
       " 20       76\n",
       "-1        47\n",
       " 4        41\n",
       " 5         9\n",
       "Name: children, dtype: int64"
      ]
     },
     "execution_count": 13,
     "metadata": {},
     "output_type": "execute_result"
    }
   ],
   "source": [
    "# Check for other reasons and patterns that could lead to missing values\n",
    "\n",
    "data['children'].value_counts()"
   ]
  },
  {
   "cell_type": "code",
   "execution_count": 14,
   "metadata": {},
   "outputs": [
    {
     "data": {
      "text/plain": [
       "secondary education    13750\n",
       "bachelor's degree       4718\n",
       "SECONDARY EDUCATION      772\n",
       "Secondary Education      711\n",
       "some college             668\n",
       "BACHELOR'S DEGREE        274\n",
       "Bachelor's Degree        268\n",
       "primary education        250\n",
       "Some College              47\n",
       "SOME COLLEGE              29\n",
       "PRIMARY EDUCATION         17\n",
       "Primary Education         15\n",
       "graduate degree            4\n",
       "GRADUATE DEGREE            1\n",
       "Graduate Degree            1\n",
       "Name: education, dtype: int64"
      ]
     },
     "execution_count": 14,
     "metadata": {},
     "output_type": "execute_result"
    }
   ],
   "source": [
    "data['education'].value_counts()"
   ]
  },
  {
   "cell_type": "code",
   "execution_count": 15,
   "metadata": {},
   "outputs": [
    {
     "data": {
      "text/plain": [
       "married              12380\n",
       "civil partnership     4177\n",
       "unmarried             2813\n",
       "divorced              1195\n",
       "widow / widower        960\n",
       "Name: family_status, dtype: int64"
      ]
     },
     "execution_count": 15,
     "metadata": {},
     "output_type": "execute_result"
    }
   ],
   "source": [
    "data['family_status'].value_counts()"
   ]
  },
  {
   "cell_type": "markdown",
   "metadata": {},
   "source": [
    "**Intermediate conclusion**\n",
    "\n",
    "[Can we finally confirm that missing values are accidental? Check for anything else that you think might be important here.]"
   ]
  },
  {
   "cell_type": "code",
   "execution_count": 16,
   "metadata": {
    "scrolled": true
   },
   "outputs": [
    {
     "data": {
      "text/plain": [
       "-986.927316     1\n",
       "-7026.359174    1\n",
       "-4236.274243    1\n",
       "-6620.396473    1\n",
       "-1238.560080    1\n",
       "               ..\n",
       "-2849.351119    1\n",
       "-5619.328204    1\n",
       "-448.829898     1\n",
       "-1687.038672    1\n",
       "-582.538413     1\n",
       "Name: days_employed, Length: 19351, dtype: int64"
      ]
     },
     "execution_count": 16,
     "metadata": {},
     "output_type": "execute_result"
    }
   ],
   "source": [
    "# Checking for other patterns - explain which\n",
    "data['days_employed'].value_counts()"
   ]
  },
  {
   "cell_type": "markdown",
   "metadata": {},
   "source": [
    "The only pattern I found after comparing all the relevant columns is that the number of missing values in the total income is equal to the number of missing values on the days employed. My opinion is that the first is produced from the second and in the absence of the second there is no way to calculate the first."
   ]
  },
  {
   "cell_type": "markdown",
   "metadata": {},
   "source": [
    "I will replace the missing values with an average corresponding to the column, as this will bring me closer to the most accurate result."
   ]
  },
  {
   "cell_type": "markdown",
   "metadata": {},
   "source": [
    "## Data transformation\n",
    "\n",
    "[Let's go through each column to see what issues we may have in them.]\n",
    "\n",
    "[Begin with removing duplicates and fixing educational information if required.]"
   ]
  },
  {
   "cell_type": "code",
   "execution_count": 17,
   "metadata": {},
   "outputs": [
    {
     "data": {
      "text/plain": [
       "array([\"bachelor's degree\", 'secondary education', 'Secondary Education',\n",
       "       'SECONDARY EDUCATION', \"BACHELOR'S DEGREE\", 'some college',\n",
       "       'primary education', \"Bachelor's Degree\", 'SOME COLLEGE',\n",
       "       'Some College', 'PRIMARY EDUCATION', 'Primary Education',\n",
       "       'Graduate Degree', 'GRADUATE DEGREE', 'graduate degree'],\n",
       "      dtype=object)"
      ]
     },
     "execution_count": 17,
     "metadata": {},
     "output_type": "execute_result"
    }
   ],
   "source": [
    "# Let's see all values in education column to check if and what spellings will need to be fixed\n",
    "data['education'].unique()"
   ]
  },
  {
   "cell_type": "code",
   "execution_count": 18,
   "metadata": {
    "scrolled": true
   },
   "outputs": [
    {
     "data": {
      "text/plain": [
       "0          bachelor's degree\n",
       "1        secondary education\n",
       "2        secondary education\n",
       "3        secondary education\n",
       "4        secondary education\n",
       "                ...         \n",
       "21520    secondary education\n",
       "21521    secondary education\n",
       "21522    secondary education\n",
       "21523    secondary education\n",
       "21524    secondary education\n",
       "Name: education, Length: 21525, dtype: object"
      ]
     },
     "execution_count": 18,
     "metadata": {},
     "output_type": "execute_result"
    }
   ],
   "source": [
    "# Fix the registers if required\n",
    "data['education'].str.lower()"
   ]
  },
  {
   "cell_type": "code",
   "execution_count": 19,
   "metadata": {},
   "outputs": [],
   "source": [
    "data['education']=data['education'].str.lower()"
   ]
  },
  {
   "cell_type": "code",
   "execution_count": 20,
   "metadata": {},
   "outputs": [
    {
     "data": {
      "text/plain": [
       "array([\"bachelor's degree\", 'secondary education', 'some college',\n",
       "       'primary education', 'graduate degree'], dtype=object)"
      ]
     },
     "execution_count": 20,
     "metadata": {},
     "output_type": "execute_result"
    }
   ],
   "source": [
    "# Checking all the values in the column to make sure we fixed them\n",
    "\n",
    "data['education'].unique()"
   ]
  },
  {
   "cell_type": "markdown",
   "metadata": {},
   "source": [
    "[Check the data the `children` column]"
   ]
  },
  {
   "cell_type": "code",
   "execution_count": 21,
   "metadata": {},
   "outputs": [
    {
     "data": {
      "text/plain": [
       " 0     14149\n",
       " 1      4818\n",
       " 2      2055\n",
       " 3       330\n",
       " 20       76\n",
       "-1        47\n",
       " 4        41\n",
       " 5         9\n",
       "Name: children, dtype: int64"
      ]
     },
     "execution_count": 21,
     "metadata": {},
     "output_type": "execute_result"
    }
   ],
   "source": [
    "# Let's see the distribution of values in the `children` column\n",
    "data['children'].value_counts()"
   ]
  },
  {
   "cell_type": "markdown",
   "metadata": {},
   "source": [
    "[Are there any strange things in the column? If yes, how high is the percentage of problematic data? How could they have occurred? Make a decision on what you will do with this data and explain you reasoning.]"
   ]
  },
  {
   "cell_type": "code",
   "execution_count": 22,
   "metadata": {},
   "outputs": [
    {
     "data": {
      "text/plain": [
       " 0     0.657329\n",
       " 1     0.223833\n",
       " 2     0.095470\n",
       " 3     0.015331\n",
       " 20    0.003531\n",
       "-1     0.002184\n",
       " 4     0.001905\n",
       " 5     0.000418\n",
       "Name: children, dtype: float64"
      ]
     },
     "execution_count": 22,
     "metadata": {},
     "output_type": "execute_result"
    }
   ],
   "source": [
    "data['children'].value_counts()/ len(data)"
   ]
  },
  {
   "cell_type": "markdown",
   "metadata": {},
   "source": [
    "I think they confused between 1 and (-1) and between 20 and 2."
   ]
  },
  {
   "cell_type": "code",
   "execution_count": 23,
   "metadata": {},
   "outputs": [],
   "source": [
    "# [fix the data based on your decision]\n",
    "data['children']=data['children'].replace(to_replace= -1, value=1)\n",
    "data['children']=data['children'].replace(to_replace= 20, value=2)"
   ]
  },
  {
   "cell_type": "code",
   "execution_count": 24,
   "metadata": {},
   "outputs": [
    {
     "data": {
      "text/plain": [
       "0    14149\n",
       "1     4865\n",
       "2     2131\n",
       "3      330\n",
       "4       41\n",
       "5        9\n",
       "Name: children, dtype: int64"
      ]
     },
     "execution_count": 24,
     "metadata": {},
     "output_type": "execute_result"
    }
   ],
   "source": [
    "# Checking the `children` column again to make sure it's all fixed\n",
    "\n",
    "data['children'].value_counts()"
   ]
  },
  {
   "cell_type": "markdown",
   "metadata": {},
   "source": [
    "[Check the data in the `days_employed` column. Firstly think about what kind of issues could there be and what you may want to check and how you will do it.]"
   ]
  },
  {
   "cell_type": "code",
   "execution_count": 25,
   "metadata": {},
   "outputs": [
    {
     "data": {
      "text/plain": [
       "-986.927316     1\n",
       "-7026.359174    1\n",
       "-4236.274243    1\n",
       "-6620.396473    1\n",
       "-1238.560080    1\n",
       "               ..\n",
       "-2849.351119    1\n",
       "-5619.328204    1\n",
       "-448.829898     1\n",
       "-1687.038672    1\n",
       "-582.538413     1\n",
       "Name: days_employed, Length: 19351, dtype: int64"
      ]
     },
     "execution_count": 25,
     "metadata": {},
     "output_type": "execute_result"
    }
   ],
   "source": [
    "# Find problematic data in `days_employed`, if they exist, and calculate the percentage\n",
    "data['days_employed'].value_counts()"
   ]
  },
  {
   "cell_type": "markdown",
   "metadata": {},
   "source": [
    "[If the amount of problematic data is high, it could've been due to some technical issues. We may probably want to propose the most obvious reason why it could've happened and what the correct data might've been, as we can't drop these problematic rows.]"
   ]
  },
  {
   "cell_type": "code",
   "execution_count": 26,
   "metadata": {},
   "outputs": [
    {
     "data": {
      "text/plain": [
       "0          8437.673028\n",
       "1          4024.803754\n",
       "2          5623.422610\n",
       "3          4124.747207\n",
       "4        340266.072047\n",
       "             ...      \n",
       "21520      4529.316663\n",
       "21521    343937.404131\n",
       "21522      2113.346888\n",
       "21523      3112.481705\n",
       "21524      1984.507589\n",
       "Name: days_employed, Length: 21525, dtype: float64"
      ]
     },
     "execution_count": 26,
     "metadata": {},
     "output_type": "execute_result"
    }
   ],
   "source": [
    "# Address the problematic values, if they exist\n",
    "\n",
    "data['days_employed'].abs()"
   ]
  },
  {
   "cell_type": "code",
   "execution_count": 27,
   "metadata": {},
   "outputs": [],
   "source": [
    "data['days_employed'] = data['days_employed'].abs()"
   ]
  },
  {
   "cell_type": "code",
   "execution_count": 28,
   "metadata": {},
   "outputs": [
    {
     "data": {
      "text/plain": [
       "986.927316     1\n",
       "7026.359174    1\n",
       "4236.274243    1\n",
       "6620.396473    1\n",
       "1238.560080    1\n",
       "              ..\n",
       "2849.351119    1\n",
       "5619.328204    1\n",
       "448.829898     1\n",
       "1687.038672    1\n",
       "582.538413     1\n",
       "Name: days_employed, Length: 19351, dtype: int64"
      ]
     },
     "execution_count": 28,
     "metadata": {},
     "output_type": "execute_result"
    }
   ],
   "source": [
    "# Check the result - make sure it's fixed\n",
    "data['days_employed'].value_counts()"
   ]
  },
  {
   "cell_type": "markdown",
   "metadata": {},
   "source": [
    "[Let's now look at the client's age and whether there are any issues there. Again, think about what can data can be strange in this column, i.e. what cannot be someone's age.]"
   ]
  },
  {
   "cell_type": "code",
   "execution_count": 29,
   "metadata": {
    "scrolled": true
   },
   "outputs": [
    {
     "data": {
      "text/plain": [
       "35    617\n",
       "40    609\n",
       "41    607\n",
       "34    603\n",
       "38    598\n",
       "42    597\n",
       "33    581\n",
       "39    573\n",
       "31    560\n",
       "36    555\n",
       "44    547\n",
       "29    545\n",
       "30    540\n",
       "48    538\n",
       "37    537\n",
       "50    514\n",
       "43    513\n",
       "32    510\n",
       "49    508\n",
       "28    503\n",
       "45    497\n",
       "27    493\n",
       "56    487\n",
       "52    484\n",
       "47    480\n",
       "54    479\n",
       "46    475\n",
       "58    461\n",
       "57    460\n",
       "53    459\n",
       "51    448\n",
       "59    444\n",
       "55    443\n",
       "26    408\n",
       "60    377\n",
       "25    357\n",
       "61    355\n",
       "62    352\n",
       "63    269\n",
       "64    265\n",
       "24    264\n",
       "23    254\n",
       "65    194\n",
       "66    183\n",
       "22    183\n",
       "67    167\n",
       "21    111\n",
       "0     101\n",
       "68     99\n",
       "69     85\n",
       "70     65\n",
       "71     58\n",
       "20     51\n",
       "72     33\n",
       "19     14\n",
       "73      8\n",
       "74      6\n",
       "75      1\n",
       "Name: dob_years, dtype: int64"
      ]
     },
     "execution_count": 29,
     "metadata": {},
     "output_type": "execute_result"
    }
   ],
   "source": [
    "# Check the `dob_years` for suspicious values and count the percentage\n",
    "\n",
    "data['dob_years'].value_counts()"
   ]
  },
  {
   "cell_type": "markdown",
   "metadata": {},
   "source": [
    "[Decide what you'll do with the problematic values and explain why.]"
   ]
  },
  {
   "cell_type": "code",
   "execution_count": 30,
   "metadata": {},
   "outputs": [
    {
     "data": {
      "text/plain": [
       "35    617\n",
       "40    609\n",
       "41    607\n",
       "34    603\n",
       "38    598\n",
       "42    597\n",
       "33    581\n",
       "39    573\n",
       "31    560\n",
       "36    555\n",
       "44    547\n",
       "29    545\n",
       "30    540\n",
       "48    538\n",
       "37    537\n",
       "50    514\n",
       "43    513\n",
       "32    510\n",
       "49    508\n",
       "28    503\n",
       "45    497\n",
       "27    493\n",
       "56    487\n",
       "52    484\n",
       "47    480\n",
       "54    479\n",
       "46    475\n",
       "58    461\n",
       "57    460\n",
       "53    459\n",
       "51    448\n",
       "59    444\n",
       "55    443\n",
       "26    408\n",
       "60    377\n",
       "25    357\n",
       "61    355\n",
       "62    352\n",
       "63    269\n",
       "64    265\n",
       "24    264\n",
       "23    254\n",
       "65    194\n",
       "66    183\n",
       "22    183\n",
       "67    167\n",
       "21    111\n",
       "0     101\n",
       "68     99\n",
       "69     85\n",
       "70     65\n",
       "71     58\n",
       "20     51\n",
       "72     33\n",
       "19     14\n",
       "73      8\n",
       "74      6\n",
       "75      1\n",
       "Name: dob_years, dtype: int64"
      ]
     },
     "execution_count": 30,
     "metadata": {},
     "output_type": "execute_result"
    }
   ],
   "source": [
    "# Address the issues in the `dob_years` column, if they exist\n",
    "data['dob_years'].value_counts()"
   ]
  },
  {
   "cell_type": "markdown",
   "metadata": {},
   "source": [
    "The problem here is that there is a value that is 0 (which does not make sense since it is the age of the customers).\n",
    "To fix this and get the most accurate result I will use the median to cover the value."
   ]
  },
  {
   "cell_type": "code",
   "execution_count": 31,
   "metadata": {},
   "outputs": [],
   "source": [
    "data['dob_years']=data['dob_years'].replace(to_replace= 0, value=data['dob_years'].median())"
   ]
  },
  {
   "cell_type": "code",
   "execution_count": 32,
   "metadata": {},
   "outputs": [
    {
     "data": {
      "text/plain": [
       "42    698\n",
       "35    617\n",
       "40    609\n",
       "41    607\n",
       "34    603\n",
       "38    598\n",
       "33    581\n",
       "39    573\n",
       "31    560\n",
       "36    555\n",
       "44    547\n",
       "29    545\n",
       "30    540\n",
       "48    538\n",
       "37    537\n",
       "50    514\n",
       "43    513\n",
       "32    510\n",
       "49    508\n",
       "28    503\n",
       "45    497\n",
       "27    493\n",
       "56    487\n",
       "52    484\n",
       "47    480\n",
       "54    479\n",
       "46    475\n",
       "58    461\n",
       "57    460\n",
       "53    459\n",
       "51    448\n",
       "59    444\n",
       "55    443\n",
       "26    408\n",
       "60    377\n",
       "25    357\n",
       "61    355\n",
       "62    352\n",
       "63    269\n",
       "64    265\n",
       "24    264\n",
       "23    254\n",
       "65    194\n",
       "66    183\n",
       "22    183\n",
       "67    167\n",
       "21    111\n",
       "68     99\n",
       "69     85\n",
       "70     65\n",
       "71     58\n",
       "20     51\n",
       "72     33\n",
       "19     14\n",
       "73      8\n",
       "74      6\n",
       "75      1\n",
       "Name: dob_years, dtype: int64"
      ]
     },
     "execution_count": 32,
     "metadata": {},
     "output_type": "execute_result"
    }
   ],
   "source": [
    "# Check the result - make sure it's fixed\n",
    "data['dob_years'].value_counts()"
   ]
  },
  {
   "cell_type": "markdown",
   "metadata": {},
   "source": [
    "[Now let's check the `family_status` column. See what kind of values there are and what problems you may need to address.]"
   ]
  },
  {
   "cell_type": "code",
   "execution_count": 33,
   "metadata": {},
   "outputs": [
    {
     "data": {
      "text/plain": [
       "married              12380\n",
       "civil partnership     4177\n",
       "unmarried             2813\n",
       "divorced              1195\n",
       "widow / widower        960\n",
       "Name: family_status, dtype: int64"
      ]
     },
     "execution_count": 33,
     "metadata": {},
     "output_type": "execute_result"
    }
   ],
   "source": [
    "# Let's see the values for the column\n",
    "\n",
    "data['family_status'].value_counts()"
   ]
  },
  {
   "cell_type": "markdown",
   "metadata": {},
   "source": [
    "I don't see any problematic values in `family_status`."
   ]
  },
  {
   "cell_type": "code",
   "execution_count": 34,
   "metadata": {},
   "outputs": [],
   "source": [
    "# Address the problematic values in `family_status`, if they exist\n",
    "\n"
   ]
  },
  {
   "cell_type": "code",
   "execution_count": 35,
   "metadata": {},
   "outputs": [],
   "source": [
    "# Check the result - make sure it's fixed\n"
   ]
  },
  {
   "cell_type": "markdown",
   "metadata": {},
   "source": [
    "[Now let's check the `gender` column. See what kind of values there are and what problems you may need to address]"
   ]
  },
  {
   "cell_type": "code",
   "execution_count": 36,
   "metadata": {},
   "outputs": [
    {
     "data": {
      "text/plain": [
       "F      14236\n",
       "M       7288\n",
       "XNA        1\n",
       "Name: gender, dtype: int64"
      ]
     },
     "execution_count": 36,
     "metadata": {},
     "output_type": "execute_result"
    }
   ],
   "source": [
    "# Let's see the values in the column\n",
    "data['gender'].value_counts()"
   ]
  },
  {
   "cell_type": "markdown",
   "metadata": {},
   "source": [
    "The problematic value here is XNA.\n",
    "I decided not to change it as it is a zero percentage compared to the rest of the column so there is no point in messing with it."
   ]
  },
  {
   "cell_type": "code",
   "execution_count": 37,
   "metadata": {},
   "outputs": [],
   "source": [
    "# Address the problematic values, if they exist"
   ]
  },
  {
   "cell_type": "code",
   "execution_count": 38,
   "metadata": {},
   "outputs": [],
   "source": [
    "# Check the result - make sure it's fixed\n",
    "\n"
   ]
  },
  {
   "cell_type": "markdown",
   "metadata": {},
   "source": [
    "[Now let's check the `income_type` column. See what kind of values there are and what problems you may need to address]"
   ]
  },
  {
   "cell_type": "code",
   "execution_count": 39,
   "metadata": {},
   "outputs": [
    {
     "data": {
      "text/plain": [
       "employee                       11119\n",
       "business                        5085\n",
       "retiree                         3856\n",
       "civil servant                   1459\n",
       "entrepreneur                       2\n",
       "unemployed                         2\n",
       "paternity / maternity leave        1\n",
       "student                            1\n",
       "Name: income_type, dtype: int64"
      ]
     },
     "execution_count": 39,
     "metadata": {},
     "output_type": "execute_result"
    }
   ],
   "source": [
    "# Let's see the values in the column\n",
    "data['income_type'].value_counts()"
   ]
  },
  {
   "cell_type": "markdown",
   "metadata": {},
   "source": [
    "I don't see any problematic values in 'income_type'."
   ]
  },
  {
   "cell_type": "code",
   "execution_count": 40,
   "metadata": {},
   "outputs": [],
   "source": [
    "# Address the problematic values, if they exist"
   ]
  },
  {
   "cell_type": "code",
   "execution_count": 41,
   "metadata": {},
   "outputs": [],
   "source": [
    "# Check the result - make sure it's fixed\n",
    "\n"
   ]
  },
  {
   "cell_type": "markdown",
   "metadata": {},
   "source": [
    "[Now let's see if we have any duplicates in our data. If we do, you'll need to decide what you will do with them and explain why.]"
   ]
  },
  {
   "cell_type": "code",
   "execution_count": 42,
   "metadata": {},
   "outputs": [
    {
     "data": {
      "text/html": [
       "<div>\n",
       "<style scoped>\n",
       "    .dataframe tbody tr th:only-of-type {\n",
       "        vertical-align: middle;\n",
       "    }\n",
       "\n",
       "    .dataframe tbody tr th {\n",
       "        vertical-align: top;\n",
       "    }\n",
       "\n",
       "    .dataframe thead th {\n",
       "        text-align: right;\n",
       "    }\n",
       "</style>\n",
       "<table border=\"1\" class=\"dataframe\">\n",
       "  <thead>\n",
       "    <tr style=\"text-align: right;\">\n",
       "      <th></th>\n",
       "      <th>children</th>\n",
       "      <th>days_employed</th>\n",
       "      <th>dob_years</th>\n",
       "      <th>education</th>\n",
       "      <th>education_id</th>\n",
       "      <th>family_status</th>\n",
       "      <th>family_status_id</th>\n",
       "      <th>gender</th>\n",
       "      <th>income_type</th>\n",
       "      <th>debt</th>\n",
       "      <th>total_income</th>\n",
       "      <th>purpose</th>\n",
       "    </tr>\n",
       "  </thead>\n",
       "  <tbody>\n",
       "    <tr>\n",
       "      <td>2849</td>\n",
       "      <td>0</td>\n",
       "      <td>NaN</td>\n",
       "      <td>41</td>\n",
       "      <td>secondary education</td>\n",
       "      <td>1</td>\n",
       "      <td>married</td>\n",
       "      <td>0</td>\n",
       "      <td>F</td>\n",
       "      <td>employee</td>\n",
       "      <td>0</td>\n",
       "      <td>NaN</td>\n",
       "      <td>purchase of the house for my family</td>\n",
       "    </tr>\n",
       "    <tr>\n",
       "      <td>3290</td>\n",
       "      <td>0</td>\n",
       "      <td>NaN</td>\n",
       "      <td>58</td>\n",
       "      <td>secondary education</td>\n",
       "      <td>1</td>\n",
       "      <td>civil partnership</td>\n",
       "      <td>1</td>\n",
       "      <td>F</td>\n",
       "      <td>retiree</td>\n",
       "      <td>0</td>\n",
       "      <td>NaN</td>\n",
       "      <td>to have a wedding</td>\n",
       "    </tr>\n",
       "    <tr>\n",
       "      <td>4182</td>\n",
       "      <td>1</td>\n",
       "      <td>NaN</td>\n",
       "      <td>34</td>\n",
       "      <td>bachelor's degree</td>\n",
       "      <td>0</td>\n",
       "      <td>civil partnership</td>\n",
       "      <td>1</td>\n",
       "      <td>F</td>\n",
       "      <td>employee</td>\n",
       "      <td>0</td>\n",
       "      <td>NaN</td>\n",
       "      <td>wedding ceremony</td>\n",
       "    </tr>\n",
       "    <tr>\n",
       "      <td>4851</td>\n",
       "      <td>0</td>\n",
       "      <td>NaN</td>\n",
       "      <td>60</td>\n",
       "      <td>secondary education</td>\n",
       "      <td>1</td>\n",
       "      <td>civil partnership</td>\n",
       "      <td>1</td>\n",
       "      <td>F</td>\n",
       "      <td>retiree</td>\n",
       "      <td>0</td>\n",
       "      <td>NaN</td>\n",
       "      <td>wedding ceremony</td>\n",
       "    </tr>\n",
       "    <tr>\n",
       "      <td>5557</td>\n",
       "      <td>0</td>\n",
       "      <td>NaN</td>\n",
       "      <td>58</td>\n",
       "      <td>secondary education</td>\n",
       "      <td>1</td>\n",
       "      <td>civil partnership</td>\n",
       "      <td>1</td>\n",
       "      <td>F</td>\n",
       "      <td>retiree</td>\n",
       "      <td>0</td>\n",
       "      <td>NaN</td>\n",
       "      <td>to have a wedding</td>\n",
       "    </tr>\n",
       "    <tr>\n",
       "      <td>...</td>\n",
       "      <td>...</td>\n",
       "      <td>...</td>\n",
       "      <td>...</td>\n",
       "      <td>...</td>\n",
       "      <td>...</td>\n",
       "      <td>...</td>\n",
       "      <td>...</td>\n",
       "      <td>...</td>\n",
       "      <td>...</td>\n",
       "      <td>...</td>\n",
       "      <td>...</td>\n",
       "      <td>...</td>\n",
       "    </tr>\n",
       "    <tr>\n",
       "      <td>20702</td>\n",
       "      <td>0</td>\n",
       "      <td>NaN</td>\n",
       "      <td>64</td>\n",
       "      <td>secondary education</td>\n",
       "      <td>1</td>\n",
       "      <td>married</td>\n",
       "      <td>0</td>\n",
       "      <td>F</td>\n",
       "      <td>retiree</td>\n",
       "      <td>0</td>\n",
       "      <td>NaN</td>\n",
       "      <td>supplementary education</td>\n",
       "    </tr>\n",
       "    <tr>\n",
       "      <td>21032</td>\n",
       "      <td>0</td>\n",
       "      <td>NaN</td>\n",
       "      <td>60</td>\n",
       "      <td>secondary education</td>\n",
       "      <td>1</td>\n",
       "      <td>married</td>\n",
       "      <td>0</td>\n",
       "      <td>F</td>\n",
       "      <td>retiree</td>\n",
       "      <td>0</td>\n",
       "      <td>NaN</td>\n",
       "      <td>to become educated</td>\n",
       "    </tr>\n",
       "    <tr>\n",
       "      <td>21132</td>\n",
       "      <td>0</td>\n",
       "      <td>NaN</td>\n",
       "      <td>47</td>\n",
       "      <td>secondary education</td>\n",
       "      <td>1</td>\n",
       "      <td>married</td>\n",
       "      <td>0</td>\n",
       "      <td>F</td>\n",
       "      <td>employee</td>\n",
       "      <td>0</td>\n",
       "      <td>NaN</td>\n",
       "      <td>housing renovation</td>\n",
       "    </tr>\n",
       "    <tr>\n",
       "      <td>21281</td>\n",
       "      <td>1</td>\n",
       "      <td>NaN</td>\n",
       "      <td>30</td>\n",
       "      <td>bachelor's degree</td>\n",
       "      <td>0</td>\n",
       "      <td>married</td>\n",
       "      <td>0</td>\n",
       "      <td>F</td>\n",
       "      <td>employee</td>\n",
       "      <td>0</td>\n",
       "      <td>NaN</td>\n",
       "      <td>buy commercial real estate</td>\n",
       "    </tr>\n",
       "    <tr>\n",
       "      <td>21415</td>\n",
       "      <td>0</td>\n",
       "      <td>NaN</td>\n",
       "      <td>54</td>\n",
       "      <td>secondary education</td>\n",
       "      <td>1</td>\n",
       "      <td>married</td>\n",
       "      <td>0</td>\n",
       "      <td>F</td>\n",
       "      <td>retiree</td>\n",
       "      <td>0</td>\n",
       "      <td>NaN</td>\n",
       "      <td>housing transactions</td>\n",
       "    </tr>\n",
       "  </tbody>\n",
       "</table>\n",
       "<p>72 rows × 12 columns</p>\n",
       "</div>"
      ],
      "text/plain": [
       "       children  days_employed  dob_years            education  education_id  \\\n",
       "2849          0            NaN         41  secondary education             1   \n",
       "3290          0            NaN         58  secondary education             1   \n",
       "4182          1            NaN         34    bachelor's degree             0   \n",
       "4851          0            NaN         60  secondary education             1   \n",
       "5557          0            NaN         58  secondary education             1   \n",
       "...         ...            ...        ...                  ...           ...   \n",
       "20702         0            NaN         64  secondary education             1   \n",
       "21032         0            NaN         60  secondary education             1   \n",
       "21132         0            NaN         47  secondary education             1   \n",
       "21281         1            NaN         30    bachelor's degree             0   \n",
       "21415         0            NaN         54  secondary education             1   \n",
       "\n",
       "           family_status  family_status_id gender income_type  debt  \\\n",
       "2849             married                 0      F    employee     0   \n",
       "3290   civil partnership                 1      F     retiree     0   \n",
       "4182   civil partnership                 1      F    employee     0   \n",
       "4851   civil partnership                 1      F     retiree     0   \n",
       "5557   civil partnership                 1      F     retiree     0   \n",
       "...                  ...               ...    ...         ...   ...   \n",
       "20702            married                 0      F     retiree     0   \n",
       "21032            married                 0      F     retiree     0   \n",
       "21132            married                 0      F    employee     0   \n",
       "21281            married                 0      F    employee     0   \n",
       "21415            married                 0      F     retiree     0   \n",
       "\n",
       "       total_income                              purpose  \n",
       "2849            NaN  purchase of the house for my family  \n",
       "3290            NaN                    to have a wedding  \n",
       "4182            NaN                     wedding ceremony  \n",
       "4851            NaN                     wedding ceremony  \n",
       "5557            NaN                    to have a wedding  \n",
       "...             ...                                  ...  \n",
       "20702           NaN              supplementary education  \n",
       "21032           NaN                   to become educated  \n",
       "21132           NaN                   housing renovation  \n",
       "21281           NaN           buy commercial real estate  \n",
       "21415           NaN                 housing transactions  \n",
       "\n",
       "[72 rows x 12 columns]"
      ]
     },
     "execution_count": 42,
     "metadata": {},
     "output_type": "execute_result"
    }
   ],
   "source": [
    "# Checking duplicates\n",
    "\n",
    "data[data.duplicated()]"
   ]
  },
  {
   "cell_type": "code",
   "execution_count": 43,
   "metadata": {},
   "outputs": [],
   "source": [
    "data.drop_duplicates(inplace = True)"
   ]
  },
  {
   "cell_type": "code",
   "execution_count": null,
   "metadata": {},
   "outputs": [],
   "source": []
  },
  {
   "cell_type": "markdown",
   "metadata": {},
   "source": [
    "72 duplicates were found, all deleted."
   ]
  },
  {
   "cell_type": "code",
   "execution_count": 44,
   "metadata": {},
   "outputs": [
    {
     "data": {
      "text/html": [
       "<div>\n",
       "<style scoped>\n",
       "    .dataframe tbody tr th:only-of-type {\n",
       "        vertical-align: middle;\n",
       "    }\n",
       "\n",
       "    .dataframe tbody tr th {\n",
       "        vertical-align: top;\n",
       "    }\n",
       "\n",
       "    .dataframe thead th {\n",
       "        text-align: right;\n",
       "    }\n",
       "</style>\n",
       "<table border=\"1\" class=\"dataframe\">\n",
       "  <thead>\n",
       "    <tr style=\"text-align: right;\">\n",
       "      <th></th>\n",
       "      <th>children</th>\n",
       "      <th>days_employed</th>\n",
       "      <th>dob_years</th>\n",
       "      <th>education</th>\n",
       "      <th>education_id</th>\n",
       "      <th>family_status</th>\n",
       "      <th>family_status_id</th>\n",
       "      <th>gender</th>\n",
       "      <th>income_type</th>\n",
       "      <th>debt</th>\n",
       "      <th>total_income</th>\n",
       "      <th>purpose</th>\n",
       "    </tr>\n",
       "  </thead>\n",
       "  <tbody>\n",
       "  </tbody>\n",
       "</table>\n",
       "</div>"
      ],
      "text/plain": [
       "Empty DataFrame\n",
       "Columns: [children, days_employed, dob_years, education, education_id, family_status, family_status_id, gender, income_type, debt, total_income, purpose]\n",
       "Index: []"
      ]
     },
     "execution_count": 44,
     "metadata": {},
     "output_type": "execute_result"
    }
   ],
   "source": [
    "data[data.duplicated()]"
   ]
  },
  {
   "cell_type": "code",
   "execution_count": 45,
   "metadata": {},
   "outputs": [
    {
     "name": "stdout",
     "output_type": "stream",
     "text": [
      "<class 'pandas.core.frame.DataFrame'>\n",
      "Int64Index: 21453 entries, 0 to 21524\n",
      "Data columns (total 12 columns):\n",
      "children            21453 non-null int64\n",
      "days_employed       19351 non-null float64\n",
      "dob_years           21453 non-null int64\n",
      "education           21453 non-null object\n",
      "education_id        21453 non-null int64\n",
      "family_status       21453 non-null object\n",
      "family_status_id    21453 non-null int64\n",
      "gender              21453 non-null object\n",
      "income_type         21453 non-null object\n",
      "debt                21453 non-null int64\n",
      "total_income        19351 non-null float64\n",
      "purpose             21453 non-null object\n",
      "dtypes: float64(2), int64(5), object(5)\n",
      "memory usage: 2.1+ MB\n"
     ]
    },
    {
     "data": {
      "text/plain": [
       "children            0.000000\n",
       "days_employed       0.097982\n",
       "dob_years           0.000000\n",
       "education           0.000000\n",
       "education_id        0.000000\n",
       "family_status       0.000000\n",
       "family_status_id    0.000000\n",
       "gender              0.000000\n",
       "income_type         0.000000\n",
       "debt                0.000000\n",
       "total_income        0.097982\n",
       "purpose             0.000000\n",
       "dtype: float64"
      ]
     },
     "execution_count": 45,
     "metadata": {},
     "output_type": "execute_result"
    }
   ],
   "source": [
    "# Check the size of the dataset that you now have after your first manipulations with it\n",
    "data.info()\n",
    "data.isnull().sum()/len(data)"
   ]
  },
  {
   "cell_type": "markdown",
   "metadata": {},
   "source": [
    "We had duplicates and deleted them and the table did not change."
   ]
  },
  {
   "cell_type": "markdown",
   "metadata": {},
   "source": [
    "# Working with missing values"
   ]
  },
  {
   "cell_type": "markdown",
   "metadata": {},
   "source": [
    "[To speed up working with some data, you may want to work with dictionaries for some values, where IDs are provided. Explain why and which dictionaries you will work with.]"
   ]
  },
  {
   "cell_type": "code",
   "execution_count": 46,
   "metadata": {},
   "outputs": [],
   "source": [
    "# Find the dictionaries"
   ]
  },
  {
   "cell_type": "markdown",
   "metadata": {},
   "source": [
    "### Restoring missing values in `total_income`"
   ]
  },
  {
   "cell_type": "markdown",
   "metadata": {},
   "source": [
    "[Briefly state which column(s) have values missing that you need to address. Explain how you will fix them.]\n",
    "\n",
    "\n",
    "[Start with addressing total income missing values. Create and age category for clients. Create a new column with the age category. This strategy can help with calculating values for the total income.]\n"
   ]
  },
  {
   "cell_type": "code",
   "execution_count": 47,
   "metadata": {},
   "outputs": [],
   "source": [
    "# Let's write a function that calculates the age category\n",
    "\n",
    "def age_cat(x):\n",
    "    if x < 25:\n",
    "        return 'minor'\n",
    "    elif x > 25 and x < 55:\n",
    "        return 'adult'\n",
    "    else:\n",
    "        return 'retire'"
   ]
  },
  {
   "cell_type": "code",
   "execution_count": 48,
   "metadata": {},
   "outputs": [
    {
     "data": {
      "text/plain": [
       "0         adult\n",
       "1         adult\n",
       "2         adult\n",
       "3         adult\n",
       "4         adult\n",
       "          ...  \n",
       "21520     adult\n",
       "21521    retire\n",
       "21522     adult\n",
       "21523     adult\n",
       "21524     adult\n",
       "Name: dob_years, Length: 21453, dtype: object"
      ]
     },
     "execution_count": 48,
     "metadata": {},
     "output_type": "execute_result"
    }
   ],
   "source": [
    "# Test if the funcdation works\n",
    "data['dob_years'].apply(age_cat)"
   ]
  },
  {
   "cell_type": "code",
   "execution_count": 49,
   "metadata": {},
   "outputs": [],
   "source": [
    "# Creating new column based on function\n",
    "\n",
    "data['age']=data['dob_years'].apply(age_cat)"
   ]
  },
  {
   "cell_type": "code",
   "execution_count": 50,
   "metadata": {},
   "outputs": [
    {
     "data": {
      "text/plain": [
       "adult     15442\n",
       "retire     5136\n",
       "minor       875\n",
       "Name: age, dtype: int64"
      ]
     },
     "execution_count": 50,
     "metadata": {},
     "output_type": "execute_result"
    }
   ],
   "source": [
    "# Checking how values in the new column\n",
    "\n",
    "data['age'].value_counts()"
   ]
  },
  {
   "cell_type": "markdown",
   "metadata": {},
   "source": [
    "[Think about the factors on which income usually depends. Eventually, you will want to find out whether you should use mean or median values for replacing missing values. To make this decision you will probably want to look at the distribution of the factors you identified as impacting one's income.]"
   ]
  },
  {
   "cell_type": "markdown",
   "metadata": {},
   "source": [
    "[Create a table that only has data without missing values. This data will be used to restore the missing values.]"
   ]
  },
  {
   "cell_type": "markdown",
   "metadata": {},
   "source": []
  },
  {
   "cell_type": "markdown",
   "metadata": {},
   "source": [
    "[Repeat such comparisons for multiple factors. Make sure you consider different aspects and explain your thinking process.]\n",
    "\n"
   ]
  },
  {
   "cell_type": "markdown",
   "metadata": {},
   "source": [
    "[Make a decision on what characteristics define income most and whether you will use a median or a mean. Explain why you made this decision]\n"
   ]
  },
  {
   "cell_type": "code",
   "execution_count": 51,
   "metadata": {},
   "outputs": [],
   "source": [
    "#  Write a function that we will use for filling in missing values\n",
    "        \n",
    "data['filled_income']= data.groupby('education')['total_income'].transform(lambda grp: grp.fillna(np.mean(grp)))\n"
   ]
  },
  {
   "cell_type": "code",
   "execution_count": 52,
   "metadata": {},
   "outputs": [
    {
     "data": {
      "text/html": [
       "<div>\n",
       "<style scoped>\n",
       "    .dataframe tbody tr th:only-of-type {\n",
       "        vertical-align: middle;\n",
       "    }\n",
       "\n",
       "    .dataframe tbody tr th {\n",
       "        vertical-align: top;\n",
       "    }\n",
       "\n",
       "    .dataframe thead th {\n",
       "        text-align: right;\n",
       "    }\n",
       "</style>\n",
       "<table border=\"1\" class=\"dataframe\">\n",
       "  <thead>\n",
       "    <tr style=\"text-align: right;\">\n",
       "      <th></th>\n",
       "      <th>children</th>\n",
       "      <th>days_employed</th>\n",
       "      <th>dob_years</th>\n",
       "      <th>education</th>\n",
       "      <th>education_id</th>\n",
       "      <th>family_status</th>\n",
       "      <th>family_status_id</th>\n",
       "      <th>gender</th>\n",
       "      <th>income_type</th>\n",
       "      <th>debt</th>\n",
       "      <th>total_income</th>\n",
       "      <th>purpose</th>\n",
       "      <th>age</th>\n",
       "      <th>filled_income</th>\n",
       "    </tr>\n",
       "  </thead>\n",
       "  <tbody>\n",
       "  </tbody>\n",
       "</table>\n",
       "</div>"
      ],
      "text/plain": [
       "Empty DataFrame\n",
       "Columns: [children, days_employed, dob_years, education, education_id, family_status, family_status_id, gender, income_type, debt, total_income, purpose, age, filled_income]\n",
       "Index: []"
      ]
     },
     "execution_count": 52,
     "metadata": {},
     "output_type": "execute_result"
    }
   ],
   "source": [
    "# Check if it works\n",
    "data[data['filled_income'].isnull()]"
   ]
  },
  {
   "cell_type": "markdown",
   "metadata": {},
   "source": [
    "I decided that the figure that most affects income is education.\n",
    "So I created a function that replaces all the missing values in the average income column of the income that is cataloged through the education column."
   ]
  },
  {
   "cell_type": "code",
   "execution_count": 53,
   "metadata": {},
   "outputs": [
    {
     "name": "stdout",
     "output_type": "stream",
     "text": [
      "<class 'pandas.core.frame.DataFrame'>\n",
      "Int64Index: 21453 entries, 0 to 21524\n",
      "Data columns (total 14 columns):\n",
      "children            21453 non-null int64\n",
      "days_employed       19351 non-null float64\n",
      "dob_years           21453 non-null int64\n",
      "education           21453 non-null object\n",
      "education_id        21453 non-null int64\n",
      "family_status       21453 non-null object\n",
      "family_status_id    21453 non-null int64\n",
      "gender              21453 non-null object\n",
      "income_type         21453 non-null object\n",
      "debt                21453 non-null int64\n",
      "total_income        19351 non-null float64\n",
      "purpose             21453 non-null object\n",
      "age                 21453 non-null object\n",
      "filled_income       21453 non-null float64\n",
      "dtypes: float64(3), int64(5), object(6)\n",
      "memory usage: 2.5+ MB\n"
     ]
    }
   ],
   "source": [
    "# Checking the number of entries in the columns\n",
    "\n",
    "data.info()"
   ]
  },
  {
   "cell_type": "markdown",
   "metadata": {},
   "source": [
    "###  Restoring values in `days_employed`"
   ]
  },
  {
   "cell_type": "markdown",
   "metadata": {},
   "source": [
    "[Think about the parameters that may help you restore the missing values in this column. Eventually, you will want to find out whether you should use mean or median values for replacing missing values. You will probably conduct a research similar to the one you've done when restoring data in a previous column.]"
   ]
  },
  {
   "cell_type": "code",
   "execution_count": 54,
   "metadata": {
    "pycharm": {
     "name": "#%%\n"
    }
   },
   "outputs": [
    {
     "data": {
      "text/plain": [
       "dob_years  days_employed\n",
       "19         111.762790       1\n",
       "           115.876036       1\n",
       "           322.024011       1\n",
       "           509.969922       1\n",
       "           556.088508       1\n",
       "                           ..\n",
       "74         341528.126150    1\n",
       "           344623.836105    1\n",
       "           372861.103965    1\n",
       "           380150.387046    1\n",
       "75         1678.969771      1\n",
       "Name: days_employed, Length: 19351, dtype: int64"
      ]
     },
     "execution_count": 54,
     "metadata": {},
     "output_type": "execute_result"
    }
   ],
   "source": [
    "# Distribution of `days_employed` medians based on your identified parameters\n",
    "\n",
    "\n",
    "data.groupby('dob_years')['days_employed'].value_counts()"
   ]
  },
  {
   "cell_type": "code",
   "execution_count": 55,
   "metadata": {},
   "outputs": [
    {
     "data": {
      "text/plain": [
       "dob_years\n",
       "19       633.678086\n",
       "20       684.944308\n",
       "21       709.440930\n",
       "22      2793.321854\n",
       "23       827.309437\n",
       "24      1026.405485\n",
       "25      1088.406453\n",
       "26      3214.617245\n",
       "27      3725.820728\n",
       "28      2180.056457\n",
       "29      1553.823200\n",
       "30      1696.039355\n",
       "31      2331.246721\n",
       "32      3877.197466\n",
       "33      3241.413096\n",
       "34      4141.242883\n",
       "35      2755.226484\n",
       "36      4496.534938\n",
       "37      5879.263440\n",
       "38      7641.485465\n",
       "39      5277.456460\n",
       "40      7076.521918\n",
       "41      6400.926359\n",
       "42     17741.626007\n",
       "43      9418.428468\n",
       "44      9952.060042\n",
       "45     11748.039481\n",
       "46     14121.191502\n",
       "47     14223.685900\n",
       "48     18149.683912\n",
       "49     26679.790846\n",
       "50     50493.031018\n",
       "51     68425.772762\n",
       "52     82803.402429\n",
       "53     94073.249426\n",
       "54    126757.781831\n",
       "55    152264.946612\n",
       "56    157417.505013\n",
       "57    193689.068297\n",
       "58    188571.489818\n",
       "59    227496.974028\n",
       "60    262925.277586\n",
       "61    246731.048849\n",
       "62    274381.283863\n",
       "63    293383.721011\n",
       "64    287670.475737\n",
       "65    287448.538552\n",
       "66    313613.718234\n",
       "67    317629.788586\n",
       "68    326896.748566\n",
       "69    338361.511981\n",
       "70    318072.656240\n",
       "71    332751.981663\n",
       "72    333177.822570\n",
       "73    313848.167175\n",
       "74    241262.658935\n",
       "75      1678.969771\n",
       "Name: days_employed, dtype: float64"
      ]
     },
     "execution_count": 55,
     "metadata": {},
     "output_type": "execute_result"
    }
   ],
   "source": [
    "# Distribution of `days_employed` means based on your identified parameters\n",
    "data.groupby('dob_years')['days_employed'].mean()"
   ]
  },
  {
   "cell_type": "markdown",
   "metadata": {},
   "source": [
    "[Decide what you will use: means or medians. Explain why.]"
   ]
  },
  {
   "cell_type": "markdown",
   "metadata": {},
   "source": [
    "I think in the final refinement the average will be more accurate than the median in this case."
   ]
  },
  {
   "cell_type": "code",
   "execution_count": 56,
   "metadata": {},
   "outputs": [],
   "source": [
    "# Let's write a function that calculates means or medians (depending on your decision) based on your identified parameter\n",
    "data['filled_days']= data.groupby('dob_years')['days_employed'].transform(lambda grp: grp.fillna(np.mean(grp)))\n"
   ]
  },
  {
   "cell_type": "code",
   "execution_count": 57,
   "metadata": {},
   "outputs": [
    {
     "data": {
      "text/html": [
       "<div>\n",
       "<style scoped>\n",
       "    .dataframe tbody tr th:only-of-type {\n",
       "        vertical-align: middle;\n",
       "    }\n",
       "\n",
       "    .dataframe tbody tr th {\n",
       "        vertical-align: top;\n",
       "    }\n",
       "\n",
       "    .dataframe thead th {\n",
       "        text-align: right;\n",
       "    }\n",
       "</style>\n",
       "<table border=\"1\" class=\"dataframe\">\n",
       "  <thead>\n",
       "    <tr style=\"text-align: right;\">\n",
       "      <th></th>\n",
       "      <th>children</th>\n",
       "      <th>days_employed</th>\n",
       "      <th>dob_years</th>\n",
       "      <th>education</th>\n",
       "      <th>education_id</th>\n",
       "      <th>family_status</th>\n",
       "      <th>family_status_id</th>\n",
       "      <th>gender</th>\n",
       "      <th>income_type</th>\n",
       "      <th>debt</th>\n",
       "      <th>total_income</th>\n",
       "      <th>purpose</th>\n",
       "      <th>age</th>\n",
       "      <th>filled_income</th>\n",
       "      <th>filled_days</th>\n",
       "    </tr>\n",
       "  </thead>\n",
       "  <tbody>\n",
       "    <tr>\n",
       "      <td>12</td>\n",
       "      <td>0</td>\n",
       "      <td>NaN</td>\n",
       "      <td>65</td>\n",
       "      <td>secondary education</td>\n",
       "      <td>1</td>\n",
       "      <td>civil partnership</td>\n",
       "      <td>1</td>\n",
       "      <td>M</td>\n",
       "      <td>retiree</td>\n",
       "      <td>0</td>\n",
       "      <td>NaN</td>\n",
       "      <td>to have a wedding</td>\n",
       "      <td>retire</td>\n",
       "      <td>24594.503037</td>\n",
       "      <td>287448.538552</td>\n",
       "    </tr>\n",
       "    <tr>\n",
       "      <td>26</td>\n",
       "      <td>0</td>\n",
       "      <td>NaN</td>\n",
       "      <td>41</td>\n",
       "      <td>secondary education</td>\n",
       "      <td>1</td>\n",
       "      <td>married</td>\n",
       "      <td>0</td>\n",
       "      <td>M</td>\n",
       "      <td>civil servant</td>\n",
       "      <td>0</td>\n",
       "      <td>NaN</td>\n",
       "      <td>education</td>\n",
       "      <td>adult</td>\n",
       "      <td>24594.503037</td>\n",
       "      <td>6400.926359</td>\n",
       "    </tr>\n",
       "    <tr>\n",
       "      <td>29</td>\n",
       "      <td>0</td>\n",
       "      <td>NaN</td>\n",
       "      <td>63</td>\n",
       "      <td>secondary education</td>\n",
       "      <td>1</td>\n",
       "      <td>unmarried</td>\n",
       "      <td>4</td>\n",
       "      <td>F</td>\n",
       "      <td>retiree</td>\n",
       "      <td>0</td>\n",
       "      <td>NaN</td>\n",
       "      <td>building a real estate</td>\n",
       "      <td>retire</td>\n",
       "      <td>24594.503037</td>\n",
       "      <td>293383.721011</td>\n",
       "    </tr>\n",
       "    <tr>\n",
       "      <td>41</td>\n",
       "      <td>0</td>\n",
       "      <td>NaN</td>\n",
       "      <td>50</td>\n",
       "      <td>secondary education</td>\n",
       "      <td>1</td>\n",
       "      <td>married</td>\n",
       "      <td>0</td>\n",
       "      <td>F</td>\n",
       "      <td>civil servant</td>\n",
       "      <td>0</td>\n",
       "      <td>NaN</td>\n",
       "      <td>second-hand car purchase</td>\n",
       "      <td>adult</td>\n",
       "      <td>24594.503037</td>\n",
       "      <td>50493.031018</td>\n",
       "    </tr>\n",
       "    <tr>\n",
       "      <td>55</td>\n",
       "      <td>0</td>\n",
       "      <td>NaN</td>\n",
       "      <td>54</td>\n",
       "      <td>secondary education</td>\n",
       "      <td>1</td>\n",
       "      <td>civil partnership</td>\n",
       "      <td>1</td>\n",
       "      <td>F</td>\n",
       "      <td>retiree</td>\n",
       "      <td>1</td>\n",
       "      <td>NaN</td>\n",
       "      <td>to have a wedding</td>\n",
       "      <td>adult</td>\n",
       "      <td>24594.503037</td>\n",
       "      <td>126757.781831</td>\n",
       "    </tr>\n",
       "    <tr>\n",
       "      <td>...</td>\n",
       "      <td>...</td>\n",
       "      <td>...</td>\n",
       "      <td>...</td>\n",
       "      <td>...</td>\n",
       "      <td>...</td>\n",
       "      <td>...</td>\n",
       "      <td>...</td>\n",
       "      <td>...</td>\n",
       "      <td>...</td>\n",
       "      <td>...</td>\n",
       "      <td>...</td>\n",
       "      <td>...</td>\n",
       "      <td>...</td>\n",
       "      <td>...</td>\n",
       "      <td>...</td>\n",
       "    </tr>\n",
       "    <tr>\n",
       "      <td>21489</td>\n",
       "      <td>2</td>\n",
       "      <td>NaN</td>\n",
       "      <td>47</td>\n",
       "      <td>secondary education</td>\n",
       "      <td>1</td>\n",
       "      <td>married</td>\n",
       "      <td>0</td>\n",
       "      <td>M</td>\n",
       "      <td>business</td>\n",
       "      <td>0</td>\n",
       "      <td>NaN</td>\n",
       "      <td>purchase of a car</td>\n",
       "      <td>adult</td>\n",
       "      <td>24594.503037</td>\n",
       "      <td>14223.685900</td>\n",
       "    </tr>\n",
       "    <tr>\n",
       "      <td>21495</td>\n",
       "      <td>1</td>\n",
       "      <td>NaN</td>\n",
       "      <td>50</td>\n",
       "      <td>secondary education</td>\n",
       "      <td>1</td>\n",
       "      <td>civil partnership</td>\n",
       "      <td>1</td>\n",
       "      <td>F</td>\n",
       "      <td>employee</td>\n",
       "      <td>0</td>\n",
       "      <td>NaN</td>\n",
       "      <td>wedding ceremony</td>\n",
       "      <td>adult</td>\n",
       "      <td>24594.503037</td>\n",
       "      <td>50493.031018</td>\n",
       "    </tr>\n",
       "    <tr>\n",
       "      <td>21497</td>\n",
       "      <td>0</td>\n",
       "      <td>NaN</td>\n",
       "      <td>48</td>\n",
       "      <td>bachelor's degree</td>\n",
       "      <td>0</td>\n",
       "      <td>married</td>\n",
       "      <td>0</td>\n",
       "      <td>F</td>\n",
       "      <td>business</td>\n",
       "      <td>0</td>\n",
       "      <td>NaN</td>\n",
       "      <td>building a property</td>\n",
       "      <td>adult</td>\n",
       "      <td>33142.802434</td>\n",
       "      <td>18149.683912</td>\n",
       "    </tr>\n",
       "    <tr>\n",
       "      <td>21502</td>\n",
       "      <td>1</td>\n",
       "      <td>NaN</td>\n",
       "      <td>42</td>\n",
       "      <td>secondary education</td>\n",
       "      <td>1</td>\n",
       "      <td>married</td>\n",
       "      <td>0</td>\n",
       "      <td>F</td>\n",
       "      <td>employee</td>\n",
       "      <td>0</td>\n",
       "      <td>NaN</td>\n",
       "      <td>building a real estate</td>\n",
       "      <td>adult</td>\n",
       "      <td>24594.503037</td>\n",
       "      <td>17741.626007</td>\n",
       "    </tr>\n",
       "    <tr>\n",
       "      <td>21510</td>\n",
       "      <td>2</td>\n",
       "      <td>NaN</td>\n",
       "      <td>28</td>\n",
       "      <td>secondary education</td>\n",
       "      <td>1</td>\n",
       "      <td>married</td>\n",
       "      <td>0</td>\n",
       "      <td>F</td>\n",
       "      <td>employee</td>\n",
       "      <td>0</td>\n",
       "      <td>NaN</td>\n",
       "      <td>car purchase</td>\n",
       "      <td>adult</td>\n",
       "      <td>24594.503037</td>\n",
       "      <td>2180.056457</td>\n",
       "    </tr>\n",
       "  </tbody>\n",
       "</table>\n",
       "<p>2102 rows × 15 columns</p>\n",
       "</div>"
      ],
      "text/plain": [
       "       children  days_employed  dob_years            education  education_id  \\\n",
       "12            0            NaN         65  secondary education             1   \n",
       "26            0            NaN         41  secondary education             1   \n",
       "29            0            NaN         63  secondary education             1   \n",
       "41            0            NaN         50  secondary education             1   \n",
       "55            0            NaN         54  secondary education             1   \n",
       "...         ...            ...        ...                  ...           ...   \n",
       "21489         2            NaN         47  secondary education             1   \n",
       "21495         1            NaN         50  secondary education             1   \n",
       "21497         0            NaN         48    bachelor's degree             0   \n",
       "21502         1            NaN         42  secondary education             1   \n",
       "21510         2            NaN         28  secondary education             1   \n",
       "\n",
       "           family_status  family_status_id gender    income_type  debt  \\\n",
       "12     civil partnership                 1      M        retiree     0   \n",
       "26               married                 0      M  civil servant     0   \n",
       "29             unmarried                 4      F        retiree     0   \n",
       "41               married                 0      F  civil servant     0   \n",
       "55     civil partnership                 1      F        retiree     1   \n",
       "...                  ...               ...    ...            ...   ...   \n",
       "21489            married                 0      M       business     0   \n",
       "21495  civil partnership                 1      F       employee     0   \n",
       "21497            married                 0      F       business     0   \n",
       "21502            married                 0      F       employee     0   \n",
       "21510            married                 0      F       employee     0   \n",
       "\n",
       "       total_income                   purpose     age  filled_income  \\\n",
       "12              NaN         to have a wedding  retire   24594.503037   \n",
       "26              NaN                 education   adult   24594.503037   \n",
       "29              NaN    building a real estate  retire   24594.503037   \n",
       "41              NaN  second-hand car purchase   adult   24594.503037   \n",
       "55              NaN         to have a wedding   adult   24594.503037   \n",
       "...             ...                       ...     ...            ...   \n",
       "21489           NaN         purchase of a car   adult   24594.503037   \n",
       "21495           NaN          wedding ceremony   adult   24594.503037   \n",
       "21497           NaN       building a property   adult   33142.802434   \n",
       "21502           NaN    building a real estate   adult   24594.503037   \n",
       "21510           NaN              car purchase   adult   24594.503037   \n",
       "\n",
       "         filled_days  \n",
       "12     287448.538552  \n",
       "26       6400.926359  \n",
       "29     293383.721011  \n",
       "41      50493.031018  \n",
       "55     126757.781831  \n",
       "...              ...  \n",
       "21489   14223.685900  \n",
       "21495   50493.031018  \n",
       "21497   18149.683912  \n",
       "21502   17741.626007  \n",
       "21510    2180.056457  \n",
       "\n",
       "[2102 rows x 15 columns]"
      ]
     },
     "execution_count": 57,
     "metadata": {},
     "output_type": "execute_result"
    }
   ],
   "source": [
    "# Check that the function works\n",
    "\n",
    "data[data['days_employed'].isnull()]"
   ]
  },
  {
   "cell_type": "markdown",
   "metadata": {},
   "source": [
    "Instead of filling in the missing values, I created a new column of averages based on the age of the customer."
   ]
  },
  {
   "cell_type": "markdown",
   "metadata": {},
   "source": [
    "## Categorization of data\n",
    "\n",
    "[To answer the questions and test the hypotheses, you will want to work with categorized data. Look at the questions that were posed to you and that you should answer. Think about which of the data will need to be categorized to answer these questions. Below you will find a template through which you can work your way when categorizing data. The first step-by-step processing covers the text data; the second one addresses the numerical data that needs to be categorized. You can use both or none of the suggested instructions - it's up to you.]\n",
    "\n",
    "[Despite of how you decide to address the categorization, make sure to provide clear explanation of why you made your decision. Remember: this is your work and you make all decisions in it.]\n"
   ]
  },
  {
   "cell_type": "code",
   "execution_count": 58,
   "metadata": {
    "scrolled": true
   },
   "outputs": [
    {
     "data": {
      "text/plain": [
       "0    14090\n",
       "1     4855\n",
       "2     2128\n",
       "3      330\n",
       "4       41\n",
       "5        9\n",
       "Name: children, dtype: int64"
      ]
     },
     "execution_count": 58,
     "metadata": {},
     "output_type": "execute_result"
    }
   ],
   "source": [
    "# Print the values for your selected data for categorization\n",
    "\n",
    "\n",
    "data['children'].value_counts()"
   ]
  },
  {
   "cell_type": "markdown",
   "metadata": {},
   "source": [
    "[Let's check unique values]"
   ]
  },
  {
   "cell_type": "code",
   "execution_count": 59,
   "metadata": {},
   "outputs": [
    {
     "data": {
      "text/plain": [
       "array([1, 0, 3, 2, 4, 5])"
      ]
     },
     "execution_count": 59,
     "metadata": {},
     "output_type": "execute_result"
    }
   ],
   "source": [
    "# Check the unique values\n",
    "\n",
    "data['children'].unique()"
   ]
  },
  {
   "cell_type": "markdown",
   "metadata": {},
   "source": [
    "[What main groups can you identify based on the unique values?]\n",
    "\n",
    "[Based on these themes, we will probably want to categorize our data.]\n"
   ]
  },
  {
   "cell_type": "markdown",
   "metadata": {},
   "source": [
    "The first group is 'family_status'.\n",
    "The seconed group is the number of children."
   ]
  },
  {
   "cell_type": "code",
   "execution_count": 60,
   "metadata": {},
   "outputs": [],
   "source": [
    "# Let's write a function to categorize the data based on common topics\n",
    "def kids(x):\n",
    "    if x < 1:\n",
    "        return 0\n",
    "    else:\n",
    "        return 1"
   ]
  },
  {
   "cell_type": "code",
   "execution_count": 61,
   "metadata": {},
   "outputs": [],
   "source": [
    "# Create a column with the categories and count the values for them\n",
    "\n",
    "data['kid_group'] = data['children'].apply(kids)"
   ]
  },
  {
   "cell_type": "code",
   "execution_count": 62,
   "metadata": {},
   "outputs": [
    {
     "data": {
      "text/plain": [
       "0    14090\n",
       "1     7363\n",
       "Name: kid_group, dtype: int64"
      ]
     },
     "execution_count": 62,
     "metadata": {},
     "output_type": "execute_result"
    }
   ],
   "source": [
    "data['kid_group'].value_counts()"
   ]
  },
  {
   "cell_type": "markdown",
   "metadata": {},
   "source": [
    "[If you decide to categorize the numerical data, you'll need to come up with the categories for it too.]"
   ]
  },
  {
   "cell_type": "markdown",
   "metadata": {},
   "source": [
    "[Decide what ranges you will use for grouping and explain why.]"
   ]
  },
  {
   "cell_type": "code",
   "execution_count": 63,
   "metadata": {},
   "outputs": [],
   "source": [
    "# Creating function for categorizing into different numerical groups based on ranges\n",
    "\n",
    "def income(x):\n",
    "    if x < 10000:\n",
    "        return 'low'\n",
    "    elif x > 10000 and x < 15000:\n",
    "        return 'avrege'\n",
    "    else:\n",
    "        return 'high'"
   ]
  },
  {
   "cell_type": "code",
   "execution_count": 64,
   "metadata": {},
   "outputs": [],
   "source": [
    "# Creating column with categories\n",
    "data['income_group'] = data['total_income'].apply(income)"
   ]
  },
  {
   "cell_type": "code",
   "execution_count": 65,
   "metadata": {},
   "outputs": [
    {
     "data": {
      "text/plain": [
       "high      17710\n",
       "avrege     2817\n",
       "low         926\n",
       "Name: income_group, dtype: int64"
      ]
     },
     "execution_count": 65,
     "metadata": {},
     "output_type": "execute_result"
    }
   ],
   "source": [
    "data['income_group'].value_counts()"
   ]
  },
  {
   "cell_type": "code",
   "execution_count": 66,
   "metadata": {
    "scrolled": true
   },
   "outputs": [],
   "source": [
    "def purpose_sorted(purpose):\n",
    "    if 'car' in purpose:\n",
    "        return 'car'\n",
    "    if 'education' and 'university' in purpose :\n",
    "        return 'education'\n",
    "    if 'wedding' in purpose:\n",
    "        return 'wedding'\n",
    "    else:\n",
    "        return 'house'\n"
   ]
  },
  {
   "cell_type": "code",
   "execution_count": 68,
   "metadata": {},
   "outputs": [],
   "source": [
    "data['purpose_sorted'] = data['purpose'].apply(purpose_sorted)"
   ]
  },
  {
   "cell_type": "code",
   "execution_count": 69,
   "metadata": {},
   "outputs": [
    {
     "data": {
      "text/plain": [
       "house        13876\n",
       "car           4306\n",
       "wedding       2323\n",
       "education      948\n",
       "Name: purpose_sorted, dtype: int64"
      ]
     },
     "execution_count": 69,
     "metadata": {},
     "output_type": "execute_result"
    }
   ],
   "source": [
    "data['purpose_sorted'].value_counts()"
   ]
  },
  {
   "cell_type": "markdown",
   "metadata": {},
   "source": [
    "I categorized the information into 3 groups:\n",
    "Are there children or not.\n",
    "Income level.\n",
    "The purpose of the loan.\n",
    "Conclusions:\n",
    "1. Most customers have no children.\n",
    "2. Most customers have high income.\n",
    "3. Most customers's purpose is related to real estate."
   ]
  },
  {
   "cell_type": "markdown",
   "metadata": {},
   "source": [
    "## Checking the Hypotheses\n"
   ]
  },
  {
   "cell_type": "markdown",
   "metadata": {},
   "source": [
    "**Is there a correlation between having children and paying back on time?**"
   ]
  },
  {
   "cell_type": "code",
   "execution_count": null,
   "metadata": {},
   "outputs": [],
   "source": [
    "# Check the children data and paying back on time\n",
    "\n",
    "\n",
    "# Calculating default-rate based on the number of children\n",
    "\n",
    "data.groupby(['children'])['debt'].mean().reset_index().sort_values(by='debt')"
   ]
  },
  {
   "cell_type": "markdown",
   "metadata": {},
   "source": [
    "**Conclusion**\n",
    "\n",
    "[Write your conclusions based on your manipulations and observations.]\n"
   ]
  },
  {
   "cell_type": "markdown",
   "metadata": {},
   "source": [
    "Customers with 4 children tend to have the most debt."
   ]
  },
  {
   "cell_type": "markdown",
   "metadata": {},
   "source": [
    "**Is there a correlation between family status and paying back on time?**"
   ]
  },
  {
   "cell_type": "code",
   "execution_count": null,
   "metadata": {},
   "outputs": [],
   "source": [
    "# Check the family status data and paying back on time\n",
    "\n",
    "\n",
    "\n",
    "# Calculating default-rate based on family status\n",
    "\n",
    "data.groupby(['family_status'])['debt'].mean().reset_index().sort_values(by='debt')"
   ]
  },
  {
   "cell_type": "markdown",
   "metadata": {},
   "source": [
    "**Conclusion**\n",
    "\n",
    "[Write your conclusions based on your manipulations and observations.]"
   ]
  },
  {
   "cell_type": "markdown",
   "metadata": {},
   "source": [
    "Unmarried clients tend to have the most debt."
   ]
  },
  {
   "cell_type": "markdown",
   "metadata": {},
   "source": [
    "**Is there a correlation between income level and paying back on time?**"
   ]
  },
  {
   "cell_type": "code",
   "execution_count": null,
   "metadata": {},
   "outputs": [],
   "source": [
    "# Check the income level data and paying back on time\n",
    "\n",
    "\n",
    "\n",
    "# Calculating default-rate based on income level\n",
    "\n",
    "data.groupby(['income_type'])['debt'].mean().reset_index().sort_values(by='debt')"
   ]
  },
  {
   "cell_type": "markdown",
   "metadata": {},
   "source": [
    "**Conclusion**\n",
    "\n",
    "[Write your conclusions based on your manipulations and observations.]"
   ]
  },
  {
   "cell_type": "markdown",
   "metadata": {},
   "source": [
    "Paternity / maternity leave tend to have the most debt."
   ]
  },
  {
   "cell_type": "markdown",
   "metadata": {},
   "source": [
    "**How does credit purpose affect the default rate?**"
   ]
  },
  {
   "cell_type": "code",
   "execution_count": null,
   "metadata": {},
   "outputs": [],
   "source": [
    "# Check the percentages for default rate for each credit purpose and analyze them\n",
    "\n",
    "data.groupby(['purpose'])['debt'].mean().reset_index().sort_values(by='debt')"
   ]
  },
  {
   "cell_type": "markdown",
   "metadata": {},
   "source": [
    "**Conclusion**\n",
    "\n",
    "[Write your conclusions based on your manipulations and observations.]\n"
   ]
  },
  {
   "cell_type": "markdown",
   "metadata": {},
   "source": [
    "The customers who have the most difficulty repaying money are customers who take out loans to finance their studies."
   ]
  },
  {
   "cell_type": "markdown",
   "metadata": {},
   "source": [
    "# General Conclusion \n",
    "\n",
    "[List your conclusions in this final section. Make sure you include all your important conclusions you made that led you to the way you processed and analyzed the data. Cover the missing values, duplicates, and possible reasons and solutions for problematic artifacts that you had to address.]\n",
    "\n",
    "[List your conclusions regarding the posed questions here as well.]\n"
   ]
  },
  {
   "cell_type": "markdown",
   "metadata": {},
   "source": [
    "*I started checking for problematic values and found:\n",
    "1.The 'days_employed' column has a lot of negative values, which does not make sense. Also in the column 'education' there are values written in capital letters that can be a problem.\n",
    "2. The total income column and the employed days column had missing overlapping values.\n",
    "*I replaced the missing values with an average corresponding to the column, as this will bring me closer to the most accurate result.\n",
    "*The education column had uppercase entries. I fixed that.\n",
    "*The children's column had one negative value and one particularly high value. I fixed that.\n",
    "*I checked for duplicated in the data.72 duplicates were found but the information in the table is very basic and since we do not have an identifying detail that sets each person apart, I think there is a chance that the duplications are not by mistake but simply repetitive data.\n",
    "*I organized the data according to children's columns, marital status and purpose of the loan and found:\n",
    "The most problematic clients in repaying debts are unmarried who have taken out a loan for study, meaning students."
   ]
  }
 ],
 "metadata": {
  "ExecuteTimeLog": [
   {
    "duration": 2741,
    "start_time": "2021-10-21T01:08:49.480Z"
   },
   {
    "duration": 52,
    "start_time": "2021-10-21T01:08:53.315Z"
   },
   {
    "duration": 49,
    "start_time": "2021-10-21T01:08:57.432Z"
   },
   {
    "duration": 70,
    "start_time": "2021-10-21T01:09:07.706Z"
   },
   {
    "duration": 356,
    "start_time": "2022-01-18T15:06:45.221Z"
   },
   {
    "duration": 657,
    "start_time": "2022-01-18T15:07:15.456Z"
   },
   {
    "duration": 10,
    "start_time": "2022-01-18T15:07:46.632Z"
   },
   {
    "duration": 16,
    "start_time": "2022-01-18T15:07:54.231Z"
   },
   {
    "duration": 9,
    "start_time": "2022-01-18T15:08:56.681Z"
   },
   {
    "duration": 14,
    "start_time": "2022-01-18T15:19:21.041Z"
   },
   {
    "duration": 323,
    "start_time": "2022-01-18T15:32:59.611Z"
   },
   {
    "duration": 601,
    "start_time": "2022-01-18T15:33:07.796Z"
   },
   {
    "duration": 10,
    "start_time": "2022-01-18T15:33:10.853Z"
   },
   {
    "duration": 638,
    "start_time": "2022-01-18T16:39:54.544Z"
   },
   {
    "duration": 10,
    "start_time": "2022-01-18T16:39:55.184Z"
   },
   {
    "duration": 17,
    "start_time": "2022-01-18T16:39:55.196Z"
   },
   {
    "duration": 9,
    "start_time": "2022-01-18T16:39:55.215Z"
   },
   {
    "duration": 2,
    "start_time": "2022-01-18T16:39:55.226Z"
   },
   {
    "duration": 3,
    "start_time": "2022-01-18T16:39:55.229Z"
   },
   {
    "duration": 4,
    "start_time": "2022-01-18T16:39:55.234Z"
   },
   {
    "duration": 3,
    "start_time": "2022-01-18T16:39:55.240Z"
   },
   {
    "duration": 26,
    "start_time": "2022-01-18T16:39:55.245Z"
   },
   {
    "duration": 2,
    "start_time": "2022-01-18T16:39:55.273Z"
   },
   {
    "duration": 5,
    "start_time": "2022-01-18T16:39:55.276Z"
   },
   {
    "duration": 7,
    "start_time": "2022-01-18T16:39:55.283Z"
   },
   {
    "duration": 7,
    "start_time": "2022-01-18T16:39:55.292Z"
   },
   {
    "duration": 7,
    "start_time": "2022-01-18T16:39:55.301Z"
   },
   {
    "duration": 8,
    "start_time": "2022-01-18T16:39:55.309Z"
   },
   {
    "duration": 6,
    "start_time": "2022-01-18T16:39:55.319Z"
   },
   {
    "duration": 9,
    "start_time": "2022-01-18T16:39:55.327Z"
   },
   {
    "duration": 9,
    "start_time": "2022-01-18T16:39:55.337Z"
   },
   {
    "duration": 11,
    "start_time": "2022-01-18T16:39:55.347Z"
   },
   {
    "duration": 11,
    "start_time": "2022-01-18T16:39:55.359Z"
   },
   {
    "duration": 8,
    "start_time": "2022-01-18T16:39:55.372Z"
   },
   {
    "duration": 8,
    "start_time": "2022-01-18T16:39:55.382Z"
   },
   {
    "duration": 6,
    "start_time": "2022-01-18T16:39:55.394Z"
   },
   {
    "duration": 6,
    "start_time": "2022-01-18T16:39:55.403Z"
   },
   {
    "duration": 8,
    "start_time": "2022-01-18T16:39:55.411Z"
   },
   {
    "duration": 7,
    "start_time": "2022-01-18T16:39:55.420Z"
   },
   {
    "duration": 8,
    "start_time": "2022-01-18T16:39:55.429Z"
   },
   {
    "duration": 8,
    "start_time": "2022-01-18T16:39:55.438Z"
   },
   {
    "duration": 9,
    "start_time": "2022-01-18T16:39:55.448Z"
   },
   {
    "duration": 8,
    "start_time": "2022-01-18T16:39:55.459Z"
   },
   {
    "duration": 11,
    "start_time": "2022-01-18T16:39:55.468Z"
   },
   {
    "duration": 8,
    "start_time": "2022-01-18T16:39:55.480Z"
   },
   {
    "duration": 8,
    "start_time": "2022-01-18T16:39:55.490Z"
   },
   {
    "duration": 8,
    "start_time": "2022-01-18T16:39:55.499Z"
   },
   {
    "duration": 8,
    "start_time": "2022-01-18T16:39:55.508Z"
   },
   {
    "duration": 9,
    "start_time": "2022-01-18T16:39:55.518Z"
   },
   {
    "duration": 7,
    "start_time": "2022-01-18T16:39:55.529Z"
   },
   {
    "duration": 8,
    "start_time": "2022-01-18T16:39:55.537Z"
   },
   {
    "duration": 6,
    "start_time": "2022-01-18T16:39:55.547Z"
   },
   {
    "duration": 8,
    "start_time": "2022-01-18T16:39:55.555Z"
   },
   {
    "duration": 8,
    "start_time": "2022-01-18T16:39:55.565Z"
   },
   {
    "duration": 8,
    "start_time": "2022-01-18T16:39:55.575Z"
   },
   {
    "duration": 9,
    "start_time": "2022-01-18T16:39:55.584Z"
   },
   {
    "duration": 9,
    "start_time": "2022-01-18T16:39:55.594Z"
   },
   {
    "duration": 11,
    "start_time": "2022-01-18T16:39:55.605Z"
   },
   {
    "duration": 11,
    "start_time": "2022-01-18T16:39:55.618Z"
   },
   {
    "duration": 9,
    "start_time": "2022-01-18T16:39:55.630Z"
   },
   {
    "duration": 10,
    "start_time": "2022-01-18T16:39:55.641Z"
   },
   {
    "duration": 9,
    "start_time": "2022-01-18T16:39:55.652Z"
   },
   {
    "duration": 8,
    "start_time": "2022-01-18T16:39:55.662Z"
   },
   {
    "duration": 9,
    "start_time": "2022-01-18T16:39:55.672Z"
   },
   {
    "duration": 10,
    "start_time": "2022-01-18T16:39:55.683Z"
   },
   {
    "duration": 8,
    "start_time": "2022-01-18T16:39:55.695Z"
   },
   {
    "duration": 11,
    "start_time": "2022-01-18T16:39:55.705Z"
   },
   {
    "duration": 7,
    "start_time": "2022-01-18T16:39:55.718Z"
   },
   {
    "duration": 8,
    "start_time": "2022-01-18T16:39:55.727Z"
   },
   {
    "duration": 9,
    "start_time": "2022-01-18T16:39:55.737Z"
   },
   {
    "duration": 9,
    "start_time": "2022-01-18T16:39:55.747Z"
   },
   {
    "duration": 7,
    "start_time": "2022-01-18T16:39:55.757Z"
   },
   {
    "duration": 7,
    "start_time": "2022-01-18T16:39:55.766Z"
   },
   {
    "duration": 8,
    "start_time": "2022-01-18T16:39:55.775Z"
   },
   {
    "duration": 7,
    "start_time": "2022-01-18T16:39:55.785Z"
   },
   {
    "duration": 7,
    "start_time": "2022-01-18T16:39:55.794Z"
   },
   {
    "duration": 8,
    "start_time": "2022-01-18T16:39:55.803Z"
   },
   {
    "duration": 7,
    "start_time": "2022-01-18T16:39:55.813Z"
   },
   {
    "duration": 8,
    "start_time": "2022-01-18T16:39:55.822Z"
   },
   {
    "duration": 8,
    "start_time": "2022-01-18T16:39:55.831Z"
   },
   {
    "duration": 4,
    "start_time": "2022-01-18T16:39:55.844Z"
   },
   {
    "duration": 8,
    "start_time": "2022-01-18T16:39:55.850Z"
   },
   {
    "duration": 8,
    "start_time": "2022-01-18T16:39:55.859Z"
   },
   {
    "duration": 9,
    "start_time": "2022-01-18T16:39:55.868Z"
   },
   {
    "duration": 29,
    "start_time": "2022-01-18T16:40:56.402Z"
   },
   {
    "duration": 350,
    "start_time": "2022-01-18T16:41:43.243Z"
   },
   {
    "duration": 304,
    "start_time": "2022-01-18T16:42:03.630Z"
   },
   {
    "duration": 321,
    "start_time": "2022-01-18T16:54:15.367Z"
   },
   {
    "duration": 448,
    "start_time": "2022-01-18T16:54:35.143Z"
   },
   {
    "duration": 330,
    "start_time": "2022-01-18T16:56:08.375Z"
   },
   {
    "duration": 611,
    "start_time": "2022-01-18T16:56:14.597Z"
   },
   {
    "duration": 11,
    "start_time": "2022-01-18T16:56:15.210Z"
   },
   {
    "duration": 18,
    "start_time": "2022-01-18T16:56:15.223Z"
   },
   {
    "duration": 10,
    "start_time": "2022-01-18T16:56:15.243Z"
   },
   {
    "duration": 321,
    "start_time": "2022-01-18T16:56:15.254Z"
   },
   {
    "duration": -744,
    "start_time": "2022-01-18T16:56:16.323Z"
   },
   {
    "duration": -754,
    "start_time": "2022-01-18T16:56:16.334Z"
   },
   {
    "duration": -758,
    "start_time": "2022-01-18T16:56:16.339Z"
   },
   {
    "duration": -936,
    "start_time": "2022-01-18T16:56:16.518Z"
   },
   {
    "duration": -942,
    "start_time": "2022-01-18T16:56:16.525Z"
   },
   {
    "duration": -956,
    "start_time": "2022-01-18T16:56:16.540Z"
   },
   {
    "duration": -966,
    "start_time": "2022-01-18T16:56:16.551Z"
   },
   {
    "duration": -972,
    "start_time": "2022-01-18T16:56:16.558Z"
   },
   {
    "duration": -983,
    "start_time": "2022-01-18T16:56:16.569Z"
   },
   {
    "duration": -997,
    "start_time": "2022-01-18T16:56:16.584Z"
   },
   {
    "duration": -1004,
    "start_time": "2022-01-18T16:56:16.592Z"
   },
   {
    "duration": -1018,
    "start_time": "2022-01-18T16:56:16.606Z"
   },
   {
    "duration": -1031,
    "start_time": "2022-01-18T16:56:16.620Z"
   },
   {
    "duration": -1045,
    "start_time": "2022-01-18T16:56:16.635Z"
   },
   {
    "duration": -1050,
    "start_time": "2022-01-18T16:56:16.641Z"
   },
   {
    "duration": -1065,
    "start_time": "2022-01-18T16:56:16.656Z"
   },
   {
    "duration": -1076,
    "start_time": "2022-01-18T16:56:16.668Z"
   },
   {
    "duration": -1083,
    "start_time": "2022-01-18T16:56:16.676Z"
   },
   {
    "duration": -1085,
    "start_time": "2022-01-18T16:56:16.679Z"
   },
   {
    "duration": -1088,
    "start_time": "2022-01-18T16:56:16.683Z"
   },
   {
    "duration": -1094,
    "start_time": "2022-01-18T16:56:16.689Z"
   },
   {
    "duration": -1098,
    "start_time": "2022-01-18T16:56:16.694Z"
   },
   {
    "duration": -1100,
    "start_time": "2022-01-18T16:56:16.697Z"
   },
   {
    "duration": -1103,
    "start_time": "2022-01-18T16:56:16.701Z"
   },
   {
    "duration": -1108,
    "start_time": "2022-01-18T16:56:16.706Z"
   },
   {
    "duration": -1112,
    "start_time": "2022-01-18T16:56:16.711Z"
   },
   {
    "duration": -1114,
    "start_time": "2022-01-18T16:56:16.714Z"
   },
   {
    "duration": -1117,
    "start_time": "2022-01-18T16:56:16.718Z"
   },
   {
    "duration": -1121,
    "start_time": "2022-01-18T16:56:16.722Z"
   },
   {
    "duration": -1123,
    "start_time": "2022-01-18T16:56:16.725Z"
   },
   {
    "duration": -1217,
    "start_time": "2022-01-18T16:56:16.820Z"
   },
   {
    "duration": -1229,
    "start_time": "2022-01-18T16:56:16.833Z"
   },
   {
    "duration": -1234,
    "start_time": "2022-01-18T16:56:16.838Z"
   },
   {
    "duration": -1246,
    "start_time": "2022-01-18T16:56:16.851Z"
   },
   {
    "duration": -1251,
    "start_time": "2022-01-18T16:56:16.857Z"
   },
   {
    "duration": -1262,
    "start_time": "2022-01-18T16:56:16.869Z"
   },
   {
    "duration": -1276,
    "start_time": "2022-01-18T16:56:16.884Z"
   },
   {
    "duration": -1284,
    "start_time": "2022-01-18T16:56:16.892Z"
   },
   {
    "duration": -1297,
    "start_time": "2022-01-18T16:56:16.906Z"
   },
   {
    "duration": -1312,
    "start_time": "2022-01-18T16:56:16.922Z"
   },
   {
    "duration": -1328,
    "start_time": "2022-01-18T16:56:16.939Z"
   },
   {
    "duration": -1342,
    "start_time": "2022-01-18T16:56:16.954Z"
   },
   {
    "duration": -1354,
    "start_time": "2022-01-18T16:56:16.967Z"
   },
   {
    "duration": -1393,
    "start_time": "2022-01-18T16:56:17.007Z"
   },
   {
    "duration": -1531,
    "start_time": "2022-01-18T16:56:17.146Z"
   },
   {
    "duration": -1533,
    "start_time": "2022-01-18T16:56:17.149Z"
   },
   {
    "duration": -1536,
    "start_time": "2022-01-18T16:56:17.152Z"
   },
   {
    "duration": -1548,
    "start_time": "2022-01-18T16:56:17.165Z"
   },
   {
    "duration": -1494,
    "start_time": "2022-01-18T16:56:17.168Z"
   },
   {
    "duration": -1497,
    "start_time": "2022-01-18T16:56:17.172Z"
   },
   {
    "duration": -1508,
    "start_time": "2022-01-18T16:56:17.184Z"
   },
   {
    "duration": -1513,
    "start_time": "2022-01-18T16:56:17.190Z"
   },
   {
    "duration": -1524,
    "start_time": "2022-01-18T16:56:17.202Z"
   },
   {
    "duration": -1556,
    "start_time": "2022-01-18T16:56:17.235Z"
   },
   {
    "duration": -1559,
    "start_time": "2022-01-18T16:56:17.240Z"
   },
   {
    "duration": -1570,
    "start_time": "2022-01-18T16:56:17.252Z"
   },
   {
    "duration": -1574,
    "start_time": "2022-01-18T16:56:17.257Z"
   },
   {
    "duration": -1577,
    "start_time": "2022-01-18T16:56:17.261Z"
   },
   {
    "duration": -1589,
    "start_time": "2022-01-18T16:56:17.274Z"
   },
   {
    "duration": -1593,
    "start_time": "2022-01-18T16:56:17.279Z"
   },
   {
    "duration": -1595,
    "start_time": "2022-01-18T16:56:17.282Z"
   },
   {
    "duration": -1597,
    "start_time": "2022-01-18T16:56:17.285Z"
   },
   {
    "duration": -1601,
    "start_time": "2022-01-18T16:56:17.290Z"
   },
   {
    "duration": -1603,
    "start_time": "2022-01-18T16:56:17.294Z"
   },
   {
    "duration": -1605,
    "start_time": "2022-01-18T16:56:17.297Z"
   },
   {
    "duration": -1607,
    "start_time": "2022-01-18T16:56:17.300Z"
   },
   {
    "duration": 97,
    "start_time": "2022-01-18T16:57:28.632Z"
   },
   {
    "duration": 321,
    "start_time": "2022-01-18T16:57:34.615Z"
   },
   {
    "duration": 475,
    "start_time": "2022-01-18T16:58:35.043Z"
   },
   {
    "duration": 454,
    "start_time": "2022-01-18T16:58:51.341Z"
   },
   {
    "duration": 563,
    "start_time": "2022-01-18T16:59:00.446Z"
   },
   {
    "duration": 444,
    "start_time": "2022-01-18T17:00:12.897Z"
   },
   {
    "duration": 304,
    "start_time": "2022-01-18T17:00:50.225Z"
   },
   {
    "duration": 308,
    "start_time": "2022-01-18T17:01:11.717Z"
   },
   {
    "duration": 340,
    "start_time": "2022-01-18T17:01:56.313Z"
   },
   {
    "duration": 306,
    "start_time": "2022-01-18T17:02:20.038Z"
   },
   {
    "duration": 320,
    "start_time": "2022-01-18T17:03:04.286Z"
   },
   {
    "duration": 19,
    "start_time": "2022-01-18T17:06:39.672Z"
   },
   {
    "duration": 19,
    "start_time": "2022-01-18T17:14:38.267Z"
   },
   {
    "duration": 28,
    "start_time": "2022-01-18T17:24:20.398Z"
   },
   {
    "duration": 310,
    "start_time": "2022-01-18T17:29:53.806Z"
   },
   {
    "duration": 446,
    "start_time": "2022-01-18T17:29:57.897Z"
   },
   {
    "duration": 323,
    "start_time": "2022-01-18T17:30:02.968Z"
   },
   {
    "duration": 308,
    "start_time": "2022-01-18T17:30:05.453Z"
   },
   {
    "duration": 328,
    "start_time": "2022-01-18T17:30:28.222Z"
   },
   {
    "duration": 20,
    "start_time": "2022-01-18T17:31:02.180Z"
   },
   {
    "duration": -718,
    "start_time": "2022-01-18T17:32:55.627Z"
   },
   {
    "duration": -876,
    "start_time": "2022-01-18T17:33:06.174Z"
   },
   {
    "duration": 21,
    "start_time": "2022-01-18T17:33:12.546Z"
   },
   {
    "duration": -780,
    "start_time": "2022-01-18T17:33:28.823Z"
   },
   {
    "duration": 7642,
    "start_time": "2022-01-18T17:33:30.830Z"
   },
   {
    "duration": 23,
    "start_time": "2022-01-18T17:34:02.586Z"
   },
   {
    "duration": 10,
    "start_time": "2022-01-18T18:07:17.018Z"
   },
   {
    "duration": 520,
    "start_time": "2022-01-18T18:10:45.184Z"
   },
   {
    "duration": 14,
    "start_time": "2022-01-18T18:11:18.090Z"
   },
   {
    "duration": 122,
    "start_time": "2022-01-19T11:38:01.857Z"
   },
   {
    "duration": 294,
    "start_time": "2022-01-19T11:38:19.430Z"
   },
   {
    "duration": 616,
    "start_time": "2022-01-19T11:38:29.059Z"
   },
   {
    "duration": 40,
    "start_time": "2022-01-19T11:38:29.677Z"
   },
   {
    "duration": 13,
    "start_time": "2022-01-19T11:38:29.719Z"
   },
   {
    "duration": 27,
    "start_time": "2022-01-19T11:38:29.734Z"
   },
   {
    "duration": 13,
    "start_time": "2022-01-19T11:38:29.763Z"
   },
   {
    "duration": 29,
    "start_time": "2022-01-19T11:38:29.778Z"
   },
   {
    "duration": 22,
    "start_time": "2022-01-19T11:38:29.809Z"
   },
   {
    "duration": 11,
    "start_time": "2022-01-19T11:38:29.834Z"
   },
   {
    "duration": 10,
    "start_time": "2022-01-19T11:38:29.847Z"
   },
   {
    "duration": 7,
    "start_time": "2022-01-19T11:38:29.859Z"
   },
   {
    "duration": 31,
    "start_time": "2022-01-19T11:38:29.868Z"
   },
   {
    "duration": 5,
    "start_time": "2022-01-19T11:38:29.900Z"
   },
   {
    "duration": 5,
    "start_time": "2022-01-19T11:38:29.906Z"
   },
   {
    "duration": 10,
    "start_time": "2022-01-19T11:38:29.913Z"
   },
   {
    "duration": 6,
    "start_time": "2022-01-19T11:38:29.924Z"
   },
   {
    "duration": 5,
    "start_time": "2022-01-19T11:38:29.932Z"
   },
   {
    "duration": 6,
    "start_time": "2022-01-19T11:38:29.939Z"
   },
   {
    "duration": 11,
    "start_time": "2022-01-19T11:38:29.947Z"
   },
   {
    "duration": 6,
    "start_time": "2022-01-19T11:38:29.960Z"
   },
   {
    "duration": 6,
    "start_time": "2022-01-19T11:38:29.967Z"
   },
   {
    "duration": 6,
    "start_time": "2022-01-19T11:38:29.975Z"
   },
   {
    "duration": 23,
    "start_time": "2022-01-19T11:38:29.983Z"
   },
   {
    "duration": 11,
    "start_time": "2022-01-19T11:38:30.011Z"
   },
   {
    "duration": 6,
    "start_time": "2022-01-19T11:38:30.025Z"
   },
   {
    "duration": 9,
    "start_time": "2022-01-19T11:38:30.032Z"
   },
   {
    "duration": 10,
    "start_time": "2022-01-19T11:38:30.043Z"
   },
   {
    "duration": 14,
    "start_time": "2022-01-19T11:38:30.055Z"
   },
   {
    "duration": 7,
    "start_time": "2022-01-19T11:38:30.071Z"
   },
   {
    "duration": 5,
    "start_time": "2022-01-19T11:38:30.079Z"
   },
   {
    "duration": 5,
    "start_time": "2022-01-19T11:38:30.086Z"
   },
   {
    "duration": 9,
    "start_time": "2022-01-19T11:38:30.092Z"
   },
   {
    "duration": 6,
    "start_time": "2022-01-19T11:38:30.103Z"
   },
   {
    "duration": 8,
    "start_time": "2022-01-19T11:38:30.110Z"
   },
   {
    "duration": 5,
    "start_time": "2022-01-19T11:38:30.120Z"
   },
   {
    "duration": 8,
    "start_time": "2022-01-19T11:38:30.127Z"
   },
   {
    "duration": 7,
    "start_time": "2022-01-19T11:38:30.137Z"
   },
   {
    "duration": 15,
    "start_time": "2022-01-19T11:38:30.146Z"
   },
   {
    "duration": 12,
    "start_time": "2022-01-19T11:38:30.162Z"
   },
   {
    "duration": 8,
    "start_time": "2022-01-19T11:38:30.176Z"
   },
   {
    "duration": 8,
    "start_time": "2022-01-19T11:38:30.185Z"
   },
   {
    "duration": 11,
    "start_time": "2022-01-19T11:38:30.195Z"
   },
   {
    "duration": 6,
    "start_time": "2022-01-19T11:38:30.208Z"
   },
   {
    "duration": 5,
    "start_time": "2022-01-19T11:38:30.216Z"
   },
   {
    "duration": 10,
    "start_time": "2022-01-19T11:38:30.223Z"
   },
   {
    "duration": 8,
    "start_time": "2022-01-19T11:38:30.235Z"
   },
   {
    "duration": 10,
    "start_time": "2022-01-19T11:38:30.244Z"
   },
   {
    "duration": 8,
    "start_time": "2022-01-19T11:38:30.256Z"
   },
   {
    "duration": 6,
    "start_time": "2022-01-19T11:38:30.266Z"
   },
   {
    "duration": 7,
    "start_time": "2022-01-19T11:38:30.273Z"
   },
   {
    "duration": 15,
    "start_time": "2022-01-19T11:38:30.281Z"
   },
   {
    "duration": 13,
    "start_time": "2022-01-19T11:38:30.298Z"
   },
   {
    "duration": 22,
    "start_time": "2022-01-19T11:38:30.312Z"
   },
   {
    "duration": 10,
    "start_time": "2022-01-19T11:38:30.336Z"
   },
   {
    "duration": 9,
    "start_time": "2022-01-19T11:38:30.347Z"
   },
   {
    "duration": 5,
    "start_time": "2022-01-19T11:38:30.358Z"
   },
   {
    "duration": 5,
    "start_time": "2022-01-19T11:38:30.365Z"
   },
   {
    "duration": 6,
    "start_time": "2022-01-19T11:38:30.371Z"
   },
   {
    "duration": 7,
    "start_time": "2022-01-19T11:38:30.378Z"
   },
   {
    "duration": 5,
    "start_time": "2022-01-19T11:38:30.387Z"
   },
   {
    "duration": 6,
    "start_time": "2022-01-19T11:38:30.394Z"
   },
   {
    "duration": 6,
    "start_time": "2022-01-19T11:38:30.402Z"
   },
   {
    "duration": 6,
    "start_time": "2022-01-19T11:38:30.409Z"
   },
   {
    "duration": 12,
    "start_time": "2022-01-19T11:38:30.417Z"
   },
   {
    "duration": 12,
    "start_time": "2022-01-19T11:38:30.430Z"
   },
   {
    "duration": 10,
    "start_time": "2022-01-19T11:38:30.444Z"
   },
   {
    "duration": 5,
    "start_time": "2022-01-19T11:38:30.456Z"
   },
   {
    "duration": 11,
    "start_time": "2022-01-19T11:38:30.463Z"
   },
   {
    "duration": 10,
    "start_time": "2022-01-19T11:38:30.478Z"
   },
   {
    "duration": 15,
    "start_time": "2022-01-19T11:38:30.490Z"
   },
   {
    "duration": 6,
    "start_time": "2022-01-19T11:38:30.506Z"
   },
   {
    "duration": 13,
    "start_time": "2022-01-19T11:38:30.514Z"
   },
   {
    "duration": 8,
    "start_time": "2022-01-19T11:38:30.529Z"
   },
   {
    "duration": 14,
    "start_time": "2022-01-19T11:38:30.539Z"
   },
   {
    "duration": 9,
    "start_time": "2022-01-19T11:39:51.082Z"
   },
   {
    "duration": 7,
    "start_time": "2022-01-19T11:41:10.137Z"
   },
   {
    "duration": 9,
    "start_time": "2022-01-19T11:42:17.746Z"
   },
   {
    "duration": 8,
    "start_time": "2022-01-19T11:43:34.383Z"
   },
   {
    "duration": 537,
    "start_time": "2022-01-19T14:09:18.732Z"
   },
   {
    "duration": 601,
    "start_time": "2022-01-19T14:09:28.828Z"
   },
   {
    "duration": 32,
    "start_time": "2022-01-19T14:09:29.431Z"
   },
   {
    "duration": 10,
    "start_time": "2022-01-19T14:09:29.465Z"
   },
   {
    "duration": 11,
    "start_time": "2022-01-19T14:09:29.477Z"
   },
   {
    "duration": 8,
    "start_time": "2022-01-19T14:09:29.490Z"
   },
   {
    "duration": 19,
    "start_time": "2022-01-19T14:09:29.500Z"
   },
   {
    "duration": 19,
    "start_time": "2022-01-19T14:09:29.521Z"
   },
   {
    "duration": 9,
    "start_time": "2022-01-19T14:09:29.571Z"
   },
   {
    "duration": 7,
    "start_time": "2022-01-19T14:09:29.582Z"
   },
   {
    "duration": 7,
    "start_time": "2022-01-19T14:09:29.591Z"
   },
   {
    "duration": 3,
    "start_time": "2022-01-19T14:09:29.599Z"
   },
   {
    "duration": 4,
    "start_time": "2022-01-19T14:09:29.603Z"
   },
   {
    "duration": 5,
    "start_time": "2022-01-19T14:09:29.608Z"
   },
   {
    "duration": 4,
    "start_time": "2022-01-19T14:09:29.614Z"
   },
   {
    "duration": 5,
    "start_time": "2022-01-19T14:09:29.620Z"
   },
   {
    "duration": 7,
    "start_time": "2022-01-19T14:09:29.627Z"
   },
   {
    "duration": 7,
    "start_time": "2022-01-19T14:09:29.635Z"
   },
   {
    "duration": 29,
    "start_time": "2022-01-19T14:09:29.644Z"
   },
   {
    "duration": 5,
    "start_time": "2022-01-19T14:09:29.674Z"
   },
   {
    "duration": 6,
    "start_time": "2022-01-19T14:09:29.680Z"
   },
   {
    "duration": 7,
    "start_time": "2022-01-19T14:09:29.688Z"
   },
   {
    "duration": 7,
    "start_time": "2022-01-19T14:09:29.696Z"
   },
   {
    "duration": 7,
    "start_time": "2022-01-19T14:09:29.707Z"
   },
   {
    "duration": 9,
    "start_time": "2022-01-19T14:09:29.717Z"
   },
   {
    "duration": 9,
    "start_time": "2022-01-19T14:09:29.727Z"
   },
   {
    "duration": 7,
    "start_time": "2022-01-19T14:09:29.738Z"
   },
   {
    "duration": 9,
    "start_time": "2022-01-19T14:09:29.747Z"
   },
   {
    "duration": 10,
    "start_time": "2022-01-19T14:09:29.757Z"
   },
   {
    "duration": 8,
    "start_time": "2022-01-19T14:09:29.769Z"
   },
   {
    "duration": 7,
    "start_time": "2022-01-19T14:09:29.779Z"
   },
   {
    "duration": 8,
    "start_time": "2022-01-19T14:09:29.788Z"
   },
   {
    "duration": 6,
    "start_time": "2022-01-19T14:09:29.798Z"
   },
   {
    "duration": 8,
    "start_time": "2022-01-19T14:09:29.806Z"
   },
   {
    "duration": 7,
    "start_time": "2022-01-19T14:09:29.816Z"
   },
   {
    "duration": 7,
    "start_time": "2022-01-19T14:09:29.825Z"
   },
   {
    "duration": 8,
    "start_time": "2022-01-19T14:09:29.834Z"
   },
   {
    "duration": 9,
    "start_time": "2022-01-19T14:09:29.843Z"
   },
   {
    "duration": 9,
    "start_time": "2022-01-19T14:09:29.854Z"
   },
   {
    "duration": 7,
    "start_time": "2022-01-19T14:09:29.864Z"
   },
   {
    "duration": 7,
    "start_time": "2022-01-19T14:09:29.873Z"
   },
   {
    "duration": 7,
    "start_time": "2022-01-19T14:09:29.882Z"
   },
   {
    "duration": 8,
    "start_time": "2022-01-19T14:09:29.890Z"
   },
   {
    "duration": 8,
    "start_time": "2022-01-19T14:09:29.900Z"
   },
   {
    "duration": 9,
    "start_time": "2022-01-19T14:09:29.909Z"
   },
   {
    "duration": 8,
    "start_time": "2022-01-19T14:09:29.919Z"
   },
   {
    "duration": 8,
    "start_time": "2022-01-19T14:09:29.929Z"
   },
   {
    "duration": 7,
    "start_time": "2022-01-19T14:09:29.939Z"
   },
   {
    "duration": 9,
    "start_time": "2022-01-19T14:09:29.948Z"
   },
   {
    "duration": 16,
    "start_time": "2022-01-19T14:09:29.958Z"
   },
   {
    "duration": 8,
    "start_time": "2022-01-19T14:09:29.976Z"
   },
   {
    "duration": 9,
    "start_time": "2022-01-19T14:09:29.985Z"
   },
   {
    "duration": 16,
    "start_time": "2022-01-19T14:09:29.995Z"
   },
   {
    "duration": 21,
    "start_time": "2022-01-19T14:09:30.013Z"
   },
   {
    "duration": 16,
    "start_time": "2022-01-19T14:09:30.036Z"
   },
   {
    "duration": 12,
    "start_time": "2022-01-19T14:09:30.053Z"
   },
   {
    "duration": 15,
    "start_time": "2022-01-19T14:09:30.067Z"
   },
   {
    "duration": 39,
    "start_time": "2022-01-19T14:09:30.084Z"
   },
   {
    "duration": 19,
    "start_time": "2022-01-19T14:09:30.125Z"
   },
   {
    "duration": 6,
    "start_time": "2022-01-19T14:09:30.145Z"
   },
   {
    "duration": 22,
    "start_time": "2022-01-19T14:09:30.153Z"
   },
   {
    "duration": 12,
    "start_time": "2022-01-19T14:09:30.177Z"
   },
   {
    "duration": 6,
    "start_time": "2022-01-19T14:09:30.191Z"
   },
   {
    "duration": 12,
    "start_time": "2022-01-19T14:09:30.199Z"
   },
   {
    "duration": 9,
    "start_time": "2022-01-19T14:09:30.213Z"
   },
   {
    "duration": 9,
    "start_time": "2022-01-19T14:09:30.224Z"
   },
   {
    "duration": 10,
    "start_time": "2022-01-19T14:09:30.235Z"
   },
   {
    "duration": 10,
    "start_time": "2022-01-19T14:09:30.247Z"
   },
   {
    "duration": 6,
    "start_time": "2022-01-19T14:09:30.261Z"
   },
   {
    "duration": 15,
    "start_time": "2022-01-19T14:09:30.268Z"
   },
   {
    "duration": 11,
    "start_time": "2022-01-19T14:09:30.284Z"
   },
   {
    "duration": 9,
    "start_time": "2022-01-19T14:09:30.297Z"
   },
   {
    "duration": 11,
    "start_time": "2022-01-19T14:09:30.308Z"
   },
   {
    "duration": 11,
    "start_time": "2022-01-19T14:09:30.320Z"
   },
   {
    "duration": 455,
    "start_time": "2022-01-19T14:39:31.886Z"
   },
   {
    "duration": 6,
    "start_time": "2022-01-19T14:40:08.240Z"
   },
   {
    "duration": 6,
    "start_time": "2022-01-19T15:18:08.773Z"
   },
   {
    "duration": 7,
    "start_time": "2022-01-19T15:18:50.870Z"
   },
   {
    "duration": 7,
    "start_time": "2022-01-19T15:20:33.425Z"
   },
   {
    "duration": 7,
    "start_time": "2022-01-19T15:25:50.214Z"
   },
   {
    "duration": 353,
    "start_time": "2022-01-19T17:32:06.461Z"
   },
   {
    "duration": 714,
    "start_time": "2022-01-19T17:32:12.941Z"
   },
   {
    "duration": 38,
    "start_time": "2022-01-19T17:32:13.656Z"
   },
   {
    "duration": 12,
    "start_time": "2022-01-19T17:32:13.696Z"
   },
   {
    "duration": 9,
    "start_time": "2022-01-19T17:32:13.711Z"
   },
   {
    "duration": 8,
    "start_time": "2022-01-19T17:32:13.722Z"
   },
   {
    "duration": 45,
    "start_time": "2022-01-19T17:32:13.732Z"
   },
   {
    "duration": 27,
    "start_time": "2022-01-19T17:32:13.779Z"
   },
   {
    "duration": 12,
    "start_time": "2022-01-19T17:32:13.809Z"
   },
   {
    "duration": 7,
    "start_time": "2022-01-19T17:32:13.823Z"
   },
   {
    "duration": 7,
    "start_time": "2022-01-19T17:32:13.832Z"
   },
   {
    "duration": 9,
    "start_time": "2022-01-19T17:32:13.873Z"
   },
   {
    "duration": 7,
    "start_time": "2022-01-19T17:32:13.885Z"
   },
   {
    "duration": 9,
    "start_time": "2022-01-19T17:32:13.894Z"
   },
   {
    "duration": 9,
    "start_time": "2022-01-19T17:32:13.905Z"
   },
   {
    "duration": 7,
    "start_time": "2022-01-19T17:32:13.915Z"
   },
   {
    "duration": 329,
    "start_time": "2022-01-19T17:32:13.924Z"
   },
   {
    "duration": -440,
    "start_time": "2022-01-19T17:32:14.696Z"
   },
   {
    "duration": -441,
    "start_time": "2022-01-19T17:32:14.698Z"
   },
   {
    "duration": -446,
    "start_time": "2022-01-19T17:32:14.704Z"
   },
   {
    "duration": -457,
    "start_time": "2022-01-19T17:32:14.715Z"
   },
   {
    "duration": -462,
    "start_time": "2022-01-19T17:32:14.721Z"
   },
   {
    "duration": -471,
    "start_time": "2022-01-19T17:32:14.731Z"
   },
   {
    "duration": -472,
    "start_time": "2022-01-19T17:32:14.733Z"
   },
   {
    "duration": -477,
    "start_time": "2022-01-19T17:32:14.739Z"
   },
   {
    "duration": -485,
    "start_time": "2022-01-19T17:32:14.748Z"
   },
   {
    "duration": -489,
    "start_time": "2022-01-19T17:32:14.753Z"
   },
   {
    "duration": -522,
    "start_time": "2022-01-19T17:32:14.787Z"
   },
   {
    "duration": -531,
    "start_time": "2022-01-19T17:32:14.797Z"
   },
   {
    "duration": -533,
    "start_time": "2022-01-19T17:32:14.800Z"
   },
   {
    "duration": -545,
    "start_time": "2022-01-19T17:32:14.813Z"
   },
   {
    "duration": -585,
    "start_time": "2022-01-19T17:32:14.854Z"
   },
   {
    "duration": -589,
    "start_time": "2022-01-19T17:32:14.858Z"
   },
   {
    "duration": -591,
    "start_time": "2022-01-19T17:32:14.861Z"
   },
   {
    "duration": -592,
    "start_time": "2022-01-19T17:32:14.864Z"
   },
   {
    "duration": -595,
    "start_time": "2022-01-19T17:32:14.868Z"
   },
   {
    "duration": -599,
    "start_time": "2022-01-19T17:32:14.873Z"
   },
   {
    "duration": -601,
    "start_time": "2022-01-19T17:32:14.876Z"
   },
   {
    "duration": -603,
    "start_time": "2022-01-19T17:32:14.879Z"
   },
   {
    "duration": -604,
    "start_time": "2022-01-19T17:32:14.882Z"
   },
   {
    "duration": -606,
    "start_time": "2022-01-19T17:32:14.885Z"
   },
   {
    "duration": -608,
    "start_time": "2022-01-19T17:32:14.889Z"
   },
   {
    "duration": -746,
    "start_time": "2022-01-19T17:32:15.028Z"
   },
   {
    "duration": -748,
    "start_time": "2022-01-19T17:32:15.031Z"
   },
   {
    "duration": -748,
    "start_time": "2022-01-19T17:32:15.033Z"
   },
   {
    "duration": -759,
    "start_time": "2022-01-19T17:32:15.046Z"
   },
   {
    "duration": -761,
    "start_time": "2022-01-19T17:32:15.049Z"
   },
   {
    "duration": -764,
    "start_time": "2022-01-19T17:32:15.054Z"
   },
   {
    "duration": -775,
    "start_time": "2022-01-19T17:32:15.066Z"
   },
   {
    "duration": -778,
    "start_time": "2022-01-19T17:32:15.071Z"
   },
   {
    "duration": -787,
    "start_time": "2022-01-19T17:32:15.081Z"
   },
   {
    "duration": -790,
    "start_time": "2022-01-19T17:32:15.085Z"
   },
   {
    "duration": -801,
    "start_time": "2022-01-19T17:32:15.097Z"
   },
   {
    "duration": -803,
    "start_time": "2022-01-19T17:32:15.100Z"
   },
   {
    "duration": -806,
    "start_time": "2022-01-19T17:32:15.105Z"
   },
   {
    "duration": -815,
    "start_time": "2022-01-19T17:32:15.115Z"
   },
   {
    "duration": -882,
    "start_time": "2022-01-19T17:32:15.182Z"
   },
   {
    "duration": -929,
    "start_time": "2022-01-19T17:32:15.231Z"
   },
   {
    "duration": -937,
    "start_time": "2022-01-19T17:32:15.240Z"
   },
   {
    "duration": -939,
    "start_time": "2022-01-19T17:32:15.243Z"
   },
   {
    "duration": -941,
    "start_time": "2022-01-19T17:32:15.246Z"
   },
   {
    "duration": -954,
    "start_time": "2022-01-19T17:32:15.260Z"
   },
   {
    "duration": -956,
    "start_time": "2022-01-19T17:32:15.263Z"
   },
   {
    "duration": -957,
    "start_time": "2022-01-19T17:32:15.265Z"
   },
   {
    "duration": -961,
    "start_time": "2022-01-19T17:32:15.270Z"
   },
   {
    "duration": -972,
    "start_time": "2022-01-19T17:32:15.282Z"
   },
   {
    "duration": -978,
    "start_time": "2022-01-19T17:32:15.289Z"
   },
   {
    "duration": -985,
    "start_time": "2022-01-19T17:32:15.297Z"
   },
   {
    "duration": -928,
    "start_time": "2022-01-19T17:32:15.300Z"
   },
   {
    "duration": -940,
    "start_time": "2022-01-19T17:32:15.313Z"
   },
   {
    "duration": -941,
    "start_time": "2022-01-19T17:32:15.315Z"
   },
   {
    "duration": -945,
    "start_time": "2022-01-19T17:32:15.320Z"
   },
   {
    "duration": -955,
    "start_time": "2022-01-19T17:32:15.331Z"
   },
   {
    "duration": -957,
    "start_time": "2022-01-19T17:32:15.334Z"
   },
   {
    "duration": -969,
    "start_time": "2022-01-19T17:32:15.347Z"
   },
   {
    "duration": -971,
    "start_time": "2022-01-19T17:32:15.350Z"
   },
   {
    "duration": 301,
    "start_time": "2022-01-19T17:32:44.001Z"
   },
   {
    "duration": 315,
    "start_time": "2022-01-19T17:33:35.044Z"
   },
   {
    "duration": 306,
    "start_time": "2022-01-19T17:33:59.571Z"
   },
   {
    "duration": 318,
    "start_time": "2022-01-19T17:34:16.704Z"
   },
   {
    "duration": 5,
    "start_time": "2022-01-19T17:37:18.708Z"
   },
   {
    "duration": 309,
    "start_time": "2022-01-19T17:39:09.766Z"
   },
   {
    "duration": 309,
    "start_time": "2022-01-19T17:39:21.927Z"
   },
   {
    "duration": 500,
    "start_time": "2022-01-19T17:39:45.473Z"
   },
   {
    "duration": 12,
    "start_time": "2022-01-19T17:40:00.900Z"
   },
   {
    "duration": 5,
    "start_time": "2022-01-19T17:40:20.576Z"
   },
   {
    "duration": 10,
    "start_time": "2022-01-19T17:43:08.504Z"
   },
   {
    "duration": 11,
    "start_time": "2022-01-19T17:43:14.209Z"
   },
   {
    "duration": 6,
    "start_time": "2022-01-19T17:43:17.432Z"
   },
   {
    "duration": 11,
    "start_time": "2022-01-19T17:45:36.075Z"
   },
   {
    "duration": 6,
    "start_time": "2022-01-19T17:46:07.520Z"
   },
   {
    "duration": 5,
    "start_time": "2022-01-19T17:46:20.066Z"
   },
   {
    "duration": 296,
    "start_time": "2022-01-19T17:48:56.421Z"
   },
   {
    "duration": 311,
    "start_time": "2022-01-19T17:49:29.657Z"
   },
   {
    "duration": 313,
    "start_time": "2022-01-19T17:50:40.840Z"
   },
   {
    "duration": 5,
    "start_time": "2022-01-19T17:51:15.669Z"
   },
   {
    "duration": 6,
    "start_time": "2022-01-19T17:51:29.238Z"
   },
   {
    "duration": 6,
    "start_time": "2022-01-19T17:52:40.644Z"
   },
   {
    "duration": 8,
    "start_time": "2022-01-19T17:53:07.679Z"
   },
   {
    "duration": 5,
    "start_time": "2022-01-19T17:53:25.955Z"
   },
   {
    "duration": 7,
    "start_time": "2022-01-19T17:53:34.603Z"
   },
   {
    "duration": 33,
    "start_time": "2022-01-19T17:57:44.085Z"
   },
   {
    "duration": 6,
    "start_time": "2022-01-19T17:58:07.826Z"
   },
   {
    "duration": 5,
    "start_time": "2022-01-19T17:59:01.751Z"
   },
   {
    "duration": 5,
    "start_time": "2022-01-19T17:59:06.951Z"
   },
   {
    "duration": 6,
    "start_time": "2022-01-19T18:01:37.489Z"
   },
   {
    "duration": 8,
    "start_time": "2022-01-19T18:02:08.848Z"
   },
   {
    "duration": 5,
    "start_time": "2022-01-19T18:12:11.434Z"
   },
   {
    "duration": 3,
    "start_time": "2022-01-19T18:12:54.822Z"
   },
   {
    "duration": 3,
    "start_time": "2022-01-19T18:12:57.587Z"
   },
   {
    "duration": 3,
    "start_time": "2022-01-19T18:13:00.485Z"
   },
   {
    "duration": 4,
    "start_time": "2022-01-19T18:13:05.082Z"
   },
   {
    "duration": 4,
    "start_time": "2022-01-19T18:13:10.685Z"
   },
   {
    "duration": 4,
    "start_time": "2022-01-19T18:13:11.273Z"
   },
   {
    "duration": 3,
    "start_time": "2022-01-19T18:13:11.785Z"
   },
   {
    "duration": 3,
    "start_time": "2022-01-19T18:13:17.184Z"
   },
   {
    "duration": 3,
    "start_time": "2022-01-19T18:13:17.587Z"
   },
   {
    "duration": 4,
    "start_time": "2022-01-19T18:13:17.746Z"
   },
   {
    "duration": 4,
    "start_time": "2022-01-19T18:13:18.074Z"
   },
   {
    "duration": 4,
    "start_time": "2022-01-19T18:13:19.264Z"
   },
   {
    "duration": 4,
    "start_time": "2022-01-19T18:13:19.840Z"
   },
   {
    "duration": 3,
    "start_time": "2022-01-19T18:13:57.537Z"
   },
   {
    "duration": 111,
    "start_time": "2022-01-19T18:14:07.563Z"
   },
   {
    "duration": 6,
    "start_time": "2022-01-19T18:14:11.926Z"
   },
   {
    "duration": 3,
    "start_time": "2022-01-19T18:14:18.204Z"
   },
   {
    "duration": 7,
    "start_time": "2022-01-19T18:15:04.991Z"
   },
   {
    "duration": 98,
    "start_time": "2022-01-19T18:15:16.598Z"
   },
   {
    "duration": 7,
    "start_time": "2022-01-19T18:15:21.224Z"
   },
   {
    "duration": 5,
    "start_time": "2022-01-19T18:21:19.080Z"
   },
   {
    "duration": 406,
    "start_time": "2022-01-21T12:13:45.365Z"
   },
   {
    "duration": 1004,
    "start_time": "2022-01-21T12:13:52.112Z"
   },
   {
    "duration": 86,
    "start_time": "2022-01-21T12:13:53.120Z"
   },
   {
    "duration": 32,
    "start_time": "2022-01-21T12:13:53.210Z"
   },
   {
    "duration": 18,
    "start_time": "2022-01-21T12:13:53.246Z"
   },
   {
    "duration": 16,
    "start_time": "2022-01-21T12:13:53.266Z"
   },
   {
    "duration": 71,
    "start_time": "2022-01-21T12:13:53.285Z"
   },
   {
    "duration": 36,
    "start_time": "2022-01-21T12:13:53.358Z"
   },
   {
    "duration": 44,
    "start_time": "2022-01-21T12:13:53.397Z"
   },
   {
    "duration": 14,
    "start_time": "2022-01-21T12:13:53.446Z"
   },
   {
    "duration": 16,
    "start_time": "2022-01-21T12:13:53.463Z"
   },
   {
    "duration": 10,
    "start_time": "2022-01-21T12:13:53.481Z"
   },
   {
    "duration": 43,
    "start_time": "2022-01-21T12:13:53.493Z"
   },
   {
    "duration": 11,
    "start_time": "2022-01-21T12:13:53.538Z"
   },
   {
    "duration": 12,
    "start_time": "2022-01-21T12:13:53.552Z"
   },
   {
    "duration": 14,
    "start_time": "2022-01-21T12:13:53.567Z"
   },
   {
    "duration": 51,
    "start_time": "2022-01-21T12:13:53.584Z"
   },
   {
    "duration": 19,
    "start_time": "2022-01-21T12:13:53.638Z"
   },
   {
    "duration": 15,
    "start_time": "2022-01-21T12:13:53.660Z"
   },
   {
    "duration": 10,
    "start_time": "2022-01-21T12:13:53.677Z"
   },
   {
    "duration": 45,
    "start_time": "2022-01-21T12:13:53.690Z"
   },
   {
    "duration": 12,
    "start_time": "2022-01-21T12:13:53.738Z"
   },
   {
    "duration": 5,
    "start_time": "2022-01-21T12:13:53.752Z"
   },
   {
    "duration": 6,
    "start_time": "2022-01-21T12:13:53.764Z"
   },
   {
    "duration": 60,
    "start_time": "2022-01-21T12:13:53.774Z"
   },
   {
    "duration": 7,
    "start_time": "2022-01-21T12:13:53.836Z"
   },
   {
    "duration": 6,
    "start_time": "2022-01-21T12:13:53.845Z"
   },
   {
    "duration": 12,
    "start_time": "2022-01-21T12:13:53.853Z"
   },
   {
    "duration": 7,
    "start_time": "2022-01-21T12:13:53.868Z"
   },
   {
    "duration": 9,
    "start_time": "2022-01-21T12:13:53.878Z"
   },
   {
    "duration": 3,
    "start_time": "2022-01-21T12:13:53.933Z"
   },
   {
    "duration": 9,
    "start_time": "2022-01-21T12:13:53.938Z"
   },
   {
    "duration": 8,
    "start_time": "2022-01-21T12:13:53.949Z"
   },
   {
    "duration": 6,
    "start_time": "2022-01-21T12:13:53.959Z"
   },
   {
    "duration": 6,
    "start_time": "2022-01-21T12:13:53.967Z"
   },
   {
    "duration": 4,
    "start_time": "2022-01-21T12:13:53.975Z"
   },
   {
    "duration": 4,
    "start_time": "2022-01-21T12:13:53.981Z"
   },
   {
    "duration": 44,
    "start_time": "2022-01-21T12:13:53.988Z"
   },
   {
    "duration": 3,
    "start_time": "2022-01-21T12:13:54.035Z"
   },
   {
    "duration": 8,
    "start_time": "2022-01-21T12:13:54.040Z"
   },
   {
    "duration": 5,
    "start_time": "2022-01-21T12:13:54.050Z"
   },
   {
    "duration": 7,
    "start_time": "2022-01-21T12:13:54.057Z"
   },
   {
    "duration": 6,
    "start_time": "2022-01-21T12:13:54.066Z"
   },
   {
    "duration": 10,
    "start_time": "2022-01-21T12:13:54.074Z"
   },
   {
    "duration": 6,
    "start_time": "2022-01-21T12:13:54.087Z"
   },
   {
    "duration": 37,
    "start_time": "2022-01-21T12:13:54.095Z"
   },
   {
    "duration": 2,
    "start_time": "2022-01-21T12:13:54.135Z"
   },
   {
    "duration": 6,
    "start_time": "2022-01-21T12:13:54.140Z"
   },
   {
    "duration": 6,
    "start_time": "2022-01-21T12:13:54.148Z"
   },
   {
    "duration": 5,
    "start_time": "2022-01-21T12:13:54.156Z"
   },
   {
    "duration": 6,
    "start_time": "2022-01-21T12:13:54.164Z"
   },
   {
    "duration": 9,
    "start_time": "2022-01-21T12:13:54.172Z"
   },
   {
    "duration": 6,
    "start_time": "2022-01-21T12:13:54.183Z"
   },
   {
    "duration": 4,
    "start_time": "2022-01-21T12:13:54.192Z"
   },
   {
    "duration": 5,
    "start_time": "2022-01-21T12:13:54.199Z"
   },
   {
    "duration": 8,
    "start_time": "2022-01-21T12:13:54.233Z"
   },
   {
    "duration": 5,
    "start_time": "2022-01-21T12:13:54.243Z"
   },
   {
    "duration": 7,
    "start_time": "2022-01-21T12:13:54.250Z"
   },
   {
    "duration": 6,
    "start_time": "2022-01-21T12:13:54.259Z"
   },
   {
    "duration": 6,
    "start_time": "2022-01-21T12:13:54.268Z"
   },
   {
    "duration": 6,
    "start_time": "2022-01-21T12:13:54.276Z"
   },
   {
    "duration": 8,
    "start_time": "2022-01-21T12:13:54.284Z"
   },
   {
    "duration": 11,
    "start_time": "2022-01-21T12:13:54.294Z"
   },
   {
    "duration": 9,
    "start_time": "2022-01-21T12:13:54.333Z"
   },
   {
    "duration": 5,
    "start_time": "2022-01-21T12:13:54.345Z"
   },
   {
    "duration": 5,
    "start_time": "2022-01-21T12:13:54.352Z"
   },
   {
    "duration": 5,
    "start_time": "2022-01-21T12:13:54.359Z"
   },
   {
    "duration": 5,
    "start_time": "2022-01-21T12:13:54.366Z"
   },
   {
    "duration": 2,
    "start_time": "2022-01-21T12:13:54.379Z"
   },
   {
    "duration": 5,
    "start_time": "2022-01-21T12:13:54.384Z"
   },
   {
    "duration": 3,
    "start_time": "2022-01-21T12:13:54.433Z"
   },
   {
    "duration": 5,
    "start_time": "2022-01-21T12:13:54.438Z"
   },
   {
    "duration": 5,
    "start_time": "2022-01-21T12:13:54.446Z"
   },
   {
    "duration": 5,
    "start_time": "2022-01-21T12:13:54.453Z"
   },
   {
    "duration": 5,
    "start_time": "2022-01-21T12:13:54.461Z"
   },
   {
    "duration": 5,
    "start_time": "2022-01-21T12:13:54.468Z"
   },
   {
    "duration": 5,
    "start_time": "2022-01-21T12:13:54.476Z"
   },
   {
    "duration": 48,
    "start_time": "2022-01-21T12:13:54.484Z"
   },
   {
    "duration": 3,
    "start_time": "2022-01-21T12:13:54.534Z"
   },
   {
    "duration": 9,
    "start_time": "2022-01-21T12:14:16.761Z"
   },
   {
    "duration": 6,
    "start_time": "2022-01-21T12:32:51.914Z"
   },
   {
    "duration": 7,
    "start_time": "2022-01-21T12:32:55.556Z"
   },
   {
    "duration": 10,
    "start_time": "2022-01-21T12:33:23.785Z"
   },
   {
    "duration": 9,
    "start_time": "2022-01-21T12:34:07.606Z"
   },
   {
    "duration": 10,
    "start_time": "2022-01-21T12:42:17.458Z"
   },
   {
    "duration": 10,
    "start_time": "2022-01-21T12:45:39.168Z"
   },
   {
    "duration": 10,
    "start_time": "2022-01-21T12:45:50.514Z"
   },
   {
    "duration": 308,
    "start_time": "2022-01-21T12:55:15.198Z"
   },
   {
    "duration": 51,
    "start_time": "2022-01-21T12:55:31.859Z"
   },
   {
    "duration": 45,
    "start_time": "2022-01-21T12:55:31.913Z"
   },
   {
    "duration": 18,
    "start_time": "2022-01-21T12:55:31.961Z"
   },
   {
    "duration": 17,
    "start_time": "2022-01-21T12:55:31.982Z"
   },
   {
    "duration": 19,
    "start_time": "2022-01-21T12:55:32.034Z"
   },
   {
    "duration": 37,
    "start_time": "2022-01-21T12:55:32.056Z"
   },
   {
    "duration": 68,
    "start_time": "2022-01-21T12:55:32.095Z"
   },
   {
    "duration": 12,
    "start_time": "2022-01-21T12:55:32.167Z"
   },
   {
    "duration": 14,
    "start_time": "2022-01-21T12:55:32.182Z"
   },
   {
    "duration": 40,
    "start_time": "2022-01-21T12:55:32.199Z"
   },
   {
    "duration": 11,
    "start_time": "2022-01-21T12:55:32.242Z"
   },
   {
    "duration": 11,
    "start_time": "2022-01-21T12:55:32.255Z"
   },
   {
    "duration": 13,
    "start_time": "2022-01-21T12:55:32.268Z"
   },
   {
    "duration": 15,
    "start_time": "2022-01-21T12:55:32.283Z"
   },
   {
    "duration": 11,
    "start_time": "2022-01-21T12:55:32.332Z"
   },
   {
    "duration": 6,
    "start_time": "2022-01-21T12:55:32.345Z"
   },
   {
    "duration": 16,
    "start_time": "2022-01-21T12:55:32.353Z"
   },
   {
    "duration": 13,
    "start_time": "2022-01-21T12:55:32.372Z"
   },
   {
    "duration": 15,
    "start_time": "2022-01-21T12:55:32.387Z"
   },
   {
    "duration": 7,
    "start_time": "2022-01-21T12:55:32.433Z"
   },
   {
    "duration": 13,
    "start_time": "2022-01-21T12:55:32.442Z"
   },
   {
    "duration": 6,
    "start_time": "2022-01-21T12:55:32.457Z"
   },
   {
    "duration": 7,
    "start_time": "2022-01-21T12:55:32.469Z"
   },
   {
    "duration": 11,
    "start_time": "2022-01-21T12:55:32.478Z"
   },
   {
    "duration": 7,
    "start_time": "2022-01-21T12:55:32.533Z"
   },
   {
    "duration": 6,
    "start_time": "2022-01-21T12:55:32.542Z"
   },
   {
    "duration": 11,
    "start_time": "2022-01-21T12:55:32.551Z"
   },
   {
    "duration": 7,
    "start_time": "2022-01-21T12:55:32.564Z"
   },
   {
    "duration": 10,
    "start_time": "2022-01-21T12:55:32.573Z"
   },
   {
    "duration": 5,
    "start_time": "2022-01-21T12:55:32.586Z"
   },
   {
    "duration": 8,
    "start_time": "2022-01-21T12:55:32.633Z"
   },
   {
    "duration": 12,
    "start_time": "2022-01-21T12:55:32.643Z"
   },
   {
    "duration": 5,
    "start_time": "2022-01-21T12:55:32.657Z"
   },
   {
    "duration": 5,
    "start_time": "2022-01-21T12:55:32.664Z"
   },
   {
    "duration": 12,
    "start_time": "2022-01-21T12:55:32.672Z"
   },
   {
    "duration": 49,
    "start_time": "2022-01-21T12:55:32.687Z"
   },
   {
    "duration": 5,
    "start_time": "2022-01-21T12:55:32.739Z"
   },
   {
    "duration": 12,
    "start_time": "2022-01-21T12:55:32.747Z"
   },
   {
    "duration": 5,
    "start_time": "2022-01-21T12:55:32.761Z"
   },
   {
    "duration": 8,
    "start_time": "2022-01-21T12:55:32.768Z"
   },
   {
    "duration": 663,
    "start_time": "2022-01-21T12:55:34.968Z"
   },
   {
    "duration": 24,
    "start_time": "2022-01-21T12:55:44.309Z"
   },
   {
    "duration": 47,
    "start_time": "2022-01-21T13:02:33.283Z"
   },
   {
    "duration": 52,
    "start_time": "2022-01-21T14:33:50.294Z"
   },
   {
    "duration": 13,
    "start_time": "2022-01-21T14:34:05.039Z"
   },
   {
    "duration": 24,
    "start_time": "2022-01-21T14:35:34.324Z"
   },
   {
    "duration": 17,
    "start_time": "2022-01-21T14:52:18.688Z"
   },
   {
    "duration": 25,
    "start_time": "2022-01-21T14:52:23.381Z"
   },
   {
    "duration": 249,
    "start_time": "2022-01-21T14:53:07.794Z"
   },
   {
    "duration": 12,
    "start_time": "2022-01-21T14:53:22.974Z"
   },
   {
    "duration": 91,
    "start_time": "2022-01-21T15:02:43.621Z"
   },
   {
    "duration": 57,
    "start_time": "2022-01-21T15:03:07.695Z"
   },
   {
    "duration": 87,
    "start_time": "2022-01-21T15:03:07.756Z"
   },
   {
    "duration": 19,
    "start_time": "2022-01-21T15:03:07.847Z"
   },
   {
    "duration": 18,
    "start_time": "2022-01-21T15:03:07.870Z"
   },
   {
    "duration": 56,
    "start_time": "2022-01-21T15:03:07.891Z"
   },
   {
    "duration": 47,
    "start_time": "2022-01-21T15:03:07.951Z"
   },
   {
    "duration": 65,
    "start_time": "2022-01-21T15:03:08.001Z"
   },
   {
    "duration": 14,
    "start_time": "2022-01-21T15:03:08.070Z"
   },
   {
    "duration": 10,
    "start_time": "2022-01-21T15:03:08.088Z"
   },
   {
    "duration": 12,
    "start_time": "2022-01-21T15:03:08.133Z"
   },
   {
    "duration": 11,
    "start_time": "2022-01-21T15:03:08.148Z"
   },
   {
    "duration": 10,
    "start_time": "2022-01-21T15:03:08.161Z"
   },
   {
    "duration": 9,
    "start_time": "2022-01-21T15:03:08.174Z"
   },
   {
    "duration": 56,
    "start_time": "2022-01-21T15:03:08.186Z"
   },
   {
    "duration": 12,
    "start_time": "2022-01-21T15:03:08.245Z"
   },
   {
    "duration": 9,
    "start_time": "2022-01-21T15:03:08.269Z"
   },
   {
    "duration": 55,
    "start_time": "2022-01-21T15:03:08.280Z"
   },
   {
    "duration": 12,
    "start_time": "2022-01-21T15:03:08.338Z"
   },
   {
    "duration": 8,
    "start_time": "2022-01-21T15:03:08.353Z"
   },
   {
    "duration": 7,
    "start_time": "2022-01-21T15:03:08.364Z"
   },
   {
    "duration": 8,
    "start_time": "2022-01-21T15:03:08.374Z"
   },
   {
    "duration": 51,
    "start_time": "2022-01-21T15:03:08.384Z"
   },
   {
    "duration": 8,
    "start_time": "2022-01-21T15:03:08.440Z"
   },
   {
    "duration": 11,
    "start_time": "2022-01-21T15:03:08.451Z"
   },
   {
    "duration": 7,
    "start_time": "2022-01-21T15:03:08.465Z"
   },
   {
    "duration": 8,
    "start_time": "2022-01-21T15:03:08.474Z"
   },
   {
    "duration": 49,
    "start_time": "2022-01-21T15:03:08.485Z"
   },
   {
    "duration": 8,
    "start_time": "2022-01-21T15:03:08.537Z"
   },
   {
    "duration": 21,
    "start_time": "2022-01-21T15:03:08.547Z"
   },
   {
    "duration": 7,
    "start_time": "2022-01-21T15:03:08.571Z"
   },
   {
    "duration": 15,
    "start_time": "2022-01-21T15:03:08.580Z"
   },
   {
    "duration": 37,
    "start_time": "2022-01-21T15:03:08.597Z"
   },
   {
    "duration": 13,
    "start_time": "2022-01-21T15:03:08.636Z"
   },
   {
    "duration": 17,
    "start_time": "2022-01-21T15:03:08.652Z"
   },
   {
    "duration": 15,
    "start_time": "2022-01-21T15:03:08.671Z"
   },
   {
    "duration": 7,
    "start_time": "2022-01-21T15:03:08.689Z"
   },
   {
    "duration": 13,
    "start_time": "2022-01-21T15:03:08.699Z"
   },
   {
    "duration": 19,
    "start_time": "2022-01-21T15:03:08.715Z"
   },
   {
    "duration": 16,
    "start_time": "2022-01-21T15:03:08.737Z"
   },
   {
    "duration": 9,
    "start_time": "2022-01-21T15:03:08.756Z"
   },
   {
    "duration": 55,
    "start_time": "2022-01-21T15:03:08.767Z"
   },
   {
    "duration": 7,
    "start_time": "2022-01-21T15:03:08.825Z"
   },
   {
    "duration": 4,
    "start_time": "2022-01-21T15:03:08.834Z"
   },
   {
    "duration": 26,
    "start_time": "2022-01-21T15:03:08.841Z"
   },
   {
    "duration": 3,
    "start_time": "2022-01-21T15:03:08.869Z"
   },
   {
    "duration": 73,
    "start_time": "2022-01-21T15:03:11.754Z"
   },
   {
    "duration": 6,
    "start_time": "2022-01-21T15:03:20.981Z"
   },
   {
    "duration": 4,
    "start_time": "2022-01-21T15:03:23.658Z"
   },
   {
    "duration": 4,
    "start_time": "2022-01-21T15:03:53.120Z"
   },
   {
    "duration": 240,
    "start_time": "2022-01-21T15:04:53.739Z"
   },
   {
    "duration": 306,
    "start_time": "2022-01-21T15:05:06.089Z"
   },
   {
    "duration": 234,
    "start_time": "2022-01-21T15:05:26.469Z"
   },
   {
    "duration": 4,
    "start_time": "2022-01-21T15:05:32.389Z"
   },
   {
    "duration": 4,
    "start_time": "2022-01-21T15:05:36.348Z"
   },
   {
    "duration": 492,
    "start_time": "2022-01-21T15:07:58.047Z"
   },
   {
    "duration": 14,
    "start_time": "2022-01-21T15:10:09.785Z"
   },
   {
    "duration": 11,
    "start_time": "2022-01-21T15:11:06.473Z"
   },
   {
    "duration": 10,
    "start_time": "2022-01-21T15:11:38.626Z"
   },
   {
    "duration": 51,
    "start_time": "2022-01-21T15:35:49.003Z"
   },
   {
    "duration": 16,
    "start_time": "2022-01-21T15:35:57.953Z"
   },
   {
    "duration": 25,
    "start_time": "2022-01-21T15:42:20.201Z"
   },
   {
    "duration": 22,
    "start_time": "2022-01-21T15:43:03.236Z"
   },
   {
    "duration": 10,
    "start_time": "2022-01-21T15:44:21.521Z"
   },
   {
    "duration": 282,
    "start_time": "2022-01-21T15:50:26.387Z"
   },
   {
    "duration": 10,
    "start_time": "2022-01-21T15:50:45.728Z"
   },
   {
    "duration": 10,
    "start_time": "2022-01-21T15:52:50.379Z"
   },
   {
    "duration": 53,
    "start_time": "2022-01-21T15:54:14.820Z"
   },
   {
    "duration": 365,
    "start_time": "2022-01-21T15:54:31.414Z"
   },
   {
    "duration": 11,
    "start_time": "2022-01-21T15:54:34.717Z"
   },
   {
    "duration": 12,
    "start_time": "2022-01-21T15:55:02.366Z"
   },
   {
    "duration": 31,
    "start_time": "2022-01-21T15:55:44.025Z"
   },
   {
    "duration": 38,
    "start_time": "2022-01-21T15:57:13.715Z"
   },
   {
    "duration": 57,
    "start_time": "2022-01-21T15:57:25.133Z"
   },
   {
    "duration": 13848,
    "start_time": "2022-01-21T15:57:51.658Z"
   },
   {
    "duration": -1303,
    "start_time": "2022-01-21T15:58:06.814Z"
   },
   {
    "duration": -1309,
    "start_time": "2022-01-21T15:58:06.821Z"
   },
   {
    "duration": 30,
    "start_time": "2022-01-21T15:58:07.160Z"
   },
   {
    "duration": 40,
    "start_time": "2022-01-21T15:58:10.957Z"
   },
   {
    "duration": 54,
    "start_time": "2022-01-21T15:59:21.368Z"
   },
   {
    "duration": 38,
    "start_time": "2022-01-21T15:59:25.128Z"
   },
   {
    "duration": 293,
    "start_time": "2022-01-22T14:51:54.769Z"
   },
   {
    "duration": 1312,
    "start_time": "2022-01-22T14:52:01.690Z"
   },
   {
    "duration": 37,
    "start_time": "2022-01-22T14:52:03.004Z"
   },
   {
    "duration": 25,
    "start_time": "2022-01-22T14:52:03.043Z"
   },
   {
    "duration": 13,
    "start_time": "2022-01-22T14:52:03.070Z"
   },
   {
    "duration": 9,
    "start_time": "2022-01-22T14:52:03.084Z"
   },
   {
    "duration": 21,
    "start_time": "2022-01-22T14:52:03.095Z"
   },
   {
    "duration": 45,
    "start_time": "2022-01-22T14:52:03.117Z"
   },
   {
    "duration": 10,
    "start_time": "2022-01-22T14:52:03.165Z"
   },
   {
    "duration": 6,
    "start_time": "2022-01-22T14:52:03.178Z"
   },
   {
    "duration": 9,
    "start_time": "2022-01-22T14:52:03.186Z"
   },
   {
    "duration": 6,
    "start_time": "2022-01-22T14:52:03.196Z"
   },
   {
    "duration": 9,
    "start_time": "2022-01-22T14:52:03.204Z"
   },
   {
    "duration": 9,
    "start_time": "2022-01-22T14:52:03.214Z"
   },
   {
    "duration": 39,
    "start_time": "2022-01-22T14:52:03.224Z"
   },
   {
    "duration": 7,
    "start_time": "2022-01-22T14:52:03.264Z"
   },
   {
    "duration": 7,
    "start_time": "2022-01-22T14:52:03.272Z"
   },
   {
    "duration": 13,
    "start_time": "2022-01-22T14:52:03.281Z"
   },
   {
    "duration": 12,
    "start_time": "2022-01-22T14:52:03.295Z"
   },
   {
    "duration": 10,
    "start_time": "2022-01-22T14:52:03.309Z"
   },
   {
    "duration": 10,
    "start_time": "2022-01-22T14:52:03.321Z"
   },
   {
    "duration": 7,
    "start_time": "2022-01-22T14:52:03.332Z"
   },
   {
    "duration": 21,
    "start_time": "2022-01-22T14:52:03.341Z"
   },
   {
    "duration": 6,
    "start_time": "2022-01-22T14:52:03.365Z"
   },
   {
    "duration": 6,
    "start_time": "2022-01-22T14:52:03.373Z"
   },
   {
    "duration": 4,
    "start_time": "2022-01-22T14:52:03.381Z"
   },
   {
    "duration": 6,
    "start_time": "2022-01-22T14:52:03.387Z"
   },
   {
    "duration": 9,
    "start_time": "2022-01-22T14:52:03.395Z"
   },
   {
    "duration": 6,
    "start_time": "2022-01-22T14:52:03.406Z"
   },
   {
    "duration": 7,
    "start_time": "2022-01-22T14:52:03.413Z"
   },
   {
    "duration": 43,
    "start_time": "2022-01-22T14:52:03.421Z"
   },
   {
    "duration": 12,
    "start_time": "2022-01-22T14:52:03.465Z"
   },
   {
    "duration": 10,
    "start_time": "2022-01-22T14:52:03.479Z"
   },
   {
    "duration": 5,
    "start_time": "2022-01-22T14:52:03.490Z"
   },
   {
    "duration": 5,
    "start_time": "2022-01-22T14:52:03.496Z"
   },
   {
    "duration": 13,
    "start_time": "2022-01-22T14:52:03.502Z"
   },
   {
    "duration": 3,
    "start_time": "2022-01-22T14:52:03.517Z"
   },
   {
    "duration": 6,
    "start_time": "2022-01-22T14:52:03.522Z"
   },
   {
    "duration": 8,
    "start_time": "2022-01-22T14:52:03.529Z"
   },
   {
    "duration": 3,
    "start_time": "2022-01-22T14:52:03.560Z"
   },
   {
    "duration": 5,
    "start_time": "2022-01-22T14:52:03.564Z"
   },
   {
    "duration": 32,
    "start_time": "2022-01-22T14:52:03.571Z"
   },
   {
    "duration": 2,
    "start_time": "2022-01-22T14:52:03.605Z"
   },
   {
    "duration": 5,
    "start_time": "2022-01-22T14:52:03.608Z"
   },
   {
    "duration": 20,
    "start_time": "2022-01-22T14:52:03.614Z"
   },
   {
    "duration": 24,
    "start_time": "2022-01-22T14:52:03.636Z"
   },
   {
    "duration": 26,
    "start_time": "2022-01-22T14:52:03.662Z"
   },
   {
    "duration": 29,
    "start_time": "2022-01-22T14:52:03.689Z"
   },
   {
    "duration": 23,
    "start_time": "2022-01-22T14:52:03.719Z"
   },
   {
    "duration": 31,
    "start_time": "2022-01-22T14:52:03.744Z"
   },
   {
    "duration": 28,
    "start_time": "2022-01-22T14:52:03.777Z"
   },
   {
    "duration": 19,
    "start_time": "2022-01-22T14:52:03.806Z"
   },
   {
    "duration": 21,
    "start_time": "2022-01-22T14:52:03.827Z"
   },
   {
    "duration": 30,
    "start_time": "2022-01-22T14:52:03.850Z"
   },
   {
    "duration": 12,
    "start_time": "2022-01-22T14:52:03.882Z"
   },
   {
    "duration": 22,
    "start_time": "2022-01-22T14:52:03.896Z"
   },
   {
    "duration": 22,
    "start_time": "2022-01-22T14:52:03.919Z"
   },
   {
    "duration": 21,
    "start_time": "2022-01-22T14:52:03.942Z"
   },
   {
    "duration": 30,
    "start_time": "2022-01-22T14:52:03.965Z"
   },
   {
    "duration": 31,
    "start_time": "2022-01-22T14:52:03.996Z"
   },
   {
    "duration": 20,
    "start_time": "2022-01-22T14:52:04.028Z"
   },
   {
    "duration": 52,
    "start_time": "2022-01-22T14:52:04.050Z"
   },
   {
    "duration": 21,
    "start_time": "2022-01-22T14:52:04.104Z"
   },
   {
    "duration": 3,
    "start_time": "2022-01-22T14:52:04.127Z"
   },
   {
    "duration": 23,
    "start_time": "2022-01-22T14:52:04.131Z"
   },
   {
    "duration": 17,
    "start_time": "2022-01-22T14:52:04.156Z"
   },
   {
    "duration": 19,
    "start_time": "2022-01-22T14:52:04.175Z"
   },
   {
    "duration": 100,
    "start_time": "2022-01-22T14:52:04.196Z"
   },
   {
    "duration": 6,
    "start_time": "2022-01-22T14:52:08.131Z"
   },
   {
    "duration": -2010,
    "start_time": "2022-01-22T14:54:25.340Z"
   },
   {
    "duration": -1862,
    "start_time": "2022-01-22T14:54:40.674Z"
   },
   {
    "duration": -1875,
    "start_time": "2022-01-22T14:54:52.330Z"
   },
   {
    "duration": 6772,
    "start_time": "2022-01-22T14:54:53.009Z"
   },
   {
    "duration": -1972,
    "start_time": "2022-01-22T14:55:09.857Z"
   },
   {
    "duration": 6820,
    "start_time": "2022-01-22T14:55:08.582Z"
   },
   {
    "duration": 7,
    "start_time": "2022-01-22T14:55:48.643Z"
   },
   {
    "duration": 275,
    "start_time": "2022-01-22T15:16:57.405Z"
   },
   {
    "duration": 21,
    "start_time": "2022-01-22T15:17:03.586Z"
   },
   {
    "duration": 7,
    "start_time": "2022-01-22T15:21:56.081Z"
   },
   {
    "duration": 19,
    "start_time": "2022-01-22T15:22:35.905Z"
   },
   {
    "duration": 5,
    "start_time": "2022-01-22T15:23:21.259Z"
   },
   {
    "duration": 5,
    "start_time": "2022-01-22T15:26:20.956Z"
   },
   {
    "duration": 5,
    "start_time": "2022-01-22T15:26:37.753Z"
   },
   {
    "duration": 5,
    "start_time": "2022-01-22T15:27:34.110Z"
   },
   {
    "duration": 11,
    "start_time": "2022-01-22T15:39:21.244Z"
   },
   {
    "duration": 11,
    "start_time": "2022-01-22T15:40:42.208Z"
   },
   {
    "duration": 10,
    "start_time": "2022-01-22T15:41:21.148Z"
   },
   {
    "duration": 11,
    "start_time": "2022-01-22T15:42:37.080Z"
   },
   {
    "duration": 466,
    "start_time": "2022-01-22T15:45:12.890Z"
   },
   {
    "duration": 16,
    "start_time": "2022-01-22T15:45:55.405Z"
   },
   {
    "duration": 19,
    "start_time": "2022-01-22T15:47:30.166Z"
   },
   {
    "duration": 11,
    "start_time": "2022-01-22T15:48:24.728Z"
   },
   {
    "duration": 15,
    "start_time": "2022-01-22T15:50:15.922Z"
   },
   {
    "duration": 683,
    "start_time": "2022-01-26T14:09:59.003Z"
   },
   {
    "duration": 40,
    "start_time": "2022-01-26T14:09:59.688Z"
   },
   {
    "duration": 13,
    "start_time": "2022-01-26T14:09:59.731Z"
   },
   {
    "duration": 14,
    "start_time": "2022-01-26T14:09:59.746Z"
   },
   {
    "duration": 10,
    "start_time": "2022-01-26T14:09:59.762Z"
   },
   {
    "duration": 47,
    "start_time": "2022-01-26T14:09:59.774Z"
   },
   {
    "duration": 23,
    "start_time": "2022-01-26T14:09:59.823Z"
   },
   {
    "duration": 13,
    "start_time": "2022-01-26T14:09:59.849Z"
   },
   {
    "duration": 10,
    "start_time": "2022-01-26T14:09:59.864Z"
   },
   {
    "duration": 33,
    "start_time": "2022-01-26T14:09:59.876Z"
   },
   {
    "duration": 8,
    "start_time": "2022-01-26T14:09:59.911Z"
   },
   {
    "duration": 10,
    "start_time": "2022-01-26T14:09:59.921Z"
   },
   {
    "duration": 11,
    "start_time": "2022-01-26T14:09:59.932Z"
   },
   {
    "duration": 16,
    "start_time": "2022-01-26T14:09:59.945Z"
   },
   {
    "duration": 11,
    "start_time": "2022-01-26T14:09:59.962Z"
   },
   {
    "duration": 33,
    "start_time": "2022-01-26T14:09:59.975Z"
   },
   {
    "duration": 14,
    "start_time": "2022-01-26T14:10:00.010Z"
   },
   {
    "duration": 16,
    "start_time": "2022-01-26T14:10:00.025Z"
   },
   {
    "duration": 12,
    "start_time": "2022-01-26T14:10:00.043Z"
   },
   {
    "duration": 20,
    "start_time": "2022-01-26T14:10:00.057Z"
   },
   {
    "duration": 22,
    "start_time": "2022-01-26T14:10:00.079Z"
   },
   {
    "duration": 25,
    "start_time": "2022-01-26T14:10:00.104Z"
   },
   {
    "duration": 24,
    "start_time": "2022-01-26T14:10:00.133Z"
   },
   {
    "duration": 27,
    "start_time": "2022-01-26T14:10:00.159Z"
   },
   {
    "duration": 27,
    "start_time": "2022-01-26T14:10:00.188Z"
   },
   {
    "duration": 21,
    "start_time": "2022-01-26T14:10:00.217Z"
   },
   {
    "duration": 18,
    "start_time": "2022-01-26T14:10:00.239Z"
   },
   {
    "duration": 8,
    "start_time": "2022-01-26T14:10:00.259Z"
   },
   {
    "duration": 14,
    "start_time": "2022-01-26T14:10:00.268Z"
   },
   {
    "duration": 16,
    "start_time": "2022-01-26T14:10:00.284Z"
   },
   {
    "duration": 24,
    "start_time": "2022-01-26T14:10:00.303Z"
   },
   {
    "duration": 14,
    "start_time": "2022-01-26T14:10:00.329Z"
   },
   {
    "duration": 10,
    "start_time": "2022-01-26T14:10:00.345Z"
   },
   {
    "duration": 16,
    "start_time": "2022-01-26T14:10:00.357Z"
   },
   {
    "duration": 19,
    "start_time": "2022-01-26T14:10:00.375Z"
   },
   {
    "duration": 37,
    "start_time": "2022-01-26T14:10:00.396Z"
   },
   {
    "duration": 9,
    "start_time": "2022-01-26T14:10:00.435Z"
   },
   {
    "duration": 26,
    "start_time": "2022-01-26T14:10:00.446Z"
   },
   {
    "duration": 28,
    "start_time": "2022-01-26T14:10:00.474Z"
   },
   {
    "duration": 33,
    "start_time": "2022-01-26T14:10:00.504Z"
   },
   {
    "duration": 54,
    "start_time": "2022-01-26T14:10:00.539Z"
   },
   {
    "duration": 37,
    "start_time": "2022-01-26T14:10:31.963Z"
   },
   {
    "duration": 32,
    "start_time": "2022-01-26T14:11:42.099Z"
   },
   {
    "duration": 47,
    "start_time": "2022-01-26T14:12:28.821Z"
   },
   {
    "duration": 33,
    "start_time": "2022-01-26T14:12:28.870Z"
   },
   {
    "duration": 14,
    "start_time": "2022-01-26T14:12:28.905Z"
   },
   {
    "duration": 17,
    "start_time": "2022-01-26T14:12:28.921Z"
   },
   {
    "duration": 10,
    "start_time": "2022-01-26T14:12:28.940Z"
   },
   {
    "duration": 57,
    "start_time": "2022-01-26T14:12:28.952Z"
   },
   {
    "duration": 25,
    "start_time": "2022-01-26T14:12:29.011Z"
   },
   {
    "duration": 11,
    "start_time": "2022-01-26T14:12:29.039Z"
   },
   {
    "duration": 11,
    "start_time": "2022-01-26T14:12:29.052Z"
   },
   {
    "duration": 45,
    "start_time": "2022-01-26T14:12:29.064Z"
   },
   {
    "duration": 14,
    "start_time": "2022-01-26T14:12:29.111Z"
   },
   {
    "duration": 12,
    "start_time": "2022-01-26T14:12:29.127Z"
   },
   {
    "duration": 12,
    "start_time": "2022-01-26T14:12:29.141Z"
   },
   {
    "duration": 13,
    "start_time": "2022-01-26T14:12:29.155Z"
   },
   {
    "duration": 15,
    "start_time": "2022-01-26T14:12:29.169Z"
   },
   {
    "duration": 25,
    "start_time": "2022-01-26T14:12:29.186Z"
   },
   {
    "duration": 19,
    "start_time": "2022-01-26T14:12:29.213Z"
   },
   {
    "duration": 18,
    "start_time": "2022-01-26T14:12:29.234Z"
   },
   {
    "duration": 13,
    "start_time": "2022-01-26T14:12:29.254Z"
   },
   {
    "duration": 23,
    "start_time": "2022-01-26T14:12:29.269Z"
   },
   {
    "duration": 26,
    "start_time": "2022-01-26T14:12:29.294Z"
   },
   {
    "duration": 16,
    "start_time": "2022-01-26T14:12:29.322Z"
   },
   {
    "duration": 14,
    "start_time": "2022-01-26T14:12:29.342Z"
   },
   {
    "duration": 10,
    "start_time": "2022-01-26T14:12:29.358Z"
   },
   {
    "duration": 17,
    "start_time": "2022-01-26T14:12:29.370Z"
   },
   {
    "duration": 15,
    "start_time": "2022-01-26T14:12:29.389Z"
   },
   {
    "duration": 19,
    "start_time": "2022-01-26T14:12:29.406Z"
   },
   {
    "duration": 14,
    "start_time": "2022-01-26T14:12:29.427Z"
   },
   {
    "duration": 12,
    "start_time": "2022-01-26T14:12:29.443Z"
   },
   {
    "duration": 12,
    "start_time": "2022-01-26T14:12:29.456Z"
   },
   {
    "duration": 14,
    "start_time": "2022-01-26T14:12:29.470Z"
   },
   {
    "duration": 13,
    "start_time": "2022-01-26T14:12:29.486Z"
   },
   {
    "duration": 8,
    "start_time": "2022-01-26T14:12:29.501Z"
   },
   {
    "duration": 15,
    "start_time": "2022-01-26T14:12:29.511Z"
   },
   {
    "duration": 20,
    "start_time": "2022-01-26T14:12:29.528Z"
   },
   {
    "duration": 37,
    "start_time": "2022-01-26T14:12:29.550Z"
   },
   {
    "duration": 32,
    "start_time": "2022-01-26T14:12:29.589Z"
   },
   {
    "duration": 12,
    "start_time": "2022-01-26T14:12:29.623Z"
   },
   {
    "duration": 7,
    "start_time": "2022-01-26T14:12:29.637Z"
   },
   {
    "duration": 13,
    "start_time": "2022-01-26T14:12:29.645Z"
   },
   {
    "duration": 41,
    "start_time": "2022-01-26T14:12:29.660Z"
   },
   {
    "duration": 38,
    "start_time": "2022-01-26T14:12:29.704Z"
   },
   {
    "duration": 32,
    "start_time": "2022-01-26T14:12:29.744Z"
   },
   {
    "duration": 41,
    "start_time": "2022-01-26T14:12:29.778Z"
   },
   {
    "duration": 3,
    "start_time": "2022-01-26T14:12:29.820Z"
   },
   {
    "duration": 9,
    "start_time": "2022-01-26T14:12:29.825Z"
   },
   {
    "duration": 19,
    "start_time": "2022-01-26T14:12:29.836Z"
   },
   {
    "duration": 32,
    "start_time": "2022-01-26T14:12:29.857Z"
   },
   {
    "duration": 14,
    "start_time": "2022-01-26T14:12:29.891Z"
   },
   {
    "duration": 9,
    "start_time": "2022-01-26T14:12:29.907Z"
   },
   {
    "duration": 10,
    "start_time": "2022-01-26T14:12:29.918Z"
   },
   {
    "duration": 8,
    "start_time": "2022-01-26T14:12:29.930Z"
   },
   {
    "duration": 25,
    "start_time": "2022-01-26T14:12:29.940Z"
   },
   {
    "duration": 9,
    "start_time": "2022-01-26T14:12:29.967Z"
   },
   {
    "duration": 4,
    "start_time": "2022-01-26T14:12:29.978Z"
   },
   {
    "duration": 12,
    "start_time": "2022-01-26T14:12:29.983Z"
   },
   {
    "duration": 14,
    "start_time": "2022-01-26T14:12:29.997Z"
   },
   {
    "duration": 26,
    "start_time": "2022-01-26T14:12:30.013Z"
   },
   {
    "duration": 24,
    "start_time": "2022-01-26T14:12:30.041Z"
   },
   {
    "duration": 7,
    "start_time": "2022-01-26T14:12:30.068Z"
   },
   {
    "duration": 46,
    "start_time": "2022-01-26T14:12:30.076Z"
   },
   {
    "duration": 26,
    "start_time": "2022-01-26T14:12:30.124Z"
   },
   {
    "duration": 2,
    "start_time": "2022-01-26T14:12:30.152Z"
   },
   {
    "duration": 13,
    "start_time": "2022-01-26T14:12:30.156Z"
   },
   {
    "duration": 10,
    "start_time": "2022-01-26T14:12:30.171Z"
   },
   {
    "duration": 12,
    "start_time": "2022-01-26T14:12:30.184Z"
   },
   {
    "duration": 20,
    "start_time": "2022-01-26T14:12:30.197Z"
   },
   {
    "duration": 18,
    "start_time": "2022-01-26T14:12:30.222Z"
   },
   {
    "duration": 16,
    "start_time": "2022-01-26T14:12:30.242Z"
   },
   {
    "duration": 59,
    "start_time": "2022-01-26T14:12:30.260Z"
   },
   {
    "duration": 7,
    "start_time": "2022-01-26T14:12:30.321Z"
   },
   {
    "duration": 8,
    "start_time": "2022-01-26T14:12:30.330Z"
   },
   {
    "duration": 135,
    "start_time": "2022-01-26T14:12:30.340Z"
   },
   {
    "duration": -1742,
    "start_time": "2022-01-26T14:12:32.219Z"
   },
   {
    "duration": -1746,
    "start_time": "2022-01-26T14:12:32.224Z"
   },
   {
    "duration": -1750,
    "start_time": "2022-01-26T14:12:32.229Z"
   },
   {
    "duration": -1786,
    "start_time": "2022-01-26T14:12:32.266Z"
   },
   {
    "duration": -1794,
    "start_time": "2022-01-26T14:12:32.275Z"
   },
   {
    "duration": -1810,
    "start_time": "2022-01-26T14:12:32.293Z"
   },
   {
    "duration": -1827,
    "start_time": "2022-01-26T14:12:32.311Z"
   },
   {
    "duration": 71,
    "start_time": "2022-01-26T14:13:16.374Z"
   },
   {
    "duration": 41,
    "start_time": "2022-01-26T14:13:23.729Z"
   },
   {
    "duration": 22,
    "start_time": "2022-01-26T14:13:48.401Z"
   },
   {
    "duration": 45,
    "start_time": "2022-01-26T14:14:22.999Z"
   },
   {
    "duration": 332,
    "start_time": "2022-01-26T14:14:59.014Z"
   },
   {
    "duration": 31,
    "start_time": "2022-01-26T14:15:08.987Z"
   },
   {
    "duration": 25,
    "start_time": "2022-01-26T14:15:13.599Z"
   },
   {
    "duration": 22,
    "start_time": "2022-01-26T14:18:11.349Z"
   },
   {
    "duration": 5,
    "start_time": "2022-01-26T14:23:59.229Z"
   },
   {
    "duration": 12,
    "start_time": "2022-01-26T14:24:02.611Z"
   },
   {
    "duration": 8,
    "start_time": "2022-01-26T14:49:19.839Z"
   },
   {
    "duration": 6,
    "start_time": "2022-01-26T14:50:31.033Z"
   },
   {
    "duration": 6629,
    "start_time": "2022-01-26T14:51:09.108Z"
   },
   {
    "duration": 9,
    "start_time": "2022-01-26T14:51:31.758Z"
   },
   {
    "duration": 34,
    "start_time": "2022-01-26T14:51:57.500Z"
   },
   {
    "duration": 10,
    "start_time": "2022-01-26T14:52:52.147Z"
   },
   {
    "duration": 12,
    "start_time": "2022-01-26T14:53:17.225Z"
   },
   {
    "duration": 42,
    "start_time": "2022-01-26T14:54:17.215Z"
   },
   {
    "duration": 5,
    "start_time": "2022-01-26T15:01:54.689Z"
   },
   {
    "duration": 49,
    "start_time": "2022-01-26T15:03:38.278Z"
   },
   {
    "duration": 37,
    "start_time": "2022-01-26T15:03:38.329Z"
   },
   {
    "duration": 43,
    "start_time": "2022-01-26T15:03:38.368Z"
   },
   {
    "duration": 14,
    "start_time": "2022-01-26T15:03:38.414Z"
   },
   {
    "duration": 12,
    "start_time": "2022-01-26T15:03:38.431Z"
   },
   {
    "duration": 25,
    "start_time": "2022-01-26T15:03:38.445Z"
   },
   {
    "duration": 58,
    "start_time": "2022-01-26T15:03:38.472Z"
   },
   {
    "duration": 13,
    "start_time": "2022-01-26T15:03:38.532Z"
   },
   {
    "duration": 9,
    "start_time": "2022-01-26T15:03:38.549Z"
   },
   {
    "duration": 53,
    "start_time": "2022-01-26T15:03:38.561Z"
   },
   {
    "duration": 27,
    "start_time": "2022-01-26T15:03:38.616Z"
   },
   {
    "duration": 10,
    "start_time": "2022-01-26T15:03:38.645Z"
   },
   {
    "duration": 15,
    "start_time": "2022-01-26T15:03:38.656Z"
   },
   {
    "duration": 10,
    "start_time": "2022-01-26T15:03:38.673Z"
   },
   {
    "duration": 21,
    "start_time": "2022-01-26T15:03:38.685Z"
   },
   {
    "duration": 4,
    "start_time": "2022-01-26T15:03:38.709Z"
   },
   {
    "duration": 14,
    "start_time": "2022-01-26T15:03:38.715Z"
   },
   {
    "duration": 19,
    "start_time": "2022-01-26T15:03:38.730Z"
   },
   {
    "duration": 10,
    "start_time": "2022-01-26T15:03:38.751Z"
   },
   {
    "duration": 9,
    "start_time": "2022-01-26T15:03:38.763Z"
   },
   {
    "duration": 34,
    "start_time": "2022-01-26T15:03:38.774Z"
   },
   {
    "duration": 6,
    "start_time": "2022-01-26T15:03:38.810Z"
   },
   {
    "duration": 9,
    "start_time": "2022-01-26T15:03:38.817Z"
   },
   {
    "duration": 10,
    "start_time": "2022-01-26T15:03:38.828Z"
   },
   {
    "duration": 13,
    "start_time": "2022-01-26T15:03:38.839Z"
   },
   {
    "duration": 15,
    "start_time": "2022-01-26T15:03:38.854Z"
   },
   {
    "duration": 13,
    "start_time": "2022-01-26T15:03:38.873Z"
   },
   {
    "duration": 23,
    "start_time": "2022-01-26T15:03:38.889Z"
   },
   {
    "duration": 7,
    "start_time": "2022-01-26T15:03:38.914Z"
   },
   {
    "duration": 14,
    "start_time": "2022-01-26T15:03:38.922Z"
   },
   {
    "duration": 9,
    "start_time": "2022-01-26T15:03:38.938Z"
   },
   {
    "duration": 12,
    "start_time": "2022-01-26T15:03:38.949Z"
   },
   {
    "duration": 8,
    "start_time": "2022-01-26T15:03:38.962Z"
   },
   {
    "duration": 9,
    "start_time": "2022-01-26T15:03:38.971Z"
   },
   {
    "duration": 25,
    "start_time": "2022-01-26T15:03:38.982Z"
   },
   {
    "duration": 3,
    "start_time": "2022-01-26T15:03:39.009Z"
   },
   {
    "duration": 11,
    "start_time": "2022-01-26T15:03:39.013Z"
   },
   {
    "duration": 15,
    "start_time": "2022-01-26T15:03:39.026Z"
   },
   {
    "duration": 9,
    "start_time": "2022-01-26T15:03:39.043Z"
   },
   {
    "duration": 11,
    "start_time": "2022-01-26T15:03:39.054Z"
   },
   {
    "duration": 41,
    "start_time": "2022-01-26T15:03:39.067Z"
   },
   {
    "duration": 17,
    "start_time": "2022-01-26T15:03:39.111Z"
   },
   {
    "duration": 22,
    "start_time": "2022-01-26T15:03:39.130Z"
   },
   {
    "duration": 18,
    "start_time": "2022-01-26T15:03:39.154Z"
   },
   {
    "duration": 3,
    "start_time": "2022-01-26T15:03:39.174Z"
   },
   {
    "duration": 7,
    "start_time": "2022-01-26T15:03:39.208Z"
   },
   {
    "duration": 13,
    "start_time": "2022-01-26T15:03:39.217Z"
   },
   {
    "duration": 13,
    "start_time": "2022-01-26T15:03:39.232Z"
   },
   {
    "duration": 20,
    "start_time": "2022-01-26T15:03:39.247Z"
   },
   {
    "duration": 26,
    "start_time": "2022-01-26T15:03:39.269Z"
   },
   {
    "duration": 20,
    "start_time": "2022-01-26T15:03:39.297Z"
   },
   {
    "duration": 23,
    "start_time": "2022-01-26T15:03:39.320Z"
   },
   {
    "duration": 22,
    "start_time": "2022-01-26T15:03:39.345Z"
   },
   {
    "duration": 8,
    "start_time": "2022-01-26T15:03:39.369Z"
   },
   {
    "duration": 59,
    "start_time": "2022-01-26T15:03:39.379Z"
   },
   {
    "duration": 28,
    "start_time": "2022-01-26T15:03:39.440Z"
   },
   {
    "duration": 9,
    "start_time": "2022-01-26T15:03:39.470Z"
   },
   {
    "duration": 5,
    "start_time": "2022-01-26T15:03:50.814Z"
   },
   {
    "duration": 6,
    "start_time": "2022-01-26T15:04:38.681Z"
   },
   {
    "duration": 260,
    "start_time": "2022-01-26T15:05:06.133Z"
   },
   {
    "duration": 258,
    "start_time": "2022-01-26T15:05:19.662Z"
   },
   {
    "duration": 357,
    "start_time": "2022-01-26T16:57:52.286Z"
   },
   {
    "duration": 959,
    "start_time": "2022-01-26T16:58:02.031Z"
   },
   {
    "duration": 36,
    "start_time": "2022-01-26T16:58:02.992Z"
   },
   {
    "duration": 439,
    "start_time": "2022-01-26T16:58:03.030Z"
   },
   {
    "duration": 430,
    "start_time": "2022-01-26T16:58:03.471Z"
   },
   {
    "duration": 374,
    "start_time": "2022-01-26T16:58:03.903Z"
   },
   {
    "duration": 612,
    "start_time": "2022-01-26T16:58:04.279Z"
   },
   {
    "duration": 414,
    "start_time": "2022-01-26T16:58:04.894Z"
   },
   {
    "duration": 111,
    "start_time": "2022-01-26T16:58:05.310Z"
   },
   {
    "duration": 750,
    "start_time": "2022-01-26T16:58:05.423Z"
   },
   {
    "duration": 858,
    "start_time": "2022-01-26T16:58:06.175Z"
   },
   {
    "duration": 691,
    "start_time": "2022-01-26T16:58:07.034Z"
   },
   {
    "duration": 1031,
    "start_time": "2022-01-26T16:58:07.727Z"
   },
   {
    "duration": 1006,
    "start_time": "2022-01-26T16:58:08.759Z"
   },
   {
    "duration": 918,
    "start_time": "2022-01-26T16:58:09.767Z"
   },
   {
    "duration": 565,
    "start_time": "2022-01-26T16:58:10.687Z"
   },
   {
    "duration": 808,
    "start_time": "2022-01-26T16:58:11.254Z"
   },
   {
    "duration": 595,
    "start_time": "2022-01-26T16:58:12.063Z"
   },
   {
    "duration": 687,
    "start_time": "2022-01-26T16:58:12.659Z"
   },
   {
    "duration": 630,
    "start_time": "2022-01-26T16:58:13.347Z"
   },
   {
    "duration": 952,
    "start_time": "2022-01-26T16:58:13.978Z"
   },
   {
    "duration": 1396,
    "start_time": "2022-01-26T16:58:14.932Z"
   },
   {
    "duration": 1942,
    "start_time": "2022-01-26T16:58:16.330Z"
   },
   {
    "duration": 1348,
    "start_time": "2022-01-26T16:58:18.276Z"
   },
   {
    "duration": 1832,
    "start_time": "2022-01-26T16:58:19.627Z"
   },
   {
    "duration": 1449,
    "start_time": "2022-01-26T16:58:21.461Z"
   },
   {
    "duration": 1180,
    "start_time": "2022-01-26T16:58:22.912Z"
   },
   {
    "duration": 976,
    "start_time": "2022-01-26T16:58:24.094Z"
   },
   {
    "duration": 1159,
    "start_time": "2022-01-26T16:58:25.072Z"
   },
   {
    "duration": 955,
    "start_time": "2022-01-26T16:58:26.233Z"
   },
   {
    "duration": 1624,
    "start_time": "2022-01-26T16:58:27.189Z"
   },
   {
    "duration": 969,
    "start_time": "2022-01-26T16:58:28.815Z"
   },
   {
    "duration": 971,
    "start_time": "2022-01-26T16:58:29.786Z"
   },
   {
    "duration": 848,
    "start_time": "2022-01-26T16:58:30.758Z"
   },
   {
    "duration": 1272,
    "start_time": "2022-01-26T16:58:31.608Z"
   },
   {
    "duration": 1321,
    "start_time": "2022-01-26T16:58:32.882Z"
   },
   {
    "duration": 773,
    "start_time": "2022-01-26T16:58:34.204Z"
   },
   {
    "duration": 744,
    "start_time": "2022-01-26T16:58:34.978Z"
   },
   {
    "duration": 866,
    "start_time": "2022-01-26T16:58:35.723Z"
   },
   {
    "duration": 80,
    "start_time": "2022-01-26T16:58:36.590Z"
   },
   {
    "duration": 85,
    "start_time": "2022-01-26T16:58:36.672Z"
   },
   {
    "duration": 134,
    "start_time": "2022-01-26T16:58:36.759Z"
   },
   {
    "duration": 32,
    "start_time": "2022-01-26T16:58:36.895Z"
   },
   {
    "duration": 21,
    "start_time": "2022-01-26T16:58:36.929Z"
   },
   {
    "duration": 26,
    "start_time": "2022-01-26T16:58:36.951Z"
   },
   {
    "duration": 53,
    "start_time": "2022-01-26T16:58:36.978Z"
   },
   {
    "duration": 25,
    "start_time": "2022-01-26T16:58:37.033Z"
   },
   {
    "duration": 35,
    "start_time": "2022-01-26T16:58:37.060Z"
   },
   {
    "duration": 16,
    "start_time": "2022-01-26T16:58:37.097Z"
   },
   {
    "duration": 33,
    "start_time": "2022-01-26T16:58:37.115Z"
   },
   {
    "duration": 31,
    "start_time": "2022-01-26T16:58:37.150Z"
   },
   {
    "duration": 939,
    "start_time": "2022-01-26T16:58:37.183Z"
   },
   {
    "duration": 125,
    "start_time": "2022-01-26T16:58:38.123Z"
   },
   {
    "duration": 65,
    "start_time": "2022-01-26T16:58:38.250Z"
   },
   {
    "duration": 90,
    "start_time": "2022-01-26T16:58:38.316Z"
   },
   {
    "duration": 42,
    "start_time": "2022-01-26T16:58:38.408Z"
   },
   {
    "duration": 20,
    "start_time": "2022-01-26T16:58:38.452Z"
   },
   {
    "duration": 11,
    "start_time": "2022-01-26T16:58:38.483Z"
   },
   {
    "duration": 24,
    "start_time": "2022-01-26T16:58:58.357Z"
   },
   {
    "duration": 11,
    "start_time": "2022-01-26T18:19:56.688Z"
   },
   {
    "duration": 7,
    "start_time": "2022-01-26T19:27:21.551Z"
   },
   {
    "duration": 4,
    "start_time": "2022-01-26T19:33:24.888Z"
   },
   {
    "duration": 336,
    "start_time": "2022-01-26T19:33:45.766Z"
   },
   {
    "duration": 291,
    "start_time": "2022-01-26T19:34:37.610Z"
   },
   {
    "duration": 314,
    "start_time": "2022-01-26T19:34:58.026Z"
   },
   {
    "duration": -1209,
    "start_time": "2022-01-26T19:36:06.806Z"
   },
   {
    "duration": -1214,
    "start_time": "2022-01-26T19:36:06.813Z"
   },
   {
    "duration": 12,
    "start_time": "2022-01-26T19:36:17.166Z"
   },
   {
    "duration": 9450,
    "start_time": "2022-01-26T19:36:28.245Z"
   },
   {
    "duration": 6,
    "start_time": "2022-01-26T19:37:41.291Z"
   },
   {
    "duration": 4,
    "start_time": "2022-01-26T19:37:52.876Z"
   },
   {
    "duration": 315,
    "start_time": "2022-01-26T19:38:25.687Z"
   },
   {
    "duration": 3,
    "start_time": "2022-01-26T19:40:18.941Z"
   },
   {
    "duration": 2692,
    "start_time": "2022-01-26T19:41:15.404Z"
   },
   {
    "duration": 10,
    "start_time": "2022-01-26T19:41:45.197Z"
   },
   {
    "duration": 10,
    "start_time": "2022-01-26T19:41:58.076Z"
   },
   {
    "duration": 355,
    "start_time": "2022-01-27T05:24:16.553Z"
   },
   {
    "duration": 830,
    "start_time": "2022-01-27T05:24:23.470Z"
   },
   {
    "duration": 54,
    "start_time": "2022-01-27T05:24:24.302Z"
   },
   {
    "duration": 18,
    "start_time": "2022-01-27T05:24:24.369Z"
   },
   {
    "duration": 16,
    "start_time": "2022-01-27T05:24:24.390Z"
   },
   {
    "duration": 12,
    "start_time": "2022-01-27T05:24:24.408Z"
   },
   {
    "duration": 67,
    "start_time": "2022-01-27T05:24:24.422Z"
   },
   {
    "duration": 34,
    "start_time": "2022-01-27T05:24:24.492Z"
   },
   {
    "duration": 19,
    "start_time": "2022-01-27T05:24:24.529Z"
   },
   {
    "duration": 11,
    "start_time": "2022-01-27T05:24:24.570Z"
   },
   {
    "duration": 15,
    "start_time": "2022-01-27T05:24:24.583Z"
   },
   {
    "duration": 9,
    "start_time": "2022-01-27T05:24:24.600Z"
   },
   {
    "duration": 10,
    "start_time": "2022-01-27T05:24:24.611Z"
   },
   {
    "duration": 51,
    "start_time": "2022-01-27T05:24:24.623Z"
   },
   {
    "duration": 11,
    "start_time": "2022-01-27T05:24:24.677Z"
   },
   {
    "duration": 12,
    "start_time": "2022-01-27T05:24:24.691Z"
   },
   {
    "duration": 8,
    "start_time": "2022-01-27T05:24:24.705Z"
   },
   {
    "duration": 68,
    "start_time": "2022-01-27T05:24:24.716Z"
   },
   {
    "duration": 13,
    "start_time": "2022-01-27T05:24:24.787Z"
   },
   {
    "duration": 10,
    "start_time": "2022-01-27T05:24:24.804Z"
   },
   {
    "duration": 10,
    "start_time": "2022-01-27T05:24:24.817Z"
   },
   {
    "duration": 46,
    "start_time": "2022-01-27T05:24:24.829Z"
   },
   {
    "duration": 6,
    "start_time": "2022-01-27T05:24:24.877Z"
   },
   {
    "duration": 11,
    "start_time": "2022-01-27T05:24:24.889Z"
   },
   {
    "duration": 11,
    "start_time": "2022-01-27T05:24:24.904Z"
   },
   {
    "duration": 7,
    "start_time": "2022-01-27T05:24:24.917Z"
   },
   {
    "duration": 5,
    "start_time": "2022-01-27T05:24:24.969Z"
   },
   {
    "duration": 12,
    "start_time": "2022-01-27T05:24:24.976Z"
   },
   {
    "duration": 8,
    "start_time": "2022-01-27T05:24:24.990Z"
   },
   {
    "duration": 9,
    "start_time": "2022-01-27T05:24:25.000Z"
   },
   {
    "duration": 6,
    "start_time": "2022-01-27T05:24:25.012Z"
   },
   {
    "duration": 53,
    "start_time": "2022-01-27T05:24:25.021Z"
   },
   {
    "duration": 9,
    "start_time": "2022-01-27T05:24:25.076Z"
   },
   {
    "duration": 5,
    "start_time": "2022-01-27T05:24:25.088Z"
   },
   {
    "duration": 6,
    "start_time": "2022-01-27T05:24:25.095Z"
   },
   {
    "duration": 12,
    "start_time": "2022-01-27T05:24:25.103Z"
   },
   {
    "duration": 3,
    "start_time": "2022-01-27T05:24:25.118Z"
   },
   {
    "duration": 5,
    "start_time": "2022-01-27T05:24:25.123Z"
   },
   {
    "duration": 9,
    "start_time": "2022-01-27T05:24:25.170Z"
   },
   {
    "duration": 5,
    "start_time": "2022-01-27T05:24:25.181Z"
   },
   {
    "duration": 5,
    "start_time": "2022-01-27T05:24:25.188Z"
   },
   {
    "duration": 77,
    "start_time": "2022-01-27T05:24:25.195Z"
   },
   {
    "duration": 22,
    "start_time": "2022-01-27T05:24:25.275Z"
   },
   {
    "duration": 28,
    "start_time": "2022-01-27T05:24:25.300Z"
   },
   {
    "duration": 52,
    "start_time": "2022-01-27T05:24:25.331Z"
   },
   {
    "duration": 3,
    "start_time": "2022-01-27T05:24:25.386Z"
   },
   {
    "duration": 6,
    "start_time": "2022-01-27T05:24:25.391Z"
   },
   {
    "duration": 19,
    "start_time": "2022-01-27T05:24:25.400Z"
   },
   {
    "duration": 14,
    "start_time": "2022-01-27T05:24:25.422Z"
   },
   {
    "duration": 38,
    "start_time": "2022-01-27T05:24:25.438Z"
   },
   {
    "duration": 30,
    "start_time": "2022-01-27T05:24:25.478Z"
   },
   {
    "duration": 12,
    "start_time": "2022-01-27T05:24:25.510Z"
   },
   {
    "duration": 15,
    "start_time": "2022-01-27T05:24:25.525Z"
   },
   {
    "duration": 21,
    "start_time": "2022-01-27T05:24:25.569Z"
   },
   {
    "duration": 8,
    "start_time": "2022-01-27T05:24:25.592Z"
   },
   {
    "duration": 80,
    "start_time": "2022-01-27T05:24:25.602Z"
   },
   {
    "duration": 36,
    "start_time": "2022-01-27T05:24:25.684Z"
   },
   {
    "duration": 7,
    "start_time": "2022-01-27T05:24:25.723Z"
   },
   {
    "duration": 5,
    "start_time": "2022-01-27T05:24:25.733Z"
   },
   {
    "duration": 3,
    "start_time": "2022-01-27T05:24:25.770Z"
   },
   {
    "duration": 17,
    "start_time": "2022-01-27T05:24:25.776Z"
   },
   {
    "duration": 107,
    "start_time": "2022-01-27T05:24:25.795Z"
   },
   {
    "duration": -2343,
    "start_time": "2022-01-27T05:24:28.247Z"
   },
   {
    "duration": -2351,
    "start_time": "2022-01-27T05:24:28.256Z"
   },
   {
    "duration": -2358,
    "start_time": "2022-01-27T05:24:28.264Z"
   },
   {
    "duration": -2363,
    "start_time": "2022-01-27T05:24:28.271Z"
   },
   {
    "duration": -2370,
    "start_time": "2022-01-27T05:24:28.279Z"
   },
   {
    "duration": -2377,
    "start_time": "2022-01-27T05:24:28.287Z"
   },
   {
    "duration": 7,
    "start_time": "2022-01-27T05:24:28.750Z"
   },
   {
    "duration": 320,
    "start_time": "2022-01-27T05:24:44.184Z"
   },
   {
    "duration": 7,
    "start_time": "2022-01-27T05:25:13.682Z"
   },
   {
    "duration": 7,
    "start_time": "2022-01-27T05:25:43.117Z"
   },
   {
    "duration": 314,
    "start_time": "2022-01-27T05:26:04.229Z"
   },
   {
    "duration": 313,
    "start_time": "2022-01-27T05:26:09.754Z"
   },
   {
    "duration": 11,
    "start_time": "2022-01-27T05:26:13.582Z"
   },
   {
    "duration": 5,
    "start_time": "2022-01-27T05:28:50.768Z"
   },
   {
    "duration": 14,
    "start_time": "2022-01-27T05:29:09.631Z"
   },
   {
    "duration": 13,
    "start_time": "2022-01-27T05:29:18.580Z"
   },
   {
    "duration": 10,
    "start_time": "2022-01-27T05:30:05.610Z"
   },
   {
    "duration": 4,
    "start_time": "2022-01-27T05:30:45.045Z"
   },
   {
    "duration": 13,
    "start_time": "2022-01-27T05:30:47.009Z"
   },
   {
    "duration": 10,
    "start_time": "2022-01-27T05:30:50.770Z"
   },
   {
    "duration": 8,
    "start_time": "2022-01-27T05:33:39.503Z"
   },
   {
    "duration": 18,
    "start_time": "2022-01-27T05:34:34.880Z"
   },
   {
    "duration": 7096,
    "start_time": "2022-01-27T05:49:18.084Z"
   },
   {
    "duration": 11,
    "start_time": "2022-01-27T05:49:42.643Z"
   },
   {
    "duration": 703,
    "start_time": "2022-01-27T06:22:50.717Z"
   },
   {
    "duration": 63,
    "start_time": "2022-01-27T06:23:08.528Z"
   },
   {
    "duration": 82,
    "start_time": "2022-01-27T06:23:08.593Z"
   },
   {
    "duration": 21,
    "start_time": "2022-01-27T06:23:08.679Z"
   },
   {
    "duration": 19,
    "start_time": "2022-01-27T06:23:08.703Z"
   },
   {
    "duration": 54,
    "start_time": "2022-01-27T06:23:08.725Z"
   },
   {
    "duration": 35,
    "start_time": "2022-01-27T06:23:08.781Z"
   },
   {
    "duration": 82,
    "start_time": "2022-01-27T06:23:08.819Z"
   },
   {
    "duration": 20,
    "start_time": "2022-01-27T06:23:08.906Z"
   },
   {
    "duration": 39,
    "start_time": "2022-01-27T06:23:08.930Z"
   },
   {
    "duration": 11,
    "start_time": "2022-01-27T06:23:08.972Z"
   },
   {
    "duration": 14,
    "start_time": "2022-01-27T06:23:08.986Z"
   },
   {
    "duration": 11,
    "start_time": "2022-01-27T06:23:09.002Z"
   },
   {
    "duration": 11,
    "start_time": "2022-01-27T06:23:09.017Z"
   },
   {
    "duration": 10,
    "start_time": "2022-01-27T06:23:09.070Z"
   },
   {
    "duration": 11,
    "start_time": "2022-01-27T06:23:09.083Z"
   },
   {
    "duration": 6,
    "start_time": "2022-01-27T06:23:09.097Z"
   },
   {
    "duration": 67,
    "start_time": "2022-01-27T06:23:09.106Z"
   },
   {
    "duration": 19,
    "start_time": "2022-01-27T06:23:09.176Z"
   },
   {
    "duration": 11,
    "start_time": "2022-01-27T06:23:09.198Z"
   },
   {
    "duration": 8,
    "start_time": "2022-01-27T06:23:09.213Z"
   },
   {
    "duration": 49,
    "start_time": "2022-01-27T06:23:09.224Z"
   },
   {
    "duration": 6,
    "start_time": "2022-01-27T06:23:09.276Z"
   },
   {
    "duration": 10,
    "start_time": "2022-01-27T06:23:09.289Z"
   },
   {
    "duration": 13,
    "start_time": "2022-01-27T06:23:09.304Z"
   },
   {
    "duration": 53,
    "start_time": "2022-01-27T06:23:09.320Z"
   },
   {
    "duration": 5,
    "start_time": "2022-01-27T06:23:09.375Z"
   },
   {
    "duration": 16,
    "start_time": "2022-01-27T06:23:09.383Z"
   },
   {
    "duration": 11,
    "start_time": "2022-01-27T06:23:09.401Z"
   },
   {
    "duration": 11,
    "start_time": "2022-01-27T06:23:09.414Z"
   },
   {
    "duration": 9,
    "start_time": "2022-01-27T06:23:09.470Z"
   },
   {
    "duration": 11,
    "start_time": "2022-01-27T06:23:09.481Z"
   },
   {
    "duration": 11,
    "start_time": "2022-01-27T06:23:09.495Z"
   },
   {
    "duration": 5,
    "start_time": "2022-01-27T06:23:09.508Z"
   },
   {
    "duration": 52,
    "start_time": "2022-01-27T06:23:09.516Z"
   },
   {
    "duration": 10,
    "start_time": "2022-01-27T06:23:09.571Z"
   },
   {
    "duration": 6,
    "start_time": "2022-01-27T06:23:09.584Z"
   },
   {
    "duration": 6,
    "start_time": "2022-01-27T06:23:09.593Z"
   },
   {
    "duration": 12,
    "start_time": "2022-01-27T06:23:09.601Z"
   },
   {
    "duration": 7,
    "start_time": "2022-01-27T06:23:09.615Z"
   },
   {
    "duration": 6,
    "start_time": "2022-01-27T06:23:09.669Z"
   },
   {
    "duration": 72,
    "start_time": "2022-01-27T06:23:09.678Z"
   },
   {
    "duration": 44,
    "start_time": "2022-01-27T06:23:09.753Z"
   },
   {
    "duration": 41,
    "start_time": "2022-01-27T06:23:09.800Z"
   },
   {
    "duration": 25,
    "start_time": "2022-01-27T06:23:09.869Z"
   },
   {
    "duration": 3,
    "start_time": "2022-01-27T06:23:09.896Z"
   },
   {
    "duration": 8,
    "start_time": "2022-01-27T06:23:09.902Z"
   },
   {
    "duration": 19,
    "start_time": "2022-01-27T06:23:09.912Z"
   },
   {
    "duration": 45,
    "start_time": "2022-01-27T06:23:09.934Z"
   },
   {
    "duration": 15,
    "start_time": "2022-01-27T06:23:09.982Z"
   },
   {
    "duration": 28,
    "start_time": "2022-01-27T06:23:09.999Z"
   },
   {
    "duration": 49,
    "start_time": "2022-01-27T06:23:10.030Z"
   },
   {
    "duration": 17,
    "start_time": "2022-01-27T06:23:10.082Z"
   },
   {
    "duration": 23,
    "start_time": "2022-01-27T06:23:10.101Z"
   },
   {
    "duration": 42,
    "start_time": "2022-01-27T06:23:10.127Z"
   },
   {
    "duration": 56,
    "start_time": "2022-01-27T06:23:10.172Z"
   },
   {
    "duration": 77,
    "start_time": "2022-01-27T06:23:10.231Z"
   },
   {
    "duration": 10,
    "start_time": "2022-01-27T06:23:10.311Z"
   },
   {
    "duration": 6,
    "start_time": "2022-01-27T06:23:10.324Z"
   },
   {
    "duration": 37,
    "start_time": "2022-01-27T06:23:10.332Z"
   },
   {
    "duration": 17,
    "start_time": "2022-01-27T06:23:10.373Z"
   },
   {
    "duration": 12,
    "start_time": "2022-01-27T06:23:10.393Z"
   },
   {
    "duration": 5,
    "start_time": "2022-01-27T06:23:10.407Z"
   },
   {
    "duration": 17,
    "start_time": "2022-01-27T06:23:10.414Z"
   },
   {
    "duration": 40,
    "start_time": "2022-01-27T06:23:10.434Z"
   },
   {
    "duration": 14,
    "start_time": "2022-01-27T06:23:10.476Z"
   },
   {
    "duration": 1994,
    "start_time": "2022-01-27T06:23:10.493Z"
   },
   {
    "duration": -1788,
    "start_time": "2022-01-27T06:23:14.278Z"
   },
   {
    "duration": -1811,
    "start_time": "2022-01-27T06:23:14.302Z"
   },
   {
    "duration": -1817,
    "start_time": "2022-01-27T06:23:14.309Z"
   },
   {
    "duration": -1827,
    "start_time": "2022-01-27T06:23:14.321Z"
   },
   {
    "duration": 2715,
    "start_time": "2022-01-27T06:27:38.478Z"
   },
   {
    "duration": 454,
    "start_time": "2022-01-27T06:32:44.058Z"
   },
   {
    "duration": 922,
    "start_time": "2022-01-27T06:32:50.523Z"
   },
   {
    "duration": 57,
    "start_time": "2022-01-27T06:32:51.448Z"
   },
   {
    "duration": 19,
    "start_time": "2022-01-27T06:32:51.508Z"
   },
   {
    "duration": 39,
    "start_time": "2022-01-27T06:32:51.530Z"
   },
   {
    "duration": 13,
    "start_time": "2022-01-27T06:32:51.572Z"
   },
   {
    "duration": 34,
    "start_time": "2022-01-27T06:32:51.588Z"
   },
   {
    "duration": 65,
    "start_time": "2022-01-27T06:32:51.625Z"
   },
   {
    "duration": 18,
    "start_time": "2022-01-27T06:32:51.693Z"
   },
   {
    "duration": 11,
    "start_time": "2022-01-27T06:32:51.714Z"
   },
   {
    "duration": 46,
    "start_time": "2022-01-27T06:32:51.727Z"
   },
   {
    "duration": 11,
    "start_time": "2022-01-27T06:32:51.775Z"
   },
   {
    "duration": 13,
    "start_time": "2022-01-27T06:32:51.789Z"
   },
   {
    "duration": 12,
    "start_time": "2022-01-27T06:32:51.805Z"
   },
   {
    "duration": 50,
    "start_time": "2022-01-27T06:32:51.819Z"
   },
   {
    "duration": 11,
    "start_time": "2022-01-27T06:32:51.872Z"
   },
   {
    "duration": 6,
    "start_time": "2022-01-27T06:32:51.887Z"
   },
   {
    "duration": 18,
    "start_time": "2022-01-27T06:32:51.895Z"
   },
   {
    "duration": 13,
    "start_time": "2022-01-27T06:32:51.915Z"
   },
   {
    "duration": 9,
    "start_time": "2022-01-27T06:32:51.970Z"
   },
   {
    "duration": 10,
    "start_time": "2022-01-27T06:32:51.982Z"
   },
   {
    "duration": 11,
    "start_time": "2022-01-27T06:32:51.995Z"
   },
   {
    "duration": 10,
    "start_time": "2022-01-27T06:32:52.008Z"
   },
   {
    "duration": 8,
    "start_time": "2022-01-27T06:32:52.070Z"
   },
   {
    "duration": 18,
    "start_time": "2022-01-27T06:32:52.081Z"
   },
   {
    "duration": 12,
    "start_time": "2022-01-27T06:32:52.102Z"
   },
   {
    "duration": 4,
    "start_time": "2022-01-27T06:32:52.117Z"
   },
   {
    "duration": 15,
    "start_time": "2022-01-27T06:32:52.123Z"
   },
   {
    "duration": 9,
    "start_time": "2022-01-27T06:32:52.170Z"
   },
   {
    "duration": 11,
    "start_time": "2022-01-27T06:32:52.182Z"
   },
   {
    "duration": 6,
    "start_time": "2022-01-27T06:32:52.196Z"
   },
   {
    "duration": 16,
    "start_time": "2022-01-27T06:32:52.204Z"
   },
   {
    "duration": 47,
    "start_time": "2022-01-27T06:32:52.222Z"
   },
   {
    "duration": 2,
    "start_time": "2022-01-27T06:32:52.272Z"
   },
   {
    "duration": 10,
    "start_time": "2022-01-27T06:32:52.277Z"
   },
   {
    "duration": 16,
    "start_time": "2022-01-27T06:32:52.289Z"
   },
   {
    "duration": 7,
    "start_time": "2022-01-27T06:32:52.307Z"
   },
   {
    "duration": 7,
    "start_time": "2022-01-27T06:32:52.317Z"
   },
   {
    "duration": 45,
    "start_time": "2022-01-27T06:32:52.327Z"
   },
   {
    "duration": 6,
    "start_time": "2022-01-27T06:32:52.375Z"
   },
   {
    "duration": 6,
    "start_time": "2022-01-27T06:32:52.383Z"
   },
   {
    "duration": 59,
    "start_time": "2022-01-27T06:32:52.392Z"
   },
   {
    "duration": 27,
    "start_time": "2022-01-27T06:32:52.470Z"
   },
   {
    "duration": 30,
    "start_time": "2022-01-27T06:32:52.499Z"
   },
   {
    "duration": 54,
    "start_time": "2022-01-27T06:32:52.531Z"
   },
   {
    "duration": 3,
    "start_time": "2022-01-27T06:32:52.588Z"
   },
   {
    "duration": 7,
    "start_time": "2022-01-27T06:32:52.594Z"
   },
   {
    "duration": 22,
    "start_time": "2022-01-27T06:32:52.604Z"
   },
   {
    "duration": 41,
    "start_time": "2022-01-27T06:32:52.628Z"
   },
   {
    "duration": 11,
    "start_time": "2022-01-27T06:32:52.672Z"
   },
   {
    "duration": 37,
    "start_time": "2022-01-27T06:32:52.686Z"
   },
   {
    "duration": 16,
    "start_time": "2022-01-27T06:32:52.726Z"
   },
   {
    "duration": 39,
    "start_time": "2022-01-27T06:32:52.744Z"
   },
   {
    "duration": 23,
    "start_time": "2022-01-27T06:32:52.787Z"
   },
   {
    "duration": 9,
    "start_time": "2022-01-27T06:32:52.813Z"
   },
   {
    "duration": 95,
    "start_time": "2022-01-27T06:32:52.825Z"
   },
   {
    "duration": 62,
    "start_time": "2022-01-27T06:32:52.923Z"
   },
   {
    "duration": 10,
    "start_time": "2022-01-27T06:32:52.988Z"
   },
   {
    "duration": 9,
    "start_time": "2022-01-27T06:32:53.001Z"
   },
   {
    "duration": 9,
    "start_time": "2022-01-27T06:32:53.013Z"
   },
   {
    "duration": 52,
    "start_time": "2022-01-27T06:32:53.024Z"
   },
   {
    "duration": 9,
    "start_time": "2022-01-27T06:32:53.079Z"
   },
   {
    "duration": 9,
    "start_time": "2022-01-27T06:32:53.090Z"
   },
   {
    "duration": 26,
    "start_time": "2022-01-27T06:32:53.101Z"
   },
   {
    "duration": 26,
    "start_time": "2022-01-27T06:32:53.129Z"
   },
   {
    "duration": 8,
    "start_time": "2022-01-27T06:32:53.170Z"
   },
   {
    "duration": 14,
    "start_time": "2022-01-27T06:32:56.134Z"
   },
   {
    "duration": 14,
    "start_time": "2022-01-27T06:33:01.318Z"
   },
   {
    "duration": 12,
    "start_time": "2022-01-27T06:33:18.438Z"
   }
  ],
  "kernelspec": {
   "display_name": "Python 3 (ipykernel)",
   "language": "python",
   "name": "python3"
  },
  "language_info": {
   "codemirror_mode": {
    "name": "ipython",
    "version": 3
   },
   "file_extension": ".py",
   "mimetype": "text/x-python",
   "name": "python",
   "nbconvert_exporter": "python",
   "pygments_lexer": "ipython3",
   "version": "3.9.7"
  },
  "toc": {
   "base_numbering": 1,
   "nav_menu": {},
   "number_sections": true,
   "sideBar": true,
   "skip_h1_title": true,
   "title_cell": "Table of Contents",
   "title_sidebar": "Contents",
   "toc_cell": false,
   "toc_position": {},
   "toc_section_display": true,
   "toc_window_display": false
  }
 },
 "nbformat": 4,
 "nbformat_minor": 2
}
