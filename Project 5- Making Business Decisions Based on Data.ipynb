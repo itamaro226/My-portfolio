{
 "cells": [
  {
   "cell_type": "markdown",
   "metadata": {},
   "source": [
    "***Project description:***\n",
    "\n",
    "We, the analysis department, and the marketing department have raised some hypotheses that can contribute to our business.\n",
    "\n",
    "-Our first task is to prioritize these hypotheses.\n",
    "\n",
    "-Our second task is to run an A / B test and analyze the results."
   ]
  },
  {
   "cell_type": "code",
   "execution_count": 1,
   "metadata": {},
   "outputs": [],
   "source": [
    "import pandas as pd\n",
    "import numpy as np\n",
    "import seaborn as sns\n",
    "import matplotlib.pyplot as plt\n",
    "import seaborn as sns\n",
    "import datetime as dt\n",
    "from math import factorial\n",
    "from nltk.stem import SnowballStemmer \n",
    "from scipy import stats as st\n",
    "import scipy.stats as stats"
   ]
  },
  {
   "cell_type": "markdown",
   "metadata": {},
   "source": [
    "*First task:*"
   ]
  },
  {
   "cell_type": "markdown",
   "metadata": {},
   "source": [
    "We will start by loading the data and checking its integrity."
   ]
  },
  {
   "cell_type": "code",
   "execution_count": 2,
   "metadata": {},
   "outputs": [
    {
     "data": {
      "text/html": [
       "<div>\n",
       "<style scoped>\n",
       "    .dataframe tbody tr th:only-of-type {\n",
       "        vertical-align: middle;\n",
       "    }\n",
       "\n",
       "    .dataframe tbody tr th {\n",
       "        vertical-align: top;\n",
       "    }\n",
       "\n",
       "    .dataframe thead th {\n",
       "        text-align: right;\n",
       "    }\n",
       "</style>\n",
       "<table border=\"1\" class=\"dataframe\">\n",
       "  <thead>\n",
       "    <tr style=\"text-align: right;\">\n",
       "      <th></th>\n",
       "      <th>Hypothesis</th>\n",
       "      <th>Reach</th>\n",
       "      <th>Impact</th>\n",
       "      <th>Confidence</th>\n",
       "      <th>Effort</th>\n",
       "    </tr>\n",
       "  </thead>\n",
       "  <tbody>\n",
       "    <tr>\n",
       "      <th>0</th>\n",
       "      <td>Add two new channels for attracting traffic. This will bring 30% more users</td>\n",
       "      <td>3</td>\n",
       "      <td>10</td>\n",
       "      <td>8</td>\n",
       "      <td>6</td>\n",
       "    </tr>\n",
       "    <tr>\n",
       "      <th>1</th>\n",
       "      <td>Launch your own delivery service. This will shorten delivery time</td>\n",
       "      <td>2</td>\n",
       "      <td>5</td>\n",
       "      <td>4</td>\n",
       "      <td>10</td>\n",
       "    </tr>\n",
       "    <tr>\n",
       "      <th>2</th>\n",
       "      <td>Add product recommendation blocks to the store's site. This will increase conversion and average purchase size</td>\n",
       "      <td>8</td>\n",
       "      <td>3</td>\n",
       "      <td>7</td>\n",
       "      <td>3</td>\n",
       "    </tr>\n",
       "    <tr>\n",
       "      <th>3</th>\n",
       "      <td>Change the category structure. This will increase conversion since users will find the products they want more quickly</td>\n",
       "      <td>8</td>\n",
       "      <td>3</td>\n",
       "      <td>3</td>\n",
       "      <td>8</td>\n",
       "    </tr>\n",
       "    <tr>\n",
       "      <th>4</th>\n",
       "      <td>Change the background color on the main page. This will increase user engagement</td>\n",
       "      <td>3</td>\n",
       "      <td>1</td>\n",
       "      <td>1</td>\n",
       "      <td>1</td>\n",
       "    </tr>\n",
       "    <tr>\n",
       "      <th>5</th>\n",
       "      <td>Add a customer review page. This will increase the number of orders</td>\n",
       "      <td>3</td>\n",
       "      <td>2</td>\n",
       "      <td>2</td>\n",
       "      <td>3</td>\n",
       "    </tr>\n",
       "    <tr>\n",
       "      <th>6</th>\n",
       "      <td>Show banners with current offers and sales on the main page. This will boost conversion</td>\n",
       "      <td>5</td>\n",
       "      <td>3</td>\n",
       "      <td>8</td>\n",
       "      <td>3</td>\n",
       "    </tr>\n",
       "    <tr>\n",
       "      <th>7</th>\n",
       "      <td>Add a subscription form to all the main pages. This will help you compile a mailing list</td>\n",
       "      <td>10</td>\n",
       "      <td>7</td>\n",
       "      <td>8</td>\n",
       "      <td>5</td>\n",
       "    </tr>\n",
       "    <tr>\n",
       "      <th>8</th>\n",
       "      <td>Launch a promotion that gives users discounts on their birthdays</td>\n",
       "      <td>1</td>\n",
       "      <td>9</td>\n",
       "      <td>9</td>\n",
       "      <td>5</td>\n",
       "    </tr>\n",
       "  </tbody>\n",
       "</table>\n",
       "</div>"
      ],
      "text/plain": [
       "                                                                                                               Hypothesis  \\\n",
       "0                                             Add two new channels for attracting traffic. This will bring 30% more users   \n",
       "1                                                       Launch your own delivery service. This will shorten delivery time   \n",
       "2          Add product recommendation blocks to the store's site. This will increase conversion and average purchase size   \n",
       "3  Change the category structure. This will increase conversion since users will find the products they want more quickly   \n",
       "4                                        Change the background color on the main page. This will increase user engagement   \n",
       "5                                                     Add a customer review page. This will increase the number of orders   \n",
       "6                                 Show banners with current offers and sales on the main page. This will boost conversion   \n",
       "7                                Add a subscription form to all the main pages. This will help you compile a mailing list   \n",
       "8                                                        Launch a promotion that gives users discounts on their birthdays   \n",
       "\n",
       "   Reach  Impact  Confidence  Effort  \n",
       "0      3      10           8       6  \n",
       "1      2       5           4      10  \n",
       "2      8       3           7       3  \n",
       "3      8       3           3       8  \n",
       "4      3       1           1       1  \n",
       "5      3       2           2       3  \n",
       "6      5       3           8       3  \n",
       "7     10       7           8       5  \n",
       "8      1       9           9       5  "
      ]
     },
     "execution_count": 2,
     "metadata": {},
     "output_type": "execute_result"
    }
   ],
   "source": [
    "pd.set_option('display.max_colwidth', None)\n",
    "data1 = pd.read_csv('/datasets/hypotheses_us.csv', sep=\";\")\n",
    "data1.head(10)"
   ]
  },
  {
   "cell_type": "code",
   "execution_count": 3,
   "metadata": {},
   "outputs": [
    {
     "data": {
      "text/html": [
       "<div>\n",
       "<style scoped>\n",
       "    .dataframe tbody tr th:only-of-type {\n",
       "        vertical-align: middle;\n",
       "    }\n",
       "\n",
       "    .dataframe tbody tr th {\n",
       "        vertical-align: top;\n",
       "    }\n",
       "\n",
       "    .dataframe thead th {\n",
       "        text-align: right;\n",
       "    }\n",
       "</style>\n",
       "<table border=\"1\" class=\"dataframe\">\n",
       "  <thead>\n",
       "    <tr style=\"text-align: right;\">\n",
       "      <th></th>\n",
       "      <th>hypothesis</th>\n",
       "      <th>reach</th>\n",
       "      <th>impact</th>\n",
       "      <th>confidence</th>\n",
       "      <th>effort</th>\n",
       "    </tr>\n",
       "  </thead>\n",
       "  <tbody>\n",
       "    <tr>\n",
       "      <th>0</th>\n",
       "      <td>Add two new channels for attracting traffic. This will bring 30% more users</td>\n",
       "      <td>3</td>\n",
       "      <td>10</td>\n",
       "      <td>8</td>\n",
       "      <td>6</td>\n",
       "    </tr>\n",
       "    <tr>\n",
       "      <th>1</th>\n",
       "      <td>Launch your own delivery service. This will shorten delivery time</td>\n",
       "      <td>2</td>\n",
       "      <td>5</td>\n",
       "      <td>4</td>\n",
       "      <td>10</td>\n",
       "    </tr>\n",
       "    <tr>\n",
       "      <th>2</th>\n",
       "      <td>Add product recommendation blocks to the store's site. This will increase conversion and average purchase size</td>\n",
       "      <td>8</td>\n",
       "      <td>3</td>\n",
       "      <td>7</td>\n",
       "      <td>3</td>\n",
       "    </tr>\n",
       "    <tr>\n",
       "      <th>3</th>\n",
       "      <td>Change the category structure. This will increase conversion since users will find the products they want more quickly</td>\n",
       "      <td>8</td>\n",
       "      <td>3</td>\n",
       "      <td>3</td>\n",
       "      <td>8</td>\n",
       "    </tr>\n",
       "    <tr>\n",
       "      <th>4</th>\n",
       "      <td>Change the background color on the main page. This will increase user engagement</td>\n",
       "      <td>3</td>\n",
       "      <td>1</td>\n",
       "      <td>1</td>\n",
       "      <td>1</td>\n",
       "    </tr>\n",
       "  </tbody>\n",
       "</table>\n",
       "</div>"
      ],
      "text/plain": [
       "                                                                                                               hypothesis  \\\n",
       "0                                             Add two new channels for attracting traffic. This will bring 30% more users   \n",
       "1                                                       Launch your own delivery service. This will shorten delivery time   \n",
       "2          Add product recommendation blocks to the store's site. This will increase conversion and average purchase size   \n",
       "3  Change the category structure. This will increase conversion since users will find the products they want more quickly   \n",
       "4                                        Change the background color on the main page. This will increase user engagement   \n",
       "\n",
       "   reach  impact  confidence  effort  \n",
       "0      3      10           8       6  \n",
       "1      2       5           4      10  \n",
       "2      8       3           7       3  \n",
       "3      8       3           3       8  \n",
       "4      3       1           1       1  "
      ]
     },
     "execution_count": 3,
     "metadata": {},
     "output_type": "execute_result"
    }
   ],
   "source": [
    "data1.columns= data1.columns.str.lower()\n",
    "data1.head()"
   ]
  },
  {
   "cell_type": "code",
   "execution_count": 4,
   "metadata": {},
   "outputs": [
    {
     "data": {
      "text/plain": [
       "0"
      ]
     },
     "execution_count": 4,
     "metadata": {},
     "output_type": "execute_result"
    }
   ],
   "source": [
    "data1.duplicated().sum()"
   ]
  },
  {
   "cell_type": "code",
   "execution_count": 5,
   "metadata": {},
   "outputs": [
    {
     "data": {
      "text/plain": [
       "hypothesis    0\n",
       "reach         0\n",
       "impact        0\n",
       "confidence    0\n",
       "effort        0\n",
       "dtype: int64"
      ]
     },
     "execution_count": 5,
     "metadata": {},
     "output_type": "execute_result"
    }
   ],
   "source": [
    "data1.isnull().sum()"
   ]
  },
  {
   "cell_type": "markdown",
   "metadata": {},
   "source": [
    "We loaded the data, and separated columns (because it came without separating the columns).\n",
    "\n",
    "No duplicates found.\n",
    "\n",
    "We changed the lowercase letters in the column names.\n",
    "\n",
    "No missing values were found."
   ]
  },
  {
   "cell_type": "markdown",
   "metadata": {},
   "source": [
    "Prioritization of hypotheses:"
   ]
  },
  {
   "cell_type": "markdown",
   "metadata": {},
   "source": [
    "ICE framework:"
   ]
  },
  {
   "cell_type": "code",
   "execution_count": 6,
   "metadata": {},
   "outputs": [
    {
     "data": {
      "text/html": [
       "<div>\n",
       "<style scoped>\n",
       "    .dataframe tbody tr th:only-of-type {\n",
       "        vertical-align: middle;\n",
       "    }\n",
       "\n",
       "    .dataframe tbody tr th {\n",
       "        vertical-align: top;\n",
       "    }\n",
       "\n",
       "    .dataframe thead th {\n",
       "        text-align: right;\n",
       "    }\n",
       "</style>\n",
       "<table border=\"1\" class=\"dataframe\">\n",
       "  <thead>\n",
       "    <tr style=\"text-align: right;\">\n",
       "      <th></th>\n",
       "      <th>hypothesis</th>\n",
       "      <th>reach</th>\n",
       "      <th>impact</th>\n",
       "      <th>confidence</th>\n",
       "      <th>effort</th>\n",
       "      <th>ICE</th>\n",
       "    </tr>\n",
       "  </thead>\n",
       "  <tbody>\n",
       "    <tr>\n",
       "      <th>8</th>\n",
       "      <td>Launch a promotion that gives users discounts on their birthdays</td>\n",
       "      <td>1</td>\n",
       "      <td>9</td>\n",
       "      <td>9</td>\n",
       "      <td>5</td>\n",
       "      <td>16.2</td>\n",
       "    </tr>\n",
       "    <tr>\n",
       "      <th>0</th>\n",
       "      <td>Add two new channels for attracting traffic. This will bring 30% more users</td>\n",
       "      <td>3</td>\n",
       "      <td>10</td>\n",
       "      <td>8</td>\n",
       "      <td>6</td>\n",
       "      <td>13.3</td>\n",
       "    </tr>\n",
       "    <tr>\n",
       "      <th>7</th>\n",
       "      <td>Add a subscription form to all the main pages. This will help you compile a mailing list</td>\n",
       "      <td>10</td>\n",
       "      <td>7</td>\n",
       "      <td>8</td>\n",
       "      <td>5</td>\n",
       "      <td>11.2</td>\n",
       "    </tr>\n",
       "    <tr>\n",
       "      <th>6</th>\n",
       "      <td>Show banners with current offers and sales on the main page. This will boost conversion</td>\n",
       "      <td>5</td>\n",
       "      <td>3</td>\n",
       "      <td>8</td>\n",
       "      <td>3</td>\n",
       "      <td>8.0</td>\n",
       "    </tr>\n",
       "    <tr>\n",
       "      <th>2</th>\n",
       "      <td>Add product recommendation blocks to the store's site. This will increase conversion and average purchase size</td>\n",
       "      <td>8</td>\n",
       "      <td>3</td>\n",
       "      <td>7</td>\n",
       "      <td>3</td>\n",
       "      <td>7.0</td>\n",
       "    </tr>\n",
       "    <tr>\n",
       "      <th>1</th>\n",
       "      <td>Launch your own delivery service. This will shorten delivery time</td>\n",
       "      <td>2</td>\n",
       "      <td>5</td>\n",
       "      <td>4</td>\n",
       "      <td>10</td>\n",
       "      <td>2.0</td>\n",
       "    </tr>\n",
       "    <tr>\n",
       "      <th>5</th>\n",
       "      <td>Add a customer review page. This will increase the number of orders</td>\n",
       "      <td>3</td>\n",
       "      <td>2</td>\n",
       "      <td>2</td>\n",
       "      <td>3</td>\n",
       "      <td>1.3</td>\n",
       "    </tr>\n",
       "    <tr>\n",
       "      <th>3</th>\n",
       "      <td>Change the category structure. This will increase conversion since users will find the products they want more quickly</td>\n",
       "      <td>8</td>\n",
       "      <td>3</td>\n",
       "      <td>3</td>\n",
       "      <td>8</td>\n",
       "      <td>1.1</td>\n",
       "    </tr>\n",
       "    <tr>\n",
       "      <th>4</th>\n",
       "      <td>Change the background color on the main page. This will increase user engagement</td>\n",
       "      <td>3</td>\n",
       "      <td>1</td>\n",
       "      <td>1</td>\n",
       "      <td>1</td>\n",
       "      <td>1.0</td>\n",
       "    </tr>\n",
       "  </tbody>\n",
       "</table>\n",
       "</div>"
      ],
      "text/plain": [
       "                                                                                                               hypothesis  \\\n",
       "8                                                        Launch a promotion that gives users discounts on their birthdays   \n",
       "0                                             Add two new channels for attracting traffic. This will bring 30% more users   \n",
       "7                                Add a subscription form to all the main pages. This will help you compile a mailing list   \n",
       "6                                 Show banners with current offers and sales on the main page. This will boost conversion   \n",
       "2          Add product recommendation blocks to the store's site. This will increase conversion and average purchase size   \n",
       "1                                                       Launch your own delivery service. This will shorten delivery time   \n",
       "5                                                     Add a customer review page. This will increase the number of orders   \n",
       "3  Change the category structure. This will increase conversion since users will find the products they want more quickly   \n",
       "4                                        Change the background color on the main page. This will increase user engagement   \n",
       "\n",
       "   reach  impact  confidence  effort   ICE  \n",
       "8      1       9           9       5  16.2  \n",
       "0      3      10           8       6  13.3  \n",
       "7     10       7           8       5  11.2  \n",
       "6      5       3           8       3   8.0  \n",
       "2      8       3           7       3   7.0  \n",
       "1      2       5           4      10   2.0  \n",
       "5      3       2           2       3   1.3  \n",
       "3      8       3           3       8   1.1  \n",
       "4      3       1           1       1   1.0  "
      ]
     },
     "execution_count": 6,
     "metadata": {},
     "output_type": "execute_result"
    }
   ],
   "source": [
    "data1['ICE']= (data1['impact']*data1['confidence'])/data1['effort']\n",
    "data1=data1.round(1)\n",
    "data1.sort_values(by=['ICE'], ascending=False)"
   ]
  },
  {
   "cell_type": "markdown",
   "metadata": {},
   "source": [
    "According to the ICE model the 3 hypotheses that are better to try first are 8,0 and 7."
   ]
  },
  {
   "cell_type": "markdown",
   "metadata": {},
   "source": [
    "RICE framework:"
   ]
  },
  {
   "cell_type": "code",
   "execution_count": 7,
   "metadata": {},
   "outputs": [
    {
     "data": {
      "text/html": [
       "<div>\n",
       "<style scoped>\n",
       "    .dataframe tbody tr th:only-of-type {\n",
       "        vertical-align: middle;\n",
       "    }\n",
       "\n",
       "    .dataframe tbody tr th {\n",
       "        vertical-align: top;\n",
       "    }\n",
       "\n",
       "    .dataframe thead th {\n",
       "        text-align: right;\n",
       "    }\n",
       "</style>\n",
       "<table border=\"1\" class=\"dataframe\">\n",
       "  <thead>\n",
       "    <tr style=\"text-align: right;\">\n",
       "      <th></th>\n",
       "      <th>hypothesis</th>\n",
       "      <th>reach</th>\n",
       "      <th>impact</th>\n",
       "      <th>confidence</th>\n",
       "      <th>effort</th>\n",
       "      <th>ICE</th>\n",
       "      <th>RICE</th>\n",
       "    </tr>\n",
       "  </thead>\n",
       "  <tbody>\n",
       "    <tr>\n",
       "      <th>7</th>\n",
       "      <td>Add a subscription form to all the main pages. This will help you compile a mailing list</td>\n",
       "      <td>10</td>\n",
       "      <td>7</td>\n",
       "      <td>8</td>\n",
       "      <td>5</td>\n",
       "      <td>11.2</td>\n",
       "      <td>112.0</td>\n",
       "    </tr>\n",
       "    <tr>\n",
       "      <th>2</th>\n",
       "      <td>Add product recommendation blocks to the store's site. This will increase conversion and average purchase size</td>\n",
       "      <td>8</td>\n",
       "      <td>3</td>\n",
       "      <td>7</td>\n",
       "      <td>3</td>\n",
       "      <td>7.0</td>\n",
       "      <td>56.0</td>\n",
       "    </tr>\n",
       "    <tr>\n",
       "      <th>0</th>\n",
       "      <td>Add two new channels for attracting traffic. This will bring 30% more users</td>\n",
       "      <td>3</td>\n",
       "      <td>10</td>\n",
       "      <td>8</td>\n",
       "      <td>6</td>\n",
       "      <td>13.3</td>\n",
       "      <td>40.0</td>\n",
       "    </tr>\n",
       "    <tr>\n",
       "      <th>6</th>\n",
       "      <td>Show banners with current offers and sales on the main page. This will boost conversion</td>\n",
       "      <td>5</td>\n",
       "      <td>3</td>\n",
       "      <td>8</td>\n",
       "      <td>3</td>\n",
       "      <td>8.0</td>\n",
       "      <td>40.0</td>\n",
       "    </tr>\n",
       "    <tr>\n",
       "      <th>8</th>\n",
       "      <td>Launch a promotion that gives users discounts on their birthdays</td>\n",
       "      <td>1</td>\n",
       "      <td>9</td>\n",
       "      <td>9</td>\n",
       "      <td>5</td>\n",
       "      <td>16.2</td>\n",
       "      <td>16.2</td>\n",
       "    </tr>\n",
       "    <tr>\n",
       "      <th>3</th>\n",
       "      <td>Change the category structure. This will increase conversion since users will find the products they want more quickly</td>\n",
       "      <td>8</td>\n",
       "      <td>3</td>\n",
       "      <td>3</td>\n",
       "      <td>8</td>\n",
       "      <td>1.1</td>\n",
       "      <td>9.0</td>\n",
       "    </tr>\n",
       "    <tr>\n",
       "      <th>1</th>\n",
       "      <td>Launch your own delivery service. This will shorten delivery time</td>\n",
       "      <td>2</td>\n",
       "      <td>5</td>\n",
       "      <td>4</td>\n",
       "      <td>10</td>\n",
       "      <td>2.0</td>\n",
       "      <td>4.0</td>\n",
       "    </tr>\n",
       "    <tr>\n",
       "      <th>5</th>\n",
       "      <td>Add a customer review page. This will increase the number of orders</td>\n",
       "      <td>3</td>\n",
       "      <td>2</td>\n",
       "      <td>2</td>\n",
       "      <td>3</td>\n",
       "      <td>1.3</td>\n",
       "      <td>4.0</td>\n",
       "    </tr>\n",
       "    <tr>\n",
       "      <th>4</th>\n",
       "      <td>Change the background color on the main page. This will increase user engagement</td>\n",
       "      <td>3</td>\n",
       "      <td>1</td>\n",
       "      <td>1</td>\n",
       "      <td>1</td>\n",
       "      <td>1.0</td>\n",
       "      <td>3.0</td>\n",
       "    </tr>\n",
       "  </tbody>\n",
       "</table>\n",
       "</div>"
      ],
      "text/plain": [
       "                                                                                                               hypothesis  \\\n",
       "7                                Add a subscription form to all the main pages. This will help you compile a mailing list   \n",
       "2          Add product recommendation blocks to the store's site. This will increase conversion and average purchase size   \n",
       "0                                             Add two new channels for attracting traffic. This will bring 30% more users   \n",
       "6                                 Show banners with current offers and sales on the main page. This will boost conversion   \n",
       "8                                                        Launch a promotion that gives users discounts on their birthdays   \n",
       "3  Change the category structure. This will increase conversion since users will find the products they want more quickly   \n",
       "1                                                       Launch your own delivery service. This will shorten delivery time   \n",
       "5                                                     Add a customer review page. This will increase the number of orders   \n",
       "4                                        Change the background color on the main page. This will increase user engagement   \n",
       "\n",
       "   reach  impact  confidence  effort   ICE   RICE  \n",
       "7     10       7           8       5  11.2  112.0  \n",
       "2      8       3           7       3   7.0   56.0  \n",
       "0      3      10           8       6  13.3   40.0  \n",
       "6      5       3           8       3   8.0   40.0  \n",
       "8      1       9           9       5  16.2   16.2  \n",
       "3      8       3           3       8   1.1    9.0  \n",
       "1      2       5           4      10   2.0    4.0  \n",
       "5      3       2           2       3   1.3    4.0  \n",
       "4      3       1           1       1   1.0    3.0  "
      ]
     },
     "execution_count": 7,
     "metadata": {},
     "output_type": "execute_result"
    }
   ],
   "source": [
    "data1['RICE']= (data1['reach']*data1['impact']*data1['confidence'])/data1['effort']\n",
    "data1.sort_values(by=['RICE'], ascending=False)"
   ]
  },
  {
   "cell_type": "markdown",
   "metadata": {},
   "source": [
    "According to the RICE model, the 3 hypotheses that are better to try first are 7,2 and 0."
   ]
  },
  {
   "cell_type": "markdown",
   "metadata": {},
   "source": [
    "Comparison of ICE and RICE:\n",
    "\n",
    "We can see that the priority of hypotheses changed completely when we added the 'reach' parameter.\n",
    "This change is due to the fact that not all hypotheses apply to all users and not every change affects everyone. Therefore if we want to know the size of the change we will choose RICE, and if we do not choose ICE."
   ]
  },
  {
   "cell_type": "markdown",
   "metadata": {},
   "source": [
    "conclusion:\n",
    "\n",
    "According to the ICE model, hypotheses 8, 8 and 7 were chosen.\n",
    "\n",
    "According to the RICE model, hypotheses 7, 2 and 0 were chosen."
   ]
  },
  {
   "cell_type": "markdown",
   "metadata": {},
   "source": [
    "*Second task:*"
   ]
  },
  {
   "cell_type": "code",
   "execution_count": 8,
   "metadata": {},
   "outputs": [
    {
     "data": {
      "text/html": [
       "<div>\n",
       "<style scoped>\n",
       "    .dataframe tbody tr th:only-of-type {\n",
       "        vertical-align: middle;\n",
       "    }\n",
       "\n",
       "    .dataframe tbody tr th {\n",
       "        vertical-align: top;\n",
       "    }\n",
       "\n",
       "    .dataframe thead th {\n",
       "        text-align: right;\n",
       "    }\n",
       "</style>\n",
       "<table border=\"1\" class=\"dataframe\">\n",
       "  <thead>\n",
       "    <tr style=\"text-align: right;\">\n",
       "      <th></th>\n",
       "      <th>transactionid</th>\n",
       "      <th>visitorid</th>\n",
       "      <th>date</th>\n",
       "      <th>revenue</th>\n",
       "      <th>group</th>\n",
       "    </tr>\n",
       "  </thead>\n",
       "  <tbody>\n",
       "    <tr>\n",
       "      <th>0</th>\n",
       "      <td>3667963787</td>\n",
       "      <td>3312258926</td>\n",
       "      <td>2019-08-15</td>\n",
       "      <td>30.4</td>\n",
       "      <td>B</td>\n",
       "    </tr>\n",
       "    <tr>\n",
       "      <th>1</th>\n",
       "      <td>2804400009</td>\n",
       "      <td>3642806036</td>\n",
       "      <td>2019-08-15</td>\n",
       "      <td>15.2</td>\n",
       "      <td>B</td>\n",
       "    </tr>\n",
       "    <tr>\n",
       "      <th>2</th>\n",
       "      <td>2961555356</td>\n",
       "      <td>4069496402</td>\n",
       "      <td>2019-08-15</td>\n",
       "      <td>10.2</td>\n",
       "      <td>A</td>\n",
       "    </tr>\n",
       "    <tr>\n",
       "      <th>3</th>\n",
       "      <td>3797467345</td>\n",
       "      <td>1196621759</td>\n",
       "      <td>2019-08-15</td>\n",
       "      <td>155.1</td>\n",
       "      <td>B</td>\n",
       "    </tr>\n",
       "    <tr>\n",
       "      <th>4</th>\n",
       "      <td>2282983706</td>\n",
       "      <td>2322279887</td>\n",
       "      <td>2019-08-15</td>\n",
       "      <td>40.5</td>\n",
       "      <td>B</td>\n",
       "    </tr>\n",
       "  </tbody>\n",
       "</table>\n",
       "</div>"
      ],
      "text/plain": [
       "   transactionid   visitorid        date  revenue group\n",
       "0     3667963787  3312258926  2019-08-15     30.4     B\n",
       "1     2804400009  3642806036  2019-08-15     15.2     B\n",
       "2     2961555356  4069496402  2019-08-15     10.2     A\n",
       "3     3797467345  1196621759  2019-08-15    155.1     B\n",
       "4     2282983706  2322279887  2019-08-15     40.5     B"
      ]
     },
     "execution_count": 8,
     "metadata": {},
     "output_type": "execute_result"
    }
   ],
   "source": [
    "orders = pd.read_csv('/datasets/orders_us.csv')\n",
    "orders.columns= orders.columns.str.lower()\n",
    "orders.head()"
   ]
  },
  {
   "cell_type": "code",
   "execution_count": 9,
   "metadata": {},
   "outputs": [
    {
     "data": {
      "text/plain": [
       "0"
      ]
     },
     "execution_count": 9,
     "metadata": {},
     "output_type": "execute_result"
    }
   ],
   "source": [
    "orders.duplicated().sum()"
   ]
  },
  {
   "cell_type": "code",
   "execution_count": 10,
   "metadata": {},
   "outputs": [
    {
     "data": {
      "text/plain": [
       "transactionid    0\n",
       "visitorid        0\n",
       "date             0\n",
       "revenue          0\n",
       "group            0\n",
       "dtype: int64"
      ]
     },
     "execution_count": 10,
     "metadata": {},
     "output_type": "execute_result"
    }
   ],
   "source": [
    "orders.isnull().sum()"
   ]
  },
  {
   "cell_type": "code",
   "execution_count": 11,
   "metadata": {},
   "outputs": [
    {
     "data": {
      "text/html": [
       "<div>\n",
       "<style scoped>\n",
       "    .dataframe tbody tr th:only-of-type {\n",
       "        vertical-align: middle;\n",
       "    }\n",
       "\n",
       "    .dataframe tbody tr th {\n",
       "        vertical-align: top;\n",
       "    }\n",
       "\n",
       "    .dataframe thead th {\n",
       "        text-align: right;\n",
       "    }\n",
       "</style>\n",
       "<table border=\"1\" class=\"dataframe\">\n",
       "  <thead>\n",
       "    <tr style=\"text-align: right;\">\n",
       "      <th></th>\n",
       "      <th>date</th>\n",
       "      <th>group</th>\n",
       "      <th>visits</th>\n",
       "    </tr>\n",
       "  </thead>\n",
       "  <tbody>\n",
       "    <tr>\n",
       "      <th>0</th>\n",
       "      <td>2019-08-01</td>\n",
       "      <td>A</td>\n",
       "      <td>719</td>\n",
       "    </tr>\n",
       "    <tr>\n",
       "      <th>1</th>\n",
       "      <td>2019-08-02</td>\n",
       "      <td>A</td>\n",
       "      <td>619</td>\n",
       "    </tr>\n",
       "    <tr>\n",
       "      <th>2</th>\n",
       "      <td>2019-08-03</td>\n",
       "      <td>A</td>\n",
       "      <td>507</td>\n",
       "    </tr>\n",
       "    <tr>\n",
       "      <th>3</th>\n",
       "      <td>2019-08-04</td>\n",
       "      <td>A</td>\n",
       "      <td>717</td>\n",
       "    </tr>\n",
       "    <tr>\n",
       "      <th>4</th>\n",
       "      <td>2019-08-05</td>\n",
       "      <td>A</td>\n",
       "      <td>756</td>\n",
       "    </tr>\n",
       "  </tbody>\n",
       "</table>\n",
       "</div>"
      ],
      "text/plain": [
       "         date group  visits\n",
       "0  2019-08-01     A     719\n",
       "1  2019-08-02     A     619\n",
       "2  2019-08-03     A     507\n",
       "3  2019-08-04     A     717\n",
       "4  2019-08-05     A     756"
      ]
     },
     "execution_count": 11,
     "metadata": {},
     "output_type": "execute_result"
    }
   ],
   "source": [
    "visits = pd.read_csv('/datasets/visits_us.csv')\n",
    "visits.head()"
   ]
  },
  {
   "cell_type": "code",
   "execution_count": 12,
   "metadata": {},
   "outputs": [
    {
     "data": {
      "text/plain": [
       "0"
      ]
     },
     "execution_count": 12,
     "metadata": {},
     "output_type": "execute_result"
    }
   ],
   "source": [
    "visits.duplicated().sum()"
   ]
  },
  {
   "cell_type": "code",
   "execution_count": 13,
   "metadata": {},
   "outputs": [
    {
     "data": {
      "text/plain": [
       "transactionid    0\n",
       "visitorid        0\n",
       "date             0\n",
       "revenue          0\n",
       "group            0\n",
       "dtype: int64"
      ]
     },
     "execution_count": 13,
     "metadata": {},
     "output_type": "execute_result"
    }
   ],
   "source": [
    "orders.isnull().sum()"
   ]
  },
  {
   "cell_type": "markdown",
   "metadata": {},
   "source": [
    "No duplicates and missing values ​​were found in the two data sets."
   ]
  },
  {
   "cell_type": "code",
   "execution_count": 14,
   "metadata": {},
   "outputs": [
    {
     "data": {
      "text/plain": [
       "58"
      ]
     },
     "execution_count": 14,
     "metadata": {},
     "output_type": "execute_result"
    }
   ],
   "source": [
    "users_n_groups = orders.groupby('visitorid').agg({'group': 'nunique'}).reset_index() \n",
    "# users_to_drop = users_n_groups[users_n_groups.group > 1]\n",
    "# CODE FROM REVIEWER\n",
    "users_to_drop = users_n_groups[users_n_groups.group > 1].visitorid\n",
    "users_to_drop.count()"
   ]
  },
  {
   "cell_type": "code",
   "execution_count": 15,
   "metadata": {},
   "outputs": [
    {
     "name": "stdout",
     "output_type": "stream",
     "text": [
      "The updated dataset now has 1016 entries\n"
     ]
    }
   ],
   "source": [
    "orders = orders[~orders['visitorid'].isin(users_to_drop)]\n",
    "print(f'The updated dataset now has {orders.shape[0]} entries')"
   ]
  },
  {
   "cell_type": "markdown",
   "metadata": {},
   "source": [
    "There are 58 users found in the 2 groups.\n",
    "Users have been removed."
   ]
  },
  {
   "cell_type": "code",
   "execution_count": 16,
   "metadata": {},
   "outputs": [
    {
     "data": {
      "text/plain": [
       "43"
      ]
     },
     "execution_count": 16,
     "metadata": {},
     "output_type": "execute_result"
    }
   ],
   "source": [
    "orders['visitorid'].duplicated().sum()"
   ]
  },
  {
   "cell_type": "markdown",
   "metadata": {},
   "source": [
    "1.cumulative revenue by group:"
   ]
  },
  {
   "cell_type": "code",
   "execution_count": 17,
   "metadata": {},
   "outputs": [],
   "source": [
    "group_a = orders.query('group == \"A\"')"
   ]
  },
  {
   "cell_type": "code",
   "execution_count": 18,
   "metadata": {},
   "outputs": [],
   "source": [
    "group_b = orders.query('group == \"B\"')"
   ]
  },
  {
   "cell_type": "markdown",
   "metadata": {},
   "source": [
    "Cumulative income Group A:"
   ]
  },
  {
   "cell_type": "code",
   "execution_count": 19,
   "metadata": {},
   "outputs": [
    {
     "data": {
      "text/html": [
       "<div>\n",
       "<style scoped>\n",
       "    .dataframe tbody tr th:only-of-type {\n",
       "        vertical-align: middle;\n",
       "    }\n",
       "\n",
       "    .dataframe tbody tr th {\n",
       "        vertical-align: top;\n",
       "    }\n",
       "\n",
       "    .dataframe thead th {\n",
       "        text-align: right;\n",
       "    }\n",
       "</style>\n",
       "<table border=\"1\" class=\"dataframe\">\n",
       "  <thead>\n",
       "    <tr style=\"text-align: right;\">\n",
       "      <th></th>\n",
       "      <th>date</th>\n",
       "      <th>revenue</th>\n",
       "      <th>cumul_rev</th>\n",
       "    </tr>\n",
       "  </thead>\n",
       "  <tbody>\n",
       "    <tr>\n",
       "      <th>0</th>\n",
       "      <td>2019-08-01</td>\n",
       "      <td>2266.6</td>\n",
       "      <td>2266.6</td>\n",
       "    </tr>\n",
       "    <tr>\n",
       "      <th>1</th>\n",
       "      <td>2019-08-02</td>\n",
       "      <td>1468.3</td>\n",
       "      <td>3734.9</td>\n",
       "    </tr>\n",
       "    <tr>\n",
       "      <th>2</th>\n",
       "      <td>2019-08-03</td>\n",
       "      <td>1815.2</td>\n",
       "      <td>5550.1</td>\n",
       "    </tr>\n",
       "    <tr>\n",
       "      <th>3</th>\n",
       "      <td>2019-08-04</td>\n",
       "      <td>675.5</td>\n",
       "      <td>6225.6</td>\n",
       "    </tr>\n",
       "    <tr>\n",
       "      <th>4</th>\n",
       "      <td>2019-08-05</td>\n",
       "      <td>1398.0</td>\n",
       "      <td>7623.6</td>\n",
       "    </tr>\n",
       "  </tbody>\n",
       "</table>\n",
       "</div>"
      ],
      "text/plain": [
       "         date  revenue  cumul_rev\n",
       "0  2019-08-01   2266.6     2266.6\n",
       "1  2019-08-02   1468.3     3734.9\n",
       "2  2019-08-03   1815.2     5550.1\n",
       "3  2019-08-04    675.5     6225.6\n",
       "4  2019-08-05   1398.0     7623.6"
      ]
     },
     "execution_count": 19,
     "metadata": {},
     "output_type": "execute_result"
    }
   ],
   "source": [
    "group_a=group_a.groupby('date')['revenue'].sum().reset_index()\n",
    "group_a['cumul_rev']=group_a['revenue'].cumsum()\n",
    "group_a.head()"
   ]
  },
  {
   "cell_type": "markdown",
   "metadata": {},
   "source": [
    "Cumulative income Group B:"
   ]
  },
  {
   "cell_type": "code",
   "execution_count": 20,
   "metadata": {
    "scrolled": true
   },
   "outputs": [
    {
     "data": {
      "text/html": [
       "<div>\n",
       "<style scoped>\n",
       "    .dataframe tbody tr th:only-of-type {\n",
       "        vertical-align: middle;\n",
       "    }\n",
       "\n",
       "    .dataframe tbody tr th {\n",
       "        vertical-align: top;\n",
       "    }\n",
       "\n",
       "    .dataframe thead th {\n",
       "        text-align: right;\n",
       "    }\n",
       "</style>\n",
       "<table border=\"1\" class=\"dataframe\">\n",
       "  <thead>\n",
       "    <tr style=\"text-align: right;\">\n",
       "      <th></th>\n",
       "      <th>date</th>\n",
       "      <th>revenue</th>\n",
       "      <th>cumul_rev</th>\n",
       "    </tr>\n",
       "  </thead>\n",
       "  <tbody>\n",
       "    <tr>\n",
       "      <th>0</th>\n",
       "      <td>2019-08-01</td>\n",
       "      <td>967.2</td>\n",
       "      <td>967.2</td>\n",
       "    </tr>\n",
       "    <tr>\n",
       "      <th>1</th>\n",
       "      <td>2019-08-02</td>\n",
       "      <td>2568.1</td>\n",
       "      <td>3535.3</td>\n",
       "    </tr>\n",
       "    <tr>\n",
       "      <th>2</th>\n",
       "      <td>2019-08-03</td>\n",
       "      <td>1071.6</td>\n",
       "      <td>4606.9</td>\n",
       "    </tr>\n",
       "    <tr>\n",
       "      <th>3</th>\n",
       "      <td>2019-08-04</td>\n",
       "      <td>1531.6</td>\n",
       "      <td>6138.5</td>\n",
       "    </tr>\n",
       "    <tr>\n",
       "      <th>4</th>\n",
       "      <td>2019-08-05</td>\n",
       "      <td>1449.3</td>\n",
       "      <td>7587.8</td>\n",
       "    </tr>\n",
       "  </tbody>\n",
       "</table>\n",
       "</div>"
      ],
      "text/plain": [
       "         date  revenue  cumul_rev\n",
       "0  2019-08-01    967.2      967.2\n",
       "1  2019-08-02   2568.1     3535.3\n",
       "2  2019-08-03   1071.6     4606.9\n",
       "3  2019-08-04   1531.6     6138.5\n",
       "4  2019-08-05   1449.3     7587.8"
      ]
     },
     "execution_count": 20,
     "metadata": {},
     "output_type": "execute_result"
    }
   ],
   "source": [
    "group_b=group_b.groupby('date')['revenue'].sum().reset_index()\n",
    "group_b['cumul_rev']=group_b['revenue'].cumsum()\n",
    "group_b.head()"
   ]
  },
  {
   "cell_type": "markdown",
   "metadata": {},
   "source": [
    "Comparison of cumulative income between the two groups:"
   ]
  },
  {
   "cell_type": "code",
   "execution_count": 21,
   "metadata": {
    "scrolled": true
   },
   "outputs": [
    {
     "data": {
      "image/png": "[encoded data removed]",
      "text/plain": [
       "<Figure size 2880x720 with 1 Axes>"
      ]
     },
     "metadata": {
      "needs_background": "light"
     },
     "output_type": "display_data"
    }
   ],
   "source": [
    "fig= plt.figure(figsize=(40,10))\n",
    "# plt.rcParams[\"figure.figsize\"] = (40,10)\n",
    "plt.title('Comparison of cumulative income', fontdict={'fontsize': 35})\n",
    "plt.xlabel(\"Date\", fontdict={'fontsize': 35})\n",
    "plt.ylabel(\"Cumulative income\", fontdict={'fontsize': 35})\n",
    "plt.plot(group_a['date'], group_a['cumul_rev'], label='Group_a')\n",
    "plt.plot(group_b['date'], group_b['cumul_rev'], label='Group_b')\n",
    "fig.autofmt_xdate()\n",
    "plt.legend();"
   ]
  },
  {
   "cell_type": "markdown",
   "metadata": {},
   "source": [
    "We can clearly see that the cumulative income from group B is much higher than group A.\n",
    "However, if you look closely you can see that the revenues are quite similar except for servel days when Group B had a very significant increase in revenues. It could be from one very big purchase or something special that happened to this group that day."
   ]
  },
  {
   "cell_type": "markdown",
   "metadata": {},
   "source": [
    "2.cumulative average check by group and the relative change:"
   ]
  },
  {
   "cell_type": "code",
   "execution_count": 22,
   "metadata": {},
   "outputs": [
    {
     "data": {
      "text/html": [
       "<div>\n",
       "<style scoped>\n",
       "    .dataframe tbody tr th:only-of-type {\n",
       "        vertical-align: middle;\n",
       "    }\n",
       "\n",
       "    .dataframe tbody tr th {\n",
       "        vertical-align: top;\n",
       "    }\n",
       "\n",
       "    .dataframe thead th {\n",
       "        text-align: right;\n",
       "    }\n",
       "</style>\n",
       "<table border=\"1\" class=\"dataframe\">\n",
       "  <thead>\n",
       "    <tr style=\"text-align: right;\">\n",
       "      <th></th>\n",
       "      <th>date</th>\n",
       "      <th>group</th>\n",
       "      <th>orders</th>\n",
       "      <th>buyers</th>\n",
       "      <th>revenue</th>\n",
       "      <th>visits</th>\n",
       "    </tr>\n",
       "  </thead>\n",
       "  <tbody>\n",
       "    <tr>\n",
       "      <th>0</th>\n",
       "      <td>2019-08-01</td>\n",
       "      <td>A</td>\n",
       "      <td>23</td>\n",
       "      <td>19</td>\n",
       "      <td>2266.6</td>\n",
       "      <td>719</td>\n",
       "    </tr>\n",
       "    <tr>\n",
       "      <th>1</th>\n",
       "      <td>2019-08-01</td>\n",
       "      <td>B</td>\n",
       "      <td>17</td>\n",
       "      <td>17</td>\n",
       "      <td>967.2</td>\n",
       "      <td>713</td>\n",
       "    </tr>\n",
       "    <tr>\n",
       "      <th>2</th>\n",
       "      <td>2019-08-02</td>\n",
       "      <td>A</td>\n",
       "      <td>42</td>\n",
       "      <td>36</td>\n",
       "      <td>3734.9</td>\n",
       "      <td>1338</td>\n",
       "    </tr>\n",
       "    <tr>\n",
       "      <th>3</th>\n",
       "      <td>2019-08-02</td>\n",
       "      <td>B</td>\n",
       "      <td>40</td>\n",
       "      <td>39</td>\n",
       "      <td>3535.3</td>\n",
       "      <td>1294</td>\n",
       "    </tr>\n",
       "    <tr>\n",
       "      <th>4</th>\n",
       "      <td>2019-08-03</td>\n",
       "      <td>A</td>\n",
       "      <td>66</td>\n",
       "      <td>60</td>\n",
       "      <td>5550.1</td>\n",
       "      <td>1845</td>\n",
       "    </tr>\n",
       "  </tbody>\n",
       "</table>\n",
       "</div>"
      ],
      "text/plain": [
       "         date group  orders  buyers  revenue  visits\n",
       "0  2019-08-01     A      23      19   2266.6     719\n",
       "1  2019-08-01     B      17      17    967.2     713\n",
       "2  2019-08-02     A      42      36   3734.9    1338\n",
       "3  2019-08-02     B      40      39   3535.3    1294\n",
       "4  2019-08-03     A      66      60   5550.1    1845"
      ]
     },
     "execution_count": 22,
     "metadata": {},
     "output_type": "execute_result"
    }
   ],
   "source": [
    "# building an array with unique paired date-group values\n",
    "datesgroups = orders[['date','group']].drop_duplicates()\n",
    "\n",
    "# getting aggregated cumulative daily data on orders \n",
    "ordersagg= datesgroups.apply(lambda x: orders[np.logical_and(\n",
    "    orders['date'] <= x['date'], orders['group'] == x['group'])\n",
    "                                              ].agg({\n",
    "    'date' : 'max', 'group' : 'max', 'transactionid' : pd.Series.nunique, 'visitorid' : pd.Series.nunique, 'revenue' : 'sum'\n",
    "    }), axis=1).sort_values(by=['date','group'])\n",
    "\n",
    "# getting aggregated cumulative daily data on visitors  \n",
    "visitsagg = datesgroups.apply(\n",
    "    lambda x: visits[\n",
    "        np.logical_and(\n",
    "            visits['date'] <= x['date'], visits['group'] == x['group'])]\n",
    "    .agg({'date' : 'max', 'group' : 'max', 'visits' : 'sum'}), axis=1).sort_values(by=['date','group'])\n",
    "\n",
    "# merging the two tables into one and giving its columns descriptive names\n",
    "cumudata = ordersagg.merge(visitsagg, left_on=['date', 'group'], right_on=['date', 'group'])\n",
    "cumudata.columns = ['date', 'group', 'orders', 'buyers', 'revenue', 'visits']\n",
    "cumudata.head()"
   ]
  },
  {
   "cell_type": "code",
   "execution_count": 23,
   "metadata": {},
   "outputs": [
    {
     "data": {
      "text/html": [
       "<div>\n",
       "<style scoped>\n",
       "    .dataframe tbody tr th:only-of-type {\n",
       "        vertical-align: middle;\n",
       "    }\n",
       "\n",
       "    .dataframe tbody tr th {\n",
       "        vertical-align: top;\n",
       "    }\n",
       "\n",
       "    .dataframe thead th {\n",
       "        text-align: right;\n",
       "    }\n",
       "</style>\n",
       "<table border=\"1\" class=\"dataframe\">\n",
       "  <thead>\n",
       "    <tr style=\"text-align: right;\">\n",
       "      <th></th>\n",
       "      <th>transactionid</th>\n",
       "      <th>visitorid</th>\n",
       "      <th>date</th>\n",
       "      <th>revenue</th>\n",
       "      <th>group</th>\n",
       "      <th>order</th>\n",
       "    </tr>\n",
       "  </thead>\n",
       "  <tbody>\n",
       "    <tr>\n",
       "      <th>0</th>\n",
       "      <td>3667963787</td>\n",
       "      <td>3312258926</td>\n",
       "      <td>2019-08-15</td>\n",
       "      <td>30.4</td>\n",
       "      <td>B</td>\n",
       "      <td>1</td>\n",
       "    </tr>\n",
       "    <tr>\n",
       "      <th>1</th>\n",
       "      <td>2804400009</td>\n",
       "      <td>3642806036</td>\n",
       "      <td>2019-08-15</td>\n",
       "      <td>15.2</td>\n",
       "      <td>B</td>\n",
       "      <td>1</td>\n",
       "    </tr>\n",
       "    <tr>\n",
       "      <th>2</th>\n",
       "      <td>3797467345</td>\n",
       "      <td>1196621759</td>\n",
       "      <td>2019-08-15</td>\n",
       "      <td>155.1</td>\n",
       "      <td>B</td>\n",
       "      <td>1</td>\n",
       "    </tr>\n",
       "    <tr>\n",
       "      <th>3</th>\n",
       "      <td>2282983706</td>\n",
       "      <td>2322279887</td>\n",
       "      <td>2019-08-15</td>\n",
       "      <td>40.5</td>\n",
       "      <td>B</td>\n",
       "      <td>1</td>\n",
       "    </tr>\n",
       "    <tr>\n",
       "      <th>4</th>\n",
       "      <td>182168103</td>\n",
       "      <td>935554773</td>\n",
       "      <td>2019-08-15</td>\n",
       "      <td>35.0</td>\n",
       "      <td>B</td>\n",
       "      <td>1</td>\n",
       "    </tr>\n",
       "  </tbody>\n",
       "</table>\n",
       "</div>"
      ],
      "text/plain": [
       "   transactionid   visitorid        date  revenue group  order\n",
       "0     3667963787  3312258926  2019-08-15     30.4     B      1\n",
       "1     2804400009  3642806036  2019-08-15     15.2     B      1\n",
       "2     3797467345  1196621759  2019-08-15    155.1     B      1\n",
       "3     2282983706  2322279887  2019-08-15     40.5     B      1\n",
       "4      182168103   935554773  2019-08-15     35.0     B      1"
      ]
     },
     "execution_count": 23,
     "metadata": {},
     "output_type": "execute_result"
    }
   ],
   "source": [
    "opu= orders.groupby('visitorid', as_index=False).agg({'transactionid' : pd.Series.nunique})\n",
    "opu.columns = ['visitorid', 'order']\n",
    "orders= orders.merge(opu, how='left', on='visitorid')\n",
    "orders.head()"
   ]
  },
  {
   "cell_type": "markdown",
   "metadata": {},
   "source": [
    "Cumulative average order size group A:"
   ]
  },
  {
   "cell_type": "code",
   "execution_count": 24,
   "metadata": {},
   "outputs": [
    {
     "data": {
      "text/html": [
       "<div>\n",
       "<style scoped>\n",
       "    .dataframe tbody tr th:only-of-type {\n",
       "        vertical-align: middle;\n",
       "    }\n",
       "\n",
       "    .dataframe tbody tr th {\n",
       "        vertical-align: top;\n",
       "    }\n",
       "\n",
       "    .dataframe thead th {\n",
       "        text-align: right;\n",
       "    }\n",
       "</style>\n",
       "<table border=\"1\" class=\"dataframe\">\n",
       "  <thead>\n",
       "    <tr style=\"text-align: right;\">\n",
       "      <th></th>\n",
       "      <th>date</th>\n",
       "      <th>orders</th>\n",
       "      <th>revenue</th>\n",
       "      <th>visits</th>\n",
       "      <th>avg_order_size</th>\n",
       "    </tr>\n",
       "  </thead>\n",
       "  <tbody>\n",
       "    <tr>\n",
       "      <th>0</th>\n",
       "      <td>2019-08-01</td>\n",
       "      <td>23</td>\n",
       "      <td>2266.6</td>\n",
       "      <td>719</td>\n",
       "      <td>98.547826</td>\n",
       "    </tr>\n",
       "    <tr>\n",
       "      <th>2</th>\n",
       "      <td>2019-08-02</td>\n",
       "      <td>42</td>\n",
       "      <td>3734.9</td>\n",
       "      <td>1338</td>\n",
       "      <td>88.926190</td>\n",
       "    </tr>\n",
       "    <tr>\n",
       "      <th>4</th>\n",
       "      <td>2019-08-03</td>\n",
       "      <td>66</td>\n",
       "      <td>5550.1</td>\n",
       "      <td>1845</td>\n",
       "      <td>84.092424</td>\n",
       "    </tr>\n",
       "    <tr>\n",
       "      <th>6</th>\n",
       "      <td>2019-08-04</td>\n",
       "      <td>77</td>\n",
       "      <td>6225.6</td>\n",
       "      <td>2562</td>\n",
       "      <td>80.851948</td>\n",
       "    </tr>\n",
       "    <tr>\n",
       "      <th>8</th>\n",
       "      <td>2019-08-05</td>\n",
       "      <td>99</td>\n",
       "      <td>7623.6</td>\n",
       "      <td>3318</td>\n",
       "      <td>77.006061</td>\n",
       "    </tr>\n",
       "  </tbody>\n",
       "</table>\n",
       "</div>"
      ],
      "text/plain": [
       "         date  orders  revenue  visits  avg_order_size\n",
       "0  2019-08-01      23   2266.6     719       98.547826\n",
       "2  2019-08-02      42   3734.9    1338       88.926190\n",
       "4  2019-08-03      66   5550.1    1845       84.092424\n",
       "6  2019-08-04      77   6225.6    2562       80.851948\n",
       "8  2019-08-05      99   7623.6    3318       77.006061"
      ]
     },
     "execution_count": 24,
     "metadata": {},
     "output_type": "execute_result"
    }
   ],
   "source": [
    "xa=cumudata[cumudata['group']=='A'][['date','orders','revenue', 'visits']]\n",
    "xa['avg_order_size']=xa['revenue']/xa['orders']\n",
    "xa.head()"
   ]
  },
  {
   "cell_type": "markdown",
   "metadata": {},
   "source": [
    "The average order size seems to decrease over time, although there are more orders.\n",
    "\n",
    "Corollary: People buy with less money."
   ]
  },
  {
   "cell_type": "markdown",
   "metadata": {},
   "source": [
    "Cumulative average order size group B:"
   ]
  },
  {
   "cell_type": "code",
   "execution_count": 25,
   "metadata": {},
   "outputs": [
    {
     "data": {
      "text/html": [
       "<div>\n",
       "<style scoped>\n",
       "    .dataframe tbody tr th:only-of-type {\n",
       "        vertical-align: middle;\n",
       "    }\n",
       "\n",
       "    .dataframe tbody tr th {\n",
       "        vertical-align: top;\n",
       "    }\n",
       "\n",
       "    .dataframe thead th {\n",
       "        text-align: right;\n",
       "    }\n",
       "</style>\n",
       "<table border=\"1\" class=\"dataframe\">\n",
       "  <thead>\n",
       "    <tr style=\"text-align: right;\">\n",
       "      <th></th>\n",
       "      <th>date</th>\n",
       "      <th>orders</th>\n",
       "      <th>revenue</th>\n",
       "      <th>visits</th>\n",
       "      <th>avg_order_size</th>\n",
       "    </tr>\n",
       "  </thead>\n",
       "  <tbody>\n",
       "    <tr>\n",
       "      <th>1</th>\n",
       "      <td>2019-08-01</td>\n",
       "      <td>17</td>\n",
       "      <td>967.2</td>\n",
       "      <td>713</td>\n",
       "      <td>56.894118</td>\n",
       "    </tr>\n",
       "    <tr>\n",
       "      <th>3</th>\n",
       "      <td>2019-08-02</td>\n",
       "      <td>40</td>\n",
       "      <td>3535.3</td>\n",
       "      <td>1294</td>\n",
       "      <td>88.382500</td>\n",
       "    </tr>\n",
       "    <tr>\n",
       "      <th>5</th>\n",
       "      <td>2019-08-03</td>\n",
       "      <td>54</td>\n",
       "      <td>4606.9</td>\n",
       "      <td>1803</td>\n",
       "      <td>85.312963</td>\n",
       "    </tr>\n",
       "    <tr>\n",
       "      <th>7</th>\n",
       "      <td>2019-08-04</td>\n",
       "      <td>68</td>\n",
       "      <td>6138.5</td>\n",
       "      <td>2573</td>\n",
       "      <td>90.272059</td>\n",
       "    </tr>\n",
       "    <tr>\n",
       "      <th>9</th>\n",
       "      <td>2019-08-05</td>\n",
       "      <td>89</td>\n",
       "      <td>7587.8</td>\n",
       "      <td>3280</td>\n",
       "      <td>85.256180</td>\n",
       "    </tr>\n",
       "  </tbody>\n",
       "</table>\n",
       "</div>"
      ],
      "text/plain": [
       "         date  orders  revenue  visits  avg_order_size\n",
       "1  2019-08-01      17    967.2     713       56.894118\n",
       "3  2019-08-02      40   3535.3    1294       88.382500\n",
       "5  2019-08-03      54   4606.9    1803       85.312963\n",
       "7  2019-08-04      68   6138.5    2573       90.272059\n",
       "9  2019-08-05      89   7587.8    3280       85.256180"
      ]
     },
     "execution_count": 25,
     "metadata": {},
     "output_type": "execute_result"
    }
   ],
   "source": [
    "xb=cumudata[cumudata['group']=='B'][['date','orders','revenue', 'visits']]\n",
    "xb['avg_order_size']=xb['revenue']/xb['orders']\n",
    "xb.head()"
   ]
  },
  {
   "cell_type": "markdown",
   "metadata": {},
   "source": [
    "The average order size seems to increase over time and so does the number of orders."
   ]
  },
  {
   "cell_type": "markdown",
   "metadata": {},
   "source": [
    "3.Graph the relative difference in cumulative average order size for group B compared with group A:"
   ]
  },
  {
   "cell_type": "code",
   "execution_count": 26,
   "metadata": {},
   "outputs": [
    {
     "data": {
      "image/png": "[encoded data removed]",
      "text/plain": [
       "<Figure size 432x288 with 1 Axes>"
      ]
     },
     "metadata": {
      "needs_background": "light"
     },
     "output_type": "display_data"
    }
   ],
   "source": [
    "fig, ax = plt.subplots()\n",
    "plt.rcParams[\"figure.figsize\"] = (40,10)\n",
    "plt.title('Cumulative average order size by group', fontdict={'fontsize': 35})\n",
    "plt.xlabel(\"Date\", fontdict={'fontsize': 35})\n",
    "plt.ylabel(\"Avg order size\", fontdict={'fontsize': 35})\n",
    "plt.plot(xa['date'], xa['avg_order_size'], label='A')\n",
    "plt.plot(xb['date'], xb['avg_order_size'], label='B')\n",
    "plt.rc('font', size=20)\n",
    "plt.xticks(fontsize=16)\n",
    "plt.yticks(fontsize=26)\n",
    "ax.set_ylim(ymin=0)\n",
    "fig.autofmt_xdate()\n",
    "plt.legend();"
   ]
  },
  {
   "cell_type": "markdown",
   "metadata": {},
   "source": [
    "We can clearly see that the average order size of Group B is much higher than Group A.\n",
    "It can be seen that almost throughout the graph the average order size of Group B is larger (except for a small bypass of Group A) but not by much, until for a few days there is a sharp increase in the average order size of Group B.\n",
    "This can probably happen from a large amount of Group B orders or some very large purchases that have raised the average (something that very much connects us with the previous graph as well)."
   ]
  },
  {
   "cell_type": "markdown",
   "metadata": {},
   "source": [
    "4.Conversion rate of each group as a ratio of bookings to number of visits each day:"
   ]
  },
  {
   "cell_type": "code",
   "execution_count": 27,
   "metadata": {},
   "outputs": [],
   "source": [
    "xa['conversion']=xa['orders']/xa['visits']\n",
    "xb['conversion']=xb['orders']/xb['visits']"
   ]
  },
  {
   "cell_type": "code",
   "execution_count": 28,
   "metadata": {},
   "outputs": [
    {
     "data": {
      "image/png": "[encoded data removed]",
      "text/plain": [
       "<Figure size 2880x720 with 1 Axes>"
      ]
     },
     "metadata": {
      "needs_background": "light"
     },
     "output_type": "display_data"
    }
   ],
   "source": [
    "fig, ax = plt.subplots()\n",
    "plt.rcParams[\"figure.figsize\"] = (40,10)\n",
    "plt.title('Conversion rate as the ratio of orders to the number of visits for each day', fontdict={'fontsize': 35})\n",
    "plt.xlabel(\"Date\", fontdict={'fontsize': 35})\n",
    "plt.ylabel(\"Conversion\", fontdict={'fontsize': 35})\n",
    "plt.plot(xa['date'], xa['conversion'], label='Group A')\n",
    "plt.plot(xb['date'], xb['conversion'], label='Group B')\n",
    "plt.xticks(fontsize=16)\n",
    "plt.yticks(fontsize=26)\n",
    "ax.set_ylim(ymin=0)\n",
    "fig.autofmt_xdate()\n",
    "plt.legend();"
   ]
  },
  {
   "cell_type": "markdown",
   "metadata": {},
   "source": [
    "The conversion rate seemed to be much higher in Group A at first but both were on the rise. After two days they both changed the trend and started crashing but Group B stopped the crash and started rising until it reached a rate of 3.7% and started to shuffle compared to Group A which continued to crash until it reached a ratio of 3% and there it started to shake.\n",
    "The same event that affected the previous graphs is repeated here."
   ]
  },
  {
   "cell_type": "markdown",
   "metadata": {},
   "source": [
    "5.Scatter chart of the number of orders per user:"
   ]
  },
  {
   "cell_type": "code",
   "execution_count": 29,
   "metadata": {},
   "outputs": [
    {
     "data": {
      "image/png": "[encoded data removed]",
      "text/plain": [
       "<Figure size 2880x720 with 1 Axes>"
      ]
     },
     "metadata": {
      "needs_background": "light"
     },
     "output_type": "display_data"
    }
   ],
   "source": [
    "fig, ax = plt.subplots()\n",
    "plt.title('Orders per user', fontdict={'fontsize': 35})\n",
    "plt.xlabel(\"Users\", fontdict={'fontsize': 35})\n",
    "plt.ylabel(\"Orders\", fontdict={'fontsize': 35})\n",
    "y_values = pd.Series(range(0,len(orders['order'])))\n",
    "x_values = pd.Series(range(0,len(orders['visitorid'])))\n",
    "plt.scatter(x_values, orders['order'], alpha=0.5)\n",
    "plt.xticks(fontsize=26)\n",
    "plt.yticks(fontsize=26)\n",
    "ax.set_ylim(ymin=1, ymax=10)\n",
    "plt.show()"
   ]
  },
  {
   "cell_type": "markdown",
   "metadata": {},
   "source": [
    "It can be seen that the vast majority of users place one order with very few exceptions who order more."
   ]
  },
  {
   "cell_type": "markdown",
   "metadata": {},
   "source": [
    "Because if there is a straight line then it means that the increase in the number of orders is equal to the increase in the number of buyers - which means that each person orders one order .."
   ]
  },
  {
   "cell_type": "markdown",
   "metadata": {},
   "source": [
    "6. 95th and 99th percentiles for the number of orders per user:"
   ]
  },
  {
   "cell_type": "code",
   "execution_count": 30,
   "metadata": {},
   "outputs": [
    {
     "data": {
      "text/plain": [
       "0    1.210526\n",
       "1    1.000000\n",
       "2    1.166667\n",
       "3    1.025641\n",
       "4    1.100000\n",
       "Name: order_per_user, dtype: float64"
      ]
     },
     "execution_count": 30,
     "metadata": {},
     "output_type": "execute_result"
    }
   ],
   "source": [
    "cumudata['order_per_user']= cumudata['orders']/cumudata['buyers']\n",
    "cumudata['order_per_user'].head()"
   ]
  },
  {
   "cell_type": "code",
   "execution_count": 31,
   "metadata": {
    "scrolled": true
   },
   "outputs": [
    {
     "data": {
      "text/plain": [
       "array([1., 2.])"
      ]
     },
     "execution_count": 31,
     "metadata": {},
     "output_type": "execute_result"
    }
   ],
   "source": [
    "np.percentile(opu['order'], [95, 99])"
   ]
  },
  {
   "cell_type": "markdown",
   "metadata": {},
   "source": [
    "95th percentiles for the number of orders per user :2.\n",
    "\n",
    "99th percentiles for the number of orders per user :4."
   ]
  },
  {
   "cell_type": "markdown",
   "metadata": {},
   "source": [
    "According to the percentages examined in the above test it can be seen that 95 percent of users place 2 orders so it must be concluded that each user orders one order and those exceptions (which also raised our average) are those who ordered more than one order.\n",
    "\n",
    "Conclusion - Our anomalous number is 2 and exceptions should be removed.."
   ]
  },
  {
   "cell_type": "code",
   "execution_count": 32,
   "metadata": {},
   "outputs": [],
   "source": [
    "orders_n = orders.query('order < 2')"
   ]
  },
  {
   "cell_type": "markdown",
   "metadata": {},
   "source": [
    "7.Scatter chart of order prices:"
   ]
  },
  {
   "cell_type": "code",
   "execution_count": 33,
   "metadata": {},
   "outputs": [
    {
     "data": {
      "image/png": "[encoded data removed]",
      "text/plain": [
       "<Figure size 2880x720 with 1 Axes>"
      ]
     },
     "metadata": {
      "needs_background": "light"
     },
     "output_type": "display_data"
    }
   ],
   "source": [
    "fig, ax = plt.subplots()\n",
    "plt.title('Order prices', fontdict={'fontsize': 35})\n",
    "plt.xlabel(\"Orders\", fontdict={'fontsize': 35})\n",
    "plt.ylabel(\"Revenue\", fontdict={'fontsize': 35})\n",
    "x_values1 = pd.Series(range(0,len(orders['order'])))\n",
    "plt.scatter(x_values1, orders['revenue'], alpha=0.5)\n",
    "plt.xticks(fontsize=26)\n",
    "plt.yticks(fontsize=26)\n",
    "ax.set_ylim(ymin=0)\n",
    "plt.show()"
   ]
  },
  {
   "cell_type": "markdown",
   "metadata": {},
   "source": [
    "According to the scatter chart we can see that the order prices range from 0 to 500, if so we have a few exceptions up to a price of 2500 and one very large exception that distorts our entire data set.\n",
    "Conclusion - The exceptions should be removed."
   ]
  },
  {
   "cell_type": "markdown",
   "metadata": {},
   "source": [
    "8. 95th and 99th percentiles for the number of Order prices:"
   ]
  },
  {
   "cell_type": "code",
   "execution_count": 34,
   "metadata": {
    "scrolled": true
   },
   "outputs": [
    {
     "data": {
      "text/plain": [
       "array([414.275, 830.3  ])"
      ]
     },
     "execution_count": 34,
     "metadata": {},
     "output_type": "execute_result"
    }
   ],
   "source": [
    "np.percentile(orders['revenue'], [95, 99])"
   ]
  },
  {
   "cell_type": "markdown",
   "metadata": {},
   "source": [
    "95th percentiles for orders prices : 435.54$.\n",
    "\n",
    "99th percentiles for orders prices : 830.3$."
   ]
  },
  {
   "cell_type": "markdown",
   "metadata": {},
   "source": [
    "According to the 95th and 99th percentiles for the number of order prices, We can set the anomalous price to be around $ 435."
   ]
  },
  {
   "cell_type": "code",
   "execution_count": 35,
   "metadata": {
    "scrolled": true
   },
   "outputs": [],
   "source": [
    "orders_n = orders.query('revenue < 435')"
   ]
  },
  {
   "cell_type": "markdown",
   "metadata": {},
   "source": [
    "9.Statistical significance of the difference in conversion between the groups:"
   ]
  },
  {
   "cell_type": "code",
   "execution_count": 36,
   "metadata": {},
   "outputs": [
    {
     "name": "stdout",
     "output_type": "stream",
     "text": [
      "0.011\n",
      "0.160\n"
     ]
    }
   ],
   "source": [
    "alfa = 0.05\n",
    "#H0 = Conversion in group A == Conversion in group B\n",
    "#H1 = Conversion in group A != Conversion in group B\n",
    "\n",
    "ordersByUsersA = orders[orders['group']=='A'].groupby('visitorid', as_index=False).agg({'transactionid' : pd.Series.nunique})\n",
    "ordersByUsersA.columns = ['visitorid', 'orders']\n",
    "\n",
    "ordersByUsersB = orders[orders['group']=='B'].groupby('visitorid', as_index=False).agg({'transactionid' : pd.Series.nunique})\n",
    "ordersByUsersB.columns = ['visitorid', 'orders']\n",
    "\n",
    "sampleA = pd.concat([ordersByUsersA['orders'],pd.Series(0, index=np.arange(visits[visits['group']=='A']['visits'].sum() - len(ordersByUsersA['orders'])), name='orders')],axis=0)\n",
    "\n",
    "sampleB = pd.concat([ordersByUsersB['orders'],pd.Series(0, index=np.arange(visits[visits['group']=='B']['visits'].sum() - len(ordersByUsersB['orders'])), name='orders')],axis=0)\n",
    "#I use the Man-Whitney test to see if there is a difference between the groups in the conversion.\n",
    "print(\"{0:.3f}\".format(stats.mannwhitneyu(sampleA, sampleB)[1]))\n",
    "print(\"{0:.3f}\".format(sampleB.mean()/sampleA.mean()-1))"
   ]
  },
  {
   "cell_type": "markdown",
   "metadata": {},
   "source": [
    "Conclusion: based on the raw data, we reject H0 using significance level 0.05.\n",
    "\n",
    "The first row of the output gives us the p-value, 0.009, which is lower than 0.05. So we can reject the null hypothesis that there's not a statistically significant difference in conversion between the groups.\n",
    "\n",
    "the relative profit of group B is 18.3% (the second row of the output)."
   ]
  },
  {
   "cell_type": "markdown",
   "metadata": {},
   "source": [
    "10. Statistical significance of the difference in average order size between the groups:"
   ]
  },
  {
   "cell_type": "code",
   "execution_count": 37,
   "metadata": {},
   "outputs": [
    {
     "name": "stdout",
     "output_type": "stream",
     "text": [
      "0.862\n",
      "0.278\n"
     ]
    }
   ],
   "source": [
    "alfa = 0.05\n",
    "#H0 = Order size in group A == Order size in group B\n",
    "#H1 = Order size in group A != Order size in group B\n",
    "\n",
    "#I use the Man-Whitney test to see if there is a difference between the groups in the order size.\n",
    "print('{0:.3f}'.format(stats.mannwhitneyu(orders[orders['group']=='A']['revenue'], orders[orders['group']=='B']['revenue'])[1]))\n",
    "print('{0:.3f}'.format(orders[orders['group']=='B']['revenue'].mean()/orders[orders['group']=='A']['revenue'].mean()-1)) "
   ]
  },
  {
   "cell_type": "markdown",
   "metadata": {},
   "source": [
    "Conclusion: based on the raw data, we can't reject H0 using significance level 0.05.\n",
    "\n",
    "The p-value is considerably higher than 0.05, so there's no reason to reject the null hypothesis and conclude that average order size differs between the groups."
   ]
  },
  {
   "cell_type": "markdown",
   "metadata": {},
   "source": [
    "Let's find the total number of anomalous users:"
   ]
  },
  {
   "cell_type": "code",
   "execution_count": 38,
   "metadata": {},
   "outputs": [
    {
     "name": "stdout",
     "output_type": "stream",
     "text": [
      "937    148427295\n",
      "792    204675465\n",
      "586    358944393\n",
      "36     366673373\n",
      "557    382846391\n",
      "Name: visitorid, dtype: int64\n",
      "(66,)\n"
     ]
    }
   ],
   "source": [
    "usersWithManyOrders = pd.concat([ordersByUsersA[ordersByUsersA['orders'] > 1]['visitorid'], ordersByUsersB[ordersByUsersB['orders'] > 4]['visitorid']], axis = 0)\n",
    "usersWithExpensiveOrders = orders[orders['revenue'] > 435]['visitorid']\n",
    "abnormalUsers = pd.concat([usersWithManyOrders, usersWithExpensiveOrders], axis = 0).drop_duplicates().sort_values()\n",
    "print(abnormalUsers.head(5))\n",
    "print(abnormalUsers.shape)"
   ]
  },
  {
   "cell_type": "code",
   "execution_count": 39,
   "metadata": {},
   "outputs": [],
   "source": [
    "sampleAFiltered = pd.concat([ordersByUsersA[np.logical_not(ordersByUsersA['visitorid'].isin(abnormalUsers))]['orders'],pd.Series(0, index=np.arange(visits[visits['group']=='A']['visits'].sum() - len(ordersByUsersA['orders'])),name='orders')],axis=0)\n",
    "\n",
    "sampleBFiltered = pd.concat([ordersByUsersB[np.logical_not(ordersByUsersB['visitorid'].isin(abnormalUsers))]['orders'],pd.Series(0, index=np.arange(visits[visits['group']=='B']['visits'].sum() - len(ordersByUsersB['orders'])),name='orders')],axis=0)"
   ]
  },
  {
   "cell_type": "markdown",
   "metadata": {},
   "source": [
    "11.Statistical significance of the difference in conversion between the groups- filtered data:"
   ]
  },
  {
   "cell_type": "code",
   "execution_count": 40,
   "metadata": {},
   "outputs": [
    {
     "name": "stdout",
     "output_type": "stream",
     "text": [
      "0.002\n",
      "0.270\n"
     ]
    }
   ],
   "source": [
    "alfa = 0.05\n",
    "#H0 = Conversion in group A == Conversion in group B\n",
    "#H1 = Conversion in group A != Conversion in group B\n",
    "\n",
    "#I use the Man-Whitney test to see if there is a difference between the groups in the conversion.\n",
    "print(\"{0:.3f}\".format(stats.mannwhitneyu(sampleAFiltered, sampleBFiltered)[1]))\n",
    "print(\"{0:.3f}\".format(sampleBFiltered.mean()/sampleAFiltered.mean()-1))"
   ]
  },
  {
   "cell_type": "markdown",
   "metadata": {},
   "source": [
    "Conclusion: based on the raw data, we reject H0 using significance level 0.05.\n",
    "\n",
    "The results for conversion almost didn't change.\n",
    "\n",
    "The relative profit of group B almost didn't change.\n",
    "\n",
    "Conclusion - The exceptions did not affect too much on the conversion between the groups."
   ]
  },
  {
   "cell_type": "markdown",
   "metadata": {},
   "source": [
    "12. Statistical significance of the difference in average order size between the groups-filtered data:"
   ]
  },
  {
   "cell_type": "code",
   "execution_count": 41,
   "metadata": {},
   "outputs": [
    {
     "name": "stdout",
     "output_type": "stream",
     "text": [
      "0.969\n",
      "-0.013\n"
     ]
    }
   ],
   "source": [
    "alfa = 0.05\n",
    "#H0 = Order size in group A == Order size in group B\n",
    "#H1 = Order size in group A != Order size in group B\n",
    "\n",
    "#I use the Man-Whitney test to see if there is a difference between the groups in the conversion.\n",
    "print('{0:.3f}'.format(stats.mannwhitneyu(\n",
    "    orders[np.logical_and(\n",
    "        orders['group']=='A',\n",
    "        np.logical_not(orders['visitorid'].isin(abnormalUsers)))]['revenue'],\n",
    "    orders[np.logical_and(\n",
    "        orders['group']=='B',\n",
    "        np.logical_not(orders['visitorid'].isin(abnormalUsers)))]['revenue'])[1]))\n",
    "\n",
    "print('{0:.3f}'.format(\n",
    "    orders[np.logical_and(orders['group']=='B',np.logical_not(orders['visitorid'].isin(abnormalUsers)))]['revenue'].mean()/\n",
    "    orders[np.logical_and(\n",
    "        orders['group']=='A',\n",
    "        np.logical_not(orders['visitorid'].isin(abnormalUsers)))]['revenue'].mean() - 1)) \n"
   ]
  },
  {
   "cell_type": "markdown",
   "metadata": {},
   "source": [
    "Conclusion: based on the raw data, we can reject H0 using significance level 0.05.\n",
    "\n",
    "The p-value is Rose significantly and raised the significance percentage to 99.6% \n",
    "\n",
    "The average order size completely reversed after we downloaded the exceptions, without which the average order size of Group A is higher at 0.4%.\n",
    "\n",
    "Conclusion - The exceptions affect very much on the average order size."
   ]
  },
  {
   "cell_type": "markdown",
   "metadata": {},
   "source": [
    "13. A / B test results:\n",
    "\n",
    "* We need to declare the test a success and stop it.\n",
    "\n",
    "* group B conversion rate between the groups is 16.6%.\n",
    "\n",
    "* The averge order cost is the same among groups."
   ]
  }
 ],
 "metadata": {
  "ExecuteTimeLog": [
   {
    "duration": 1904,
    "start_time": "2022-04-22T17:15:31.510Z"
   },
   {
    "duration": 13,
    "start_time": "2022-04-22T17:23:54.738Z"
   },
   {
    "duration": 25,
    "start_time": "2022-04-22T17:27:20.256Z"
   },
   {
    "duration": 7,
    "start_time": "2022-04-22T17:29:01.416Z"
   },
   {
    "duration": 9,
    "start_time": "2022-04-22T17:29:21.972Z"
   },
   {
    "duration": 168,
    "start_time": "2022-04-22T17:32:09.411Z"
   },
   {
    "duration": 14,
    "start_time": "2022-04-22T17:32:20.421Z"
   },
   {
    "duration": 3,
    "start_time": "2022-04-22T17:32:50.474Z"
   },
   {
    "duration": 2,
    "start_time": "2022-04-22T17:32:56.426Z"
   },
   {
    "duration": 3,
    "start_time": "2022-04-22T17:33:03.761Z"
   },
   {
    "duration": 10,
    "start_time": "2022-04-22T17:33:12.158Z"
   },
   {
    "duration": 3,
    "start_time": "2022-04-22T17:33:23.810Z"
   },
   {
    "duration": 3,
    "start_time": "2022-04-22T17:33:28.741Z"
   },
   {
    "duration": 4,
    "start_time": "2022-04-22T17:34:39.648Z"
   },
   {
    "duration": 3,
    "start_time": "2022-04-22T17:34:42.700Z"
   },
   {
    "duration": 4,
    "start_time": "2022-04-22T17:34:53.555Z"
   },
   {
    "duration": 11,
    "start_time": "2022-04-22T17:35:08.070Z"
   },
   {
    "duration": 4,
    "start_time": "2022-04-22T17:35:14.342Z"
   },
   {
    "duration": 27,
    "start_time": "2022-04-22T17:35:14.349Z"
   },
   {
    "duration": 7,
    "start_time": "2022-04-22T17:35:14.378Z"
   },
   {
    "duration": 8,
    "start_time": "2022-04-22T17:35:19.964Z"
   },
   {
    "duration": 17,
    "start_time": "2022-04-22T17:35:32.148Z"
   },
   {
    "duration": 10,
    "start_time": "2022-04-22T17:35:49.547Z"
   },
   {
    "duration": 3,
    "start_time": "2022-04-22T17:37:10.123Z"
   },
   {
    "duration": 4,
    "start_time": "2022-04-22T17:37:14.640Z"
   },
   {
    "duration": 9,
    "start_time": "2022-04-22T17:37:14.645Z"
   },
   {
    "duration": 16,
    "start_time": "2022-04-22T17:37:14.656Z"
   },
   {
    "duration": 4,
    "start_time": "2022-04-22T17:37:14.674Z"
   },
   {
    "duration": 3,
    "start_time": "2022-04-22T17:37:23.893Z"
   },
   {
    "duration": 3,
    "start_time": "2022-04-22T17:37:57.318Z"
   },
   {
    "duration": 14,
    "start_time": "2022-04-22T17:38:00.162Z"
   },
   {
    "duration": 12,
    "start_time": "2022-04-22T17:38:18.759Z"
   },
   {
    "duration": 4,
    "start_time": "2022-04-22T17:41:13.346Z"
   },
   {
    "duration": 14,
    "start_time": "2022-04-22T17:41:17.967Z"
   },
   {
    "duration": 3,
    "start_time": "2022-04-22T17:41:34.180Z"
   },
   {
    "duration": 18,
    "start_time": "2022-04-22T17:41:37.231Z"
   },
   {
    "duration": 3,
    "start_time": "2022-04-22T17:41:44.698Z"
   },
   {
    "duration": 2,
    "start_time": "2022-04-22T17:41:46.341Z"
   },
   {
    "duration": 14,
    "start_time": "2022-04-22T17:41:49.060Z"
   },
   {
    "duration": 3,
    "start_time": "2022-04-22T17:42:02.501Z"
   },
   {
    "duration": 12,
    "start_time": "2022-04-22T17:42:04.848Z"
   },
   {
    "duration": 2,
    "start_time": "2022-04-22T17:42:08.210Z"
   },
   {
    "duration": 13,
    "start_time": "2022-04-22T17:42:11.245Z"
   },
   {
    "duration": 3,
    "start_time": "2022-04-22T17:42:15.649Z"
   },
   {
    "duration": 6,
    "start_time": "2022-04-22T17:42:15.654Z"
   },
   {
    "duration": 13,
    "start_time": "2022-04-22T17:42:19.715Z"
   },
   {
    "duration": 17,
    "start_time": "2022-04-22T17:42:38.766Z"
   },
   {
    "duration": 2,
    "start_time": "2022-04-22T17:42:41.044Z"
   },
   {
    "duration": 11,
    "start_time": "2022-04-22T17:42:47.479Z"
   },
   {
    "duration": 12,
    "start_time": "2022-04-22T17:43:01.718Z"
   },
   {
    "duration": 2,
    "start_time": "2022-04-22T17:45:38.284Z"
   },
   {
    "duration": 9,
    "start_time": "2022-04-22T17:45:40.595Z"
   },
   {
    "duration": 4,
    "start_time": "2022-04-22T17:46:39.745Z"
   },
   {
    "duration": 5,
    "start_time": "2022-04-22T17:46:41.545Z"
   },
   {
    "duration": 16,
    "start_time": "2022-04-22T17:46:48.461Z"
   },
   {
    "duration": 13,
    "start_time": "2022-04-22T17:46:52.040Z"
   },
   {
    "duration": 11,
    "start_time": "2022-04-22T17:46:54.641Z"
   },
   {
    "duration": 15,
    "start_time": "2022-04-22T17:53:26.599Z"
   },
   {
    "duration": 6,
    "start_time": "2022-04-22T17:56:36.068Z"
   },
   {
    "duration": 6,
    "start_time": "2022-04-22T17:58:12.156Z"
   },
   {
    "duration": 18,
    "start_time": "2022-04-22T18:02:58.520Z"
   },
   {
    "duration": 141,
    "start_time": "2022-04-22T18:04:13.254Z"
   },
   {
    "duration": 14,
    "start_time": "2022-04-22T18:09:52.950Z"
   },
   {
    "duration": 15,
    "start_time": "2022-04-22T18:11:12.506Z"
   },
   {
    "duration": 17,
    "start_time": "2022-04-22T18:11:26.132Z"
   },
   {
    "duration": 3,
    "start_time": "2022-04-22T18:11:35.791Z"
   },
   {
    "duration": 18,
    "start_time": "2022-04-22T18:11:35.796Z"
   },
   {
    "duration": 17,
    "start_time": "2022-04-22T18:11:35.816Z"
   },
   {
    "duration": 0,
    "start_time": "2022-04-22T18:11:35.835Z"
   },
   {
    "duration": 0,
    "start_time": "2022-04-22T18:11:35.837Z"
   },
   {
    "duration": 0,
    "start_time": "2022-04-22T18:11:35.838Z"
   },
   {
    "duration": 11,
    "start_time": "2022-04-22T18:11:46.192Z"
   },
   {
    "duration": 12,
    "start_time": "2022-04-22T18:13:06.225Z"
   },
   {
    "duration": 10,
    "start_time": "2022-04-22T18:13:19.778Z"
   },
   {
    "duration": 12,
    "start_time": "2022-04-22T18:14:35.618Z"
   },
   {
    "duration": 10,
    "start_time": "2022-04-22T18:14:44.699Z"
   },
   {
    "duration": 8,
    "start_time": "2022-04-22T18:15:13.493Z"
   },
   {
    "duration": 10,
    "start_time": "2022-04-22T18:15:24.440Z"
   },
   {
    "duration": 11,
    "start_time": "2022-04-22T18:15:31.174Z"
   },
   {
    "duration": 2,
    "start_time": "2022-04-22T18:15:55.269Z"
   },
   {
    "duration": 15,
    "start_time": "2022-04-22T18:15:57.483Z"
   },
   {
    "duration": 10,
    "start_time": "2022-04-22T18:15:59.765Z"
   },
   {
    "duration": 14,
    "start_time": "2022-04-22T18:16:13.400Z"
   },
   {
    "duration": 5,
    "start_time": "2022-04-22T18:18:30.412Z"
   },
   {
    "duration": 9,
    "start_time": "2022-04-22T18:18:39.901Z"
   },
   {
    "duration": 12,
    "start_time": "2022-04-22T18:19:44.094Z"
   },
   {
    "duration": 3,
    "start_time": "2022-04-22T18:21:19.221Z"
   },
   {
    "duration": 8,
    "start_time": "2022-04-22T18:21:28.506Z"
   },
   {
    "duration": 12,
    "start_time": "2022-04-22T18:21:34.061Z"
   },
   {
    "duration": 9,
    "start_time": "2022-04-22T18:21:55.298Z"
   },
   {
    "duration": 12,
    "start_time": "2022-04-22T18:22:07.666Z"
   },
   {
    "duration": 12,
    "start_time": "2022-04-22T18:28:12.936Z"
   },
   {
    "duration": 4,
    "start_time": "2022-04-22T18:31:00.686Z"
   },
   {
    "duration": 28,
    "start_time": "2022-04-22T18:31:00.693Z"
   },
   {
    "duration": 10,
    "start_time": "2022-04-22T18:31:00.723Z"
   },
   {
    "duration": 20,
    "start_time": "2022-04-22T18:31:00.736Z"
   },
   {
    "duration": 7,
    "start_time": "2022-04-22T18:31:00.758Z"
   },
   {
    "duration": 15,
    "start_time": "2022-04-22T18:31:00.767Z"
   },
   {
    "duration": 24,
    "start_time": "2022-04-22T18:31:00.784Z"
   },
   {
    "duration": 7,
    "start_time": "2022-04-22T18:33:03.253Z"
   },
   {
    "duration": 15,
    "start_time": "2022-04-22T18:33:13.997Z"
   },
   {
    "duration": 21,
    "start_time": "2022-04-22T18:42:17.811Z"
   },
   {
    "duration": 12,
    "start_time": "2022-04-22T18:42:28.569Z"
   },
   {
    "duration": 12,
    "start_time": "2022-04-22T18:42:34.885Z"
   },
   {
    "duration": 10,
    "start_time": "2022-04-22T18:42:58.996Z"
   },
   {
    "duration": 10,
    "start_time": "2022-04-22T18:43:06.863Z"
   },
   {
    "duration": 12,
    "start_time": "2022-04-22T19:05:04.095Z"
   },
   {
    "duration": 11,
    "start_time": "2022-04-22T19:06:05.834Z"
   },
   {
    "duration": 11,
    "start_time": "2022-04-22T19:06:27.105Z"
   },
   {
    "duration": 10,
    "start_time": "2022-04-22T19:06:36.669Z"
   },
   {
    "duration": 3,
    "start_time": "2022-04-22T19:06:44.605Z"
   },
   {
    "duration": 16,
    "start_time": "2022-04-22T19:06:44.610Z"
   },
   {
    "duration": 7,
    "start_time": "2022-04-22T19:06:44.628Z"
   },
   {
    "duration": 6,
    "start_time": "2022-04-22T19:06:44.637Z"
   },
   {
    "duration": 6,
    "start_time": "2022-04-22T19:06:44.644Z"
   },
   {
    "duration": 11,
    "start_time": "2022-04-22T19:06:44.651Z"
   },
   {
    "duration": 9,
    "start_time": "2022-04-22T19:06:44.663Z"
   },
   {
    "duration": 10,
    "start_time": "2022-04-22T19:06:44.674Z"
   },
   {
    "duration": 40,
    "start_time": "2022-04-22T19:06:44.685Z"
   },
   {
    "duration": 10,
    "start_time": "2022-04-22T19:07:01.007Z"
   },
   {
    "duration": 10,
    "start_time": "2022-04-22T19:22:46.784Z"
   },
   {
    "duration": 10,
    "start_time": "2022-04-22T19:22:54.353Z"
   },
   {
    "duration": 9,
    "start_time": "2022-04-22T19:38:23.265Z"
   },
   {
    "duration": 16,
    "start_time": "2022-04-22T19:38:40.023Z"
   },
   {
    "duration": 18,
    "start_time": "2022-04-22T19:39:03.721Z"
   },
   {
    "duration": 13,
    "start_time": "2022-04-22T19:39:26.298Z"
   },
   {
    "duration": 139,
    "start_time": "2022-04-22T19:51:28.405Z"
   },
   {
    "duration": 2551,
    "start_time": "2022-04-23T12:08:50.866Z"
   },
   {
    "duration": 48,
    "start_time": "2022-04-23T12:08:53.420Z"
   },
   {
    "duration": 11,
    "start_time": "2022-04-23T12:08:53.470Z"
   },
   {
    "duration": 22,
    "start_time": "2022-04-23T12:08:53.484Z"
   },
   {
    "duration": 12,
    "start_time": "2022-04-23T12:08:53.509Z"
   },
   {
    "duration": 28,
    "start_time": "2022-04-23T12:08:53.523Z"
   },
   {
    "duration": 48,
    "start_time": "2022-04-23T12:08:53.554Z"
   },
   {
    "duration": 271,
    "start_time": "2022-04-23T12:14:51.753Z"
   },
   {
    "duration": 86,
    "start_time": "2022-04-23T12:15:34.710Z"
   },
   {
    "duration": 44,
    "start_time": "2022-04-23T12:16:23.216Z"
   },
   {
    "duration": 27,
    "start_time": "2022-04-23T12:16:48.009Z"
   },
   {
    "duration": 2637,
    "start_time": "2022-04-23T17:14:50.725Z"
   },
   {
    "duration": 33,
    "start_time": "2022-04-23T17:14:53.365Z"
   },
   {
    "duration": 12,
    "start_time": "2022-04-23T17:14:53.400Z"
   },
   {
    "duration": 23,
    "start_time": "2022-04-23T17:14:53.414Z"
   },
   {
    "duration": 16,
    "start_time": "2022-04-23T17:14:53.441Z"
   },
   {
    "duration": 25,
    "start_time": "2022-04-23T17:14:53.460Z"
   },
   {
    "duration": 41,
    "start_time": "2022-04-23T17:14:53.487Z"
   },
   {
    "duration": 37,
    "start_time": "2022-04-23T17:14:53.530Z"
   },
   {
    "duration": 12,
    "start_time": "2022-04-23T17:14:53.570Z"
   },
   {
    "duration": 44,
    "start_time": "2022-04-23T17:16:00.008Z"
   },
   {
    "duration": 19,
    "start_time": "2022-04-23T17:16:18.863Z"
   },
   {
    "duration": 25,
    "start_time": "2022-04-23T17:16:28.619Z"
   },
   {
    "duration": 22,
    "start_time": "2022-04-23T17:16:35.651Z"
   },
   {
    "duration": 210,
    "start_time": "2022-04-23T17:29:03.138Z"
   },
   {
    "duration": 8,
    "start_time": "2022-04-23T17:29:48.117Z"
   },
   {
    "duration": 66,
    "start_time": "2022-04-23T17:30:13.251Z"
   },
   {
    "duration": 34,
    "start_time": "2022-04-23T17:30:29.193Z"
   },
   {
    "duration": 27,
    "start_time": "2022-04-23T17:30:47.249Z"
   },
   {
    "duration": 61,
    "start_time": "2022-04-23T17:31:34.335Z"
   },
   {
    "duration": 63,
    "start_time": "2022-04-23T17:32:03.402Z"
   },
   {
    "duration": 7,
    "start_time": "2022-04-23T17:32:12.691Z"
   },
   {
    "duration": 8,
    "start_time": "2022-04-23T17:32:24.683Z"
   },
   {
    "duration": 40,
    "start_time": "2022-04-23T17:34:05.815Z"
   },
   {
    "duration": 16,
    "start_time": "2022-04-23T17:34:20.462Z"
   },
   {
    "duration": 21,
    "start_time": "2022-04-23T17:34:31.700Z"
   },
   {
    "duration": 629,
    "start_time": "2022-04-23T17:37:03.765Z"
   },
   {
    "duration": 724,
    "start_time": "2022-04-23T17:37:21.173Z"
   },
   {
    "duration": 907,
    "start_time": "2022-04-23T17:37:34.588Z"
   },
   {
    "duration": 570,
    "start_time": "2022-04-23T17:38:02.950Z"
   },
   {
    "duration": 895,
    "start_time": "2022-04-23T17:38:44.482Z"
   },
   {
    "duration": 1712,
    "start_time": "2022-04-23T17:39:03.659Z"
   },
   {
    "duration": 1409,
    "start_time": "2022-04-23T17:39:22.007Z"
   },
   {
    "duration": 1044,
    "start_time": "2022-04-23T17:41:14.655Z"
   },
   {
    "duration": 1306,
    "start_time": "2022-04-23T17:42:16.971Z"
   },
   {
    "duration": 2296,
    "start_time": "2022-04-23T17:45:22.807Z"
   },
   {
    "duration": 4745,
    "start_time": "2022-04-23T17:45:33.976Z"
   },
   {
    "duration": 583,
    "start_time": "2022-04-23T17:45:50.993Z"
   },
   {
    "duration": 465,
    "start_time": "2022-04-23T17:46:21.263Z"
   },
   {
    "duration": 593,
    "start_time": "2022-04-23T17:46:34.131Z"
   },
   {
    "duration": 589,
    "start_time": "2022-04-23T17:46:46.193Z"
   },
   {
    "duration": 554,
    "start_time": "2022-04-23T17:46:56.481Z"
   },
   {
    "duration": 652,
    "start_time": "2022-04-23T17:47:16.948Z"
   },
   {
    "duration": 933,
    "start_time": "2022-04-23T17:47:30.544Z"
   },
   {
    "duration": 721,
    "start_time": "2022-04-23T17:47:37.831Z"
   },
   {
    "duration": 758,
    "start_time": "2022-04-23T17:47:49.838Z"
   },
   {
    "duration": 29,
    "start_time": "2022-04-23T18:02:23.709Z"
   },
   {
    "duration": 21,
    "start_time": "2022-04-23T18:03:41.780Z"
   },
   {
    "duration": 31,
    "start_time": "2022-04-23T18:08:34.414Z"
   },
   {
    "duration": 21,
    "start_time": "2022-04-23T18:08:54.826Z"
   },
   {
    "duration": 7,
    "start_time": "2022-04-23T18:09:30.988Z"
   },
   {
    "duration": 36,
    "start_time": "2022-04-23T18:09:31.002Z"
   },
   {
    "duration": 13,
    "start_time": "2022-04-23T18:09:31.041Z"
   },
   {
    "duration": 22,
    "start_time": "2022-04-23T18:09:31.058Z"
   },
   {
    "duration": 9,
    "start_time": "2022-04-23T18:09:31.164Z"
   },
   {
    "duration": 33,
    "start_time": "2022-04-23T18:09:31.177Z"
   },
   {
    "duration": 24,
    "start_time": "2022-04-23T18:09:31.212Z"
   },
   {
    "duration": 43,
    "start_time": "2022-04-23T18:09:31.238Z"
   },
   {
    "duration": 22,
    "start_time": "2022-04-23T18:09:31.285Z"
   },
   {
    "duration": 10,
    "start_time": "2022-04-23T18:09:31.310Z"
   },
   {
    "duration": 18,
    "start_time": "2022-04-23T18:09:31.322Z"
   },
   {
    "duration": 25,
    "start_time": "2022-04-23T18:09:31.342Z"
   },
   {
    "duration": 24,
    "start_time": "2022-04-23T18:09:31.371Z"
   },
   {
    "duration": 684,
    "start_time": "2022-04-23T18:09:31.398Z"
   },
   {
    "duration": 40,
    "start_time": "2022-04-23T18:09:32.084Z"
   },
   {
    "duration": 21,
    "start_time": "2022-04-23T18:10:56.431Z"
   },
   {
    "duration": 18,
    "start_time": "2022-04-23T18:12:12.340Z"
   },
   {
    "duration": 14,
    "start_time": "2022-04-23T18:14:21.921Z"
   },
   {
    "duration": 14,
    "start_time": "2022-04-23T18:14:45.985Z"
   },
   {
    "duration": 26,
    "start_time": "2022-04-23T18:15:05.393Z"
   },
   {
    "duration": 22,
    "start_time": "2022-04-23T18:16:40.379Z"
   },
   {
    "duration": 12,
    "start_time": "2022-04-23T18:20:38.507Z"
   },
   {
    "duration": 19,
    "start_time": "2022-04-23T18:21:05.137Z"
   },
   {
    "duration": 29,
    "start_time": "2022-04-23T18:21:27.078Z"
   },
   {
    "duration": 6,
    "start_time": "2022-04-23T18:21:52.124Z"
   },
   {
    "duration": 38,
    "start_time": "2022-04-23T18:21:52.132Z"
   },
   {
    "duration": 13,
    "start_time": "2022-04-23T18:21:52.173Z"
   },
   {
    "duration": 10,
    "start_time": "2022-04-23T18:21:52.189Z"
   },
   {
    "duration": 10,
    "start_time": "2022-04-23T18:21:52.225Z"
   },
   {
    "duration": 27,
    "start_time": "2022-04-23T18:21:52.238Z"
   },
   {
    "duration": 22,
    "start_time": "2022-04-23T18:21:52.267Z"
   },
   {
    "duration": 54,
    "start_time": "2022-04-23T18:21:52.291Z"
   },
   {
    "duration": 22,
    "start_time": "2022-04-23T18:21:52.348Z"
   },
   {
    "duration": 9,
    "start_time": "2022-04-23T18:21:52.373Z"
   },
   {
    "duration": 23,
    "start_time": "2022-04-23T18:21:52.385Z"
   },
   {
    "duration": 24,
    "start_time": "2022-04-23T18:21:52.429Z"
   },
   {
    "duration": 25,
    "start_time": "2022-04-23T18:21:52.456Z"
   },
   {
    "duration": 23,
    "start_time": "2022-04-23T18:21:52.483Z"
   },
   {
    "duration": 652,
    "start_time": "2022-04-23T18:21:52.524Z"
   },
   {
    "duration": 22,
    "start_time": "2022-04-23T18:21:53.179Z"
   },
   {
    "duration": 22,
    "start_time": "2022-04-23T18:22:17.417Z"
   },
   {
    "duration": 18,
    "start_time": "2022-04-23T18:22:45.983Z"
   },
   {
    "duration": 615,
    "start_time": "2022-04-23T18:22:52.257Z"
   },
   {
    "duration": 24,
    "start_time": "2022-04-23T18:23:47.231Z"
   },
   {
    "duration": 22,
    "start_time": "2022-04-23T18:35:43.156Z"
   },
   {
    "duration": 32,
    "start_time": "2022-04-23T18:36:22.974Z"
   },
   {
    "duration": 19,
    "start_time": "2022-04-23T18:36:37.874Z"
   },
   {
    "duration": 5,
    "start_time": "2022-04-23T18:36:42.724Z"
   },
   {
    "duration": 33,
    "start_time": "2022-04-23T18:36:42.732Z"
   },
   {
    "duration": 12,
    "start_time": "2022-04-23T18:36:42.767Z"
   },
   {
    "duration": 11,
    "start_time": "2022-04-23T18:36:42.781Z"
   },
   {
    "duration": 8,
    "start_time": "2022-04-23T18:36:42.824Z"
   },
   {
    "duration": 23,
    "start_time": "2022-04-23T18:36:42.834Z"
   },
   {
    "duration": 19,
    "start_time": "2022-04-23T18:36:42.859Z"
   },
   {
    "duration": 185,
    "start_time": "2022-04-23T18:36:42.881Z"
   },
   {
    "duration": 18,
    "start_time": "2022-04-23T18:36:43.068Z"
   },
   {
    "duration": 7,
    "start_time": "2022-04-23T18:36:43.088Z"
   },
   {
    "duration": 29,
    "start_time": "2022-04-23T18:36:43.097Z"
   },
   {
    "duration": 22,
    "start_time": "2022-04-23T18:36:43.128Z"
   },
   {
    "duration": 22,
    "start_time": "2022-04-23T18:36:43.154Z"
   },
   {
    "duration": 631,
    "start_time": "2022-04-23T18:36:43.179Z"
   },
   {
    "duration": 28,
    "start_time": "2022-04-23T18:36:43.812Z"
   },
   {
    "duration": 23,
    "start_time": "2022-04-23T18:37:05.093Z"
   },
   {
    "duration": 5,
    "start_time": "2022-04-23T18:37:11.664Z"
   },
   {
    "duration": 28,
    "start_time": "2022-04-23T18:37:11.672Z"
   },
   {
    "duration": 12,
    "start_time": "2022-04-23T18:37:11.702Z"
   },
   {
    "duration": 9,
    "start_time": "2022-04-23T18:37:11.718Z"
   },
   {
    "duration": 10,
    "start_time": "2022-04-23T18:37:11.730Z"
   },
   {
    "duration": 23,
    "start_time": "2022-04-23T18:37:11.742Z"
   },
   {
    "duration": 58,
    "start_time": "2022-04-23T18:37:11.768Z"
   },
   {
    "duration": 35,
    "start_time": "2022-04-23T18:37:11.828Z"
   },
   {
    "duration": 18,
    "start_time": "2022-04-23T18:37:11.866Z"
   },
   {
    "duration": 8,
    "start_time": "2022-04-23T18:37:11.887Z"
   },
   {
    "duration": 11,
    "start_time": "2022-04-23T18:37:11.897Z"
   },
   {
    "duration": 20,
    "start_time": "2022-04-23T18:37:11.925Z"
   },
   {
    "duration": 18,
    "start_time": "2022-04-23T18:37:11.947Z"
   },
   {
    "duration": 638,
    "start_time": "2022-04-23T18:37:11.968Z"
   },
   {
    "duration": 21,
    "start_time": "2022-04-23T18:37:12.609Z"
   },
   {
    "duration": 20,
    "start_time": "2022-04-23T18:37:51.970Z"
   },
   {
    "duration": 19,
    "start_time": "2022-04-23T18:38:05.861Z"
   },
   {
    "duration": 18,
    "start_time": "2022-04-23T18:38:43.946Z"
   },
   {
    "duration": 15,
    "start_time": "2022-04-23T18:38:51.739Z"
   },
   {
    "duration": 13,
    "start_time": "2022-04-23T18:39:03.212Z"
   },
   {
    "duration": 11,
    "start_time": "2022-04-23T18:51:10.197Z"
   },
   {
    "duration": 18,
    "start_time": "2022-04-23T18:51:26.247Z"
   },
   {
    "duration": 13,
    "start_time": "2022-04-23T18:52:00.447Z"
   },
   {
    "duration": 20,
    "start_time": "2022-04-23T18:52:06.913Z"
   },
   {
    "duration": 22,
    "start_time": "2022-04-23T18:59:06.964Z"
   },
   {
    "duration": 18,
    "start_time": "2022-04-23T19:01:06.614Z"
   },
   {
    "duration": 17,
    "start_time": "2022-04-23T19:52:21.446Z"
   },
   {
    "duration": 17,
    "start_time": "2022-04-23T19:52:31.796Z"
   },
   {
    "duration": 41,
    "start_time": "2022-04-23T19:53:07.198Z"
   },
   {
    "duration": 322,
    "start_time": "2022-04-23T19:53:25.678Z"
   },
   {
    "duration": 504,
    "start_time": "2022-04-23T19:53:50.447Z"
   },
   {
    "duration": 706,
    "start_time": "2022-04-23T19:54:09.753Z"
   },
   {
    "duration": 18,
    "start_time": "2022-04-23T19:57:56.494Z"
   },
   {
    "duration": 17,
    "start_time": "2022-04-23T19:58:18.300Z"
   },
   {
    "duration": 613,
    "start_time": "2022-04-23T19:58:22.847Z"
   },
   {
    "duration": 9,
    "start_time": "2022-04-23T20:07:12.603Z"
   },
   {
    "duration": 8,
    "start_time": "2022-04-23T20:07:15.265Z"
   },
   {
    "duration": 505,
    "start_time": "2022-04-23T20:07:18.152Z"
   },
   {
    "duration": 16,
    "start_time": "2022-04-23T20:07:39.580Z"
   },
   {
    "duration": 18,
    "start_time": "2022-04-23T20:07:49.356Z"
   },
   {
    "duration": 19,
    "start_time": "2022-04-23T20:08:56.832Z"
   },
   {
    "duration": 18,
    "start_time": "2022-04-23T20:09:10.848Z"
   },
   {
    "duration": 26,
    "start_time": "2022-04-23T20:10:17.512Z"
   },
   {
    "duration": 21,
    "start_time": "2022-04-23T20:13:10.755Z"
   },
   {
    "duration": 30,
    "start_time": "2022-04-23T20:13:21.073Z"
   },
   {
    "duration": 17,
    "start_time": "2022-04-23T20:14:25.111Z"
   },
   {
    "duration": 24,
    "start_time": "2022-04-23T20:14:40.633Z"
   },
   {
    "duration": 748,
    "start_time": "2022-04-23T20:15:15.173Z"
   },
   {
    "duration": 18,
    "start_time": "2022-04-23T20:24:15.808Z"
   },
   {
    "duration": 24,
    "start_time": "2022-04-23T20:24:23.474Z"
   },
   {
    "duration": 24,
    "start_time": "2022-04-23T20:24:43.218Z"
   },
   {
    "duration": 7,
    "start_time": "2022-04-23T20:25:21.218Z"
   },
   {
    "duration": 652,
    "start_time": "2022-04-23T20:26:35.311Z"
   },
   {
    "duration": 626,
    "start_time": "2022-04-23T20:26:48.248Z"
   },
   {
    "duration": 1037,
    "start_time": "2022-04-23T20:27:41.719Z"
   },
   {
    "duration": 15,
    "start_time": "2022-04-23T20:43:18.474Z"
   },
   {
    "duration": 417,
    "start_time": "2022-04-23T20:43:34.111Z"
   },
   {
    "duration": 437,
    "start_time": "2022-04-23T20:45:02.626Z"
   },
   {
    "duration": 47,
    "start_time": "2022-04-25T13:17:33.639Z"
   },
   {
    "duration": 1891,
    "start_time": "2022-04-25T13:17:38.460Z"
   },
   {
    "duration": 21,
    "start_time": "2022-04-25T13:17:40.353Z"
   },
   {
    "duration": 9,
    "start_time": "2022-04-25T13:17:40.375Z"
   },
   {
    "duration": 8,
    "start_time": "2022-04-25T13:17:40.386Z"
   },
   {
    "duration": 9,
    "start_time": "2022-04-25T13:17:40.395Z"
   },
   {
    "duration": 19,
    "start_time": "2022-04-25T13:17:40.405Z"
   },
   {
    "duration": 13,
    "start_time": "2022-04-25T13:17:40.426Z"
   },
   {
    "duration": 59,
    "start_time": "2022-04-25T13:17:40.441Z"
   },
   {
    "duration": 15,
    "start_time": "2022-04-25T13:17:40.501Z"
   },
   {
    "duration": 5,
    "start_time": "2022-04-25T13:17:40.519Z"
   },
   {
    "duration": 9,
    "start_time": "2022-04-25T13:17:40.526Z"
   },
   {
    "duration": 14,
    "start_time": "2022-04-25T13:17:40.537Z"
   },
   {
    "duration": 26,
    "start_time": "2022-04-25T13:17:40.553Z"
   },
   {
    "duration": 369,
    "start_time": "2022-04-25T13:17:40.581Z"
   },
   {
    "duration": 383,
    "start_time": "2022-04-25T13:17:40.952Z"
   },
   {
    "duration": 12,
    "start_time": "2022-04-25T13:17:41.337Z"
   },
   {
    "duration": 27,
    "start_time": "2022-04-25T13:17:41.350Z"
   },
   {
    "duration": 1989,
    "start_time": "2022-04-25T13:17:41.379Z"
   },
   {
    "duration": 0,
    "start_time": "2022-04-25T13:17:43.369Z"
   },
   {
    "duration": 0,
    "start_time": "2022-04-25T13:17:43.371Z"
   },
   {
    "duration": 0,
    "start_time": "2022-04-25T13:17:43.372Z"
   },
   {
    "duration": 0,
    "start_time": "2022-04-25T13:17:43.373Z"
   },
   {
    "duration": 0,
    "start_time": "2022-04-25T13:17:43.374Z"
   },
   {
    "duration": 14,
    "start_time": "2022-04-25T13:18:03.149Z"
   },
   {
    "duration": 314,
    "start_time": "2022-04-25T13:18:44.088Z"
   },
   {
    "duration": 6,
    "start_time": "2022-04-25T13:19:43.080Z"
   },
   {
    "duration": 409,
    "start_time": "2022-04-25T13:19:45.080Z"
   },
   {
    "duration": 246,
    "start_time": "2022-04-25T13:19:50.583Z"
   },
   {
    "duration": 10,
    "start_time": "2022-04-25T13:19:57.780Z"
   },
   {
    "duration": 5,
    "start_time": "2022-04-25T13:20:27.014Z"
   },
   {
    "duration": 5,
    "start_time": "2022-04-25T13:30:18.805Z"
   },
   {
    "duration": 5,
    "start_time": "2022-04-25T13:30:47.033Z"
   },
   {
    "duration": 5,
    "start_time": "2022-04-25T13:31:06.906Z"
   },
   {
    "duration": 6,
    "start_time": "2022-04-25T13:31:22.920Z"
   },
   {
    "duration": 105,
    "start_time": "2022-04-25T13:36:19.423Z"
   },
   {
    "duration": 6,
    "start_time": "2022-04-25T14:01:33.829Z"
   },
   {
    "duration": 213,
    "start_time": "2022-04-25T14:03:51.879Z"
   },
   {
    "duration": 199,
    "start_time": "2022-04-25T14:07:21.568Z"
   },
   {
    "duration": 190,
    "start_time": "2022-04-25T14:11:38.508Z"
   },
   {
    "duration": 185,
    "start_time": "2022-04-25T14:15:26.916Z"
   },
   {
    "duration": 203,
    "start_time": "2022-04-25T14:19:27.226Z"
   },
   {
    "duration": 216,
    "start_time": "2022-04-25T14:21:13.882Z"
   },
   {
    "duration": 183,
    "start_time": "2022-04-25T14:22:51.258Z"
   },
   {
    "duration": 191,
    "start_time": "2022-04-25T14:23:10.278Z"
   },
   {
    "duration": 6,
    "start_time": "2022-04-25T14:31:19.687Z"
   },
   {
    "duration": 30,
    "start_time": "2022-04-25T14:40:00.947Z"
   },
   {
    "duration": 21,
    "start_time": "2022-04-25T14:40:19.327Z"
   },
   {
    "duration": 121,
    "start_time": "2022-04-25T14:40:38.868Z"
   },
   {
    "duration": 5,
    "start_time": "2022-04-25T14:43:16.866Z"
   },
   {
    "duration": 10,
    "start_time": "2022-04-25T14:55:15.746Z"
   },
   {
    "duration": 9,
    "start_time": "2022-04-25T14:56:18.532Z"
   },
   {
    "duration": 124,
    "start_time": "2022-04-25T14:57:38.587Z"
   },
   {
    "duration": 735,
    "start_time": "2022-04-25T15:00:21.768Z"
   },
   {
    "duration": 277,
    "start_time": "2022-04-25T15:00:48.014Z"
   },
   {
    "duration": 8,
    "start_time": "2022-04-25T15:01:26.044Z"
   },
   {
    "duration": 123,
    "start_time": "2022-04-25T15:10:48.993Z"
   },
   {
    "duration": 7,
    "start_time": "2022-04-25T15:10:53.167Z"
   },
   {
    "duration": 10,
    "start_time": "2022-04-25T15:13:22.812Z"
   },
   {
    "duration": 4,
    "start_time": "2022-04-25T15:14:03.013Z"
   },
   {
    "duration": 15,
    "start_time": "2022-04-25T15:14:07.226Z"
   },
   {
    "duration": 9,
    "start_time": "2022-04-25T15:22:40.791Z"
   },
   {
    "duration": 21,
    "start_time": "2022-04-25T15:23:52.342Z"
   },
   {
    "duration": 26,
    "start_time": "2022-04-25T15:24:28.828Z"
   },
   {
    "duration": 18,
    "start_time": "2022-04-25T15:24:58.281Z"
   },
   {
    "duration": 16,
    "start_time": "2022-04-25T15:26:16.370Z"
   },
   {
    "duration": 17,
    "start_time": "2022-04-25T15:26:43.100Z"
   },
   {
    "duration": 21,
    "start_time": "2022-04-25T15:27:59.293Z"
   },
   {
    "duration": 10,
    "start_time": "2022-04-25T15:29:50.398Z"
   },
   {
    "duration": 154,
    "start_time": "2022-04-25T15:30:59.272Z"
   },
   {
    "duration": 162,
    "start_time": "2022-04-25T15:32:59.921Z"
   },
   {
    "duration": 139,
    "start_time": "2022-04-25T15:33:42.252Z"
   },
   {
    "duration": 74,
    "start_time": "2022-04-25T15:45:08.637Z"
   },
   {
    "duration": 130,
    "start_time": "2022-04-25T15:45:15.056Z"
   },
   {
    "duration": 127,
    "start_time": "2022-04-25T15:47:31.655Z"
   },
   {
    "duration": 163,
    "start_time": "2022-04-25T15:51:37.371Z"
   },
   {
    "duration": 144,
    "start_time": "2022-04-25T15:55:22.617Z"
   },
   {
    "duration": 10,
    "start_time": "2022-04-25T15:58:49.131Z"
   },
   {
    "duration": 29,
    "start_time": "2022-04-25T16:04:32.188Z"
   },
   {
    "duration": 1722,
    "start_time": "2022-04-25T16:04:42.390Z"
   },
   {
    "duration": 4,
    "start_time": "2022-04-25T16:04:48.887Z"
   },
   {
    "duration": 23,
    "start_time": "2022-04-25T16:04:48.892Z"
   },
   {
    "duration": 7,
    "start_time": "2022-04-25T16:04:48.917Z"
   },
   {
    "duration": 8,
    "start_time": "2022-04-25T16:04:48.926Z"
   },
   {
    "duration": 7,
    "start_time": "2022-04-25T16:04:48.935Z"
   },
   {
    "duration": 15,
    "start_time": "2022-04-25T16:04:48.943Z"
   },
   {
    "duration": 14,
    "start_time": "2022-04-25T16:04:48.973Z"
   },
   {
    "duration": 36,
    "start_time": "2022-04-25T16:04:48.988Z"
   },
   {
    "duration": 15,
    "start_time": "2022-04-25T16:04:49.026Z"
   },
   {
    "duration": 6,
    "start_time": "2022-04-25T16:04:49.044Z"
   },
   {
    "duration": 15,
    "start_time": "2022-04-25T16:04:49.051Z"
   },
   {
    "duration": 15,
    "start_time": "2022-04-25T16:04:49.068Z"
   },
   {
    "duration": 13,
    "start_time": "2022-04-25T16:04:49.084Z"
   },
   {
    "duration": 333,
    "start_time": "2022-04-25T16:04:49.099Z"
   },
   {
    "duration": 288,
    "start_time": "2022-04-25T16:04:49.434Z"
   },
   {
    "duration": 11,
    "start_time": "2022-04-25T16:04:49.724Z"
   },
   {
    "duration": 14,
    "start_time": "2022-04-25T16:04:49.736Z"
   },
   {
    "duration": 324,
    "start_time": "2022-04-25T16:04:49.751Z"
   },
   {
    "duration": 5,
    "start_time": "2022-04-25T16:04:50.077Z"
   },
   {
    "duration": 383,
    "start_time": "2022-04-25T16:04:50.083Z"
   },
   {
    "duration": 224,
    "start_time": "2022-04-25T16:04:50.468Z"
   },
   {
    "duration": 8,
    "start_time": "2022-04-25T16:04:50.693Z"
   },
   {
    "duration": 17,
    "start_time": "2022-04-25T16:04:50.702Z"
   },
   {
    "duration": 8,
    "start_time": "2022-04-25T16:04:50.722Z"
   },
   {
    "duration": 237,
    "start_time": "2022-04-25T16:04:50.731Z"
   },
   {
    "duration": 200,
    "start_time": "2022-04-25T16:04:50.970Z"
   },
   {
    "duration": 6,
    "start_time": "2022-04-25T16:04:51.173Z"
   },
   {
    "duration": 6,
    "start_time": "2022-04-25T16:04:51.181Z"
   },
   {
    "duration": 162,
    "start_time": "2022-04-25T16:04:51.188Z"
   },
   {
    "duration": 21,
    "start_time": "2022-04-25T16:04:51.352Z"
   },
   {
    "duration": 178,
    "start_time": "2022-04-25T16:04:51.375Z"
   },
   {
    "duration": 8,
    "start_time": "2022-04-25T16:15:56.083Z"
   },
   {
    "duration": 27,
    "start_time": "2022-04-25T16:24:26.203Z"
   },
   {
    "duration": 19,
    "start_time": "2022-04-25T16:25:39.845Z"
   },
   {
    "duration": 162,
    "start_time": "2022-04-25T16:26:08.765Z"
   },
   {
    "duration": 1756,
    "start_time": "2022-04-25T16:27:39.502Z"
   },
   {
    "duration": 1815,
    "start_time": "2022-04-25T16:27:53.444Z"
   },
   {
    "duration": 12,
    "start_time": "2022-04-25T16:28:35.190Z"
   },
   {
    "duration": 1775,
    "start_time": "2022-04-25T16:30:30.488Z"
   },
   {
    "duration": 10,
    "start_time": "2022-04-25T16:31:01.851Z"
   },
   {
    "duration": 22,
    "start_time": "2022-04-25T16:32:56.222Z"
   },
   {
    "duration": 9,
    "start_time": "2022-04-25T16:36:16.599Z"
   },
   {
    "duration": 177,
    "start_time": "2022-04-25T16:38:30.771Z"
   },
   {
    "duration": 10,
    "start_time": "2022-04-25T16:39:52.739Z"
   },
   {
    "duration": 23,
    "start_time": "2022-04-25T16:41:11.179Z"
   },
   {
    "duration": 14,
    "start_time": "2022-04-25T16:42:54.734Z"
   },
   {
    "duration": 6,
    "start_time": "2022-04-25T16:50:00.958Z"
   },
   {
    "duration": 31,
    "start_time": "2022-04-25T16:50:00.981Z"
   },
   {
    "duration": 11,
    "start_time": "2022-04-25T16:50:01.018Z"
   },
   {
    "duration": 37,
    "start_time": "2022-04-25T16:50:01.031Z"
   },
   {
    "duration": 20,
    "start_time": "2022-04-25T16:50:01.070Z"
   },
   {
    "duration": 46,
    "start_time": "2022-04-25T16:50:01.093Z"
   },
   {
    "duration": 34,
    "start_time": "2022-04-25T16:50:01.141Z"
   },
   {
    "duration": 1153,
    "start_time": "2022-04-25T16:50:01.177Z"
   },
   {
    "duration": 16,
    "start_time": "2022-04-25T16:50:02.331Z"
   },
   {
    "duration": 6,
    "start_time": "2022-04-25T16:50:02.349Z"
   },
   {
    "duration": 27,
    "start_time": "2022-04-25T16:50:02.356Z"
   },
   {
    "duration": 24,
    "start_time": "2022-04-25T16:50:02.386Z"
   },
   {
    "duration": 15,
    "start_time": "2022-04-25T16:50:02.412Z"
   },
   {
    "duration": 383,
    "start_time": "2022-04-25T16:50:02.428Z"
   },
   {
    "duration": 315,
    "start_time": "2022-04-25T16:50:02.814Z"
   },
   {
    "duration": 12,
    "start_time": "2022-04-25T16:50:03.130Z"
   },
   {
    "duration": 29,
    "start_time": "2022-04-25T16:50:03.144Z"
   },
   {
    "duration": 325,
    "start_time": "2022-04-25T16:50:03.175Z"
   },
   {
    "duration": 5,
    "start_time": "2022-04-25T16:50:03.502Z"
   },
   {
    "duration": 400,
    "start_time": "2022-04-25T16:50:03.509Z"
   },
   {
    "duration": 324,
    "start_time": "2022-04-25T16:50:03.911Z"
   },
   {
    "duration": 7,
    "start_time": "2022-04-25T16:50:04.237Z"
   },
   {
    "duration": 8,
    "start_time": "2022-04-25T16:50:04.245Z"
   },
   {
    "duration": 28,
    "start_time": "2022-04-25T16:50:04.254Z"
   },
   {
    "duration": 0,
    "start_time": "2022-04-25T16:50:04.283Z"
   },
   {
    "duration": 0,
    "start_time": "2022-04-25T16:50:04.285Z"
   },
   {
    "duration": 0,
    "start_time": "2022-04-25T16:50:04.286Z"
   },
   {
    "duration": 0,
    "start_time": "2022-04-25T16:50:04.287Z"
   },
   {
    "duration": 0,
    "start_time": "2022-04-25T16:50:04.288Z"
   },
   {
    "duration": 0,
    "start_time": "2022-04-25T16:50:04.289Z"
   },
   {
    "duration": 0,
    "start_time": "2022-04-25T16:50:04.290Z"
   },
   {
    "duration": 0,
    "start_time": "2022-04-25T16:50:04.292Z"
   },
   {
    "duration": 0,
    "start_time": "2022-04-25T16:50:04.292Z"
   },
   {
    "duration": 0,
    "start_time": "2022-04-25T16:50:04.294Z"
   },
   {
    "duration": 0,
    "start_time": "2022-04-25T16:50:04.295Z"
   },
   {
    "duration": 3,
    "start_time": "2022-04-25T16:50:52.118Z"
   },
   {
    "duration": 25,
    "start_time": "2022-04-25T16:50:52.123Z"
   },
   {
    "duration": 8,
    "start_time": "2022-04-25T16:50:52.149Z"
   },
   {
    "duration": 6,
    "start_time": "2022-04-25T16:50:52.159Z"
   },
   {
    "duration": 6,
    "start_time": "2022-04-25T16:50:52.167Z"
   },
   {
    "duration": 15,
    "start_time": "2022-04-25T16:50:52.175Z"
   },
   {
    "duration": 20,
    "start_time": "2022-04-25T16:50:52.191Z"
   },
   {
    "duration": 40,
    "start_time": "2022-04-25T16:50:52.212Z"
   },
   {
    "duration": 14,
    "start_time": "2022-04-25T16:50:52.254Z"
   },
   {
    "duration": 5,
    "start_time": "2022-04-25T16:50:52.270Z"
   },
   {
    "duration": 7,
    "start_time": "2022-04-25T16:50:52.276Z"
   },
   {
    "duration": 14,
    "start_time": "2022-04-25T16:50:52.285Z"
   },
   {
    "duration": 10,
    "start_time": "2022-04-25T16:50:52.301Z"
   },
   {
    "duration": 336,
    "start_time": "2022-04-25T16:50:52.313Z"
   },
   {
    "duration": 287,
    "start_time": "2022-04-25T16:50:52.651Z"
   },
   {
    "duration": 11,
    "start_time": "2022-04-25T16:50:52.940Z"
   },
   {
    "duration": 26,
    "start_time": "2022-04-25T16:50:52.952Z"
   },
   {
    "duration": 308,
    "start_time": "2022-04-25T16:50:52.979Z"
   },
   {
    "duration": 6,
    "start_time": "2022-04-25T16:50:53.288Z"
   },
   {
    "duration": 381,
    "start_time": "2022-04-25T16:50:53.295Z"
   },
   {
    "duration": 213,
    "start_time": "2022-04-25T16:50:53.678Z"
   },
   {
    "duration": 6,
    "start_time": "2022-04-25T16:50:53.892Z"
   },
   {
    "duration": 8,
    "start_time": "2022-04-25T16:50:53.900Z"
   },
   {
    "duration": 211,
    "start_time": "2022-04-25T16:50:53.911Z"
   },
   {
    "duration": 199,
    "start_time": "2022-04-25T16:50:54.124Z"
   },
   {
    "duration": 6,
    "start_time": "2022-04-25T16:50:54.324Z"
   },
   {
    "duration": 12,
    "start_time": "2022-04-25T16:50:54.331Z"
   },
   {
    "duration": 149,
    "start_time": "2022-04-25T16:50:54.345Z"
   },
   {
    "duration": 11,
    "start_time": "2022-04-25T16:50:54.495Z"
   },
   {
    "duration": 9,
    "start_time": "2022-04-25T16:50:54.508Z"
   },
   {
    "duration": 12,
    "start_time": "2022-04-25T16:50:54.519Z"
   },
   {
    "duration": 47,
    "start_time": "2022-04-25T16:50:54.533Z"
   },
   {
    "duration": 14,
    "start_time": "2022-04-25T16:50:54.582Z"
   },
   {
    "duration": 4788,
    "start_time": "2022-04-26T13:04:55.070Z"
   },
   {
    "duration": 34,
    "start_time": "2022-04-26T13:04:59.862Z"
   },
   {
    "duration": 7,
    "start_time": "2022-04-26T13:04:59.898Z"
   },
   {
    "duration": 6,
    "start_time": "2022-04-26T13:04:59.907Z"
   },
   {
    "duration": 6,
    "start_time": "2022-04-26T13:04:59.914Z"
   },
   {
    "duration": 13,
    "start_time": "2022-04-26T13:04:59.922Z"
   },
   {
    "duration": 22,
    "start_time": "2022-04-26T13:04:59.936Z"
   },
   {
    "duration": 49,
    "start_time": "2022-04-26T13:04:59.960Z"
   },
   {
    "duration": 31,
    "start_time": "2022-04-26T13:05:00.011Z"
   },
   {
    "duration": 7,
    "start_time": "2022-04-26T13:05:00.044Z"
   },
   {
    "duration": 18,
    "start_time": "2022-04-26T13:05:00.053Z"
   },
   {
    "duration": 13,
    "start_time": "2022-04-26T13:05:00.072Z"
   },
   {
    "duration": 14,
    "start_time": "2022-04-26T13:05:00.087Z"
   },
   {
    "duration": 334,
    "start_time": "2022-04-26T13:05:00.102Z"
   },
   {
    "duration": 358,
    "start_time": "2022-04-26T13:05:00.437Z"
   },
   {
    "duration": 10,
    "start_time": "2022-04-26T13:05:00.796Z"
   },
   {
    "duration": 12,
    "start_time": "2022-04-26T13:05:00.807Z"
   },
   {
    "duration": 299,
    "start_time": "2022-04-26T13:05:00.821Z"
   },
   {
    "duration": 5,
    "start_time": "2022-04-26T13:05:01.121Z"
   },
   {
    "duration": 371,
    "start_time": "2022-04-26T13:05:01.128Z"
   },
   {
    "duration": 217,
    "start_time": "2022-04-26T13:05:01.502Z"
   },
   {
    "duration": 6,
    "start_time": "2022-04-26T13:05:01.721Z"
   },
   {
    "duration": 12,
    "start_time": "2022-04-26T13:05:01.728Z"
   },
   {
    "duration": 207,
    "start_time": "2022-04-26T13:05:01.747Z"
   },
   {
    "duration": 197,
    "start_time": "2022-04-26T13:05:01.956Z"
   },
   {
    "duration": 5,
    "start_time": "2022-04-26T13:05:02.155Z"
   },
   {
    "duration": 129,
    "start_time": "2022-04-26T13:05:02.162Z"
   },
   {
    "duration": 0,
    "start_time": "2022-04-26T13:05:02.293Z"
   },
   {
    "duration": 0,
    "start_time": "2022-04-26T13:05:02.295Z"
   },
   {
    "duration": 0,
    "start_time": "2022-04-26T13:05:02.296Z"
   },
   {
    "duration": 0,
    "start_time": "2022-04-26T13:05:02.297Z"
   },
   {
    "duration": 0,
    "start_time": "2022-04-26T13:05:02.298Z"
   },
   {
    "duration": 0,
    "start_time": "2022-04-26T13:05:02.299Z"
   },
   {
    "duration": 147,
    "start_time": "2022-04-26T13:16:48.794Z"
   },
   {
    "duration": 10,
    "start_time": "2022-04-26T13:16:50.675Z"
   },
   {
    "duration": 9,
    "start_time": "2022-04-26T13:16:51.181Z"
   },
   {
    "duration": 9,
    "start_time": "2022-04-26T13:16:51.956Z"
   },
   {
    "duration": 21,
    "start_time": "2022-04-26T13:16:52.311Z"
   },
   {
    "duration": 12,
    "start_time": "2022-04-26T13:16:53.687Z"
   },
   {
    "duration": 71,
    "start_time": "2022-04-26T16:39:32.621Z"
   },
   {
    "duration": 2838,
    "start_time": "2022-04-26T16:39:36.422Z"
   },
   {
    "duration": 53,
    "start_time": "2022-04-26T16:39:39.264Z"
   },
   {
    "duration": 17,
    "start_time": "2022-04-26T16:39:39.320Z"
   },
   {
    "duration": 12,
    "start_time": "2022-04-26T16:39:39.340Z"
   },
   {
    "duration": 38,
    "start_time": "2022-04-26T16:39:39.356Z"
   },
   {
    "duration": 23,
    "start_time": "2022-04-26T16:39:39.396Z"
   },
   {
    "duration": 18,
    "start_time": "2022-04-26T16:39:39.421Z"
   },
   {
    "duration": 93,
    "start_time": "2022-04-26T16:39:39.442Z"
   },
   {
    "duration": 10,
    "start_time": "2022-04-26T16:39:39.538Z"
   },
   {
    "duration": 36,
    "start_time": "2022-04-26T16:39:39.551Z"
   },
   {
    "duration": 8,
    "start_time": "2022-04-26T16:39:39.590Z"
   },
   {
    "duration": 17,
    "start_time": "2022-04-26T16:39:39.600Z"
   },
   {
    "duration": 22,
    "start_time": "2022-04-26T16:39:39.619Z"
   },
   {
    "duration": 16,
    "start_time": "2022-04-26T16:39:39.648Z"
   },
   {
    "duration": 1047,
    "start_time": "2022-04-26T16:39:39.666Z"
   },
   {
    "duration": 600,
    "start_time": "2022-04-26T16:39:40.716Z"
   },
   {
    "duration": 17,
    "start_time": "2022-04-26T16:39:41.318Z"
   },
   {
    "duration": 19,
    "start_time": "2022-04-26T16:39:41.337Z"
   },
   {
    "duration": 8,
    "start_time": "2022-04-26T16:42:05.871Z"
   },
   {
    "duration": 8,
    "start_time": "2022-04-26T16:42:21.320Z"
   },
   {
    "duration": 8,
    "start_time": "2022-04-26T16:42:31.327Z"
   },
   {
    "duration": 6,
    "start_time": "2022-04-26T16:44:53.650Z"
   },
   {
    "duration": 458,
    "start_time": "2022-04-26T16:44:58.651Z"
   },
   {
    "duration": 3676,
    "start_time": "2022-04-26T16:49:41.047Z"
   },
   {
    "duration": 365,
    "start_time": "2022-04-26T16:50:11.141Z"
   },
   {
    "duration": 418,
    "start_time": "2022-04-26T16:50:28.144Z"
   },
   {
    "duration": 18,
    "start_time": "2022-04-26T16:54:15.000Z"
   },
   {
    "duration": 16,
    "start_time": "2022-04-26T16:54:58.858Z"
   },
   {
    "duration": 412,
    "start_time": "2022-04-26T17:02:31.963Z"
   },
   {
    "duration": 375,
    "start_time": "2022-04-26T17:02:53.120Z"
   },
   {
    "duration": 1224,
    "start_time": "2022-04-26T17:03:12.682Z"
   },
   {
    "duration": 18,
    "start_time": "2022-04-26T17:05:42.302Z"
   },
   {
    "duration": 393,
    "start_time": "2022-04-26T17:06:30.202Z"
   },
   {
    "duration": 494,
    "start_time": "2022-04-26T17:06:46.535Z"
   },
   {
    "duration": 525,
    "start_time": "2022-04-26T17:06:54.516Z"
   },
   {
    "duration": 381,
    "start_time": "2022-04-26T17:08:06.274Z"
   },
   {
    "duration": 394,
    "start_time": "2022-04-26T17:08:22.058Z"
   },
   {
    "duration": 16,
    "start_time": "2022-04-26T17:32:56.234Z"
   },
   {
    "duration": 267,
    "start_time": "2022-04-26T17:33:46.429Z"
   },
   {
    "duration": 310,
    "start_time": "2022-04-26T17:33:59.735Z"
   },
   {
    "duration": 266,
    "start_time": "2022-04-26T17:34:04.426Z"
   },
   {
    "duration": 356,
    "start_time": "2022-04-26T17:34:13.227Z"
   },
   {
    "duration": 537,
    "start_time": "2022-04-26T17:35:16.629Z"
   },
   {
    "duration": 285,
    "start_time": "2022-04-26T17:43:17.465Z"
   },
   {
    "duration": 305,
    "start_time": "2022-04-26T17:55:27.645Z"
   },
   {
    "duration": 310,
    "start_time": "2022-04-26T17:55:37.463Z"
   },
   {
    "duration": 320,
    "start_time": "2022-04-26T17:55:56.283Z"
   },
   {
    "duration": 269,
    "start_time": "2022-04-26T17:56:14.342Z"
   },
   {
    "duration": 12,
    "start_time": "2022-04-26T17:57:01.596Z"
   },
   {
    "duration": 7,
    "start_time": "2022-04-26T17:58:53.424Z"
   },
   {
    "duration": 7,
    "start_time": "2022-04-26T17:59:01.853Z"
   },
   {
    "duration": 1215,
    "start_time": "2022-04-26T18:00:32.625Z"
   },
   {
    "duration": 373,
    "start_time": "2022-04-26T18:02:33.334Z"
   },
   {
    "duration": 1250,
    "start_time": "2022-04-26T18:02:55.192Z"
   },
   {
    "duration": 1081,
    "start_time": "2022-04-26T18:03:04.345Z"
   },
   {
    "duration": 297,
    "start_time": "2022-04-26T18:03:10.734Z"
   },
   {
    "duration": 479,
    "start_time": "2022-04-26T18:03:59.822Z"
   },
   {
    "duration": 384,
    "start_time": "2022-04-26T18:05:18.822Z"
   },
   {
    "duration": 12,
    "start_time": "2022-04-26T18:05:45.683Z"
   },
   {
    "duration": 430,
    "start_time": "2022-04-26T18:05:50.086Z"
   },
   {
    "duration": 4291,
    "start_time": "2022-04-26T18:06:01.691Z"
   },
   {
    "duration": 466,
    "start_time": "2022-04-26T18:06:21.646Z"
   },
   {
    "duration": 1283,
    "start_time": "2022-04-26T18:07:12.671Z"
   },
   {
    "duration": 513,
    "start_time": "2022-04-26T18:07:26.583Z"
   },
   {
    "duration": 12,
    "start_time": "2022-04-26T18:08:03.532Z"
   },
   {
    "duration": 18,
    "start_time": "2022-04-26T18:09:18.190Z"
   },
   {
    "duration": 12,
    "start_time": "2022-04-26T18:09:51.923Z"
   },
   {
    "duration": 10,
    "start_time": "2022-04-26T18:10:07.534Z"
   },
   {
    "duration": 13,
    "start_time": "2022-04-26T18:15:25.460Z"
   },
   {
    "duration": 64,
    "start_time": "2022-04-26T18:15:27.525Z"
   },
   {
    "duration": 40,
    "start_time": "2022-04-26T18:15:47.686Z"
   },
   {
    "duration": 10,
    "start_time": "2022-04-26T18:16:19.165Z"
   },
   {
    "duration": 42,
    "start_time": "2022-04-26T18:16:19.179Z"
   },
   {
    "duration": 14,
    "start_time": "2022-04-26T18:16:19.224Z"
   },
   {
    "duration": 13,
    "start_time": "2022-04-26T18:16:19.243Z"
   },
   {
    "duration": 24,
    "start_time": "2022-04-26T18:16:19.259Z"
   },
   {
    "duration": 47,
    "start_time": "2022-04-26T18:16:19.286Z"
   },
   {
    "duration": 22,
    "start_time": "2022-04-26T18:16:19.339Z"
   },
   {
    "duration": 63,
    "start_time": "2022-04-26T18:16:19.363Z"
   },
   {
    "duration": 17,
    "start_time": "2022-04-26T18:16:19.428Z"
   },
   {
    "duration": 13,
    "start_time": "2022-04-26T18:16:19.449Z"
   },
   {
    "duration": 25,
    "start_time": "2022-04-26T18:16:19.465Z"
   },
   {
    "duration": 9,
    "start_time": "2022-04-26T18:16:19.493Z"
   },
   {
    "duration": 15,
    "start_time": "2022-04-26T18:16:19.506Z"
   },
   {
    "duration": 16,
    "start_time": "2022-04-26T18:16:19.523Z"
   },
   {
    "duration": 17,
    "start_time": "2022-04-26T18:16:19.543Z"
   },
   {
    "duration": 37,
    "start_time": "2022-04-26T18:16:19.562Z"
   },
   {
    "duration": 24,
    "start_time": "2022-04-26T18:16:19.602Z"
   },
   {
    "duration": 736,
    "start_time": "2022-04-26T18:16:19.629Z"
   },
   {
    "duration": 708,
    "start_time": "2022-04-26T18:16:20.369Z"
   },
   {
    "duration": 407,
    "start_time": "2022-04-26T18:16:21.080Z"
   },
   {
    "duration": 25,
    "start_time": "2022-04-26T18:16:21.489Z"
   },
   {
    "duration": 26,
    "start_time": "2022-04-26T18:16:21.517Z"
   },
   {
    "duration": 792,
    "start_time": "2022-04-26T18:16:21.546Z"
   },
   {
    "duration": 7,
    "start_time": "2022-04-26T18:16:22.340Z"
   },
   {
    "duration": 711,
    "start_time": "2022-04-26T18:16:22.350Z"
   },
   {
    "duration": 4993,
    "start_time": "2022-04-26T18:16:23.063Z"
   },
   {
    "duration": 0,
    "start_time": "2022-04-26T18:16:28.058Z"
   },
   {
    "duration": 0,
    "start_time": "2022-04-26T18:16:28.060Z"
   },
   {
    "duration": 0,
    "start_time": "2022-04-26T18:16:28.062Z"
   },
   {
    "duration": 0,
    "start_time": "2022-04-26T18:16:28.063Z"
   },
   {
    "duration": 0,
    "start_time": "2022-04-26T18:16:28.065Z"
   },
   {
    "duration": 0,
    "start_time": "2022-04-26T18:16:28.066Z"
   },
   {
    "duration": 0,
    "start_time": "2022-04-26T18:16:28.068Z"
   },
   {
    "duration": 0,
    "start_time": "2022-04-26T18:16:28.069Z"
   },
   {
    "duration": 0,
    "start_time": "2022-04-26T18:16:28.070Z"
   },
   {
    "duration": 0,
    "start_time": "2022-04-26T18:16:28.072Z"
   },
   {
    "duration": 0,
    "start_time": "2022-04-26T18:16:28.093Z"
   },
   {
    "duration": 0,
    "start_time": "2022-04-26T18:16:28.095Z"
   },
   {
    "duration": 0,
    "start_time": "2022-04-26T18:16:28.097Z"
   },
   {
    "duration": 413,
    "start_time": "2022-04-26T18:17:59.915Z"
   },
   {
    "duration": 7,
    "start_time": "2022-04-26T18:18:09.631Z"
   },
   {
    "duration": 29,
    "start_time": "2022-04-26T18:18:15.551Z"
   },
   {
    "duration": 8,
    "start_time": "2022-04-26T18:18:20.881Z"
   },
   {
    "duration": 559,
    "start_time": "2022-04-26T18:18:27.410Z"
   },
   {
    "duration": 8,
    "start_time": "2022-04-26T18:18:37.682Z"
   },
   {
    "duration": 8,
    "start_time": "2022-04-26T18:18:42.555Z"
   },
   {
    "duration": 514,
    "start_time": "2022-04-26T18:19:02.629Z"
   },
   {
    "duration": 498,
    "start_time": "2022-04-26T18:29:22.474Z"
   },
   {
    "duration": 19,
    "start_time": "2022-04-26T18:29:43.842Z"
   },
   {
    "duration": 15,
    "start_time": "2022-04-26T18:31:21.470Z"
   },
   {
    "duration": 16,
    "start_time": "2022-04-26T18:32:54.221Z"
   },
   {
    "duration": 13,
    "start_time": "2022-04-26T18:35:16.483Z"
   },
   {
    "duration": 47,
    "start_time": "2022-04-26T18:35:52.994Z"
   },
   {
    "duration": 23,
    "start_time": "2022-04-26T18:38:29.553Z"
   },
   {
    "duration": 29,
    "start_time": "2022-04-26T18:42:37.951Z"
   },
   {
    "duration": 19,
    "start_time": "2022-04-26T18:43:08.915Z"
   },
   {
    "duration": 774,
    "start_time": "2022-04-26T18:46:41.112Z"
   },
   {
    "duration": 697,
    "start_time": "2022-04-26T18:48:36.153Z"
   },
   {
    "duration": 690,
    "start_time": "2022-04-26T18:51:00.132Z"
   },
   {
    "duration": 798,
    "start_time": "2022-04-26T18:51:26.402Z"
   },
   {
    "duration": 517,
    "start_time": "2022-04-26T18:52:16.633Z"
   },
   {
    "duration": 587,
    "start_time": "2022-04-26T18:52:59.231Z"
   },
   {
    "duration": 907,
    "start_time": "2022-04-26T18:53:15.894Z"
   },
   {
    "duration": 833,
    "start_time": "2022-04-26T18:53:48.753Z"
   },
   {
    "duration": 797,
    "start_time": "2022-04-26T18:54:32.482Z"
   },
   {
    "duration": 688,
    "start_time": "2022-04-26T18:55:58.862Z"
   },
   {
    "duration": 837,
    "start_time": "2022-04-26T18:57:29.203Z"
   },
   {
    "duration": 496,
    "start_time": "2022-04-26T18:58:30.038Z"
   },
   {
    "duration": 527,
    "start_time": "2022-04-26T18:59:18.142Z"
   },
   {
    "duration": 416,
    "start_time": "2022-04-26T19:01:13.632Z"
   },
   {
    "duration": 1109,
    "start_time": "2022-04-26T19:01:26.656Z"
   },
   {
    "duration": 999,
    "start_time": "2022-04-26T19:01:52.035Z"
   },
   {
    "duration": 792,
    "start_time": "2022-04-26T19:02:16.387Z"
   },
   {
    "duration": 915,
    "start_time": "2022-04-26T19:02:24.754Z"
   },
   {
    "duration": 549,
    "start_time": "2022-04-26T19:02:37.237Z"
   },
   {
    "duration": 546,
    "start_time": "2022-04-26T19:02:54.298Z"
   },
   {
    "duration": 672,
    "start_time": "2022-04-26T19:07:25.430Z"
   },
   {
    "duration": 723,
    "start_time": "2022-04-26T19:07:47.926Z"
   },
   {
    "duration": 529,
    "start_time": "2022-04-26T19:08:07.307Z"
   },
   {
    "duration": 1026,
    "start_time": "2022-04-26T19:08:29.387Z"
   },
   {
    "duration": 1032,
    "start_time": "2022-04-26T19:08:39.107Z"
   },
   {
    "duration": 728,
    "start_time": "2022-04-26T19:08:57.117Z"
   },
   {
    "duration": 706,
    "start_time": "2022-04-26T19:10:53.451Z"
   },
   {
    "duration": 707,
    "start_time": "2022-04-26T19:10:57.707Z"
   },
   {
    "duration": 467,
    "start_time": "2022-04-26T19:12:32.168Z"
   },
   {
    "duration": 1107,
    "start_time": "2022-04-26T19:13:33.313Z"
   },
   {
    "duration": 941,
    "start_time": "2022-04-26T19:15:37.352Z"
   },
   {
    "duration": 1089,
    "start_time": "2022-04-26T19:15:48.637Z"
   },
   {
    "duration": 1063,
    "start_time": "2022-04-26T19:16:31.210Z"
   },
   {
    "duration": 1113,
    "start_time": "2022-04-26T19:16:44.980Z"
   },
   {
    "duration": 1173,
    "start_time": "2022-04-26T19:17:12.607Z"
   },
   {
    "duration": 1275,
    "start_time": "2022-04-26T19:17:51.435Z"
   },
   {
    "duration": 869,
    "start_time": "2022-04-26T19:18:08.232Z"
   },
   {
    "duration": 969,
    "start_time": "2022-04-26T19:18:29.061Z"
   },
   {
    "duration": 63,
    "start_time": "2022-04-26T19:26:14.261Z"
   },
   {
    "duration": 25,
    "start_time": "2022-04-26T19:26:23.629Z"
   },
   {
    "duration": 27,
    "start_time": "2022-04-26T19:27:13.159Z"
   },
   {
    "duration": 44,
    "start_time": "2022-04-26T19:27:34.949Z"
   },
   {
    "duration": 94,
    "start_time": "2022-04-26T19:27:40.499Z"
   },
   {
    "duration": 58,
    "start_time": "2022-04-26T19:28:04.928Z"
   },
   {
    "duration": 48,
    "start_time": "2022-04-26T19:28:13.972Z"
   },
   {
    "duration": 2400,
    "start_time": "2022-04-27T15:10:27.400Z"
   },
   {
    "duration": 32,
    "start_time": "2022-04-27T15:10:29.802Z"
   },
   {
    "duration": 9,
    "start_time": "2022-04-27T15:10:29.835Z"
   },
   {
    "duration": 9,
    "start_time": "2022-04-27T15:10:29.846Z"
   },
   {
    "duration": 12,
    "start_time": "2022-04-27T15:10:29.856Z"
   },
   {
    "duration": 21,
    "start_time": "2022-04-27T15:10:29.869Z"
   },
   {
    "duration": 13,
    "start_time": "2022-04-27T15:10:29.891Z"
   },
   {
    "duration": 38,
    "start_time": "2022-04-27T15:10:29.906Z"
   },
   {
    "duration": 5,
    "start_time": "2022-04-27T15:10:29.946Z"
   },
   {
    "duration": 8,
    "start_time": "2022-04-27T15:10:29.954Z"
   },
   {
    "duration": 24,
    "start_time": "2022-04-27T15:10:29.964Z"
   },
   {
    "duration": 7,
    "start_time": "2022-04-27T15:10:29.990Z"
   },
   {
    "duration": 16,
    "start_time": "2022-04-27T15:10:29.998Z"
   },
   {
    "duration": 18,
    "start_time": "2022-04-27T15:10:30.016Z"
   },
   {
    "duration": 12,
    "start_time": "2022-04-27T15:10:30.035Z"
   },
   {
    "duration": 17,
    "start_time": "2022-04-27T15:10:30.049Z"
   },
   {
    "duration": 15,
    "start_time": "2022-04-27T15:10:30.068Z"
   },
   {
    "duration": 644,
    "start_time": "2022-04-27T15:10:30.085Z"
   },
   {
    "duration": 0,
    "start_time": "2022-04-27T15:10:30.732Z"
   },
   {
    "duration": 0,
    "start_time": "2022-04-27T15:10:30.733Z"
   },
   {
    "duration": 0,
    "start_time": "2022-04-27T15:10:30.735Z"
   },
   {
    "duration": 0,
    "start_time": "2022-04-27T15:10:30.736Z"
   },
   {
    "duration": 0,
    "start_time": "2022-04-27T15:10:30.738Z"
   },
   {
    "duration": 0,
    "start_time": "2022-04-27T15:10:30.755Z"
   },
   {
    "duration": 0,
    "start_time": "2022-04-27T15:10:30.757Z"
   },
   {
    "duration": 0,
    "start_time": "2022-04-27T15:10:30.758Z"
   },
   {
    "duration": 0,
    "start_time": "2022-04-27T15:10:30.759Z"
   },
   {
    "duration": 0,
    "start_time": "2022-04-27T15:10:30.761Z"
   },
   {
    "duration": 0,
    "start_time": "2022-04-27T15:10:30.762Z"
   },
   {
    "duration": 0,
    "start_time": "2022-04-27T15:10:30.764Z"
   },
   {
    "duration": 0,
    "start_time": "2022-04-27T15:10:30.765Z"
   },
   {
    "duration": 0,
    "start_time": "2022-04-27T15:10:30.766Z"
   },
   {
    "duration": 0,
    "start_time": "2022-04-27T15:10:30.768Z"
   },
   {
    "duration": 0,
    "start_time": "2022-04-27T15:10:30.769Z"
   },
   {
    "duration": 0,
    "start_time": "2022-04-27T15:10:30.771Z"
   },
   {
    "duration": 1,
    "start_time": "2022-04-27T15:10:30.771Z"
   },
   {
    "duration": 0,
    "start_time": "2022-04-27T15:10:30.773Z"
   },
   {
    "duration": 0,
    "start_time": "2022-04-27T15:10:30.774Z"
   },
   {
    "duration": 0,
    "start_time": "2022-04-27T15:10:30.776Z"
   },
   {
    "duration": 529,
    "start_time": "2022-04-27T15:11:48.460Z"
   },
   {
    "duration": 133,
    "start_time": "2022-04-27T15:11:48.991Z"
   },
   {
    "duration": 12,
    "start_time": "2022-04-27T15:11:49.126Z"
   },
   {
    "duration": 16,
    "start_time": "2022-04-27T15:11:50.056Z"
   },
   {
    "duration": 866,
    "start_time": "2022-04-27T15:11:50.809Z"
   },
   {
    "duration": 0,
    "start_time": "2022-04-27T15:11:51.678Z"
   },
   {
    "duration": 2773,
    "start_time": "2022-04-27T15:11:51.804Z"
   },
   {
    "duration": 0,
    "start_time": "2022-04-27T15:11:54.579Z"
   },
   {
    "duration": 0,
    "start_time": "2022-04-27T15:11:54.580Z"
   },
   {
    "duration": 0,
    "start_time": "2022-04-27T15:11:54.582Z"
   },
   {
    "duration": 17,
    "start_time": "2022-04-27T15:11:54.896Z"
   },
   {
    "duration": 6,
    "start_time": "2022-04-27T15:11:55.105Z"
   },
   {
    "duration": 461,
    "start_time": "2022-04-27T15:11:56.062Z"
   },
   {
    "duration": 434,
    "start_time": "2022-04-27T15:12:08.674Z"
   },
   {
    "duration": 1742,
    "start_time": "2022-04-27T17:10:48.101Z"
   },
   {
    "duration": 24,
    "start_time": "2022-04-27T17:10:49.845Z"
   },
   {
    "duration": 15,
    "start_time": "2022-04-27T17:10:49.871Z"
   },
   {
    "duration": 32,
    "start_time": "2022-04-27T17:10:49.889Z"
   },
   {
    "duration": 21,
    "start_time": "2022-04-27T17:10:49.923Z"
   },
   {
    "duration": 44,
    "start_time": "2022-04-27T17:10:49.946Z"
   },
   {
    "duration": 22,
    "start_time": "2022-04-27T17:10:49.992Z"
   },
   {
    "duration": 54,
    "start_time": "2022-04-27T17:10:50.016Z"
   },
   {
    "duration": 11,
    "start_time": "2022-04-27T17:10:50.071Z"
   },
   {
    "duration": 23,
    "start_time": "2022-04-27T17:10:50.085Z"
   },
   {
    "duration": 30,
    "start_time": "2022-04-27T17:10:50.110Z"
   },
   {
    "duration": 6,
    "start_time": "2022-04-27T17:10:50.142Z"
   },
   {
    "duration": 20,
    "start_time": "2022-04-27T17:10:50.150Z"
   },
   {
    "duration": 25,
    "start_time": "2022-04-27T17:10:50.171Z"
   },
   {
    "duration": 14,
    "start_time": "2022-04-27T17:10:50.198Z"
   },
   {
    "duration": 31,
    "start_time": "2022-04-27T17:10:50.214Z"
   },
   {
    "duration": 30,
    "start_time": "2022-04-27T17:10:50.247Z"
   },
   {
    "duration": 634,
    "start_time": "2022-04-27T17:10:50.279Z"
   },
   {
    "duration": 0,
    "start_time": "2022-04-27T17:10:50.915Z"
   },
   {
    "duration": 0,
    "start_time": "2022-04-27T17:10:50.916Z"
   },
   {
    "duration": 0,
    "start_time": "2022-04-27T17:10:50.917Z"
   },
   {
    "duration": 0,
    "start_time": "2022-04-27T17:10:50.918Z"
   },
   {
    "duration": 0,
    "start_time": "2022-04-27T17:10:50.919Z"
   },
   {
    "duration": 0,
    "start_time": "2022-04-27T17:10:50.920Z"
   },
   {
    "duration": 0,
    "start_time": "2022-04-27T17:10:50.921Z"
   },
   {
    "duration": 0,
    "start_time": "2022-04-27T17:10:50.922Z"
   },
   {
    "duration": 0,
    "start_time": "2022-04-27T17:10:50.923Z"
   },
   {
    "duration": 0,
    "start_time": "2022-04-27T17:10:50.924Z"
   },
   {
    "duration": 0,
    "start_time": "2022-04-27T17:10:50.925Z"
   },
   {
    "duration": 0,
    "start_time": "2022-04-27T17:10:50.926Z"
   },
   {
    "duration": 0,
    "start_time": "2022-04-27T17:10:50.927Z"
   },
   {
    "duration": 0,
    "start_time": "2022-04-27T17:10:50.927Z"
   },
   {
    "duration": 0,
    "start_time": "2022-04-27T17:10:50.928Z"
   },
   {
    "duration": 0,
    "start_time": "2022-04-27T17:10:50.929Z"
   },
   {
    "duration": 0,
    "start_time": "2022-04-27T17:10:50.954Z"
   },
   {
    "duration": 0,
    "start_time": "2022-04-27T17:10:50.956Z"
   },
   {
    "duration": 0,
    "start_time": "2022-04-27T17:10:51.067Z"
   },
   {
    "duration": 0,
    "start_time": "2022-04-27T17:10:51.069Z"
   },
   {
    "duration": 1,
    "start_time": "2022-04-27T17:10:51.069Z"
   },
   {
    "duration": 2404,
    "start_time": "2022-04-29T13:48:27.132Z"
   },
   {
    "duration": 63,
    "start_time": "2022-04-29T13:48:29.539Z"
   },
   {
    "duration": 11,
    "start_time": "2022-04-29T13:48:29.605Z"
   },
   {
    "duration": 10,
    "start_time": "2022-04-29T13:48:29.619Z"
   },
   {
    "duration": 10,
    "start_time": "2022-04-29T13:48:29.631Z"
   },
   {
    "duration": 51,
    "start_time": "2022-04-29T13:48:29.643Z"
   },
   {
    "duration": 19,
    "start_time": "2022-04-29T13:48:29.696Z"
   },
   {
    "duration": 93,
    "start_time": "2022-04-29T13:48:29.717Z"
   },
   {
    "duration": 8,
    "start_time": "2022-04-29T13:48:29.812Z"
   },
   {
    "duration": 8,
    "start_time": "2022-04-29T13:48:29.824Z"
   },
   {
    "duration": 58,
    "start_time": "2022-04-29T13:48:29.834Z"
   },
   {
    "duration": 7,
    "start_time": "2022-04-29T13:48:29.894Z"
   },
   {
    "duration": 10,
    "start_time": "2022-04-29T13:48:29.903Z"
   },
   {
    "duration": 9,
    "start_time": "2022-04-29T13:48:29.915Z"
   },
   {
    "duration": 9,
    "start_time": "2022-04-29T13:48:29.926Z"
   },
   {
    "duration": 18,
    "start_time": "2022-04-29T13:48:29.937Z"
   },
   {
    "duration": 19,
    "start_time": "2022-04-29T13:48:29.994Z"
   },
   {
    "duration": 896,
    "start_time": "2022-04-29T13:48:30.015Z"
   },
   {
    "duration": 0,
    "start_time": "2022-04-29T13:48:30.915Z"
   },
   {
    "duration": 0,
    "start_time": "2022-04-29T13:48:30.916Z"
   },
   {
    "duration": 0,
    "start_time": "2022-04-29T13:48:30.918Z"
   },
   {
    "duration": 0,
    "start_time": "2022-04-29T13:48:30.920Z"
   },
   {
    "duration": 0,
    "start_time": "2022-04-29T13:48:30.921Z"
   },
   {
    "duration": 0,
    "start_time": "2022-04-29T13:48:30.923Z"
   },
   {
    "duration": 0,
    "start_time": "2022-04-29T13:48:30.924Z"
   },
   {
    "duration": 0,
    "start_time": "2022-04-29T13:48:30.926Z"
   },
   {
    "duration": 0,
    "start_time": "2022-04-29T13:48:30.927Z"
   },
   {
    "duration": 0,
    "start_time": "2022-04-29T13:48:30.929Z"
   },
   {
    "duration": 0,
    "start_time": "2022-04-29T13:48:30.930Z"
   },
   {
    "duration": 0,
    "start_time": "2022-04-29T13:48:30.931Z"
   },
   {
    "duration": 0,
    "start_time": "2022-04-29T13:48:30.933Z"
   },
   {
    "duration": 0,
    "start_time": "2022-04-29T13:48:30.935Z"
   },
   {
    "duration": 0,
    "start_time": "2022-04-29T13:48:30.936Z"
   },
   {
    "duration": 0,
    "start_time": "2022-04-29T13:48:30.938Z"
   },
   {
    "duration": 0,
    "start_time": "2022-04-29T13:48:30.940Z"
   },
   {
    "duration": 0,
    "start_time": "2022-04-29T13:48:30.941Z"
   },
   {
    "duration": 0,
    "start_time": "2022-04-29T13:48:30.943Z"
   },
   {
    "duration": 0,
    "start_time": "2022-04-29T13:48:30.944Z"
   },
   {
    "duration": 0,
    "start_time": "2022-04-29T13:48:30.994Z"
   },
   {
    "duration": 8,
    "start_time": "2022-04-29T13:49:36.925Z"
   },
   {
    "duration": 541,
    "start_time": "2022-04-29T13:50:06.036Z"
   },
   {
    "duration": 252,
    "start_time": "2022-04-29T13:50:13.859Z"
   },
   {
    "duration": 19,
    "start_time": "2022-04-29T13:50:20.769Z"
   },
   {
    "duration": 931,
    "start_time": "2022-04-29T13:50:27.391Z"
   },
   {
    "duration": 17,
    "start_time": "2022-04-29T13:50:49.086Z"
   },
   {
    "duration": 915,
    "start_time": "2022-04-29T13:50:54.431Z"
   },
   {
    "duration": 6,
    "start_time": "2022-04-29T13:51:05.650Z"
   },
   {
    "duration": 999,
    "start_time": "2022-04-29T13:51:07.896Z"
   },
   {
    "duration": 826,
    "start_time": "2022-04-29T13:51:14.936Z"
   },
   {
    "duration": 8,
    "start_time": "2022-04-29T13:51:24.529Z"
   },
   {
    "duration": 6,
    "start_time": "2022-04-29T13:51:26.341Z"
   },
   {
    "duration": 44,
    "start_time": "2022-04-29T13:51:32.912Z"
   },
   {
    "duration": 10,
    "start_time": "2022-04-29T13:51:38.850Z"
   },
   {
    "duration": 815,
    "start_time": "2022-04-29T13:51:46.109Z"
   },
   {
    "duration": 7,
    "start_time": "2022-04-29T13:51:55.018Z"
   },
   {
    "duration": 8,
    "start_time": "2022-04-29T13:52:00.826Z"
   },
   {
    "duration": 17,
    "start_time": "2022-04-29T13:52:12.105Z"
   },
   {
    "duration": 17,
    "start_time": "2022-04-29T13:52:23.057Z"
   },
   {
    "duration": 16,
    "start_time": "2022-04-29T13:52:29.109Z"
   },
   {
    "duration": 15,
    "start_time": "2022-04-29T13:52:36.284Z"
   },
   {
    "duration": 274,
    "start_time": "2022-04-29T13:52:44.076Z"
   },
   {
    "duration": 14,
    "start_time": "2022-04-29T13:53:01.052Z"
   },
   {
    "duration": 12,
    "start_time": "2022-04-29T13:53:07.593Z"
   },
   {
    "duration": 31,
    "start_time": "2022-04-29T13:53:12.489Z"
   },
   {
    "duration": 19,
    "start_time": "2022-04-29T13:53:19.136Z"
   },
   {
    "duration": 36,
    "start_time": "2022-04-29T13:55:07.432Z"
   },
   {
    "duration": 889,
    "start_time": "2022-04-29T13:57:12.657Z"
   },
   {
    "duration": 911,
    "start_time": "2022-04-29T13:57:21.731Z"
   },
   {
    "duration": 937,
    "start_time": "2022-04-29T13:57:37.412Z"
   },
   {
    "duration": 33,
    "start_time": "2022-04-29T13:59:48.456Z"
   },
   {
    "duration": 412,
    "start_time": "2022-04-29T14:00:06.193Z"
   },
   {
    "duration": 18,
    "start_time": "2022-04-29T14:00:45.264Z"
   },
   {
    "duration": 17,
    "start_time": "2022-04-29T14:00:58.525Z"
   },
   {
    "duration": 950,
    "start_time": "2022-04-29T14:01:08.613Z"
   },
   {
    "duration": 5,
    "start_time": "2022-04-29T14:01:28.902Z"
   },
   {
    "duration": 30,
    "start_time": "2022-04-29T14:01:28.914Z"
   },
   {
    "duration": 13,
    "start_time": "2022-04-29T14:01:28.947Z"
   },
   {
    "duration": 33,
    "start_time": "2022-04-29T14:01:28.962Z"
   },
   {
    "duration": 9,
    "start_time": "2022-04-29T14:01:28.998Z"
   },
   {
    "duration": 19,
    "start_time": "2022-04-29T14:01:29.010Z"
   },
   {
    "duration": 62,
    "start_time": "2022-04-29T14:01:29.031Z"
   },
   {
    "duration": 48,
    "start_time": "2022-04-29T14:01:29.096Z"
   },
   {
    "duration": 8,
    "start_time": "2022-04-29T14:01:29.147Z"
   },
   {
    "duration": 14,
    "start_time": "2022-04-29T14:01:29.157Z"
   },
   {
    "duration": 25,
    "start_time": "2022-04-29T14:01:29.173Z"
   },
   {
    "duration": 7,
    "start_time": "2022-04-29T14:01:29.200Z"
   },
   {
    "duration": 10,
    "start_time": "2022-04-29T14:01:29.210Z"
   },
   {
    "duration": 8,
    "start_time": "2022-04-29T14:01:29.222Z"
   },
   {
    "duration": 9,
    "start_time": "2022-04-29T14:01:29.235Z"
   },
   {
    "duration": 54,
    "start_time": "2022-04-29T14:01:29.246Z"
   },
   {
    "duration": 17,
    "start_time": "2022-04-29T14:01:29.302Z"
   },
   {
    "duration": 430,
    "start_time": "2022-04-29T14:01:29.321Z"
   },
   {
    "duration": 1126,
    "start_time": "2022-04-29T14:01:29.753Z"
   },
   {
    "duration": 466,
    "start_time": "2022-04-29T14:01:30.881Z"
   },
   {
    "duration": 234,
    "start_time": "2022-04-29T14:01:31.349Z"
   },
   {
    "duration": 22,
    "start_time": "2022-04-29T14:01:31.585Z"
   },
   {
    "duration": 26,
    "start_time": "2022-04-29T14:01:31.609Z"
   },
   {
    "duration": 1030,
    "start_time": "2022-04-29T14:01:31.637Z"
   },
   {
    "duration": 6,
    "start_time": "2022-04-29T14:01:32.670Z"
   },
   {
    "duration": 1105,
    "start_time": "2022-04-29T14:01:32.693Z"
   },
   {
    "duration": 739,
    "start_time": "2022-04-29T14:01:33.800Z"
   },
   {
    "duration": 9,
    "start_time": "2022-04-29T14:01:34.541Z"
   },
   {
    "duration": 10,
    "start_time": "2022-04-29T14:01:34.552Z"
   },
   {
    "duration": 48,
    "start_time": "2022-04-29T14:01:34.564Z"
   },
   {
    "duration": 7,
    "start_time": "2022-04-29T14:01:34.615Z"
   },
   {
    "duration": 848,
    "start_time": "2022-04-29T14:01:34.624Z"
   },
   {
    "duration": 6,
    "start_time": "2022-04-29T14:01:35.475Z"
   },
   {
    "duration": 15,
    "start_time": "2022-04-29T14:01:35.483Z"
   },
   {
    "duration": 312,
    "start_time": "2022-04-29T14:01:35.500Z"
   },
   {
    "duration": 14,
    "start_time": "2022-04-29T14:01:35.814Z"
   },
   {
    "duration": 41,
    "start_time": "2022-04-29T14:01:35.830Z"
   },
   {
    "duration": 33,
    "start_time": "2022-04-29T14:01:35.873Z"
   },
   {
    "duration": 30,
    "start_time": "2022-04-29T14:01:35.909Z"
   },
   {
    "duration": 19,
    "start_time": "2022-04-29T14:01:35.942Z"
   },
   {
    "duration": 1031,
    "start_time": "2022-04-29T14:02:34.631Z"
   },
   {
    "duration": 5,
    "start_time": "2022-04-29T14:02:41.939Z"
   },
   {
    "duration": 30,
    "start_time": "2022-04-29T14:02:41.947Z"
   },
   {
    "duration": 11,
    "start_time": "2022-04-29T14:02:41.979Z"
   },
   {
    "duration": 13,
    "start_time": "2022-04-29T14:02:41.993Z"
   },
   {
    "duration": 10,
    "start_time": "2022-04-29T14:02:42.008Z"
   },
   {
    "duration": 19,
    "start_time": "2022-04-29T14:02:42.020Z"
   },
   {
    "duration": 54,
    "start_time": "2022-04-29T14:02:42.041Z"
   },
   {
    "duration": 53,
    "start_time": "2022-04-29T14:02:42.097Z"
   },
   {
    "duration": 8,
    "start_time": "2022-04-29T14:02:42.154Z"
   },
   {
    "duration": 12,
    "start_time": "2022-04-29T14:02:42.164Z"
   },
   {
    "duration": 24,
    "start_time": "2022-04-29T14:02:42.179Z"
   },
   {
    "duration": 6,
    "start_time": "2022-04-29T14:02:42.205Z"
   },
   {
    "duration": 10,
    "start_time": "2022-04-29T14:02:42.213Z"
   },
   {
    "duration": 7,
    "start_time": "2022-04-29T14:02:42.225Z"
   },
   {
    "duration": 8,
    "start_time": "2022-04-29T14:02:42.234Z"
   },
   {
    "duration": 19,
    "start_time": "2022-04-29T14:02:42.243Z"
   },
   {
    "duration": 45,
    "start_time": "2022-04-29T14:02:42.264Z"
   },
   {
    "duration": 1035,
    "start_time": "2022-04-29T14:02:42.312Z"
   },
   {
    "duration": 484,
    "start_time": "2022-04-29T14:02:43.349Z"
   },
   {
    "duration": 252,
    "start_time": "2022-04-29T14:02:43.836Z"
   },
   {
    "duration": 25,
    "start_time": "2022-04-29T14:02:44.092Z"
   },
   {
    "duration": 23,
    "start_time": "2022-04-29T14:02:44.120Z"
   },
   {
    "duration": 996,
    "start_time": "2022-04-29T14:02:44.146Z"
   },
   {
    "duration": 7,
    "start_time": "2022-04-29T14:02:45.146Z"
   },
   {
    "duration": 1007,
    "start_time": "2022-04-29T14:02:45.155Z"
   },
   {
    "duration": 880,
    "start_time": "2022-04-29T14:02:46.164Z"
   },
   {
    "duration": 9,
    "start_time": "2022-04-29T14:02:47.046Z"
   },
   {
    "duration": 8,
    "start_time": "2022-04-29T14:02:47.057Z"
   },
   {
    "duration": 50,
    "start_time": "2022-04-29T14:02:47.067Z"
   },
   {
    "duration": 8,
    "start_time": "2022-04-29T14:02:47.119Z"
   },
   {
    "duration": 825,
    "start_time": "2022-04-29T14:02:47.129Z"
   },
   {
    "duration": 7,
    "start_time": "2022-04-29T14:02:47.956Z"
   },
   {
    "duration": 28,
    "start_time": "2022-04-29T14:02:47.965Z"
   },
   {
    "duration": 277,
    "start_time": "2022-04-29T14:02:47.995Z"
   },
   {
    "duration": 22,
    "start_time": "2022-04-29T14:02:48.275Z"
   },
   {
    "duration": 12,
    "start_time": "2022-04-29T14:02:48.301Z"
   },
   {
    "duration": 17,
    "start_time": "2022-04-29T14:02:48.316Z"
   },
   {
    "duration": 56,
    "start_time": "2022-04-29T14:02:48.336Z"
   },
   {
    "duration": 18,
    "start_time": "2022-04-29T14:02:48.395Z"
   },
   {
    "duration": 1719,
    "start_time": "2022-04-29T19:12:57.178Z"
   },
   {
    "duration": 35,
    "start_time": "2022-04-29T19:12:58.899Z"
   },
   {
    "duration": 7,
    "start_time": "2022-04-29T19:12:58.935Z"
   },
   {
    "duration": 8,
    "start_time": "2022-04-29T19:12:58.944Z"
   },
   {
    "duration": 7,
    "start_time": "2022-04-29T19:12:58.954Z"
   },
   {
    "duration": 21,
    "start_time": "2022-04-29T19:12:58.962Z"
   },
   {
    "duration": 12,
    "start_time": "2022-04-29T19:12:58.985Z"
   },
   {
    "duration": 46,
    "start_time": "2022-04-29T19:12:58.998Z"
   },
   {
    "duration": 6,
    "start_time": "2022-04-29T19:12:59.046Z"
   },
   {
    "duration": 7,
    "start_time": "2022-04-29T19:12:59.053Z"
   },
   {
    "duration": 31,
    "start_time": "2022-04-29T19:12:59.061Z"
   },
   {
    "duration": 4,
    "start_time": "2022-04-29T19:12:59.094Z"
   },
   {
    "duration": 7,
    "start_time": "2022-04-29T19:12:59.100Z"
   },
   {
    "duration": 7,
    "start_time": "2022-04-29T19:12:59.111Z"
   },
   {
    "duration": 8,
    "start_time": "2022-04-29T19:12:59.120Z"
   },
   {
    "duration": 12,
    "start_time": "2022-04-29T19:12:59.130Z"
   },
   {
    "duration": 11,
    "start_time": "2022-04-29T19:12:59.144Z"
   },
   {
    "duration": 681,
    "start_time": "2022-04-29T19:12:59.156Z"
   },
   {
    "duration": 0,
    "start_time": "2022-04-29T19:12:59.839Z"
   },
   {
    "duration": 0,
    "start_time": "2022-04-29T19:12:59.840Z"
   },
   {
    "duration": 0,
    "start_time": "2022-04-29T19:12:59.841Z"
   },
   {
    "duration": 0,
    "start_time": "2022-04-29T19:12:59.842Z"
   },
   {
    "duration": 0,
    "start_time": "2022-04-29T19:12:59.844Z"
   },
   {
    "duration": 0,
    "start_time": "2022-04-29T19:12:59.845Z"
   },
   {
    "duration": 0,
    "start_time": "2022-04-29T19:12:59.846Z"
   },
   {
    "duration": 0,
    "start_time": "2022-04-29T19:12:59.847Z"
   },
   {
    "duration": 0,
    "start_time": "2022-04-29T19:12:59.848Z"
   },
   {
    "duration": 0,
    "start_time": "2022-04-29T19:12:59.874Z"
   },
   {
    "duration": 0,
    "start_time": "2022-04-29T19:12:59.875Z"
   },
   {
    "duration": 0,
    "start_time": "2022-04-29T19:12:59.876Z"
   },
   {
    "duration": 0,
    "start_time": "2022-04-29T19:12:59.877Z"
   },
   {
    "duration": 0,
    "start_time": "2022-04-29T19:12:59.878Z"
   },
   {
    "duration": 0,
    "start_time": "2022-04-29T19:12:59.878Z"
   },
   {
    "duration": 0,
    "start_time": "2022-04-29T19:12:59.880Z"
   },
   {
    "duration": 0,
    "start_time": "2022-04-29T19:12:59.881Z"
   },
   {
    "duration": 0,
    "start_time": "2022-04-29T19:12:59.882Z"
   },
   {
    "duration": 0,
    "start_time": "2022-04-29T19:12:59.883Z"
   },
   {
    "duration": 0,
    "start_time": "2022-04-29T19:12:59.884Z"
   },
   {
    "duration": 0,
    "start_time": "2022-04-29T19:12:59.885Z"
   },
   {
    "duration": 355,
    "start_time": "2022-04-29T19:14:40.421Z"
   },
   {
    "duration": 141,
    "start_time": "2022-04-29T19:14:45.965Z"
   },
   {
    "duration": 13,
    "start_time": "2022-04-29T19:14:47.259Z"
   },
   {
    "duration": 12,
    "start_time": "2022-04-29T19:14:49.548Z"
   },
   {
    "duration": 618,
    "start_time": "2022-04-29T19:14:51.767Z"
   },
   {
    "duration": 5,
    "start_time": "2022-04-29T19:15:13.091Z"
   },
   {
    "duration": 654,
    "start_time": "2022-04-29T19:15:13.543Z"
   },
   {
    "duration": 112,
    "start_time": "2022-04-29T19:15:17.302Z"
   },
   {
    "duration": 437,
    "start_time": "2022-04-29T19:15:33.086Z"
   },
   {
    "duration": 6,
    "start_time": "2022-04-29T19:19:24.645Z"
   },
   {
    "duration": 6,
    "start_time": "2022-04-29T19:19:25.342Z"
   },
   {
    "duration": 10,
    "start_time": "2022-04-29T19:20:01.867Z"
   },
   {
    "duration": 6,
    "start_time": "2022-04-29T19:20:45.038Z"
   },
   {
    "duration": 18,
    "start_time": "2022-04-29T19:22:06.780Z"
   },
   {
    "duration": 7,
    "start_time": "2022-04-29T19:22:10.024Z"
   },
   {
    "duration": 489,
    "start_time": "2022-04-29T19:22:13.333Z"
   },
   {
    "duration": 99,
    "start_time": "2022-04-29T19:23:28.894Z"
   },
   {
    "duration": 6,
    "start_time": "2022-04-29T19:23:34.422Z"
   },
   {
    "duration": 6,
    "start_time": "2022-04-29T19:23:53.738Z"
   },
   {
    "duration": 147,
    "start_time": "2022-04-29T19:24:02.299Z"
   },
   {
    "duration": 11,
    "start_time": "2022-04-29T19:25:02.773Z"
   },
   {
    "duration": 9,
    "start_time": "2022-04-29T19:25:05.500Z"
   },
   {
    "duration": 9,
    "start_time": "2022-04-29T19:25:07.133Z"
   },
   {
    "duration": 24,
    "start_time": "2022-04-29T19:25:08.117Z"
   },
   {
    "duration": 14,
    "start_time": "2022-04-29T19:25:09.873Z"
   },
   {
    "duration": 2455,
    "start_time": "2022-04-30T09:36:08.012Z"
   },
   {
    "duration": 26,
    "start_time": "2022-04-30T09:36:10.470Z"
   },
   {
    "duration": 11,
    "start_time": "2022-04-30T09:36:10.498Z"
   },
   {
    "duration": 9,
    "start_time": "2022-04-30T09:36:10.513Z"
   },
   {
    "duration": 10,
    "start_time": "2022-04-30T09:36:10.524Z"
   },
   {
    "duration": 56,
    "start_time": "2022-04-30T09:36:10.536Z"
   },
   {
    "duration": 17,
    "start_time": "2022-04-30T09:36:10.595Z"
   },
   {
    "duration": 31,
    "start_time": "2022-04-30T09:36:10.614Z"
   },
   {
    "duration": 8,
    "start_time": "2022-04-30T09:36:10.647Z"
   },
   {
    "duration": 28,
    "start_time": "2022-04-30T09:36:10.659Z"
   },
   {
    "duration": 18,
    "start_time": "2022-04-30T09:36:10.689Z"
   },
   {
    "duration": 9,
    "start_time": "2022-04-30T09:36:10.710Z"
   },
   {
    "duration": 13,
    "start_time": "2022-04-30T09:36:10.721Z"
   },
   {
    "duration": 50,
    "start_time": "2022-04-30T09:36:10.737Z"
   },
   {
    "duration": 10,
    "start_time": "2022-04-30T09:36:10.790Z"
   },
   {
    "duration": 23,
    "start_time": "2022-04-30T09:36:10.803Z"
   },
   {
    "duration": 15,
    "start_time": "2022-04-30T09:36:10.829Z"
   },
   {
    "duration": 974,
    "start_time": "2022-04-30T09:36:10.846Z"
   },
   {
    "duration": 0,
    "start_time": "2022-04-30T09:36:11.822Z"
   },
   {
    "duration": 0,
    "start_time": "2022-04-30T09:36:11.824Z"
   },
   {
    "duration": 0,
    "start_time": "2022-04-30T09:36:11.826Z"
   },
   {
    "duration": 0,
    "start_time": "2022-04-30T09:36:11.827Z"
   },
   {
    "duration": 0,
    "start_time": "2022-04-30T09:36:11.829Z"
   },
   {
    "duration": 0,
    "start_time": "2022-04-30T09:36:11.830Z"
   },
   {
    "duration": 0,
    "start_time": "2022-04-30T09:36:11.832Z"
   },
   {
    "duration": 0,
    "start_time": "2022-04-30T09:36:11.833Z"
   },
   {
    "duration": 0,
    "start_time": "2022-04-30T09:36:11.834Z"
   },
   {
    "duration": 1,
    "start_time": "2022-04-30T09:36:11.835Z"
   },
   {
    "duration": 0,
    "start_time": "2022-04-30T09:36:11.837Z"
   },
   {
    "duration": 0,
    "start_time": "2022-04-30T09:36:11.839Z"
   },
   {
    "duration": 0,
    "start_time": "2022-04-30T09:36:11.840Z"
   },
   {
    "duration": 0,
    "start_time": "2022-04-30T09:36:11.842Z"
   },
   {
    "duration": 0,
    "start_time": "2022-04-30T09:36:11.843Z"
   },
   {
    "duration": 0,
    "start_time": "2022-04-30T09:36:11.845Z"
   },
   {
    "duration": 0,
    "start_time": "2022-04-30T09:36:11.882Z"
   },
   {
    "duration": 0,
    "start_time": "2022-04-30T09:36:11.884Z"
   },
   {
    "duration": 0,
    "start_time": "2022-04-30T09:36:12.000Z"
   },
   {
    "duration": 0,
    "start_time": "2022-04-30T09:36:12.002Z"
   },
   {
    "duration": 0,
    "start_time": "2022-04-30T09:36:12.005Z"
   },
   {
    "duration": 1045,
    "start_time": "2022-04-30T09:36:48.217Z"
   },
   {
    "duration": 767,
    "start_time": "2022-04-30T09:37:14.666Z"
   },
   {
    "duration": 784,
    "start_time": "2022-04-30T09:37:25.247Z"
   },
   {
    "duration": 16,
    "start_time": "2022-04-30T09:37:30.157Z"
   },
   {
    "duration": 278,
    "start_time": "2022-04-30T09:37:32.357Z"
   },
   {
    "duration": 484,
    "start_time": "2022-04-30T09:37:35.017Z"
   },
   {
    "duration": 19,
    "start_time": "2022-04-30T09:37:38.616Z"
   },
   {
    "duration": 1005,
    "start_time": "2022-04-30T09:37:54.426Z"
   },
   {
    "duration": 19,
    "start_time": "2022-04-30T09:46:05.026Z"
   },
   {
    "duration": 19,
    "start_time": "2022-04-30T09:46:12.626Z"
   },
   {
    "duration": 1447,
    "start_time": "2022-04-30T09:47:25.879Z"
   },
   {
    "duration": 1359,
    "start_time": "2022-04-30T09:48:24.881Z"
   },
   {
    "duration": 1112,
    "start_time": "2022-04-30T09:48:41.744Z"
   },
   {
    "duration": 1068,
    "start_time": "2022-04-30T09:49:02.446Z"
   },
   {
    "duration": 1167,
    "start_time": "2022-04-30T09:49:09.480Z"
   },
   {
    "duration": 7,
    "start_time": "2022-04-30T09:49:17.304Z"
   },
   {
    "duration": 24,
    "start_time": "2022-04-30T09:49:17.314Z"
   },
   {
    "duration": 12,
    "start_time": "2022-04-30T09:49:17.341Z"
   },
   {
    "duration": 17,
    "start_time": "2022-04-30T09:49:17.356Z"
   },
   {
    "duration": 10,
    "start_time": "2022-04-30T09:49:17.384Z"
   },
   {
    "duration": 28,
    "start_time": "2022-04-30T09:49:17.397Z"
   },
   {
    "duration": 60,
    "start_time": "2022-04-30T09:49:17.428Z"
   },
   {
    "duration": 36,
    "start_time": "2022-04-30T09:49:17.490Z"
   },
   {
    "duration": 8,
    "start_time": "2022-04-30T09:49:17.528Z"
   },
   {
    "duration": 11,
    "start_time": "2022-04-30T09:49:17.538Z"
   },
   {
    "duration": 18,
    "start_time": "2022-04-30T09:49:17.695Z"
   },
   {
    "duration": 7,
    "start_time": "2022-04-30T09:49:17.715Z"
   },
   {
    "duration": 16,
    "start_time": "2022-04-30T09:49:17.725Z"
   },
   {
    "duration": 12,
    "start_time": "2022-04-30T09:49:17.744Z"
   },
   {
    "duration": 30,
    "start_time": "2022-04-30T09:49:17.757Z"
   },
   {
    "duration": 23,
    "start_time": "2022-04-30T09:49:17.789Z"
   },
   {
    "duration": 23,
    "start_time": "2022-04-30T09:49:17.814Z"
   },
   {
    "duration": 1154,
    "start_time": "2022-04-30T09:49:17.839Z"
   },
   {
    "duration": 506,
    "start_time": "2022-04-30T09:49:18.996Z"
   },
   {
    "duration": 247,
    "start_time": "2022-04-30T09:49:19.504Z"
   },
   {
    "duration": 27,
    "start_time": "2022-04-30T09:49:19.754Z"
   },
   {
    "duration": 17,
    "start_time": "2022-04-30T09:49:19.784Z"
   },
   {
    "duration": 1064,
    "start_time": "2022-04-30T09:49:19.804Z"
   },
   {
    "duration": 12,
    "start_time": "2022-04-30T09:49:20.871Z"
   },
   {
    "duration": 1183,
    "start_time": "2022-04-30T09:49:20.887Z"
   },
   {
    "duration": 896,
    "start_time": "2022-04-30T09:49:22.073Z"
   },
   {
    "duration": 14,
    "start_time": "2022-04-30T09:49:22.971Z"
   },
   {
    "duration": 13,
    "start_time": "2022-04-30T09:49:22.987Z"
   },
   {
    "duration": 26,
    "start_time": "2022-04-30T09:49:23.006Z"
   },
   {
    "duration": 11,
    "start_time": "2022-04-30T09:49:23.034Z"
   },
   {
    "duration": 868,
    "start_time": "2022-04-30T09:49:23.083Z"
   },
   {
    "duration": 8,
    "start_time": "2022-04-30T09:49:23.954Z"
   },
   {
    "duration": 23,
    "start_time": "2022-04-30T09:49:23.965Z"
   },
   {
    "duration": 314,
    "start_time": "2022-04-30T09:49:23.991Z"
   },
   {
    "duration": 16,
    "start_time": "2022-04-30T09:49:24.308Z"
   },
   {
    "duration": 23,
    "start_time": "2022-04-30T09:49:24.327Z"
   },
   {
    "duration": 38,
    "start_time": "2022-04-30T09:49:24.352Z"
   },
   {
    "duration": 32,
    "start_time": "2022-04-30T09:49:24.393Z"
   },
   {
    "duration": 20,
    "start_time": "2022-04-30T09:49:24.427Z"
   },
   {
    "duration": 1015,
    "start_time": "2022-04-30T09:49:50.871Z"
   },
   {
    "duration": 1026,
    "start_time": "2022-04-30T09:50:02.073Z"
   },
   {
    "duration": 1018,
    "start_time": "2022-04-30T09:50:06.722Z"
   },
   {
    "duration": 770,
    "start_time": "2022-04-30T10:04:31.783Z"
   },
   {
    "duration": 755,
    "start_time": "2022-04-30T10:05:22.897Z"
   },
   {
    "duration": 7,
    "start_time": "2022-04-30T10:09:45.547Z"
   },
   {
    "duration": 16,
    "start_time": "2022-04-30T10:09:52.694Z"
   },
   {
    "duration": 13,
    "start_time": "2022-04-30T10:11:48.389Z"
   },
   {
    "duration": 7,
    "start_time": "2022-04-30T10:13:19.420Z"
   },
   {
    "duration": 8,
    "start_time": "2022-04-30T10:13:37.421Z"
   },
   {
    "duration": 8,
    "start_time": "2022-04-30T10:13:48.487Z"
   },
   {
    "duration": 59,
    "start_time": "2022-04-30T10:14:18.323Z"
   },
   {
    "duration": 13,
    "start_time": "2022-04-30T10:14:34.216Z"
   },
   {
    "duration": 10,
    "start_time": "2022-04-30T10:30:42.231Z"
   },
   {
    "duration": 16,
    "start_time": "2022-04-30T10:31:50.029Z"
   },
   {
    "duration": 8,
    "start_time": "2022-04-30T10:32:46.552Z"
   },
   {
    "duration": 6,
    "start_time": "2022-04-30T10:33:46.040Z"
   },
   {
    "duration": 36,
    "start_time": "2022-04-30T10:33:46.049Z"
   },
   {
    "duration": 13,
    "start_time": "2022-04-30T10:33:46.087Z"
   },
   {
    "duration": 19,
    "start_time": "2022-04-30T10:33:46.104Z"
   },
   {
    "duration": 12,
    "start_time": "2022-04-30T10:33:46.125Z"
   },
   {
    "duration": 41,
    "start_time": "2022-04-30T10:33:46.140Z"
   },
   {
    "duration": 20,
    "start_time": "2022-04-30T10:33:46.184Z"
   },
   {
    "duration": 49,
    "start_time": "2022-04-30T10:33:46.206Z"
   },
   {
    "duration": 10,
    "start_time": "2022-04-30T10:33:46.258Z"
   },
   {
    "duration": 13,
    "start_time": "2022-04-30T10:33:46.271Z"
   },
   {
    "duration": 30,
    "start_time": "2022-04-30T10:33:46.286Z"
   },
   {
    "duration": 7,
    "start_time": "2022-04-30T10:33:46.318Z"
   },
   {
    "duration": 19,
    "start_time": "2022-04-30T10:33:46.328Z"
   },
   {
    "duration": 12,
    "start_time": "2022-04-30T10:33:46.350Z"
   },
   {
    "duration": 5,
    "start_time": "2022-04-30T10:33:49.357Z"
   },
   {
    "duration": 7,
    "start_time": "2022-04-30T10:33:52.789Z"
   },
   {
    "duration": 7,
    "start_time": "2022-04-30T10:35:06.437Z"
   },
   {
    "duration": 6,
    "start_time": "2022-04-30T10:36:35.403Z"
   },
   {
    "duration": 28,
    "start_time": "2022-04-30T10:36:35.412Z"
   },
   {
    "duration": 15,
    "start_time": "2022-04-30T10:36:35.443Z"
   },
   {
    "duration": 24,
    "start_time": "2022-04-30T10:36:35.461Z"
   },
   {
    "duration": 11,
    "start_time": "2022-04-30T10:36:35.488Z"
   },
   {
    "duration": 23,
    "start_time": "2022-04-30T10:36:35.502Z"
   },
   {
    "duration": 61,
    "start_time": "2022-04-30T10:36:35.527Z"
   },
   {
    "duration": 33,
    "start_time": "2022-04-30T10:36:35.590Z"
   },
   {
    "duration": 10,
    "start_time": "2022-04-30T10:36:35.626Z"
   },
   {
    "duration": 9,
    "start_time": "2022-04-30T10:36:35.638Z"
   },
   {
    "duration": 42,
    "start_time": "2022-04-30T10:36:35.651Z"
   },
   {
    "duration": 8,
    "start_time": "2022-04-30T10:36:35.695Z"
   },
   {
    "duration": 16,
    "start_time": "2022-04-30T10:36:35.705Z"
   },
   {
    "duration": 11,
    "start_time": "2022-04-30T10:36:35.724Z"
   },
   {
    "duration": 7,
    "start_time": "2022-04-30T10:36:35.737Z"
   },
   {
    "duration": 37,
    "start_time": "2022-04-30T10:36:35.746Z"
   },
   {
    "duration": 15,
    "start_time": "2022-04-30T10:36:35.786Z"
   },
   {
    "duration": 16,
    "start_time": "2022-04-30T10:36:35.804Z"
   },
   {
    "duration": 27,
    "start_time": "2022-04-30T10:36:35.822Z"
   },
   {
    "duration": 38,
    "start_time": "2022-04-30T10:36:35.851Z"
   },
   {
    "duration": 1109,
    "start_time": "2022-04-30T10:36:35.891Z"
   },
   {
    "duration": 612,
    "start_time": "2022-04-30T10:36:37.003Z"
   },
   {
    "duration": 266,
    "start_time": "2022-04-30T10:36:37.617Z"
   },
   {
    "duration": 19,
    "start_time": "2022-04-30T10:36:37.885Z"
   },
   {
    "duration": 17,
    "start_time": "2022-04-30T10:36:37.907Z"
   },
   {
    "duration": 1046,
    "start_time": "2022-04-30T10:36:37.926Z"
   },
   {
    "duration": 8,
    "start_time": "2022-04-30T10:36:38.982Z"
   },
   {
    "duration": 1036,
    "start_time": "2022-04-30T10:36:38.992Z"
   },
   {
    "duration": 3022,
    "start_time": "2022-04-30T10:36:40.033Z"
   },
   {
    "duration": 0,
    "start_time": "2022-04-30T10:36:43.057Z"
   },
   {
    "duration": 0,
    "start_time": "2022-04-30T10:36:43.058Z"
   },
   {
    "duration": 0,
    "start_time": "2022-04-30T10:36:43.060Z"
   },
   {
    "duration": 0,
    "start_time": "2022-04-30T10:36:43.061Z"
   },
   {
    "duration": 0,
    "start_time": "2022-04-30T10:36:43.063Z"
   },
   {
    "duration": 0,
    "start_time": "2022-04-30T10:36:43.065Z"
   },
   {
    "duration": 0,
    "start_time": "2022-04-30T10:36:43.067Z"
   },
   {
    "duration": 0,
    "start_time": "2022-04-30T10:36:43.069Z"
   },
   {
    "duration": 0,
    "start_time": "2022-04-30T10:36:43.082Z"
   },
   {
    "duration": 0,
    "start_time": "2022-04-30T10:36:43.084Z"
   },
   {
    "duration": 0,
    "start_time": "2022-04-30T10:36:43.086Z"
   },
   {
    "duration": 0,
    "start_time": "2022-04-30T10:36:43.091Z"
   },
   {
    "duration": 0,
    "start_time": "2022-04-30T10:36:43.093Z"
   },
   {
    "duration": 2726,
    "start_time": "2022-04-30T10:37:37.855Z"
   },
   {
    "duration": 7,
    "start_time": "2022-04-30T10:38:21.414Z"
   },
   {
    "duration": 6,
    "start_time": "2022-04-30T10:38:27.639Z"
   },
   {
    "duration": 7,
    "start_time": "2022-04-30T10:38:31.039Z"
   },
   {
    "duration": 18,
    "start_time": "2022-04-30T10:38:34.498Z"
   },
   {
    "duration": 16,
    "start_time": "2022-04-30T10:38:36.729Z"
   },
   {
    "duration": 1333,
    "start_time": "2022-04-30T10:38:39.409Z"
   },
   {
    "duration": 1049,
    "start_time": "2022-04-30T10:38:49.052Z"
   },
   {
    "duration": 2424,
    "start_time": "2022-04-30T10:38:57.421Z"
   },
   {
    "duration": 8,
    "start_time": "2022-04-30T10:39:43.986Z"
   },
   {
    "duration": 6,
    "start_time": "2022-04-30T10:39:47.019Z"
   },
   {
    "duration": 38,
    "start_time": "2022-04-30T10:39:50.496Z"
   },
   {
    "duration": 7,
    "start_time": "2022-04-30T10:39:53.745Z"
   },
   {
    "duration": 853,
    "start_time": "2022-04-30T10:39:58.069Z"
   },
   {
    "duration": 7,
    "start_time": "2022-04-30T10:40:09.671Z"
   },
   {
    "duration": 7,
    "start_time": "2022-04-30T10:40:14.333Z"
   },
   {
    "duration": 340,
    "start_time": "2022-04-30T10:40:19.307Z"
   },
   {
    "duration": 14,
    "start_time": "2022-04-30T10:41:03.200Z"
   },
   {
    "duration": 13,
    "start_time": "2022-04-30T10:41:13.883Z"
   },
   {
    "duration": 13,
    "start_time": "2022-04-30T10:41:37.801Z"
   },
   {
    "duration": 31,
    "start_time": "2022-04-30T10:41:40.232Z"
   },
   {
    "duration": 20,
    "start_time": "2022-04-30T10:41:46.575Z"
   },
   {
    "duration": 7,
    "start_time": "2022-04-30T10:42:38.378Z"
   },
   {
    "duration": 15,
    "start_time": "2022-04-30T10:43:48.682Z"
   },
   {
    "duration": 430,
    "start_time": "2022-04-30T10:50:09.495Z"
   },
   {
    "duration": 436,
    "start_time": "2022-04-30T10:50:23.432Z"
   },
   {
    "duration": 1057,
    "start_time": "2022-04-30T10:51:04.420Z"
   },
   {
    "duration": 1064,
    "start_time": "2022-04-30T10:51:14.174Z"
   },
   {
    "duration": 1191,
    "start_time": "2022-04-30T10:51:44.968Z"
   },
   {
    "duration": 1096,
    "start_time": "2022-04-30T10:51:49.478Z"
   },
   {
    "duration": 1066,
    "start_time": "2022-04-30T10:52:12.548Z"
   },
   {
    "duration": 1148,
    "start_time": "2022-04-30T10:52:27.274Z"
   },
   {
    "duration": 1214,
    "start_time": "2022-04-30T10:52:44.108Z"
   },
   {
    "duration": 1037,
    "start_time": "2022-04-30T10:52:56.075Z"
   },
   {
    "duration": 1039,
    "start_time": "2022-04-30T10:54:04.547Z"
   },
   {
    "duration": 1115,
    "start_time": "2022-04-30T10:54:28.688Z"
   },
   {
    "duration": 923,
    "start_time": "2022-04-30T10:54:49.223Z"
   },
   {
    "duration": 780,
    "start_time": "2022-04-30T10:55:19.511Z"
   },
   {
    "duration": 774,
    "start_time": "2022-04-30T10:56:00.758Z"
   },
   {
    "duration": 859,
    "start_time": "2022-04-30T10:57:20.767Z"
   },
   {
    "duration": 733,
    "start_time": "2022-04-30T10:57:37.219Z"
   },
   {
    "duration": 782,
    "start_time": "2022-04-30T10:59:31.850Z"
   },
   {
    "duration": 794,
    "start_time": "2022-04-30T10:59:53.562Z"
   },
   {
    "duration": 769,
    "start_time": "2022-04-30T11:00:45.213Z"
   },
   {
    "duration": 7,
    "start_time": "2022-04-30T11:01:31.008Z"
   },
   {
    "duration": 881,
    "start_time": "2022-04-30T11:01:37.467Z"
   },
   {
    "duration": 944,
    "start_time": "2022-04-30T11:02:01.526Z"
   },
   {
    "duration": 1112,
    "start_time": "2022-04-30T11:03:06.792Z"
   },
   {
    "duration": 5,
    "start_time": "2022-04-30T11:03:16.127Z"
   },
   {
    "duration": 25,
    "start_time": "2022-04-30T11:03:16.141Z"
   },
   {
    "duration": 16,
    "start_time": "2022-04-30T11:03:16.170Z"
   },
   {
    "duration": 11,
    "start_time": "2022-04-30T11:03:16.188Z"
   },
   {
    "duration": 10,
    "start_time": "2022-04-30T11:03:16.201Z"
   },
   {
    "duration": 68,
    "start_time": "2022-04-30T11:03:16.214Z"
   },
   {
    "duration": 22,
    "start_time": "2022-04-30T11:03:16.286Z"
   },
   {
    "duration": 37,
    "start_time": "2022-04-30T11:03:16.310Z"
   },
   {
    "duration": 10,
    "start_time": "2022-04-30T11:03:16.349Z"
   },
   {
    "duration": 28,
    "start_time": "2022-04-30T11:03:16.362Z"
   },
   {
    "duration": 24,
    "start_time": "2022-04-30T11:03:16.394Z"
   },
   {
    "duration": 7,
    "start_time": "2022-04-30T11:03:16.420Z"
   },
   {
    "duration": 10,
    "start_time": "2022-04-30T11:03:16.429Z"
   },
   {
    "duration": 9,
    "start_time": "2022-04-30T11:03:16.441Z"
   },
   {
    "duration": 7,
    "start_time": "2022-04-30T11:03:16.485Z"
   },
   {
    "duration": 14,
    "start_time": "2022-04-30T11:03:16.494Z"
   },
   {
    "duration": 7,
    "start_time": "2022-04-30T11:03:16.510Z"
   },
   {
    "duration": 10,
    "start_time": "2022-04-30T11:03:16.519Z"
   },
   {
    "duration": 20,
    "start_time": "2022-04-30T11:03:16.531Z"
   },
   {
    "duration": 23,
    "start_time": "2022-04-30T11:03:16.583Z"
   },
   {
    "duration": 1099,
    "start_time": "2022-04-30T11:03:16.609Z"
   },
   {
    "duration": 492,
    "start_time": "2022-04-30T11:03:17.710Z"
   },
   {
    "duration": 259,
    "start_time": "2022-04-30T11:03:18.204Z"
   },
   {
    "duration": 30,
    "start_time": "2022-04-30T11:03:18.466Z"
   },
   {
    "duration": 19,
    "start_time": "2022-04-30T11:03:18.498Z"
   },
   {
    "duration": 1095,
    "start_time": "2022-04-30T11:03:18.519Z"
   },
   {
    "duration": 8,
    "start_time": "2022-04-30T11:03:19.617Z"
   },
   {
    "duration": 1380,
    "start_time": "2022-04-30T11:03:19.628Z"
   },
   {
    "duration": 2525,
    "start_time": "2022-04-30T11:03:21.011Z"
   },
   {
    "duration": 0,
    "start_time": "2022-04-30T11:03:23.538Z"
   },
   {
    "duration": 0,
    "start_time": "2022-04-30T11:03:23.539Z"
   },
   {
    "duration": 0,
    "start_time": "2022-04-30T11:03:23.541Z"
   },
   {
    "duration": 0,
    "start_time": "2022-04-30T11:03:23.542Z"
   },
   {
    "duration": 0,
    "start_time": "2022-04-30T11:03:23.544Z"
   },
   {
    "duration": 0,
    "start_time": "2022-04-30T11:03:23.545Z"
   },
   {
    "duration": 0,
    "start_time": "2022-04-30T11:03:23.547Z"
   },
   {
    "duration": 0,
    "start_time": "2022-04-30T11:03:23.548Z"
   },
   {
    "duration": 0,
    "start_time": "2022-04-30T11:03:23.549Z"
   },
   {
    "duration": 0,
    "start_time": "2022-04-30T11:03:23.551Z"
   },
   {
    "duration": 0,
    "start_time": "2022-04-30T11:03:23.552Z"
   },
   {
    "duration": 0,
    "start_time": "2022-04-30T11:03:23.582Z"
   },
   {
    "duration": 253,
    "start_time": "2022-04-30T11:12:54.767Z"
   },
   {
    "duration": 802,
    "start_time": "2022-04-30T11:13:21.947Z"
   },
   {
    "duration": 4,
    "start_time": "2022-04-30T11:13:47.166Z"
   },
   {
    "duration": 26,
    "start_time": "2022-04-30T11:13:47.174Z"
   },
   {
    "duration": 12,
    "start_time": "2022-04-30T11:13:47.204Z"
   },
   {
    "duration": 10,
    "start_time": "2022-04-30T11:13:47.218Z"
   },
   {
    "duration": 8,
    "start_time": "2022-04-30T11:13:47.231Z"
   },
   {
    "duration": 23,
    "start_time": "2022-04-30T11:13:47.283Z"
   },
   {
    "duration": 19,
    "start_time": "2022-04-30T11:13:47.308Z"
   },
   {
    "duration": 65,
    "start_time": "2022-04-30T11:13:47.330Z"
   },
   {
    "duration": 9,
    "start_time": "2022-04-30T11:13:47.397Z"
   },
   {
    "duration": 8,
    "start_time": "2022-04-30T11:13:47.408Z"
   },
   {
    "duration": 23,
    "start_time": "2022-04-30T11:13:47.572Z"
   },
   {
    "duration": 12,
    "start_time": "2022-04-30T11:13:47.598Z"
   },
   {
    "duration": 19,
    "start_time": "2022-04-30T11:13:47.612Z"
   },
   {
    "duration": 9,
    "start_time": "2022-04-30T11:13:47.633Z"
   },
   {
    "duration": 12,
    "start_time": "2022-04-30T11:13:47.644Z"
   },
   {
    "duration": 8,
    "start_time": "2022-04-30T11:13:47.683Z"
   },
   {
    "duration": 22,
    "start_time": "2022-04-30T11:13:47.694Z"
   },
   {
    "duration": 11,
    "start_time": "2022-04-30T11:13:47.720Z"
   },
   {
    "duration": 24,
    "start_time": "2022-04-30T11:13:47.734Z"
   },
   {
    "duration": 25,
    "start_time": "2022-04-30T11:13:47.783Z"
   },
   {
    "duration": 1443,
    "start_time": "2022-04-30T11:13:47.810Z"
   },
   {
    "duration": 948,
    "start_time": "2022-04-30T11:13:49.256Z"
   },
   {
    "duration": 296,
    "start_time": "2022-04-30T11:13:50.208Z"
   },
   {
    "duration": 18,
    "start_time": "2022-04-30T11:13:50.507Z"
   },
   {
    "duration": 17,
    "start_time": "2022-04-30T11:13:50.528Z"
   },
   {
    "duration": 1088,
    "start_time": "2022-04-30T11:13:50.593Z"
   },
   {
    "duration": 10,
    "start_time": "2022-04-30T11:13:51.683Z"
   },
   {
    "duration": 1370,
    "start_time": "2022-04-30T11:13:51.696Z"
   },
   {
    "duration": 959,
    "start_time": "2022-04-30T11:13:53.076Z"
   },
   {
    "duration": 12,
    "start_time": "2022-04-30T11:13:54.039Z"
   },
   {
    "duration": 29,
    "start_time": "2022-04-30T11:13:54.054Z"
   },
   {
    "duration": 45,
    "start_time": "2022-04-30T11:13:54.085Z"
   },
   {
    "duration": 52,
    "start_time": "2022-04-30T11:13:54.133Z"
   },
   {
    "duration": 0,
    "start_time": "2022-04-30T11:13:54.188Z"
   },
   {
    "duration": 0,
    "start_time": "2022-04-30T11:13:54.191Z"
   },
   {
    "duration": 0,
    "start_time": "2022-04-30T11:13:54.192Z"
   },
   {
    "duration": 0,
    "start_time": "2022-04-30T11:13:54.194Z"
   },
   {
    "duration": 0,
    "start_time": "2022-04-30T11:13:54.196Z"
   },
   {
    "duration": 0,
    "start_time": "2022-04-30T11:13:54.198Z"
   },
   {
    "duration": 0,
    "start_time": "2022-04-30T11:13:54.199Z"
   },
   {
    "duration": 0,
    "start_time": "2022-04-30T11:13:54.203Z"
   },
   {
    "duration": 43,
    "start_time": "2022-04-30T11:14:10.656Z"
   },
   {
    "duration": 242,
    "start_time": "2022-04-30T11:15:24.115Z"
   },
   {
    "duration": 2371,
    "start_time": "2022-04-30T11:16:01.366Z"
   },
   {
    "duration": 5,
    "start_time": "2022-04-30T11:16:08.141Z"
   },
   {
    "duration": 39,
    "start_time": "2022-04-30T11:16:08.150Z"
   },
   {
    "duration": 17,
    "start_time": "2022-04-30T11:16:08.193Z"
   },
   {
    "duration": 11,
    "start_time": "2022-04-30T11:16:08.213Z"
   },
   {
    "duration": 57,
    "start_time": "2022-04-30T11:16:08.229Z"
   },
   {
    "duration": 32,
    "start_time": "2022-04-30T11:16:08.289Z"
   },
   {
    "duration": 28,
    "start_time": "2022-04-30T11:16:08.325Z"
   },
   {
    "duration": 40,
    "start_time": "2022-04-30T11:16:08.382Z"
   },
   {
    "duration": 11,
    "start_time": "2022-04-30T11:16:08.425Z"
   },
   {
    "duration": 13,
    "start_time": "2022-04-30T11:16:08.439Z"
   },
   {
    "duration": 26,
    "start_time": "2022-04-30T11:16:08.483Z"
   },
   {
    "duration": 11,
    "start_time": "2022-04-30T11:16:08.512Z"
   },
   {
    "duration": 12,
    "start_time": "2022-04-30T11:16:08.526Z"
   },
   {
    "duration": 10,
    "start_time": "2022-04-30T11:16:08.541Z"
   },
   {
    "duration": 11,
    "start_time": "2022-04-30T11:16:08.583Z"
   },
   {
    "duration": 29,
    "start_time": "2022-04-30T11:16:08.597Z"
   },
   {
    "duration": 20,
    "start_time": "2022-04-30T11:16:08.629Z"
   },
   {
    "duration": 26,
    "start_time": "2022-04-30T11:16:08.651Z"
   },
   {
    "duration": 32,
    "start_time": "2022-04-30T11:16:08.679Z"
   },
   {
    "duration": 21,
    "start_time": "2022-04-30T11:16:08.713Z"
   },
   {
    "duration": 1051,
    "start_time": "2022-04-30T11:16:08.736Z"
   },
   {
    "duration": 594,
    "start_time": "2022-04-30T11:16:09.789Z"
   },
   {
    "duration": 280,
    "start_time": "2022-04-30T11:16:10.385Z"
   },
   {
    "duration": 29,
    "start_time": "2022-04-30T11:16:10.668Z"
   },
   {
    "duration": 17,
    "start_time": "2022-04-30T11:16:10.699Z"
   },
   {
    "duration": 1056,
    "start_time": "2022-04-30T11:16:10.718Z"
   },
   {
    "duration": 8,
    "start_time": "2022-04-30T11:16:11.776Z"
   },
   {
    "duration": 1012,
    "start_time": "2022-04-30T11:16:11.786Z"
   },
   {
    "duration": 2503,
    "start_time": "2022-04-30T11:16:12.803Z"
   },
   {
    "duration": 0,
    "start_time": "2022-04-30T11:16:15.308Z"
   },
   {
    "duration": 0,
    "start_time": "2022-04-30T11:16:15.310Z"
   },
   {
    "duration": 0,
    "start_time": "2022-04-30T11:16:15.312Z"
   },
   {
    "duration": 0,
    "start_time": "2022-04-30T11:16:15.315Z"
   },
   {
    "duration": 0,
    "start_time": "2022-04-30T11:16:15.317Z"
   },
   {
    "duration": 0,
    "start_time": "2022-04-30T11:16:15.319Z"
   },
   {
    "duration": 0,
    "start_time": "2022-04-30T11:16:15.321Z"
   },
   {
    "duration": 0,
    "start_time": "2022-04-30T11:16:15.323Z"
   },
   {
    "duration": 0,
    "start_time": "2022-04-30T11:16:15.325Z"
   },
   {
    "duration": 0,
    "start_time": "2022-04-30T11:16:15.327Z"
   },
   {
    "duration": 0,
    "start_time": "2022-04-30T11:16:15.330Z"
   },
   {
    "duration": 0,
    "start_time": "2022-04-30T11:16:15.332Z"
   },
   {
    "duration": 992,
    "start_time": "2022-04-30T11:16:51.093Z"
   },
   {
    "duration": 12,
    "start_time": "2022-04-30T11:17:00.241Z"
   },
   {
    "duration": 2032,
    "start_time": "2022-04-30T11:17:01.977Z"
   },
   {
    "duration": 7,
    "start_time": "2022-04-30T11:17:07.627Z"
   },
   {
    "duration": 9,
    "start_time": "2022-04-30T11:17:43.578Z"
   },
   {
    "duration": 28,
    "start_time": "2022-04-30T11:17:46.282Z"
   },
   {
    "duration": 2449,
    "start_time": "2022-04-30T11:18:05.071Z"
   },
   {
    "duration": 4,
    "start_time": "2022-04-30T11:18:20.198Z"
   },
   {
    "duration": 34,
    "start_time": "2022-04-30T11:18:20.205Z"
   },
   {
    "duration": 18,
    "start_time": "2022-04-30T11:18:20.242Z"
   },
   {
    "duration": 11,
    "start_time": "2022-04-30T11:18:20.283Z"
   },
   {
    "duration": 11,
    "start_time": "2022-04-30T11:18:20.298Z"
   },
   {
    "duration": 27,
    "start_time": "2022-04-30T11:18:20.311Z"
   },
   {
    "duration": 20,
    "start_time": "2022-04-30T11:18:20.381Z"
   },
   {
    "duration": 47,
    "start_time": "2022-04-30T11:18:20.404Z"
   },
   {
    "duration": 9,
    "start_time": "2022-04-30T11:18:20.453Z"
   },
   {
    "duration": 19,
    "start_time": "2022-04-30T11:18:20.464Z"
   },
   {
    "duration": 21,
    "start_time": "2022-04-30T11:18:20.489Z"
   },
   {
    "duration": 8,
    "start_time": "2022-04-30T11:18:20.513Z"
   },
   {
    "duration": 12,
    "start_time": "2022-04-30T11:18:20.523Z"
   },
   {
    "duration": 46,
    "start_time": "2022-04-30T11:18:20.538Z"
   },
   {
    "duration": 16,
    "start_time": "2022-04-30T11:18:20.587Z"
   },
   {
    "duration": 8,
    "start_time": "2022-04-30T11:18:20.605Z"
   },
   {
    "duration": 12,
    "start_time": "2022-04-30T11:18:20.616Z"
   },
   {
    "duration": 13,
    "start_time": "2022-04-30T11:18:20.631Z"
   },
   {
    "duration": 48,
    "start_time": "2022-04-30T11:18:20.647Z"
   },
   {
    "duration": 19,
    "start_time": "2022-04-30T11:18:20.698Z"
   },
   {
    "duration": 1058,
    "start_time": "2022-04-30T11:18:20.719Z"
   },
   {
    "duration": 484,
    "start_time": "2022-04-30T11:18:21.779Z"
   },
   {
    "duration": 240,
    "start_time": "2022-04-30T11:18:22.266Z"
   },
   {
    "duration": 18,
    "start_time": "2022-04-30T11:18:22.509Z"
   },
   {
    "duration": 19,
    "start_time": "2022-04-30T11:18:22.529Z"
   },
   {
    "duration": 1027,
    "start_time": "2022-04-30T11:18:22.583Z"
   },
   {
    "duration": 9,
    "start_time": "2022-04-30T11:18:23.613Z"
   },
   {
    "duration": 1058,
    "start_time": "2022-04-30T11:18:23.625Z"
   },
   {
    "duration": 779,
    "start_time": "2022-04-30T11:18:24.688Z"
   },
   {
    "duration": 15,
    "start_time": "2022-04-30T11:18:25.469Z"
   },
   {
    "duration": 9,
    "start_time": "2022-04-30T11:18:25.487Z"
   },
   {
    "duration": 10,
    "start_time": "2022-04-30T11:18:25.498Z"
   },
   {
    "duration": 876,
    "start_time": "2022-04-30T11:18:25.510Z"
   },
   {
    "duration": 7,
    "start_time": "2022-04-30T11:18:26.388Z"
   },
   {
    "duration": 9,
    "start_time": "2022-04-30T11:18:26.397Z"
   },
   {
    "duration": 299,
    "start_time": "2022-04-30T11:18:26.408Z"
   },
   {
    "duration": 14,
    "start_time": "2022-04-30T11:18:26.709Z"
   },
   {
    "duration": 35,
    "start_time": "2022-04-30T11:18:26.726Z"
   },
   {
    "duration": 39,
    "start_time": "2022-04-30T11:18:26.763Z"
   },
   {
    "duration": 20,
    "start_time": "2022-04-30T11:18:26.804Z"
   },
   {
    "duration": 2445,
    "start_time": "2022-05-01T05:11:22.428Z"
   },
   {
    "duration": 43,
    "start_time": "2022-05-01T05:11:24.875Z"
   },
   {
    "duration": 11,
    "start_time": "2022-05-01T05:11:24.920Z"
   },
   {
    "duration": 10,
    "start_time": "2022-05-01T05:11:24.934Z"
   },
   {
    "duration": 13,
    "start_time": "2022-05-01T05:11:24.946Z"
   },
   {
    "duration": 36,
    "start_time": "2022-05-01T05:11:24.961Z"
   },
   {
    "duration": 19,
    "start_time": "2022-05-01T05:11:24.999Z"
   },
   {
    "duration": 54,
    "start_time": "2022-05-01T05:11:25.020Z"
   },
   {
    "duration": 8,
    "start_time": "2022-05-01T05:11:25.076Z"
   },
   {
    "duration": 9,
    "start_time": "2022-05-01T05:11:25.088Z"
   },
   {
    "duration": 26,
    "start_time": "2022-05-01T05:11:25.099Z"
   },
   {
    "duration": 7,
    "start_time": "2022-05-01T05:11:25.127Z"
   },
   {
    "duration": 13,
    "start_time": "2022-05-01T05:11:25.136Z"
   },
   {
    "duration": 8,
    "start_time": "2022-05-01T05:11:25.151Z"
   },
   {
    "duration": 33,
    "start_time": "2022-05-01T05:11:25.161Z"
   },
   {
    "duration": 11,
    "start_time": "2022-05-01T05:11:25.196Z"
   },
   {
    "duration": 13,
    "start_time": "2022-05-01T05:11:25.209Z"
   },
   {
    "duration": 9,
    "start_time": "2022-05-01T05:11:25.224Z"
   },
   {
    "duration": 17,
    "start_time": "2022-05-01T05:11:25.235Z"
   },
   {
    "duration": 48,
    "start_time": "2022-05-01T05:11:25.254Z"
   },
   {
    "duration": 802,
    "start_time": "2022-05-01T05:11:25.304Z"
   },
   {
    "duration": 455,
    "start_time": "2022-05-01T05:11:26.108Z"
   },
   {
    "duration": 261,
    "start_time": "2022-05-01T05:11:26.566Z"
   },
   {
    "duration": 16,
    "start_time": "2022-05-01T05:11:26.830Z"
   },
   {
    "duration": 15,
    "start_time": "2022-05-01T05:11:26.849Z"
   },
   {
    "duration": 1085,
    "start_time": "2022-05-01T05:11:26.892Z"
   },
   {
    "duration": 6,
    "start_time": "2022-05-01T05:11:27.980Z"
   },
   {
    "duration": 1060,
    "start_time": "2022-05-01T05:11:27.992Z"
   },
   {
    "duration": 797,
    "start_time": "2022-05-01T05:11:29.054Z"
   },
   {
    "duration": 9,
    "start_time": "2022-05-01T05:11:29.853Z"
   },
   {
    "duration": 29,
    "start_time": "2022-05-01T05:11:29.864Z"
   },
   {
    "duration": 8,
    "start_time": "2022-05-01T05:11:29.895Z"
   },
   {
    "duration": 779,
    "start_time": "2022-05-01T05:11:29.905Z"
   },
   {
    "duration": 9,
    "start_time": "2022-05-01T05:11:30.686Z"
   },
   {
    "duration": 40,
    "start_time": "2022-05-01T05:11:30.697Z"
   },
   {
    "duration": 272,
    "start_time": "2022-05-01T05:11:30.739Z"
   },
   {
    "duration": 14,
    "start_time": "2022-05-01T05:11:31.014Z"
   },
   {
    "duration": 204,
    "start_time": "2022-05-01T05:11:31.030Z"
   },
   {
    "duration": 0,
    "start_time": "2022-05-01T05:11:31.237Z"
   },
   {
    "duration": 0,
    "start_time": "2022-05-01T05:11:31.239Z"
   },
   {
    "duration": 5,
    "start_time": "2022-05-01T05:13:03.369Z"
   },
   {
    "duration": 30,
    "start_time": "2022-05-01T05:13:03.376Z"
   },
   {
    "duration": 13,
    "start_time": "2022-05-01T05:13:03.409Z"
   },
   {
    "duration": 11,
    "start_time": "2022-05-01T05:13:03.425Z"
   },
   {
    "duration": 9,
    "start_time": "2022-05-01T05:13:03.439Z"
   },
   {
    "duration": 49,
    "start_time": "2022-05-01T05:13:03.450Z"
   },
   {
    "duration": 28,
    "start_time": "2022-05-01T05:13:03.501Z"
   },
   {
    "duration": 53,
    "start_time": "2022-05-01T05:13:03.531Z"
   },
   {
    "duration": 8,
    "start_time": "2022-05-01T05:13:03.586Z"
   },
   {
    "duration": 13,
    "start_time": "2022-05-01T05:13:03.596Z"
   },
   {
    "duration": 25,
    "start_time": "2022-05-01T05:13:03.612Z"
   },
   {
    "duration": 7,
    "start_time": "2022-05-01T05:13:03.639Z"
   },
   {
    "duration": 11,
    "start_time": "2022-05-01T05:13:03.648Z"
   },
   {
    "duration": 19,
    "start_time": "2022-05-01T05:13:09.762Z"
   },
   {
    "duration": 14,
    "start_time": "2022-05-01T05:13:40.585Z"
   },
   {
    "duration": 14,
    "start_time": "2022-05-01T05:14:19.777Z"
   },
   {
    "duration": 16,
    "start_time": "2022-05-01T05:14:29.410Z"
   },
   {
    "duration": 11,
    "start_time": "2022-05-01T05:14:38.004Z"
   },
   {
    "duration": 11,
    "start_time": "2022-05-01T05:14:44.894Z"
   },
   {
    "duration": 14,
    "start_time": "2022-05-01T05:15:06.242Z"
   },
   {
    "duration": 15,
    "start_time": "2022-05-01T05:15:45.302Z"
   },
   {
    "duration": 16,
    "start_time": "2022-05-01T05:15:53.675Z"
   },
   {
    "duration": 16,
    "start_time": "2022-05-01T05:16:12.632Z"
   },
   {
    "duration": 16,
    "start_time": "2022-05-01T05:16:21.212Z"
   },
   {
    "duration": 18,
    "start_time": "2022-05-01T05:16:55.898Z"
   },
   {
    "duration": 11,
    "start_time": "2022-05-01T05:17:06.895Z"
   },
   {
    "duration": 2164,
    "start_time": "2022-05-01T05:17:39.994Z"
   },
   {
    "duration": 30,
    "start_time": "2022-05-01T05:17:42.161Z"
   },
   {
    "duration": 10,
    "start_time": "2022-05-01T05:17:42.193Z"
   },
   {
    "duration": 8,
    "start_time": "2022-05-01T05:17:42.206Z"
   },
   {
    "duration": 8,
    "start_time": "2022-05-01T05:17:42.216Z"
   },
   {
    "duration": 19,
    "start_time": "2022-05-01T05:17:42.226Z"
   },
   {
    "duration": 55,
    "start_time": "2022-05-01T05:17:42.247Z"
   },
   {
    "duration": 51,
    "start_time": "2022-05-01T05:17:42.304Z"
   },
   {
    "duration": 8,
    "start_time": "2022-05-01T05:17:42.357Z"
   },
   {
    "duration": 9,
    "start_time": "2022-05-01T05:17:42.369Z"
   },
   {
    "duration": 25,
    "start_time": "2022-05-01T05:17:42.380Z"
   },
   {
    "duration": 6,
    "start_time": "2022-05-01T05:17:42.407Z"
   },
   {
    "duration": 10,
    "start_time": "2022-05-01T05:17:42.415Z"
   },
   {
    "duration": 8,
    "start_time": "2022-05-01T05:17:42.428Z"
   },
   {
    "duration": 7,
    "start_time": "2022-05-01T05:17:42.438Z"
   },
   {
    "duration": 50,
    "start_time": "2022-05-01T05:17:42.447Z"
   },
   {
    "duration": 9,
    "start_time": "2022-05-01T05:17:42.500Z"
   },
   {
    "duration": 7,
    "start_time": "2022-05-01T05:17:42.512Z"
   },
   {
    "duration": 17,
    "start_time": "2022-05-01T05:17:42.522Z"
   },
   {
    "duration": 15,
    "start_time": "2022-05-01T05:17:42.542Z"
   },
   {
    "duration": 771,
    "start_time": "2022-05-01T05:17:42.593Z"
   },
   {
    "duration": 462,
    "start_time": "2022-05-01T05:17:43.367Z"
   },
   {
    "duration": 244,
    "start_time": "2022-05-01T05:17:43.831Z"
   },
   {
    "duration": 20,
    "start_time": "2022-05-01T05:17:44.077Z"
   },
   {
    "duration": 16,
    "start_time": "2022-05-01T05:17:44.099Z"
   },
   {
    "duration": 1056,
    "start_time": "2022-05-01T05:17:44.118Z"
   },
   {
    "duration": 7,
    "start_time": "2022-05-01T05:17:45.176Z"
   },
   {
    "duration": 1185,
    "start_time": "2022-05-01T05:17:45.187Z"
   },
   {
    "duration": 768,
    "start_time": "2022-05-01T05:17:46.374Z"
   },
   {
    "duration": 9,
    "start_time": "2022-05-01T05:17:47.144Z"
   },
   {
    "duration": 19,
    "start_time": "2022-05-01T05:17:47.156Z"
   },
   {
    "duration": 17,
    "start_time": "2022-05-01T05:17:47.177Z"
   },
   {
    "duration": 743,
    "start_time": "2022-05-01T05:17:47.196Z"
   },
   {
    "duration": 6,
    "start_time": "2022-05-01T05:17:47.940Z"
   },
   {
    "duration": 10,
    "start_time": "2022-05-01T05:17:47.948Z"
   },
   {
    "duration": 274,
    "start_time": "2022-05-01T05:17:47.960Z"
   },
   {
    "duration": 13,
    "start_time": "2022-05-01T05:17:48.236Z"
   },
   {
    "duration": 197,
    "start_time": "2022-05-01T05:17:48.251Z"
   },
   {
    "duration": 0,
    "start_time": "2022-05-01T05:17:48.450Z"
   },
   {
    "duration": 0,
    "start_time": "2022-05-01T05:17:48.451Z"
   },
   {
    "duration": 982,
    "start_time": "2022-05-01T05:18:15.874Z"
   },
   {
    "duration": 234,
    "start_time": "2022-05-01T12:32:52.200Z"
   },
   {
    "duration": 3391,
    "start_time": "2022-05-01T13:01:14.259Z"
   },
   {
    "duration": 33,
    "start_time": "2022-05-01T13:01:17.653Z"
   },
   {
    "duration": 18,
    "start_time": "2022-05-01T13:01:17.689Z"
   },
   {
    "duration": 17,
    "start_time": "2022-05-01T13:01:17.711Z"
   },
   {
    "duration": 16,
    "start_time": "2022-05-01T13:01:17.732Z"
   },
   {
    "duration": 55,
    "start_time": "2022-05-01T13:01:17.751Z"
   },
   {
    "duration": 20,
    "start_time": "2022-05-01T13:01:17.810Z"
   },
   {
    "duration": 51,
    "start_time": "2022-05-01T13:01:17.834Z"
   },
   {
    "duration": 9,
    "start_time": "2022-05-01T13:01:17.887Z"
   },
   {
    "duration": 12,
    "start_time": "2022-05-01T13:01:17.900Z"
   },
   {
    "duration": 28,
    "start_time": "2022-05-01T13:01:17.915Z"
   },
   {
    "duration": 10,
    "start_time": "2022-05-01T13:01:17.946Z"
   },
   {
    "duration": 40,
    "start_time": "2022-05-01T13:01:17.959Z"
   },
   {
    "duration": 314,
    "start_time": "2022-05-01T13:01:26.929Z"
   },
   {
    "duration": 14,
    "start_time": "2022-05-01T13:01:48.591Z"
   },
   {
    "duration": 8,
    "start_time": "2022-05-01T13:02:01.408Z"
   },
   {
    "duration": 12,
    "start_time": "2022-05-01T13:02:49.938Z"
   },
   {
    "duration": 7,
    "start_time": "2022-05-01T13:02:53.588Z"
   },
   {
    "duration": 8,
    "start_time": "2022-05-01T13:03:00.627Z"
   },
   {
    "duration": 5,
    "start_time": "2022-05-01T13:03:06.629Z"
   },
   {
    "duration": 733,
    "start_time": "2022-05-01T13:03:06.638Z"
   },
   {
    "duration": 13,
    "start_time": "2022-05-01T13:03:07.373Z"
   },
   {
    "duration": 10,
    "start_time": "2022-05-01T13:03:07.389Z"
   },
   {
    "duration": 12,
    "start_time": "2022-05-01T13:03:07.403Z"
   },
   {
    "duration": 24,
    "start_time": "2022-05-01T13:03:07.416Z"
   },
   {
    "duration": 25,
    "start_time": "2022-05-01T13:03:07.442Z"
   },
   {
    "duration": 747,
    "start_time": "2022-05-01T13:03:07.494Z"
   },
   {
    "duration": 10,
    "start_time": "2022-05-01T13:03:08.244Z"
   },
   {
    "duration": 11,
    "start_time": "2022-05-01T13:03:08.257Z"
   },
   {
    "duration": 28,
    "start_time": "2022-05-01T13:03:08.271Z"
   },
   {
    "duration": 9,
    "start_time": "2022-05-01T13:03:08.301Z"
   },
   {
    "duration": 15,
    "start_time": "2022-05-01T13:03:08.314Z"
   },
   {
    "duration": 11,
    "start_time": "2022-05-01T13:03:08.332Z"
   },
   {
    "duration": 7,
    "start_time": "2022-05-01T13:03:12.038Z"
   },
   {
    "duration": 17,
    "start_time": "2022-05-01T13:03:17.689Z"
   },
   {
    "duration": 5,
    "start_time": "2022-05-01T13:03:25.189Z"
   },
   {
    "duration": 27,
    "start_time": "2022-05-01T13:03:25.197Z"
   },
   {
    "duration": 11,
    "start_time": "2022-05-01T13:03:25.227Z"
   },
   {
    "duration": 10,
    "start_time": "2022-05-01T13:03:25.241Z"
   },
   {
    "duration": 40,
    "start_time": "2022-05-01T13:03:25.254Z"
   },
   {
    "duration": 19,
    "start_time": "2022-05-01T13:03:25.296Z"
   },
   {
    "duration": 19,
    "start_time": "2022-05-01T13:03:25.317Z"
   },
   {
    "duration": 63,
    "start_time": "2022-05-01T13:03:25.338Z"
   },
   {
    "duration": 10,
    "start_time": "2022-05-01T13:03:25.403Z"
   },
   {
    "duration": 9,
    "start_time": "2022-05-01T13:03:25.416Z"
   },
   {
    "duration": 26,
    "start_time": "2022-05-01T13:03:25.427Z"
   },
   {
    "duration": 8,
    "start_time": "2022-05-01T13:03:25.455Z"
   },
   {
    "duration": 35,
    "start_time": "2022-05-01T13:03:25.465Z"
   },
   {
    "duration": 15,
    "start_time": "2022-05-01T13:03:25.504Z"
   },
   {
    "duration": 9,
    "start_time": "2022-05-01T13:03:25.522Z"
   },
   {
    "duration": 9,
    "start_time": "2022-05-01T13:03:25.534Z"
   },
   {
    "duration": 54,
    "start_time": "2022-05-01T13:03:25.546Z"
   },
   {
    "duration": 9,
    "start_time": "2022-05-01T13:03:25.602Z"
   },
   {
    "duration": 18,
    "start_time": "2022-05-01T13:03:25.613Z"
   },
   {
    "duration": 19,
    "start_time": "2022-05-01T13:03:25.633Z"
   },
   {
    "duration": 1311,
    "start_time": "2022-05-01T13:03:25.655Z"
   },
   {
    "duration": 658,
    "start_time": "2022-05-01T13:03:26.968Z"
   },
   {
    "duration": 286,
    "start_time": "2022-05-01T13:03:27.628Z"
   },
   {
    "duration": 18,
    "start_time": "2022-05-01T13:03:27.916Z"
   },
   {
    "duration": 20,
    "start_time": "2022-05-01T13:03:27.936Z"
   },
   {
    "duration": 690,
    "start_time": "2022-05-01T13:03:27.959Z"
   },
   {
    "duration": 6,
    "start_time": "2022-05-01T13:03:28.651Z"
   },
   {
    "duration": 1013,
    "start_time": "2022-05-01T13:03:28.660Z"
   },
   {
    "duration": 772,
    "start_time": "2022-05-01T13:03:29.676Z"
   },
   {
    "duration": 11,
    "start_time": "2022-05-01T13:03:30.451Z"
   },
   {
    "duration": 64,
    "start_time": "2022-05-01T13:03:30.465Z"
   },
   {
    "duration": 35,
    "start_time": "2022-05-01T13:03:30.532Z"
   },
   {
    "duration": 1032,
    "start_time": "2022-05-01T13:03:30.570Z"
   },
   {
    "duration": 7,
    "start_time": "2022-05-01T13:03:31.605Z"
   },
   {
    "duration": 16,
    "start_time": "2022-05-01T13:03:31.614Z"
   },
   {
    "duration": 293,
    "start_time": "2022-05-01T13:03:31.632Z"
   },
   {
    "duration": 15,
    "start_time": "2022-05-01T13:03:31.927Z"
   },
   {
    "duration": 20,
    "start_time": "2022-05-01T13:03:31.944Z"
   },
   {
    "duration": 0,
    "start_time": "2022-05-01T13:03:31.993Z"
   },
   {
    "duration": 0,
    "start_time": "2022-05-01T13:03:31.995Z"
   },
   {
    "duration": 16,
    "start_time": "2022-05-01T13:13:26.973Z"
   },
   {
    "duration": 3574,
    "start_time": "2022-05-01T13:15:41.976Z"
   },
   {
    "duration": 13,
    "start_time": "2022-05-01T13:17:17.443Z"
   },
   {
    "duration": 878,
    "start_time": "2022-05-01T13:18:05.642Z"
   },
   {
    "duration": 6,
    "start_time": "2022-05-01T13:18:19.193Z"
   },
   {
    "duration": 16,
    "start_time": "2022-05-01T13:19:03.694Z"
   },
   {
    "duration": 18,
    "start_time": "2022-05-01T13:19:10.650Z"
   },
   {
    "duration": 50,
    "start_time": "2022-05-01T13:19:17.613Z"
   },
   {
    "duration": 27,
    "start_time": "2022-05-01T13:19:22.574Z"
   },
   {
    "duration": 5,
    "start_time": "2022-05-01T13:19:25.294Z"
   },
   {
    "duration": 30,
    "start_time": "2022-05-01T13:19:25.302Z"
   },
   {
    "duration": 11,
    "start_time": "2022-05-01T13:19:25.338Z"
   },
   {
    "duration": 10,
    "start_time": "2022-05-01T13:19:25.352Z"
   },
   {
    "duration": 30,
    "start_time": "2022-05-01T13:19:25.364Z"
   },
   {
    "duration": 19,
    "start_time": "2022-05-01T13:19:25.396Z"
   },
   {
    "duration": 17,
    "start_time": "2022-05-01T13:19:25.419Z"
   },
   {
    "duration": 70,
    "start_time": "2022-05-01T13:19:25.439Z"
   },
   {
    "duration": 9,
    "start_time": "2022-05-01T13:19:25.512Z"
   },
   {
    "duration": 33,
    "start_time": "2022-05-01T13:19:25.523Z"
   },
   {
    "duration": 33,
    "start_time": "2022-05-01T13:19:25.558Z"
   },
   {
    "duration": 7,
    "start_time": "2022-05-01T13:19:25.593Z"
   },
   {
    "duration": 10,
    "start_time": "2022-05-01T13:19:25.602Z"
   },
   {
    "duration": 14,
    "start_time": "2022-05-01T13:19:25.614Z"
   },
   {
    "duration": 7,
    "start_time": "2022-05-01T13:19:25.631Z"
   },
   {
    "duration": 51,
    "start_time": "2022-05-01T13:19:25.643Z"
   },
   {
    "duration": 8,
    "start_time": "2022-05-01T13:19:25.696Z"
   },
   {
    "duration": 13,
    "start_time": "2022-05-01T13:19:25.706Z"
   },
   {
    "duration": 18,
    "start_time": "2022-05-01T13:19:25.721Z"
   },
   {
    "duration": 17,
    "start_time": "2022-05-01T13:19:25.741Z"
   },
   {
    "duration": 1111,
    "start_time": "2022-05-01T13:19:25.761Z"
   },
   {
    "duration": 468,
    "start_time": "2022-05-01T13:19:26.874Z"
   },
   {
    "duration": 245,
    "start_time": "2022-05-01T13:19:27.345Z"
   },
   {
    "duration": 18,
    "start_time": "2022-05-01T13:19:27.593Z"
   },
   {
    "duration": 19,
    "start_time": "2022-05-01T13:19:27.614Z"
   },
   {
    "duration": 1075,
    "start_time": "2022-05-01T13:19:27.636Z"
   },
   {
    "duration": 9,
    "start_time": "2022-05-01T13:19:28.714Z"
   },
   {
    "duration": 1041,
    "start_time": "2022-05-01T13:19:28.725Z"
   },
   {
    "duration": 804,
    "start_time": "2022-05-01T13:19:29.768Z"
   },
   {
    "duration": 22,
    "start_time": "2022-05-01T13:19:30.574Z"
   },
   {
    "duration": 26,
    "start_time": "2022-05-01T13:19:30.598Z"
   },
   {
    "duration": 22,
    "start_time": "2022-05-01T13:19:30.626Z"
   },
   {
    "duration": 946,
    "start_time": "2022-05-01T13:19:30.651Z"
   },
   {
    "duration": 7,
    "start_time": "2022-05-01T13:19:31.599Z"
   },
   {
    "duration": 10,
    "start_time": "2022-05-01T13:19:31.608Z"
   },
   {
    "duration": 342,
    "start_time": "2022-05-01T13:19:31.620Z"
   },
   {
    "duration": 32,
    "start_time": "2022-05-01T13:19:31.967Z"
   },
   {
    "duration": 15,
    "start_time": "2022-05-01T13:19:32.002Z"
   },
   {
    "duration": 15,
    "start_time": "2022-05-01T13:19:32.019Z"
   },
   {
    "duration": 67,
    "start_time": "2022-05-01T13:19:32.037Z"
   },
   {
    "duration": 22,
    "start_time": "2022-05-01T13:19:32.107Z"
   },
   {
    "duration": 12,
    "start_time": "2022-05-01T13:22:31.803Z"
   },
   {
    "duration": 10,
    "start_time": "2022-05-01T13:22:54.536Z"
   },
   {
    "duration": 7,
    "start_time": "2022-05-01T13:22:57.702Z"
   },
   {
    "duration": 14,
    "start_time": "2022-05-01T13:23:13.334Z"
   },
   {
    "duration": 14,
    "start_time": "2022-05-01T13:23:26.334Z"
   },
   {
    "duration": 2615,
    "start_time": "2022-05-02T07:42:22.192Z"
   },
   {
    "duration": 45,
    "start_time": "2022-05-02T07:42:24.810Z"
   },
   {
    "duration": 7,
    "start_time": "2022-05-02T07:42:24.857Z"
   },
   {
    "duration": 6,
    "start_time": "2022-05-02T07:42:25.152Z"
   },
   {
    "duration": 6,
    "start_time": "2022-05-02T07:42:25.388Z"
   },
   {
    "duration": 16,
    "start_time": "2022-05-02T07:42:27.570Z"
   },
   {
    "duration": 13,
    "start_time": "2022-05-02T07:42:28.467Z"
   },
   {
    "duration": 42,
    "start_time": "2022-05-02T07:42:29.830Z"
   },
   {
    "duration": 7,
    "start_time": "2022-05-02T07:42:30.100Z"
   },
   {
    "duration": 7,
    "start_time": "2022-05-02T07:42:30.754Z"
   },
   {
    "duration": 31,
    "start_time": "2022-05-02T07:42:31.244Z"
   },
   {
    "duration": 6,
    "start_time": "2022-05-02T07:42:31.770Z"
   },
   {
    "duration": 7,
    "start_time": "2022-05-02T07:42:32.442Z"
   },
   {
    "duration": 9,
    "start_time": "2022-05-02T07:42:41.347Z"
   },
   {
    "duration": 4,
    "start_time": "2022-05-02T07:42:44.090Z"
   },
   {
    "duration": 1589,
    "start_time": "2022-05-02T07:44:41.250Z"
   },
   {
    "duration": 18,
    "start_time": "2022-05-02T07:44:42.841Z"
   },
   {
    "duration": 7,
    "start_time": "2022-05-02T07:44:42.861Z"
   },
   {
    "duration": 6,
    "start_time": "2022-05-02T07:44:42.874Z"
   },
   {
    "duration": 9,
    "start_time": "2022-05-02T07:44:42.881Z"
   },
   {
    "duration": 19,
    "start_time": "2022-05-02T07:44:42.891Z"
   },
   {
    "duration": 12,
    "start_time": "2022-05-02T07:44:42.912Z"
   },
   {
    "duration": 30,
    "start_time": "2022-05-02T07:44:42.926Z"
   },
   {
    "duration": 18,
    "start_time": "2022-05-02T07:44:42.958Z"
   },
   {
    "duration": 6,
    "start_time": "2022-05-02T07:44:42.979Z"
   },
   {
    "duration": 17,
    "start_time": "2022-05-02T07:44:42.987Z"
   },
   {
    "duration": 5,
    "start_time": "2022-05-02T07:44:43.006Z"
   },
   {
    "duration": 14,
    "start_time": "2022-05-02T07:44:43.013Z"
   },
   {
    "duration": 11,
    "start_time": "2022-05-02T07:44:43.029Z"
   },
   {
    "duration": 8,
    "start_time": "2022-05-02T07:44:43.042Z"
   },
   {
    "duration": 25,
    "start_time": "2022-05-02T07:44:43.051Z"
   },
   {
    "duration": 7,
    "start_time": "2022-05-02T07:44:43.078Z"
   },
   {
    "duration": 7,
    "start_time": "2022-05-02T07:44:43.087Z"
   },
   {
    "duration": 19,
    "start_time": "2022-05-02T07:44:43.096Z"
   },
   {
    "duration": 13,
    "start_time": "2022-05-02T07:44:43.117Z"
   },
   {
    "duration": 766,
    "start_time": "2022-05-02T07:44:43.132Z"
   },
   {
    "duration": 272,
    "start_time": "2022-05-02T07:44:43.899Z"
   },
   {
    "duration": 153,
    "start_time": "2022-05-02T07:44:44.173Z"
   },
   {
    "duration": 11,
    "start_time": "2022-05-02T07:44:44.328Z"
   },
   {
    "duration": 33,
    "start_time": "2022-05-02T07:44:44.340Z"
   },
   {
    "duration": 477,
    "start_time": "2022-05-02T07:44:44.375Z"
   },
   {
    "duration": 5,
    "start_time": "2022-05-02T07:44:44.854Z"
   },
   {
    "duration": 620,
    "start_time": "2022-05-02T07:44:44.874Z"
   },
   {
    "duration": 491,
    "start_time": "2022-05-02T07:44:45.496Z"
   },
   {
    "duration": 8,
    "start_time": "2022-05-02T07:44:45.989Z"
   },
   {
    "duration": 7,
    "start_time": "2022-05-02T07:44:45.999Z"
   },
   {
    "duration": 8,
    "start_time": "2022-05-02T07:44:46.008Z"
   },
   {
    "duration": 548,
    "start_time": "2022-05-02T07:44:46.018Z"
   },
   {
    "duration": 7,
    "start_time": "2022-05-02T07:44:46.567Z"
   },
   {
    "duration": 7,
    "start_time": "2022-05-02T07:44:46.576Z"
   },
   {
    "duration": 138,
    "start_time": "2022-05-02T07:44:46.584Z"
   },
   {
    "duration": 12,
    "start_time": "2022-05-02T07:44:46.724Z"
   },
   {
    "duration": 12,
    "start_time": "2022-05-02T07:44:46.738Z"
   },
   {
    "duration": 21,
    "start_time": "2022-05-02T07:44:46.752Z"
   },
   {
    "duration": 38,
    "start_time": "2022-05-02T07:44:46.775Z"
   },
   {
    "duration": 14,
    "start_time": "2022-05-02T07:44:46.815Z"
   }
  ],
  "kernelspec": {
   "display_name": "Python 3 (ipykernel)",
   "language": "python",
   "name": "python3"
  },
  "language_info": {
   "codemirror_mode": {
    "name": "ipython",
    "version": 3
   },
   "file_extension": ".py",
   "mimetype": "text/x-python",
   "name": "python",
   "nbconvert_exporter": "python",
   "pygments_lexer": "ipython3",
   "version": "3.9.7"
  },
  "toc": {
   "base_numbering": 1,
   "nav_menu": {},
   "number_sections": true,
   "sideBar": true,
   "skip_h1_title": true,
   "title_cell": "Table of Contents",
   "title_sidebar": "Contents",
   "toc_cell": false,
   "toc_position": {},
   "toc_section_display": true,
   "toc_window_display": false
  }
 },
 "nbformat": 4,
 "nbformat_minor": 2
}
