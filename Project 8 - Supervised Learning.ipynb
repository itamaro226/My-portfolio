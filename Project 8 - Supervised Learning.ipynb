{
 "cells": [
  {
   "cell_type": "markdown",
   "metadata": {},
   "source": [
    "***Project description***\n",
    "\n",
    "Our Beta Bank customers are leaving: little by little, chipping away every month. The bankers figured out it’s cheaper to save the existing customers rather than to attract new ones.\n",
    "\n",
    "We need to predict whether a customer will leave the bank soon. You have the data on clients’ past behavior and termination of contracts with the bank."
   ]
  },
  {
   "cell_type": "code",
   "execution_count": 35,
   "metadata": {},
   "outputs": [],
   "source": [
    "#We will start by loading the fertilization we need for a classification task.\n",
    "import pandas as pd\n",
    "from sklearn.metrics import mean_squared_error\n",
    "from sklearn.model_selection import train_test_split\n",
    "from sklearn.tree import DecisionTreeClassifier\n",
    "from sklearn.metrics import accuracy_score\n",
    "from sklearn.ensemble import RandomForestClassifier\n",
    "from sklearn.linear_model import LogisticRegression\n",
    "from joblib import dump\n",
    "from sklearn.preprocessing import StandardScaler\n",
    "from sklearn.metrics import precision_score\n",
    "from sklearn.metrics import recall_score\n",
    "from sklearn.metrics import f1_score\n",
    "from sklearn.utils import shuffle\n",
    "import numpy as np\n",
    "from sklearn.preprocessing import OrdinalEncoder\n",
    "from sklearn.metrics import roc_auc_score\n",
    "import matplotlib.pyplot as plt\n",
    "from sklearn.metrics import roc_curve"
   ]
  },
  {
   "cell_type": "code",
   "execution_count": 36,
   "metadata": {},
   "outputs": [
    {
     "data": {
      "text/html": [
       "<div>\n",
       "<style scoped>\n",
       "    .dataframe tbody tr th:only-of-type {\n",
       "        vertical-align: middle;\n",
       "    }\n",
       "\n",
       "    .dataframe tbody tr th {\n",
       "        vertical-align: top;\n",
       "    }\n",
       "\n",
       "    .dataframe thead th {\n",
       "        text-align: right;\n",
       "    }\n",
       "</style>\n",
       "<table border=\"1\" class=\"dataframe\">\n",
       "  <thead>\n",
       "    <tr style=\"text-align: right;\">\n",
       "      <th></th>\n",
       "      <th>RowNumber</th>\n",
       "      <th>CustomerId</th>\n",
       "      <th>Surname</th>\n",
       "      <th>CreditScore</th>\n",
       "      <th>Geography</th>\n",
       "      <th>Gender</th>\n",
       "      <th>Age</th>\n",
       "      <th>Tenure</th>\n",
       "      <th>Balance</th>\n",
       "      <th>NumOfProducts</th>\n",
       "      <th>HasCrCard</th>\n",
       "      <th>IsActiveMember</th>\n",
       "      <th>EstimatedSalary</th>\n",
       "      <th>Exited</th>\n",
       "    </tr>\n",
       "  </thead>\n",
       "  <tbody>\n",
       "    <tr>\n",
       "      <th>0</th>\n",
       "      <td>1</td>\n",
       "      <td>15634602</td>\n",
       "      <td>Hargrave</td>\n",
       "      <td>619</td>\n",
       "      <td>France</td>\n",
       "      <td>Female</td>\n",
       "      <td>42</td>\n",
       "      <td>2.0</td>\n",
       "      <td>0.00</td>\n",
       "      <td>1</td>\n",
       "      <td>1</td>\n",
       "      <td>1</td>\n",
       "      <td>101348.88</td>\n",
       "      <td>1</td>\n",
       "    </tr>\n",
       "    <tr>\n",
       "      <th>1</th>\n",
       "      <td>2</td>\n",
       "      <td>15647311</td>\n",
       "      <td>Hill</td>\n",
       "      <td>608</td>\n",
       "      <td>Spain</td>\n",
       "      <td>Female</td>\n",
       "      <td>41</td>\n",
       "      <td>1.0</td>\n",
       "      <td>83807.86</td>\n",
       "      <td>1</td>\n",
       "      <td>0</td>\n",
       "      <td>1</td>\n",
       "      <td>112542.58</td>\n",
       "      <td>0</td>\n",
       "    </tr>\n",
       "    <tr>\n",
       "      <th>2</th>\n",
       "      <td>3</td>\n",
       "      <td>15619304</td>\n",
       "      <td>Onio</td>\n",
       "      <td>502</td>\n",
       "      <td>France</td>\n",
       "      <td>Female</td>\n",
       "      <td>42</td>\n",
       "      <td>8.0</td>\n",
       "      <td>159660.80</td>\n",
       "      <td>3</td>\n",
       "      <td>1</td>\n",
       "      <td>0</td>\n",
       "      <td>113931.57</td>\n",
       "      <td>1</td>\n",
       "    </tr>\n",
       "    <tr>\n",
       "      <th>3</th>\n",
       "      <td>4</td>\n",
       "      <td>15701354</td>\n",
       "      <td>Boni</td>\n",
       "      <td>699</td>\n",
       "      <td>France</td>\n",
       "      <td>Female</td>\n",
       "      <td>39</td>\n",
       "      <td>1.0</td>\n",
       "      <td>0.00</td>\n",
       "      <td>2</td>\n",
       "      <td>0</td>\n",
       "      <td>0</td>\n",
       "      <td>93826.63</td>\n",
       "      <td>0</td>\n",
       "    </tr>\n",
       "    <tr>\n",
       "      <th>4</th>\n",
       "      <td>5</td>\n",
       "      <td>15737888</td>\n",
       "      <td>Mitchell</td>\n",
       "      <td>850</td>\n",
       "      <td>Spain</td>\n",
       "      <td>Female</td>\n",
       "      <td>43</td>\n",
       "      <td>2.0</td>\n",
       "      <td>125510.82</td>\n",
       "      <td>1</td>\n",
       "      <td>1</td>\n",
       "      <td>1</td>\n",
       "      <td>79084.10</td>\n",
       "      <td>0</td>\n",
       "    </tr>\n",
       "  </tbody>\n",
       "</table>\n",
       "</div>"
      ],
      "text/plain": [
       "   RowNumber  CustomerId   Surname  CreditScore Geography  Gender  Age  \\\n",
       "0          1    15634602  Hargrave          619    France  Female   42   \n",
       "1          2    15647311      Hill          608     Spain  Female   41   \n",
       "2          3    15619304      Onio          502    France  Female   42   \n",
       "3          4    15701354      Boni          699    France  Female   39   \n",
       "4          5    15737888  Mitchell          850     Spain  Female   43   \n",
       "\n",
       "   Tenure    Balance  NumOfProducts  HasCrCard  IsActiveMember  \\\n",
       "0     2.0       0.00              1          1               1   \n",
       "1     1.0   83807.86              1          0               1   \n",
       "2     8.0  159660.80              3          1               0   \n",
       "3     1.0       0.00              2          0               0   \n",
       "4     2.0  125510.82              1          1               1   \n",
       "\n",
       "   EstimatedSalary  Exited  \n",
       "0        101348.88       1  \n",
       "1        112542.58       0  \n",
       "2        113931.57       1  \n",
       "3         93826.63       0  \n",
       "4         79084.10       0  "
      ]
     },
     "execution_count": 36,
     "metadata": {},
     "output_type": "execute_result"
    }
   ],
   "source": [
    "#We will now load the data set.\n",
    "df = pd.read_csv('/datasets/Churn.csv')\n",
    "df.head()"
   ]
  },
  {
   "cell_type": "markdown",
   "metadata": {},
   "source": [
    "**1.Preparation of the data set.**"
   ]
  },
  {
   "cell_type": "markdown",
   "metadata": {},
   "source": [
    "Initial preparation:"
   ]
  },
  {
   "cell_type": "code",
   "execution_count": 37,
   "metadata": {},
   "outputs": [
    {
     "data": {
      "text/html": [
       "<div>\n",
       "<style scoped>\n",
       "    .dataframe tbody tr th:only-of-type {\n",
       "        vertical-align: middle;\n",
       "    }\n",
       "\n",
       "    .dataframe tbody tr th {\n",
       "        vertical-align: top;\n",
       "    }\n",
       "\n",
       "    .dataframe thead th {\n",
       "        text-align: right;\n",
       "    }\n",
       "</style>\n",
       "<table border=\"1\" class=\"dataframe\">\n",
       "  <thead>\n",
       "    <tr style=\"text-align: right;\">\n",
       "      <th></th>\n",
       "      <th>rownumber</th>\n",
       "      <th>customerid</th>\n",
       "      <th>surname</th>\n",
       "      <th>creditscore</th>\n",
       "      <th>geography</th>\n",
       "      <th>gender</th>\n",
       "      <th>age</th>\n",
       "      <th>tenure</th>\n",
       "      <th>balance</th>\n",
       "      <th>numofproducts</th>\n",
       "      <th>hascrcard</th>\n",
       "      <th>isactivemember</th>\n",
       "      <th>estimatedsalary</th>\n",
       "      <th>exited</th>\n",
       "    </tr>\n",
       "  </thead>\n",
       "  <tbody>\n",
       "    <tr>\n",
       "      <th>0</th>\n",
       "      <td>1</td>\n",
       "      <td>15634602</td>\n",
       "      <td>Hargrave</td>\n",
       "      <td>619</td>\n",
       "      <td>France</td>\n",
       "      <td>Female</td>\n",
       "      <td>42</td>\n",
       "      <td>2.0</td>\n",
       "      <td>0.00</td>\n",
       "      <td>1</td>\n",
       "      <td>1</td>\n",
       "      <td>1</td>\n",
       "      <td>101348.88</td>\n",
       "      <td>1</td>\n",
       "    </tr>\n",
       "    <tr>\n",
       "      <th>1</th>\n",
       "      <td>2</td>\n",
       "      <td>15647311</td>\n",
       "      <td>Hill</td>\n",
       "      <td>608</td>\n",
       "      <td>Spain</td>\n",
       "      <td>Female</td>\n",
       "      <td>41</td>\n",
       "      <td>1.0</td>\n",
       "      <td>83807.86</td>\n",
       "      <td>1</td>\n",
       "      <td>0</td>\n",
       "      <td>1</td>\n",
       "      <td>112542.58</td>\n",
       "      <td>0</td>\n",
       "    </tr>\n",
       "    <tr>\n",
       "      <th>2</th>\n",
       "      <td>3</td>\n",
       "      <td>15619304</td>\n",
       "      <td>Onio</td>\n",
       "      <td>502</td>\n",
       "      <td>France</td>\n",
       "      <td>Female</td>\n",
       "      <td>42</td>\n",
       "      <td>8.0</td>\n",
       "      <td>159660.80</td>\n",
       "      <td>3</td>\n",
       "      <td>1</td>\n",
       "      <td>0</td>\n",
       "      <td>113931.57</td>\n",
       "      <td>1</td>\n",
       "    </tr>\n",
       "    <tr>\n",
       "      <th>3</th>\n",
       "      <td>4</td>\n",
       "      <td>15701354</td>\n",
       "      <td>Boni</td>\n",
       "      <td>699</td>\n",
       "      <td>France</td>\n",
       "      <td>Female</td>\n",
       "      <td>39</td>\n",
       "      <td>1.0</td>\n",
       "      <td>0.00</td>\n",
       "      <td>2</td>\n",
       "      <td>0</td>\n",
       "      <td>0</td>\n",
       "      <td>93826.63</td>\n",
       "      <td>0</td>\n",
       "    </tr>\n",
       "    <tr>\n",
       "      <th>4</th>\n",
       "      <td>5</td>\n",
       "      <td>15737888</td>\n",
       "      <td>Mitchell</td>\n",
       "      <td>850</td>\n",
       "      <td>Spain</td>\n",
       "      <td>Female</td>\n",
       "      <td>43</td>\n",
       "      <td>2.0</td>\n",
       "      <td>125510.82</td>\n",
       "      <td>1</td>\n",
       "      <td>1</td>\n",
       "      <td>1</td>\n",
       "      <td>79084.10</td>\n",
       "      <td>0</td>\n",
       "    </tr>\n",
       "  </tbody>\n",
       "</table>\n",
       "</div>"
      ],
      "text/plain": [
       "   rownumber  customerid   surname  creditscore geography  gender  age  \\\n",
       "0          1    15634602  Hargrave          619    France  Female   42   \n",
       "1          2    15647311      Hill          608     Spain  Female   41   \n",
       "2          3    15619304      Onio          502    France  Female   42   \n",
       "3          4    15701354      Boni          699    France  Female   39   \n",
       "4          5    15737888  Mitchell          850     Spain  Female   43   \n",
       "\n",
       "   tenure    balance  numofproducts  hascrcard  isactivemember  \\\n",
       "0     2.0       0.00              1          1               1   \n",
       "1     1.0   83807.86              1          0               1   \n",
       "2     8.0  159660.80              3          1               0   \n",
       "3     1.0       0.00              2          0               0   \n",
       "4     2.0  125510.82              1          1               1   \n",
       "\n",
       "   estimatedsalary  exited  \n",
       "0        101348.88       1  \n",
       "1        112542.58       0  \n",
       "2        113931.57       1  \n",
       "3         93826.63       0  \n",
       "4         79084.10       0  "
      ]
     },
     "execution_count": 37,
     "metadata": {},
     "output_type": "execute_result"
    }
   ],
   "source": [
    "#We will change the column names to lowercase.\n",
    "df.columns= df.columns.str.lower()\n",
    "df.head()"
   ]
  },
  {
   "cell_type": "code",
   "execution_count": 38,
   "metadata": {},
   "outputs": [
    {
     "data": {
      "text/plain": [
       "0"
      ]
     },
     "execution_count": 38,
     "metadata": {},
     "output_type": "execute_result"
    }
   ],
   "source": [
    "#Let's check if we have duplicates in the data set.\n",
    "df.duplicated().sum()"
   ]
  },
  {
   "cell_type": "markdown",
   "metadata": {},
   "source": [
    "No duplicates found."
   ]
  },
  {
   "cell_type": "code",
   "execution_count": 39,
   "metadata": {},
   "outputs": [
    {
     "data": {
      "text/plain": [
       "rownumber            0\n",
       "customerid           0\n",
       "surname              0\n",
       "creditscore          0\n",
       "geography            0\n",
       "gender               0\n",
       "age                  0\n",
       "tenure             909\n",
       "balance              0\n",
       "numofproducts        0\n",
       "hascrcard            0\n",
       "isactivemember       0\n",
       "estimatedsalary      0\n",
       "exited               0\n",
       "dtype: int64"
      ]
     },
     "execution_count": 39,
     "metadata": {},
     "output_type": "execute_result"
    }
   ],
   "source": [
    "#Let's see if we have any missing values.\n",
    "pd.isnull(df).sum()"
   ]
  },
  {
   "cell_type": "code",
   "execution_count": 40,
   "metadata": {},
   "outputs": [
    {
     "data": {
      "text/plain": [
       "9.09"
      ]
     },
     "execution_count": 40,
     "metadata": {},
     "output_type": "execute_result"
    }
   ],
   "source": [
    "#Let's check what percentage of our data is missing.\n",
    "pd.isnull(df['tenure']).sum()/(len(df))*100 "
   ]
  },
  {
   "cell_type": "markdown",
   "metadata": {},
   "source": [
    "9.9% of our 'tenure' column is missing."
   ]
  },
  {
   "cell_type": "code",
   "execution_count": 41,
   "metadata": {},
   "outputs": [
    {
     "data": {
      "text/plain": [
       "rownumber          0\n",
       "customerid         0\n",
       "surname            0\n",
       "creditscore        0\n",
       "geography          0\n",
       "gender             0\n",
       "age                0\n",
       "tenure             0\n",
       "balance            0\n",
       "numofproducts      0\n",
       "hascrcard          0\n",
       "isactivemember     0\n",
       "estimatedsalary    0\n",
       "exited             0\n",
       "dtype: int64"
      ]
     },
     "execution_count": 41,
     "metadata": {},
     "output_type": "execute_result"
    }
   ],
   "source": [
    "#We will remove the missing values from our data set.\n",
    "df.dropna(inplace=True)\n",
    "pd.isnull(df).sum()"
   ]
  },
  {
   "cell_type": "markdown",
   "metadata": {},
   "source": [
    "Steps so far:\n",
    "\n",
    "1.Make the names of the columns lowercase to make our job easier.\n",
    "\n",
    "2.Duplicate check - not found.\n",
    "\n",
    "3.Checking Missing Values - 909 missing values were found in column 'tenure', which constitute 9.9% of the column. The values were removed from the data set."
   ]
  },
  {
   "cell_type": "markdown",
   "metadata": {},
   "source": [
    "Feature Preparation:"
   ]
  },
  {
   "cell_type": "code",
   "execution_count": 42,
   "metadata": {},
   "outputs": [
    {
     "name": "stdout",
     "output_type": "stream",
     "text": [
      "   rownumber  customerid  creditscore  age  tenure    balance  numofproducts  \\\n",
      "0          1    15634602          619   42     2.0       0.00              1   \n",
      "1          2    15647311          608   41     1.0   83807.86              1   \n",
      "2          3    15619304          502   42     8.0  159660.80              3   \n",
      "3          4    15701354          699   39     1.0       0.00              2   \n",
      "4          5    15737888          850   43     2.0  125510.82              1   \n",
      "\n",
      "   hascrcard  isactivemember  estimatedsalary  ...  surname_Zinachukwudi  \\\n",
      "0          1               1        101348.88  ...                     0   \n",
      "1          0               1        112542.58  ...                     0   \n",
      "2          1               0        113931.57  ...                     0   \n",
      "3          0               0         93826.63  ...                     0   \n",
      "4          1               1         79084.10  ...                     0   \n",
      "\n",
      "   surname_Zito  surname_Zotov  surname_Zotova  surname_Zox  surname_Zubarev  \\\n",
      "0             0              0               0            0                0   \n",
      "1             0              0               0            0                0   \n",
      "2             0              0               0            0                0   \n",
      "3             0              0               0            0                0   \n",
      "4             0              0               0            0                0   \n",
      "\n",
      "   surname_Zubareva  surname_Zuev  surname_Zuyev  surname_Zuyeva  \n",
      "0                 0             0              0               0  \n",
      "1                 0             0              0               0  \n",
      "2                 0             0              0               0  \n",
      "3                 0             0              0               0  \n",
      "4                 0             0              0               0  \n",
      "\n",
      "[5 rows x 2803 columns]\n"
     ]
    }
   ],
   "source": [
    "#let's encoding our categoriel feature (using the OHE method)\n",
    "categorical_columns = ['gender', 'geography', 'surname']\n",
    "for column in categorical_columns:\n",
    "    tempdf = pd.get_dummies(df[column], prefix=column)\n",
    "    df = pd.merge(\n",
    "        left=df,\n",
    "        right=tempdf,\n",
    "        left_index=True,\n",
    "        right_index=True,\n",
    "    )\n",
    "    df = df.drop(columns=column)\n",
    "print(df.head())"
   ]
  },
  {
   "cell_type": "code",
   "execution_count": 43,
   "metadata": {},
   "outputs": [],
   "source": [
    "#We will split our data set into a training set, a test set and an evaluation set.\n",
    "# set aside 20% of train and test data for evaluation\n",
    "df_train, df_test = train_test_split(df, test_size=0.2, random_state=12345)\n",
    "\n",
    "# Use the same function above for the validation set\n",
    "df_train, df_valid = train_test_split(df, test_size=0.25, random_state=12345) # 0.25 x 0.8 = 0.2"
   ]
  },
  {
   "cell_type": "code",
   "execution_count": 44,
   "metadata": {},
   "outputs": [],
   "source": [
    "#We will now define features and targets for all of our data sets.\n",
    "features_train = df_train.drop(['exited'], axis=1)\n",
    "target_train = df_train['exited']\n",
    "\n",
    "features_valid = df_valid.drop(['exited'], axis=1)\n",
    "target_valid = df_valid['exited']\n",
    "\n",
    "features_test = df_test.drop(['exited'], axis=1)\n",
    "target_test = df_test['exited']"
   ]
  },
  {
   "cell_type": "code",
   "execution_count": 45,
   "metadata": {},
   "outputs": [],
   "source": [
    "#let's scale the features using standardize the data.\n",
    "numeric = ['estimatedsalary','creditscore','tenure','balance','numofproducts','hascrcard','isactivemember','age']\n",
    "scaler = StandardScaler()\n",
    "scaler.fit(features_train[numeric])\n",
    "\n",
    "features_train[numeric] = scaler.transform(features_train[numeric])\n",
    "features_valid[numeric] = scaler.transform(features_valid[numeric])\n",
    "features_test[numeric] = scaler.transform(features_test[numeric])"
   ]
  },
  {
   "cell_type": "markdown",
   "metadata": {},
   "source": [
    "Steps taken at this time:\n",
    "\n",
    "-Transforming our categorical values into numerical values using the OHE method. I chose this method because I do not yet know which model I will use and since the variables are nominal.\n",
    "\n",
    "-Splitting the data set into training, testing and evaluation sets.\n",
    "\n",
    "-Set up features and targets for all our data sets.\n",
    "\n",
    "-Standardization of our numerical features, so that the machine can estimate their range correctly.\n",
    "\n",
    "**Our data is ready!**"
   ]
  },
  {
   "cell_type": "markdown",
   "metadata": {},
   "source": [
    "**2.Examine the balance of classes. Train the model without taking into account the imbalance. Briefly describe your findings.**"
   ]
  },
  {
   "cell_type": "code",
   "execution_count": 46,
   "metadata": {},
   "outputs": [
    {
     "name": "stdout",
     "output_type": "stream",
     "text": [
      "0.8015838099428069\n",
      "f1_score = 0.0\n"
     ]
    }
   ],
   "source": [
    "#Let's start by finding the best model for our mission.\n",
    "#Logistic regression:\n",
    "model = LogisticRegression(random_state=12345)\n",
    "model.fit(features_train, target_train)\n",
    "predictions_valid = model.predict(features_valid)\n",
    "model.score(features_valid, target_valid)\n",
    "print(accuracy_score(target_valid, predictions_valid))\n",
    "print(\"f1_score =\", f1_score(target_valid, predictions_valid))"
   ]
  },
  {
   "cell_type": "code",
   "execution_count": 47,
   "metadata": {},
   "outputs": [
    {
     "name": "stdout",
     "output_type": "stream",
     "text": [
      "max_depth = 1 : 0.8015838099428069\n",
      "f1_score = 0.0\n",
      "max_depth = 2 : 0.8407391113066432\n",
      "f1_score = 0.5310880829015544\n",
      "max_depth = 3 : 0.8424989001319841\n",
      "f1_score = 0.39527027027027023\n",
      "max_depth = 4 : 0.8574571051473823\n",
      "f1_score = 0.543661971830986\n",
      "max_depth = 5 : 0.8556973163220414\n",
      "f1_score = 0.4858934169278997\n"
     ]
    }
   ],
   "source": [
    "#Decision tree classifier:\n",
    "for depth in range(1, 6):\n",
    "        model = DecisionTreeClassifier(random_state=12345, max_depth=depth)\n",
    "\n",
    "        model.fit(features_train, target_train)\n",
    "\n",
    "        predictions_valid = model.predict(features_valid)\n",
    "\n",
    "        print(\"max_depth =\", depth, \": \", end='')\n",
    "        print(accuracy_score(target_valid, predictions_valid))\n",
    "        print(\"f1_score =\",f1_score(target_valid, predictions_valid))"
   ]
  },
  {
   "cell_type": "markdown",
   "metadata": {},
   "source": [
    "Our most accurate model is a decision tree at depth 4, so we will continue with it."
   ]
  },
  {
   "cell_type": "code",
   "execution_count": 48,
   "metadata": {},
   "outputs": [
    {
     "name": "stdout",
     "output_type": "stream",
     "text": [
      "Accuracy score: 0.8574571051473823\n",
      "Recall score: 0.4279379157427938\n",
      "Precision score: 0.7451737451737451\n",
      "F1 score: 0.543661971830986\n"
     ]
    }
   ],
   "source": [
    "#Let's examine the balance of classes.\n",
    "#We eill train the model without taking into account the imbalance.\n",
    "model = DecisionTreeClassifier(random_state=12345, max_depth=4)\n",
    "\n",
    "model.fit(features_train, target_train)\n",
    "\n",
    "predicted_valid = model.predict(features_valid)\n",
    "\n",
    "print('Accuracy score:',accuracy_score(target_valid, predicted_valid))\n",
    "print('Recall score:',recall_score(target_valid, predicted_valid))\n",
    "print('Precision score:',precision_score(target_valid, predicted_valid))\n",
    "print('F1 score:',f1_score(target_valid, predicted_valid))"
   ]
  },
  {
   "cell_type": "markdown",
   "metadata": {},
   "source": [
    "Findings:\n",
    "\n",
    "Our recall score is below 0.5 which means we have more false negative than true positive answers.\n",
    "\n",
    "Our precision score is higher than 0.5 and that means we have more true positive answers than false positive.\n",
    "\n",
    "Our F1 index is lower than 0.59 so it is not enough to submit the project.\n",
    "\n",
    "Conclusion - The classes are unbalanced, we will balance them to improve the indices."
   ]
  },
  {
   "cell_type": "markdown",
   "metadata": {},
   "source": [
    "**3.Improve the quality of the model.**"
   ]
  },
  {
   "cell_type": "code",
   "execution_count": 49,
   "metadata": {},
   "outputs": [
    {
     "name": "stdout",
     "output_type": "stream",
     "text": [
      "Accuracy score: 0.7254729432468103\n",
      "Recall score: 0.7716186252771619\n",
      "Precision score: 0.4004602991944764\n",
      "F1 score: 0.5272727272727272\n"
     ]
    }
   ],
   "source": [
    "#Let's see if Class Weight Adjustment will improve our model balance.\n",
    "model = DecisionTreeClassifier(random_state=12345, max_depth=4, class_weight='balanced')\n",
    "\n",
    "model.fit(features_train, target_train)\n",
    "\n",
    "predicted_valid = model.predict(features_valid)\n",
    "\n",
    "print('Accuracy score:',accuracy_score(target_valid, predicted_valid))\n",
    "print('Recall score:',recall_score(target_valid, predicted_valid))\n",
    "print('Precision score:',precision_score(target_valid, predicted_valid))\n",
    "print('F1 score:',f1_score(target_valid, predicted_valid))"
   ]
  },
  {
   "cell_type": "markdown",
   "metadata": {},
   "source": [
    "Conclusion - This method raised my recall score, but hurt the rest of the metrics. We will not use it."
   ]
  },
  {
   "cell_type": "code",
   "execution_count": 50,
   "metadata": {},
   "outputs": [
    {
     "name": "stdout",
     "output_type": "stream",
     "text": [
      "Accuracy score: 0.8249010118785746\n",
      "Recall score: 0.5698447893569845\n",
      "Precision score: 0.5574837310195228\n",
      "F1 score: 0.5635964912280702\n"
     ]
    }
   ],
   "source": [
    "#Let's see if Upsampling method will improve our model balance.\n",
    "def upsample(features, target, repeat):\n",
    "    features_zeros = features[target == 0]\n",
    "    features_ones = features[target == 1]\n",
    "    target_zeros = target[target == 0]\n",
    "    target_ones = target[target == 1]\n",
    "\n",
    "    features_upsampled = pd.concat([features_zeros] + [features_ones] * repeat)\n",
    "    target_upsampled = pd.concat([target_zeros] + [target_ones] * repeat)\n",
    "\n",
    "    features_upsampled, target_upsampled = shuffle(\n",
    "        features_upsampled, target_upsampled, random_state=12345\n",
    "    )\n",
    "\n",
    "    return features_upsampled, target_upsampled\n",
    "\n",
    "\n",
    "features_upsampled, target_upsampled = upsample(\n",
    "    features_train, target_train, 2\n",
    ")\n",
    "\n",
    "model = DecisionTreeClassifier(random_state=12345, max_depth=4)\n",
    "model.fit(features_upsampled, target_upsampled)\n",
    "predicted_valid = model.predict(features_valid)\n",
    "\n",
    "print('Accuracy score:',accuracy_score(target_valid, predicted_valid))\n",
    "print('Recall score:',recall_score(target_valid, predicted_valid))\n",
    "print('Precision score:',precision_score(target_valid, predicted_valid))\n",
    "print('F1 score:',f1_score(target_valid, predicted_valid))"
   ]
  },
  {
   "cell_type": "markdown",
   "metadata": {},
   "source": [
    "I changed the parameter to 2. The F1 score has risen to 0.56, but it is still not enough. We will use this method and try another method to further improve the score."
   ]
  },
  {
   "cell_type": "markdown",
   "metadata": {},
   "source": [
    "Conclusion - This method raised me on the metrics, but lowered my recall.\n",
    "Also our F1 score is not satisfactory yet."
   ]
  },
  {
   "cell_type": "code",
   "execution_count": 61,
   "metadata": {},
   "outputs": [
    {
     "name": "stdout",
     "output_type": "stream",
     "text": [
      "Threshold = 0.00 | Precision = 0.341, Recall = 1.000, f1 = 0.509\n",
      "Threshold = 0.02 | Precision = 0.341, Recall = 1.000, f1 = 0.509\n",
      "Threshold = 0.04 | Precision = 0.404, Recall = 0.980, f1 = 0.572\n",
      "Threshold = 0.06 | Precision = 0.404, Recall = 0.980, f1 = 0.572\n",
      "Threshold = 0.08 | Precision = 0.404, Recall = 0.980, f1 = 0.572\n",
      "Threshold = 0.10 | Precision = 0.404, Recall = 0.980, f1 = 0.572\n",
      "Threshold = 0.12 | Precision = 0.404, Recall = 0.980, f1 = 0.572\n",
      "Threshold = 0.14 | Precision = 0.404, Recall = 0.980, f1 = 0.572\n",
      "Threshold = 0.16 | Precision = 0.453, Recall = 0.924, f1 = 0.608\n",
      "Threshold = 0.18 | Precision = 0.453, Recall = 0.924, f1 = 0.608\n",
      "Threshold = 0.20 | Precision = 0.453, Recall = 0.924, f1 = 0.608\n",
      "Threshold = 0.22 | Precision = 0.453, Recall = 0.924, f1 = 0.608\n",
      "Threshold = 0.24 | Precision = 0.632, Recall = 0.707, f1 = 0.667\n",
      "Threshold = 0.26 | Precision = 0.632, Recall = 0.707, f1 = 0.667\n",
      "Threshold = 0.28 | Precision = 0.632, Recall = 0.707, f1 = 0.667\n",
      "Threshold = 0.30 | Precision = 0.632, Recall = 0.707, f1 = 0.667\n",
      "Threshold = 0.32 | Precision = 0.632, Recall = 0.707, f1 = 0.667\n",
      "Threshold = 0.34 | Precision = 0.632, Recall = 0.707, f1 = 0.667\n",
      "Threshold = 0.36 | Precision = 0.632, Recall = 0.707, f1 = 0.667\n",
      "Threshold = 0.38 | Precision = 0.632, Recall = 0.707, f1 = 0.667\n",
      " \n",
      "Valid set:\n",
      "Threshold = 0.00 | Precision = 0.199, Recall = 1.000, f1 = 0.332\n",
      "Threshold = 0.02 | Precision = 0.199, Recall = 1.000, f1 = 0.332\n",
      "Threshold = 0.04 | Precision = 0.293, Recall = 0.929, f1 = 0.445\n",
      "Threshold = 0.06 | Precision = 0.293, Recall = 0.929, f1 = 0.445\n",
      "Threshold = 0.08 | Precision = 0.314, Recall = 0.907, f1 = 0.467\n",
      "Threshold = 0.10 | Precision = 0.424, Recall = 0.820, f1 = 0.559\n",
      "Threshold = 0.12 | Precision = 0.424, Recall = 0.820, f1 = 0.559\n",
      "Threshold = 0.14 | Precision = 0.424, Recall = 0.820, f1 = 0.559\n",
      "Threshold = 0.16 | Precision = 0.424, Recall = 0.820, f1 = 0.559\n",
      "Threshold = 0.18 | Precision = 0.424, Recall = 0.820, f1 = 0.559\n",
      "Threshold = 0.20 | Precision = 0.424, Recall = 0.820, f1 = 0.559\n",
      "Threshold = 0.22 | Precision = 0.424, Recall = 0.820, f1 = 0.559\n",
      "Threshold = 0.24 | Precision = 0.424, Recall = 0.820, f1 = 0.559\n",
      "Threshold = 0.26 | Precision = 0.570, Recall = 0.599, f1 = 0.584\n",
      "Threshold = 0.28 | Precision = 0.570, Recall = 0.599, f1 = 0.584\n",
      "Threshold = 0.30 | Precision = 0.570, Recall = 0.599, f1 = 0.584\n",
      "Threshold = 0.32 | Precision = 0.570, Recall = 0.599, f1 = 0.584\n",
      "Threshold = 0.34 | Precision = 0.694, Recall = 0.477, f1 = 0.565\n",
      "Threshold = 0.36 | Precision = 0.694, Recall = 0.477, f1 = 0.565\n",
      "Threshold = 0.38 | Precision = 0.694, Recall = 0.477, f1 = 0.565\n"
     ]
    }
   ],
   "source": [
    "model = DecisionTreeClassifier(random_state=12345, max_depth=4)\n",
    "model.fit(features_upsampled, target_upsampled)\n",
    "probabilities_valid = model.predict_proba(features_upsampled)\n",
    "probabilities_one_valid = probabilities_valid[:, 1]\n",
    "\n",
    "for threshold in np.arange(0, 0.4, 0.02):\n",
    "    predicted_valid = probabilities_one_valid > threshold\n",
    "    precision = precision_score(target_upsampled, predicted_valid)\n",
    "    recall = recall_score(target_upsampled, predicted_valid)\n",
    "    f1 = f1_score(target_upsampled, predicted_valid)\n",
    "    \n",
    "    print('Threshold = {:.2f} | Precision = {:.3f}, Recall = {:.3f}, f1 = {:.3f}'.format(threshold, precision, recall, f1))\n",
    "\n",
    "print(\" \")\n",
    "print(\"Valid set:\")\n",
    "\n",
    "model = DecisionTreeClassifier(random_state=12345, max_depth=4)\n",
    "model.fit(features_valid, target_valid)\n",
    "probabilities_valid1 = model.predict_proba(features_valid)\n",
    "probabilities_one_valid1 = probabilities_valid1[:, 1]\n",
    "\n",
    "for threshold in np.arange(0, 0.4, 0.02):\n",
    "    predicted_valid1 = probabilities_one_valid1 > threshold\n",
    "    precision = precision_score(target_valid, predicted_valid1)\n",
    "    recall = recall_score(target_valid, predicted_valid1)\n",
    "    f1 = f1_score(target_valid, predicted_valid1)\n",
    "    \n",
    "    print('Threshold = {:.2f} | Precision = {:.3f}, Recall = {:.3f}, f1 = {:.3f}'.format(threshold, precision, recall, f1))    "
   ]
  },
  {
   "cell_type": "markdown",
   "metadata": {},
   "source": [
    "According to the above test we conducted, the result seems to have risen very much and reached its highest score at Threshold = 0.38. We also reached a satisfactory F1 score.\n",
    "\n",
    "On the vaild set we achive score of 0.565."
   ]
  },
  {
   "cell_type": "markdown",
   "metadata": {},
   "source": [
    "i fixed this."
   ]
  },
  {
   "cell_type": "markdown",
   "metadata": {},
   "source": [
    "We will now perform a final test on the test set and compare it with a score of auc_roc."
   ]
  },
  {
   "cell_type": "code",
   "execution_count": 60,
   "metadata": {},
   "outputs": [
    {
     "name": "stdout",
     "output_type": "stream",
     "text": [
      "Threshold = 0.00 | Precision = 0.204, Recall = 1.000, f1 = 0.339\n",
      "Threshold = 0.02 | Precision = 0.204, Recall = 1.000, f1 = 0.339\n",
      "Threshold = 0.04 | Precision = 0.204, Recall = 1.000, f1 = 0.339\n",
      "Threshold = 0.06 | Precision = 0.299, Recall = 0.921, f1 = 0.451\n",
      "Threshold = 0.08 | Precision = 0.321, Recall = 0.902, f1 = 0.474\n",
      "Threshold = 0.10 | Precision = 0.433, Recall = 0.827, f1 = 0.568\n",
      "Threshold = 0.12 | Precision = 0.433, Recall = 0.827, f1 = 0.568\n",
      "Threshold = 0.14 | Precision = 0.433, Recall = 0.827, f1 = 0.568\n",
      "Threshold = 0.16 | Precision = 0.433, Recall = 0.827, f1 = 0.568\n",
      "Threshold = 0.18 | Precision = 0.433, Recall = 0.827, f1 = 0.568\n",
      "Threshold = 0.20 | Precision = 0.433, Recall = 0.827, f1 = 0.568\n",
      "Threshold = 0.22 | Precision = 0.433, Recall = 0.827, f1 = 0.568\n",
      "Threshold = 0.24 | Precision = 0.433, Recall = 0.827, f1 = 0.568\n",
      "Threshold = 0.26 | Precision = 0.433, Recall = 0.827, f1 = 0.568\n",
      "Threshold = 0.28 | Precision = 0.579, Recall = 0.599, f1 = 0.589\n"
     ]
    },
    {
     "data": {
      "image/png": "[encoded data removed]",
      "text/plain": [
       "<Figure size 432x288 with 1 Axes>"
      ]
     },
     "metadata": {
      "needs_background": "light"
     },
     "output_type": "display_data"
    },
    {
     "data": {
      "image/png": "[encoded data removed]",
      "text/plain": [
       "<Figure size 432x288 with 1 Axes>"
      ]
     },
     "metadata": {
      "needs_background": "light"
     },
     "output_type": "display_data"
    },
    {
     "name": "stdout",
     "output_type": "stream",
     "text": [
      "auc_roc score: 0.8413540790580321\n"
     ]
    }
   ],
   "source": [
    "model = DecisionTreeClassifier(random_state=12345, max_depth=4)\n",
    "model.fit(features_test, target_test)\n",
    "probabilities_test = model.predict_proba(features_test)\n",
    "probabilities_one_test = probabilities_test[:, 1]\n",
    "\n",
    "for threshold in np.arange(0, 0.3, 0.02):\n",
    "    predicted_test = probabilities_one_test > threshold\n",
    "    precision = precision_score(target_test, predicted_test)\n",
    "    recall = recall_score(target_test, predicted_test)\n",
    "    f1 = f1_score(target_test, predicted_test)\n",
    "    \n",
    "    print('Threshold = {:.2f} | Precision = {:.3f}, Recall = {:.3f}, f1 = {:.3f}'.format(threshold, precision, recall, f1))    \n",
    "    \n",
    "auc_roc = roc_auc_score(target_test, probabilities_one_test)\n",
    "\n",
    "fpr, tpr, thresholds = roc_curve(target_test, probabilities_one_test)\n",
    "plt.figure()\n",
    "plt.plot([0, 1], [0, 1], linestyle='--')\n",
    "\n",
    "plt.figure()\n",
    "plt.plot(fpr, tpr)\n",
    "plt.xlim([0.0, 1.0])\n",
    "plt.ylim([0.0, 1.0])\n",
    "plt.xlabel('False Positive Rate')\n",
    "plt.ylabel('True Positive Rate')\n",
    "plt.title('ROC curve')\n",
    "plt.show()\n",
    "print(\"auc_roc score:\", auc_roc)"
   ]
  },
  {
   "cell_type": "markdown",
   "metadata": {},
   "source": [
    "I adjusted all the parameters we learned in this sprint and used all the methods but the best result I got is 0.589 when the threshold is 0.28."
   ]
  },
  {
   "cell_type": "markdown",
   "metadata": {},
   "source": [
    "***final conculision***\n",
    "\n",
    "We performed a final test on the test set.\n",
    "\n",
    "Our final F1 result is 0.589.\n",
    "\n",
    "We also performed an evaluation according to the RUC model.\n",
    "Our score is 0.84 (0.34 above a random index) and this can also be seen on the above graphs where the upper graph indicates a random model and the lower our model.\n",
    "\n",
    "Final conclusion - the model has almost exceeded the requirements and is ready for action."
   ]
  }
 ],
 "metadata": {
  "ExecuteTimeLog": [
   {
    "duration": 911,
    "start_time": "2022-06-11T07:12:05.985Z"
   },
   {
    "duration": 156,
    "start_time": "2022-06-11T07:13:37.286Z"
   },
   {
    "duration": 57,
    "start_time": "2022-06-11T07:13:55.066Z"
   },
   {
    "duration": 49,
    "start_time": "2022-06-11T07:21:26.872Z"
   },
   {
    "duration": 11,
    "start_time": "2022-06-11T07:22:48.613Z"
   },
   {
    "duration": 2,
    "start_time": "2022-06-11T07:26:25.265Z"
   },
   {
    "duration": 12,
    "start_time": "2022-06-11T07:26:37.846Z"
   },
   {
    "duration": 7,
    "start_time": "2022-06-11T07:26:42.855Z"
   },
   {
    "duration": 6,
    "start_time": "2022-06-11T07:27:11.047Z"
   },
   {
    "duration": 11,
    "start_time": "2022-06-11T07:29:47.046Z"
   },
   {
    "duration": 7,
    "start_time": "2022-06-11T07:31:11.468Z"
   },
   {
    "duration": 8,
    "start_time": "2022-06-11T07:33:52.561Z"
   },
   {
    "duration": 69,
    "start_time": "2022-06-11T07:35:03.943Z"
   },
   {
    "duration": 7,
    "start_time": "2022-06-11T07:35:17.143Z"
   },
   {
    "duration": 8,
    "start_time": "2022-06-11T07:35:21.085Z"
   },
   {
    "duration": 3,
    "start_time": "2022-06-11T07:36:06.024Z"
   },
   {
    "duration": 52,
    "start_time": "2022-06-11T07:36:06.028Z"
   },
   {
    "duration": 17,
    "start_time": "2022-06-11T07:36:06.086Z"
   },
   {
    "duration": 13,
    "start_time": "2022-06-11T07:36:06.105Z"
   },
   {
    "duration": 6,
    "start_time": "2022-06-11T07:36:06.119Z"
   },
   {
    "duration": 8,
    "start_time": "2022-06-11T07:36:06.126Z"
   },
   {
    "duration": 11,
    "start_time": "2022-06-11T07:36:06.135Z"
   },
   {
    "duration": 6,
    "start_time": "2022-06-11T07:36:06.147Z"
   },
   {
    "duration": 631,
    "start_time": "2022-06-11T07:36:27.760Z"
   },
   {
    "duration": 10,
    "start_time": "2022-06-11T07:36:56.082Z"
   },
   {
    "duration": 481,
    "start_time": "2022-06-11T07:37:03.061Z"
   },
   {
    "duration": 5,
    "start_time": "2022-06-11T07:37:06.921Z"
   },
   {
    "duration": 9,
    "start_time": "2022-06-11T07:39:33.139Z"
   },
   {
    "duration": 6,
    "start_time": "2022-06-11T07:39:41.246Z"
   },
   {
    "duration": 7,
    "start_time": "2022-06-11T07:39:51.507Z"
   },
   {
    "duration": 11,
    "start_time": "2022-06-11T07:40:03.281Z"
   },
   {
    "duration": 8,
    "start_time": "2022-06-11T07:40:16.541Z"
   },
   {
    "duration": 7,
    "start_time": "2022-06-11T07:42:20.519Z"
   },
   {
    "duration": 7,
    "start_time": "2022-06-11T07:44:42.267Z"
   },
   {
    "duration": 3,
    "start_time": "2022-06-11T07:47:01.935Z"
   },
   {
    "duration": 55,
    "start_time": "2022-06-11T07:47:01.940Z"
   },
   {
    "duration": 12,
    "start_time": "2022-06-11T07:47:01.997Z"
   },
   {
    "duration": 23,
    "start_time": "2022-06-11T07:47:02.011Z"
   },
   {
    "duration": 7,
    "start_time": "2022-06-11T07:47:02.036Z"
   },
   {
    "duration": 7,
    "start_time": "2022-06-11T07:47:02.044Z"
   },
   {
    "duration": 10,
    "start_time": "2022-06-11T07:47:02.053Z"
   },
   {
    "duration": 23,
    "start_time": "2022-06-11T07:47:02.064Z"
   },
   {
    "duration": 7,
    "start_time": "2022-06-11T07:47:02.088Z"
   },
   {
    "duration": 9,
    "start_time": "2022-06-11T07:47:19.983Z"
   },
   {
    "duration": 4,
    "start_time": "2022-06-11T07:58:32.084Z"
   },
   {
    "duration": 49,
    "start_time": "2022-06-11T07:58:32.090Z"
   },
   {
    "duration": 11,
    "start_time": "2022-06-11T07:58:32.141Z"
   },
   {
    "duration": 12,
    "start_time": "2022-06-11T07:58:32.153Z"
   },
   {
    "duration": 5,
    "start_time": "2022-06-11T07:58:32.167Z"
   },
   {
    "duration": 10,
    "start_time": "2022-06-11T07:58:32.174Z"
   },
   {
    "duration": 10,
    "start_time": "2022-06-11T07:58:32.185Z"
   },
   {
    "duration": 7,
    "start_time": "2022-06-11T07:58:32.196Z"
   },
   {
    "duration": 7,
    "start_time": "2022-06-11T07:58:32.204Z"
   },
   {
    "duration": 3,
    "start_time": "2022-06-11T11:42:04.709Z"
   },
   {
    "duration": 61,
    "start_time": "2022-06-11T11:42:04.714Z"
   },
   {
    "duration": 12,
    "start_time": "2022-06-11T11:42:04.776Z"
   },
   {
    "duration": 11,
    "start_time": "2022-06-11T11:42:04.790Z"
   },
   {
    "duration": 6,
    "start_time": "2022-06-11T11:42:04.802Z"
   },
   {
    "duration": 7,
    "start_time": "2022-06-11T11:42:04.809Z"
   },
   {
    "duration": 11,
    "start_time": "2022-06-11T11:42:04.817Z"
   },
   {
    "duration": 6,
    "start_time": "2022-06-11T11:42:04.829Z"
   },
   {
    "duration": 6,
    "start_time": "2022-06-11T11:42:04.836Z"
   },
   {
    "duration": 154,
    "start_time": "2022-06-11T12:40:28.154Z"
   },
   {
    "duration": 157,
    "start_time": "2022-06-11T12:40:44.983Z"
   },
   {
    "duration": 387,
    "start_time": "2022-06-11T12:46:16.088Z"
   },
   {
    "duration": 481,
    "start_time": "2022-06-11T12:46:29.130Z"
   },
   {
    "duration": 423,
    "start_time": "2022-06-11T12:46:40.555Z"
   },
   {
    "duration": 9,
    "start_time": "2022-06-11T12:46:57.639Z"
   },
   {
    "duration": 8,
    "start_time": "2022-06-11T12:47:10.524Z"
   },
   {
    "duration": 17,
    "start_time": "2022-06-11T12:48:49.640Z"
   },
   {
    "duration": 24,
    "start_time": "2022-06-11T12:48:55.811Z"
   },
   {
    "duration": 3,
    "start_time": "2022-06-11T12:55:36.915Z"
   },
   {
    "duration": 9,
    "start_time": "2022-06-11T13:00:13.225Z"
   },
   {
    "duration": 9,
    "start_time": "2022-06-11T13:01:32.014Z"
   },
   {
    "duration": 7,
    "start_time": "2022-06-11T13:01:34.700Z"
   },
   {
    "duration": 28,
    "start_time": "2022-06-11T13:02:23.685Z"
   },
   {
    "duration": 4,
    "start_time": "2022-06-11T13:02:35.109Z"
   },
   {
    "duration": 44,
    "start_time": "2022-06-11T13:02:35.115Z"
   },
   {
    "duration": 11,
    "start_time": "2022-06-11T13:02:35.161Z"
   },
   {
    "duration": 11,
    "start_time": "2022-06-11T13:02:35.173Z"
   },
   {
    "duration": 7,
    "start_time": "2022-06-11T13:02:35.186Z"
   },
   {
    "duration": 3,
    "start_time": "2022-06-11T13:02:35.194Z"
   },
   {
    "duration": 11,
    "start_time": "2022-06-11T13:02:35.198Z"
   },
   {
    "duration": 15,
    "start_time": "2022-06-11T13:02:35.211Z"
   },
   {
    "duration": 6,
    "start_time": "2022-06-11T13:02:35.228Z"
   },
   {
    "duration": 5,
    "start_time": "2022-06-11T13:02:35.236Z"
   },
   {
    "duration": 49,
    "start_time": "2022-06-11T13:02:35.242Z"
   },
   {
    "duration": 37,
    "start_time": "2022-06-11T14:39:51.528Z"
   },
   {
    "duration": 21,
    "start_time": "2022-06-11T14:40:06.102Z"
   },
   {
    "duration": 162,
    "start_time": "2022-06-11T14:42:32.116Z"
   },
   {
    "duration": 3,
    "start_time": "2022-06-11T14:42:35.227Z"
   },
   {
    "duration": 47,
    "start_time": "2022-06-11T14:42:35.232Z"
   },
   {
    "duration": 11,
    "start_time": "2022-06-11T14:42:35.280Z"
   },
   {
    "duration": 19,
    "start_time": "2022-06-11T14:42:35.294Z"
   },
   {
    "duration": 6,
    "start_time": "2022-06-11T14:42:35.315Z"
   },
   {
    "duration": 8,
    "start_time": "2022-06-11T14:42:35.323Z"
   },
   {
    "duration": 11,
    "start_time": "2022-06-11T14:42:35.332Z"
   },
   {
    "duration": 180,
    "start_time": "2022-06-11T14:42:35.344Z"
   },
   {
    "duration": 115,
    "start_time": "2022-06-11T14:42:35.526Z"
   },
   {
    "duration": 22,
    "start_time": "2022-06-11T14:42:35.643Z"
   },
   {
    "duration": 31,
    "start_time": "2022-06-11T14:42:35.666Z"
   },
   {
    "duration": 2210,
    "start_time": "2022-06-11T14:42:35.698Z"
   },
   {
    "duration": 1418,
    "start_time": "2022-06-11T14:44:31.600Z"
   },
   {
    "duration": 46131,
    "start_time": "2022-06-11T14:47:20.174Z"
   },
   {
    "duration": 3,
    "start_time": "2022-06-11T14:55:19.790Z"
   },
   {
    "duration": 331,
    "start_time": "2022-06-11T14:57:09.612Z"
   },
   {
    "duration": 316,
    "start_time": "2022-06-11T14:57:48.833Z"
   },
   {
    "duration": 317,
    "start_time": "2022-06-11T14:58:45.668Z"
   },
   {
    "duration": 318,
    "start_time": "2022-06-11T14:59:44.957Z"
   },
   {
    "duration": 310,
    "start_time": "2022-06-11T14:59:54.944Z"
   },
   {
    "duration": 3,
    "start_time": "2022-06-11T15:15:34.022Z"
   },
   {
    "duration": 47,
    "start_time": "2022-06-11T15:15:34.027Z"
   },
   {
    "duration": 10,
    "start_time": "2022-06-11T15:15:34.076Z"
   },
   {
    "duration": 12,
    "start_time": "2022-06-11T15:15:34.087Z"
   },
   {
    "duration": 6,
    "start_time": "2022-06-11T15:15:34.100Z"
   },
   {
    "duration": 6,
    "start_time": "2022-06-11T15:15:34.107Z"
   },
   {
    "duration": 11,
    "start_time": "2022-06-11T15:15:34.114Z"
   },
   {
    "duration": 179,
    "start_time": "2022-06-11T15:15:34.126Z"
   },
   {
    "duration": 115,
    "start_time": "2022-06-11T15:15:34.307Z"
   },
   {
    "duration": 25,
    "start_time": "2022-06-11T15:15:34.423Z"
   },
   {
    "duration": 35,
    "start_time": "2022-06-11T15:15:34.449Z"
   },
   {
    "duration": 2004,
    "start_time": "2022-06-11T15:15:34.485Z"
   },
   {
    "duration": 1582,
    "start_time": "2022-06-11T15:15:36.490Z"
   },
   {
    "duration": 47172,
    "start_time": "2022-06-11T15:15:38.077Z"
   },
   {
    "duration": 321,
    "start_time": "2022-06-11T15:16:25.251Z"
   },
   {
    "duration": 315,
    "start_time": "2022-06-11T15:19:49.675Z"
   },
   {
    "duration": 982,
    "start_time": "2022-06-13T04:23:42.677Z"
   },
   {
    "duration": 95,
    "start_time": "2022-06-13T04:23:43.660Z"
   },
   {
    "duration": 11,
    "start_time": "2022-06-13T04:23:43.756Z"
   },
   {
    "duration": 14,
    "start_time": "2022-06-13T04:23:43.768Z"
   },
   {
    "duration": 6,
    "start_time": "2022-06-13T04:23:43.784Z"
   },
   {
    "duration": 104,
    "start_time": "2022-06-13T04:23:43.791Z"
   },
   {
    "duration": 0,
    "start_time": "2022-06-13T04:23:43.897Z"
   },
   {
    "duration": 0,
    "start_time": "2022-06-13T04:23:43.898Z"
   },
   {
    "duration": 0,
    "start_time": "2022-06-13T04:23:43.899Z"
   },
   {
    "duration": 0,
    "start_time": "2022-06-13T04:23:43.900Z"
   },
   {
    "duration": 0,
    "start_time": "2022-06-13T04:23:43.901Z"
   },
   {
    "duration": 0,
    "start_time": "2022-06-13T04:23:43.902Z"
   },
   {
    "duration": 0,
    "start_time": "2022-06-13T04:23:43.903Z"
   },
   {
    "duration": 0,
    "start_time": "2022-06-13T04:23:43.904Z"
   },
   {
    "duration": 0,
    "start_time": "2022-06-13T04:23:43.905Z"
   },
   {
    "duration": 5,
    "start_time": "2022-06-13T04:24:38.685Z"
   },
   {
    "duration": 5,
    "start_time": "2022-06-13T04:24:54.065Z"
   },
   {
    "duration": 3,
    "start_time": "2022-06-13T04:24:59.888Z"
   },
   {
    "duration": 63,
    "start_time": "2022-06-13T04:24:59.893Z"
   },
   {
    "duration": 14,
    "start_time": "2022-06-13T04:24:59.960Z"
   },
   {
    "duration": 28,
    "start_time": "2022-06-13T04:24:59.976Z"
   },
   {
    "duration": 24,
    "start_time": "2022-06-13T04:25:00.006Z"
   },
   {
    "duration": 20,
    "start_time": "2022-06-13T04:25:00.032Z"
   },
   {
    "duration": 12,
    "start_time": "2022-06-13T04:25:00.053Z"
   },
   {
    "duration": 169,
    "start_time": "2022-06-13T04:25:00.067Z"
   },
   {
    "duration": 135,
    "start_time": "2022-06-13T04:25:00.237Z"
   },
   {
    "duration": 26,
    "start_time": "2022-06-13T04:25:00.374Z"
   },
   {
    "duration": 43,
    "start_time": "2022-06-13T04:25:00.402Z"
   },
   {
    "duration": 2381,
    "start_time": "2022-06-13T04:25:00.447Z"
   },
   {
    "duration": 1512,
    "start_time": "2022-06-13T04:25:02.831Z"
   },
   {
    "duration": 327,
    "start_time": "2022-06-13T04:25:04.345Z"
   },
   {
    "duration": 347,
    "start_time": "2022-06-13T04:25:04.674Z"
   },
   {
    "duration": 50,
    "start_time": "2022-06-13T04:30:08.703Z"
   },
   {
    "duration": 4,
    "start_time": "2022-06-13T04:30:28.102Z"
   },
   {
    "duration": 157,
    "start_time": "2022-06-13T04:30:33.479Z"
   },
   {
    "duration": 34,
    "start_time": "2022-06-13T04:31:01.946Z"
   },
   {
    "duration": 156,
    "start_time": "2022-06-13T04:31:12.021Z"
   },
   {
    "duration": 160,
    "start_time": "2022-06-13T04:32:08.099Z"
   },
   {
    "duration": 970,
    "start_time": "2022-06-13T04:36:09.449Z"
   },
   {
    "duration": 946,
    "start_time": "2022-06-13T04:36:27.306Z"
   },
   {
    "duration": 158,
    "start_time": "2022-06-13T04:36:50.773Z"
   },
   {
    "duration": 156,
    "start_time": "2022-06-13T04:38:36.683Z"
   },
   {
    "duration": 156,
    "start_time": "2022-06-13T04:38:44.010Z"
   },
   {
    "duration": 140,
    "start_time": "2022-06-13T04:38:52.692Z"
   },
   {
    "duration": 163,
    "start_time": "2022-06-13T04:38:57.031Z"
   },
   {
    "duration": 163,
    "start_time": "2022-06-13T04:39:00.410Z"
   },
   {
    "duration": 159,
    "start_time": "2022-06-13T04:40:10.780Z"
   },
   {
    "duration": 164,
    "start_time": "2022-06-13T04:40:23.087Z"
   },
   {
    "duration": 8,
    "start_time": "2022-06-13T04:42:18.852Z"
   },
   {
    "duration": 3,
    "start_time": "2022-06-13T04:43:09.498Z"
   },
   {
    "duration": 12,
    "start_time": "2022-06-13T04:43:15.493Z"
   },
   {
    "duration": 388,
    "start_time": "2022-06-13T04:45:21.123Z"
   },
   {
    "duration": 381,
    "start_time": "2022-06-13T04:51:14.650Z"
   },
   {
    "duration": 363,
    "start_time": "2022-06-13T04:51:40.171Z"
   },
   {
    "duration": 1443,
    "start_time": "2022-06-13T04:53:21.287Z"
   },
   {
    "duration": 1436,
    "start_time": "2022-06-13T04:53:52.849Z"
   },
   {
    "duration": 336,
    "start_time": "2022-06-13T04:53:59.031Z"
   },
   {
    "duration": 327,
    "start_time": "2022-06-13T04:54:12.440Z"
   },
   {
    "duration": 152,
    "start_time": "2022-06-13T04:54:24.213Z"
   },
   {
    "duration": 157,
    "start_time": "2022-06-13T04:54:27.919Z"
   },
   {
    "duration": 999,
    "start_time": "2022-06-13T05:01:25.202Z"
   },
   {
    "duration": 1050,
    "start_time": "2022-06-13T05:01:35.855Z"
   },
   {
    "duration": 1306,
    "start_time": "2022-06-13T05:01:41.323Z"
   },
   {
    "duration": 165,
    "start_time": "2022-06-13T05:01:51.105Z"
   },
   {
    "duration": 132,
    "start_time": "2022-06-13T05:03:06.284Z"
   },
   {
    "duration": 4,
    "start_time": "2022-06-13T05:03:31.656Z"
   },
   {
    "duration": 71,
    "start_time": "2022-06-13T05:03:31.663Z"
   },
   {
    "duration": 11,
    "start_time": "2022-06-13T05:03:31.736Z"
   },
   {
    "duration": 43,
    "start_time": "2022-06-13T05:03:31.749Z"
   },
   {
    "duration": 19,
    "start_time": "2022-06-13T05:03:31.794Z"
   },
   {
    "duration": 34,
    "start_time": "2022-06-13T05:03:31.815Z"
   },
   {
    "duration": 41,
    "start_time": "2022-06-13T05:03:31.851Z"
   },
   {
    "duration": 201,
    "start_time": "2022-06-13T05:03:31.894Z"
   },
   {
    "duration": 131,
    "start_time": "2022-06-13T05:03:32.096Z"
   },
   {
    "duration": 25,
    "start_time": "2022-06-13T05:03:32.230Z"
   },
   {
    "duration": 25,
    "start_time": "2022-06-13T05:03:32.256Z"
   },
   {
    "duration": 2651,
    "start_time": "2022-06-13T05:03:32.282Z"
   },
   {
    "duration": 1571,
    "start_time": "2022-06-13T05:03:34.936Z"
   },
   {
    "duration": 336,
    "start_time": "2022-06-13T05:03:36.508Z"
   },
   {
    "duration": 363,
    "start_time": "2022-06-13T05:03:36.845Z"
   },
   {
    "duration": 818,
    "start_time": "2022-06-13T05:03:37.209Z"
   },
   {
    "duration": 362,
    "start_time": "2022-06-13T05:03:38.029Z"
   },
   {
    "duration": 835,
    "start_time": "2022-06-13T05:05:12.804Z"
   },
   {
    "duration": 163,
    "start_time": "2022-06-13T05:05:26.544Z"
   },
   {
    "duration": 374,
    "start_time": "2022-06-13T05:05:31.214Z"
   },
   {
    "duration": 2497,
    "start_time": "2022-06-13T05:06:32.055Z"
   },
   {
    "duration": 2543,
    "start_time": "2022-06-13T05:06:44.309Z"
   },
   {
    "duration": 3,
    "start_time": "2022-06-13T05:07:02.401Z"
   },
   {
    "duration": 56,
    "start_time": "2022-06-13T05:07:02.406Z"
   },
   {
    "duration": 11,
    "start_time": "2022-06-13T05:07:02.464Z"
   },
   {
    "duration": 12,
    "start_time": "2022-06-13T05:07:02.477Z"
   },
   {
    "duration": 7,
    "start_time": "2022-06-13T05:07:02.491Z"
   },
   {
    "duration": 4,
    "start_time": "2022-06-13T05:07:02.500Z"
   },
   {
    "duration": 27,
    "start_time": "2022-06-13T05:07:02.506Z"
   },
   {
    "duration": 159,
    "start_time": "2022-06-13T05:07:02.534Z"
   },
   {
    "duration": 107,
    "start_time": "2022-06-13T05:07:02.695Z"
   },
   {
    "duration": 30,
    "start_time": "2022-06-13T05:07:02.804Z"
   },
   {
    "duration": 23,
    "start_time": "2022-06-13T05:07:02.836Z"
   },
   {
    "duration": 2592,
    "start_time": "2022-06-13T05:07:02.861Z"
   },
   {
    "duration": 1633,
    "start_time": "2022-06-13T05:07:05.455Z"
   },
   {
    "duration": 344,
    "start_time": "2022-06-13T05:07:07.090Z"
   },
   {
    "duration": 336,
    "start_time": "2022-06-13T05:07:07.435Z"
   },
   {
    "duration": 169,
    "start_time": "2022-06-13T05:07:07.773Z"
   },
   {
    "duration": 378,
    "start_time": "2022-06-13T05:07:07.944Z"
   },
   {
    "duration": 1397,
    "start_time": "2022-06-13T05:08:52.796Z"
   },
   {
    "duration": 825,
    "start_time": "2022-06-13T05:09:53.203Z"
   },
   {
    "duration": 3,
    "start_time": "2022-06-13T05:18:09.744Z"
   },
   {
    "duration": 68,
    "start_time": "2022-06-13T05:18:09.752Z"
   },
   {
    "duration": 12,
    "start_time": "2022-06-13T05:18:09.822Z"
   },
   {
    "duration": 31,
    "start_time": "2022-06-13T05:18:09.836Z"
   },
   {
    "duration": 11,
    "start_time": "2022-06-13T05:18:09.869Z"
   },
   {
    "duration": 15,
    "start_time": "2022-06-13T05:18:09.883Z"
   },
   {
    "duration": 22,
    "start_time": "2022-06-13T05:18:09.899Z"
   },
   {
    "duration": 154,
    "start_time": "2022-06-13T05:18:09.923Z"
   },
   {
    "duration": 99,
    "start_time": "2022-06-13T05:18:10.079Z"
   },
   {
    "duration": 24,
    "start_time": "2022-06-13T05:18:10.180Z"
   },
   {
    "duration": 33,
    "start_time": "2022-06-13T05:18:10.205Z"
   },
   {
    "duration": 2495,
    "start_time": "2022-06-13T05:18:10.239Z"
   },
   {
    "duration": 1558,
    "start_time": "2022-06-13T05:18:12.736Z"
   },
   {
    "duration": 336,
    "start_time": "2022-06-13T05:18:14.296Z"
   },
   {
    "duration": 352,
    "start_time": "2022-06-13T05:18:14.635Z"
   },
   {
    "duration": 166,
    "start_time": "2022-06-13T05:18:14.988Z"
   },
   {
    "duration": 375,
    "start_time": "2022-06-13T05:18:15.156Z"
   },
   {
    "duration": 363,
    "start_time": "2022-06-13T05:18:23.102Z"
   },
   {
    "duration": 381,
    "start_time": "2022-06-13T05:19:36.608Z"
   },
   {
    "duration": 402,
    "start_time": "2022-06-13T05:20:13.285Z"
   },
   {
    "duration": 396,
    "start_time": "2022-06-13T05:20:22.615Z"
   },
   {
    "duration": 384,
    "start_time": "2022-06-13T05:20:37.497Z"
   },
   {
    "duration": 433,
    "start_time": "2022-06-13T05:21:01.094Z"
   },
   {
    "duration": 478,
    "start_time": "2022-06-13T05:21:12.243Z"
   },
   {
    "duration": 554,
    "start_time": "2022-06-13T05:21:29.597Z"
   },
   {
    "duration": 414,
    "start_time": "2022-06-13T05:21:44.621Z"
   },
   {
    "duration": 384,
    "start_time": "2022-06-13T05:25:42.020Z"
   },
   {
    "duration": 333,
    "start_time": "2022-06-13T05:25:49.160Z"
   },
   {
    "duration": 344,
    "start_time": "2022-06-13T05:28:48.903Z"
   },
   {
    "duration": 337,
    "start_time": "2022-06-13T05:28:57.860Z"
   },
   {
    "duration": 3,
    "start_time": "2022-06-13T05:29:53.625Z"
   },
   {
    "duration": 50,
    "start_time": "2022-06-13T05:29:53.630Z"
   },
   {
    "duration": 11,
    "start_time": "2022-06-13T05:29:53.682Z"
   },
   {
    "duration": 12,
    "start_time": "2022-06-13T05:29:53.695Z"
   },
   {
    "duration": 6,
    "start_time": "2022-06-13T05:29:53.709Z"
   },
   {
    "duration": 13,
    "start_time": "2022-06-13T05:29:53.716Z"
   },
   {
    "duration": 13,
    "start_time": "2022-06-13T05:29:53.730Z"
   },
   {
    "duration": 204,
    "start_time": "2022-06-13T05:29:53.745Z"
   },
   {
    "duration": 125,
    "start_time": "2022-06-13T05:29:53.951Z"
   },
   {
    "duration": 26,
    "start_time": "2022-06-13T05:29:54.079Z"
   },
   {
    "duration": 39,
    "start_time": "2022-06-13T05:29:54.107Z"
   },
   {
    "duration": 365,
    "start_time": "2022-06-13T05:29:54.147Z"
   },
   {
    "duration": 0,
    "start_time": "2022-06-13T05:29:54.513Z"
   },
   {
    "duration": 0,
    "start_time": "2022-06-13T05:29:54.514Z"
   },
   {
    "duration": 0,
    "start_time": "2022-06-13T05:29:54.515Z"
   },
   {
    "duration": 0,
    "start_time": "2022-06-13T05:29:54.517Z"
   },
   {
    "duration": 0,
    "start_time": "2022-06-13T05:29:54.528Z"
   },
   {
    "duration": 5,
    "start_time": "2022-06-13T05:30:57.162Z"
   },
   {
    "duration": 55,
    "start_time": "2022-06-13T05:30:57.168Z"
   },
   {
    "duration": 12,
    "start_time": "2022-06-13T05:30:57.225Z"
   },
   {
    "duration": 19,
    "start_time": "2022-06-13T05:30:57.240Z"
   },
   {
    "duration": 7,
    "start_time": "2022-06-13T05:30:57.260Z"
   },
   {
    "duration": 9,
    "start_time": "2022-06-13T05:30:57.270Z"
   },
   {
    "duration": 16,
    "start_time": "2022-06-13T05:30:57.281Z"
   },
   {
    "duration": 175,
    "start_time": "2022-06-13T05:30:57.299Z"
   },
   {
    "duration": 124,
    "start_time": "2022-06-13T05:30:57.477Z"
   },
   {
    "duration": 31,
    "start_time": "2022-06-13T05:30:57.603Z"
   },
   {
    "duration": 24,
    "start_time": "2022-06-13T05:30:57.636Z"
   },
   {
    "duration": 2465,
    "start_time": "2022-06-13T05:30:57.662Z"
   },
   {
    "duration": 1571,
    "start_time": "2022-06-13T05:31:00.130Z"
   },
   {
    "duration": 381,
    "start_time": "2022-06-13T05:31:01.703Z"
   },
   {
    "duration": 386,
    "start_time": "2022-06-13T05:31:02.086Z"
   },
   {
    "duration": 222,
    "start_time": "2022-06-13T05:31:02.474Z"
   },
   {
    "duration": 449,
    "start_time": "2022-06-13T05:31:02.698Z"
   },
   {
    "duration": 2307,
    "start_time": "2022-06-13T05:33:13.024Z"
   },
   {
    "duration": 1462,
    "start_time": "2022-06-13T05:33:29.834Z"
   },
   {
    "duration": 1212,
    "start_time": "2022-06-13T05:33:56.070Z"
   },
   {
    "duration": 1446,
    "start_time": "2022-06-13T05:34:14.923Z"
   },
   {
    "duration": 11,
    "start_time": "2022-06-13T05:38:33.942Z"
   },
   {
    "duration": 4,
    "start_time": "2022-06-13T05:38:38.622Z"
   },
   {
    "duration": 51,
    "start_time": "2022-06-13T05:38:38.628Z"
   },
   {
    "duration": 12,
    "start_time": "2022-06-13T05:38:38.680Z"
   },
   {
    "duration": 11,
    "start_time": "2022-06-13T05:38:38.803Z"
   },
   {
    "duration": 7,
    "start_time": "2022-06-13T05:38:38.816Z"
   },
   {
    "duration": 5,
    "start_time": "2022-06-13T05:38:38.824Z"
   },
   {
    "duration": 15,
    "start_time": "2022-06-13T05:38:38.831Z"
   },
   {
    "duration": 162,
    "start_time": "2022-06-13T05:38:38.848Z"
   },
   {
    "duration": 108,
    "start_time": "2022-06-13T05:38:39.011Z"
   },
   {
    "duration": 29,
    "start_time": "2022-06-13T05:38:39.120Z"
   },
   {
    "duration": 24,
    "start_time": "2022-06-13T05:38:39.151Z"
   },
   {
    "duration": 2674,
    "start_time": "2022-06-13T05:38:39.177Z"
   },
   {
    "duration": 1569,
    "start_time": "2022-06-13T05:38:41.853Z"
   },
   {
    "duration": 330,
    "start_time": "2022-06-13T05:38:43.424Z"
   },
   {
    "duration": 358,
    "start_time": "2022-06-13T05:38:43.756Z"
   },
   {
    "duration": 1338,
    "start_time": "2022-06-13T05:38:44.115Z"
   },
   {
    "duration": 416,
    "start_time": "2022-06-13T05:38:45.455Z"
   },
   {
    "duration": 8,
    "start_time": "2022-06-13T05:42:48.044Z"
   },
   {
    "duration": 4,
    "start_time": "2022-06-13T05:43:03.811Z"
   },
   {
    "duration": 3,
    "start_time": "2022-06-13T05:43:08.706Z"
   },
   {
    "duration": 62,
    "start_time": "2022-06-13T05:43:08.711Z"
   },
   {
    "duration": 13,
    "start_time": "2022-06-13T05:43:08.774Z"
   },
   {
    "duration": 14,
    "start_time": "2022-06-13T05:43:08.789Z"
   },
   {
    "duration": 6,
    "start_time": "2022-06-13T05:43:08.804Z"
   },
   {
    "duration": 5,
    "start_time": "2022-06-13T05:43:08.812Z"
   },
   {
    "duration": 15,
    "start_time": "2022-06-13T05:43:08.819Z"
   },
   {
    "duration": 34,
    "start_time": "2022-06-13T05:43:08.836Z"
   },
   {
    "duration": 0,
    "start_time": "2022-06-13T05:43:08.873Z"
   },
   {
    "duration": 0,
    "start_time": "2022-06-13T05:43:08.874Z"
   },
   {
    "duration": 0,
    "start_time": "2022-06-13T05:43:08.875Z"
   },
   {
    "duration": 0,
    "start_time": "2022-06-13T05:43:08.876Z"
   },
   {
    "duration": 0,
    "start_time": "2022-06-13T05:43:08.878Z"
   },
   {
    "duration": 0,
    "start_time": "2022-06-13T05:43:08.879Z"
   },
   {
    "duration": 0,
    "start_time": "2022-06-13T05:43:08.881Z"
   },
   {
    "duration": 0,
    "start_time": "2022-06-13T05:43:08.882Z"
   },
   {
    "duration": 0,
    "start_time": "2022-06-13T05:43:08.884Z"
   },
   {
    "duration": 34,
    "start_time": "2022-06-13T05:43:28.262Z"
   },
   {
    "duration": 29,
    "start_time": "2022-06-13T05:43:38.023Z"
   },
   {
    "duration": 7,
    "start_time": "2022-06-13T05:43:40.592Z"
   },
   {
    "duration": 5,
    "start_time": "2022-06-13T05:43:42.758Z"
   },
   {
    "duration": 13,
    "start_time": "2022-06-13T05:43:44.624Z"
   },
   {
    "duration": 873,
    "start_time": "2022-06-13T05:43:47.761Z"
   },
   {
    "duration": 92,
    "start_time": "2022-06-13T05:43:51.524Z"
   },
   {
    "duration": 32,
    "start_time": "2022-06-13T05:43:56.842Z"
   },
   {
    "duration": 34,
    "start_time": "2022-06-13T05:44:04.102Z"
   },
   {
    "duration": 61,
    "start_time": "2022-06-13T05:44:07.367Z"
   },
   {
    "duration": 129,
    "start_time": "2022-06-13T05:44:10.539Z"
   },
   {
    "duration": 8,
    "start_time": "2022-06-13T05:44:46.040Z"
   },
   {
    "duration": 7,
    "start_time": "2022-06-13T05:44:50.882Z"
   },
   {
    "duration": 4,
    "start_time": "2022-06-13T05:44:53.322Z"
   },
   {
    "duration": 52,
    "start_time": "2022-06-13T05:44:53.328Z"
   },
   {
    "duration": 11,
    "start_time": "2022-06-13T05:44:53.381Z"
   },
   {
    "duration": 15,
    "start_time": "2022-06-13T05:44:53.394Z"
   },
   {
    "duration": 7,
    "start_time": "2022-06-13T05:44:53.411Z"
   },
   {
    "duration": 9,
    "start_time": "2022-06-13T05:44:53.419Z"
   },
   {
    "duration": 12,
    "start_time": "2022-06-13T05:44:53.430Z"
   },
   {
    "duration": 24,
    "start_time": "2022-06-13T05:44:53.444Z"
   },
   {
    "duration": 0,
    "start_time": "2022-06-13T05:44:53.470Z"
   },
   {
    "duration": 0,
    "start_time": "2022-06-13T05:44:53.471Z"
   },
   {
    "duration": 0,
    "start_time": "2022-06-13T05:44:53.472Z"
   },
   {
    "duration": 0,
    "start_time": "2022-06-13T05:44:53.474Z"
   },
   {
    "duration": 0,
    "start_time": "2022-06-13T05:44:53.475Z"
   },
   {
    "duration": 0,
    "start_time": "2022-06-13T05:44:53.476Z"
   },
   {
    "duration": 0,
    "start_time": "2022-06-13T05:44:53.478Z"
   },
   {
    "duration": 0,
    "start_time": "2022-06-13T05:44:53.479Z"
   },
   {
    "duration": 0,
    "start_time": "2022-06-13T05:44:53.480Z"
   },
   {
    "duration": 4,
    "start_time": "2022-06-13T05:45:19.682Z"
   },
   {
    "duration": 54,
    "start_time": "2022-06-13T05:45:19.688Z"
   },
   {
    "duration": 18,
    "start_time": "2022-06-13T05:45:19.744Z"
   },
   {
    "duration": 24,
    "start_time": "2022-06-13T05:45:19.764Z"
   },
   {
    "duration": 9,
    "start_time": "2022-06-13T05:45:19.791Z"
   },
   {
    "duration": 9,
    "start_time": "2022-06-13T05:45:19.802Z"
   },
   {
    "duration": 34,
    "start_time": "2022-06-13T05:45:19.813Z"
   },
   {
    "duration": 44,
    "start_time": "2022-06-13T05:45:19.849Z"
   },
   {
    "duration": 8,
    "start_time": "2022-06-13T05:45:19.895Z"
   },
   {
    "duration": 23,
    "start_time": "2022-06-13T05:45:19.904Z"
   },
   {
    "duration": 17,
    "start_time": "2022-06-13T05:45:19.929Z"
   },
   {
    "duration": 2081,
    "start_time": "2022-06-13T05:45:19.947Z"
   },
   {
    "duration": 130,
    "start_time": "2022-06-13T05:45:22.030Z"
   },
   {
    "duration": 35,
    "start_time": "2022-06-13T05:45:22.163Z"
   },
   {
    "duration": 53,
    "start_time": "2022-06-13T05:45:22.199Z"
   },
   {
    "duration": 60,
    "start_time": "2022-06-13T05:45:22.254Z"
   },
   {
    "duration": 160,
    "start_time": "2022-06-13T05:45:22.315Z"
   },
   {
    "duration": 4,
    "start_time": "2022-06-13T05:50:08.431Z"
   },
   {
    "duration": 55,
    "start_time": "2022-06-13T05:50:08.436Z"
   },
   {
    "duration": 12,
    "start_time": "2022-06-13T05:50:08.492Z"
   },
   {
    "duration": 13,
    "start_time": "2022-06-13T05:50:08.506Z"
   },
   {
    "duration": 7,
    "start_time": "2022-06-13T05:50:08.520Z"
   },
   {
    "duration": 6,
    "start_time": "2022-06-13T05:50:08.529Z"
   },
   {
    "duration": 17,
    "start_time": "2022-06-13T05:50:08.536Z"
   },
   {
    "duration": 31,
    "start_time": "2022-06-13T05:50:08.554Z"
   },
   {
    "duration": 6,
    "start_time": "2022-06-13T05:50:08.587Z"
   },
   {
    "duration": 7,
    "start_time": "2022-06-13T05:50:08.595Z"
   },
   {
    "duration": 14,
    "start_time": "2022-06-13T05:50:08.626Z"
   },
   {
    "duration": 993,
    "start_time": "2022-06-13T05:50:08.641Z"
   },
   {
    "duration": 271,
    "start_time": "2022-06-13T05:50:09.636Z"
   },
   {
    "duration": 41,
    "start_time": "2022-06-13T05:50:09.909Z"
   },
   {
    "duration": 36,
    "start_time": "2022-06-13T05:50:09.952Z"
   },
   {
    "duration": 83,
    "start_time": "2022-06-13T05:50:09.990Z"
   },
   {
    "duration": 144,
    "start_time": "2022-06-13T05:50:10.075Z"
   },
   {
    "duration": 1099,
    "start_time": "2022-06-14T05:16:54.261Z"
   },
   {
    "duration": 99,
    "start_time": "2022-06-14T05:16:55.362Z"
   },
   {
    "duration": 13,
    "start_time": "2022-06-14T05:16:55.462Z"
   },
   {
    "duration": 15,
    "start_time": "2022-06-14T05:16:55.476Z"
   },
   {
    "duration": 7,
    "start_time": "2022-06-14T05:16:55.492Z"
   },
   {
    "duration": 10,
    "start_time": "2022-06-14T05:16:55.500Z"
   },
   {
    "duration": 15,
    "start_time": "2022-06-14T05:16:55.511Z"
   },
   {
    "duration": 140,
    "start_time": "2022-06-14T05:17:05.481Z"
   },
   {
    "duration": 43,
    "start_time": "2022-06-14T05:17:28.614Z"
   },
   {
    "duration": 41,
    "start_time": "2022-06-14T05:17:58.719Z"
   },
   {
    "duration": 21,
    "start_time": "2022-06-14T05:20:16.746Z"
   },
   {
    "duration": 50,
    "start_time": "2022-06-14T05:20:23.479Z"
   },
   {
    "duration": 114,
    "start_time": "2022-06-14T05:21:30.069Z"
   },
   {
    "duration": 5,
    "start_time": "2022-06-14T05:21:46.423Z"
   },
   {
    "duration": 53,
    "start_time": "2022-06-14T05:21:46.430Z"
   },
   {
    "duration": 12,
    "start_time": "2022-06-14T05:21:46.485Z"
   },
   {
    "duration": 27,
    "start_time": "2022-06-14T05:21:46.499Z"
   },
   {
    "duration": 40,
    "start_time": "2022-06-14T05:21:46.528Z"
   },
   {
    "duration": 24,
    "start_time": "2022-06-14T05:21:46.570Z"
   },
   {
    "duration": 31,
    "start_time": "2022-06-14T05:21:46.596Z"
   },
   {
    "duration": 57,
    "start_time": "2022-06-14T05:21:49.349Z"
   },
   {
    "duration": 296,
    "start_time": "2022-06-14T05:28:19.935Z"
   },
   {
    "duration": 295,
    "start_time": "2022-06-14T05:28:35.254Z"
   },
   {
    "duration": 4,
    "start_time": "2022-06-14T05:28:54.210Z"
   },
   {
    "duration": 53,
    "start_time": "2022-06-14T05:28:54.219Z"
   },
   {
    "duration": 12,
    "start_time": "2022-06-14T05:28:54.274Z"
   },
   {
    "duration": 14,
    "start_time": "2022-06-14T05:28:54.287Z"
   },
   {
    "duration": 8,
    "start_time": "2022-06-14T05:28:54.303Z"
   },
   {
    "duration": 10,
    "start_time": "2022-06-14T05:28:54.312Z"
   },
   {
    "duration": 29,
    "start_time": "2022-06-14T05:28:54.324Z"
   },
   {
    "duration": 350,
    "start_time": "2022-06-14T05:28:56.877Z"
   },
   {
    "duration": 167,
    "start_time": "2022-06-14T05:29:30.509Z"
   },
   {
    "duration": 162,
    "start_time": "2022-06-14T05:30:17.449Z"
   },
   {
    "duration": 147,
    "start_time": "2022-06-14T05:30:37.752Z"
   },
   {
    "duration": 14,
    "start_time": "2022-06-14T05:30:48.749Z"
   },
   {
    "duration": 11,
    "start_time": "2022-06-14T05:31:03.749Z"
   },
   {
    "duration": 4,
    "start_time": "2022-06-14T05:31:07.680Z"
   },
   {
    "duration": 56,
    "start_time": "2022-06-14T05:31:07.688Z"
   },
   {
    "duration": 13,
    "start_time": "2022-06-14T05:31:07.745Z"
   },
   {
    "duration": 14,
    "start_time": "2022-06-14T05:31:07.760Z"
   },
   {
    "duration": 6,
    "start_time": "2022-06-14T05:31:07.776Z"
   },
   {
    "duration": 7,
    "start_time": "2022-06-14T05:31:07.783Z"
   },
   {
    "duration": 12,
    "start_time": "2022-06-14T05:31:07.791Z"
   },
   {
    "duration": 153,
    "start_time": "2022-06-14T05:31:09.597Z"
   },
   {
    "duration": 103,
    "start_time": "2022-06-14T05:31:33.310Z"
   },
   {
    "duration": 15,
    "start_time": "2022-06-14T05:31:35.572Z"
   },
   {
    "duration": 13,
    "start_time": "2022-06-14T05:31:50.770Z"
   },
   {
    "duration": 4,
    "start_time": "2022-06-14T05:31:58.025Z"
   },
   {
    "duration": 66,
    "start_time": "2022-06-14T05:31:58.033Z"
   },
   {
    "duration": 13,
    "start_time": "2022-06-14T05:31:58.101Z"
   },
   {
    "duration": 17,
    "start_time": "2022-06-14T05:31:58.115Z"
   },
   {
    "duration": 8,
    "start_time": "2022-06-14T05:31:58.135Z"
   },
   {
    "duration": 15,
    "start_time": "2022-06-14T05:31:58.145Z"
   },
   {
    "duration": 14,
    "start_time": "2022-06-14T05:31:58.161Z"
   },
   {
    "duration": 180,
    "start_time": "2022-06-14T05:31:58.177Z"
   },
   {
    "duration": 130,
    "start_time": "2022-06-14T05:31:58.359Z"
   },
   {
    "duration": 15,
    "start_time": "2022-06-14T05:31:58.490Z"
   },
   {
    "duration": 0,
    "start_time": "2022-06-14T05:31:58.507Z"
   },
   {
    "duration": 0,
    "start_time": "2022-06-14T05:31:58.508Z"
   },
   {
    "duration": 0,
    "start_time": "2022-06-14T05:31:58.510Z"
   },
   {
    "duration": 0,
    "start_time": "2022-06-14T05:31:58.511Z"
   },
   {
    "duration": 0,
    "start_time": "2022-06-14T05:31:58.513Z"
   },
   {
    "duration": 0,
    "start_time": "2022-06-14T05:31:58.514Z"
   },
   {
    "duration": 0,
    "start_time": "2022-06-14T05:31:58.515Z"
   },
   {
    "duration": 299,
    "start_time": "2022-06-14T05:32:56.130Z"
   },
   {
    "duration": 301,
    "start_time": "2022-06-14T05:33:16.870Z"
   },
   {
    "duration": 11,
    "start_time": "2022-06-14T05:36:29.350Z"
   },
   {
    "duration": 4,
    "start_time": "2022-06-14T05:36:39.885Z"
   },
   {
    "duration": 58,
    "start_time": "2022-06-14T05:36:39.891Z"
   },
   {
    "duration": 13,
    "start_time": "2022-06-14T05:36:39.951Z"
   },
   {
    "duration": 28,
    "start_time": "2022-06-14T05:36:39.966Z"
   },
   {
    "duration": 7,
    "start_time": "2022-06-14T05:36:39.996Z"
   },
   {
    "duration": 17,
    "start_time": "2022-06-14T05:36:40.005Z"
   },
   {
    "duration": 27,
    "start_time": "2022-06-14T05:36:40.024Z"
   },
   {
    "duration": 176,
    "start_time": "2022-06-14T05:36:42.496Z"
   },
   {
    "duration": 189,
    "start_time": "2022-06-14T05:36:54.272Z"
   },
   {
    "duration": 166,
    "start_time": "2022-06-14T05:37:24.180Z"
   },
   {
    "duration": 176,
    "start_time": "2022-06-14T05:38:10.274Z"
   },
   {
    "duration": 180,
    "start_time": "2022-06-14T05:38:15.471Z"
   },
   {
    "duration": 4,
    "start_time": "2022-06-14T05:38:20.984Z"
   },
   {
    "duration": 56,
    "start_time": "2022-06-14T05:38:20.991Z"
   },
   {
    "duration": 13,
    "start_time": "2022-06-14T05:38:21.049Z"
   },
   {
    "duration": 16,
    "start_time": "2022-06-14T05:38:21.064Z"
   },
   {
    "duration": 8,
    "start_time": "2022-06-14T05:38:21.082Z"
   },
   {
    "duration": 10,
    "start_time": "2022-06-14T05:38:21.091Z"
   },
   {
    "duration": 17,
    "start_time": "2022-06-14T05:38:21.102Z"
   },
   {
    "duration": 162,
    "start_time": "2022-06-14T05:38:29.840Z"
   },
   {
    "duration": 5,
    "start_time": "2022-06-14T05:57:28.124Z"
   },
   {
    "duration": 55,
    "start_time": "2022-06-14T05:57:28.133Z"
   },
   {
    "duration": 13,
    "start_time": "2022-06-14T05:57:28.191Z"
   },
   {
    "duration": 24,
    "start_time": "2022-06-14T05:57:28.205Z"
   },
   {
    "duration": 8,
    "start_time": "2022-06-14T05:57:28.232Z"
   },
   {
    "duration": 9,
    "start_time": "2022-06-14T05:57:28.243Z"
   },
   {
    "duration": 13,
    "start_time": "2022-06-14T05:57:28.255Z"
   },
   {
    "duration": 175,
    "start_time": "2022-06-14T05:57:28.270Z"
   },
   {
    "duration": 0,
    "start_time": "2022-06-14T05:57:28.447Z"
   },
   {
    "duration": 0,
    "start_time": "2022-06-14T05:57:28.452Z"
   },
   {
    "duration": 0,
    "start_time": "2022-06-14T05:57:28.453Z"
   },
   {
    "duration": 0,
    "start_time": "2022-06-14T05:57:28.454Z"
   },
   {
    "duration": 0,
    "start_time": "2022-06-14T05:57:28.456Z"
   },
   {
    "duration": 0,
    "start_time": "2022-06-14T05:57:28.457Z"
   },
   {
    "duration": 0,
    "start_time": "2022-06-14T05:57:28.458Z"
   },
   {
    "duration": 0,
    "start_time": "2022-06-14T05:57:28.459Z"
   },
   {
    "duration": 0,
    "start_time": "2022-06-14T05:57:28.460Z"
   },
   {
    "duration": 377,
    "start_time": "2022-06-14T06:08:36.822Z"
   },
   {
    "duration": 704,
    "start_time": "2022-06-14T06:13:13.227Z"
   },
   {
    "duration": 374,
    "start_time": "2022-06-14T06:13:35.067Z"
   },
   {
    "duration": 147,
    "start_time": "2022-06-14T06:13:41.380Z"
   },
   {
    "duration": 14,
    "start_time": "2022-06-14T06:13:45.696Z"
   },
   {
    "duration": 12,
    "start_time": "2022-06-14T06:13:59.207Z"
   },
   {
    "duration": 14,
    "start_time": "2022-06-14T06:14:00.236Z"
   },
   {
    "duration": 9,
    "start_time": "2022-06-14T06:23:22.025Z"
   },
   {
    "duration": 380,
    "start_time": "2022-06-14T06:26:57.373Z"
   },
   {
    "duration": 371,
    "start_time": "2022-06-14T06:27:05.817Z"
   },
   {
    "duration": 332,
    "start_time": "2022-06-14T06:27:09.854Z"
   },
   {
    "duration": 4,
    "start_time": "2022-06-14T06:27:18.504Z"
   },
   {
    "duration": 46,
    "start_time": "2022-06-14T06:27:18.532Z"
   },
   {
    "duration": 11,
    "start_time": "2022-06-14T06:27:18.580Z"
   },
   {
    "duration": 12,
    "start_time": "2022-06-14T06:27:18.611Z"
   },
   {
    "duration": 6,
    "start_time": "2022-06-14T06:27:18.788Z"
   },
   {
    "duration": 11,
    "start_time": "2022-06-14T06:27:18.796Z"
   },
   {
    "duration": 11,
    "start_time": "2022-06-14T06:27:18.808Z"
   },
   {
    "duration": 4,
    "start_time": "2022-06-14T06:27:24.366Z"
   },
   {
    "duration": 6,
    "start_time": "2022-06-14T06:28:39.191Z"
   },
   {
    "duration": 16,
    "start_time": "2022-06-14T06:29:13.830Z"
   },
   {
    "duration": 209,
    "start_time": "2022-06-14T06:30:52.962Z"
   },
   {
    "duration": 331,
    "start_time": "2022-06-14T06:32:48.440Z"
   },
   {
    "duration": 4,
    "start_time": "2022-06-14T06:32:56.837Z"
   },
   {
    "duration": 50,
    "start_time": "2022-06-14T06:32:56.843Z"
   },
   {
    "duration": 13,
    "start_time": "2022-06-14T06:32:56.895Z"
   },
   {
    "duration": 15,
    "start_time": "2022-06-14T06:32:56.909Z"
   },
   {
    "duration": 8,
    "start_time": "2022-06-14T06:32:57.006Z"
   },
   {
    "duration": 5,
    "start_time": "2022-06-14T06:32:57.016Z"
   },
   {
    "duration": 16,
    "start_time": "2022-06-14T06:32:57.022Z"
   },
   {
    "duration": 202,
    "start_time": "2022-06-14T06:32:57.043Z"
   },
   {
    "duration": 102,
    "start_time": "2022-06-14T06:32:57.252Z"
   },
   {
    "duration": 25,
    "start_time": "2022-06-14T06:32:57.356Z"
   },
   {
    "duration": 26,
    "start_time": "2022-06-14T06:32:57.383Z"
   },
   {
    "duration": 2066,
    "start_time": "2022-06-14T06:32:57.411Z"
   },
   {
    "duration": 1580,
    "start_time": "2022-06-14T06:32:59.553Z"
   },
   {
    "duration": 349,
    "start_time": "2022-06-14T06:33:01.136Z"
   },
   {
    "duration": 351,
    "start_time": "2022-06-14T06:33:01.486Z"
   },
   {
    "duration": 1041,
    "start_time": "2022-06-14T06:33:01.839Z"
   },
   {
    "duration": 421,
    "start_time": "2022-06-14T06:33:02.882Z"
   },
   {
    "duration": 27,
    "start_time": "2022-06-14T06:33:36.854Z"
   },
   {
    "duration": 1450,
    "start_time": "2022-06-14T06:34:11.584Z"
   },
   {
    "duration": 1444,
    "start_time": "2022-06-14T06:34:53.557Z"
   },
   {
    "duration": 2195,
    "start_time": "2022-06-14T06:35:36.256Z"
   },
   {
    "duration": 2102,
    "start_time": "2022-06-14T06:35:59.572Z"
   },
   {
    "duration": 343,
    "start_time": "2022-06-14T06:37:06.508Z"
   },
   {
    "duration": 1025,
    "start_time": "2022-06-14T06:37:46.129Z"
   },
   {
    "duration": 362,
    "start_time": "2022-06-14T06:37:54.895Z"
   },
   {
    "duration": 21,
    "start_time": "2022-06-14T06:38:32.027Z"
   },
   {
    "duration": 3,
    "start_time": "2022-06-14T06:39:08.170Z"
   },
   {
    "duration": 51,
    "start_time": "2022-06-14T06:39:08.230Z"
   },
   {
    "duration": 15,
    "start_time": "2022-06-14T06:39:08.284Z"
   },
   {
    "duration": 16,
    "start_time": "2022-06-14T06:39:08.300Z"
   },
   {
    "duration": 8,
    "start_time": "2022-06-14T06:39:08.389Z"
   },
   {
    "duration": 5,
    "start_time": "2022-06-14T06:39:08.405Z"
   },
   {
    "duration": 11,
    "start_time": "2022-06-14T06:39:08.490Z"
   },
   {
    "duration": 198,
    "start_time": "2022-06-14T06:39:08.585Z"
   },
   {
    "duration": 109,
    "start_time": "2022-06-14T06:39:08.785Z"
   },
   {
    "duration": 25,
    "start_time": "2022-06-14T06:39:08.896Z"
   },
   {
    "duration": 39,
    "start_time": "2022-06-14T06:39:08.927Z"
   },
   {
    "duration": 2595,
    "start_time": "2022-06-14T06:39:08.981Z"
   },
   {
    "duration": 1652,
    "start_time": "2022-06-14T06:39:11.578Z"
   },
   {
    "duration": 335,
    "start_time": "2022-06-14T06:39:13.231Z"
   },
   {
    "duration": 350,
    "start_time": "2022-06-14T06:39:13.568Z"
   },
   {
    "duration": 1014,
    "start_time": "2022-06-14T06:39:13.919Z"
   },
   {
    "duration": 437,
    "start_time": "2022-06-14T06:39:14.935Z"
   },
   {
    "duration": 673,
    "start_time": "2022-06-14T06:44:12.635Z"
   },
   {
    "duration": 422,
    "start_time": "2022-06-14T06:44:18.026Z"
   },
   {
    "duration": 469,
    "start_time": "2022-06-14T06:44:23.368Z"
   },
   {
    "duration": 470,
    "start_time": "2022-06-14T06:44:36.167Z"
   },
   {
    "duration": 668,
    "start_time": "2022-06-14T06:44:44.754Z"
   },
   {
    "duration": 403,
    "start_time": "2022-06-14T06:44:49.342Z"
   },
   {
    "duration": 484,
    "start_time": "2022-06-14T06:44:53.407Z"
   },
   {
    "duration": 510,
    "start_time": "2022-06-14T06:44:58.716Z"
   },
   {
    "duration": 814,
    "start_time": "2022-06-14T06:45:03.573Z"
   },
   {
    "duration": 881,
    "start_time": "2022-06-14T06:45:07.850Z"
   },
   {
    "duration": 927,
    "start_time": "2022-06-14T06:45:11.321Z"
   },
   {
    "duration": 1651,
    "start_time": "2022-06-14T06:45:15.516Z"
   },
   {
    "duration": 749,
    "start_time": "2022-06-14T06:45:21.452Z"
   },
   {
    "duration": 608,
    "start_time": "2022-06-14T06:45:25.367Z"
   },
   {
    "duration": 514,
    "start_time": "2022-06-14T06:45:29.017Z"
   },
   {
    "duration": 482,
    "start_time": "2022-06-14T06:45:32.358Z"
   },
   {
    "duration": 400,
    "start_time": "2022-06-14T06:45:37.098Z"
   },
   {
    "duration": 479,
    "start_time": "2022-06-14T06:45:41.174Z"
   },
   {
    "duration": 415,
    "start_time": "2022-06-14T06:45:53.238Z"
   },
   {
    "duration": 401,
    "start_time": "2022-06-14T06:47:02.554Z"
   },
   {
    "duration": 385,
    "start_time": "2022-06-14T06:47:18.100Z"
   },
   {
    "duration": 505,
    "start_time": "2022-06-14T06:51:14.016Z"
   },
   {
    "duration": 644,
    "start_time": "2022-06-14T06:52:48.843Z"
   },
   {
    "duration": 4,
    "start_time": "2022-06-14T07:16:41.796Z"
   },
   {
    "duration": 8,
    "start_time": "2022-06-14T07:17:11.179Z"
   },
   {
    "duration": 4,
    "start_time": "2022-06-14T07:17:44.970Z"
   },
   {
    "duration": 16,
    "start_time": "2022-06-14T07:17:49.118Z"
   },
   {
    "duration": 6,
    "start_time": "2022-06-14T07:18:36.634Z"
   },
   {
    "duration": 8,
    "start_time": "2022-06-14T07:18:43.804Z"
   },
   {
    "duration": 149,
    "start_time": "2022-06-14T07:43:04.945Z"
   },
   {
    "duration": 150,
    "start_time": "2022-06-14T07:44:26.604Z"
   },
   {
    "duration": 31,
    "start_time": "2022-06-14T07:48:59.659Z"
   },
   {
    "duration": 149,
    "start_time": "2022-06-14T07:49:06.811Z"
   },
   {
    "duration": 143,
    "start_time": "2022-06-14T07:58:58.318Z"
   },
   {
    "duration": 149,
    "start_time": "2022-06-14T07:59:04.190Z"
   },
   {
    "duration": 141,
    "start_time": "2022-06-14T07:59:38.170Z"
   },
   {
    "duration": 146,
    "start_time": "2022-06-14T07:59:47.282Z"
   },
   {
    "duration": 158,
    "start_time": "2022-06-14T08:00:00.252Z"
   },
   {
    "duration": 148,
    "start_time": "2022-06-14T08:02:41.192Z"
   },
   {
    "duration": 151,
    "start_time": "2022-06-14T08:03:49.841Z"
   },
   {
    "duration": 140,
    "start_time": "2022-06-14T08:06:19.238Z"
   },
   {
    "duration": 4,
    "start_time": "2022-06-14T08:08:33.470Z"
   },
   {
    "duration": 46,
    "start_time": "2022-06-14T08:08:33.653Z"
   },
   {
    "duration": 12,
    "start_time": "2022-06-14T08:08:33.702Z"
   },
   {
    "duration": 28,
    "start_time": "2022-06-14T08:08:33.715Z"
   },
   {
    "duration": 16,
    "start_time": "2022-06-14T08:08:33.744Z"
   },
   {
    "duration": 6,
    "start_time": "2022-06-14T08:08:33.762Z"
   },
   {
    "duration": 12,
    "start_time": "2022-06-14T08:08:33.851Z"
   },
   {
    "duration": 198,
    "start_time": "2022-06-14T08:08:33.865Z"
   },
   {
    "duration": 102,
    "start_time": "2022-06-14T08:08:34.065Z"
   },
   {
    "duration": 25,
    "start_time": "2022-06-14T08:08:34.169Z"
   },
   {
    "duration": 32,
    "start_time": "2022-06-14T08:08:34.520Z"
   },
   {
    "duration": 2212,
    "start_time": "2022-06-14T08:08:34.554Z"
   },
   {
    "duration": 1621,
    "start_time": "2022-06-14T08:08:36.767Z"
   },
   {
    "duration": 348,
    "start_time": "2022-06-14T08:08:38.390Z"
   },
   {
    "duration": 350,
    "start_time": "2022-06-14T08:08:38.739Z"
   },
   {
    "duration": 472,
    "start_time": "2022-06-14T08:08:39.091Z"
   },
   {
    "duration": 653,
    "start_time": "2022-06-14T08:08:39.565Z"
   },
   {
    "duration": 135,
    "start_time": "2022-06-14T08:08:40.220Z"
   },
   {
    "duration": 122,
    "start_time": "2022-06-14T08:13:34.406Z"
   },
   {
    "duration": 124,
    "start_time": "2022-06-14T08:14:18.237Z"
   },
   {
    "duration": 129,
    "start_time": "2022-06-14T08:14:40.692Z"
   },
   {
    "duration": 144,
    "start_time": "2022-06-14T08:19:05.466Z"
   },
   {
    "duration": 155,
    "start_time": "2022-06-14T08:23:29.181Z"
   },
   {
    "duration": 151,
    "start_time": "2022-06-14T08:24:00.244Z"
   },
   {
    "duration": 329,
    "start_time": "2022-06-14T08:24:19.489Z"
   },
   {
    "duration": 441,
    "start_time": "2022-06-14T08:24:26.268Z"
   },
   {
    "duration": 5,
    "start_time": "2022-06-15T12:12:06.448Z"
   },
   {
    "duration": 767,
    "start_time": "2022-06-15T12:16:03.987Z"
   },
   {
    "duration": 809,
    "start_time": "2022-06-15T12:16:39.794Z"
   },
   {
    "duration": 850,
    "start_time": "2022-06-15T12:19:03.786Z"
   },
   {
    "duration": 806,
    "start_time": "2022-06-15T12:19:48.572Z"
   },
   {
    "duration": 303,
    "start_time": "2022-06-15T12:20:04.232Z"
   },
   {
    "duration": 353,
    "start_time": "2022-06-15T12:26:17.511Z"
   },
   {
    "duration": 14,
    "start_time": "2022-06-15T12:33:18.527Z"
   },
   {
    "duration": 137,
    "start_time": "2022-06-15T12:33:46.455Z"
   },
   {
    "duration": 356,
    "start_time": "2022-06-15T12:34:47.585Z"
   },
   {
    "duration": 398,
    "start_time": "2022-06-15T12:35:27.788Z"
   },
   {
    "duration": 346,
    "start_time": "2022-06-15T12:35:43.707Z"
   },
   {
    "duration": 372,
    "start_time": "2022-06-15T12:35:55.152Z"
   },
   {
    "duration": 3,
    "start_time": "2022-06-15T12:36:00.442Z"
   },
   {
    "duration": 53,
    "start_time": "2022-06-15T12:36:00.447Z"
   },
   {
    "duration": 12,
    "start_time": "2022-06-15T12:36:00.501Z"
   },
   {
    "duration": 18,
    "start_time": "2022-06-15T12:36:00.514Z"
   },
   {
    "duration": 23,
    "start_time": "2022-06-15T12:36:00.534Z"
   },
   {
    "duration": 13,
    "start_time": "2022-06-15T12:36:00.559Z"
   },
   {
    "duration": 10,
    "start_time": "2022-06-15T12:36:00.688Z"
   },
   {
    "duration": 195,
    "start_time": "2022-06-15T12:36:00.700Z"
   },
   {
    "duration": 95,
    "start_time": "2022-06-15T12:36:00.898Z"
   },
   {
    "duration": 27,
    "start_time": "2022-06-15T12:36:00.994Z"
   },
   {
    "duration": 29,
    "start_time": "2022-06-15T12:36:01.023Z"
   },
   {
    "duration": 2656,
    "start_time": "2022-06-15T12:36:01.054Z"
   },
   {
    "duration": 1580,
    "start_time": "2022-06-15T12:36:03.712Z"
   },
   {
    "duration": 366,
    "start_time": "2022-06-15T12:36:05.293Z"
   },
   {
    "duration": 336,
    "start_time": "2022-06-15T12:36:05.661Z"
   },
   {
    "duration": 485,
    "start_time": "2022-06-15T12:36:05.998Z"
   },
   {
    "duration": 875,
    "start_time": "2022-06-15T12:36:06.484Z"
   },
   {
    "duration": 360,
    "start_time": "2022-06-15T12:36:07.360Z"
   },
   {
    "duration": 351,
    "start_time": "2022-06-15T12:37:10.684Z"
   },
   {
    "duration": 348,
    "start_time": "2022-06-15T12:37:24.535Z"
   },
   {
    "duration": 325,
    "start_time": "2022-06-15T12:45:59.069Z"
   },
   {
    "duration": 382,
    "start_time": "2022-06-15T12:46:23.960Z"
   },
   {
    "duration": 323,
    "start_time": "2022-06-15T12:46:53.370Z"
   },
   {
    "duration": 356,
    "start_time": "2022-06-15T12:48:22.016Z"
   },
   {
    "duration": 321,
    "start_time": "2022-06-15T12:50:00.646Z"
   },
   {
    "duration": 406,
    "start_time": "2022-06-15T12:50:27.660Z"
   },
   {
    "duration": 827,
    "start_time": "2022-06-15T12:51:12.555Z"
   }
  ],
  "kernelspec": {
   "display_name": "Python 3 (ipykernel)",
   "language": "python",
   "name": "python3"
  },
  "language_info": {
   "codemirror_mode": {
    "name": "ipython",
    "version": 3
   },
   "file_extension": ".py",
   "mimetype": "text/x-python",
   "name": "python",
   "nbconvert_exporter": "python",
   "pygments_lexer": "ipython3",
   "version": "3.9.7"
  },
  "toc": {
   "base_numbering": 1,
   "nav_menu": {},
   "number_sections": true,
   "sideBar": true,
   "skip_h1_title": true,
   "title_cell": "Table of Contents",
   "title_sidebar": "Contents",
   "toc_cell": false,
   "toc_position": {},
   "toc_section_display": true,
   "toc_window_display": false
  }
 },
 "nbformat": 4,
 "nbformat_minor": 2
}
