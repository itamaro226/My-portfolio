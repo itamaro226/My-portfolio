{
 "cells": [
  {
   "cell_type": "markdown",
   "id": "b2b39bd3",
   "metadata": {},
   "source": [
    "**Working plan**"
   ]
  },
  {
   "cell_type": "markdown",
   "id": "65b6f7c9",
   "metadata": {},
   "source": [
    "The purpose of the project - Develop a model that can give an estimate of the number of customers of the Telecom company and locate customers who have the potential to leave."
   ]
  },
  {
   "cell_type": "markdown",
   "id": "841baac0",
   "metadata": {},
   "source": [
    "Now we will perform a preliminary data analysis so that we can build the work plan."
   ]
  },
  {
   "cell_type": "code",
   "execution_count": 91,
   "id": "70938c27",
   "metadata": {},
   "outputs": [],
   "source": [
    "import numpy as np\n",
    "import pandas as pd\n",
    "import seaborn as sns\n",
    "import matplotlib.pyplot as plt\n",
    "from sklearn.linear_model import LogisticRegression\n",
    "from sklearn.model_selection import train_test_split\n",
    "from sklearn.metrics import roc_curve\n",
    "from sklearn.metrics import roc_auc_score\n",
    "from sklearn.metrics import precision_score\n",
    "from sklearn.metrics import recall_score\n",
    "from sklearn.metrics import f1_score\n",
    "from sklearn.utils import shuffle\n",
    "from sklearn.metrics import accuracy_score\n",
    "from sklearn.dummy import DummyClassifier\n",
    "from sklearn.tree import DecisionTreeClassifier"
   ]
  },
  {
   "cell_type": "code",
   "execution_count": 92,
   "id": "bea00aa2",
   "metadata": {},
   "outputs": [],
   "source": [
    "internet_data = pd.read_csv('/datasets/final_provider/internet.csv')"
   ]
  },
  {
   "cell_type": "code",
   "execution_count": 93,
   "id": "e2c3971c",
   "metadata": {},
   "outputs": [
    {
     "data": {
      "text/html": [
       "<div>\n",
       "<style scoped>\n",
       "    .dataframe tbody tr th:only-of-type {\n",
       "        vertical-align: middle;\n",
       "    }\n",
       "\n",
       "    .dataframe tbody tr th {\n",
       "        vertical-align: top;\n",
       "    }\n",
       "\n",
       "    .dataframe thead th {\n",
       "        text-align: right;\n",
       "    }\n",
       "</style>\n",
       "<table border=\"1\" class=\"dataframe\">\n",
       "  <thead>\n",
       "    <tr style=\"text-align: right;\">\n",
       "      <th></th>\n",
       "      <th>customerID</th>\n",
       "      <th>InternetService</th>\n",
       "      <th>OnlineSecurity</th>\n",
       "      <th>OnlineBackup</th>\n",
       "      <th>DeviceProtection</th>\n",
       "      <th>TechSupport</th>\n",
       "      <th>StreamingTV</th>\n",
       "      <th>StreamingMovies</th>\n",
       "    </tr>\n",
       "  </thead>\n",
       "  <tbody>\n",
       "    <tr>\n",
       "      <th>0</th>\n",
       "      <td>7590-VHVEG</td>\n",
       "      <td>DSL</td>\n",
       "      <td>No</td>\n",
       "      <td>Yes</td>\n",
       "      <td>No</td>\n",
       "      <td>No</td>\n",
       "      <td>No</td>\n",
       "      <td>No</td>\n",
       "    </tr>\n",
       "    <tr>\n",
       "      <th>1</th>\n",
       "      <td>5575-GNVDE</td>\n",
       "      <td>DSL</td>\n",
       "      <td>Yes</td>\n",
       "      <td>No</td>\n",
       "      <td>Yes</td>\n",
       "      <td>No</td>\n",
       "      <td>No</td>\n",
       "      <td>No</td>\n",
       "    </tr>\n",
       "    <tr>\n",
       "      <th>2</th>\n",
       "      <td>3668-QPYBK</td>\n",
       "      <td>DSL</td>\n",
       "      <td>Yes</td>\n",
       "      <td>Yes</td>\n",
       "      <td>No</td>\n",
       "      <td>No</td>\n",
       "      <td>No</td>\n",
       "      <td>No</td>\n",
       "    </tr>\n",
       "    <tr>\n",
       "      <th>3</th>\n",
       "      <td>7795-CFOCW</td>\n",
       "      <td>DSL</td>\n",
       "      <td>Yes</td>\n",
       "      <td>No</td>\n",
       "      <td>Yes</td>\n",
       "      <td>Yes</td>\n",
       "      <td>No</td>\n",
       "      <td>No</td>\n",
       "    </tr>\n",
       "    <tr>\n",
       "      <th>4</th>\n",
       "      <td>9237-HQITU</td>\n",
       "      <td>Fiber optic</td>\n",
       "      <td>No</td>\n",
       "      <td>No</td>\n",
       "      <td>No</td>\n",
       "      <td>No</td>\n",
       "      <td>No</td>\n",
       "      <td>No</td>\n",
       "    </tr>\n",
       "  </tbody>\n",
       "</table>\n",
       "</div>"
      ],
      "text/plain": [
       "   customerID InternetService OnlineSecurity OnlineBackup DeviceProtection  \\\n",
       "0  7590-VHVEG             DSL             No          Yes               No   \n",
       "1  5575-GNVDE             DSL            Yes           No              Yes   \n",
       "2  3668-QPYBK             DSL            Yes          Yes               No   \n",
       "3  7795-CFOCW             DSL            Yes           No              Yes   \n",
       "4  9237-HQITU     Fiber optic             No           No               No   \n",
       "\n",
       "  TechSupport StreamingTV StreamingMovies  \n",
       "0          No          No              No  \n",
       "1          No          No              No  \n",
       "2          No          No              No  \n",
       "3         Yes          No              No  \n",
       "4          No          No              No  "
      ]
     },
     "execution_count": 93,
     "metadata": {},
     "output_type": "execute_result"
    }
   ],
   "source": [
    "internet_data.head()"
   ]
  },
  {
   "cell_type": "code",
   "execution_count": 94,
   "id": "d3424541",
   "metadata": {},
   "outputs": [],
   "source": [
    "contract_data = pd.read_csv('/datasets/final_provider/contract.csv')"
   ]
  },
  {
   "cell_type": "code",
   "execution_count": 95,
   "id": "8d67f3e0",
   "metadata": {},
   "outputs": [
    {
     "data": {
      "text/html": [
       "<div>\n",
       "<style scoped>\n",
       "    .dataframe tbody tr th:only-of-type {\n",
       "        vertical-align: middle;\n",
       "    }\n",
       "\n",
       "    .dataframe tbody tr th {\n",
       "        vertical-align: top;\n",
       "    }\n",
       "\n",
       "    .dataframe thead th {\n",
       "        text-align: right;\n",
       "    }\n",
       "</style>\n",
       "<table border=\"1\" class=\"dataframe\">\n",
       "  <thead>\n",
       "    <tr style=\"text-align: right;\">\n",
       "      <th></th>\n",
       "      <th>customerID</th>\n",
       "      <th>BeginDate</th>\n",
       "      <th>EndDate</th>\n",
       "      <th>Type</th>\n",
       "      <th>PaperlessBilling</th>\n",
       "      <th>PaymentMethod</th>\n",
       "      <th>MonthlyCharges</th>\n",
       "      <th>TotalCharges</th>\n",
       "    </tr>\n",
       "  </thead>\n",
       "  <tbody>\n",
       "    <tr>\n",
       "      <th>0</th>\n",
       "      <td>7590-VHVEG</td>\n",
       "      <td>2020-01-01</td>\n",
       "      <td>No</td>\n",
       "      <td>Month-to-month</td>\n",
       "      <td>Yes</td>\n",
       "      <td>Electronic check</td>\n",
       "      <td>29.85</td>\n",
       "      <td>29.85</td>\n",
       "    </tr>\n",
       "    <tr>\n",
       "      <th>1</th>\n",
       "      <td>5575-GNVDE</td>\n",
       "      <td>2017-04-01</td>\n",
       "      <td>No</td>\n",
       "      <td>One year</td>\n",
       "      <td>No</td>\n",
       "      <td>Mailed check</td>\n",
       "      <td>56.95</td>\n",
       "      <td>1889.5</td>\n",
       "    </tr>\n",
       "    <tr>\n",
       "      <th>2</th>\n",
       "      <td>3668-QPYBK</td>\n",
       "      <td>2019-10-01</td>\n",
       "      <td>2019-12-01 00:00:00</td>\n",
       "      <td>Month-to-month</td>\n",
       "      <td>Yes</td>\n",
       "      <td>Mailed check</td>\n",
       "      <td>53.85</td>\n",
       "      <td>108.15</td>\n",
       "    </tr>\n",
       "    <tr>\n",
       "      <th>3</th>\n",
       "      <td>7795-CFOCW</td>\n",
       "      <td>2016-05-01</td>\n",
       "      <td>No</td>\n",
       "      <td>One year</td>\n",
       "      <td>No</td>\n",
       "      <td>Bank transfer (automatic)</td>\n",
       "      <td>42.30</td>\n",
       "      <td>1840.75</td>\n",
       "    </tr>\n",
       "    <tr>\n",
       "      <th>4</th>\n",
       "      <td>9237-HQITU</td>\n",
       "      <td>2019-09-01</td>\n",
       "      <td>2019-11-01 00:00:00</td>\n",
       "      <td>Month-to-month</td>\n",
       "      <td>Yes</td>\n",
       "      <td>Electronic check</td>\n",
       "      <td>70.70</td>\n",
       "      <td>151.65</td>\n",
       "    </tr>\n",
       "  </tbody>\n",
       "</table>\n",
       "</div>"
      ],
      "text/plain": [
       "   customerID   BeginDate              EndDate            Type  \\\n",
       "0  7590-VHVEG  2020-01-01                   No  Month-to-month   \n",
       "1  5575-GNVDE  2017-04-01                   No        One year   \n",
       "2  3668-QPYBK  2019-10-01  2019-12-01 00:00:00  Month-to-month   \n",
       "3  7795-CFOCW  2016-05-01                   No        One year   \n",
       "4  9237-HQITU  2019-09-01  2019-11-01 00:00:00  Month-to-month   \n",
       "\n",
       "  PaperlessBilling              PaymentMethod  MonthlyCharges TotalCharges  \n",
       "0              Yes           Electronic check           29.85        29.85  \n",
       "1               No               Mailed check           56.95       1889.5  \n",
       "2              Yes               Mailed check           53.85       108.15  \n",
       "3               No  Bank transfer (automatic)           42.30      1840.75  \n",
       "4              Yes           Electronic check           70.70       151.65  "
      ]
     },
     "execution_count": 95,
     "metadata": {},
     "output_type": "execute_result"
    }
   ],
   "source": [
    "contract_data.head()"
   ]
  },
  {
   "cell_type": "code",
   "execution_count": 96,
   "id": "78a615b0",
   "metadata": {},
   "outputs": [],
   "source": [
    "personal_data = pd.read_csv('/datasets/final_provider/personal.csv')"
   ]
  },
  {
   "cell_type": "code",
   "execution_count": 97,
   "id": "40161ada",
   "metadata": {},
   "outputs": [
    {
     "data": {
      "text/html": [
       "<div>\n",
       "<style scoped>\n",
       "    .dataframe tbody tr th:only-of-type {\n",
       "        vertical-align: middle;\n",
       "    }\n",
       "\n",
       "    .dataframe tbody tr th {\n",
       "        vertical-align: top;\n",
       "    }\n",
       "\n",
       "    .dataframe thead th {\n",
       "        text-align: right;\n",
       "    }\n",
       "</style>\n",
       "<table border=\"1\" class=\"dataframe\">\n",
       "  <thead>\n",
       "    <tr style=\"text-align: right;\">\n",
       "      <th></th>\n",
       "      <th>customerID</th>\n",
       "      <th>gender</th>\n",
       "      <th>SeniorCitizen</th>\n",
       "      <th>Partner</th>\n",
       "      <th>Dependents</th>\n",
       "    </tr>\n",
       "  </thead>\n",
       "  <tbody>\n",
       "    <tr>\n",
       "      <th>0</th>\n",
       "      <td>7590-VHVEG</td>\n",
       "      <td>Female</td>\n",
       "      <td>0</td>\n",
       "      <td>Yes</td>\n",
       "      <td>No</td>\n",
       "    </tr>\n",
       "    <tr>\n",
       "      <th>1</th>\n",
       "      <td>5575-GNVDE</td>\n",
       "      <td>Male</td>\n",
       "      <td>0</td>\n",
       "      <td>No</td>\n",
       "      <td>No</td>\n",
       "    </tr>\n",
       "    <tr>\n",
       "      <th>2</th>\n",
       "      <td>3668-QPYBK</td>\n",
       "      <td>Male</td>\n",
       "      <td>0</td>\n",
       "      <td>No</td>\n",
       "      <td>No</td>\n",
       "    </tr>\n",
       "    <tr>\n",
       "      <th>3</th>\n",
       "      <td>7795-CFOCW</td>\n",
       "      <td>Male</td>\n",
       "      <td>0</td>\n",
       "      <td>No</td>\n",
       "      <td>No</td>\n",
       "    </tr>\n",
       "    <tr>\n",
       "      <th>4</th>\n",
       "      <td>9237-HQITU</td>\n",
       "      <td>Female</td>\n",
       "      <td>0</td>\n",
       "      <td>No</td>\n",
       "      <td>No</td>\n",
       "    </tr>\n",
       "  </tbody>\n",
       "</table>\n",
       "</div>"
      ],
      "text/plain": [
       "   customerID  gender  SeniorCitizen Partner Dependents\n",
       "0  7590-VHVEG  Female              0     Yes         No\n",
       "1  5575-GNVDE    Male              0      No         No\n",
       "2  3668-QPYBK    Male              0      No         No\n",
       "3  7795-CFOCW    Male              0      No         No\n",
       "4  9237-HQITU  Female              0      No         No"
      ]
     },
     "execution_count": 97,
     "metadata": {},
     "output_type": "execute_result"
    }
   ],
   "source": [
    "personal_data .head()"
   ]
  },
  {
   "cell_type": "code",
   "execution_count": 98,
   "id": "539eb059",
   "metadata": {},
   "outputs": [],
   "source": [
    "phone_data = pd.read_csv('/datasets/final_provider/phone.csv')"
   ]
  },
  {
   "cell_type": "code",
   "execution_count": 99,
   "id": "c71ffe98",
   "metadata": {},
   "outputs": [
    {
     "data": {
      "text/html": [
       "<div>\n",
       "<style scoped>\n",
       "    .dataframe tbody tr th:only-of-type {\n",
       "        vertical-align: middle;\n",
       "    }\n",
       "\n",
       "    .dataframe tbody tr th {\n",
       "        vertical-align: top;\n",
       "    }\n",
       "\n",
       "    .dataframe thead th {\n",
       "        text-align: right;\n",
       "    }\n",
       "</style>\n",
       "<table border=\"1\" class=\"dataframe\">\n",
       "  <thead>\n",
       "    <tr style=\"text-align: right;\">\n",
       "      <th></th>\n",
       "      <th>customerID</th>\n",
       "      <th>MultipleLines</th>\n",
       "    </tr>\n",
       "  </thead>\n",
       "  <tbody>\n",
       "    <tr>\n",
       "      <th>0</th>\n",
       "      <td>5575-GNVDE</td>\n",
       "      <td>No</td>\n",
       "    </tr>\n",
       "    <tr>\n",
       "      <th>1</th>\n",
       "      <td>3668-QPYBK</td>\n",
       "      <td>No</td>\n",
       "    </tr>\n",
       "    <tr>\n",
       "      <th>2</th>\n",
       "      <td>9237-HQITU</td>\n",
       "      <td>No</td>\n",
       "    </tr>\n",
       "    <tr>\n",
       "      <th>3</th>\n",
       "      <td>9305-CDSKC</td>\n",
       "      <td>Yes</td>\n",
       "    </tr>\n",
       "    <tr>\n",
       "      <th>4</th>\n",
       "      <td>1452-KIOVK</td>\n",
       "      <td>Yes</td>\n",
       "    </tr>\n",
       "  </tbody>\n",
       "</table>\n",
       "</div>"
      ],
      "text/plain": [
       "   customerID MultipleLines\n",
       "0  5575-GNVDE            No\n",
       "1  3668-QPYBK            No\n",
       "2  9237-HQITU            No\n",
       "3  9305-CDSKC           Yes\n",
       "4  1452-KIOVK           Yes"
      ]
     },
     "execution_count": 99,
     "metadata": {},
     "output_type": "execute_result"
    }
   ],
   "source": [
    "phone_data.head()"
   ]
  },
  {
   "cell_type": "code",
   "execution_count": 100,
   "id": "79c753f1",
   "metadata": {},
   "outputs": [],
   "source": [
    "# We will unite all our data sets based on the ID column.\n",
    "data = pd.merge(personal_data, internet_data, how='left', on='customerID')"
   ]
  },
  {
   "cell_type": "code",
   "execution_count": 101,
   "id": "901198dc",
   "metadata": {},
   "outputs": [],
   "source": [
    "data = pd.merge(data, contract_data, how='left', on='customerID')"
   ]
  },
  {
   "cell_type": "code",
   "execution_count": 102,
   "id": "78643428",
   "metadata": {},
   "outputs": [],
   "source": [
    "data = pd.merge(data, phone_data, how='left', on='customerID')"
   ]
  },
  {
   "cell_type": "code",
   "execution_count": 103,
   "id": "33512bf2",
   "metadata": {},
   "outputs": [],
   "source": [
    "# We will make our column letters lowercase.\n",
    "data.columns= data.columns.str.lower()"
   ]
  },
  {
   "cell_type": "code",
   "execution_count": 104,
   "id": "2e10d0d3",
   "metadata": {},
   "outputs": [
    {
     "data": {
      "text/html": [
       "<div>\n",
       "<style scoped>\n",
       "    .dataframe tbody tr th:only-of-type {\n",
       "        vertical-align: middle;\n",
       "    }\n",
       "\n",
       "    .dataframe tbody tr th {\n",
       "        vertical-align: top;\n",
       "    }\n",
       "\n",
       "    .dataframe thead th {\n",
       "        text-align: right;\n",
       "    }\n",
       "</style>\n",
       "<table border=\"1\" class=\"dataframe\">\n",
       "  <thead>\n",
       "    <tr style=\"text-align: right;\">\n",
       "      <th></th>\n",
       "      <th>customerid</th>\n",
       "      <th>gender</th>\n",
       "      <th>seniorcitizen</th>\n",
       "      <th>partner</th>\n",
       "      <th>dependents</th>\n",
       "      <th>internetservice</th>\n",
       "      <th>onlinesecurity</th>\n",
       "      <th>onlinebackup</th>\n",
       "      <th>deviceprotection</th>\n",
       "      <th>techsupport</th>\n",
       "      <th>streamingtv</th>\n",
       "      <th>streamingmovies</th>\n",
       "      <th>begindate</th>\n",
       "      <th>enddate</th>\n",
       "      <th>type</th>\n",
       "      <th>paperlessbilling</th>\n",
       "      <th>paymentmethod</th>\n",
       "      <th>monthlycharges</th>\n",
       "      <th>totalcharges</th>\n",
       "      <th>multiplelines</th>\n",
       "    </tr>\n",
       "  </thead>\n",
       "  <tbody>\n",
       "    <tr>\n",
       "      <th>0</th>\n",
       "      <td>7590-VHVEG</td>\n",
       "      <td>Female</td>\n",
       "      <td>0</td>\n",
       "      <td>Yes</td>\n",
       "      <td>No</td>\n",
       "      <td>DSL</td>\n",
       "      <td>No</td>\n",
       "      <td>Yes</td>\n",
       "      <td>No</td>\n",
       "      <td>No</td>\n",
       "      <td>No</td>\n",
       "      <td>No</td>\n",
       "      <td>2020-01-01</td>\n",
       "      <td>No</td>\n",
       "      <td>Month-to-month</td>\n",
       "      <td>Yes</td>\n",
       "      <td>Electronic check</td>\n",
       "      <td>29.85</td>\n",
       "      <td>29.85</td>\n",
       "      <td>NaN</td>\n",
       "    </tr>\n",
       "    <tr>\n",
       "      <th>1</th>\n",
       "      <td>5575-GNVDE</td>\n",
       "      <td>Male</td>\n",
       "      <td>0</td>\n",
       "      <td>No</td>\n",
       "      <td>No</td>\n",
       "      <td>DSL</td>\n",
       "      <td>Yes</td>\n",
       "      <td>No</td>\n",
       "      <td>Yes</td>\n",
       "      <td>No</td>\n",
       "      <td>No</td>\n",
       "      <td>No</td>\n",
       "      <td>2017-04-01</td>\n",
       "      <td>No</td>\n",
       "      <td>One year</td>\n",
       "      <td>No</td>\n",
       "      <td>Mailed check</td>\n",
       "      <td>56.95</td>\n",
       "      <td>1889.5</td>\n",
       "      <td>No</td>\n",
       "    </tr>\n",
       "    <tr>\n",
       "      <th>2</th>\n",
       "      <td>3668-QPYBK</td>\n",
       "      <td>Male</td>\n",
       "      <td>0</td>\n",
       "      <td>No</td>\n",
       "      <td>No</td>\n",
       "      <td>DSL</td>\n",
       "      <td>Yes</td>\n",
       "      <td>Yes</td>\n",
       "      <td>No</td>\n",
       "      <td>No</td>\n",
       "      <td>No</td>\n",
       "      <td>No</td>\n",
       "      <td>2019-10-01</td>\n",
       "      <td>2019-12-01 00:00:00</td>\n",
       "      <td>Month-to-month</td>\n",
       "      <td>Yes</td>\n",
       "      <td>Mailed check</td>\n",
       "      <td>53.85</td>\n",
       "      <td>108.15</td>\n",
       "      <td>No</td>\n",
       "    </tr>\n",
       "    <tr>\n",
       "      <th>3</th>\n",
       "      <td>7795-CFOCW</td>\n",
       "      <td>Male</td>\n",
       "      <td>0</td>\n",
       "      <td>No</td>\n",
       "      <td>No</td>\n",
       "      <td>DSL</td>\n",
       "      <td>Yes</td>\n",
       "      <td>No</td>\n",
       "      <td>Yes</td>\n",
       "      <td>Yes</td>\n",
       "      <td>No</td>\n",
       "      <td>No</td>\n",
       "      <td>2016-05-01</td>\n",
       "      <td>No</td>\n",
       "      <td>One year</td>\n",
       "      <td>No</td>\n",
       "      <td>Bank transfer (automatic)</td>\n",
       "      <td>42.30</td>\n",
       "      <td>1840.75</td>\n",
       "      <td>NaN</td>\n",
       "    </tr>\n",
       "    <tr>\n",
       "      <th>4</th>\n",
       "      <td>9237-HQITU</td>\n",
       "      <td>Female</td>\n",
       "      <td>0</td>\n",
       "      <td>No</td>\n",
       "      <td>No</td>\n",
       "      <td>Fiber optic</td>\n",
       "      <td>No</td>\n",
       "      <td>No</td>\n",
       "      <td>No</td>\n",
       "      <td>No</td>\n",
       "      <td>No</td>\n",
       "      <td>No</td>\n",
       "      <td>2019-09-01</td>\n",
       "      <td>2019-11-01 00:00:00</td>\n",
       "      <td>Month-to-month</td>\n",
       "      <td>Yes</td>\n",
       "      <td>Electronic check</td>\n",
       "      <td>70.70</td>\n",
       "      <td>151.65</td>\n",
       "      <td>No</td>\n",
       "    </tr>\n",
       "  </tbody>\n",
       "</table>\n",
       "</div>"
      ],
      "text/plain": [
       "   customerid  gender  seniorcitizen partner dependents internetservice  \\\n",
       "0  7590-VHVEG  Female              0     Yes         No             DSL   \n",
       "1  5575-GNVDE    Male              0      No         No             DSL   \n",
       "2  3668-QPYBK    Male              0      No         No             DSL   \n",
       "3  7795-CFOCW    Male              0      No         No             DSL   \n",
       "4  9237-HQITU  Female              0      No         No     Fiber optic   \n",
       "\n",
       "  onlinesecurity onlinebackup deviceprotection techsupport streamingtv  \\\n",
       "0             No          Yes               No          No          No   \n",
       "1            Yes           No              Yes          No          No   \n",
       "2            Yes          Yes               No          No          No   \n",
       "3            Yes           No              Yes         Yes          No   \n",
       "4             No           No               No          No          No   \n",
       "\n",
       "  streamingmovies   begindate              enddate            type  \\\n",
       "0              No  2020-01-01                   No  Month-to-month   \n",
       "1              No  2017-04-01                   No        One year   \n",
       "2              No  2019-10-01  2019-12-01 00:00:00  Month-to-month   \n",
       "3              No  2016-05-01                   No        One year   \n",
       "4              No  2019-09-01  2019-11-01 00:00:00  Month-to-month   \n",
       "\n",
       "  paperlessbilling              paymentmethod  monthlycharges totalcharges  \\\n",
       "0              Yes           Electronic check           29.85        29.85   \n",
       "1               No               Mailed check           56.95       1889.5   \n",
       "2              Yes               Mailed check           53.85       108.15   \n",
       "3               No  Bank transfer (automatic)           42.30      1840.75   \n",
       "4              Yes           Electronic check           70.70       151.65   \n",
       "\n",
       "  multiplelines  \n",
       "0           NaN  \n",
       "1            No  \n",
       "2            No  \n",
       "3           NaN  \n",
       "4            No  "
      ]
     },
     "execution_count": 104,
     "metadata": {},
     "output_type": "execute_result"
    }
   ],
   "source": [
    "data.head()"
   ]
  },
  {
   "cell_type": "code",
   "execution_count": 105,
   "id": "c3941c9c",
   "metadata": {},
   "outputs": [
    {
     "data": {
      "text/plain": [
       "0"
      ]
     },
     "execution_count": 105,
     "metadata": {},
     "output_type": "execute_result"
    }
   ],
   "source": [
    "data.duplicated().sum()"
   ]
  },
  {
   "cell_type": "code",
   "execution_count": 106,
   "id": "2e5cc9e9",
   "metadata": {},
   "outputs": [
    {
     "data": {
      "text/plain": [
       "customerid          0.000000\n",
       "gender              0.000000\n",
       "seniorcitizen       0.000000\n",
       "partner             0.000000\n",
       "dependents          0.000000\n",
       "internetservice     0.216669\n",
       "onlinesecurity      0.216669\n",
       "onlinebackup        0.216669\n",
       "deviceprotection    0.216669\n",
       "techsupport         0.216669\n",
       "streamingtv         0.216669\n",
       "streamingmovies     0.216669\n",
       "begindate           0.000000\n",
       "enddate             0.000000\n",
       "type                0.000000\n",
       "paperlessbilling    0.000000\n",
       "paymentmethod       0.000000\n",
       "monthlycharges      0.000000\n",
       "totalcharges        0.000000\n",
       "multiplelines       0.096834\n",
       "dtype: float64"
      ]
     },
     "execution_count": 106,
     "metadata": {},
     "output_type": "execute_result"
    }
   ],
   "source": [
    "data.isnull().sum()/len(data)"
   ]
  },
  {
   "cell_type": "markdown",
   "id": "48501f22",
   "metadata": {},
   "source": [
    "We can see that 21 percent of our users do not consume internet services so there are missing values ​​in these columns, also 9 percent of our customers do not consume telephone services. Therefore, we will fill in the missing values ​​in the \"not consume\" value and see if this has an effect on the customer leaving later."
   ]
  },
  {
   "cell_type": "code",
   "execution_count": 107,
   "id": "66c3f0ce",
   "metadata": {},
   "outputs": [],
   "source": [
    "data.fillna('not consume', inplace=True)"
   ]
  },
  {
   "cell_type": "code",
   "execution_count": 108,
   "id": "bb3365a0",
   "metadata": {},
   "outputs": [],
   "source": [
    "#We will cut the data set to customers who have already left to get an idea of the factors that influence their \n",
    "data_filtered = data.query('enddate != \"No\"') "
   ]
  },
  {
   "cell_type": "code",
   "execution_count": 109,
   "id": "fb1eec44",
   "metadata": {},
   "outputs": [
    {
     "name": "stderr",
     "output_type": "stream",
     "text": [
      "/tmp/ipykernel_24/1272656936.py:1: SettingWithCopyWarning: \n",
      "A value is trying to be set on a copy of a slice from a DataFrame.\n",
      "Try using .loc[row_indexer,col_indexer] = value instead\n",
      "\n",
      "See the caveats in the documentation: https://pandas.pydata.org/pandas-docs/stable/user_guide/indexing.html#returning-a-view-versus-a-copy\n",
      "  data_filtered['begindate'] =pd.to_datetime(data_filtered['begindate'])\n",
      "/tmp/ipykernel_24/1272656936.py:2: SettingWithCopyWarning: \n",
      "A value is trying to be set on a copy of a slice from a DataFrame.\n",
      "Try using .loc[row_indexer,col_indexer] = value instead\n",
      "\n",
      "See the caveats in the documentation: https://pandas.pydata.org/pandas-docs/stable/user_guide/indexing.html#returning-a-view-versus-a-copy\n",
      "  data_filtered['enddate'] =pd.to_datetime(data_filtered['enddate'])\n"
     ]
    }
   ],
   "source": [
    "data_filtered['begindate'] =pd.to_datetime(data_filtered['begindate'])\n",
    "data_filtered['enddate'] =pd.to_datetime(data_filtered['enddate'])"
   ]
  },
  {
   "cell_type": "code",
   "execution_count": 110,
   "id": "db689840",
   "metadata": {},
   "outputs": [
    {
     "name": "stderr",
     "output_type": "stream",
     "text": [
      "/tmp/ipykernel_24/2474816247.py:2: SettingWithCopyWarning: \n",
      "A value is trying to be set on a copy of a slice from a DataFrame.\n",
      "Try using .loc[row_indexer,col_indexer] = value instead\n",
      "\n",
      "See the caveats in the documentation: https://pandas.pydata.org/pandas-docs/stable/user_guide/indexing.html#returning-a-view-versus-a-copy\n",
      "  data_filtered['total_time'] = data_filtered['enddate'] - data_filtered ['begindate']\n"
     ]
    },
    {
     "data": {
      "text/plain": [
       "Timedelta('547 days 08:26:57.977528088')"
      ]
     },
     "execution_count": 110,
     "metadata": {},
     "output_type": "execute_result"
    }
   ],
   "source": [
    "#We will create a column of the stay time of each customer who left.\n",
    "data_filtered['total_time'] = data_filtered['enddate'] - data_filtered ['begindate']\n",
    "data_filtered['total_time'].mean()"
   ]
  },
  {
   "cell_type": "code",
   "execution_count": 111,
   "id": "2edd2e54",
   "metadata": {},
   "outputs": [
    {
     "data": {
      "text/html": [
       "<div>\n",
       "<style scoped>\n",
       "    .dataframe tbody tr th:only-of-type {\n",
       "        vertical-align: middle;\n",
       "    }\n",
       "\n",
       "    .dataframe tbody tr th {\n",
       "        vertical-align: top;\n",
       "    }\n",
       "\n",
       "    .dataframe thead th {\n",
       "        text-align: right;\n",
       "    }\n",
       "</style>\n",
       "<table border=\"1\" class=\"dataframe\">\n",
       "  <thead>\n",
       "    <tr style=\"text-align: right;\">\n",
       "      <th></th>\n",
       "      <th>seniorcitizen</th>\n",
       "      <th>monthlycharges</th>\n",
       "      <th>total_time</th>\n",
       "    </tr>\n",
       "  </thead>\n",
       "  <tbody>\n",
       "    <tr>\n",
       "      <th>count</th>\n",
       "      <td>1869.000000</td>\n",
       "      <td>1869.000000</td>\n",
       "      <td>1869</td>\n",
       "    </tr>\n",
       "    <tr>\n",
       "      <th>mean</th>\n",
       "      <td>0.254682</td>\n",
       "      <td>74.441332</td>\n",
       "      <td>547 days 08:26:57.977528088</td>\n",
       "    </tr>\n",
       "    <tr>\n",
       "      <th>std</th>\n",
       "      <td>0.435799</td>\n",
       "      <td>24.666053</td>\n",
       "      <td>594 days 09:21:02.012639248</td>\n",
       "    </tr>\n",
       "    <tr>\n",
       "      <th>min</th>\n",
       "      <td>0.000000</td>\n",
       "      <td>18.850000</td>\n",
       "      <td>30 days 00:00:00</td>\n",
       "    </tr>\n",
       "    <tr>\n",
       "      <th>25%</th>\n",
       "      <td>0.000000</td>\n",
       "      <td>56.150000</td>\n",
       "      <td>61 days 00:00:00</td>\n",
       "    </tr>\n",
       "    <tr>\n",
       "      <th>50%</th>\n",
       "      <td>0.000000</td>\n",
       "      <td>79.650000</td>\n",
       "      <td>304 days 00:00:00</td>\n",
       "    </tr>\n",
       "    <tr>\n",
       "      <th>75%</th>\n",
       "      <td>1.000000</td>\n",
       "      <td>94.200000</td>\n",
       "      <td>883 days 00:00:00</td>\n",
       "    </tr>\n",
       "    <tr>\n",
       "      <th>max</th>\n",
       "      <td>1.000000</td>\n",
       "      <td>118.350000</td>\n",
       "      <td>2191 days 00:00:00</td>\n",
       "    </tr>\n",
       "  </tbody>\n",
       "</table>\n",
       "</div>"
      ],
      "text/plain": [
       "       seniorcitizen  monthlycharges                   total_time\n",
       "count    1869.000000     1869.000000                         1869\n",
       "mean        0.254682       74.441332  547 days 08:26:57.977528088\n",
       "std         0.435799       24.666053  594 days 09:21:02.012639248\n",
       "min         0.000000       18.850000             30 days 00:00:00\n",
       "25%         0.000000       56.150000             61 days 00:00:00\n",
       "50%         0.000000       79.650000            304 days 00:00:00\n",
       "75%         1.000000       94.200000            883 days 00:00:00\n",
       "max         1.000000      118.350000           2191 days 00:00:00"
      ]
     },
     "execution_count": 111,
     "metadata": {},
     "output_type": "execute_result"
    }
   ],
   "source": [
    "# print the geneal/summary information about the DataFrame\n",
    "data_filtered.describe()"
   ]
  },
  {
   "cell_type": "markdown",
   "id": "617b1ed2",
   "metadata": {},
   "source": [
    "Now we see that the average length of stay of a customer in the company is 547 days. Now we will check the correlation between the other features to understand which of them has the most effect on the time the customer stayed.\n",
    "Also the ''enddate'' column is our goal."
   ]
  },
  {
   "cell_type": "code",
   "execution_count": 112,
   "id": "2633dd05",
   "metadata": {},
   "outputs": [
    {
     "name": "stderr",
     "output_type": "stream",
     "text": [
      "/tmp/ipykernel_24/1955160208.py:1: SettingWithCopyWarning: \n",
      "A value is trying to be set on a copy of a slice from a DataFrame.\n",
      "Try using .loc[row_indexer,col_indexer] = value instead\n",
      "\n",
      "See the caveats in the documentation: https://pandas.pydata.org/pandas-docs/stable/user_guide/indexing.html#returning-a-view-versus-a-copy\n",
      "  data_filtered['total_time'] = pd.to_numeric(data_filtered['total_time'], downcast='float')\n"
     ]
    },
    {
     "name": "stdout",
     "output_type": "stream",
     "text": [
      "0.4013309349634318\n"
     ]
    },
    {
     "data": {
      "image/png": "[encoded data removed]",
      "text/plain": [
       "<Figure size 576x432 with 2 Axes>"
      ]
     },
     "metadata": {
      "needs_background": "light"
     },
     "output_type": "display_data"
    }
   ],
   "source": [
    "data_filtered['total_time'] = pd.to_numeric(data_filtered['total_time'], downcast='float')\n",
    "print(data_filtered['total_time'].corr(data_filtered['monthlycharges']));\n",
    "data_filtered.plot(x='total_time', y='monthlycharges', kind='hexbin', gridsize=20, figsize=(8, 6), sharex=False, grid=True);"
   ]
  },
  {
   "cell_type": "code",
   "execution_count": 113,
   "id": "a62a5185",
   "metadata": {},
   "outputs": [
    {
     "name": "stdout",
     "output_type": "stream",
     "text": [
      "0.09144372815049022\n"
     ]
    },
    {
     "data": {
      "image/png": "[encoded data removed]",
      "text/plain": [
       "<Figure size 576x432 with 2 Axes>"
      ]
     },
     "metadata": {
      "needs_background": "light"
     },
     "output_type": "display_data"
    }
   ],
   "source": [
    "##We will create graphs for our pizzas, to see that they are correct.\n",
    "print(data_filtered['total_time'].corr(data_filtered['seniorcitizen']));\n",
    "data_filtered.plot(x='total_time', y='seniorcitizen', kind='hexbin', gridsize=20, figsize=(8, 6), sharex=False, grid=True);"
   ]
  },
  {
   "cell_type": "code",
   "execution_count": 114,
   "id": "7adf5c8c",
   "metadata": {},
   "outputs": [],
   "source": [
    "#Now our categorical features.\n",
    "categoriel = ['gender', 'partner','dependents','internetservice','onlinesecurity','onlinebackup',\n",
    "              'deviceprotection','techsupport','streamingtv', 'streamingmovies', 'type','paperlessbilling','paymentmethod','multiplelines']"
   ]
  },
  {
   "cell_type": "code",
   "execution_count": 115,
   "id": "802e569a",
   "metadata": {},
   "outputs": [
    {
     "data": {
      "image/png": "[encoded data removed]",
      "text/plain": [
       "<Figure size 432x288 with 1 Axes>"
      ]
     },
     "metadata": {
      "needs_background": "light"
     },
     "output_type": "display_data"
    },
    {
     "data": {
      "image/png": "[encoded data removed]",
      "text/plain": [
       "<Figure size 432x288 with 1 Axes>"
      ]
     },
     "metadata": {
      "needs_background": "light"
     },
     "output_type": "display_data"
    },
    {
     "data": {
      "image/png": "[encoded data removed]",
      "text/plain": [
       "<Figure size 432x288 with 1 Axes>"
      ]
     },
     "metadata": {
      "needs_background": "light"
     },
     "output_type": "display_data"
    },
    {
     "data": {
      "image/png": "[encoded data removed]",
      "text/plain": [
       "<Figure size 432x288 with 1 Axes>"
      ]
     },
     "metadata": {
      "needs_background": "light"
     },
     "output_type": "display_data"
    },
    {
     "data": {
      "image/png": "[encoded data removed]",
      "text/plain": [
       "<Figure size 432x288 with 1 Axes>"
      ]
     },
     "metadata": {
      "needs_background": "light"
     },
     "output_type": "display_data"
    },
    {
     "data": {
      "image/png": "[encoded data removed]",
      "text/plain": [
       "<Figure size 432x288 with 1 Axes>"
      ]
     },
     "metadata": {
      "needs_background": "light"
     },
     "output_type": "display_data"
    },
    {
     "data": {
      "image/png": "[encoded data removed]",
      "text/plain": [
       "<Figure size 432x288 with 1 Axes>"
      ]
     },
     "metadata": {
      "needs_background": "light"
     },
     "output_type": "display_data"
    },
    {
     "data": {
      "image/png": "[encoded data removed]",
      "text/plain": [
       "<Figure size 432x288 with 1 Axes>"
      ]
     },
     "metadata": {
      "needs_background": "light"
     },
     "output_type": "display_data"
    },
    {
     "data": {
      "image/png": "[encoded data removed]",
      "text/plain": [
       "<Figure size 432x288 with 1 Axes>"
      ]
     },
     "metadata": {
      "needs_background": "light"
     },
     "output_type": "display_data"
    },
    {
     "data": {
      "image/png": "[encoded data removed]",
      "text/plain": [
       "<Figure size 432x288 with 1 Axes>"
      ]
     },
     "metadata": {
      "needs_background": "light"
     },
     "output_type": "display_data"
    },
    {
     "data": {
      "image/png": "[encoded data removed]",
      "text/plain": [
       "<Figure size 432x288 with 1 Axes>"
      ]
     },
     "metadata": {
      "needs_background": "light"
     },
     "output_type": "display_data"
    },
    {
     "data": {
      "image/png": "[encoded data removed]",
      "text/plain": [
       "<Figure size 432x288 with 1 Axes>"
      ]
     },
     "metadata": {
      "needs_background": "light"
     },
     "output_type": "display_data"
    },
    {
     "data": {
      "image/png": "[encoded data removed]",
      "text/plain": [
       "<Figure size 432x288 with 1 Axes>"
      ]
     },
     "metadata": {
      "needs_background": "light"
     },
     "output_type": "display_data"
    },
    {
     "data": {
      "image/png": "[encoded data removed]",
      "text/plain": [
       "<Figure size 432x288 with 1 Axes>"
      ]
     },
     "metadata": {
      "needs_background": "light"
     },
     "output_type": "display_data"
    }
   ],
   "source": [
    "for i in categoriel:\n",
    "    sns.boxplot(x ='total_time', y = i, data= data_filtered)\n",
    "    plt.show()"
   ]
  },
  {
   "cell_type": "markdown",
   "id": "3410f3e5",
   "metadata": {},
   "source": [
    "**Building the model**"
   ]
  },
  {
   "cell_type": "code",
   "execution_count": 116,
   "id": "001447cb",
   "metadata": {},
   "outputs": [],
   "source": [
    "#Since this is a binary classification task, we will use a logistic regression model.\n",
    "#We will start by preparing the data for machine learning.\n",
    "#In the first step we will change our goal to customer who stayed = 0, customer who left = 1.\n",
    "for c in data['enddate']:\n",
    "    if c == \"No\":\n",
    "        data['enddate'].replace({c: \"0\"}, inplace=True)       "
   ]
  },
  {
   "cell_type": "code",
   "execution_count": 117,
   "id": "2a439a23",
   "metadata": {},
   "outputs": [],
   "source": [
    "for c in data['enddate']:\n",
    "    if c != \"0\":\n",
    "        data['enddate'].replace({c: \"1\"}, inplace=True)"
   ]
  },
  {
   "cell_type": "code",
   "execution_count": 118,
   "id": "cd829692",
   "metadata": {},
   "outputs": [
    {
     "data": {
      "text/plain": [
       "0    5174\n",
       "1    1869\n",
       "Name: enddate, dtype: int64"
      ]
     },
     "execution_count": 118,
     "metadata": {},
     "output_type": "execute_result"
    }
   ],
   "source": [
    "data['enddate'].value_counts()"
   ]
  },
  {
   "cell_type": "code",
   "execution_count": 119,
   "id": "a4ac6f8a",
   "metadata": {},
   "outputs": [],
   "source": [
    "#We will get rid of all the columns that are not necessary to build the model.\n",
    "data =data.drop(['paperlessbilling', 'seniorcitizen', 'gender', 'customerid', 'multiplelines'], axis=1)"
   ]
  },
  {
   "cell_type": "code",
   "execution_count": 120,
   "id": "f144fa2d",
   "metadata": {},
   "outputs": [],
   "source": [
    "#Now we'll encode all our non-numeric values.\n",
    "#We will use the OHE method, the coding method that is most compatible with logistic regre\n",
    "categorical = ['partner','dependents','internetservice','onlinesecurity','onlinebackup',\n",
    "              'deviceprotection','techsupport','streamingtv', 'streamingmovies', 'type','paymentmethod', 'begindate', 'totalcharges']"
   ]
  },
  {
   "cell_type": "code",
   "execution_count": 121,
   "id": "369020ef",
   "metadata": {},
   "outputs": [],
   "source": [
    "for column in categorical:\n",
    "    tempdf = pd.get_dummies(data[column], prefix=column)\n",
    "    data = pd.merge(\n",
    "        left=data,\n",
    "        right=tempdf,\n",
    "        left_index=True,\n",
    "        right_index=True,\n",
    "    )\n",
    "    data = data.drop(columns=column)"
   ]
  },
  {
   "cell_type": "code",
   "execution_count": 122,
   "id": "514223ce",
   "metadata": {},
   "outputs": [],
   "source": [
    "# We will divide our dataset into training, evaluation and test sets.\n",
    "#set aside 20% of train and test data for evaluation\n",
    "df_train, df_test = train_test_split(data, test_size=0.2, random_state=12345)\n",
    "\n",
    "# Use the same function above for the validation set\n",
    "df_train, df_valid = train_test_split(data, test_size=0.25, random_state=12345) # 0.25 x 0.8 = 0.2"
   ]
  },
  {
   "cell_type": "code",
   "execution_count": 123,
   "id": "270fb1a5",
   "metadata": {},
   "outputs": [],
   "source": [
    "# We will define features and targets, according to the investigation we did.\n",
    "features_train = df_train.drop(['enddate'], axis=1)\n",
    "target_train = df_train['enddate']\n",
    "features_valid = df_valid.drop(['enddate'], axis=1)\n",
    "target_valid = df_valid['enddate']\n",
    "features_test = df_test.drop(['enddate'], axis=1)\n",
    "target_test = df_test['enddate']"
   ]
  },
  {
   "cell_type": "code",
   "execution_count": 124,
   "id": "f041fb8e",
   "metadata": {},
   "outputs": [
    {
     "name": "stderr",
     "output_type": "stream",
     "text": [
      "/opt/conda/lib/python3.9/site-packages/seaborn/distributions.py:2557: FutureWarning: `distplot` is a deprecated function and will be removed in a future version. Please adapt your code to use either `displot` (a figure-level function with similar flexibility) or `histplot` (an axes-level function for histograms).\n",
      "  warnings.warn(msg, FutureWarning)\n"
     ]
    },
    {
     "data": {
      "image/png": "[encoded data removed]",
      "text/plain": [
       "<Figure size 432x288 with 1 Axes>"
      ]
     },
     "metadata": {
      "needs_background": "light"
     },
     "output_type": "display_data"
    }
   ],
   "source": [
    "#We will check the balance of the classes in our goal.\n",
    "sns.distplot(target_train, bins=10);"
   ]
  },
  {
   "cell_type": "markdown",
   "id": "48c4983c",
   "metadata": {},
   "source": [
    "We can see that the classification is not balanced, to fix this we will change the parameter class_weight='balanced' in the models we will test."
   ]
  },
  {
   "cell_type": "markdown",
   "id": "175cf9ef",
   "metadata": {},
   "source": [
    "**Testing models**"
   ]
  },
  {
   "cell_type": "code",
   "execution_count": 125,
   "id": "d6758a9f",
   "metadata": {},
   "outputs": [
    {
     "name": "stdout",
     "output_type": "stream",
     "text": [
      "Accuracy score: 0.7308347529812607\n",
      "roc_auc_score: 0.5\n"
     ]
    }
   ],
   "source": [
    "#We will perform a sanity check for the model.\n",
    "dummy_clf = DummyClassifier(strategy=\"most_frequent\")\n",
    "dummy_clf.fit(features_train, target_train)\n",
    "\n",
    "predicted_valid_dummy = dummy_clf.predict(features_valid)\n",
    "print('Accuracy score:',accuracy_score(target_valid, predicted_valid_dummy))\n",
    "\n",
    "probabilities_valid_d = dummy_clf.predict_proba(features_valid)\n",
    "probabilities_one_valid_d = probabilities_valid_d[:, 1]\n",
    "print('roc_auc_score:',roc_auc_score(target_valid, probabilities_one_valid_d))"
   ]
  },
  {
   "cell_type": "code",
   "execution_count": 126,
   "id": "b1d9b93e",
   "metadata": {},
   "outputs": [
    {
     "name": "stdout",
     "output_type": "stream",
     "text": [
      "F1 score: 0.8363636363636362\n"
     ]
    }
   ],
   "source": [
    "# Now we will test the logistic regression model.\n",
    "#The measure we are looking for is AUC-ROC, but we will also use the accuracy measure for further impression.ance.\n",
    "model = LogisticRegression(random_state=12345,\n",
    "                           solver='liblinear',  class_weight='balanced')\n",
    "model.fit(features_train, target_train)\n",
    "\n",
    "predicted_valid = model.predict(features_valid)\n",
    "print('F1 score:',f1_score(target_valid, predicted_valid, pos_label='0'))"
   ]
  },
  {
   "cell_type": "code",
   "execution_count": 127,
   "id": "4e4e0cfa",
   "metadata": {},
   "outputs": [
    {
     "data": {
      "text/plain": [
       "0.8565564768096414"
      ]
     },
     "execution_count": 127,
     "metadata": {},
     "output_type": "execute_result"
    }
   ],
   "source": [
    "probabilities_valid = model.predict_proba(features_valid)\n",
    "probabilities_one_valid = probabilities_valid[:, 1]\n",
    "\n",
    "roc_auc_score(target_valid, probabilities_one_valid)"
   ]
  },
  {
   "cell_type": "code",
   "execution_count": 128,
   "id": "6ea1d38f",
   "metadata": {},
   "outputs": [
    {
     "name": "stdout",
     "output_type": "stream",
     "text": [
      "max_depth = 1 : 0.6547416240772288\n",
      "max_depth = 2 : 0.730266893810335\n",
      "max_depth = 3 : 0.7495741056218058\n",
      "max_depth = 4 : 0.7285633162975582\n",
      "max_depth = 5 : 0.7461669505962522\n"
     ]
    }
   ],
   "source": [
    "# Now we will check the decision tree and compare the results of the models.\n",
    "for depth in range(1, 6):\n",
    "    model_1 = DecisionTreeClassifier(random_state=12345, max_depth=depth, class_weight='balanced')\n",
    "\n",
    "    model_1.fit(features_train, target_train)\n",
    "\n",
    "    predictions_valid_1 = model_1.predict(features_valid)\n",
    "\n",
    "    print(\"max_depth =\", depth, \": \", end='')\n",
    "    print(accuracy_score(target_valid, predictions_valid_1))"
   ]
  },
  {
   "cell_type": "code",
   "execution_count": 129,
   "id": "4c55d5cb",
   "metadata": {},
   "outputs": [
    {
     "data": {
      "text/plain": [
       "0.8199595762886902"
      ]
     },
     "execution_count": 129,
     "metadata": {},
     "output_type": "execute_result"
    }
   ],
   "source": [
    "probabilities_valid_1 = model_1.predict_proba(features_valid)\n",
    "probabilities_one_valid_1 = probabilities_valid_1[:, 1]\n",
    "roc_auc_score(target_valid, probabilities_one_valid_1)"
   ]
  },
  {
   "cell_type": "markdown",
   "id": "146260ce",
   "metadata": {},
   "source": [
    "After examining the decision tree at a depth of 6, it can be clearly seen that the logistic regression model gave better results in both parameters."
   ]
  },
  {
   "cell_type": "code",
   "execution_count": 130,
   "id": "ee7feec3",
   "metadata": {},
   "outputs": [
    {
     "data": {
      "image/png": "[encoded data removed]",
      "text/plain": [
       "<Figure size 432x288 with 1 Axes>"
      ]
     },
     "metadata": {
      "needs_background": "light"
     },
     "output_type": "display_data"
    },
    {
     "data": {
      "image/png": "[encoded data removed]",
      "text/plain": [
       "<Figure size 432x288 with 1 Axes>"
      ]
     },
     "metadata": {
      "needs_background": "light"
     },
     "output_type": "display_data"
    }
   ],
   "source": [
    "#Now we give a visual illustration of our model.\n",
    "#The first graph shows a random model, and the second graph the results of our model.\n",
    "fpr, tpr, thresholds = roc_curve(target_valid, probabilities_one_valid, pos_label='1')\n",
    "\n",
    "plt.figure()\n",
    "plt.plot([0, 1], [0, 1], linestyle='--')\n",
    "\n",
    "plt.figure()\n",
    "plt.plot(fpr, tpr)\n",
    "plt.xlim([0.0, 1.0])\n",
    "plt.ylim([0.0, 1.0])\n",
    "plt.xlabel('False Positive Rate')\n",
    "plt.ylabel('True Positive Rate')\n",
    "plt.title('ROC curve')\n",
    "plt.show()"
   ]
  },
  {
   "cell_type": "markdown",
   "id": "1ba2e4e6",
   "metadata": {},
   "source": [
    "Our AUC-ROC score is 0.85, this is an excellent score for this measure.\n",
    "You can also see in the graph we created that most of our answers are true\n",
    "positive.\n",
    "Also, he far exceeded our model of sanity."
   ]
  },
  {
   "cell_type": "code",
   "execution_count": 131,
   "id": "b2a38512",
   "metadata": {},
   "outputs": [
    {
     "data": {
      "text/plain": [
       "0.8634270051489612"
      ]
     },
     "execution_count": 131,
     "metadata": {},
     "output_type": "execute_result"
    }
   ],
   "source": [
    "#In the last step we will test the model on the test set, and a visual illustration will be given.\n",
    "probabilities_test = model.predict_proba(features_test)\n",
    "probabilities_one_test = probabilities_test[:, 1]\n",
    "roc_auc_score(target_test, probabilities_one_test)"
   ]
  },
  {
   "cell_type": "code",
   "execution_count": 132,
   "id": "7c0d592b",
   "metadata": {},
   "outputs": [
    {
     "data": {
      "image/png": "[encoded data removed]",
      "text/plain": [
       "<Figure size 432x288 with 1 Axes>"
      ]
     },
     "metadata": {
      "needs_background": "light"
     },
     "output_type": "display_data"
    },
    {
     "data": {
      "image/png": "[encoded data removed]",
      "text/plain": [
       "<Figure size 432x288 with 1 Axes>"
      ]
     },
     "metadata": {
      "needs_background": "light"
     },
     "output_type": "display_data"
    }
   ],
   "source": [
    "fpr, tpr, thresholds = roc_curve(target_test, probabilities_one_test, pos_label='1')\n",
    "\n",
    "plt.figure()\n",
    "plt.plot([0, 1], [0, 1], linestyle='--')\n",
    "\n",
    "plt.figure()\n",
    "plt.plot(fpr, tpr)\n",
    "plt.xlim([0.0, 1.0])\n",
    "plt.ylim([0.0, 1.0])\n",
    "plt.xlabel('False Positive Rate')\n",
    "plt.ylabel('True Positive Rate')\n",
    "plt.title('ROC curve')\n",
    "plt.show()"
   ]
  },
  {
   "cell_type": "markdown",
   "id": "6bd7aa85",
   "metadata": {},
   "source": [
    "Even in the final test on the test set, our model passed well.\n",
    "\n",
    "Conclusion - the model works and is ready for work."
   ]
  },
  {
   "cell_type": "markdown",
   "id": "97530514",
   "metadata": {},
   "source": [
    "**Solution Report:**"
   ]
  },
  {
   "cell_type": "markdown",
   "id": "42a7a26c",
   "metadata": {},
   "source": [
    "**My work plan:**  \n",
    "*1.Downloading the data*   \n",
    "*2.Preparing the data* - dealing with duplicates, dealing with problems in the data set, dealing with exceptions.   \n",
    "*3.Preliminary analysis* preparing a main data set, creating graphs and find the features ('begindate','monthlycharges','paymentmethod', 'type', 'streamingmovies','streamingtv','internetservice', 'partner' ) and target(enddate), locating and deleting exceptions, coding categorical values.   \n",
    "*4.The model* - Since this is a classification task, I will examine the logistic regression and decision tree models in different depths.\n",
    "I will test the model with the accuracy and AUC-ROC indicators."
   ]
  },
  {
   "cell_type": "markdown",
   "id": "12b40be0",
   "metadata": {},
   "source": [
    "**Steps from the work plan carried out:**\n",
    "\n",
    "1.Downloading the data  \n",
    "2.Preparing the data - dealing with duplicates, Merging the 4 tables into one central table, finding exceptions.   \n",
    "3.Preliminary analysis- preparing a main data set, creating graphs and find the features ('begindate','monthlycharges','paymentmethod', 'type', 'streamingmovies','streamingtv','internetservice', 'partner' ) and target(enddate), coding categorical values.  \n",
    "4.Building the model - we created two models, a logistic regression and a decision tree. We compared the two indices and found that logistic regression is more suitable for this task.\n",
    "We also created a dummy model to do a sanity check."
   ]
  },
  {
   "cell_type": "markdown",
   "id": "3ce936b7",
   "metadata": {},
   "source": [
    "**Skipped steps:**\n",
    "\n",
    "The only step that is skipped from the work program is the deletion of abnormal values.\n",
    "Although such were found, they were all categorical values, which by virtue of being such are not really exceptional."
   ]
  },
  {
   "cell_type": "markdown",
   "id": "f725caa9",
   "metadata": {},
   "source": [
    "**Difficulties during work:**\n",
    "\n",
    "I had two difficulties during the work:  \n",
    "1. Decide what I do with the outliers. After investigation I came to the conclusion that categorical values ​​are usually not unusual.\n",
    "2. Creating an AUC-ROC curve. I worked with the model we learned but it didn't work for me. I researched the matter and realized that when working with a binary target, a parameter called 'pos_label' must be added."
   ]
  },
  {
   "cell_type": "markdown",
   "id": "e449d13d",
   "metadata": {},
   "source": [
    "**Key steps in solving the problem:**\n",
    "\n",
    "1. Understanding the task and deciding on what type of solution should be given.\n",
    "2. Understanding the data set and turning it into one set that can be manipulated and is easy to work with.\n",
    "3. Filtering the appropriate information from the array.\n",
    "4. Testing different models for solving the type of problem we defined and choosing the most appropriate one among them.\n",
    "5. Final check on the test setup and decision whether the model is indeed successful."
   ]
  },
  {
   "cell_type": "markdown",
   "id": "ab2c611a",
   "metadata": {},
   "source": [
    "**The final model - logistic regression.**\n",
    "\n",
    "The final grades-"
   ]
  }
 ],
 "metadata": {
  "kernelspec": {
   "display_name": "Python 3 (ipykernel)",
   "language": "python",
   "name": "python3"
  },
  "language_info": {
   "codemirror_mode": {
    "name": "ipython",
    "version": 3
   },
   "file_extension": ".py",
   "mimetype": "text/x-python",
   "name": "python",
   "nbconvert_exporter": "python",
   "pygments_lexer": "ipython3",
   "version": "3.9.5"
  },
  "toc": {
   "base_numbering": 1,
   "nav_menu": {},
   "number_sections": true,
   "sideBar": true,
   "skip_h1_title": true,
   "title_cell": "Table of Contents",
   "title_sidebar": "Contents",
   "toc_cell": false,
   "toc_position": {},
   "toc_section_display": true,
   "toc_window_display": false
  }
 },
 "nbformat": 4,
 "nbformat_minor": 5
}
