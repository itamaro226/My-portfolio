{
 "cells": [
  {
   "cell_type": "markdown",
   "metadata": {},
   "source": [
    "Rusty Bargain used car sales service is developing an app to attract new customers. In that app, you can quickly find out the market value of your car. You have access to historical data: technical specifications, trim versions, and prices. You need to build the model to determine the value. \n",
    "\n",
    "Rusty Bargain is interested in:\n",
    "\n",
    "- the quality of the prediction;\n",
    "- the speed of the prediction;\n",
    "- the time required for training"
   ]
  },
  {
   "cell_type": "markdown",
   "metadata": {},
   "source": [
    "## Data preparation"
   ]
  },
  {
   "cell_type": "code",
   "execution_count": 1,
   "metadata": {},
   "outputs": [
    {
     "name": "stdout",
     "output_type": "stream",
     "text": [
      "Requirement already satisfied: lightgbm in /opt/conda/lib/python3.9/site-packages (3.3.1)\n",
      "Requirement already satisfied: numpy in /opt/conda/lib/python3.9/site-packages (from lightgbm) (1.21.1)\n",
      "Requirement already satisfied: scikit-learn!=0.22.0 in /opt/conda/lib/python3.9/site-packages (from lightgbm) (0.24.1)\n",
      "Requirement already satisfied: wheel in /opt/conda/lib/python3.9/site-packages (from lightgbm) (0.36.2)\n",
      "Requirement already satisfied: scipy in /opt/conda/lib/python3.9/site-packages (from lightgbm) (1.8.0)\n",
      "Requirement already satisfied: threadpoolctl>=2.0.0 in /opt/conda/lib/python3.9/site-packages (from scikit-learn!=0.22.0->lightgbm) (3.1.0)\n",
      "Requirement already satisfied: joblib>=0.11 in /opt/conda/lib/python3.9/site-packages (from scikit-learn!=0.22.0->lightgbm) (1.1.0)\n",
      "Note: you may need to restart the kernel to use updated packages.\n"
     ]
    }
   ],
   "source": [
    "pip install lightgbm "
   ]
  },
  {
   "cell_type": "code",
   "execution_count": 2,
   "metadata": {},
   "outputs": [],
   "source": [
    "import numpy as np\n",
    "import pandas as pd\n",
    "import math\n",
    "import seaborn as sns\n",
    "import sklearn.linear_model\n",
    "import sklearn.metrics\n",
    "import sklearn.neighbors\n",
    "import sklearn.preprocessing\n",
    "from sklearn.neighbors import RadiusNeighborsClassifier\n",
    "from sklearn.model_selection import train_test_split\n",
    "from IPython.display import display\n",
    "from sklearn.impute import SimpleImputer\n",
    "import plotly.express as px\n",
    "from sklearn.preprocessing import OrdinalEncoder\n",
    "from sklearn.datasets import make_regression\n",
    "from sklearn.ensemble import GradientBoostingRegressor\n",
    "from sklearn.metrics import mean_squared_error\n",
    "import lightgbm \n",
    "from sklearn.linear_model import LinearRegression"
   ]
  },
  {
   "cell_type": "code",
   "execution_count": 3,
   "metadata": {},
   "outputs": [],
   "source": [
    "data = pd.read_csv('/datasets/car_data.csv')"
   ]
  },
  {
   "cell_type": "code",
   "execution_count": 4,
   "metadata": {},
   "outputs": [
    {
     "data": {
      "text/html": [
       "<div>\n",
       "<style scoped>\n",
       "    .dataframe tbody tr th:only-of-type {\n",
       "        vertical-align: middle;\n",
       "    }\n",
       "\n",
       "    .dataframe tbody tr th {\n",
       "        vertical-align: top;\n",
       "    }\n",
       "\n",
       "    .dataframe thead th {\n",
       "        text-align: right;\n",
       "    }\n",
       "</style>\n",
       "<table border=\"1\" class=\"dataframe\">\n",
       "  <thead>\n",
       "    <tr style=\"text-align: right;\">\n",
       "      <th></th>\n",
       "      <th>DateCrawled</th>\n",
       "      <th>Price</th>\n",
       "      <th>VehicleType</th>\n",
       "      <th>RegistrationYear</th>\n",
       "      <th>Gearbox</th>\n",
       "      <th>Power</th>\n",
       "      <th>Model</th>\n",
       "      <th>Mileage</th>\n",
       "      <th>RegistrationMonth</th>\n",
       "      <th>FuelType</th>\n",
       "      <th>Brand</th>\n",
       "      <th>NotRepaired</th>\n",
       "      <th>DateCreated</th>\n",
       "      <th>NumberOfPictures</th>\n",
       "      <th>PostalCode</th>\n",
       "      <th>LastSeen</th>\n",
       "    </tr>\n",
       "  </thead>\n",
       "  <tbody>\n",
       "    <tr>\n",
       "      <th>0</th>\n",
       "      <td>24/03/2016 11:52</td>\n",
       "      <td>480</td>\n",
       "      <td>NaN</td>\n",
       "      <td>1993</td>\n",
       "      <td>manual</td>\n",
       "      <td>0</td>\n",
       "      <td>golf</td>\n",
       "      <td>150000</td>\n",
       "      <td>0</td>\n",
       "      <td>petrol</td>\n",
       "      <td>volkswagen</td>\n",
       "      <td>NaN</td>\n",
       "      <td>24/03/2016 00:00</td>\n",
       "      <td>0</td>\n",
       "      <td>70435</td>\n",
       "      <td>07/04/2016 03:16</td>\n",
       "    </tr>\n",
       "    <tr>\n",
       "      <th>1</th>\n",
       "      <td>24/03/2016 10:58</td>\n",
       "      <td>18300</td>\n",
       "      <td>coupe</td>\n",
       "      <td>2011</td>\n",
       "      <td>manual</td>\n",
       "      <td>190</td>\n",
       "      <td>NaN</td>\n",
       "      <td>125000</td>\n",
       "      <td>5</td>\n",
       "      <td>gasoline</td>\n",
       "      <td>audi</td>\n",
       "      <td>yes</td>\n",
       "      <td>24/03/2016 00:00</td>\n",
       "      <td>0</td>\n",
       "      <td>66954</td>\n",
       "      <td>07/04/2016 01:46</td>\n",
       "    </tr>\n",
       "    <tr>\n",
       "      <th>2</th>\n",
       "      <td>14/03/2016 12:52</td>\n",
       "      <td>9800</td>\n",
       "      <td>suv</td>\n",
       "      <td>2004</td>\n",
       "      <td>auto</td>\n",
       "      <td>163</td>\n",
       "      <td>grand</td>\n",
       "      <td>125000</td>\n",
       "      <td>8</td>\n",
       "      <td>gasoline</td>\n",
       "      <td>jeep</td>\n",
       "      <td>NaN</td>\n",
       "      <td>14/03/2016 00:00</td>\n",
       "      <td>0</td>\n",
       "      <td>90480</td>\n",
       "      <td>05/04/2016 12:47</td>\n",
       "    </tr>\n",
       "    <tr>\n",
       "      <th>3</th>\n",
       "      <td>17/03/2016 16:54</td>\n",
       "      <td>1500</td>\n",
       "      <td>small</td>\n",
       "      <td>2001</td>\n",
       "      <td>manual</td>\n",
       "      <td>75</td>\n",
       "      <td>golf</td>\n",
       "      <td>150000</td>\n",
       "      <td>6</td>\n",
       "      <td>petrol</td>\n",
       "      <td>volkswagen</td>\n",
       "      <td>no</td>\n",
       "      <td>17/03/2016 00:00</td>\n",
       "      <td>0</td>\n",
       "      <td>91074</td>\n",
       "      <td>17/03/2016 17:40</td>\n",
       "    </tr>\n",
       "    <tr>\n",
       "      <th>4</th>\n",
       "      <td>31/03/2016 17:25</td>\n",
       "      <td>3600</td>\n",
       "      <td>small</td>\n",
       "      <td>2008</td>\n",
       "      <td>manual</td>\n",
       "      <td>69</td>\n",
       "      <td>fabia</td>\n",
       "      <td>90000</td>\n",
       "      <td>7</td>\n",
       "      <td>gasoline</td>\n",
       "      <td>skoda</td>\n",
       "      <td>no</td>\n",
       "      <td>31/03/2016 00:00</td>\n",
       "      <td>0</td>\n",
       "      <td>60437</td>\n",
       "      <td>06/04/2016 10:17</td>\n",
       "    </tr>\n",
       "  </tbody>\n",
       "</table>\n",
       "</div>"
      ],
      "text/plain": [
       "        DateCrawled  Price VehicleType  RegistrationYear Gearbox  Power  \\\n",
       "0  24/03/2016 11:52    480         NaN              1993  manual      0   \n",
       "1  24/03/2016 10:58  18300       coupe              2011  manual    190   \n",
       "2  14/03/2016 12:52   9800         suv              2004    auto    163   \n",
       "3  17/03/2016 16:54   1500       small              2001  manual     75   \n",
       "4  31/03/2016 17:25   3600       small              2008  manual     69   \n",
       "\n",
       "   Model  Mileage  RegistrationMonth  FuelType       Brand NotRepaired  \\\n",
       "0   golf   150000                  0    petrol  volkswagen         NaN   \n",
       "1    NaN   125000                  5  gasoline        audi         yes   \n",
       "2  grand   125000                  8  gasoline        jeep         NaN   \n",
       "3   golf   150000                  6    petrol  volkswagen          no   \n",
       "4  fabia    90000                  7  gasoline       skoda          no   \n",
       "\n",
       "        DateCreated  NumberOfPictures  PostalCode          LastSeen  \n",
       "0  24/03/2016 00:00                 0       70435  07/04/2016 03:16  \n",
       "1  24/03/2016 00:00                 0       66954  07/04/2016 01:46  \n",
       "2  14/03/2016 00:00                 0       90480  05/04/2016 12:47  \n",
       "3  17/03/2016 00:00                 0       91074  17/03/2016 17:40  \n",
       "4  31/03/2016 00:00                 0       60437  06/04/2016 10:17  "
      ]
     },
     "execution_count": 4,
     "metadata": {},
     "output_type": "execute_result"
    }
   ],
   "source": [
    "data.head()"
   ]
  },
  {
   "cell_type": "code",
   "execution_count": 5,
   "metadata": {},
   "outputs": [],
   "source": [
    "# We will change the column names to lowercase letters.\n",
    "data.columns= data.columns.str.lower()"
   ]
  },
  {
   "cell_type": "code",
   "execution_count": 6,
   "metadata": {},
   "outputs": [
    {
     "data": {
      "text/html": [
       "<div>\n",
       "<style scoped>\n",
       "    .dataframe tbody tr th:only-of-type {\n",
       "        vertical-align: middle;\n",
       "    }\n",
       "\n",
       "    .dataframe tbody tr th {\n",
       "        vertical-align: top;\n",
       "    }\n",
       "\n",
       "    .dataframe thead th {\n",
       "        text-align: right;\n",
       "    }\n",
       "</style>\n",
       "<table border=\"1\" class=\"dataframe\">\n",
       "  <thead>\n",
       "    <tr style=\"text-align: right;\">\n",
       "      <th></th>\n",
       "      <th>datecrawled</th>\n",
       "      <th>price</th>\n",
       "      <th>vehicletype</th>\n",
       "      <th>registrationyear</th>\n",
       "      <th>gearbox</th>\n",
       "      <th>power</th>\n",
       "      <th>model</th>\n",
       "      <th>mileage</th>\n",
       "      <th>registrationmonth</th>\n",
       "      <th>fueltype</th>\n",
       "      <th>brand</th>\n",
       "      <th>notrepaired</th>\n",
       "      <th>datecreated</th>\n",
       "      <th>numberofpictures</th>\n",
       "      <th>postalcode</th>\n",
       "      <th>lastseen</th>\n",
       "    </tr>\n",
       "  </thead>\n",
       "  <tbody>\n",
       "    <tr>\n",
       "      <th>0</th>\n",
       "      <td>24/03/2016 11:52</td>\n",
       "      <td>480</td>\n",
       "      <td>NaN</td>\n",
       "      <td>1993</td>\n",
       "      <td>manual</td>\n",
       "      <td>0</td>\n",
       "      <td>golf</td>\n",
       "      <td>150000</td>\n",
       "      <td>0</td>\n",
       "      <td>petrol</td>\n",
       "      <td>volkswagen</td>\n",
       "      <td>NaN</td>\n",
       "      <td>24/03/2016 00:00</td>\n",
       "      <td>0</td>\n",
       "      <td>70435</td>\n",
       "      <td>07/04/2016 03:16</td>\n",
       "    </tr>\n",
       "    <tr>\n",
       "      <th>1</th>\n",
       "      <td>24/03/2016 10:58</td>\n",
       "      <td>18300</td>\n",
       "      <td>coupe</td>\n",
       "      <td>2011</td>\n",
       "      <td>manual</td>\n",
       "      <td>190</td>\n",
       "      <td>NaN</td>\n",
       "      <td>125000</td>\n",
       "      <td>5</td>\n",
       "      <td>gasoline</td>\n",
       "      <td>audi</td>\n",
       "      <td>yes</td>\n",
       "      <td>24/03/2016 00:00</td>\n",
       "      <td>0</td>\n",
       "      <td>66954</td>\n",
       "      <td>07/04/2016 01:46</td>\n",
       "    </tr>\n",
       "    <tr>\n",
       "      <th>2</th>\n",
       "      <td>14/03/2016 12:52</td>\n",
       "      <td>9800</td>\n",
       "      <td>suv</td>\n",
       "      <td>2004</td>\n",
       "      <td>auto</td>\n",
       "      <td>163</td>\n",
       "      <td>grand</td>\n",
       "      <td>125000</td>\n",
       "      <td>8</td>\n",
       "      <td>gasoline</td>\n",
       "      <td>jeep</td>\n",
       "      <td>NaN</td>\n",
       "      <td>14/03/2016 00:00</td>\n",
       "      <td>0</td>\n",
       "      <td>90480</td>\n",
       "      <td>05/04/2016 12:47</td>\n",
       "    </tr>\n",
       "    <tr>\n",
       "      <th>3</th>\n",
       "      <td>17/03/2016 16:54</td>\n",
       "      <td>1500</td>\n",
       "      <td>small</td>\n",
       "      <td>2001</td>\n",
       "      <td>manual</td>\n",
       "      <td>75</td>\n",
       "      <td>golf</td>\n",
       "      <td>150000</td>\n",
       "      <td>6</td>\n",
       "      <td>petrol</td>\n",
       "      <td>volkswagen</td>\n",
       "      <td>no</td>\n",
       "      <td>17/03/2016 00:00</td>\n",
       "      <td>0</td>\n",
       "      <td>91074</td>\n",
       "      <td>17/03/2016 17:40</td>\n",
       "    </tr>\n",
       "    <tr>\n",
       "      <th>4</th>\n",
       "      <td>31/03/2016 17:25</td>\n",
       "      <td>3600</td>\n",
       "      <td>small</td>\n",
       "      <td>2008</td>\n",
       "      <td>manual</td>\n",
       "      <td>69</td>\n",
       "      <td>fabia</td>\n",
       "      <td>90000</td>\n",
       "      <td>7</td>\n",
       "      <td>gasoline</td>\n",
       "      <td>skoda</td>\n",
       "      <td>no</td>\n",
       "      <td>31/03/2016 00:00</td>\n",
       "      <td>0</td>\n",
       "      <td>60437</td>\n",
       "      <td>06/04/2016 10:17</td>\n",
       "    </tr>\n",
       "  </tbody>\n",
       "</table>\n",
       "</div>"
      ],
      "text/plain": [
       "        datecrawled  price vehicletype  registrationyear gearbox  power  \\\n",
       "0  24/03/2016 11:52    480         NaN              1993  manual      0   \n",
       "1  24/03/2016 10:58  18300       coupe              2011  manual    190   \n",
       "2  14/03/2016 12:52   9800         suv              2004    auto    163   \n",
       "3  17/03/2016 16:54   1500       small              2001  manual     75   \n",
       "4  31/03/2016 17:25   3600       small              2008  manual     69   \n",
       "\n",
       "   model  mileage  registrationmonth  fueltype       brand notrepaired  \\\n",
       "0   golf   150000                  0    petrol  volkswagen         NaN   \n",
       "1    NaN   125000                  5  gasoline        audi         yes   \n",
       "2  grand   125000                  8  gasoline        jeep         NaN   \n",
       "3   golf   150000                  6    petrol  volkswagen          no   \n",
       "4  fabia    90000                  7  gasoline       skoda          no   \n",
       "\n",
       "        datecreated  numberofpictures  postalcode          lastseen  \n",
       "0  24/03/2016 00:00                 0       70435  07/04/2016 03:16  \n",
       "1  24/03/2016 00:00                 0       66954  07/04/2016 01:46  \n",
       "2  14/03/2016 00:00                 0       90480  05/04/2016 12:47  \n",
       "3  17/03/2016 00:00                 0       91074  17/03/2016 17:40  \n",
       "4  31/03/2016 00:00                 0       60437  06/04/2016 10:17  "
      ]
     },
     "execution_count": 6,
     "metadata": {},
     "output_type": "execute_result"
    }
   ],
   "source": [
    "data.head()"
   ]
  },
  {
   "cell_type": "code",
   "execution_count": 7,
   "metadata": {},
   "outputs": [
    {
     "data": {
      "text/plain": [
       "datecrawled              0\n",
       "price                    0\n",
       "vehicletype          37490\n",
       "registrationyear         0\n",
       "gearbox              19833\n",
       "power                    0\n",
       "model                19705\n",
       "mileage                  0\n",
       "registrationmonth        0\n",
       "fueltype             32895\n",
       "brand                    0\n",
       "notrepaired          71154\n",
       "datecreated              0\n",
       "numberofpictures         0\n",
       "postalcode               0\n",
       "lastseen                 0\n",
       "dtype: int64"
      ]
     },
     "execution_count": 7,
     "metadata": {},
     "output_type": "execute_result"
    }
   ],
   "source": [
    "# Let's check if there are any missing values, and if so we will handle them.\n",
    "pd.isnull(data).sum()"
   ]
  },
  {
   "cell_type": "code",
   "execution_count": 8,
   "metadata": {},
   "outputs": [],
   "source": [
    "non_nomeric = data.iloc[:,[2,4,6,9,10,11]]\n",
    "missing_categorical = data[non_nomeric.columns.to_list()].isna().sum()\n",
    "list_of_missing_categorical = missing_categorical[missing_categorical>0].index.to_list()"
   ]
  },
  {
   "cell_type": "code",
   "execution_count": 9,
   "metadata": {},
   "outputs": [],
   "source": [
    "#In this case, in my opinion, it would be best to fill in the missing values with the most frequent value.\n",
    "simple_imputer = SimpleImputer(strategy = 'most_frequent')"
   ]
  },
  {
   "cell_type": "code",
   "execution_count": 10,
   "metadata": {},
   "outputs": [],
   "source": [
    "def impute_values_in_columns(data:pd.DataFrame, column_name, my_imputer)-> pd.DataFrame:\n",
    "    data[ column_name] = my_imputer.fit_transform(data[column_name].values.reshape(-1,1))\n",
    "    return data"
   ]
  },
  {
   "cell_type": "code",
   "execution_count": 11,
   "metadata": {},
   "outputs": [],
   "source": [
    "for column_name in list_of_missing_categorical:\n",
    "    data = impute_values_in_columns(data,column_name, simple_imputer)"
   ]
  },
  {
   "cell_type": "code",
   "execution_count": 12,
   "metadata": {},
   "outputs": [
    {
     "data": {
      "text/plain": [
       "datecrawled          0\n",
       "price                0\n",
       "vehicletype          0\n",
       "registrationyear     0\n",
       "gearbox              0\n",
       "power                0\n",
       "model                0\n",
       "mileage              0\n",
       "registrationmonth    0\n",
       "fueltype             0\n",
       "brand                0\n",
       "notrepaired          0\n",
       "datecreated          0\n",
       "numberofpictures     0\n",
       "postalcode           0\n",
       "lastseen             0\n",
       "dtype: int64"
      ]
     },
     "execution_count": 12,
     "metadata": {},
     "output_type": "execute_result"
    }
   ],
   "source": [
    "pd.isnull(data).sum()"
   ]
  },
  {
   "cell_type": "code",
   "execution_count": 13,
   "metadata": {},
   "outputs": [
    {
     "data": {
      "text/plain": [
       "299"
      ]
     },
     "execution_count": 13,
     "metadata": {},
     "output_type": "execute_result"
    }
   ],
   "source": [
    "# We will check if there are duplicates.\n",
    "data.duplicated().sum()"
   ]
  },
  {
   "cell_type": "code",
   "execution_count": 14,
   "metadata": {},
   "outputs": [],
   "source": [
    "# We will delete the duplicates.\n",
    "data=data.drop_duplicates()"
   ]
  },
  {
   "cell_type": "code",
   "execution_count": 15,
   "metadata": {},
   "outputs": [],
   "source": [
    "#In preparation for the prediction, \n",
    "#I want to use only the year of manufacture and not the exact date so as not to confuse the model too much, \n",
    "#so we will make the date a year only.\n",
    "data['datecreated']=pd.to_datetime(data['datecreated'])\n",
    "data['datecrawled']=pd.to_datetime(data['datecreated'])"
   ]
  },
  {
   "cell_type": "code",
   "execution_count": 16,
   "metadata": {},
   "outputs": [],
   "source": [
    "data['datecreated'] = data['datecreated'].dt.year"
   ]
  },
  {
   "cell_type": "code",
   "execution_count": 17,
   "metadata": {},
   "outputs": [
    {
     "data": {
      "text/plain": [
       "0        40218\n",
       "75       24001\n",
       "60       15877\n",
       "150      14568\n",
       "101      13283\n",
       "         ...  \n",
       "323          1\n",
       "3454         1\n",
       "1056         1\n",
       "13636        1\n",
       "1158         1\n",
       "Name: power, Length: 712, dtype: int64"
      ]
     },
     "execution_count": 17,
     "metadata": {},
     "output_type": "execute_result"
    }
   ],
   "source": [
    "#Now we will check if we have unusual values in the power column.\n",
    "data['power'].value_counts()"
   ]
  },
  {
   "cell_type": "code",
   "execution_count": 18,
   "metadata": {},
   "outputs": [],
   "source": [
    "# We have a lot of values of 0, since it doesn't make sense we will replace them with the average.\n",
    "mean_power = data['power'].mean()\n",
    "data.loc[data.power == 0, 'power'] = mean_power"
   ]
  },
  {
   "cell_type": "code",
   "execution_count": 19,
   "metadata": {},
   "outputs": [
    {
     "data": {
      "text/plain": [
       "110.087697     40218\n",
       "75.000000      24001\n",
       "60.000000      15877\n",
       "150.000000     14568\n",
       "101.000000     13283\n",
       "               ...  \n",
       "1055.000000        1\n",
       "8500.000000        1\n",
       "574.000000         1\n",
       "1054.000000        1\n",
       "9010.000000        1\n",
       "Name: power, Length: 712, dtype: int64"
      ]
     },
     "execution_count": 19,
     "metadata": {},
     "output_type": "execute_result"
    }
   ],
   "source": [
    "data['power'].value_counts()"
   ]
  },
  {
   "cell_type": "code",
   "execution_count": 20,
   "metadata": {},
   "outputs": [],
   "source": [
    "# lets encode the categoriel values.\n",
    "categorial = ['vehicletype', 'gearbox', 'model', 'fueltype','notrepaired', 'brand']\n",
    "data_ohe = pd.get_dummies(data, columns=categorial)"
   ]
  },
  {
   "cell_type": "code",
   "execution_count": 21,
   "metadata": {},
   "outputs": [
    {
     "data": {
      "text/html": [
       "<div>\n",
       "<style scoped>\n",
       "    .dataframe tbody tr th:only-of-type {\n",
       "        vertical-align: middle;\n",
       "    }\n",
       "\n",
       "    .dataframe tbody tr th {\n",
       "        vertical-align: top;\n",
       "    }\n",
       "\n",
       "    .dataframe thead th {\n",
       "        text-align: right;\n",
       "    }\n",
       "</style>\n",
       "<table border=\"1\" class=\"dataframe\">\n",
       "  <thead>\n",
       "    <tr style=\"text-align: right;\">\n",
       "      <th></th>\n",
       "      <th>datecrawled</th>\n",
       "      <th>price</th>\n",
       "      <th>registrationyear</th>\n",
       "      <th>power</th>\n",
       "      <th>mileage</th>\n",
       "      <th>registrationmonth</th>\n",
       "      <th>datecreated</th>\n",
       "      <th>numberofpictures</th>\n",
       "      <th>postalcode</th>\n",
       "      <th>lastseen</th>\n",
       "      <th>...</th>\n",
       "      <th>brand_seat</th>\n",
       "      <th>brand_skoda</th>\n",
       "      <th>brand_smart</th>\n",
       "      <th>brand_sonstige_autos</th>\n",
       "      <th>brand_subaru</th>\n",
       "      <th>brand_suzuki</th>\n",
       "      <th>brand_toyota</th>\n",
       "      <th>brand_trabant</th>\n",
       "      <th>brand_volkswagen</th>\n",
       "      <th>brand_volvo</th>\n",
       "    </tr>\n",
       "  </thead>\n",
       "  <tbody>\n",
       "    <tr>\n",
       "      <th>0</th>\n",
       "      <td>2016-03-24</td>\n",
       "      <td>480</td>\n",
       "      <td>1993</td>\n",
       "      <td>110.087697</td>\n",
       "      <td>150000</td>\n",
       "      <td>0</td>\n",
       "      <td>2016</td>\n",
       "      <td>0</td>\n",
       "      <td>70435</td>\n",
       "      <td>07/04/2016 03:16</td>\n",
       "      <td>...</td>\n",
       "      <td>0</td>\n",
       "      <td>0</td>\n",
       "      <td>0</td>\n",
       "      <td>0</td>\n",
       "      <td>0</td>\n",
       "      <td>0</td>\n",
       "      <td>0</td>\n",
       "      <td>0</td>\n",
       "      <td>1</td>\n",
       "      <td>0</td>\n",
       "    </tr>\n",
       "    <tr>\n",
       "      <th>1</th>\n",
       "      <td>2016-03-24</td>\n",
       "      <td>18300</td>\n",
       "      <td>2011</td>\n",
       "      <td>190.000000</td>\n",
       "      <td>125000</td>\n",
       "      <td>5</td>\n",
       "      <td>2016</td>\n",
       "      <td>0</td>\n",
       "      <td>66954</td>\n",
       "      <td>07/04/2016 01:46</td>\n",
       "      <td>...</td>\n",
       "      <td>0</td>\n",
       "      <td>0</td>\n",
       "      <td>0</td>\n",
       "      <td>0</td>\n",
       "      <td>0</td>\n",
       "      <td>0</td>\n",
       "      <td>0</td>\n",
       "      <td>0</td>\n",
       "      <td>0</td>\n",
       "      <td>0</td>\n",
       "    </tr>\n",
       "    <tr>\n",
       "      <th>2</th>\n",
       "      <td>2016-03-14</td>\n",
       "      <td>9800</td>\n",
       "      <td>2004</td>\n",
       "      <td>163.000000</td>\n",
       "      <td>125000</td>\n",
       "      <td>8</td>\n",
       "      <td>2016</td>\n",
       "      <td>0</td>\n",
       "      <td>90480</td>\n",
       "      <td>05/04/2016 12:47</td>\n",
       "      <td>...</td>\n",
       "      <td>0</td>\n",
       "      <td>0</td>\n",
       "      <td>0</td>\n",
       "      <td>0</td>\n",
       "      <td>0</td>\n",
       "      <td>0</td>\n",
       "      <td>0</td>\n",
       "      <td>0</td>\n",
       "      <td>0</td>\n",
       "      <td>0</td>\n",
       "    </tr>\n",
       "    <tr>\n",
       "      <th>3</th>\n",
       "      <td>2016-03-17</td>\n",
       "      <td>1500</td>\n",
       "      <td>2001</td>\n",
       "      <td>75.000000</td>\n",
       "      <td>150000</td>\n",
       "      <td>6</td>\n",
       "      <td>2016</td>\n",
       "      <td>0</td>\n",
       "      <td>91074</td>\n",
       "      <td>17/03/2016 17:40</td>\n",
       "      <td>...</td>\n",
       "      <td>0</td>\n",
       "      <td>0</td>\n",
       "      <td>0</td>\n",
       "      <td>0</td>\n",
       "      <td>0</td>\n",
       "      <td>0</td>\n",
       "      <td>0</td>\n",
       "      <td>0</td>\n",
       "      <td>1</td>\n",
       "      <td>0</td>\n",
       "    </tr>\n",
       "    <tr>\n",
       "      <th>4</th>\n",
       "      <td>2016-03-31</td>\n",
       "      <td>3600</td>\n",
       "      <td>2008</td>\n",
       "      <td>69.000000</td>\n",
       "      <td>90000</td>\n",
       "      <td>7</td>\n",
       "      <td>2016</td>\n",
       "      <td>0</td>\n",
       "      <td>60437</td>\n",
       "      <td>06/04/2016 10:17</td>\n",
       "      <td>...</td>\n",
       "      <td>0</td>\n",
       "      <td>1</td>\n",
       "      <td>0</td>\n",
       "      <td>0</td>\n",
       "      <td>0</td>\n",
       "      <td>0</td>\n",
       "      <td>0</td>\n",
       "      <td>0</td>\n",
       "      <td>0</td>\n",
       "      <td>0</td>\n",
       "    </tr>\n",
       "  </tbody>\n",
       "</table>\n",
       "<p>5 rows × 319 columns</p>\n",
       "</div>"
      ],
      "text/plain": [
       "  datecrawled  price  registrationyear       power  mileage  \\\n",
       "0  2016-03-24    480              1993  110.087697   150000   \n",
       "1  2016-03-24  18300              2011  190.000000   125000   \n",
       "2  2016-03-14   9800              2004  163.000000   125000   \n",
       "3  2016-03-17   1500              2001   75.000000   150000   \n",
       "4  2016-03-31   3600              2008   69.000000    90000   \n",
       "\n",
       "   registrationmonth  datecreated  numberofpictures  postalcode  \\\n",
       "0                  0         2016                 0       70435   \n",
       "1                  5         2016                 0       66954   \n",
       "2                  8         2016                 0       90480   \n",
       "3                  6         2016                 0       91074   \n",
       "4                  7         2016                 0       60437   \n",
       "\n",
       "           lastseen  ...  brand_seat  brand_skoda  brand_smart  \\\n",
       "0  07/04/2016 03:16  ...           0            0            0   \n",
       "1  07/04/2016 01:46  ...           0            0            0   \n",
       "2  05/04/2016 12:47  ...           0            0            0   \n",
       "3  17/03/2016 17:40  ...           0            0            0   \n",
       "4  06/04/2016 10:17  ...           0            1            0   \n",
       "\n",
       "   brand_sonstige_autos  brand_subaru  brand_suzuki  brand_toyota  \\\n",
       "0                     0             0             0             0   \n",
       "1                     0             0             0             0   \n",
       "2                     0             0             0             0   \n",
       "3                     0             0             0             0   \n",
       "4                     0             0             0             0   \n",
       "\n",
       "   brand_trabant  brand_volkswagen  brand_volvo  \n",
       "0              0                 1            0  \n",
       "1              0                 0            0  \n",
       "2              0                 0            0  \n",
       "3              0                 1            0  \n",
       "4              0                 0            0  \n",
       "\n",
       "[5 rows x 319 columns]"
      ]
     },
     "execution_count": 21,
     "metadata": {},
     "output_type": "execute_result"
    }
   ],
   "source": [
    "data_ohe.head()"
   ]
  },
  {
   "cell_type": "code",
   "execution_count": 22,
   "metadata": {},
   "outputs": [],
   "source": [
    "#We will divide the data set into training, validation and test sets.\n",
    "# set aside 20% of train and test data for evaluation\n",
    "df_train, df_test = train_test_split(data_ohe, test_size=0.2, random_state=12345)\n",
    "\n",
    "# Use the same function above for the validation set\n",
    "df_train, df_valid = train_test_split(data_ohe, test_size=0.25, random_state=12345) # 0.25 x 0.8 = 0.2"
   ]
  },
  {
   "cell_type": "code",
   "execution_count": 23,
   "metadata": {},
   "outputs": [],
   "source": [
    "# Lets set targets and targets.\n",
    "features_train = df_train.drop(['datecrawled','price', 'registrationmonth',\n",
    "'datecreated', 'numberofpictures', 'postalcode', 'lastseen'], axis=1)\n",
    "target_train = df_train['price']\n",
    "features_valid = df_valid.drop(['datecrawled','price', 'registrationmonth',\n",
    "'datecreated', 'numberofpictures', 'postalcode', 'lastseen'], axis=1)\n",
    "target_valid = df_valid['price']\n",
    "features_test = df_test.drop(['datecrawled','price', 'registrationmonth',\n",
    "'datecreated', 'numberofpictures', 'postalcode', 'lastseen'], axis=1)\n",
    "target_test = df_test['price']"
   ]
  },
  {
   "cell_type": "markdown",
   "metadata": {},
   "source": [
    "Our dataset is ready to use."
   ]
  },
  {
   "cell_type": "markdown",
   "metadata": {},
   "source": [
    "## Model training"
   ]
  },
  {
   "cell_type": "code",
   "execution_count": 24,
   "metadata": {},
   "outputs": [
    {
     "name": "stdout",
     "output_type": "stream",
     "text": [
      "RMSE of the best model on the validation set: 2339.8607810192734 n_estimators: 14 best_depth: 7\n",
      "CPU times: user 13min 47s, sys: 13.2 s, total: 14min\n",
      "Wall time: 14min\n"
     ]
    }
   ],
   "source": [
    "%%time\n",
    "best_model = None\n",
    "best_result = 10000\n",
    "best_est = 0\n",
    "best_depth = 0\n",
    "for est in range(10, 15):\n",
    "    for depth in range (1, 8):\n",
    "        model = GradientBoostingRegressor(n_estimators=est, max_depth=depth)\n",
    "        model.fit(features_train, target_train)\n",
    "        predictions_valid = model.predict(features_valid) \n",
    "        result = mean_squared_error(target_valid, predictions_valid)**0.5\n",
    "        if result < best_result:\n",
    "            best_model = model\n",
    "            best_result = result\n",
    "            best_est = est\n",
    "            best_depth = depth\n",
    "\n",
    "print(\"RMSE of the best model on the validation set:\", best_result, \"n_estimators:\", best_est, \"best_depth:\", depth)"
   ]
  },
  {
   "cell_type": "code",
   "execution_count": 25,
   "metadata": {},
   "outputs": [
    {
     "name": "stdout",
     "output_type": "stream",
     "text": [
      "CPU times: user 50.9 s, sys: 457 ms, total: 51.4 s\n",
      "Wall time: 51.4 s\n"
     ]
    }
   ],
   "source": [
    "%%time\n",
    "model = GradientBoostingRegressor(n_estimators=14, max_depth=7)\n",
    "model.fit(features_train, target_train)\n",
    "predictions_valid = model.predict(features_valid) \n",
    "result = mean_squared_error(target_valid, predictions_valid)**0.5"
   ]
  },
  {
   "cell_type": "code",
   "execution_count": null,
   "metadata": {},
   "outputs": [],
   "source": [
    "%%time\n",
    "# We will continue with the lightgbm model.\n",
    "best_model = None\n",
    "best_result = 10000\n",
    "best_est = 0\n",
    "best_depth = 0\n",
    "for est in range(10, 21):\n",
    "    for depth in range (1, 11):\n",
    "        model = lightgbm.LGBMRegressor(n_estimators=est, max_depth=depth)\n",
    "        model.fit(features_train, target_train)\n",
    "        predictions_valid = model.predict(features_valid) \n",
    "        result = mean_squared_error(target_valid, predictions_valid)**0.5\n",
    "        if result < best_result:\n",
    "            best_model = model\n",
    "            best_result = result\n",
    "            best_est = est\n",
    "            best_depth = depth\n",
    "\n",
    "print(\"RMSE of the best model on the validation set:\", best_result, \"n_estimators:\", best_est, \"best_depth:\", depth)"
   ]
  },
  {
   "cell_type": "code",
   "execution_count": null,
   "metadata": {},
   "outputs": [],
   "source": [
    "%%time\n",
    "model = lightgbm.LGBMRegressor(n_estimators=20, max_depth=10)\n",
    "model.fit(features_train, target_train)\n",
    "predictions_valid = model.predict(features_valid) \n",
    "result = mean_squared_error(target_valid, predictions_valid)**0.5"
   ]
  },
  {
   "cell_type": "code",
   "execution_count": null,
   "metadata": {},
   "outputs": [],
   "source": [
    "%%time\n",
    "#We will use linear regression to perform a sanity check.\n",
    "model = LinearRegression()\n",
    "model.fit(features_train, target_train)\n",
    "predictions_valid = model.predict(features_valid) \n",
    "\n",
    "result = mean_squared_error(target_valid, predictions_valid)**0.5\n",
    "print(\"RMSE of the linear regression model on the validation set:\", result)"
   ]
  },
  {
   "cell_type": "code",
   "execution_count": 26,
   "metadata": {},
   "outputs": [
    {
     "name": "stdout",
     "output_type": "stream",
     "text": [
      "RMSE of the final model on the test set: 2342.0691444933523\n",
      "CPU times: user 50.1 s, sys: 368 ms, total: 50.4 s\n",
      "Wall time: 50.5 s\n"
     ]
    }
   ],
   "source": [
    "%%time\n",
    "#final estimate generalization performance.\n",
    "model = GradientBoostingRegressor(n_estimators=14, max_depth=7)\n",
    "model.fit(features_train, target_train)\n",
    "predictions_test = model.predict(features_test) \n",
    "result = mean_squared_error(target_test, predictions_test)**0.5\n",
    "print(\"RMSE of the final model on the test set:\", result)"
   ]
  },
  {
   "cell_type": "markdown",
   "metadata": {},
   "source": [
    "## Model analysis"
   ]
  },
  {
   "cell_type": "markdown",
   "metadata": {},
   "source": [
    "The quality of the models according to the RMSE score and the best hyperparameters: \n",
    "\n",
    "sklearn GradientBoostingRegressor:  \n",
    "RMSE of the best model on the validation set: 2339.8 n_estimators: 14 best_depth: 7\n",
    "\n",
    "lightgbm:  \n",
    "RMSE of the best model on the validation set: 2238.3 n_estimators: 20 best_depth: 10\n",
    "\n",
    "linear regression:  \n",
    "RMSE of the linear regression model on the validation set: 3243.7\n",
    "\n",
    "final model:  \n",
    "RMSE of the final model (sklearn GradientBoostingRegressor-n_estimators: 14 best_depth: 7 ) on the test set: 2342.0"
   ]
  },
  {
   "cell_type": "markdown",
   "metadata": {},
   "source": [
    "Running time of tuning the models: \n",
    "\n",
    "sklearn GradientBoostingRegressor - 14min.\n",
    "\n",
    "lightgbm -  9min 15s."
   ]
  },
  {
   "cell_type": "markdown",
   "metadata": {},
   "source": [
    "Running time of the models:\n",
    "\n",
    "sklearn GradientBoostingRegressor - 51.4 s.\n",
    "\n",
    "lightgbm -  1min 44s.\n",
    "\n",
    "linear regression - 23.4 s.\n",
    "\n",
    "final model - 50.5 s."
   ]
  },
  {
   "cell_type": "markdown",
   "metadata": {},
   "source": [
    "final conclusion:\n",
    "\n",
    "The two models we trained passed our sanity test (which is actually the linear regression) and got much better results than it.\n",
    "Our two models gave almost identical results, with Skillen's model being more accurate.\n",
    "In terms of hyperparameter tuning time, lightgbm's model was faster, but what is really important is the running time of the model, in which Skillran's model was much faster, which is why it was chosen.\n",
    "Skillran's model was subjected to a final evaluation on our test set and gave a similar result to our evaluation set - which confirms the model's validity."
   ]
  }
 ],
 "metadata": {
  "ExecuteTimeLog": [
   {
    "duration": 1566,
    "start_time": "2022-08-13T08:17:07.856Z"
   },
   {
    "duration": 2601,
    "start_time": "2022-08-13T08:17:40.839Z"
   },
   {
    "duration": 97,
    "start_time": "2022-08-13T08:18:07.989Z"
   },
   {
    "duration": 15,
    "start_time": "2022-08-13T08:19:00.254Z"
   },
   {
    "duration": 4,
    "start_time": "2022-08-13T08:28:51.494Z"
   },
   {
    "duration": 12,
    "start_time": "2022-08-13T08:29:01.450Z"
   },
   {
    "duration": 94,
    "start_time": "2022-08-13T08:29:05.789Z"
   },
   {
    "duration": 96,
    "start_time": "2022-08-13T08:34:06.220Z"
   },
   {
    "duration": 5,
    "start_time": "2022-08-13T08:34:45.953Z"
   },
   {
    "duration": 2,
    "start_time": "2022-08-13T08:34:51.064Z"
   },
   {
    "duration": 3,
    "start_time": "2022-08-13T11:55:56.995Z"
   },
   {
    "duration": 1846,
    "start_time": "2022-08-13T12:03:09.776Z"
   },
   {
    "duration": 1418,
    "start_time": "2022-08-13T12:03:52.549Z"
   },
   {
    "duration": 9,
    "start_time": "2022-08-13T12:04:27.890Z"
   },
   {
    "duration": 9,
    "start_time": "2022-08-13T12:04:38.008Z"
   },
   {
    "duration": 628,
    "start_time": "2022-08-13T12:04:47.471Z"
   },
   {
    "duration": 1205,
    "start_time": "2022-08-13T12:05:32.086Z"
   },
   {
    "duration": 1432,
    "start_time": "2022-08-13T12:05:53.114Z"
   },
   {
    "duration": 3,
    "start_time": "2022-08-13T12:06:16.942Z"
   },
   {
    "duration": 9,
    "start_time": "2022-08-13T12:08:05.290Z"
   },
   {
    "duration": 9,
    "start_time": "2022-08-13T12:08:49.323Z"
   },
   {
    "duration": 11,
    "start_time": "2022-08-13T12:09:17.509Z"
   },
   {
    "duration": 3,
    "start_time": "2022-08-13T12:10:24.925Z"
   },
   {
    "duration": 9,
    "start_time": "2022-08-13T12:10:46.750Z"
   },
   {
    "duration": 290,
    "start_time": "2022-08-13T12:11:01.753Z"
   },
   {
    "duration": 9,
    "start_time": "2022-08-13T12:13:52.359Z"
   },
   {
    "duration": 80,
    "start_time": "2022-08-13T12:17:32.981Z"
   },
   {
    "duration": 3,
    "start_time": "2022-08-13T12:17:36.986Z"
   },
   {
    "duration": 3,
    "start_time": "2022-08-13T12:17:39.519Z"
   },
   {
    "duration": 2262,
    "start_time": "2022-08-13T12:17:41.632Z"
   },
   {
    "duration": 60,
    "start_time": "2022-08-13T12:21:07.711Z"
   },
   {
    "duration": 61,
    "start_time": "2022-08-13T12:21:15.771Z"
   },
   {
    "duration": 3,
    "start_time": "2022-08-13T12:21:18.760Z"
   },
   {
    "duration": 2,
    "start_time": "2022-08-13T12:21:21.212Z"
   },
   {
    "duration": 4,
    "start_time": "2022-08-13T12:21:35.966Z"
   },
   {
    "duration": 170,
    "start_time": "2022-08-13T12:21:37.813Z"
   },
   {
    "duration": 93,
    "start_time": "2022-08-13T12:21:51.211Z"
   },
   {
    "duration": 241,
    "start_time": "2022-08-13T12:22:12.194Z"
   },
   {
    "duration": 274,
    "start_time": "2022-08-13T12:22:39.164Z"
   },
   {
    "duration": 289,
    "start_time": "2022-08-13T12:27:58.440Z"
   },
   {
    "duration": 266,
    "start_time": "2022-08-13T12:28:00.266Z"
   },
   {
    "duration": 11,
    "start_time": "2022-08-13T12:42:08.080Z"
   },
   {
    "duration": 10,
    "start_time": "2022-08-13T12:42:51.915Z"
   },
   {
    "duration": 9,
    "start_time": "2022-08-13T12:43:21.868Z"
   },
   {
    "duration": 67,
    "start_time": "2022-08-13T12:44:41.693Z"
   },
   {
    "duration": 30,
    "start_time": "2022-08-13T12:44:44.012Z"
   },
   {
    "duration": 12,
    "start_time": "2022-08-13T12:45:00.612Z"
   },
   {
    "duration": 9,
    "start_time": "2022-08-13T12:47:08.225Z"
   },
   {
    "duration": 3,
    "start_time": "2022-08-13T13:12:41.324Z"
   },
   {
    "duration": 7,
    "start_time": "2022-08-13T13:13:58.073Z"
   },
   {
    "duration": 85,
    "start_time": "2022-08-13T13:14:41.386Z"
   },
   {
    "duration": 3,
    "start_time": "2022-08-13T13:14:45.512Z"
   },
   {
    "duration": 314,
    "start_time": "2022-08-13T13:14:52.455Z"
   },
   {
    "duration": 18,
    "start_time": "2022-08-13T13:15:43.112Z"
   },
   {
    "duration": 3,
    "start_time": "2022-08-13T13:17:01.745Z"
   },
   {
    "duration": 20,
    "start_time": "2022-08-13T13:17:04.642Z"
   },
   {
    "duration": 18,
    "start_time": "2022-08-13T13:22:54.773Z"
   },
   {
    "duration": 106,
    "start_time": "2022-08-13T13:25:06.019Z"
   },
   {
    "duration": 2146,
    "start_time": "2022-08-13T13:25:56.691Z"
   },
   {
    "duration": 1350,
    "start_time": "2022-08-13T13:26:50.898Z"
   },
   {
    "duration": 23,
    "start_time": "2022-08-13T13:29:24.278Z"
   },
   {
    "duration": 7,
    "start_time": "2022-08-13T13:31:48.639Z"
   },
   {
    "duration": 10,
    "start_time": "2022-08-13T13:32:01.131Z"
   },
   {
    "duration": 17,
    "start_time": "2022-08-13T13:43:27.260Z"
   },
   {
    "duration": 11,
    "start_time": "2022-08-13T13:43:42.766Z"
   },
   {
    "duration": 1701,
    "start_time": "2022-08-13T13:43:52.166Z"
   },
   {
    "duration": 4,
    "start_time": "2022-08-13T13:44:53.971Z"
   },
   {
    "duration": 18,
    "start_time": "2022-08-13T13:44:56.145Z"
   },
   {
    "duration": 10,
    "start_time": "2022-08-13T13:46:01.729Z"
   },
   {
    "duration": 8,
    "start_time": "2022-08-13T13:47:00.961Z"
   },
   {
    "duration": 3,
    "start_time": "2022-08-13T13:47:49.174Z"
   },
   {
    "duration": 4,
    "start_time": "2022-08-13T13:51:04.769Z"
   },
   {
    "duration": 1445,
    "start_time": "2022-08-13T13:52:18.241Z"
   },
   {
    "duration": 103,
    "start_time": "2022-08-13T13:52:55.578Z"
   },
   {
    "duration": 1957,
    "start_time": "2022-08-13T13:52:58.166Z"
   },
   {
    "duration": 95,
    "start_time": "2022-08-13T13:54:13.542Z"
   },
   {
    "duration": 4,
    "start_time": "2022-08-13T13:54:53.157Z"
   },
   {
    "duration": 1447,
    "start_time": "2022-08-13T13:54:57.836Z"
   },
   {
    "duration": 79,
    "start_time": "2022-08-13T13:55:25.338Z"
   },
   {
    "duration": 92,
    "start_time": "2022-08-13T13:55:46.270Z"
   },
   {
    "duration": 91,
    "start_time": "2022-08-13T13:56:02.359Z"
   },
   {
    "duration": 4,
    "start_time": "2022-08-13T13:56:34.741Z"
   },
   {
    "duration": 121,
    "start_time": "2022-08-13T13:56:37.285Z"
   },
   {
    "duration": 88,
    "start_time": "2022-08-13T13:56:42.058Z"
   },
   {
    "duration": 3,
    "start_time": "2022-08-13T13:57:12.965Z"
   },
   {
    "duration": 95,
    "start_time": "2022-08-13T13:57:15.506Z"
   },
   {
    "duration": 97,
    "start_time": "2022-08-13T13:57:25.535Z"
   },
   {
    "duration": 3,
    "start_time": "2022-08-13T13:57:47.003Z"
   },
   {
    "duration": 97,
    "start_time": "2022-08-13T13:57:48.909Z"
   },
   {
    "duration": 4,
    "start_time": "2022-08-13T13:58:04.935Z"
   },
   {
    "duration": 98,
    "start_time": "2022-08-13T13:58:07.111Z"
   },
   {
    "duration": 10,
    "start_time": "2022-08-13T14:00:49.525Z"
   },
   {
    "duration": 15,
    "start_time": "2022-08-13T14:01:20.909Z"
   },
   {
    "duration": 1928,
    "start_time": "2022-08-13T14:01:47.640Z"
   },
   {
    "duration": 2715,
    "start_time": "2022-08-13T14:01:49.570Z"
   },
   {
    "duration": 15,
    "start_time": "2022-08-13T14:01:52.287Z"
   },
   {
    "duration": 2,
    "start_time": "2022-08-13T14:01:52.303Z"
   },
   {
    "duration": 13,
    "start_time": "2022-08-13T14:01:52.307Z"
   },
   {
    "duration": 97,
    "start_time": "2022-08-13T14:01:52.321Z"
   },
   {
    "duration": 122,
    "start_time": "2022-08-13T14:01:52.420Z"
   },
   {
    "duration": 0,
    "start_time": "2022-08-13T14:01:52.544Z"
   },
   {
    "duration": 0,
    "start_time": "2022-08-13T14:01:52.545Z"
   },
   {
    "duration": 0,
    "start_time": "2022-08-13T14:01:52.547Z"
   },
   {
    "duration": 0,
    "start_time": "2022-08-13T14:01:52.548Z"
   },
   {
    "duration": 0,
    "start_time": "2022-08-13T14:01:52.554Z"
   },
   {
    "duration": 0,
    "start_time": "2022-08-13T14:01:52.555Z"
   },
   {
    "duration": 0,
    "start_time": "2022-08-13T14:01:52.556Z"
   },
   {
    "duration": 0,
    "start_time": "2022-08-13T14:01:52.557Z"
   },
   {
    "duration": 1,
    "start_time": "2022-08-13T14:01:52.558Z"
   },
   {
    "duration": 0,
    "start_time": "2022-08-13T14:01:52.559Z"
   },
   {
    "duration": 0,
    "start_time": "2022-08-13T14:01:52.560Z"
   },
   {
    "duration": 0,
    "start_time": "2022-08-13T14:01:52.561Z"
   },
   {
    "duration": 0,
    "start_time": "2022-08-13T14:01:52.562Z"
   },
   {
    "duration": 0,
    "start_time": "2022-08-13T14:01:52.563Z"
   },
   {
    "duration": 2,
    "start_time": "2022-08-13T14:02:14.670Z"
   },
   {
    "duration": 3,
    "start_time": "2022-08-13T14:02:17.106Z"
   },
   {
    "duration": 8,
    "start_time": "2022-08-13T14:02:19.186Z"
   },
   {
    "duration": 109,
    "start_time": "2022-08-13T14:02:21.285Z"
   },
   {
    "duration": 309,
    "start_time": "2022-08-13T14:02:23.363Z"
   },
   {
    "duration": 358,
    "start_time": "2022-08-13T14:02:25.337Z"
   },
   {
    "duration": 94,
    "start_time": "2022-08-13T14:02:29.704Z"
   },
   {
    "duration": 34,
    "start_time": "2022-08-13T14:02:32.135Z"
   },
   {
    "duration": 9,
    "start_time": "2022-08-13T14:02:38.606Z"
   },
   {
    "duration": 17,
    "start_time": "2022-08-13T14:02:41.012Z"
   },
   {
    "duration": 4,
    "start_time": "2022-08-13T14:02:43.147Z"
   },
   {
    "duration": 17,
    "start_time": "2022-08-13T14:02:45.794Z"
   },
   {
    "duration": 44,
    "start_time": "2022-08-13T14:02:54.371Z"
   },
   {
    "duration": 6,
    "start_time": "2022-08-13T14:05:34.681Z"
   },
   {
    "duration": 2249,
    "start_time": "2022-08-13T14:05:39.440Z"
   },
   {
    "duration": 2767,
    "start_time": "2022-08-13T14:05:41.691Z"
   },
   {
    "duration": 17,
    "start_time": "2022-08-13T14:05:44.465Z"
   },
   {
    "duration": 3,
    "start_time": "2022-08-13T14:05:44.484Z"
   },
   {
    "duration": 15,
    "start_time": "2022-08-13T14:05:44.489Z"
   },
   {
    "duration": 129,
    "start_time": "2022-08-13T14:05:44.506Z"
   },
   {
    "duration": 75,
    "start_time": "2022-08-13T14:05:44.636Z"
   },
   {
    "duration": 0,
    "start_time": "2022-08-13T14:05:44.712Z"
   },
   {
    "duration": 0,
    "start_time": "2022-08-13T14:05:44.714Z"
   },
   {
    "duration": 0,
    "start_time": "2022-08-13T14:05:44.714Z"
   },
   {
    "duration": 0,
    "start_time": "2022-08-13T14:05:44.715Z"
   },
   {
    "duration": 0,
    "start_time": "2022-08-13T14:05:44.716Z"
   },
   {
    "duration": 0,
    "start_time": "2022-08-13T14:05:44.717Z"
   },
   {
    "duration": 0,
    "start_time": "2022-08-13T14:05:44.718Z"
   },
   {
    "duration": 0,
    "start_time": "2022-08-13T14:05:44.719Z"
   },
   {
    "duration": 0,
    "start_time": "2022-08-13T14:05:44.720Z"
   },
   {
    "duration": 0,
    "start_time": "2022-08-13T14:05:44.721Z"
   },
   {
    "duration": 0,
    "start_time": "2022-08-13T14:05:44.722Z"
   },
   {
    "duration": 0,
    "start_time": "2022-08-13T14:05:44.722Z"
   },
   {
    "duration": 47,
    "start_time": "2022-08-14T05:32:37.193Z"
   },
   {
    "duration": 1502,
    "start_time": "2022-08-14T05:32:49.818Z"
   },
   {
    "duration": 796,
    "start_time": "2022-08-14T05:32:51.322Z"
   },
   {
    "duration": 15,
    "start_time": "2022-08-14T05:32:52.119Z"
   },
   {
    "duration": 3,
    "start_time": "2022-08-14T05:32:52.135Z"
   },
   {
    "duration": 11,
    "start_time": "2022-08-14T05:32:52.139Z"
   },
   {
    "duration": 98,
    "start_time": "2022-08-14T05:32:52.151Z"
   },
   {
    "duration": 71,
    "start_time": "2022-08-14T05:32:56.087Z"
   },
   {
    "duration": 3,
    "start_time": "2022-08-14T05:32:59.304Z"
   },
   {
    "duration": 3,
    "start_time": "2022-08-14T05:33:01.385Z"
   },
   {
    "duration": 176,
    "start_time": "2022-08-14T05:33:04.079Z"
   },
   {
    "duration": 93,
    "start_time": "2022-08-14T05:33:07.367Z"
   },
   {
    "duration": 275,
    "start_time": "2022-08-14T05:33:11.048Z"
   },
   {
    "duration": 303,
    "start_time": "2022-08-14T05:33:13.397Z"
   },
   {
    "duration": 88,
    "start_time": "2022-08-14T05:33:17.363Z"
   },
   {
    "duration": 15,
    "start_time": "2022-08-14T05:33:19.742Z"
   },
   {
    "duration": 8,
    "start_time": "2022-08-14T05:33:22.858Z"
   },
   {
    "duration": 13,
    "start_time": "2022-08-14T05:33:35.765Z"
   },
   {
    "duration": 2,
    "start_time": "2022-08-14T05:33:44.839Z"
   },
   {
    "duration": 18,
    "start_time": "2022-08-14T05:33:47.374Z"
   },
   {
    "duration": 15,
    "start_time": "2022-08-14T05:35:18.326Z"
   },
   {
    "duration": 16,
    "start_time": "2022-08-14T05:36:08.914Z"
   },
   {
    "duration": 99,
    "start_time": "2022-08-14T05:39:36.627Z"
   },
   {
    "duration": 3,
    "start_time": "2022-08-14T05:42:35.003Z"
   },
   {
    "duration": 1054,
    "start_time": "2022-08-14T05:43:30.356Z"
   },
   {
    "duration": 20,
    "start_time": "2022-08-14T05:44:04.146Z"
   },
   {
    "duration": 60,
    "start_time": "2022-08-14T05:48:23.228Z"
   },
   {
    "duration": 17,
    "start_time": "2022-08-14T05:57:33.698Z"
   },
   {
    "duration": 1762,
    "start_time": "2022-08-15T12:08:23.479Z"
   },
   {
    "duration": 1101,
    "start_time": "2022-08-15T12:08:25.243Z"
   },
   {
    "duration": 17,
    "start_time": "2022-08-15T12:08:26.345Z"
   },
   {
    "duration": 3,
    "start_time": "2022-08-15T12:08:26.363Z"
   },
   {
    "duration": 15,
    "start_time": "2022-08-15T12:08:26.367Z"
   },
   {
    "duration": 150,
    "start_time": "2022-08-15T12:08:26.383Z"
   },
   {
    "duration": 127,
    "start_time": "2022-08-15T12:08:26.534Z"
   },
   {
    "duration": 2,
    "start_time": "2022-08-15T12:08:26.662Z"
   },
   {
    "duration": 10,
    "start_time": "2022-08-15T12:08:26.666Z"
   },
   {
    "duration": 231,
    "start_time": "2022-08-15T12:08:26.678Z"
   },
   {
    "duration": 158,
    "start_time": "2022-08-15T12:08:26.911Z"
   },
   {
    "duration": 368,
    "start_time": "2022-08-15T12:08:27.071Z"
   },
   {
    "duration": 377,
    "start_time": "2022-08-15T12:08:27.444Z"
   },
   {
    "duration": 105,
    "start_time": "2022-08-15T12:08:27.824Z"
   },
   {
    "duration": 31,
    "start_time": "2022-08-15T12:08:27.936Z"
   },
   {
    "duration": 7,
    "start_time": "2022-08-15T12:08:27.969Z"
   },
   {
    "duration": 15,
    "start_time": "2022-08-15T12:08:27.978Z"
   },
   {
    "duration": 29,
    "start_time": "2022-08-15T12:08:27.995Z"
   },
   {
    "duration": 1255,
    "start_time": "2022-08-15T12:08:28.026Z"
   },
   {
    "duration": 18,
    "start_time": "2022-08-15T12:08:29.283Z"
   },
   {
    "duration": 127,
    "start_time": "2022-08-15T12:08:29.309Z"
   },
   {
    "duration": 22,
    "start_time": "2022-08-15T12:08:29.438Z"
   },
   {
    "duration": 121,
    "start_time": "2022-08-15T12:08:29.462Z"
   },
   {
    "duration": 21,
    "start_time": "2022-08-15T12:35:15.010Z"
   },
   {
    "duration": 3,
    "start_time": "2022-08-15T12:36:22.368Z"
   },
   {
    "duration": 26,
    "start_time": "2022-08-15T12:36:25.909Z"
   },
   {
    "duration": 11,
    "start_time": "2022-08-15T12:36:30.471Z"
   },
   {
    "duration": 1351,
    "start_time": "2022-08-15T12:36:37.136Z"
   },
   {
    "duration": 25,
    "start_time": "2022-08-15T12:38:13.601Z"
   },
   {
    "duration": 105,
    "start_time": "2022-08-15T12:38:49.800Z"
   },
   {
    "duration": 23,
    "start_time": "2022-08-15T12:38:53.842Z"
   },
   {
    "duration": 25,
    "start_time": "2022-08-15T12:38:56.893Z"
   },
   {
    "duration": 18,
    "start_time": "2022-08-15T12:39:11.664Z"
   },
   {
    "duration": 16,
    "start_time": "2022-08-15T12:39:52.931Z"
   },
   {
    "duration": 13,
    "start_time": "2022-08-15T12:40:12.257Z"
   },
   {
    "duration": 10,
    "start_time": "2022-08-15T12:40:25.647Z"
   },
   {
    "duration": 1404,
    "start_time": "2022-08-15T12:40:35.470Z"
   },
   {
    "duration": 3,
    "start_time": "2022-08-15T12:42:13.569Z"
   },
   {
    "duration": 414442,
    "start_time": "2022-08-15T12:42:19.025Z"
   },
   {
    "duration": 13,
    "start_time": "2022-08-15T12:49:18.733Z"
   },
   {
    "duration": 3786,
    "start_time": "2022-08-15T12:54:10.836Z"
   },
   {
    "duration": 2602,
    "start_time": "2022-08-15T12:54:37.350Z"
   },
   {
    "duration": 1854,
    "start_time": "2022-08-15T12:54:42.650Z"
   },
   {
    "duration": 2963,
    "start_time": "2022-08-15T12:54:53.269Z"
   },
   {
    "duration": 12,
    "start_time": "2022-08-15T12:54:56.234Z"
   },
   {
    "duration": 1147,
    "start_time": "2022-08-15T12:54:56.247Z"
   },
   {
    "duration": 47,
    "start_time": "2022-08-15T12:54:57.396Z"
   },
   {
    "duration": 57,
    "start_time": "2022-08-15T12:54:57.446Z"
   },
   {
    "duration": 94,
    "start_time": "2022-08-15T12:54:57.505Z"
   },
   {
    "duration": 223,
    "start_time": "2022-08-15T12:54:57.601Z"
   },
   {
    "duration": 247,
    "start_time": "2022-08-15T12:54:57.826Z"
   },
   {
    "duration": 6,
    "start_time": "2022-08-15T12:54:58.075Z"
   },
   {
    "duration": 27,
    "start_time": "2022-08-15T12:54:58.083Z"
   },
   {
    "duration": 367,
    "start_time": "2022-08-15T12:54:58.112Z"
   },
   {
    "duration": 179,
    "start_time": "2022-08-15T12:54:58.481Z"
   },
   {
    "duration": 432,
    "start_time": "2022-08-15T12:54:58.662Z"
   },
   {
    "duration": 424,
    "start_time": "2022-08-15T12:54:59.096Z"
   },
   {
    "duration": 121,
    "start_time": "2022-08-15T12:54:59.527Z"
   },
   {
    "duration": 37,
    "start_time": "2022-08-15T12:54:59.652Z"
   },
   {
    "duration": 38,
    "start_time": "2022-08-15T12:54:59.691Z"
   },
   {
    "duration": 32,
    "start_time": "2022-08-15T12:54:59.746Z"
   },
   {
    "duration": 12,
    "start_time": "2022-08-15T12:54:59.779Z"
   },
   {
    "duration": 1665,
    "start_time": "2022-08-15T12:54:59.793Z"
   },
   {
    "duration": 34,
    "start_time": "2022-08-15T12:55:01.464Z"
   },
   {
    "duration": 215,
    "start_time": "2022-08-15T12:55:01.501Z"
   },
   {
    "duration": 32,
    "start_time": "2022-08-15T12:55:01.718Z"
   },
   {
    "duration": 195,
    "start_time": "2022-08-15T12:55:05.951Z"
   },
   {
    "duration": 59,
    "start_time": "2022-08-15T12:55:41.874Z"
   },
   {
    "duration": 212590,
    "start_time": "2022-08-15T12:55:48.877Z"
   },
   {
    "duration": 5,
    "start_time": "2022-08-15T12:59:45.854Z"
   },
   {
    "duration": 15,
    "start_time": "2022-08-15T12:59:50.583Z"
   },
   {
    "duration": 16,
    "start_time": "2022-08-15T13:02:12.845Z"
   },
   {
    "duration": 339,
    "start_time": "2022-08-15T13:29:31.974Z"
   },
   {
    "duration": 147,
    "start_time": "2022-08-15T13:33:51.069Z"
   },
   {
    "duration": 2340,
    "start_time": "2022-08-15T13:34:10.202Z"
   },
   {
    "duration": 6,
    "start_time": "2022-08-15T13:34:12.545Z"
   },
   {
    "duration": 783,
    "start_time": "2022-08-15T13:34:12.552Z"
   },
   {
    "duration": 24,
    "start_time": "2022-08-15T13:34:13.337Z"
   },
   {
    "duration": 17,
    "start_time": "2022-08-15T13:34:13.363Z"
   },
   {
    "duration": 45,
    "start_time": "2022-08-15T13:34:13.382Z"
   },
   {
    "duration": 185,
    "start_time": "2022-08-15T13:34:13.429Z"
   },
   {
    "duration": 146,
    "start_time": "2022-08-15T13:34:13.615Z"
   },
   {
    "duration": 3,
    "start_time": "2022-08-15T13:34:13.763Z"
   },
   {
    "duration": 5,
    "start_time": "2022-08-15T13:34:13.769Z"
   },
   {
    "duration": 273,
    "start_time": "2022-08-15T13:34:13.775Z"
   },
   {
    "duration": 138,
    "start_time": "2022-08-15T13:34:14.050Z"
   },
   {
    "duration": 318,
    "start_time": "2022-08-15T13:34:14.190Z"
   },
   {
    "duration": 348,
    "start_time": "2022-08-15T13:34:14.524Z"
   },
   {
    "duration": 113,
    "start_time": "2022-08-15T13:34:14.873Z"
   },
   {
    "duration": 52,
    "start_time": "2022-08-15T13:34:14.988Z"
   },
   {
    "duration": 13,
    "start_time": "2022-08-15T13:34:15.046Z"
   },
   {
    "duration": 15,
    "start_time": "2022-08-15T13:34:15.062Z"
   },
   {
    "duration": 36,
    "start_time": "2022-08-15T13:34:15.079Z"
   },
   {
    "duration": 1473,
    "start_time": "2022-08-15T13:34:15.118Z"
   },
   {
    "duration": 50,
    "start_time": "2022-08-15T13:34:16.593Z"
   },
   {
    "duration": 107,
    "start_time": "2022-08-15T13:34:16.647Z"
   },
   {
    "duration": 16,
    "start_time": "2022-08-15T13:34:16.756Z"
   },
   {
    "duration": 944016,
    "start_time": "2022-08-15T13:34:16.773Z"
   },
   {
    "duration": 295,
    "start_time": "2022-08-15T14:42:52.343Z"
   },
   {
    "duration": 12,
    "start_time": "2022-08-15T14:42:52.657Z"
   },
   {
    "duration": 2105,
    "start_time": "2022-08-15T15:18:46.577Z"
   },
   {
    "duration": 4,
    "start_time": "2022-08-15T15:18:48.685Z"
   },
   {
    "duration": 584,
    "start_time": "2022-08-15T15:18:48.691Z"
   },
   {
    "duration": 13,
    "start_time": "2022-08-15T15:18:49.278Z"
   },
   {
    "duration": 5,
    "start_time": "2022-08-15T15:18:49.309Z"
   },
   {
    "duration": 22,
    "start_time": "2022-08-15T15:18:49.315Z"
   },
   {
    "duration": 114,
    "start_time": "2022-08-15T15:18:49.339Z"
   },
   {
    "duration": 113,
    "start_time": "2022-08-15T15:18:49.455Z"
   },
   {
    "duration": 3,
    "start_time": "2022-08-15T15:18:49.569Z"
   },
   {
    "duration": 5,
    "start_time": "2022-08-15T15:18:49.574Z"
   },
   {
    "duration": 208,
    "start_time": "2022-08-15T15:18:49.580Z"
   },
   {
    "duration": 114,
    "start_time": "2022-08-15T15:18:49.790Z"
   },
   {
    "duration": 260,
    "start_time": "2022-08-15T15:18:49.905Z"
   },
   {
    "duration": 296,
    "start_time": "2022-08-15T15:18:50.167Z"
   },
   {
    "duration": 100,
    "start_time": "2022-08-15T15:18:50.465Z"
   },
   {
    "duration": 32,
    "start_time": "2022-08-15T15:18:50.566Z"
   },
   {
    "duration": 11,
    "start_time": "2022-08-15T15:18:50.599Z"
   },
   {
    "duration": 14,
    "start_time": "2022-08-15T15:18:50.612Z"
   },
   {
    "duration": 13,
    "start_time": "2022-08-15T15:18:50.628Z"
   },
   {
    "duration": 1164,
    "start_time": "2022-08-15T15:18:50.642Z"
   },
   {
    "duration": 18,
    "start_time": "2022-08-15T15:18:51.808Z"
   },
   {
    "duration": 91,
    "start_time": "2022-08-15T15:18:51.828Z"
   },
   {
    "duration": 16,
    "start_time": "2022-08-15T15:18:51.921Z"
   },
   {
    "duration": 6,
    "start_time": "2022-08-15T15:19:05.778Z"
   },
   {
    "duration": 8,
    "start_time": "2022-08-15T15:19:15.874Z"
   },
   {
    "duration": 4,
    "start_time": "2022-08-15T15:19:38.874Z"
   },
   {
    "duration": 4,
    "start_time": "2022-08-15T15:19:53.575Z"
   },
   {
    "duration": 4,
    "start_time": "2022-08-15T15:19:59.774Z"
   },
   {
    "duration": 2210,
    "start_time": "2022-08-15T15:20:14.357Z"
   },
   {
    "duration": 1634,
    "start_time": "2022-08-15T15:20:16.569Z"
   },
   {
    "duration": 687,
    "start_time": "2022-08-15T15:20:18.205Z"
   },
   {
    "duration": 24,
    "start_time": "2022-08-15T15:20:18.894Z"
   },
   {
    "duration": 12,
    "start_time": "2022-08-15T15:20:18.920Z"
   },
   {
    "duration": 18,
    "start_time": "2022-08-15T15:20:18.933Z"
   },
   {
    "duration": 129,
    "start_time": "2022-08-15T15:20:18.953Z"
   },
   {
    "duration": 117,
    "start_time": "2022-08-15T15:20:19.084Z"
   },
   {
    "duration": 10,
    "start_time": "2022-08-15T15:20:19.203Z"
   },
   {
    "duration": 15,
    "start_time": "2022-08-15T15:20:19.217Z"
   },
   {
    "duration": 204,
    "start_time": "2022-08-15T15:20:19.234Z"
   },
   {
    "duration": 130,
    "start_time": "2022-08-15T15:20:19.440Z"
   },
   {
    "duration": 340,
    "start_time": "2022-08-15T15:20:19.572Z"
   },
   {
    "duration": 355,
    "start_time": "2022-08-15T15:20:19.914Z"
   },
   {
    "duration": 113,
    "start_time": "2022-08-15T15:20:20.271Z"
   },
   {
    "duration": 44,
    "start_time": "2022-08-15T15:20:20.386Z"
   },
   {
    "duration": 9,
    "start_time": "2022-08-15T15:20:20.432Z"
   },
   {
    "duration": 19,
    "start_time": "2022-08-15T15:20:20.443Z"
   },
   {
    "duration": 13,
    "start_time": "2022-08-15T15:20:20.463Z"
   },
   {
    "duration": 1260,
    "start_time": "2022-08-15T15:20:20.478Z"
   },
   {
    "duration": 18,
    "start_time": "2022-08-15T15:20:21.740Z"
   },
   {
    "duration": 108,
    "start_time": "2022-08-15T15:20:21.759Z"
   },
   {
    "duration": 24,
    "start_time": "2022-08-15T15:20:21.869Z"
   },
   {
    "duration": 4,
    "start_time": "2022-08-15T15:20:25.842Z"
   },
   {
    "duration": 8,
    "start_time": "2022-08-15T15:20:45.716Z"
   },
   {
    "duration": 7,
    "start_time": "2022-08-15T15:20:53.981Z"
   },
   {
    "duration": 5,
    "start_time": "2022-08-15T15:21:35.160Z"
   },
   {
    "duration": 4,
    "start_time": "2022-08-15T15:21:42.025Z"
   },
   {
    "duration": 117,
    "start_time": "2022-08-15T15:22:48.301Z"
   },
   {
    "duration": 252337,
    "start_time": "2022-08-15T15:23:04.681Z"
   },
   {
    "duration": 43,
    "start_time": "2022-08-18T14:51:48.841Z"
   },
   {
    "duration": 2151,
    "start_time": "2022-08-18T14:51:53.080Z"
   },
   {
    "duration": 1595,
    "start_time": "2022-08-18T14:51:55.233Z"
   },
   {
    "duration": 848,
    "start_time": "2022-08-18T14:51:56.830Z"
   },
   {
    "duration": 18,
    "start_time": "2022-08-18T14:51:57.680Z"
   },
   {
    "duration": 3,
    "start_time": "2022-08-18T14:51:57.699Z"
   },
   {
    "duration": 16,
    "start_time": "2022-08-18T14:51:57.704Z"
   },
   {
    "duration": 109,
    "start_time": "2022-08-18T14:51:57.721Z"
   },
   {
    "duration": 99,
    "start_time": "2022-08-18T14:51:57.831Z"
   },
   {
    "duration": 2,
    "start_time": "2022-08-18T14:51:57.932Z"
   },
   {
    "duration": 6,
    "start_time": "2022-08-18T14:51:57.936Z"
   },
   {
    "duration": 190,
    "start_time": "2022-08-18T14:51:57.943Z"
   },
   {
    "duration": 100,
    "start_time": "2022-08-18T14:51:58.135Z"
   },
   {
    "duration": 315,
    "start_time": "2022-08-18T14:51:58.237Z"
   },
   {
    "duration": 333,
    "start_time": "2022-08-18T14:51:58.554Z"
   },
   {
    "duration": 99,
    "start_time": "2022-08-18T14:51:58.889Z"
   },
   {
    "duration": 32,
    "start_time": "2022-08-18T14:51:58.989Z"
   },
   {
    "duration": 8,
    "start_time": "2022-08-18T14:51:59.023Z"
   },
   {
    "duration": 13,
    "start_time": "2022-08-18T14:51:59.032Z"
   },
   {
    "duration": 10,
    "start_time": "2022-08-18T14:51:59.047Z"
   },
   {
    "duration": 1193,
    "start_time": "2022-08-18T14:52:03.309Z"
   },
   {
    "duration": 1135,
    "start_time": "2022-08-18T14:52:42.365Z"
   },
   {
    "duration": 3604,
    "start_time": "2022-08-18T14:53:08.856Z"
   },
   {
    "duration": 2197,
    "start_time": "2022-08-18T14:53:46.756Z"
   },
   {
    "duration": 1764,
    "start_time": "2022-08-18T14:54:30.710Z"
   },
   {
    "duration": 2577,
    "start_time": "2022-08-18T15:04:54.385Z"
   },
   {
    "duration": 56,
    "start_time": "2022-08-18T15:15:36.170Z"
   },
   {
    "duration": 18,
    "start_time": "2022-08-18T15:22:55.909Z"
   },
   {
    "duration": 90,
    "start_time": "2022-08-18T15:23:29.887Z"
   },
   {
    "duration": 105,
    "start_time": "2022-08-18T15:25:46.301Z"
   },
   {
    "duration": 16,
    "start_time": "2022-08-18T15:26:22.701Z"
   },
   {
    "duration": 13,
    "start_time": "2022-08-18T15:26:44.238Z"
   },
   {
    "duration": 506,
    "start_time": "2022-08-18T15:27:12.892Z"
   },
   {
    "duration": 23,
    "start_time": "2022-08-18T15:27:22.845Z"
   },
   {
    "duration": 12,
    "start_time": "2022-08-18T15:29:32.991Z"
   },
   {
    "duration": 860,
    "start_time": "2022-08-18T15:29:44.462Z"
   },
   {
    "duration": 18,
    "start_time": "2022-08-18T15:29:50.005Z"
   },
   {
    "duration": 868,
    "start_time": "2022-08-18T15:29:58.623Z"
   },
   {
    "duration": 152,
    "start_time": "2022-08-18T15:30:02.845Z"
   },
   {
    "duration": 110,
    "start_time": "2022-08-18T15:31:01.678Z"
   },
   {
    "duration": 2064,
    "start_time": "2022-08-18T15:31:21.054Z"
   },
   {
    "duration": 15,
    "start_time": "2022-08-18T15:31:58.606Z"
   },
   {
    "duration": 34,
    "start_time": "2022-08-18T15:32:01.277Z"
   },
   {
    "duration": 11,
    "start_time": "2022-08-18T15:32:03.614Z"
   },
   {
    "duration": 119,
    "start_time": "2022-08-18T15:32:08.752Z"
   },
   {
    "duration": 2145,
    "start_time": "2022-08-18T15:32:13.933Z"
   },
   {
    "duration": 37,
    "start_time": "2022-08-18T15:33:34.782Z"
   },
   {
    "duration": 117,
    "start_time": "2022-08-18T15:33:41.088Z"
   },
   {
    "duration": 2088,
    "start_time": "2022-08-18T15:33:45.200Z"
   },
   {
    "duration": 17,
    "start_time": "2022-08-18T15:34:04.002Z"
   },
   {
    "duration": 141,
    "start_time": "2022-08-18T15:36:10.161Z"
   },
   {
    "duration": 2226,
    "start_time": "2022-08-18T15:36:23.120Z"
   },
   {
    "duration": 694,
    "start_time": "2022-08-18T15:38:20.913Z"
   },
   {
    "duration": 17,
    "start_time": "2022-08-18T15:38:24.242Z"
   },
   {
    "duration": 2071,
    "start_time": "2022-08-18T15:38:35.074Z"
   },
   {
    "duration": 139,
    "start_time": "2022-08-18T15:38:49.921Z"
   },
   {
    "duration": 1811,
    "start_time": "2022-08-18T15:38:55.827Z"
   },
   {
    "duration": 4,
    "start_time": "2022-08-18T15:38:57.640Z"
   },
   {
    "duration": 544,
    "start_time": "2022-08-18T15:38:57.646Z"
   },
   {
    "duration": 14,
    "start_time": "2022-08-18T15:38:58.193Z"
   },
   {
    "duration": 5,
    "start_time": "2022-08-18T15:38:58.208Z"
   },
   {
    "duration": 14,
    "start_time": "2022-08-18T15:38:58.215Z"
   },
   {
    "duration": 111,
    "start_time": "2022-08-18T15:38:58.231Z"
   },
   {
    "duration": 101,
    "start_time": "2022-08-18T15:38:58.343Z"
   },
   {
    "duration": 3,
    "start_time": "2022-08-18T15:38:58.445Z"
   },
   {
    "duration": 5,
    "start_time": "2022-08-18T15:38:58.450Z"
   },
   {
    "duration": 178,
    "start_time": "2022-08-18T15:38:58.457Z"
   },
   {
    "duration": 97,
    "start_time": "2022-08-18T15:38:58.636Z"
   },
   {
    "duration": 270,
    "start_time": "2022-08-18T15:38:58.735Z"
   },
   {
    "duration": 277,
    "start_time": "2022-08-18T15:38:59.006Z"
   },
   {
    "duration": 117,
    "start_time": "2022-08-18T15:38:59.285Z"
   },
   {
    "duration": 30,
    "start_time": "2022-08-18T15:38:59.404Z"
   },
   {
    "duration": 7,
    "start_time": "2022-08-18T15:38:59.435Z"
   },
   {
    "duration": 9,
    "start_time": "2022-08-18T15:38:59.444Z"
   },
   {
    "duration": 9,
    "start_time": "2022-08-18T15:38:59.454Z"
   },
   {
    "duration": 777,
    "start_time": "2022-08-18T15:38:59.485Z"
   },
   {
    "duration": 21,
    "start_time": "2022-08-18T15:39:00.264Z"
   },
   {
    "duration": 832,
    "start_time": "2022-08-18T15:39:00.287Z"
   },
   {
    "duration": 144,
    "start_time": "2022-08-18T15:39:01.121Z"
   },
   {
    "duration": 23511,
    "start_time": "2022-08-18T15:39:12.975Z"
   },
   {
    "duration": 555290,
    "start_time": "2022-08-18T15:39:45.104Z"
   },
   {
    "duration": 104783,
    "start_time": "2022-08-18T15:49:27.239Z"
   },
   {
    "duration": 6,
    "start_time": "2022-08-18T15:53:47.333Z"
   },
   {
    "duration": 1955,
    "start_time": "2022-08-18T17:11:39.576Z"
   },
   {
    "duration": 1617,
    "start_time": "2022-08-18T17:11:41.534Z"
   },
   {
    "duration": 645,
    "start_time": "2022-08-18T17:11:43.153Z"
   },
   {
    "duration": 19,
    "start_time": "2022-08-18T17:11:43.801Z"
   },
   {
    "duration": 3,
    "start_time": "2022-08-18T17:11:43.822Z"
   },
   {
    "duration": 21,
    "start_time": "2022-08-18T17:11:43.826Z"
   },
   {
    "duration": 127,
    "start_time": "2022-08-18T17:11:43.849Z"
   },
   {
    "duration": 119,
    "start_time": "2022-08-18T17:11:43.978Z"
   },
   {
    "duration": 3,
    "start_time": "2022-08-18T17:11:44.104Z"
   },
   {
    "duration": 4,
    "start_time": "2022-08-18T17:11:44.110Z"
   },
   {
    "duration": 221,
    "start_time": "2022-08-18T17:11:44.116Z"
   },
   {
    "duration": 130,
    "start_time": "2022-08-18T17:11:44.339Z"
   },
   {
    "duration": 362,
    "start_time": "2022-08-18T17:11:44.471Z"
   },
   {
    "duration": 336,
    "start_time": "2022-08-18T17:11:44.835Z"
   },
   {
    "duration": 153,
    "start_time": "2022-08-18T17:11:45.173Z"
   },
   {
    "duration": 34,
    "start_time": "2022-08-18T17:11:45.328Z"
   },
   {
    "duration": 25,
    "start_time": "2022-08-18T17:11:45.364Z"
   },
   {
    "duration": 19,
    "start_time": "2022-08-18T17:11:45.394Z"
   },
   {
    "duration": 10,
    "start_time": "2022-08-18T17:11:45.414Z"
   },
   {
    "duration": 830,
    "start_time": "2022-08-18T17:11:45.426Z"
   },
   {
    "duration": 18,
    "start_time": "2022-08-18T17:11:46.257Z"
   },
   {
    "duration": 860,
    "start_time": "2022-08-18T17:11:46.285Z"
   },
   {
    "duration": 156,
    "start_time": "2022-08-18T17:11:47.147Z"
   },
   {
    "duration": 1918,
    "start_time": "2022-08-18T17:12:47.861Z"
   },
   {
    "duration": 1525,
    "start_time": "2022-08-18T17:12:49.781Z"
   },
   {
    "duration": 656,
    "start_time": "2022-08-18T17:12:51.307Z"
   },
   {
    "duration": 18,
    "start_time": "2022-08-18T17:12:51.965Z"
   },
   {
    "duration": 16,
    "start_time": "2022-08-18T17:12:51.985Z"
   },
   {
    "duration": 29,
    "start_time": "2022-08-18T17:12:52.003Z"
   },
   {
    "duration": 119,
    "start_time": "2022-08-18T17:12:52.033Z"
   },
   {
    "duration": 110,
    "start_time": "2022-08-18T17:12:52.153Z"
   },
   {
    "duration": 3,
    "start_time": "2022-08-18T17:12:52.264Z"
   },
   {
    "duration": 5,
    "start_time": "2022-08-18T17:12:52.270Z"
   },
   {
    "duration": 218,
    "start_time": "2022-08-18T17:12:52.299Z"
   },
   {
    "duration": 109,
    "start_time": "2022-08-18T17:12:52.519Z"
   },
   {
    "duration": 341,
    "start_time": "2022-08-18T17:12:52.630Z"
   },
   {
    "duration": 332,
    "start_time": "2022-08-18T17:12:52.973Z"
   },
   {
    "duration": 137,
    "start_time": "2022-08-18T17:12:53.307Z"
   },
   {
    "duration": 33,
    "start_time": "2022-08-18T17:12:53.445Z"
   },
   {
    "duration": 14,
    "start_time": "2022-08-18T17:12:53.486Z"
   },
   {
    "duration": 21,
    "start_time": "2022-08-18T17:12:53.501Z"
   },
   {
    "duration": 9,
    "start_time": "2022-08-18T17:12:53.524Z"
   },
   {
    "duration": 773,
    "start_time": "2022-08-18T17:12:53.535Z"
   },
   {
    "duration": 15,
    "start_time": "2022-08-18T17:12:54.310Z"
   },
   {
    "duration": 890,
    "start_time": "2022-08-18T17:12:54.327Z"
   },
   {
    "duration": 144,
    "start_time": "2022-08-18T17:12:55.218Z"
   },
   {
    "duration": 874816,
    "start_time": "2022-08-18T17:12:55.364Z"
   },
   {
    "duration": 51030,
    "start_time": "2022-08-18T17:27:30.182Z"
   },
   {
    "duration": 1816,
    "start_time": "2022-08-18T17:35:50.886Z"
   },
   {
    "duration": 1442,
    "start_time": "2022-08-18T17:35:52.704Z"
   },
   {
    "duration": 636,
    "start_time": "2022-08-18T17:35:54.148Z"
   },
   {
    "duration": 18,
    "start_time": "2022-08-18T17:35:54.786Z"
   },
   {
    "duration": 4,
    "start_time": "2022-08-18T17:35:54.806Z"
   },
   {
    "duration": 17,
    "start_time": "2022-08-18T17:35:54.812Z"
   },
   {
    "duration": 108,
    "start_time": "2022-08-18T17:35:54.831Z"
   },
   {
    "duration": 105,
    "start_time": "2022-08-18T17:35:54.940Z"
   },
   {
    "duration": 2,
    "start_time": "2022-08-18T17:35:55.047Z"
   },
   {
    "duration": 9,
    "start_time": "2022-08-18T17:35:55.050Z"
   },
   {
    "duration": 189,
    "start_time": "2022-08-18T17:35:55.060Z"
   },
   {
    "duration": 94,
    "start_time": "2022-08-18T17:35:55.251Z"
   },
   {
    "duration": 282,
    "start_time": "2022-08-18T17:35:55.346Z"
   },
   {
    "duration": 323,
    "start_time": "2022-08-18T17:35:55.631Z"
   },
   {
    "duration": 137,
    "start_time": "2022-08-18T17:35:55.955Z"
   },
   {
    "duration": 38,
    "start_time": "2022-08-18T17:35:56.094Z"
   },
   {
    "duration": 15,
    "start_time": "2022-08-18T17:35:56.133Z"
   },
   {
    "duration": 15,
    "start_time": "2022-08-18T17:35:56.150Z"
   },
   {
    "duration": 33,
    "start_time": "2022-08-18T17:35:56.167Z"
   },
   {
    "duration": 733,
    "start_time": "2022-08-18T17:35:56.202Z"
   },
   {
    "duration": 17,
    "start_time": "2022-08-18T17:35:56.936Z"
   },
   {
    "duration": 861,
    "start_time": "2022-08-18T17:35:56.954Z"
   },
   {
    "duration": 152,
    "start_time": "2022-08-18T17:35:57.817Z"
   },
   {
    "duration": 840592,
    "start_time": "2022-08-18T17:35:57.971Z"
   },
   {
    "duration": 51417,
    "start_time": "2022-08-18T17:49:58.565Z"
   },
   {
    "duration": 2028,
    "start_time": "2022-08-18T18:28:57.267Z"
   },
   {
    "duration": 1550,
    "start_time": "2022-08-18T18:28:59.297Z"
   },
   {
    "duration": 714,
    "start_time": "2022-08-18T18:29:00.849Z"
   },
   {
    "duration": 18,
    "start_time": "2022-08-18T18:29:01.566Z"
   },
   {
    "duration": 19,
    "start_time": "2022-08-18T18:29:01.586Z"
   },
   {
    "duration": 16,
    "start_time": "2022-08-18T18:29:01.613Z"
   },
   {
    "duration": 119,
    "start_time": "2022-08-18T18:29:01.631Z"
   },
   {
    "duration": 111,
    "start_time": "2022-08-18T18:29:01.751Z"
   },
   {
    "duration": 3,
    "start_time": "2022-08-18T18:29:01.863Z"
   },
   {
    "duration": 41,
    "start_time": "2022-08-18T18:29:01.868Z"
   },
   {
    "duration": 206,
    "start_time": "2022-08-18T18:29:01.911Z"
   },
   {
    "duration": 107,
    "start_time": "2022-08-18T18:29:02.119Z"
   },
   {
    "duration": 317,
    "start_time": "2022-08-18T18:29:02.228Z"
   },
   {
    "duration": 362,
    "start_time": "2022-08-18T18:29:02.546Z"
   },
   {
    "duration": 131,
    "start_time": "2022-08-18T18:29:02.913Z"
   },
   {
    "duration": 31,
    "start_time": "2022-08-18T18:29:03.045Z"
   },
   {
    "duration": 14,
    "start_time": "2022-08-18T18:29:03.078Z"
   },
   {
    "duration": 33,
    "start_time": "2022-08-18T18:29:03.093Z"
   },
   {
    "duration": 12,
    "start_time": "2022-08-18T18:29:03.127Z"
   },
   {
    "duration": 758,
    "start_time": "2022-08-18T18:29:03.141Z"
   },
   {
    "duration": 15,
    "start_time": "2022-08-18T18:29:03.907Z"
   },
   {
    "duration": 917,
    "start_time": "2022-08-18T18:29:03.924Z"
   },
   {
    "duration": 155,
    "start_time": "2022-08-18T18:29:04.843Z"
   },
   {
    "duration": 54240,
    "start_time": "2022-08-18T18:29:10.733Z"
   },
   {
    "duration": 54095,
    "start_time": "2022-08-18T18:30:25.865Z"
   },
   {
    "duration": 50513,
    "start_time": "2022-08-18T18:37:10.627Z"
   }
  ],
  "kernelspec": {
   "display_name": "Python 3 (ipykernel)",
   "language": "python",
   "name": "python3"
  },
  "language_info": {
   "codemirror_mode": {
    "name": "ipython",
    "version": 3
   },
   "file_extension": ".py",
   "mimetype": "text/x-python",
   "name": "python",
   "nbconvert_exporter": "python",
   "pygments_lexer": "ipython3",
   "version": "3.9.7"
  },
  "toc": {
   "base_numbering": 1,
   "nav_menu": {},
   "number_sections": true,
   "sideBar": true,
   "skip_h1_title": true,
   "title_cell": "Table of Contents",
   "title_sidebar": "Contents",
   "toc_cell": false,
   "toc_position": {},
   "toc_section_display": true,
   "toc_window_display": false
  }
 },
 "nbformat": 4,
 "nbformat_minor": 2
}
