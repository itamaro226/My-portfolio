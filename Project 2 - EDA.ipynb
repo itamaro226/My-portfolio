{
 "cells": [
  {
   "cell_type": "markdown",
   "metadata": {},
   "source": [
    "# What sells a car?\n",
    "\n",
    "You're an analyst at Crankshaft List. Hundreds of free advertisements for vehicles are published on your site every day. You need to study data collected over the last few years and determine which factors influence the price of a vehicle."
   ]
  },
  {
   "cell_type": "markdown",
   "metadata": {},
   "source": [
    "[We've provided you with some commentary to guide your thinking as you complete this project. However, make sure to remove all the bracketed comments before submitting your project.]\n",
    "\n",
    "[Before you dive into analyzing your data, explain yourself the purposes of the project and actions you plan to take.]\n",
    "\n",
    "[Please bear in mind that studying, amending and analyzing data is an iterative process. It is normal to return back to previous steps and correct/expand them to allow for further steps.]"
   ]
  },
  {
   "cell_type": "markdown",
   "metadata": {},
   "source": [
    "## Initialization"
   ]
  },
  {
   "cell_type": "code",
   "execution_count": 1,
   "metadata": {},
   "outputs": [],
   "source": [
    "# Loading all the libraries\n",
    "import pandas as pd\n",
    "import numpy as np\n",
    "import matplotlib.pyplot as plt\n",
    "import seaborn as sns\n",
    "import datetime as dt\n",
    "\n"
   ]
  },
  {
   "cell_type": "markdown",
   "metadata": {},
   "source": [
    "### Load data"
   ]
  },
  {
   "cell_type": "code",
   "execution_count": 2,
   "metadata": {},
   "outputs": [],
   "source": [
    "# Load the data file into a DataFrame\n",
    "\n",
    "data = pd.read_csv('/datasets/vehicles_us.csv')"
   ]
  },
  {
   "cell_type": "markdown",
   "metadata": {},
   "source": [
    "### Explore initial data"
   ]
  },
  {
   "cell_type": "markdown",
   "metadata": {},
   "source": [
    "The dataset contains the following fields:\n",
    "- `price`\n",
    "- `model_year`\n",
    "- `model`\n",
    "- `condition`\n",
    "- `cylinders`\n",
    "- `fuel` — gas, diesel, etc.\n",
    "- `odometer` — the vehicle's mileage when the ad was published\n",
    "- `transmission`\n",
    "- `paint_color`\n",
    "- `is_4wd` — whether the vehicle has 4-wheel drive (Boolean type)\n",
    "- `date_posted` — the date the ad was published\n",
    "- `days_listed` — from publication to removal\n",
    "\n",
    "[Understanding the fields, explore them to make yourself familiar with the data.]"
   ]
  },
  {
   "cell_type": "code",
   "execution_count": 3,
   "metadata": {},
   "outputs": [
    {
     "name": "stdout",
     "output_type": "stream",
     "text": [
      "<class 'pandas.core.frame.DataFrame'>\n",
      "RangeIndex: 51525 entries, 0 to 51524\n",
      "Data columns (total 13 columns):\n",
      "price           51525 non-null int64\n",
      "model_year      47906 non-null float64\n",
      "model           51525 non-null object\n",
      "condition       51525 non-null object\n",
      "cylinders       46265 non-null float64\n",
      "fuel            51525 non-null object\n",
      "odometer        43633 non-null float64\n",
      "transmission    51525 non-null object\n",
      "type            51525 non-null object\n",
      "paint_color     42258 non-null object\n",
      "is_4wd          25572 non-null float64\n",
      "date_posted     51525 non-null object\n",
      "days_listed     51525 non-null int64\n",
      "dtypes: float64(4), int64(2), object(7)\n",
      "memory usage: 5.1+ MB\n"
     ]
    }
   ],
   "source": [
    "\n",
    "data.info()"
   ]
  },
  {
   "cell_type": "code",
   "execution_count": 4,
   "metadata": {},
   "outputs": [
    {
     "data": {
      "text/html": [
       "<div>\n",
       "<style scoped>\n",
       "    .dataframe tbody tr th:only-of-type {\n",
       "        vertical-align: middle;\n",
       "    }\n",
       "\n",
       "    .dataframe tbody tr th {\n",
       "        vertical-align: top;\n",
       "    }\n",
       "\n",
       "    .dataframe thead th {\n",
       "        text-align: right;\n",
       "    }\n",
       "</style>\n",
       "<table border=\"1\" class=\"dataframe\">\n",
       "  <thead>\n",
       "    <tr style=\"text-align: right;\">\n",
       "      <th></th>\n",
       "      <th>price</th>\n",
       "      <th>model_year</th>\n",
       "      <th>model</th>\n",
       "      <th>condition</th>\n",
       "      <th>cylinders</th>\n",
       "      <th>fuel</th>\n",
       "      <th>odometer</th>\n",
       "      <th>transmission</th>\n",
       "      <th>type</th>\n",
       "      <th>paint_color</th>\n",
       "      <th>is_4wd</th>\n",
       "      <th>date_posted</th>\n",
       "      <th>days_listed</th>\n",
       "    </tr>\n",
       "  </thead>\n",
       "  <tbody>\n",
       "    <tr>\n",
       "      <td>0</td>\n",
       "      <td>9400</td>\n",
       "      <td>2011.0</td>\n",
       "      <td>bmw x5</td>\n",
       "      <td>good</td>\n",
       "      <td>6.0</td>\n",
       "      <td>gas</td>\n",
       "      <td>145000.0</td>\n",
       "      <td>automatic</td>\n",
       "      <td>SUV</td>\n",
       "      <td>NaN</td>\n",
       "      <td>1.0</td>\n",
       "      <td>2018-06-23</td>\n",
       "      <td>19</td>\n",
       "    </tr>\n",
       "    <tr>\n",
       "      <td>1</td>\n",
       "      <td>25500</td>\n",
       "      <td>NaN</td>\n",
       "      <td>ford f-150</td>\n",
       "      <td>good</td>\n",
       "      <td>6.0</td>\n",
       "      <td>gas</td>\n",
       "      <td>88705.0</td>\n",
       "      <td>automatic</td>\n",
       "      <td>pickup</td>\n",
       "      <td>white</td>\n",
       "      <td>1.0</td>\n",
       "      <td>2018-10-19</td>\n",
       "      <td>50</td>\n",
       "    </tr>\n",
       "    <tr>\n",
       "      <td>2</td>\n",
       "      <td>5500</td>\n",
       "      <td>2013.0</td>\n",
       "      <td>hyundai sonata</td>\n",
       "      <td>like new</td>\n",
       "      <td>4.0</td>\n",
       "      <td>gas</td>\n",
       "      <td>110000.0</td>\n",
       "      <td>automatic</td>\n",
       "      <td>sedan</td>\n",
       "      <td>red</td>\n",
       "      <td>NaN</td>\n",
       "      <td>2019-02-07</td>\n",
       "      <td>79</td>\n",
       "    </tr>\n",
       "    <tr>\n",
       "      <td>3</td>\n",
       "      <td>1500</td>\n",
       "      <td>2003.0</td>\n",
       "      <td>ford f-150</td>\n",
       "      <td>fair</td>\n",
       "      <td>8.0</td>\n",
       "      <td>gas</td>\n",
       "      <td>NaN</td>\n",
       "      <td>automatic</td>\n",
       "      <td>pickup</td>\n",
       "      <td>NaN</td>\n",
       "      <td>NaN</td>\n",
       "      <td>2019-03-22</td>\n",
       "      <td>9</td>\n",
       "    </tr>\n",
       "    <tr>\n",
       "      <td>4</td>\n",
       "      <td>14900</td>\n",
       "      <td>2017.0</td>\n",
       "      <td>chrysler 200</td>\n",
       "      <td>excellent</td>\n",
       "      <td>4.0</td>\n",
       "      <td>gas</td>\n",
       "      <td>80903.0</td>\n",
       "      <td>automatic</td>\n",
       "      <td>sedan</td>\n",
       "      <td>black</td>\n",
       "      <td>NaN</td>\n",
       "      <td>2019-04-02</td>\n",
       "      <td>28</td>\n",
       "    </tr>\n",
       "  </tbody>\n",
       "</table>\n",
       "</div>"
      ],
      "text/plain": [
       "   price  model_year           model  condition  cylinders fuel  odometer  \\\n",
       "0   9400      2011.0          bmw x5       good        6.0  gas  145000.0   \n",
       "1  25500         NaN      ford f-150       good        6.0  gas   88705.0   \n",
       "2   5500      2013.0  hyundai sonata   like new        4.0  gas  110000.0   \n",
       "3   1500      2003.0      ford f-150       fair        8.0  gas       NaN   \n",
       "4  14900      2017.0    chrysler 200  excellent        4.0  gas   80903.0   \n",
       "\n",
       "  transmission    type paint_color  is_4wd date_posted  days_listed  \n",
       "0    automatic     SUV         NaN     1.0  2018-06-23           19  \n",
       "1    automatic  pickup       white     1.0  2018-10-19           50  \n",
       "2    automatic   sedan         red     NaN  2019-02-07           79  \n",
       "3    automatic  pickup         NaN     NaN  2019-03-22            9  \n",
       "4    automatic   sedan       black     NaN  2019-04-02           28  "
      ]
     },
     "execution_count": 4,
     "metadata": {},
     "output_type": "execute_result"
    }
   ],
   "source": [
    "# print a sample of data\n",
    "\n",
    "data.head()"
   ]
  },
  {
   "cell_type": "markdown",
   "metadata": {},
   "source": [
    "There are missing values that need to be addressed. Especially in the 'is_4wd' column, I think because it's a boolean value then everything that appears as a missing value is a False and everything that is True appears as 1."
   ]
  },
  {
   "cell_type": "markdown",
   "metadata": {},
   "source": [
    "Yes. Column 'model_year' is displayed decimal, which is not suitable for counting years."
   ]
  },
  {
   "cell_type": "markdown",
   "metadata": {},
   "source": [
    "At this point I am going to replace the missing values in column 'is_4wd' with 0, and I am going to make column 'model_year' an integer."
   ]
  },
  {
   "cell_type": "code",
   "execution_count": 5,
   "metadata": {},
   "outputs": [
    {
     "data": {
      "text/plain": [
       "0"
      ]
     },
     "execution_count": 5,
     "metadata": {},
     "output_type": "execute_result"
    }
   ],
   "source": [
    "data.duplicated().sum()"
   ]
  },
  {
   "cell_type": "markdown",
   "metadata": {},
   "source": [
    "There is no duplicates in the data."
   ]
  },
  {
   "cell_type": "markdown",
   "metadata": {},
   "source": [
    "## Treat missing values (if any)"
   ]
  },
  {
   "cell_type": "code",
   "execution_count": 6,
   "metadata": {},
   "outputs": [
    {
     "data": {
      "text/plain": [
       "price               0\n",
       "model_year       3619\n",
       "model               0\n",
       "condition           0\n",
       "cylinders        5260\n",
       "fuel                0\n",
       "odometer         7892\n",
       "transmission        0\n",
       "type                0\n",
       "paint_color      9267\n",
       "is_4wd          25953\n",
       "date_posted         0\n",
       "days_listed         0\n",
       "dtype: int64"
      ]
     },
     "execution_count": 6,
     "metadata": {},
     "output_type": "execute_result"
    }
   ],
   "source": [
    "data.isnull().sum()"
   ]
  },
  {
   "cell_type": "code",
   "execution_count": 7,
   "metadata": {},
   "outputs": [
    {
     "data": {
      "text/plain": [
       "price           0.000000\n",
       "model_year      0.540290\n",
       "model           0.000000\n",
       "condition       0.000000\n",
       "cylinders       0.785280\n",
       "fuel            0.000000\n",
       "odometer        1.178218\n",
       "transmission    0.000000\n",
       "type            0.000000\n",
       "paint_color     1.383496\n",
       "is_4wd          3.874594\n",
       "date_posted     0.000000\n",
       "days_listed     0.000000\n",
       "dtype: float64"
      ]
     },
     "execution_count": 7,
     "metadata": {},
     "output_type": "execute_result"
    }
   ],
   "source": [
    "data.isnull().sum() / (len(data))*100 / 13"
   ]
  },
  {
   "cell_type": "markdown",
   "metadata": {},
   "source": [
    "As you can see most of the missing values are from 'is_4wd' column and I will replace them. I will delete the rest of the missing values.\n",
    "The percentage of missing values in our data is 7.74%."
   ]
  },
  {
   "cell_type": "markdown",
   "metadata": {},
   "source": [
    "The percentage of missing values removed from the data is 3.87%."
   ]
  },
  {
   "cell_type": "code",
   "execution_count": 8,
   "metadata": {},
   "outputs": [],
   "source": [
    "data['is_4wd']= data['is_4wd'].fillna(0)"
   ]
  },
  {
   "cell_type": "code",
   "execution_count": 9,
   "metadata": {},
   "outputs": [
    {
     "data": {
      "text/plain": [
       "0"
      ]
     },
     "execution_count": 9,
     "metadata": {},
     "output_type": "execute_result"
    }
   ],
   "source": [
    "data['is_4wd'].isnull().sum()"
   ]
  },
  {
   "cell_type": "code",
   "execution_count": 10,
   "metadata": {},
   "outputs": [],
   "source": [
    "data.dropna(inplace=True)"
   ]
  },
  {
   "cell_type": "code",
   "execution_count": 11,
   "metadata": {},
   "outputs": [
    {
     "data": {
      "text/plain": [
       "price           0\n",
       "model_year      0\n",
       "model           0\n",
       "condition       0\n",
       "cylinders       0\n",
       "fuel            0\n",
       "odometer        0\n",
       "transmission    0\n",
       "type            0\n",
       "paint_color     0\n",
       "is_4wd          0\n",
       "date_posted     0\n",
       "days_listed     0\n",
       "dtype: int64"
      ]
     },
     "execution_count": 11,
     "metadata": {},
     "output_type": "execute_result"
    }
   ],
   "source": [
    "data.isnull().sum()"
   ]
  },
  {
   "cell_type": "markdown",
   "metadata": {},
   "source": [
    "## Fix data types"
   ]
  },
  {
   "cell_type": "code",
   "execution_count": 12,
   "metadata": {},
   "outputs": [],
   "source": [
    "data['model_year']=data['model_year'].astype(int)"
   ]
  },
  {
   "cell_type": "code",
   "execution_count": 13,
   "metadata": {},
   "outputs": [
    {
     "data": {
      "text/plain": [
       "2013    2173\n",
       "2012    2162\n",
       "2011    2135\n",
       "2014    2134\n",
       "2015    2058\n",
       "        ... \n",
       "1976       1\n",
       "1961       1\n",
       "1963       1\n",
       "1948       1\n",
       "1936       1\n",
       "Name: model_year, Length: 65, dtype: int64"
      ]
     },
     "execution_count": 13,
     "metadata": {},
     "output_type": "execute_result"
    }
   ],
   "source": [
    "data['model_year'].value_counts()"
   ]
  },
  {
   "cell_type": "code",
   "execution_count": 14,
   "metadata": {},
   "outputs": [],
   "source": [
    "data.drop(data[data['model_year']<=1950].index, inplace=True)"
   ]
  },
  {
   "cell_type": "code",
   "execution_count": 15,
   "metadata": {},
   "outputs": [
    {
     "data": {
      "text/plain": [
       "2013    2173\n",
       "2012    2162\n",
       "2011    2135\n",
       "2014    2134\n",
       "2015    2058\n",
       "        ... \n",
       "1958       1\n",
       "1955       1\n",
       "1961       1\n",
       "1976       1\n",
       "1963       1\n",
       "Name: model_year, Length: 62, dtype: int64"
      ]
     },
     "execution_count": 15,
     "metadata": {},
     "output_type": "execute_result"
    }
   ],
   "source": [
    "data['model_year'].value_counts()"
   ]
  },
  {
   "cell_type": "markdown",
   "metadata": {},
   "source": [
    "I changed the 'model_year' column to integers, and I removed entries whose model year was radically old..now our data is ready to use."
   ]
  },
  {
   "cell_type": "markdown",
   "metadata": {},
   "source": [
    "## Enrich data"
   ]
  },
  {
   "cell_type": "code",
   "execution_count": 16,
   "metadata": {},
   "outputs": [],
   "source": [
    "# Add datetime values for when the ad was placed\n",
    "data['date_posted'] = pd.to_datetime(data['date_posted'], format='%Y-%m-%dT%H:%M:%S')\n",
    "data['weekday']= data['date_posted'].dt.weekday"
   ]
  },
  {
   "cell_type": "code",
   "execution_count": 17,
   "metadata": {},
   "outputs": [
    {
     "data": {
      "text/html": [
       "<div>\n",
       "<style scoped>\n",
       "    .dataframe tbody tr th:only-of-type {\n",
       "        vertical-align: middle;\n",
       "    }\n",
       "\n",
       "    .dataframe tbody tr th {\n",
       "        vertical-align: top;\n",
       "    }\n",
       "\n",
       "    .dataframe thead th {\n",
       "        text-align: right;\n",
       "    }\n",
       "</style>\n",
       "<table border=\"1\" class=\"dataframe\">\n",
       "  <thead>\n",
       "    <tr style=\"text-align: right;\">\n",
       "      <th></th>\n",
       "      <th>price</th>\n",
       "      <th>model_year</th>\n",
       "      <th>model</th>\n",
       "      <th>condition</th>\n",
       "      <th>cylinders</th>\n",
       "      <th>fuel</th>\n",
       "      <th>odometer</th>\n",
       "      <th>transmission</th>\n",
       "      <th>type</th>\n",
       "      <th>paint_color</th>\n",
       "      <th>is_4wd</th>\n",
       "      <th>date_posted</th>\n",
       "      <th>days_listed</th>\n",
       "      <th>weekday</th>\n",
       "    </tr>\n",
       "  </thead>\n",
       "  <tbody>\n",
       "    <tr>\n",
       "      <td>2</td>\n",
       "      <td>5500</td>\n",
       "      <td>2013</td>\n",
       "      <td>hyundai sonata</td>\n",
       "      <td>like new</td>\n",
       "      <td>4.0</td>\n",
       "      <td>gas</td>\n",
       "      <td>110000.0</td>\n",
       "      <td>automatic</td>\n",
       "      <td>sedan</td>\n",
       "      <td>red</td>\n",
       "      <td>0.0</td>\n",
       "      <td>2019-02-07</td>\n",
       "      <td>79</td>\n",
       "      <td>3</td>\n",
       "    </tr>\n",
       "    <tr>\n",
       "      <td>4</td>\n",
       "      <td>14900</td>\n",
       "      <td>2017</td>\n",
       "      <td>chrysler 200</td>\n",
       "      <td>excellent</td>\n",
       "      <td>4.0</td>\n",
       "      <td>gas</td>\n",
       "      <td>80903.0</td>\n",
       "      <td>automatic</td>\n",
       "      <td>sedan</td>\n",
       "      <td>black</td>\n",
       "      <td>0.0</td>\n",
       "      <td>2019-04-02</td>\n",
       "      <td>28</td>\n",
       "      <td>1</td>\n",
       "    </tr>\n",
       "    <tr>\n",
       "      <td>5</td>\n",
       "      <td>14990</td>\n",
       "      <td>2014</td>\n",
       "      <td>chrysler 300</td>\n",
       "      <td>excellent</td>\n",
       "      <td>6.0</td>\n",
       "      <td>gas</td>\n",
       "      <td>57954.0</td>\n",
       "      <td>automatic</td>\n",
       "      <td>sedan</td>\n",
       "      <td>black</td>\n",
       "      <td>1.0</td>\n",
       "      <td>2018-06-20</td>\n",
       "      <td>15</td>\n",
       "      <td>2</td>\n",
       "    </tr>\n",
       "    <tr>\n",
       "      <td>6</td>\n",
       "      <td>12990</td>\n",
       "      <td>2015</td>\n",
       "      <td>toyota camry</td>\n",
       "      <td>excellent</td>\n",
       "      <td>4.0</td>\n",
       "      <td>gas</td>\n",
       "      <td>79212.0</td>\n",
       "      <td>automatic</td>\n",
       "      <td>sedan</td>\n",
       "      <td>white</td>\n",
       "      <td>0.0</td>\n",
       "      <td>2018-12-27</td>\n",
       "      <td>73</td>\n",
       "      <td>3</td>\n",
       "    </tr>\n",
       "    <tr>\n",
       "      <td>7</td>\n",
       "      <td>15990</td>\n",
       "      <td>2013</td>\n",
       "      <td>honda pilot</td>\n",
       "      <td>excellent</td>\n",
       "      <td>6.0</td>\n",
       "      <td>gas</td>\n",
       "      <td>109473.0</td>\n",
       "      <td>automatic</td>\n",
       "      <td>SUV</td>\n",
       "      <td>black</td>\n",
       "      <td>1.0</td>\n",
       "      <td>2019-01-07</td>\n",
       "      <td>68</td>\n",
       "      <td>0</td>\n",
       "    </tr>\n",
       "  </tbody>\n",
       "</table>\n",
       "</div>"
      ],
      "text/plain": [
       "   price  model_year           model  condition  cylinders fuel  odometer  \\\n",
       "2   5500        2013  hyundai sonata   like new        4.0  gas  110000.0   \n",
       "4  14900        2017    chrysler 200  excellent        4.0  gas   80903.0   \n",
       "5  14990        2014    chrysler 300  excellent        6.0  gas   57954.0   \n",
       "6  12990        2015    toyota camry  excellent        4.0  gas   79212.0   \n",
       "7  15990        2013     honda pilot  excellent        6.0  gas  109473.0   \n",
       "\n",
       "  transmission   type paint_color  is_4wd date_posted  days_listed  weekday  \n",
       "2    automatic  sedan         red     0.0  2019-02-07           79        3  \n",
       "4    automatic  sedan       black     0.0  2019-04-02           28        1  \n",
       "5    automatic  sedan       black     1.0  2018-06-20           15        2  \n",
       "6    automatic  sedan       white     0.0  2018-12-27           73        3  \n",
       "7    automatic    SUV       black     1.0  2019-01-07           68        0  "
      ]
     },
     "execution_count": 17,
     "metadata": {},
     "output_type": "execute_result"
    }
   ],
   "source": [
    "data.head()"
   ]
  },
  {
   "cell_type": "code",
   "execution_count": 18,
   "metadata": {},
   "outputs": [],
   "source": [
    "# Add the vehicle's age when the ad was placed\n",
    "date1 = dt.date.today()\n",
    "data['car_age']= date1.year - data['model_year']"
   ]
  },
  {
   "cell_type": "code",
   "execution_count": 19,
   "metadata": {},
   "outputs": [
    {
     "data": {
      "text/plain": [
       "9     2173\n",
       "10    2162\n",
       "11    2135\n",
       "8     2134\n",
       "7     2058\n",
       "      ... \n",
       "61       1\n",
       "46       1\n",
       "64       1\n",
       "67       1\n",
       "59       1\n",
       "Name: car_age, Length: 62, dtype: int64"
      ]
     },
     "execution_count": 19,
     "metadata": {},
     "output_type": "execute_result"
    }
   ],
   "source": [
    "data['car_age'].value_counts()"
   ]
  },
  {
   "cell_type": "code",
   "execution_count": 20,
   "metadata": {},
   "outputs": [],
   "source": [
    "# Add the vehicle's average mileage per year\n",
    "\n",
    "data['avg_mil'] = data['odometer'] /data['car_age']"
   ]
  },
  {
   "cell_type": "code",
   "execution_count": 21,
   "metadata": {},
   "outputs": [
    {
     "data": {
      "text/plain": [
       "10000.000000    158\n",
       "0.000000        128\n",
       "11000.000000    104\n",
       "9000.000000      96\n",
       "8000.000000      88\n",
       "               ... \n",
       "9494.200000       1\n",
       "13658.444444      1\n",
       "8934.888889       1\n",
       "9824.300000       1\n",
       "9216.000000       1\n",
       "Name: avg_mil, Length: 16135, dtype: int64"
      ]
     },
     "execution_count": 21,
     "metadata": {},
     "output_type": "execute_result"
    }
   ],
   "source": [
    "data['avg_mil'].value_counts()"
   ]
  },
  {
   "cell_type": "code",
   "execution_count": 22,
   "metadata": {},
   "outputs": [],
   "source": [
    "# It might help to replace the condition values with something that can be manipulated more easily\n",
    "\n",
    "\n",
    "data.replace(['new', 'like new', 'excellent', 'good', 'fair', 'salvage'], [5, 4, 3, 2, 1, 0], inplace=True)"
   ]
  },
  {
   "cell_type": "code",
   "execution_count": 23,
   "metadata": {},
   "outputs": [
    {
     "data": {
      "text/html": [
       "<div>\n",
       "<style scoped>\n",
       "    .dataframe tbody tr th:only-of-type {\n",
       "        vertical-align: middle;\n",
       "    }\n",
       "\n",
       "    .dataframe tbody tr th {\n",
       "        vertical-align: top;\n",
       "    }\n",
       "\n",
       "    .dataframe thead th {\n",
       "        text-align: right;\n",
       "    }\n",
       "</style>\n",
       "<table border=\"1\" class=\"dataframe\">\n",
       "  <thead>\n",
       "    <tr style=\"text-align: right;\">\n",
       "      <th></th>\n",
       "      <th>price</th>\n",
       "      <th>model_year</th>\n",
       "      <th>model</th>\n",
       "      <th>condition</th>\n",
       "      <th>cylinders</th>\n",
       "      <th>fuel</th>\n",
       "      <th>odometer</th>\n",
       "      <th>transmission</th>\n",
       "      <th>type</th>\n",
       "      <th>paint_color</th>\n",
       "      <th>is_4wd</th>\n",
       "      <th>date_posted</th>\n",
       "      <th>days_listed</th>\n",
       "      <th>weekday</th>\n",
       "      <th>car_age</th>\n",
       "      <th>avg_mil</th>\n",
       "    </tr>\n",
       "  </thead>\n",
       "  <tbody>\n",
       "    <tr>\n",
       "      <td>2</td>\n",
       "      <td>5500</td>\n",
       "      <td>2013</td>\n",
       "      <td>hyundai sonata</td>\n",
       "      <td>4</td>\n",
       "      <td>4.0</td>\n",
       "      <td>gas</td>\n",
       "      <td>110000.0</td>\n",
       "      <td>automatic</td>\n",
       "      <td>sedan</td>\n",
       "      <td>red</td>\n",
       "      <td>0.0</td>\n",
       "      <td>2019-02-07</td>\n",
       "      <td>79</td>\n",
       "      <td>3</td>\n",
       "      <td>9</td>\n",
       "      <td>12222.222222</td>\n",
       "    </tr>\n",
       "    <tr>\n",
       "      <td>4</td>\n",
       "      <td>14900</td>\n",
       "      <td>2017</td>\n",
       "      <td>chrysler 200</td>\n",
       "      <td>3</td>\n",
       "      <td>4.0</td>\n",
       "      <td>gas</td>\n",
       "      <td>80903.0</td>\n",
       "      <td>automatic</td>\n",
       "      <td>sedan</td>\n",
       "      <td>black</td>\n",
       "      <td>0.0</td>\n",
       "      <td>2019-04-02</td>\n",
       "      <td>28</td>\n",
       "      <td>1</td>\n",
       "      <td>5</td>\n",
       "      <td>16180.600000</td>\n",
       "    </tr>\n",
       "    <tr>\n",
       "      <td>5</td>\n",
       "      <td>14990</td>\n",
       "      <td>2014</td>\n",
       "      <td>chrysler 300</td>\n",
       "      <td>3</td>\n",
       "      <td>6.0</td>\n",
       "      <td>gas</td>\n",
       "      <td>57954.0</td>\n",
       "      <td>automatic</td>\n",
       "      <td>sedan</td>\n",
       "      <td>black</td>\n",
       "      <td>1.0</td>\n",
       "      <td>2018-06-20</td>\n",
       "      <td>15</td>\n",
       "      <td>2</td>\n",
       "      <td>8</td>\n",
       "      <td>7244.250000</td>\n",
       "    </tr>\n",
       "    <tr>\n",
       "      <td>6</td>\n",
       "      <td>12990</td>\n",
       "      <td>2015</td>\n",
       "      <td>toyota camry</td>\n",
       "      <td>3</td>\n",
       "      <td>4.0</td>\n",
       "      <td>gas</td>\n",
       "      <td>79212.0</td>\n",
       "      <td>automatic</td>\n",
       "      <td>sedan</td>\n",
       "      <td>white</td>\n",
       "      <td>0.0</td>\n",
       "      <td>2018-12-27</td>\n",
       "      <td>73</td>\n",
       "      <td>3</td>\n",
       "      <td>7</td>\n",
       "      <td>11316.000000</td>\n",
       "    </tr>\n",
       "    <tr>\n",
       "      <td>7</td>\n",
       "      <td>15990</td>\n",
       "      <td>2013</td>\n",
       "      <td>honda pilot</td>\n",
       "      <td>3</td>\n",
       "      <td>6.0</td>\n",
       "      <td>gas</td>\n",
       "      <td>109473.0</td>\n",
       "      <td>automatic</td>\n",
       "      <td>SUV</td>\n",
       "      <td>black</td>\n",
       "      <td>1.0</td>\n",
       "      <td>2019-01-07</td>\n",
       "      <td>68</td>\n",
       "      <td>0</td>\n",
       "      <td>9</td>\n",
       "      <td>12163.666667</td>\n",
       "    </tr>\n",
       "  </tbody>\n",
       "</table>\n",
       "</div>"
      ],
      "text/plain": [
       "   price  model_year           model  condition  cylinders fuel  odometer  \\\n",
       "2   5500        2013  hyundai sonata          4        4.0  gas  110000.0   \n",
       "4  14900        2017    chrysler 200          3        4.0  gas   80903.0   \n",
       "5  14990        2014    chrysler 300          3        6.0  gas   57954.0   \n",
       "6  12990        2015    toyota camry          3        4.0  gas   79212.0   \n",
       "7  15990        2013     honda pilot          3        6.0  gas  109473.0   \n",
       "\n",
       "  transmission   type paint_color  is_4wd date_posted  days_listed  weekday  \\\n",
       "2    automatic  sedan         red     0.0  2019-02-07           79        3   \n",
       "4    automatic  sedan       black     0.0  2019-04-02           28        1   \n",
       "5    automatic  sedan       black     1.0  2018-06-20           15        2   \n",
       "6    automatic  sedan       white     0.0  2018-12-27           73        3   \n",
       "7    automatic    SUV       black     1.0  2019-01-07           68        0   \n",
       "\n",
       "   car_age       avg_mil  \n",
       "2        9  12222.222222  \n",
       "4        5  16180.600000  \n",
       "5        8   7244.250000  \n",
       "6        7  11316.000000  \n",
       "7        9  12163.666667  "
      ]
     },
     "execution_count": 23,
     "metadata": {},
     "output_type": "execute_result"
    }
   ],
   "source": [
    "data.head()"
   ]
  },
  {
   "cell_type": "code",
   "execution_count": 24,
   "metadata": {},
   "outputs": [
    {
     "data": {
      "text/plain": [
       "ford f-150                  1654\n",
       "chevrolet silverado 1500    1257\n",
       "ram 1500                    1012\n",
       "chevrolet silverado          745\n",
       "jeep wrangler                628\n",
       "                            ... \n",
       "kia sorento                  141\n",
       "chrysler 200                 138\n",
       "ford f-250 super duty        129\n",
       "acura tl                     128\n",
       "nissan murano                124\n",
       "Name: model, Length: 99, dtype: int64"
      ]
     },
     "execution_count": 24,
     "metadata": {},
     "output_type": "execute_result"
    }
   ],
   "source": [
    "data['model'].value_counts()"
   ]
  },
  {
   "cell_type": "markdown",
   "metadata": {},
   "source": [
    "At this stage we do:\n",
    "1. I changed the 'date_posted' format and added a column for the day of the week in which the post was published.\n",
    "2. I added a column of the average mileage of the car per year.\n",
    "3. I changed the strings in the 'condition' column to numeric values to make it more convenient to work with."
   ]
  },
  {
   "cell_type": "markdown",
   "metadata": {},
   "source": [
    "## Check clean data"
   ]
  },
  {
   "cell_type": "code",
   "execution_count": 25,
   "metadata": {},
   "outputs": [
    {
     "data": {
      "text/html": [
       "<div>\n",
       "<style scoped>\n",
       "    .dataframe tbody tr th:only-of-type {\n",
       "        vertical-align: middle;\n",
       "    }\n",
       "\n",
       "    .dataframe tbody tr th {\n",
       "        vertical-align: top;\n",
       "    }\n",
       "\n",
       "    .dataframe thead th {\n",
       "        text-align: right;\n",
       "    }\n",
       "</style>\n",
       "<table border=\"1\" class=\"dataframe\">\n",
       "  <thead>\n",
       "    <tr style=\"text-align: right;\">\n",
       "      <th></th>\n",
       "      <th>price</th>\n",
       "      <th>model_year</th>\n",
       "      <th>condition</th>\n",
       "      <th>cylinders</th>\n",
       "      <th>odometer</th>\n",
       "      <th>is_4wd</th>\n",
       "      <th>days_listed</th>\n",
       "      <th>weekday</th>\n",
       "      <th>car_age</th>\n",
       "      <th>avg_mil</th>\n",
       "    </tr>\n",
       "  </thead>\n",
       "  <tbody>\n",
       "    <tr>\n",
       "      <td>count</td>\n",
       "      <td>29913.000000</td>\n",
       "      <td>29913.000000</td>\n",
       "      <td>29913.000000</td>\n",
       "      <td>29913.000000</td>\n",
       "      <td>29913.000000</td>\n",
       "      <td>29913.000000</td>\n",
       "      <td>29913.000000</td>\n",
       "      <td>29913.000000</td>\n",
       "      <td>29913.000000</td>\n",
       "      <td>29913.000000</td>\n",
       "    </tr>\n",
       "    <tr>\n",
       "      <td>mean</td>\n",
       "      <td>12197.141845</td>\n",
       "      <td>2009.754488</td>\n",
       "      <td>2.638251</td>\n",
       "      <td>6.134223</td>\n",
       "      <td>115463.545148</td>\n",
       "      <td>0.496507</td>\n",
       "      <td>39.637148</td>\n",
       "      <td>2.992278</td>\n",
       "      <td>12.245512</td>\n",
       "      <td>9903.335589</td>\n",
       "    </tr>\n",
       "    <tr>\n",
       "      <td>std</td>\n",
       "      <td>10152.867530</td>\n",
       "      <td>6.222261</td>\n",
       "      <td>0.713426</td>\n",
       "      <td>1.659261</td>\n",
       "      <td>65296.783265</td>\n",
       "      <td>0.499996</td>\n",
       "      <td>28.107406</td>\n",
       "      <td>1.997585</td>\n",
       "      <td>6.222261</td>\n",
       "      <td>4943.445978</td>\n",
       "    </tr>\n",
       "    <tr>\n",
       "      <td>min</td>\n",
       "      <td>1.000000</td>\n",
       "      <td>1955.000000</td>\n",
       "      <td>0.000000</td>\n",
       "      <td>3.000000</td>\n",
       "      <td>0.000000</td>\n",
       "      <td>0.000000</td>\n",
       "      <td>0.000000</td>\n",
       "      <td>0.000000</td>\n",
       "      <td>3.000000</td>\n",
       "      <td>0.000000</td>\n",
       "    </tr>\n",
       "    <tr>\n",
       "      <td>25%</td>\n",
       "      <td>5000.000000</td>\n",
       "      <td>2006.000000</td>\n",
       "      <td>2.000000</td>\n",
       "      <td>4.000000</td>\n",
       "      <td>69854.000000</td>\n",
       "      <td>0.000000</td>\n",
       "      <td>19.000000</td>\n",
       "      <td>1.000000</td>\n",
       "      <td>8.000000</td>\n",
       "      <td>6937.333333</td>\n",
       "    </tr>\n",
       "    <tr>\n",
       "      <td>50%</td>\n",
       "      <td>9000.000000</td>\n",
       "      <td>2011.000000</td>\n",
       "      <td>3.000000</td>\n",
       "      <td>6.000000</td>\n",
       "      <td>113000.000000</td>\n",
       "      <td>0.000000</td>\n",
       "      <td>33.000000</td>\n",
       "      <td>3.000000</td>\n",
       "      <td>11.000000</td>\n",
       "      <td>9623.000000</td>\n",
       "    </tr>\n",
       "    <tr>\n",
       "      <td>75%</td>\n",
       "      <td>16900.000000</td>\n",
       "      <td>2014.000000</td>\n",
       "      <td>3.000000</td>\n",
       "      <td>8.000000</td>\n",
       "      <td>155113.000000</td>\n",
       "      <td>1.000000</td>\n",
       "      <td>53.000000</td>\n",
       "      <td>5.000000</td>\n",
       "      <td>16.000000</td>\n",
       "      <td>12461.538462</td>\n",
       "    </tr>\n",
       "    <tr>\n",
       "      <td>max</td>\n",
       "      <td>375000.000000</td>\n",
       "      <td>2019.000000</td>\n",
       "      <td>5.000000</td>\n",
       "      <td>12.000000</td>\n",
       "      <td>990000.000000</td>\n",
       "      <td>1.000000</td>\n",
       "      <td>267.000000</td>\n",
       "      <td>6.000000</td>\n",
       "      <td>67.000000</td>\n",
       "      <td>119727.857143</td>\n",
       "    </tr>\n",
       "  </tbody>\n",
       "</table>\n",
       "</div>"
      ],
      "text/plain": [
       "               price    model_year     condition     cylinders       odometer  \\\n",
       "count   29913.000000  29913.000000  29913.000000  29913.000000   29913.000000   \n",
       "mean    12197.141845   2009.754488      2.638251      6.134223  115463.545148   \n",
       "std     10152.867530      6.222261      0.713426      1.659261   65296.783265   \n",
       "min         1.000000   1955.000000      0.000000      3.000000       0.000000   \n",
       "25%      5000.000000   2006.000000      2.000000      4.000000   69854.000000   \n",
       "50%      9000.000000   2011.000000      3.000000      6.000000  113000.000000   \n",
       "75%     16900.000000   2014.000000      3.000000      8.000000  155113.000000   \n",
       "max    375000.000000   2019.000000      5.000000     12.000000  990000.000000   \n",
       "\n",
       "             is_4wd   days_listed       weekday       car_age        avg_mil  \n",
       "count  29913.000000  29913.000000  29913.000000  29913.000000   29913.000000  \n",
       "mean       0.496507     39.637148      2.992278     12.245512    9903.335589  \n",
       "std        0.499996     28.107406      1.997585      6.222261    4943.445978  \n",
       "min        0.000000      0.000000      0.000000      3.000000       0.000000  \n",
       "25%        0.000000     19.000000      1.000000      8.000000    6937.333333  \n",
       "50%        0.000000     33.000000      3.000000     11.000000    9623.000000  \n",
       "75%        1.000000     53.000000      5.000000     16.000000   12461.538462  \n",
       "max        1.000000    267.000000      6.000000     67.000000  119727.857143  "
      ]
     },
     "execution_count": 25,
     "metadata": {},
     "output_type": "execute_result"
    }
   ],
   "source": [
    "# print the geneal/summary information about the DataFrame\n",
    "\n",
    "data.describe()"
   ]
  },
  {
   "cell_type": "markdown",
   "metadata": {},
   "source": [
    "## Study core parameters\n",
    "\n",
    "[Choose an appropriate approach to study the parameters listed below, pay special attention to how outliers affect the form and readability of the histograms.]\n",
    "\n",
    "The parameters are\n",
    "- Price\n",
    "- The vehicle's age when the ad was placed\n",
    "- Mileage\n",
    "- Number of cylinders\n",
    "- Condition"
   ]
  },
  {
   "cell_type": "code",
   "execution_count": 26,
   "metadata": {},
   "outputs": [
    {
     "data": {
      "image/png": "[encoded data removed]",
      "text/plain": [
       "<Figure size 432x288 with 1 Axes>"
      ]
     },
     "metadata": {
      "needs_background": "light"
     },
     "output_type": "display_data"
    },
    {
     "data": {
      "image/png": "[encoded data removed]",
      "text/plain": [
       "<Figure size 432x288 with 1 Axes>"
      ]
     },
     "metadata": {
      "needs_background": "light"
     },
     "output_type": "display_data"
    },
    {
     "name": "stdout",
     "output_type": "stream",
     "text": [
      "count     29913.000000\n",
      "mean      12197.141845\n",
      "std       10152.867530\n",
      "min           1.000000\n",
      "25%        5000.000000\n",
      "50%        9000.000000\n",
      "75%       16900.000000\n",
      "max      375000.000000\n",
      "Name: price, dtype: float64\n"
     ]
    },
    {
     "data": {
      "image/png": "[encoded data removed]",
      "text/plain": [
       "<Figure size 432x288 with 1 Axes>"
      ]
     },
     "metadata": {
      "needs_background": "light"
     },
     "output_type": "display_data"
    },
    {
     "data": {
      "image/png": "[encoded data removed]",
      "text/plain": [
       "<Figure size 432x288 with 1 Axes>"
      ]
     },
     "metadata": {
      "needs_background": "light"
     },
     "output_type": "display_data"
    },
    {
     "name": "stdout",
     "output_type": "stream",
     "text": [
      "count    29913.000000\n",
      "mean         2.638251\n",
      "std          0.713426\n",
      "min          0.000000\n",
      "25%          2.000000\n",
      "50%          3.000000\n",
      "75%          3.000000\n",
      "max          5.000000\n",
      "Name: condition, dtype: float64\n"
     ]
    },
    {
     "data": {
      "image/png": "[encoded data removed]",
      "text/plain": [
       "<Figure size 432x288 with 1 Axes>"
      ]
     },
     "metadata": {
      "needs_background": "light"
     },
     "output_type": "display_data"
    },
    {
     "data": {
      "image/png": "[encoded data removed]",
      "text/plain": [
       "<Figure size 432x288 with 1 Axes>"
      ]
     },
     "metadata": {
      "needs_background": "light"
     },
     "output_type": "display_data"
    },
    {
     "name": "stdout",
     "output_type": "stream",
     "text": [
      "count    29913.000000\n",
      "mean        12.245512\n",
      "std          6.222261\n",
      "min          3.000000\n",
      "25%          8.000000\n",
      "50%         11.000000\n",
      "75%         16.000000\n",
      "max         67.000000\n",
      "Name: car_age, dtype: float64\n"
     ]
    },
    {
     "data": {
      "image/png": "[encoded data removed]",
      "text/plain": [
       "<Figure size 432x288 with 1 Axes>"
      ]
     },
     "metadata": {
      "needs_background": "light"
     },
     "output_type": "display_data"
    },
    {
     "data": {
      "image/png": "[encoded data removed]",
      "text/plain": [
       "<Figure size 432x288 with 1 Axes>"
      ]
     },
     "metadata": {
      "needs_background": "light"
     },
     "output_type": "display_data"
    },
    {
     "name": "stdout",
     "output_type": "stream",
     "text": [
      "count     29913.000000\n",
      "mean     115463.545148\n",
      "std       65296.783265\n",
      "min           0.000000\n",
      "25%       69854.000000\n",
      "50%      113000.000000\n",
      "75%      155113.000000\n",
      "max      990000.000000\n",
      "Name: odometer, dtype: float64\n"
     ]
    },
    {
     "data": {
      "image/png": "[encoded data removed]",
      "text/plain": [
       "<Figure size 432x288 with 1 Axes>"
      ]
     },
     "metadata": {
      "needs_background": "light"
     },
     "output_type": "display_data"
    },
    {
     "data": {
      "image/png": "[encoded data removed]",
      "text/plain": [
       "<Figure size 432x288 with 1 Axes>"
      ]
     },
     "metadata": {
      "needs_background": "light"
     },
     "output_type": "display_data"
    },
    {
     "name": "stdout",
     "output_type": "stream",
     "text": [
      "count    29913.000000\n",
      "mean         6.134223\n",
      "std          1.659261\n",
      "min          3.000000\n",
      "25%          4.000000\n",
      "50%          6.000000\n",
      "75%          8.000000\n",
      "max         12.000000\n",
      "Name: cylinders, dtype: float64\n"
     ]
    }
   ],
   "source": [
    "old_data = pd.DataFrame(data, columns = ['price', 'condition', 'car_age', 'odometer', 'cylinders'])\n",
    "for i in old_data:\n",
    "    data.hist(i)\n",
    "    plt.show()\n",
    "    data.boxplot(i)\n",
    "    plt.show()\n",
    "    print(data[i].describe())"
   ]
  },
  {
   "cell_type": "markdown",
   "metadata": {},
   "source": [
    "price:\n",
    "\n",
    "In the price histogram we can see that the vast majority of cars range from  0-  50000, with some\n",
    "Small of cars ranging from $50,000 - $100,000. The graph continues up to a range of 400000 , indicating exceptions that ruin our graph.\n",
    "In Plotbox we can see the same exceptions, when the normal price range is around 0 to 40,000. You can also see the distribution of the exceptions.\n",
    "\n",
    "Condition:\n",
    "\n",
    "In the histogram of the condition we can see that the condition of most cars ranges from 1 ('f'air) to 4 (' like new '), and there is a small section with the values 0 (' salvage ') and 5 (' new ').\n",
    "In Plotbox we really see that 0 and 5 are exceptions.\n",
    "\n",
    "Car age:\n",
    "\n",
    "In the vehicle age histogram we see that the age of most vehicles ranges from two years to 15 years. A smaller but significant portion ranges from 15 years to 22 years and a very small portion ranges from 22 years to 42 years.\n",
    "If so we see that our graph is stretched up to 70 years, which tells us that there are few values ​​in these years.\n",
    "In Plotbox we see that the normal age range is between two and 28 years, and as we suspected there are some exceptions in the range of 28 years to 70 years.\n",
    "\n",
    "Odometer:\n",
    "\n",
    "In the mileage histogram we see that we have a little over 12,000 vehicles whose mileage ranges from 0 to 15,000 and in the region of 15,000 vehicles whose mileage ranges from 15,000 to 20,000 (most cars are in both of these ranges).\n",
    "In the mileage histogram we see that we have a little over 12,000 vehicles whose mileage ranges from 0 to 15,000 and in the region of 15,000 vehicles whose mileage ranges from 15,000 to 20,000 (most cars are in both of these ranges).\n",
    "In addition we have around 3,000 vehicles with mileage ranging from 20,000 to 30,000 and a few hundred cars whose range ranges from 30,000 to 40,000.\n",
    "If this the mileage axis continues up to 1,000,000, which indicates to us exceptions.\n",
    "In the PlotBox we can see that the normal mileage ranges from 0 to about 250,000.\n",
    "There are many exceptions from the 250,000 to 600,000 range and some extreme exceptions that continue up to the 1,000,000 range.\n",
    "\n",
    "cylinders:\n",
    "\n",
    "In the cylinder column we can see that the distribution ranges from 3-12 cylinders with the absolute majority being in the range of 4-8 cylinders. If so we see in the plotbox that we have no anomalies in the distribution and therefore the values ​​between 0-4 and 8-12 are also normal."
   ]
  },
  {
   "cell_type": "markdown",
   "metadata": {},
   "source": [
    "I used boxplot for all the columns indicated to check for outliers graphically and used describe to check for exceptions numerically.\n",
    "outliers were found in all columns except the cylinder column, and should be removed as they impair the quality of the graph..\n"
   ]
  },
  {
   "cell_type": "markdown",
   "metadata": {},
   "source": [
    "## Study and treat outliers\n",
    "\n",
    "[Given the results above, determine what columns may contain outliers, and create a DataFrame without those outliers. Hint: Outliers can be identified by defining the lower/upper limits for normal range of values.]"
   ]
  },
  {
   "cell_type": "code",
   "execution_count": 27,
   "metadata": {},
   "outputs": [
    {
     "name": "stdout",
     "output_type": "stream",
     "text": [
      "-4.0\n",
      "-12850.0\n",
      "-58034.5\n",
      "0.5\n"
     ]
    }
   ],
   "source": [
    "# Determine the lower limits for outliers\n",
    "outlin_column = ['car_age', 'price', 'odometer', 'condition']\n",
    "for i in outlin_column:\n",
    "    Q1=data[i].quantile(0.25)\n",
    "    Q3=data[i].quantile(0.75)\n",
    "    IQR = Q3 - Q1\n",
    "    iqr_min = Q1-1.5*IQR\n",
    "    print(iqr_min)"
   ]
  },
  {
   "cell_type": "code",
   "execution_count": 28,
   "metadata": {},
   "outputs": [
    {
     "name": "stdout",
     "output_type": "stream",
     "text": [
      "28.0\n",
      "34750.0\n",
      "283001.5\n",
      "4.5\n"
     ]
    }
   ],
   "source": [
    "# Determine the upper limits for outliers\n",
    "for i in outlin_column:\n",
    "    Q1=data[i].quantile(0.25)\n",
    "    Q3=data[i].quantile(0.75)\n",
    "    IQR = Q3 - Q1\n",
    "    iqr_max = Q3+ 1.5*IQR\n",
    "    print(iqr_max)"
   ]
  },
  {
   "cell_type": "code",
   "execution_count": 29,
   "metadata": {},
   "outputs": [
    {
     "data": {
      "text/plain": [
       "count     6667.000000\n",
       "mean     18988.161842\n",
       "std       5121.716164\n",
       "min      12856.000000\n",
       "25%      14950.000000\n",
       "50%      17500.000000\n",
       "75%      22000.000000\n",
       "max      34700.000000\n",
       "Name: price, dtype: float64"
      ]
     },
     "execution_count": 29,
     "metadata": {},
     "output_type": "execute_result"
    }
   ],
   "source": [
    "# Store data without outliers in a separate DataFrame\n",
    "\n",
    "data_cln = data.query('car_age < 28 and price < 34750 and price > 12850 and odometer < 283028 and odometer > 58034 and condition < 4.5 and condition > 0.5')\n",
    "data_cln['price'].describe()"
   ]
  },
  {
   "cell_type": "markdown",
   "metadata": {},
   "source": [
    "According to the IQR formula I calculated the upper and lower limits and then filtered the data according to the results I got (regarding the lower limits only car_age came out useful as all the other values came out negative)."
   ]
  },
  {
   "cell_type": "markdown",
   "metadata": {},
   "source": [
    "## Study core parameters without outliers"
   ]
  },
  {
   "cell_type": "code",
   "execution_count": 30,
   "metadata": {
    "scrolled": true
   },
   "outputs": [
    {
     "data": {
      "image/png": "[encoded data removed]",
      "text/plain": [
       "<Figure size 432x288 with 1 Axes>"
      ]
     },
     "metadata": {
      "needs_background": "light"
     },
     "output_type": "display_data"
    },
    {
     "data": {
      "image/png": "[encoded data removed]",
      "text/plain": [
       "<Figure size 432x288 with 1 Axes>"
      ]
     },
     "metadata": {
      "needs_background": "light"
     },
     "output_type": "display_data"
    },
    {
     "data": {
      "image/png": "[encoded data removed]",
      "text/plain": [
       "<Figure size 432x288 with 1 Axes>"
      ]
     },
     "metadata": {
      "needs_background": "light"
     },
     "output_type": "display_data"
    },
    {
     "data": {
      "image/png": "[encoded data removed]",
      "text/plain": [
       "<Figure size 432x288 with 1 Axes>"
      ]
     },
     "metadata": {
      "needs_background": "light"
     },
     "output_type": "display_data"
    },
    {
     "data": {
      "image/png": "[encoded data removed]",
      "text/plain": [
       "<Figure size 432x288 with 1 Axes>"
      ]
     },
     "metadata": {
      "needs_background": "light"
     },
     "output_type": "display_data"
    },
    {
     "data": {
      "image/png": "[encoded data removed]",
      "text/plain": [
       "<Figure size 432x288 with 1 Axes>"
      ]
     },
     "metadata": {
      "needs_background": "light"
     },
     "output_type": "display_data"
    },
    {
     "data": {
      "image/png": "[encoded data removed]",
      "text/plain": [
       "<Figure size 432x288 with 1 Axes>"
      ]
     },
     "metadata": {
      "needs_background": "light"
     },
     "output_type": "display_data"
    },
    {
     "data": {
      "image/png": "[encoded data removed]",
      "text/plain": [
       "<Figure size 432x288 with 1 Axes>"
      ]
     },
     "metadata": {
      "needs_background": "light"
     },
     "output_type": "display_data"
    }
   ],
   "source": [
    "old_data = pd.DataFrame(data, columns = ['price', 'condition', 'car_age', 'odometer'])\n",
    "for i in old_data:\n",
    "    data.hist(i)\n",
    "    plt.show()\n",
    "    data.boxplot(i)\n",
    "    plt.show()"
   ]
  },
  {
   "cell_type": "code",
   "execution_count": 31,
   "metadata": {},
   "outputs": [
    {
     "data": {
      "image/png": "[encoded data removed]",
      "text/plain": [
       "<Figure size 432x288 with 1 Axes>"
      ]
     },
     "metadata": {
      "needs_background": "light"
     },
     "output_type": "display_data"
    },
    {
     "data": {
      "image/png": "[encoded data removed]",
      "text/plain": [
       "<Figure size 432x288 with 1 Axes>"
      ]
     },
     "metadata": {
      "needs_background": "light"
     },
     "output_type": "display_data"
    },
    {
     "data": {
      "image/png": "[encoded data removed]",
      "text/plain": [
       "<Figure size 432x288 with 1 Axes>"
      ]
     },
     "metadata": {
      "needs_background": "light"
     },
     "output_type": "display_data"
    },
    {
     "data": {
      "image/png": "[encoded data removed]",
      "text/plain": [
       "<Figure size 432x288 with 1 Axes>"
      ]
     },
     "metadata": {
      "needs_background": "light"
     },
     "output_type": "display_data"
    },
    {
     "data": {
      "image/png": "[encoded data removed]",
      "text/plain": [
       "<Figure size 432x288 with 1 Axes>"
      ]
     },
     "metadata": {
      "needs_background": "light"
     },
     "output_type": "display_data"
    },
    {
     "data": {
      "image/png": "[encoded data removed]",
      "text/plain": [
       "<Figure size 432x288 with 1 Axes>"
      ]
     },
     "metadata": {
      "needs_background": "light"
     },
     "output_type": "display_data"
    },
    {
     "data": {
      "image/png": "[encoded data removed]",
      "text/plain": [
       "<Figure size 432x288 with 1 Axes>"
      ]
     },
     "metadata": {
      "needs_background": "light"
     },
     "output_type": "display_data"
    },
    {
     "data": {
      "image/png": "[encoded data removed]",
      "text/plain": [
       "<Figure size 432x288 with 1 Axes>"
      ]
     },
     "metadata": {
      "needs_background": "light"
     },
     "output_type": "display_data"
    }
   ],
   "source": [
    "data_clen_a = pd.DataFrame(data_cln, columns = ['price', 'condition', 'car_age', 'odometer']) \n",
    "for i in data_clen_a:\n",
    "    data_cln.hist(i)\n",
    "    plt.show()\n",
    "    data_cln.boxplot(i)\n",
    "    plt.show()"
   ]
  },
  {
   "cell_type": "markdown",
   "metadata": {},
   "source": [
    "Conclusions:\n",
    "\n",
    "1.In the age column of the cars the graph became much more readable after we removed the exceptions and as a result the X-axis was not stretched to illogical numbers and it is possible to understand what is happening in the table.\n",
    "\n",
    "2.The condition column had the least major change since we are dealing with small numbers as well.\n",
    "\n",
    "3.In the price column the change was the biggest because there was a really extreme exception that stretched the X-axis and distorted the whole table, and now you can see the real price distribution.\n",
    "\n",
    "4.In column odometer there was something similar to the price column with an extreme exception that distorted the whole table."
   ]
  },
  {
   "cell_type": "markdown",
   "metadata": {},
   "source": [
    "Ads liftime:"
   ]
  },
  {
   "cell_type": "code",
   "execution_count": 32,
   "metadata": {},
   "outputs": [
    {
     "data": {
      "text/plain": [
       "count    29913.000000\n",
       "mean        39.637148\n",
       "std         28.107406\n",
       "min          0.000000\n",
       "25%         19.000000\n",
       "50%         33.000000\n",
       "75%         53.000000\n",
       "max        267.000000\n",
       "Name: days_listed, dtype: float64"
      ]
     },
     "execution_count": 32,
     "metadata": {},
     "output_type": "execute_result"
    }
   ],
   "source": [
    "data['days_listed'].describe()\n"
   ]
  },
  {
   "cell_type": "code",
   "execution_count": 33,
   "metadata": {},
   "outputs": [
    {
     "data": {
      "image/png": "[encoded data removed]",
      "text/plain": [
       "<Figure size 432x288 with 1 Axes>"
      ]
     },
     "metadata": {
      "needs_background": "light"
     },
     "output_type": "display_data"
    }
   ],
   "source": [
    "data.boxplot('days_listed');\n",
    "plt.show()"
   ]
  },
  {
   "cell_type": "markdown",
   "metadata": {},
   "source": [
    "I see there are exceptions in the column e so to find out when the ads were quickly removed and when they stayed too long I will look for its upper and lower limits."
   ]
  },
  {
   "cell_type": "code",
   "execution_count": 34,
   "metadata": {},
   "outputs": [
    {
     "name": "stdout",
     "output_type": "stream",
     "text": [
      "-32.0\n",
      "104.0\n"
     ]
    }
   ],
   "source": [
    "Q1=data['days_listed'].quantile(0.25)\n",
    "Q3=data['days_listed'].quantile(0.75)\n",
    "IQR = Q3 - Q1\n",
    "iqr_min = Q1- 1.5*IQR\n",
    "iqr_max = Q3+ 1.5*IQR\n",
    "print(iqr_min)\n",
    "print(iqr_max)"
   ]
  },
  {
   "cell_type": "markdown",
   "metadata": {},
   "source": [
    "Average ad life time: 33 days.\n",
    "(I used the median we found because it will be more accurate this time than average)\n",
    "when ads were removed quickly: 0 days (same day).\n",
    "(The values I got at the lower limit are negative and it does not make sense so it will be 0.)\n",
    "when ads listed for an abnormally long time: 104 days."
   ]
  },
  {
   "cell_type": "markdown",
   "metadata": {},
   "source": [
    "## Average price per each type of vehicle"
   ]
  },
  {
   "cell_type": "markdown",
   "metadata": {},
   "source": [
    "[Analyze the number of ads and the average price for each type of vehicle. Plot a graph showing the dependence of the number of ads on the vehicle type. Select the two types with the greatest number of ads.]"
   ]
  },
  {
   "cell_type": "code",
   "execution_count": 35,
   "metadata": {
    "scrolled": true
   },
   "outputs": [
    {
     "data": {
      "text/plain": [
       "<matplotlib.axes._subplots.AxesSubplot at 0x7f003f32be50>"
      ]
     },
     "execution_count": 35,
     "metadata": {},
     "output_type": "execute_result"
    },
    {
     "data": {
      "image/png": "[encoded data removed]",
      "text/plain": [
       "<Figure size 2880x1800 with 1 Axes>"
      ]
     },
     "metadata": {
      "needs_background": "light"
     },
     "output_type": "display_data"
    }
   ],
   "source": [
    "data['model'].value_counts().plot(kind='bar',figsize= (40,25))"
   ]
  },
  {
   "cell_type": "code",
   "execution_count": 36,
   "metadata": {},
   "outputs": [
    {
     "data": {
      "text/plain": [
       "model\n",
       "acura tl              6518.054688\n",
       "bmw x5               10958.825503\n",
       "buick enclave        11644.548193\n",
       "cadillac escalade    17990.034884\n",
       "chevrolet camaro     13165.238462\n",
       "                         ...     \n",
       "toyota sienna         9125.580645\n",
       "toyota tacoma        15543.182773\n",
       "toyota tundra        14558.574230\n",
       "volkswagen jetta      6467.345794\n",
       "volkswagen passat     8191.932039\n",
       "Name: price, Length: 99, dtype: float64"
      ]
     },
     "execution_count": 36,
     "metadata": {},
     "output_type": "execute_result"
    }
   ],
   "source": [
    "\n",
    "data.groupby('model')['price'].mean()"
   ]
  },
  {
   "cell_type": "markdown",
   "metadata": {},
   "source": [
    "The two types with the greatest number of ads is : Ford f-150, Chevrolet silverado 1500."
   ]
  },
  {
   "cell_type": "markdown",
   "metadata": {},
   "source": [
    "## Price factors"
   ]
  },
  {
   "cell_type": "code",
   "execution_count": 37,
   "metadata": {},
   "outputs": [
    {
     "name": "stdout",
     "output_type": "stream",
     "text": [
      "-----------ford f-150-------------\n",
      "contition corre\n",
      "0.25323335147338455\n",
      "--------------------------\n",
      "car_age corre\n",
      "-0.5173649158757769\n",
      "--------------------------\n",
      "odometer corre\n",
      "-0.397221193218603\n"
     ]
    },
    {
     "data": {
      "image/png": "[encoded data removed]",
      "text/plain": [
       "<Figure size 576x432 with 2 Axes>"
      ]
     },
     "metadata": {
      "needs_background": "light"
     },
     "output_type": "display_data"
    },
    {
     "data": {
      "image/png": "[encoded data removed]",
      "text/plain": [
       "<Figure size 576x432 with 2 Axes>"
      ]
     },
     "metadata": {
      "needs_background": "light"
     },
     "output_type": "display_data"
    },
    {
     "data": {
      "image/png": "[encoded data removed]",
      "text/plain": [
       "<Figure size 576x432 with 2 Axes>"
      ]
     },
     "metadata": {
      "needs_background": "light"
     },
     "output_type": "display_data"
    }
   ],
   "source": [
    "ford_150 = data.query('model == \"ford f-150\" ')\n",
    "print('-----------ford f-150-------------')\n",
    "print('contition corre')\n",
    "print(ford_150['price'].corr(ford_150['condition']));\n",
    "ford_150.plot(x='price', y='condition', kind='hexbin', gridsize=20, figsize=(8, 6), sharex=False, grid=True);\n",
    "print('--------------------------')\n",
    "print('car_age corre')\n",
    "print(ford_150['price'].corr(ford_150['car_age']));\n",
    "ford_150.plot(x='price', y='car_age', kind='hexbin', gridsize=20, figsize=(8, 6), sharex=False, grid=True)\n",
    "print('--------------------------')\n",
    "print('odometer corre')\n",
    "print(ford_150['price'].corr(ford_150['odometer']))\n",
    "ford_150.plot(x='price', y='odometer', kind='hexbin', gridsize=20, figsize=(8, 6), sharex=False, grid=True);\n"
   ]
  },
  {
   "cell_type": "markdown",
   "metadata": {},
   "source": [
    "In the first table we can see that the newer the vehicle's condition, the higher its price. It can also be seen that most of the vehicles are in 3 mode."
   ]
  },
  {
   "cell_type": "markdown",
   "metadata": {},
   "source": [
    "In the second table we can see that the younger the vehicle, the higher its price. "
   ]
  },
  {
   "cell_type": "markdown",
   "metadata": {},
   "source": [
    "From the third table it can be understood that the higher the mileage in the vehicle, the lower its price."
   ]
  },
  {
   "cell_type": "code",
   "execution_count": 38,
   "metadata": {},
   "outputs": [
    {
     "data": {
      "image/png": "[encoded data removed]",
      "text/plain": [
       "<Figure size 432x288 with 1 Axes>"
      ]
     },
     "metadata": {
      "needs_background": "light"
     },
     "output_type": "display_data"
    }
   ],
   "source": [
    "ax=sns.boxplot(x = 'price', y = 'paint_color', data = ford_150)"
   ]
  },
  {
   "cell_type": "markdown",
   "metadata": {},
   "source": [
    "In the graph we can see that most of the colors are on the same price range. However the range of colors yellow, orange and purple is very small and relatively cheap for others, which teaches us about less demand for these colors."
   ]
  },
  {
   "cell_type": "code",
   "execution_count": 39,
   "metadata": {},
   "outputs": [
    {
     "data": {
      "image/png": "[encoded data removed]",
      "text/plain": [
       "<Figure size 432x288 with 1 Axes>"
      ]
     },
     "metadata": {
      "needs_background": "light"
     },
     "output_type": "display_data"
    }
   ],
   "source": [
    "\n",
    "ax=sns.boxplot(x = 'price', y = 'transmission', data = ford_150)\n"
   ]
  },
  {
   "cell_type": "markdown",
   "metadata": {},
   "source": [
    "We can see in the graph that the automatic transmission is much more expensive And requested than the manual and the others."
   ]
  },
  {
   "cell_type": "code",
   "execution_count": 40,
   "metadata": {},
   "outputs": [
    {
     "name": "stdout",
     "output_type": "stream",
     "text": [
      "-----------chevrolet silverado 1500-------------\n",
      "contition corre\n",
      "0.34758688309669694\n",
      "--------------------------\n",
      "car_age corre\n",
      "-0.7259582551063433\n",
      "--------------------------\n",
      "odometer corre\n",
      "-0.6634652651648527\n"
     ]
    },
    {
     "data": {
      "image/png": "[encoded data removed]",
      "text/plain": [
       "<Figure size 576x432 with 2 Axes>"
      ]
     },
     "metadata": {
      "needs_background": "light"
     },
     "output_type": "display_data"
    },
    {
     "data": {
      "image/png": "[encoded data removed]",
      "text/plain": [
       "<Figure size 576x432 with 2 Axes>"
      ]
     },
     "metadata": {
      "needs_background": "light"
     },
     "output_type": "display_data"
    },
    {
     "data": {
      "image/png": "[encoded data removed]",
      "text/plain": [
       "<Figure size 576x432 with 2 Axes>"
      ]
     },
     "metadata": {
      "needs_background": "light"
     },
     "output_type": "display_data"
    }
   ],
   "source": [
    "chevrolet = data.query('model == \"chevrolet silverado 1500\" ')\n",
    "print('-----------chevrolet silverado 1500-------------')\n",
    "print('contition corre')\n",
    "print(chevrolet['price'].corr(chevrolet['condition']))\n",
    "chevrolet.plot(x='price', y='condition', kind='hexbin', gridsize=20, figsize=(8, 6), sharex=False, grid=True)\n",
    "print('--------------------------')\n",
    "print('car_age corre')\n",
    "print(chevrolet['price'].corr(chevrolet['car_age']))\n",
    "chevrolet.plot(x='price', y='car_age', kind='hexbin', gridsize=20, figsize=(8, 6), sharex=False, grid=True)\n",
    "print('--------------------------')\n",
    "print('odometer corre')\n",
    "print(chevrolet['price'].corr(chevrolet['odometer']))\n",
    "chevrolet.plot(x='price', y='odometer', kind='hexbin', gridsize=20, figsize=(8, 6), sharex=False, grid=True);"
   ]
  },
  {
   "cell_type": "markdown",
   "metadata": {},
   "source": [
    "In the first table we can see that the newer the vehicle's condition, the higher its price. It can also be seen that most of the vehicles are in 3 mode."
   ]
  },
  {
   "cell_type": "markdown",
   "metadata": {},
   "source": [
    "In the second table we can see that the younger the vehicle, the higher its price."
   ]
  },
  {
   "cell_type": "markdown",
   "metadata": {},
   "source": [
    "From the third table it can be understood that the higher the mileage in the vehicle, the lower its price."
   ]
  },
  {
   "cell_type": "markdown",
   "metadata": {},
   "source": []
  },
  {
   "cell_type": "code",
   "execution_count": 41,
   "metadata": {},
   "outputs": [
    {
     "data": {
      "image/png": "[encoded data removed]",
      "text/plain": [
       "<Figure size 432x288 with 1 Axes>"
      ]
     },
     "metadata": {
      "needs_background": "light"
     },
     "output_type": "display_data"
    }
   ],
   "source": [
    "ax=sns.boxplot(x = 'price', y = 'paint_color', data = chevrolet)"
   ]
  },
  {
   "cell_type": "markdown",
   "metadata": {},
   "source": [
    "In the graph we can see that most of the colors are on the same price range. However it can be seen that the cheaper colors and The least sought after are green, purple and yellow and the more expensive and more sought after colors are red, brown and black."
   ]
  },
  {
   "cell_type": "code",
   "execution_count": 42,
   "metadata": {},
   "outputs": [
    {
     "data": {
      "image/png": "[encoded data removed]",
      "text/plain": [
       "<Figure size 432x288 with 1 Axes>"
      ]
     },
     "metadata": {
      "needs_background": "light"
     },
     "output_type": "display_data"
    }
   ],
   "source": [
    "ax=sns.boxplot(x = 'price', y = 'transmission', data = chevrolet)"
   ]
  },
  {
   "cell_type": "markdown",
   "metadata": {},
   "source": [
    "We can see in the graph that the automatic transmission is much more expensive And requested than the manual and the others."
   ]
  },
  {
   "cell_type": "markdown",
   "metadata": {},
   "source": [
    "Conclusions from this stage:\n",
    "\n",
    "1.In both Ford and Chevrolet the parameter that affects the price the most is the age of the vehicle.\n",
    "\n",
    "2.In Chevrolet it seems that the type of gearbox is very influential (when the automatic is more expensive) and so is the mileage.\n",
    "\n",
    "3.Ford no longer saw parameters with a significant price correlation."
   ]
  },
  {
   "cell_type": "markdown",
   "metadata": {},
   "source": [
    "Final conclusion and steps in the project:\n",
    "\n",
    "1.Preparing the data - I searched for missing entries and found most of them from the 'is_4wd' column (probably many of these did not have a 4X4 in the vehicle so they did not fill in this detail). I replaced these missing values with 0 (the number indicating that they do not have a 4X4) and deleted the other missing values.\n",
    "\n",
    "2.I changed the 'model_year' column to integers.\n",
    "\n",
    "3.Enrich data:\n",
    "-I changed the 'date_posted' format and added a column for the day of the week in which the post was published.\n",
    "-I added a column of the average mileage of the car per year.\n",
    "-I changed the strings in the 'condition' column to numeric values to make it more convenient to work with. \n",
    "\n",
    "4.I made sure the data was clean.\n",
    "\n",
    "5.I searched and determined exceptions in the data by setting upper and lower limits. I then created a new data set without exceptions.I compared the two data sets and found that the exceptions greatly affected the quality of the graph so I continued to work with the filtered data.\n",
    "\n",
    "6.I checked the average lifespan of an ad. After finding and removing exceptions I found that the average lifespan of an ad is: 33 days, an ad that was removed too quickly was removed that day and an ad that was unusually long-lasting lasted 104 days.\n",
    "\n",
    "7.I searched for the types of vehicles with the largest number of ads and found them: Ford 150 and Chevrolet Silverado.\n",
    "\n",
    "8.I searched for the parameters that most affect the price (I checked which parameters have the most correlation with the price column) and found:\n",
    "-In both Ford and Chevrolet the parameter that affects the price the most is the age of the vehicle. -In Chevrolet it seems that the type of gearbox is very influential (when the automatic is more expensive) and so is the mileage. \n",
    "-Ford no longer saw parameters with a significant price correlation."
   ]
  }
 ],
 "metadata": {
  "ExecuteTimeLog": [
   {
    "duration": 828,
    "start_time": "2021-11-16T09:21:11.304Z"
   },
   {
    "duration": 893,
    "start_time": "2021-11-16T09:21:17.728Z"
   },
   {
    "duration": 1150,
    "start_time": "2021-11-16T09:21:29.568Z"
   },
   {
    "duration": 3,
    "start_time": "2021-11-16T09:24:14.495Z"
   },
   {
    "duration": 120,
    "start_time": "2021-11-16T09:24:46.630Z"
   },
   {
    "duration": 3,
    "start_time": "2021-11-16T09:28:27.882Z"
   },
   {
    "duration": 4,
    "start_time": "2021-11-16T09:29:54.281Z"
   },
   {
    "duration": 3,
    "start_time": "2021-11-16T09:30:45.936Z"
   },
   {
    "duration": 4,
    "start_time": "2021-11-16T09:31:06.300Z"
   },
   {
    "duration": 113,
    "start_time": "2021-11-16T09:31:37.208Z"
   },
   {
    "duration": 143,
    "start_time": "2021-11-16T09:31:48.656Z"
   },
   {
    "duration": 98,
    "start_time": "2021-11-16T09:31:55.678Z"
   },
   {
    "duration": 3,
    "start_time": "2021-11-16T09:32:08.535Z"
   },
   {
    "duration": 111,
    "start_time": "2021-11-16T09:32:10.120Z"
   },
   {
    "duration": 3,
    "start_time": "2021-11-16T09:32:15.732Z"
   },
   {
    "duration": 4,
    "start_time": "2021-11-16T09:32:29.423Z"
   },
   {
    "duration": 3,
    "start_time": "2021-11-16T10:03:03.074Z"
   },
   {
    "duration": 3,
    "start_time": "2021-11-16T10:10:01.288Z"
   },
   {
    "duration": 3,
    "start_time": "2021-11-16T10:10:46.923Z"
   },
   {
    "duration": 121,
    "start_time": "2021-11-16T10:37:46.494Z"
   },
   {
    "duration": 125,
    "start_time": "2021-11-16T10:38:20.632Z"
   },
   {
    "duration": 112,
    "start_time": "2021-11-16T10:46:53.001Z"
   },
   {
    "duration": 110,
    "start_time": "2021-11-16T10:48:25.775Z"
   },
   {
    "duration": 3,
    "start_time": "2021-11-16T10:50:18.720Z"
   },
   {
    "duration": 4,
    "start_time": "2021-11-16T10:50:37.649Z"
   },
   {
    "duration": 2,
    "start_time": "2021-11-16T10:50:51.884Z"
   },
   {
    "duration": 3,
    "start_time": "2021-11-16T10:51:56.237Z"
   },
   {
    "duration": 101,
    "start_time": "2021-11-16T10:53:13.791Z"
   },
   {
    "duration": 3,
    "start_time": "2021-11-16T10:55:59.186Z"
   },
   {
    "duration": 3,
    "start_time": "2021-11-16T10:56:10.751Z"
   },
   {
    "duration": 3,
    "start_time": "2021-11-16T10:56:49.038Z"
   },
   {
    "duration": 3,
    "start_time": "2021-11-16T10:56:49.174Z"
   },
   {
    "duration": 4,
    "start_time": "2021-11-16T10:56:49.414Z"
   },
   {
    "duration": 3,
    "start_time": "2021-11-16T10:56:49.680Z"
   },
   {
    "duration": 3,
    "start_time": "2021-11-16T10:56:50.370Z"
   },
   {
    "duration": 114,
    "start_time": "2021-11-16T10:59:34.518Z"
   },
   {
    "duration": 3,
    "start_time": "2021-11-16T11:01:41.201Z"
   },
   {
    "duration": 116,
    "start_time": "2021-11-16T11:01:48.754Z"
   },
   {
    "duration": 3,
    "start_time": "2021-11-16T11:02:16.685Z"
   },
   {
    "duration": 3,
    "start_time": "2021-11-16T11:02:19.479Z"
   },
   {
    "duration": 3,
    "start_time": "2021-11-16T11:02:47.067Z"
   },
   {
    "duration": 3,
    "start_time": "2021-11-16T11:02:49.353Z"
   },
   {
    "duration": 3,
    "start_time": "2021-11-16T11:03:07.835Z"
   },
   {
    "duration": 3,
    "start_time": "2021-11-16T11:03:07.953Z"
   },
   {
    "duration": 112,
    "start_time": "2021-11-16T11:07:52.072Z"
   },
   {
    "duration": 187,
    "start_time": "2021-11-16T11:09:23.468Z"
   },
   {
    "duration": 4,
    "start_time": "2021-11-16T11:10:01.455Z"
   },
   {
    "duration": 3,
    "start_time": "2021-11-16T11:10:05.069Z"
   },
   {
    "duration": 4,
    "start_time": "2021-11-16T11:10:13.376Z"
   },
   {
    "duration": 3,
    "start_time": "2021-11-16T11:10:14.434Z"
   },
   {
    "duration": 3,
    "start_time": "2021-11-16T11:10:22.853Z"
   },
   {
    "duration": 4,
    "start_time": "2021-11-16T11:27:29.279Z"
   },
   {
    "duration": 4,
    "start_time": "2021-11-16T11:29:08.919Z"
   },
   {
    "duration": 118,
    "start_time": "2021-11-16T11:29:46.703Z"
   },
   {
    "duration": 437,
    "start_time": "2021-11-16T11:36:02.181Z"
   },
   {
    "duration": 157,
    "start_time": "2021-11-16T11:36:14.388Z"
   },
   {
    "duration": 207,
    "start_time": "2021-11-16T11:47:15.898Z"
   },
   {
    "duration": 3,
    "start_time": "2021-11-16T11:53:52.092Z"
   },
   {
    "duration": 3,
    "start_time": "2021-11-16T11:53:52.236Z"
   },
   {
    "duration": 3,
    "start_time": "2021-11-16T11:59:12.005Z"
   },
   {
    "duration": 112,
    "start_time": "2021-11-16T12:00:33.446Z"
   },
   {
    "duration": 3,
    "start_time": "2021-11-16T12:02:14.453Z"
   },
   {
    "duration": 3,
    "start_time": "2021-11-16T12:02:39.512Z"
   },
   {
    "duration": 106,
    "start_time": "2021-11-16T12:03:03.460Z"
   },
   {
    "duration": 474,
    "start_time": "2022-01-28T17:47:42.973Z"
   },
   {
    "duration": 897,
    "start_time": "2022-01-28T17:47:48.048Z"
   },
   {
    "duration": 711,
    "start_time": "2022-01-28T17:47:54.560Z"
   },
   {
    "duration": 26,
    "start_time": "2022-01-28T17:53:00.893Z"
   },
   {
    "duration": 26,
    "start_time": "2022-01-28T17:53:41.800Z"
   },
   {
    "duration": 29,
    "start_time": "2022-01-28T18:01:32.871Z"
   },
   {
    "duration": 25,
    "start_time": "2022-01-28T19:54:04.814Z"
   },
   {
    "duration": 5,
    "start_time": "2022-01-28T19:59:28.278Z"
   },
   {
    "duration": 8,
    "start_time": "2022-01-28T20:00:10.295Z"
   },
   {
    "duration": 39,
    "start_time": "2022-01-28T20:00:43.588Z"
   },
   {
    "duration": 40,
    "start_time": "2022-01-28T20:00:53.380Z"
   },
   {
    "duration": 7,
    "start_time": "2022-01-28T20:01:14.080Z"
   },
   {
    "duration": 403,
    "start_time": "2022-01-28T20:03:51.672Z"
   },
   {
    "duration": 373,
    "start_time": "2022-01-28T20:04:17.350Z"
   },
   {
    "duration": 362,
    "start_time": "2022-01-28T20:05:51.833Z"
   },
   {
    "duration": 5,
    "start_time": "2022-01-28T20:06:10.899Z"
   },
   {
    "duration": 357,
    "start_time": "2022-01-28T20:06:48.404Z"
   },
   {
    "duration": 1402,
    "start_time": "2022-01-28T20:07:55.557Z"
   },
   {
    "duration": 917,
    "start_time": "2022-01-28T20:08:09.190Z"
   },
   {
    "duration": 410,
    "start_time": "2022-01-28T20:08:42.047Z"
   },
   {
    "duration": 351,
    "start_time": "2022-01-28T20:10:35.098Z"
   },
   {
    "duration": 28,
    "start_time": "2022-01-28T20:13:49.668Z"
   },
   {
    "duration": 5,
    "start_time": "2022-01-28T20:13:54.293Z"
   },
   {
    "duration": 18,
    "start_time": "2022-01-28T20:14:27.396Z"
   },
   {
    "duration": 5,
    "start_time": "2022-01-28T20:14:32.489Z"
   },
   {
    "duration": 10,
    "start_time": "2022-01-28T20:15:23.721Z"
   },
   {
    "duration": 313,
    "start_time": "2022-01-30T11:17:29.301Z"
   },
   {
    "duration": 724,
    "start_time": "2022-01-30T11:17:34.518Z"
   },
   {
    "duration": 89,
    "start_time": "2022-01-30T11:17:35.244Z"
   },
   {
    "duration": 22,
    "start_time": "2022-01-30T11:17:35.336Z"
   },
   {
    "duration": 40,
    "start_time": "2022-01-30T11:17:35.361Z"
   },
   {
    "duration": 21,
    "start_time": "2022-01-30T11:17:35.403Z"
   },
   {
    "duration": 5,
    "start_time": "2022-01-30T11:17:35.426Z"
   },
   {
    "duration": 6,
    "start_time": "2022-01-30T11:17:35.433Z"
   },
   {
    "duration": 23,
    "start_time": "2022-01-30T11:17:35.441Z"
   },
   {
    "duration": 44,
    "start_time": "2022-01-30T11:17:35.466Z"
   },
   {
    "duration": 4,
    "start_time": "2022-01-30T11:17:35.512Z"
   },
   {
    "duration": 11,
    "start_time": "2022-01-30T11:17:35.517Z"
   },
   {
    "duration": 3,
    "start_time": "2022-01-30T11:17:35.530Z"
   },
   {
    "duration": 5,
    "start_time": "2022-01-30T11:17:37.918Z"
   },
   {
    "duration": 6,
    "start_time": "2022-01-30T11:18:20.185Z"
   },
   {
    "duration": 290,
    "start_time": "2022-01-30T11:23:26.686Z"
   },
   {
    "duration": 250,
    "start_time": "2022-01-30T11:24:33.448Z"
   },
   {
    "duration": 4,
    "start_time": "2022-01-30T11:26:23.002Z"
   },
   {
    "duration": 8,
    "start_time": "2022-01-30T11:26:53.671Z"
   },
   {
    "duration": 299,
    "start_time": "2022-01-30T11:50:56.314Z"
   },
   {
    "duration": 16,
    "start_time": "2022-01-30T11:52:06.159Z"
   },
   {
    "duration": 18,
    "start_time": "2022-01-30T11:52:40.056Z"
   },
   {
    "duration": 237,
    "start_time": "2022-01-30T11:59:16.334Z"
   },
   {
    "duration": 300,
    "start_time": "2022-01-30T11:59:32.634Z"
   },
   {
    "duration": 198,
    "start_time": "2022-01-30T12:00:33.713Z"
   },
   {
    "duration": 16,
    "start_time": "2022-01-30T12:01:01.183Z"
   },
   {
    "duration": 57,
    "start_time": "2022-01-30T12:09:31.152Z"
   },
   {
    "duration": 742,
    "start_time": "2022-01-30T15:26:43.515Z"
   },
   {
    "duration": 93,
    "start_time": "2022-01-30T15:26:44.259Z"
   },
   {
    "duration": 21,
    "start_time": "2022-01-30T15:26:44.354Z"
   },
   {
    "duration": 27,
    "start_time": "2022-01-30T15:26:44.377Z"
   },
   {
    "duration": 31,
    "start_time": "2022-01-30T15:26:44.405Z"
   },
   {
    "duration": 4,
    "start_time": "2022-01-30T15:26:44.438Z"
   },
   {
    "duration": 20,
    "start_time": "2022-01-30T15:26:44.444Z"
   },
   {
    "duration": 33,
    "start_time": "2022-01-30T15:26:44.467Z"
   },
   {
    "duration": 14,
    "start_time": "2022-01-30T15:26:44.503Z"
   },
   {
    "duration": 8,
    "start_time": "2022-01-30T15:26:44.519Z"
   },
   {
    "duration": 27,
    "start_time": "2022-01-30T15:26:44.529Z"
   },
   {
    "duration": 38,
    "start_time": "2022-01-30T15:26:44.558Z"
   },
   {
    "duration": 22,
    "start_time": "2022-01-30T15:26:44.598Z"
   },
   {
    "duration": 31,
    "start_time": "2022-01-30T15:26:44.621Z"
   },
   {
    "duration": 15,
    "start_time": "2022-01-30T15:26:44.654Z"
   },
   {
    "duration": 22,
    "start_time": "2022-01-30T15:26:44.671Z"
   },
   {
    "duration": 25,
    "start_time": "2022-01-30T15:26:44.695Z"
   },
   {
    "duration": 226,
    "start_time": "2022-01-30T15:26:44.723Z"
   },
   {
    "duration": 16,
    "start_time": "2022-01-30T15:26:44.951Z"
   },
   {
    "duration": 62,
    "start_time": "2022-01-30T15:26:44.970Z"
   },
   {
    "duration": 7214,
    "start_time": "2022-01-30T15:26:48.349Z"
   },
   {
    "duration": 6875,
    "start_time": "2022-01-30T15:27:30.583Z"
   },
   {
    "duration": 373,
    "start_time": "2022-01-30T15:27:49.526Z"
   },
   {
    "duration": 230,
    "start_time": "2022-01-30T15:28:01.318Z"
   },
   {
    "duration": 608,
    "start_time": "2022-01-30T15:28:09.794Z"
   },
   {
    "duration": 306,
    "start_time": "2022-01-30T15:30:04.948Z"
   },
   {
    "duration": 223,
    "start_time": "2022-01-30T15:31:31.126Z"
   },
   {
    "duration": 6924,
    "start_time": "2022-01-30T15:32:15.917Z"
   },
   {
    "duration": 221,
    "start_time": "2022-01-30T15:32:34.253Z"
   },
   {
    "duration": 227,
    "start_time": "2022-01-30T15:33:30.628Z"
   },
   {
    "duration": 457,
    "start_time": "2022-01-30T15:33:50.726Z"
   },
   {
    "duration": 221,
    "start_time": "2022-01-30T15:34:11.784Z"
   },
   {
    "duration": 228,
    "start_time": "2022-01-30T15:35:12.315Z"
   },
   {
    "duration": 200,
    "start_time": "2022-01-30T15:40:08.713Z"
   },
   {
    "duration": 51045,
    "start_time": "2022-01-30T15:45:44.051Z"
   },
   {
    "duration": 86,
    "start_time": "2022-01-30T15:49:57.355Z"
   },
   {
    "duration": 23039,
    "start_time": "2022-01-30T15:50:12.617Z"
   },
   {
    "duration": 37991,
    "start_time": "2022-01-30T15:50:53.963Z"
   },
   {
    "duration": 80,
    "start_time": "2022-01-30T15:53:43.886Z"
   },
   {
    "duration": 87,
    "start_time": "2022-01-30T15:54:02.269Z"
   },
   {
    "duration": 457,
    "start_time": "2022-01-30T15:54:11.765Z"
   },
   {
    "duration": 467,
    "start_time": "2022-01-30T15:55:40.975Z"
   },
   {
    "duration": 462,
    "start_time": "2022-01-30T15:57:07.730Z"
   },
   {
    "duration": 501,
    "start_time": "2022-01-30T15:58:18.113Z"
   },
   {
    "duration": 489,
    "start_time": "2022-01-30T16:03:21.675Z"
   },
   {
    "duration": 1910,
    "start_time": "2022-01-30T16:12:07.226Z"
   },
   {
    "duration": 86,
    "start_time": "2022-01-30T16:17:07.337Z"
   },
   {
    "duration": 93,
    "start_time": "2022-01-30T16:17:20.602Z"
   },
   {
    "duration": 95,
    "start_time": "2022-01-30T16:17:30.876Z"
   },
   {
    "duration": 103,
    "start_time": "2022-01-30T16:17:43.711Z"
   },
   {
    "duration": 1543,
    "start_time": "2022-01-30T16:53:28.411Z"
   },
   {
    "duration": 231,
    "start_time": "2022-01-30T16:53:42.941Z"
   },
   {
    "duration": 224,
    "start_time": "2022-01-30T16:54:24.188Z"
   },
   {
    "duration": 228,
    "start_time": "2022-01-30T16:55:22.614Z"
   },
   {
    "duration": 336,
    "start_time": "2022-01-30T16:55:51.803Z"
   },
   {
    "duration": 208,
    "start_time": "2022-01-30T16:56:42.775Z"
   },
   {
    "duration": 283,
    "start_time": "2022-01-30T16:57:13.132Z"
   },
   {
    "duration": 256,
    "start_time": "2022-01-30T17:14:38.018Z"
   },
   {
    "duration": 4,
    "start_time": "2022-01-30T17:14:48.188Z"
   },
   {
    "duration": 96,
    "start_time": "2022-01-30T17:14:48.195Z"
   },
   {
    "duration": 24,
    "start_time": "2022-01-30T17:14:48.293Z"
   },
   {
    "duration": 20,
    "start_time": "2022-01-30T17:14:48.320Z"
   },
   {
    "duration": 23,
    "start_time": "2022-01-30T17:14:48.343Z"
   },
   {
    "duration": 32,
    "start_time": "2022-01-30T17:14:48.368Z"
   },
   {
    "duration": 5,
    "start_time": "2022-01-30T17:14:48.405Z"
   },
   {
    "duration": 28,
    "start_time": "2022-01-30T17:14:48.413Z"
   },
   {
    "duration": 15,
    "start_time": "2022-01-30T17:14:48.444Z"
   },
   {
    "duration": 37,
    "start_time": "2022-01-30T17:14:48.461Z"
   },
   {
    "duration": 8,
    "start_time": "2022-01-30T17:14:48.500Z"
   },
   {
    "duration": 18,
    "start_time": "2022-01-30T17:14:48.510Z"
   },
   {
    "duration": 17,
    "start_time": "2022-01-30T17:14:48.530Z"
   },
   {
    "duration": 5,
    "start_time": "2022-01-30T17:14:48.550Z"
   },
   {
    "duration": 42,
    "start_time": "2022-01-30T17:14:48.557Z"
   },
   {
    "duration": 6,
    "start_time": "2022-01-30T17:14:48.601Z"
   },
   {
    "duration": 19,
    "start_time": "2022-01-30T17:14:48.609Z"
   },
   {
    "duration": 230,
    "start_time": "2022-01-30T17:14:48.631Z"
   },
   {
    "duration": 16,
    "start_time": "2022-01-30T17:14:48.864Z"
   },
   {
    "duration": 68,
    "start_time": "2022-01-30T17:14:48.882Z"
   },
   {
    "duration": 230,
    "start_time": "2022-01-30T17:14:48.952Z"
   },
   {
    "duration": 229,
    "start_time": "2022-01-30T17:14:49.185Z"
   },
   {
    "duration": 234,
    "start_time": "2022-01-30T17:14:49.416Z"
   },
   {
    "duration": 339,
    "start_time": "2022-01-30T17:14:49.652Z"
   },
   {
    "duration": 296,
    "start_time": "2022-01-30T17:14:49.993Z"
   },
   {
    "duration": 269,
    "start_time": "2022-01-30T17:14:52.529Z"
   },
   {
    "duration": 279,
    "start_time": "2022-01-30T17:15:34.805Z"
   },
   {
    "duration": 368,
    "start_time": "2022-01-30T17:15:54.366Z"
   },
   {
    "duration": 749,
    "start_time": "2022-01-30T17:18:57.647Z"
   },
   {
    "duration": 648,
    "start_time": "2022-01-30T17:20:03.866Z"
   },
   {
    "duration": 292,
    "start_time": "2022-01-30T17:36:51.130Z"
   },
   {
    "duration": 450,
    "start_time": "2022-01-30T17:37:23.156Z"
   },
   {
    "duration": 168,
    "start_time": "2022-01-30T17:38:02.662Z"
   },
   {
    "duration": 158,
    "start_time": "2022-01-30T17:38:21.505Z"
   },
   {
    "duration": 158,
    "start_time": "2022-01-30T17:38:45.593Z"
   },
   {
    "duration": 151,
    "start_time": "2022-01-30T17:38:56.781Z"
   },
   {
    "duration": 148,
    "start_time": "2022-01-30T17:39:08.572Z"
   },
   {
    "duration": 148,
    "start_time": "2022-01-30T17:40:21.102Z"
   },
   {
    "duration": 144,
    "start_time": "2022-01-30T17:40:27.266Z"
   },
   {
    "duration": 160,
    "start_time": "2022-01-30T17:40:35.987Z"
   },
   {
    "duration": 158,
    "start_time": "2022-01-30T17:42:51.222Z"
   },
   {
    "duration": 149,
    "start_time": "2022-01-30T17:43:01.069Z"
   },
   {
    "duration": 155,
    "start_time": "2022-01-30T17:43:17.328Z"
   },
   {
    "duration": 154,
    "start_time": "2022-01-30T17:59:28.481Z"
   },
   {
    "duration": 154,
    "start_time": "2022-01-30T17:59:36.482Z"
   },
   {
    "duration": 10,
    "start_time": "2022-01-30T18:09:38.509Z"
   },
   {
    "duration": 268,
    "start_time": "2022-01-30T18:16:28.661Z"
   },
   {
    "duration": 4,
    "start_time": "2022-01-30T18:16:59.701Z"
   },
   {
    "duration": 98,
    "start_time": "2022-01-30T18:16:59.708Z"
   },
   {
    "duration": 20,
    "start_time": "2022-01-30T18:16:59.809Z"
   },
   {
    "duration": 20,
    "start_time": "2022-01-30T18:16:59.832Z"
   },
   {
    "duration": 51,
    "start_time": "2022-01-30T18:16:59.854Z"
   },
   {
    "duration": 4,
    "start_time": "2022-01-30T18:16:59.907Z"
   },
   {
    "duration": 7,
    "start_time": "2022-01-30T18:16:59.912Z"
   },
   {
    "duration": 24,
    "start_time": "2022-01-30T18:16:59.920Z"
   },
   {
    "duration": 15,
    "start_time": "2022-01-30T18:16:59.946Z"
   },
   {
    "duration": 38,
    "start_time": "2022-01-30T18:16:59.963Z"
   },
   {
    "duration": 20,
    "start_time": "2022-01-30T18:17:00.004Z"
   },
   {
    "duration": 27,
    "start_time": "2022-01-30T18:17:00.026Z"
   },
   {
    "duration": 15,
    "start_time": "2022-01-30T18:17:00.055Z"
   },
   {
    "duration": 11,
    "start_time": "2022-01-30T18:17:00.072Z"
   },
   {
    "duration": 16,
    "start_time": "2022-01-30T18:17:00.084Z"
   },
   {
    "duration": 13,
    "start_time": "2022-01-30T18:17:00.102Z"
   },
   {
    "duration": 13,
    "start_time": "2022-01-30T18:17:00.117Z"
   },
   {
    "duration": 220,
    "start_time": "2022-01-30T18:17:00.132Z"
   },
   {
    "duration": 16,
    "start_time": "2022-01-30T18:17:00.354Z"
   },
   {
    "duration": 61,
    "start_time": "2022-01-30T18:17:00.371Z"
   },
   {
    "duration": 239,
    "start_time": "2022-01-30T18:17:00.434Z"
   },
   {
    "duration": 792,
    "start_time": "2022-01-30T18:17:00.675Z"
   },
   {
    "duration": 234,
    "start_time": "2022-01-30T18:17:01.469Z"
   },
   {
    "duration": 620,
    "start_time": "2022-01-30T18:17:01.706Z"
   },
   {
    "duration": 299,
    "start_time": "2022-01-30T18:17:02.328Z"
   },
   {
    "duration": 178,
    "start_time": "2022-01-30T18:17:02.629Z"
   },
   {
    "duration": 2,
    "start_time": "2022-01-30T18:17:02.809Z"
   },
   {
    "duration": 27,
    "start_time": "2022-01-30T18:17:02.813Z"
   },
   {
    "duration": 19,
    "start_time": "2022-01-30T18:17:02.842Z"
   },
   {
    "duration": 257,
    "start_time": "2022-01-30T18:17:11.482Z"
   },
   {
    "duration": 213,
    "start_time": "2022-01-30T18:17:32.871Z"
   },
   {
    "duration": 592,
    "start_time": "2022-01-30T18:18:32.827Z"
   },
   {
    "duration": 378,
    "start_time": "2022-01-31T13:55:12.036Z"
   },
   {
    "duration": 901,
    "start_time": "2022-01-31T13:55:18.707Z"
   },
   {
    "duration": 112,
    "start_time": "2022-01-31T13:55:19.611Z"
   },
   {
    "duration": 33,
    "start_time": "2022-01-31T13:55:19.726Z"
   },
   {
    "duration": 31,
    "start_time": "2022-01-31T13:55:19.761Z"
   },
   {
    "duration": 56,
    "start_time": "2022-01-31T13:55:19.794Z"
   },
   {
    "duration": 7,
    "start_time": "2022-01-31T13:55:19.853Z"
   },
   {
    "duration": 11,
    "start_time": "2022-01-31T13:55:19.862Z"
   },
   {
    "duration": 33,
    "start_time": "2022-01-31T13:55:19.875Z"
   },
   {
    "duration": 17,
    "start_time": "2022-01-31T13:55:19.932Z"
   },
   {
    "duration": 10,
    "start_time": "2022-01-31T13:55:19.952Z"
   },
   {
    "duration": 13,
    "start_time": "2022-01-31T13:55:19.964Z"
   },
   {
    "duration": 57,
    "start_time": "2022-01-31T13:55:19.979Z"
   },
   {
    "duration": 19,
    "start_time": "2022-01-31T13:55:20.039Z"
   },
   {
    "duration": 15,
    "start_time": "2022-01-31T13:55:20.061Z"
   },
   {
    "duration": 10,
    "start_time": "2022-01-31T13:55:20.078Z"
   },
   {
    "duration": 10,
    "start_time": "2022-01-31T13:55:20.091Z"
   },
   {
    "duration": 41,
    "start_time": "2022-01-31T13:55:20.103Z"
   },
   {
    "duration": 320,
    "start_time": "2022-01-31T13:55:20.147Z"
   },
   {
    "duration": 23,
    "start_time": "2022-01-31T13:55:20.470Z"
   },
   {
    "duration": 86,
    "start_time": "2022-01-31T13:55:20.496Z"
   },
   {
    "duration": 541,
    "start_time": "2022-01-31T13:55:20.584Z"
   },
   {
    "duration": 1327,
    "start_time": "2022-01-31T13:55:21.128Z"
   },
   {
    "duration": 329,
    "start_time": "2022-01-31T13:55:22.459Z"
   },
   {
    "duration": 891,
    "start_time": "2022-01-31T13:55:22.790Z"
   },
   {
    "duration": 423,
    "start_time": "2022-01-31T13:55:23.683Z"
   },
   {
    "duration": 9,
    "start_time": "2022-01-31T13:55:41.686Z"
   },
   {
    "duration": 10,
    "start_time": "2022-01-31T13:56:07.385Z"
   },
   {
    "duration": 8,
    "start_time": "2022-01-31T13:56:17.855Z"
   },
   {
    "duration": 10,
    "start_time": "2022-01-31T13:56:38.456Z"
   },
   {
    "duration": 11,
    "start_time": "2022-01-31T13:57:54.417Z"
   },
   {
    "duration": 85,
    "start_time": "2022-01-31T14:41:33.733Z"
   },
   {
    "duration": 298,
    "start_time": "2022-01-31T14:41:38.351Z"
   },
   {
    "duration": 292,
    "start_time": "2022-01-31T14:42:01.970Z"
   },
   {
    "duration": 262,
    "start_time": "2022-01-31T14:42:22.770Z"
   },
   {
    "duration": 76,
    "start_time": "2022-01-31T14:43:52.687Z"
   },
   {
    "duration": 459,
    "start_time": "2022-01-31T15:10:50.193Z"
   },
   {
    "duration": 524,
    "start_time": "2022-01-31T15:11:54.548Z"
   },
   {
    "duration": 914,
    "start_time": "2022-01-31T15:12:30.952Z"
   },
   {
    "duration": 459,
    "start_time": "2022-01-31T15:12:41.252Z"
   },
   {
    "duration": 7,
    "start_time": "2022-01-31T15:30:56.310Z"
   },
   {
    "duration": 209,
    "start_time": "2022-01-31T15:31:54.739Z"
   },
   {
    "duration": 266,
    "start_time": "2022-01-31T16:02:06.998Z"
   },
   {
    "duration": 4,
    "start_time": "2022-01-31T16:03:11.189Z"
   },
   {
    "duration": 424,
    "start_time": "2022-01-31T16:04:56.108Z"
   },
   {
    "duration": 265,
    "start_time": "2022-01-31T16:06:03.634Z"
   },
   {
    "duration": 260,
    "start_time": "2022-01-31T16:06:29.688Z"
   },
   {
    "duration": 5,
    "start_time": "2022-01-31T16:06:35.945Z"
   },
   {
    "duration": 124,
    "start_time": "2022-01-31T16:06:35.953Z"
   },
   {
    "duration": 28,
    "start_time": "2022-01-31T16:06:36.080Z"
   },
   {
    "duration": 28,
    "start_time": "2022-01-31T16:06:36.132Z"
   },
   {
    "duration": 28,
    "start_time": "2022-01-31T16:06:36.163Z"
   },
   {
    "duration": 40,
    "start_time": "2022-01-31T16:06:36.194Z"
   },
   {
    "duration": 6,
    "start_time": "2022-01-31T16:06:36.237Z"
   },
   {
    "duration": 29,
    "start_time": "2022-01-31T16:06:36.245Z"
   },
   {
    "duration": 17,
    "start_time": "2022-01-31T16:06:36.278Z"
   },
   {
    "duration": 38,
    "start_time": "2022-01-31T16:06:36.298Z"
   },
   {
    "duration": 17,
    "start_time": "2022-01-31T16:06:36.338Z"
   },
   {
    "duration": 19,
    "start_time": "2022-01-31T16:06:36.357Z"
   },
   {
    "duration": 20,
    "start_time": "2022-01-31T16:06:36.378Z"
   },
   {
    "duration": 34,
    "start_time": "2022-01-31T16:06:36.401Z"
   },
   {
    "duration": 12,
    "start_time": "2022-01-31T16:06:36.437Z"
   },
   {
    "duration": 6,
    "start_time": "2022-01-31T16:06:36.452Z"
   },
   {
    "duration": 16,
    "start_time": "2022-01-31T16:06:36.460Z"
   },
   {
    "duration": 411,
    "start_time": "2022-01-31T16:06:36.479Z"
   },
   {
    "duration": 39,
    "start_time": "2022-01-31T16:06:36.893Z"
   },
   {
    "duration": 63,
    "start_time": "2022-01-31T16:06:36.935Z"
   },
   {
    "duration": 409,
    "start_time": "2022-01-31T16:06:39.702Z"
   },
   {
    "duration": 261,
    "start_time": "2022-01-31T16:07:40.581Z"
   },
   {
    "duration": 256,
    "start_time": "2022-01-31T16:07:51.539Z"
   },
   {
    "duration": 246,
    "start_time": "2022-01-31T16:08:54.048Z"
   },
   {
    "duration": 20,
    "start_time": "2022-01-31T16:15:38.718Z"
   },
   {
    "duration": 301,
    "start_time": "2022-01-31T16:17:08.888Z"
   },
   {
    "duration": 255,
    "start_time": "2022-01-31T16:18:04.686Z"
   },
   {
    "duration": 789,
    "start_time": "2022-01-31T16:20:08.238Z"
   },
   {
    "duration": 352,
    "start_time": "2022-01-31T16:20:18.047Z"
   },
   {
    "duration": 249,
    "start_time": "2022-01-31T16:21:25.727Z"
   },
   {
    "duration": 243,
    "start_time": "2022-01-31T16:23:07.740Z"
   },
   {
    "duration": 1553,
    "start_time": "2022-01-31T16:23:14.932Z"
   },
   {
    "duration": 394,
    "start_time": "2022-01-31T16:24:45.102Z"
   },
   {
    "duration": 94,
    "start_time": "2022-01-31T16:25:04.009Z"
   },
   {
    "duration": 582,
    "start_time": "2022-01-31T16:25:07.696Z"
   },
   {
    "duration": 80,
    "start_time": "2022-01-31T16:25:43.570Z"
   },
   {
    "duration": 91,
    "start_time": "2022-01-31T16:25:48.837Z"
   },
   {
    "duration": 25,
    "start_time": "2022-01-31T16:26:52.302Z"
   },
   {
    "duration": 26,
    "start_time": "2022-01-31T16:27:00.133Z"
   },
   {
    "duration": 307,
    "start_time": "2022-01-31T16:31:46.073Z"
   },
   {
    "duration": 453,
    "start_time": "2022-01-31T16:32:56.013Z"
   },
   {
    "duration": 422,
    "start_time": "2022-01-31T16:33:01.821Z"
   },
   {
    "duration": 79,
    "start_time": "2022-01-31T16:33:08.921Z"
   },
   {
    "duration": 89,
    "start_time": "2022-01-31T16:33:15.579Z"
   },
   {
    "duration": 728,
    "start_time": "2022-01-31T16:33:19.760Z"
   },
   {
    "duration": 395,
    "start_time": "2022-01-31T16:33:33.181Z"
   },
   {
    "duration": 421,
    "start_time": "2022-01-31T16:35:21.940Z"
   },
   {
    "duration": 262,
    "start_time": "2022-01-31T16:37:28.525Z"
   },
   {
    "duration": 245,
    "start_time": "2022-01-31T16:37:47.958Z"
   },
   {
    "duration": 265,
    "start_time": "2022-01-31T16:38:15.598Z"
   },
   {
    "duration": 266,
    "start_time": "2022-01-31T16:38:57.336Z"
   },
   {
    "duration": 7886,
    "start_time": "2022-01-31T16:39:27.354Z"
   },
   {
    "duration": 4,
    "start_time": "2022-01-31T16:42:25.607Z"
   },
   {
    "duration": 123,
    "start_time": "2022-01-31T16:42:25.614Z"
   },
   {
    "duration": 27,
    "start_time": "2022-01-31T16:42:25.740Z"
   },
   {
    "duration": 62,
    "start_time": "2022-01-31T16:42:25.771Z"
   },
   {
    "duration": 29,
    "start_time": "2022-01-31T16:42:25.836Z"
   },
   {
    "duration": 5,
    "start_time": "2022-01-31T16:42:25.868Z"
   },
   {
    "duration": 9,
    "start_time": "2022-01-31T16:42:25.876Z"
   },
   {
    "duration": 69,
    "start_time": "2022-01-31T16:42:25.888Z"
   },
   {
    "duration": 16,
    "start_time": "2022-01-31T16:42:25.960Z"
   },
   {
    "duration": 5,
    "start_time": "2022-01-31T16:42:25.979Z"
   },
   {
    "duration": 48,
    "start_time": "2022-01-31T16:42:25.986Z"
   },
   {
    "duration": 19,
    "start_time": "2022-01-31T16:42:26.036Z"
   },
   {
    "duration": 21,
    "start_time": "2022-01-31T16:42:26.057Z"
   },
   {
    "duration": 9,
    "start_time": "2022-01-31T16:42:26.080Z"
   },
   {
    "duration": 43,
    "start_time": "2022-01-31T16:42:26.091Z"
   },
   {
    "duration": 5,
    "start_time": "2022-01-31T16:42:26.136Z"
   },
   {
    "duration": 13,
    "start_time": "2022-01-31T16:42:26.146Z"
   },
   {
    "duration": 428,
    "start_time": "2022-01-31T16:42:26.161Z"
   },
   {
    "duration": 23,
    "start_time": "2022-01-31T16:42:26.591Z"
   },
   {
    "duration": 68,
    "start_time": "2022-01-31T16:42:26.632Z"
   },
   {
    "duration": 396,
    "start_time": "2022-01-31T16:42:26.703Z"
   },
   {
    "duration": 839,
    "start_time": "2022-01-31T16:42:27.102Z"
   },
   {
    "duration": 314,
    "start_time": "2022-01-31T16:42:27.943Z"
   },
   {
    "duration": 857,
    "start_time": "2022-01-31T16:42:28.259Z"
   },
   {
    "duration": 522,
    "start_time": "2022-01-31T16:42:29.118Z"
   },
   {
    "duration": 20,
    "start_time": "2022-01-31T16:42:29.643Z"
   },
   {
    "duration": 21,
    "start_time": "2022-01-31T16:42:29.666Z"
   },
   {
    "duration": 89,
    "start_time": "2022-01-31T16:42:29.690Z"
   },
   {
    "duration": -18,
    "start_time": "2022-01-31T16:42:29.800Z"
   },
   {
    "duration": -20,
    "start_time": "2022-01-31T16:42:29.803Z"
   },
   {
    "duration": 969,
    "start_time": "2022-01-31T16:43:15.816Z"
   },
   {
    "duration": 11,
    "start_time": "2022-01-31T16:43:22.400Z"
   },
   {
    "duration": 956,
    "start_time": "2022-01-31T16:43:26.866Z"
   },
   {
    "duration": 11,
    "start_time": "2022-01-31T16:43:46.554Z"
   },
   {
    "duration": 14,
    "start_time": "2022-01-31T16:44:03.414Z"
   },
   {
    "duration": 11,
    "start_time": "2022-01-31T16:44:30.272Z"
   },
   {
    "duration": 15,
    "start_time": "2022-01-31T16:44:44.825Z"
   },
   {
    "duration": 12,
    "start_time": "2022-01-31T16:45:11.783Z"
   },
   {
    "duration": 291,
    "start_time": "2022-01-31T16:46:21.671Z"
   },
   {
    "duration": 6282,
    "start_time": "2022-01-31T16:52:10.575Z"
   },
   {
    "duration": 14,
    "start_time": "2022-01-31T16:53:06.660Z"
   },
   {
    "duration": 15,
    "start_time": "2022-01-31T16:53:40.341Z"
   },
   {
    "duration": 238,
    "start_time": "2022-01-31T16:56:58.933Z"
   },
   {
    "duration": 16,
    "start_time": "2022-01-31T16:57:18.599Z"
   },
   {
    "duration": 15,
    "start_time": "2022-01-31T16:57:58.652Z"
   },
   {
    "duration": 267,
    "start_time": "2022-01-31T17:07:46.649Z"
   },
   {
    "duration": 329,
    "start_time": "2022-01-31T17:11:45.651Z"
   },
   {
    "duration": 222,
    "start_time": "2022-01-31T17:12:25.779Z"
   },
   {
    "duration": 274,
    "start_time": "2022-01-31T17:12:55.754Z"
   },
   {
    "duration": 225,
    "start_time": "2022-01-31T17:13:27.537Z"
   },
   {
    "duration": 12,
    "start_time": "2022-01-31T17:13:47.341Z"
   },
   {
    "duration": 345,
    "start_time": "2022-01-31T17:14:08.190Z"
   },
   {
    "duration": 217,
    "start_time": "2022-01-31T17:14:36.606Z"
   },
   {
    "duration": 4,
    "start_time": "2022-01-31T17:18:46.291Z"
   },
   {
    "duration": 160,
    "start_time": "2022-01-31T17:18:46.298Z"
   },
   {
    "duration": 32,
    "start_time": "2022-01-31T17:18:46.462Z"
   },
   {
    "duration": 63,
    "start_time": "2022-01-31T17:18:46.498Z"
   },
   {
    "duration": 40,
    "start_time": "2022-01-31T17:18:46.564Z"
   },
   {
    "duration": 30,
    "start_time": "2022-01-31T17:18:46.606Z"
   },
   {
    "duration": 8,
    "start_time": "2022-01-31T17:18:46.638Z"
   },
   {
    "duration": 28,
    "start_time": "2022-01-31T17:18:46.648Z"
   },
   {
    "duration": 17,
    "start_time": "2022-01-31T17:18:46.680Z"
   },
   {
    "duration": 5,
    "start_time": "2022-01-31T17:18:46.733Z"
   },
   {
    "duration": 16,
    "start_time": "2022-01-31T17:18:46.741Z"
   },
   {
    "duration": 26,
    "start_time": "2022-01-31T17:18:46.760Z"
   },
   {
    "duration": 56,
    "start_time": "2022-01-31T17:18:46.789Z"
   },
   {
    "duration": 8,
    "start_time": "2022-01-31T17:18:46.848Z"
   },
   {
    "duration": 19,
    "start_time": "2022-01-31T17:18:46.859Z"
   },
   {
    "duration": 5,
    "start_time": "2022-01-31T17:18:46.881Z"
   },
   {
    "duration": 46,
    "start_time": "2022-01-31T17:18:46.888Z"
   },
   {
    "duration": 453,
    "start_time": "2022-01-31T17:18:46.937Z"
   },
   {
    "duration": 21,
    "start_time": "2022-01-31T17:18:47.392Z"
   },
   {
    "duration": 81,
    "start_time": "2022-01-31T17:18:47.415Z"
   },
   {
    "duration": 234,
    "start_time": "2022-01-31T17:18:47.498Z"
   },
   {
    "duration": 14,
    "start_time": "2022-01-31T17:18:47.735Z"
   },
   {
    "duration": 262,
    "start_time": "2022-01-31T17:18:47.752Z"
   },
   {
    "duration": 30,
    "start_time": "2022-01-31T17:18:48.017Z"
   },
   {
    "duration": 217,
    "start_time": "2022-01-31T17:18:48.062Z"
   },
   {
    "duration": 15,
    "start_time": "2022-01-31T17:18:48.282Z"
   },
   {
    "duration": 357,
    "start_time": "2022-01-31T17:18:48.304Z"
   },
   {
    "duration": 12,
    "start_time": "2022-01-31T17:18:48.664Z"
   },
   {
    "duration": 224,
    "start_time": "2022-01-31T17:18:48.679Z"
   },
   {
    "duration": 11,
    "start_time": "2022-01-31T17:18:48.906Z"
   },
   {
    "duration": 18,
    "start_time": "2022-01-31T17:18:48.932Z"
   },
   {
    "duration": 20,
    "start_time": "2022-01-31T17:18:48.952Z"
   },
   {
    "duration": 285,
    "start_time": "2022-01-31T17:28:49.896Z"
   },
   {
    "duration": 239,
    "start_time": "2022-01-31T17:29:27.928Z"
   },
   {
    "duration": 331,
    "start_time": "2022-01-31T17:30:14.027Z"
   },
   {
    "duration": 150,
    "start_time": "2022-01-31T17:31:06.820Z"
   },
   {
    "duration": 342,
    "start_time": "2022-01-31T17:31:17.598Z"
   },
   {
    "duration": 4,
    "start_time": "2022-01-31T17:31:32.092Z"
   },
   {
    "duration": 575,
    "start_time": "2022-01-31T17:31:32.099Z"
   },
   {
    "duration": 41,
    "start_time": "2022-01-31T17:31:32.677Z"
   },
   {
    "duration": 37,
    "start_time": "2022-01-31T17:31:32.721Z"
   },
   {
    "duration": 30,
    "start_time": "2022-01-31T17:31:32.762Z"
   },
   {
    "duration": 37,
    "start_time": "2022-01-31T17:31:32.796Z"
   },
   {
    "duration": 8,
    "start_time": "2022-01-31T17:31:32.838Z"
   },
   {
    "duration": 27,
    "start_time": "2022-01-31T17:31:32.849Z"
   },
   {
    "duration": 62,
    "start_time": "2022-01-31T17:31:32.879Z"
   },
   {
    "duration": 6,
    "start_time": "2022-01-31T17:31:32.943Z"
   },
   {
    "duration": 25,
    "start_time": "2022-01-31T17:31:32.952Z"
   },
   {
    "duration": 57,
    "start_time": "2022-01-31T17:31:32.979Z"
   },
   {
    "duration": 40,
    "start_time": "2022-01-31T17:31:33.040Z"
   },
   {
    "duration": 8,
    "start_time": "2022-01-31T17:31:33.082Z"
   },
   {
    "duration": 16,
    "start_time": "2022-01-31T17:31:33.092Z"
   },
   {
    "duration": 23,
    "start_time": "2022-01-31T17:31:33.111Z"
   },
   {
    "duration": 14,
    "start_time": "2022-01-31T17:31:33.137Z"
   },
   {
    "duration": 330,
    "start_time": "2022-01-31T17:31:33.155Z"
   },
   {
    "duration": 21,
    "start_time": "2022-01-31T17:31:33.489Z"
   },
   {
    "duration": 79,
    "start_time": "2022-01-31T17:31:33.513Z"
   },
   {
    "duration": 324,
    "start_time": "2022-01-31T17:31:33.594Z"
   },
   {
    "duration": 22,
    "start_time": "2022-01-31T17:31:33.922Z"
   },
   {
    "duration": 361,
    "start_time": "2022-01-31T17:31:33.947Z"
   },
   {
    "duration": 27,
    "start_time": "2022-01-31T17:31:34.311Z"
   },
   {
    "duration": 244,
    "start_time": "2022-01-31T17:31:34.340Z"
   },
   {
    "duration": 17,
    "start_time": "2022-01-31T17:31:34.587Z"
   },
   {
    "duration": 352,
    "start_time": "2022-01-31T17:31:34.607Z"
   },
   {
    "duration": 15,
    "start_time": "2022-01-31T17:31:34.962Z"
   },
   {
    "duration": 321,
    "start_time": "2022-01-31T17:31:34.980Z"
   },
   {
    "duration": 28,
    "start_time": "2022-01-31T17:31:35.304Z"
   },
   {
    "duration": 22,
    "start_time": "2022-01-31T17:31:35.335Z"
   },
   {
    "duration": 23,
    "start_time": "2022-01-31T17:31:35.360Z"
   },
   {
    "duration": 290,
    "start_time": "2022-01-31T17:31:38.181Z"
   },
   {
    "duration": 272,
    "start_time": "2022-01-31T17:31:51.522Z"
   },
   {
    "duration": 13,
    "start_time": "2022-01-31T17:32:17.588Z"
   },
   {
    "duration": 18,
    "start_time": "2022-01-31T17:34:43.250Z"
   },
   {
    "duration": 10,
    "start_time": "2022-01-31T17:34:55.518Z"
   },
   {
    "duration": 19,
    "start_time": "2022-01-31T17:35:47.161Z"
   },
   {
    "duration": 24,
    "start_time": "2022-01-31T17:36:17.966Z"
   },
   {
    "duration": 28,
    "start_time": "2022-01-31T17:37:10.609Z"
   },
   {
    "duration": 370,
    "start_time": "2022-01-31T17:37:30.418Z"
   },
   {
    "duration": 25,
    "start_time": "2022-01-31T17:37:58.256Z"
   },
   {
    "duration": 28,
    "start_time": "2022-01-31T17:38:31.266Z"
   },
   {
    "duration": 545,
    "start_time": "2022-01-31T17:44:59.353Z"
   },
   {
    "duration": 126,
    "start_time": "2022-01-31T17:47:13.549Z"
   },
   {
    "duration": 333,
    "start_time": "2022-01-31T17:47:19.578Z"
   },
   {
    "duration": 478,
    "start_time": "2022-01-31T17:47:44.709Z"
   },
   {
    "duration": 1251,
    "start_time": "2022-01-31T17:56:17.439Z"
   },
   {
    "duration": 1517,
    "start_time": "2022-01-31T18:04:22.057Z"
   },
   {
    "duration": 1470,
    "start_time": "2022-01-31T18:04:42.207Z"
   },
   {
    "duration": 1040,
    "start_time": "2022-01-31T18:04:52.563Z"
   },
   {
    "duration": 257,
    "start_time": "2022-01-31T18:05:33.749Z"
   },
   {
    "duration": 549,
    "start_time": "2022-01-31T18:05:39.724Z"
   },
   {
    "duration": 2067,
    "start_time": "2022-01-31T18:07:04.845Z"
   },
   {
    "duration": 2179,
    "start_time": "2022-01-31T18:07:28.735Z"
   },
   {
    "duration": 3276,
    "start_time": "2022-01-31T18:08:51.394Z"
   },
   {
    "duration": 243,
    "start_time": "2022-01-31T18:11:07.564Z"
   },
   {
    "duration": 1381,
    "start_time": "2022-01-31T18:11:14.186Z"
   },
   {
    "duration": 3926,
    "start_time": "2022-01-31T18:12:24.139Z"
   },
   {
    "duration": 3014,
    "start_time": "2022-01-31T18:12:51.897Z"
   },
   {
    "duration": 3340,
    "start_time": "2022-01-31T18:18:20.682Z"
   },
   {
    "duration": 3429,
    "start_time": "2022-01-31T18:18:53.037Z"
   },
   {
    "duration": 3378,
    "start_time": "2022-01-31T18:22:23.601Z"
   },
   {
    "duration": 1480,
    "start_time": "2022-01-31T18:23:08.245Z"
   },
   {
    "duration": 1535,
    "start_time": "2022-01-31T18:23:23.031Z"
   },
   {
    "duration": 12,
    "start_time": "2022-01-31T18:33:23.488Z"
   },
   {
    "duration": 892,
    "start_time": "2022-01-31T18:33:34.097Z"
   },
   {
    "duration": 215,
    "start_time": "2022-01-31T18:34:08.739Z"
   },
   {
    "duration": 10,
    "start_time": "2022-01-31T18:38:14.718Z"
   },
   {
    "duration": 10,
    "start_time": "2022-01-31T18:38:48.145Z"
   },
   {
    "duration": 12,
    "start_time": "2022-01-31T18:40:15.452Z"
   },
   {
    "duration": 358,
    "start_time": "2022-01-31T19:03:21.522Z"
   },
   {
    "duration": 216,
    "start_time": "2022-01-31T19:03:58.790Z"
   },
   {
    "duration": 366,
    "start_time": "2022-01-31T19:05:07.294Z"
   },
   {
    "duration": 214,
    "start_time": "2022-01-31T19:05:28.497Z"
   },
   {
    "duration": 38,
    "start_time": "2022-01-31T19:10:25.537Z"
   },
   {
    "duration": 12,
    "start_time": "2022-01-31T19:10:53.595Z"
   },
   {
    "duration": 10,
    "start_time": "2022-01-31T19:11:40.204Z"
   },
   {
    "duration": 13,
    "start_time": "2022-01-31T19:11:49.488Z"
   },
   {
    "duration": 35,
    "start_time": "2022-01-31T19:13:10.183Z"
   },
   {
    "duration": 260,
    "start_time": "2022-01-31T19:14:07.045Z"
   },
   {
    "duration": 51,
    "start_time": "2022-01-31T19:14:16.692Z"
   },
   {
    "duration": 292,
    "start_time": "2022-01-31T19:18:53.046Z"
   },
   {
    "duration": 6595,
    "start_time": "2022-01-31T19:20:50.728Z"
   },
   {
    "duration": 250,
    "start_time": "2022-01-31T19:21:13.047Z"
   },
   {
    "duration": 6518,
    "start_time": "2022-01-31T19:23:31.941Z"
   },
   {
    "duration": 500,
    "start_time": "2022-01-31T19:31:27.392Z"
   },
   {
    "duration": 9034,
    "start_time": "2022-01-31T19:33:40.014Z"
   },
   {
    "duration": 2213,
    "start_time": "2022-01-31T19:34:10.176Z"
   },
   {
    "duration": 5069,
    "start_time": "2022-01-31T19:34:37.734Z"
   },
   {
    "duration": 40535,
    "start_time": "2022-01-31T19:35:04.173Z"
   },
   {
    "duration": 244,
    "start_time": "2022-01-31T19:36:03.245Z"
   },
   {
    "duration": 255,
    "start_time": "2022-01-31T19:37:01.779Z"
   },
   {
    "duration": 4886,
    "start_time": "2022-01-31T19:37:37.248Z"
   },
   {
    "duration": 645,
    "start_time": "2022-01-31T19:37:56.856Z"
   },
   {
    "duration": 3824,
    "start_time": "2022-01-31T19:38:25.848Z"
   },
   {
    "duration": 895,
    "start_time": "2022-01-31T19:38:48.664Z"
   },
   {
    "duration": 2089,
    "start_time": "2022-01-31T19:42:30.132Z"
   },
   {
    "duration": 2153,
    "start_time": "2022-01-31T19:46:40.191Z"
   },
   {
    "duration": 4569,
    "start_time": "2022-01-31T19:48:26.219Z"
   },
   {
    "duration": 6554,
    "start_time": "2022-01-31T19:50:48.165Z"
   },
   {
    "duration": 7023,
    "start_time": "2022-01-31T19:54:08.749Z"
   },
   {
    "duration": 6367,
    "start_time": "2022-01-31T19:54:35.363Z"
   },
   {
    "duration": 22,
    "start_time": "2022-01-31T19:58:14.301Z"
   },
   {
    "duration": 262,
    "start_time": "2022-01-31T19:59:49.043Z"
   },
   {
    "duration": 1734,
    "start_time": "2022-01-31T20:11:57.811Z"
   },
   {
    "duration": 259,
    "start_time": "2022-01-31T20:13:17.579Z"
   },
   {
    "duration": 284,
    "start_time": "2022-01-31T20:13:53.025Z"
   },
   {
    "duration": 5952,
    "start_time": "2022-01-31T20:14:02.391Z"
   },
   {
    "duration": 640,
    "start_time": "2022-02-01T10:10:12.748Z"
   },
   {
    "duration": 86,
    "start_time": "2022-02-01T10:10:13.390Z"
   },
   {
    "duration": 23,
    "start_time": "2022-02-01T10:10:13.478Z"
   },
   {
    "duration": 25,
    "start_time": "2022-02-01T10:10:13.513Z"
   },
   {
    "duration": 17,
    "start_time": "2022-02-01T10:10:13.540Z"
   },
   {
    "duration": 4,
    "start_time": "2022-02-01T10:10:13.559Z"
   },
   {
    "duration": 5,
    "start_time": "2022-02-01T10:10:13.564Z"
   },
   {
    "duration": 60,
    "start_time": "2022-02-01T10:10:13.570Z"
   },
   {
    "duration": 13,
    "start_time": "2022-02-01T10:10:13.633Z"
   },
   {
    "duration": 3,
    "start_time": "2022-02-01T10:10:13.648Z"
   },
   {
    "duration": 10,
    "start_time": "2022-02-01T10:10:13.653Z"
   },
   {
    "duration": 20,
    "start_time": "2022-02-01T10:10:13.664Z"
   },
   {
    "duration": 33,
    "start_time": "2022-02-01T10:10:13.686Z"
   },
   {
    "duration": 12,
    "start_time": "2022-02-01T10:10:13.721Z"
   },
   {
    "duration": 19,
    "start_time": "2022-02-01T10:10:13.735Z"
   },
   {
    "duration": 9,
    "start_time": "2022-02-01T10:10:13.756Z"
   },
   {
    "duration": 10,
    "start_time": "2022-02-01T10:10:13.766Z"
   },
   {
    "duration": 220,
    "start_time": "2022-02-01T10:10:13.777Z"
   },
   {
    "duration": 28,
    "start_time": "2022-02-01T10:10:13.998Z"
   },
   {
    "duration": 44,
    "start_time": "2022-02-01T10:10:14.028Z"
   },
   {
    "duration": 1468,
    "start_time": "2022-02-01T10:10:14.074Z"
   },
   {
    "duration": 14,
    "start_time": "2022-02-01T10:10:15.544Z"
   },
   {
    "duration": 14,
    "start_time": "2022-02-01T10:10:15.559Z"
   },
   {
    "duration": 45,
    "start_time": "2022-02-01T10:10:15.574Z"
   },
   {
    "duration": 1501,
    "start_time": "2022-02-01T10:10:15.625Z"
   },
   {
    "duration": 4684,
    "start_time": "2022-02-01T10:10:19.796Z"
   },
   {
    "duration": 196,
    "start_time": "2022-02-01T10:10:47.578Z"
   },
   {
    "duration": 4802,
    "start_time": "2022-02-01T10:10:54.337Z"
   },
   {
    "duration": 4615,
    "start_time": "2022-02-01T10:13:38.333Z"
   },
   {
    "duration": 1226,
    "start_time": "2022-02-01T10:38:06.100Z"
   },
   {
    "duration": 199,
    "start_time": "2022-02-01T10:43:16.102Z"
   },
   {
    "duration": 382,
    "start_time": "2022-02-01T10:43:32.594Z"
   },
   {
    "duration": 386,
    "start_time": "2022-02-01T10:45:27.213Z"
   },
   {
    "duration": 69,
    "start_time": "2022-02-01T10:48:48.674Z"
   },
   {
    "duration": 208,
    "start_time": "2022-02-01T10:49:09.519Z"
   },
   {
    "duration": 85,
    "start_time": "2022-02-01T10:49:44.284Z"
   },
   {
    "duration": 29,
    "start_time": "2022-02-01T10:50:14.806Z"
   },
   {
    "duration": 16,
    "start_time": "2022-02-01T10:50:28.535Z"
   },
   {
    "duration": 13,
    "start_time": "2022-02-01T10:51:10.211Z"
   },
   {
    "duration": 79,
    "start_time": "2022-02-01T10:51:42.064Z"
   },
   {
    "duration": 244,
    "start_time": "2022-02-01T10:52:22.951Z"
   },
   {
    "duration": 64,
    "start_time": "2022-02-01T10:53:34.188Z"
   },
   {
    "duration": 214,
    "start_time": "2022-02-01T10:53:46.434Z"
   },
   {
    "duration": 70,
    "start_time": "2022-02-01T10:55:46.112Z"
   },
   {
    "duration": 662,
    "start_time": "2022-02-01T13:40:31.554Z"
   },
   {
    "duration": 85,
    "start_time": "2022-02-01T13:40:32.218Z"
   },
   {
    "duration": 28,
    "start_time": "2022-02-01T13:40:32.305Z"
   },
   {
    "duration": 24,
    "start_time": "2022-02-01T13:40:32.335Z"
   },
   {
    "duration": 18,
    "start_time": "2022-02-01T13:40:32.361Z"
   },
   {
    "duration": 3,
    "start_time": "2022-02-01T13:40:32.381Z"
   },
   {
    "duration": 32,
    "start_time": "2022-02-01T13:40:32.386Z"
   },
   {
    "duration": 29,
    "start_time": "2022-02-01T13:40:32.420Z"
   },
   {
    "duration": 12,
    "start_time": "2022-02-01T13:40:32.452Z"
   },
   {
    "duration": 3,
    "start_time": "2022-02-01T13:40:32.466Z"
   },
   {
    "duration": 6,
    "start_time": "2022-02-01T13:40:32.471Z"
   },
   {
    "duration": 45,
    "start_time": "2022-02-01T13:40:32.479Z"
   },
   {
    "duration": 18,
    "start_time": "2022-02-01T13:40:32.526Z"
   },
   {
    "duration": 6,
    "start_time": "2022-02-01T13:40:32.546Z"
   },
   {
    "duration": 7,
    "start_time": "2022-02-01T13:40:32.554Z"
   },
   {
    "duration": 5,
    "start_time": "2022-02-01T13:40:32.562Z"
   },
   {
    "duration": 8,
    "start_time": "2022-02-01T13:40:32.569Z"
   },
   {
    "duration": 261,
    "start_time": "2022-02-01T13:40:32.578Z"
   },
   {
    "duration": 15,
    "start_time": "2022-02-01T13:40:32.841Z"
   },
   {
    "duration": 9,
    "start_time": "2022-02-01T13:40:32.858Z"
   },
   {
    "duration": 69,
    "start_time": "2022-02-01T13:40:32.869Z"
   },
   {
    "duration": 1532,
    "start_time": "2022-02-01T13:40:32.940Z"
   },
   {
    "duration": 13,
    "start_time": "2022-02-01T13:40:34.474Z"
   },
   {
    "duration": 38,
    "start_time": "2022-02-01T13:40:34.489Z"
   },
   {
    "duration": 21,
    "start_time": "2022-02-01T13:40:34.529Z"
   },
   {
    "duration": 1540,
    "start_time": "2022-02-01T13:40:34.552Z"
   },
   {
    "duration": 4775,
    "start_time": "2022-02-01T13:40:36.094Z"
   },
   {
    "duration": -615,
    "start_time": "2022-02-01T13:40:41.486Z"
   },
   {
    "duration": -619,
    "start_time": "2022-02-01T13:40:41.491Z"
   },
   {
    "duration": -625,
    "start_time": "2022-02-01T13:40:41.499Z"
   },
   {
    "duration": -630,
    "start_time": "2022-02-01T13:40:41.505Z"
   },
   {
    "duration": -750,
    "start_time": "2022-02-01T13:40:41.626Z"
   },
   {
    "duration": -761,
    "start_time": "2022-02-01T13:40:41.637Z"
   },
   {
    "duration": 367,
    "start_time": "2022-02-01T13:49:21.015Z"
   },
   {
    "duration": 201,
    "start_time": "2022-02-01T13:49:59.055Z"
   },
   {
    "duration": 12,
    "start_time": "2022-02-01T13:51:12.813Z"
   },
   {
    "duration": 3076,
    "start_time": "2022-02-01T13:51:15.083Z"
   },
   {
    "duration": 211,
    "start_time": "2022-02-01T13:51:43.633Z"
   },
   {
    "duration": 7,
    "start_time": "2022-02-01T13:52:44.698Z"
   },
   {
    "duration": 7,
    "start_time": "2022-02-01T13:53:29.743Z"
   },
   {
    "duration": 10,
    "start_time": "2022-02-01T13:53:48.410Z"
   },
   {
    "duration": 22,
    "start_time": "2022-02-01T13:54:27.823Z"
   },
   {
    "duration": 341,
    "start_time": "2022-02-01T13:54:46.334Z"
   },
   {
    "duration": 56,
    "start_time": "2022-02-01T13:58:39.880Z"
   },
   {
    "duration": 1286,
    "start_time": "2022-02-01T13:58:46.521Z"
   },
   {
    "duration": 1974,
    "start_time": "2022-02-01T13:59:29.603Z"
   },
   {
    "duration": 4646,
    "start_time": "2022-02-01T14:03:05.923Z"
   },
   {
    "duration": 4599,
    "start_time": "2022-02-01T14:03:37.688Z"
   },
   {
    "duration": 79,
    "start_time": "2022-02-01T14:07:07.991Z"
   },
   {
    "duration": 57,
    "start_time": "2022-02-01T14:07:23.524Z"
   },
   {
    "duration": 4,
    "start_time": "2022-02-01T14:27:28.313Z"
   },
   {
    "duration": 102,
    "start_time": "2022-02-01T14:27:28.319Z"
   },
   {
    "duration": 19,
    "start_time": "2022-02-01T14:27:28.424Z"
   },
   {
    "duration": 17,
    "start_time": "2022-02-01T14:27:28.445Z"
   },
   {
    "duration": 19,
    "start_time": "2022-02-01T14:27:28.464Z"
   },
   {
    "duration": 29,
    "start_time": "2022-02-01T14:27:28.484Z"
   },
   {
    "duration": 6,
    "start_time": "2022-02-01T14:27:28.524Z"
   },
   {
    "duration": 21,
    "start_time": "2022-02-01T14:27:28.532Z"
   },
   {
    "duration": 13,
    "start_time": "2022-02-01T14:27:28.555Z"
   },
   {
    "duration": 3,
    "start_time": "2022-02-01T14:27:28.570Z"
   },
   {
    "duration": 9,
    "start_time": "2022-02-01T14:27:28.574Z"
   },
   {
    "duration": 48,
    "start_time": "2022-02-01T14:27:28.584Z"
   },
   {
    "duration": 14,
    "start_time": "2022-02-01T14:27:28.633Z"
   },
   {
    "duration": 5,
    "start_time": "2022-02-01T14:27:28.649Z"
   },
   {
    "duration": 8,
    "start_time": "2022-02-01T14:27:28.656Z"
   },
   {
    "duration": 4,
    "start_time": "2022-02-01T14:27:28.666Z"
   },
   {
    "duration": 10,
    "start_time": "2022-02-01T14:27:28.671Z"
   },
   {
    "duration": 250,
    "start_time": "2022-02-01T14:27:28.682Z"
   },
   {
    "duration": 15,
    "start_time": "2022-02-01T14:27:28.934Z"
   },
   {
    "duration": 8,
    "start_time": "2022-02-01T14:27:28.951Z"
   },
   {
    "duration": 67,
    "start_time": "2022-02-01T14:27:28.960Z"
   },
   {
    "duration": 1505,
    "start_time": "2022-02-01T14:27:29.029Z"
   },
   {
    "duration": 13,
    "start_time": "2022-02-01T14:27:30.538Z"
   },
   {
    "duration": 17,
    "start_time": "2022-02-01T14:27:30.553Z"
   },
   {
    "duration": 15,
    "start_time": "2022-02-01T14:27:30.572Z"
   },
   {
    "duration": 1484,
    "start_time": "2022-02-01T14:27:30.589Z"
   },
   {
    "duration": 5086,
    "start_time": "2022-02-01T14:27:32.074Z"
   },
   {
    "duration": -699,
    "start_time": "2022-02-01T14:27:37.861Z"
   },
   {
    "duration": -712,
    "start_time": "2022-02-01T14:27:37.876Z"
   },
   {
    "duration": -727,
    "start_time": "2022-02-01T14:27:37.892Z"
   },
   {
    "duration": -742,
    "start_time": "2022-02-01T14:27:37.909Z"
   },
   {
    "duration": -756,
    "start_time": "2022-02-01T14:27:37.924Z"
   },
   {
    "duration": -772,
    "start_time": "2022-02-01T14:27:37.942Z"
   },
   {
    "duration": 73,
    "start_time": "2022-02-01T14:29:06.343Z"
   },
   {
    "duration": 64,
    "start_time": "2022-02-01T14:29:41.075Z"
   },
   {
    "duration": 74,
    "start_time": "2022-02-01T14:35:29.555Z"
   },
   {
    "duration": 63,
    "start_time": "2022-02-01T14:35:57.879Z"
   },
   {
    "duration": 57,
    "start_time": "2022-02-01T14:36:32.956Z"
   },
   {
    "duration": 166,
    "start_time": "2022-02-01T14:36:56.314Z"
   },
   {
    "duration": 3,
    "start_time": "2022-02-01T14:37:20.622Z"
   },
   {
    "duration": 91,
    "start_time": "2022-02-01T14:37:20.628Z"
   },
   {
    "duration": 20,
    "start_time": "2022-02-01T14:37:20.722Z"
   },
   {
    "duration": 17,
    "start_time": "2022-02-01T14:37:20.743Z"
   },
   {
    "duration": 23,
    "start_time": "2022-02-01T14:37:20.762Z"
   },
   {
    "duration": 4,
    "start_time": "2022-02-01T14:37:20.786Z"
   },
   {
    "duration": 30,
    "start_time": "2022-02-01T14:37:20.791Z"
   },
   {
    "duration": 23,
    "start_time": "2022-02-01T14:37:20.823Z"
   },
   {
    "duration": 12,
    "start_time": "2022-02-01T14:37:20.848Z"
   },
   {
    "duration": 3,
    "start_time": "2022-02-01T14:37:20.863Z"
   },
   {
    "duration": 7,
    "start_time": "2022-02-01T14:37:20.868Z"
   },
   {
    "duration": 12,
    "start_time": "2022-02-01T14:37:20.877Z"
   },
   {
    "duration": 44,
    "start_time": "2022-02-01T14:37:20.891Z"
   },
   {
    "duration": 7,
    "start_time": "2022-02-01T14:37:20.937Z"
   },
   {
    "duration": 7,
    "start_time": "2022-02-01T14:37:20.946Z"
   },
   {
    "duration": 3,
    "start_time": "2022-02-01T14:37:20.955Z"
   },
   {
    "duration": 12,
    "start_time": "2022-02-01T14:37:20.960Z"
   },
   {
    "duration": 233,
    "start_time": "2022-02-01T14:37:20.973Z"
   },
   {
    "duration": 17,
    "start_time": "2022-02-01T14:37:21.208Z"
   },
   {
    "duration": 10,
    "start_time": "2022-02-01T14:37:21.228Z"
   },
   {
    "duration": 51,
    "start_time": "2022-02-01T14:37:21.240Z"
   },
   {
    "duration": 1499,
    "start_time": "2022-02-01T14:37:21.293Z"
   },
   {
    "duration": 24,
    "start_time": "2022-02-01T14:37:22.793Z"
   },
   {
    "duration": 15,
    "start_time": "2022-02-01T14:37:22.819Z"
   },
   {
    "duration": 15,
    "start_time": "2022-02-01T14:37:22.836Z"
   },
   {
    "duration": 1406,
    "start_time": "2022-02-01T14:37:22.853Z"
   },
   {
    "duration": 4666,
    "start_time": "2022-02-01T14:37:24.262Z"
   },
   {
    "duration": -1171,
    "start_time": "2022-02-01T14:37:30.102Z"
   },
   {
    "duration": -1192,
    "start_time": "2022-02-01T14:37:30.124Z"
   },
   {
    "duration": -1201,
    "start_time": "2022-02-01T14:37:30.134Z"
   },
   {
    "duration": -1209,
    "start_time": "2022-02-01T14:37:30.144Z"
   },
   {
    "duration": -1217,
    "start_time": "2022-02-01T14:37:30.153Z"
   },
   {
    "duration": 222,
    "start_time": "2022-02-01T14:37:33.562Z"
   },
   {
    "duration": 19,
    "start_time": "2022-02-01T14:38:04.513Z"
   },
   {
    "duration": 4839,
    "start_time": "2022-02-01T14:39:05.922Z"
   },
   {
    "duration": 329,
    "start_time": "2022-02-01T14:41:32.731Z"
   },
   {
    "duration": 986,
    "start_time": "2022-02-01T14:43:05.566Z"
   },
   {
    "duration": 65,
    "start_time": "2022-02-01T14:44:37.447Z"
   },
   {
    "duration": 983,
    "start_time": "2022-02-01T14:44:45.246Z"
   },
   {
    "duration": 1033,
    "start_time": "2022-02-01T14:47:02.427Z"
   },
   {
    "duration": 998,
    "start_time": "2022-02-01T14:48:03.728Z"
   },
   {
    "duration": 979,
    "start_time": "2022-02-01T14:59:29.414Z"
   },
   {
    "duration": 73,
    "start_time": "2022-02-01T15:05:19.031Z"
   },
   {
    "duration": 89,
    "start_time": "2022-02-01T15:06:26.527Z"
   },
   {
    "duration": 56,
    "start_time": "2022-02-01T15:06:34.049Z"
   },
   {
    "duration": 93,
    "start_time": "2022-02-01T15:07:02.053Z"
   },
   {
    "duration": 69,
    "start_time": "2022-02-01T15:07:37.868Z"
   },
   {
    "duration": 100,
    "start_time": "2022-02-01T15:07:56.508Z"
   },
   {
    "duration": 88,
    "start_time": "2022-02-01T15:08:30.882Z"
   },
   {
    "duration": 62,
    "start_time": "2022-02-01T15:09:12.126Z"
   },
   {
    "duration": 66,
    "start_time": "2022-02-01T15:09:36.267Z"
   },
   {
    "duration": 63,
    "start_time": "2022-02-01T15:10:03.735Z"
   },
   {
    "duration": 72,
    "start_time": "2022-02-01T15:16:32.833Z"
   },
   {
    "duration": 1626,
    "start_time": "2022-02-01T15:16:44.434Z"
   },
   {
    "duration": 443,
    "start_time": "2022-02-01T15:21:28.788Z"
   },
   {
    "duration": 1300,
    "start_time": "2022-02-01T15:23:25.119Z"
   },
   {
    "duration": 1183,
    "start_time": "2022-02-01T15:26:08.290Z"
   },
   {
    "duration": 1155,
    "start_time": "2022-02-01T15:31:43.598Z"
   },
   {
    "duration": 391,
    "start_time": "2022-02-01T15:32:12.488Z"
   },
   {
    "duration": 1247,
    "start_time": "2022-02-01T15:32:47.075Z"
   },
   {
    "duration": 1107,
    "start_time": "2022-02-01T15:34:42.930Z"
   },
   {
    "duration": 963,
    "start_time": "2022-02-01T15:35:12.855Z"
   },
   {
    "duration": 468,
    "start_time": "2022-02-01T15:35:24.296Z"
   },
   {
    "duration": 940,
    "start_time": "2022-02-01T15:35:43.729Z"
   },
   {
    "duration": 355,
    "start_time": "2022-02-01T15:35:55.148Z"
   },
   {
    "duration": 180,
    "start_time": "2022-02-01T15:35:58.387Z"
   },
   {
    "duration": 3,
    "start_time": "2022-02-01T15:47:54.766Z"
   },
   {
    "duration": 110,
    "start_time": "2022-02-01T15:47:54.771Z"
   },
   {
    "duration": 34,
    "start_time": "2022-02-01T15:47:54.884Z"
   },
   {
    "duration": 28,
    "start_time": "2022-02-01T15:47:54.921Z"
   },
   {
    "duration": 35,
    "start_time": "2022-02-01T15:47:54.951Z"
   },
   {
    "duration": 11,
    "start_time": "2022-02-01T15:47:54.988Z"
   },
   {
    "duration": 11,
    "start_time": "2022-02-01T15:47:55.001Z"
   },
   {
    "duration": 23,
    "start_time": "2022-02-01T15:47:55.014Z"
   },
   {
    "duration": 12,
    "start_time": "2022-02-01T15:47:55.040Z"
   },
   {
    "duration": 13,
    "start_time": "2022-02-01T15:47:55.054Z"
   },
   {
    "duration": 19,
    "start_time": "2022-02-01T15:47:55.069Z"
   },
   {
    "duration": 16,
    "start_time": "2022-02-01T15:47:55.090Z"
   },
   {
    "duration": 15,
    "start_time": "2022-02-01T15:47:55.107Z"
   },
   {
    "duration": 10,
    "start_time": "2022-02-01T15:47:55.124Z"
   },
   {
    "duration": 8,
    "start_time": "2022-02-01T15:47:55.136Z"
   },
   {
    "duration": 5,
    "start_time": "2022-02-01T15:47:55.146Z"
   },
   {
    "duration": 9,
    "start_time": "2022-02-01T15:47:55.153Z"
   },
   {
    "duration": 323,
    "start_time": "2022-02-01T15:47:55.164Z"
   },
   {
    "duration": 14,
    "start_time": "2022-02-01T15:47:55.489Z"
   },
   {
    "duration": 8,
    "start_time": "2022-02-01T15:47:55.513Z"
   },
   {
    "duration": 45,
    "start_time": "2022-02-01T15:47:55.523Z"
   },
   {
    "duration": 1417,
    "start_time": "2022-02-01T15:47:55.570Z"
   },
   {
    "duration": 24,
    "start_time": "2022-02-01T15:47:56.991Z"
   },
   {
    "duration": 13,
    "start_time": "2022-02-01T15:47:57.017Z"
   },
   {
    "duration": 16,
    "start_time": "2022-02-01T15:47:57.031Z"
   },
   {
    "duration": 1332,
    "start_time": "2022-02-01T15:47:57.049Z"
   },
   {
    "duration": 4649,
    "start_time": "2022-02-01T15:47:58.383Z"
   },
   {
    "duration": -975,
    "start_time": "2022-02-01T15:48:04.009Z"
   },
   {
    "duration": -979,
    "start_time": "2022-02-01T15:48:04.014Z"
   },
   {
    "duration": -982,
    "start_time": "2022-02-01T15:48:04.018Z"
   },
   {
    "duration": -984,
    "start_time": "2022-02-01T15:48:04.021Z"
   },
   {
    "duration": -986,
    "start_time": "2022-02-01T15:48:04.024Z"
   },
   {
    "duration": -988,
    "start_time": "2022-02-01T15:48:04.027Z"
   },
   {
    "duration": -990,
    "start_time": "2022-02-01T15:48:04.030Z"
   },
   {
    "duration": -991,
    "start_time": "2022-02-01T15:48:04.032Z"
   },
   {
    "duration": -993,
    "start_time": "2022-02-01T15:48:04.035Z"
   },
   {
    "duration": -994,
    "start_time": "2022-02-01T15:48:04.037Z"
   },
   {
    "duration": -996,
    "start_time": "2022-02-01T15:48:04.040Z"
   },
   {
    "duration": 2945,
    "start_time": "2022-02-01T15:48:06.505Z"
   },
   {
    "duration": 9,
    "start_time": "2022-02-01T15:48:13.867Z"
   },
   {
    "duration": 4798,
    "start_time": "2022-02-01T15:56:32.189Z"
   },
   {
    "duration": 218,
    "start_time": "2022-02-01T15:57:05.190Z"
   },
   {
    "duration": 1454,
    "start_time": "2022-02-01T15:57:25.190Z"
   },
   {
    "duration": 17,
    "start_time": "2022-02-01T16:12:42.298Z"
   },
   {
    "duration": 1466,
    "start_time": "2022-02-01T16:13:40.608Z"
   },
   {
    "duration": 16,
    "start_time": "2022-02-01T16:15:20.459Z"
   },
   {
    "duration": 1310,
    "start_time": "2022-02-01T16:16:01.698Z"
   },
   {
    "duration": 15,
    "start_time": "2022-02-01T16:17:07.039Z"
   },
   {
    "duration": 999,
    "start_time": "2022-02-02T17:47:22.843Z"
   },
   {
    "duration": 75,
    "start_time": "2022-02-02T17:47:23.844Z"
   },
   {
    "duration": 18,
    "start_time": "2022-02-02T17:47:23.923Z"
   },
   {
    "duration": 14,
    "start_time": "2022-02-02T17:47:23.942Z"
   },
   {
    "duration": 15,
    "start_time": "2022-02-02T17:47:23.957Z"
   },
   {
    "duration": 3,
    "start_time": "2022-02-02T17:47:23.973Z"
   },
   {
    "duration": 4,
    "start_time": "2022-02-02T17:47:23.978Z"
   },
   {
    "duration": 47,
    "start_time": "2022-02-02T17:47:23.983Z"
   },
   {
    "duration": 11,
    "start_time": "2022-02-02T17:47:24.031Z"
   },
   {
    "duration": 4,
    "start_time": "2022-02-02T17:47:24.044Z"
   },
   {
    "duration": 7,
    "start_time": "2022-02-02T17:47:24.049Z"
   },
   {
    "duration": 14,
    "start_time": "2022-02-02T17:47:24.058Z"
   },
   {
    "duration": 15,
    "start_time": "2022-02-02T17:47:24.073Z"
   },
   {
    "duration": 8,
    "start_time": "2022-02-02T17:47:24.090Z"
   },
   {
    "duration": 34,
    "start_time": "2022-02-02T17:47:24.099Z"
   },
   {
    "duration": 3,
    "start_time": "2022-02-02T17:47:24.135Z"
   },
   {
    "duration": 9,
    "start_time": "2022-02-02T17:47:24.140Z"
   },
   {
    "duration": 195,
    "start_time": "2022-02-02T17:47:24.150Z"
   },
   {
    "duration": 13,
    "start_time": "2022-02-02T17:47:24.346Z"
   },
   {
    "duration": 10,
    "start_time": "2022-02-02T17:47:24.360Z"
   },
   {
    "duration": 37,
    "start_time": "2022-02-02T17:47:24.372Z"
   },
   {
    "duration": 1127,
    "start_time": "2022-02-02T17:47:24.412Z"
   },
   {
    "duration": 12,
    "start_time": "2022-02-02T17:47:25.541Z"
   },
   {
    "duration": 12,
    "start_time": "2022-02-02T17:47:25.554Z"
   },
   {
    "duration": 14,
    "start_time": "2022-02-02T17:47:25.568Z"
   },
   {
    "duration": 1144,
    "start_time": "2022-02-02T17:47:25.584Z"
   },
   {
    "duration": 1036,
    "start_time": "2022-02-02T17:47:26.730Z"
   },
   {
    "duration": 7,
    "start_time": "2022-02-02T17:47:27.768Z"
   },
   {
    "duration": 125,
    "start_time": "2022-02-02T17:47:27.776Z"
   },
   {
    "duration": 6,
    "start_time": "2022-02-02T17:47:27.902Z"
   },
   {
    "duration": 2245,
    "start_time": "2022-02-02T17:47:27.909Z"
   },
   {
    "duration": 8,
    "start_time": "2022-02-02T17:47:30.155Z"
   },
   {
    "duration": 766,
    "start_time": "2022-02-02T17:47:30.164Z"
   },
   {
    "duration": 293,
    "start_time": "2022-02-02T17:47:30.931Z"
   },
   {
    "duration": 154,
    "start_time": "2022-02-02T17:47:31.226Z"
   },
   {
    "duration": 840,
    "start_time": "2022-02-02T17:47:31.382Z"
   },
   {
    "duration": 293,
    "start_time": "2022-02-02T17:47:32.224Z"
   },
   {
    "duration": 154,
    "start_time": "2022-02-02T17:47:32.519Z"
   },
   {
    "duration": 1416,
    "start_time": "2022-02-05T06:20:12.388Z"
   },
   {
    "duration": 108,
    "start_time": "2022-02-05T06:20:13.807Z"
   },
   {
    "duration": 36,
    "start_time": "2022-02-05T06:20:13.918Z"
   },
   {
    "duration": 22,
    "start_time": "2022-02-05T06:20:13.957Z"
   },
   {
    "duration": 50,
    "start_time": "2022-02-05T06:20:38.061Z"
   },
   {
    "duration": 48,
    "start_time": "2022-02-05T06:20:47.501Z"
   },
   {
    "duration": 178,
    "start_time": "2022-02-05T06:25:07.496Z"
   },
   {
    "duration": 25,
    "start_time": "2022-02-05T06:31:27.600Z"
   },
   {
    "duration": 26,
    "start_time": "2022-02-05T06:35:15.931Z"
   },
   {
    "duration": 4,
    "start_time": "2022-02-05T07:29:00.567Z"
   },
   {
    "duration": 130,
    "start_time": "2022-02-05T07:29:00.574Z"
   },
   {
    "duration": 46,
    "start_time": "2022-02-05T07:29:00.706Z"
   },
   {
    "duration": 20,
    "start_time": "2022-02-05T07:29:00.755Z"
   },
   {
    "duration": 77,
    "start_time": "2022-02-05T07:29:00.777Z"
   },
   {
    "duration": 23,
    "start_time": "2022-02-05T07:29:00.856Z"
   },
   {
    "duration": 24,
    "start_time": "2022-02-05T07:29:00.883Z"
   },
   {
    "duration": 8,
    "start_time": "2022-02-05T07:29:00.910Z"
   },
   {
    "duration": 13,
    "start_time": "2022-02-05T07:29:00.948Z"
   },
   {
    "duration": 28,
    "start_time": "2022-02-05T07:29:00.964Z"
   },
   {
    "duration": 18,
    "start_time": "2022-02-05T07:29:00.995Z"
   },
   {
    "duration": 36,
    "start_time": "2022-02-05T07:29:01.017Z"
   },
   {
    "duration": 22,
    "start_time": "2022-02-05T07:29:01.056Z"
   },
   {
    "duration": 557,
    "start_time": "2022-02-05T07:29:01.082Z"
   },
   {
    "duration": -1822,
    "start_time": "2022-02-05T07:29:03.465Z"
   },
   {
    "duration": -1845,
    "start_time": "2022-02-05T07:29:03.489Z"
   },
   {
    "duration": -1855,
    "start_time": "2022-02-05T07:29:03.501Z"
   },
   {
    "duration": -1866,
    "start_time": "2022-02-05T07:29:03.513Z"
   },
   {
    "duration": -1878,
    "start_time": "2022-02-05T07:29:03.527Z"
   },
   {
    "duration": -1889,
    "start_time": "2022-02-05T07:29:03.539Z"
   },
   {
    "duration": -1897,
    "start_time": "2022-02-05T07:29:03.548Z"
   },
   {
    "duration": -1902,
    "start_time": "2022-02-05T07:29:03.555Z"
   },
   {
    "duration": -1906,
    "start_time": "2022-02-05T07:29:03.560Z"
   },
   {
    "duration": -1909,
    "start_time": "2022-02-05T07:29:03.565Z"
   },
   {
    "duration": -1913,
    "start_time": "2022-02-05T07:29:03.570Z"
   },
   {
    "duration": -2042,
    "start_time": "2022-02-05T07:29:03.700Z"
   },
   {
    "duration": -2046,
    "start_time": "2022-02-05T07:29:03.706Z"
   },
   {
    "duration": -2051,
    "start_time": "2022-02-05T07:29:03.712Z"
   },
   {
    "duration": -2055,
    "start_time": "2022-02-05T07:29:03.718Z"
   },
   {
    "duration": -2059,
    "start_time": "2022-02-05T07:29:03.723Z"
   },
   {
    "duration": -2063,
    "start_time": "2022-02-05T07:29:03.729Z"
   },
   {
    "duration": -2068,
    "start_time": "2022-02-05T07:29:03.735Z"
   },
   {
    "duration": -2073,
    "start_time": "2022-02-05T07:29:03.741Z"
   },
   {
    "duration": -2077,
    "start_time": "2022-02-05T07:29:03.747Z"
   },
   {
    "duration": -2082,
    "start_time": "2022-02-05T07:29:03.753Z"
   },
   {
    "duration": -2196,
    "start_time": "2022-02-05T07:29:03.868Z"
   },
   {
    "duration": -2200,
    "start_time": "2022-02-05T07:29:03.874Z"
   },
   {
    "duration": -2205,
    "start_time": "2022-02-05T07:29:03.880Z"
   },
   {
    "duration": -2209,
    "start_time": "2022-02-05T07:29:03.886Z"
   },
   {
    "duration": -2214,
    "start_time": "2022-02-05T07:29:03.892Z"
   },
   {
    "duration": -2219,
    "start_time": "2022-02-05T07:29:03.898Z"
   },
   {
    "duration": -2223,
    "start_time": "2022-02-05T07:29:03.904Z"
   },
   {
    "duration": 9,
    "start_time": "2022-02-05T07:29:19.283Z"
   },
   {
    "duration": 342,
    "start_time": "2022-02-05T07:33:08.007Z"
   },
   {
    "duration": 18,
    "start_time": "2022-02-05T07:33:22.705Z"
   },
   {
    "duration": 9,
    "start_time": "2022-02-05T07:33:25.258Z"
   },
   {
    "duration": 23,
    "start_time": "2022-02-05T07:33:30.678Z"
   },
   {
    "duration": 10,
    "start_time": "2022-02-05T07:33:38.892Z"
   },
   {
    "duration": 694,
    "start_time": "2022-02-05T07:33:46.035Z"
   },
   {
    "duration": 428,
    "start_time": "2022-02-05T07:34:11.069Z"
   },
   {
    "duration": 21,
    "start_time": "2022-02-05T07:50:24.111Z"
   },
   {
    "duration": 8,
    "start_time": "2022-02-05T07:50:29.616Z"
   },
   {
    "duration": 7,
    "start_time": "2022-02-05T07:50:40.409Z"
   },
   {
    "duration": 10,
    "start_time": "2022-02-05T07:50:42.294Z"
   },
   {
    "duration": 8,
    "start_time": "2022-02-05T07:50:46.880Z"
   },
   {
    "duration": 8,
    "start_time": "2022-02-05T07:50:56.965Z"
   },
   {
    "duration": 3,
    "start_time": "2022-02-05T07:51:05.212Z"
   },
   {
    "duration": 136,
    "start_time": "2022-02-05T07:51:05.218Z"
   },
   {
    "duration": 25,
    "start_time": "2022-02-05T07:51:05.357Z"
   },
   {
    "duration": 19,
    "start_time": "2022-02-05T07:51:05.385Z"
   },
   {
    "duration": 80,
    "start_time": "2022-02-05T07:51:05.407Z"
   },
   {
    "duration": 23,
    "start_time": "2022-02-05T07:51:05.490Z"
   },
   {
    "duration": 40,
    "start_time": "2022-02-05T07:51:05.517Z"
   },
   {
    "duration": 5,
    "start_time": "2022-02-05T07:51:05.561Z"
   },
   {
    "duration": 9,
    "start_time": "2022-02-05T07:51:05.569Z"
   },
   {
    "duration": 28,
    "start_time": "2022-02-05T07:51:05.581Z"
   },
   {
    "duration": 18,
    "start_time": "2022-02-05T07:51:05.650Z"
   },
   {
    "duration": 7,
    "start_time": "2022-02-05T07:51:05.671Z"
   },
   {
    "duration": 10,
    "start_time": "2022-02-05T07:51:08.693Z"
   },
   {
    "duration": 16,
    "start_time": "2022-02-05T07:51:12.134Z"
   },
   {
    "duration": 9,
    "start_time": "2022-02-05T07:51:13.953Z"
   },
   {
    "duration": 285,
    "start_time": "2022-02-05T07:58:20.805Z"
   },
   {
    "duration": 4,
    "start_time": "2022-02-05T07:59:09.678Z"
   },
   {
    "duration": 4,
    "start_time": "2022-02-05T07:59:13.675Z"
   },
   {
    "duration": 117,
    "start_time": "2022-02-05T07:59:13.682Z"
   },
   {
    "duration": 46,
    "start_time": "2022-02-05T07:59:13.802Z"
   },
   {
    "duration": 22,
    "start_time": "2022-02-05T07:59:13.853Z"
   },
   {
    "duration": 74,
    "start_time": "2022-02-05T07:59:13.878Z"
   },
   {
    "duration": 25,
    "start_time": "2022-02-05T07:59:13.955Z"
   },
   {
    "duration": 26,
    "start_time": "2022-02-05T07:59:13.983Z"
   },
   {
    "duration": 38,
    "start_time": "2022-02-05T07:59:14.012Z"
   },
   {
    "duration": 6,
    "start_time": "2022-02-05T07:59:14.056Z"
   },
   {
    "duration": 27,
    "start_time": "2022-02-05T07:59:14.066Z"
   },
   {
    "duration": 55,
    "start_time": "2022-02-05T07:59:14.095Z"
   },
   {
    "duration": 5,
    "start_time": "2022-02-05T07:59:14.153Z"
   },
   {
    "duration": 11,
    "start_time": "2022-02-05T07:59:14.161Z"
   },
   {
    "duration": 14,
    "start_time": "2022-02-05T07:59:14.175Z"
   },
   {
    "duration": 9,
    "start_time": "2022-02-05T07:59:14.191Z"
   },
   {
    "duration": 61,
    "start_time": "2022-02-05T07:59:14.202Z"
   },
   {
    "duration": 21,
    "start_time": "2022-02-05T07:59:14.265Z"
   },
   {
    "duration": 6,
    "start_time": "2022-02-05T07:59:14.288Z"
   },
   {
    "duration": 15,
    "start_time": "2022-02-05T07:59:14.296Z"
   },
   {
    "duration": 337,
    "start_time": "2022-02-05T07:59:14.313Z"
   },
   {
    "duration": -1704,
    "start_time": "2022-02-05T07:59:16.357Z"
   },
   {
    "duration": -1708,
    "start_time": "2022-02-05T07:59:16.362Z"
   },
   {
    "duration": -1711,
    "start_time": "2022-02-05T07:59:16.367Z"
   },
   {
    "duration": -1714,
    "start_time": "2022-02-05T07:59:16.371Z"
   },
   {
    "duration": -1803,
    "start_time": "2022-02-05T07:59:16.462Z"
   },
   {
    "duration": -1826,
    "start_time": "2022-02-05T07:59:16.486Z"
   },
   {
    "duration": -1827,
    "start_time": "2022-02-05T07:59:16.489Z"
   },
   {
    "duration": -1836,
    "start_time": "2022-02-05T07:59:16.499Z"
   },
   {
    "duration": -1838,
    "start_time": "2022-02-05T07:59:16.502Z"
   },
   {
    "duration": -1838,
    "start_time": "2022-02-05T07:59:16.504Z"
   },
   {
    "duration": -1843,
    "start_time": "2022-02-05T07:59:16.510Z"
   },
   {
    "duration": -1849,
    "start_time": "2022-02-05T07:59:16.517Z"
   },
   {
    "duration": -1851,
    "start_time": "2022-02-05T07:59:16.520Z"
   },
   {
    "duration": -1851,
    "start_time": "2022-02-05T07:59:16.522Z"
   },
   {
    "duration": -1882,
    "start_time": "2022-02-05T07:59:16.554Z"
   },
   {
    "duration": -1887,
    "start_time": "2022-02-05T07:59:16.560Z"
   },
   {
    "duration": -1894,
    "start_time": "2022-02-05T07:59:16.568Z"
   },
   {
    "duration": -1895,
    "start_time": "2022-02-05T07:59:16.571Z"
   },
   {
    "duration": -1899,
    "start_time": "2022-02-05T07:59:16.576Z"
   },
   {
    "duration": -1906,
    "start_time": "2022-02-05T07:59:16.584Z"
   },
   {
    "duration": -1907,
    "start_time": "2022-02-05T07:59:16.587Z"
   },
   {
    "duration": -1912,
    "start_time": "2022-02-05T07:59:16.593Z"
   },
   {
    "duration": 5,
    "start_time": "2022-02-05T07:59:34.138Z"
   },
   {
    "duration": 312,
    "start_time": "2022-02-05T08:00:04.778Z"
   },
   {
    "duration": 6,
    "start_time": "2022-02-05T08:03:26.052Z"
   },
   {
    "duration": 10,
    "start_time": "2022-02-05T08:03:29.300Z"
   },
   {
    "duration": 6,
    "start_time": "2022-02-05T08:03:44.059Z"
   },
   {
    "duration": 12,
    "start_time": "2022-02-05T08:03:46.540Z"
   },
   {
    "duration": 834,
    "start_time": "2022-02-05T08:10:43.702Z"
   },
   {
    "duration": 5,
    "start_time": "2022-02-05T08:10:57.135Z"
   },
   {
    "duration": 132,
    "start_time": "2022-02-05T08:10:57.144Z"
   },
   {
    "duration": 26,
    "start_time": "2022-02-05T08:10:57.279Z"
   },
   {
    "duration": 46,
    "start_time": "2022-02-05T08:10:57.309Z"
   },
   {
    "duration": 50,
    "start_time": "2022-02-05T08:10:57.357Z"
   },
   {
    "duration": 46,
    "start_time": "2022-02-05T08:10:57.409Z"
   },
   {
    "duration": 42,
    "start_time": "2022-02-05T08:10:57.461Z"
   },
   {
    "duration": 5,
    "start_time": "2022-02-05T08:10:57.506Z"
   },
   {
    "duration": 6,
    "start_time": "2022-02-05T08:10:57.549Z"
   },
   {
    "duration": 30,
    "start_time": "2022-02-05T08:10:57.558Z"
   },
   {
    "duration": 17,
    "start_time": "2022-02-05T08:10:57.591Z"
   },
   {
    "duration": 38,
    "start_time": "2022-02-05T08:10:57.610Z"
   },
   {
    "duration": 10,
    "start_time": "2022-02-05T08:10:57.651Z"
   },
   {
    "duration": 13,
    "start_time": "2022-02-05T08:10:57.664Z"
   },
   {
    "duration": 11,
    "start_time": "2022-02-05T08:10:57.679Z"
   },
   {
    "duration": 18,
    "start_time": "2022-02-05T08:10:57.693Z"
   },
   {
    "duration": 54,
    "start_time": "2022-02-05T08:10:57.713Z"
   },
   {
    "duration": 7,
    "start_time": "2022-02-05T08:10:57.769Z"
   },
   {
    "duration": 15,
    "start_time": "2022-02-05T08:10:57.780Z"
   },
   {
    "duration": 7,
    "start_time": "2022-02-05T08:10:57.797Z"
   },
   {
    "duration": 58,
    "start_time": "2022-02-05T08:10:57.807Z"
   },
   {
    "duration": 288,
    "start_time": "2022-02-05T08:10:57.867Z"
   },
   {
    "duration": 22,
    "start_time": "2022-02-05T08:10:58.158Z"
   },
   {
    "duration": 26,
    "start_time": "2022-02-05T08:10:58.182Z"
   },
   {
    "duration": 80,
    "start_time": "2022-02-05T08:10:58.210Z"
   },
   {
    "duration": 5,
    "start_time": "2022-02-05T08:11:59.992Z"
   },
   {
    "duration": 7,
    "start_time": "2022-02-05T08:12:05.580Z"
   },
   {
    "duration": 19,
    "start_time": "2022-02-05T08:12:08.520Z"
   },
   {
    "duration": 24,
    "start_time": "2022-02-05T08:14:58.082Z"
   },
   {
    "duration": 19,
    "start_time": "2022-02-05T08:14:59.919Z"
   },
   {
    "duration": 38,
    "start_time": "2022-02-05T08:15:02.147Z"
   },
   {
    "duration": 3269,
    "start_time": "2022-02-05T08:15:14.020Z"
   },
   {
    "duration": 2134,
    "start_time": "2022-02-05T08:16:49.164Z"
   },
   {
    "duration": 2185,
    "start_time": "2022-02-05T08:17:26.013Z"
   },
   {
    "duration": 1374,
    "start_time": "2022-02-05T08:18:09.368Z"
   },
   {
    "duration": 2748,
    "start_time": "2022-02-05T10:05:02.160Z"
   },
   {
    "duration": 11,
    "start_time": "2022-02-05T10:57:26.917Z"
   },
   {
    "duration": 2299,
    "start_time": "2022-02-05T11:06:36.749Z"
   },
   {
    "duration": 15,
    "start_time": "2022-02-05T11:08:02.312Z"
   },
   {
    "duration": 244,
    "start_time": "2022-02-05T11:08:04.377Z"
   },
   {
    "duration": 435,
    "start_time": "2022-02-05T11:08:31.501Z"
   },
   {
    "duration": 290,
    "start_time": "2022-02-05T11:08:44.269Z"
   },
   {
    "duration": 325,
    "start_time": "2022-02-05T11:09:04.553Z"
   },
   {
    "duration": 24,
    "start_time": "2022-02-05T11:15:26.975Z"
   },
   {
    "duration": 1981,
    "start_time": "2022-02-05T11:15:41.451Z"
   },
   {
    "duration": 24,
    "start_time": "2022-02-05T11:16:21.398Z"
   },
   {
    "duration": 2095,
    "start_time": "2022-02-05T11:16:27.068Z"
   },
   {
    "duration": 24,
    "start_time": "2022-02-05T11:16:40.103Z"
   },
   {
    "duration": 1951,
    "start_time": "2022-02-05T11:16:44.847Z"
   },
   {
    "duration": 23,
    "start_time": "2022-02-05T11:24:09.598Z"
   },
   {
    "duration": 1867,
    "start_time": "2022-02-05T11:24:15.178Z"
   },
   {
    "duration": 1422,
    "start_time": "2022-02-05T11:26:19.272Z"
   },
   {
    "duration": 1337,
    "start_time": "2022-02-05T11:26:40.201Z"
   },
   {
    "duration": 1377,
    "start_time": "2022-02-05T11:26:46.238Z"
   },
   {
    "duration": 1377,
    "start_time": "2022-02-05T11:26:59.665Z"
   },
   {
    "duration": 309,
    "start_time": "2022-02-05T11:27:12.966Z"
   },
   {
    "duration": 342,
    "start_time": "2022-02-05T11:27:18.207Z"
   },
   {
    "duration": 1709,
    "start_time": "2022-02-05T11:27:20.588Z"
   },
   {
    "duration": 1435,
    "start_time": "2022-02-05T11:27:25.592Z"
   },
   {
    "duration": 479,
    "start_time": "2022-02-05T11:27:31.215Z"
   },
   {
    "duration": 254,
    "start_time": "2022-02-05T11:27:34.882Z"
   },
   {
    "duration": 4,
    "start_time": "2022-02-05T11:28:35.040Z"
   },
   {
    "duration": 146,
    "start_time": "2022-02-05T11:28:35.047Z"
   },
   {
    "duration": 24,
    "start_time": "2022-02-05T11:28:35.196Z"
   },
   {
    "duration": 36,
    "start_time": "2022-02-05T11:28:35.222Z"
   },
   {
    "duration": 47,
    "start_time": "2022-02-05T11:28:35.260Z"
   },
   {
    "duration": 49,
    "start_time": "2022-02-05T11:28:35.310Z"
   },
   {
    "duration": 26,
    "start_time": "2022-02-05T11:28:35.363Z"
   },
   {
    "duration": 15,
    "start_time": "2022-02-05T11:28:35.392Z"
   },
   {
    "duration": 16,
    "start_time": "2022-02-05T11:28:35.410Z"
   },
   {
    "duration": 39,
    "start_time": "2022-02-05T11:28:35.428Z"
   },
   {
    "duration": 25,
    "start_time": "2022-02-05T11:28:35.469Z"
   },
   {
    "duration": 10,
    "start_time": "2022-02-05T11:28:35.496Z"
   },
   {
    "duration": 22,
    "start_time": "2022-02-05T11:28:35.508Z"
   },
   {
    "duration": 21,
    "start_time": "2022-02-05T11:28:35.533Z"
   },
   {
    "duration": 10,
    "start_time": "2022-02-05T11:28:35.556Z"
   },
   {
    "duration": 21,
    "start_time": "2022-02-05T11:28:35.568Z"
   },
   {
    "duration": 21,
    "start_time": "2022-02-05T11:28:35.592Z"
   },
   {
    "duration": 6,
    "start_time": "2022-02-05T11:28:35.649Z"
   },
   {
    "duration": 10,
    "start_time": "2022-02-05T11:28:35.660Z"
   },
   {
    "duration": 13,
    "start_time": "2022-02-05T11:28:35.673Z"
   },
   {
    "duration": 15,
    "start_time": "2022-02-05T11:28:35.689Z"
   },
   {
    "duration": 390,
    "start_time": "2022-02-05T11:28:35.706Z"
   },
   {
    "duration": 22,
    "start_time": "2022-02-05T11:28:36.098Z"
   },
   {
    "duration": 30,
    "start_time": "2022-02-05T11:28:36.123Z"
   },
   {
    "duration": 64,
    "start_time": "2022-02-05T11:28:36.156Z"
   },
   {
    "duration": 2498,
    "start_time": "2022-02-05T11:28:36.222Z"
   },
   {
    "duration": 39,
    "start_time": "2022-02-05T11:28:38.722Z"
   },
   {
    "duration": 20,
    "start_time": "2022-02-05T11:28:38.763Z"
   },
   {
    "duration": 23,
    "start_time": "2022-02-05T11:28:38.786Z"
   },
   {
    "duration": 2108,
    "start_time": "2022-02-05T11:28:38.812Z"
   },
   {
    "duration": 2012,
    "start_time": "2022-02-05T11:28:40.923Z"
   },
   {
    "duration": 16,
    "start_time": "2022-02-05T11:28:42.937Z"
   },
   {
    "duration": 211,
    "start_time": "2022-02-05T11:28:42.955Z"
   },
   {
    "duration": 9,
    "start_time": "2022-02-05T11:28:43.169Z"
   },
   {
    "duration": 4025,
    "start_time": "2022-02-05T11:28:43.181Z"
   },
   {
    "duration": 12,
    "start_time": "2022-02-05T11:28:47.209Z"
   },
   {
    "duration": 1356,
    "start_time": "2022-02-05T11:28:47.223Z"
   },
   {
    "duration": 556,
    "start_time": "2022-02-05T11:28:48.582Z"
   },
   {
    "duration": 270,
    "start_time": "2022-02-05T11:28:49.142Z"
   },
   {
    "duration": 1338,
    "start_time": "2022-02-05T11:28:49.415Z"
   },
   {
    "duration": 637,
    "start_time": "2022-02-05T11:28:50.756Z"
   },
   {
    "duration": 278,
    "start_time": "2022-02-05T11:28:51.395Z"
   },
   {
    "duration": 1339,
    "start_time": "2022-02-05T12:01:14.621Z"
   },
   {
    "duration": 1378,
    "start_time": "2022-02-06T10:50:52.700Z"
   },
   {
    "duration": 106,
    "start_time": "2022-02-06T10:50:54.081Z"
   },
   {
    "duration": 25,
    "start_time": "2022-02-06T10:50:54.191Z"
   },
   {
    "duration": 41,
    "start_time": "2022-02-06T10:50:54.219Z"
   },
   {
    "duration": 47,
    "start_time": "2022-02-06T10:50:54.263Z"
   },
   {
    "duration": 43,
    "start_time": "2022-02-06T10:50:54.312Z"
   },
   {
    "duration": 25,
    "start_time": "2022-02-06T10:50:54.358Z"
   },
   {
    "duration": 5,
    "start_time": "2022-02-06T10:50:54.388Z"
   },
   {
    "duration": 7,
    "start_time": "2022-02-06T10:50:54.395Z"
   },
   {
    "duration": 66,
    "start_time": "2022-02-06T10:50:54.404Z"
   },
   {
    "duration": 16,
    "start_time": "2022-02-06T10:50:54.473Z"
   },
   {
    "duration": 5,
    "start_time": "2022-02-06T10:50:54.492Z"
   },
   {
    "duration": 12,
    "start_time": "2022-02-06T10:50:54.499Z"
   },
   {
    "duration": 45,
    "start_time": "2022-02-06T10:50:54.514Z"
   },
   {
    "duration": 9,
    "start_time": "2022-02-06T10:50:54.562Z"
   },
   {
    "duration": 19,
    "start_time": "2022-02-06T10:50:54.573Z"
   },
   {
    "duration": 20,
    "start_time": "2022-02-06T10:50:54.594Z"
   },
   {
    "duration": 6,
    "start_time": "2022-02-06T10:50:54.648Z"
   },
   {
    "duration": 11,
    "start_time": "2022-02-06T10:50:54.656Z"
   },
   {
    "duration": 4,
    "start_time": "2022-02-06T10:50:54.670Z"
   },
   {
    "duration": 14,
    "start_time": "2022-02-06T10:50:54.676Z"
   },
   {
    "duration": 315,
    "start_time": "2022-02-06T10:50:54.692Z"
   },
   {
    "duration": 20,
    "start_time": "2022-02-06T10:50:55.013Z"
   },
   {
    "duration": 23,
    "start_time": "2022-02-06T10:50:55.037Z"
   },
   {
    "duration": 90,
    "start_time": "2022-02-06T10:50:55.063Z"
   },
   {
    "duration": 2723,
    "start_time": "2022-02-06T10:50:55.156Z"
   },
   {
    "duration": 23,
    "start_time": "2022-02-06T10:50:57.882Z"
   },
   {
    "duration": 44,
    "start_time": "2022-02-06T10:50:57.907Z"
   },
   {
    "duration": 21,
    "start_time": "2022-02-06T10:50:57.954Z"
   },
   {
    "duration": 2131,
    "start_time": "2022-02-06T10:50:57.977Z"
   },
   {
    "duration": 1978,
    "start_time": "2022-02-06T10:51:00.110Z"
   },
   {
    "duration": 11,
    "start_time": "2022-02-06T10:51:02.090Z"
   },
   {
    "duration": 221,
    "start_time": "2022-02-06T10:51:02.103Z"
   },
   {
    "duration": 22,
    "start_time": "2022-02-06T10:51:02.326Z"
   },
   {
    "duration": 3892,
    "start_time": "2022-02-06T10:51:02.351Z"
   },
   {
    "duration": 12,
    "start_time": "2022-02-06T10:51:06.245Z"
   },
   {
    "duration": 1457,
    "start_time": "2022-02-06T10:51:06.259Z"
   },
   {
    "duration": 539,
    "start_time": "2022-02-06T10:51:07.718Z"
   },
   {
    "duration": 288,
    "start_time": "2022-02-06T10:51:08.260Z"
   },
   {
    "duration": 1618,
    "start_time": "2022-02-06T10:51:08.550Z"
   },
   {
    "duration": 512,
    "start_time": "2022-02-06T10:51:10.170Z"
   },
   {
    "duration": 276,
    "start_time": "2022-02-06T10:51:10.684Z"
   },
   {
    "duration": 1417,
    "start_time": "2022-02-06T10:59:48.974Z"
   },
   {
    "duration": 108,
    "start_time": "2022-02-06T10:59:50.394Z"
   },
   {
    "duration": 28,
    "start_time": "2022-02-06T10:59:50.506Z"
   },
   {
    "duration": 25,
    "start_time": "2022-02-06T10:59:50.550Z"
   },
   {
    "duration": 49,
    "start_time": "2022-02-06T10:59:50.577Z"
   },
   {
    "duration": 24,
    "start_time": "2022-02-06T10:59:50.649Z"
   },
   {
    "duration": 25,
    "start_time": "2022-02-06T10:59:50.675Z"
   },
   {
    "duration": 5,
    "start_time": "2022-02-06T10:59:50.705Z"
   },
   {
    "duration": 38,
    "start_time": "2022-02-06T10:59:50.712Z"
   },
   {
    "duration": 26,
    "start_time": "2022-02-06T10:59:50.753Z"
   },
   {
    "duration": 16,
    "start_time": "2022-02-06T10:59:50.781Z"
   },
   {
    "duration": 8,
    "start_time": "2022-02-06T10:59:50.800Z"
   },
   {
    "duration": 43,
    "start_time": "2022-02-06T10:59:50.811Z"
   },
   {
    "duration": 16,
    "start_time": "2022-02-06T10:59:50.856Z"
   },
   {
    "duration": 8,
    "start_time": "2022-02-06T10:59:50.874Z"
   },
   {
    "duration": 19,
    "start_time": "2022-02-06T10:59:50.885Z"
   },
   {
    "duration": 53,
    "start_time": "2022-02-06T10:59:50.906Z"
   },
   {
    "duration": 9,
    "start_time": "2022-02-06T10:59:50.961Z"
   },
   {
    "duration": 14,
    "start_time": "2022-02-06T10:59:50.972Z"
   },
   {
    "duration": 5,
    "start_time": "2022-02-06T10:59:50.988Z"
   },
   {
    "duration": 13,
    "start_time": "2022-02-06T10:59:50.995Z"
   },
   {
    "duration": 302,
    "start_time": "2022-02-06T10:59:51.011Z"
   },
   {
    "duration": 31,
    "start_time": "2022-02-06T10:59:51.319Z"
   },
   {
    "duration": 11,
    "start_time": "2022-02-06T10:59:51.352Z"
   },
   {
    "duration": 84,
    "start_time": "2022-02-06T10:59:51.366Z"
   },
   {
    "duration": 2558,
    "start_time": "2022-02-06T10:59:51.452Z"
   },
   {
    "duration": 18,
    "start_time": "2022-02-06T10:59:54.013Z"
   },
   {
    "duration": 21,
    "start_time": "2022-02-06T10:59:54.049Z"
   },
   {
    "duration": 25,
    "start_time": "2022-02-06T10:59:54.073Z"
   },
   {
    "duration": 2330,
    "start_time": "2022-02-06T10:59:54.101Z"
   },
   {
    "duration": 2283,
    "start_time": "2022-02-06T10:59:56.434Z"
   },
   {
    "duration": 12,
    "start_time": "2022-02-06T10:59:58.719Z"
   },
   {
    "duration": 215,
    "start_time": "2022-02-06T10:59:58.749Z"
   },
   {
    "duration": 11,
    "start_time": "2022-02-06T10:59:58.967Z"
   },
   {
    "duration": 3852,
    "start_time": "2022-02-06T10:59:58.981Z"
   },
   {
    "duration": 22,
    "start_time": "2022-02-06T11:00:02.836Z"
   },
   {
    "duration": 1519,
    "start_time": "2022-02-06T11:00:02.861Z"
   },
   {
    "duration": 541,
    "start_time": "2022-02-06T11:00:04.382Z"
   },
   {
    "duration": 276,
    "start_time": "2022-02-06T11:00:04.925Z"
   },
   {
    "duration": 1496,
    "start_time": "2022-02-06T11:00:05.204Z"
   },
   {
    "duration": 546,
    "start_time": "2022-02-06T11:00:06.704Z"
   },
   {
    "duration": 295,
    "start_time": "2022-02-06T11:00:07.253Z"
   }
  ],
  "kernelspec": {
   "display_name": "Python 3 (ipykernel)",
   "language": "python",
   "name": "python3"
  },
  "language_info": {
   "codemirror_mode": {
    "name": "ipython",
    "version": 3
   },
   "file_extension": ".py",
   "mimetype": "text/x-python",
   "name": "python",
   "nbconvert_exporter": "python",
   "pygments_lexer": "ipython3",
   "version": "3.9.7"
  },
  "toc": {
   "base_numbering": 1,
   "nav_menu": {},
   "number_sections": true,
   "sideBar": true,
   "skip_h1_title": false,
   "title_cell": "Table of Contents",
   "title_sidebar": "Contents",
   "toc_cell": false,
   "toc_position": {
    "height": "calc(100% - 180px)",
    "left": "10px",
    "top": "150px",
    "width": "165px"
   },
   "toc_section_display": true,
   "toc_window_display": true
  }
 },
 "nbformat": 4,
 "nbformat_minor": 2
}
