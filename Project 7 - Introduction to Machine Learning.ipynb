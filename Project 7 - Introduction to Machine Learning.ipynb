{
 "cells": [
  {
   "cell_type": "markdown",
   "metadata": {},
   "source": [
    "**Project description:**\n",
    "\n",
    "Mobile carrier Megaline has found out that many of their subscribers use legacy plans. We want to develop a model that would analyze subscribers' behavior and recommend one of Megaline's newer plans: Smart or Ultra."
   ]
  },
  {
   "cell_type": "markdown",
   "metadata": {},
   "source": [
    "We will start by loading the data and installing the libraries."
   ]
  },
  {
   "cell_type": "code",
   "execution_count": 1,
   "metadata": {},
   "outputs": [],
   "source": [
    "import pandas as pd\n",
    "from sklearn.metrics import mean_squared_error\n",
    "from sklearn.model_selection import train_test_split\n",
    "from sklearn.tree import DecisionTreeClassifier\n",
    "from sklearn.metrics import accuracy_score\n",
    "from sklearn.ensemble import RandomForestClassifier\n",
    "from sklearn.linear_model import LogisticRegression\n",
    "from joblib import dump"
   ]
  },
  {
   "cell_type": "code",
   "execution_count": 2,
   "metadata": {},
   "outputs": [],
   "source": [
    "df = pd.read_csv('/datasets/users_behavior.csv')"
   ]
  },
  {
   "cell_type": "code",
   "execution_count": 3,
   "metadata": {},
   "outputs": [
    {
     "data": {
      "text/html": [
       "<div>\n",
       "<style scoped>\n",
       "    .dataframe tbody tr th:only-of-type {\n",
       "        vertical-align: middle;\n",
       "    }\n",
       "\n",
       "    .dataframe tbody tr th {\n",
       "        vertical-align: top;\n",
       "    }\n",
       "\n",
       "    .dataframe thead th {\n",
       "        text-align: right;\n",
       "    }\n",
       "</style>\n",
       "<table border=\"1\" class=\"dataframe\">\n",
       "  <thead>\n",
       "    <tr style=\"text-align: right;\">\n",
       "      <th></th>\n",
       "      <th>calls</th>\n",
       "      <th>minutes</th>\n",
       "      <th>messages</th>\n",
       "      <th>mb_used</th>\n",
       "      <th>is_ultra</th>\n",
       "    </tr>\n",
       "  </thead>\n",
       "  <tbody>\n",
       "    <tr>\n",
       "      <th>0</th>\n",
       "      <td>40.0</td>\n",
       "      <td>311.90</td>\n",
       "      <td>83.0</td>\n",
       "      <td>19915.42</td>\n",
       "      <td>0</td>\n",
       "    </tr>\n",
       "    <tr>\n",
       "      <th>1</th>\n",
       "      <td>85.0</td>\n",
       "      <td>516.75</td>\n",
       "      <td>56.0</td>\n",
       "      <td>22696.96</td>\n",
       "      <td>0</td>\n",
       "    </tr>\n",
       "    <tr>\n",
       "      <th>2</th>\n",
       "      <td>77.0</td>\n",
       "      <td>467.66</td>\n",
       "      <td>86.0</td>\n",
       "      <td>21060.45</td>\n",
       "      <td>0</td>\n",
       "    </tr>\n",
       "    <tr>\n",
       "      <th>3</th>\n",
       "      <td>106.0</td>\n",
       "      <td>745.53</td>\n",
       "      <td>81.0</td>\n",
       "      <td>8437.39</td>\n",
       "      <td>1</td>\n",
       "    </tr>\n",
       "    <tr>\n",
       "      <th>4</th>\n",
       "      <td>66.0</td>\n",
       "      <td>418.74</td>\n",
       "      <td>1.0</td>\n",
       "      <td>14502.75</td>\n",
       "      <td>0</td>\n",
       "    </tr>\n",
       "  </tbody>\n",
       "</table>\n",
       "</div>"
      ],
      "text/plain": [
       "   calls  minutes  messages   mb_used  is_ultra\n",
       "0   40.0   311.90      83.0  19915.42         0\n",
       "1   85.0   516.75      56.0  22696.96         0\n",
       "2   77.0   467.66      86.0  21060.45         0\n",
       "3  106.0   745.53      81.0   8437.39         1\n",
       "4   66.0   418.74       1.0  14502.75         0"
      ]
     },
     "execution_count": 3,
     "metadata": {},
     "output_type": "execute_result"
    }
   ],
   "source": [
    "df.head()"
   ]
  },
  {
   "cell_type": "markdown",
   "metadata": {},
   "source": [
    "We will split the source data into a training set (60%), a validation set (20%), and a test set (20%)."
   ]
  },
  {
   "cell_type": "code",
   "execution_count": 4,
   "metadata": {},
   "outputs": [],
   "source": [
    "# set aside 20% of train and test data for evaluation\n",
    "df_train, df_test = train_test_split(df, test_size=0.2, random_state=12345)\n",
    "\n",
    "# Use the same function above for the validation set\n",
    "df_train, df_valid = train_test_split(df, test_size=0.25, random_state=12345) # 0.25 x 0.8 = 0.2"
   ]
  },
  {
   "cell_type": "markdown",
   "metadata": {},
   "source": [
    "We will define features and targets."
   ]
  },
  {
   "cell_type": "code",
   "execution_count": 5,
   "metadata": {},
   "outputs": [],
   "source": [
    "features_train = df_train.drop(['is_ultra'], axis=1)\n",
    "target_train = df_train['is_ultra']\n",
    "features_valid = df_valid.drop(['is_ultra'], axis=1)\n",
    "target_valid = df_valid['is_ultra']\n",
    "features_test = df_test.drop(['is_ultra'], axis=1)\n",
    "target_test = df_test['is_ultra']"
   ]
  },
  {
   "cell_type": "markdown",
   "metadata": {},
   "source": [
    "Let's investigate the quality of different models by changing hyperparameters."
   ]
  },
  {
   "cell_type": "markdown",
   "metadata": {},
   "source": [
    "Decision tree:"
   ]
  },
  {
   "cell_type": "code",
   "execution_count": 6,
   "metadata": {},
   "outputs": [
    {
     "name": "stdout",
     "output_type": "stream",
     "text": [
      "max_depth = 1 : 0.75\n",
      "max_depth = 2 : 0.7835820895522388\n",
      "max_depth = 3 : 0.7885572139303483\n",
      "max_depth = 4 : 0.7810945273631841\n",
      "max_depth = 5 : 0.7810945273631841\n"
     ]
    }
   ],
   "source": [
    "for depth in range(1, 6):\n",
    "        model = DecisionTreeClassifier(random_state=12345, max_depth=depth)\n",
    "\n",
    "        model.fit(features_train, target_train)\n",
    "\n",
    "        predictions_valid = model.predict(features_valid)\n",
    "\n",
    "        print(\"max_depth =\", depth, \": \", end='')\n",
    "        print(accuracy_score(target_valid, predictions_valid))"
   ]
  },
  {
   "cell_type": "markdown",
   "metadata": {},
   "source": [
    "Regarding the decision tree, the highest accuracy appears to be obtained at depth 3 (0.788)."
   ]
  },
  {
   "cell_type": "markdown",
   "metadata": {},
   "source": [
    "Random forest classifier:"
   ]
  },
  {
   "cell_type": "code",
   "execution_count": 7,
   "metadata": {},
   "outputs": [
    {
     "name": "stdout",
     "output_type": "stream",
     "text": [
      "Accuracy of the best model on the validation set: 0.7885572139303483 n_estimators: 4 best_depth: 10\n"
     ]
    },
    {
     "data": {
      "text/plain": [
       "RandomForestClassifier(n_estimators=9, random_state=54321)"
      ]
     },
     "execution_count": 7,
     "metadata": {},
     "output_type": "execute_result"
    }
   ],
   "source": [
    "best_score = 0\n",
    "best_est = 0\n",
    "best_depth = 0\n",
    "for est in range(1, 10):\n",
    "    for depth in range (1, 11):\n",
    "        \n",
    "        model = RandomForestClassifier(random_state=54321, n_estimators=est) \n",
    "        model.fit(features_train, target_train) \n",
    "        score = model.score(features_valid, target_valid) \n",
    "        if score > best_score:\n",
    "            \n",
    "        \n",
    "            best_score = score\n",
    "            best_est = est\n",
    "\n",
    "\n",
    "print(\"Accuracy of the best model on the validation set:\", best_score, \"n_estimators:\", best_est, \"best_depth:\", depth)\n",
    "final_model = RandomForestClassifier(random_state=54321, n_estimators=9) # change n_estimators to get best model\n",
    "final_model.fit(features_train, target_train)"
   ]
  },
  {
   "cell_type": "markdown",
   "metadata": {},
   "source": [
    "Logistic regression:"
   ]
  },
  {
   "cell_type": "code",
   "execution_count": 8,
   "metadata": {},
   "outputs": [
    {
     "data": {
      "text/plain": [
       "0.7039800995024875"
      ]
     },
     "execution_count": 8,
     "metadata": {},
     "output_type": "execute_result"
    }
   ],
   "source": [
    "model = LogisticRegression(random_state=12345,\n",
    "                           solver='lbfgs', \n",
    "                           max_iter=1000)\n",
    "model.fit(features_train, target_train)\n",
    "predictions_valid = model.predict(features_valid)\n",
    "model.score(features_valid, target_valid)\n",
    "accuracy_score(target_valid, predictions_valid)"
   ]
  },
  {
   "cell_type": "markdown",
   "metadata": {},
   "source": [
    "**Here are the results of the experiments to find the best model and hyperparameters:**\n",
    "\n",
    "Decision Tree - found to have the best level of accuracy at depth 3 with 78.85% accuracy.\n",
    "\n",
    "Random Forest - found to have the best level of accuracy with 4 trees at a depth of 10 is 78.85%.\n",
    "\n",
    "Logistic regression - its best level of accuracy is 70%.\n",
    "\n",
    "I recommend continuing with the decision tree model as it has the same percentage of accuracy as the random forest and is much faster than it."
   ]
  },
  {
   "cell_type": "markdown",
   "metadata": {},
   "source": [
    "Let's check the quality of the model we chose with the test set."
   ]
  },
  {
   "cell_type": "code",
   "execution_count": 16,
   "metadata": {},
   "outputs": [],
   "source": [
    "#We will write a function that will tell us errors in the test set.\n",
    "def error_count(answers, predictions):\n",
    "    errors=0\n",
    "    for answer, prediction in zip(answers, predictions):\n",
    "          if answer != prediction:\n",
    "            errors += 1\n",
    "    return errors"
   ]
  },
  {
   "cell_type": "code",
   "execution_count": 18,
   "metadata": {},
   "outputs": [
    {
     "name": "stdout",
     "output_type": "stream",
     "text": [
      "Errors: 139\n",
      "Accuracy: 0.7838258164852255\n"
     ]
    }
   ],
   "source": [
    "model1 = DecisionTreeClassifier(random_state=12345, max_depth=3)\n",
    "model1.fit(features_train, target_train)\n",
    "test_predictions = model1.predict(features_test)\n",
    "print('Errors:', error_count(target_test, test_predictions))\n",
    "print('Accuracy:',accuracy_score(target_test, test_predictions))"
   ]
  },
  {
   "cell_type": "markdown",
   "metadata": {},
   "source": [
    "Our model is also of high quality in testing with the test."
   ]
  },
  {
   "cell_type": "markdown",
   "metadata": {},
   "source": [
    "We will now perform a sanity test on the model."
   ]
  },
  {
   "cell_type": "code",
   "execution_count": 19,
   "metadata": {},
   "outputs": [
    {
     "name": "stdout",
     "output_type": "stream",
     "text": [
      "Errors: 196\n",
      "Accuracy: 0.6951788491446346\n"
     ]
    }
   ],
   "source": [
    "#let's create a dummy model for our sanity test.\n",
    "fake_predictions = pd.Series(0, index=df_test.index)\n",
    "accuracy_sanity = accuracy_score(target_test, fake_predictions)\n",
    "print('Errors:', error_count(target_test, fake_predictions))\n",
    "print('Accuracy:',accuracy_score(target_test, fake_predictions))"
   ]
  },
  {
   "cell_type": "markdown",
   "metadata": {},
   "source": [
    "Our model provides a more accurate execution than a dummy model - a sign that the model has passed the sanity test."
   ]
  },
  {
   "cell_type": "markdown",
   "metadata": {},
   "source": [
    "Steps and final conclusion:\n",
    "\n",
    "Our task was to find the most suitable model for our customer classification in the cellular company, with our accuracy threshold of 0.75.\n",
    "\n",
    "Steps and findings:\n",
    "In the first stage, we loaded the data set, and we divided it into three sets: the training set, the evaluation set and the test set, and each of them is divided into targets and features.\n",
    "\n",
    "2.We searched among the three models mentioned above for the models with a percentage of accuracy higher than 0.75, and within them we also tested a variety of hypermeters in order to achieve the most accuracy. Random Forest found to have the best level of accuracy with 4 trees at a depth of 10 is 78.85% just like a decision tree at depth 3- we decided to go for a decision tree because it is faster.\n",
    "\n"
   ]
  }
 ],
 "metadata": {
  "ExecuteTimeLog": [
   {
    "duration": 1168,
    "start_time": "2022-05-28T09:39:39.302Z"
   },
   {
    "duration": 97,
    "start_time": "2022-05-28T09:39:43.028Z"
   },
   {
    "duration": 67,
    "start_time": "2022-05-28T09:39:50.106Z"
   },
   {
    "duration": 29,
    "start_time": "2022-05-28T09:57:54.026Z"
   },
   {
    "duration": 8,
    "start_time": "2022-05-28T09:57:56.271Z"
   },
   {
    "duration": 17,
    "start_time": "2022-05-28T09:58:16.498Z"
   },
   {
    "duration": 7,
    "start_time": "2022-05-28T09:58:49.069Z"
   },
   {
    "duration": 1590,
    "start_time": "2022-05-28T14:11:50.394Z"
   },
   {
    "duration": 209,
    "start_time": "2022-05-28T14:11:51.986Z"
   },
   {
    "duration": 32,
    "start_time": "2022-05-28T14:11:52.203Z"
   },
   {
    "duration": 17,
    "start_time": "2022-05-28T14:11:52.241Z"
   },
   {
    "duration": 18,
    "start_time": "2022-05-28T14:11:52.265Z"
   },
   {
    "duration": 54,
    "start_time": "2022-05-28T14:14:01.418Z"
   },
   {
    "duration": 404,
    "start_time": "2022-05-28T14:27:43.889Z"
   },
   {
    "duration": 1389,
    "start_time": "2022-05-28T14:33:49.462Z"
   },
   {
    "duration": 817,
    "start_time": "2022-05-28T14:39:36.029Z"
   },
   {
    "duration": 458,
    "start_time": "2022-05-28T14:41:06.382Z"
   },
   {
    "duration": 3497,
    "start_time": "2022-05-28T14:52:03.713Z"
   },
   {
    "duration": 3352,
    "start_time": "2022-05-28T14:52:35.051Z"
   },
   {
    "duration": 27,
    "start_time": "2022-05-28T14:57:31.477Z"
   },
   {
    "duration": 19,
    "start_time": "2022-05-28T14:57:48.856Z"
   },
   {
    "duration": 57,
    "start_time": "2022-05-28T14:57:56.619Z"
   },
   {
    "duration": 610,
    "start_time": "2022-05-28T14:59:31.970Z"
   },
   {
    "duration": 524,
    "start_time": "2022-05-28T15:03:12.815Z"
   },
   {
    "duration": 668,
    "start_time": "2022-05-28T15:16:44.903Z"
   },
   {
    "duration": 5,
    "start_time": "2022-05-28T15:19:09.820Z"
   },
   {
    "duration": 810,
    "start_time": "2022-05-28T15:19:58.603Z"
   },
   {
    "duration": 16,
    "start_time": "2022-05-28T15:20:36.562Z"
   },
   {
    "duration": 19,
    "start_time": "2022-05-28T15:20:45.558Z"
   },
   {
    "duration": 56,
    "start_time": "2022-05-28T15:23:45.649Z"
   },
   {
    "duration": 951,
    "start_time": "2022-05-28T17:57:42.367Z"
   },
   {
    "duration": 62,
    "start_time": "2022-05-28T17:57:43.320Z"
   },
   {
    "duration": 16,
    "start_time": "2022-05-28T17:57:43.383Z"
   },
   {
    "duration": 8,
    "start_time": "2022-05-28T17:57:43.401Z"
   },
   {
    "duration": 7,
    "start_time": "2022-05-28T17:57:43.412Z"
   },
   {
    "duration": 40,
    "start_time": "2022-05-28T17:57:43.421Z"
   },
   {
    "duration": 2584,
    "start_time": "2022-05-28T17:57:43.463Z"
   },
   {
    "duration": 299,
    "start_time": "2022-05-28T17:57:46.048Z"
   },
   {
    "duration": 101,
    "start_time": "2022-05-28T17:57:46.352Z"
   },
   {
    "duration": 14,
    "start_time": "2022-05-28T17:57:46.455Z"
   },
   {
    "duration": 145,
    "start_time": "2022-05-28T18:11:39.576Z"
   },
   {
    "duration": 4,
    "start_time": "2022-05-28T18:11:56.742Z"
   },
   {
    "duration": 7,
    "start_time": "2022-05-28T18:12:04.092Z"
   },
   {
    "duration": 4,
    "start_time": "2022-05-28T18:19:35.118Z"
   },
   {
    "duration": 524,
    "start_time": "2022-05-28T18:19:37.589Z"
   },
   {
    "duration": 4,
    "start_time": "2022-05-28T18:21:57.884Z"
   },
   {
    "duration": 11,
    "start_time": "2022-05-28T18:22:00.853Z"
   },
   {
    "duration": 11,
    "start_time": "2022-05-28T18:22:46.568Z"
   },
   {
    "duration": 6,
    "start_time": "2022-05-28T18:23:58.947Z"
   }
  ],
  "kernelspec": {
   "display_name": "Python 3 (ipykernel)",
   "language": "python",
   "name": "python3"
  },
  "language_info": {
   "codemirror_mode": {
    "name": "ipython",
    "version": 3
   },
   "file_extension": ".py",
   "mimetype": "text/x-python",
   "name": "python",
   "nbconvert_exporter": "python",
   "pygments_lexer": "ipython3",
   "version": "3.9.7"
  },
  "toc": {
   "base_numbering": 1,
   "nav_menu": {},
   "number_sections": true,
   "sideBar": true,
   "skip_h1_title": true,
   "title_cell": "Table of Contents",
   "title_sidebar": "Contents",
   "toc_cell": false,
   "toc_position": {},
   "toc_section_display": true,
   "toc_window_display": false
  }
 },
 "nbformat": 4,
 "nbformat_minor": 2
}
