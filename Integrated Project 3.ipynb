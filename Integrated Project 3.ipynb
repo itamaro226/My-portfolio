{
 "cells": [
  {
   "cell_type": "markdown",
   "metadata": {},
   "source": [
    "***Project description:***\n",
    "\n",
    "Prepare a prototype of a machine learning model for Zyfra. The company develops efficiency solutions for heavy industry.\n",
    "The model should predict the amount of gold recovered from gold ore. You have the data on extraction and purification.\n",
    "The model will help to optimize the production and eliminate unprofitable parameters."
   ]
  },
  {
   "cell_type": "code",
   "execution_count": 1,
   "metadata": {},
   "outputs": [],
   "source": [
    "#We will upload the libraries we need.\n",
    "import pandas as pd\n",
    "import numpy as np\n",
    "from sklearn.model_selection import cross_val_score\n",
    "from sklearn.model_selection import train_test_split\n",
    "from sklearn.metrics import accuracy_score\n",
    "from joblib import dump\n",
    "from sklearn.linear_model import LinearRegression\n",
    "from sklearn.metrics import mean_squared_error\n",
    "from sklearn.preprocessing import OneHotEncoder\n",
    "from sklearn.preprocessing import StandardScaler\n",
    "import matplotlib.pyplot as plt\n",
    "from scipy import stats as st\n",
    "from sklearn.metrics import mean_absolute_error\n",
    "import seaborn as sns\n",
    "from sklearn.ensemble import RandomForestRegressor\n",
    "from sklearn.metrics import make_scorer\n",
    "from sklearn.model_selection import GridSearchCV"
   ]
  },
  {
   "cell_type": "code",
   "execution_count": 2,
   "metadata": {},
   "outputs": [],
   "source": [
    "#Let's load our data sets.\n",
    "df_train = pd.read_csv('/datasets/gold_recovery_train.csv')\n",
    "df_test = pd.read_csv('/datasets/gold_recovery_test.csv')\n",
    "df = pd.read_csv('/datasets/gold_recovery_full.csv')"
   ]
  },
  {
   "cell_type": "code",
   "execution_count": 3,
   "metadata": {},
   "outputs": [
    {
     "data": {
      "text/html": [
       "<div>\n",
       "<style scoped>\n",
       "    .dataframe tbody tr th:only-of-type {\n",
       "        vertical-align: middle;\n",
       "    }\n",
       "\n",
       "    .dataframe tbody tr th {\n",
       "        vertical-align: top;\n",
       "    }\n",
       "\n",
       "    .dataframe thead th {\n",
       "        text-align: right;\n",
       "    }\n",
       "</style>\n",
       "<table border=\"1\" class=\"dataframe\">\n",
       "  <thead>\n",
       "    <tr style=\"text-align: right;\">\n",
       "      <th></th>\n",
       "      <th>date</th>\n",
       "      <th>final.output.concentrate_ag</th>\n",
       "      <th>final.output.concentrate_pb</th>\n",
       "      <th>final.output.concentrate_sol</th>\n",
       "      <th>final.output.concentrate_au</th>\n",
       "      <th>final.output.recovery</th>\n",
       "      <th>final.output.tail_ag</th>\n",
       "      <th>final.output.tail_pb</th>\n",
       "      <th>final.output.tail_sol</th>\n",
       "      <th>final.output.tail_au</th>\n",
       "      <th>...</th>\n",
       "      <th>secondary_cleaner.state.floatbank4_a_air</th>\n",
       "      <th>secondary_cleaner.state.floatbank4_a_level</th>\n",
       "      <th>secondary_cleaner.state.floatbank4_b_air</th>\n",
       "      <th>secondary_cleaner.state.floatbank4_b_level</th>\n",
       "      <th>secondary_cleaner.state.floatbank5_a_air</th>\n",
       "      <th>secondary_cleaner.state.floatbank5_a_level</th>\n",
       "      <th>secondary_cleaner.state.floatbank5_b_air</th>\n",
       "      <th>secondary_cleaner.state.floatbank5_b_level</th>\n",
       "      <th>secondary_cleaner.state.floatbank6_a_air</th>\n",
       "      <th>secondary_cleaner.state.floatbank6_a_level</th>\n",
       "    </tr>\n",
       "  </thead>\n",
       "  <tbody>\n",
       "    <tr>\n",
       "      <th>0</th>\n",
       "      <td>2016-01-15 00:00:00</td>\n",
       "      <td>6.055403</td>\n",
       "      <td>9.889648</td>\n",
       "      <td>5.507324</td>\n",
       "      <td>42.192020</td>\n",
       "      <td>70.541216</td>\n",
       "      <td>10.411962</td>\n",
       "      <td>0.895447</td>\n",
       "      <td>16.904297</td>\n",
       "      <td>2.143149</td>\n",
       "      <td>...</td>\n",
       "      <td>14.016835</td>\n",
       "      <td>-502.488007</td>\n",
       "      <td>12.099931</td>\n",
       "      <td>-504.715942</td>\n",
       "      <td>9.925633</td>\n",
       "      <td>-498.310211</td>\n",
       "      <td>8.079666</td>\n",
       "      <td>-500.470978</td>\n",
       "      <td>14.151341</td>\n",
       "      <td>-605.841980</td>\n",
       "    </tr>\n",
       "    <tr>\n",
       "      <th>1</th>\n",
       "      <td>2016-01-15 01:00:00</td>\n",
       "      <td>6.029369</td>\n",
       "      <td>9.968944</td>\n",
       "      <td>5.257781</td>\n",
       "      <td>42.701629</td>\n",
       "      <td>69.266198</td>\n",
       "      <td>10.462676</td>\n",
       "      <td>0.927452</td>\n",
       "      <td>16.634514</td>\n",
       "      <td>2.224930</td>\n",
       "      <td>...</td>\n",
       "      <td>13.992281</td>\n",
       "      <td>-505.503262</td>\n",
       "      <td>11.950531</td>\n",
       "      <td>-501.331529</td>\n",
       "      <td>10.039245</td>\n",
       "      <td>-500.169983</td>\n",
       "      <td>7.984757</td>\n",
       "      <td>-500.582168</td>\n",
       "      <td>13.998353</td>\n",
       "      <td>-599.787184</td>\n",
       "    </tr>\n",
       "    <tr>\n",
       "      <th>2</th>\n",
       "      <td>2016-01-15 02:00:00</td>\n",
       "      <td>6.055926</td>\n",
       "      <td>10.213995</td>\n",
       "      <td>5.383759</td>\n",
       "      <td>42.657501</td>\n",
       "      <td>68.116445</td>\n",
       "      <td>10.507046</td>\n",
       "      <td>0.953716</td>\n",
       "      <td>16.208849</td>\n",
       "      <td>2.257889</td>\n",
       "      <td>...</td>\n",
       "      <td>14.015015</td>\n",
       "      <td>-502.520901</td>\n",
       "      <td>11.912783</td>\n",
       "      <td>-501.133383</td>\n",
       "      <td>10.070913</td>\n",
       "      <td>-500.129135</td>\n",
       "      <td>8.013877</td>\n",
       "      <td>-500.517572</td>\n",
       "      <td>14.028663</td>\n",
       "      <td>-601.427363</td>\n",
       "    </tr>\n",
       "    <tr>\n",
       "      <th>3</th>\n",
       "      <td>2016-01-15 03:00:00</td>\n",
       "      <td>6.047977</td>\n",
       "      <td>9.977019</td>\n",
       "      <td>4.858634</td>\n",
       "      <td>42.689819</td>\n",
       "      <td>68.347543</td>\n",
       "      <td>10.422762</td>\n",
       "      <td>0.883763</td>\n",
       "      <td>16.532835</td>\n",
       "      <td>2.146849</td>\n",
       "      <td>...</td>\n",
       "      <td>14.036510</td>\n",
       "      <td>-500.857308</td>\n",
       "      <td>11.999550</td>\n",
       "      <td>-501.193686</td>\n",
       "      <td>9.970366</td>\n",
       "      <td>-499.201640</td>\n",
       "      <td>7.977324</td>\n",
       "      <td>-500.255908</td>\n",
       "      <td>14.005551</td>\n",
       "      <td>-599.996129</td>\n",
       "    </tr>\n",
       "    <tr>\n",
       "      <th>4</th>\n",
       "      <td>2016-01-15 04:00:00</td>\n",
       "      <td>6.148599</td>\n",
       "      <td>10.142511</td>\n",
       "      <td>4.939416</td>\n",
       "      <td>42.774141</td>\n",
       "      <td>66.927016</td>\n",
       "      <td>10.360302</td>\n",
       "      <td>0.792826</td>\n",
       "      <td>16.525686</td>\n",
       "      <td>2.055292</td>\n",
       "      <td>...</td>\n",
       "      <td>14.027298</td>\n",
       "      <td>-499.838632</td>\n",
       "      <td>11.953070</td>\n",
       "      <td>-501.053894</td>\n",
       "      <td>9.925709</td>\n",
       "      <td>-501.686727</td>\n",
       "      <td>7.894242</td>\n",
       "      <td>-500.356035</td>\n",
       "      <td>13.996647</td>\n",
       "      <td>-601.496691</td>\n",
       "    </tr>\n",
       "  </tbody>\n",
       "</table>\n",
       "<p>5 rows × 87 columns</p>\n",
       "</div>"
      ],
      "text/plain": [
       "                  date  final.output.concentrate_ag  \\\n",
       "0  2016-01-15 00:00:00                     6.055403   \n",
       "1  2016-01-15 01:00:00                     6.029369   \n",
       "2  2016-01-15 02:00:00                     6.055926   \n",
       "3  2016-01-15 03:00:00                     6.047977   \n",
       "4  2016-01-15 04:00:00                     6.148599   \n",
       "\n",
       "   final.output.concentrate_pb  final.output.concentrate_sol  \\\n",
       "0                     9.889648                      5.507324   \n",
       "1                     9.968944                      5.257781   \n",
       "2                    10.213995                      5.383759   \n",
       "3                     9.977019                      4.858634   \n",
       "4                    10.142511                      4.939416   \n",
       "\n",
       "   final.output.concentrate_au  final.output.recovery  final.output.tail_ag  \\\n",
       "0                    42.192020              70.541216             10.411962   \n",
       "1                    42.701629              69.266198             10.462676   \n",
       "2                    42.657501              68.116445             10.507046   \n",
       "3                    42.689819              68.347543             10.422762   \n",
       "4                    42.774141              66.927016             10.360302   \n",
       "\n",
       "   final.output.tail_pb  final.output.tail_sol  final.output.tail_au  ...  \\\n",
       "0              0.895447              16.904297              2.143149  ...   \n",
       "1              0.927452              16.634514              2.224930  ...   \n",
       "2              0.953716              16.208849              2.257889  ...   \n",
       "3              0.883763              16.532835              2.146849  ...   \n",
       "4              0.792826              16.525686              2.055292  ...   \n",
       "\n",
       "   secondary_cleaner.state.floatbank4_a_air  \\\n",
       "0                                 14.016835   \n",
       "1                                 13.992281   \n",
       "2                                 14.015015   \n",
       "3                                 14.036510   \n",
       "4                                 14.027298   \n",
       "\n",
       "   secondary_cleaner.state.floatbank4_a_level  \\\n",
       "0                                 -502.488007   \n",
       "1                                 -505.503262   \n",
       "2                                 -502.520901   \n",
       "3                                 -500.857308   \n",
       "4                                 -499.838632   \n",
       "\n",
       "   secondary_cleaner.state.floatbank4_b_air  \\\n",
       "0                                 12.099931   \n",
       "1                                 11.950531   \n",
       "2                                 11.912783   \n",
       "3                                 11.999550   \n",
       "4                                 11.953070   \n",
       "\n",
       "   secondary_cleaner.state.floatbank4_b_level  \\\n",
       "0                                 -504.715942   \n",
       "1                                 -501.331529   \n",
       "2                                 -501.133383   \n",
       "3                                 -501.193686   \n",
       "4                                 -501.053894   \n",
       "\n",
       "   secondary_cleaner.state.floatbank5_a_air  \\\n",
       "0                                  9.925633   \n",
       "1                                 10.039245   \n",
       "2                                 10.070913   \n",
       "3                                  9.970366   \n",
       "4                                  9.925709   \n",
       "\n",
       "   secondary_cleaner.state.floatbank5_a_level  \\\n",
       "0                                 -498.310211   \n",
       "1                                 -500.169983   \n",
       "2                                 -500.129135   \n",
       "3                                 -499.201640   \n",
       "4                                 -501.686727   \n",
       "\n",
       "   secondary_cleaner.state.floatbank5_b_air  \\\n",
       "0                                  8.079666   \n",
       "1                                  7.984757   \n",
       "2                                  8.013877   \n",
       "3                                  7.977324   \n",
       "4                                  7.894242   \n",
       "\n",
       "   secondary_cleaner.state.floatbank5_b_level  \\\n",
       "0                                 -500.470978   \n",
       "1                                 -500.582168   \n",
       "2                                 -500.517572   \n",
       "3                                 -500.255908   \n",
       "4                                 -500.356035   \n",
       "\n",
       "   secondary_cleaner.state.floatbank6_a_air  \\\n",
       "0                                 14.151341   \n",
       "1                                 13.998353   \n",
       "2                                 14.028663   \n",
       "3                                 14.005551   \n",
       "4                                 13.996647   \n",
       "\n",
       "   secondary_cleaner.state.floatbank6_a_level  \n",
       "0                                 -605.841980  \n",
       "1                                 -599.787184  \n",
       "2                                 -601.427363  \n",
       "3                                 -599.996129  \n",
       "4                                 -601.496691  \n",
       "\n",
       "[5 rows x 87 columns]"
      ]
     },
     "execution_count": 3,
     "metadata": {},
     "output_type": "execute_result"
    }
   ],
   "source": [
    "df_train.head()"
   ]
  },
  {
   "cell_type": "code",
   "execution_count": 4,
   "metadata": {},
   "outputs": [
    {
     "data": {
      "text/html": [
       "<div>\n",
       "<style scoped>\n",
       "    .dataframe tbody tr th:only-of-type {\n",
       "        vertical-align: middle;\n",
       "    }\n",
       "\n",
       "    .dataframe tbody tr th {\n",
       "        vertical-align: top;\n",
       "    }\n",
       "\n",
       "    .dataframe thead th {\n",
       "        text-align: right;\n",
       "    }\n",
       "</style>\n",
       "<table border=\"1\" class=\"dataframe\">\n",
       "  <thead>\n",
       "    <tr style=\"text-align: right;\">\n",
       "      <th></th>\n",
       "      <th>date</th>\n",
       "      <th>primary_cleaner.input.sulfate</th>\n",
       "      <th>primary_cleaner.input.depressant</th>\n",
       "      <th>primary_cleaner.input.feed_size</th>\n",
       "      <th>primary_cleaner.input.xanthate</th>\n",
       "      <th>primary_cleaner.state.floatbank8_a_air</th>\n",
       "      <th>primary_cleaner.state.floatbank8_a_level</th>\n",
       "      <th>primary_cleaner.state.floatbank8_b_air</th>\n",
       "      <th>primary_cleaner.state.floatbank8_b_level</th>\n",
       "      <th>primary_cleaner.state.floatbank8_c_air</th>\n",
       "      <th>...</th>\n",
       "      <th>secondary_cleaner.state.floatbank4_a_air</th>\n",
       "      <th>secondary_cleaner.state.floatbank4_a_level</th>\n",
       "      <th>secondary_cleaner.state.floatbank4_b_air</th>\n",
       "      <th>secondary_cleaner.state.floatbank4_b_level</th>\n",
       "      <th>secondary_cleaner.state.floatbank5_a_air</th>\n",
       "      <th>secondary_cleaner.state.floatbank5_a_level</th>\n",
       "      <th>secondary_cleaner.state.floatbank5_b_air</th>\n",
       "      <th>secondary_cleaner.state.floatbank5_b_level</th>\n",
       "      <th>secondary_cleaner.state.floatbank6_a_air</th>\n",
       "      <th>secondary_cleaner.state.floatbank6_a_level</th>\n",
       "    </tr>\n",
       "  </thead>\n",
       "  <tbody>\n",
       "    <tr>\n",
       "      <th>0</th>\n",
       "      <td>2016-09-01 00:59:59</td>\n",
       "      <td>210.800909</td>\n",
       "      <td>14.993118</td>\n",
       "      <td>8.080000</td>\n",
       "      <td>1.005021</td>\n",
       "      <td>1398.981301</td>\n",
       "      <td>-500.225577</td>\n",
       "      <td>1399.144926</td>\n",
       "      <td>-499.919735</td>\n",
       "      <td>1400.102998</td>\n",
       "      <td>...</td>\n",
       "      <td>12.023554</td>\n",
       "      <td>-497.795834</td>\n",
       "      <td>8.016656</td>\n",
       "      <td>-501.289139</td>\n",
       "      <td>7.946562</td>\n",
       "      <td>-432.317850</td>\n",
       "      <td>4.872511</td>\n",
       "      <td>-500.037437</td>\n",
       "      <td>26.705889</td>\n",
       "      <td>-499.709414</td>\n",
       "    </tr>\n",
       "    <tr>\n",
       "      <th>1</th>\n",
       "      <td>2016-09-01 01:59:59</td>\n",
       "      <td>215.392455</td>\n",
       "      <td>14.987471</td>\n",
       "      <td>8.080000</td>\n",
       "      <td>0.990469</td>\n",
       "      <td>1398.777912</td>\n",
       "      <td>-500.057435</td>\n",
       "      <td>1398.055362</td>\n",
       "      <td>-499.778182</td>\n",
       "      <td>1396.151033</td>\n",
       "      <td>...</td>\n",
       "      <td>12.058140</td>\n",
       "      <td>-498.695773</td>\n",
       "      <td>8.130979</td>\n",
       "      <td>-499.634209</td>\n",
       "      <td>7.958270</td>\n",
       "      <td>-525.839648</td>\n",
       "      <td>4.878850</td>\n",
       "      <td>-500.162375</td>\n",
       "      <td>25.019940</td>\n",
       "      <td>-499.819438</td>\n",
       "    </tr>\n",
       "    <tr>\n",
       "      <th>2</th>\n",
       "      <td>2016-09-01 02:59:59</td>\n",
       "      <td>215.259946</td>\n",
       "      <td>12.884934</td>\n",
       "      <td>7.786667</td>\n",
       "      <td>0.996043</td>\n",
       "      <td>1398.493666</td>\n",
       "      <td>-500.868360</td>\n",
       "      <td>1398.860436</td>\n",
       "      <td>-499.764529</td>\n",
       "      <td>1398.075709</td>\n",
       "      <td>...</td>\n",
       "      <td>11.962366</td>\n",
       "      <td>-498.767484</td>\n",
       "      <td>8.096893</td>\n",
       "      <td>-500.827423</td>\n",
       "      <td>8.071056</td>\n",
       "      <td>-500.801673</td>\n",
       "      <td>4.905125</td>\n",
       "      <td>-499.828510</td>\n",
       "      <td>24.994862</td>\n",
       "      <td>-500.622559</td>\n",
       "    </tr>\n",
       "    <tr>\n",
       "      <th>3</th>\n",
       "      <td>2016-09-01 03:59:59</td>\n",
       "      <td>215.336236</td>\n",
       "      <td>12.006805</td>\n",
       "      <td>7.640000</td>\n",
       "      <td>0.863514</td>\n",
       "      <td>1399.618111</td>\n",
       "      <td>-498.863574</td>\n",
       "      <td>1397.440120</td>\n",
       "      <td>-499.211024</td>\n",
       "      <td>1400.129303</td>\n",
       "      <td>...</td>\n",
       "      <td>12.033091</td>\n",
       "      <td>-498.350935</td>\n",
       "      <td>8.074946</td>\n",
       "      <td>-499.474407</td>\n",
       "      <td>7.897085</td>\n",
       "      <td>-500.868509</td>\n",
       "      <td>4.931400</td>\n",
       "      <td>-499.963623</td>\n",
       "      <td>24.948919</td>\n",
       "      <td>-498.709987</td>\n",
       "    </tr>\n",
       "    <tr>\n",
       "      <th>4</th>\n",
       "      <td>2016-09-01 04:59:59</td>\n",
       "      <td>199.099327</td>\n",
       "      <td>10.682530</td>\n",
       "      <td>7.530000</td>\n",
       "      <td>0.805575</td>\n",
       "      <td>1401.268123</td>\n",
       "      <td>-500.808305</td>\n",
       "      <td>1398.128818</td>\n",
       "      <td>-499.504543</td>\n",
       "      <td>1402.172226</td>\n",
       "      <td>...</td>\n",
       "      <td>12.025367</td>\n",
       "      <td>-500.786497</td>\n",
       "      <td>8.054678</td>\n",
       "      <td>-500.397500</td>\n",
       "      <td>8.107890</td>\n",
       "      <td>-509.526725</td>\n",
       "      <td>4.957674</td>\n",
       "      <td>-500.360026</td>\n",
       "      <td>25.003331</td>\n",
       "      <td>-500.856333</td>\n",
       "    </tr>\n",
       "  </tbody>\n",
       "</table>\n",
       "<p>5 rows × 53 columns</p>\n",
       "</div>"
      ],
      "text/plain": [
       "                  date  primary_cleaner.input.sulfate  \\\n",
       "0  2016-09-01 00:59:59                     210.800909   \n",
       "1  2016-09-01 01:59:59                     215.392455   \n",
       "2  2016-09-01 02:59:59                     215.259946   \n",
       "3  2016-09-01 03:59:59                     215.336236   \n",
       "4  2016-09-01 04:59:59                     199.099327   \n",
       "\n",
       "   primary_cleaner.input.depressant  primary_cleaner.input.feed_size  \\\n",
       "0                         14.993118                         8.080000   \n",
       "1                         14.987471                         8.080000   \n",
       "2                         12.884934                         7.786667   \n",
       "3                         12.006805                         7.640000   \n",
       "4                         10.682530                         7.530000   \n",
       "\n",
       "   primary_cleaner.input.xanthate  primary_cleaner.state.floatbank8_a_air  \\\n",
       "0                        1.005021                             1398.981301   \n",
       "1                        0.990469                             1398.777912   \n",
       "2                        0.996043                             1398.493666   \n",
       "3                        0.863514                             1399.618111   \n",
       "4                        0.805575                             1401.268123   \n",
       "\n",
       "   primary_cleaner.state.floatbank8_a_level  \\\n",
       "0                               -500.225577   \n",
       "1                               -500.057435   \n",
       "2                               -500.868360   \n",
       "3                               -498.863574   \n",
       "4                               -500.808305   \n",
       "\n",
       "   primary_cleaner.state.floatbank8_b_air  \\\n",
       "0                             1399.144926   \n",
       "1                             1398.055362   \n",
       "2                             1398.860436   \n",
       "3                             1397.440120   \n",
       "4                             1398.128818   \n",
       "\n",
       "   primary_cleaner.state.floatbank8_b_level  \\\n",
       "0                               -499.919735   \n",
       "1                               -499.778182   \n",
       "2                               -499.764529   \n",
       "3                               -499.211024   \n",
       "4                               -499.504543   \n",
       "\n",
       "   primary_cleaner.state.floatbank8_c_air  ...  \\\n",
       "0                             1400.102998  ...   \n",
       "1                             1396.151033  ...   \n",
       "2                             1398.075709  ...   \n",
       "3                             1400.129303  ...   \n",
       "4                             1402.172226  ...   \n",
       "\n",
       "   secondary_cleaner.state.floatbank4_a_air  \\\n",
       "0                                 12.023554   \n",
       "1                                 12.058140   \n",
       "2                                 11.962366   \n",
       "3                                 12.033091   \n",
       "4                                 12.025367   \n",
       "\n",
       "   secondary_cleaner.state.floatbank4_a_level  \\\n",
       "0                                 -497.795834   \n",
       "1                                 -498.695773   \n",
       "2                                 -498.767484   \n",
       "3                                 -498.350935   \n",
       "4                                 -500.786497   \n",
       "\n",
       "   secondary_cleaner.state.floatbank4_b_air  \\\n",
       "0                                  8.016656   \n",
       "1                                  8.130979   \n",
       "2                                  8.096893   \n",
       "3                                  8.074946   \n",
       "4                                  8.054678   \n",
       "\n",
       "   secondary_cleaner.state.floatbank4_b_level  \\\n",
       "0                                 -501.289139   \n",
       "1                                 -499.634209   \n",
       "2                                 -500.827423   \n",
       "3                                 -499.474407   \n",
       "4                                 -500.397500   \n",
       "\n",
       "   secondary_cleaner.state.floatbank5_a_air  \\\n",
       "0                                  7.946562   \n",
       "1                                  7.958270   \n",
       "2                                  8.071056   \n",
       "3                                  7.897085   \n",
       "4                                  8.107890   \n",
       "\n",
       "   secondary_cleaner.state.floatbank5_a_level  \\\n",
       "0                                 -432.317850   \n",
       "1                                 -525.839648   \n",
       "2                                 -500.801673   \n",
       "3                                 -500.868509   \n",
       "4                                 -509.526725   \n",
       "\n",
       "   secondary_cleaner.state.floatbank5_b_air  \\\n",
       "0                                  4.872511   \n",
       "1                                  4.878850   \n",
       "2                                  4.905125   \n",
       "3                                  4.931400   \n",
       "4                                  4.957674   \n",
       "\n",
       "   secondary_cleaner.state.floatbank5_b_level  \\\n",
       "0                                 -500.037437   \n",
       "1                                 -500.162375   \n",
       "2                                 -499.828510   \n",
       "3                                 -499.963623   \n",
       "4                                 -500.360026   \n",
       "\n",
       "   secondary_cleaner.state.floatbank6_a_air  \\\n",
       "0                                 26.705889   \n",
       "1                                 25.019940   \n",
       "2                                 24.994862   \n",
       "3                                 24.948919   \n",
       "4                                 25.003331   \n",
       "\n",
       "   secondary_cleaner.state.floatbank6_a_level  \n",
       "0                                 -499.709414  \n",
       "1                                 -499.819438  \n",
       "2                                 -500.622559  \n",
       "3                                 -498.709987  \n",
       "4                                 -500.856333  \n",
       "\n",
       "[5 rows x 53 columns]"
      ]
     },
     "execution_count": 4,
     "metadata": {},
     "output_type": "execute_result"
    }
   ],
   "source": [
    "df_test.head()"
   ]
  },
  {
   "cell_type": "code",
   "execution_count": 5,
   "metadata": {},
   "outputs": [
    {
     "data": {
      "text/html": [
       "<div>\n",
       "<style scoped>\n",
       "    .dataframe tbody tr th:only-of-type {\n",
       "        vertical-align: middle;\n",
       "    }\n",
       "\n",
       "    .dataframe tbody tr th {\n",
       "        vertical-align: top;\n",
       "    }\n",
       "\n",
       "    .dataframe thead th {\n",
       "        text-align: right;\n",
       "    }\n",
       "</style>\n",
       "<table border=\"1\" class=\"dataframe\">\n",
       "  <thead>\n",
       "    <tr style=\"text-align: right;\">\n",
       "      <th></th>\n",
       "      <th>date</th>\n",
       "      <th>final.output.concentrate_ag</th>\n",
       "      <th>final.output.concentrate_pb</th>\n",
       "      <th>final.output.concentrate_sol</th>\n",
       "      <th>final.output.concentrate_au</th>\n",
       "      <th>final.output.recovery</th>\n",
       "      <th>final.output.tail_ag</th>\n",
       "      <th>final.output.tail_pb</th>\n",
       "      <th>final.output.tail_sol</th>\n",
       "      <th>final.output.tail_au</th>\n",
       "      <th>...</th>\n",
       "      <th>secondary_cleaner.state.floatbank4_a_air</th>\n",
       "      <th>secondary_cleaner.state.floatbank4_a_level</th>\n",
       "      <th>secondary_cleaner.state.floatbank4_b_air</th>\n",
       "      <th>secondary_cleaner.state.floatbank4_b_level</th>\n",
       "      <th>secondary_cleaner.state.floatbank5_a_air</th>\n",
       "      <th>secondary_cleaner.state.floatbank5_a_level</th>\n",
       "      <th>secondary_cleaner.state.floatbank5_b_air</th>\n",
       "      <th>secondary_cleaner.state.floatbank5_b_level</th>\n",
       "      <th>secondary_cleaner.state.floatbank6_a_air</th>\n",
       "      <th>secondary_cleaner.state.floatbank6_a_level</th>\n",
       "    </tr>\n",
       "  </thead>\n",
       "  <tbody>\n",
       "    <tr>\n",
       "      <th>0</th>\n",
       "      <td>2016-01-15 00:00:00</td>\n",
       "      <td>6.055403</td>\n",
       "      <td>9.889648</td>\n",
       "      <td>5.507324</td>\n",
       "      <td>42.192020</td>\n",
       "      <td>70.541216</td>\n",
       "      <td>10.411962</td>\n",
       "      <td>0.895447</td>\n",
       "      <td>16.904297</td>\n",
       "      <td>2.143149</td>\n",
       "      <td>...</td>\n",
       "      <td>14.016835</td>\n",
       "      <td>-502.488007</td>\n",
       "      <td>12.099931</td>\n",
       "      <td>-504.715942</td>\n",
       "      <td>9.925633</td>\n",
       "      <td>-498.310211</td>\n",
       "      <td>8.079666</td>\n",
       "      <td>-500.470978</td>\n",
       "      <td>14.151341</td>\n",
       "      <td>-605.841980</td>\n",
       "    </tr>\n",
       "    <tr>\n",
       "      <th>1</th>\n",
       "      <td>2016-01-15 01:00:00</td>\n",
       "      <td>6.029369</td>\n",
       "      <td>9.968944</td>\n",
       "      <td>5.257781</td>\n",
       "      <td>42.701629</td>\n",
       "      <td>69.266198</td>\n",
       "      <td>10.462676</td>\n",
       "      <td>0.927452</td>\n",
       "      <td>16.634514</td>\n",
       "      <td>2.224930</td>\n",
       "      <td>...</td>\n",
       "      <td>13.992281</td>\n",
       "      <td>-505.503262</td>\n",
       "      <td>11.950531</td>\n",
       "      <td>-501.331529</td>\n",
       "      <td>10.039245</td>\n",
       "      <td>-500.169983</td>\n",
       "      <td>7.984757</td>\n",
       "      <td>-500.582168</td>\n",
       "      <td>13.998353</td>\n",
       "      <td>-599.787184</td>\n",
       "    </tr>\n",
       "    <tr>\n",
       "      <th>2</th>\n",
       "      <td>2016-01-15 02:00:00</td>\n",
       "      <td>6.055926</td>\n",
       "      <td>10.213995</td>\n",
       "      <td>5.383759</td>\n",
       "      <td>42.657501</td>\n",
       "      <td>68.116445</td>\n",
       "      <td>10.507046</td>\n",
       "      <td>0.953716</td>\n",
       "      <td>16.208849</td>\n",
       "      <td>2.257889</td>\n",
       "      <td>...</td>\n",
       "      <td>14.015015</td>\n",
       "      <td>-502.520901</td>\n",
       "      <td>11.912783</td>\n",
       "      <td>-501.133383</td>\n",
       "      <td>10.070913</td>\n",
       "      <td>-500.129135</td>\n",
       "      <td>8.013877</td>\n",
       "      <td>-500.517572</td>\n",
       "      <td>14.028663</td>\n",
       "      <td>-601.427363</td>\n",
       "    </tr>\n",
       "    <tr>\n",
       "      <th>3</th>\n",
       "      <td>2016-01-15 03:00:00</td>\n",
       "      <td>6.047977</td>\n",
       "      <td>9.977019</td>\n",
       "      <td>4.858634</td>\n",
       "      <td>42.689819</td>\n",
       "      <td>68.347543</td>\n",
       "      <td>10.422762</td>\n",
       "      <td>0.883763</td>\n",
       "      <td>16.532835</td>\n",
       "      <td>2.146849</td>\n",
       "      <td>...</td>\n",
       "      <td>14.036510</td>\n",
       "      <td>-500.857308</td>\n",
       "      <td>11.999550</td>\n",
       "      <td>-501.193686</td>\n",
       "      <td>9.970366</td>\n",
       "      <td>-499.201640</td>\n",
       "      <td>7.977324</td>\n",
       "      <td>-500.255908</td>\n",
       "      <td>14.005551</td>\n",
       "      <td>-599.996129</td>\n",
       "    </tr>\n",
       "    <tr>\n",
       "      <th>4</th>\n",
       "      <td>2016-01-15 04:00:00</td>\n",
       "      <td>6.148599</td>\n",
       "      <td>10.142511</td>\n",
       "      <td>4.939416</td>\n",
       "      <td>42.774141</td>\n",
       "      <td>66.927016</td>\n",
       "      <td>10.360302</td>\n",
       "      <td>0.792826</td>\n",
       "      <td>16.525686</td>\n",
       "      <td>2.055292</td>\n",
       "      <td>...</td>\n",
       "      <td>14.027298</td>\n",
       "      <td>-499.838632</td>\n",
       "      <td>11.953070</td>\n",
       "      <td>-501.053894</td>\n",
       "      <td>9.925709</td>\n",
       "      <td>-501.686727</td>\n",
       "      <td>7.894242</td>\n",
       "      <td>-500.356035</td>\n",
       "      <td>13.996647</td>\n",
       "      <td>-601.496691</td>\n",
       "    </tr>\n",
       "  </tbody>\n",
       "</table>\n",
       "<p>5 rows × 87 columns</p>\n",
       "</div>"
      ],
      "text/plain": [
       "                  date  final.output.concentrate_ag  \\\n",
       "0  2016-01-15 00:00:00                     6.055403   \n",
       "1  2016-01-15 01:00:00                     6.029369   \n",
       "2  2016-01-15 02:00:00                     6.055926   \n",
       "3  2016-01-15 03:00:00                     6.047977   \n",
       "4  2016-01-15 04:00:00                     6.148599   \n",
       "\n",
       "   final.output.concentrate_pb  final.output.concentrate_sol  \\\n",
       "0                     9.889648                      5.507324   \n",
       "1                     9.968944                      5.257781   \n",
       "2                    10.213995                      5.383759   \n",
       "3                     9.977019                      4.858634   \n",
       "4                    10.142511                      4.939416   \n",
       "\n",
       "   final.output.concentrate_au  final.output.recovery  final.output.tail_ag  \\\n",
       "0                    42.192020              70.541216             10.411962   \n",
       "1                    42.701629              69.266198             10.462676   \n",
       "2                    42.657501              68.116445             10.507046   \n",
       "3                    42.689819              68.347543             10.422762   \n",
       "4                    42.774141              66.927016             10.360302   \n",
       "\n",
       "   final.output.tail_pb  final.output.tail_sol  final.output.tail_au  ...  \\\n",
       "0              0.895447              16.904297              2.143149  ...   \n",
       "1              0.927452              16.634514              2.224930  ...   \n",
       "2              0.953716              16.208849              2.257889  ...   \n",
       "3              0.883763              16.532835              2.146849  ...   \n",
       "4              0.792826              16.525686              2.055292  ...   \n",
       "\n",
       "   secondary_cleaner.state.floatbank4_a_air  \\\n",
       "0                                 14.016835   \n",
       "1                                 13.992281   \n",
       "2                                 14.015015   \n",
       "3                                 14.036510   \n",
       "4                                 14.027298   \n",
       "\n",
       "   secondary_cleaner.state.floatbank4_a_level  \\\n",
       "0                                 -502.488007   \n",
       "1                                 -505.503262   \n",
       "2                                 -502.520901   \n",
       "3                                 -500.857308   \n",
       "4                                 -499.838632   \n",
       "\n",
       "   secondary_cleaner.state.floatbank4_b_air  \\\n",
       "0                                 12.099931   \n",
       "1                                 11.950531   \n",
       "2                                 11.912783   \n",
       "3                                 11.999550   \n",
       "4                                 11.953070   \n",
       "\n",
       "   secondary_cleaner.state.floatbank4_b_level  \\\n",
       "0                                 -504.715942   \n",
       "1                                 -501.331529   \n",
       "2                                 -501.133383   \n",
       "3                                 -501.193686   \n",
       "4                                 -501.053894   \n",
       "\n",
       "   secondary_cleaner.state.floatbank5_a_air  \\\n",
       "0                                  9.925633   \n",
       "1                                 10.039245   \n",
       "2                                 10.070913   \n",
       "3                                  9.970366   \n",
       "4                                  9.925709   \n",
       "\n",
       "   secondary_cleaner.state.floatbank5_a_level  \\\n",
       "0                                 -498.310211   \n",
       "1                                 -500.169983   \n",
       "2                                 -500.129135   \n",
       "3                                 -499.201640   \n",
       "4                                 -501.686727   \n",
       "\n",
       "   secondary_cleaner.state.floatbank5_b_air  \\\n",
       "0                                  8.079666   \n",
       "1                                  7.984757   \n",
       "2                                  8.013877   \n",
       "3                                  7.977324   \n",
       "4                                  7.894242   \n",
       "\n",
       "   secondary_cleaner.state.floatbank5_b_level  \\\n",
       "0                                 -500.470978   \n",
       "1                                 -500.582168   \n",
       "2                                 -500.517572   \n",
       "3                                 -500.255908   \n",
       "4                                 -500.356035   \n",
       "\n",
       "   secondary_cleaner.state.floatbank6_a_air  \\\n",
       "0                                 14.151341   \n",
       "1                                 13.998353   \n",
       "2                                 14.028663   \n",
       "3                                 14.005551   \n",
       "4                                 13.996647   \n",
       "\n",
       "   secondary_cleaner.state.floatbank6_a_level  \n",
       "0                                 -605.841980  \n",
       "1                                 -599.787184  \n",
       "2                                 -601.427363  \n",
       "3                                 -599.996129  \n",
       "4                                 -601.496691  \n",
       "\n",
       "[5 rows x 87 columns]"
      ]
     },
     "execution_count": 5,
     "metadata": {},
     "output_type": "execute_result"
    }
   ],
   "source": [
    "df.head()"
   ]
  },
  {
   "cell_type": "markdown",
   "metadata": {},
   "source": [
    "**1. Prepare the data:**"
   ]
  },
  {
   "cell_type": "code",
   "execution_count": 6,
   "metadata": {},
   "outputs": [],
   "source": [
    "df_train['date'] = pd.to_datetime(df_train['date'])\n",
    "df_test['date'] = pd.to_datetime(df_test['date'])\n",
    "df['date'] = pd.to_datetime(df['date'])"
   ]
  },
  {
   "cell_type": "code",
   "execution_count": 7,
   "metadata": {},
   "outputs": [],
   "source": [
    "#1.2.Let's check if the recovery is calculated correctly.\n",
    "#Using the training set, calculate recovery for the rougher.output.recovery feature. \n",
    "#We will start by writing a function for calculating recovery.\n",
    "def recovery(c,f,t):\n",
    "    recovery = ((c*(f-t))/ (f*(c-t)))*100\n",
    "    return recovery"
   ]
  },
  {
   "cell_type": "code",
   "execution_count": 8,
   "metadata": {},
   "outputs": [
    {
     "data": {
      "text/plain": [
       "date                                            0\n",
       "final.output.concentrate_ag                    72\n",
       "final.output.concentrate_pb                    72\n",
       "final.output.concentrate_sol                  370\n",
       "final.output.concentrate_au                    71\n",
       "                                             ... \n",
       "secondary_cleaner.state.floatbank5_a_level     85\n",
       "secondary_cleaner.state.floatbank5_b_air       85\n",
       "secondary_cleaner.state.floatbank5_b_level     84\n",
       "secondary_cleaner.state.floatbank6_a_air      103\n",
       "secondary_cleaner.state.floatbank6_a_level     85\n",
       "Length: 87, dtype: int64"
      ]
     },
     "execution_count": 8,
     "metadata": {},
     "output_type": "execute_result"
    }
   ],
   "source": [
    "#We will look for missing values:\n",
    "df_train.isnull().sum()"
   ]
  },
  {
   "cell_type": "code",
   "execution_count": 9,
   "metadata": {},
   "outputs": [],
   "source": [
    "df_train.dropna(inplace=True)"
   ]
  },
  {
   "cell_type": "code",
   "execution_count": 10,
   "metadata": {},
   "outputs": [
    {
     "data": {
      "text/plain": [
       "0        87.107763\n",
       "1        86.843261\n",
       "2        86.842308\n",
       "3        87.226430\n",
       "4        86.688794\n",
       "           ...    \n",
       "16855    89.574376\n",
       "16856    87.724007\n",
       "16857    88.890579\n",
       "16858    89.858126\n",
       "16859    89.514960\n",
       "Name: test_recovery, Length: 11017, dtype: float64"
      ]
     },
     "execution_count": 10,
     "metadata": {},
     "output_type": "execute_result"
    }
   ],
   "source": [
    "c= df_train['rougher.output.concentrate_au']\n",
    "f= df_train['rougher.input.feed_au']\n",
    "t= df_train['rougher.output.tail_au']\n",
    "df_train['test_recovery'] = recovery(c,f,t)\n",
    "df_train['test_recovery']"
   ]
  },
  {
   "cell_type": "code",
   "execution_count": 11,
   "metadata": {},
   "outputs": [
    {
     "data": {
      "text/plain": [
       "0        87.107763\n",
       "1        86.843261\n",
       "2        86.842308\n",
       "3        87.226430\n",
       "4        86.688794\n",
       "           ...    \n",
       "22711    89.574376\n",
       "22712    87.724007\n",
       "22713    88.890579\n",
       "22714    89.858126\n",
       "22715    89.514960\n",
       "Name: test_recovery, Length: 22716, dtype: float64"
      ]
     },
     "execution_count": 11,
     "metadata": {},
     "output_type": "execute_result"
    }
   ],
   "source": [
    "c= df['rougher.output.concentrate_au']\n",
    "f= df['rougher.input.feed_au']\n",
    "t= df['rougher.output.tail_au']\n",
    "df['test_recovery'] = recovery(c,f,t)\n",
    "df['test_recovery']"
   ]
  },
  {
   "cell_type": "code",
   "execution_count": 12,
   "metadata": {},
   "outputs": [
    {
     "data": {
      "text/plain": [
       "9.460144184559453e-15"
      ]
     },
     "execution_count": 12,
     "metadata": {},
     "output_type": "execute_result"
    }
   ],
   "source": [
    "#We will now check the MAE of our results against the calculation of the data set.\n",
    "mean_absolute_error(df_train['test_recovery'], df_train['rougher.output.recovery'])"
   ]
  },
  {
   "cell_type": "markdown",
   "metadata": {},
   "source": [
    "Their recovery calculation is almost exactly the same as our calculation, we can continue."
   ]
  },
  {
   "cell_type": "code",
   "execution_count": 13,
   "metadata": {},
   "outputs": [
    {
     "data": {
      "text/plain": [
       "date                                          0\n",
       "final.output.concentrate_ag                   0\n",
       "final.output.concentrate_pb                   0\n",
       "final.output.concentrate_sol                  0\n",
       "final.output.concentrate_au                   0\n",
       "                                             ..\n",
       "secondary_cleaner.state.floatbank5_b_air      0\n",
       "secondary_cleaner.state.floatbank5_b_level    0\n",
       "secondary_cleaner.state.floatbank6_a_air      0\n",
       "secondary_cleaner.state.floatbank6_a_level    0\n",
       "test_recovery                                 0\n",
       "Length: 88, dtype: int64"
      ]
     },
     "execution_count": 13,
     "metadata": {},
     "output_type": "execute_result"
    }
   ],
   "source": [
    "#Their recovery calculation is almost exactly the same as our calculation, we can continue.\n",
    "df_train.isnull().sum()"
   ]
  },
  {
   "cell_type": "code",
   "execution_count": 14,
   "metadata": {},
   "outputs": [
    {
     "data": {
      "text/plain": [
       "date                                          0.0\n",
       "primary_cleaner.input.sulfate                 0.0\n",
       "primary_cleaner.input.depressant              0.0\n",
       "primary_cleaner.input.feed_size               0.0\n",
       "primary_cleaner.input.xanthate                0.0\n",
       "primary_cleaner.state.floatbank8_a_air        0.0\n",
       "primary_cleaner.state.floatbank8_a_level      0.0\n",
       "primary_cleaner.state.floatbank8_b_air        0.0\n",
       "primary_cleaner.state.floatbank8_b_level      0.0\n",
       "primary_cleaner.state.floatbank8_c_air        0.0\n",
       "primary_cleaner.state.floatbank8_c_level      0.0\n",
       "primary_cleaner.state.floatbank8_d_air        0.0\n",
       "primary_cleaner.state.floatbank8_d_level      0.0\n",
       "rougher.input.feed_ag                         0.0\n",
       "rougher.input.feed_pb                         0.0\n",
       "rougher.input.feed_rate                       0.0\n",
       "rougher.input.feed_size                       0.0\n",
       "rougher.input.feed_sol                        0.0\n",
       "rougher.input.feed_au                         0.0\n",
       "rougher.input.floatbank10_sulfate             0.0\n",
       "rougher.input.floatbank10_xanthate            0.0\n",
       "rougher.input.floatbank11_sulfate             0.0\n",
       "rougher.input.floatbank11_xanthate            0.0\n",
       "rougher.state.floatbank10_a_air               0.0\n",
       "rougher.state.floatbank10_a_level             0.0\n",
       "rougher.state.floatbank10_b_air               0.0\n",
       "rougher.state.floatbank10_b_level             0.0\n",
       "rougher.state.floatbank10_c_air               0.0\n",
       "rougher.state.floatbank10_c_level             0.0\n",
       "rougher.state.floatbank10_d_air               0.0\n",
       "rougher.state.floatbank10_d_level             0.0\n",
       "rougher.state.floatbank10_e_air               0.0\n",
       "rougher.state.floatbank10_e_level             0.0\n",
       "rougher.state.floatbank10_f_air               0.0\n",
       "rougher.state.floatbank10_f_level             0.0\n",
       "secondary_cleaner.state.floatbank2_a_air      0.0\n",
       "secondary_cleaner.state.floatbank2_a_level    0.0\n",
       "secondary_cleaner.state.floatbank2_b_air      0.0\n",
       "secondary_cleaner.state.floatbank2_b_level    0.0\n",
       "secondary_cleaner.state.floatbank3_a_air      0.0\n",
       "secondary_cleaner.state.floatbank3_a_level    0.0\n",
       "secondary_cleaner.state.floatbank3_b_air      0.0\n",
       "secondary_cleaner.state.floatbank3_b_level    0.0\n",
       "secondary_cleaner.state.floatbank4_a_air      0.0\n",
       "secondary_cleaner.state.floatbank4_a_level    0.0\n",
       "secondary_cleaner.state.floatbank4_b_air      0.0\n",
       "secondary_cleaner.state.floatbank4_b_level    0.0\n",
       "secondary_cleaner.state.floatbank5_a_air      0.0\n",
       "secondary_cleaner.state.floatbank5_a_level    0.0\n",
       "secondary_cleaner.state.floatbank5_b_air      0.0\n",
       "secondary_cleaner.state.floatbank5_b_level    0.0\n",
       "secondary_cleaner.state.floatbank6_a_air      0.0\n",
       "secondary_cleaner.state.floatbank6_a_level    0.0\n",
       "dtype: float64"
      ]
     },
     "execution_count": 14,
     "metadata": {},
     "output_type": "execute_result"
    }
   ],
   "source": [
    "df_test.dropna(inplace=True)\n",
    "df_test.isnull().sum()/len(df_train)"
   ]
  },
  {
   "cell_type": "code",
   "execution_count": 15,
   "metadata": {},
   "outputs": [
    {
     "data": {
      "text/plain": [
       "{'final.output.concentrate_ag',\n",
       " 'final.output.concentrate_au',\n",
       " 'final.output.concentrate_pb',\n",
       " 'final.output.concentrate_sol',\n",
       " 'final.output.recovery',\n",
       " 'final.output.tail_ag',\n",
       " 'final.output.tail_au',\n",
       " 'final.output.tail_pb',\n",
       " 'final.output.tail_sol',\n",
       " 'primary_cleaner.output.concentrate_ag',\n",
       " 'primary_cleaner.output.concentrate_au',\n",
       " 'primary_cleaner.output.concentrate_pb',\n",
       " 'primary_cleaner.output.concentrate_sol',\n",
       " 'primary_cleaner.output.tail_ag',\n",
       " 'primary_cleaner.output.tail_au',\n",
       " 'primary_cleaner.output.tail_pb',\n",
       " 'primary_cleaner.output.tail_sol',\n",
       " 'rougher.calculation.au_pb_ratio',\n",
       " 'rougher.calculation.floatbank10_sulfate_to_au_feed',\n",
       " 'rougher.calculation.floatbank11_sulfate_to_au_feed',\n",
       " 'rougher.calculation.sulfate_to_au_concentrate',\n",
       " 'rougher.output.concentrate_ag',\n",
       " 'rougher.output.concentrate_au',\n",
       " 'rougher.output.concentrate_pb',\n",
       " 'rougher.output.concentrate_sol',\n",
       " 'rougher.output.recovery',\n",
       " 'rougher.output.tail_ag',\n",
       " 'rougher.output.tail_au',\n",
       " 'rougher.output.tail_pb',\n",
       " 'rougher.output.tail_sol',\n",
       " 'secondary_cleaner.output.tail_ag',\n",
       " 'secondary_cleaner.output.tail_au',\n",
       " 'secondary_cleaner.output.tail_pb',\n",
       " 'secondary_cleaner.output.tail_sol',\n",
       " 'test_recovery'}"
      ]
     },
     "execution_count": 15,
     "metadata": {},
     "output_type": "execute_result"
    }
   ],
   "source": [
    "#Let's check if there are different parameters between the training data set and the test data set.\n",
    "ex_col=set(df_train) - set(df_test)\n",
    "ex_col"
   ]
  },
  {
   "cell_type": "markdown",
   "metadata": {},
   "source": [
    "What all these columns have in common is that they are all results of calculations or output of a particular stage.\n",
    "In our test data set we only have data on input, so it is more convenient to work that the two data sets are coordinated."
   ]
  },
  {
   "cell_type": "code",
   "execution_count": 16,
   "metadata": {},
   "outputs": [],
   "source": [
    "#We will delete all the columns that are not common to the two data sets,\n",
    "#so that the model training will be on the same types of columns.\n",
    "df_train.drop(columns=ex_col, inplace=True)"
   ]
  },
  {
   "cell_type": "code",
   "execution_count": 17,
   "metadata": {},
   "outputs": [
    {
     "data": {
      "text/plain": [
       "0"
      ]
     },
     "execution_count": 17,
     "metadata": {},
     "output_type": "execute_result"
    }
   ],
   "source": [
    "#We will check duplicates:\n",
    "df_train.duplicated().sum()"
   ]
  },
  {
   "cell_type": "code",
   "execution_count": 18,
   "metadata": {},
   "outputs": [
    {
     "data": {
      "text/plain": [
       "0"
      ]
     },
     "execution_count": 18,
     "metadata": {},
     "output_type": "execute_result"
    }
   ],
   "source": [
    "df_test.duplicated().sum()"
   ]
  },
  {
   "cell_type": "code",
   "execution_count": 19,
   "metadata": {},
   "outputs": [
    {
     "data": {
      "text/plain": [
       "0"
      ]
     },
     "execution_count": 19,
     "metadata": {},
     "output_type": "execute_result"
    }
   ],
   "source": [
    "df.duplicated().sum()"
   ]
  },
  {
   "cell_type": "markdown",
   "metadata": {},
   "source": [
    "Steps done so far:\n",
    "\n",
    "1.Load the data set.\n",
    "\n",
    "2.Changing the date columns.\n",
    "\n",
    "3.Search for missing values - found and deleted.\n",
    "\n",
    "4.Check the MAE calculation of the data set - found to be correct.\n",
    "\n",
    "5.Duplicate Search - Not Found.\n",
    "\n",
    "Our database is ready."
   ]
  },
  {
   "cell_type": "markdown",
   "metadata": {},
   "source": [
    "***2. Analyze the data***"
   ]
  },
  {
   "cell_type": "code",
   "execution_count": 20,
   "metadata": {},
   "outputs": [],
   "source": [
    "df_train_n = pd.read_csv('/datasets/gold_recovery_train.csv')\n",
    "targets = ['final.output.recovery', 'rougher.output.recovery']\n",
    "df_train_n.dropna(subset=targets, inplace=True)\n",
    "df_train_n.fillna(method='ffill', inplace=True)"
   ]
  },
  {
   "cell_type": "code",
   "execution_count": 21,
   "metadata": {},
   "outputs": [
    {
     "name": "stderr",
     "output_type": "stream",
     "text": [
      "/tmp/ipykernel_31/563922278.py:10: MatplotlibDeprecationWarning: Adding an axes using the same arguments as a previous axes currently reuses the earlier instance.  In a future version, a new instance will always be created and returned.  Meanwhile, this warning can be suppressed, and the future behavior ensured, by passing a unique label to each axes instance.\n",
      "  plt.subplot(3,1,i+1)\n"
     ]
    },
    {
     "data": {
      "image/png": "[encoded data removed]",
      "text/plain": [
       "<Figure size 864x432 with 3 Axes>"
      ]
     },
     "metadata": {
      "needs_background": "light"
     },
     "output_type": "display_data"
    }
   ],
   "source": [
    "#2.1. Take note of how the concentrations of metals (Au, Ag, Pb)\n",
    "#change depending on the purification stage.\n",
    "\n",
    "metals = ['au', 'ag', 'pb']\n",
    "columns = ['rougher.output.concentrate', 'primary_cleaner.output.concentrate', 'final.output.concentrate']\n",
    "\n",
    "fig = plt.figure(figsize = (12,6))\n",
    "for i,metal in enumerate(metals):\n",
    "    for col in columns:\n",
    "        plt.subplot(3,1,i+1)\n",
    "        plt.hist(df_train_n[col+'_'+metal],bins=100,label=col+'_'+metal,alpha=0.5);\n",
    "    plt.title(metal)  \n",
    "    \n",
    "    plt.legend()\n",
    "plt.tight_layout()\n",
    "plt.show()"
   ]
  },
  {
   "cell_type": "markdown",
   "metadata": {},
   "source": [
    "Findings:\n",
    "\n",
    "1.As the cleaning stages progress, the concentration of au increases.\n",
    "\n",
    "2.As the cleaning stages progress, the ag concentration decreases.\n",
    "\n",
    "3.The pb rises after the first stage, but remains almost the same between the second and third stages."
   ]
  },
  {
   "cell_type": "markdown",
   "metadata": {},
   "source": [
    "<div class=\"alert alert-success\">\n",
    "<b>Reviewer's comment</b>\n",
    "\n",
    "Ok, makes sense!\n",
    "    \n",
    "\n",
    "</div>"
   ]
  },
  {
   "cell_type": "code",
   "execution_count": 22,
   "metadata": {},
   "outputs": [
    {
     "name": "stderr",
     "output_type": "stream",
     "text": [
      "/opt/conda/lib/python3.9/site-packages/seaborn/distributions.py:2557: FutureWarning: `distplot` is a deprecated function and will be removed in a future version. Please adapt your code to use either `displot` (a figure-level function with similar flexibility) or `histplot` (an axes-level function for histograms).\n",
      "  warnings.warn(msg, FutureWarning)\n"
     ]
    },
    {
     "data": {
      "image/png": "[encoded data removed]",
      "text/plain": [
       "<Figure size 864x432 with 1 Axes>"
      ]
     },
     "metadata": {
      "needs_background": "light"
     },
     "output_type": "display_data"
    }
   ],
   "source": [
    "#2.2. Compare the feed particle size distributions in the training set and in the test set.\n",
    "#If the distributions vary significantly, the model evaluation will be incorrect.\n",
    "#Plot Data\n",
    "fig, ax = plt.subplots(figsize = (12,6))\n",
    "sns.distplot(df_train['rougher.input.feed_size'], bins=25, color=\"g\", ax=ax)\n",
    "plt.show()"
   ]
  },
  {
   "cell_type": "code",
   "execution_count": 23,
   "metadata": {},
   "outputs": [
    {
     "name": "stderr",
     "output_type": "stream",
     "text": [
      "/opt/conda/lib/python3.9/site-packages/seaborn/distributions.py:2557: FutureWarning: `distplot` is a deprecated function and will be removed in a future version. Please adapt your code to use either `displot` (a figure-level function with similar flexibility) or `histplot` (an axes-level function for histograms).\n",
      "  warnings.warn(msg, FutureWarning)\n"
     ]
    },
    {
     "data": {
      "image/png": "[encoded data removed]",
      "text/plain": [
       "<Figure size 864x432 with 1 Axes>"
      ]
     },
     "metadata": {
      "needs_background": "light"
     },
     "output_type": "display_data"
    }
   ],
   "source": [
    "#Plot Data\n",
    "fig, ax = plt.subplots(figsize = (12,6))\n",
    "sns.distplot(df_test['rougher.input.feed_size'], bins=25, color=\"g\", ax=ax)\n",
    "plt.show()"
   ]
  },
  {
   "cell_type": "markdown",
   "metadata": {},
   "source": [
    "The distribution of data sets is almost identical."
   ]
  },
  {
   "cell_type": "markdown",
   "metadata": {},
   "source": [
    "2.3. Consider the total concentrations of all substances at different stages: raw feed, rougher concentrate, \n",
    "and final concentrate. Do you notice any abnormal values in the total distribution?If you do,\n",
    "is it worth removing such values from both samples? Describe the findings and eliminate anomalies."
   ]
  },
  {
   "cell_type": "markdown",
   "metadata": {},
   "source": [
    "In task 2.1 we can see in the graph that there are a number of values ​​that are around 0, these are the exceptions in our data set and we will now remove them."
   ]
  },
  {
   "cell_type": "code",
   "execution_count": 24,
   "metadata": {},
   "outputs": [],
   "source": [
    "metals = ['au', 'ag', 'pb']\n",
    "columns = ['rougher.output.concentrate', 'primary_cleaner.output.concentrate', 'final.output.concentrate']\n",
    "\n",
    "for i,metal in enumerate(metals):\n",
    "    for col in columns:\n",
    "        df_train_n[df_train_n[col+'_'+metal]<0.01]=np.nan\n",
    "        \n",
    "        \n",
    "for col in ['final.output.recovery', 'rougher.output.recovery']:\n",
    "    df_train_n[df_train_n[col]<0.01]=np.nan\n",
    "    \n",
    "df_train_n.dropna(subset=['final.output.recovery', 'rougher.output.recovery'], inplace=True)    "
   ]
  },
  {
   "cell_type": "code",
   "execution_count": 25,
   "metadata": {},
   "outputs": [
    {
     "data": {
      "text/plain": [
       "(13596, 87)"
      ]
     },
     "execution_count": 25,
     "metadata": {},
     "output_type": "execute_result"
    }
   ],
   "source": [
    "df_train_n.shape"
   ]
  },
  {
   "cell_type": "code",
   "execution_count": 26,
   "metadata": {},
   "outputs": [
    {
     "data": {
      "text/plain": [
       "(5383, 53)"
      ]
     },
     "execution_count": 26,
     "metadata": {},
     "output_type": "execute_result"
    }
   ],
   "source": [
    "df_test.shape"
   ]
  },
  {
   "cell_type": "code",
   "execution_count": 27,
   "metadata": {},
   "outputs": [],
   "source": [
    "#Test\n",
    "df_test = df_test.merge(df[['date', 'final.output.recovery', 'rougher.output.recovery']], \n",
    "                       how='left', on='date')\n",
    "for col in ['final.output.recovery', 'rougher.output.recovery']:\n",
    "    df_test[df_test[col]<0.01]=np.nan\n",
    "    \n",
    "df_test.dropna(subset=['final.output.recovery', 'rougher.output.recovery'], inplace=True)"
   ]
  },
  {
   "cell_type": "code",
   "execution_count": 28,
   "metadata": {},
   "outputs": [
    {
     "data": {
      "text/plain": [
       "(5105, 55)"
      ]
     },
     "execution_count": 28,
     "metadata": {},
     "output_type": "execute_result"
    }
   ],
   "source": [
    "df_test.shape"
   ]
  },
  {
   "cell_type": "markdown",
   "metadata": {},
   "source": [
    "Findings:\n",
    "\n",
    "The exceptions were deleted from both data sets.\n",
    "\n",
    "2559 entries were deleted from the training data set.\n",
    "\n",
    "278 entries were deleted from the test data set."
   ]
  },
  {
   "cell_type": "markdown",
   "metadata": {},
   "source": [
    "**3.Build the model**"
   ]
  },
  {
   "cell_type": "code",
   "execution_count": 29,
   "metadata": {},
   "outputs": [],
   "source": [
    "ex_col2=set(df_train_n) - set(df_test)\n",
    "df_train_n.drop(columns=ex_col2, inplace=True)"
   ]
  },
  {
   "cell_type": "code",
   "execution_count": 30,
   "metadata": {},
   "outputs": [],
   "source": [
    "targets = ['final.output.recovery', 'rougher.output.recovery']\n",
    "targets_train, targets_test = df_train_n[targets].values, df_test[targets].values"
   ]
  },
  {
   "cell_type": "code",
   "execution_count": 31,
   "metadata": {},
   "outputs": [],
   "source": [
    "feature_train = df_train_n.drop(['final.output.recovery', 'rougher.output.recovery', 'date'], axis=1)\n",
    "feature_test = df_test.drop(['final.output.recovery', 'rougher.output.recovery', 'date'], axis=1)"
   ]
  },
  {
   "cell_type": "code",
   "execution_count": 32,
   "metadata": {},
   "outputs": [
    {
     "name": "stdout",
     "output_type": "stream",
     "text": [
      "<class 'pandas.core.frame.DataFrame'>\n",
      "Int64Index: 5105 entries, 0 to 5382\n",
      "Data columns (total 52 columns):\n",
      " #   Column                                      Non-Null Count  Dtype  \n",
      "---  ------                                      --------------  -----  \n",
      " 0   primary_cleaner.input.sulfate               5105 non-null   float64\n",
      " 1   primary_cleaner.input.depressant            5105 non-null   float64\n",
      " 2   primary_cleaner.input.feed_size             5105 non-null   float64\n",
      " 3   primary_cleaner.input.xanthate              5105 non-null   float64\n",
      " 4   primary_cleaner.state.floatbank8_a_air      5105 non-null   float64\n",
      " 5   primary_cleaner.state.floatbank8_a_level    5105 non-null   float64\n",
      " 6   primary_cleaner.state.floatbank8_b_air      5105 non-null   float64\n",
      " 7   primary_cleaner.state.floatbank8_b_level    5105 non-null   float64\n",
      " 8   primary_cleaner.state.floatbank8_c_air      5105 non-null   float64\n",
      " 9   primary_cleaner.state.floatbank8_c_level    5105 non-null   float64\n",
      " 10  primary_cleaner.state.floatbank8_d_air      5105 non-null   float64\n",
      " 11  primary_cleaner.state.floatbank8_d_level    5105 non-null   float64\n",
      " 12  rougher.input.feed_ag                       5105 non-null   float64\n",
      " 13  rougher.input.feed_pb                       5105 non-null   float64\n",
      " 14  rougher.input.feed_rate                     5105 non-null   float64\n",
      " 15  rougher.input.feed_size                     5105 non-null   float64\n",
      " 16  rougher.input.feed_sol                      5105 non-null   float64\n",
      " 17  rougher.input.feed_au                       5105 non-null   float64\n",
      " 18  rougher.input.floatbank10_sulfate           5105 non-null   float64\n",
      " 19  rougher.input.floatbank10_xanthate          5105 non-null   float64\n",
      " 20  rougher.input.floatbank11_sulfate           5105 non-null   float64\n",
      " 21  rougher.input.floatbank11_xanthate          5105 non-null   float64\n",
      " 22  rougher.state.floatbank10_a_air             5105 non-null   float64\n",
      " 23  rougher.state.floatbank10_a_level           5105 non-null   float64\n",
      " 24  rougher.state.floatbank10_b_air             5105 non-null   float64\n",
      " 25  rougher.state.floatbank10_b_level           5105 non-null   float64\n",
      " 26  rougher.state.floatbank10_c_air             5105 non-null   float64\n",
      " 27  rougher.state.floatbank10_c_level           5105 non-null   float64\n",
      " 28  rougher.state.floatbank10_d_air             5105 non-null   float64\n",
      " 29  rougher.state.floatbank10_d_level           5105 non-null   float64\n",
      " 30  rougher.state.floatbank10_e_air             5105 non-null   float64\n",
      " 31  rougher.state.floatbank10_e_level           5105 non-null   float64\n",
      " 32  rougher.state.floatbank10_f_air             5105 non-null   float64\n",
      " 33  rougher.state.floatbank10_f_level           5105 non-null   float64\n",
      " 34  secondary_cleaner.state.floatbank2_a_air    5105 non-null   float64\n",
      " 35  secondary_cleaner.state.floatbank2_a_level  5105 non-null   float64\n",
      " 36  secondary_cleaner.state.floatbank2_b_air    5105 non-null   float64\n",
      " 37  secondary_cleaner.state.floatbank2_b_level  5105 non-null   float64\n",
      " 38  secondary_cleaner.state.floatbank3_a_air    5105 non-null   float64\n",
      " 39  secondary_cleaner.state.floatbank3_a_level  5105 non-null   float64\n",
      " 40  secondary_cleaner.state.floatbank3_b_air    5105 non-null   float64\n",
      " 41  secondary_cleaner.state.floatbank3_b_level  5105 non-null   float64\n",
      " 42  secondary_cleaner.state.floatbank4_a_air    5105 non-null   float64\n",
      " 43  secondary_cleaner.state.floatbank4_a_level  5105 non-null   float64\n",
      " 44  secondary_cleaner.state.floatbank4_b_air    5105 non-null   float64\n",
      " 45  secondary_cleaner.state.floatbank4_b_level  5105 non-null   float64\n",
      " 46  secondary_cleaner.state.floatbank5_a_air    5105 non-null   float64\n",
      " 47  secondary_cleaner.state.floatbank5_a_level  5105 non-null   float64\n",
      " 48  secondary_cleaner.state.floatbank5_b_air    5105 non-null   float64\n",
      " 49  secondary_cleaner.state.floatbank5_b_level  5105 non-null   float64\n",
      " 50  secondary_cleaner.state.floatbank6_a_air    5105 non-null   float64\n",
      " 51  secondary_cleaner.state.floatbank6_a_level  5105 non-null   float64\n",
      "dtypes: float64(52)\n",
      "memory usage: 2.1 MB\n"
     ]
    }
   ],
   "source": [
    "feature_test.info()"
   ]
  },
  {
   "cell_type": "code",
   "execution_count": 33,
   "metadata": {},
   "outputs": [],
   "source": [
    "#3.1. Write a function to calculate the final sMAPE value.\n",
    "def smape(y_true, y_pred):\n",
    "    return (np.abs(y_true-y_pred)/((np.abs(y_true)+np.abs(y_pred))/2)).mean()"
   ]
  },
  {
   "cell_type": "code",
   "execution_count": 34,
   "metadata": {},
   "outputs": [],
   "source": [
    "def smape_final(y_true, y_pred):\n",
    "    smape_out_rougher = smape(y_true[:, 0], y_pred[:, 0])\n",
    "    smape_out_final = smape(y_true[:, 1], y_pred[:, 1])\n",
    "    return 0.25*smape_out_rougher + 0.75*smape_out_final"
   ]
  },
  {
   "cell_type": "code",
   "execution_count": 35,
   "metadata": {},
   "outputs": [
    {
     "name": "stdout",
     "output_type": "stream",
     "text": [
      "Mean smape: -0.082.folds: -0.08205558252832659\n"
     ]
    }
   ],
   "source": [
    "#3.2. Train different models. Evaluate them using cross-validation.\n",
    "model = LinearRegression()\n",
    "sampe_score = make_scorer(smape_final, greater_is_better=False)\n",
    "scores = cross_val_score(model, feature_train, targets_train, cv=5, scoring=sampe_score).mean()\n",
    "print('Mean smape: {:0.3f}.folds: {}'.format(scores.mean(), scores))"
   ]
  },
  {
   "cell_type": "code",
   "execution_count": 40,
   "metadata": {},
   "outputs": [
    {
     "name": "stdout",
     "output_type": "stream",
     "text": [
      "Mean smape: 0.000.folds: -0.07907398048323619 n_estimators: 0 best_depth: 9\n"
     ]
    }
   ],
   "source": [
    "best_model = None\n",
    "best_score = 0\n",
    "best_est = 0\n",
    "best_depth = 0\n",
    "for est in range(1, 10):\n",
    "    for depth in range (1, 10):\n",
    "        model = RandomForestRegressor(n_estimators = est, random_state = 12345,max_depth=depth)\n",
    "        sampe_score = make_scorer(smape_final, greater_is_better=False)\n",
    "        scores = cross_val_score(model, feature_train, targets_train, cv=5, scoring=sampe_score).mean()\n",
    "        \n",
    "        if scores > best_score:\n",
    "            best_model = model\n",
    "            best_score = scores\n",
    "            best_est = est\n",
    "            best_depth = depth\n",
    "\n",
    "print('Mean smape: {:0.3f}.folds: {}'.format(best_score, scores), \"n_estimators:\", best_est, \"best_depth:\", depth)"
   ]
  },
  {
   "cell_type": "code",
   "execution_count": 37,
   "metadata": {},
   "outputs": [],
   "source": [
    "#We got a better result in the linear regression, so we will continue with it.\n",
    "ir = LinearRegression()\n",
    "ir.fit(feature_train, targets_train)\n",
    "pred_ir = ir.predict(feature_test)"
   ]
  },
  {
   "cell_type": "code",
   "execution_count": 38,
   "metadata": {},
   "outputs": [
    {
     "data": {
      "text/plain": [
       "0.05631310793860905"
      ]
     },
     "execution_count": 38,
     "metadata": {},
     "output_type": "execute_result"
    }
   ],
   "source": [
    "smape_final(targets_test, pred_ir)"
   ]
  },
  {
   "cell_type": "code",
   "execution_count": 39,
   "metadata": {},
   "outputs": [
    {
     "data": {
      "text/plain": [
       "0.060860195042920694"
      ]
     },
     "execution_count": 39,
     "metadata": {},
     "output_type": "execute_result"
    }
   ],
   "source": [
    "from sklearn.dummy import DummyRegressor\n",
    "\n",
    "dummy = DummyRegressor().fit(feature_train, targets_train)\n",
    "pred_dummy = dummy.predict(feature_test)\n",
    "smape_final(targets_test, pred_dummy)"
   ]
  },
  {
   "cell_type": "markdown",
   "metadata": {},
   "source": [
    "**Findings and conclusion:**\n",
    "\n",
    "We tested two models, a random forest (by some hyperparameters, the best of them give us score of -0.079) and a linear regression (score of -0.082), we found that while the random forest is slightly more accurate, but since it is a relatively small difference we continued with the linear regression as the random forest takes much longer to activate (it should be noted here that the comparison score between the models is better when it is lower).\n",
    "\n",
    "\n",
    "We then trained the model, and we got a score of 0.0536 in the final smape. We created a constant model for comparison (a model that will always give us the median or average) and it gave us a score of 0.060.\n",
    "\n",
    "The model is ready."
   ]
  }
 ],
 "metadata": {
  "ExecuteTimeLog": [
   {
    "duration": 1534,
    "start_time": "2022-07-03T07:20:28.483Z"
   },
   {
    "duration": 122,
    "start_time": "2022-07-03T07:22:34.543Z"
   },
   {
    "duration": 52,
    "start_time": "2022-07-03T07:22:55.699Z"
   },
   {
    "duration": 14,
    "start_time": "2022-07-03T07:23:27.111Z"
   },
   {
    "duration": 40,
    "start_time": "2022-07-03T07:23:34.720Z"
   },
   {
    "duration": 60,
    "start_time": "2022-07-03T07:23:43.260Z"
   },
   {
    "duration": 1545,
    "start_time": "2022-07-03T07:27:19.349Z"
   },
   {
    "duration": 31,
    "start_time": "2022-07-03T07:33:17.154Z"
   },
   {
    "duration": 38,
    "start_time": "2022-07-03T07:34:37.519Z"
   },
   {
    "duration": 32,
    "start_time": "2022-07-03T07:34:41.011Z"
   },
   {
    "duration": 4,
    "start_time": "2022-07-03T08:29:36.550Z"
   },
   {
    "duration": 7,
    "start_time": "2022-07-03T08:29:41.545Z"
   },
   {
    "duration": 10,
    "start_time": "2022-07-03T08:32:19.254Z"
   },
   {
    "duration": 4,
    "start_time": "2022-07-03T08:32:31.950Z"
   },
   {
    "duration": 756,
    "start_time": "2022-07-03T08:32:32.139Z"
   },
   {
    "duration": 22,
    "start_time": "2022-07-03T08:32:32.897Z"
   },
   {
    "duration": 28,
    "start_time": "2022-07-03T08:32:32.927Z"
   },
   {
    "duration": 40,
    "start_time": "2022-07-03T08:32:32.958Z"
   },
   {
    "duration": 11,
    "start_time": "2022-07-03T08:32:33.001Z"
   },
   {
    "duration": 8,
    "start_time": "2022-07-03T08:32:42.389Z"
   },
   {
    "duration": 6,
    "start_time": "2022-07-03T08:33:20.993Z"
   },
   {
    "duration": 74,
    "start_time": "2022-07-03T08:41:05.355Z"
   },
   {
    "duration": 4,
    "start_time": "2022-07-03T08:42:16.547Z"
   },
   {
    "duration": 3,
    "start_time": "2022-07-03T08:43:39.491Z"
   },
   {
    "duration": 1534,
    "start_time": "2022-07-04T05:39:39.158Z"
   },
   {
    "duration": 1485,
    "start_time": "2022-07-04T05:39:40.694Z"
   },
   {
    "duration": 27,
    "start_time": "2022-07-04T05:39:42.181Z"
   },
   {
    "duration": 34,
    "start_time": "2022-07-04T05:39:42.210Z"
   },
   {
    "duration": 22,
    "start_time": "2022-07-04T05:39:42.247Z"
   },
   {
    "duration": 11,
    "start_time": "2022-07-04T05:39:42.271Z"
   },
   {
    "duration": 128,
    "start_time": "2022-07-04T05:39:42.284Z"
   },
   {
    "duration": 0,
    "start_time": "2022-07-04T05:39:42.414Z"
   },
   {
    "duration": 934,
    "start_time": "2022-07-04T05:43:10.709Z"
   },
   {
    "duration": 10,
    "start_time": "2022-07-04T05:43:53.440Z"
   },
   {
    "duration": 4,
    "start_time": "2022-07-04T05:48:26.589Z"
   },
   {
    "duration": 5,
    "start_time": "2022-07-04T05:50:06.106Z"
   },
   {
    "duration": 10,
    "start_time": "2022-07-04T05:50:17.218Z"
   },
   {
    "duration": 13,
    "start_time": "2022-07-04T05:53:26.033Z"
   },
   {
    "duration": 9,
    "start_time": "2022-07-04T05:53:56.204Z"
   },
   {
    "duration": 926,
    "start_time": "2022-07-04T05:54:01.278Z"
   },
   {
    "duration": 27,
    "start_time": "2022-07-04T05:54:09.965Z"
   },
   {
    "duration": 12,
    "start_time": "2022-07-04T05:55:33.720Z"
   },
   {
    "duration": 7,
    "start_time": "2022-07-04T05:55:39.201Z"
   },
   {
    "duration": 5,
    "start_time": "2022-07-04T05:55:57.106Z"
   },
   {
    "duration": 6,
    "start_time": "2022-07-04T06:00:40.392Z"
   },
   {
    "duration": 14,
    "start_time": "2022-07-04T06:05:25.584Z"
   },
   {
    "duration": 11,
    "start_time": "2022-07-04T06:06:02.794Z"
   },
   {
    "duration": 8,
    "start_time": "2022-07-04T06:06:17.604Z"
   },
   {
    "duration": 10,
    "start_time": "2022-07-04T06:06:27.583Z"
   },
   {
    "duration": 41,
    "start_time": "2022-07-04T06:06:46.713Z"
   },
   {
    "duration": 12,
    "start_time": "2022-07-04T06:07:00.364Z"
   },
   {
    "duration": 8,
    "start_time": "2022-07-04T06:15:31.988Z"
   },
   {
    "duration": 5,
    "start_time": "2022-07-04T06:15:33.863Z"
   },
   {
    "duration": 9,
    "start_time": "2022-07-04T06:15:36.232Z"
   },
   {
    "duration": 3,
    "start_time": "2022-07-04T06:15:39.124Z"
   },
   {
    "duration": 13,
    "start_time": "2022-07-04T06:15:42.245Z"
   },
   {
    "duration": 4,
    "start_time": "2022-07-04T06:15:55.210Z"
   },
   {
    "duration": 752,
    "start_time": "2022-07-04T06:15:55.223Z"
   },
   {
    "duration": 21,
    "start_time": "2022-07-04T06:15:55.977Z"
   },
   {
    "duration": 36,
    "start_time": "2022-07-04T06:15:56.000Z"
   },
   {
    "duration": 24,
    "start_time": "2022-07-04T06:15:56.038Z"
   },
   {
    "duration": 14,
    "start_time": "2022-07-04T06:15:56.064Z"
   },
   {
    "duration": 7,
    "start_time": "2022-07-04T06:15:56.080Z"
   },
   {
    "duration": 22,
    "start_time": "2022-07-04T06:15:56.089Z"
   },
   {
    "duration": 9,
    "start_time": "2022-07-04T06:15:56.126Z"
   },
   {
    "duration": 5,
    "start_time": "2022-07-04T06:15:56.137Z"
   },
   {
    "duration": 11,
    "start_time": "2022-07-04T06:15:56.145Z"
   },
   {
    "duration": 4,
    "start_time": "2022-07-04T06:15:56.158Z"
   },
   {
    "duration": 19,
    "start_time": "2022-07-04T06:15:56.163Z"
   },
   {
    "duration": 0,
    "start_time": "2022-07-04T06:15:56.183Z"
   },
   {
    "duration": 0,
    "start_time": "2022-07-04T06:15:56.185Z"
   },
   {
    "duration": 0,
    "start_time": "2022-07-04T06:15:56.186Z"
   },
   {
    "duration": 9,
    "start_time": "2022-07-04T06:16:15.492Z"
   },
   {
    "duration": 8,
    "start_time": "2022-07-04T06:19:48.786Z"
   },
   {
    "duration": 4,
    "start_time": "2022-07-04T06:21:48.746Z"
   },
   {
    "duration": 794,
    "start_time": "2022-07-04T06:21:48.752Z"
   },
   {
    "duration": 22,
    "start_time": "2022-07-04T06:21:49.548Z"
   },
   {
    "duration": 21,
    "start_time": "2022-07-04T06:21:49.572Z"
   },
   {
    "duration": 41,
    "start_time": "2022-07-04T06:21:49.595Z"
   },
   {
    "duration": 10,
    "start_time": "2022-07-04T06:21:49.638Z"
   },
   {
    "duration": 19,
    "start_time": "2022-07-04T06:21:49.650Z"
   },
   {
    "duration": 35,
    "start_time": "2022-07-04T06:21:49.671Z"
   },
   {
    "duration": 41,
    "start_time": "2022-07-04T06:21:49.708Z"
   },
   {
    "duration": 18,
    "start_time": "2022-07-04T06:21:49.751Z"
   },
   {
    "duration": 57,
    "start_time": "2022-07-04T06:21:49.771Z"
   },
   {
    "duration": 14,
    "start_time": "2022-07-04T06:21:49.830Z"
   },
   {
    "duration": 0,
    "start_time": "2022-07-04T06:21:49.846Z"
   },
   {
    "duration": 0,
    "start_time": "2022-07-04T06:21:49.846Z"
   },
   {
    "duration": 0,
    "start_time": "2022-07-04T06:21:49.848Z"
   },
   {
    "duration": 0,
    "start_time": "2022-07-04T06:21:49.849Z"
   },
   {
    "duration": 0,
    "start_time": "2022-07-04T06:21:49.850Z"
   },
   {
    "duration": 12,
    "start_time": "2022-07-04T06:22:07.067Z"
   },
   {
    "duration": 4,
    "start_time": "2022-07-04T06:22:11.008Z"
   },
   {
    "duration": 822,
    "start_time": "2022-07-04T06:22:11.013Z"
   },
   {
    "duration": 22,
    "start_time": "2022-07-04T06:22:11.837Z"
   },
   {
    "duration": 25,
    "start_time": "2022-07-04T06:22:11.861Z"
   },
   {
    "duration": 24,
    "start_time": "2022-07-04T06:22:11.888Z"
   },
   {
    "duration": 24,
    "start_time": "2022-07-04T06:22:11.914Z"
   },
   {
    "duration": 9,
    "start_time": "2022-07-04T06:22:11.940Z"
   },
   {
    "duration": 14,
    "start_time": "2022-07-04T06:22:11.951Z"
   },
   {
    "duration": 10,
    "start_time": "2022-07-04T06:22:11.968Z"
   },
   {
    "duration": 5,
    "start_time": "2022-07-04T06:22:11.979Z"
   },
   {
    "duration": 42,
    "start_time": "2022-07-04T06:22:11.985Z"
   },
   {
    "duration": 10,
    "start_time": "2022-07-04T06:22:12.029Z"
   },
   {
    "duration": 3,
    "start_time": "2022-07-04T06:22:12.041Z"
   },
   {
    "duration": 12,
    "start_time": "2022-07-04T06:22:12.045Z"
   },
   {
    "duration": 0,
    "start_time": "2022-07-04T06:22:12.059Z"
   },
   {
    "duration": 0,
    "start_time": "2022-07-04T06:22:12.060Z"
   },
   {
    "duration": 0,
    "start_time": "2022-07-04T06:22:12.062Z"
   },
   {
    "duration": 4,
    "start_time": "2022-07-04T06:22:33.510Z"
   },
   {
    "duration": 916,
    "start_time": "2022-07-04T06:22:33.518Z"
   },
   {
    "duration": 29,
    "start_time": "2022-07-04T06:22:34.436Z"
   },
   {
    "duration": 61,
    "start_time": "2022-07-04T06:22:34.467Z"
   },
   {
    "duration": 42,
    "start_time": "2022-07-04T06:22:34.531Z"
   },
   {
    "duration": 10,
    "start_time": "2022-07-04T06:22:34.575Z"
   },
   {
    "duration": 19,
    "start_time": "2022-07-04T06:22:34.588Z"
   },
   {
    "duration": 25,
    "start_time": "2022-07-04T06:22:34.610Z"
   },
   {
    "duration": 13,
    "start_time": "2022-07-04T06:22:34.637Z"
   },
   {
    "duration": 19,
    "start_time": "2022-07-04T06:22:34.652Z"
   },
   {
    "duration": 21,
    "start_time": "2022-07-04T06:22:34.674Z"
   },
   {
    "duration": 13,
    "start_time": "2022-07-04T06:22:34.697Z"
   },
   {
    "duration": 4,
    "start_time": "2022-07-04T06:22:34.712Z"
   },
   {
    "duration": 8,
    "start_time": "2022-07-04T06:22:34.726Z"
   },
   {
    "duration": 16,
    "start_time": "2022-07-04T06:22:34.736Z"
   },
   {
    "duration": 0,
    "start_time": "2022-07-04T06:22:34.754Z"
   },
   {
    "duration": 0,
    "start_time": "2022-07-04T06:22:34.755Z"
   },
   {
    "duration": 10,
    "start_time": "2022-07-04T06:23:39.185Z"
   },
   {
    "duration": 5,
    "start_time": "2022-07-04T06:24:25.595Z"
   },
   {
    "duration": 787,
    "start_time": "2022-07-04T06:24:25.602Z"
   },
   {
    "duration": 21,
    "start_time": "2022-07-04T06:24:26.391Z"
   },
   {
    "duration": 20,
    "start_time": "2022-07-04T06:24:26.426Z"
   },
   {
    "duration": 24,
    "start_time": "2022-07-04T06:24:26.448Z"
   },
   {
    "duration": 11,
    "start_time": "2022-07-04T06:24:26.474Z"
   },
   {
    "duration": 7,
    "start_time": "2022-07-04T06:24:26.487Z"
   },
   {
    "duration": 36,
    "start_time": "2022-07-04T06:24:26.496Z"
   },
   {
    "duration": 10,
    "start_time": "2022-07-04T06:24:26.534Z"
   },
   {
    "duration": 10,
    "start_time": "2022-07-04T06:24:26.547Z"
   },
   {
    "duration": 16,
    "start_time": "2022-07-04T06:24:26.559Z"
   },
   {
    "duration": 20,
    "start_time": "2022-07-04T06:24:26.577Z"
   },
   {
    "duration": 3,
    "start_time": "2022-07-04T06:24:26.599Z"
   },
   {
    "duration": 24,
    "start_time": "2022-07-04T06:24:26.604Z"
   },
   {
    "duration": 11,
    "start_time": "2022-07-04T06:24:26.630Z"
   },
   {
    "duration": 13,
    "start_time": "2022-07-04T06:24:26.642Z"
   },
   {
    "duration": 0,
    "start_time": "2022-07-04T06:24:26.657Z"
   },
   {
    "duration": 0,
    "start_time": "2022-07-04T06:24:26.659Z"
   },
   {
    "duration": 5,
    "start_time": "2022-07-04T06:25:04.871Z"
   },
   {
    "duration": 6,
    "start_time": "2022-07-04T06:26:15.934Z"
   },
   {
    "duration": 9,
    "start_time": "2022-07-04T06:26:18.988Z"
   },
   {
    "duration": 17,
    "start_time": "2022-07-04T06:26:21.490Z"
   },
   {
    "duration": 6,
    "start_time": "2022-07-04T06:26:27.835Z"
   },
   {
    "duration": 791,
    "start_time": "2022-07-04T06:26:27.843Z"
   },
   {
    "duration": 21,
    "start_time": "2022-07-04T06:26:28.635Z"
   },
   {
    "duration": 23,
    "start_time": "2022-07-04T06:26:28.657Z"
   },
   {
    "duration": 23,
    "start_time": "2022-07-04T06:26:28.683Z"
   },
   {
    "duration": 17,
    "start_time": "2022-07-04T06:26:28.725Z"
   },
   {
    "duration": 10,
    "start_time": "2022-07-04T06:26:28.744Z"
   },
   {
    "duration": 23,
    "start_time": "2022-07-04T06:26:28.756Z"
   },
   {
    "duration": 10,
    "start_time": "2022-07-04T06:26:28.780Z"
   },
   {
    "duration": 8,
    "start_time": "2022-07-04T06:26:28.791Z"
   },
   {
    "duration": 29,
    "start_time": "2022-07-04T06:26:28.800Z"
   },
   {
    "duration": 11,
    "start_time": "2022-07-04T06:26:28.830Z"
   },
   {
    "duration": 3,
    "start_time": "2022-07-04T06:26:28.844Z"
   },
   {
    "duration": 19,
    "start_time": "2022-07-04T06:26:28.850Z"
   },
   {
    "duration": 5,
    "start_time": "2022-07-04T06:26:28.871Z"
   },
   {
    "duration": 16,
    "start_time": "2022-07-04T06:26:28.878Z"
   },
   {
    "duration": 46,
    "start_time": "2022-07-04T06:26:28.895Z"
   },
   {
    "duration": 0,
    "start_time": "2022-07-04T06:26:28.943Z"
   },
   {
    "duration": 6,
    "start_time": "2022-07-04T06:26:35.067Z"
   },
   {
    "duration": 3,
    "start_time": "2022-07-04T06:26:50.554Z"
   },
   {
    "duration": 19,
    "start_time": "2022-07-04T06:26:52.566Z"
   },
   {
    "duration": 4,
    "start_time": "2022-07-04T06:27:06.156Z"
   },
   {
    "duration": 759,
    "start_time": "2022-07-04T06:27:06.163Z"
   },
   {
    "duration": 22,
    "start_time": "2022-07-04T06:27:06.924Z"
   },
   {
    "duration": 22,
    "start_time": "2022-07-04T06:27:06.948Z"
   },
   {
    "duration": 25,
    "start_time": "2022-07-04T06:27:06.971Z"
   },
   {
    "duration": 34,
    "start_time": "2022-07-04T06:27:06.998Z"
   },
   {
    "duration": 8,
    "start_time": "2022-07-04T06:27:07.034Z"
   },
   {
    "duration": 15,
    "start_time": "2022-07-04T06:27:07.044Z"
   },
   {
    "duration": 7,
    "start_time": "2022-07-04T06:27:07.062Z"
   },
   {
    "duration": 5,
    "start_time": "2022-07-04T06:27:07.071Z"
   },
   {
    "duration": 51,
    "start_time": "2022-07-04T06:27:07.078Z"
   },
   {
    "duration": 13,
    "start_time": "2022-07-04T06:27:07.131Z"
   },
   {
    "duration": 5,
    "start_time": "2022-07-04T06:27:07.146Z"
   },
   {
    "duration": 18,
    "start_time": "2022-07-04T06:27:07.153Z"
   },
   {
    "duration": 6,
    "start_time": "2022-07-04T06:27:07.173Z"
   },
   {
    "duration": 6,
    "start_time": "2022-07-04T06:27:07.180Z"
   },
   {
    "duration": 47,
    "start_time": "2022-07-04T06:27:07.188Z"
   },
   {
    "duration": 0,
    "start_time": "2022-07-04T06:27:07.237Z"
   },
   {
    "duration": 6,
    "start_time": "2022-07-04T06:27:22.067Z"
   },
   {
    "duration": 7,
    "start_time": "2022-07-04T06:29:36.408Z"
   },
   {
    "duration": 6,
    "start_time": "2022-07-04T06:29:54.821Z"
   },
   {
    "duration": 17,
    "start_time": "2022-07-04T06:30:38.087Z"
   },
   {
    "duration": 5,
    "start_time": "2022-07-04T06:37:14.967Z"
   },
   {
    "duration": 12,
    "start_time": "2022-07-04T06:40:09.368Z"
   },
   {
    "duration": 6,
    "start_time": "2022-07-04T06:40:16.750Z"
   },
   {
    "duration": 782,
    "start_time": "2022-07-04T06:40:16.758Z"
   },
   {
    "duration": 24,
    "start_time": "2022-07-04T06:40:17.542Z"
   },
   {
    "duration": 28,
    "start_time": "2022-07-04T06:40:17.569Z"
   },
   {
    "duration": 37,
    "start_time": "2022-07-04T06:40:17.599Z"
   },
   {
    "duration": 9,
    "start_time": "2022-07-04T06:40:17.638Z"
   },
   {
    "duration": 23,
    "start_time": "2022-07-04T06:40:17.649Z"
   },
   {
    "duration": 0,
    "start_time": "2022-07-04T06:40:17.675Z"
   },
   {
    "duration": 0,
    "start_time": "2022-07-04T06:40:17.676Z"
   },
   {
    "duration": 0,
    "start_time": "2022-07-04T06:40:17.678Z"
   },
   {
    "duration": 0,
    "start_time": "2022-07-04T06:40:17.679Z"
   },
   {
    "duration": 0,
    "start_time": "2022-07-04T06:40:17.681Z"
   },
   {
    "duration": 0,
    "start_time": "2022-07-04T06:40:17.682Z"
   },
   {
    "duration": 0,
    "start_time": "2022-07-04T06:40:17.683Z"
   },
   {
    "duration": 0,
    "start_time": "2022-07-04T06:40:17.684Z"
   },
   {
    "duration": 0,
    "start_time": "2022-07-04T06:40:17.686Z"
   },
   {
    "duration": 0,
    "start_time": "2022-07-04T06:40:17.687Z"
   },
   {
    "duration": 0,
    "start_time": "2022-07-04T06:40:17.689Z"
   },
   {
    "duration": 0,
    "start_time": "2022-07-04T06:40:17.691Z"
   },
   {
    "duration": 10,
    "start_time": "2022-07-04T06:40:50.646Z"
   },
   {
    "duration": 9,
    "start_time": "2022-07-04T06:40:59.247Z"
   },
   {
    "duration": 34,
    "start_time": "2022-07-04T06:41:08.547Z"
   },
   {
    "duration": 8,
    "start_time": "2022-07-04T06:41:33.727Z"
   },
   {
    "duration": 5,
    "start_time": "2022-07-04T06:41:49.209Z"
   },
   {
    "duration": 824,
    "start_time": "2022-07-04T06:41:49.217Z"
   },
   {
    "duration": 25,
    "start_time": "2022-07-04T06:41:50.043Z"
   },
   {
    "duration": 32,
    "start_time": "2022-07-04T06:41:50.071Z"
   },
   {
    "duration": 33,
    "start_time": "2022-07-04T06:41:50.127Z"
   },
   {
    "duration": 18,
    "start_time": "2022-07-04T06:41:50.162Z"
   },
   {
    "duration": 17,
    "start_time": "2022-07-04T06:41:50.182Z"
   },
   {
    "duration": 17,
    "start_time": "2022-07-04T06:41:50.201Z"
   },
   {
    "duration": 11,
    "start_time": "2022-07-04T06:41:50.220Z"
   },
   {
    "duration": 12,
    "start_time": "2022-07-04T06:41:50.236Z"
   },
   {
    "duration": 8,
    "start_time": "2022-07-04T06:41:50.250Z"
   },
   {
    "duration": 7,
    "start_time": "2022-07-04T06:41:50.260Z"
   },
   {
    "duration": 13,
    "start_time": "2022-07-04T06:41:50.269Z"
   },
   {
    "duration": 44,
    "start_time": "2022-07-04T06:41:50.284Z"
   },
   {
    "duration": 4,
    "start_time": "2022-07-04T06:41:50.330Z"
   },
   {
    "duration": 759,
    "start_time": "2022-07-04T06:41:50.336Z"
   },
   {
    "duration": 0,
    "start_time": "2022-07-04T06:41:51.096Z"
   },
   {
    "duration": 0,
    "start_time": "2022-07-04T06:41:51.099Z"
   },
   {
    "duration": 0,
    "start_time": "2022-07-04T06:41:51.100Z"
   },
   {
    "duration": 5,
    "start_time": "2022-07-04T06:59:40.795Z"
   },
   {
    "duration": 784,
    "start_time": "2022-07-04T06:59:40.842Z"
   },
   {
    "duration": 23,
    "start_time": "2022-07-04T06:59:41.628Z"
   },
   {
    "duration": 34,
    "start_time": "2022-07-04T06:59:41.652Z"
   },
   {
    "duration": 29,
    "start_time": "2022-07-04T06:59:41.688Z"
   },
   {
    "duration": 4,
    "start_time": "2022-07-04T06:59:41.726Z"
   },
   {
    "duration": 26,
    "start_time": "2022-07-04T06:59:41.733Z"
   },
   {
    "duration": 6,
    "start_time": "2022-07-04T06:59:41.761Z"
   },
   {
    "duration": 15,
    "start_time": "2022-07-04T06:59:41.769Z"
   },
   {
    "duration": 7,
    "start_time": "2022-07-04T06:59:41.786Z"
   },
   {
    "duration": 4,
    "start_time": "2022-07-04T06:59:41.796Z"
   },
   {
    "duration": 33,
    "start_time": "2022-07-04T06:59:41.802Z"
   },
   {
    "duration": 16,
    "start_time": "2022-07-04T06:59:41.837Z"
   },
   {
    "duration": 6,
    "start_time": "2022-07-04T06:59:41.855Z"
   },
   {
    "duration": 15,
    "start_time": "2022-07-04T06:59:41.863Z"
   },
   {
    "duration": 6,
    "start_time": "2022-07-04T06:59:41.880Z"
   },
   {
    "duration": 7,
    "start_time": "2022-07-04T06:59:41.888Z"
   },
   {
    "duration": 40,
    "start_time": "2022-07-04T06:59:41.897Z"
   },
   {
    "duration": 6,
    "start_time": "2022-07-04T07:01:16.509Z"
   },
   {
    "duration": 14,
    "start_time": "2022-07-04T07:02:04.323Z"
   },
   {
    "duration": 20,
    "start_time": "2022-07-04T07:02:40.305Z"
   },
   {
    "duration": 4,
    "start_time": "2022-07-04T07:14:32.508Z"
   },
   {
    "duration": 972,
    "start_time": "2022-07-04T07:14:32.517Z"
   },
   {
    "duration": 28,
    "start_time": "2022-07-04T07:14:33.491Z"
   },
   {
    "duration": 32,
    "start_time": "2022-07-04T07:14:33.527Z"
   },
   {
    "duration": 25,
    "start_time": "2022-07-04T07:14:33.561Z"
   },
   {
    "duration": 5,
    "start_time": "2022-07-04T07:14:33.589Z"
   },
   {
    "duration": 32,
    "start_time": "2022-07-04T07:14:33.595Z"
   },
   {
    "duration": 7,
    "start_time": "2022-07-04T07:14:33.629Z"
   },
   {
    "duration": 14,
    "start_time": "2022-07-04T07:14:33.637Z"
   },
   {
    "duration": 8,
    "start_time": "2022-07-04T07:14:33.653Z"
   },
   {
    "duration": 5,
    "start_time": "2022-07-04T07:14:33.663Z"
   },
   {
    "duration": 11,
    "start_time": "2022-07-04T07:14:33.670Z"
   },
   {
    "duration": 50,
    "start_time": "2022-07-04T07:14:33.683Z"
   },
   {
    "duration": 3,
    "start_time": "2022-07-04T07:14:33.735Z"
   },
   {
    "duration": 12,
    "start_time": "2022-07-04T07:14:33.742Z"
   },
   {
    "duration": 15,
    "start_time": "2022-07-04T07:14:33.755Z"
   },
   {
    "duration": 0,
    "start_time": "2022-07-04T07:14:33.772Z"
   },
   {
    "duration": 0,
    "start_time": "2022-07-04T07:14:33.774Z"
   },
   {
    "duration": 0,
    "start_time": "2022-07-04T07:14:33.775Z"
   },
   {
    "duration": 14,
    "start_time": "2022-07-04T07:14:52.886Z"
   },
   {
    "duration": 5,
    "start_time": "2022-07-04T07:15:50.410Z"
   },
   {
    "duration": 873,
    "start_time": "2022-07-04T07:15:50.418Z"
   },
   {
    "duration": 39,
    "start_time": "2022-07-04T07:15:51.293Z"
   },
   {
    "duration": 39,
    "start_time": "2022-07-04T07:15:51.335Z"
   },
   {
    "duration": 25,
    "start_time": "2022-07-04T07:15:51.375Z"
   },
   {
    "duration": 11,
    "start_time": "2022-07-04T07:15:51.402Z"
   },
   {
    "duration": 18,
    "start_time": "2022-07-04T07:15:51.414Z"
   },
   {
    "duration": 34,
    "start_time": "2022-07-04T07:15:51.434Z"
   },
   {
    "duration": 16,
    "start_time": "2022-07-04T07:15:51.470Z"
   },
   {
    "duration": 10,
    "start_time": "2022-07-04T07:15:51.490Z"
   },
   {
    "duration": 18,
    "start_time": "2022-07-04T07:15:51.502Z"
   },
   {
    "duration": 12,
    "start_time": "2022-07-04T07:15:51.523Z"
   },
   {
    "duration": 23,
    "start_time": "2022-07-04T07:15:51.537Z"
   },
   {
    "duration": 30,
    "start_time": "2022-07-04T07:15:51.562Z"
   },
   {
    "duration": 21,
    "start_time": "2022-07-04T07:15:51.594Z"
   },
   {
    "duration": 19,
    "start_time": "2022-07-04T07:15:51.617Z"
   },
   {
    "duration": 0,
    "start_time": "2022-07-04T07:15:51.638Z"
   },
   {
    "duration": 0,
    "start_time": "2022-07-04T07:15:51.640Z"
   },
   {
    "duration": 0,
    "start_time": "2022-07-04T07:15:51.642Z"
   },
   {
    "duration": 13,
    "start_time": "2022-07-04T07:16:47.948Z"
   },
   {
    "duration": 4,
    "start_time": "2022-07-04T07:16:51.648Z"
   },
   {
    "duration": 932,
    "start_time": "2022-07-04T07:16:51.655Z"
   },
   {
    "duration": 22,
    "start_time": "2022-07-04T07:16:52.589Z"
   },
   {
    "duration": 39,
    "start_time": "2022-07-04T07:16:52.613Z"
   },
   {
    "duration": 24,
    "start_time": "2022-07-04T07:16:52.655Z"
   },
   {
    "duration": 5,
    "start_time": "2022-07-04T07:16:52.681Z"
   },
   {
    "duration": 30,
    "start_time": "2022-07-04T07:16:52.687Z"
   },
   {
    "duration": 45,
    "start_time": "2022-07-04T07:16:52.729Z"
   },
   {
    "duration": 0,
    "start_time": "2022-07-04T07:16:52.776Z"
   },
   {
    "duration": 0,
    "start_time": "2022-07-04T07:16:52.777Z"
   },
   {
    "duration": 0,
    "start_time": "2022-07-04T07:16:52.778Z"
   },
   {
    "duration": 0,
    "start_time": "2022-07-04T07:16:52.780Z"
   },
   {
    "duration": 0,
    "start_time": "2022-07-04T07:16:52.782Z"
   },
   {
    "duration": 0,
    "start_time": "2022-07-04T07:16:52.783Z"
   },
   {
    "duration": 0,
    "start_time": "2022-07-04T07:16:52.784Z"
   },
   {
    "duration": 0,
    "start_time": "2022-07-04T07:16:52.786Z"
   },
   {
    "duration": 0,
    "start_time": "2022-07-04T07:16:52.787Z"
   },
   {
    "duration": 0,
    "start_time": "2022-07-04T07:16:52.788Z"
   },
   {
    "duration": 0,
    "start_time": "2022-07-04T07:16:52.789Z"
   },
   {
    "duration": 52,
    "start_time": "2022-07-04T07:41:03.777Z"
   },
   {
    "duration": 341,
    "start_time": "2022-07-04T07:41:11.014Z"
   },
   {
    "duration": 319,
    "start_time": "2022-07-04T07:44:59.668Z"
   },
   {
    "duration": 3,
    "start_time": "2022-07-04T07:47:00.206Z"
   },
   {
    "duration": 316,
    "start_time": "2022-07-04T07:47:02.194Z"
   },
   {
    "duration": 10,
    "start_time": "2022-07-04T07:47:48.736Z"
   },
   {
    "duration": 10,
    "start_time": "2022-07-04T07:47:54.161Z"
   },
   {
    "duration": 7,
    "start_time": "2022-07-04T07:47:58.339Z"
   },
   {
    "duration": 10,
    "start_time": "2022-07-04T07:48:09.657Z"
   },
   {
    "duration": 311,
    "start_time": "2022-07-04T07:48:26.592Z"
   },
   {
    "duration": 9,
    "start_time": "2022-07-04T07:48:31.426Z"
   },
   {
    "duration": 4,
    "start_time": "2022-07-04T07:48:38.722Z"
   },
   {
    "duration": 740,
    "start_time": "2022-07-04T07:48:38.728Z"
   },
   {
    "duration": 20,
    "start_time": "2022-07-04T07:48:39.470Z"
   },
   {
    "duration": 23,
    "start_time": "2022-07-04T07:48:39.493Z"
   },
   {
    "duration": 25,
    "start_time": "2022-07-04T07:48:39.526Z"
   },
   {
    "duration": 8,
    "start_time": "2022-07-04T07:48:39.553Z"
   },
   {
    "duration": 327,
    "start_time": "2022-07-04T07:48:39.563Z"
   },
   {
    "duration": 0,
    "start_time": "2022-07-04T07:48:39.892Z"
   },
   {
    "duration": 0,
    "start_time": "2022-07-04T07:48:39.893Z"
   },
   {
    "duration": 0,
    "start_time": "2022-07-04T07:48:39.894Z"
   },
   {
    "duration": 0,
    "start_time": "2022-07-04T07:48:39.896Z"
   },
   {
    "duration": 0,
    "start_time": "2022-07-04T07:48:39.897Z"
   },
   {
    "duration": 0,
    "start_time": "2022-07-04T07:48:39.899Z"
   },
   {
    "duration": 0,
    "start_time": "2022-07-04T07:48:39.900Z"
   },
   {
    "duration": 0,
    "start_time": "2022-07-04T07:48:39.901Z"
   },
   {
    "duration": 0,
    "start_time": "2022-07-04T07:48:39.903Z"
   },
   {
    "duration": 0,
    "start_time": "2022-07-04T07:48:39.904Z"
   },
   {
    "duration": 0,
    "start_time": "2022-07-04T07:48:39.905Z"
   },
   {
    "duration": 0,
    "start_time": "2022-07-04T07:48:39.906Z"
   },
   {
    "duration": 0,
    "start_time": "2022-07-04T07:48:39.907Z"
   },
   {
    "duration": 0,
    "start_time": "2022-07-04T07:48:39.907Z"
   },
   {
    "duration": 10,
    "start_time": "2022-07-04T07:48:45.856Z"
   },
   {
    "duration": 309,
    "start_time": "2022-07-04T07:49:24.806Z"
   },
   {
    "duration": 9,
    "start_time": "2022-07-04T07:49:30.017Z"
   },
   {
    "duration": 14,
    "start_time": "2022-07-04T07:52:52.855Z"
   },
   {
    "duration": 4,
    "start_time": "2022-07-04T07:53:17.207Z"
   },
   {
    "duration": 788,
    "start_time": "2022-07-04T07:53:17.215Z"
   },
   {
    "duration": 23,
    "start_time": "2022-07-04T07:53:18.005Z"
   },
   {
    "duration": 20,
    "start_time": "2022-07-04T07:53:18.029Z"
   },
   {
    "duration": 22,
    "start_time": "2022-07-04T07:53:18.051Z"
   },
   {
    "duration": 3,
    "start_time": "2022-07-04T07:53:18.075Z"
   },
   {
    "duration": 15,
    "start_time": "2022-07-04T07:53:18.080Z"
   },
   {
    "duration": 30,
    "start_time": "2022-07-04T07:53:18.097Z"
   },
   {
    "duration": 4,
    "start_time": "2022-07-04T07:53:18.129Z"
   },
   {
    "duration": 6,
    "start_time": "2022-07-04T07:53:18.135Z"
   },
   {
    "duration": 10,
    "start_time": "2022-07-04T07:53:18.144Z"
   },
   {
    "duration": 6,
    "start_time": "2022-07-04T07:53:18.156Z"
   },
   {
    "duration": 11,
    "start_time": "2022-07-04T07:53:18.163Z"
   },
   {
    "duration": 6,
    "start_time": "2022-07-04T07:53:18.175Z"
   },
   {
    "duration": 7,
    "start_time": "2022-07-04T07:53:18.182Z"
   },
   {
    "duration": 41,
    "start_time": "2022-07-04T07:53:18.190Z"
   },
   {
    "duration": 14,
    "start_time": "2022-07-04T07:53:18.233Z"
   },
   {
    "duration": 5,
    "start_time": "2022-07-04T07:53:18.249Z"
   },
   {
    "duration": 7,
    "start_time": "2022-07-04T07:53:18.255Z"
   },
   {
    "duration": 9,
    "start_time": "2022-07-04T07:53:18.264Z"
   },
   {
    "duration": 16,
    "start_time": "2022-07-04T07:55:03.409Z"
   },
   {
    "duration": 6,
    "start_time": "2022-07-04T07:55:29.463Z"
   },
   {
    "duration": 8,
    "start_time": "2022-07-04T07:59:10.590Z"
   },
   {
    "duration": 7,
    "start_time": "2022-07-04T07:59:22.144Z"
   },
   {
    "duration": 3,
    "start_time": "2022-07-04T08:00:36.208Z"
   },
   {
    "duration": 8,
    "start_time": "2022-07-04T08:00:40.787Z"
   },
   {
    "duration": 5,
    "start_time": "2022-07-04T08:00:45.687Z"
   },
   {
    "duration": 15,
    "start_time": "2022-07-04T08:02:22.547Z"
   },
   {
    "duration": 10,
    "start_time": "2022-07-04T08:02:24.637Z"
   },
   {
    "duration": 7,
    "start_time": "2022-07-04T08:02:27.247Z"
   },
   {
    "duration": 6,
    "start_time": "2022-07-04T08:02:30.489Z"
   },
   {
    "duration": 859,
    "start_time": "2022-07-04T08:02:30.497Z"
   },
   {
    "duration": 22,
    "start_time": "2022-07-04T08:02:31.358Z"
   },
   {
    "duration": 83,
    "start_time": "2022-07-04T08:02:31.382Z"
   },
   {
    "duration": 41,
    "start_time": "2022-07-04T08:02:31.467Z"
   },
   {
    "duration": 22,
    "start_time": "2022-07-04T08:02:31.511Z"
   },
   {
    "duration": 28,
    "start_time": "2022-07-04T08:02:31.535Z"
   },
   {
    "duration": 24,
    "start_time": "2022-07-04T08:02:31.565Z"
   },
   {
    "duration": 36,
    "start_time": "2022-07-04T08:02:31.592Z"
   },
   {
    "duration": 0,
    "start_time": "2022-07-04T08:02:31.631Z"
   },
   {
    "duration": 0,
    "start_time": "2022-07-04T08:02:31.632Z"
   },
   {
    "duration": 0,
    "start_time": "2022-07-04T08:02:31.635Z"
   },
   {
    "duration": 0,
    "start_time": "2022-07-04T08:02:31.636Z"
   },
   {
    "duration": 0,
    "start_time": "2022-07-04T08:02:31.638Z"
   },
   {
    "duration": 0,
    "start_time": "2022-07-04T08:02:31.639Z"
   },
   {
    "duration": 0,
    "start_time": "2022-07-04T08:02:31.641Z"
   },
   {
    "duration": 0,
    "start_time": "2022-07-04T08:02:31.643Z"
   },
   {
    "duration": 0,
    "start_time": "2022-07-04T08:02:31.645Z"
   },
   {
    "duration": 0,
    "start_time": "2022-07-04T08:02:31.646Z"
   },
   {
    "duration": 0,
    "start_time": "2022-07-04T08:02:31.647Z"
   },
   {
    "duration": 4,
    "start_time": "2022-07-04T08:02:48.681Z"
   },
   {
    "duration": 866,
    "start_time": "2022-07-04T08:02:48.690Z"
   },
   {
    "duration": 21,
    "start_time": "2022-07-04T08:02:49.559Z"
   },
   {
    "duration": 46,
    "start_time": "2022-07-04T08:02:49.583Z"
   },
   {
    "duration": 30,
    "start_time": "2022-07-04T08:02:49.633Z"
   },
   {
    "duration": 4,
    "start_time": "2022-07-04T08:02:49.666Z"
   },
   {
    "duration": 20,
    "start_time": "2022-07-04T08:02:49.672Z"
   },
   {
    "duration": 35,
    "start_time": "2022-07-04T08:02:49.694Z"
   },
   {
    "duration": 10,
    "start_time": "2022-07-04T08:02:49.731Z"
   },
   {
    "duration": 17,
    "start_time": "2022-07-04T08:02:49.743Z"
   },
   {
    "duration": 22,
    "start_time": "2022-07-04T08:02:49.762Z"
   },
   {
    "duration": 16,
    "start_time": "2022-07-04T08:02:49.786Z"
   },
   {
    "duration": 18,
    "start_time": "2022-07-04T08:02:49.804Z"
   },
   {
    "duration": 28,
    "start_time": "2022-07-04T08:02:49.826Z"
   },
   {
    "duration": 6,
    "start_time": "2022-07-04T08:02:49.856Z"
   },
   {
    "duration": 26,
    "start_time": "2022-07-04T08:02:49.864Z"
   },
   {
    "duration": 34,
    "start_time": "2022-07-04T08:02:49.892Z"
   },
   {
    "duration": 12,
    "start_time": "2022-07-04T08:02:49.929Z"
   },
   {
    "duration": 10,
    "start_time": "2022-07-04T08:02:49.943Z"
   },
   {
    "duration": 15,
    "start_time": "2022-07-04T08:02:49.955Z"
   },
   {
    "duration": 15,
    "start_time": "2022-07-04T08:04:49.610Z"
   },
   {
    "duration": 10,
    "start_time": "2022-07-04T08:04:56.107Z"
   },
   {
    "duration": 4,
    "start_time": "2022-07-04T08:04:59.194Z"
   },
   {
    "duration": 768,
    "start_time": "2022-07-04T08:04:59.199Z"
   },
   {
    "duration": 20,
    "start_time": "2022-07-04T08:04:59.969Z"
   },
   {
    "duration": 23,
    "start_time": "2022-07-04T08:04:59.991Z"
   },
   {
    "duration": 31,
    "start_time": "2022-07-04T08:05:00.025Z"
   },
   {
    "duration": 7,
    "start_time": "2022-07-04T08:05:00.058Z"
   },
   {
    "duration": 24,
    "start_time": "2022-07-04T08:05:00.067Z"
   },
   {
    "duration": 18,
    "start_time": "2022-07-04T08:05:00.093Z"
   },
   {
    "duration": 24,
    "start_time": "2022-07-04T08:05:00.114Z"
   },
   {
    "duration": 6,
    "start_time": "2022-07-04T08:05:00.140Z"
   },
   {
    "duration": 12,
    "start_time": "2022-07-04T08:05:00.148Z"
   },
   {
    "duration": 13,
    "start_time": "2022-07-04T08:05:00.161Z"
   },
   {
    "duration": 11,
    "start_time": "2022-07-04T08:05:00.176Z"
   },
   {
    "duration": 16,
    "start_time": "2022-07-04T08:05:00.189Z"
   },
   {
    "duration": 29,
    "start_time": "2022-07-04T08:05:00.207Z"
   },
   {
    "duration": 4,
    "start_time": "2022-07-04T08:05:00.239Z"
   },
   {
    "duration": 21,
    "start_time": "2022-07-04T08:05:00.245Z"
   },
   {
    "duration": 20,
    "start_time": "2022-07-04T08:05:00.268Z"
   },
   {
    "duration": 35,
    "start_time": "2022-07-04T08:05:00.290Z"
   },
   {
    "duration": 30,
    "start_time": "2022-07-04T08:05:00.326Z"
   },
   {
    "duration": 55,
    "start_time": "2022-07-04T08:05:00.358Z"
   },
   {
    "duration": 9,
    "start_time": "2022-07-04T08:14:49.845Z"
   },
   {
    "duration": 13,
    "start_time": "2022-07-04T08:15:19.544Z"
   },
   {
    "duration": 5,
    "start_time": "2022-07-04T08:17:34.471Z"
   },
   {
    "duration": 49,
    "start_time": "2022-07-04T08:29:13.888Z"
   },
   {
    "duration": 12,
    "start_time": "2022-07-04T08:29:18.153Z"
   },
   {
    "duration": 4,
    "start_time": "2022-07-04T08:29:33.286Z"
   },
   {
    "duration": 774,
    "start_time": "2022-07-04T08:29:33.292Z"
   },
   {
    "duration": 20,
    "start_time": "2022-07-04T08:29:34.068Z"
   },
   {
    "duration": 22,
    "start_time": "2022-07-04T08:29:34.090Z"
   },
   {
    "duration": 37,
    "start_time": "2022-07-04T08:29:34.113Z"
   },
   {
    "duration": 11,
    "start_time": "2022-07-04T08:29:34.151Z"
   },
   {
    "duration": 0,
    "start_time": "2022-07-04T08:29:34.164Z"
   },
   {
    "duration": 0,
    "start_time": "2022-07-04T08:29:34.165Z"
   },
   {
    "duration": 0,
    "start_time": "2022-07-04T08:29:34.166Z"
   },
   {
    "duration": 0,
    "start_time": "2022-07-04T08:29:34.167Z"
   },
   {
    "duration": 0,
    "start_time": "2022-07-04T08:29:34.168Z"
   },
   {
    "duration": 0,
    "start_time": "2022-07-04T08:29:34.169Z"
   },
   {
    "duration": 0,
    "start_time": "2022-07-04T08:29:34.170Z"
   },
   {
    "duration": 0,
    "start_time": "2022-07-04T08:29:34.172Z"
   },
   {
    "duration": 16,
    "start_time": "2022-07-04T08:29:55.910Z"
   },
   {
    "duration": 12,
    "start_time": "2022-07-04T08:30:10.943Z"
   },
   {
    "duration": 31,
    "start_time": "2022-07-04T08:31:20.492Z"
   },
   {
    "duration": 91,
    "start_time": "2022-07-04T08:31:57.512Z"
   },
   {
    "duration": 4,
    "start_time": "2022-07-04T08:35:34.669Z"
   },
   {
    "duration": 6,
    "start_time": "2022-07-04T08:35:38.343Z"
   },
   {
    "duration": 776,
    "start_time": "2022-07-04T08:35:38.351Z"
   },
   {
    "duration": 24,
    "start_time": "2022-07-04T08:35:39.133Z"
   },
   {
    "duration": 22,
    "start_time": "2022-07-04T08:35:39.158Z"
   },
   {
    "duration": 22,
    "start_time": "2022-07-04T08:35:39.183Z"
   },
   {
    "duration": 26,
    "start_time": "2022-07-04T08:35:39.207Z"
   },
   {
    "duration": 0,
    "start_time": "2022-07-04T08:35:39.235Z"
   },
   {
    "duration": 0,
    "start_time": "2022-07-04T08:35:39.235Z"
   },
   {
    "duration": 0,
    "start_time": "2022-07-04T08:35:39.238Z"
   },
   {
    "duration": 0,
    "start_time": "2022-07-04T08:35:39.242Z"
   },
   {
    "duration": 0,
    "start_time": "2022-07-04T08:35:39.244Z"
   },
   {
    "duration": 0,
    "start_time": "2022-07-04T08:35:39.245Z"
   },
   {
    "duration": 0,
    "start_time": "2022-07-04T08:35:39.247Z"
   },
   {
    "duration": 0,
    "start_time": "2022-07-04T08:35:39.248Z"
   },
   {
    "duration": 11,
    "start_time": "2022-07-04T08:37:17.418Z"
   },
   {
    "duration": 15,
    "start_time": "2022-07-04T08:50:28.390Z"
   },
   {
    "duration": 18,
    "start_time": "2022-07-04T08:51:04.314Z"
   },
   {
    "duration": 5,
    "start_time": "2022-07-04T08:51:07.176Z"
   },
   {
    "duration": 855,
    "start_time": "2022-07-04T08:51:07.184Z"
   },
   {
    "duration": 23,
    "start_time": "2022-07-04T08:51:08.041Z"
   },
   {
    "duration": 36,
    "start_time": "2022-07-04T08:51:08.067Z"
   },
   {
    "duration": 35,
    "start_time": "2022-07-04T08:51:08.105Z"
   },
   {
    "duration": 20,
    "start_time": "2022-07-04T08:51:08.142Z"
   },
   {
    "duration": 8,
    "start_time": "2022-07-04T08:51:08.164Z"
   },
   {
    "duration": 18,
    "start_time": "2022-07-04T08:51:08.173Z"
   },
   {
    "duration": 6,
    "start_time": "2022-07-04T08:51:08.194Z"
   },
   {
    "duration": 13,
    "start_time": "2022-07-04T08:51:08.202Z"
   },
   {
    "duration": 23,
    "start_time": "2022-07-04T08:51:08.217Z"
   },
   {
    "duration": 0,
    "start_time": "2022-07-04T08:51:08.241Z"
   },
   {
    "duration": 0,
    "start_time": "2022-07-04T08:51:08.243Z"
   },
   {
    "duration": 0,
    "start_time": "2022-07-04T08:51:08.245Z"
   },
   {
    "duration": 26,
    "start_time": "2022-07-04T08:51:41.419Z"
   },
   {
    "duration": 4,
    "start_time": "2022-07-04T08:51:44.254Z"
   },
   {
    "duration": 871,
    "start_time": "2022-07-04T08:51:44.260Z"
   },
   {
    "duration": 29,
    "start_time": "2022-07-04T08:51:45.134Z"
   },
   {
    "duration": 38,
    "start_time": "2022-07-04T08:51:45.165Z"
   },
   {
    "duration": 35,
    "start_time": "2022-07-04T08:51:45.206Z"
   },
   {
    "duration": 27,
    "start_time": "2022-07-04T08:51:45.243Z"
   },
   {
    "duration": 12,
    "start_time": "2022-07-04T08:51:45.272Z"
   },
   {
    "duration": 14,
    "start_time": "2022-07-04T08:51:45.286Z"
   },
   {
    "duration": 11,
    "start_time": "2022-07-04T08:51:45.302Z"
   },
   {
    "duration": 18,
    "start_time": "2022-07-04T08:51:45.315Z"
   },
   {
    "duration": 7,
    "start_time": "2022-07-04T08:51:45.335Z"
   },
   {
    "duration": 20,
    "start_time": "2022-07-04T08:51:45.344Z"
   },
   {
    "duration": 15,
    "start_time": "2022-07-04T08:51:45.366Z"
   },
   {
    "duration": 15,
    "start_time": "2022-07-04T08:51:45.384Z"
   },
   {
    "duration": 10,
    "start_time": "2022-07-04T08:55:25.294Z"
   },
   {
    "duration": 15,
    "start_time": "2022-07-04T08:56:19.174Z"
   },
   {
    "duration": 14,
    "start_time": "2022-07-04T08:57:14.175Z"
   },
   {
    "duration": 8,
    "start_time": "2022-07-04T08:58:00.557Z"
   },
   {
    "duration": 50,
    "start_time": "2022-07-04T09:04:54.397Z"
   },
   {
    "duration": 26,
    "start_time": "2022-07-04T09:05:13.441Z"
   },
   {
    "duration": 108,
    "start_time": "2022-07-04T09:05:19.642Z"
   },
   {
    "duration": 1379,
    "start_time": "2022-07-04T11:14:35.412Z"
   },
   {
    "duration": 783,
    "start_time": "2022-07-04T11:14:36.793Z"
   },
   {
    "duration": 24,
    "start_time": "2022-07-04T11:14:37.578Z"
   },
   {
    "duration": 31,
    "start_time": "2022-07-04T11:14:37.605Z"
   },
   {
    "duration": 30,
    "start_time": "2022-07-04T11:14:37.638Z"
   },
   {
    "duration": 18,
    "start_time": "2022-07-04T11:14:37.670Z"
   },
   {
    "duration": 16,
    "start_time": "2022-07-04T11:14:37.690Z"
   },
   {
    "duration": 20,
    "start_time": "2022-07-04T11:14:37.707Z"
   },
   {
    "duration": 12,
    "start_time": "2022-07-04T11:14:37.730Z"
   },
   {
    "duration": 14,
    "start_time": "2022-07-04T11:14:37.745Z"
   },
   {
    "duration": 12,
    "start_time": "2022-07-04T11:14:37.760Z"
   },
   {
    "duration": 14,
    "start_time": "2022-07-04T11:14:37.774Z"
   },
   {
    "duration": 23,
    "start_time": "2022-07-04T11:14:37.790Z"
   },
   {
    "duration": 4,
    "start_time": "2022-07-04T11:14:37.826Z"
   },
   {
    "duration": 31,
    "start_time": "2022-07-04T11:14:37.832Z"
   },
   {
    "duration": 52,
    "start_time": "2022-07-04T11:14:37.865Z"
   },
   {
    "duration": 33,
    "start_time": "2022-07-04T11:14:37.919Z"
   },
   {
    "duration": 184,
    "start_time": "2022-07-04T11:14:37.954Z"
   },
   {
    "duration": 1733,
    "start_time": "2022-07-04T11:14:38.141Z"
   },
   {
    "duration": 323,
    "start_time": "2022-07-04T11:17:16.507Z"
   },
   {
    "duration": 393,
    "start_time": "2022-07-04T11:17:34.408Z"
   },
   {
    "duration": 4,
    "start_time": "2022-07-04T11:17:51.630Z"
   },
   {
    "duration": 832,
    "start_time": "2022-07-04T11:17:51.636Z"
   },
   {
    "duration": 21,
    "start_time": "2022-07-04T11:17:52.470Z"
   },
   {
    "duration": 34,
    "start_time": "2022-07-04T11:17:52.494Z"
   },
   {
    "duration": 23,
    "start_time": "2022-07-04T11:17:52.530Z"
   },
   {
    "duration": 18,
    "start_time": "2022-07-04T11:17:52.554Z"
   },
   {
    "duration": 7,
    "start_time": "2022-07-04T11:17:52.574Z"
   },
   {
    "duration": 19,
    "start_time": "2022-07-04T11:17:52.583Z"
   },
   {
    "duration": 30,
    "start_time": "2022-07-04T11:17:52.604Z"
   },
   {
    "duration": 9,
    "start_time": "2022-07-04T11:17:52.636Z"
   },
   {
    "duration": 9,
    "start_time": "2022-07-04T11:17:52.646Z"
   },
   {
    "duration": 17,
    "start_time": "2022-07-04T11:17:52.656Z"
   },
   {
    "duration": 12,
    "start_time": "2022-07-04T11:17:52.675Z"
   },
   {
    "duration": 4,
    "start_time": "2022-07-04T11:17:52.689Z"
   },
   {
    "duration": 42,
    "start_time": "2022-07-04T11:17:52.695Z"
   },
   {
    "duration": 43,
    "start_time": "2022-07-04T11:17:52.739Z"
   },
   {
    "duration": 43,
    "start_time": "2022-07-04T11:17:52.784Z"
   },
   {
    "duration": 117,
    "start_time": "2022-07-04T11:17:52.829Z"
   },
   {
    "duration": 317,
    "start_time": "2022-07-04T11:17:52.949Z"
   },
   {
    "duration": 0,
    "start_time": "2022-07-04T11:17:53.268Z"
   },
   {
    "duration": 1456,
    "start_time": "2022-07-04T11:18:14.075Z"
   },
   {
    "duration": 332,
    "start_time": "2022-07-04T11:19:36.864Z"
   },
   {
    "duration": 2556,
    "start_time": "2022-07-04T11:19:44.297Z"
   },
   {
    "duration": 1146,
    "start_time": "2022-07-04T11:21:50.626Z"
   },
   {
    "duration": 1324,
    "start_time": "2022-07-04T11:23:14.019Z"
   },
   {
    "duration": 2308,
    "start_time": "2022-07-04T11:25:10.361Z"
   },
   {
    "duration": 1498,
    "start_time": "2022-07-05T18:11:22.019Z"
   },
   {
    "duration": 1461,
    "start_time": "2022-07-05T18:11:23.520Z"
   },
   {
    "duration": 25,
    "start_time": "2022-07-05T18:11:24.982Z"
   },
   {
    "duration": 27,
    "start_time": "2022-07-05T18:11:25.009Z"
   },
   {
    "duration": 20,
    "start_time": "2022-07-05T18:11:25.037Z"
   },
   {
    "duration": 14,
    "start_time": "2022-07-05T18:11:25.059Z"
   },
   {
    "duration": 6,
    "start_time": "2022-07-05T18:11:25.074Z"
   },
   {
    "duration": 12,
    "start_time": "2022-07-05T18:11:25.081Z"
   },
   {
    "duration": 30,
    "start_time": "2022-07-05T18:11:25.094Z"
   },
   {
    "duration": 9,
    "start_time": "2022-07-05T18:11:25.127Z"
   },
   {
    "duration": 5,
    "start_time": "2022-07-05T18:11:25.138Z"
   },
   {
    "duration": 11,
    "start_time": "2022-07-05T18:11:25.144Z"
   },
   {
    "duration": 10,
    "start_time": "2022-07-05T18:11:25.157Z"
   },
   {
    "duration": 3,
    "start_time": "2022-07-05T18:11:25.169Z"
   },
   {
    "duration": 17,
    "start_time": "2022-07-05T18:11:25.174Z"
   },
   {
    "duration": 69,
    "start_time": "2022-07-05T18:11:25.193Z"
   },
   {
    "duration": 22,
    "start_time": "2022-07-05T18:11:25.264Z"
   },
   {
    "duration": 136,
    "start_time": "2022-07-05T18:11:25.288Z"
   },
   {
    "duration": 302,
    "start_time": "2022-07-05T18:11:25.426Z"
   },
   {
    "duration": 2175,
    "start_time": "2022-07-05T18:11:25.730Z"
   },
   {
    "duration": 946,
    "start_time": "2022-07-05T18:11:27.907Z"
   },
   {
    "duration": 0,
    "start_time": "2022-07-05T18:11:28.854Z"
   },
   {
    "duration": 850,
    "start_time": "2022-07-05T18:11:40.339Z"
   },
   {
    "duration": 866,
    "start_time": "2022-07-05T18:11:48.828Z"
   },
   {
    "duration": 19,
    "start_time": "2022-07-05T18:11:59.810Z"
   },
   {
    "duration": 815,
    "start_time": "2022-07-05T18:15:58.310Z"
   },
   {
    "duration": 225,
    "start_time": "2022-07-05T18:34:22.758Z"
   },
   {
    "duration": 200,
    "start_time": "2022-07-05T18:38:00.584Z"
   },
   {
    "duration": 60,
    "start_time": "2022-07-05T18:38:34.505Z"
   },
   {
    "duration": 204,
    "start_time": "2022-07-05T18:38:45.377Z"
   },
   {
    "duration": 396,
    "start_time": "2022-07-05T18:39:06.617Z"
   },
   {
    "duration": 1578,
    "start_time": "2022-07-06T08:20:20.676Z"
   },
   {
    "duration": 1228,
    "start_time": "2022-07-06T08:20:22.256Z"
   },
   {
    "duration": 27,
    "start_time": "2022-07-06T08:20:23.486Z"
   },
   {
    "duration": 24,
    "start_time": "2022-07-06T08:20:23.522Z"
   },
   {
    "duration": 23,
    "start_time": "2022-07-06T08:20:23.548Z"
   },
   {
    "duration": 18,
    "start_time": "2022-07-06T08:20:23.573Z"
   },
   {
    "duration": 11,
    "start_time": "2022-07-06T08:20:23.593Z"
   },
   {
    "duration": 10,
    "start_time": "2022-07-06T08:20:23.623Z"
   },
   {
    "duration": 12,
    "start_time": "2022-07-06T08:20:23.634Z"
   },
   {
    "duration": 11,
    "start_time": "2022-07-06T08:20:23.649Z"
   },
   {
    "duration": 8,
    "start_time": "2022-07-06T08:20:23.662Z"
   },
   {
    "duration": 11,
    "start_time": "2022-07-06T08:20:23.673Z"
   },
   {
    "duration": 47,
    "start_time": "2022-07-06T08:20:23.686Z"
   },
   {
    "duration": 4,
    "start_time": "2022-07-06T08:20:23.735Z"
   },
   {
    "duration": 22,
    "start_time": "2022-07-06T08:20:23.740Z"
   },
   {
    "duration": 62,
    "start_time": "2022-07-06T08:20:23.763Z"
   },
   {
    "duration": 25,
    "start_time": "2022-07-06T08:20:23.827Z"
   },
   {
    "duration": 148,
    "start_time": "2022-07-06T08:20:23.854Z"
   },
   {
    "duration": 322,
    "start_time": "2022-07-06T08:20:24.004Z"
   },
   {
    "duration": 2329,
    "start_time": "2022-07-06T08:20:24.328Z"
   },
   {
    "duration": 438,
    "start_time": "2022-07-06T08:20:26.659Z"
   },
   {
    "duration": 388,
    "start_time": "2022-07-06T08:20:27.099Z"
   },
   {
    "duration": 114,
    "start_time": "2022-07-06T08:46:01.876Z"
   },
   {
    "duration": 868,
    "start_time": "2022-07-06T08:46:12.499Z"
   },
   {
    "duration": 800,
    "start_time": "2022-07-06T08:46:51.207Z"
   },
   {
    "duration": 1453,
    "start_time": "2022-07-06T09:02:20.305Z"
   },
   {
    "duration": 779,
    "start_time": "2022-07-06T09:02:21.760Z"
   },
   {
    "duration": 28,
    "start_time": "2022-07-06T09:02:22.541Z"
   },
   {
    "duration": 22,
    "start_time": "2022-07-06T09:02:22.572Z"
   },
   {
    "duration": 46,
    "start_time": "2022-07-06T09:02:22.597Z"
   },
   {
    "duration": 16,
    "start_time": "2022-07-06T09:02:22.644Z"
   },
   {
    "duration": 3,
    "start_time": "2022-07-06T09:02:22.662Z"
   },
   {
    "duration": 13,
    "start_time": "2022-07-06T09:02:22.667Z"
   },
   {
    "duration": 13,
    "start_time": "2022-07-06T09:02:22.682Z"
   },
   {
    "duration": 9,
    "start_time": "2022-07-06T09:02:22.723Z"
   },
   {
    "duration": 10,
    "start_time": "2022-07-06T09:02:22.734Z"
   },
   {
    "duration": 9,
    "start_time": "2022-07-06T09:02:22.746Z"
   },
   {
    "duration": 13,
    "start_time": "2022-07-06T09:02:22.756Z"
   },
   {
    "duration": 4,
    "start_time": "2022-07-06T09:02:22.771Z"
   },
   {
    "duration": 53,
    "start_time": "2022-07-06T09:02:22.777Z"
   },
   {
    "duration": 44,
    "start_time": "2022-07-06T09:02:22.832Z"
   },
   {
    "duration": 46,
    "start_time": "2022-07-06T09:02:22.878Z"
   },
   {
    "duration": 140,
    "start_time": "2022-07-06T09:02:22.926Z"
   },
   {
    "duration": 328,
    "start_time": "2022-07-06T09:02:23.068Z"
   },
   {
    "duration": 2356,
    "start_time": "2022-07-06T09:02:23.397Z"
   },
   {
    "duration": 464,
    "start_time": "2022-07-06T09:02:25.755Z"
   },
   {
    "duration": 215,
    "start_time": "2022-07-06T09:02:26.223Z"
   },
   {
    "duration": 1009,
    "start_time": "2022-07-06T09:02:26.440Z"
   },
   {
    "duration": 13,
    "start_time": "2022-07-06T09:07:24.323Z"
   },
   {
    "duration": 16,
    "start_time": "2022-07-06T09:10:13.391Z"
   },
   {
    "duration": 948,
    "start_time": "2022-07-06T09:22:37.862Z"
   },
   {
    "duration": 1203,
    "start_time": "2022-07-06T09:23:20.695Z"
   },
   {
    "duration": 9,
    "start_time": "2022-07-06T09:26:35.026Z"
   },
   {
    "duration": 246,
    "start_time": "2022-07-06T09:27:24.885Z"
   },
   {
    "duration": 4,
    "start_time": "2022-07-06T09:27:49.207Z"
   },
   {
    "duration": 4,
    "start_time": "2022-07-06T09:28:01.617Z"
   },
   {
    "duration": 818,
    "start_time": "2022-07-06T09:28:01.623Z"
   },
   {
    "duration": 22,
    "start_time": "2022-07-06T09:28:02.443Z"
   },
   {
    "duration": 34,
    "start_time": "2022-07-06T09:28:02.467Z"
   },
   {
    "duration": 32,
    "start_time": "2022-07-06T09:28:02.502Z"
   },
   {
    "duration": 16,
    "start_time": "2022-07-06T09:28:02.536Z"
   },
   {
    "duration": 8,
    "start_time": "2022-07-06T09:28:02.554Z"
   },
   {
    "duration": 18,
    "start_time": "2022-07-06T09:28:02.564Z"
   },
   {
    "duration": 20,
    "start_time": "2022-07-06T09:28:02.583Z"
   },
   {
    "duration": 25,
    "start_time": "2022-07-06T09:28:02.606Z"
   },
   {
    "duration": 6,
    "start_time": "2022-07-06T09:28:02.633Z"
   },
   {
    "duration": 15,
    "start_time": "2022-07-06T09:28:02.641Z"
   },
   {
    "duration": 15,
    "start_time": "2022-07-06T09:28:02.658Z"
   },
   {
    "duration": 6,
    "start_time": "2022-07-06T09:28:02.674Z"
   },
   {
    "duration": 49,
    "start_time": "2022-07-06T09:28:02.682Z"
   },
   {
    "duration": 48,
    "start_time": "2022-07-06T09:28:02.733Z"
   },
   {
    "duration": 52,
    "start_time": "2022-07-06T09:28:02.783Z"
   },
   {
    "duration": 153,
    "start_time": "2022-07-06T09:28:02.837Z"
   },
   {
    "duration": 336,
    "start_time": "2022-07-06T09:28:02.991Z"
   },
   {
    "duration": 2381,
    "start_time": "2022-07-06T09:28:03.329Z"
   },
   {
    "duration": 515,
    "start_time": "2022-07-06T09:28:05.712Z"
   },
   {
    "duration": 241,
    "start_time": "2022-07-06T09:28:06.229Z"
   },
   {
    "duration": 13,
    "start_time": "2022-07-06T09:28:06.472Z"
   },
   {
    "duration": 5,
    "start_time": "2022-07-06T09:28:06.487Z"
   },
   {
    "duration": 221,
    "start_time": "2022-07-06T09:28:06.493Z"
   },
   {
    "duration": 8,
    "start_time": "2022-07-06T09:28:06.716Z"
   },
   {
    "duration": 89,
    "start_time": "2022-07-06T09:36:00.893Z"
   },
   {
    "duration": 37,
    "start_time": "2022-07-06T09:36:23.586Z"
   },
   {
    "duration": 4,
    "start_time": "2022-07-06T09:36:37.620Z"
   },
   {
    "duration": 6,
    "start_time": "2022-07-06T09:36:53.593Z"
   },
   {
    "duration": 785,
    "start_time": "2022-07-06T09:36:53.603Z"
   },
   {
    "duration": 33,
    "start_time": "2022-07-06T09:36:54.390Z"
   },
   {
    "duration": 24,
    "start_time": "2022-07-06T09:36:54.425Z"
   },
   {
    "duration": 28,
    "start_time": "2022-07-06T09:36:54.451Z"
   },
   {
    "duration": 16,
    "start_time": "2022-07-06T09:36:54.481Z"
   },
   {
    "duration": 4,
    "start_time": "2022-07-06T09:36:54.524Z"
   },
   {
    "duration": 24,
    "start_time": "2022-07-06T09:36:54.530Z"
   },
   {
    "duration": 25,
    "start_time": "2022-07-06T09:36:54.559Z"
   },
   {
    "duration": 12,
    "start_time": "2022-07-06T09:36:54.586Z"
   },
   {
    "duration": 29,
    "start_time": "2022-07-06T09:36:54.600Z"
   },
   {
    "duration": 15,
    "start_time": "2022-07-06T09:36:54.631Z"
   },
   {
    "duration": 14,
    "start_time": "2022-07-06T09:36:54.649Z"
   },
   {
    "duration": 6,
    "start_time": "2022-07-06T09:36:54.664Z"
   },
   {
    "duration": 16,
    "start_time": "2022-07-06T09:36:54.672Z"
   },
   {
    "duration": 77,
    "start_time": "2022-07-06T09:36:54.690Z"
   },
   {
    "duration": 28,
    "start_time": "2022-07-06T09:36:54.769Z"
   },
   {
    "duration": 149,
    "start_time": "2022-07-06T09:36:54.799Z"
   },
   {
    "duration": 304,
    "start_time": "2022-07-06T09:36:54.949Z"
   },
   {
    "duration": 2511,
    "start_time": "2022-07-06T09:36:55.255Z"
   },
   {
    "duration": 580,
    "start_time": "2022-07-06T09:36:57.768Z"
   },
   {
    "duration": 243,
    "start_time": "2022-07-06T09:36:58.351Z"
   },
   {
    "duration": 14,
    "start_time": "2022-07-06T09:36:58.596Z"
   },
   {
    "duration": 5,
    "start_time": "2022-07-06T09:36:58.625Z"
   },
   {
    "duration": 235,
    "start_time": "2022-07-06T09:36:58.632Z"
   },
   {
    "duration": 11,
    "start_time": "2022-07-06T09:36:58.870Z"
   },
   {
    "duration": 16,
    "start_time": "2022-07-06T09:36:58.883Z"
   },
   {
    "duration": 75,
    "start_time": "2022-07-06T09:36:58.902Z"
   },
   {
    "duration": 6,
    "start_time": "2022-07-06T09:36:58.979Z"
   },
   {
    "duration": 58,
    "start_time": "2022-07-06T09:48:30.240Z"
   },
   {
    "duration": 107,
    "start_time": "2022-07-06T09:49:00.175Z"
   },
   {
    "duration": 52,
    "start_time": "2022-07-06T09:49:08.053Z"
   },
   {
    "duration": 3,
    "start_time": "2022-07-06T09:51:18.562Z"
   },
   {
    "duration": 13,
    "start_time": "2022-07-06T09:54:54.875Z"
   },
   {
    "duration": 6,
    "start_time": "2022-07-06T09:57:22.756Z"
   },
   {
    "duration": 5,
    "start_time": "2022-07-06T10:00:32.891Z"
   },
   {
    "duration": 19,
    "start_time": "2022-07-06T10:02:36.347Z"
   },
   {
    "duration": 12,
    "start_time": "2022-07-06T10:03:06.681Z"
   },
   {
    "duration": 5,
    "start_time": "2022-07-06T10:55:04.280Z"
   },
   {
    "duration": 1086,
    "start_time": "2022-07-06T10:55:04.288Z"
   },
   {
    "duration": 34,
    "start_time": "2022-07-06T10:55:05.382Z"
   },
   {
    "duration": 67,
    "start_time": "2022-07-06T10:55:05.419Z"
   },
   {
    "duration": 54,
    "start_time": "2022-07-06T10:55:05.489Z"
   },
   {
    "duration": 67,
    "start_time": "2022-07-06T10:55:05.550Z"
   },
   {
    "duration": 67,
    "start_time": "2022-07-06T10:55:05.620Z"
   },
   {
    "duration": 25,
    "start_time": "2022-07-06T10:55:05.690Z"
   },
   {
    "duration": 19,
    "start_time": "2022-07-06T10:55:05.717Z"
   },
   {
    "duration": 49,
    "start_time": "2022-07-06T10:55:05.738Z"
   },
   {
    "duration": 10,
    "start_time": "2022-07-06T10:55:05.791Z"
   },
   {
    "duration": 32,
    "start_time": "2022-07-06T10:55:05.804Z"
   },
   {
    "duration": 55,
    "start_time": "2022-07-06T10:55:05.842Z"
   },
   {
    "duration": 5,
    "start_time": "2022-07-06T10:55:05.899Z"
   },
   {
    "duration": 30,
    "start_time": "2022-07-06T10:55:05.906Z"
   },
   {
    "duration": 98,
    "start_time": "2022-07-06T10:55:05.937Z"
   },
   {
    "duration": 39,
    "start_time": "2022-07-06T10:55:06.037Z"
   },
   {
    "duration": 166,
    "start_time": "2022-07-06T10:55:06.078Z"
   },
   {
    "duration": 417,
    "start_time": "2022-07-06T10:55:06.246Z"
   },
   {
    "duration": 3639,
    "start_time": "2022-07-06T10:55:06.669Z"
   },
   {
    "duration": 611,
    "start_time": "2022-07-06T10:55:10.312Z"
   },
   {
    "duration": 382,
    "start_time": "2022-07-06T10:55:10.933Z"
   },
   {
    "duration": 23,
    "start_time": "2022-07-06T10:55:11.322Z"
   },
   {
    "duration": 53,
    "start_time": "2022-07-06T10:55:11.350Z"
   },
   {
    "duration": 283,
    "start_time": "2022-07-06T10:55:11.406Z"
   },
   {
    "duration": 8,
    "start_time": "2022-07-06T10:55:11.695Z"
   },
   {
    "duration": 21,
    "start_time": "2022-07-06T10:55:11.705Z"
   },
   {
    "duration": 110,
    "start_time": "2022-07-06T10:55:11.728Z"
   },
   {
    "duration": 25,
    "start_time": "2022-07-06T10:55:11.846Z"
   },
   {
    "duration": 19,
    "start_time": "2022-07-06T10:55:11.879Z"
   },
   {
    "duration": 15,
    "start_time": "2022-07-06T10:55:11.901Z"
   },
   {
    "duration": 1723,
    "start_time": "2022-07-06T10:55:11.919Z"
   },
   {
    "duration": 9,
    "start_time": "2022-07-06T10:55:13.654Z"
   },
   {
    "duration": 15,
    "start_time": "2022-07-06T11:01:06.683Z"
   },
   {
    "duration": 40,
    "start_time": "2022-07-06T11:01:13.992Z"
   },
   {
    "duration": 5,
    "start_time": "2022-07-06T11:02:31.962Z"
   },
   {
    "duration": 8,
    "start_time": "2022-07-06T11:02:40.601Z"
   },
   {
    "duration": 6,
    "start_time": "2022-07-06T11:02:49.465Z"
   },
   {
    "duration": 6,
    "start_time": "2022-07-06T11:03:47.859Z"
   },
   {
    "duration": 15,
    "start_time": "2022-07-06T11:04:21.825Z"
   },
   {
    "duration": 9,
    "start_time": "2022-07-06T11:04:23.977Z"
   },
   {
    "duration": 14,
    "start_time": "2022-07-06T11:04:25.784Z"
   },
   {
    "duration": 577,
    "start_time": "2022-07-06T11:04:27.692Z"
   },
   {
    "duration": 6,
    "start_time": "2022-07-06T11:04:30.812Z"
   },
   {
    "duration": 45,
    "start_time": "2022-07-06T11:04:32.710Z"
   },
   {
    "duration": 16,
    "start_time": "2022-07-06T11:04:48.092Z"
   },
   {
    "duration": 5,
    "start_time": "2022-07-06T11:07:59.397Z"
   },
   {
    "duration": 10,
    "start_time": "2022-07-06T11:47:09.067Z"
   },
   {
    "duration": 6,
    "start_time": "2022-07-06T11:50:43.551Z"
   },
   {
    "duration": 12,
    "start_time": "2022-07-06T11:52:38.676Z"
   },
   {
    "duration": 5,
    "start_time": "2022-07-06T12:02:43.246Z"
   },
   {
    "duration": 29,
    "start_time": "2022-07-06T12:08:57.558Z"
   },
   {
    "duration": 1404,
    "start_time": "2022-07-06T12:12:42.365Z"
   },
   {
    "duration": 14,
    "start_time": "2022-07-06T12:12:52.355Z"
   },
   {
    "duration": 26,
    "start_time": "2022-07-06T12:13:01.983Z"
   },
   {
    "duration": 6,
    "start_time": "2022-07-06T12:13:11.865Z"
   },
   {
    "duration": 24,
    "start_time": "2022-07-06T12:13:46.922Z"
   },
   {
    "duration": 16,
    "start_time": "2022-07-06T12:13:56.100Z"
   },
   {
    "duration": 42571,
    "start_time": "2022-07-06T12:14:23.922Z"
   },
   {
    "duration": 6,
    "start_time": "2022-07-06T12:19:38.880Z"
   },
   {
    "duration": 15,
    "start_time": "2022-07-06T12:20:08.462Z"
   },
   {
    "duration": 17,
    "start_time": "2022-07-06T12:20:14.087Z"
   },
   {
    "duration": 6,
    "start_time": "2022-07-06T12:20:26.356Z"
   },
   {
    "duration": 937,
    "start_time": "2022-07-06T12:20:26.365Z"
   },
   {
    "duration": 52,
    "start_time": "2022-07-06T12:20:27.305Z"
   },
   {
    "duration": 34,
    "start_time": "2022-07-06T12:20:27.361Z"
   },
   {
    "duration": 46,
    "start_time": "2022-07-06T12:20:27.398Z"
   },
   {
    "duration": 37,
    "start_time": "2022-07-06T12:20:27.446Z"
   },
   {
    "duration": 16,
    "start_time": "2022-07-06T12:20:27.485Z"
   },
   {
    "duration": 27,
    "start_time": "2022-07-06T12:20:27.503Z"
   },
   {
    "duration": 35,
    "start_time": "2022-07-06T12:20:27.534Z"
   },
   {
    "duration": 13,
    "start_time": "2022-07-06T12:20:27.573Z"
   },
   {
    "duration": 7,
    "start_time": "2022-07-06T12:20:27.589Z"
   },
   {
    "duration": 13,
    "start_time": "2022-07-06T12:20:27.598Z"
   },
   {
    "duration": 38,
    "start_time": "2022-07-06T12:20:27.615Z"
   },
   {
    "duration": 11,
    "start_time": "2022-07-06T12:20:27.655Z"
   },
   {
    "duration": 19,
    "start_time": "2022-07-06T12:20:27.669Z"
   },
   {
    "duration": 78,
    "start_time": "2022-07-06T12:20:27.690Z"
   },
   {
    "duration": 40,
    "start_time": "2022-07-06T12:20:27.771Z"
   },
   {
    "duration": 158,
    "start_time": "2022-07-06T12:20:27.814Z"
   },
   {
    "duration": 339,
    "start_time": "2022-07-06T12:20:27.974Z"
   },
   {
    "duration": 3277,
    "start_time": "2022-07-06T12:20:28.315Z"
   },
   {
    "duration": 575,
    "start_time": "2022-07-06T12:20:31.595Z"
   },
   {
    "duration": 274,
    "start_time": "2022-07-06T12:20:32.172Z"
   },
   {
    "duration": 16,
    "start_time": "2022-07-06T12:20:32.457Z"
   },
   {
    "duration": 6,
    "start_time": "2022-07-06T12:20:32.475Z"
   },
   {
    "duration": 300,
    "start_time": "2022-07-06T12:20:32.483Z"
   },
   {
    "duration": 5,
    "start_time": "2022-07-06T12:20:32.786Z"
   },
   {
    "duration": 8,
    "start_time": "2022-07-06T12:20:32.793Z"
   },
   {
    "duration": 61,
    "start_time": "2022-07-06T12:20:32.803Z"
   },
   {
    "duration": 8,
    "start_time": "2022-07-06T12:20:32.866Z"
   },
   {
    "duration": 14,
    "start_time": "2022-07-06T12:20:32.876Z"
   },
   {
    "duration": 7,
    "start_time": "2022-07-06T12:20:32.892Z"
   },
   {
    "duration": 38,
    "start_time": "2022-07-06T12:20:32.901Z"
   },
   {
    "duration": 6,
    "start_time": "2022-07-06T12:20:32.940Z"
   },
   {
    "duration": 25,
    "start_time": "2022-07-06T12:20:32.948Z"
   },
   {
    "duration": 8,
    "start_time": "2022-07-06T12:20:32.975Z"
   },
   {
    "duration": 1447,
    "start_time": "2022-07-06T12:20:32.985Z"
   },
   {
    "duration": 209,
    "start_time": "2022-07-06T12:20:34.444Z"
   },
   {
    "duration": 69,
    "start_time": "2022-07-06T12:20:34.661Z"
   },
   {
    "duration": 0,
    "start_time": "2022-07-06T12:20:34.737Z"
   },
   {
    "duration": 0,
    "start_time": "2022-07-06T12:20:34.738Z"
   },
   {
    "duration": 0,
    "start_time": "2022-07-06T12:20:34.740Z"
   },
   {
    "duration": 0,
    "start_time": "2022-07-06T12:20:34.741Z"
   },
   {
    "duration": 0,
    "start_time": "2022-07-06T12:20:34.743Z"
   },
   {
    "duration": 5,
    "start_time": "2022-07-06T12:20:57.959Z"
   },
   {
    "duration": 2899,
    "start_time": "2022-07-06T12:21:06.452Z"
   },
   {
    "duration": 23,
    "start_time": "2022-07-06T12:21:14.722Z"
   },
   {
    "duration": 56,
    "start_time": "2022-07-06T12:21:18.059Z"
   },
   {
    "duration": 158085,
    "start_time": "2022-07-06T12:21:57.809Z"
   },
   {
    "duration": 6,
    "start_time": "2022-07-06T12:24:35.898Z"
   },
   {
    "duration": 3,
    "start_time": "2022-07-06T12:27:17.000Z"
   },
   {
    "duration": 21,
    "start_time": "2022-07-06T12:27:18.968Z"
   },
   {
    "duration": 7,
    "start_time": "2022-07-06T12:27:37.817Z"
   },
   {
    "duration": 919,
    "start_time": "2022-07-06T12:27:37.864Z"
   },
   {
    "duration": 50,
    "start_time": "2022-07-06T12:27:38.786Z"
   },
   {
    "duration": 42,
    "start_time": "2022-07-06T12:27:38.851Z"
   },
   {
    "duration": 38,
    "start_time": "2022-07-06T12:27:38.895Z"
   },
   {
    "duration": 81,
    "start_time": "2022-07-06T12:27:38.943Z"
   },
   {
    "duration": 4,
    "start_time": "2022-07-06T12:27:39.026Z"
   },
   {
    "duration": 14,
    "start_time": "2022-07-06T12:27:39.031Z"
   },
   {
    "duration": 49,
    "start_time": "2022-07-06T12:27:39.048Z"
   },
   {
    "duration": 17,
    "start_time": "2022-07-06T12:27:39.100Z"
   },
   {
    "duration": 68,
    "start_time": "2022-07-06T12:27:39.122Z"
   },
   {
    "duration": 28,
    "start_time": "2022-07-06T12:27:39.192Z"
   },
   {
    "duration": 47,
    "start_time": "2022-07-06T12:27:39.225Z"
   },
   {
    "duration": 29,
    "start_time": "2022-07-06T12:27:39.274Z"
   },
   {
    "duration": 30,
    "start_time": "2022-07-06T12:27:39.305Z"
   },
   {
    "duration": 91,
    "start_time": "2022-07-06T12:27:39.340Z"
   },
   {
    "duration": 36,
    "start_time": "2022-07-06T12:27:39.433Z"
   },
   {
    "duration": 180,
    "start_time": "2022-07-06T12:27:39.471Z"
   },
   {
    "duration": 401,
    "start_time": "2022-07-06T12:27:39.659Z"
   },
   {
    "duration": 3108,
    "start_time": "2022-07-06T12:27:40.067Z"
   },
   {
    "duration": 675,
    "start_time": "2022-07-06T12:27:43.178Z"
   },
   {
    "duration": 255,
    "start_time": "2022-07-06T12:27:43.861Z"
   },
   {
    "duration": 27,
    "start_time": "2022-07-06T12:27:44.118Z"
   },
   {
    "duration": 29,
    "start_time": "2022-07-06T12:27:44.149Z"
   },
   {
    "duration": 247,
    "start_time": "2022-07-06T12:27:44.180Z"
   },
   {
    "duration": 16,
    "start_time": "2022-07-06T12:27:44.437Z"
   },
   {
    "duration": 17,
    "start_time": "2022-07-06T12:27:44.457Z"
   },
   {
    "duration": 38,
    "start_time": "2022-07-06T12:27:44.477Z"
   },
   {
    "duration": 5,
    "start_time": "2022-07-06T12:27:44.518Z"
   },
   {
    "duration": 49,
    "start_time": "2022-07-06T12:27:44.527Z"
   },
   {
    "duration": 9,
    "start_time": "2022-07-06T12:27:44.577Z"
   },
   {
    "duration": 16,
    "start_time": "2022-07-06T12:27:44.588Z"
   },
   {
    "duration": 11,
    "start_time": "2022-07-06T12:27:44.606Z"
   },
   {
    "duration": 46,
    "start_time": "2022-07-06T12:27:44.620Z"
   },
   {
    "duration": 8,
    "start_time": "2022-07-06T12:27:44.668Z"
   },
   {
    "duration": 78,
    "start_time": "2022-07-06T12:27:44.678Z"
   },
   {
    "duration": 182,
    "start_time": "2022-07-06T12:27:44.852Z"
   },
   {
    "duration": 4430,
    "start_time": "2022-07-06T12:27:45.041Z"
   },
   {
    "duration": 57,
    "start_time": "2022-07-06T12:27:49.475Z"
   },
   {
    "duration": 39972,
    "start_time": "2022-07-06T12:27:49.539Z"
   },
   {
    "duration": 53,
    "start_time": "2022-07-06T12:28:29.513Z"
   },
   {
    "duration": 153162,
    "start_time": "2022-07-06T12:28:29.569Z"
   },
   {
    "duration": 10,
    "start_time": "2022-07-06T12:31:02.742Z"
   },
   {
    "duration": 3,
    "start_time": "2022-07-06T12:39:29.583Z"
   },
   {
    "duration": 2326,
    "start_time": "2022-07-06T12:39:36.653Z"
   },
   {
    "duration": 6,
    "start_time": "2022-07-06T12:55:26.353Z"
   },
   {
    "duration": 1046,
    "start_time": "2022-07-06T12:55:26.362Z"
   },
   {
    "duration": 43,
    "start_time": "2022-07-06T12:55:27.411Z"
   },
   {
    "duration": 41,
    "start_time": "2022-07-06T12:55:27.458Z"
   },
   {
    "duration": 50,
    "start_time": "2022-07-06T12:55:27.501Z"
   },
   {
    "duration": 19,
    "start_time": "2022-07-06T12:55:27.553Z"
   },
   {
    "duration": 7,
    "start_time": "2022-07-06T12:55:27.574Z"
   },
   {
    "duration": 18,
    "start_time": "2022-07-06T12:55:27.583Z"
   },
   {
    "duration": 36,
    "start_time": "2022-07-06T12:55:27.604Z"
   },
   {
    "duration": 23,
    "start_time": "2022-07-06T12:55:27.642Z"
   },
   {
    "duration": 8,
    "start_time": "2022-07-06T12:55:27.667Z"
   },
   {
    "duration": 13,
    "start_time": "2022-07-06T12:55:27.677Z"
   },
   {
    "duration": 43,
    "start_time": "2022-07-06T12:55:27.692Z"
   },
   {
    "duration": 11,
    "start_time": "2022-07-06T12:55:27.740Z"
   },
   {
    "duration": 24,
    "start_time": "2022-07-06T12:55:27.754Z"
   },
   {
    "duration": 74,
    "start_time": "2022-07-06T12:55:27.781Z"
   },
   {
    "duration": 32,
    "start_time": "2022-07-06T12:55:27.857Z"
   },
   {
    "duration": 220,
    "start_time": "2022-07-06T12:55:27.892Z"
   },
   {
    "duration": 389,
    "start_time": "2022-07-06T12:55:28.115Z"
   },
   {
    "duration": 3382,
    "start_time": "2022-07-06T12:55:28.507Z"
   },
   {
    "duration": 590,
    "start_time": "2022-07-06T12:55:31.891Z"
   },
   {
    "duration": 369,
    "start_time": "2022-07-06T12:55:32.483Z"
   },
   {
    "duration": 17,
    "start_time": "2022-07-06T12:55:32.858Z"
   },
   {
    "duration": 6,
    "start_time": "2022-07-06T12:55:32.883Z"
   },
   {
    "duration": 373,
    "start_time": "2022-07-06T12:55:32.891Z"
   },
   {
    "duration": 6,
    "start_time": "2022-07-06T12:55:33.267Z"
   },
   {
    "duration": 24,
    "start_time": "2022-07-06T12:55:33.275Z"
   },
   {
    "duration": 64,
    "start_time": "2022-07-06T12:55:33.301Z"
   },
   {
    "duration": 7,
    "start_time": "2022-07-06T12:55:33.368Z"
   },
   {
    "duration": 23,
    "start_time": "2022-07-06T12:55:33.377Z"
   },
   {
    "duration": 9,
    "start_time": "2022-07-06T12:55:33.404Z"
   },
   {
    "duration": 45,
    "start_time": "2022-07-06T12:55:33.424Z"
   },
   {
    "duration": 9,
    "start_time": "2022-07-06T12:55:33.472Z"
   },
   {
    "duration": 7,
    "start_time": "2022-07-06T12:55:33.484Z"
   },
   {
    "duration": 17,
    "start_time": "2022-07-06T12:55:33.494Z"
   },
   {
    "duration": 2125,
    "start_time": "2022-07-06T12:55:33.513Z"
   },
   {
    "duration": 96,
    "start_time": "2022-07-06T12:55:35.643Z"
   },
   {
    "duration": 8,
    "start_time": "2022-07-06T12:55:35.741Z"
   },
   {
    "duration": 2413,
    "start_time": "2022-07-06T12:55:35.760Z"
   },
   {
    "duration": 41818,
    "start_time": "2022-07-06T12:55:38.185Z"
   },
   {
    "duration": 70,
    "start_time": "2022-07-06T12:56:20.006Z"
   },
   {
    "duration": 7,
    "start_time": "2022-07-06T12:56:20.078Z"
   },
   {
    "duration": 162100,
    "start_time": "2022-07-06T12:56:20.088Z"
   },
   {
    "duration": 3,
    "start_time": "2022-07-06T13:00:30.061Z"
   },
   {
    "duration": 5,
    "start_time": "2022-07-06T13:00:35.361Z"
   },
   {
    "duration": 4466,
    "start_time": "2022-07-06T13:00:38.262Z"
   },
   {
    "duration": 3061,
    "start_time": "2022-07-07T01:56:48.209Z"
   },
   {
    "duration": 1135,
    "start_time": "2022-07-07T01:56:57.512Z"
   },
   {
    "duration": 23,
    "start_time": "2022-07-07T01:56:58.649Z"
   },
   {
    "duration": 19,
    "start_time": "2022-07-07T01:56:58.674Z"
   },
   {
    "duration": 23,
    "start_time": "2022-07-07T01:56:58.694Z"
   },
   {
    "duration": 13,
    "start_time": "2022-07-07T01:56:58.719Z"
   },
   {
    "duration": 5,
    "start_time": "2022-07-07T01:56:58.733Z"
   },
   {
    "duration": 11,
    "start_time": "2022-07-07T01:56:58.740Z"
   },
   {
    "duration": 13,
    "start_time": "2022-07-07T01:56:58.752Z"
   },
   {
    "duration": 35,
    "start_time": "2022-07-07T01:56:58.767Z"
   },
   {
    "duration": 5,
    "start_time": "2022-07-07T01:56:58.804Z"
   },
   {
    "duration": 10,
    "start_time": "2022-07-07T01:56:58.810Z"
   },
   {
    "duration": 12,
    "start_time": "2022-07-07T01:56:58.821Z"
   },
   {
    "duration": 4,
    "start_time": "2022-07-07T01:56:58.834Z"
   },
   {
    "duration": 20,
    "start_time": "2022-07-07T01:56:58.839Z"
   },
   {
    "duration": 68,
    "start_time": "2022-07-07T01:56:58.860Z"
   },
   {
    "duration": 24,
    "start_time": "2022-07-07T01:56:58.930Z"
   },
   {
    "duration": 145,
    "start_time": "2022-07-07T01:56:58.956Z"
   },
   {
    "duration": 299,
    "start_time": "2022-07-07T01:56:59.102Z"
   },
   {
    "duration": 2073,
    "start_time": "2022-07-07T01:56:59.402Z"
   },
   {
    "duration": 501,
    "start_time": "2022-07-07T01:57:01.477Z"
   },
   {
    "duration": 198,
    "start_time": "2022-07-07T01:57:01.980Z"
   },
   {
    "duration": 21,
    "start_time": "2022-07-07T01:57:02.179Z"
   },
   {
    "duration": 4,
    "start_time": "2022-07-07T01:57:02.202Z"
   },
   {
    "duration": 201,
    "start_time": "2022-07-07T01:57:02.208Z"
   },
   {
    "duration": 5,
    "start_time": "2022-07-07T01:57:02.410Z"
   },
   {
    "duration": 10,
    "start_time": "2022-07-07T01:57:02.417Z"
   },
   {
    "duration": 39,
    "start_time": "2022-07-07T01:57:02.429Z"
   },
   {
    "duration": 4,
    "start_time": "2022-07-07T01:57:02.471Z"
   },
   {
    "duration": 16,
    "start_time": "2022-07-07T01:57:02.476Z"
   },
   {
    "duration": 16,
    "start_time": "2022-07-07T01:57:02.493Z"
   },
   {
    "duration": 17,
    "start_time": "2022-07-07T01:57:02.510Z"
   },
   {
    "duration": 7,
    "start_time": "2022-07-07T01:57:02.528Z"
   },
   {
    "duration": 7,
    "start_time": "2022-07-07T01:57:02.537Z"
   },
   {
    "duration": 9,
    "start_time": "2022-07-07T01:57:02.546Z"
   },
   {
    "duration": 54,
    "start_time": "2022-07-07T01:57:02.556Z"
   },
   {
    "duration": 103,
    "start_time": "2022-07-07T01:57:02.701Z"
   },
   {
    "duration": 108,
    "start_time": "2022-07-07T01:57:02.806Z"
   },
   {
    "duration": 1803,
    "start_time": "2022-07-07T01:57:02.916Z"
   },
   {
    "duration": 0,
    "start_time": "2022-07-07T01:57:04.720Z"
   },
   {
    "duration": 0,
    "start_time": "2022-07-07T01:57:04.721Z"
   },
   {
    "duration": 1,
    "start_time": "2022-07-07T01:57:04.722Z"
   },
   {
    "duration": 0,
    "start_time": "2022-07-07T01:57:04.724Z"
   },
   {
    "duration": 4,
    "start_time": "2022-07-07T01:57:29.112Z"
   },
   {
    "duration": 93,
    "start_time": "2022-07-07T01:57:29.509Z"
   },
   {
    "duration": 12,
    "start_time": "2022-07-07T01:57:29.716Z"
   },
   {
    "duration": 4,
    "start_time": "2022-07-07T01:57:29.970Z"
   },
   {
    "duration": 1343,
    "start_time": "2022-07-07T01:57:30.260Z"
   },
   {
    "duration": 31991,
    "start_time": "2022-07-07T01:57:31.605Z"
   },
   {
    "duration": 44,
    "start_time": "2022-07-07T01:58:03.597Z"
   },
   {
    "duration": 4,
    "start_time": "2022-07-07T01:58:03.643Z"
   },
   {
    "duration": 93100,
    "start_time": "2022-07-07T01:58:03.648Z"
   },
   {
    "duration": 0,
    "start_time": "2022-07-07T01:59:36.751Z"
   },
   {
    "duration": 28,
    "start_time": "2022-07-07T02:00:03.797Z"
   },
   {
    "duration": 12,
    "start_time": "2022-07-07T02:00:10.848Z"
   },
   {
    "duration": 13,
    "start_time": "2022-07-07T02:00:26.389Z"
   },
   {
    "duration": 7,
    "start_time": "2022-07-07T02:02:03.865Z"
   },
   {
    "duration": 1731,
    "start_time": "2022-07-07T04:43:43.454Z"
   },
   {
    "duration": 4453,
    "start_time": "2022-07-07T04:43:45.188Z"
   },
   {
    "duration": 28,
    "start_time": "2022-07-07T04:43:49.643Z"
   },
   {
    "duration": 22,
    "start_time": "2022-07-07T04:43:49.673Z"
   },
   {
    "duration": 44,
    "start_time": "2022-07-07T04:43:49.700Z"
   },
   {
    "duration": 15,
    "start_time": "2022-07-07T04:43:49.746Z"
   },
   {
    "duration": 5,
    "start_time": "2022-07-07T04:43:49.763Z"
   },
   {
    "duration": 11,
    "start_time": "2022-07-07T04:43:49.770Z"
   },
   {
    "duration": 26,
    "start_time": "2022-07-07T04:43:49.783Z"
   },
   {
    "duration": 10,
    "start_time": "2022-07-07T04:43:49.811Z"
   },
   {
    "duration": 7,
    "start_time": "2022-07-07T04:43:49.823Z"
   },
   {
    "duration": 10,
    "start_time": "2022-07-07T04:43:49.832Z"
   },
   {
    "duration": 12,
    "start_time": "2022-07-07T04:43:49.844Z"
   },
   {
    "duration": 40,
    "start_time": "2022-07-07T04:43:49.859Z"
   },
   {
    "duration": 15,
    "start_time": "2022-07-07T04:43:49.900Z"
   },
   {
    "duration": 45,
    "start_time": "2022-07-07T04:43:49.918Z"
   },
   {
    "duration": 55,
    "start_time": "2022-07-07T04:43:49.965Z"
   },
   {
    "duration": 134,
    "start_time": "2022-07-07T04:43:50.022Z"
   },
   {
    "duration": 470,
    "start_time": "2022-07-07T04:43:50.158Z"
   },
   {
    "duration": 0,
    "start_time": "2022-07-07T04:43:50.630Z"
   },
   {
    "duration": 0,
    "start_time": "2022-07-07T04:43:50.631Z"
   },
   {
    "duration": 0,
    "start_time": "2022-07-07T04:43:50.632Z"
   },
   {
    "duration": 0,
    "start_time": "2022-07-07T04:43:50.633Z"
   },
   {
    "duration": 346,
    "start_time": "2022-07-07T04:44:22.973Z"
   },
   {
    "duration": 2459,
    "start_time": "2022-07-07T04:44:27.136Z"
   },
   {
    "duration": 467,
    "start_time": "2022-07-07T04:44:37.318Z"
   },
   {
    "duration": 350,
    "start_time": "2022-07-07T04:44:41.715Z"
   },
   {
    "duration": 13,
    "start_time": "2022-07-07T04:44:46.373Z"
   },
   {
    "duration": 3,
    "start_time": "2022-07-07T04:55:52.381Z"
   },
   {
    "duration": 3,
    "start_time": "2022-07-07T04:55:55.457Z"
   },
   {
    "duration": 4,
    "start_time": "2022-07-07T04:56:01.526Z"
   },
   {
    "duration": 10,
    "start_time": "2022-07-07T04:56:04.721Z"
   },
   {
    "duration": 10,
    "start_time": "2022-07-07T04:56:15.850Z"
   },
   {
    "duration": 16,
    "start_time": "2022-07-07T04:56:18.199Z"
   },
   {
    "duration": 647,
    "start_time": "2022-07-07T05:04:10.341Z"
   },
   {
    "duration": 13,
    "start_time": "2022-07-07T05:04:23.944Z"
   },
   {
    "duration": 30,
    "start_time": "2022-07-07T05:07:33.562Z"
   },
   {
    "duration": 5,
    "start_time": "2022-07-07T05:07:45.500Z"
   },
   {
    "duration": 27,
    "start_time": "2022-07-07T05:07:55.261Z"
   },
   {
    "duration": 4,
    "start_time": "2022-07-07T05:07:57.251Z"
   },
   {
    "duration": 5,
    "start_time": "2022-07-07T05:09:06.081Z"
   },
   {
    "duration": 789,
    "start_time": "2022-07-07T05:09:06.088Z"
   },
   {
    "duration": 35,
    "start_time": "2022-07-07T05:09:06.880Z"
   },
   {
    "duration": 29,
    "start_time": "2022-07-07T05:09:06.917Z"
   },
   {
    "duration": 30,
    "start_time": "2022-07-07T05:09:06.948Z"
   },
   {
    "duration": 38,
    "start_time": "2022-07-07T05:09:06.979Z"
   },
   {
    "duration": 6,
    "start_time": "2022-07-07T05:09:07.018Z"
   },
   {
    "duration": 14,
    "start_time": "2022-07-07T05:09:07.026Z"
   },
   {
    "duration": 16,
    "start_time": "2022-07-07T05:09:07.042Z"
   },
   {
    "duration": 10,
    "start_time": "2022-07-07T05:09:07.059Z"
   },
   {
    "duration": 34,
    "start_time": "2022-07-07T05:09:07.071Z"
   },
   {
    "duration": 9,
    "start_time": "2022-07-07T05:09:07.107Z"
   },
   {
    "duration": 12,
    "start_time": "2022-07-07T05:09:07.118Z"
   },
   {
    "duration": 4,
    "start_time": "2022-07-07T05:09:07.132Z"
   },
   {
    "duration": 24,
    "start_time": "2022-07-07T05:09:07.138Z"
   },
   {
    "duration": 4,
    "start_time": "2022-07-07T05:09:16.051Z"
   },
   {
    "duration": 24,
    "start_time": "2022-07-07T05:10:09.152Z"
   },
   {
    "duration": 28,
    "start_time": "2022-07-07T05:10:18.885Z"
   },
   {
    "duration": 28,
    "start_time": "2022-07-07T05:10:20.579Z"
   },
   {
    "duration": 5,
    "start_time": "2022-07-07T05:10:25.942Z"
   },
   {
    "duration": 769,
    "start_time": "2022-07-07T05:10:25.949Z"
   },
   {
    "duration": 36,
    "start_time": "2022-07-07T05:10:26.720Z"
   },
   {
    "duration": 29,
    "start_time": "2022-07-07T05:10:26.758Z"
   },
   {
    "duration": 35,
    "start_time": "2022-07-07T05:10:26.800Z"
   },
   {
    "duration": 21,
    "start_time": "2022-07-07T05:10:26.838Z"
   },
   {
    "duration": 15,
    "start_time": "2022-07-07T05:10:26.861Z"
   },
   {
    "duration": 28,
    "start_time": "2022-07-07T05:10:26.879Z"
   },
   {
    "duration": 23,
    "start_time": "2022-07-07T05:10:26.910Z"
   },
   {
    "duration": 12,
    "start_time": "2022-07-07T05:10:26.936Z"
   },
   {
    "duration": 13,
    "start_time": "2022-07-07T05:10:26.951Z"
   },
   {
    "duration": 14,
    "start_time": "2022-07-07T05:10:26.966Z"
   },
   {
    "duration": 20,
    "start_time": "2022-07-07T05:10:26.982Z"
   },
   {
    "duration": 25,
    "start_time": "2022-07-07T05:10:27.004Z"
   },
   {
    "duration": 36,
    "start_time": "2022-07-07T05:10:27.030Z"
   },
   {
    "duration": 27,
    "start_time": "2022-07-07T05:10:30.198Z"
   },
   {
    "duration": 31,
    "start_time": "2022-07-07T05:11:03.689Z"
   },
   {
    "duration": 24,
    "start_time": "2022-07-07T05:11:05.416Z"
   },
   {
    "duration": 7,
    "start_time": "2022-07-07T05:11:09.097Z"
   },
   {
    "duration": 815,
    "start_time": "2022-07-07T05:11:09.125Z"
   },
   {
    "duration": 23,
    "start_time": "2022-07-07T05:11:09.942Z"
   },
   {
    "duration": 36,
    "start_time": "2022-07-07T05:11:09.967Z"
   },
   {
    "duration": 36,
    "start_time": "2022-07-07T05:11:10.005Z"
   },
   {
    "duration": 15,
    "start_time": "2022-07-07T05:11:10.043Z"
   },
   {
    "duration": 5,
    "start_time": "2022-07-07T05:11:10.060Z"
   },
   {
    "duration": 15,
    "start_time": "2022-07-07T05:11:10.067Z"
   },
   {
    "duration": 29,
    "start_time": "2022-07-07T05:11:10.084Z"
   },
   {
    "duration": 11,
    "start_time": "2022-07-07T05:11:10.117Z"
   },
   {
    "duration": 6,
    "start_time": "2022-07-07T05:11:10.130Z"
   },
   {
    "duration": 16,
    "start_time": "2022-07-07T05:11:10.138Z"
   },
   {
    "duration": 13,
    "start_time": "2022-07-07T05:11:10.156Z"
   },
   {
    "duration": 32,
    "start_time": "2022-07-07T05:11:10.171Z"
   },
   {
    "duration": 35,
    "start_time": "2022-07-07T05:11:10.207Z"
   },
   {
    "duration": 27,
    "start_time": "2022-07-07T05:11:17.114Z"
   },
   {
    "duration": 14,
    "start_time": "2022-07-07T05:13:51.875Z"
   },
   {
    "duration": 4,
    "start_time": "2022-07-07T05:14:08.561Z"
   },
   {
    "duration": 862,
    "start_time": "2022-07-07T05:14:08.567Z"
   },
   {
    "duration": 30,
    "start_time": "2022-07-07T05:14:09.432Z"
   },
   {
    "duration": 52,
    "start_time": "2022-07-07T05:14:09.465Z"
   },
   {
    "duration": 25,
    "start_time": "2022-07-07T05:14:09.519Z"
   },
   {
    "duration": 15,
    "start_time": "2022-07-07T05:14:09.546Z"
   },
   {
    "duration": 8,
    "start_time": "2022-07-07T05:14:09.563Z"
   },
   {
    "duration": 40,
    "start_time": "2022-07-07T05:14:09.573Z"
   },
   {
    "duration": 12,
    "start_time": "2022-07-07T05:14:09.621Z"
   },
   {
    "duration": 11,
    "start_time": "2022-07-07T05:14:09.635Z"
   },
   {
    "duration": 6,
    "start_time": "2022-07-07T05:14:09.650Z"
   },
   {
    "duration": 13,
    "start_time": "2022-07-07T05:14:09.658Z"
   },
   {
    "duration": 36,
    "start_time": "2022-07-07T05:14:09.673Z"
   },
   {
    "duration": 5,
    "start_time": "2022-07-07T05:14:09.710Z"
   },
   {
    "duration": 16,
    "start_time": "2022-07-07T05:14:18.049Z"
   },
   {
    "duration": 21,
    "start_time": "2022-07-07T05:16:57.952Z"
   },
   {
    "duration": 30,
    "start_time": "2022-07-07T05:17:00.409Z"
   },
   {
    "duration": 34,
    "start_time": "2022-07-07T05:17:24.530Z"
   },
   {
    "duration": 23,
    "start_time": "2022-07-07T05:17:26.431Z"
   },
   {
    "duration": 51,
    "start_time": "2022-07-07T05:17:34.855Z"
   },
   {
    "duration": 24,
    "start_time": "2022-07-07T05:17:37.425Z"
   },
   {
    "duration": 4,
    "start_time": "2022-07-07T05:17:41.059Z"
   },
   {
    "duration": 810,
    "start_time": "2022-07-07T05:17:41.065Z"
   },
   {
    "duration": 30,
    "start_time": "2022-07-07T05:17:41.877Z"
   },
   {
    "duration": 40,
    "start_time": "2022-07-07T05:17:41.909Z"
   },
   {
    "duration": 21,
    "start_time": "2022-07-07T05:17:41.951Z"
   },
   {
    "duration": 15,
    "start_time": "2022-07-07T05:17:41.974Z"
   },
   {
    "duration": 3,
    "start_time": "2022-07-07T05:17:41.991Z"
   },
   {
    "duration": 27,
    "start_time": "2022-07-07T05:17:42.008Z"
   },
   {
    "duration": 10,
    "start_time": "2022-07-07T05:17:42.038Z"
   },
   {
    "duration": 8,
    "start_time": "2022-07-07T05:17:42.051Z"
   },
   {
    "duration": 6,
    "start_time": "2022-07-07T05:17:42.061Z"
   },
   {
    "duration": 10,
    "start_time": "2022-07-07T05:17:42.069Z"
   },
   {
    "duration": 28,
    "start_time": "2022-07-07T05:17:42.080Z"
   },
   {
    "duration": 5,
    "start_time": "2022-07-07T05:17:42.110Z"
   },
   {
    "duration": 25,
    "start_time": "2022-07-07T05:17:42.116Z"
   },
   {
    "duration": 27,
    "start_time": "2022-07-07T05:17:44.748Z"
   },
   {
    "duration": 30,
    "start_time": "2022-07-07T05:18:46.951Z"
   },
   {
    "duration": 25,
    "start_time": "2022-07-07T05:18:48.828Z"
   },
   {
    "duration": 4,
    "start_time": "2022-07-07T05:18:53.550Z"
   },
   {
    "duration": 875,
    "start_time": "2022-07-07T05:18:53.556Z"
   },
   {
    "duration": 21,
    "start_time": "2022-07-07T05:18:54.434Z"
   },
   {
    "duration": 24,
    "start_time": "2022-07-07T05:18:54.457Z"
   },
   {
    "duration": 47,
    "start_time": "2022-07-07T05:18:54.483Z"
   },
   {
    "duration": 15,
    "start_time": "2022-07-07T05:18:54.532Z"
   },
   {
    "duration": 5,
    "start_time": "2022-07-07T05:18:54.549Z"
   },
   {
    "duration": 14,
    "start_time": "2022-07-07T05:18:54.556Z"
   },
   {
    "duration": 29,
    "start_time": "2022-07-07T05:18:54.572Z"
   },
   {
    "duration": 12,
    "start_time": "2022-07-07T05:18:54.607Z"
   },
   {
    "duration": 16,
    "start_time": "2022-07-07T05:18:54.622Z"
   },
   {
    "duration": 8,
    "start_time": "2022-07-07T05:18:54.639Z"
   },
   {
    "duration": 12,
    "start_time": "2022-07-07T05:18:54.649Z"
   },
   {
    "duration": 5,
    "start_time": "2022-07-07T05:18:54.663Z"
   },
   {
    "duration": 48,
    "start_time": "2022-07-07T05:18:54.670Z"
   },
   {
    "duration": 40,
    "start_time": "2022-07-07T05:18:57.092Z"
   },
   {
    "duration": 13,
    "start_time": "2022-07-07T05:19:09.659Z"
   },
   {
    "duration": 4854,
    "start_time": "2022-07-07T05:20:06.705Z"
   },
   {
    "duration": 2136,
    "start_time": "2022-07-07T05:20:14.847Z"
   },
   {
    "duration": 40,
    "start_time": "2022-07-07T05:22:10.384Z"
   },
   {
    "duration": 11,
    "start_time": "2022-07-07T05:22:16.385Z"
   },
   {
    "duration": 10,
    "start_time": "2022-07-07T05:22:48.766Z"
   },
   {
    "duration": 4,
    "start_time": "2022-07-07T05:22:53.573Z"
   },
   {
    "duration": 4,
    "start_time": "2022-07-07T05:23:07.864Z"
   },
   {
    "duration": 35,
    "start_time": "2022-07-07T05:24:19.648Z"
   },
   {
    "duration": 1587,
    "start_time": "2022-07-07T05:26:58.980Z"
   },
   {
    "duration": 808,
    "start_time": "2022-07-07T05:27:00.569Z"
   },
   {
    "duration": 29,
    "start_time": "2022-07-07T05:27:01.379Z"
   },
   {
    "duration": 38,
    "start_time": "2022-07-07T05:27:01.410Z"
   },
   {
    "duration": 28,
    "start_time": "2022-07-07T05:27:01.450Z"
   },
   {
    "duration": 37,
    "start_time": "2022-07-07T05:27:01.479Z"
   },
   {
    "duration": 13,
    "start_time": "2022-07-07T05:27:01.521Z"
   },
   {
    "duration": 13,
    "start_time": "2022-07-07T05:27:01.536Z"
   },
   {
    "duration": 15,
    "start_time": "2022-07-07T05:27:01.551Z"
   },
   {
    "duration": 10,
    "start_time": "2022-07-07T05:27:01.568Z"
   },
   {
    "duration": 5,
    "start_time": "2022-07-07T05:27:01.580Z"
   },
   {
    "duration": 29,
    "start_time": "2022-07-07T05:27:01.588Z"
   },
   {
    "duration": 14,
    "start_time": "2022-07-07T05:27:01.625Z"
   },
   {
    "duration": 4,
    "start_time": "2022-07-07T05:27:01.643Z"
   },
   {
    "duration": 143,
    "start_time": "2022-07-07T05:27:01.648Z"
   },
   {
    "duration": 0,
    "start_time": "2022-07-07T05:27:01.793Z"
   },
   {
    "duration": 0,
    "start_time": "2022-07-07T05:27:01.794Z"
   },
   {
    "duration": 0,
    "start_time": "2022-07-07T05:27:01.795Z"
   },
   {
    "duration": 1,
    "start_time": "2022-07-07T05:27:01.796Z"
   },
   {
    "duration": 0,
    "start_time": "2022-07-07T05:27:01.798Z"
   },
   {
    "duration": 0,
    "start_time": "2022-07-07T05:27:01.801Z"
   },
   {
    "duration": 0,
    "start_time": "2022-07-07T05:27:01.802Z"
   },
   {
    "duration": 0,
    "start_time": "2022-07-07T05:27:01.803Z"
   },
   {
    "duration": 0,
    "start_time": "2022-07-07T05:27:01.804Z"
   },
   {
    "duration": 0,
    "start_time": "2022-07-07T05:27:01.806Z"
   },
   {
    "duration": 0,
    "start_time": "2022-07-07T05:27:01.810Z"
   },
   {
    "duration": 0,
    "start_time": "2022-07-07T05:27:01.811Z"
   },
   {
    "duration": 0,
    "start_time": "2022-07-07T05:27:01.812Z"
   },
   {
    "duration": 0,
    "start_time": "2022-07-07T05:27:01.813Z"
   },
   {
    "duration": 0,
    "start_time": "2022-07-07T05:27:01.814Z"
   },
   {
    "duration": 0,
    "start_time": "2022-07-07T05:27:01.814Z"
   },
   {
    "duration": 0,
    "start_time": "2022-07-07T05:27:01.815Z"
   },
   {
    "duration": 1,
    "start_time": "2022-07-07T05:27:01.819Z"
   },
   {
    "duration": 0,
    "start_time": "2022-07-07T05:27:01.821Z"
   },
   {
    "duration": 0,
    "start_time": "2022-07-07T05:27:01.822Z"
   },
   {
    "duration": 0,
    "start_time": "2022-07-07T05:27:01.823Z"
   },
   {
    "duration": 0,
    "start_time": "2022-07-07T05:27:01.824Z"
   },
   {
    "duration": 0,
    "start_time": "2022-07-07T05:27:01.825Z"
   },
   {
    "duration": 0,
    "start_time": "2022-07-07T05:27:01.826Z"
   },
   {
    "duration": 0,
    "start_time": "2022-07-07T05:27:01.827Z"
   },
   {
    "duration": 0,
    "start_time": "2022-07-07T05:27:01.828Z"
   },
   {
    "duration": 0,
    "start_time": "2022-07-07T05:27:01.833Z"
   },
   {
    "duration": 0,
    "start_time": "2022-07-07T05:27:01.834Z"
   },
   {
    "duration": 0,
    "start_time": "2022-07-07T05:27:01.836Z"
   },
   {
    "duration": 9,
    "start_time": "2022-07-07T05:28:44.536Z"
   },
   {
    "duration": 5,
    "start_time": "2022-07-07T05:28:48.089Z"
   },
   {
    "duration": 40,
    "start_time": "2022-07-07T05:28:58.187Z"
   },
   {
    "duration": 31,
    "start_time": "2022-07-07T05:29:16.661Z"
   },
   {
    "duration": 26,
    "start_time": "2022-07-07T05:29:51.294Z"
   },
   {
    "duration": 4,
    "start_time": "2022-07-07T05:29:57.425Z"
   },
   {
    "duration": 812,
    "start_time": "2022-07-07T05:29:57.431Z"
   },
   {
    "duration": 21,
    "start_time": "2022-07-07T05:29:58.245Z"
   },
   {
    "duration": 31,
    "start_time": "2022-07-07T05:29:58.268Z"
   },
   {
    "duration": 28,
    "start_time": "2022-07-07T05:29:58.301Z"
   },
   {
    "duration": 15,
    "start_time": "2022-07-07T05:29:58.330Z"
   },
   {
    "duration": 6,
    "start_time": "2022-07-07T05:29:58.346Z"
   },
   {
    "duration": 11,
    "start_time": "2022-07-07T05:29:58.354Z"
   },
   {
    "duration": 10,
    "start_time": "2022-07-07T05:29:58.366Z"
   },
   {
    "duration": 43,
    "start_time": "2022-07-07T05:29:58.377Z"
   },
   {
    "duration": 10,
    "start_time": "2022-07-07T05:29:58.424Z"
   },
   {
    "duration": 5,
    "start_time": "2022-07-07T05:29:58.436Z"
   },
   {
    "duration": 8,
    "start_time": "2022-07-07T05:29:58.442Z"
   },
   {
    "duration": 11,
    "start_time": "2022-07-07T05:29:58.453Z"
   },
   {
    "duration": 4,
    "start_time": "2022-07-07T05:29:58.465Z"
   },
   {
    "duration": 55,
    "start_time": "2022-07-07T05:29:58.471Z"
   },
   {
    "duration": 77,
    "start_time": "2022-07-07T05:29:58.528Z"
   },
   {
    "duration": 61,
    "start_time": "2022-07-07T05:29:58.613Z"
   },
   {
    "duration": 127,
    "start_time": "2022-07-07T05:29:58.676Z"
   },
   {
    "duration": 346,
    "start_time": "2022-07-07T05:29:58.809Z"
   },
   {
    "duration": 2483,
    "start_time": "2022-07-07T05:29:59.157Z"
   },
   {
    "duration": 417,
    "start_time": "2022-07-07T05:30:01.642Z"
   },
   {
    "duration": 2209,
    "start_time": "2022-07-07T05:30:02.061Z"
   },
   {
    "duration": 0,
    "start_time": "2022-07-07T05:30:04.273Z"
   },
   {
    "duration": 0,
    "start_time": "2022-07-07T05:30:04.274Z"
   },
   {
    "duration": 0,
    "start_time": "2022-07-07T05:30:04.276Z"
   },
   {
    "duration": 0,
    "start_time": "2022-07-07T05:30:04.277Z"
   },
   {
    "duration": 0,
    "start_time": "2022-07-07T05:30:04.278Z"
   },
   {
    "duration": 0,
    "start_time": "2022-07-07T05:30:04.280Z"
   },
   {
    "duration": 0,
    "start_time": "2022-07-07T05:30:04.281Z"
   },
   {
    "duration": 0,
    "start_time": "2022-07-07T05:30:04.282Z"
   },
   {
    "duration": 0,
    "start_time": "2022-07-07T05:30:04.283Z"
   },
   {
    "duration": 0,
    "start_time": "2022-07-07T05:30:04.299Z"
   },
   {
    "duration": 0,
    "start_time": "2022-07-07T05:30:04.300Z"
   },
   {
    "duration": 0,
    "start_time": "2022-07-07T05:30:04.301Z"
   },
   {
    "duration": 0,
    "start_time": "2022-07-07T05:30:04.302Z"
   },
   {
    "duration": 0,
    "start_time": "2022-07-07T05:30:04.302Z"
   },
   {
    "duration": 0,
    "start_time": "2022-07-07T05:30:04.307Z"
   },
   {
    "duration": 0,
    "start_time": "2022-07-07T05:30:04.308Z"
   },
   {
    "duration": 0,
    "start_time": "2022-07-07T05:30:04.309Z"
   },
   {
    "duration": 0,
    "start_time": "2022-07-07T05:30:04.310Z"
   },
   {
    "duration": 0,
    "start_time": "2022-07-07T05:30:04.311Z"
   },
   {
    "duration": 0,
    "start_time": "2022-07-07T05:30:04.311Z"
   },
   {
    "duration": 0,
    "start_time": "2022-07-07T05:30:04.312Z"
   },
   {
    "duration": 0,
    "start_time": "2022-07-07T05:30:04.315Z"
   },
   {
    "duration": 31,
    "start_time": "2022-07-07T05:30:31.668Z"
   },
   {
    "duration": 5,
    "start_time": "2022-07-07T05:33:03.469Z"
   },
   {
    "duration": 968,
    "start_time": "2022-07-07T05:33:03.476Z"
   },
   {
    "duration": 22,
    "start_time": "2022-07-07T05:33:04.446Z"
   },
   {
    "duration": 26,
    "start_time": "2022-07-07T05:33:04.470Z"
   },
   {
    "duration": 45,
    "start_time": "2022-07-07T05:33:04.501Z"
   },
   {
    "duration": 15,
    "start_time": "2022-07-07T05:33:04.548Z"
   },
   {
    "duration": 9,
    "start_time": "2022-07-07T05:33:04.565Z"
   },
   {
    "duration": 12,
    "start_time": "2022-07-07T05:33:04.576Z"
   },
   {
    "duration": 22,
    "start_time": "2022-07-07T05:33:04.589Z"
   },
   {
    "duration": 11,
    "start_time": "2022-07-07T05:33:04.619Z"
   },
   {
    "duration": 9,
    "start_time": "2022-07-07T05:33:04.631Z"
   },
   {
    "duration": 5,
    "start_time": "2022-07-07T05:33:04.641Z"
   },
   {
    "duration": 8,
    "start_time": "2022-07-07T05:33:04.648Z"
   },
   {
    "duration": 11,
    "start_time": "2022-07-07T05:33:04.658Z"
   },
   {
    "duration": 4,
    "start_time": "2022-07-07T05:33:04.671Z"
   },
   {
    "duration": 44,
    "start_time": "2022-07-07T05:33:04.677Z"
   },
   {
    "duration": 0,
    "start_time": "2022-07-07T05:33:04.724Z"
   },
   {
    "duration": 0,
    "start_time": "2022-07-07T05:33:04.725Z"
   },
   {
    "duration": 0,
    "start_time": "2022-07-07T05:33:04.727Z"
   },
   {
    "duration": 0,
    "start_time": "2022-07-07T05:33:04.728Z"
   },
   {
    "duration": 0,
    "start_time": "2022-07-07T05:33:04.730Z"
   },
   {
    "duration": 0,
    "start_time": "2022-07-07T05:33:04.731Z"
   },
   {
    "duration": 0,
    "start_time": "2022-07-07T05:33:04.733Z"
   },
   {
    "duration": 0,
    "start_time": "2022-07-07T05:33:04.734Z"
   },
   {
    "duration": 0,
    "start_time": "2022-07-07T05:33:04.735Z"
   },
   {
    "duration": 0,
    "start_time": "2022-07-07T05:33:04.736Z"
   },
   {
    "duration": 0,
    "start_time": "2022-07-07T05:33:04.738Z"
   },
   {
    "duration": 0,
    "start_time": "2022-07-07T05:33:04.739Z"
   },
   {
    "duration": 0,
    "start_time": "2022-07-07T05:33:04.740Z"
   },
   {
    "duration": 0,
    "start_time": "2022-07-07T05:33:04.741Z"
   },
   {
    "duration": 0,
    "start_time": "2022-07-07T05:33:04.743Z"
   },
   {
    "duration": 0,
    "start_time": "2022-07-07T05:33:04.744Z"
   },
   {
    "duration": 0,
    "start_time": "2022-07-07T05:33:04.746Z"
   },
   {
    "duration": 0,
    "start_time": "2022-07-07T05:33:04.747Z"
   },
   {
    "duration": 0,
    "start_time": "2022-07-07T05:33:04.748Z"
   },
   {
    "duration": 0,
    "start_time": "2022-07-07T05:33:04.750Z"
   },
   {
    "duration": 0,
    "start_time": "2022-07-07T05:33:04.751Z"
   },
   {
    "duration": 0,
    "start_time": "2022-07-07T05:33:04.752Z"
   },
   {
    "duration": 0,
    "start_time": "2022-07-07T05:33:04.801Z"
   },
   {
    "duration": 0,
    "start_time": "2022-07-07T05:33:04.802Z"
   },
   {
    "duration": 0,
    "start_time": "2022-07-07T05:33:04.803Z"
   },
   {
    "duration": 0,
    "start_time": "2022-07-07T05:33:04.804Z"
   },
   {
    "duration": 0,
    "start_time": "2022-07-07T05:33:04.812Z"
   },
   {
    "duration": 0,
    "start_time": "2022-07-07T05:33:04.813Z"
   },
   {
    "duration": 0,
    "start_time": "2022-07-07T05:33:04.814Z"
   },
   {
    "duration": 16,
    "start_time": "2022-07-07T05:33:29.812Z"
   },
   {
    "duration": 56,
    "start_time": "2022-07-07T05:33:31.886Z"
   },
   {
    "duration": 29,
    "start_time": "2022-07-07T05:33:33.317Z"
   },
   {
    "duration": 135,
    "start_time": "2022-07-07T05:33:34.924Z"
   },
   {
    "duration": 381,
    "start_time": "2022-07-07T05:33:43.892Z"
   },
   {
    "duration": 2457,
    "start_time": "2022-07-07T05:33:47.966Z"
   },
   {
    "duration": 391,
    "start_time": "2022-07-07T05:33:54.852Z"
   },
   {
    "duration": 243,
    "start_time": "2022-07-07T05:33:58.217Z"
   },
   {
    "duration": 1536,
    "start_time": "2022-07-07T05:34:06.955Z"
   },
   {
    "duration": 31,
    "start_time": "2022-07-07T05:37:38.379Z"
   },
   {
    "duration": 22,
    "start_time": "2022-07-07T05:37:59.013Z"
   },
   {
    "duration": 408,
    "start_time": "2022-07-07T05:45:48.285Z"
   },
   {
    "duration": 384,
    "start_time": "2022-07-07T05:46:09.926Z"
   },
   {
    "duration": 2751,
    "start_time": "2022-07-07T05:46:17.643Z"
   },
   {
    "duration": 552,
    "start_time": "2022-07-07T05:46:26.542Z"
   },
   {
    "duration": 241,
    "start_time": "2022-07-07T05:46:29.642Z"
   },
   {
    "duration": 291,
    "start_time": "2022-07-07T05:46:40.241Z"
   },
   {
    "duration": 4,
    "start_time": "2022-07-07T05:46:47.491Z"
   },
   {
    "duration": 4,
    "start_time": "2022-07-07T05:46:50.251Z"
   },
   {
    "duration": 52,
    "start_time": "2022-07-07T05:46:56.622Z"
   },
   {
    "duration": 9,
    "start_time": "2022-07-07T05:46:58.826Z"
   },
   {
    "duration": 5,
    "start_time": "2022-07-07T05:47:23.728Z"
   },
   {
    "duration": 840,
    "start_time": "2022-07-07T05:47:23.736Z"
   },
   {
    "duration": 34,
    "start_time": "2022-07-07T05:47:24.578Z"
   },
   {
    "duration": 66,
    "start_time": "2022-07-07T05:47:24.614Z"
   },
   {
    "duration": 44,
    "start_time": "2022-07-07T05:47:24.683Z"
   },
   {
    "duration": 32,
    "start_time": "2022-07-07T05:47:24.732Z"
   },
   {
    "duration": 3,
    "start_time": "2022-07-07T05:47:24.767Z"
   },
   {
    "duration": 16,
    "start_time": "2022-07-07T05:47:24.772Z"
   },
   {
    "duration": 18,
    "start_time": "2022-07-07T05:47:24.790Z"
   },
   {
    "duration": 23,
    "start_time": "2022-07-07T05:47:24.817Z"
   },
   {
    "duration": 14,
    "start_time": "2022-07-07T05:47:24.842Z"
   },
   {
    "duration": 9,
    "start_time": "2022-07-07T05:47:24.859Z"
   },
   {
    "duration": 14,
    "start_time": "2022-07-07T05:47:24.870Z"
   },
   {
    "duration": 28,
    "start_time": "2022-07-07T05:47:24.888Z"
   },
   {
    "duration": 14,
    "start_time": "2022-07-07T05:47:24.919Z"
   },
   {
    "duration": 15,
    "start_time": "2022-07-07T05:47:24.935Z"
   },
   {
    "duration": 41,
    "start_time": "2022-07-07T05:47:24.952Z"
   },
   {
    "duration": 38,
    "start_time": "2022-07-07T05:47:24.995Z"
   },
   {
    "duration": 142,
    "start_time": "2022-07-07T05:47:25.035Z"
   },
   {
    "duration": 330,
    "start_time": "2022-07-07T05:47:25.179Z"
   },
   {
    "duration": 2893,
    "start_time": "2022-07-07T05:47:25.510Z"
   },
   {
    "duration": 594,
    "start_time": "2022-07-07T05:47:28.410Z"
   },
   {
    "duration": 245,
    "start_time": "2022-07-07T05:47:29.011Z"
   },
   {
    "duration": 246,
    "start_time": "2022-07-07T05:47:29.258Z"
   },
   {
    "duration": 7,
    "start_time": "2022-07-07T05:47:29.505Z"
   },
   {
    "duration": 22,
    "start_time": "2022-07-07T05:47:29.522Z"
   },
   {
    "duration": 42,
    "start_time": "2022-07-07T05:47:29.546Z"
   },
   {
    "duration": 4,
    "start_time": "2022-07-07T05:47:29.590Z"
   },
   {
    "duration": 42,
    "start_time": "2022-07-07T05:47:29.597Z"
   },
   {
    "duration": 11,
    "start_time": "2022-07-07T05:47:29.641Z"
   },
   {
    "duration": 10,
    "start_time": "2022-07-07T05:47:29.655Z"
   },
   {
    "duration": 15,
    "start_time": "2022-07-07T05:47:29.667Z"
   },
   {
    "duration": 3,
    "start_time": "2022-07-07T05:47:29.684Z"
   },
   {
    "duration": 6,
    "start_time": "2022-07-07T05:47:29.688Z"
   },
   {
    "duration": 36,
    "start_time": "2022-07-07T05:47:29.696Z"
   },
   {
    "duration": 97,
    "start_time": "2022-07-07T05:47:29.734Z"
   },
   {
    "duration": 274,
    "start_time": "2022-07-07T05:47:29.834Z"
   },
   {
    "duration": 5,
    "start_time": "2022-07-07T05:47:30.112Z"
   },
   {
    "duration": 4186,
    "start_time": "2022-07-07T05:47:30.119Z"
   },
   {
    "duration": 8,
    "start_time": "2022-07-07T05:47:34.307Z"
   },
   {
    "duration": 29,
    "start_time": "2022-07-07T05:47:34.326Z"
   },
   {
    "duration": 0,
    "start_time": "2022-07-07T05:47:34.358Z"
   },
   {
    "duration": 0,
    "start_time": "2022-07-07T05:47:34.359Z"
   },
   {
    "duration": 0,
    "start_time": "2022-07-07T05:47:34.361Z"
   },
   {
    "duration": 2422,
    "start_time": "2022-07-07T06:38:17.180Z"
   },
   {
    "duration": 6,
    "start_time": "2022-07-07T06:38:23.637Z"
   },
   {
    "duration": 799,
    "start_time": "2022-07-07T06:38:23.650Z"
   },
   {
    "duration": 25,
    "start_time": "2022-07-07T06:38:24.452Z"
   },
   {
    "duration": 38,
    "start_time": "2022-07-07T06:38:24.479Z"
   },
   {
    "duration": 25,
    "start_time": "2022-07-07T06:38:24.519Z"
   },
   {
    "duration": 16,
    "start_time": "2022-07-07T06:38:24.546Z"
   },
   {
    "duration": 12,
    "start_time": "2022-07-07T06:38:24.564Z"
   },
   {
    "duration": 25,
    "start_time": "2022-07-07T06:38:24.578Z"
   },
   {
    "duration": 12,
    "start_time": "2022-07-07T06:38:24.605Z"
   },
   {
    "duration": 10,
    "start_time": "2022-07-07T06:38:24.619Z"
   },
   {
    "duration": 12,
    "start_time": "2022-07-07T06:38:24.631Z"
   },
   {
    "duration": 5,
    "start_time": "2022-07-07T06:38:24.646Z"
   },
   {
    "duration": 48,
    "start_time": "2022-07-07T06:38:24.652Z"
   },
   {
    "duration": 12,
    "start_time": "2022-07-07T06:38:24.702Z"
   },
   {
    "duration": 4,
    "start_time": "2022-07-07T06:38:24.717Z"
   },
   {
    "duration": 12,
    "start_time": "2022-07-07T06:38:24.722Z"
   },
   {
    "duration": 74,
    "start_time": "2022-07-07T06:38:24.736Z"
   },
   {
    "duration": 29,
    "start_time": "2022-07-07T06:38:24.812Z"
   },
   {
    "duration": 132,
    "start_time": "2022-07-07T06:38:24.842Z"
   },
   {
    "duration": 308,
    "start_time": "2022-07-07T06:38:24.976Z"
   },
   {
    "duration": 2653,
    "start_time": "2022-07-07T06:38:25.286Z"
   },
   {
    "duration": 436,
    "start_time": "2022-07-07T06:38:27.941Z"
   },
   {
    "duration": 249,
    "start_time": "2022-07-07T06:38:28.379Z"
   },
   {
    "duration": 228,
    "start_time": "2022-07-07T06:38:28.631Z"
   },
   {
    "duration": 5,
    "start_time": "2022-07-07T06:38:28.861Z"
   },
   {
    "duration": 6,
    "start_time": "2022-07-07T06:38:28.868Z"
   },
   {
    "duration": 59,
    "start_time": "2022-07-07T06:38:28.877Z"
   },
   {
    "duration": 6,
    "start_time": "2022-07-07T06:38:28.938Z"
   },
   {
    "duration": 13,
    "start_time": "2022-07-07T06:38:28.946Z"
   },
   {
    "duration": 14,
    "start_time": "2022-07-07T06:38:28.962Z"
   },
   {
    "duration": 28,
    "start_time": "2022-07-07T06:38:28.979Z"
   },
   {
    "duration": 21,
    "start_time": "2022-07-07T06:38:29.009Z"
   },
   {
    "duration": 5,
    "start_time": "2022-07-07T06:38:29.032Z"
   },
   {
    "duration": 6,
    "start_time": "2022-07-07T06:38:29.039Z"
   },
   {
    "duration": 5,
    "start_time": "2022-07-07T06:38:29.047Z"
   },
   {
    "duration": 1424,
    "start_time": "2022-07-07T06:38:31.877Z"
   },
   {
    "duration": 141542,
    "start_time": "2022-07-07T06:43:08.913Z"
   },
   {
    "duration": 5,
    "start_time": "2022-07-07T06:52:32.304Z"
   },
   {
    "duration": 144284,
    "start_time": "2022-07-07T07:05:40.272Z"
   },
   {
    "duration": 5,
    "start_time": "2022-07-07T07:08:04.558Z"
   },
   {
    "duration": 744,
    "start_time": "2022-07-07T07:08:04.565Z"
   },
   {
    "duration": 23,
    "start_time": "2022-07-07T07:08:05.311Z"
   },
   {
    "duration": 26,
    "start_time": "2022-07-07T07:08:05.336Z"
   },
   {
    "duration": 39,
    "start_time": "2022-07-07T07:08:05.364Z"
   },
   {
    "duration": 20,
    "start_time": "2022-07-07T07:08:05.405Z"
   },
   {
    "duration": 12,
    "start_time": "2022-07-07T07:08:05.427Z"
   },
   {
    "duration": 20,
    "start_time": "2022-07-07T07:08:05.441Z"
   },
   {
    "duration": 11,
    "start_time": "2022-07-07T07:08:05.464Z"
   },
   {
    "duration": 22,
    "start_time": "2022-07-07T07:08:05.477Z"
   },
   {
    "duration": 14,
    "start_time": "2022-07-07T07:08:05.501Z"
   },
   {
    "duration": 6,
    "start_time": "2022-07-07T07:08:05.517Z"
   },
   {
    "duration": 14,
    "start_time": "2022-07-07T07:08:05.525Z"
   },
   {
    "duration": 30,
    "start_time": "2022-07-07T07:08:05.541Z"
   },
   {
    "duration": 11,
    "start_time": "2022-07-07T07:08:05.573Z"
   },
   {
    "duration": 20,
    "start_time": "2022-07-07T07:08:05.585Z"
   },
   {
    "duration": 61,
    "start_time": "2022-07-07T07:08:05.607Z"
   },
   {
    "duration": 44,
    "start_time": "2022-07-07T07:08:05.670Z"
   },
   {
    "duration": 136,
    "start_time": "2022-07-07T07:08:05.715Z"
   },
   {
    "duration": 314,
    "start_time": "2022-07-07T07:08:05.853Z"
   },
   {
    "duration": 2651,
    "start_time": "2022-07-07T07:08:06.169Z"
   },
   {
    "duration": 455,
    "start_time": "2022-07-07T07:08:08.822Z"
   },
   {
    "duration": 237,
    "start_time": "2022-07-07T07:08:09.279Z"
   },
   {
    "duration": 217,
    "start_time": "2022-07-07T07:08:09.517Z"
   },
   {
    "duration": 4,
    "start_time": "2022-07-07T07:08:09.736Z"
   },
   {
    "duration": 6,
    "start_time": "2022-07-07T07:08:09.742Z"
   },
   {
    "duration": 57,
    "start_time": "2022-07-07T07:08:09.752Z"
   },
   {
    "duration": 4,
    "start_time": "2022-07-07T07:08:09.811Z"
   },
   {
    "duration": 10,
    "start_time": "2022-07-07T07:08:09.817Z"
   },
   {
    "duration": 8,
    "start_time": "2022-07-07T07:08:09.829Z"
   },
   {
    "duration": 16,
    "start_time": "2022-07-07T07:08:09.838Z"
   },
   {
    "duration": 16,
    "start_time": "2022-07-07T07:08:09.856Z"
   },
   {
    "duration": 4,
    "start_time": "2022-07-07T07:08:09.873Z"
   },
   {
    "duration": 5,
    "start_time": "2022-07-07T07:08:09.897Z"
   },
   {
    "duration": 6,
    "start_time": "2022-07-07T07:08:09.903Z"
   },
   {
    "duration": 145802,
    "start_time": "2022-07-07T07:08:18.655Z"
   },
   {
    "duration": 5,
    "start_time": "2022-07-07T07:11:58.205Z"
   },
   {
    "duration": 804,
    "start_time": "2022-07-07T07:11:58.212Z"
   },
   {
    "duration": 25,
    "start_time": "2022-07-07T07:11:59.017Z"
   },
   {
    "duration": 23,
    "start_time": "2022-07-07T07:11:59.044Z"
   },
   {
    "duration": 46,
    "start_time": "2022-07-07T07:11:59.069Z"
   },
   {
    "duration": 17,
    "start_time": "2022-07-07T07:11:59.117Z"
   },
   {
    "duration": 5,
    "start_time": "2022-07-07T07:11:59.136Z"
   },
   {
    "duration": 13,
    "start_time": "2022-07-07T07:11:59.143Z"
   },
   {
    "duration": 10,
    "start_time": "2022-07-07T07:11:59.159Z"
   },
   {
    "duration": 34,
    "start_time": "2022-07-07T07:11:59.172Z"
   },
   {
    "duration": 12,
    "start_time": "2022-07-07T07:11:59.207Z"
   },
   {
    "duration": 6,
    "start_time": "2022-07-07T07:11:59.221Z"
   },
   {
    "duration": 13,
    "start_time": "2022-07-07T07:11:59.229Z"
   },
   {
    "duration": 13,
    "start_time": "2022-07-07T07:11:59.243Z"
   },
   {
    "duration": 43,
    "start_time": "2022-07-07T07:11:59.257Z"
   },
   {
    "duration": 8,
    "start_time": "2022-07-07T07:11:59.302Z"
   },
   {
    "duration": 51,
    "start_time": "2022-07-07T07:11:59.312Z"
   },
   {
    "duration": 54,
    "start_time": "2022-07-07T07:11:59.366Z"
   },
   {
    "duration": 127,
    "start_time": "2022-07-07T07:11:59.422Z"
   },
   {
    "duration": 328,
    "start_time": "2022-07-07T07:11:59.551Z"
   },
   {
    "duration": 2465,
    "start_time": "2022-07-07T07:11:59.881Z"
   },
   {
    "duration": 415,
    "start_time": "2022-07-07T07:12:02.349Z"
   },
   {
    "duration": 239,
    "start_time": "2022-07-07T07:12:02.766Z"
   },
   {
    "duration": 213,
    "start_time": "2022-07-07T07:12:03.010Z"
   },
   {
    "duration": 4,
    "start_time": "2022-07-07T07:12:03.224Z"
   },
   {
    "duration": 12,
    "start_time": "2022-07-07T07:12:03.230Z"
   },
   {
    "duration": 54,
    "start_time": "2022-07-07T07:12:03.244Z"
   },
   {
    "duration": 4,
    "start_time": "2022-07-07T07:12:03.300Z"
   },
   {
    "duration": 15,
    "start_time": "2022-07-07T07:12:03.306Z"
   },
   {
    "duration": 12,
    "start_time": "2022-07-07T07:12:03.323Z"
   },
   {
    "duration": 14,
    "start_time": "2022-07-07T07:12:03.337Z"
   },
   {
    "duration": 21,
    "start_time": "2022-07-07T07:12:03.353Z"
   },
   {
    "duration": 3,
    "start_time": "2022-07-07T07:12:03.377Z"
   },
   {
    "duration": 18,
    "start_time": "2022-07-07T07:12:03.382Z"
   },
   {
    "duration": 5,
    "start_time": "2022-07-07T07:12:07.755Z"
   },
   {
    "duration": 145269,
    "start_time": "2022-07-07T07:12:11.275Z"
   },
   {
    "duration": 200,
    "start_time": "2022-07-07T07:17:08.500Z"
   },
   {
    "duration": 12,
    "start_time": "2022-07-07T07:17:12.211Z"
   },
   {
    "duration": 7,
    "start_time": "2022-07-07T07:17:16.212Z"
   },
   {
    "duration": 8,
    "start_time": "2022-07-07T07:17:20.892Z"
   },
   {
    "duration": 4,
    "start_time": "2022-07-07T07:17:58.783Z"
   },
   {
    "duration": 4,
    "start_time": "2022-07-07T07:18:01.076Z"
   },
   {
    "duration": 63,
    "start_time": "2022-07-07T07:18:08.647Z"
   },
   {
    "duration": 21,
    "start_time": "2022-07-07T07:18:11.359Z"
   },
   {
    "duration": 20,
    "start_time": "2022-07-07T07:18:14.158Z"
   },
   {
    "duration": 5,
    "start_time": "2022-07-07T07:40:09.143Z"
   },
   {
    "duration": 3,
    "start_time": "2022-07-07T07:46:38.840Z"
   },
   {
    "duration": 4,
    "start_time": "2022-07-07T07:46:47.967Z"
   },
   {
    "duration": 16,
    "start_time": "2022-07-07T07:47:20.355Z"
   },
   {
    "duration": 5,
    "start_time": "2022-07-07T08:08:10.392Z"
   },
   {
    "duration": 3,
    "start_time": "2022-07-07T08:14:19.935Z"
   },
   {
    "duration": 4,
    "start_time": "2022-07-07T08:15:05.373Z"
   },
   {
    "duration": 9890,
    "start_time": "2022-07-07T08:16:37.975Z"
   },
   {
    "duration": 10317,
    "start_time": "2022-07-07T08:18:18.260Z"
   },
   {
    "duration": 4,
    "start_time": "2022-07-07T08:25:52.533Z"
   },
   {
    "duration": 292499,
    "start_time": "2022-07-07T08:26:56.891Z"
   },
   {
    "duration": 300041,
    "start_time": "2022-07-07T08:40:13.795Z"
   },
   {
    "duration": 23,
    "start_time": "2022-07-07T08:45:54.988Z"
   },
   {
    "duration": 0,
    "start_time": "2022-07-07T09:21:44.456Z"
   },
   {
    "duration": 0,
    "start_time": "2022-07-07T09:21:44.458Z"
   },
   {
    "duration": 1201,
    "start_time": "2022-07-07T09:22:30.297Z"
   },
   {
    "duration": 1700,
    "start_time": "2022-07-07T09:25:32.094Z"
   },
   {
    "duration": 858,
    "start_time": "2022-07-07T09:25:33.797Z"
   },
   {
    "duration": 28,
    "start_time": "2022-07-07T09:25:34.657Z"
   },
   {
    "duration": 30,
    "start_time": "2022-07-07T09:25:34.687Z"
   },
   {
    "duration": 28,
    "start_time": "2022-07-07T09:25:34.718Z"
   },
   {
    "duration": 20,
    "start_time": "2022-07-07T09:25:34.748Z"
   },
   {
    "duration": 12,
    "start_time": "2022-07-07T09:25:34.770Z"
   },
   {
    "duration": 18,
    "start_time": "2022-07-07T09:25:34.784Z"
   },
   {
    "duration": 16,
    "start_time": "2022-07-07T09:25:34.804Z"
   },
   {
    "duration": 10,
    "start_time": "2022-07-07T09:25:34.822Z"
   },
   {
    "duration": 12,
    "start_time": "2022-07-07T09:25:34.835Z"
   },
   {
    "duration": 7,
    "start_time": "2022-07-07T09:25:34.850Z"
   },
   {
    "duration": 16,
    "start_time": "2022-07-07T09:25:34.898Z"
   },
   {
    "duration": 15,
    "start_time": "2022-07-07T09:25:34.916Z"
   },
   {
    "duration": 6,
    "start_time": "2022-07-07T09:25:34.933Z"
   },
   {
    "duration": 28,
    "start_time": "2022-07-07T09:25:34.941Z"
   },
   {
    "duration": 84,
    "start_time": "2022-07-07T09:25:34.971Z"
   },
   {
    "duration": 44,
    "start_time": "2022-07-07T09:25:35.058Z"
   },
   {
    "duration": 176,
    "start_time": "2022-07-07T09:25:35.105Z"
   },
   {
    "duration": 350,
    "start_time": "2022-07-07T09:25:35.283Z"
   },
   {
    "duration": 2605,
    "start_time": "2022-07-07T09:25:35.635Z"
   },
   {
    "duration": 421,
    "start_time": "2022-07-07T09:25:38.242Z"
   },
   {
    "duration": 415,
    "start_time": "2022-07-07T09:25:38.666Z"
   },
   {
    "duration": 220,
    "start_time": "2022-07-07T09:25:39.083Z"
   },
   {
    "duration": 4,
    "start_time": "2022-07-07T09:25:39.305Z"
   },
   {
    "duration": 9,
    "start_time": "2022-07-07T09:25:39.311Z"
   },
   {
    "duration": 49,
    "start_time": "2022-07-07T09:25:39.322Z"
   },
   {
    "duration": 4,
    "start_time": "2022-07-07T09:25:39.376Z"
   },
   {
    "duration": 9,
    "start_time": "2022-07-07T09:25:39.397Z"
   },
   {
    "duration": 12,
    "start_time": "2022-07-07T09:25:39.408Z"
   },
   {
    "duration": 26,
    "start_time": "2022-07-07T09:25:39.422Z"
   },
   {
    "duration": 27,
    "start_time": "2022-07-07T09:25:39.450Z"
   },
   {
    "duration": 4,
    "start_time": "2022-07-07T09:25:39.480Z"
   },
   {
    "duration": 12,
    "start_time": "2022-07-07T09:25:39.486Z"
   },
   {
    "duration": 1904,
    "start_time": "2022-07-07T09:25:39.500Z"
   },
   {
    "duration": 1482,
    "start_time": "2022-07-07T09:55:49.810Z"
   },
   {
    "duration": 818,
    "start_time": "2022-07-07T09:55:51.293Z"
   },
   {
    "duration": 25,
    "start_time": "2022-07-07T09:55:52.113Z"
   },
   {
    "duration": 22,
    "start_time": "2022-07-07T09:55:52.141Z"
   },
   {
    "duration": 46,
    "start_time": "2022-07-07T09:55:52.165Z"
   },
   {
    "duration": 16,
    "start_time": "2022-07-07T09:55:52.212Z"
   },
   {
    "duration": 3,
    "start_time": "2022-07-07T09:55:52.230Z"
   },
   {
    "duration": 16,
    "start_time": "2022-07-07T09:55:52.234Z"
   },
   {
    "duration": 50,
    "start_time": "2022-07-07T09:55:52.251Z"
   },
   {
    "duration": 12,
    "start_time": "2022-07-07T09:55:52.306Z"
   },
   {
    "duration": 11,
    "start_time": "2022-07-07T09:55:52.320Z"
   },
   {
    "duration": 6,
    "start_time": "2022-07-07T09:55:52.333Z"
   },
   {
    "duration": 13,
    "start_time": "2022-07-07T09:55:52.341Z"
   },
   {
    "duration": 43,
    "start_time": "2022-07-07T09:55:52.356Z"
   },
   {
    "duration": 6,
    "start_time": "2022-07-07T09:55:52.401Z"
   },
   {
    "duration": 18,
    "start_time": "2022-07-07T09:55:52.408Z"
   },
   {
    "duration": 44,
    "start_time": "2022-07-07T09:55:52.428Z"
   },
   {
    "duration": 48,
    "start_time": "2022-07-07T09:55:52.474Z"
   },
   {
    "duration": 147,
    "start_time": "2022-07-07T09:55:52.524Z"
   },
   {
    "duration": 341,
    "start_time": "2022-07-07T09:55:52.672Z"
   },
   {
    "duration": 2326,
    "start_time": "2022-07-07T09:55:53.015Z"
   },
   {
    "duration": 432,
    "start_time": "2022-07-07T09:55:55.343Z"
   },
   {
    "duration": 367,
    "start_time": "2022-07-07T09:55:55.777Z"
   },
   {
    "duration": 227,
    "start_time": "2022-07-07T09:55:56.146Z"
   },
   {
    "duration": 7,
    "start_time": "2022-07-07T09:55:56.375Z"
   },
   {
    "duration": 15,
    "start_time": "2022-07-07T09:55:56.384Z"
   },
   {
    "duration": 50,
    "start_time": "2022-07-07T09:55:56.401Z"
   },
   {
    "duration": 5,
    "start_time": "2022-07-07T09:55:56.455Z"
   },
   {
    "duration": 10,
    "start_time": "2022-07-07T09:55:56.462Z"
   },
   {
    "duration": 24,
    "start_time": "2022-07-07T09:55:56.474Z"
   },
   {
    "duration": 11,
    "start_time": "2022-07-07T09:55:56.500Z"
   },
   {
    "duration": 16,
    "start_time": "2022-07-07T09:55:56.513Z"
   },
   {
    "duration": 3,
    "start_time": "2022-07-07T09:55:56.531Z"
   },
   {
    "duration": 4,
    "start_time": "2022-07-07T09:55:56.536Z"
   },
   {
    "duration": 1666,
    "start_time": "2022-07-07T09:55:56.542Z"
   },
   {
    "duration": 17094,
    "start_time": "2022-07-07T09:55:58.210Z"
   },
   {
    "duration": 0,
    "start_time": "2022-07-07T09:56:15.306Z"
   },
   {
    "duration": 0,
    "start_time": "2022-07-07T09:56:15.307Z"
   },
   {
    "duration": 0,
    "start_time": "2022-07-07T09:56:15.308Z"
   },
   {
    "duration": 127,
    "start_time": "2022-07-07T09:56:23.978Z"
   },
   {
    "duration": 29,
    "start_time": "2022-07-07T09:56:39.271Z"
   },
   {
    "duration": 5,
    "start_time": "2022-07-07T09:56:43.248Z"
   },
   {
    "duration": 8,
    "start_time": "2022-07-07T09:56:46.772Z"
   },
   {
    "duration": 1139,
    "start_time": "2022-07-07T09:58:33.973Z"
   },
   {
    "duration": 1318,
    "start_time": "2022-07-07T09:58:43.484Z"
   },
   {
    "duration": 294566,
    "start_time": "2022-07-07T09:59:51.999Z"
   },
   {
    "duration": 234238,
    "start_time": "2022-07-07T10:10:22.061Z"
   },
   {
    "duration": 6,
    "start_time": "2022-07-07T10:14:56.970Z"
   },
   {
    "duration": 783,
    "start_time": "2022-07-07T10:14:56.978Z"
   },
   {
    "duration": 24,
    "start_time": "2022-07-07T10:14:57.763Z"
   },
   {
    "duration": 35,
    "start_time": "2022-07-07T10:14:57.789Z"
   },
   {
    "duration": 28,
    "start_time": "2022-07-07T10:14:57.826Z"
   },
   {
    "duration": 18,
    "start_time": "2022-07-07T10:14:57.855Z"
   },
   {
    "duration": 23,
    "start_time": "2022-07-07T10:14:57.875Z"
   },
   {
    "duration": 33,
    "start_time": "2022-07-07T10:14:57.900Z"
   },
   {
    "duration": 10,
    "start_time": "2022-07-07T10:14:57.935Z"
   },
   {
    "duration": 9,
    "start_time": "2022-07-07T10:14:57.947Z"
   },
   {
    "duration": 9,
    "start_time": "2022-07-07T10:14:57.957Z"
   },
   {
    "duration": 8,
    "start_time": "2022-07-07T10:14:57.967Z"
   },
   {
    "duration": 27,
    "start_time": "2022-07-07T10:14:57.976Z"
   },
   {
    "duration": 16,
    "start_time": "2022-07-07T10:14:58.007Z"
   },
   {
    "duration": 5,
    "start_time": "2022-07-07T10:14:58.024Z"
   },
   {
    "duration": 10,
    "start_time": "2022-07-07T10:14:58.031Z"
   },
   {
    "duration": 81,
    "start_time": "2022-07-07T10:14:58.043Z"
   },
   {
    "duration": 28,
    "start_time": "2022-07-07T10:14:58.126Z"
   },
   {
    "duration": 165,
    "start_time": "2022-07-07T10:14:58.158Z"
   },
   {
    "duration": 331,
    "start_time": "2022-07-07T10:14:58.324Z"
   },
   {
    "duration": 2422,
    "start_time": "2022-07-07T10:14:58.657Z"
   },
   {
    "duration": 404,
    "start_time": "2022-07-07T10:15:01.081Z"
   },
   {
    "duration": 248,
    "start_time": "2022-07-07T10:15:01.487Z"
   },
   {
    "duration": 220,
    "start_time": "2022-07-07T10:15:01.737Z"
   },
   {
    "duration": 5,
    "start_time": "2022-07-07T10:15:01.959Z"
   },
   {
    "duration": 19,
    "start_time": "2022-07-07T10:15:01.965Z"
   },
   {
    "duration": 48,
    "start_time": "2022-07-07T10:15:01.986Z"
   },
   {
    "duration": 7,
    "start_time": "2022-07-07T10:15:02.035Z"
   },
   {
    "duration": 12,
    "start_time": "2022-07-07T10:15:02.043Z"
   },
   {
    "duration": 9,
    "start_time": "2022-07-07T10:15:02.057Z"
   },
   {
    "duration": 16,
    "start_time": "2022-07-07T10:15:02.069Z"
   },
   {
    "duration": 27,
    "start_time": "2022-07-07T10:15:02.088Z"
   },
   {
    "duration": 4,
    "start_time": "2022-07-07T10:15:02.117Z"
   },
   {
    "duration": 11,
    "start_time": "2022-07-07T10:15:02.124Z"
   },
   {
    "duration": 1367,
    "start_time": "2022-07-07T10:15:02.137Z"
   },
   {
    "duration": 442,
    "start_time": "2022-07-07T10:15:03.507Z"
   },
   {
    "duration": 248,
    "start_time": "2022-07-07T10:15:03.951Z"
   },
   {
    "duration": 98,
    "start_time": "2022-07-07T10:15:04.202Z"
   },
   {
    "duration": 7,
    "start_time": "2022-07-07T10:15:04.302Z"
   },
   {
    "duration": 5,
    "start_time": "2022-07-07T10:15:28.069Z"
   },
   {
    "duration": 758,
    "start_time": "2022-07-07T10:15:28.076Z"
   },
   {
    "duration": 24,
    "start_time": "2022-07-07T10:15:28.835Z"
   },
   {
    "duration": 40,
    "start_time": "2022-07-07T10:15:28.861Z"
   },
   {
    "duration": 28,
    "start_time": "2022-07-07T10:15:28.904Z"
   },
   {
    "duration": 19,
    "start_time": "2022-07-07T10:15:28.934Z"
   },
   {
    "duration": 13,
    "start_time": "2022-07-07T10:15:28.954Z"
   },
   {
    "duration": 19,
    "start_time": "2022-07-07T10:15:28.970Z"
   },
   {
    "duration": 15,
    "start_time": "2022-07-07T10:15:28.999Z"
   },
   {
    "duration": 14,
    "start_time": "2022-07-07T10:15:29.016Z"
   },
   {
    "duration": 12,
    "start_time": "2022-07-07T10:15:29.033Z"
   },
   {
    "duration": 6,
    "start_time": "2022-07-07T10:15:29.048Z"
   },
   {
    "duration": 49,
    "start_time": "2022-07-07T10:15:29.056Z"
   },
   {
    "duration": 18,
    "start_time": "2022-07-07T10:15:29.110Z"
   },
   {
    "duration": 5,
    "start_time": "2022-07-07T10:15:29.130Z"
   },
   {
    "duration": 18,
    "start_time": "2022-07-07T10:15:29.137Z"
   },
   {
    "duration": 69,
    "start_time": "2022-07-07T10:15:29.157Z"
   },
   {
    "duration": 26,
    "start_time": "2022-07-07T10:15:29.228Z"
   },
   {
    "duration": 125,
    "start_time": "2022-07-07T10:15:29.256Z"
   },
   {
    "duration": 301,
    "start_time": "2022-07-07T10:15:29.383Z"
   },
   {
    "duration": 2520,
    "start_time": "2022-07-07T10:15:29.685Z"
   },
   {
    "duration": 386,
    "start_time": "2022-07-07T10:15:32.207Z"
   },
   {
    "duration": 247,
    "start_time": "2022-07-07T10:15:32.597Z"
   },
   {
    "duration": 219,
    "start_time": "2022-07-07T10:15:32.846Z"
   },
   {
    "duration": 4,
    "start_time": "2022-07-07T10:15:33.067Z"
   },
   {
    "duration": 9,
    "start_time": "2022-07-07T10:15:33.073Z"
   },
   {
    "duration": 51,
    "start_time": "2022-07-07T10:15:33.084Z"
   },
   {
    "duration": 3,
    "start_time": "2022-07-07T10:15:33.137Z"
   },
   {
    "duration": 9,
    "start_time": "2022-07-07T10:15:33.142Z"
   },
   {
    "duration": 10,
    "start_time": "2022-07-07T10:15:33.152Z"
   },
   {
    "duration": 12,
    "start_time": "2022-07-07T10:15:33.164Z"
   },
   {
    "duration": 29,
    "start_time": "2022-07-07T10:15:33.178Z"
   },
   {
    "duration": 3,
    "start_time": "2022-07-07T10:15:33.208Z"
   },
   {
    "duration": 6,
    "start_time": "2022-07-07T10:15:33.213Z"
   },
   {
    "duration": 1380,
    "start_time": "2022-07-07T10:15:33.222Z"
   },
   {
    "duration": 384438,
    "start_time": "2022-07-07T10:15:34.605Z"
   },
   {
    "duration": 157,
    "start_time": "2022-07-07T10:21:59.045Z"
   },
   {
    "duration": 98,
    "start_time": "2022-07-07T10:21:59.206Z"
   },
   {
    "duration": 96,
    "start_time": "2022-07-07T10:21:59.306Z"
   },
   {
    "duration": 3972,
    "start_time": "2022-07-07T17:27:20.108Z"
   },
   {
    "duration": 499,
    "start_time": "2022-07-07T17:29:44.792Z"
   },
   {
    "duration": 308,
    "start_time": "2022-07-07T17:29:53.586Z"
   },
   {
    "duration": 18,
    "start_time": "2022-07-07T17:29:57.960Z"
   },
   {
    "duration": 302,
    "start_time": "2022-07-07T17:30:24.557Z"
   },
   {
    "duration": 17,
    "start_time": "2022-07-07T17:30:25.071Z"
   },
   {
    "duration": 1588,
    "start_time": "2022-07-08T06:54:26.676Z"
   },
   {
    "duration": 1133,
    "start_time": "2022-07-08T06:54:28.266Z"
   },
   {
    "duration": 24,
    "start_time": "2022-07-08T06:54:29.400Z"
   },
   {
    "duration": 19,
    "start_time": "2022-07-08T06:54:29.426Z"
   },
   {
    "duration": 39,
    "start_time": "2022-07-08T06:54:29.446Z"
   },
   {
    "duration": 14,
    "start_time": "2022-07-08T06:54:29.487Z"
   },
   {
    "duration": 4,
    "start_time": "2022-07-08T06:54:29.503Z"
   },
   {
    "duration": 13,
    "start_time": "2022-07-08T06:54:29.509Z"
   },
   {
    "duration": 14,
    "start_time": "2022-07-08T06:54:29.523Z"
   },
   {
    "duration": 8,
    "start_time": "2022-07-08T06:54:29.539Z"
   },
   {
    "duration": 10,
    "start_time": "2022-07-08T06:54:29.548Z"
   },
   {
    "duration": 4,
    "start_time": "2022-07-08T06:54:29.560Z"
   },
   {
    "duration": 36,
    "start_time": "2022-07-08T06:54:29.566Z"
   },
   {
    "duration": 11,
    "start_time": "2022-07-08T06:54:29.604Z"
   },
   {
    "duration": 3,
    "start_time": "2022-07-08T06:54:29.617Z"
   },
   {
    "duration": 17,
    "start_time": "2022-07-08T06:54:29.622Z"
   },
   {
    "duration": 65,
    "start_time": "2022-07-08T06:54:29.641Z"
   },
   {
    "duration": 23,
    "start_time": "2022-07-08T06:54:29.708Z"
   },
   {
    "duration": 135,
    "start_time": "2022-07-08T06:54:29.733Z"
   },
   {
    "duration": 322,
    "start_time": "2022-07-08T06:54:29.870Z"
   },
   {
    "duration": 2603,
    "start_time": "2022-07-08T06:54:30.193Z"
   },
   {
    "duration": 454,
    "start_time": "2022-07-08T06:54:32.797Z"
   },
   {
    "duration": 218,
    "start_time": "2022-07-08T06:54:33.252Z"
   },
   {
    "duration": 196,
    "start_time": "2022-07-08T06:54:33.472Z"
   },
   {
    "duration": 4,
    "start_time": "2022-07-08T06:54:33.670Z"
   },
   {
    "duration": 27,
    "start_time": "2022-07-08T06:54:33.676Z"
   },
   {
    "duration": 64,
    "start_time": "2022-07-08T06:54:33.705Z"
   },
   {
    "duration": 4,
    "start_time": "2022-07-08T06:54:33.773Z"
   },
   {
    "duration": 46,
    "start_time": "2022-07-08T06:54:33.779Z"
   },
   {
    "duration": 40,
    "start_time": "2022-07-08T06:54:33.827Z"
   },
   {
    "duration": 43,
    "start_time": "2022-07-08T06:54:33.869Z"
   },
   {
    "duration": 63,
    "start_time": "2022-07-08T06:54:33.914Z"
   },
   {
    "duration": 9,
    "start_time": "2022-07-08T06:54:33.978Z"
   },
   {
    "duration": 56,
    "start_time": "2022-07-08T06:54:33.988Z"
   },
   {
    "duration": 1155,
    "start_time": "2022-07-08T06:54:34.046Z"
   },
   {
    "duration": 89619,
    "start_time": "2022-07-08T06:54:35.204Z"
   },
   {
    "duration": 0,
    "start_time": "2022-07-08T06:56:04.825Z"
   },
   {
    "duration": 0,
    "start_time": "2022-07-08T06:56:04.827Z"
   },
   {
    "duration": 0,
    "start_time": "2022-07-08T06:56:04.828Z"
   },
   {
    "duration": 1192,
    "start_time": "2022-07-08T06:57:07.511Z"
   },
   {
    "duration": 332750,
    "start_time": "2022-07-08T06:57:27.878Z"
   },
   {
    "duration": 50,
    "start_time": "2022-07-08T09:18:02.476Z"
   },
   {
    "duration": 1903,
    "start_time": "2022-07-08T09:18:12.640Z"
   },
   {
    "duration": 1635,
    "start_time": "2022-07-08T09:18:14.547Z"
   },
   {
    "duration": 42,
    "start_time": "2022-07-08T09:18:16.185Z"
   },
   {
    "duration": 30,
    "start_time": "2022-07-08T09:18:16.229Z"
   },
   {
    "duration": 37,
    "start_time": "2022-07-08T09:18:16.263Z"
   },
   {
    "duration": 16,
    "start_time": "2022-07-08T09:18:16.324Z"
   },
   {
    "duration": 7,
    "start_time": "2022-07-08T09:18:16.342Z"
   },
   {
    "duration": 14,
    "start_time": "2022-07-08T09:18:16.351Z"
   },
   {
    "duration": 18,
    "start_time": "2022-07-08T09:18:16.368Z"
   },
   {
    "duration": 44,
    "start_time": "2022-07-08T09:18:16.388Z"
   },
   {
    "duration": 12,
    "start_time": "2022-07-08T09:18:16.434Z"
   },
   {
    "duration": 10,
    "start_time": "2022-07-08T09:18:16.448Z"
   },
   {
    "duration": 19,
    "start_time": "2022-07-08T09:18:16.461Z"
   },
   {
    "duration": 49,
    "start_time": "2022-07-08T09:18:16.484Z"
   },
   {
    "duration": 7,
    "start_time": "2022-07-08T09:18:16.535Z"
   },
   {
    "duration": 19,
    "start_time": "2022-07-08T09:18:16.544Z"
   },
   {
    "duration": 79,
    "start_time": "2022-07-08T09:18:16.565Z"
   },
   {
    "duration": 27,
    "start_time": "2022-07-08T09:18:16.646Z"
   },
   {
    "duration": 150,
    "start_time": "2022-07-08T09:18:16.675Z"
   },
   {
    "duration": 363,
    "start_time": "2022-07-08T09:18:16.827Z"
   },
   {
    "duration": 3423,
    "start_time": "2022-07-08T09:18:17.192Z"
   },
   {
    "duration": 509,
    "start_time": "2022-07-08T09:18:20.624Z"
   },
   {
    "duration": 313,
    "start_time": "2022-07-08T09:18:21.136Z"
   },
   {
    "duration": 207,
    "start_time": "2022-07-08T09:18:21.451Z"
   },
   {
    "duration": 5,
    "start_time": "2022-07-08T09:18:21.660Z"
   },
   {
    "duration": 29,
    "start_time": "2022-07-08T09:18:21.667Z"
   },
   {
    "duration": 62,
    "start_time": "2022-07-08T09:18:21.697Z"
   },
   {
    "duration": 7,
    "start_time": "2022-07-08T09:18:21.762Z"
   },
   {
    "duration": 14,
    "start_time": "2022-07-08T09:18:21.770Z"
   },
   {
    "duration": 19,
    "start_time": "2022-07-08T09:18:21.786Z"
   },
   {
    "duration": 16,
    "start_time": "2022-07-08T09:18:21.808Z"
   },
   {
    "duration": 28,
    "start_time": "2022-07-08T09:18:21.826Z"
   },
   {
    "duration": 4,
    "start_time": "2022-07-08T09:18:21.857Z"
   },
   {
    "duration": 20,
    "start_time": "2022-07-08T09:18:21.864Z"
   },
   {
    "duration": 1444,
    "start_time": "2022-07-08T09:18:21.886Z"
   },
   {
    "duration": 366424,
    "start_time": "2022-07-08T09:18:23.332Z"
   },
   {
    "duration": 370,
    "start_time": "2022-07-08T09:24:29.759Z"
   },
   {
    "duration": 92,
    "start_time": "2022-07-08T09:24:30.133Z"
   },
   {
    "duration": 32,
    "start_time": "2022-07-08T09:24:30.234Z"
   },
   {
    "duration": 1756,
    "start_time": "2022-07-08T12:29:41.975Z"
   },
   {
    "duration": 4502,
    "start_time": "2022-07-08T12:29:43.733Z"
   },
   {
    "duration": 45,
    "start_time": "2022-07-08T12:29:48.237Z"
   },
   {
    "duration": 34,
    "start_time": "2022-07-08T12:29:48.284Z"
   },
   {
    "duration": 36,
    "start_time": "2022-07-08T12:29:48.321Z"
   },
   {
    "duration": 29,
    "start_time": "2022-07-08T12:29:48.359Z"
   },
   {
    "duration": 14,
    "start_time": "2022-07-08T12:29:48.390Z"
   },
   {
    "duration": 22,
    "start_time": "2022-07-08T12:29:48.406Z"
   },
   {
    "duration": 26,
    "start_time": "2022-07-08T12:29:48.431Z"
   },
   {
    "duration": 13,
    "start_time": "2022-07-08T12:29:48.460Z"
   },
   {
    "duration": 23,
    "start_time": "2022-07-08T12:29:48.475Z"
   },
   {
    "duration": 7,
    "start_time": "2022-07-08T12:29:48.500Z"
   },
   {
    "duration": 25,
    "start_time": "2022-07-08T12:29:48.508Z"
   },
   {
    "duration": 13,
    "start_time": "2022-07-08T12:29:48.537Z"
   },
   {
    "duration": 11,
    "start_time": "2022-07-08T12:29:48.552Z"
   },
   {
    "duration": 33,
    "start_time": "2022-07-08T12:29:48.565Z"
   },
   {
    "duration": 44,
    "start_time": "2022-07-08T12:29:48.600Z"
   },
   {
    "duration": 28,
    "start_time": "2022-07-08T12:29:48.646Z"
   },
   {
    "duration": 159,
    "start_time": "2022-07-08T12:29:48.677Z"
   },
   {
    "duration": 352,
    "start_time": "2022-07-08T12:29:48.838Z"
   },
   {
    "duration": 3155,
    "start_time": "2022-07-08T12:29:49.192Z"
   },
   {
    "duration": 566,
    "start_time": "2022-07-08T12:29:52.349Z"
   },
   {
    "duration": 238,
    "start_time": "2022-07-08T12:29:52.918Z"
   },
   {
    "duration": 210,
    "start_time": "2022-07-08T12:29:53.159Z"
   },
   {
    "duration": 5,
    "start_time": "2022-07-08T12:29:53.371Z"
   },
   {
    "duration": 6,
    "start_time": "2022-07-08T12:29:53.378Z"
   },
   {
    "duration": 54,
    "start_time": "2022-07-08T12:29:53.399Z"
   },
   {
    "duration": 4,
    "start_time": "2022-07-08T12:29:53.455Z"
   },
   {
    "duration": 13,
    "start_time": "2022-07-08T12:29:53.461Z"
   },
   {
    "duration": 25,
    "start_time": "2022-07-08T12:29:53.476Z"
   },
   {
    "duration": 19,
    "start_time": "2022-07-08T12:29:53.504Z"
   },
   {
    "duration": 15,
    "start_time": "2022-07-08T12:29:53.526Z"
   },
   {
    "duration": 3,
    "start_time": "2022-07-08T12:29:53.543Z"
   },
   {
    "duration": 12,
    "start_time": "2022-07-08T12:29:53.547Z"
   },
   {
    "duration": 1539,
    "start_time": "2022-07-08T12:29:53.561Z"
   },
   {
    "duration": 372380,
    "start_time": "2022-07-08T12:29:55.102Z"
   },
   {
    "duration": 326,
    "start_time": "2022-07-08T12:36:07.483Z"
   },
   {
    "duration": 7,
    "start_time": "2022-07-08T12:36:07.812Z"
   },
   {
    "duration": 96,
    "start_time": "2022-07-08T12:36:07.821Z"
   },
   {
    "duration": 367439,
    "start_time": "2022-07-08T12:48:57.384Z"
   }
  ],
  "kernelspec": {
   "display_name": "Python 3 (ipykernel)",
   "language": "python",
   "name": "python3"
  },
  "language_info": {
   "codemirror_mode": {
    "name": "ipython",
    "version": 3
   },
   "file_extension": ".py",
   "mimetype": "text/x-python",
   "name": "python",
   "nbconvert_exporter": "python",
   "pygments_lexer": "ipython3",
   "version": "3.9.7"
  },
  "toc": {
   "base_numbering": 1,
   "nav_menu": {},
   "number_sections": true,
   "sideBar": true,
   "skip_h1_title": true,
   "title_cell": "Table of Contents",
   "title_sidebar": "Contents",
   "toc_cell": false,
   "toc_position": {},
   "toc_section_display": true,
   "toc_window_display": false
  }
 },
 "nbformat": 4,
 "nbformat_minor": 2
}
