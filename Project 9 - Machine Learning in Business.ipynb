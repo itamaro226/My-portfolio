{
 "cells": [
  {
   "cell_type": "markdown",
   "metadata": {},
   "source": [
    "**Project description:**\n",
    "\n",
    "We work for the OilyGiant mining company. Our task is to find the best place for a new well.\n",
    "Steps to choose the location:\n",
    "\n",
    "Collect the oil well parameters in the selected region: oil quality and volume of reserves;\n",
    "\n",
    "Build a model for predicting the volume of reserves in the new wells;\n",
    "\n",
    "Pick the oil wells with the highest estimated values;\n",
    "\n",
    "Pick the region with the highest total profit for the selected oil wells."
   ]
  },
  {
   "cell_type": "markdown",
   "metadata": {},
   "source": [
    "**1.Preparation of the data.**"
   ]
  },
  {
   "cell_type": "code",
   "execution_count": 1,
   "metadata": {},
   "outputs": [],
   "source": [
    "#We will upload the libraries we need.\n",
    "import pandas as pd\n",
    "import numpy as np\n",
    "from sklearn.model_selection import cross_val_score\n",
    "from sklearn.model_selection import train_test_split\n",
    "from sklearn.metrics import accuracy_score\n",
    "from joblib import dump\n",
    "from sklearn.linear_model import LinearRegression\n",
    "from sklearn.metrics import mean_squared_error\n",
    "from sklearn.preprocessing import OneHotEncoder\n",
    "from sklearn.preprocessing import StandardScaler\n",
    "import matplotlib.pyplot as plt\n",
    "from scipy import stats as st"
   ]
  },
  {
   "cell_type": "code",
   "execution_count": 2,
   "metadata": {},
   "outputs": [],
   "source": [
    "#Let's load our data sets.\n",
    "data_0 = pd.read_csv('/datasets/geo_data_0.csv')\n",
    "data_1 = pd.read_csv('/datasets/geo_data_1.csv')\n",
    "data_2 = pd.read_csv('/datasets/geo_data_2.csv')"
   ]
  },
  {
   "cell_type": "code",
   "execution_count": 3,
   "metadata": {},
   "outputs": [
    {
     "data": {
      "text/html": [
       "<div>\n",
       "<style scoped>\n",
       "    .dataframe tbody tr th:only-of-type {\n",
       "        vertical-align: middle;\n",
       "    }\n",
       "\n",
       "    .dataframe tbody tr th {\n",
       "        vertical-align: top;\n",
       "    }\n",
       "\n",
       "    .dataframe thead th {\n",
       "        text-align: right;\n",
       "    }\n",
       "</style>\n",
       "<table border=\"1\" class=\"dataframe\">\n",
       "  <thead>\n",
       "    <tr style=\"text-align: right;\">\n",
       "      <th></th>\n",
       "      <th>id</th>\n",
       "      <th>f0</th>\n",
       "      <th>f1</th>\n",
       "      <th>f2</th>\n",
       "      <th>product</th>\n",
       "    </tr>\n",
       "  </thead>\n",
       "  <tbody>\n",
       "    <tr>\n",
       "      <th>0</th>\n",
       "      <td>txEyH</td>\n",
       "      <td>0.705745</td>\n",
       "      <td>-0.497823</td>\n",
       "      <td>1.221170</td>\n",
       "      <td>105.280062</td>\n",
       "    </tr>\n",
       "    <tr>\n",
       "      <th>1</th>\n",
       "      <td>2acmU</td>\n",
       "      <td>1.334711</td>\n",
       "      <td>-0.340164</td>\n",
       "      <td>4.365080</td>\n",
       "      <td>73.037750</td>\n",
       "    </tr>\n",
       "    <tr>\n",
       "      <th>2</th>\n",
       "      <td>409Wp</td>\n",
       "      <td>1.022732</td>\n",
       "      <td>0.151990</td>\n",
       "      <td>1.419926</td>\n",
       "      <td>85.265647</td>\n",
       "    </tr>\n",
       "    <tr>\n",
       "      <th>3</th>\n",
       "      <td>iJLyR</td>\n",
       "      <td>-0.032172</td>\n",
       "      <td>0.139033</td>\n",
       "      <td>2.978566</td>\n",
       "      <td>168.620776</td>\n",
       "    </tr>\n",
       "    <tr>\n",
       "      <th>4</th>\n",
       "      <td>Xdl7t</td>\n",
       "      <td>1.988431</td>\n",
       "      <td>0.155413</td>\n",
       "      <td>4.751769</td>\n",
       "      <td>154.036647</td>\n",
       "    </tr>\n",
       "  </tbody>\n",
       "</table>\n",
       "</div>"
      ],
      "text/plain": [
       "      id        f0        f1        f2     product\n",
       "0  txEyH  0.705745 -0.497823  1.221170  105.280062\n",
       "1  2acmU  1.334711 -0.340164  4.365080   73.037750\n",
       "2  409Wp  1.022732  0.151990  1.419926   85.265647\n",
       "3  iJLyR -0.032172  0.139033  2.978566  168.620776\n",
       "4  Xdl7t  1.988431  0.155413  4.751769  154.036647"
      ]
     },
     "execution_count": 3,
     "metadata": {},
     "output_type": "execute_result"
    }
   ],
   "source": [
    "#We will check if our data set looks correct.\n",
    "data_0.head()"
   ]
  },
  {
   "cell_type": "code",
   "execution_count": 4,
   "metadata": {},
   "outputs": [
    {
     "data": {
      "text/html": [
       "<div>\n",
       "<style scoped>\n",
       "    .dataframe tbody tr th:only-of-type {\n",
       "        vertical-align: middle;\n",
       "    }\n",
       "\n",
       "    .dataframe tbody tr th {\n",
       "        vertical-align: top;\n",
       "    }\n",
       "\n",
       "    .dataframe thead th {\n",
       "        text-align: right;\n",
       "    }\n",
       "</style>\n",
       "<table border=\"1\" class=\"dataframe\">\n",
       "  <thead>\n",
       "    <tr style=\"text-align: right;\">\n",
       "      <th></th>\n",
       "      <th>id</th>\n",
       "      <th>f0</th>\n",
       "      <th>f1</th>\n",
       "      <th>f2</th>\n",
       "      <th>product</th>\n",
       "    </tr>\n",
       "  </thead>\n",
       "  <tbody>\n",
       "    <tr>\n",
       "      <th>0</th>\n",
       "      <td>kBEdx</td>\n",
       "      <td>-15.001348</td>\n",
       "      <td>-8.276000</td>\n",
       "      <td>-0.005876</td>\n",
       "      <td>3.179103</td>\n",
       "    </tr>\n",
       "    <tr>\n",
       "      <th>1</th>\n",
       "      <td>62mP7</td>\n",
       "      <td>14.272088</td>\n",
       "      <td>-3.475083</td>\n",
       "      <td>0.999183</td>\n",
       "      <td>26.953261</td>\n",
       "    </tr>\n",
       "    <tr>\n",
       "      <th>2</th>\n",
       "      <td>vyE1P</td>\n",
       "      <td>6.263187</td>\n",
       "      <td>-5.948386</td>\n",
       "      <td>5.001160</td>\n",
       "      <td>134.766305</td>\n",
       "    </tr>\n",
       "    <tr>\n",
       "      <th>3</th>\n",
       "      <td>KcrkZ</td>\n",
       "      <td>-13.081196</td>\n",
       "      <td>-11.506057</td>\n",
       "      <td>4.999415</td>\n",
       "      <td>137.945408</td>\n",
       "    </tr>\n",
       "    <tr>\n",
       "      <th>4</th>\n",
       "      <td>AHL4O</td>\n",
       "      <td>12.702195</td>\n",
       "      <td>-8.147433</td>\n",
       "      <td>5.004363</td>\n",
       "      <td>134.766305</td>\n",
       "    </tr>\n",
       "  </tbody>\n",
       "</table>\n",
       "</div>"
      ],
      "text/plain": [
       "      id         f0         f1        f2     product\n",
       "0  kBEdx -15.001348  -8.276000 -0.005876    3.179103\n",
       "1  62mP7  14.272088  -3.475083  0.999183   26.953261\n",
       "2  vyE1P   6.263187  -5.948386  5.001160  134.766305\n",
       "3  KcrkZ -13.081196 -11.506057  4.999415  137.945408\n",
       "4  AHL4O  12.702195  -8.147433  5.004363  134.766305"
      ]
     },
     "execution_count": 4,
     "metadata": {},
     "output_type": "execute_result"
    }
   ],
   "source": [
    "data_1.head()"
   ]
  },
  {
   "cell_type": "code",
   "execution_count": 5,
   "metadata": {},
   "outputs": [
    {
     "data": {
      "text/html": [
       "<div>\n",
       "<style scoped>\n",
       "    .dataframe tbody tr th:only-of-type {\n",
       "        vertical-align: middle;\n",
       "    }\n",
       "\n",
       "    .dataframe tbody tr th {\n",
       "        vertical-align: top;\n",
       "    }\n",
       "\n",
       "    .dataframe thead th {\n",
       "        text-align: right;\n",
       "    }\n",
       "</style>\n",
       "<table border=\"1\" class=\"dataframe\">\n",
       "  <thead>\n",
       "    <tr style=\"text-align: right;\">\n",
       "      <th></th>\n",
       "      <th>id</th>\n",
       "      <th>f0</th>\n",
       "      <th>f1</th>\n",
       "      <th>f2</th>\n",
       "      <th>product</th>\n",
       "    </tr>\n",
       "  </thead>\n",
       "  <tbody>\n",
       "    <tr>\n",
       "      <th>0</th>\n",
       "      <td>fwXo0</td>\n",
       "      <td>-1.146987</td>\n",
       "      <td>0.963328</td>\n",
       "      <td>-0.828965</td>\n",
       "      <td>27.758673</td>\n",
       "    </tr>\n",
       "    <tr>\n",
       "      <th>1</th>\n",
       "      <td>WJtFt</td>\n",
       "      <td>0.262778</td>\n",
       "      <td>0.269839</td>\n",
       "      <td>-2.530187</td>\n",
       "      <td>56.069697</td>\n",
       "    </tr>\n",
       "    <tr>\n",
       "      <th>2</th>\n",
       "      <td>ovLUW</td>\n",
       "      <td>0.194587</td>\n",
       "      <td>0.289035</td>\n",
       "      <td>-5.586433</td>\n",
       "      <td>62.871910</td>\n",
       "    </tr>\n",
       "    <tr>\n",
       "      <th>3</th>\n",
       "      <td>q6cA6</td>\n",
       "      <td>2.236060</td>\n",
       "      <td>-0.553760</td>\n",
       "      <td>0.930038</td>\n",
       "      <td>114.572842</td>\n",
       "    </tr>\n",
       "    <tr>\n",
       "      <th>4</th>\n",
       "      <td>WPMUX</td>\n",
       "      <td>-0.515993</td>\n",
       "      <td>1.716266</td>\n",
       "      <td>5.899011</td>\n",
       "      <td>149.600746</td>\n",
       "    </tr>\n",
       "  </tbody>\n",
       "</table>\n",
       "</div>"
      ],
      "text/plain": [
       "      id        f0        f1        f2     product\n",
       "0  fwXo0 -1.146987  0.963328 -0.828965   27.758673\n",
       "1  WJtFt  0.262778  0.269839 -2.530187   56.069697\n",
       "2  ovLUW  0.194587  0.289035 -5.586433   62.871910\n",
       "3  q6cA6  2.236060 -0.553760  0.930038  114.572842\n",
       "4  WPMUX -0.515993  1.716266  5.899011  149.600746"
      ]
     },
     "execution_count": 5,
     "metadata": {},
     "output_type": "execute_result"
    }
   ],
   "source": [
    "data_2.head()"
   ]
  },
  {
   "cell_type": "code",
   "execution_count": 6,
   "metadata": {},
   "outputs": [
    {
     "data": {
      "text/plain": [
       "0"
      ]
     },
     "execution_count": 6,
     "metadata": {},
     "output_type": "execute_result"
    }
   ],
   "source": [
    "#We will check if we have duplicates in the data.\n",
    "data_0.duplicated().sum()"
   ]
  },
  {
   "cell_type": "code",
   "execution_count": 7,
   "metadata": {},
   "outputs": [
    {
     "data": {
      "text/plain": [
       "0"
      ]
     },
     "execution_count": 7,
     "metadata": {},
     "output_type": "execute_result"
    }
   ],
   "source": [
    "data_1.duplicated().sum()"
   ]
  },
  {
   "cell_type": "code",
   "execution_count": 8,
   "metadata": {},
   "outputs": [
    {
     "data": {
      "text/plain": [
       "0"
      ]
     },
     "execution_count": 8,
     "metadata": {},
     "output_type": "execute_result"
    }
   ],
   "source": [
    "data_2.duplicated().sum()"
   ]
  },
  {
   "cell_type": "code",
   "execution_count": 9,
   "metadata": {},
   "outputs": [
    {
     "data": {
      "text/plain": [
       "id         0\n",
       "f0         0\n",
       "f1         0\n",
       "f2         0\n",
       "product    0\n",
       "dtype: int64"
      ]
     },
     "execution_count": 9,
     "metadata": {},
     "output_type": "execute_result"
    }
   ],
   "source": [
    "#We will check if we have missing values in the data.\n",
    "pd.isnull(data_0).sum()"
   ]
  },
  {
   "cell_type": "code",
   "execution_count": 10,
   "metadata": {},
   "outputs": [
    {
     "data": {
      "text/plain": [
       "id         0\n",
       "f0         0\n",
       "f1         0\n",
       "f2         0\n",
       "product    0\n",
       "dtype: int64"
      ]
     },
     "execution_count": 10,
     "metadata": {},
     "output_type": "execute_result"
    }
   ],
   "source": [
    "pd.isnull(data_1).sum()"
   ]
  },
  {
   "cell_type": "code",
   "execution_count": 11,
   "metadata": {},
   "outputs": [
    {
     "data": {
      "text/plain": [
       "id         0\n",
       "f0         0\n",
       "f1         0\n",
       "f2         0\n",
       "product    0\n",
       "dtype: int64"
      ]
     },
     "execution_count": 11,
     "metadata": {},
     "output_type": "execute_result"
    }
   ],
   "source": [
    "pd.isnull(data_2).sum()"
   ]
  },
  {
   "cell_type": "markdown",
   "metadata": {},
   "source": [
    "Steps taken up to this point:\n",
    "\n",
    "1.Upload libraries and data sets.\n",
    "\n",
    "2.Checking the integrity of the columns of the data sets - correct.\n",
    "\n",
    "3.Search for duplicates - not found.\n",
    "\n",
    "4.Search for missing values ​​- not found.\n",
    "\n",
    "You can proceed to the next step."
   ]
  },
  {
   "cell_type": "markdown",
   "metadata": {},
   "source": [
    "**2.Train and test the model for each region.**"
   ]
  },
  {
   "cell_type": "code",
   "execution_count": 12,
   "metadata": {},
   "outputs": [],
   "source": [
    "#2.1. Split the data into a training set and validation set at a ratio of 75:25.\n",
    "data_0_train, data_0_valid = train_test_split(data_0, test_size=0.25, random_state=12345)\n",
    "data_1_train, data_1_valid = train_test_split(data_1, test_size=0.25, random_state=12345)\n",
    "data_2_train, data_2_valid = train_test_split(data_2, test_size=0.25, random_state=12345)"
   ]
  },
  {
   "cell_type": "code",
   "execution_count": 13,
   "metadata": {},
   "outputs": [],
   "source": [
    "#Defining features and targets.\n",
    "features_train_0 = data_0_train.drop(['product', 'id'], axis=1)\n",
    "target_train_0 = data_0_train['product']\n",
    "features_valid_0 = data_0_valid.drop(['product', 'id'], axis=1)\n",
    "target_valid_0 = data_0_valid['product']\n",
    "\n",
    "features_train_1 = data_1_train.drop(['product', 'id'], axis=1)\n",
    "target_train_1 = data_1_train['product']\n",
    "features_valid_1 = data_1_valid.drop(['product', 'id'], axis=1)\n",
    "target_valid_1 = data_1_valid['product']\n",
    "\n",
    "features_train_2 = data_2_train.drop(['product', 'id'], axis=1)\n",
    "target_train_2 = data_2_train['product']\n",
    "features_valid_2 = data_2_valid.drop(['product', 'id'], axis=1)\n",
    "target_valid_2 = data_2_valid['product']"
   ]
  },
  {
   "cell_type": "code",
   "execution_count": 14,
   "metadata": {},
   "outputs": [],
   "source": [
    "#let's scale the features using standardize the data.\n",
    "numeric = ['f0','f1','f2']\n",
    "scaler = StandardScaler()\n",
    "scaler.fit(features_train_0[numeric])\n",
    "\n",
    "features_train_0[numeric] = scaler.transform(features_train_0[numeric])\n",
    "features_valid_0[numeric] = scaler.transform(features_valid_0[numeric])\n",
    "\n",
    "features_train_1[numeric] = scaler.transform(features_train_1[numeric])\n",
    "features_valid_1[numeric] = scaler.transform(features_valid_1[numeric])\n",
    "\n",
    "features_train_2[numeric] = scaler.transform(features_train_2[numeric])\n",
    "features_valid_2[numeric] = scaler.transform(features_valid_2[numeric])"
   ]
  },
  {
   "cell_type": "code",
   "execution_count": 15,
   "metadata": {},
   "outputs": [
    {
     "name": "stdout",
     "output_type": "stream",
     "text": [
      "Average volume of predicted reserves region 0: 92.07859674082927\n",
      "RMSE of the linear regression model on the validation set region 0: 37.5794217150813\n"
     ]
    }
   ],
   "source": [
    "#2.2. Train the model and make predictions for the validation set.\n",
    "#Ragion 0:\n",
    "model = LinearRegression()\n",
    "model.fit(features_train_0, target_train_0) # train model on training set\n",
    "predictions_valid_0 = model.predict(features_valid_0) # get model predictions on validation set\n",
    "\n",
    "result = mean_squared_error(target_valid_0, predictions_valid_0)**0.5\n",
    "print(\"Average volume of predicted reserves region 0:\", target_valid_0.mean())\n",
    "print(\"RMSE of the linear regression model on the validation set region 0:\", result)"
   ]
  },
  {
   "cell_type": "code",
   "execution_count": 16,
   "metadata": {},
   "outputs": [
    {
     "name": "stdout",
     "output_type": "stream",
     "text": [
      "Average volume of predicted reserves region 1: 68.72313602435997\n",
      "RMSE of the linear regression model on the validation set region 1: 0.893099286775617\n"
     ]
    }
   ],
   "source": [
    "#Ragion 1:\n",
    "model = LinearRegression()\n",
    "model.fit(features_train_1, target_train_1) # train model on training set\n",
    "predictions_valid_1 = model.predict(features_valid_1) # get model predictions on validation set\n",
    "\n",
    "result = mean_squared_error(target_valid_1, predictions_valid_1)**0.5\n",
    "print(\"Average volume of predicted reserves region 1:\", target_valid_1.mean())\n",
    "print(\"RMSE of the linear regression model on the validation set region 1:\", result)"
   ]
  },
  {
   "cell_type": "code",
   "execution_count": 17,
   "metadata": {},
   "outputs": [
    {
     "name": "stdout",
     "output_type": "stream",
     "text": [
      "Average volume of predicted reserves region 2: 94.88423280885438\n",
      "RMSE of the linear regression model on the validation set region 2: 40.02970873393434\n"
     ]
    }
   ],
   "source": [
    "#Ragion 2:\n",
    "model = LinearRegression()\n",
    "model.fit(features_train_2, target_train_2) # train model on training set\n",
    "predictions_valid_2 = model.predict(features_valid_2) # get model predictions on validation set\n",
    "\n",
    "result = mean_squared_error(target_valid_2, predictions_valid_2)**0.5\n",
    "print(\"Average volume of predicted reserves region 2:\", target_valid_2.mean())\n",
    "print(\"RMSE of the linear regression model on the validation set region 2:\", result)"
   ]
  },
  {
   "cell_type": "markdown",
   "metadata": {},
   "source": [
    "**Analysis of results:**\n",
    "\n",
    "*Region 0:*\n",
    "\n",
    "Average volume of predicted reserves - 92.0\n",
    "\n",
    "RMSE 0 - 37.5\n",
    "\n",
    "*Region 1:*\n",
    "\n",
    "Average volume of predicted reserves - 68.7\n",
    "\n",
    "RMSE  - 0.89\n",
    "\n",
    "*Region 2:*\n",
    "\n",
    "Average volume of predicted reserves - 94.8\n",
    "\n",
    "RMSE  - 40.0\n",
    "\n",
    "It can be clearly seen that the RMSE score of region 1 is the lowest by a large margin from the other two, which means it is the most accurate and appropriate.\n",
    "Therefore we will use its result to evaluate the average volume of predicted reserves."
   ]
  },
  {
   "cell_type": "markdown",
   "metadata": {},
   "source": [
    "**3.Prepare for profit calculation.**"
   ]
  },
  {
   "cell_type": "code",
   "execution_count": 18,
   "metadata": {},
   "outputs": [],
   "source": [
    "#Store all key values for calculations in separate variables.\n",
    "TOTAL_BUDGET = 100000000\n",
    "TOTAL_WELLS = 200\n",
    "BUDGET_PER_WELLS = TOTAL_BUDGET/TOTAL_WELLS\n",
    "ONE_BARREL_REV = 4.5\n",
    "ONE_UNITE_REV = 4500\n",
    "VOL_REV_FOR_DEV = BUDGET_PER_WELLS / ONE_UNITE_REV"
   ]
  },
  {
   "cell_type": "code",
   "execution_count": 19,
   "metadata": {},
   "outputs": [
    {
     "name": "stdout",
     "output_type": "stream",
     "text": [
      "Budget for the development of one well: 500000.0\n",
      "Revenue of one reserve unit: 4500\n",
      "The volume of reserves sufficient for developing a new well without losses: 111.11111111111111\n"
     ]
    }
   ],
   "source": [
    "#3.2. Calculate the volume of reserves sufficient for developing a new well without losses.\n",
    "print(\"Budget for the development of one well:\", BUDGET_PER_WELLS)\n",
    "print(\"Revenue of one reserve unit:\",ONE_UNITE_REV)\n",
    "print(\"The volume of reserves sufficient for developing a new well without losses:\",VOL_REV_FOR_DEV)"
   ]
  },
  {
   "cell_type": "code",
   "execution_count": 20,
   "metadata": {},
   "outputs": [
    {
     "name": "stdout",
     "output_type": "stream",
     "text": [
      "Average volume of reserves region 0: 92.50000000000001\n",
      "Average volume of reserves region 1: 68.82500000000002\n",
      "Average volume of reserves region 2: 95.00000000000004\n",
      "The volume of reserves sufficient for developing a new well without losses: 111.11111111111111\n"
     ]
    }
   ],
   "source": [
    "#Compare the obtained value with the average volume of reserves in each region.\n",
    "print(\"Average volume of reserves region 0:\", data_0['product'].mean())\n",
    "print(\"Average volume of reserves region 1:\", data_1['product'].mean())\n",
    "print(\"Average volume of reserves region 2:\", data_2['product'].mean())\n",
    "print(\"The volume of reserves sufficient for developing a new well without losses:\",VOL_REV_FOR_DEV)"
   ]
  },
  {
   "cell_type": "markdown",
   "metadata": {},
   "source": [
    "It seems that at this stage, by average only, none of the areas will cover the cost of the well for us."
   ]
  },
  {
   "cell_type": "markdown",
   "metadata": {},
   "source": [
    "**4.Write a function to calculate profit from a set of selected oil wells and model predictions.\n",
    "Calculate risks and profit for each region.**"
   ]
  },
  {
   "cell_type": "code",
   "execution_count": 21,
   "metadata": {},
   "outputs": [],
   "source": [
    "#We will change what suits our actions.\n",
    "target_valid_0.reset_index(drop=True, inplace=True)\n",
    "target_valid_1.reset_index(drop=True, inplace=True)\n",
    "target_valid_2.reset_index(drop=True, inplace=True)"
   ]
  },
  {
   "cell_type": "code",
   "execution_count": 22,
   "metadata": {},
   "outputs": [],
   "source": [
    "predictions_valid_0 = pd.Series(predictions_valid_0)\n",
    "predictions_valid_1 = pd.Series(predictions_valid_1)\n",
    "predictions_valid_2 = pd.Series(predictions_valid_2)"
   ]
  },
  {
   "cell_type": "code",
   "execution_count": 34,
   "metadata": {},
   "outputs": [],
   "source": [
    "#5.1. Use the bootstrapping technique with 1000 samples to find the distribution of profit.\n",
    "\n",
    "def boot_strap(target, predictions):\n",
    "    def profit(target, probabilities):\n",
    "        probs_sorted = probabilities.sort_values(ascending=False)\n",
    "        selected = target[probs_sorted.index][:200]\n",
    "        well_boot = (selected*ONE_UNITE_REV) - BUDGET_PER_WELLS\n",
    "        return well_boot.sum()\n",
    "\n",
    "    state = np.random.RandomState(12345)\n",
    "    n_tests = 1000\n",
    "    values = []\n",
    "    for i in range(n_tests):\n",
    "        target_subsample = target.sample(n=500, replace=True, random_state=state)\n",
    "        probs_subsample = predictions[target_subsample.index]\n",
    "        sample = profit(target_subsample, probs_subsample)\n",
    "        values.append(sample)\n",
    "    \n",
    "    loss = 0\n",
    "    for val in values:\n",
    "        if val < 0:\n",
    "            loss += 1\n",
    "    values = pd.Series(values)\n",
    "    lower = values.quantile(0.025)\n",
    "\n",
    "    mean = values.mean()\n",
    "    print(\"Average profit:\", mean)\n",
    "    print(\"5% quantile:\", lower)\n",
    "    print('Number of losses:', loss)\n",
    "    print(\"percent losses:\", loss / n_tests * 100)"
   ]
  },
  {
   "cell_type": "code",
   "execution_count": 35,
   "metadata": {},
   "outputs": [
    {
     "name": "stdout",
     "output_type": "stream",
     "text": [
      "Average profit: 4259385.269105923\n",
      "5% quantile: -1020900.9483793728\n",
      "Number of losses: 60\n",
      "percent losses: 6.0\n"
     ]
    }
   ],
   "source": [
    "boot_strap(target_valid_0, predictions_valid_0)"
   ]
  },
  {
   "cell_type": "code",
   "execution_count": 36,
   "metadata": {},
   "outputs": [
    {
     "name": "stdout",
     "output_type": "stream",
     "text": [
      "Average profit: 5152227.734432898\n",
      "5% quantile: 688732.2537050338\n",
      "Number of losses: 10\n",
      "percent losses: 1.0\n"
     ]
    }
   ],
   "source": [
    "boot_strap(target_valid_1, predictions_valid_1)"
   ]
  },
  {
   "cell_type": "code",
   "execution_count": 37,
   "metadata": {},
   "outputs": [
    {
     "name": "stdout",
     "output_type": "stream",
     "text": [
      "Average profit: 4350083.627827557\n",
      "5% quantile: -1288805.4732978877\n",
      "Number of losses: 64\n",
      "percent losses: 6.4\n"
     ]
    }
   ],
   "source": [
    "boot_strap(target_valid_2, predictions_valid_2)"
   ]
  },
  {
   "cell_type": "markdown",
   "metadata": {},
   "source": [
    "Overall conclusion:\n",
    "\n",
    "The area I would choose is Area 1.\n",
    "Area 1 has the largest profit and the lowest number of losses.\n",
    "It can also be seen that even the bottom 5 percent of the area is still profitable, indicating that the non-profit wells (10 in number) have much lowered the average.\n",
    "This area also has the lowest chance of losses (1%)."
   ]
  }
 ],
 "metadata": {
  "ExecuteTimeLog": [
   {
    "duration": 1141,
    "start_time": "2022-06-25T11:55:21.438Z"
   },
   {
    "duration": 85,
    "start_time": "2022-06-25T11:57:26.697Z"
   },
   {
    "duration": 33,
    "start_time": "2022-06-25T11:57:39.274Z"
   },
   {
    "duration": 37,
    "start_time": "2022-06-25T11:58:16.332Z"
   },
   {
    "duration": 14,
    "start_time": "2022-06-25T11:58:27.590Z"
   },
   {
    "duration": 12,
    "start_time": "2022-06-25T11:59:34.835Z"
   },
   {
    "duration": 12,
    "start_time": "2022-06-25T12:00:13.041Z"
   },
   {
    "duration": 33,
    "start_time": "2022-06-25T12:00:19.054Z"
   },
   {
    "duration": 556,
    "start_time": "2022-06-25T12:01:46.825Z"
   },
   {
    "duration": 123,
    "start_time": "2022-06-25T12:02:12.213Z"
   },
   {
    "duration": 554,
    "start_time": "2022-06-25T12:02:34.608Z"
   },
   {
    "duration": 19,
    "start_time": "2022-06-25T12:04:06.073Z"
   },
   {
    "duration": 354,
    "start_time": "2022-06-25T12:04:08.082Z"
   },
   {
    "duration": 15,
    "start_time": "2022-06-25T12:04:26.834Z"
   },
   {
    "duration": 8,
    "start_time": "2022-06-25T12:04:44.934Z"
   },
   {
    "duration": 11,
    "start_time": "2022-06-25T12:04:58.697Z"
   },
   {
    "duration": 117,
    "start_time": "2022-06-25T12:08:47.400Z"
   },
   {
    "duration": 53,
    "start_time": "2022-06-25T12:08:52.007Z"
   },
   {
    "duration": 37,
    "start_time": "2022-06-25T12:08:58.988Z"
   },
   {
    "duration": 37,
    "start_time": "2022-06-25T12:09:05.404Z"
   },
   {
    "duration": 38,
    "start_time": "2022-06-25T12:09:58.013Z"
   },
   {
    "duration": 4,
    "start_time": "2022-06-25T12:11:17.616Z"
   },
   {
    "duration": 8,
    "start_time": "2022-06-25T12:11:48.765Z"
   },
   {
    "duration": 8,
    "start_time": "2022-06-25T12:11:52.333Z"
   },
   {
    "duration": 9,
    "start_time": "2022-06-25T12:11:54.678Z"
   },
   {
    "duration": 4,
    "start_time": "2022-06-25T12:12:06.246Z"
   },
   {
    "duration": 10,
    "start_time": "2022-06-25T12:12:08.977Z"
   },
   {
    "duration": 9,
    "start_time": "2022-06-25T12:13:18.814Z"
   },
   {
    "duration": 11,
    "start_time": "2022-06-25T12:13:29.678Z"
   },
   {
    "duration": 9,
    "start_time": "2022-06-25T12:13:36.567Z"
   },
   {
    "duration": 2,
    "start_time": "2022-06-25T12:14:20.575Z"
   },
   {
    "duration": 330,
    "start_time": "2022-06-25T12:14:20.579Z"
   },
   {
    "duration": 9,
    "start_time": "2022-06-25T12:14:20.911Z"
   },
   {
    "duration": 12,
    "start_time": "2022-06-25T12:14:20.922Z"
   },
   {
    "duration": 25,
    "start_time": "2022-06-25T12:14:20.947Z"
   },
   {
    "duration": 41,
    "start_time": "2022-06-25T12:14:20.974Z"
   },
   {
    "duration": 34,
    "start_time": "2022-06-25T12:14:21.017Z"
   },
   {
    "duration": 41,
    "start_time": "2022-06-25T12:14:21.053Z"
   },
   {
    "duration": 8,
    "start_time": "2022-06-25T12:14:21.096Z"
   },
   {
    "duration": 9,
    "start_time": "2022-06-25T12:14:21.106Z"
   },
   {
    "duration": 8,
    "start_time": "2022-06-25T12:14:21.116Z"
   },
   {
    "duration": 49,
    "start_time": "2022-06-25T12:23:52.301Z"
   },
   {
    "duration": 43,
    "start_time": "2022-06-25T12:25:11.763Z"
   },
   {
    "duration": 1098,
    "start_time": "2022-06-25T12:45:47.134Z"
   },
   {
    "duration": 804,
    "start_time": "2022-06-25T12:45:48.234Z"
   },
   {
    "duration": 17,
    "start_time": "2022-06-25T12:45:49.039Z"
   },
   {
    "duration": 23,
    "start_time": "2022-06-25T12:45:49.059Z"
   },
   {
    "duration": 12,
    "start_time": "2022-06-25T12:45:49.084Z"
   },
   {
    "duration": 45,
    "start_time": "2022-06-25T12:45:49.098Z"
   },
   {
    "duration": 50,
    "start_time": "2022-06-25T12:45:49.145Z"
   },
   {
    "duration": 55,
    "start_time": "2022-06-25T12:45:49.196Z"
   },
   {
    "duration": 13,
    "start_time": "2022-06-25T12:45:49.253Z"
   },
   {
    "duration": 21,
    "start_time": "2022-06-25T12:45:49.270Z"
   },
   {
    "duration": 8,
    "start_time": "2022-06-25T12:45:49.292Z"
   },
   {
    "duration": 1057,
    "start_time": "2022-06-25T12:46:46.655Z"
   },
   {
    "duration": 740,
    "start_time": "2022-06-25T12:46:47.714Z"
   },
   {
    "duration": 22,
    "start_time": "2022-06-25T12:46:48.456Z"
   },
   {
    "duration": 12,
    "start_time": "2022-06-25T12:46:48.480Z"
   },
   {
    "duration": 9,
    "start_time": "2022-06-25T12:46:48.494Z"
   },
   {
    "duration": 56,
    "start_time": "2022-06-25T12:46:48.505Z"
   },
   {
    "duration": 42,
    "start_time": "2022-06-25T12:46:48.563Z"
   },
   {
    "duration": 64,
    "start_time": "2022-06-25T12:46:48.607Z"
   },
   {
    "duration": 13,
    "start_time": "2022-06-25T12:46:48.673Z"
   },
   {
    "duration": 8,
    "start_time": "2022-06-25T12:46:48.687Z"
   },
   {
    "duration": 10,
    "start_time": "2022-06-25T12:46:48.696Z"
   },
   {
    "duration": 56,
    "start_time": "2022-06-25T12:47:02.404Z"
   },
   {
    "duration": 1044,
    "start_time": "2022-06-25T12:47:06.076Z"
   },
   {
    "duration": 876,
    "start_time": "2022-06-25T12:47:07.123Z"
   },
   {
    "duration": 21,
    "start_time": "2022-06-25T12:47:08.000Z"
   },
   {
    "duration": 11,
    "start_time": "2022-06-25T12:47:08.023Z"
   },
   {
    "duration": 33,
    "start_time": "2022-06-25T12:47:08.036Z"
   },
   {
    "duration": 87,
    "start_time": "2022-06-25T12:47:08.070Z"
   },
   {
    "duration": 54,
    "start_time": "2022-06-25T12:47:08.163Z"
   },
   {
    "duration": 58,
    "start_time": "2022-06-25T12:47:08.219Z"
   },
   {
    "duration": 8,
    "start_time": "2022-06-25T12:47:08.279Z"
   },
   {
    "duration": 24,
    "start_time": "2022-06-25T12:47:08.289Z"
   },
   {
    "duration": 25,
    "start_time": "2022-06-25T12:47:08.314Z"
   },
   {
    "duration": 57,
    "start_time": "2022-06-25T12:47:36.735Z"
   },
   {
    "duration": 990,
    "start_time": "2022-06-25T12:47:39.560Z"
   },
   {
    "duration": 763,
    "start_time": "2022-06-25T12:47:40.553Z"
   },
   {
    "duration": 21,
    "start_time": "2022-06-25T12:47:41.318Z"
   },
   {
    "duration": 19,
    "start_time": "2022-06-25T12:47:41.341Z"
   },
   {
    "duration": 26,
    "start_time": "2022-06-25T12:47:41.362Z"
   },
   {
    "duration": 86,
    "start_time": "2022-06-25T12:47:41.390Z"
   },
   {
    "duration": 57,
    "start_time": "2022-06-25T12:47:41.479Z"
   },
   {
    "duration": 39,
    "start_time": "2022-06-25T12:47:41.551Z"
   },
   {
    "duration": 12,
    "start_time": "2022-06-25T12:47:41.593Z"
   },
   {
    "duration": 18,
    "start_time": "2022-06-25T12:47:41.607Z"
   },
   {
    "duration": 27,
    "start_time": "2022-06-25T12:47:41.626Z"
   },
   {
    "duration": 1222,
    "start_time": "2022-06-25T12:47:57.345Z"
   },
   {
    "duration": 853,
    "start_time": "2022-06-25T12:47:58.570Z"
   },
   {
    "duration": 22,
    "start_time": "2022-06-25T12:47:59.425Z"
   },
   {
    "duration": 13,
    "start_time": "2022-06-25T12:47:59.451Z"
   },
   {
    "duration": 22,
    "start_time": "2022-06-25T12:47:59.466Z"
   },
   {
    "duration": 94,
    "start_time": "2022-06-25T12:47:59.490Z"
   },
   {
    "duration": 81,
    "start_time": "2022-06-25T12:47:59.586Z"
   },
   {
    "duration": 82,
    "start_time": "2022-06-25T12:47:59.669Z"
   },
   {
    "duration": 16,
    "start_time": "2022-06-25T12:47:59.753Z"
   },
   {
    "duration": 14,
    "start_time": "2022-06-25T12:47:59.772Z"
   },
   {
    "duration": 15,
    "start_time": "2022-06-25T12:47:59.789Z"
   },
   {
    "duration": 1008,
    "start_time": "2022-06-25T12:48:30.271Z"
   },
   {
    "duration": 755,
    "start_time": "2022-06-25T12:48:31.281Z"
   },
   {
    "duration": 21,
    "start_time": "2022-06-25T12:48:32.038Z"
   },
   {
    "duration": 11,
    "start_time": "2022-06-25T12:48:32.061Z"
   },
   {
    "duration": 14,
    "start_time": "2022-06-25T12:48:32.074Z"
   },
   {
    "duration": 61,
    "start_time": "2022-06-25T12:48:32.090Z"
   },
   {
    "duration": 35,
    "start_time": "2022-06-25T12:48:32.153Z"
   },
   {
    "duration": 39,
    "start_time": "2022-06-25T12:48:32.190Z"
   },
   {
    "duration": 28,
    "start_time": "2022-06-25T12:48:32.230Z"
   },
   {
    "duration": 18,
    "start_time": "2022-06-25T12:48:32.259Z"
   },
   {
    "duration": 15,
    "start_time": "2022-06-25T12:48:32.279Z"
   },
   {
    "duration": 95,
    "start_time": "2022-06-25T12:48:32.296Z"
   },
   {
    "duration": 94,
    "start_time": "2022-06-25T12:48:32.392Z"
   },
   {
    "duration": 0,
    "start_time": "2022-06-25T12:48:32.488Z"
   },
   {
    "duration": 4,
    "start_time": "2022-06-25T12:52:59.730Z"
   },
   {
    "duration": 3,
    "start_time": "2022-06-25T12:54:03.638Z"
   },
   {
    "duration": 354,
    "start_time": "2022-06-25T12:54:03.645Z"
   },
   {
    "duration": 8,
    "start_time": "2022-06-25T12:54:04.000Z"
   },
   {
    "duration": 24,
    "start_time": "2022-06-25T12:54:04.010Z"
   },
   {
    "duration": 11,
    "start_time": "2022-06-25T12:54:04.036Z"
   },
   {
    "duration": 69,
    "start_time": "2022-06-25T12:54:04.050Z"
   },
   {
    "duration": 49,
    "start_time": "2022-06-25T12:54:04.122Z"
   },
   {
    "duration": 41,
    "start_time": "2022-06-25T12:54:04.172Z"
   },
   {
    "duration": 12,
    "start_time": "2022-06-25T12:54:04.216Z"
   },
   {
    "duration": 27,
    "start_time": "2022-06-25T12:54:04.230Z"
   },
   {
    "duration": 8,
    "start_time": "2022-06-25T12:54:04.258Z"
   },
   {
    "duration": 74,
    "start_time": "2022-06-25T12:54:28.706Z"
   },
   {
    "duration": 1034,
    "start_time": "2022-06-25T12:55:14.179Z"
   },
   {
    "duration": 56,
    "start_time": "2022-06-25T12:55:20.617Z"
   },
   {
    "duration": 3,
    "start_time": "2022-06-25T12:55:27.243Z"
   },
   {
    "duration": 809,
    "start_time": "2022-06-25T12:55:27.248Z"
   },
   {
    "duration": 21,
    "start_time": "2022-06-25T12:55:28.059Z"
   },
   {
    "duration": 24,
    "start_time": "2022-06-25T12:55:28.083Z"
   },
   {
    "duration": 14,
    "start_time": "2022-06-25T12:55:28.111Z"
   },
   {
    "duration": 93,
    "start_time": "2022-06-25T12:55:28.127Z"
   },
   {
    "duration": 79,
    "start_time": "2022-06-25T12:55:28.222Z"
   },
   {
    "duration": 56,
    "start_time": "2022-06-25T12:55:28.302Z"
   },
   {
    "duration": 11,
    "start_time": "2022-06-25T12:55:28.359Z"
   },
   {
    "duration": 11,
    "start_time": "2022-06-25T12:55:28.371Z"
   },
   {
    "duration": 9,
    "start_time": "2022-06-25T12:55:28.385Z"
   },
   {
    "duration": 57,
    "start_time": "2022-06-25T12:57:54.171Z"
   },
   {
    "duration": 975,
    "start_time": "2022-06-25T12:57:58.741Z"
   },
   {
    "duration": 728,
    "start_time": "2022-06-25T12:57:59.718Z"
   },
   {
    "duration": 19,
    "start_time": "2022-06-25T12:58:00.448Z"
   },
   {
    "duration": 17,
    "start_time": "2022-06-25T12:58:00.468Z"
   },
   {
    "duration": 21,
    "start_time": "2022-06-25T12:58:00.488Z"
   },
   {
    "duration": 70,
    "start_time": "2022-06-25T12:58:00.510Z"
   },
   {
    "duration": 37,
    "start_time": "2022-06-25T12:58:00.582Z"
   },
   {
    "duration": 55,
    "start_time": "2022-06-25T12:58:00.620Z"
   },
   {
    "duration": 9,
    "start_time": "2022-06-25T12:58:00.676Z"
   },
   {
    "duration": 18,
    "start_time": "2022-06-25T12:58:00.686Z"
   },
   {
    "duration": 8,
    "start_time": "2022-06-25T12:58:00.705Z"
   },
   {
    "duration": 52,
    "start_time": "2022-06-25T12:58:02.945Z"
   },
   {
    "duration": 66,
    "start_time": "2022-06-25T12:58:29.407Z"
   },
   {
    "duration": 1154,
    "start_time": "2022-06-25T12:58:34.126Z"
   },
   {
    "duration": 737,
    "start_time": "2022-06-25T12:58:35.282Z"
   },
   {
    "duration": 15,
    "start_time": "2022-06-25T12:58:36.020Z"
   },
   {
    "duration": 10,
    "start_time": "2022-06-25T12:58:36.036Z"
   },
   {
    "duration": 13,
    "start_time": "2022-06-25T12:58:36.048Z"
   },
   {
    "duration": 48,
    "start_time": "2022-06-25T12:58:36.062Z"
   },
   {
    "duration": 69,
    "start_time": "2022-06-25T12:58:36.112Z"
   },
   {
    "duration": 40,
    "start_time": "2022-06-25T12:58:36.182Z"
   },
   {
    "duration": 9,
    "start_time": "2022-06-25T12:58:36.223Z"
   },
   {
    "duration": 27,
    "start_time": "2022-06-25T12:58:36.233Z"
   },
   {
    "duration": 8,
    "start_time": "2022-06-25T12:58:36.262Z"
   },
   {
    "duration": 51,
    "start_time": "2022-06-25T13:01:35.594Z"
   },
   {
    "duration": 1162,
    "start_time": "2022-06-25T13:01:39.773Z"
   },
   {
    "duration": 806,
    "start_time": "2022-06-25T13:01:40.937Z"
   },
   {
    "duration": 18,
    "start_time": "2022-06-25T13:01:41.745Z"
   },
   {
    "duration": 8,
    "start_time": "2022-06-25T13:01:41.765Z"
   },
   {
    "duration": 15,
    "start_time": "2022-06-25T13:01:41.776Z"
   },
   {
    "duration": 47,
    "start_time": "2022-06-25T13:01:41.793Z"
   },
   {
    "duration": 52,
    "start_time": "2022-06-25T13:01:41.852Z"
   },
   {
    "duration": 60,
    "start_time": "2022-06-25T13:01:41.906Z"
   },
   {
    "duration": 9,
    "start_time": "2022-06-25T13:01:41.967Z"
   },
   {
    "duration": 9,
    "start_time": "2022-06-25T13:01:41.977Z"
   },
   {
    "duration": 14,
    "start_time": "2022-06-25T13:01:41.988Z"
   },
   {
    "duration": 986,
    "start_time": "2022-06-25T13:02:02.045Z"
   },
   {
    "duration": 717,
    "start_time": "2022-06-25T13:02:03.033Z"
   },
   {
    "duration": 15,
    "start_time": "2022-06-25T13:02:03.751Z"
   },
   {
    "duration": 8,
    "start_time": "2022-06-25T13:02:03.768Z"
   },
   {
    "duration": 13,
    "start_time": "2022-06-25T13:02:03.778Z"
   },
   {
    "duration": 86,
    "start_time": "2022-06-25T13:02:03.792Z"
   },
   {
    "duration": 71,
    "start_time": "2022-06-25T13:02:03.880Z"
   },
   {
    "duration": 42,
    "start_time": "2022-06-25T13:02:03.953Z"
   },
   {
    "duration": 24,
    "start_time": "2022-06-25T13:02:03.997Z"
   },
   {
    "duration": 14,
    "start_time": "2022-06-25T13:02:04.023Z"
   },
   {
    "duration": 8,
    "start_time": "2022-06-25T13:02:04.050Z"
   },
   {
    "duration": 962,
    "start_time": "2022-06-25T13:03:48.793Z"
   },
   {
    "duration": 776,
    "start_time": "2022-06-25T13:03:49.757Z"
   },
   {
    "duration": 15,
    "start_time": "2022-06-25T13:03:50.534Z"
   },
   {
    "duration": 9,
    "start_time": "2022-06-25T13:03:50.551Z"
   },
   {
    "duration": 12,
    "start_time": "2022-06-25T13:03:50.562Z"
   },
   {
    "duration": 46,
    "start_time": "2022-06-25T13:03:50.576Z"
   },
   {
    "duration": 52,
    "start_time": "2022-06-25T13:03:50.623Z"
   },
   {
    "duration": 40,
    "start_time": "2022-06-25T13:03:50.677Z"
   },
   {
    "duration": 8,
    "start_time": "2022-06-25T13:03:50.718Z"
   },
   {
    "duration": 28,
    "start_time": "2022-06-25T13:03:50.728Z"
   },
   {
    "duration": 14,
    "start_time": "2022-06-25T13:03:50.758Z"
   },
   {
    "duration": 42,
    "start_time": "2022-06-25T13:04:03.378Z"
   },
   {
    "duration": 950,
    "start_time": "2022-06-25T13:04:06.788Z"
   },
   {
    "duration": 773,
    "start_time": "2022-06-25T13:04:07.740Z"
   },
   {
    "duration": 19,
    "start_time": "2022-06-25T13:04:08.514Z"
   },
   {
    "duration": 30,
    "start_time": "2022-06-25T13:04:08.535Z"
   },
   {
    "duration": 34,
    "start_time": "2022-06-25T13:04:08.568Z"
   },
   {
    "duration": 82,
    "start_time": "2022-06-25T13:04:08.604Z"
   },
   {
    "duration": 51,
    "start_time": "2022-06-25T13:04:08.688Z"
   },
   {
    "duration": 60,
    "start_time": "2022-06-25T13:04:08.741Z"
   },
   {
    "duration": 8,
    "start_time": "2022-06-25T13:04:08.803Z"
   },
   {
    "duration": 33,
    "start_time": "2022-06-25T13:04:08.812Z"
   },
   {
    "duration": 28,
    "start_time": "2022-06-25T13:04:08.847Z"
   },
   {
    "duration": 50,
    "start_time": "2022-06-25T13:04:19.410Z"
   },
   {
    "duration": 1108,
    "start_time": "2022-06-25T13:04:28.633Z"
   },
   {
    "duration": 728,
    "start_time": "2022-06-25T13:04:29.742Z"
   },
   {
    "duration": 15,
    "start_time": "2022-06-25T13:04:30.472Z"
   },
   {
    "duration": 17,
    "start_time": "2022-06-25T13:04:30.488Z"
   },
   {
    "duration": 19,
    "start_time": "2022-06-25T13:04:30.508Z"
   },
   {
    "duration": 75,
    "start_time": "2022-06-25T13:04:30.529Z"
   },
   {
    "duration": 66,
    "start_time": "2022-06-25T13:04:30.606Z"
   },
   {
    "duration": 53,
    "start_time": "2022-06-25T13:04:30.675Z"
   },
   {
    "duration": 25,
    "start_time": "2022-06-25T13:04:30.730Z"
   },
   {
    "duration": 24,
    "start_time": "2022-06-25T13:04:30.757Z"
   },
   {
    "duration": 23,
    "start_time": "2022-06-25T13:04:30.783Z"
   },
   {
    "duration": 59,
    "start_time": "2022-06-25T13:04:30.808Z"
   },
   {
    "duration": 66,
    "start_time": "2022-06-25T13:04:30.869Z"
   },
   {
    "duration": 0,
    "start_time": "2022-06-25T13:04:30.937Z"
   },
   {
    "duration": 34,
    "start_time": "2022-06-25T13:06:11.450Z"
   },
   {
    "duration": 25,
    "start_time": "2022-06-25T13:07:06.265Z"
   },
   {
    "duration": 13,
    "start_time": "2022-06-25T13:20:51.678Z"
   },
   {
    "duration": 3,
    "start_time": "2022-06-25T13:21:20.883Z"
   },
   {
    "duration": 133,
    "start_time": "2022-06-25T13:21:26.355Z"
   },
   {
    "duration": 27,
    "start_time": "2022-06-25T13:21:29.038Z"
   },
   {
    "duration": 129,
    "start_time": "2022-06-25T13:21:31.056Z"
   },
   {
    "duration": 29,
    "start_time": "2022-06-25T13:24:42.508Z"
   },
   {
    "duration": 9,
    "start_time": "2022-06-25T13:26:46.597Z"
   },
   {
    "duration": 953,
    "start_time": "2022-06-25T13:27:09.993Z"
   },
   {
    "duration": 702,
    "start_time": "2022-06-25T13:27:10.948Z"
   },
   {
    "duration": 15,
    "start_time": "2022-06-25T13:27:11.652Z"
   },
   {
    "duration": 8,
    "start_time": "2022-06-25T13:27:11.668Z"
   },
   {
    "duration": 9,
    "start_time": "2022-06-25T13:27:11.678Z"
   },
   {
    "duration": 64,
    "start_time": "2022-06-25T13:27:11.688Z"
   },
   {
    "duration": 37,
    "start_time": "2022-06-25T13:27:11.753Z"
   },
   {
    "duration": 41,
    "start_time": "2022-06-25T13:27:11.792Z"
   },
   {
    "duration": 9,
    "start_time": "2022-06-25T13:27:11.851Z"
   },
   {
    "duration": 10,
    "start_time": "2022-06-25T13:27:11.861Z"
   },
   {
    "duration": 8,
    "start_time": "2022-06-25T13:27:11.872Z"
   },
   {
    "duration": 968,
    "start_time": "2022-06-25T13:31:46.966Z"
   },
   {
    "duration": 671,
    "start_time": "2022-06-25T13:31:47.936Z"
   },
   {
    "duration": 13,
    "start_time": "2022-06-25T13:31:48.609Z"
   },
   {
    "duration": 8,
    "start_time": "2022-06-25T13:31:48.623Z"
   },
   {
    "duration": 8,
    "start_time": "2022-06-25T13:31:48.633Z"
   },
   {
    "duration": 59,
    "start_time": "2022-06-25T13:31:48.643Z"
   },
   {
    "duration": 33,
    "start_time": "2022-06-25T13:31:48.704Z"
   },
   {
    "duration": 38,
    "start_time": "2022-06-25T13:31:48.750Z"
   },
   {
    "duration": 8,
    "start_time": "2022-06-25T13:31:48.789Z"
   },
   {
    "duration": 8,
    "start_time": "2022-06-25T13:31:48.798Z"
   },
   {
    "duration": 7,
    "start_time": "2022-06-25T13:31:48.808Z"
   },
   {
    "duration": 41,
    "start_time": "2022-06-25T13:32:03.499Z"
   },
   {
    "duration": 972,
    "start_time": "2022-06-25T13:32:06.378Z"
   },
   {
    "duration": 694,
    "start_time": "2022-06-25T13:32:07.353Z"
   },
   {
    "duration": 14,
    "start_time": "2022-06-25T13:32:08.048Z"
   },
   {
    "duration": 7,
    "start_time": "2022-06-25T13:32:08.063Z"
   },
   {
    "duration": 9,
    "start_time": "2022-06-25T13:32:08.072Z"
   },
   {
    "duration": 42,
    "start_time": "2022-06-25T13:32:08.082Z"
   },
   {
    "duration": 58,
    "start_time": "2022-06-25T13:32:08.126Z"
   },
   {
    "duration": 38,
    "start_time": "2022-06-25T13:32:08.185Z"
   },
   {
    "duration": 33,
    "start_time": "2022-06-25T13:32:08.224Z"
   },
   {
    "duration": 8,
    "start_time": "2022-06-25T13:32:08.258Z"
   },
   {
    "duration": 9,
    "start_time": "2022-06-25T13:32:08.267Z"
   },
   {
    "duration": 41,
    "start_time": "2022-06-25T13:33:18.117Z"
   },
   {
    "duration": 10,
    "start_time": "2022-06-25T13:38:16.240Z"
   },
   {
    "duration": 1008,
    "start_time": "2022-06-25T13:38:21.719Z"
   },
   {
    "duration": 735,
    "start_time": "2022-06-25T13:38:22.729Z"
   },
   {
    "duration": 33,
    "start_time": "2022-06-25T13:38:23.466Z"
   },
   {
    "duration": 9,
    "start_time": "2022-06-25T13:38:23.501Z"
   },
   {
    "duration": 29,
    "start_time": "2022-06-25T13:38:23.512Z"
   },
   {
    "duration": 63,
    "start_time": "2022-06-25T13:38:23.543Z"
   },
   {
    "duration": 48,
    "start_time": "2022-06-25T13:38:23.607Z"
   },
   {
    "duration": 41,
    "start_time": "2022-06-25T13:38:23.656Z"
   },
   {
    "duration": 10,
    "start_time": "2022-06-25T13:38:23.699Z"
   },
   {
    "duration": 14,
    "start_time": "2022-06-25T13:38:23.711Z"
   },
   {
    "duration": 9,
    "start_time": "2022-06-25T13:38:23.752Z"
   },
   {
    "duration": 64,
    "start_time": "2022-06-25T13:38:23.763Z"
   },
   {
    "duration": 50,
    "start_time": "2022-06-25T13:38:23.829Z"
   },
   {
    "duration": 157,
    "start_time": "2022-06-25T13:38:23.881Z"
   },
   {
    "duration": 95,
    "start_time": "2022-06-25T13:38:24.040Z"
   },
   {
    "duration": 16,
    "start_time": "2022-06-25T13:38:56.433Z"
   },
   {
    "duration": 49,
    "start_time": "2022-06-25T13:38:59.415Z"
   },
   {
    "duration": 137,
    "start_time": "2022-06-25T13:39:05.323Z"
   },
   {
    "duration": 21,
    "start_time": "2022-06-25T13:39:24.590Z"
   },
   {
    "duration": 19,
    "start_time": "2022-06-25T13:40:32.603Z"
   },
   {
    "duration": 24,
    "start_time": "2022-06-25T13:40:44.083Z"
   },
   {
    "duration": 14,
    "start_time": "2022-06-25T13:41:40.982Z"
   },
   {
    "duration": 26,
    "start_time": "2022-06-25T13:41:46.021Z"
   },
   {
    "duration": 25,
    "start_time": "2022-06-25T13:42:18.524Z"
   },
   {
    "duration": 21,
    "start_time": "2022-06-25T13:43:01.873Z"
   },
   {
    "duration": 25,
    "start_time": "2022-06-25T13:43:05.383Z"
   },
   {
    "duration": 13,
    "start_time": "2022-06-25T13:45:13.965Z"
   },
   {
    "duration": 40,
    "start_time": "2022-06-25T13:45:17.895Z"
   },
   {
    "duration": 26,
    "start_time": "2022-06-25T13:45:21.608Z"
   },
   {
    "duration": 79,
    "start_time": "2022-06-25T13:45:23.976Z"
   },
   {
    "duration": 30,
    "start_time": "2022-06-25T13:45:58.794Z"
   },
   {
    "duration": 17,
    "start_time": "2022-06-25T13:46:26.117Z"
   },
   {
    "duration": 14,
    "start_time": "2022-06-25T13:46:52.571Z"
   },
   {
    "duration": 18,
    "start_time": "2022-06-25T13:47:06.587Z"
   },
   {
    "duration": 42,
    "start_time": "2022-06-25T13:48:53.826Z"
   },
   {
    "duration": 12,
    "start_time": "2022-06-25T13:49:49.889Z"
   },
   {
    "duration": 4,
    "start_time": "2022-06-25T13:51:44.179Z"
   },
   {
    "duration": 384,
    "start_time": "2022-06-25T13:51:44.185Z"
   },
   {
    "duration": 15,
    "start_time": "2022-06-25T13:51:44.571Z"
   },
   {
    "duration": 12,
    "start_time": "2022-06-25T13:51:44.589Z"
   },
   {
    "duration": 13,
    "start_time": "2022-06-25T13:51:44.603Z"
   },
   {
    "duration": 76,
    "start_time": "2022-06-25T13:51:44.618Z"
   },
   {
    "duration": 58,
    "start_time": "2022-06-25T13:51:44.696Z"
   },
   {
    "duration": 45,
    "start_time": "2022-06-25T13:51:44.755Z"
   },
   {
    "duration": 8,
    "start_time": "2022-06-25T13:51:44.802Z"
   },
   {
    "duration": 9,
    "start_time": "2022-06-25T13:51:44.811Z"
   },
   {
    "duration": 30,
    "start_time": "2022-06-25T13:51:44.822Z"
   },
   {
    "duration": 52,
    "start_time": "2022-06-25T13:51:44.854Z"
   },
   {
    "duration": 10,
    "start_time": "2022-06-25T13:51:44.908Z"
   },
   {
    "duration": 53,
    "start_time": "2022-06-25T13:51:44.920Z"
   },
   {
    "duration": 20,
    "start_time": "2022-06-25T13:51:44.975Z"
   },
   {
    "duration": 107,
    "start_time": "2022-06-25T13:51:45.057Z"
   },
   {
    "duration": 204,
    "start_time": "2022-06-25T13:51:45.166Z"
   },
   {
    "duration": 5,
    "start_time": "2022-06-25T13:53:29.986Z"
   },
   {
    "duration": 350,
    "start_time": "2022-06-25T13:53:29.993Z"
   },
   {
    "duration": 14,
    "start_time": "2022-06-25T13:53:30.345Z"
   },
   {
    "duration": 28,
    "start_time": "2022-06-25T13:53:30.362Z"
   },
   {
    "duration": 28,
    "start_time": "2022-06-25T13:53:30.392Z"
   },
   {
    "duration": 63,
    "start_time": "2022-06-25T13:53:30.421Z"
   },
   {
    "duration": 40,
    "start_time": "2022-06-25T13:53:30.486Z"
   },
   {
    "duration": 65,
    "start_time": "2022-06-25T13:53:30.528Z"
   },
   {
    "duration": 8,
    "start_time": "2022-06-25T13:53:30.595Z"
   },
   {
    "duration": 20,
    "start_time": "2022-06-25T13:53:30.604Z"
   },
   {
    "duration": 12,
    "start_time": "2022-06-25T13:53:30.625Z"
   },
   {
    "duration": 58,
    "start_time": "2022-06-25T13:53:30.638Z"
   },
   {
    "duration": 11,
    "start_time": "2022-06-25T13:53:30.698Z"
   },
   {
    "duration": 61,
    "start_time": "2022-06-25T13:53:30.712Z"
   },
   {
    "duration": 83,
    "start_time": "2022-06-25T13:53:30.774Z"
   },
   {
    "duration": 118,
    "start_time": "2022-06-25T13:53:30.859Z"
   },
   {
    "duration": 90,
    "start_time": "2022-06-25T13:53:30.978Z"
   },
   {
    "duration": 10,
    "start_time": "2022-06-25T13:57:56.409Z"
   },
   {
    "duration": 13,
    "start_time": "2022-06-25T13:58:04.743Z"
   },
   {
    "duration": 18,
    "start_time": "2022-06-25T14:27:38.839Z"
   },
   {
    "duration": 15,
    "start_time": "2022-06-25T14:28:20.236Z"
   },
   {
    "duration": 3,
    "start_time": "2022-06-25T14:58:53.092Z"
   },
   {
    "duration": 4,
    "start_time": "2022-06-25T15:01:37.271Z"
   },
   {
    "duration": 101,
    "start_time": "2022-06-25T15:16:44.652Z"
   },
   {
    "duration": 98,
    "start_time": "2022-06-25T15:17:40.157Z"
   },
   {
    "duration": 23,
    "start_time": "2022-06-25T15:17:51.664Z"
   },
   {
    "duration": 15,
    "start_time": "2022-06-25T15:18:41.757Z"
   },
   {
    "duration": 15,
    "start_time": "2022-06-25T15:18:59.447Z"
   },
   {
    "duration": 16,
    "start_time": "2022-06-25T15:19:13.002Z"
   },
   {
    "duration": 1058,
    "start_time": "2022-06-26T12:07:49.136Z"
   },
   {
    "duration": 729,
    "start_time": "2022-06-26T12:07:50.196Z"
   },
   {
    "duration": 16,
    "start_time": "2022-06-26T12:07:50.927Z"
   },
   {
    "duration": 11,
    "start_time": "2022-06-26T12:07:50.945Z"
   },
   {
    "duration": 10,
    "start_time": "2022-06-26T12:07:50.957Z"
   },
   {
    "duration": 43,
    "start_time": "2022-06-26T12:07:50.969Z"
   },
   {
    "duration": 42,
    "start_time": "2022-06-26T12:07:51.014Z"
   },
   {
    "duration": 39,
    "start_time": "2022-06-26T12:07:51.058Z"
   },
   {
    "duration": 8,
    "start_time": "2022-06-26T12:07:51.099Z"
   },
   {
    "duration": 9,
    "start_time": "2022-06-26T12:07:51.109Z"
   },
   {
    "duration": 34,
    "start_time": "2022-06-26T12:07:51.119Z"
   },
   {
    "duration": 40,
    "start_time": "2022-06-26T12:07:51.154Z"
   },
   {
    "duration": 12,
    "start_time": "2022-06-26T12:07:51.196Z"
   },
   {
    "duration": 50,
    "start_time": "2022-06-26T12:07:51.209Z"
   },
   {
    "duration": 94,
    "start_time": "2022-06-26T12:07:51.260Z"
   },
   {
    "duration": 101,
    "start_time": "2022-06-26T12:07:51.358Z"
   },
   {
    "duration": 198,
    "start_time": "2022-06-26T12:07:51.461Z"
   },
   {
    "duration": 3,
    "start_time": "2022-06-26T12:07:51.660Z"
   },
   {
    "duration": 3,
    "start_time": "2022-06-26T12:39:52.710Z"
   },
   {
    "duration": 4,
    "start_time": "2022-06-26T12:46:47.045Z"
   },
   {
    "duration": 5,
    "start_time": "2022-06-26T12:49:36.794Z"
   },
   {
    "duration": 414,
    "start_time": "2022-06-26T12:53:02.308Z"
   },
   {
    "duration": 230,
    "start_time": "2022-06-26T12:53:54.559Z"
   },
   {
    "duration": 91,
    "start_time": "2022-06-26T12:54:25.415Z"
   },
   {
    "duration": 98,
    "start_time": "2022-06-26T12:54:40.314Z"
   },
   {
    "duration": 12,
    "start_time": "2022-06-26T12:57:04.396Z"
   },
   {
    "duration": 12,
    "start_time": "2022-06-26T12:57:18.393Z"
   },
   {
    "duration": 153,
    "start_time": "2022-06-26T13:00:05.998Z"
   },
   {
    "duration": 138,
    "start_time": "2022-06-26T13:00:31.155Z"
   },
   {
    "duration": 132,
    "start_time": "2022-06-26T13:00:47.900Z"
   },
   {
    "duration": 8,
    "start_time": "2022-06-26T13:01:51.956Z"
   },
   {
    "duration": 116,
    "start_time": "2022-06-26T13:03:33.546Z"
   },
   {
    "duration": 166,
    "start_time": "2022-06-26T13:05:27.276Z"
   },
   {
    "duration": 142,
    "start_time": "2022-06-26T13:05:44.720Z"
   },
   {
    "duration": 4,
    "start_time": "2022-06-26T13:06:52.663Z"
   },
   {
    "duration": 3,
    "start_time": "2022-06-26T13:07:20.574Z"
   },
   {
    "duration": 4,
    "start_time": "2022-06-26T13:07:23.434Z"
   },
   {
    "duration": 139,
    "start_time": "2022-06-26T13:07:40.113Z"
   },
   {
    "duration": 151,
    "start_time": "2022-06-26T13:07:43.920Z"
   },
   {
    "duration": 6,
    "start_time": "2022-06-26T13:12:16.638Z"
   },
   {
    "duration": 6,
    "start_time": "2022-06-26T13:14:27.323Z"
   },
   {
    "duration": 5,
    "start_time": "2022-06-26T14:20:32.071Z"
   },
   {
    "duration": 55,
    "start_time": "2022-06-26T14:21:07.511Z"
   },
   {
    "duration": 6,
    "start_time": "2022-06-26T14:21:22.911Z"
   },
   {
    "duration": 9,
    "start_time": "2022-06-26T14:21:37.192Z"
   },
   {
    "duration": 10,
    "start_time": "2022-06-26T14:22:28.776Z"
   },
   {
    "duration": 3,
    "start_time": "2022-06-26T14:31:30.180Z"
   },
   {
    "duration": 4,
    "start_time": "2022-06-26T14:31:53.499Z"
   },
   {
    "duration": 4,
    "start_time": "2022-06-26T14:32:30.393Z"
   },
   {
    "duration": 4,
    "start_time": "2022-06-26T14:32:32.392Z"
   },
   {
    "duration": 4,
    "start_time": "2022-06-26T14:33:57.822Z"
   },
   {
    "duration": 3,
    "start_time": "2022-06-26T14:34:06.542Z"
   },
   {
    "duration": 1308,
    "start_time": "2022-06-26T18:24:04.903Z"
   },
   {
    "duration": 334,
    "start_time": "2022-06-26T18:24:06.213Z"
   },
   {
    "duration": 25,
    "start_time": "2022-06-26T18:24:06.548Z"
   },
   {
    "duration": 13,
    "start_time": "2022-06-26T18:24:06.575Z"
   },
   {
    "duration": 12,
    "start_time": "2022-06-26T18:24:06.591Z"
   },
   {
    "duration": 57,
    "start_time": "2022-06-26T18:24:06.604Z"
   },
   {
    "duration": 46,
    "start_time": "2022-06-26T18:24:06.663Z"
   },
   {
    "duration": 59,
    "start_time": "2022-06-26T18:24:06.710Z"
   },
   {
    "duration": 12,
    "start_time": "2022-06-26T18:24:06.771Z"
   },
   {
    "duration": 11,
    "start_time": "2022-06-26T18:24:06.784Z"
   },
   {
    "duration": 7,
    "start_time": "2022-06-26T18:24:06.797Z"
   },
   {
    "duration": 71,
    "start_time": "2022-06-26T18:24:06.805Z"
   },
   {
    "duration": 13,
    "start_time": "2022-06-26T18:24:06.878Z"
   },
   {
    "duration": 47,
    "start_time": "2022-06-26T18:24:06.893Z"
   },
   {
    "duration": 35,
    "start_time": "2022-06-26T18:24:06.942Z"
   },
   {
    "duration": 101,
    "start_time": "2022-06-26T18:24:07.057Z"
   },
   {
    "duration": 230,
    "start_time": "2022-06-26T18:24:07.160Z"
   },
   {
    "duration": 63,
    "start_time": "2022-06-26T18:24:07.391Z"
   },
   {
    "duration": 105,
    "start_time": "2022-06-26T18:24:07.456Z"
   },
   {
    "duration": 9,
    "start_time": "2022-06-26T18:24:07.563Z"
   },
   {
    "duration": 14,
    "start_time": "2022-06-26T18:24:07.574Z"
   },
   {
    "duration": 6,
    "start_time": "2022-06-26T18:24:07.589Z"
   },
   {
    "duration": 8,
    "start_time": "2022-06-26T18:24:07.597Z"
   },
   {
    "duration": 9,
    "start_time": "2022-06-26T18:24:07.606Z"
   },
   {
    "duration": 8,
    "start_time": "2022-06-26T18:24:07.617Z"
   },
   {
    "duration": 11,
    "start_time": "2022-06-26T18:24:15.622Z"
   },
   {
    "duration": 3,
    "start_time": "2022-06-26T18:24:18.932Z"
   },
   {
    "duration": 71,
    "start_time": "2022-06-26T18:37:20.503Z"
   },
   {
    "duration": 11,
    "start_time": "2022-06-26T18:39:16.902Z"
   },
   {
    "duration": 10,
    "start_time": "2022-06-26T18:44:04.164Z"
   },
   {
    "duration": 120,
    "start_time": "2022-06-26T18:44:34.186Z"
   },
   {
    "duration": 88,
    "start_time": "2022-06-26T18:45:12.190Z"
   },
   {
    "duration": 89,
    "start_time": "2022-06-26T18:45:45.698Z"
   },
   {
    "duration": 85,
    "start_time": "2022-06-26T18:46:57.983Z"
   },
   {
    "duration": 5,
    "start_time": "2022-06-26T18:47:34.758Z"
   },
   {
    "duration": 375,
    "start_time": "2022-06-26T18:47:34.767Z"
   },
   {
    "duration": 11,
    "start_time": "2022-06-26T18:47:35.143Z"
   },
   {
    "duration": 39,
    "start_time": "2022-06-26T18:47:35.158Z"
   },
   {
    "duration": 27,
    "start_time": "2022-06-26T18:47:35.198Z"
   },
   {
    "duration": 63,
    "start_time": "2022-06-26T18:47:35.226Z"
   },
   {
    "duration": 49,
    "start_time": "2022-06-26T18:47:35.291Z"
   },
   {
    "duration": 64,
    "start_time": "2022-06-26T18:47:35.342Z"
   },
   {
    "duration": 12,
    "start_time": "2022-06-26T18:47:35.409Z"
   },
   {
    "duration": 35,
    "start_time": "2022-06-26T18:47:35.423Z"
   },
   {
    "duration": 13,
    "start_time": "2022-06-26T18:47:35.461Z"
   },
   {
    "duration": 48,
    "start_time": "2022-06-26T18:47:35.476Z"
   },
   {
    "duration": 30,
    "start_time": "2022-06-26T18:47:35.525Z"
   },
   {
    "duration": 41,
    "start_time": "2022-06-26T18:47:35.557Z"
   },
   {
    "duration": 61,
    "start_time": "2022-06-26T18:47:35.600Z"
   },
   {
    "duration": 111,
    "start_time": "2022-06-26T18:47:35.664Z"
   },
   {
    "duration": 79,
    "start_time": "2022-06-26T18:47:35.778Z"
   },
   {
    "duration": 5,
    "start_time": "2022-06-26T18:47:35.859Z"
   },
   {
    "duration": 106,
    "start_time": "2022-06-26T18:47:35.866Z"
   },
   {
    "duration": 11,
    "start_time": "2022-06-26T18:47:36.054Z"
   },
   {
    "duration": 17,
    "start_time": "2022-06-26T18:47:36.068Z"
   },
   {
    "duration": 3,
    "start_time": "2022-06-26T18:47:36.086Z"
   },
   {
    "duration": 23,
    "start_time": "2022-06-26T18:47:36.091Z"
   },
   {
    "duration": 25,
    "start_time": "2022-06-26T18:47:36.116Z"
   },
   {
    "duration": 6,
    "start_time": "2022-06-26T18:47:36.144Z"
   },
   {
    "duration": 112,
    "start_time": "2022-06-26T18:47:36.152Z"
   },
   {
    "duration": 120,
    "start_time": "2022-06-26T18:47:36.266Z"
   },
   {
    "duration": 98,
    "start_time": "2022-06-26T18:47:36.388Z"
   },
   {
    "duration": 1540,
    "start_time": "2022-06-27T13:19:59.564Z"
   },
   {
    "duration": 1518,
    "start_time": "2022-06-27T13:20:01.106Z"
   },
   {
    "duration": 13,
    "start_time": "2022-06-27T13:20:02.626Z"
   },
   {
    "duration": 12,
    "start_time": "2022-06-27T13:20:02.641Z"
   },
   {
    "duration": 9,
    "start_time": "2022-06-27T13:20:02.654Z"
   },
   {
    "duration": 47,
    "start_time": "2022-06-27T13:20:02.664Z"
   },
   {
    "duration": 57,
    "start_time": "2022-06-27T13:20:02.712Z"
   },
   {
    "duration": 44,
    "start_time": "2022-06-27T13:20:02.770Z"
   },
   {
    "duration": 10,
    "start_time": "2022-06-27T13:20:02.815Z"
   },
   {
    "duration": 30,
    "start_time": "2022-06-27T13:20:02.827Z"
   },
   {
    "duration": 10,
    "start_time": "2022-06-27T13:20:02.859Z"
   },
   {
    "duration": 40,
    "start_time": "2022-06-27T13:20:02.870Z"
   },
   {
    "duration": 13,
    "start_time": "2022-06-27T13:20:02.913Z"
   },
   {
    "duration": 54,
    "start_time": "2022-06-27T13:20:02.928Z"
   },
   {
    "duration": 169,
    "start_time": "2022-06-27T13:20:02.984Z"
   },
   {
    "duration": 108,
    "start_time": "2022-06-27T13:20:03.156Z"
   },
   {
    "duration": 194,
    "start_time": "2022-06-27T13:20:03.265Z"
   },
   {
    "duration": 192,
    "start_time": "2022-06-27T13:20:03.462Z"
   },
   {
    "duration": 8,
    "start_time": "2022-06-27T13:20:03.655Z"
   },
   {
    "duration": 23,
    "start_time": "2022-06-27T13:20:03.664Z"
   },
   {
    "duration": 11,
    "start_time": "2022-06-27T13:20:03.688Z"
   },
   {
    "duration": 2,
    "start_time": "2022-06-27T13:20:03.701Z"
   },
   {
    "duration": 7,
    "start_time": "2022-06-27T13:20:03.704Z"
   },
   {
    "duration": 9,
    "start_time": "2022-06-27T13:20:03.712Z"
   },
   {
    "duration": 6,
    "start_time": "2022-06-27T13:20:03.723Z"
   },
   {
    "duration": 95,
    "start_time": "2022-06-27T13:20:03.730Z"
   },
   {
    "duration": 95,
    "start_time": "2022-06-27T13:20:03.827Z"
   },
   {
    "duration": 129,
    "start_time": "2022-06-27T13:20:03.925Z"
   },
   {
    "duration": 52,
    "start_time": "2022-06-27T14:42:02.470Z"
   },
   {
    "duration": 1518,
    "start_time": "2022-06-27T14:42:07.037Z"
   },
   {
    "duration": 742,
    "start_time": "2022-06-27T14:42:08.557Z"
   },
   {
    "duration": 14,
    "start_time": "2022-06-27T14:42:09.300Z"
   },
   {
    "duration": 13,
    "start_time": "2022-06-27T14:42:09.316Z"
   },
   {
    "duration": 14,
    "start_time": "2022-06-27T14:42:09.330Z"
   },
   {
    "duration": 54,
    "start_time": "2022-06-27T14:42:09.345Z"
   },
   {
    "duration": 42,
    "start_time": "2022-06-27T14:42:09.401Z"
   },
   {
    "duration": 61,
    "start_time": "2022-06-27T14:42:09.445Z"
   },
   {
    "duration": 9,
    "start_time": "2022-06-27T14:42:09.508Z"
   },
   {
    "duration": 12,
    "start_time": "2022-06-27T14:42:09.520Z"
   },
   {
    "duration": 14,
    "start_time": "2022-06-27T14:42:09.533Z"
   },
   {
    "duration": 44,
    "start_time": "2022-06-27T14:42:09.567Z"
   },
   {
    "duration": 13,
    "start_time": "2022-06-27T14:42:09.612Z"
   },
   {
    "duration": 55,
    "start_time": "2022-06-27T14:42:09.626Z"
   },
   {
    "duration": 92,
    "start_time": "2022-06-27T14:42:09.683Z"
   },
   {
    "duration": 110,
    "start_time": "2022-06-27T14:42:09.777Z"
   },
   {
    "duration": 182,
    "start_time": "2022-06-27T14:42:09.889Z"
   },
   {
    "duration": 195,
    "start_time": "2022-06-27T14:42:10.073Z"
   },
   {
    "duration": 11,
    "start_time": "2022-06-27T14:42:10.270Z"
   },
   {
    "duration": 7,
    "start_time": "2022-06-27T14:42:10.282Z"
   },
   {
    "duration": 12,
    "start_time": "2022-06-27T14:42:10.291Z"
   },
   {
    "duration": 3,
    "start_time": "2022-06-27T14:42:10.305Z"
   },
   {
    "duration": 8,
    "start_time": "2022-06-27T14:42:10.310Z"
   },
   {
    "duration": 7,
    "start_time": "2022-06-27T14:42:10.320Z"
   },
   {
    "duration": 8,
    "start_time": "2022-06-27T14:42:10.328Z"
   },
   {
    "duration": 31,
    "start_time": "2022-06-27T14:42:10.337Z"
   },
   {
    "duration": 170,
    "start_time": "2022-06-27T14:42:10.370Z"
   },
   {
    "duration": 0,
    "start_time": "2022-06-27T14:42:10.542Z"
   },
   {
    "duration": 0,
    "start_time": "2022-06-27T14:42:10.543Z"
   },
   {
    "duration": 6,
    "start_time": "2022-06-27T14:42:28.537Z"
   },
   {
    "duration": 93,
    "start_time": "2022-06-27T14:42:37.536Z"
   },
   {
    "duration": 4,
    "start_time": "2022-06-27T14:43:25.910Z"
   },
   {
    "duration": 370,
    "start_time": "2022-06-27T14:43:25.916Z"
   },
   {
    "duration": 10,
    "start_time": "2022-06-27T14:43:26.289Z"
   },
   {
    "duration": 21,
    "start_time": "2022-06-27T14:43:26.301Z"
   },
   {
    "duration": 20,
    "start_time": "2022-06-27T14:43:26.325Z"
   },
   {
    "duration": 72,
    "start_time": "2022-06-27T14:43:26.347Z"
   },
   {
    "duration": 49,
    "start_time": "2022-06-27T14:43:26.421Z"
   },
   {
    "duration": 53,
    "start_time": "2022-06-27T14:43:26.472Z"
   },
   {
    "duration": 11,
    "start_time": "2022-06-27T14:43:26.527Z"
   },
   {
    "duration": 35,
    "start_time": "2022-06-27T14:43:26.539Z"
   },
   {
    "duration": 20,
    "start_time": "2022-06-27T14:43:26.577Z"
   },
   {
    "duration": 56,
    "start_time": "2022-06-27T14:43:26.598Z"
   },
   {
    "duration": 29,
    "start_time": "2022-06-27T14:43:26.656Z"
   },
   {
    "duration": 49,
    "start_time": "2022-06-27T14:43:26.687Z"
   },
   {
    "duration": 31,
    "start_time": "2022-06-27T14:43:26.738Z"
   },
   {
    "duration": 197,
    "start_time": "2022-06-27T14:43:26.771Z"
   },
   {
    "duration": 111,
    "start_time": "2022-06-27T14:43:26.970Z"
   },
   {
    "duration": 189,
    "start_time": "2022-06-27T14:43:27.083Z"
   },
   {
    "duration": 17,
    "start_time": "2022-06-27T14:43:27.274Z"
   },
   {
    "duration": 17,
    "start_time": "2022-06-27T14:43:27.292Z"
   },
   {
    "duration": 18,
    "start_time": "2022-06-27T14:43:27.311Z"
   },
   {
    "duration": 3,
    "start_time": "2022-06-27T14:43:27.331Z"
   },
   {
    "duration": 7,
    "start_time": "2022-06-27T14:43:27.336Z"
   },
   {
    "duration": 6,
    "start_time": "2022-06-27T14:43:27.345Z"
   },
   {
    "duration": 15,
    "start_time": "2022-06-27T14:43:27.352Z"
   },
   {
    "duration": 4,
    "start_time": "2022-06-27T14:43:27.369Z"
   },
   {
    "duration": 105,
    "start_time": "2022-06-27T14:43:27.375Z"
   },
   {
    "duration": 117,
    "start_time": "2022-06-27T14:43:27.482Z"
   },
   {
    "duration": 106,
    "start_time": "2022-06-27T14:43:27.602Z"
   },
   {
    "duration": 4,
    "start_time": "2022-06-27T16:30:26.976Z"
   },
   {
    "duration": 363,
    "start_time": "2022-06-27T16:30:26.982Z"
   },
   {
    "duration": 10,
    "start_time": "2022-06-27T16:30:27.347Z"
   },
   {
    "duration": 16,
    "start_time": "2022-06-27T16:30:27.359Z"
   },
   {
    "duration": 11,
    "start_time": "2022-06-27T16:30:27.377Z"
   },
   {
    "duration": 52,
    "start_time": "2022-06-27T16:30:27.390Z"
   },
   {
    "duration": 66,
    "start_time": "2022-06-27T16:30:27.443Z"
   },
   {
    "duration": 76,
    "start_time": "2022-06-27T16:30:27.511Z"
   },
   {
    "duration": 11,
    "start_time": "2022-06-27T16:30:27.589Z"
   },
   {
    "duration": 10,
    "start_time": "2022-06-27T16:30:27.602Z"
   },
   {
    "duration": 9,
    "start_time": "2022-06-27T16:30:27.614Z"
   },
   {
    "duration": 83,
    "start_time": "2022-06-27T16:30:27.625Z"
   },
   {
    "duration": 12,
    "start_time": "2022-06-27T16:30:27.710Z"
   },
   {
    "duration": 43,
    "start_time": "2022-06-27T16:30:27.724Z"
   },
   {
    "duration": 99,
    "start_time": "2022-06-27T16:30:27.769Z"
   },
   {
    "duration": 185,
    "start_time": "2022-06-27T16:30:27.982Z"
   },
   {
    "duration": 97,
    "start_time": "2022-06-27T16:30:28.172Z"
   },
   {
    "duration": 8,
    "start_time": "2022-06-27T16:30:28.270Z"
   },
   {
    "duration": 9,
    "start_time": "2022-06-27T16:30:28.280Z"
   },
   {
    "duration": 13,
    "start_time": "2022-06-27T16:30:28.291Z"
   },
   {
    "duration": 4,
    "start_time": "2022-06-27T16:30:28.306Z"
   },
   {
    "duration": 8,
    "start_time": "2022-06-27T16:30:28.311Z"
   },
   {
    "duration": 5,
    "start_time": "2022-06-27T16:30:28.321Z"
   },
   {
    "duration": 45,
    "start_time": "2022-06-27T16:30:28.328Z"
   },
   {
    "duration": 133,
    "start_time": "2022-06-27T16:30:28.375Z"
   },
   {
    "duration": 107,
    "start_time": "2022-06-27T16:30:28.509Z"
   },
   {
    "duration": 100,
    "start_time": "2022-06-27T16:30:28.618Z"
   },
   {
    "duration": 19,
    "start_time": "2022-06-27T16:30:57.788Z"
   },
   {
    "duration": 81,
    "start_time": "2022-06-27T16:31:45.156Z"
   },
   {
    "duration": 97,
    "start_time": "2022-06-27T16:32:14.277Z"
   },
   {
    "duration": 97,
    "start_time": "2022-06-27T16:33:36.238Z"
   },
   {
    "duration": 93,
    "start_time": "2022-06-27T16:34:03.847Z"
   },
   {
    "duration": 78,
    "start_time": "2022-06-27T16:34:55.905Z"
   },
   {
    "duration": 1606,
    "start_time": "2022-06-29T15:52:01.357Z"
   },
   {
    "duration": 715,
    "start_time": "2022-06-29T15:52:02.966Z"
   },
   {
    "duration": 17,
    "start_time": "2022-06-29T15:52:03.683Z"
   },
   {
    "duration": 23,
    "start_time": "2022-06-29T15:52:03.702Z"
   },
   {
    "duration": 50,
    "start_time": "2022-06-29T15:52:03.727Z"
   },
   {
    "duration": 59,
    "start_time": "2022-06-29T15:52:03.779Z"
   },
   {
    "duration": 50,
    "start_time": "2022-06-29T15:52:03.840Z"
   },
   {
    "duration": 70,
    "start_time": "2022-06-29T15:52:03.892Z"
   },
   {
    "duration": 11,
    "start_time": "2022-06-29T15:52:03.964Z"
   },
   {
    "duration": 85,
    "start_time": "2022-06-29T15:52:03.977Z"
   },
   {
    "duration": 50,
    "start_time": "2022-06-29T15:52:04.064Z"
   },
   {
    "duration": 62,
    "start_time": "2022-06-29T15:52:04.116Z"
   },
   {
    "duration": 15,
    "start_time": "2022-06-29T15:52:04.179Z"
   },
   {
    "duration": 62,
    "start_time": "2022-06-29T15:52:04.196Z"
   },
   {
    "duration": 174,
    "start_time": "2022-06-29T15:52:04.260Z"
   },
   {
    "duration": 100,
    "start_time": "2022-06-29T15:52:04.436Z"
   },
   {
    "duration": 288,
    "start_time": "2022-06-29T15:52:04.538Z"
   },
   {
    "duration": 154,
    "start_time": "2022-06-29T15:52:04.828Z"
   },
   {
    "duration": 0,
    "start_time": "2022-06-29T15:52:04.984Z"
   },
   {
    "duration": 0,
    "start_time": "2022-06-29T15:52:04.986Z"
   },
   {
    "duration": 0,
    "start_time": "2022-06-29T15:52:04.987Z"
   },
   {
    "duration": 0,
    "start_time": "2022-06-29T15:52:04.988Z"
   },
   {
    "duration": 0,
    "start_time": "2022-06-29T15:52:04.990Z"
   },
   {
    "duration": 0,
    "start_time": "2022-06-29T15:52:04.991Z"
   },
   {
    "duration": 0,
    "start_time": "2022-06-29T15:52:04.992Z"
   },
   {
    "duration": 0,
    "start_time": "2022-06-29T15:52:04.993Z"
   },
   {
    "duration": 0,
    "start_time": "2022-06-29T15:52:04.994Z"
   },
   {
    "duration": 0,
    "start_time": "2022-06-29T15:52:04.995Z"
   },
   {
    "duration": 3,
    "start_time": "2022-06-29T15:54:23.374Z"
   },
   {
    "duration": 4,
    "start_time": "2022-06-29T15:54:57.937Z"
   },
   {
    "duration": 7,
    "start_time": "2022-06-29T15:55:00.878Z"
   },
   {
    "duration": 15,
    "start_time": "2022-06-29T15:55:10.722Z"
   },
   {
    "duration": 5,
    "start_time": "2022-06-29T15:55:13.994Z"
   },
   {
    "duration": 9,
    "start_time": "2022-06-29T15:55:16.012Z"
   },
   {
    "duration": 13,
    "start_time": "2022-06-29T15:56:50.869Z"
   },
   {
    "duration": 5,
    "start_time": "2022-06-29T15:57:25.142Z"
   },
   {
    "duration": 9,
    "start_time": "2022-06-29T15:58:55.945Z"
   },
   {
    "duration": 4,
    "start_time": "2022-06-29T16:01:25.029Z"
   },
   {
    "duration": 8,
    "start_time": "2022-06-29T16:02:56.858Z"
   },
   {
    "duration": 10,
    "start_time": "2022-06-29T16:03:01.307Z"
   },
   {
    "duration": 10,
    "start_time": "2022-06-29T16:06:15.577Z"
   },
   {
    "duration": 4,
    "start_time": "2022-06-29T16:06:29.018Z"
   },
   {
    "duration": 6,
    "start_time": "2022-06-29T16:06:40.298Z"
   },
   {
    "duration": 4,
    "start_time": "2022-06-29T16:06:48.817Z"
   },
   {
    "duration": 13,
    "start_time": "2022-06-29T16:06:52.468Z"
   },
   {
    "duration": 12,
    "start_time": "2022-06-29T16:07:54.164Z"
   },
   {
    "duration": 3,
    "start_time": "2022-06-29T16:08:40.572Z"
   },
   {
    "duration": 24,
    "start_time": "2022-06-29T16:08:42.937Z"
   },
   {
    "duration": 3,
    "start_time": "2022-06-29T16:09:42.997Z"
   },
   {
    "duration": 22,
    "start_time": "2022-06-29T16:09:45.969Z"
   },
   {
    "duration": 4,
    "start_time": "2022-06-29T16:11:46.884Z"
   },
   {
    "duration": 24,
    "start_time": "2022-06-29T16:12:30.007Z"
   },
   {
    "duration": 3,
    "start_time": "2022-06-29T16:13:48.019Z"
   },
   {
    "duration": 25,
    "start_time": "2022-06-29T16:13:51.517Z"
   },
   {
    "duration": 10,
    "start_time": "2022-06-29T16:14:03.965Z"
   },
   {
    "duration": 23,
    "start_time": "2022-06-29T16:14:16.467Z"
   },
   {
    "duration": 5,
    "start_time": "2022-06-29T16:14:22.268Z"
   },
   {
    "duration": 361,
    "start_time": "2022-06-29T16:14:22.276Z"
   },
   {
    "duration": 15,
    "start_time": "2022-06-29T16:14:22.638Z"
   },
   {
    "duration": 16,
    "start_time": "2022-06-29T16:14:22.655Z"
   },
   {
    "duration": 18,
    "start_time": "2022-06-29T16:14:22.674Z"
   },
   {
    "duration": 79,
    "start_time": "2022-06-29T16:14:22.694Z"
   },
   {
    "duration": 73,
    "start_time": "2022-06-29T16:14:22.775Z"
   },
   {
    "duration": 53,
    "start_time": "2022-06-29T16:14:22.850Z"
   },
   {
    "duration": 27,
    "start_time": "2022-06-29T16:14:22.904Z"
   },
   {
    "duration": 15,
    "start_time": "2022-06-29T16:14:22.933Z"
   },
   {
    "duration": 15,
    "start_time": "2022-06-29T16:14:22.950Z"
   },
   {
    "duration": 77,
    "start_time": "2022-06-29T16:14:22.967Z"
   },
   {
    "duration": 15,
    "start_time": "2022-06-29T16:14:23.047Z"
   },
   {
    "duration": 42,
    "start_time": "2022-06-29T16:14:23.065Z"
   },
   {
    "duration": 124,
    "start_time": "2022-06-29T16:14:23.110Z"
   },
   {
    "duration": 97,
    "start_time": "2022-06-29T16:14:23.237Z"
   },
   {
    "duration": 120,
    "start_time": "2022-06-29T16:14:23.336Z"
   },
   {
    "duration": 70,
    "start_time": "2022-06-29T16:14:23.458Z"
   },
   {
    "duration": 104,
    "start_time": "2022-06-29T16:14:23.530Z"
   },
   {
    "duration": 10,
    "start_time": "2022-06-29T16:14:23.636Z"
   },
   {
    "duration": 9,
    "start_time": "2022-06-29T16:14:23.649Z"
   },
   {
    "duration": 9,
    "start_time": "2022-06-29T16:14:23.660Z"
   },
   {
    "duration": 8,
    "start_time": "2022-06-29T16:14:23.670Z"
   },
   {
    "duration": 27,
    "start_time": "2022-06-29T16:14:23.680Z"
   },
   {
    "duration": 0,
    "start_time": "2022-06-29T16:14:23.709Z"
   },
   {
    "duration": 0,
    "start_time": "2022-06-29T16:14:23.711Z"
   },
   {
    "duration": 0,
    "start_time": "2022-06-29T16:14:23.727Z"
   },
   {
    "duration": 0,
    "start_time": "2022-06-29T16:14:23.729Z"
   },
   {
    "duration": 0,
    "start_time": "2022-06-29T16:14:23.730Z"
   },
   {
    "duration": 18,
    "start_time": "2022-06-29T16:17:12.976Z"
   },
   {
    "duration": 3,
    "start_time": "2022-06-29T16:20:38.663Z"
   },
   {
    "duration": 6,
    "start_time": "2022-06-29T16:20:47.338Z"
   },
   {
    "duration": 12,
    "start_time": "2022-06-29T16:20:57.997Z"
   },
   {
    "duration": 18,
    "start_time": "2022-06-29T16:21:15.986Z"
   },
   {
    "duration": 2857,
    "start_time": "2022-06-29T16:23:01.516Z"
   },
   {
    "duration": 12,
    "start_time": "2022-06-29T16:24:48.272Z"
   },
   {
    "duration": 4,
    "start_time": "2022-06-29T16:25:03.024Z"
   },
   {
    "duration": 401,
    "start_time": "2022-06-29T16:25:03.029Z"
   },
   {
    "duration": 10,
    "start_time": "2022-06-29T16:25:03.432Z"
   },
   {
    "duration": 30,
    "start_time": "2022-06-29T16:25:03.445Z"
   },
   {
    "duration": 42,
    "start_time": "2022-06-29T16:25:03.477Z"
   },
   {
    "duration": 71,
    "start_time": "2022-06-29T16:25:03.521Z"
   },
   {
    "duration": 47,
    "start_time": "2022-06-29T16:25:03.594Z"
   },
   {
    "duration": 75,
    "start_time": "2022-06-29T16:25:03.643Z"
   },
   {
    "duration": 14,
    "start_time": "2022-06-29T16:25:03.719Z"
   },
   {
    "duration": 44,
    "start_time": "2022-06-29T16:25:03.735Z"
   },
   {
    "duration": 31,
    "start_time": "2022-06-29T16:25:03.781Z"
   },
   {
    "duration": 61,
    "start_time": "2022-06-29T16:25:03.815Z"
   },
   {
    "duration": 12,
    "start_time": "2022-06-29T16:25:03.878Z"
   },
   {
    "duration": 70,
    "start_time": "2022-06-29T16:25:03.894Z"
   },
   {
    "duration": 62,
    "start_time": "2022-06-29T16:25:03.966Z"
   },
   {
    "duration": 110,
    "start_time": "2022-06-29T16:25:04.034Z"
   },
   {
    "duration": 196,
    "start_time": "2022-06-29T16:25:04.147Z"
   },
   {
    "duration": 104,
    "start_time": "2022-06-29T16:25:04.429Z"
   },
   {
    "duration": 11,
    "start_time": "2022-06-29T16:25:04.535Z"
   },
   {
    "duration": 17,
    "start_time": "2022-06-29T16:25:04.548Z"
   },
   {
    "duration": 26,
    "start_time": "2022-06-29T16:25:04.566Z"
   },
   {
    "duration": 27,
    "start_time": "2022-06-29T16:25:04.594Z"
   },
   {
    "duration": 39,
    "start_time": "2022-06-29T16:25:04.623Z"
   },
   {
    "duration": 0,
    "start_time": "2022-06-29T16:25:04.664Z"
   },
   {
    "duration": 0,
    "start_time": "2022-06-29T16:25:04.666Z"
   },
   {
    "duration": 0,
    "start_time": "2022-06-29T16:25:04.668Z"
   },
   {
    "duration": 0,
    "start_time": "2022-06-29T16:25:04.669Z"
   },
   {
    "duration": 0,
    "start_time": "2022-06-29T16:25:04.670Z"
   },
   {
    "duration": 12,
    "start_time": "2022-06-29T16:25:17.226Z"
   },
   {
    "duration": 14,
    "start_time": "2022-06-29T16:26:54.542Z"
   },
   {
    "duration": 12,
    "start_time": "2022-06-29T16:30:11.248Z"
   },
   {
    "duration": 13,
    "start_time": "2022-06-29T16:32:16.120Z"
   },
   {
    "duration": 3,
    "start_time": "2022-06-29T16:33:05.870Z"
   },
   {
    "duration": 15,
    "start_time": "2022-06-29T16:33:10.278Z"
   },
   {
    "duration": 3,
    "start_time": "2022-06-29T16:33:51.569Z"
   },
   {
    "duration": 13,
    "start_time": "2022-06-29T16:33:54.670Z"
   },
   {
    "duration": 3,
    "start_time": "2022-06-29T16:34:30.029Z"
   },
   {
    "duration": 17,
    "start_time": "2022-06-29T16:34:33.613Z"
   },
   {
    "duration": 14,
    "start_time": "2022-06-29T16:34:57.242Z"
   },
   {
    "duration": 17,
    "start_time": "2022-06-29T16:37:03.311Z"
   },
   {
    "duration": 3,
    "start_time": "2022-06-29T16:37:23.470Z"
   },
   {
    "duration": 13,
    "start_time": "2022-06-29T16:37:28.038Z"
   },
   {
    "duration": 4,
    "start_time": "2022-06-29T16:37:33.718Z"
   },
   {
    "duration": 393,
    "start_time": "2022-06-29T16:37:33.725Z"
   },
   {
    "duration": 10,
    "start_time": "2022-06-29T16:37:34.121Z"
   },
   {
    "duration": 26,
    "start_time": "2022-06-29T16:37:34.132Z"
   },
   {
    "duration": 12,
    "start_time": "2022-06-29T16:37:34.161Z"
   },
   {
    "duration": 71,
    "start_time": "2022-06-29T16:37:34.175Z"
   },
   {
    "duration": 43,
    "start_time": "2022-06-29T16:37:34.248Z"
   },
   {
    "duration": 62,
    "start_time": "2022-06-29T16:37:34.293Z"
   },
   {
    "duration": 10,
    "start_time": "2022-06-29T16:37:34.356Z"
   },
   {
    "duration": 20,
    "start_time": "2022-06-29T16:37:34.368Z"
   },
   {
    "duration": 11,
    "start_time": "2022-06-29T16:37:34.391Z"
   },
   {
    "duration": 67,
    "start_time": "2022-06-29T16:37:34.404Z"
   },
   {
    "duration": 13,
    "start_time": "2022-06-29T16:37:34.473Z"
   },
   {
    "duration": 46,
    "start_time": "2022-06-29T16:37:34.489Z"
   },
   {
    "duration": 92,
    "start_time": "2022-06-29T16:37:34.537Z"
   },
   {
    "duration": 120,
    "start_time": "2022-06-29T16:37:34.631Z"
   },
   {
    "duration": 188,
    "start_time": "2022-06-29T16:37:34.755Z"
   },
   {
    "duration": 185,
    "start_time": "2022-06-29T16:37:34.945Z"
   },
   {
    "duration": 16,
    "start_time": "2022-06-29T16:37:35.132Z"
   },
   {
    "duration": 12,
    "start_time": "2022-06-29T16:37:35.150Z"
   },
   {
    "duration": 11,
    "start_time": "2022-06-29T16:37:35.164Z"
   },
   {
    "duration": 3,
    "start_time": "2022-06-29T16:37:35.176Z"
   },
   {
    "duration": 6,
    "start_time": "2022-06-29T16:37:35.181Z"
   },
   {
    "duration": 19,
    "start_time": "2022-06-29T16:37:35.188Z"
   },
   {
    "duration": 0,
    "start_time": "2022-06-29T16:37:35.227Z"
   },
   {
    "duration": 0,
    "start_time": "2022-06-29T16:37:35.228Z"
   },
   {
    "duration": 14,
    "start_time": "2022-06-29T16:39:11.734Z"
   },
   {
    "duration": 19,
    "start_time": "2022-06-29T16:42:48.635Z"
   },
   {
    "duration": 7,
    "start_time": "2022-06-29T16:43:05.752Z"
   },
   {
    "duration": 425,
    "start_time": "2022-06-29T16:43:05.763Z"
   },
   {
    "duration": 12,
    "start_time": "2022-06-29T16:43:06.190Z"
   },
   {
    "duration": 23,
    "start_time": "2022-06-29T16:43:06.204Z"
   },
   {
    "duration": 14,
    "start_time": "2022-06-29T16:43:06.230Z"
   },
   {
    "duration": 85,
    "start_time": "2022-06-29T16:43:06.246Z"
   },
   {
    "duration": 67,
    "start_time": "2022-06-29T16:43:06.333Z"
   },
   {
    "duration": 82,
    "start_time": "2022-06-29T16:43:06.402Z"
   },
   {
    "duration": 16,
    "start_time": "2022-06-29T16:43:06.486Z"
   },
   {
    "duration": 36,
    "start_time": "2022-06-29T16:43:06.504Z"
   },
   {
    "duration": 25,
    "start_time": "2022-06-29T16:43:06.545Z"
   },
   {
    "duration": 55,
    "start_time": "2022-06-29T16:43:06.573Z"
   },
   {
    "duration": 14,
    "start_time": "2022-06-29T16:43:06.630Z"
   },
   {
    "duration": 57,
    "start_time": "2022-06-29T16:43:06.645Z"
   },
   {
    "duration": 131,
    "start_time": "2022-06-29T16:43:06.703Z"
   },
   {
    "duration": 112,
    "start_time": "2022-06-29T16:43:06.839Z"
   },
   {
    "duration": 183,
    "start_time": "2022-06-29T16:43:06.953Z"
   },
   {
    "duration": 88,
    "start_time": "2022-06-29T16:43:07.139Z"
   },
   {
    "duration": 101,
    "start_time": "2022-06-29T16:43:07.230Z"
   },
   {
    "duration": 36,
    "start_time": "2022-06-29T16:43:07.334Z"
   },
   {
    "duration": 34,
    "start_time": "2022-06-29T16:43:07.372Z"
   },
   {
    "duration": 9,
    "start_time": "2022-06-29T16:43:07.409Z"
   },
   {
    "duration": 29,
    "start_time": "2022-06-29T16:43:07.423Z"
   },
   {
    "duration": 27,
    "start_time": "2022-06-29T16:43:07.455Z"
   },
   {
    "duration": 0,
    "start_time": "2022-06-29T16:43:07.485Z"
   },
   {
    "duration": 0,
    "start_time": "2022-06-29T16:43:07.486Z"
   },
   {
    "duration": 12,
    "start_time": "2022-06-29T16:43:35.829Z"
   },
   {
    "duration": 5,
    "start_time": "2022-06-29T16:43:40.786Z"
   },
   {
    "duration": 5,
    "start_time": "2022-06-29T16:43:52.471Z"
   },
   {
    "duration": 17,
    "start_time": "2022-06-29T16:44:21.713Z"
   },
   {
    "duration": 4,
    "start_time": "2022-06-29T16:44:56.228Z"
   },
   {
    "duration": 6,
    "start_time": "2022-06-29T16:45:06.788Z"
   },
   {
    "duration": 6,
    "start_time": "2022-06-29T16:45:14.387Z"
   },
   {
    "duration": 3,
    "start_time": "2022-06-29T16:45:23.111Z"
   },
   {
    "duration": 13,
    "start_time": "2022-06-29T16:45:25.593Z"
   },
   {
    "duration": 4,
    "start_time": "2022-06-29T16:46:01.500Z"
   },
   {
    "duration": 17,
    "start_time": "2022-06-29T16:46:05.860Z"
   },
   {
    "duration": 8,
    "start_time": "2022-06-29T16:46:35.120Z"
   },
   {
    "duration": 4,
    "start_time": "2022-06-29T16:47:02.762Z"
   },
   {
    "duration": 13,
    "start_time": "2022-06-29T16:47:12.192Z"
   },
   {
    "duration": 23,
    "start_time": "2022-06-29T16:48:45.929Z"
   },
   {
    "duration": 15,
    "start_time": "2022-06-29T16:59:40.907Z"
   },
   {
    "duration": 30,
    "start_time": "2022-06-29T16:59:51.018Z"
   },
   {
    "duration": 20,
    "start_time": "2022-06-29T17:02:34.903Z"
   },
   {
    "duration": 38,
    "start_time": "2022-06-29T17:03:35.908Z"
   },
   {
    "duration": 5,
    "start_time": "2022-06-29T17:14:26.398Z"
   },
   {
    "duration": 32,
    "start_time": "2022-06-29T17:14:38.391Z"
   },
   {
    "duration": 4,
    "start_time": "2022-06-29T17:15:59.489Z"
   },
   {
    "duration": 26,
    "start_time": "2022-06-29T17:16:02.649Z"
   },
   {
    "duration": 4,
    "start_time": "2022-06-29T17:16:29.306Z"
   },
   {
    "duration": 399,
    "start_time": "2022-06-29T17:16:29.312Z"
   },
   {
    "duration": 10,
    "start_time": "2022-06-29T17:16:29.712Z"
   },
   {
    "duration": 32,
    "start_time": "2022-06-29T17:16:29.727Z"
   },
   {
    "duration": 15,
    "start_time": "2022-06-29T17:16:29.761Z"
   },
   {
    "duration": 48,
    "start_time": "2022-06-29T17:16:29.777Z"
   },
   {
    "duration": 46,
    "start_time": "2022-06-29T17:16:29.829Z"
   },
   {
    "duration": 69,
    "start_time": "2022-06-29T17:16:29.877Z"
   },
   {
    "duration": 11,
    "start_time": "2022-06-29T17:16:29.948Z"
   },
   {
    "duration": 12,
    "start_time": "2022-06-29T17:16:29.962Z"
   },
   {
    "duration": 13,
    "start_time": "2022-06-29T17:16:29.976Z"
   },
   {
    "duration": 93,
    "start_time": "2022-06-29T17:16:29.993Z"
   },
   {
    "duration": 12,
    "start_time": "2022-06-29T17:16:30.088Z"
   },
   {
    "duration": 57,
    "start_time": "2022-06-29T17:16:30.104Z"
   },
   {
    "duration": 25,
    "start_time": "2022-06-29T17:16:30.163Z"
   },
   {
    "duration": 133,
    "start_time": "2022-06-29T17:16:30.235Z"
   },
   {
    "duration": 169,
    "start_time": "2022-06-29T17:16:30.370Z"
   },
   {
    "duration": 105,
    "start_time": "2022-06-29T17:16:30.549Z"
   },
   {
    "duration": 25,
    "start_time": "2022-06-29T17:16:30.658Z"
   },
   {
    "duration": 19,
    "start_time": "2022-06-29T17:16:30.687Z"
   },
   {
    "duration": 44,
    "start_time": "2022-06-29T17:16:30.709Z"
   },
   {
    "duration": 4,
    "start_time": "2022-06-29T17:16:30.755Z"
   },
   {
    "duration": 27,
    "start_time": "2022-06-29T17:16:30.761Z"
   },
   {
    "duration": 22,
    "start_time": "2022-06-29T17:16:30.791Z"
   },
   {
    "duration": 1,
    "start_time": "2022-06-29T17:16:30.814Z"
   },
   {
    "duration": 0,
    "start_time": "2022-06-29T17:16:30.816Z"
   },
   {
    "duration": 5,
    "start_time": "2022-06-29T17:18:10.490Z"
   },
   {
    "duration": 16,
    "start_time": "2022-06-29T17:18:13.363Z"
   },
   {
    "duration": 4,
    "start_time": "2022-06-29T17:18:33.750Z"
   },
   {
    "duration": 15,
    "start_time": "2022-06-29T17:18:36.190Z"
   },
   {
    "duration": 4,
    "start_time": "2022-06-29T17:19:18.688Z"
   },
   {
    "duration": 21,
    "start_time": "2022-06-29T17:19:21.956Z"
   },
   {
    "duration": 4,
    "start_time": "2022-06-29T17:59:12.558Z"
   },
   {
    "duration": 359,
    "start_time": "2022-06-29T17:59:12.565Z"
   },
   {
    "duration": 10,
    "start_time": "2022-06-29T17:59:12.925Z"
   },
   {
    "duration": 13,
    "start_time": "2022-06-29T17:59:12.936Z"
   },
   {
    "duration": 15,
    "start_time": "2022-06-29T17:59:12.951Z"
   },
   {
    "duration": 48,
    "start_time": "2022-06-29T17:59:12.967Z"
   },
   {
    "duration": 42,
    "start_time": "2022-06-29T17:59:13.027Z"
   },
   {
    "duration": 60,
    "start_time": "2022-06-29T17:59:13.071Z"
   },
   {
    "duration": 10,
    "start_time": "2022-06-29T17:59:13.132Z"
   },
   {
    "duration": 16,
    "start_time": "2022-06-29T17:59:13.144Z"
   },
   {
    "duration": 10,
    "start_time": "2022-06-29T17:59:13.161Z"
   },
   {
    "duration": 69,
    "start_time": "2022-06-29T17:59:13.173Z"
   },
   {
    "duration": 12,
    "start_time": "2022-06-29T17:59:13.244Z"
   },
   {
    "duration": 33,
    "start_time": "2022-06-29T17:59:13.258Z"
   },
   {
    "duration": 44,
    "start_time": "2022-06-29T17:59:13.293Z"
   },
   {
    "duration": 105,
    "start_time": "2022-06-29T17:59:13.339Z"
   },
   {
    "duration": 187,
    "start_time": "2022-06-29T17:59:13.446Z"
   },
   {
    "duration": 93,
    "start_time": "2022-06-29T17:59:13.635Z"
   },
   {
    "duration": 98,
    "start_time": "2022-06-29T17:59:13.731Z"
   },
   {
    "duration": 12,
    "start_time": "2022-06-29T17:59:13.830Z"
   },
   {
    "duration": 15,
    "start_time": "2022-06-29T17:59:13.843Z"
   },
   {
    "duration": 3,
    "start_time": "2022-06-29T17:59:13.859Z"
   },
   {
    "duration": 9,
    "start_time": "2022-06-29T17:59:13.864Z"
   },
   {
    "duration": 8,
    "start_time": "2022-06-29T17:59:13.874Z"
   },
   {
    "duration": 27,
    "start_time": "2022-06-29T17:59:13.884Z"
   },
   {
    "duration": 0,
    "start_time": "2022-06-29T17:59:13.912Z"
   },
   {
    "duration": 0,
    "start_time": "2022-06-29T17:59:13.927Z"
   },
   {
    "duration": 4,
    "start_time": "2022-06-29T18:00:41.516Z"
   },
   {
    "duration": 4,
    "start_time": "2022-06-29T18:03:14.233Z"
   },
   {
    "duration": 23,
    "start_time": "2022-06-29T18:03:18.084Z"
   },
   {
    "duration": 4,
    "start_time": "2022-06-29T18:04:19.237Z"
   },
   {
    "duration": 23,
    "start_time": "2022-06-29T18:04:21.353Z"
   },
   {
    "duration": 3,
    "start_time": "2022-06-29T18:07:25.058Z"
   },
   {
    "duration": 23,
    "start_time": "2022-06-29T18:07:27.824Z"
   },
   {
    "duration": 3,
    "start_time": "2022-06-29T18:07:39.019Z"
   },
   {
    "duration": 29,
    "start_time": "2022-06-29T18:07:41.549Z"
   },
   {
    "duration": 23,
    "start_time": "2022-06-29T18:11:12.603Z"
   },
   {
    "duration": 9,
    "start_time": "2022-06-30T05:51:14.634Z"
   },
   {
    "duration": 5,
    "start_time": "2022-06-30T05:55:21.035Z"
   },
   {
    "duration": 1514,
    "start_time": "2022-06-30T05:56:05.074Z"
   },
   {
    "duration": 727,
    "start_time": "2022-06-30T05:56:06.590Z"
   },
   {
    "duration": 20,
    "start_time": "2022-06-30T05:56:07.320Z"
   },
   {
    "duration": 18,
    "start_time": "2022-06-30T05:56:07.342Z"
   },
   {
    "duration": 20,
    "start_time": "2022-06-30T05:56:07.362Z"
   },
   {
    "duration": 73,
    "start_time": "2022-06-30T05:56:07.384Z"
   },
   {
    "duration": 51,
    "start_time": "2022-06-30T05:56:07.459Z"
   },
   {
    "duration": 81,
    "start_time": "2022-06-30T05:56:07.512Z"
   },
   {
    "duration": 30,
    "start_time": "2022-06-30T05:56:07.595Z"
   },
   {
    "duration": 11,
    "start_time": "2022-06-30T05:56:07.627Z"
   },
   {
    "duration": 20,
    "start_time": "2022-06-30T05:56:07.640Z"
   },
   {
    "duration": 99,
    "start_time": "2022-06-30T05:56:07.663Z"
   },
   {
    "duration": 23,
    "start_time": "2022-06-30T05:56:07.764Z"
   },
   {
    "duration": 62,
    "start_time": "2022-06-30T05:56:07.791Z"
   },
   {
    "duration": 22,
    "start_time": "2022-06-30T05:56:07.855Z"
   },
   {
    "duration": 126,
    "start_time": "2022-06-30T05:56:07.925Z"
   },
   {
    "duration": 175,
    "start_time": "2022-06-30T05:56:08.053Z"
   },
   {
    "duration": 4,
    "start_time": "2022-06-30T05:56:08.231Z"
   },
   {
    "duration": 95,
    "start_time": "2022-06-30T05:56:08.237Z"
   },
   {
    "duration": 13,
    "start_time": "2022-06-30T05:56:08.335Z"
   },
   {
    "duration": 12,
    "start_time": "2022-06-30T05:56:08.425Z"
   },
   {
    "duration": 4,
    "start_time": "2022-06-30T05:56:08.438Z"
   },
   {
    "duration": 11,
    "start_time": "2022-06-30T05:56:08.443Z"
   },
   {
    "duration": 6,
    "start_time": "2022-06-30T05:56:08.455Z"
   },
   {
    "duration": 9,
    "start_time": "2022-06-30T05:56:08.463Z"
   },
   {
    "duration": 137,
    "start_time": "2022-06-30T05:56:08.474Z"
   },
   {
    "duration": 0,
    "start_time": "2022-06-30T05:56:08.613Z"
   },
   {
    "duration": 5,
    "start_time": "2022-06-30T05:56:18.985Z"
   },
   {
    "duration": 383,
    "start_time": "2022-06-30T05:56:18.998Z"
   },
   {
    "duration": 10,
    "start_time": "2022-06-30T05:56:19.383Z"
   },
   {
    "duration": 19,
    "start_time": "2022-06-30T05:56:19.395Z"
   },
   {
    "duration": 24,
    "start_time": "2022-06-30T05:56:19.422Z"
   },
   {
    "duration": 59,
    "start_time": "2022-06-30T05:56:19.449Z"
   },
   {
    "duration": 61,
    "start_time": "2022-06-30T05:56:19.510Z"
   },
   {
    "duration": 55,
    "start_time": "2022-06-30T05:56:19.573Z"
   },
   {
    "duration": 11,
    "start_time": "2022-06-30T05:56:19.629Z"
   },
   {
    "duration": 13,
    "start_time": "2022-06-30T05:56:19.642Z"
   },
   {
    "duration": 10,
    "start_time": "2022-06-30T05:56:19.657Z"
   },
   {
    "duration": 84,
    "start_time": "2022-06-30T05:56:19.669Z"
   },
   {
    "duration": 15,
    "start_time": "2022-06-30T05:56:19.755Z"
   },
   {
    "duration": 35,
    "start_time": "2022-06-30T05:56:19.771Z"
   },
   {
    "duration": 29,
    "start_time": "2022-06-30T05:56:19.808Z"
   },
   {
    "duration": 189,
    "start_time": "2022-06-30T05:56:19.838Z"
   },
   {
    "duration": 116,
    "start_time": "2022-06-30T05:56:20.029Z"
   },
   {
    "duration": 4,
    "start_time": "2022-06-30T05:56:20.147Z"
   },
   {
    "duration": 172,
    "start_time": "2022-06-30T05:56:20.153Z"
   },
   {
    "duration": 13,
    "start_time": "2022-06-30T05:56:20.327Z"
   },
   {
    "duration": 14,
    "start_time": "2022-06-30T05:56:20.342Z"
   },
   {
    "duration": 3,
    "start_time": "2022-06-30T05:56:20.359Z"
   },
   {
    "duration": 6,
    "start_time": "2022-06-30T05:56:20.364Z"
   },
   {
    "duration": 8,
    "start_time": "2022-06-30T05:56:20.372Z"
   },
   {
    "duration": 9,
    "start_time": "2022-06-30T05:56:20.382Z"
   },
   {
    "duration": 39,
    "start_time": "2022-06-30T05:56:20.393Z"
   },
   {
    "duration": 0,
    "start_time": "2022-06-30T05:56:20.434Z"
   },
   {
    "duration": 8,
    "start_time": "2022-06-30T05:57:57.654Z"
   },
   {
    "duration": 31,
    "start_time": "2022-06-30T05:58:44.370Z"
   },
   {
    "duration": 28,
    "start_time": "2022-06-30T06:10:13.293Z"
   },
   {
    "duration": 6,
    "start_time": "2022-06-30T07:56:40.104Z"
   },
   {
    "duration": 5,
    "start_time": "2022-06-30T07:56:42.551Z"
   },
   {
    "duration": 543,
    "start_time": "2022-06-30T07:56:42.559Z"
   },
   {
    "duration": 10,
    "start_time": "2022-06-30T07:56:43.105Z"
   },
   {
    "duration": 21,
    "start_time": "2022-06-30T07:56:43.116Z"
   },
   {
    "duration": 18,
    "start_time": "2022-06-30T07:56:43.140Z"
   },
   {
    "duration": 64,
    "start_time": "2022-06-30T07:56:43.160Z"
   },
   {
    "duration": 69,
    "start_time": "2022-06-30T07:56:43.227Z"
   },
   {
    "duration": 69,
    "start_time": "2022-06-30T07:56:43.299Z"
   },
   {
    "duration": 12,
    "start_time": "2022-06-30T07:56:43.370Z"
   },
   {
    "duration": 13,
    "start_time": "2022-06-30T07:56:43.383Z"
   },
   {
    "duration": 35,
    "start_time": "2022-06-30T07:56:43.399Z"
   },
   {
    "duration": 56,
    "start_time": "2022-06-30T07:56:43.436Z"
   },
   {
    "duration": 12,
    "start_time": "2022-06-30T07:56:43.495Z"
   },
   {
    "duration": 50,
    "start_time": "2022-06-30T07:56:43.509Z"
   },
   {
    "duration": 64,
    "start_time": "2022-06-30T07:56:43.561Z"
   },
   {
    "duration": 107,
    "start_time": "2022-06-30T07:56:43.635Z"
   },
   {
    "duration": 179,
    "start_time": "2022-06-30T07:56:43.745Z"
   },
   {
    "duration": 116,
    "start_time": "2022-06-30T07:56:43.927Z"
   },
   {
    "duration": 27,
    "start_time": "2022-06-30T07:56:44.045Z"
   },
   {
    "duration": 13,
    "start_time": "2022-06-30T07:56:44.073Z"
   },
   {
    "duration": 11,
    "start_time": "2022-06-30T07:56:44.088Z"
   },
   {
    "duration": 8,
    "start_time": "2022-06-30T07:56:44.100Z"
   },
   {
    "duration": 34,
    "start_time": "2022-06-30T07:56:44.109Z"
   },
   {
    "duration": 0,
    "start_time": "2022-06-30T07:56:44.144Z"
   },
   {
    "duration": 0,
    "start_time": "2022-06-30T07:56:44.146Z"
   },
   {
    "duration": 0,
    "start_time": "2022-06-30T07:56:44.147Z"
   },
   {
    "duration": 0,
    "start_time": "2022-06-30T07:56:44.148Z"
   },
   {
    "duration": 0,
    "start_time": "2022-06-30T07:56:44.149Z"
   },
   {
    "duration": 0,
    "start_time": "2022-06-30T07:56:44.151Z"
   },
   {
    "duration": 0,
    "start_time": "2022-06-30T07:56:44.152Z"
   },
   {
    "duration": 3,
    "start_time": "2022-06-30T07:56:53.673Z"
   },
   {
    "duration": 5,
    "start_time": "2022-06-30T07:56:55.750Z"
   },
   {
    "duration": 18,
    "start_time": "2022-06-30T07:56:59.222Z"
   },
   {
    "duration": 11,
    "start_time": "2022-06-30T08:03:35.671Z"
   },
   {
    "duration": 14,
    "start_time": "2022-06-30T08:03:55.140Z"
   },
   {
    "duration": 14,
    "start_time": "2022-06-30T08:04:11.439Z"
   },
   {
    "duration": 12,
    "start_time": "2022-06-30T08:05:12.485Z"
   },
   {
    "duration": 1567,
    "start_time": "2022-06-30T10:07:02.072Z"
   },
   {
    "duration": 729,
    "start_time": "2022-06-30T10:07:03.641Z"
   },
   {
    "duration": 14,
    "start_time": "2022-06-30T10:07:04.371Z"
   },
   {
    "duration": 9,
    "start_time": "2022-06-30T10:07:04.387Z"
   },
   {
    "duration": 10,
    "start_time": "2022-06-30T10:07:04.398Z"
   },
   {
    "duration": 51,
    "start_time": "2022-06-30T10:07:04.422Z"
   },
   {
    "duration": 58,
    "start_time": "2022-06-30T10:07:04.475Z"
   },
   {
    "duration": 47,
    "start_time": "2022-06-30T10:07:04.535Z"
   },
   {
    "duration": 11,
    "start_time": "2022-06-30T10:07:04.584Z"
   },
   {
    "duration": 32,
    "start_time": "2022-06-30T10:07:04.596Z"
   },
   {
    "duration": 12,
    "start_time": "2022-06-30T10:07:04.629Z"
   },
   {
    "duration": 46,
    "start_time": "2022-06-30T10:07:04.642Z"
   },
   {
    "duration": 37,
    "start_time": "2022-06-30T10:07:04.690Z"
   },
   {
    "duration": 40,
    "start_time": "2022-06-30T10:07:04.730Z"
   },
   {
    "duration": 153,
    "start_time": "2022-06-30T10:07:04.772Z"
   },
   {
    "duration": 106,
    "start_time": "2022-06-30T10:07:04.929Z"
   },
   {
    "duration": 191,
    "start_time": "2022-06-30T10:07:05.037Z"
   },
   {
    "duration": 102,
    "start_time": "2022-06-30T10:07:05.230Z"
   },
   {
    "duration": 8,
    "start_time": "2022-06-30T10:07:05.424Z"
   },
   {
    "duration": 7,
    "start_time": "2022-06-30T10:07:05.434Z"
   },
   {
    "duration": 9,
    "start_time": "2022-06-30T10:07:05.443Z"
   },
   {
    "duration": 10,
    "start_time": "2022-06-30T10:07:05.454Z"
   },
   {
    "duration": 117,
    "start_time": "2022-06-30T10:07:05.465Z"
   },
   {
    "duration": 0,
    "start_time": "2022-06-30T10:07:05.583Z"
   },
   {
    "duration": 0,
    "start_time": "2022-06-30T10:07:05.584Z"
   },
   {
    "duration": 0,
    "start_time": "2022-06-30T10:07:05.585Z"
   },
   {
    "duration": 0,
    "start_time": "2022-06-30T10:07:05.586Z"
   },
   {
    "duration": 0,
    "start_time": "2022-06-30T10:07:05.587Z"
   },
   {
    "duration": 0,
    "start_time": "2022-06-30T10:07:05.588Z"
   },
   {
    "duration": 0,
    "start_time": "2022-06-30T10:07:05.589Z"
   },
   {
    "duration": 0,
    "start_time": "2022-06-30T10:07:05.590Z"
   },
   {
    "duration": 0,
    "start_time": "2022-06-30T10:07:05.591Z"
   },
   {
    "duration": 9,
    "start_time": "2022-06-30T10:08:31.582Z"
   },
   {
    "duration": 6,
    "start_time": "2022-06-30T10:08:37.370Z"
   },
   {
    "duration": 5,
    "start_time": "2022-06-30T10:08:43.075Z"
   },
   {
    "duration": 5,
    "start_time": "2022-06-30T10:09:32.581Z"
   },
   {
    "duration": 3,
    "start_time": "2022-06-30T10:24:12.888Z"
   },
   {
    "duration": 387,
    "start_time": "2022-06-30T10:24:12.897Z"
   },
   {
    "duration": 9,
    "start_time": "2022-06-30T10:24:13.286Z"
   },
   {
    "duration": 39,
    "start_time": "2022-06-30T10:24:13.296Z"
   },
   {
    "duration": 47,
    "start_time": "2022-06-30T10:24:13.337Z"
   },
   {
    "duration": 59,
    "start_time": "2022-06-30T10:24:13.385Z"
   },
   {
    "duration": 42,
    "start_time": "2022-06-30T10:24:13.445Z"
   },
   {
    "duration": 60,
    "start_time": "2022-06-30T10:24:13.488Z"
   },
   {
    "duration": 9,
    "start_time": "2022-06-30T10:24:13.549Z"
   },
   {
    "duration": 19,
    "start_time": "2022-06-30T10:24:13.560Z"
   },
   {
    "duration": 14,
    "start_time": "2022-06-30T10:24:13.582Z"
   },
   {
    "duration": 61,
    "start_time": "2022-06-30T10:24:13.597Z"
   },
   {
    "duration": 14,
    "start_time": "2022-06-30T10:24:13.660Z"
   },
   {
    "duration": 42,
    "start_time": "2022-06-30T10:24:13.675Z"
   },
   {
    "duration": 17,
    "start_time": "2022-06-30T10:24:13.723Z"
   },
   {
    "duration": 121,
    "start_time": "2022-06-30T10:24:13.822Z"
   },
   {
    "duration": 190,
    "start_time": "2022-06-30T10:24:13.947Z"
   },
   {
    "duration": 3,
    "start_time": "2022-06-30T10:24:14.140Z"
   },
   {
    "duration": 11,
    "start_time": "2022-06-30T10:24:14.225Z"
   },
   {
    "duration": 91,
    "start_time": "2022-06-30T10:24:14.238Z"
   },
   {
    "duration": 9,
    "start_time": "2022-06-30T10:24:14.330Z"
   },
   {
    "duration": 18,
    "start_time": "2022-06-30T10:24:14.340Z"
   },
   {
    "duration": 0,
    "start_time": "2022-06-30T10:24:14.359Z"
   },
   {
    "duration": 0,
    "start_time": "2022-06-30T10:24:14.361Z"
   },
   {
    "duration": 0,
    "start_time": "2022-06-30T10:24:14.362Z"
   },
   {
    "duration": 0,
    "start_time": "2022-06-30T10:24:14.363Z"
   },
   {
    "duration": 0,
    "start_time": "2022-06-30T10:24:14.365Z"
   },
   {
    "duration": 0,
    "start_time": "2022-06-30T10:24:14.366Z"
   },
   {
    "duration": 0,
    "start_time": "2022-06-30T10:24:14.366Z"
   },
   {
    "duration": 0,
    "start_time": "2022-06-30T10:24:14.367Z"
   },
   {
    "duration": 0,
    "start_time": "2022-06-30T10:24:14.368Z"
   },
   {
    "duration": 5,
    "start_time": "2022-06-30T10:25:56.192Z"
   },
   {
    "duration": 13,
    "start_time": "2022-06-30T10:26:00.720Z"
   },
   {
    "duration": 9,
    "start_time": "2022-06-30T10:40:26.823Z"
   },
   {
    "duration": 13,
    "start_time": "2022-06-30T10:40:33.063Z"
   },
   {
    "duration": 1623,
    "start_time": "2022-07-01T12:46:54.788Z"
   },
   {
    "duration": 834,
    "start_time": "2022-07-01T12:46:56.413Z"
   },
   {
    "duration": 24,
    "start_time": "2022-07-01T12:46:57.248Z"
   },
   {
    "duration": 10,
    "start_time": "2022-07-01T12:46:57.273Z"
   },
   {
    "duration": 10,
    "start_time": "2022-07-01T12:46:57.285Z"
   },
   {
    "duration": 48,
    "start_time": "2022-07-01T12:46:57.296Z"
   },
   {
    "duration": 54,
    "start_time": "2022-07-01T12:46:57.345Z"
   },
   {
    "duration": 75,
    "start_time": "2022-07-01T12:46:57.401Z"
   },
   {
    "duration": 14,
    "start_time": "2022-07-01T12:46:57.477Z"
   },
   {
    "duration": 15,
    "start_time": "2022-07-01T12:46:57.493Z"
   },
   {
    "duration": 32,
    "start_time": "2022-07-01T12:46:57.510Z"
   },
   {
    "duration": 64,
    "start_time": "2022-07-01T12:46:57.545Z"
   },
   {
    "duration": 20,
    "start_time": "2022-07-01T12:46:57.611Z"
   },
   {
    "duration": 59,
    "start_time": "2022-07-01T12:46:57.633Z"
   },
   {
    "duration": 74,
    "start_time": "2022-07-01T12:46:57.695Z"
   },
   {
    "duration": 213,
    "start_time": "2022-07-01T12:46:57.772Z"
   },
   {
    "duration": 101,
    "start_time": "2022-07-01T12:46:57.986Z"
   },
   {
    "duration": 118,
    "start_time": "2022-07-01T12:46:58.161Z"
   },
   {
    "duration": 12,
    "start_time": "2022-07-01T12:46:58.281Z"
   },
   {
    "duration": 11,
    "start_time": "2022-07-01T12:46:58.295Z"
   },
   {
    "duration": 6,
    "start_time": "2022-07-01T12:46:58.308Z"
   },
   {
    "duration": 160,
    "start_time": "2022-07-01T12:46:58.316Z"
   },
   {
    "duration": 0,
    "start_time": "2022-07-01T12:46:58.478Z"
   },
   {
    "duration": 0,
    "start_time": "2022-07-01T12:46:58.479Z"
   },
   {
    "duration": 0,
    "start_time": "2022-07-01T12:46:58.481Z"
   },
   {
    "duration": 0,
    "start_time": "2022-07-01T12:46:58.482Z"
   },
   {
    "duration": 0,
    "start_time": "2022-07-01T12:46:58.483Z"
   },
   {
    "duration": 0,
    "start_time": "2022-07-01T12:46:58.485Z"
   },
   {
    "duration": 0,
    "start_time": "2022-07-01T12:46:58.486Z"
   },
   {
    "duration": 0,
    "start_time": "2022-07-01T12:46:58.487Z"
   },
   {
    "duration": 5,
    "start_time": "2022-07-01T12:47:39.688Z"
   },
   {
    "duration": 8,
    "start_time": "2022-07-01T12:48:01.682Z"
   },
   {
    "duration": 3,
    "start_time": "2022-07-01T12:48:20.932Z"
   },
   {
    "duration": 9,
    "start_time": "2022-07-01T12:48:30.785Z"
   },
   {
    "duration": 12,
    "start_time": "2022-07-01T12:48:45.781Z"
   },
   {
    "duration": 14,
    "start_time": "2022-07-01T12:48:52.424Z"
   },
   {
    "duration": 9,
    "start_time": "2022-07-01T12:49:22.877Z"
   },
   {
    "duration": 5,
    "start_time": "2022-07-01T12:49:47.397Z"
   },
   {
    "duration": 5,
    "start_time": "2022-07-01T12:49:51.352Z"
   },
   {
    "duration": 16,
    "start_time": "2022-07-01T12:49:52.900Z"
   },
   {
    "duration": 7,
    "start_time": "2022-07-01T12:50:42.887Z"
   },
   {
    "duration": 16,
    "start_time": "2022-07-01T12:50:47.499Z"
   },
   {
    "duration": 6,
    "start_time": "2022-07-01T12:51:16.983Z"
   },
   {
    "duration": 16,
    "start_time": "2022-07-01T12:51:21.599Z"
   },
   {
    "duration": 12,
    "start_time": "2022-07-01T12:52:09.583Z"
   },
   {
    "duration": 8,
    "start_time": "2022-07-01T12:53:17.984Z"
   },
   {
    "duration": 6,
    "start_time": "2022-07-01T12:54:29.916Z"
   },
   {
    "duration": 30,
    "start_time": "2022-07-01T12:54:33.307Z"
   },
   {
    "duration": 10,
    "start_time": "2022-07-01T12:55:09.681Z"
   },
   {
    "duration": 9,
    "start_time": "2022-07-01T12:55:37.665Z"
   },
   {
    "duration": 4,
    "start_time": "2022-07-01T12:55:55.699Z"
   },
   {
    "duration": 21,
    "start_time": "2022-07-01T12:55:58.387Z"
   },
   {
    "duration": 17,
    "start_time": "2022-07-01T12:56:29.931Z"
   },
   {
    "duration": 11,
    "start_time": "2022-07-01T12:56:47.425Z"
   },
   {
    "duration": 24,
    "start_time": "2022-07-01T12:56:57.470Z"
   },
   {
    "duration": 9,
    "start_time": "2022-07-01T12:57:02.724Z"
   },
   {
    "duration": 4,
    "start_time": "2022-07-01T12:57:14.346Z"
   },
   {
    "duration": 424,
    "start_time": "2022-07-01T12:57:14.351Z"
   },
   {
    "duration": 12,
    "start_time": "2022-07-01T12:57:14.781Z"
   },
   {
    "duration": 15,
    "start_time": "2022-07-01T12:57:14.796Z"
   },
   {
    "duration": 22,
    "start_time": "2022-07-01T12:57:14.812Z"
   },
   {
    "duration": 60,
    "start_time": "2022-07-01T12:57:14.836Z"
   },
   {
    "duration": 39,
    "start_time": "2022-07-01T12:57:14.897Z"
   },
   {
    "duration": 58,
    "start_time": "2022-07-01T12:57:14.938Z"
   },
   {
    "duration": 11,
    "start_time": "2022-07-01T12:57:14.997Z"
   },
   {
    "duration": 35,
    "start_time": "2022-07-01T12:57:15.010Z"
   },
   {
    "duration": 48,
    "start_time": "2022-07-01T12:57:15.047Z"
   },
   {
    "duration": 52,
    "start_time": "2022-07-01T12:57:15.097Z"
   },
   {
    "duration": 23,
    "start_time": "2022-07-01T12:57:15.151Z"
   },
   {
    "duration": 53,
    "start_time": "2022-07-01T12:57:15.180Z"
   },
   {
    "duration": 19,
    "start_time": "2022-07-01T12:57:15.235Z"
   },
   {
    "duration": 129,
    "start_time": "2022-07-01T12:57:15.263Z"
   },
   {
    "duration": 189,
    "start_time": "2022-07-01T12:57:15.401Z"
   },
   {
    "duration": 72,
    "start_time": "2022-07-01T12:57:15.593Z"
   },
   {
    "duration": 82,
    "start_time": "2022-07-01T12:57:15.682Z"
   },
   {
    "duration": 33,
    "start_time": "2022-07-01T12:57:15.769Z"
   },
   {
    "duration": 4,
    "start_time": "2022-07-01T12:57:15.804Z"
   },
   {
    "duration": 11,
    "start_time": "2022-07-01T12:57:15.810Z"
   },
   {
    "duration": 24,
    "start_time": "2022-07-01T12:57:15.823Z"
   },
   {
    "duration": 27,
    "start_time": "2022-07-01T12:57:15.849Z"
   },
   {
    "duration": 26,
    "start_time": "2022-07-01T12:57:15.877Z"
   },
   {
    "duration": 0,
    "start_time": "2022-07-01T12:57:15.905Z"
   },
   {
    "duration": 0,
    "start_time": "2022-07-01T12:57:15.906Z"
   },
   {
    "duration": 1,
    "start_time": "2022-07-01T12:57:15.907Z"
   },
   {
    "duration": 0,
    "start_time": "2022-07-01T12:57:15.908Z"
   },
   {
    "duration": 0,
    "start_time": "2022-07-01T12:57:15.910Z"
   },
   {
    "duration": 0,
    "start_time": "2022-07-01T12:57:15.910Z"
   },
   {
    "duration": 0,
    "start_time": "2022-07-01T12:57:15.912Z"
   },
   {
    "duration": 0,
    "start_time": "2022-07-01T12:57:15.913Z"
   },
   {
    "duration": 11,
    "start_time": "2022-07-01T12:57:40.180Z"
   },
   {
    "duration": 17,
    "start_time": "2022-07-01T12:58:12.429Z"
   },
   {
    "duration": 12,
    "start_time": "2022-07-01T12:58:49.587Z"
   },
   {
    "duration": 7,
    "start_time": "2022-07-01T12:59:06.183Z"
   },
   {
    "duration": 372,
    "start_time": "2022-07-01T12:59:06.192Z"
   },
   {
    "duration": 15,
    "start_time": "2022-07-01T12:59:06.573Z"
   },
   {
    "duration": 10,
    "start_time": "2022-07-01T12:59:06.590Z"
   },
   {
    "duration": 12,
    "start_time": "2022-07-01T12:59:06.602Z"
   },
   {
    "duration": 44,
    "start_time": "2022-07-01T12:59:06.616Z"
   },
   {
    "duration": 52,
    "start_time": "2022-07-01T12:59:06.667Z"
   },
   {
    "duration": 51,
    "start_time": "2022-07-01T12:59:06.721Z"
   },
   {
    "duration": 15,
    "start_time": "2022-07-01T12:59:06.781Z"
   },
   {
    "duration": 9,
    "start_time": "2022-07-01T12:59:06.801Z"
   },
   {
    "duration": 10,
    "start_time": "2022-07-01T12:59:06.812Z"
   },
   {
    "duration": 66,
    "start_time": "2022-07-01T12:59:06.823Z"
   },
   {
    "duration": 12,
    "start_time": "2022-07-01T12:59:06.894Z"
   },
   {
    "duration": 31,
    "start_time": "2022-07-01T12:59:06.907Z"
   },
   {
    "duration": 37,
    "start_time": "2022-07-01T12:59:06.940Z"
   },
   {
    "duration": 123,
    "start_time": "2022-07-01T12:59:06.980Z"
   },
   {
    "duration": 165,
    "start_time": "2022-07-01T12:59:07.106Z"
   },
   {
    "duration": 84,
    "start_time": "2022-07-01T12:59:07.279Z"
   },
   {
    "duration": 39,
    "start_time": "2022-07-01T12:59:07.370Z"
   },
   {
    "duration": 14,
    "start_time": "2022-07-01T12:59:07.411Z"
   },
   {
    "duration": 16,
    "start_time": "2022-07-01T12:59:07.427Z"
   },
   {
    "duration": 23,
    "start_time": "2022-07-01T12:59:07.445Z"
   },
   {
    "duration": 38,
    "start_time": "2022-07-01T12:59:07.473Z"
   },
   {
    "duration": 13,
    "start_time": "2022-07-01T12:59:07.513Z"
   },
   {
    "duration": 30,
    "start_time": "2022-07-01T12:59:07.527Z"
   },
   {
    "duration": 0,
    "start_time": "2022-07-01T12:59:07.563Z"
   },
   {
    "duration": 0,
    "start_time": "2022-07-01T12:59:07.564Z"
   },
   {
    "duration": 0,
    "start_time": "2022-07-01T12:59:07.564Z"
   },
   {
    "duration": 0,
    "start_time": "2022-07-01T12:59:07.565Z"
   },
   {
    "duration": 0,
    "start_time": "2022-07-01T12:59:07.566Z"
   },
   {
    "duration": 0,
    "start_time": "2022-07-01T12:59:07.567Z"
   },
   {
    "duration": 0,
    "start_time": "2022-07-01T12:59:07.568Z"
   },
   {
    "duration": 0,
    "start_time": "2022-07-01T12:59:07.568Z"
   },
   {
    "duration": 3,
    "start_time": "2022-07-01T13:00:22.921Z"
   },
   {
    "duration": 8,
    "start_time": "2022-07-01T13:00:32.576Z"
   },
   {
    "duration": 4,
    "start_time": "2022-07-01T13:01:09.328Z"
   },
   {
    "duration": 9,
    "start_time": "2022-07-01T13:01:11.388Z"
   },
   {
    "duration": 10,
    "start_time": "2022-07-01T13:01:59.608Z"
   },
   {
    "duration": 15,
    "start_time": "2022-07-01T13:02:07.286Z"
   },
   {
    "duration": 12,
    "start_time": "2022-07-01T13:03:57.135Z"
   },
   {
    "duration": 11,
    "start_time": "2022-07-01T13:04:25.917Z"
   },
   {
    "duration": 10,
    "start_time": "2022-07-01T13:04:35.715Z"
   },
   {
    "duration": 10,
    "start_time": "2022-07-01T13:04:37.931Z"
   },
   {
    "duration": 12,
    "start_time": "2022-07-01T13:04:38.651Z"
   },
   {
    "duration": 2,
    "start_time": "2022-07-01T13:04:55.000Z"
   },
   {
    "duration": 20,
    "start_time": "2022-07-01T13:04:57.851Z"
   },
   {
    "duration": 4,
    "start_time": "2022-07-01T13:05:00.838Z"
   },
   {
    "duration": 389,
    "start_time": "2022-07-01T13:05:00.843Z"
   },
   {
    "duration": 9,
    "start_time": "2022-07-01T13:05:01.234Z"
   },
   {
    "duration": 30,
    "start_time": "2022-07-01T13:05:01.245Z"
   },
   {
    "duration": 43,
    "start_time": "2022-07-01T13:05:01.282Z"
   },
   {
    "duration": 72,
    "start_time": "2022-07-01T13:05:01.327Z"
   },
   {
    "duration": 50,
    "start_time": "2022-07-01T13:05:01.400Z"
   },
   {
    "duration": 58,
    "start_time": "2022-07-01T13:05:01.451Z"
   },
   {
    "duration": 47,
    "start_time": "2022-07-01T13:05:01.511Z"
   },
   {
    "duration": 79,
    "start_time": "2022-07-01T13:05:01.560Z"
   },
   {
    "duration": 92,
    "start_time": "2022-07-01T13:05:01.641Z"
   },
   {
    "duration": 65,
    "start_time": "2022-07-01T13:05:01.735Z"
   },
   {
    "duration": 12,
    "start_time": "2022-07-01T13:05:01.802Z"
   },
   {
    "duration": 50,
    "start_time": "2022-07-01T13:05:01.815Z"
   },
   {
    "duration": 31,
    "start_time": "2022-07-01T13:05:01.867Z"
   },
   {
    "duration": 131,
    "start_time": "2022-07-01T13:05:01.969Z"
   },
   {
    "duration": 159,
    "start_time": "2022-07-01T13:05:02.102Z"
   },
   {
    "duration": 132,
    "start_time": "2022-07-01T13:05:02.263Z"
   },
   {
    "duration": 6,
    "start_time": "2022-07-01T13:05:02.397Z"
   },
   {
    "duration": 9,
    "start_time": "2022-07-01T13:05:02.405Z"
   },
   {
    "duration": 6,
    "start_time": "2022-07-01T13:05:02.415Z"
   },
   {
    "duration": 12,
    "start_time": "2022-07-01T13:05:02.422Z"
   },
   {
    "duration": 10,
    "start_time": "2022-07-01T13:05:02.435Z"
   },
   {
    "duration": 7,
    "start_time": "2022-07-01T13:05:02.447Z"
   },
   {
    "duration": 46,
    "start_time": "2022-07-01T13:05:02.456Z"
   },
   {
    "duration": 26,
    "start_time": "2022-07-01T13:05:02.503Z"
   },
   {
    "duration": 0,
    "start_time": "2022-07-01T13:05:02.530Z"
   },
   {
    "duration": 0,
    "start_time": "2022-07-01T13:05:02.532Z"
   },
   {
    "duration": 0,
    "start_time": "2022-07-01T13:05:02.533Z"
   },
   {
    "duration": 0,
    "start_time": "2022-07-01T13:05:02.534Z"
   },
   {
    "duration": 0,
    "start_time": "2022-07-01T13:05:02.535Z"
   },
   {
    "duration": 0,
    "start_time": "2022-07-01T13:05:02.536Z"
   },
   {
    "duration": 0,
    "start_time": "2022-07-01T13:05:02.537Z"
   },
   {
    "duration": 0,
    "start_time": "2022-07-01T13:05:02.537Z"
   },
   {
    "duration": 17,
    "start_time": "2022-07-01T13:05:33.328Z"
   },
   {
    "duration": 6,
    "start_time": "2022-07-01T13:06:32.172Z"
   },
   {
    "duration": 7,
    "start_time": "2022-07-01T13:06:34.782Z"
   },
   {
    "duration": 16,
    "start_time": "2022-07-01T13:07:06.602Z"
   },
   {
    "duration": 4,
    "start_time": "2022-07-01T13:08:20.834Z"
   },
   {
    "duration": 385,
    "start_time": "2022-07-01T13:08:20.841Z"
   },
   {
    "duration": 9,
    "start_time": "2022-07-01T13:08:21.228Z"
   },
   {
    "duration": 13,
    "start_time": "2022-07-01T13:08:21.239Z"
   },
   {
    "duration": 24,
    "start_time": "2022-07-01T13:08:21.253Z"
   },
   {
    "duration": 54,
    "start_time": "2022-07-01T13:08:21.286Z"
   },
   {
    "duration": 48,
    "start_time": "2022-07-01T13:08:21.342Z"
   },
   {
    "duration": 40,
    "start_time": "2022-07-01T13:08:21.392Z"
   },
   {
    "duration": 11,
    "start_time": "2022-07-01T13:08:21.434Z"
   },
   {
    "duration": 36,
    "start_time": "2022-07-01T13:08:21.446Z"
   },
   {
    "duration": 23,
    "start_time": "2022-07-01T13:08:21.483Z"
   },
   {
    "duration": 44,
    "start_time": "2022-07-01T13:08:21.508Z"
   },
   {
    "duration": 15,
    "start_time": "2022-07-01T13:08:21.554Z"
   },
   {
    "duration": 51,
    "start_time": "2022-07-01T13:08:21.572Z"
   },
   {
    "duration": 14,
    "start_time": "2022-07-01T13:08:21.625Z"
   },
   {
    "duration": 141,
    "start_time": "2022-07-01T13:08:21.663Z"
   },
   {
    "duration": 72,
    "start_time": "2022-07-01T13:08:21.806Z"
   },
   {
    "duration": 120,
    "start_time": "2022-07-01T13:08:21.883Z"
   },
   {
    "duration": 56,
    "start_time": "2022-07-01T13:08:22.004Z"
   },
   {
    "duration": 38,
    "start_time": "2022-07-01T13:08:22.061Z"
   },
   {
    "duration": 12,
    "start_time": "2022-07-01T13:08:22.100Z"
   },
   {
    "duration": 16,
    "start_time": "2022-07-01T13:08:22.113Z"
   },
   {
    "duration": 11,
    "start_time": "2022-07-01T13:08:22.131Z"
   },
   {
    "duration": 8,
    "start_time": "2022-07-01T13:08:22.145Z"
   },
   {
    "duration": 30,
    "start_time": "2022-07-01T13:08:22.154Z"
   },
   {
    "duration": 0,
    "start_time": "2022-07-01T13:08:22.188Z"
   },
   {
    "duration": 0,
    "start_time": "2022-07-01T13:08:22.191Z"
   },
   {
    "duration": 0,
    "start_time": "2022-07-01T13:08:22.192Z"
   },
   {
    "duration": 0,
    "start_time": "2022-07-01T13:08:22.192Z"
   },
   {
    "duration": 0,
    "start_time": "2022-07-01T13:08:22.193Z"
   },
   {
    "duration": 0,
    "start_time": "2022-07-01T13:08:22.196Z"
   },
   {
    "duration": 0,
    "start_time": "2022-07-01T13:08:22.197Z"
   },
   {
    "duration": 0,
    "start_time": "2022-07-01T13:08:22.198Z"
   },
   {
    "duration": 10,
    "start_time": "2022-07-01T13:08:39.054Z"
   },
   {
    "duration": 23,
    "start_time": "2022-07-01T13:08:45.849Z"
   },
   {
    "duration": 3,
    "start_time": "2022-07-01T13:12:49.910Z"
   },
   {
    "duration": 18,
    "start_time": "2022-07-01T13:12:52.601Z"
   },
   {
    "duration": 19,
    "start_time": "2022-07-01T13:13:17.894Z"
   },
   {
    "duration": 18,
    "start_time": "2022-07-01T13:13:37.376Z"
   },
   {
    "duration": 1243,
    "start_time": "2022-07-01T13:13:43.296Z"
   },
   {
    "duration": 3,
    "start_time": "2022-07-01T13:15:10.990Z"
   },
   {
    "duration": 4,
    "start_time": "2022-07-01T13:15:33.385Z"
   },
   {
    "duration": 4,
    "start_time": "2022-07-01T13:15:37.386Z"
   },
   {
    "duration": 425,
    "start_time": "2022-07-01T13:15:37.393Z"
   },
   {
    "duration": 8,
    "start_time": "2022-07-01T13:15:37.820Z"
   },
   {
    "duration": 19,
    "start_time": "2022-07-01T13:15:37.829Z"
   },
   {
    "duration": 18,
    "start_time": "2022-07-01T13:15:37.851Z"
   },
   {
    "duration": 59,
    "start_time": "2022-07-01T13:15:37.874Z"
   },
   {
    "duration": 38,
    "start_time": "2022-07-01T13:15:37.934Z"
   },
   {
    "duration": 41,
    "start_time": "2022-07-01T13:15:37.974Z"
   },
   {
    "duration": 10,
    "start_time": "2022-07-01T13:15:38.017Z"
   },
   {
    "duration": 19,
    "start_time": "2022-07-01T13:15:38.028Z"
   },
   {
    "duration": 24,
    "start_time": "2022-07-01T13:15:38.063Z"
   },
   {
    "duration": 51,
    "start_time": "2022-07-01T13:15:38.089Z"
   },
   {
    "duration": 10,
    "start_time": "2022-07-01T13:15:38.142Z"
   },
   {
    "duration": 52,
    "start_time": "2022-07-01T13:15:38.154Z"
   },
   {
    "duration": 14,
    "start_time": "2022-07-01T13:15:38.208Z"
   },
   {
    "duration": 121,
    "start_time": "2022-07-01T13:15:38.263Z"
   },
   {
    "duration": 214,
    "start_time": "2022-07-01T13:15:38.385Z"
   },
   {
    "duration": 68,
    "start_time": "2022-07-01T13:15:38.603Z"
   },
   {
    "duration": 147,
    "start_time": "2022-07-01T13:15:38.673Z"
   },
   {
    "duration": 30,
    "start_time": "2022-07-01T13:15:38.822Z"
   },
   {
    "duration": 40,
    "start_time": "2022-07-01T13:15:38.853Z"
   },
   {
    "duration": 33,
    "start_time": "2022-07-01T13:15:38.895Z"
   },
   {
    "duration": 63,
    "start_time": "2022-07-01T13:15:38.930Z"
   },
   {
    "duration": 1257,
    "start_time": "2022-07-01T13:15:38.994Z"
   },
   {
    "duration": 30,
    "start_time": "2022-07-01T13:15:40.253Z"
   },
   {
    "duration": 21,
    "start_time": "2022-07-01T13:15:40.285Z"
   },
   {
    "duration": 1236,
    "start_time": "2022-07-01T13:15:40.308Z"
   },
   {
    "duration": 1195,
    "start_time": "2022-07-01T13:15:41.545Z"
   },
   {
    "duration": 3,
    "start_time": "2022-07-01T13:19:42.588Z"
   },
   {
    "duration": 1513,
    "start_time": "2022-07-02T12:14:03.828Z"
   },
   {
    "duration": 811,
    "start_time": "2022-07-02T12:14:05.343Z"
   },
   {
    "duration": 12,
    "start_time": "2022-07-02T12:14:06.156Z"
   },
   {
    "duration": 12,
    "start_time": "2022-07-02T12:14:06.170Z"
   },
   {
    "duration": 14,
    "start_time": "2022-07-02T12:14:06.183Z"
   },
   {
    "duration": 75,
    "start_time": "2022-07-02T12:14:06.200Z"
   },
   {
    "duration": 68,
    "start_time": "2022-07-02T12:14:06.277Z"
   },
   {
    "duration": 51,
    "start_time": "2022-07-02T12:14:06.347Z"
   },
   {
    "duration": 12,
    "start_time": "2022-07-02T12:14:06.400Z"
   },
   {
    "duration": 12,
    "start_time": "2022-07-02T12:14:06.429Z"
   },
   {
    "duration": 19,
    "start_time": "2022-07-02T12:14:06.443Z"
   },
   {
    "duration": 69,
    "start_time": "2022-07-02T12:14:06.464Z"
   },
   {
    "duration": 14,
    "start_time": "2022-07-02T12:14:06.535Z"
   },
   {
    "duration": 40,
    "start_time": "2022-07-02T12:14:06.550Z"
   },
   {
    "duration": 142,
    "start_time": "2022-07-02T12:14:06.592Z"
   },
   {
    "duration": 18,
    "start_time": "2022-07-02T12:14:06.827Z"
   },
   {
    "duration": 117,
    "start_time": "2022-07-02T12:14:06.927Z"
   },
   {
    "duration": 83,
    "start_time": "2022-07-02T12:14:07.046Z"
   },
   {
    "duration": 99,
    "start_time": "2022-07-02T12:14:07.135Z"
   },
   {
    "duration": 7,
    "start_time": "2022-07-02T12:14:07.236Z"
   },
   {
    "duration": 3,
    "start_time": "2022-07-02T12:14:07.245Z"
   },
   {
    "duration": 17,
    "start_time": "2022-07-02T12:14:07.250Z"
   },
   {
    "duration": 6,
    "start_time": "2022-07-02T12:14:07.269Z"
   },
   {
    "duration": 1272,
    "start_time": "2022-07-02T12:14:07.277Z"
   },
   {
    "duration": 1231,
    "start_time": "2022-07-02T12:14:08.550Z"
   },
   {
    "duration": 1152,
    "start_time": "2022-07-02T12:14:09.783Z"
   },
   {
    "duration": 5,
    "start_time": "2022-07-02T12:17:19.330Z"
   },
   {
    "duration": 122,
    "start_time": "2022-07-02T12:17:23.244Z"
   },
   {
    "duration": 8,
    "start_time": "2022-07-02T12:17:33.700Z"
   },
   {
    "duration": 53,
    "start_time": "2022-07-02T12:18:18.867Z"
   },
   {
    "duration": 17,
    "start_time": "2022-07-02T12:18:36.339Z"
   },
   {
    "duration": 7,
    "start_time": "2022-07-02T12:18:52.776Z"
   },
   {
    "duration": 18,
    "start_time": "2022-07-02T12:18:57.988Z"
   },
   {
    "duration": 8,
    "start_time": "2022-07-02T12:19:47.297Z"
   },
   {
    "duration": 1613,
    "start_time": "2022-07-02T12:19:51.384Z"
   },
   {
    "duration": 1629,
    "start_time": "2022-07-02T12:20:02.276Z"
   },
   {
    "duration": 1718,
    "start_time": "2022-07-02T12:20:08.793Z"
   }
  ],
  "kernelspec": {
   "display_name": "Python 3 (ipykernel)",
   "language": "python",
   "name": "python3"
  },
  "language_info": {
   "codemirror_mode": {
    "name": "ipython",
    "version": 3
   },
   "file_extension": ".py",
   "mimetype": "text/x-python",
   "name": "python",
   "nbconvert_exporter": "python",
   "pygments_lexer": "ipython3",
   "version": "3.9.7"
  },
  "toc": {
   "base_numbering": 1,
   "nav_menu": {},
   "number_sections": true,
   "sideBar": true,
   "skip_h1_title": true,
   "title_cell": "Table of Contents",
   "title_sidebar": "Contents",
   "toc_cell": false,
   "toc_position": {},
   "toc_section_display": true,
   "toc_window_display": false
  }
 },
 "nbformat": 4,
 "nbformat_minor": 2
}
