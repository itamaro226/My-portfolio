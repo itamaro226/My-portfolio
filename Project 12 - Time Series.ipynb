{
 "cells": [
  {
   "cell_type": "markdown",
   "metadata": {},
   "source": [
    "# Project description\n",
    "\n",
    "Sweet Lift Taxi company has collected historical data on taxi orders at airports. To attract more drivers during peak hours, we need to predict the amount of taxi orders for the next hour. Build a model for such a prediction.\n",
    "\n",
    "The RMSE metric on the test set should not be more than 48.\n",
    "\n",
    "## Project instructions\n",
    "\n",
    "1. Download the data and resample it by one hour.\n",
    "2. Analyze the data.\n",
    "3. Train different models with different hyperparameters. The test sample should be 10% of the initial dataset. \n",
    "4. Test the data using the test sample and provide a conclusion.\n",
    "\n",
    "## Data description\n",
    "\n",
    "The data is stored in file `taxi.csv`. The number of orders is in the '*num_orders*' column."
   ]
  },
  {
   "cell_type": "markdown",
   "metadata": {},
   "source": [
    "## Preparation"
   ]
  },
  {
   "cell_type": "code",
   "execution_count": 91,
   "metadata": {},
   "outputs": [],
   "source": [
    "import numpy as np\n",
    "import pandas as pd\n",
    "import math\n",
    "import seaborn as sns\n",
    "import sklearn.linear_model\n",
    "import sklearn.metrics\n",
    "import sklearn.preprocessing\n",
    "from sklearn.model_selection import train_test_split\n",
    "from statsmodels.tsa.seasonal import seasonal_decompose\n",
    "import matplotlib.pyplot as plt\n",
    "from sklearn.metrics import mean_squared_error\n",
    "from sklearn.tree import DecisionTreeRegressor\n",
    "from sklearn.linear_model import LinearRegression\n",
    "from sklearn.preprocessing import StandardScaler"
   ]
  },
  {
   "cell_type": "code",
   "execution_count": 92,
   "metadata": {},
   "outputs": [],
   "source": [
    "data = pd.read_csv('/datasets/taxi.csv', index_col=[0], parse_dates=[0])"
   ]
  },
  {
   "cell_type": "code",
   "execution_count": 93,
   "metadata": {},
   "outputs": [
    {
     "data": {
      "text/html": [
       "<div>\n",
       "<style scoped>\n",
       "    .dataframe tbody tr th:only-of-type {\n",
       "        vertical-align: middle;\n",
       "    }\n",
       "\n",
       "    .dataframe tbody tr th {\n",
       "        vertical-align: top;\n",
       "    }\n",
       "\n",
       "    .dataframe thead th {\n",
       "        text-align: right;\n",
       "    }\n",
       "</style>\n",
       "<table border=\"1\" class=\"dataframe\">\n",
       "  <thead>\n",
       "    <tr style=\"text-align: right;\">\n",
       "      <th></th>\n",
       "      <th>num_orders</th>\n",
       "    </tr>\n",
       "    <tr>\n",
       "      <th>datetime</th>\n",
       "      <th></th>\n",
       "    </tr>\n",
       "  </thead>\n",
       "  <tbody>\n",
       "    <tr>\n",
       "      <th>2018-03-01 00:00:00</th>\n",
       "      <td>9</td>\n",
       "    </tr>\n",
       "    <tr>\n",
       "      <th>2018-03-01 00:10:00</th>\n",
       "      <td>14</td>\n",
       "    </tr>\n",
       "    <tr>\n",
       "      <th>2018-03-01 00:20:00</th>\n",
       "      <td>28</td>\n",
       "    </tr>\n",
       "    <tr>\n",
       "      <th>2018-03-01 00:30:00</th>\n",
       "      <td>20</td>\n",
       "    </tr>\n",
       "    <tr>\n",
       "      <th>2018-03-01 00:40:00</th>\n",
       "      <td>32</td>\n",
       "    </tr>\n",
       "  </tbody>\n",
       "</table>\n",
       "</div>"
      ],
      "text/plain": [
       "                     num_orders\n",
       "datetime                       \n",
       "2018-03-01 00:00:00           9\n",
       "2018-03-01 00:10:00          14\n",
       "2018-03-01 00:20:00          28\n",
       "2018-03-01 00:30:00          20\n",
       "2018-03-01 00:40:00          32"
      ]
     },
     "execution_count": 93,
     "metadata": {},
     "output_type": "execute_result"
    }
   ],
   "source": [
    "data.head()"
   ]
  },
  {
   "cell_type": "code",
   "execution_count": 94,
   "metadata": {},
   "outputs": [
    {
     "data": {
      "text/plain": [
       "num_orders    0\n",
       "dtype: int64"
      ]
     },
     "execution_count": 94,
     "metadata": {},
     "output_type": "execute_result"
    }
   ],
   "source": [
    "# Let's check if there are any missing values, and if so we will handle them.\n",
    "pd.isnull(data).sum()"
   ]
  },
  {
   "cell_type": "markdown",
   "metadata": {},
   "source": [
    "No missing values found."
   ]
  },
  {
   "cell_type": "markdown",
   "metadata": {},
   "source": [
    "No duplicates were found."
   ]
  },
  {
   "cell_type": "code",
   "execution_count": 95,
   "metadata": {},
   "outputs": [
    {
     "data": {
      "text/html": [
       "<div>\n",
       "<style scoped>\n",
       "    .dataframe tbody tr th:only-of-type {\n",
       "        vertical-align: middle;\n",
       "    }\n",
       "\n",
       "    .dataframe tbody tr th {\n",
       "        vertical-align: top;\n",
       "    }\n",
       "\n",
       "    .dataframe thead th {\n",
       "        text-align: right;\n",
       "    }\n",
       "</style>\n",
       "<table border=\"1\" class=\"dataframe\">\n",
       "  <thead>\n",
       "    <tr style=\"text-align: right;\">\n",
       "      <th></th>\n",
       "      <th>num_orders</th>\n",
       "    </tr>\n",
       "    <tr>\n",
       "      <th>datetime</th>\n",
       "      <th></th>\n",
       "    </tr>\n",
       "  </thead>\n",
       "  <tbody>\n",
       "    <tr>\n",
       "      <th>2018-03-01 00:00:00</th>\n",
       "      <td>124</td>\n",
       "    </tr>\n",
       "    <tr>\n",
       "      <th>2018-03-01 01:00:00</th>\n",
       "      <td>85</td>\n",
       "    </tr>\n",
       "    <tr>\n",
       "      <th>2018-03-01 02:00:00</th>\n",
       "      <td>71</td>\n",
       "    </tr>\n",
       "    <tr>\n",
       "      <th>2018-03-01 03:00:00</th>\n",
       "      <td>66</td>\n",
       "    </tr>\n",
       "    <tr>\n",
       "      <th>2018-03-01 04:00:00</th>\n",
       "      <td>43</td>\n",
       "    </tr>\n",
       "    <tr>\n",
       "      <th>...</th>\n",
       "      <td>...</td>\n",
       "    </tr>\n",
       "    <tr>\n",
       "      <th>2018-08-31 19:00:00</th>\n",
       "      <td>136</td>\n",
       "    </tr>\n",
       "    <tr>\n",
       "      <th>2018-08-31 20:00:00</th>\n",
       "      <td>154</td>\n",
       "    </tr>\n",
       "    <tr>\n",
       "      <th>2018-08-31 21:00:00</th>\n",
       "      <td>159</td>\n",
       "    </tr>\n",
       "    <tr>\n",
       "      <th>2018-08-31 22:00:00</th>\n",
       "      <td>223</td>\n",
       "    </tr>\n",
       "    <tr>\n",
       "      <th>2018-08-31 23:00:00</th>\n",
       "      <td>205</td>\n",
       "    </tr>\n",
       "  </tbody>\n",
       "</table>\n",
       "<p>4416 rows × 1 columns</p>\n",
       "</div>"
      ],
      "text/plain": [
       "                     num_orders\n",
       "datetime                       \n",
       "2018-03-01 00:00:00         124\n",
       "2018-03-01 01:00:00          85\n",
       "2018-03-01 02:00:00          71\n",
       "2018-03-01 03:00:00          66\n",
       "2018-03-01 04:00:00          43\n",
       "...                         ...\n",
       "2018-08-31 19:00:00         136\n",
       "2018-08-31 20:00:00         154\n",
       "2018-08-31 21:00:00         159\n",
       "2018-08-31 22:00:00         223\n",
       "2018-08-31 23:00:00         205\n",
       "\n",
       "[4416 rows x 1 columns]"
      ]
     },
     "execution_count": 95,
     "metadata": {},
     "output_type": "execute_result"
    }
   ],
   "source": [
    "#Let's resample the data by one hour.\n",
    "data.sort_index(inplace=True)\n",
    "data = data.resample('1H').sum()\n",
    "data"
   ]
  },
  {
   "cell_type": "markdown",
   "metadata": {},
   "source": [
    "## Analysis"
   ]
  },
  {
   "cell_type": "code",
   "execution_count": 96,
   "metadata": {},
   "outputs": [
    {
     "data": {
      "text/plain": [
       "datetime\n",
       "2018-03-01 00:00:00           NaN\n",
       "2018-03-01 01:00:00           NaN\n",
       "2018-03-01 02:00:00           NaN\n",
       "2018-03-01 03:00:00           NaN\n",
       "2018-03-01 04:00:00           NaN\n",
       "                          ...    \n",
       "2018-08-31 19:00:00    167.428571\n",
       "2018-08-31 20:00:00    165.714286\n",
       "2018-08-31 21:00:00    169.428571\n",
       "2018-08-31 22:00:00    184.714286\n",
       "2018-08-31 23:00:00    185.857143\n",
       "Freq: H, Name: num_orders, Length: 4416, dtype: float64"
      ]
     },
     "execution_count": 96,
     "metadata": {},
     "output_type": "execute_result"
    }
   ],
   "source": [
    "#lets add the rolling mean of 7 hour.\n",
    "data['num_orders'].rolling(7).mean()"
   ]
  },
  {
   "cell_type": "markdown",
   "metadata": {},
   "source": [
    "In analyzing data for trend, seasonality and noise, I divide the data into 3:\n",
    "checking the data annually,\n",
    "Checking the data weekly and checking the data daily."
   ]
  },
  {
   "cell_type": "code",
   "execution_count": 97,
   "metadata": {},
   "outputs": [
    {
     "data": {
      "image/png": "[encoded data removed]",
      "text/plain": [
       "<Figure size 576x576 with 3 Axes>"
      ]
     },
     "metadata": {
      "needs_background": "light"
     },
     "output_type": "display_data"
    }
   ],
   "source": [
    "#Annual time series analysis.\n",
    "decomposed = seasonal_decompose(data)\n",
    "plt.figure(figsize=(8, 8))\n",
    "plt.subplot(311)\n",
    "decomposed.trend.plot(ax=plt.gca())\n",
    "plt.title('Trend')\n",
    "plt.subplot(312)\n",
    "decomposed.seasonal.plot(ax=plt.gca())\n",
    "plt.title('Seasonality')\n",
    "plt.subplot(313)\n",
    "decomposed.resid.plot(ax=plt.gca())\n",
    "plt.title('Residuals')\n",
    "plt.tight_layout()"
   ]
  },
  {
   "cell_type": "code",
   "execution_count": 98,
   "metadata": {},
   "outputs": [
    {
     "data": {
      "image/png": "[encoded data removed]",
      "text/plain": [
       "<Figure size 576x576 with 3 Axes>"
      ]
     },
     "metadata": {
      "needs_background": "light"
     },
     "output_type": "display_data"
    }
   ],
   "source": [
    "#Monthly time series analysis.\n",
    "data1 = data['2018-03-01 00:00:00':'2018-04-01 00:00:00']\n",
    "decomposed = seasonal_decompose(data1)\n",
    "plt.figure(figsize=(8, 8))\n",
    "plt.subplot(311)\n",
    "decomposed.trend.plot(ax=plt.gca())\n",
    "plt.title('Trend')\n",
    "plt.subplot(312)\n",
    "decomposed.seasonal.plot(ax=plt.gca())\n",
    "plt.title('Seasonality')\n",
    "plt.subplot(313)\n",
    "decomposed.resid.plot(ax=plt.gca())\n",
    "plt.title('Residuals')\n",
    "plt.tight_layout()"
   ]
  },
  {
   "cell_type": "code",
   "execution_count": 99,
   "metadata": {},
   "outputs": [
    {
     "data": {
      "image/png": "[encoded data removed]",
      "text/plain": [
       "<Figure size 576x576 with 3 Axes>"
      ]
     },
     "metadata": {
      "needs_background": "light"
     },
     "output_type": "display_data"
    }
   ],
   "source": [
    "#Daily time series analysis.\n",
    "data2 = data['2018-03-01 00:00:00':'2018-03-03 00:00:00']\n",
    "decomposed = seasonal_decompose(data2)\n",
    "plt.figure(figsize=(8, 8))\n",
    "plt.subplot(311)\n",
    "decomposed.trend.plot(ax=plt.gca())\n",
    "plt.title('Trend')\n",
    "plt.subplot(312)\n",
    "decomposed.seasonal.plot(ax=plt.gca())\n",
    "plt.title('Seasonality')\n",
    "plt.subplot(313)\n",
    "decomposed.resid.plot(ax=plt.gca())\n",
    "plt.title('Residuals')\n",
    "plt.tight_layout()"
   ]
  },
  {
   "cell_type": "markdown",
   "metadata": {},
   "source": [
    "Conclusions:\n",
    "\n",
    "annual:\n",
    "<br>\n",
    "*It seems that there is an increase in the number of orders from March to August. <br>\n",
    "*We can estimate the amplitude of the swings, which is around 100 (from -50 to +50).\n",
    "\n",
    "weekly: \n",
    "<br>\n",
    ".There seems to be an increase in the number of orders on weekends<br>\n",
    "*We can estimate the amplitude of the swings, which is around 100 (from -50 to +50).\n",
    "\n",
    "daily: \n",
    "<br>\n",
    "The number of incoming orders increases from 6 in the morning, reaches a peak at 12 noon, decreases again until 6 in the evening and begins an increase that reaches its peak today at 12 at night.<br>\n",
    "*We can estimate the amplitude of the swings, which is around 100 (from -50 to +50)."
   ]
  },
  {
   "cell_type": "markdown",
   "metadata": {},
   "source": [
    "## Training"
   ]
  },
  {
   "cell_type": "code",
   "execution_count": 100,
   "metadata": {},
   "outputs": [],
   "source": [
    "# We will write a function to define pitches in our time series.\n",
    "def make_features(data, max_lag, rolling_mean_size):\n",
    "    data['month'] = data.index.month\n",
    "    data['day'] = data.index.day\n",
    "    data['dayofweek'] = data.index.dayofweek\n",
    "    \n",
    "    for lag in range(1, max_lag + 1):\n",
    "        data['lag_{}'.format(lag)] = data['num_orders'].shift(lag)\n",
    "\n",
    "    data['rolling_mean'] = data['num_orders'].shift().rolling(rolling_mean_size).mean()"
   ]
  },
  {
   "cell_type": "code",
   "execution_count": 101,
   "metadata": {},
   "outputs": [
    {
     "data": {
      "text/html": [
       "<div>\n",
       "<style scoped>\n",
       "    .dataframe tbody tr th:only-of-type {\n",
       "        vertical-align: middle;\n",
       "    }\n",
       "\n",
       "    .dataframe tbody tr th {\n",
       "        vertical-align: top;\n",
       "    }\n",
       "\n",
       "    .dataframe thead th {\n",
       "        text-align: right;\n",
       "    }\n",
       "</style>\n",
       "<table border=\"1\" class=\"dataframe\">\n",
       "  <thead>\n",
       "    <tr style=\"text-align: right;\">\n",
       "      <th></th>\n",
       "      <th>num_orders</th>\n",
       "      <th>month</th>\n",
       "      <th>day</th>\n",
       "      <th>dayofweek</th>\n",
       "      <th>lag_1</th>\n",
       "      <th>lag_2</th>\n",
       "      <th>lag_3</th>\n",
       "      <th>lag_4</th>\n",
       "      <th>lag_5</th>\n",
       "      <th>lag_6</th>\n",
       "      <th>...</th>\n",
       "      <th>lag_20</th>\n",
       "      <th>lag_21</th>\n",
       "      <th>lag_22</th>\n",
       "      <th>lag_23</th>\n",
       "      <th>lag_24</th>\n",
       "      <th>lag_25</th>\n",
       "      <th>lag_26</th>\n",
       "      <th>lag_27</th>\n",
       "      <th>lag_28</th>\n",
       "      <th>rolling_mean</th>\n",
       "    </tr>\n",
       "    <tr>\n",
       "      <th>datetime</th>\n",
       "      <th></th>\n",
       "      <th></th>\n",
       "      <th></th>\n",
       "      <th></th>\n",
       "      <th></th>\n",
       "      <th></th>\n",
       "      <th></th>\n",
       "      <th></th>\n",
       "      <th></th>\n",
       "      <th></th>\n",
       "      <th></th>\n",
       "      <th></th>\n",
       "      <th></th>\n",
       "      <th></th>\n",
       "      <th></th>\n",
       "      <th></th>\n",
       "      <th></th>\n",
       "      <th></th>\n",
       "      <th></th>\n",
       "      <th></th>\n",
       "      <th></th>\n",
       "    </tr>\n",
       "  </thead>\n",
       "  <tbody>\n",
       "    <tr>\n",
       "      <th>2018-03-01 00:00:00</th>\n",
       "      <td>124</td>\n",
       "      <td>3</td>\n",
       "      <td>1</td>\n",
       "      <td>3</td>\n",
       "      <td>NaN</td>\n",
       "      <td>NaN</td>\n",
       "      <td>NaN</td>\n",
       "      <td>NaN</td>\n",
       "      <td>NaN</td>\n",
       "      <td>NaN</td>\n",
       "      <td>...</td>\n",
       "      <td>NaN</td>\n",
       "      <td>NaN</td>\n",
       "      <td>NaN</td>\n",
       "      <td>NaN</td>\n",
       "      <td>NaN</td>\n",
       "      <td>NaN</td>\n",
       "      <td>NaN</td>\n",
       "      <td>NaN</td>\n",
       "      <td>NaN</td>\n",
       "      <td>NaN</td>\n",
       "    </tr>\n",
       "    <tr>\n",
       "      <th>2018-03-01 01:00:00</th>\n",
       "      <td>85</td>\n",
       "      <td>3</td>\n",
       "      <td>1</td>\n",
       "      <td>3</td>\n",
       "      <td>124.0</td>\n",
       "      <td>NaN</td>\n",
       "      <td>NaN</td>\n",
       "      <td>NaN</td>\n",
       "      <td>NaN</td>\n",
       "      <td>NaN</td>\n",
       "      <td>...</td>\n",
       "      <td>NaN</td>\n",
       "      <td>NaN</td>\n",
       "      <td>NaN</td>\n",
       "      <td>NaN</td>\n",
       "      <td>NaN</td>\n",
       "      <td>NaN</td>\n",
       "      <td>NaN</td>\n",
       "      <td>NaN</td>\n",
       "      <td>NaN</td>\n",
       "      <td>NaN</td>\n",
       "    </tr>\n",
       "    <tr>\n",
       "      <th>2018-03-01 02:00:00</th>\n",
       "      <td>71</td>\n",
       "      <td>3</td>\n",
       "      <td>1</td>\n",
       "      <td>3</td>\n",
       "      <td>85.0</td>\n",
       "      <td>124.0</td>\n",
       "      <td>NaN</td>\n",
       "      <td>NaN</td>\n",
       "      <td>NaN</td>\n",
       "      <td>NaN</td>\n",
       "      <td>...</td>\n",
       "      <td>NaN</td>\n",
       "      <td>NaN</td>\n",
       "      <td>NaN</td>\n",
       "      <td>NaN</td>\n",
       "      <td>NaN</td>\n",
       "      <td>NaN</td>\n",
       "      <td>NaN</td>\n",
       "      <td>NaN</td>\n",
       "      <td>NaN</td>\n",
       "      <td>NaN</td>\n",
       "    </tr>\n",
       "    <tr>\n",
       "      <th>2018-03-01 03:00:00</th>\n",
       "      <td>66</td>\n",
       "      <td>3</td>\n",
       "      <td>1</td>\n",
       "      <td>3</td>\n",
       "      <td>71.0</td>\n",
       "      <td>85.0</td>\n",
       "      <td>124.0</td>\n",
       "      <td>NaN</td>\n",
       "      <td>NaN</td>\n",
       "      <td>NaN</td>\n",
       "      <td>...</td>\n",
       "      <td>NaN</td>\n",
       "      <td>NaN</td>\n",
       "      <td>NaN</td>\n",
       "      <td>NaN</td>\n",
       "      <td>NaN</td>\n",
       "      <td>NaN</td>\n",
       "      <td>NaN</td>\n",
       "      <td>NaN</td>\n",
       "      <td>NaN</td>\n",
       "      <td>NaN</td>\n",
       "    </tr>\n",
       "    <tr>\n",
       "      <th>2018-03-01 04:00:00</th>\n",
       "      <td>43</td>\n",
       "      <td>3</td>\n",
       "      <td>1</td>\n",
       "      <td>3</td>\n",
       "      <td>66.0</td>\n",
       "      <td>71.0</td>\n",
       "      <td>85.0</td>\n",
       "      <td>124.0</td>\n",
       "      <td>NaN</td>\n",
       "      <td>NaN</td>\n",
       "      <td>...</td>\n",
       "      <td>NaN</td>\n",
       "      <td>NaN</td>\n",
       "      <td>NaN</td>\n",
       "      <td>NaN</td>\n",
       "      <td>NaN</td>\n",
       "      <td>NaN</td>\n",
       "      <td>NaN</td>\n",
       "      <td>NaN</td>\n",
       "      <td>NaN</td>\n",
       "      <td>NaN</td>\n",
       "    </tr>\n",
       "    <tr>\n",
       "      <th>...</th>\n",
       "      <td>...</td>\n",
       "      <td>...</td>\n",
       "      <td>...</td>\n",
       "      <td>...</td>\n",
       "      <td>...</td>\n",
       "      <td>...</td>\n",
       "      <td>...</td>\n",
       "      <td>...</td>\n",
       "      <td>...</td>\n",
       "      <td>...</td>\n",
       "      <td>...</td>\n",
       "      <td>...</td>\n",
       "      <td>...</td>\n",
       "      <td>...</td>\n",
       "      <td>...</td>\n",
       "      <td>...</td>\n",
       "      <td>...</td>\n",
       "      <td>...</td>\n",
       "      <td>...</td>\n",
       "      <td>...</td>\n",
       "      <td>...</td>\n",
       "    </tr>\n",
       "    <tr>\n",
       "      <th>2018-08-31 19:00:00</th>\n",
       "      <td>136</td>\n",
       "      <td>8</td>\n",
       "      <td>31</td>\n",
       "      <td>4</td>\n",
       "      <td>207.0</td>\n",
       "      <td>217.0</td>\n",
       "      <td>197.0</td>\n",
       "      <td>116.0</td>\n",
       "      <td>133.0</td>\n",
       "      <td>166.0</td>\n",
       "      <td>...</td>\n",
       "      <td>246.0</td>\n",
       "      <td>158.0</td>\n",
       "      <td>198.0</td>\n",
       "      <td>142.0</td>\n",
       "      <td>72.0</td>\n",
       "      <td>177.0</td>\n",
       "      <td>342.0</td>\n",
       "      <td>254.0</td>\n",
       "      <td>156.0</td>\n",
       "      <td>167.428571</td>\n",
       "    </tr>\n",
       "    <tr>\n",
       "      <th>2018-08-31 20:00:00</th>\n",
       "      <td>154</td>\n",
       "      <td>8</td>\n",
       "      <td>31</td>\n",
       "      <td>4</td>\n",
       "      <td>136.0</td>\n",
       "      <td>207.0</td>\n",
       "      <td>217.0</td>\n",
       "      <td>197.0</td>\n",
       "      <td>116.0</td>\n",
       "      <td>133.0</td>\n",
       "      <td>...</td>\n",
       "      <td>276.0</td>\n",
       "      <td>246.0</td>\n",
       "      <td>158.0</td>\n",
       "      <td>198.0</td>\n",
       "      <td>142.0</td>\n",
       "      <td>72.0</td>\n",
       "      <td>177.0</td>\n",
       "      <td>342.0</td>\n",
       "      <td>254.0</td>\n",
       "      <td>167.428571</td>\n",
       "    </tr>\n",
       "    <tr>\n",
       "      <th>2018-08-31 21:00:00</th>\n",
       "      <td>159</td>\n",
       "      <td>8</td>\n",
       "      <td>31</td>\n",
       "      <td>4</td>\n",
       "      <td>154.0</td>\n",
       "      <td>136.0</td>\n",
       "      <td>207.0</td>\n",
       "      <td>217.0</td>\n",
       "      <td>197.0</td>\n",
       "      <td>116.0</td>\n",
       "      <td>...</td>\n",
       "      <td>194.0</td>\n",
       "      <td>276.0</td>\n",
       "      <td>246.0</td>\n",
       "      <td>158.0</td>\n",
       "      <td>198.0</td>\n",
       "      <td>142.0</td>\n",
       "      <td>72.0</td>\n",
       "      <td>177.0</td>\n",
       "      <td>342.0</td>\n",
       "      <td>165.714286</td>\n",
       "    </tr>\n",
       "    <tr>\n",
       "      <th>2018-08-31 22:00:00</th>\n",
       "      <td>223</td>\n",
       "      <td>8</td>\n",
       "      <td>31</td>\n",
       "      <td>4</td>\n",
       "      <td>159.0</td>\n",
       "      <td>154.0</td>\n",
       "      <td>136.0</td>\n",
       "      <td>207.0</td>\n",
       "      <td>217.0</td>\n",
       "      <td>197.0</td>\n",
       "      <td>...</td>\n",
       "      <td>230.0</td>\n",
       "      <td>194.0</td>\n",
       "      <td>276.0</td>\n",
       "      <td>246.0</td>\n",
       "      <td>158.0</td>\n",
       "      <td>198.0</td>\n",
       "      <td>142.0</td>\n",
       "      <td>72.0</td>\n",
       "      <td>177.0</td>\n",
       "      <td>169.428571</td>\n",
       "    </tr>\n",
       "    <tr>\n",
       "      <th>2018-08-31 23:00:00</th>\n",
       "      <td>205</td>\n",
       "      <td>8</td>\n",
       "      <td>31</td>\n",
       "      <td>4</td>\n",
       "      <td>223.0</td>\n",
       "      <td>159.0</td>\n",
       "      <td>154.0</td>\n",
       "      <td>136.0</td>\n",
       "      <td>207.0</td>\n",
       "      <td>217.0</td>\n",
       "      <td>...</td>\n",
       "      <td>99.0</td>\n",
       "      <td>230.0</td>\n",
       "      <td>194.0</td>\n",
       "      <td>276.0</td>\n",
       "      <td>246.0</td>\n",
       "      <td>158.0</td>\n",
       "      <td>198.0</td>\n",
       "      <td>142.0</td>\n",
       "      <td>72.0</td>\n",
       "      <td>184.714286</td>\n",
       "    </tr>\n",
       "  </tbody>\n",
       "</table>\n",
       "<p>4416 rows × 33 columns</p>\n",
       "</div>"
      ],
      "text/plain": [
       "                     num_orders  month  day  dayofweek  lag_1  lag_2  lag_3  \\\n",
       "datetime                                                                      \n",
       "2018-03-01 00:00:00         124      3    1          3    NaN    NaN    NaN   \n",
       "2018-03-01 01:00:00          85      3    1          3  124.0    NaN    NaN   \n",
       "2018-03-01 02:00:00          71      3    1          3   85.0  124.0    NaN   \n",
       "2018-03-01 03:00:00          66      3    1          3   71.0   85.0  124.0   \n",
       "2018-03-01 04:00:00          43      3    1          3   66.0   71.0   85.0   \n",
       "...                         ...    ...  ...        ...    ...    ...    ...   \n",
       "2018-08-31 19:00:00         136      8   31          4  207.0  217.0  197.0   \n",
       "2018-08-31 20:00:00         154      8   31          4  136.0  207.0  217.0   \n",
       "2018-08-31 21:00:00         159      8   31          4  154.0  136.0  207.0   \n",
       "2018-08-31 22:00:00         223      8   31          4  159.0  154.0  136.0   \n",
       "2018-08-31 23:00:00         205      8   31          4  223.0  159.0  154.0   \n",
       "\n",
       "                     lag_4  lag_5  lag_6  ...  lag_20  lag_21  lag_22  lag_23  \\\n",
       "datetime                                  ...                                   \n",
       "2018-03-01 00:00:00    NaN    NaN    NaN  ...     NaN     NaN     NaN     NaN   \n",
       "2018-03-01 01:00:00    NaN    NaN    NaN  ...     NaN     NaN     NaN     NaN   \n",
       "2018-03-01 02:00:00    NaN    NaN    NaN  ...     NaN     NaN     NaN     NaN   \n",
       "2018-03-01 03:00:00    NaN    NaN    NaN  ...     NaN     NaN     NaN     NaN   \n",
       "2018-03-01 04:00:00  124.0    NaN    NaN  ...     NaN     NaN     NaN     NaN   \n",
       "...                    ...    ...    ...  ...     ...     ...     ...     ...   \n",
       "2018-08-31 19:00:00  116.0  133.0  166.0  ...   246.0   158.0   198.0   142.0   \n",
       "2018-08-31 20:00:00  197.0  116.0  133.0  ...   276.0   246.0   158.0   198.0   \n",
       "2018-08-31 21:00:00  217.0  197.0  116.0  ...   194.0   276.0   246.0   158.0   \n",
       "2018-08-31 22:00:00  207.0  217.0  197.0  ...   230.0   194.0   276.0   246.0   \n",
       "2018-08-31 23:00:00  136.0  207.0  217.0  ...    99.0   230.0   194.0   276.0   \n",
       "\n",
       "                     lag_24  lag_25  lag_26  lag_27  lag_28  rolling_mean  \n",
       "datetime                                                                   \n",
       "2018-03-01 00:00:00     NaN     NaN     NaN     NaN     NaN           NaN  \n",
       "2018-03-01 01:00:00     NaN     NaN     NaN     NaN     NaN           NaN  \n",
       "2018-03-01 02:00:00     NaN     NaN     NaN     NaN     NaN           NaN  \n",
       "2018-03-01 03:00:00     NaN     NaN     NaN     NaN     NaN           NaN  \n",
       "2018-03-01 04:00:00     NaN     NaN     NaN     NaN     NaN           NaN  \n",
       "...                     ...     ...     ...     ...     ...           ...  \n",
       "2018-08-31 19:00:00    72.0   177.0   342.0   254.0   156.0    167.428571  \n",
       "2018-08-31 20:00:00   142.0    72.0   177.0   342.0   254.0    167.428571  \n",
       "2018-08-31 21:00:00   198.0   142.0    72.0   177.0   342.0    165.714286  \n",
       "2018-08-31 22:00:00   158.0   198.0   142.0    72.0   177.0    169.428571  \n",
       "2018-08-31 23:00:00   246.0   158.0   198.0   142.0    72.0    184.714286  \n",
       "\n",
       "[4416 rows x 33 columns]"
      ]
     },
     "execution_count": 101,
     "metadata": {},
     "output_type": "execute_result"
    }
   ],
   "source": [
    "make_features(data, 28, 7)\n",
    "data"
   ]
  },
  {
   "cell_type": "code",
   "execution_count": 102,
   "metadata": {},
   "outputs": [],
   "source": [
    "# set aside 10% of train and test data for evaluation\n",
    "train, test = train_test_split(data, shuffle=False, test_size=0.1)\n",
    "train, vaild = train_test_split(data, shuffle=False, test_size=0.1125)\n",
    "train = train.dropna()"
   ]
  },
  {
   "cell_type": "code",
   "execution_count": 103,
   "metadata": {},
   "outputs": [],
   "source": [
    "# Set features.\n",
    "features_train = train.drop('num_orders', axis=1)\n",
    "target_train = train['num_orders']\n",
    "features_test = test.drop('num_orders', axis=1)\n",
    "target_test = test['num_orders']\n",
    "features_vaild = vaild.drop('num_orders', axis=1)\n",
    "target_vaild = vaild['num_orders']"
   ]
  },
  {
   "cell_type": "code",
   "execution_count": 104,
   "metadata": {},
   "outputs": [],
   "source": [
    "# We will standardize the features.\n",
    "scaler = StandardScaler()\n",
    "scaler.fit(features_train)\n",
    "features_train = scaler.transform(features_train)\n",
    "features_test = scaler.transform(features_test)\n",
    "features_vaild = scaler.transform(features_vaild)"
   ]
  },
  {
   "cell_type": "code",
   "execution_count": 105,
   "metadata": {},
   "outputs": [
    {
     "name": "stdout",
     "output_type": "stream",
     "text": [
      "RMSE of the best model on the validation set (max_depth = 7): 50.8691921225378\n"
     ]
    }
   ],
   "source": [
    "#We will check the decision tree model with different hyperparameters.\n",
    "best_model = None\n",
    "best_result = 10000\n",
    "best_depth = 0\n",
    "for depth in range(1, 20): # choose hyperparameter range\n",
    "    model = DecisionTreeRegressor(random_state=12345, max_depth=depth)\n",
    "    model.fit(features_train, target_train)\n",
    "    predictions_vaild = model.predict(features_vaild) # get model predictions on validation set\n",
    "    result = mean_squared_error(target_vaild, predictions_vaild)**0.5\n",
    "    if result < best_result:\n",
    "        best_model = model\n",
    "        best_result = result\n",
    "        best_depth = depth\n",
    "\n",
    "print(f\"RMSE of the best model on the validation set (max_depth = {best_depth}): {best_result}\")"
   ]
  },
  {
   "cell_type": "code",
   "execution_count": 106,
   "metadata": {},
   "outputs": [
    {
     "name": "stdout",
     "output_type": "stream",
     "text": [
      "RMSE for the vaild set:  46.56019246939673\n"
     ]
    }
   ],
   "source": [
    "# We will check the linear regression model.\n",
    "model = LinearRegression()\n",
    "model.fit(features_train, target_train)\n",
    "predictions_vaild = model.predict(features_vaild)\n",
    "print(\"RMSE for the vaild set: \", mean_squared_error(target_vaild, predictions_vaild)**0.5)"
   ]
  },
  {
   "cell_type": "markdown",
   "metadata": {},
   "source": [
    "Conclusions:<br>\n",
    "The desired result is below 48.\n",
    "\n",
    "The decision tree model gave us a result of 50.86 after tuning its hyperparameters (max_depth = 4) so ​​we rejected it.<br>\n",
    "The linear regression model gave us a result of 46.56 and therefore it was chosen."
   ]
  },
  {
   "cell_type": "markdown",
   "metadata": {},
   "source": [
    "6.Testing:"
   ]
  },
  {
   "cell_type": "code",
   "execution_count": 107,
   "metadata": {},
   "outputs": [
    {
     "name": "stdout",
     "output_type": "stream",
     "text": [
      "RMSE for the test set:  46.68687313519169\n"
     ]
    }
   ],
   "source": [
    "# We will test the linear regression model.\n",
    "model = LinearRegression()\n",
    "model.fit(features_train, target_train)\n",
    "predictions_test = model.predict(features_test)\n",
    "print(\"RMSE for the test set: \", mean_squared_error(target_test, predictions_test)**0.5)"
   ]
  },
  {
   "cell_type": "markdown",
   "metadata": {},
   "source": [
    "The test set is also give us good result (under 48) = 46.68."
   ]
  }
 ],
 "metadata": {
  "ExecuteTimeLog": [
   {
    "duration": 1584,
    "start_time": "2022-08-23T09:16:06.480Z"
   },
   {
    "duration": 143,
    "start_time": "2022-08-23T09:16:10.676Z"
   },
   {
    "duration": 10,
    "start_time": "2022-08-23T09:16:13.620Z"
   },
   {
    "duration": 9,
    "start_time": "2022-08-23T09:16:53.113Z"
   },
   {
    "duration": 11,
    "start_time": "2022-08-23T09:17:28.477Z"
   },
   {
    "duration": 12,
    "start_time": "2022-08-23T10:19:58.804Z"
   },
   {
    "duration": 10,
    "start_time": "2022-08-23T10:20:08.401Z"
   },
   {
    "duration": 12,
    "start_time": "2022-08-23T10:20:30.358Z"
   },
   {
    "duration": 117,
    "start_time": "2022-08-23T10:32:33.371Z"
   },
   {
    "duration": 11,
    "start_time": "2022-08-23T10:33:40.784Z"
   },
   {
    "duration": 13,
    "start_time": "2022-08-23T10:34:11.287Z"
   },
   {
    "duration": 4,
    "start_time": "2022-08-23T10:34:50.536Z"
   },
   {
    "duration": 44,
    "start_time": "2022-08-23T10:34:55.703Z"
   },
   {
    "duration": 7,
    "start_time": "2022-08-23T10:34:58.191Z"
   },
   {
    "duration": 5,
    "start_time": "2022-08-23T10:35:17.396Z"
   },
   {
    "duration": 5,
    "start_time": "2022-08-23T10:35:20.296Z"
   },
   {
    "duration": 46,
    "start_time": "2022-08-23T10:35:59.274Z"
   },
   {
    "duration": 7,
    "start_time": "2022-08-23T10:36:02.072Z"
   },
   {
    "duration": 15,
    "start_time": "2022-08-23T10:36:06.236Z"
   },
   {
    "duration": 42,
    "start_time": "2022-08-23T10:36:10.857Z"
   },
   {
    "duration": 6,
    "start_time": "2022-08-23T10:36:13.673Z"
   },
   {
    "duration": 5,
    "start_time": "2022-08-23T10:36:29.529Z"
   },
   {
    "duration": 7,
    "start_time": "2022-08-23T10:40:47.020Z"
   },
   {
    "duration": 5,
    "start_time": "2022-08-23T10:41:02.125Z"
   },
   {
    "duration": 9,
    "start_time": "2022-08-23T10:44:38.512Z"
   },
   {
    "duration": 49,
    "start_time": "2022-08-23T10:45:36.299Z"
   },
   {
    "duration": 6,
    "start_time": "2022-08-23T10:45:38.845Z"
   },
   {
    "duration": 6,
    "start_time": "2022-08-23T10:45:44.573Z"
   },
   {
    "duration": 46,
    "start_time": "2022-08-23T10:45:52.029Z"
   },
   {
    "duration": 6,
    "start_time": "2022-08-23T10:45:55.867Z"
   },
   {
    "duration": 1671,
    "start_time": "2022-08-23T10:46:03.437Z"
   },
   {
    "duration": 11,
    "start_time": "2022-08-23T10:51:27.405Z"
   },
   {
    "duration": 5,
    "start_time": "2022-08-23T10:51:40.820Z"
   },
   {
    "duration": 4,
    "start_time": "2022-08-23T10:51:54.653Z"
   },
   {
    "duration": 7,
    "start_time": "2022-08-23T10:53:08.543Z"
   },
   {
    "duration": 7,
    "start_time": "2022-08-23T10:53:10.606Z"
   },
   {
    "duration": 25,
    "start_time": "2022-08-23T10:56:55.419Z"
   },
   {
    "duration": 25,
    "start_time": "2022-08-23T10:59:13.425Z"
   },
   {
    "duration": 20,
    "start_time": "2022-08-23T10:59:29.121Z"
   },
   {
    "duration": 1603,
    "start_time": "2022-08-28T05:20:32.760Z"
   },
   {
    "duration": 115,
    "start_time": "2022-08-28T05:20:34.365Z"
   },
   {
    "duration": 11,
    "start_time": "2022-08-28T05:20:34.481Z"
   },
   {
    "duration": 6,
    "start_time": "2022-08-28T05:20:34.495Z"
   },
   {
    "duration": 11,
    "start_time": "2022-08-28T05:20:34.503Z"
   },
   {
    "duration": 8,
    "start_time": "2022-08-28T05:20:34.515Z"
   },
   {
    "duration": 65,
    "start_time": "2022-08-28T05:20:34.525Z"
   },
   {
    "duration": 147,
    "start_time": "2022-08-28T05:20:34.592Z"
   },
   {
    "duration": 4,
    "start_time": "2022-08-28T05:26:57.169Z"
   },
   {
    "duration": 375,
    "start_time": "2022-08-28T05:27:06.600Z"
   },
   {
    "duration": 4,
    "start_time": "2022-08-28T05:27:12.144Z"
   },
   {
    "duration": 46,
    "start_time": "2022-08-28T05:27:14.879Z"
   },
   {
    "duration": 10,
    "start_time": "2022-08-28T05:27:18.071Z"
   },
   {
    "duration": 8,
    "start_time": "2022-08-28T05:27:20.541Z"
   },
   {
    "duration": 8,
    "start_time": "2022-08-28T05:27:26.016Z"
   },
   {
    "duration": 5,
    "start_time": "2022-08-28T05:27:31.725Z"
   },
   {
    "duration": 989,
    "start_time": "2022-08-28T05:29:27.232Z"
   },
   {
    "duration": 3,
    "start_time": "2022-08-28T05:29:36.081Z"
   },
   {
    "duration": 49,
    "start_time": "2022-08-28T05:29:36.088Z"
   },
   {
    "duration": 6,
    "start_time": "2022-08-28T05:29:36.139Z"
   },
   {
    "duration": 10,
    "start_time": "2022-08-28T05:29:36.146Z"
   },
   {
    "duration": 12,
    "start_time": "2022-08-28T05:29:36.157Z"
   },
   {
    "duration": 22,
    "start_time": "2022-08-28T05:29:36.171Z"
   },
   {
    "duration": 14,
    "start_time": "2022-08-28T05:29:36.194Z"
   },
   {
    "duration": 22,
    "start_time": "2022-08-28T05:29:36.210Z"
   },
   {
    "duration": 18,
    "start_time": "2022-08-28T05:29:36.234Z"
   },
   {
    "duration": 5,
    "start_time": "2022-08-28T05:30:42.735Z"
   },
   {
    "duration": 6,
    "start_time": "2022-08-28T05:30:45.166Z"
   },
   {
    "duration": 3,
    "start_time": "2022-08-28T05:33:02.337Z"
   },
   {
    "duration": 5,
    "start_time": "2022-08-28T05:33:04.671Z"
   },
   {
    "duration": 8,
    "start_time": "2022-08-28T05:33:07.120Z"
   },
   {
    "duration": 4,
    "start_time": "2022-08-28T05:33:34.575Z"
   },
   {
    "duration": 7,
    "start_time": "2022-08-28T05:33:36.924Z"
   },
   {
    "duration": 3,
    "start_time": "2022-08-28T05:35:52.046Z"
   },
   {
    "duration": 46,
    "start_time": "2022-08-28T05:35:52.051Z"
   },
   {
    "duration": 6,
    "start_time": "2022-08-28T05:35:52.099Z"
   },
   {
    "duration": 11,
    "start_time": "2022-08-28T05:35:52.106Z"
   },
   {
    "duration": 5,
    "start_time": "2022-08-28T05:35:52.119Z"
   },
   {
    "duration": 1053,
    "start_time": "2022-08-28T05:35:52.126Z"
   },
   {
    "duration": 0,
    "start_time": "2022-08-28T05:35:53.180Z"
   },
   {
    "duration": 0,
    "start_time": "2022-08-28T05:35:53.181Z"
   },
   {
    "duration": 0,
    "start_time": "2022-08-28T05:35:53.182Z"
   },
   {
    "duration": 1024,
    "start_time": "2022-08-28T05:36:14.739Z"
   },
   {
    "duration": 5,
    "start_time": "2022-08-28T05:36:43.302Z"
   },
   {
    "duration": 28,
    "start_time": "2022-08-28T05:36:53.932Z"
   },
   {
    "duration": 16,
    "start_time": "2022-08-28T05:37:05.382Z"
   },
   {
    "duration": 14,
    "start_time": "2022-08-28T05:37:18.930Z"
   },
   {
    "duration": 3,
    "start_time": "2022-08-28T05:37:32.947Z"
   },
   {
    "duration": 75,
    "start_time": "2022-08-28T05:37:36.403Z"
   },
   {
    "duration": 7,
    "start_time": "2022-08-28T05:37:39.652Z"
   },
   {
    "duration": 6,
    "start_time": "2022-08-28T05:37:42.432Z"
   },
   {
    "duration": 9,
    "start_time": "2022-08-28T05:40:53.350Z"
   },
   {
    "duration": 12,
    "start_time": "2022-08-28T05:40:57.812Z"
   },
   {
    "duration": 9,
    "start_time": "2022-08-28T05:41:13.443Z"
   },
   {
    "duration": 10,
    "start_time": "2022-08-28T05:41:23.083Z"
   },
   {
    "duration": 12,
    "start_time": "2022-08-28T05:43:49.643Z"
   },
   {
    "duration": 7,
    "start_time": "2022-08-28T05:44:26.102Z"
   },
   {
    "duration": 11,
    "start_time": "2022-08-28T05:44:30.772Z"
   },
   {
    "duration": 4,
    "start_time": "2022-08-28T05:44:39.504Z"
   },
   {
    "duration": 63,
    "start_time": "2022-08-28T05:44:39.510Z"
   },
   {
    "duration": 7,
    "start_time": "2022-08-28T05:44:39.575Z"
   },
   {
    "duration": 44,
    "start_time": "2022-08-28T05:44:39.584Z"
   },
   {
    "duration": 22,
    "start_time": "2022-08-28T05:44:39.630Z"
   },
   {
    "duration": 23,
    "start_time": "2022-08-28T05:44:39.654Z"
   },
   {
    "duration": 20,
    "start_time": "2022-08-28T05:44:39.679Z"
   },
   {
    "duration": 861,
    "start_time": "2022-08-28T05:44:39.701Z"
   },
   {
    "duration": 816,
    "start_time": "2022-08-28T05:54:56.209Z"
   },
   {
    "duration": 16,
    "start_time": "2022-08-28T05:59:48.716Z"
   },
   {
    "duration": 549,
    "start_time": "2022-08-28T06:00:01.282Z"
   },
   {
    "duration": 4,
    "start_time": "2022-08-28T06:57:03.513Z"
   },
   {
    "duration": 4,
    "start_time": "2022-08-28T06:57:50.870Z"
   },
   {
    "duration": 14,
    "start_time": "2022-08-28T06:58:11.783Z"
   },
   {
    "duration": 29,
    "start_time": "2022-08-28T06:58:23.422Z"
   },
   {
    "duration": 4,
    "start_time": "2022-08-28T07:04:26.635Z"
   },
   {
    "duration": 25,
    "start_time": "2022-08-28T07:04:30.963Z"
   },
   {
    "duration": 7,
    "start_time": "2022-08-28T07:04:35.304Z"
   },
   {
    "duration": 6,
    "start_time": "2022-08-28T07:04:38.457Z"
   },
   {
    "duration": 14,
    "start_time": "2022-08-28T07:08:21.084Z"
   },
   {
    "duration": 24,
    "start_time": "2022-08-28T07:09:21.603Z"
   },
   {
    "duration": 83,
    "start_time": "2022-08-28T07:09:32.751Z"
   },
   {
    "duration": 261,
    "start_time": "2022-08-28T07:09:54.083Z"
   },
   {
    "duration": 12,
    "start_time": "2022-08-28T07:10:55.809Z"
   },
   {
    "duration": 4,
    "start_time": "2022-08-28T07:11:45.261Z"
   },
   {
    "duration": 230,
    "start_time": "2022-08-28T07:11:49.979Z"
   },
   {
    "duration": 49,
    "start_time": "2022-08-28T07:13:36.942Z"
   },
   {
    "duration": 11,
    "start_time": "2022-08-28T07:14:09.950Z"
   },
   {
    "duration": 420,
    "start_time": "2022-08-28T07:14:33.316Z"
   },
   {
    "duration": 31,
    "start_time": "2022-08-28T07:14:52.087Z"
   },
   {
    "duration": 8,
    "start_time": "2022-08-28T07:14:56.830Z"
   },
   {
    "duration": 5,
    "start_time": "2022-08-28T07:14:59.060Z"
   },
   {
    "duration": 452,
    "start_time": "2022-08-28T07:15:03.167Z"
   },
   {
    "duration": 12,
    "start_time": "2022-08-28T07:15:09.918Z"
   },
   {
    "duration": 72,
    "start_time": "2022-08-28T07:17:14.151Z"
   },
   {
    "duration": 11,
    "start_time": "2022-08-28T07:17:18.173Z"
   },
   {
    "duration": 7,
    "start_time": "2022-08-28T07:17:20.721Z"
   },
   {
    "duration": 1223,
    "start_time": "2022-08-28T07:17:23.453Z"
   },
   {
    "duration": 131,
    "start_time": "2022-08-28T07:17:28.369Z"
   },
   {
    "duration": 11,
    "start_time": "2022-08-28T07:20:31.472Z"
   },
   {
    "duration": 5,
    "start_time": "2022-08-28T07:22:00.019Z"
   },
   {
    "duration": 18,
    "start_time": "2022-08-28T07:22:07.557Z"
   },
   {
    "duration": 21,
    "start_time": "2022-08-28T07:22:47.693Z"
   },
   {
    "duration": 1228,
    "start_time": "2022-08-28T07:22:50.749Z"
   },
   {
    "duration": 204,
    "start_time": "2022-08-28T07:22:54.711Z"
   },
   {
    "duration": 16,
    "start_time": "2022-08-28T07:29:20.035Z"
   },
   {
    "duration": 11,
    "start_time": "2022-08-28T07:29:23.911Z"
   },
   {
    "duration": 19,
    "start_time": "2022-08-28T07:30:33.161Z"
   },
   {
    "duration": 52,
    "start_time": "2022-08-28T07:30:50.012Z"
   },
   {
    "duration": 17,
    "start_time": "2022-08-28T07:34:17.108Z"
   },
   {
    "duration": 34,
    "start_time": "2022-08-28T07:34:20.572Z"
   },
   {
    "duration": 12,
    "start_time": "2022-08-28T07:35:09.730Z"
   },
   {
    "duration": 24,
    "start_time": "2022-08-28T07:35:13.159Z"
   },
   {
    "duration": 9,
    "start_time": "2022-08-28T07:38:13.961Z"
   },
   {
    "duration": 9,
    "start_time": "2022-08-28T07:38:16.209Z"
   },
   {
    "duration": 19,
    "start_time": "2022-08-28T07:38:19.204Z"
   },
   {
    "duration": 20,
    "start_time": "2022-08-28T07:38:21.300Z"
   },
   {
    "duration": 16,
    "start_time": "2022-08-28T07:39:02.984Z"
   },
   {
    "duration": 26,
    "start_time": "2022-08-28T07:39:05.783Z"
   },
   {
    "duration": 14,
    "start_time": "2022-08-28T07:39:21.542Z"
   },
   {
    "duration": 22,
    "start_time": "2022-08-28T07:39:27.560Z"
   },
   {
    "duration": 11,
    "start_time": "2022-08-28T07:41:17.880Z"
   },
   {
    "duration": 5,
    "start_time": "2022-08-28T07:41:22.826Z"
   },
   {
    "duration": 1306,
    "start_time": "2022-08-28T07:42:17.526Z"
   },
   {
    "duration": 54,
    "start_time": "2022-08-28T07:42:41.338Z"
   },
   {
    "duration": 12,
    "start_time": "2022-08-28T07:42:52.040Z"
   },
   {
    "duration": 65,
    "start_time": "2022-08-28T07:42:59.937Z"
   },
   {
    "duration": 153,
    "start_time": "2022-08-28T07:43:16.037Z"
   },
   {
    "duration": 5,
    "start_time": "2022-08-28T07:57:06.005Z"
   },
   {
    "duration": 68,
    "start_time": "2022-08-28T07:57:06.013Z"
   },
   {
    "duration": 8,
    "start_time": "2022-08-28T07:57:06.083Z"
   },
   {
    "duration": 33,
    "start_time": "2022-08-28T07:57:06.094Z"
   },
   {
    "duration": 22,
    "start_time": "2022-08-28T07:57:06.129Z"
   },
   {
    "duration": 7,
    "start_time": "2022-08-28T07:57:06.153Z"
   },
   {
    "duration": 898,
    "start_time": "2022-08-28T07:57:06.162Z"
   },
   {
    "duration": 760,
    "start_time": "2022-08-28T07:57:07.062Z"
   },
   {
    "duration": 541,
    "start_time": "2022-08-28T07:57:07.824Z"
   },
   {
    "duration": 5,
    "start_time": "2022-08-28T07:57:08.366Z"
   },
   {
    "duration": 68,
    "start_time": "2022-08-28T07:57:08.372Z"
   },
   {
    "duration": 13,
    "start_time": "2022-08-28T07:57:08.442Z"
   },
   {
    "duration": 5,
    "start_time": "2022-08-28T07:57:08.457Z"
   },
   {
    "duration": 32,
    "start_time": "2022-08-28T07:57:08.463Z"
   },
   {
    "duration": 1213,
    "start_time": "2022-08-28T07:57:08.497Z"
   },
   {
    "duration": 286,
    "start_time": "2022-08-28T07:57:09.712Z"
   },
   {
    "duration": 2435,
    "start_time": "2022-08-29T07:30:50.387Z"
   },
   {
    "duration": 234,
    "start_time": "2022-08-29T07:30:52.830Z"
   },
   {
    "duration": 17,
    "start_time": "2022-08-29T07:30:53.066Z"
   },
   {
    "duration": 11,
    "start_time": "2022-08-29T07:30:53.086Z"
   },
   {
    "duration": 50,
    "start_time": "2022-08-29T07:30:53.099Z"
   },
   {
    "duration": 8,
    "start_time": "2022-08-29T07:30:53.151Z"
   },
   {
    "duration": 1026,
    "start_time": "2022-08-29T07:30:53.161Z"
   },
   {
    "duration": 948,
    "start_time": "2022-08-29T07:30:54.190Z"
   },
   {
    "duration": 641,
    "start_time": "2022-08-29T07:30:55.142Z"
   },
   {
    "duration": 10,
    "start_time": "2022-08-29T07:30:55.785Z"
   },
   {
    "duration": 102,
    "start_time": "2022-08-29T07:30:55.796Z"
   },
   {
    "duration": 21,
    "start_time": "2022-08-29T07:30:55.901Z"
   },
   {
    "duration": 15,
    "start_time": "2022-08-29T07:30:55.924Z"
   },
   {
    "duration": 19,
    "start_time": "2022-08-29T07:30:55.941Z"
   },
   {
    "duration": 221,
    "start_time": "2022-08-29T07:30:55.962Z"
   },
   {
    "duration": 0,
    "start_time": "2022-08-29T07:30:56.185Z"
   },
   {
    "duration": 171,
    "start_time": "2022-08-29T07:35:37.643Z"
   },
   {
    "duration": 14,
    "start_time": "2022-08-29T07:40:40.579Z"
   },
   {
    "duration": 7,
    "start_time": "2022-08-29T07:40:43.414Z"
   },
   {
    "duration": 25,
    "start_time": "2022-08-29T07:40:57.976Z"
   },
   {
    "duration": 1327,
    "start_time": "2022-08-29T07:41:00.725Z"
   },
   {
    "duration": 226,
    "start_time": "2022-08-29T07:41:08.375Z"
   },
   {
    "duration": 15,
    "start_time": "2022-08-29T07:41:34.991Z"
   },
   {
    "duration": 72,
    "start_time": "2022-08-29T07:41:35.014Z"
   },
   {
    "duration": 19,
    "start_time": "2022-08-29T07:41:35.088Z"
   },
   {
    "duration": 25,
    "start_time": "2022-08-29T07:41:35.110Z"
   },
   {
    "duration": 36,
    "start_time": "2022-08-29T07:41:35.137Z"
   },
   {
    "duration": 31,
    "start_time": "2022-08-29T07:41:35.177Z"
   },
   {
    "duration": 818,
    "start_time": "2022-08-29T07:41:35.210Z"
   },
   {
    "duration": 880,
    "start_time": "2022-08-29T07:41:36.030Z"
   },
   {
    "duration": 549,
    "start_time": "2022-08-29T07:41:36.917Z"
   },
   {
    "duration": 4,
    "start_time": "2022-08-29T07:41:37.468Z"
   },
   {
    "duration": 77,
    "start_time": "2022-08-29T07:41:37.473Z"
   },
   {
    "duration": 10,
    "start_time": "2022-08-29T07:41:37.552Z"
   },
   {
    "duration": 7,
    "start_time": "2022-08-29T07:41:37.563Z"
   },
   {
    "duration": 26,
    "start_time": "2022-08-29T07:41:37.592Z"
   },
   {
    "duration": 1316,
    "start_time": "2022-08-29T07:41:37.621Z"
   },
   {
    "duration": 279,
    "start_time": "2022-08-29T07:41:38.939Z"
   },
   {
    "duration": 196,
    "start_time": "2022-08-29T07:44:33.910Z"
   },
   {
    "duration": 5,
    "start_time": "2022-08-29T07:44:55.858Z"
   },
   {
    "duration": 70,
    "start_time": "2022-08-29T07:44:55.872Z"
   },
   {
    "duration": 12,
    "start_time": "2022-08-29T07:44:55.944Z"
   },
   {
    "duration": 19,
    "start_time": "2022-08-29T07:44:55.958Z"
   },
   {
    "duration": 26,
    "start_time": "2022-08-29T07:44:55.979Z"
   },
   {
    "duration": 34,
    "start_time": "2022-08-29T07:44:56.010Z"
   },
   {
    "duration": 849,
    "start_time": "2022-08-29T07:44:56.046Z"
   },
   {
    "duration": 867,
    "start_time": "2022-08-29T07:44:56.898Z"
   },
   {
    "duration": 707,
    "start_time": "2022-08-29T07:44:57.767Z"
   },
   {
    "duration": 5,
    "start_time": "2022-08-29T07:44:58.476Z"
   },
   {
    "duration": 107,
    "start_time": "2022-08-29T07:44:58.483Z"
   },
   {
    "duration": 15,
    "start_time": "2022-08-29T07:44:58.593Z"
   },
   {
    "duration": 38,
    "start_time": "2022-08-29T07:44:58.610Z"
   },
   {
    "duration": 52,
    "start_time": "2022-08-29T07:44:58.650Z"
   },
   {
    "duration": 1454,
    "start_time": "2022-08-29T07:44:58.705Z"
   },
   {
    "duration": 250,
    "start_time": "2022-08-29T07:45:00.163Z"
   },
   {
    "duration": 489,
    "start_time": "2022-08-29T07:45:00.420Z"
   },
   {
    "duration": 13,
    "start_time": "2022-08-29T07:46:03.873Z"
   },
   {
    "duration": 6,
    "start_time": "2022-08-29T07:46:06.628Z"
   },
   {
    "duration": 77,
    "start_time": "2022-08-29T07:46:06.637Z"
   },
   {
    "duration": 13,
    "start_time": "2022-08-29T07:46:06.717Z"
   },
   {
    "duration": 11,
    "start_time": "2022-08-29T07:46:06.733Z"
   },
   {
    "duration": 20,
    "start_time": "2022-08-29T07:46:06.747Z"
   },
   {
    "duration": 30,
    "start_time": "2022-08-29T07:46:06.770Z"
   },
   {
    "duration": 858,
    "start_time": "2022-08-29T07:46:06.803Z"
   },
   {
    "duration": 802,
    "start_time": "2022-08-29T07:46:07.665Z"
   },
   {
    "duration": 579,
    "start_time": "2022-08-29T07:46:08.469Z"
   },
   {
    "duration": 5,
    "start_time": "2022-08-29T07:46:09.051Z"
   },
   {
    "duration": 102,
    "start_time": "2022-08-29T07:46:09.059Z"
   },
   {
    "duration": 13,
    "start_time": "2022-08-29T07:46:09.164Z"
   },
   {
    "duration": 25,
    "start_time": "2022-08-29T07:46:09.180Z"
   },
   {
    "duration": 30,
    "start_time": "2022-08-29T07:46:09.207Z"
   },
   {
    "duration": 1259,
    "start_time": "2022-08-29T07:46:09.240Z"
   },
   {
    "duration": 203,
    "start_time": "2022-08-29T07:46:10.501Z"
   },
   {
    "duration": 185,
    "start_time": "2022-08-29T07:46:10.709Z"
   },
   {
    "duration": 9,
    "start_time": "2022-08-29T07:46:52.320Z"
   },
   {
    "duration": 68,
    "start_time": "2022-08-29T07:46:52.331Z"
   },
   {
    "duration": 15,
    "start_time": "2022-08-29T07:46:52.403Z"
   },
   {
    "duration": 23,
    "start_time": "2022-08-29T07:46:52.421Z"
   },
   {
    "duration": 22,
    "start_time": "2022-08-29T07:46:52.447Z"
   },
   {
    "duration": 10,
    "start_time": "2022-08-29T07:46:52.471Z"
   },
   {
    "duration": 895,
    "start_time": "2022-08-29T07:46:52.483Z"
   },
   {
    "duration": 790,
    "start_time": "2022-08-29T07:46:53.380Z"
   },
   {
    "duration": 638,
    "start_time": "2022-08-29T07:46:54.172Z"
   },
   {
    "duration": 5,
    "start_time": "2022-08-29T07:46:54.814Z"
   },
   {
    "duration": 68,
    "start_time": "2022-08-29T07:46:54.820Z"
   },
   {
    "duration": 22,
    "start_time": "2022-08-29T07:46:54.890Z"
   },
   {
    "duration": 24,
    "start_time": "2022-08-29T07:46:54.913Z"
   },
   {
    "duration": 24,
    "start_time": "2022-08-29T07:46:54.940Z"
   },
   {
    "duration": 1309,
    "start_time": "2022-08-29T07:46:54.967Z"
   },
   {
    "duration": 326,
    "start_time": "2022-08-29T07:46:56.278Z"
   },
   {
    "duration": 393,
    "start_time": "2022-08-29T07:46:56.614Z"
   },
   {
    "duration": 5,
    "start_time": "2022-08-29T07:50:45.068Z"
   },
   {
    "duration": 70,
    "start_time": "2022-08-29T07:50:45.076Z"
   },
   {
    "duration": 10,
    "start_time": "2022-08-29T07:50:45.148Z"
   },
   {
    "duration": 12,
    "start_time": "2022-08-29T07:50:45.161Z"
   },
   {
    "duration": 33,
    "start_time": "2022-08-29T07:50:45.175Z"
   },
   {
    "duration": 10,
    "start_time": "2022-08-29T07:50:45.210Z"
   },
   {
    "duration": 975,
    "start_time": "2022-08-29T07:50:45.222Z"
   },
   {
    "duration": 806,
    "start_time": "2022-08-29T07:50:46.203Z"
   },
   {
    "duration": 570,
    "start_time": "2022-08-29T07:50:47.012Z"
   },
   {
    "duration": 4,
    "start_time": "2022-08-29T07:50:47.584Z"
   },
   {
    "duration": 65,
    "start_time": "2022-08-29T07:50:47.591Z"
   },
   {
    "duration": 38,
    "start_time": "2022-08-29T07:50:47.659Z"
   },
   {
    "duration": 12,
    "start_time": "2022-08-29T07:50:47.699Z"
   },
   {
    "duration": 23,
    "start_time": "2022-08-29T07:50:47.717Z"
   },
   {
    "duration": 1368,
    "start_time": "2022-08-29T07:50:47.742Z"
   },
   {
    "duration": 100,
    "start_time": "2022-08-29T07:50:49.112Z"
   },
   {
    "duration": 379,
    "start_time": "2022-08-29T07:50:49.216Z"
   }
  ],
  "kernelspec": {
   "display_name": "Python 3 (ipykernel)",
   "language": "python",
   "name": "python3"
  },
  "language_info": {
   "codemirror_mode": {
    "name": "ipython",
    "version": 3
   },
   "file_extension": ".py",
   "mimetype": "text/x-python",
   "name": "python",
   "nbconvert_exporter": "python",
   "pygments_lexer": "ipython3",
   "version": "3.9.7"
  },
  "toc": {
   "base_numbering": 1,
   "nav_menu": {},
   "number_sections": true,
   "sideBar": true,
   "skip_h1_title": true,
   "title_cell": "Table of Contents",
   "title_sidebar": "Contents",
   "toc_cell": false,
   "toc_position": {},
   "toc_section_display": true,
   "toc_window_display": false
  }
 },
 "nbformat": 4,
 "nbformat_minor": 2
}
