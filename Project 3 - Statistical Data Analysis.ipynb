{
 "cells": [
  {
   "cell_type": "markdown",
   "metadata": {},
   "source": [
    "Purpose of the project:\n",
    "\n",
    "Analyzing the plans of the users of Megaline in order to determine which is the more profitable plan so that the advertising department can adjust the budget according to our analysis."
   ]
  },
  {
   "cell_type": "code",
   "execution_count": 1,
   "metadata": {},
   "outputs": [],
   "source": [
    "import math\n",
    "import pandas as pd\n",
    "import numpy as np\n",
    "import seaborn as sns\n",
    "import matplotlib.pyplot as plt\n",
    "import seaborn as sns\n",
    "import datetime as dt\n",
    "from math import factorial\n",
    "from nltk.stem import SnowballStemmer \n",
    "from scipy import stats as st"
   ]
  },
  {
   "cell_type": "code",
   "execution_count": 2,
   "metadata": {},
   "outputs": [],
   "source": [
    "calls = pd.read_csv('/datasets/megaline_calls.csv')\n",
    "plans = pd.read_csv('/datasets/megaline_plans.csv')\n",
    "users = pd.read_csv('/datasets/megaline_users.csv')\n",
    "internet = pd.read_csv('/datasets/megaline_internet.csv')\n",
    "messeges = pd.read_csv('/datasets/megaline_messages.csv')"
   ]
  },
  {
   "cell_type": "markdown",
   "metadata": {},
   "source": [
    "I installed all the libraries in advance because I do not yet know what I will need to use.\n",
    "I opened all the data sets."
   ]
  },
  {
   "cell_type": "code",
   "execution_count": 3,
   "metadata": {},
   "outputs": [
    {
     "data": {
      "text/html": [
       "<div>\n",
       "<style scoped>\n",
       "    .dataframe tbody tr th:only-of-type {\n",
       "        vertical-align: middle;\n",
       "    }\n",
       "\n",
       "    .dataframe tbody tr th {\n",
       "        vertical-align: top;\n",
       "    }\n",
       "\n",
       "    .dataframe thead th {\n",
       "        text-align: right;\n",
       "    }\n",
       "</style>\n",
       "<table border=\"1\" class=\"dataframe\">\n",
       "  <thead>\n",
       "    <tr style=\"text-align: right;\">\n",
       "      <th></th>\n",
       "      <th>id</th>\n",
       "      <th>user_id</th>\n",
       "      <th>message_date</th>\n",
       "    </tr>\n",
       "  </thead>\n",
       "  <tbody>\n",
       "    <tr>\n",
       "      <td>0</td>\n",
       "      <td>1000_125</td>\n",
       "      <td>1000</td>\n",
       "      <td>2018-12-27</td>\n",
       "    </tr>\n",
       "    <tr>\n",
       "      <td>1</td>\n",
       "      <td>1000_160</td>\n",
       "      <td>1000</td>\n",
       "      <td>2018-12-31</td>\n",
       "    </tr>\n",
       "    <tr>\n",
       "      <td>2</td>\n",
       "      <td>1000_223</td>\n",
       "      <td>1000</td>\n",
       "      <td>2018-12-31</td>\n",
       "    </tr>\n",
       "    <tr>\n",
       "      <td>3</td>\n",
       "      <td>1000_251</td>\n",
       "      <td>1000</td>\n",
       "      <td>2018-12-27</td>\n",
       "    </tr>\n",
       "    <tr>\n",
       "      <td>4</td>\n",
       "      <td>1000_255</td>\n",
       "      <td>1000</td>\n",
       "      <td>2018-12-26</td>\n",
       "    </tr>\n",
       "  </tbody>\n",
       "</table>\n",
       "</div>"
      ],
      "text/plain": [
       "         id  user_id message_date\n",
       "0  1000_125     1000   2018-12-27\n",
       "1  1000_160     1000   2018-12-31\n",
       "2  1000_223     1000   2018-12-31\n",
       "3  1000_251     1000   2018-12-27\n",
       "4  1000_255     1000   2018-12-26"
      ]
     },
     "execution_count": 3,
     "metadata": {},
     "output_type": "execute_result"
    }
   ],
   "source": [
    "messeges['message_date'] = pd.to_datetime(messeges['message_date'])\n",
    "messeges.head()"
   ]
  },
  {
   "cell_type": "code",
   "execution_count": 4,
   "metadata": {},
   "outputs": [
    {
     "data": {
      "text/html": [
       "<div>\n",
       "<style scoped>\n",
       "    .dataframe tbody tr th:only-of-type {\n",
       "        vertical-align: middle;\n",
       "    }\n",
       "\n",
       "    .dataframe tbody tr th {\n",
       "        vertical-align: top;\n",
       "    }\n",
       "\n",
       "    .dataframe thead th {\n",
       "        text-align: right;\n",
       "    }\n",
       "</style>\n",
       "<table border=\"1\" class=\"dataframe\">\n",
       "  <thead>\n",
       "    <tr style=\"text-align: right;\">\n",
       "      <th></th>\n",
       "      <th>id</th>\n",
       "      <th>user_id</th>\n",
       "      <th>call_date</th>\n",
       "      <th>duration</th>\n",
       "      <th>min_charge</th>\n",
       "    </tr>\n",
       "  </thead>\n",
       "  <tbody>\n",
       "    <tr>\n",
       "      <td>0</td>\n",
       "      <td>1000_93</td>\n",
       "      <td>1000</td>\n",
       "      <td>2018-12-27</td>\n",
       "      <td>8.52</td>\n",
       "      <td>9.0</td>\n",
       "    </tr>\n",
       "    <tr>\n",
       "      <td>1</td>\n",
       "      <td>1000_145</td>\n",
       "      <td>1000</td>\n",
       "      <td>2018-12-27</td>\n",
       "      <td>13.66</td>\n",
       "      <td>14.0</td>\n",
       "    </tr>\n",
       "    <tr>\n",
       "      <td>2</td>\n",
       "      <td>1000_247</td>\n",
       "      <td>1000</td>\n",
       "      <td>2018-12-27</td>\n",
       "      <td>14.48</td>\n",
       "      <td>15.0</td>\n",
       "    </tr>\n",
       "    <tr>\n",
       "      <td>3</td>\n",
       "      <td>1000_309</td>\n",
       "      <td>1000</td>\n",
       "      <td>2018-12-28</td>\n",
       "      <td>5.76</td>\n",
       "      <td>6.0</td>\n",
       "    </tr>\n",
       "    <tr>\n",
       "      <td>4</td>\n",
       "      <td>1000_380</td>\n",
       "      <td>1000</td>\n",
       "      <td>2018-12-30</td>\n",
       "      <td>4.22</td>\n",
       "      <td>5.0</td>\n",
       "    </tr>\n",
       "  </tbody>\n",
       "</table>\n",
       "</div>"
      ],
      "text/plain": [
       "         id  user_id  call_date  duration  min_charge\n",
       "0   1000_93     1000 2018-12-27      8.52         9.0\n",
       "1  1000_145     1000 2018-12-27     13.66        14.0\n",
       "2  1000_247     1000 2018-12-27     14.48        15.0\n",
       "3  1000_309     1000 2018-12-28      5.76         6.0\n",
       "4  1000_380     1000 2018-12-30      4.22         5.0"
      ]
     },
     "execution_count": 4,
     "metadata": {},
     "output_type": "execute_result"
    }
   ],
   "source": [
    "calls['call_date'] = pd.to_datetime(calls['call_date'])\n",
    "calls['min_charge'] =calls['duration'].apply(np.ceil)\n",
    "calls.head()"
   ]
  },
  {
   "cell_type": "code",
   "execution_count": 5,
   "metadata": {},
   "outputs": [
    {
     "data": {
      "text/html": [
       "<div>\n",
       "<style scoped>\n",
       "    .dataframe tbody tr th:only-of-type {\n",
       "        vertical-align: middle;\n",
       "    }\n",
       "\n",
       "    .dataframe tbody tr th {\n",
       "        vertical-align: top;\n",
       "    }\n",
       "\n",
       "    .dataframe thead th {\n",
       "        text-align: right;\n",
       "    }\n",
       "</style>\n",
       "<table border=\"1\" class=\"dataframe\">\n",
       "  <thead>\n",
       "    <tr style=\"text-align: right;\">\n",
       "      <th></th>\n",
       "      <th>messages_included</th>\n",
       "      <th>mb_per_month_included</th>\n",
       "      <th>minutes_included</th>\n",
       "      <th>usd_monthly_pay</th>\n",
       "      <th>usd_per_gb</th>\n",
       "      <th>usd_per_message</th>\n",
       "      <th>usd_per_minute</th>\n",
       "      <th>plan_name</th>\n",
       "    </tr>\n",
       "  </thead>\n",
       "  <tbody>\n",
       "    <tr>\n",
       "      <td>0</td>\n",
       "      <td>50</td>\n",
       "      <td>15360</td>\n",
       "      <td>500</td>\n",
       "      <td>20</td>\n",
       "      <td>10</td>\n",
       "      <td>0.03</td>\n",
       "      <td>0.03</td>\n",
       "      <td>surf</td>\n",
       "    </tr>\n",
       "    <tr>\n",
       "      <td>1</td>\n",
       "      <td>1000</td>\n",
       "      <td>30720</td>\n",
       "      <td>3000</td>\n",
       "      <td>70</td>\n",
       "      <td>7</td>\n",
       "      <td>0.01</td>\n",
       "      <td>0.01</td>\n",
       "      <td>ultimate</td>\n",
       "    </tr>\n",
       "  </tbody>\n",
       "</table>\n",
       "</div>"
      ],
      "text/plain": [
       "   messages_included  mb_per_month_included  minutes_included  \\\n",
       "0                 50                  15360               500   \n",
       "1               1000                  30720              3000   \n",
       "\n",
       "   usd_monthly_pay  usd_per_gb  usd_per_message  usd_per_minute plan_name  \n",
       "0               20          10             0.03            0.03      surf  \n",
       "1               70           7             0.01            0.01  ultimate  "
      ]
     },
     "execution_count": 5,
     "metadata": {},
     "output_type": "execute_result"
    }
   ],
   "source": [
    "plans.head()"
   ]
  },
  {
   "cell_type": "code",
   "execution_count": 6,
   "metadata": {},
   "outputs": [
    {
     "data": {
      "text/html": [
       "<div>\n",
       "<style scoped>\n",
       "    .dataframe tbody tr th:only-of-type {\n",
       "        vertical-align: middle;\n",
       "    }\n",
       "\n",
       "    .dataframe tbody tr th {\n",
       "        vertical-align: top;\n",
       "    }\n",
       "\n",
       "    .dataframe thead th {\n",
       "        text-align: right;\n",
       "    }\n",
       "</style>\n",
       "<table border=\"1\" class=\"dataframe\">\n",
       "  <thead>\n",
       "    <tr style=\"text-align: right;\">\n",
       "      <th></th>\n",
       "      <th>user_id</th>\n",
       "      <th>first_name</th>\n",
       "      <th>last_name</th>\n",
       "      <th>age</th>\n",
       "      <th>city</th>\n",
       "      <th>reg_date</th>\n",
       "      <th>plan</th>\n",
       "      <th>churn_date</th>\n",
       "    </tr>\n",
       "  </thead>\n",
       "  <tbody>\n",
       "    <tr>\n",
       "      <td>0</td>\n",
       "      <td>1000</td>\n",
       "      <td>Anamaria</td>\n",
       "      <td>Bauer</td>\n",
       "      <td>45</td>\n",
       "      <td>Atlanta-Sandy Springs-Roswell, GA MSA</td>\n",
       "      <td>2018-12-24</td>\n",
       "      <td>ultimate</td>\n",
       "      <td>NaN</td>\n",
       "    </tr>\n",
       "    <tr>\n",
       "      <td>1</td>\n",
       "      <td>1001</td>\n",
       "      <td>Mickey</td>\n",
       "      <td>Wilkerson</td>\n",
       "      <td>28</td>\n",
       "      <td>Seattle-Tacoma-Bellevue, WA MSA</td>\n",
       "      <td>2018-08-13</td>\n",
       "      <td>surf</td>\n",
       "      <td>NaN</td>\n",
       "    </tr>\n",
       "    <tr>\n",
       "      <td>2</td>\n",
       "      <td>1002</td>\n",
       "      <td>Carlee</td>\n",
       "      <td>Hoffman</td>\n",
       "      <td>36</td>\n",
       "      <td>Las Vegas-Henderson-Paradise, NV MSA</td>\n",
       "      <td>2018-10-21</td>\n",
       "      <td>surf</td>\n",
       "      <td>NaN</td>\n",
       "    </tr>\n",
       "    <tr>\n",
       "      <td>3</td>\n",
       "      <td>1003</td>\n",
       "      <td>Reynaldo</td>\n",
       "      <td>Jenkins</td>\n",
       "      <td>52</td>\n",
       "      <td>Tulsa, OK MSA</td>\n",
       "      <td>2018-01-28</td>\n",
       "      <td>surf</td>\n",
       "      <td>NaN</td>\n",
       "    </tr>\n",
       "    <tr>\n",
       "      <td>4</td>\n",
       "      <td>1004</td>\n",
       "      <td>Leonila</td>\n",
       "      <td>Thompson</td>\n",
       "      <td>40</td>\n",
       "      <td>Seattle-Tacoma-Bellevue, WA MSA</td>\n",
       "      <td>2018-05-23</td>\n",
       "      <td>surf</td>\n",
       "      <td>NaN</td>\n",
       "    </tr>\n",
       "  </tbody>\n",
       "</table>\n",
       "</div>"
      ],
      "text/plain": [
       "   user_id first_name  last_name  age                                   city  \\\n",
       "0     1000   Anamaria      Bauer   45  Atlanta-Sandy Springs-Roswell, GA MSA   \n",
       "1     1001     Mickey  Wilkerson   28        Seattle-Tacoma-Bellevue, WA MSA   \n",
       "2     1002     Carlee    Hoffman   36   Las Vegas-Henderson-Paradise, NV MSA   \n",
       "3     1003   Reynaldo    Jenkins   52                          Tulsa, OK MSA   \n",
       "4     1004    Leonila   Thompson   40        Seattle-Tacoma-Bellevue, WA MSA   \n",
       "\n",
       "     reg_date      plan churn_date  \n",
       "0  2018-12-24  ultimate        NaN  \n",
       "1  2018-08-13      surf        NaN  \n",
       "2  2018-10-21      surf        NaN  \n",
       "3  2018-01-28      surf        NaN  \n",
       "4  2018-05-23      surf        NaN  "
      ]
     },
     "execution_count": 6,
     "metadata": {},
     "output_type": "execute_result"
    }
   ],
   "source": [
    "users.head()"
   ]
  },
  {
   "cell_type": "code",
   "execution_count": 7,
   "metadata": {},
   "outputs": [
    {
     "data": {
      "text/html": [
       "<div>\n",
       "<style scoped>\n",
       "    .dataframe tbody tr th:only-of-type {\n",
       "        vertical-align: middle;\n",
       "    }\n",
       "\n",
       "    .dataframe tbody tr th {\n",
       "        vertical-align: top;\n",
       "    }\n",
       "\n",
       "    .dataframe thead th {\n",
       "        text-align: right;\n",
       "    }\n",
       "</style>\n",
       "<table border=\"1\" class=\"dataframe\">\n",
       "  <thead>\n",
       "    <tr style=\"text-align: right;\">\n",
       "      <th></th>\n",
       "      <th>id</th>\n",
       "      <th>user_id</th>\n",
       "      <th>session_date</th>\n",
       "      <th>mb_used</th>\n",
       "    </tr>\n",
       "  </thead>\n",
       "  <tbody>\n",
       "    <tr>\n",
       "      <td>0</td>\n",
       "      <td>1000_13</td>\n",
       "      <td>1000</td>\n",
       "      <td>2018-12-29</td>\n",
       "      <td>89.86</td>\n",
       "    </tr>\n",
       "    <tr>\n",
       "      <td>1</td>\n",
       "      <td>1000_204</td>\n",
       "      <td>1000</td>\n",
       "      <td>2018-12-31</td>\n",
       "      <td>0.00</td>\n",
       "    </tr>\n",
       "    <tr>\n",
       "      <td>2</td>\n",
       "      <td>1000_379</td>\n",
       "      <td>1000</td>\n",
       "      <td>2018-12-28</td>\n",
       "      <td>660.40</td>\n",
       "    </tr>\n",
       "    <tr>\n",
       "      <td>3</td>\n",
       "      <td>1000_413</td>\n",
       "      <td>1000</td>\n",
       "      <td>2018-12-26</td>\n",
       "      <td>270.99</td>\n",
       "    </tr>\n",
       "    <tr>\n",
       "      <td>4</td>\n",
       "      <td>1000_442</td>\n",
       "      <td>1000</td>\n",
       "      <td>2018-12-27</td>\n",
       "      <td>880.22</td>\n",
       "    </tr>\n",
       "  </tbody>\n",
       "</table>\n",
       "</div>"
      ],
      "text/plain": [
       "         id  user_id session_date  mb_used\n",
       "0   1000_13     1000   2018-12-29    89.86\n",
       "1  1000_204     1000   2018-12-31     0.00\n",
       "2  1000_379     1000   2018-12-28   660.40\n",
       "3  1000_413     1000   2018-12-26   270.99\n",
       "4  1000_442     1000   2018-12-27   880.22"
      ]
     },
     "execution_count": 7,
     "metadata": {},
     "output_type": "execute_result"
    }
   ],
   "source": [
    "internet['session_date'] = pd.to_datetime(internet['session_date'])\n",
    "internet.head()"
   ]
  },
  {
   "cell_type": "code",
   "execution_count": 8,
   "metadata": {},
   "outputs": [],
   "source": [
    "df1 = pd.merge(messeges, calls)\n",
    "df2 = pd.merge(df1, internet)\n",
    "df3 = pd.merge(df2, users)"
   ]
  },
  {
   "cell_type": "markdown",
   "metadata": {},
   "source": [
    "After sampling all the tables I came to the conclusion that I could unify all of them except one table, plans, thus making it more convenient to work."
   ]
  },
  {
   "cell_type": "code",
   "execution_count": 9,
   "metadata": {},
   "outputs": [
    {
     "data": {
      "text/plain": [
       "id                  0\n",
       "user_id             0\n",
       "message_date        0\n",
       "call_date           0\n",
       "duration            0\n",
       "min_charge          0\n",
       "session_date        0\n",
       "mb_used             0\n",
       "first_name          0\n",
       "last_name           0\n",
       "age                 0\n",
       "city                0\n",
       "reg_date            0\n",
       "plan                0\n",
       "churn_date      35074\n",
       "dtype: int64"
      ]
     },
     "execution_count": 9,
     "metadata": {},
     "output_type": "execute_result"
    }
   ],
   "source": [
    "df3.isnull().sum()"
   ]
  },
  {
   "cell_type": "code",
   "execution_count": 10,
   "metadata": {},
   "outputs": [
    {
     "data": {
      "text/html": [
       "<div>\n",
       "<style scoped>\n",
       "    .dataframe tbody tr th:only-of-type {\n",
       "        vertical-align: middle;\n",
       "    }\n",
       "\n",
       "    .dataframe tbody tr th {\n",
       "        vertical-align: top;\n",
       "    }\n",
       "\n",
       "    .dataframe thead th {\n",
       "        text-align: right;\n",
       "    }\n",
       "</style>\n",
       "<table border=\"1\" class=\"dataframe\">\n",
       "  <thead>\n",
       "    <tr style=\"text-align: right;\">\n",
       "      <th></th>\n",
       "      <th>id</th>\n",
       "      <th>user_id</th>\n",
       "      <th>message_date</th>\n",
       "      <th>call_date</th>\n",
       "      <th>duration</th>\n",
       "      <th>min_charge</th>\n",
       "      <th>session_date</th>\n",
       "      <th>mb_used</th>\n",
       "      <th>first_name</th>\n",
       "      <th>last_name</th>\n",
       "      <th>age</th>\n",
       "      <th>city</th>\n",
       "      <th>reg_date</th>\n",
       "      <th>plan</th>\n",
       "      <th>churn_date</th>\n",
       "    </tr>\n",
       "  </thead>\n",
       "  <tbody>\n",
       "    <tr>\n",
       "      <td>0</td>\n",
       "      <td>1001_30</td>\n",
       "      <td>1001</td>\n",
       "      <td>2018-12-14</td>\n",
       "      <td>2018-10-17</td>\n",
       "      <td>0.00</td>\n",
       "      <td>0.0</td>\n",
       "      <td>2018-12-27</td>\n",
       "      <td>157.20</td>\n",
       "      <td>Mickey</td>\n",
       "      <td>Wilkerson</td>\n",
       "      <td>28</td>\n",
       "      <td>Seattle-Tacoma-Bellevue, WA MSA</td>\n",
       "      <td>2018-08-13</td>\n",
       "      <td>surf</td>\n",
       "      <td>Existing Customer</td>\n",
       "    </tr>\n",
       "    <tr>\n",
       "      <td>1</td>\n",
       "      <td>1001_37</td>\n",
       "      <td>1001</td>\n",
       "      <td>2018-09-06</td>\n",
       "      <td>2018-11-17</td>\n",
       "      <td>15.85</td>\n",
       "      <td>16.0</td>\n",
       "      <td>2018-12-26</td>\n",
       "      <td>694.50</td>\n",
       "      <td>Mickey</td>\n",
       "      <td>Wilkerson</td>\n",
       "      <td>28</td>\n",
       "      <td>Seattle-Tacoma-Bellevue, WA MSA</td>\n",
       "      <td>2018-08-13</td>\n",
       "      <td>surf</td>\n",
       "      <td>Existing Customer</td>\n",
       "    </tr>\n",
       "    <tr>\n",
       "      <td>2</td>\n",
       "      <td>1001_44</td>\n",
       "      <td>1001</td>\n",
       "      <td>2018-08-19</td>\n",
       "      <td>2018-12-01</td>\n",
       "      <td>6.13</td>\n",
       "      <td>7.0</td>\n",
       "      <td>2018-09-27</td>\n",
       "      <td>44.91</td>\n",
       "      <td>Mickey</td>\n",
       "      <td>Wilkerson</td>\n",
       "      <td>28</td>\n",
       "      <td>Seattle-Tacoma-Bellevue, WA MSA</td>\n",
       "      <td>2018-08-13</td>\n",
       "      <td>surf</td>\n",
       "      <td>Existing Customer</td>\n",
       "    </tr>\n",
       "    <tr>\n",
       "      <td>3</td>\n",
       "      <td>1001_47</td>\n",
       "      <td>1001</td>\n",
       "      <td>2018-12-23</td>\n",
       "      <td>2018-11-08</td>\n",
       "      <td>6.36</td>\n",
       "      <td>7.0</td>\n",
       "      <td>2018-12-07</td>\n",
       "      <td>317.01</td>\n",
       "      <td>Mickey</td>\n",
       "      <td>Wilkerson</td>\n",
       "      <td>28</td>\n",
       "      <td>Seattle-Tacoma-Bellevue, WA MSA</td>\n",
       "      <td>2018-08-13</td>\n",
       "      <td>surf</td>\n",
       "      <td>Existing Customer</td>\n",
       "    </tr>\n",
       "    <tr>\n",
       "      <td>4</td>\n",
       "      <td>1001_52</td>\n",
       "      <td>1001</td>\n",
       "      <td>2018-09-20</td>\n",
       "      <td>2018-11-23</td>\n",
       "      <td>0.00</td>\n",
       "      <td>0.0</td>\n",
       "      <td>2018-11-17</td>\n",
       "      <td>409.19</td>\n",
       "      <td>Mickey</td>\n",
       "      <td>Wilkerson</td>\n",
       "      <td>28</td>\n",
       "      <td>Seattle-Tacoma-Bellevue, WA MSA</td>\n",
       "      <td>2018-08-13</td>\n",
       "      <td>surf</td>\n",
       "      <td>Existing Customer</td>\n",
       "    </tr>\n",
       "    <tr>\n",
       "      <td>...</td>\n",
       "      <td>...</td>\n",
       "      <td>...</td>\n",
       "      <td>...</td>\n",
       "      <td>...</td>\n",
       "      <td>...</td>\n",
       "      <td>...</td>\n",
       "      <td>...</td>\n",
       "      <td>...</td>\n",
       "      <td>...</td>\n",
       "      <td>...</td>\n",
       "      <td>...</td>\n",
       "      <td>...</td>\n",
       "      <td>...</td>\n",
       "      <td>...</td>\n",
       "      <td>...</td>\n",
       "    </tr>\n",
       "    <tr>\n",
       "      <td>37883</td>\n",
       "      <td>1496_60</td>\n",
       "      <td>1496</td>\n",
       "      <td>2018-11-19</td>\n",
       "      <td>2018-10-16</td>\n",
       "      <td>8.09</td>\n",
       "      <td>9.0</td>\n",
       "      <td>2018-10-07</td>\n",
       "      <td>0.00</td>\n",
       "      <td>Ariel</td>\n",
       "      <td>Shepherd</td>\n",
       "      <td>49</td>\n",
       "      <td>New Orleans-Metairie, LA MSA</td>\n",
       "      <td>2018-02-20</td>\n",
       "      <td>surf</td>\n",
       "      <td>Existing Customer</td>\n",
       "    </tr>\n",
       "    <tr>\n",
       "      <td>37884</td>\n",
       "      <td>1496_61</td>\n",
       "      <td>1496</td>\n",
       "      <td>2018-09-14</td>\n",
       "      <td>2018-10-15</td>\n",
       "      <td>11.43</td>\n",
       "      <td>12.0</td>\n",
       "      <td>2018-11-28</td>\n",
       "      <td>0.00</td>\n",
       "      <td>Ariel</td>\n",
       "      <td>Shepherd</td>\n",
       "      <td>49</td>\n",
       "      <td>New Orleans-Metairie, LA MSA</td>\n",
       "      <td>2018-02-20</td>\n",
       "      <td>surf</td>\n",
       "      <td>Existing Customer</td>\n",
       "    </tr>\n",
       "    <tr>\n",
       "      <td>37885</td>\n",
       "      <td>1496_62</td>\n",
       "      <td>1496</td>\n",
       "      <td>2018-11-17</td>\n",
       "      <td>2018-11-26</td>\n",
       "      <td>10.01</td>\n",
       "      <td>11.0</td>\n",
       "      <td>2018-12-02</td>\n",
       "      <td>37.26</td>\n",
       "      <td>Ariel</td>\n",
       "      <td>Shepherd</td>\n",
       "      <td>49</td>\n",
       "      <td>New Orleans-Metairie, LA MSA</td>\n",
       "      <td>2018-02-20</td>\n",
       "      <td>surf</td>\n",
       "      <td>Existing Customer</td>\n",
       "    </tr>\n",
       "    <tr>\n",
       "      <td>37886</td>\n",
       "      <td>1496_63</td>\n",
       "      <td>1496</td>\n",
       "      <td>2018-10-18</td>\n",
       "      <td>2018-10-15</td>\n",
       "      <td>8.54</td>\n",
       "      <td>9.0</td>\n",
       "      <td>2018-09-30</td>\n",
       "      <td>163.54</td>\n",
       "      <td>Ariel</td>\n",
       "      <td>Shepherd</td>\n",
       "      <td>49</td>\n",
       "      <td>New Orleans-Metairie, LA MSA</td>\n",
       "      <td>2018-02-20</td>\n",
       "      <td>surf</td>\n",
       "      <td>Existing Customer</td>\n",
       "    </tr>\n",
       "    <tr>\n",
       "      <td>37887</td>\n",
       "      <td>1496_64</td>\n",
       "      <td>1496</td>\n",
       "      <td>2018-11-15</td>\n",
       "      <td>2018-11-13</td>\n",
       "      <td>6.77</td>\n",
       "      <td>7.0</td>\n",
       "      <td>2018-09-21</td>\n",
       "      <td>46.22</td>\n",
       "      <td>Ariel</td>\n",
       "      <td>Shepherd</td>\n",
       "      <td>49</td>\n",
       "      <td>New Orleans-Metairie, LA MSA</td>\n",
       "      <td>2018-02-20</td>\n",
       "      <td>surf</td>\n",
       "      <td>Existing Customer</td>\n",
       "    </tr>\n",
       "  </tbody>\n",
       "</table>\n",
       "<p>37888 rows × 15 columns</p>\n",
       "</div>"
      ],
      "text/plain": [
       "            id  user_id message_date  call_date  duration  min_charge  \\\n",
       "0      1001_30     1001   2018-12-14 2018-10-17      0.00         0.0   \n",
       "1      1001_37     1001   2018-09-06 2018-11-17     15.85        16.0   \n",
       "2      1001_44     1001   2018-08-19 2018-12-01      6.13         7.0   \n",
       "3      1001_47     1001   2018-12-23 2018-11-08      6.36         7.0   \n",
       "4      1001_52     1001   2018-09-20 2018-11-23      0.00         0.0   \n",
       "...        ...      ...          ...        ...       ...         ...   \n",
       "37883  1496_60     1496   2018-11-19 2018-10-16      8.09         9.0   \n",
       "37884  1496_61     1496   2018-09-14 2018-10-15     11.43        12.0   \n",
       "37885  1496_62     1496   2018-11-17 2018-11-26     10.01        11.0   \n",
       "37886  1496_63     1496   2018-10-18 2018-10-15      8.54         9.0   \n",
       "37887  1496_64     1496   2018-11-15 2018-11-13      6.77         7.0   \n",
       "\n",
       "      session_date  mb_used first_name  last_name  age  \\\n",
       "0       2018-12-27   157.20     Mickey  Wilkerson   28   \n",
       "1       2018-12-26   694.50     Mickey  Wilkerson   28   \n",
       "2       2018-09-27    44.91     Mickey  Wilkerson   28   \n",
       "3       2018-12-07   317.01     Mickey  Wilkerson   28   \n",
       "4       2018-11-17   409.19     Mickey  Wilkerson   28   \n",
       "...            ...      ...        ...        ...  ...   \n",
       "37883   2018-10-07     0.00      Ariel   Shepherd   49   \n",
       "37884   2018-11-28     0.00      Ariel   Shepherd   49   \n",
       "37885   2018-12-02    37.26      Ariel   Shepherd   49   \n",
       "37886   2018-09-30   163.54      Ariel   Shepherd   49   \n",
       "37887   2018-09-21    46.22      Ariel   Shepherd   49   \n",
       "\n",
       "                                  city    reg_date  plan         churn_date  \n",
       "0      Seattle-Tacoma-Bellevue, WA MSA  2018-08-13  surf  Existing Customer  \n",
       "1      Seattle-Tacoma-Bellevue, WA MSA  2018-08-13  surf  Existing Customer  \n",
       "2      Seattle-Tacoma-Bellevue, WA MSA  2018-08-13  surf  Existing Customer  \n",
       "3      Seattle-Tacoma-Bellevue, WA MSA  2018-08-13  surf  Existing Customer  \n",
       "4      Seattle-Tacoma-Bellevue, WA MSA  2018-08-13  surf  Existing Customer  \n",
       "...                                ...         ...   ...                ...  \n",
       "37883     New Orleans-Metairie, LA MSA  2018-02-20  surf  Existing Customer  \n",
       "37884     New Orleans-Metairie, LA MSA  2018-02-20  surf  Existing Customer  \n",
       "37885     New Orleans-Metairie, LA MSA  2018-02-20  surf  Existing Customer  \n",
       "37886     New Orleans-Metairie, LA MSA  2018-02-20  surf  Existing Customer  \n",
       "37887     New Orleans-Metairie, LA MSA  2018-02-20  surf  Existing Customer  \n",
       "\n",
       "[37888 rows x 15 columns]"
      ]
     },
     "execution_count": 10,
     "metadata": {},
     "output_type": "execute_result"
    }
   ],
   "source": [
    "df3['churn_date'] = df3['churn_date'].fillna('Existing Customer')\n",
    "df3"
   ]
  },
  {
   "cell_type": "markdown",
   "metadata": {},
   "source": [
    "We checked for missing entries and found that they only exist in the churn_date column, and since they indicate existing clients we did not delete them but replaced them with the trial an existing customer."
   ]
  },
  {
   "cell_type": "code",
   "execution_count": 11,
   "metadata": {},
   "outputs": [
    {
     "data": {
      "text/plain": [
       "0"
      ]
     },
     "execution_count": 11,
     "metadata": {},
     "output_type": "execute_result"
    }
   ],
   "source": [
    "df3.duplicated().sum()"
   ]
  },
  {
   "cell_type": "markdown",
   "metadata": {},
   "source": [
    "No duplicates found."
   ]
  },
  {
   "cell_type": "code",
   "execution_count": 12,
   "metadata": {},
   "outputs": [
    {
     "data": {
      "text/plain": [
       "0.00     7482\n",
       "6.13       41\n",
       "6.53       38\n",
       "3.18       36\n",
       "4.63       35\n",
       "         ... \n",
       "26.00       1\n",
       "20.00       1\n",
       "21.95       1\n",
       "24.63       1\n",
       "23.81       1\n",
       "Name: duration, Length: 2455, dtype: int64"
      ]
     },
     "execution_count": 12,
     "metadata": {},
     "output_type": "execute_result"
    }
   ],
   "source": [
    "df3['duration'].value_counts()"
   ]
  },
  {
   "cell_type": "code",
   "execution_count": 13,
   "metadata": {},
   "outputs": [],
   "source": [
    "df3.drop(df3[df3['duration']== 0.00].index, inplace = True)"
   ]
  },
  {
   "cell_type": "code",
   "execution_count": 14,
   "metadata": {},
   "outputs": [
    {
     "data": {
      "text/plain": [
       "6.13     41\n",
       "6.53     38\n",
       "3.18     36\n",
       "4.63     35\n",
       "7.21     34\n",
       "         ..\n",
       "19.98     1\n",
       "23.13     1\n",
       "22.68     1\n",
       "22.48     1\n",
       "21.37     1\n",
       "Name: duration, Length: 2454, dtype: int64"
      ]
     },
     "execution_count": 14,
     "metadata": {},
     "output_type": "execute_result"
    }
   ],
   "source": [
    "df3['duration'].value_counts()"
   ]
  },
  {
   "cell_type": "code",
   "execution_count": 15,
   "metadata": {},
   "outputs": [
    {
     "data": {
      "text/plain": [
       "24.606985463395382"
      ]
     },
     "execution_count": 15,
     "metadata": {},
     "output_type": "execute_result"
    }
   ],
   "source": [
    "7482 / len(df3)*100"
   ]
  },
  {
   "cell_type": "code",
   "execution_count": 16,
   "metadata": {},
   "outputs": [
    {
     "data": {
      "text/plain": [
       "0.00      3784\n",
       "423.06       5\n",
       "152.13       5\n",
       "266.25       4\n",
       "301.31       4\n",
       "          ... \n",
       "435.41       1\n",
       "152.89       1\n",
       "307.14       1\n",
       "127.47       1\n",
       "876.57       1\n",
       "Name: mb_used, Length: 23074, dtype: int64"
      ]
     },
     "execution_count": 16,
     "metadata": {},
     "output_type": "execute_result"
    }
   ],
   "source": [
    "df3['mb_used'].value_counts()"
   ]
  },
  {
   "cell_type": "code",
   "execution_count": 17,
   "metadata": {},
   "outputs": [],
   "source": [
    "df3.drop(df3[df3['mb_used']== 0.00].index, inplace = True)"
   ]
  },
  {
   "cell_type": "code",
   "execution_count": 18,
   "metadata": {},
   "outputs": [
    {
     "data": {
      "text/plain": [
       "152.13    5\n",
       "423.06    5\n",
       "308.86    4\n",
       "373.61    4\n",
       "437.14    4\n",
       "         ..\n",
       "449.22    1\n",
       "397.38    1\n",
       "104.27    1\n",
       "431.46    1\n",
       "0.75      1\n",
       "Name: mb_used, Length: 23073, dtype: int64"
      ]
     },
     "execution_count": 18,
     "metadata": {},
     "output_type": "execute_result"
    }
   ],
   "source": [
    "df3['mb_used'].value_counts()"
   ]
  },
  {
   "cell_type": "code",
   "execution_count": 19,
   "metadata": {},
   "outputs": [
    {
     "data": {
      "text/plain": [
       "14.213808128615431"
      ]
     },
     "execution_count": 19,
     "metadata": {},
     "output_type": "execute_result"
    }
   ],
   "source": [
    "3784 / len(df3)*100"
   ]
  },
  {
   "cell_type": "markdown",
   "metadata": {},
   "source": [
    "Zero values in columns mb_used and duration were deleted because they do not affect the price and do not contribute to the analysis.\n",
    "\n",
    "Percentage of deleted values column mb_used - 14.2%.\n",
    "\n",
    "Percentage of deleted values column duration - 28.1%."
   ]
  },
  {
   "cell_type": "markdown",
   "metadata": {},
   "source": [
    "Conclusions and steps so far:\n",
    "\n",
    "1.Open the data and merge the tables.\n",
    "\n",
    "2.Replacing the Plan values with numeric values.\n",
    "\n",
    "3.Search for missing entries - such have been found, but they provide us with information so only rename an existing customer.\n",
    "\n",
    "4.Duplicate Search - Not Found.\n",
    "\n",
    "5.Deleting zero values that do not contribute to our analysis (columns).\n",
    "\n",
    "6.Change dates to a suitable time."
   ]
  },
  {
   "cell_type": "code",
   "execution_count": 20,
   "metadata": {},
   "outputs": [
    {
     "data": {
      "text/html": [
       "<div>\n",
       "<style scoped>\n",
       "    .dataframe tbody tr th:only-of-type {\n",
       "        vertical-align: middle;\n",
       "    }\n",
       "\n",
       "    .dataframe tbody tr th {\n",
       "        vertical-align: top;\n",
       "    }\n",
       "\n",
       "    .dataframe thead th {\n",
       "        text-align: right;\n",
       "    }\n",
       "</style>\n",
       "<table border=\"1\" class=\"dataframe\">\n",
       "  <thead>\n",
       "    <tr style=\"text-align: right;\">\n",
       "      <th></th>\n",
       "      <th>user_id</th>\n",
       "      <th>month_call</th>\n",
       "      <th>min_charge_count</th>\n",
       "      <th>min_charge_sum</th>\n",
       "      <th>plan</th>\n",
       "    </tr>\n",
       "  </thead>\n",
       "  <tbody>\n",
       "    <tr>\n",
       "      <td>0</td>\n",
       "      <td>1000</td>\n",
       "      <td>12</td>\n",
       "      <td>16</td>\n",
       "      <td>124.0</td>\n",
       "      <td>ultimate</td>\n",
       "    </tr>\n",
       "    <tr>\n",
       "      <td>1</td>\n",
       "      <td>1001</td>\n",
       "      <td>08</td>\n",
       "      <td>27</td>\n",
       "      <td>182.0</td>\n",
       "      <td>surf</td>\n",
       "    </tr>\n",
       "    <tr>\n",
       "      <td>2</td>\n",
       "      <td>1001</td>\n",
       "      <td>09</td>\n",
       "      <td>49</td>\n",
       "      <td>315.0</td>\n",
       "      <td>surf</td>\n",
       "    </tr>\n",
       "    <tr>\n",
       "      <td>3</td>\n",
       "      <td>1001</td>\n",
       "      <td>10</td>\n",
       "      <td>65</td>\n",
       "      <td>393.0</td>\n",
       "      <td>surf</td>\n",
       "    </tr>\n",
       "    <tr>\n",
       "      <td>4</td>\n",
       "      <td>1001</td>\n",
       "      <td>11</td>\n",
       "      <td>64</td>\n",
       "      <td>426.0</td>\n",
       "      <td>surf</td>\n",
       "    </tr>\n",
       "    <tr>\n",
       "      <td>...</td>\n",
       "      <td>...</td>\n",
       "      <td>...</td>\n",
       "      <td>...</td>\n",
       "      <td>...</td>\n",
       "      <td>...</td>\n",
       "    </tr>\n",
       "    <tr>\n",
       "      <td>2253</td>\n",
       "      <td>1498</td>\n",
       "      <td>12</td>\n",
       "      <td>39</td>\n",
       "      <td>339.0</td>\n",
       "      <td>surf</td>\n",
       "    </tr>\n",
       "    <tr>\n",
       "      <td>2254</td>\n",
       "      <td>1499</td>\n",
       "      <td>09</td>\n",
       "      <td>41</td>\n",
       "      <td>346.0</td>\n",
       "      <td>surf</td>\n",
       "    </tr>\n",
       "    <tr>\n",
       "      <td>2255</td>\n",
       "      <td>1499</td>\n",
       "      <td>10</td>\n",
       "      <td>53</td>\n",
       "      <td>385.0</td>\n",
       "      <td>surf</td>\n",
       "    </tr>\n",
       "    <tr>\n",
       "      <td>2256</td>\n",
       "      <td>1499</td>\n",
       "      <td>11</td>\n",
       "      <td>45</td>\n",
       "      <td>308.0</td>\n",
       "      <td>surf</td>\n",
       "    </tr>\n",
       "    <tr>\n",
       "      <td>2257</td>\n",
       "      <td>1499</td>\n",
       "      <td>12</td>\n",
       "      <td>65</td>\n",
       "      <td>496.0</td>\n",
       "      <td>surf</td>\n",
       "    </tr>\n",
       "  </tbody>\n",
       "</table>\n",
       "<p>2258 rows × 5 columns</p>\n",
       "</div>"
      ],
      "text/plain": [
       "      user_id month_call  min_charge_count  min_charge_sum      plan\n",
       "0        1000         12                16           124.0  ultimate\n",
       "1        1001         08                27           182.0      surf\n",
       "2        1001         09                49           315.0      surf\n",
       "3        1001         10                65           393.0      surf\n",
       "4        1001         11                64           426.0      surf\n",
       "...       ...        ...               ...             ...       ...\n",
       "2253     1498         12                39           339.0      surf\n",
       "2254     1499         09                41           346.0      surf\n",
       "2255     1499         10                53           385.0      surf\n",
       "2256     1499         11                45           308.0      surf\n",
       "2257     1499         12                65           496.0      surf\n",
       "\n",
       "[2258 rows x 5 columns]"
      ]
     },
     "execution_count": 20,
     "metadata": {},
     "output_type": "execute_result"
    }
   ],
   "source": [
    "calls['month_call'] = calls['call_date'].dt.strftime('%m')\n",
    "calls_charg_by_month=pd.pivot_table(calls, index=['user_id', 'month_call'], values= 'min_charge', aggfunc=['count','sum'])\n",
    "calls_charg_by_month.reset_index(['user_id', 'month_call'], inplace=True)\n",
    "calls_charg_by_month.columns= ['user_id','month_call', 'min_charge_count', 'min_charge_sum']\n",
    "calls_charg_by_month=pd.merge(calls_charg_by_month,users[['user_id','plan']],on='user_id', how='left')\n",
    "calls_charg_by_month"
   ]
  },
  {
   "cell_type": "markdown",
   "metadata": {},
   "source": [
    "Total calls and minutes per user."
   ]
  },
  {
   "cell_type": "code",
   "execution_count": 21,
   "metadata": {},
   "outputs": [
    {
     "data": {
      "text/html": [
       "<div>\n",
       "<style scoped>\n",
       "    .dataframe tbody tr th:only-of-type {\n",
       "        vertical-align: middle;\n",
       "    }\n",
       "\n",
       "    .dataframe tbody tr th {\n",
       "        vertical-align: top;\n",
       "    }\n",
       "\n",
       "    .dataframe thead th {\n",
       "        text-align: right;\n",
       "    }\n",
       "</style>\n",
       "<table border=\"1\" class=\"dataframe\">\n",
       "  <thead>\n",
       "    <tr style=\"text-align: right;\">\n",
       "      <th></th>\n",
       "      <th>user_id</th>\n",
       "      <th>month_mes</th>\n",
       "      <th>mes_count</th>\n",
       "      <th>plan</th>\n",
       "    </tr>\n",
       "  </thead>\n",
       "  <tbody>\n",
       "    <tr>\n",
       "      <td>0</td>\n",
       "      <td>1000</td>\n",
       "      <td>12</td>\n",
       "      <td>11</td>\n",
       "      <td>ultimate</td>\n",
       "    </tr>\n",
       "    <tr>\n",
       "      <td>1</td>\n",
       "      <td>1001</td>\n",
       "      <td>08</td>\n",
       "      <td>30</td>\n",
       "      <td>surf</td>\n",
       "    </tr>\n",
       "    <tr>\n",
       "      <td>2</td>\n",
       "      <td>1001</td>\n",
       "      <td>09</td>\n",
       "      <td>44</td>\n",
       "      <td>surf</td>\n",
       "    </tr>\n",
       "    <tr>\n",
       "      <td>3</td>\n",
       "      <td>1001</td>\n",
       "      <td>10</td>\n",
       "      <td>53</td>\n",
       "      <td>surf</td>\n",
       "    </tr>\n",
       "    <tr>\n",
       "      <td>4</td>\n",
       "      <td>1001</td>\n",
       "      <td>11</td>\n",
       "      <td>36</td>\n",
       "      <td>surf</td>\n",
       "    </tr>\n",
       "    <tr>\n",
       "      <td>...</td>\n",
       "      <td>...</td>\n",
       "      <td>...</td>\n",
       "      <td>...</td>\n",
       "      <td>...</td>\n",
       "    </tr>\n",
       "    <tr>\n",
       "      <td>1801</td>\n",
       "      <td>1496</td>\n",
       "      <td>09</td>\n",
       "      <td>21</td>\n",
       "      <td>surf</td>\n",
       "    </tr>\n",
       "    <tr>\n",
       "      <td>1802</td>\n",
       "      <td>1496</td>\n",
       "      <td>10</td>\n",
       "      <td>18</td>\n",
       "      <td>surf</td>\n",
       "    </tr>\n",
       "    <tr>\n",
       "      <td>1803</td>\n",
       "      <td>1496</td>\n",
       "      <td>11</td>\n",
       "      <td>13</td>\n",
       "      <td>surf</td>\n",
       "    </tr>\n",
       "    <tr>\n",
       "      <td>1804</td>\n",
       "      <td>1496</td>\n",
       "      <td>12</td>\n",
       "      <td>11</td>\n",
       "      <td>surf</td>\n",
       "    </tr>\n",
       "    <tr>\n",
       "      <td>1805</td>\n",
       "      <td>1497</td>\n",
       "      <td>12</td>\n",
       "      <td>50</td>\n",
       "      <td>ultimate</td>\n",
       "    </tr>\n",
       "  </tbody>\n",
       "</table>\n",
       "<p>1806 rows × 4 columns</p>\n",
       "</div>"
      ],
      "text/plain": [
       "      user_id month_mes  mes_count      plan\n",
       "0        1000        12         11  ultimate\n",
       "1        1001        08         30      surf\n",
       "2        1001        09         44      surf\n",
       "3        1001        10         53      surf\n",
       "4        1001        11         36      surf\n",
       "...       ...       ...        ...       ...\n",
       "1801     1496        09         21      surf\n",
       "1802     1496        10         18      surf\n",
       "1803     1496        11         13      surf\n",
       "1804     1496        12         11      surf\n",
       "1805     1497        12         50  ultimate\n",
       "\n",
       "[1806 rows x 4 columns]"
      ]
     },
     "execution_count": 21,
     "metadata": {},
     "output_type": "execute_result"
    }
   ],
   "source": [
    "messeges['month_mes'] = messeges['message_date'].dt.strftime('%m')\n",
    "messeges_charg_by_month=pd.pivot_table(messeges, index=['user_id', 'month_mes'], values= 'id', aggfunc='count')\n",
    "messeges_charg_by_month.reset_index(['user_id', 'month_mes'], inplace=True)\n",
    "messeges_charg_by_month.columns= ['user_id','month_mes', 'mes_count']\n",
    "messeges_charg_by_month=pd.merge(messeges_charg_by_month,users[['user_id','plan']],on='user_id', how='left')\n",
    "messeges_charg_by_month"
   ]
  },
  {
   "cell_type": "markdown",
   "metadata": {},
   "source": [
    "The number of messages each user sent per month."
   ]
  },
  {
   "cell_type": "code",
   "execution_count": 34,
   "metadata": {},
   "outputs": [
    {
     "data": {
      "text/html": [
       "<div>\n",
       "<style scoped>\n",
       "    .dataframe tbody tr th:only-of-type {\n",
       "        vertical-align: middle;\n",
       "    }\n",
       "\n",
       "    .dataframe tbody tr th {\n",
       "        vertical-align: top;\n",
       "    }\n",
       "\n",
       "    .dataframe thead th {\n",
       "        text-align: right;\n",
       "    }\n",
       "</style>\n",
       "<table border=\"1\" class=\"dataframe\">\n",
       "  <thead>\n",
       "    <tr style=\"text-align: right;\">\n",
       "      <th></th>\n",
       "      <th>user_id</th>\n",
       "      <th>month_gb</th>\n",
       "      <th>gb_sum</th>\n",
       "      <th>plan</th>\n",
       "      <th>gb_charged</th>\n",
       "    </tr>\n",
       "  </thead>\n",
       "  <tbody>\n",
       "    <tr>\n",
       "      <td>0</td>\n",
       "      <td>1000</td>\n",
       "      <td>12</td>\n",
       "      <td>1901.47</td>\n",
       "      <td>ultimate</td>\n",
       "      <td>2.0</td>\n",
       "    </tr>\n",
       "    <tr>\n",
       "      <td>1</td>\n",
       "      <td>1001</td>\n",
       "      <td>08</td>\n",
       "      <td>6919.15</td>\n",
       "      <td>surf</td>\n",
       "      <td>7.0</td>\n",
       "    </tr>\n",
       "    <tr>\n",
       "      <td>2</td>\n",
       "      <td>1001</td>\n",
       "      <td>09</td>\n",
       "      <td>13314.82</td>\n",
       "      <td>surf</td>\n",
       "      <td>14.0</td>\n",
       "    </tr>\n",
       "    <tr>\n",
       "      <td>3</td>\n",
       "      <td>1001</td>\n",
       "      <td>10</td>\n",
       "      <td>22330.49</td>\n",
       "      <td>surf</td>\n",
       "      <td>22.0</td>\n",
       "    </tr>\n",
       "    <tr>\n",
       "      <td>4</td>\n",
       "      <td>1001</td>\n",
       "      <td>11</td>\n",
       "      <td>18504.30</td>\n",
       "      <td>surf</td>\n",
       "      <td>19.0</td>\n",
       "    </tr>\n",
       "    <tr>\n",
       "      <td>...</td>\n",
       "      <td>...</td>\n",
       "      <td>...</td>\n",
       "      <td>...</td>\n",
       "      <td>...</td>\n",
       "      <td>...</td>\n",
       "    </tr>\n",
       "    <tr>\n",
       "      <td>2272</td>\n",
       "      <td>1498</td>\n",
       "      <td>12</td>\n",
       "      <td>23137.69</td>\n",
       "      <td>surf</td>\n",
       "      <td>23.0</td>\n",
       "    </tr>\n",
       "    <tr>\n",
       "      <td>2273</td>\n",
       "      <td>1499</td>\n",
       "      <td>09</td>\n",
       "      <td>12984.76</td>\n",
       "      <td>surf</td>\n",
       "      <td>13.0</td>\n",
       "    </tr>\n",
       "    <tr>\n",
       "      <td>2274</td>\n",
       "      <td>1499</td>\n",
       "      <td>10</td>\n",
       "      <td>19492.43</td>\n",
       "      <td>surf</td>\n",
       "      <td>20.0</td>\n",
       "    </tr>\n",
       "    <tr>\n",
       "      <td>2275</td>\n",
       "      <td>1499</td>\n",
       "      <td>11</td>\n",
       "      <td>16813.83</td>\n",
       "      <td>surf</td>\n",
       "      <td>17.0</td>\n",
       "    </tr>\n",
       "    <tr>\n",
       "      <td>2276</td>\n",
       "      <td>1499</td>\n",
       "      <td>12</td>\n",
       "      <td>22059.21</td>\n",
       "      <td>surf</td>\n",
       "      <td>22.0</td>\n",
       "    </tr>\n",
       "  </tbody>\n",
       "</table>\n",
       "<p>2277 rows × 5 columns</p>\n",
       "</div>"
      ],
      "text/plain": [
       "      user_id month_gb    gb_sum      plan  gb_charged\n",
       "0        1000       12   1901.47  ultimate         2.0\n",
       "1        1001       08   6919.15      surf         7.0\n",
       "2        1001       09  13314.82      surf        14.0\n",
       "3        1001       10  22330.49      surf        22.0\n",
       "4        1001       11  18504.30      surf        19.0\n",
       "...       ...      ...       ...       ...         ...\n",
       "2272     1498       12  23137.69      surf        23.0\n",
       "2273     1499       09  12984.76      surf        13.0\n",
       "2274     1499       10  19492.43      surf        20.0\n",
       "2275     1499       11  16813.83      surf        17.0\n",
       "2276     1499       12  22059.21      surf        22.0\n",
       "\n",
       "[2277 rows x 5 columns]"
      ]
     },
     "execution_count": 34,
     "metadata": {},
     "output_type": "execute_result"
    }
   ],
   "source": [
    "internet['month_gb'] = internet['session_date'].dt.strftime('%m')\n",
    "internet_charg_by_month=pd.pivot_table(internet, index=['user_id', 'month_gb'], values= 'mb_used', aggfunc='sum')\n",
    "internet_charg_by_month.reset_index(['user_id', 'month_gb'], inplace=True)\n",
    "internet_charg_by_month.columns= ['user_id','month_gb', 'gb_sum']\n",
    "internet_charg_by_month=pd.merge(internet_charg_by_month,users[['user_id','plan']],on='user_id', how='left')\n",
    "internet_charg_by_month['gb_charged'] =internet_charg_by_month['gb_sum']*0.0009765625\n",
    "internet_charg_by_month['gb_charged'] =internet_charg_by_month['gb_charged'].apply(np.ceil)\n",
    "internet_charg_by_month"
   ]
  },
  {
   "cell_type": "markdown",
   "metadata": {},
   "source": [
    "i fixed this."
   ]
  },
  {
   "cell_type": "markdown",
   "metadata": {},
   "source": [
    "Monthly volume of data per user."
   ]
  },
  {
   "cell_type": "code",
   "execution_count": 23,
   "metadata": {},
   "outputs": [
    {
     "data": {
      "text/plain": [
       "user_id            0\n",
       "min_charge_sum     0\n",
       "gb_charged        64\n",
       "city               0\n",
       "plan               0\n",
       "month_mes          0\n",
       "mes_count          0\n",
       "dtype: int64"
      ]
     },
     "execution_count": 23,
     "metadata": {},
     "output_type": "execute_result"
    }
   ],
   "source": [
    "df4=pd.merge(calls_charg_by_month[['user_id','min_charge_sum']],internet_charg_by_month[['user_id','gb_charged']],on='user_id', how='left')\n",
    "df6=pd.merge(df4,users[['user_id','city', 'plan']],on='user_id', how='left')\n",
    "cal_ind_month_charge_t = pd.merge(df6,messeges_charg_by_month)\n",
    "cal_ind_month_charge_t.isnull().sum()"
   ]
  },
  {
   "cell_type": "code",
   "execution_count": 24,
   "metadata": {},
   "outputs": [
    {
     "data": {
      "text/plain": [
       "user_id           0.000000\n",
       "min_charge_sum    0.000000\n",
       "gb_charged        0.075468\n",
       "city              0.000000\n",
       "plan              0.000000\n",
       "month_mes         0.000000\n",
       "mes_count         0.000000\n",
       "dtype: float64"
      ]
     },
     "execution_count": 24,
     "metadata": {},
     "output_type": "execute_result"
    }
   ],
   "source": [
    "cal_ind_month_charge_t.isnull().sum()/len(cal_ind_month_charge_t)*100"
   ]
  },
  {
   "cell_type": "code",
   "execution_count": 25,
   "metadata": {},
   "outputs": [
    {
     "data": {
      "text/plain": [
       "user_id           0\n",
       "min_charge_sum    0\n",
       "gb_charged        0\n",
       "city              0\n",
       "plan              0\n",
       "month_mes         0\n",
       "mes_count         0\n",
       "dtype: int64"
      ]
     },
     "execution_count": 25,
     "metadata": {},
     "output_type": "execute_result"
    }
   ],
   "source": [
    "cal_ind_month_charge_t.dropna(inplace=True)\n",
    "cal_ind_month_charge_t.isnull().sum()"
   ]
  },
  {
   "cell_type": "markdown",
   "metadata": {},
   "source": [
    "Missing entries were created during the merge of the tables (apparently some users do not have all the information on them).\n",
    "The information is deleted because it is minor (7.5%) and cannot be analyzed."
   ]
  },
  {
   "cell_type": "markdown",
   "metadata": {},
   "source": [
    "The above three tables are consolidated."
   ]
  },
  {
   "cell_type": "code",
   "execution_count": 26,
   "metadata": {},
   "outputs": [],
   "source": [
    "def cal_ind_month_charge(row):\n",
    "    min_u=row['min_charge_sum']\n",
    "    mes_u=row['mes_count']\n",
    "    gb_u=row['gb_charged']\n",
    "    if row['plan']=='ultimate':\n",
    "        min_limit=3000\n",
    "        message_limit=1000\n",
    "        gb_limit=30\n",
    "        monthly_rate=70\n",
    "        over_min_rate=0.01\n",
    "        over_message_rate=0.01\n",
    "        over_gb_rate=7\n",
    "    else:\n",
    "        min_limit=500\n",
    "        message_limit=50\n",
    "        gb_limit=15\n",
    "        monthly_rate=20\n",
    "        over_min_rate=0.03\n",
    "        over_message_rate=0.03\n",
    "        over_gb_rate=10\n",
    "    if min_u<=min_limit:\n",
    "        over_min=0\n",
    "    else:\n",
    "        over_min=min_u-min_limit\n",
    "    if mes_u<=message_limit:\n",
    "        over_message=0\n",
    "    else:\n",
    "        over_message=mes_u-message_limit\n",
    "    if gb_u<=gb_limit:\n",
    "        over_gb=0\n",
    "    else:\n",
    "        over_gb=gb_u-gb_limit\n",
    "        \n",
    "    total_charge= monthly_rate+over_min*over_min_rate+over_message*over_message_rate+over_gb*over_gb_rate\n",
    "    return total_charge"
   ]
  },
  {
   "cell_type": "code",
   "execution_count": 27,
   "metadata": {},
   "outputs": [
    {
     "data": {
      "text/html": [
       "<div>\n",
       "<style scoped>\n",
       "    .dataframe tbody tr th:only-of-type {\n",
       "        vertical-align: middle;\n",
       "    }\n",
       "\n",
       "    .dataframe tbody tr th {\n",
       "        vertical-align: top;\n",
       "    }\n",
       "\n",
       "    .dataframe thead th {\n",
       "        text-align: right;\n",
       "    }\n",
       "</style>\n",
       "<table border=\"1\" class=\"dataframe\">\n",
       "  <thead>\n",
       "    <tr style=\"text-align: right;\">\n",
       "      <th></th>\n",
       "      <th>user_id</th>\n",
       "      <th>min_charge_sum</th>\n",
       "      <th>gb_charged</th>\n",
       "      <th>city</th>\n",
       "      <th>plan</th>\n",
       "      <th>month_mes</th>\n",
       "      <th>mes_count</th>\n",
       "      <th>month_charge</th>\n",
       "    </tr>\n",
       "  </thead>\n",
       "  <tbody>\n",
       "    <tr>\n",
       "      <td>40560</td>\n",
       "      <td>1214</td>\n",
       "      <td>384.0</td>\n",
       "      <td>23.0</td>\n",
       "      <td>San Francisco-Oakland-Berkeley, CA MSA</td>\n",
       "      <td>ultimate</td>\n",
       "      <td>01</td>\n",
       "      <td>2</td>\n",
       "      <td>70.00</td>\n",
       "    </tr>\n",
       "    <tr>\n",
       "      <td>40272</td>\n",
       "      <td>1214</td>\n",
       "      <td>516.0</td>\n",
       "      <td>23.0</td>\n",
       "      <td>San Francisco-Oakland-Berkeley, CA MSA</td>\n",
       "      <td>ultimate</td>\n",
       "      <td>01</td>\n",
       "      <td>2</td>\n",
       "      <td>70.00</td>\n",
       "    </tr>\n",
       "    <tr>\n",
       "      <td>11132</td>\n",
       "      <td>1077</td>\n",
       "      <td>290.0</td>\n",
       "      <td>19.0</td>\n",
       "      <td>Charlotte-Concord-Gastonia, NC-SC MSA</td>\n",
       "      <td>ultimate</td>\n",
       "      <td>01</td>\n",
       "      <td>37</td>\n",
       "      <td>70.00</td>\n",
       "    </tr>\n",
       "    <tr>\n",
       "      <td>40260</td>\n",
       "      <td>1214</td>\n",
       "      <td>516.0</td>\n",
       "      <td>2.0</td>\n",
       "      <td>San Francisco-Oakland-Berkeley, CA MSA</td>\n",
       "      <td>ultimate</td>\n",
       "      <td>01</td>\n",
       "      <td>2</td>\n",
       "      <td>70.00</td>\n",
       "    </tr>\n",
       "    <tr>\n",
       "      <td>36086</td>\n",
       "      <td>1196</td>\n",
       "      <td>563.0</td>\n",
       "      <td>25.0</td>\n",
       "      <td>Los Angeles-Long Beach-Anaheim, CA MSA</td>\n",
       "      <td>ultimate</td>\n",
       "      <td>01</td>\n",
       "      <td>23</td>\n",
       "      <td>70.00</td>\n",
       "    </tr>\n",
       "    <tr>\n",
       "      <td>...</td>\n",
       "      <td>...</td>\n",
       "      <td>...</td>\n",
       "      <td>...</td>\n",
       "      <td>...</td>\n",
       "      <td>...</td>\n",
       "      <td>...</td>\n",
       "      <td>...</td>\n",
       "      <td>...</td>\n",
       "    </tr>\n",
       "    <tr>\n",
       "      <td>49817</td>\n",
       "      <td>1261</td>\n",
       "      <td>513.0</td>\n",
       "      <td>22.0</td>\n",
       "      <td>Kansas City, MO-KS MSA</td>\n",
       "      <td>surf</td>\n",
       "      <td>12</td>\n",
       "      <td>50</td>\n",
       "      <td>90.39</td>\n",
       "    </tr>\n",
       "    <tr>\n",
       "      <td>49806</td>\n",
       "      <td>1261</td>\n",
       "      <td>513.0</td>\n",
       "      <td>23.0</td>\n",
       "      <td>Kansas City, MO-KS MSA</td>\n",
       "      <td>surf</td>\n",
       "      <td>12</td>\n",
       "      <td>50</td>\n",
       "      <td>100.39</td>\n",
       "    </tr>\n",
       "    <tr>\n",
       "      <td>49795</td>\n",
       "      <td>1261</td>\n",
       "      <td>513.0</td>\n",
       "      <td>19.0</td>\n",
       "      <td>Kansas City, MO-KS MSA</td>\n",
       "      <td>surf</td>\n",
       "      <td>12</td>\n",
       "      <td>50</td>\n",
       "      <td>60.39</td>\n",
       "    </tr>\n",
       "    <tr>\n",
       "      <td>49971</td>\n",
       "      <td>1261</td>\n",
       "      <td>479.0</td>\n",
       "      <td>18.0</td>\n",
       "      <td>Kansas City, MO-KS MSA</td>\n",
       "      <td>surf</td>\n",
       "      <td>12</td>\n",
       "      <td>50</td>\n",
       "      <td>50.00</td>\n",
       "    </tr>\n",
       "    <tr>\n",
       "      <td>84803</td>\n",
       "      <td>1497</td>\n",
       "      <td>300.0</td>\n",
       "      <td>12.0</td>\n",
       "      <td>Los Angeles-Long Beach-Anaheim, CA MSA</td>\n",
       "      <td>ultimate</td>\n",
       "      <td>12</td>\n",
       "      <td>50</td>\n",
       "      <td>70.00</td>\n",
       "    </tr>\n",
       "  </tbody>\n",
       "</table>\n",
       "<p>84740 rows × 8 columns</p>\n",
       "</div>"
      ],
      "text/plain": [
       "       user_id  min_charge_sum  gb_charged  \\\n",
       "40560     1214           384.0        23.0   \n",
       "40272     1214           516.0        23.0   \n",
       "11132     1077           290.0        19.0   \n",
       "40260     1214           516.0         2.0   \n",
       "36086     1196           563.0        25.0   \n",
       "...        ...             ...         ...   \n",
       "49817     1261           513.0        22.0   \n",
       "49806     1261           513.0        23.0   \n",
       "49795     1261           513.0        19.0   \n",
       "49971     1261           479.0        18.0   \n",
       "84803     1497           300.0        12.0   \n",
       "\n",
       "                                         city      plan month_mes  mes_count  \\\n",
       "40560  San Francisco-Oakland-Berkeley, CA MSA  ultimate        01          2   \n",
       "40272  San Francisco-Oakland-Berkeley, CA MSA  ultimate        01          2   \n",
       "11132   Charlotte-Concord-Gastonia, NC-SC MSA  ultimate        01         37   \n",
       "40260  San Francisco-Oakland-Berkeley, CA MSA  ultimate        01          2   \n",
       "36086  Los Angeles-Long Beach-Anaheim, CA MSA  ultimate        01         23   \n",
       "...                                       ...       ...       ...        ...   \n",
       "49817                  Kansas City, MO-KS MSA      surf        12         50   \n",
       "49806                  Kansas City, MO-KS MSA      surf        12         50   \n",
       "49795                  Kansas City, MO-KS MSA      surf        12         50   \n",
       "49971                  Kansas City, MO-KS MSA      surf        12         50   \n",
       "84803  Los Angeles-Long Beach-Anaheim, CA MSA  ultimate        12         50   \n",
       "\n",
       "       month_charge  \n",
       "40560         70.00  \n",
       "40272         70.00  \n",
       "11132         70.00  \n",
       "40260         70.00  \n",
       "36086         70.00  \n",
       "...             ...  \n",
       "49817         90.39  \n",
       "49806        100.39  \n",
       "49795         60.39  \n",
       "49971         50.00  \n",
       "84803         70.00  \n",
       "\n",
       "[84740 rows x 8 columns]"
      ]
     },
     "execution_count": 27,
     "metadata": {},
     "output_type": "execute_result"
    }
   ],
   "source": [
    "cal_ind_month_charge_t['month_charge']=cal_ind_month_charge_t.apply(cal_ind_month_charge, axis=1)\n",
    "cal_ind_month_charge_t.sort_values(\"month_mes\")"
   ]
  },
  {
   "cell_type": "markdown",
   "metadata": {},
   "source": [
    "Each user's monthly billing."
   ]
  },
  {
   "cell_type": "markdown",
   "metadata": {},
   "source": [
    "Steps taken at this stage:\n",
    "\n",
    "Step A - for each of the three tables:\n",
    "\n",
    "1.I added a column with the given month only.\n",
    "\n",
    "2.I made a pivot table that calculates for us the desired value.\n",
    "\n",
    "3.I merged the pivot table with the user table.\n",
    "\n",
    "4.I combined the three tables into one table that contains all the relevant data.\n",
    "\n",
    "Step B I wrote a function that calculates the monthly income from each user.\n",
    "\n",
    "Step C - I ran the function on the consolidated table and added a column of the monthly income from each user."
   ]
  },
  {
   "cell_type": "markdown",
   "metadata": {},
   "source": [
    "As we suspected, the missing values ​​generated in the monthly cost calculation are from only one plan so the best way in our opinion is to replace the missing values ​​in the monthly internet average so that the data remains as reliable as possible."
   ]
  },
  {
   "cell_type": "code",
   "execution_count": 64,
   "metadata": {},
   "outputs": [
    {
     "data": {
      "image/png": "[encoded data removed]",
      "text/plain": [
       "<Figure size 432x288 with 1 Axes>"
      ]
     },
     "metadata": {
      "needs_background": "light"
     },
     "output_type": "display_data"
    },
    {
     "name": "stdout",
     "output_type": "stream",
     "text": [
      "Surf minutes mean: 466.87026656592104 Surf minutes variance: 52870.937622837446 Surf minutes standard diviasion: 229.93681223944427\n",
      "Most minutes are in this range: 0 : 1156.680703284254\n",
      "\n"
     ]
    },
    {
     "data": {
      "image/png": "[encoded data removed]",
      "text/plain": [
       "<Figure size 432x288 with 1 Axes>"
      ]
     },
     "metadata": {
      "needs_background": "light"
     },
     "output_type": "display_data"
    },
    {
     "name": "stdout",
     "output_type": "stream",
     "text": [
      "Surf message mean: 37.52540020031981 Surf message variance: 899.0154199513336 Surf message standard diviasion: 29.983585842112575\n",
      "Most messages are in this range: 0 : 127.47615772665753\n",
      "\n"
     ]
    },
    {
     "data": {
      "image/png": "[encoded data removed]",
      "text/plain": [
       "<Figure size 432x288 with 1 Axes>"
      ]
     },
     "metadata": {
      "needs_background": "light"
     },
     "output_type": "display_data"
    },
    {
     "name": "stdout",
     "output_type": "stream",
     "text": [
      "Surf data mean: 17.775852677080955 Surf data variance: 54.68261218346561 Surf data standard diviasion: 7.394769244774688\n",
      "Most data are in this range: 0 : 39.96016041140502\n"
     ]
    }
   ],
   "source": [
    "dsurf = cal_ind_month_charge_t.query('plan == \"surf\"')\n",
    "dsurf = pd.DataFrame(dsurf)\n",
    "dsurf_min_mean = dsurf['min_charge_sum'].mean()\n",
    "dsurf_min_var = np.var(dsurf['min_charge_sum'])\n",
    "dsurf_min_std = np.sqrt(dsurf_min_var)\n",
    "dsurf.hist('min_charge_sum', density = True)\n",
    "plt.xlabel('Minutes')\n",
    "plt.ylabel('Density')\n",
    "plt.show()\n",
    "print('Surf minutes mean:', dsurf_min_mean,\n",
    "      'Surf minutes variance:', dsurf_min_var,\n",
    "      'Surf minutes standard diviasion:', dsurf_min_std)\n",
    "if (dsurf_min_mean - 3*dsurf_min_std) < [0]:\n",
    "    print ('Most minutes are in this range:', 0 ,':', (dsurf_min_mean + 3*dsurf_min_std))\n",
    "else:\n",
    "    print('Most minutes are in this range:', (dsurf_min_mean - 3*dsurf_min_std),':', (dsurf_min_mean + 3*dsurf_min_std))\n",
    "print()\n",
    "\n",
    "\n",
    "dsurf_mes_mean = dsurf['mes_count'].mean()\n",
    "dsurf_mes_var = np.var(dsurf['mes_count'])\n",
    "dsurf_mes_std = np.sqrt(dsurf_mes_var)\n",
    "dsurf.hist('mes_count', density = True)\n",
    "plt.xlabel('Messeges')\n",
    "plt.ylabel('Density')\n",
    "plt.show()\n",
    "print('Surf message mean:', dsurf_mes_mean,\n",
    "      'Surf message variance:', dsurf_mes_var,\n",
    "      'Surf message standard diviasion:', dsurf_mes_std)\n",
    "if (dsurf_mes_mean - 3*dsurf_mes_std) < [0]:\n",
    "    print ('Most messages are in this range:', 0 ,':', (dsurf_mes_mean + 3*dsurf_mes_std))\n",
    "else:\n",
    "    print('Most messages are in this range:', (dsurf_mes_mean - 3*dsurf_mes_std),':', (dsurf_mes_mean + 3*dsurf_mes_std))\n",
    "print()\n",
    "\n",
    "dsurf_gb_mean = dsurf['gb_charged'].mean()\n",
    "dsurf_gb_var = np.var(dsurf['gb_charged'])\n",
    "dsurf_gb_std = np.sqrt(dsurf_gb_var)\n",
    "dsurf.hist('gb_charged', density = True)\n",
    "plt.xlabel('Gb')\n",
    "plt.ylabel('Density')\n",
    "plt.show()\n",
    "print('Surf data mean:', dsurf_gb_mean,\n",
    "      'Surf data variance:', dsurf_gb_var,\n",
    "      'Surf data standard diviasion:', dsurf_gb_std)\n",
    "if dsurf_gb_mean - 3*dsurf_gb_std < [0]:\n",
    "    print ('Most data are in this range:', 0 ,':', (dsurf_gb_mean + 3*dsurf_gb_std))\n",
    "else:\n",
    "    print('Most data are in this range:', (dsurf_min_mean - 3*dsurf_min_std),':', (dsurf_min_mean + 3*dsurf_min_std))"
   ]
  },
  {
   "cell_type": "markdown",
   "metadata": {},
   "source": [
    "The calculation has been corrected."
   ]
  },
  {
   "cell_type": "code",
   "execution_count": 63,
   "metadata": {},
   "outputs": [
    {
     "data": {
      "image/png": "[encoded data removed]",
      "text/plain": [
       "<Figure size 432x288 with 1 Axes>"
      ]
     },
     "metadata": {
      "needs_background": "light"
     },
     "output_type": "display_data"
    },
    {
     "name": "stdout",
     "output_type": "stream",
     "text": [
      "Ultimate minutes  mean: 444.87729510258345 Ultimate minutes variance: 59500.63612384662 Ultimate minutes standard diviasion: 243.92752227628316\n",
      "Most minutes are in this range: 0 : 1176.659861931433\n",
      "\n"
     ]
    },
    {
     "data": {
      "image/png": "[encoded data removed]",
      "text/plain": [
       "<Figure size 432x288 with 1 Axes>"
      ]
     },
     "metadata": {
      "needs_background": "light"
     },
     "output_type": "display_data"
    },
    {
     "name": "stdout",
     "output_type": "stream",
     "text": [
      "Ultimate message mean: 45.73705580108512 Ultimate message variance: 989.1234154127535 Ultimate message standard diviasion: 31.45033251672792\n",
      "Most messages are in this range: 0 : 140.08805335126888\n",
      "\n"
     ]
    },
    {
     "data": {
      "image/png": "[encoded data removed]",
      "text/plain": [
       "<Figure size 432x288 with 1 Axes>"
      ]
     },
     "metadata": {
      "needs_background": "light"
     },
     "output_type": "display_data"
    },
    {
     "name": "stdout",
     "output_type": "stream",
     "text": [
      "Ultimate data mean: 19.555926844166578 Ultimate data variance: 63.947781246345976 Ultimate data standard diviasion: 7.996735661902672\n",
      "Most data are in this range: 0 : 43.54613382987459\n"
     ]
    }
   ],
   "source": [
    "dultimate = cal_ind_month_charge_t.query('plan==\"ultimate\"')\n",
    "dultimate = pd.DataFrame(dultimate)\n",
    "\n",
    "dultimate_min_mean = dultimate['min_charge_sum'].mean()\n",
    "dultimate_min_var = np.var(dultimate['min_charge_sum'])\n",
    "dultimate_min_std = np.sqrt(dultimate_min_var)\n",
    "dultimate.hist('min_charge_sum', density = True)\n",
    "plt.xlabel('minutes')\n",
    "plt.ylabel('Density')\n",
    "plt.show()\n",
    "print('Ultimate minutes  mean:', dultimate_min_mean,\n",
    "      'Ultimate minutes variance:', dultimate_min_var,\n",
    "      'Ultimate minutes standard diviasion:', dultimate_min_std)\n",
    "if (dultimate_min_mean - 3*dultimate_min_std) < [0]:\n",
    "    print ('Most minutes are in this range:', 0 ,':', (dultimate_min_mean + 3*dultimate_min_std))\n",
    "else:\n",
    "    print('Most minutes are in this range:', (dultimate_min_mean - 3*dultimate_min_std),':', (dultimate_min_mean + 3*dultimate_min_std))\n",
    "print()\n",
    "\n",
    "dultimate_mes_mean = dultimate['mes_count'].mean()\n",
    "dultimate_mes_var = np.var(dultimate['mes_count'])\n",
    "dultimate_mes_std = np.sqrt(dultimate_mes_var)\n",
    "dultimate.hist('mes_count', density = True)\n",
    "plt.xlabel('Messeges')\n",
    "plt.ylabel('Density')\n",
    "plt.show()\n",
    "print('Ultimate message mean:', dultimate_mes_mean,\n",
    "      'Ultimate message variance:', dultimate_mes_var,\n",
    "      'Ultimate message standard diviasion:', dultimate_mes_std)\n",
    "if (dultimate_mes_mean - 3*dultimate_mes_std) < [0]:\n",
    "    print ('Most messages are in this range:', 0 ,':', (dultimate_mes_mean + 3*dultimate_mes_std))\n",
    "else:\n",
    "    print('Most messages are in this range:', (dultimate_mes_mean - 3*dultimate_mes_std),':', (dultimate_mes_mean + 3*dultimate_mes_std))\n",
    "print()\n",
    "dultimate_gb_mean = dultimate['gb_charged'].mean()\n",
    "dultimate_gb_var = np.var(dultimate['gb_charged'])\n",
    "dultimate_gb_std = np.sqrt(dultimate_gb_var)\n",
    "dultimate.hist('gb_charged', density = True)\n",
    "plt.xlabel('Gb')\n",
    "plt.ylabel('Density')\n",
    "plt.show()\n",
    "print('Ultimate data mean:', dultimate_gb_mean,\n",
    "      'Ultimate data variance:', dultimate_gb_var,\n",
    "      'Ultimate data standard diviasion:', dultimate_gb_std)\n",
    "if dultimate_gb_mean - 3*dultimate_gb_std < [0]:\n",
    "    print ('Most data are in this range:', 0 ,':', (dultimate_gb_mean + 3*dultimate_gb_std))\n",
    "else:\n",
    "    print('Most data are in this range:', (dultimate_min_mean - 3*dultimate_min_std),':', (dultimate_min_mean + 3*dultimate_min_std))"
   ]
  },
  {
   "cell_type": "markdown",
   "metadata": {},
   "source": [
    "The calculation has been corrected."
   ]
  },
  {
   "cell_type": "markdown",
   "metadata": {},
   "source": [
    "Steps taken at this point:\n",
    "\n",
    "1.We divided the data into two parts according to plan type.\n",
    "\n",
    "2.For each relevant column in the table we calculated: mean, variance and standard deviation.\n",
    "\n",
    "3.We created a histogram for each relevant column showing the data distribution.\n",
    "\n",
    "4.We have calculated the normal range in which most of the data are."
   ]
  },
  {
   "cell_type": "markdown",
   "metadata": {},
   "source": [
    "Conclusions from this stage:\n",
    "\n",
    "1.Surf program users consume on average more call minutes than Ultimate program users.\n",
    "\n",
    "2.Ultimate program users send more messages on average than Surf program users.\n",
    "\n",
    "3.Ultimate program users consume more Internet on average than Surf program users."
   ]
  },
  {
   "cell_type": "code",
   "execution_count": 30,
   "metadata": {},
   "outputs": [
    {
     "data": {
      "text/plain": [
       "LeveneResult(statistic=21407.855164368008, pvalue=0.0)"
      ]
     },
     "execution_count": 30,
     "metadata": {},
     "output_type": "execute_result"
    }
   ],
   "source": [
    "g1 = dsurf['month_charge']\n",
    "g2 = dultimate['month_charge']\n",
    "st.levene(g1, g2, center ='mean')"
   ]
  },
  {
   "cell_type": "markdown",
   "metadata": {},
   "source": [
    "Test to make sure that the variance of the samples is indeed different."
   ]
  },
  {
   "cell_type": "code",
   "execution_count": 31,
   "metadata": {},
   "outputs": [
    {
     "name": "stdout",
     "output_type": "stream",
     "text": [
      "p-value 3.0070360659169144e-241\n",
      "we reject the null hypothesis\n",
      "mean income surf users: 66.18038254054719\n",
      "mean income ultimate users: 74.4330063598146\n"
     ]
    }
   ],
   "source": [
    "alfa = 0.05\n",
    "\n",
    "result = st.ttest_ind( \n",
    "         dsurf['month_charge'], dultimate['month_charge'], equal_var = False)\n",
    "print('p-value', result.pvalue)\n",
    "\n",
    "if (result.pvalue<alfa):\n",
    "    print('we reject the null hypothesis')\n",
    "else:\n",
    "    print('we can not reject the null hypothesis')    \n",
    "    \n",
    "surf_mean =dsurf['month_charge'].mean()\n",
    "ultimate_mean = dultimate['month_charge'].mean()\n",
    "print('mean income surf users:', surf_mean)\n",
    "print('mean income ultimate users:', ultimate_mean)"
   ]
  },
  {
   "cell_type": "markdown",
   "metadata": {},
   "source": [
    "my null hypothesis was that the average income from the two programs is equal to each other (or rather almost equal to 95%) in its average and distribution (hence the alpha value was also chosen to be 5%).\n",
    "In the first test we checked if their differences are the same (to know what to note in the second test), and we got a negative result.\n",
    "In the second test, we examined whether the p value of the two revenues is greater than the alpha, and after receiving a negative answer, we rejected the claim."
   ]
  },
  {
   "cell_type": "code",
   "execution_count": 32,
   "metadata": {},
   "outputs": [
    {
     "data": {
      "text/plain": [
       "LeveneResult(statistic=17.397739776026725, pvalue=3.034876606110965e-05)"
      ]
     },
     "execution_count": 32,
     "metadata": {},
     "output_type": "execute_result"
    }
   ],
   "source": [
    "ny_nj_users = cal_ind_month_charge_t.query('city==\"New York-Newark-Jersey City, NY-NJ-PA MSA\"')\n",
    "others_users = cal_ind_month_charge_t.query('city!=\"New York-Newark-Jersey City, NY-NJ-PA MSA\"')\n",
    "st.levene(ny_nj_users['month_charge'], others_users['month_charge'], center ='mean')"
   ]
  },
  {
   "cell_type": "markdown",
   "metadata": {},
   "source": [
    "Test to make sure that the variance of the samples is indeed different."
   ]
  },
  {
   "cell_type": "code",
   "execution_count": 33,
   "metadata": {},
   "outputs": [
    {
     "name": "stdout",
     "output_type": "stream",
     "text": [
      "p-value 3.0070360659169144e-241\n",
      "we reject the null hypothesis\n",
      "mean income surf users: 61.51864232008594\n",
      "mean income ultimate users: 74.4330063598146\n"
     ]
    }
   ],
   "source": [
    "alfa = 0.05\n",
    "\n",
    "result2 = st.ttest_ind( \n",
    "         ny_nj_users['month_charge'], others_users['month_charge'], equal_var = False)\n",
    "print('p-value', result.pvalue)\n",
    "\n",
    "if (result2.pvalue<alfa):\n",
    "    print('we reject the null hypothesis')\n",
    "else:\n",
    "    print('we can not reject the null hypothesis')    \n",
    "    \n",
    "ny_nj_users_mean =ny_nj_users['month_charge'].mean()\n",
    "others_users_mean = dultimate['month_charge'].mean()\n",
    "print('mean income surf users:', ny_nj_users_mean)\n",
    "print('mean income ultimate users:', others_users_mean)"
   ]
  },
  {
   "cell_type": "markdown",
   "metadata": {},
   "source": [
    "My null hypothesis was that the average income from New York and New Jersey users was equal to the income of the rest of the users (or rather almost equal to 95%) in its average and its distribution (hence the alpha value was also chosen to be 5%).\n",
    "In the first test we checked if the differences between them are the same (to know what to pay attention to in the second test), and we got a negative result.\n",
    "In the second test we checked whether the p value of the two revenues is greater than the alpha and after we got a negative answer we rejected the claim."
   ]
  },
  {
   "cell_type": "markdown",
   "metadata": {},
   "source": [
    "Final conclusion and steps taken in the project:\n",
    "\n",
    "Steps:\n",
    "\n",
    "1.Installing all the libraries, loading the data and changing the times in the data to dates that can be worked with.\n",
    "\n",
    "2.Merge all the tables into one table (except the plan table).\n",
    "\n",
    "3.Check for missing values - found in the 'churn_date' column and because their cause is known, the values have been changed to a value that can be worked with.\n",
    "\n",
    "4.Duplicate check - not found.\n",
    "\n",
    "5.Delete zero values ​​in the 'duration' and 'mb_used' columns (because they have no value for calculating income if they are zero).\n",
    "\n",
    "6.Add a column of dates in the original data for months only numerically.\n",
    "\n",
    "7.Add a column of monthly consumption in each parameter.\n",
    "\n",
    "8.Merge all the tables into a large table that contains all the relevant data.\n",
    "\n",
    "9.Write a function that adds a column that indicates the monthly income from each user.\n",
    "\n",
    "10.Check for missing values in the new table - found and deleted (minor percentage of data).\n",
    "\n",
    "11.Dividing the data according to plan.\n",
    "\n",
    "12.Create histograms and statistics for each group.\n",
    "\n",
    "13.Testing the hypotheses.\n",
    "\n",
    "Conclusions:\n",
    "\n",
    "1.Surf program users consume on average more call minutes than Ultimate program users.\n",
    "\n",
    "2.Ultimate program users send more messages on average than surf program users.\n",
    "\n",
    "3.Ultimate program users consume more internet on average than surf program users.\n",
    "\n",
    "4.An ultimate plan makes more money than a surfing plan.\n",
    " \n",
    "5.The hypothesis that the two programs are similar in terms of average income and distribution is incorrect.\n",
    "\n",
    "6.The hypothesis that the income from New York and New Jersey residents is equal on average and distributed to other users is incorrect."
   ]
  },
  {
   "cell_type": "markdown",
   "metadata": {},
   "source": [
    "- [ ] The purpose of the project\n",
    "- [ ] Gb calculations\n",
    "- [ ] Negative data range"
   ]
  },
  {
   "cell_type": "code",
   "execution_count": null,
   "metadata": {},
   "outputs": [],
   "source": []
  }
 ],
 "metadata": {
  "ExecuteTimeLog": [
   {
    "duration": 2457,
    "start_time": "2022-02-14T13:14:08.257Z"
   },
   {
    "duration": 350,
    "start_time": "2022-02-14T13:14:22.876Z"
   },
   {
    "duration": 5,
    "start_time": "2022-02-14T13:15:14.267Z"
   },
   {
    "duration": 405,
    "start_time": "2022-02-14T13:25:49.657Z"
   },
   {
    "duration": 16,
    "start_time": "2022-02-14T13:41:28.307Z"
   },
   {
    "duration": 12,
    "start_time": "2022-02-14T13:41:38.414Z"
   },
   {
    "duration": 17,
    "start_time": "2022-02-14T13:41:55.226Z"
   },
   {
    "duration": 11,
    "start_time": "2022-02-14T13:42:04.352Z"
   },
   {
    "duration": 11,
    "start_time": "2022-02-14T13:42:25.411Z"
   },
   {
    "duration": 12,
    "start_time": "2022-02-14T13:43:04.123Z"
   },
   {
    "duration": 11,
    "start_time": "2022-02-14T13:43:36.101Z"
   },
   {
    "duration": 13,
    "start_time": "2022-02-14T13:43:41.368Z"
   },
   {
    "duration": 15,
    "start_time": "2022-02-14T13:43:55.783Z"
   },
   {
    "duration": 10,
    "start_time": "2022-02-14T13:44:22.126Z"
   },
   {
    "duration": 6066,
    "start_time": "2022-02-14T13:54:46.186Z"
   },
   {
    "duration": 161,
    "start_time": "2022-02-14T13:55:37.626Z"
   },
   {
    "duration": 422,
    "start_time": "2022-02-14T13:57:53.404Z"
   },
   {
    "duration": 421,
    "start_time": "2022-02-14T13:58:00.836Z"
   },
   {
    "duration": 2001,
    "start_time": "2022-02-14T13:58:12.020Z"
   },
   {
    "duration": 414,
    "start_time": "2022-02-14T13:58:14.024Z"
   },
   {
    "duration": 22,
    "start_time": "2022-02-14T13:58:14.441Z"
   },
   {
    "duration": 12,
    "start_time": "2022-02-14T13:58:14.466Z"
   },
   {
    "duration": 15,
    "start_time": "2022-02-14T13:58:14.480Z"
   },
   {
    "duration": 17,
    "start_time": "2022-02-14T13:58:14.498Z"
   },
   {
    "duration": 49,
    "start_time": "2022-02-14T13:58:14.517Z"
   },
   {
    "duration": 6257,
    "start_time": "2022-02-14T13:58:14.569Z"
   },
   {
    "duration": 121,
    "start_time": "2022-02-14T14:02:25.523Z"
   },
   {
    "duration": 983,
    "start_time": "2022-02-14T14:02:45.969Z"
   },
   {
    "duration": 430,
    "start_time": "2022-02-14T14:03:12.686Z"
   },
   {
    "duration": 1819,
    "start_time": "2022-02-14T14:03:21.354Z"
   },
   {
    "duration": 458,
    "start_time": "2022-02-14T14:03:23.176Z"
   },
   {
    "duration": 28,
    "start_time": "2022-02-14T14:03:23.638Z"
   },
   {
    "duration": 15,
    "start_time": "2022-02-14T14:03:23.669Z"
   },
   {
    "duration": 19,
    "start_time": "2022-02-14T14:03:23.686Z"
   },
   {
    "duration": 22,
    "start_time": "2022-02-14T14:03:23.708Z"
   },
   {
    "duration": 16,
    "start_time": "2022-02-14T14:03:23.760Z"
   },
   {
    "duration": 7053,
    "start_time": "2022-02-14T14:03:23.779Z"
   },
   {
    "duration": 1098,
    "start_time": "2022-02-14T14:03:30.836Z"
   },
   {
    "duration": 641,
    "start_time": "2022-02-14T14:05:13.609Z"
   },
   {
    "duration": 2079,
    "start_time": "2022-02-14T14:05:37.708Z"
   },
   {
    "duration": 431,
    "start_time": "2022-02-14T14:05:39.790Z"
   },
   {
    "duration": 17,
    "start_time": "2022-02-14T14:05:40.224Z"
   },
   {
    "duration": 22,
    "start_time": "2022-02-14T14:05:40.244Z"
   },
   {
    "duration": 12,
    "start_time": "2022-02-14T14:05:40.268Z"
   },
   {
    "duration": 14,
    "start_time": "2022-02-14T14:05:40.282Z"
   },
   {
    "duration": 12,
    "start_time": "2022-02-14T14:05:40.298Z"
   },
   {
    "duration": 6094,
    "start_time": "2022-02-14T14:05:40.314Z"
   },
   {
    "duration": 1267,
    "start_time": "2022-02-14T14:05:46.411Z"
   },
   {
    "duration": 411,
    "start_time": "2022-02-14T14:06:05.726Z"
   },
   {
    "duration": 554,
    "start_time": "2022-02-14T14:06:16.673Z"
   },
   {
    "duration": 2085,
    "start_time": "2022-02-14T14:06:22.403Z"
   },
   {
    "duration": 545,
    "start_time": "2022-02-14T14:06:24.492Z"
   },
   {
    "duration": 28,
    "start_time": "2022-02-14T14:06:25.041Z"
   },
   {
    "duration": 15,
    "start_time": "2022-02-14T14:06:25.072Z"
   },
   {
    "duration": 18,
    "start_time": "2022-02-14T14:06:25.090Z"
   },
   {
    "duration": 53,
    "start_time": "2022-02-14T14:06:25.112Z"
   },
   {
    "duration": 14,
    "start_time": "2022-02-14T14:06:25.168Z"
   },
   {
    "duration": 6286,
    "start_time": "2022-02-14T14:06:25.185Z"
   },
   {
    "duration": 1018,
    "start_time": "2022-02-14T14:06:31.477Z"
   },
   {
    "duration": 412,
    "start_time": "2022-02-14T14:06:57.167Z"
   },
   {
    "duration": 1804,
    "start_time": "2022-02-14T14:07:04.749Z"
   },
   {
    "duration": 555,
    "start_time": "2022-02-14T14:07:06.557Z"
   },
   {
    "duration": 21,
    "start_time": "2022-02-14T14:07:07.117Z"
   },
   {
    "duration": 15,
    "start_time": "2022-02-14T14:07:07.158Z"
   },
   {
    "duration": 17,
    "start_time": "2022-02-14T14:07:07.176Z"
   },
   {
    "duration": 18,
    "start_time": "2022-02-14T14:07:07.196Z"
   },
   {
    "duration": 44,
    "start_time": "2022-02-14T14:07:07.216Z"
   },
   {
    "duration": 6070,
    "start_time": "2022-02-14T14:07:07.263Z"
   },
   {
    "duration": 424,
    "start_time": "2022-02-14T14:07:35.669Z"
   },
   {
    "duration": 1952,
    "start_time": "2022-02-14T14:11:02.447Z"
   },
   {
    "duration": 412,
    "start_time": "2022-02-14T14:11:04.401Z"
   },
   {
    "duration": 15,
    "start_time": "2022-02-14T14:11:04.816Z"
   },
   {
    "duration": 27,
    "start_time": "2022-02-14T14:11:04.834Z"
   },
   {
    "duration": 13,
    "start_time": "2022-02-14T14:11:04.863Z"
   },
   {
    "duration": 15,
    "start_time": "2022-02-14T14:11:04.878Z"
   },
   {
    "duration": 13,
    "start_time": "2022-02-14T14:11:04.895Z"
   },
   {
    "duration": 6084,
    "start_time": "2022-02-14T14:11:04.910Z"
   },
   {
    "duration": 508,
    "start_time": "2022-02-14T14:11:38.834Z"
   },
   {
    "duration": 1814,
    "start_time": "2022-02-14T14:11:55.593Z"
   },
   {
    "duration": 415,
    "start_time": "2022-02-14T14:11:57.409Z"
   },
   {
    "duration": 19,
    "start_time": "2022-02-14T14:11:57.827Z"
   },
   {
    "duration": 12,
    "start_time": "2022-02-14T14:11:57.861Z"
   },
   {
    "duration": 14,
    "start_time": "2022-02-14T14:11:57.877Z"
   },
   {
    "duration": 25,
    "start_time": "2022-02-14T14:11:57.894Z"
   },
   {
    "duration": 41,
    "start_time": "2022-02-14T14:11:57.924Z"
   },
   {
    "duration": 6162,
    "start_time": "2022-02-14T14:11:57.968Z"
   },
   {
    "duration": 421,
    "start_time": "2022-02-14T14:13:30.508Z"
   },
   {
    "duration": 974,
    "start_time": "2022-02-14T14:13:47.868Z"
   },
   {
    "duration": 343,
    "start_time": "2022-02-14T14:14:00.129Z"
   },
   {
    "duration": 1777,
    "start_time": "2022-02-14T14:14:07.299Z"
   },
   {
    "duration": 393,
    "start_time": "2022-02-14T14:14:09.078Z"
   },
   {
    "duration": 14,
    "start_time": "2022-02-14T14:14:09.474Z"
   },
   {
    "duration": 11,
    "start_time": "2022-02-14T14:14:09.491Z"
   },
   {
    "duration": 13,
    "start_time": "2022-02-14T14:14:09.504Z"
   },
   {
    "duration": 47,
    "start_time": "2022-02-14T14:14:09.519Z"
   },
   {
    "duration": 12,
    "start_time": "2022-02-14T14:14:09.568Z"
   },
   {
    "duration": 5992,
    "start_time": "2022-02-14T14:14:09.584Z"
   },
   {
    "duration": 414,
    "start_time": "2022-02-14T14:16:35.868Z"
   },
   {
    "duration": 1732,
    "start_time": "2022-02-14T14:16:43.549Z"
   },
   {
    "duration": 392,
    "start_time": "2022-02-14T14:16:45.284Z"
   },
   {
    "duration": 14,
    "start_time": "2022-02-14T14:16:45.679Z"
   },
   {
    "duration": 21,
    "start_time": "2022-02-14T14:16:45.696Z"
   },
   {
    "duration": 13,
    "start_time": "2022-02-14T14:16:45.720Z"
   },
   {
    "duration": 35,
    "start_time": "2022-02-14T14:16:45.736Z"
   },
   {
    "duration": 12,
    "start_time": "2022-02-14T14:16:45.773Z"
   },
   {
    "duration": 6019,
    "start_time": "2022-02-14T14:16:45.787Z"
   },
   {
    "duration": 112,
    "start_time": "2022-02-14T14:20:37.625Z"
   },
   {
    "duration": 95,
    "start_time": "2022-02-14T14:20:45.805Z"
   },
   {
    "duration": 109,
    "start_time": "2022-02-14T14:20:59.549Z"
   },
   {
    "duration": 128,
    "start_time": "2022-02-14T14:21:05.187Z"
   },
   {
    "duration": 599,
    "start_time": "2022-02-14T14:21:28.083Z"
   },
   {
    "duration": 111,
    "start_time": "2022-02-14T14:21:45.733Z"
   },
   {
    "duration": 177,
    "start_time": "2022-02-14T14:22:39.368Z"
   },
   {
    "duration": 256,
    "start_time": "2022-02-14T14:23:30.744Z"
   },
   {
    "duration": 4,
    "start_time": "2022-02-14T15:08:17.099Z"
   },
   {
    "duration": 356,
    "start_time": "2022-02-14T15:08:17.109Z"
   },
   {
    "duration": 9,
    "start_time": "2022-02-14T15:08:17.468Z"
   },
   {
    "duration": 12,
    "start_time": "2022-02-14T15:08:17.480Z"
   },
   {
    "duration": 12,
    "start_time": "2022-02-14T15:08:17.495Z"
   },
   {
    "duration": 52,
    "start_time": "2022-02-14T15:08:17.509Z"
   },
   {
    "duration": 12,
    "start_time": "2022-02-14T15:08:17.564Z"
   },
   {
    "duration": 255,
    "start_time": "2022-02-14T15:08:17.579Z"
   },
   {
    "duration": 8,
    "start_time": "2022-02-14T15:10:56.035Z"
   },
   {
    "duration": 8,
    "start_time": "2022-02-14T15:12:13.575Z"
   },
   {
    "duration": 378,
    "start_time": "2022-02-14T15:12:23.530Z"
   },
   {
    "duration": 7,
    "start_time": "2022-02-14T15:12:35.916Z"
   },
   {
    "duration": 476,
    "start_time": "2022-02-14T15:30:16.037Z"
   },
   {
    "duration": 560,
    "start_time": "2022-02-14T15:30:30.058Z"
   },
   {
    "duration": 6,
    "start_time": "2022-02-14T15:32:30.738Z"
   },
   {
    "duration": 8,
    "start_time": "2022-02-14T15:36:38.399Z"
   },
   {
    "duration": 6,
    "start_time": "2022-02-14T15:36:44.667Z"
   },
   {
    "duration": 16,
    "start_time": "2022-02-14T15:37:17.381Z"
   },
   {
    "duration": 61,
    "start_time": "2022-02-14T15:37:24.521Z"
   },
   {
    "duration": 2969,
    "start_time": "2022-02-14T15:55:11.603Z"
   },
   {
    "duration": 2583,
    "start_time": "2022-02-14T15:56:53.500Z"
   },
   {
    "duration": 477,
    "start_time": "2022-02-14T16:20:56.028Z"
   },
   {
    "duration": 356,
    "start_time": "2022-02-14T16:30:44.955Z"
   },
   {
    "duration": 6,
    "start_time": "2022-02-14T16:31:11.116Z"
   },
   {
    "duration": 475,
    "start_time": "2022-02-14T16:31:11.126Z"
   },
   {
    "duration": 14,
    "start_time": "2022-02-14T16:31:11.606Z"
   },
   {
    "duration": 37,
    "start_time": "2022-02-14T16:31:11.624Z"
   },
   {
    "duration": 18,
    "start_time": "2022-02-14T16:31:11.665Z"
   },
   {
    "duration": 28,
    "start_time": "2022-02-14T16:31:11.687Z"
   },
   {
    "duration": 42,
    "start_time": "2022-02-14T16:31:11.719Z"
   },
   {
    "duration": 352,
    "start_time": "2022-02-14T16:31:11.767Z"
   },
   {
    "duration": 66,
    "start_time": "2022-02-14T16:31:12.122Z"
   },
   {
    "duration": 351,
    "start_time": "2022-02-14T16:31:12.191Z"
   },
   {
    "duration": 395,
    "start_time": "2022-02-14T16:31:46.496Z"
   },
   {
    "duration": 2823,
    "start_time": "2022-02-14T16:33:14.925Z"
   },
   {
    "duration": 2764,
    "start_time": "2022-02-14T16:33:56.602Z"
   },
   {
    "duration": 11,
    "start_time": "2022-02-14T16:38:03.362Z"
   },
   {
    "duration": 1109,
    "start_time": "2022-02-14T16:44:45.939Z"
   },
   {
    "duration": 25,
    "start_time": "2022-02-14T16:45:20.961Z"
   },
   {
    "duration": 62,
    "start_time": "2022-02-14T16:46:40.340Z"
   },
   {
    "duration": 53,
    "start_time": "2022-02-14T16:47:53.487Z"
   },
   {
    "duration": 62,
    "start_time": "2022-02-14T16:48:10.865Z"
   },
   {
    "duration": 42,
    "start_time": "2022-02-14T16:48:43.076Z"
   },
   {
    "duration": 24,
    "start_time": "2022-02-14T16:48:57.539Z"
   },
   {
    "duration": 44,
    "start_time": "2022-02-14T16:49:13.107Z"
   },
   {
    "duration": 384,
    "start_time": "2022-02-15T15:04:45.826Z"
   },
   {
    "duration": 1736,
    "start_time": "2022-02-15T15:04:52.239Z"
   },
   {
    "duration": 335,
    "start_time": "2022-02-15T15:04:53.979Z"
   },
   {
    "duration": 15,
    "start_time": "2022-02-15T15:04:54.317Z"
   },
   {
    "duration": 20,
    "start_time": "2022-02-15T15:04:54.334Z"
   },
   {
    "duration": 14,
    "start_time": "2022-02-15T15:04:54.356Z"
   },
   {
    "duration": 17,
    "start_time": "2022-02-15T15:04:54.372Z"
   },
   {
    "duration": 14,
    "start_time": "2022-02-15T15:04:54.391Z"
   },
   {
    "duration": 268,
    "start_time": "2022-02-15T15:04:54.449Z"
   },
   {
    "duration": 46,
    "start_time": "2022-02-15T15:04:54.719Z"
   },
   {
    "duration": 36,
    "start_time": "2022-02-15T15:04:54.768Z"
   },
   {
    "duration": 432,
    "start_time": "2022-02-15T15:04:54.806Z"
   },
   {
    "duration": -2006,
    "start_time": "2022-02-15T15:04:57.247Z"
   },
   {
    "duration": 47,
    "start_time": "2022-02-15T15:06:39.526Z"
   },
   {
    "duration": 51,
    "start_time": "2022-02-15T15:10:24.446Z"
   },
   {
    "duration": 11,
    "start_time": "2022-02-15T15:11:25.826Z"
   },
   {
    "duration": 17,
    "start_time": "2022-02-15T15:12:09.316Z"
   },
   {
    "duration": 10,
    "start_time": "2022-02-15T15:12:21.217Z"
   },
   {
    "duration": 15,
    "start_time": "2022-02-15T15:17:16.450Z"
   },
   {
    "duration": 20,
    "start_time": "2022-02-15T15:17:41.400Z"
   },
   {
    "duration": 15,
    "start_time": "2022-02-15T15:17:51.038Z"
   },
   {
    "duration": 5,
    "start_time": "2022-02-15T15:21:44.003Z"
   },
   {
    "duration": 5,
    "start_time": "2022-02-15T15:23:08.516Z"
   },
   {
    "duration": 322,
    "start_time": "2022-02-15T15:36:12.127Z"
   },
   {
    "duration": 509,
    "start_time": "2022-02-15T15:36:22.670Z"
   },
   {
    "duration": 417,
    "start_time": "2022-02-15T15:37:38.157Z"
   },
   {
    "duration": 523,
    "start_time": "2022-02-15T15:38:11.232Z"
   },
   {
    "duration": 345,
    "start_time": "2022-02-15T15:43:15.127Z"
   },
   {
    "duration": 13,
    "start_time": "2022-02-15T15:43:23.330Z"
   },
   {
    "duration": 36,
    "start_time": "2022-02-15T15:44:41.372Z"
   },
   {
    "duration": 25,
    "start_time": "2022-02-15T15:45:28.080Z"
   },
   {
    "duration": 11,
    "start_time": "2022-02-15T15:47:50.266Z"
   },
   {
    "duration": 160,
    "start_time": "2022-02-15T15:51:20.060Z"
   },
   {
    "duration": 17,
    "start_time": "2022-02-15T15:51:33.500Z"
   },
   {
    "duration": 13,
    "start_time": "2022-02-15T15:53:16.339Z"
   },
   {
    "duration": 13,
    "start_time": "2022-02-15T15:54:32.520Z"
   },
   {
    "duration": 12,
    "start_time": "2022-02-15T15:59:01.619Z"
   },
   {
    "duration": 11,
    "start_time": "2022-02-15T15:59:38.932Z"
   },
   {
    "duration": 378,
    "start_time": "2022-02-15T16:04:46.405Z"
   },
   {
    "duration": 6254,
    "start_time": "2022-02-15T16:05:43.011Z"
   },
   {
    "duration": 6162,
    "start_time": "2022-02-15T16:06:57.638Z"
   },
   {
    "duration": 739,
    "start_time": "2022-02-15T16:19:12.031Z"
   },
   {
    "duration": 529,
    "start_time": "2022-02-15T16:19:56.409Z"
   },
   {
    "duration": 424,
    "start_time": "2022-02-15T16:21:13.775Z"
   },
   {
    "duration": 498,
    "start_time": "2022-02-15T16:21:56.502Z"
   },
   {
    "duration": 1045,
    "start_time": "2022-02-15T16:22:21.697Z"
   },
   {
    "duration": 739,
    "start_time": "2022-02-15T16:22:51.060Z"
   },
   {
    "duration": 492,
    "start_time": "2022-02-15T16:23:04.376Z"
   },
   {
    "duration": 489,
    "start_time": "2022-02-15T16:23:49.810Z"
   },
   {
    "duration": 606,
    "start_time": "2022-02-15T16:23:58.065Z"
   },
   {
    "duration": 819,
    "start_time": "2022-02-15T16:27:05.870Z"
   },
   {
    "duration": 909,
    "start_time": "2022-02-15T16:27:15.291Z"
   },
   {
    "duration": 495,
    "start_time": "2022-02-15T16:28:41.289Z"
   },
   {
    "duration": 481,
    "start_time": "2022-02-15T16:28:48.930Z"
   },
   {
    "duration": 587,
    "start_time": "2022-02-15T16:29:00.625Z"
   },
   {
    "duration": 845,
    "start_time": "2022-02-15T16:34:52.134Z"
   },
   {
    "duration": 602,
    "start_time": "2022-02-15T16:35:35.748Z"
   },
   {
    "duration": 925,
    "start_time": "2022-02-15T16:35:46.384Z"
   },
   {
    "duration": 289,
    "start_time": "2022-02-15T16:40:01.356Z"
   },
   {
    "duration": 472,
    "start_time": "2022-02-15T16:44:59.038Z"
   },
   {
    "duration": 495,
    "start_time": "2022-02-15T16:45:20.638Z"
   },
   {
    "duration": 530,
    "start_time": "2022-02-15T16:48:26.863Z"
   },
   {
    "duration": 517,
    "start_time": "2022-02-15T16:49:21.257Z"
   },
   {
    "duration": 584,
    "start_time": "2022-02-15T16:51:34.192Z"
   },
   {
    "duration": 562,
    "start_time": "2022-02-15T16:56:43.029Z"
   },
   {
    "duration": 282,
    "start_time": "2022-02-15T16:59:41.344Z"
   },
   {
    "duration": 17,
    "start_time": "2022-02-15T17:00:17.332Z"
   },
   {
    "duration": 321,
    "start_time": "2022-02-15T17:00:54.872Z"
   },
   {
    "duration": 301,
    "start_time": "2022-02-15T17:03:27.366Z"
   },
   {
    "duration": 321,
    "start_time": "2022-02-15T17:03:37.999Z"
   },
   {
    "duration": 5,
    "start_time": "2022-02-15T17:03:57.914Z"
   },
   {
    "duration": 287,
    "start_time": "2022-02-15T17:04:24.637Z"
   },
   {
    "duration": 548,
    "start_time": "2022-02-15T17:06:04.176Z"
   },
   {
    "duration": 314,
    "start_time": "2022-02-15T17:07:56.908Z"
   },
   {
    "duration": 295,
    "start_time": "2022-02-15T17:08:06.335Z"
   },
   {
    "duration": 556,
    "start_time": "2022-02-15T17:09:19.427Z"
   },
   {
    "duration": 406,
    "start_time": "2022-02-15T17:09:32.209Z"
   },
   {
    "duration": 291,
    "start_time": "2022-02-15T17:09:38.032Z"
   },
   {
    "duration": 5,
    "start_time": "2022-02-15T17:13:20.553Z"
   },
   {
    "duration": 325,
    "start_time": "2022-02-15T17:13:20.560Z"
   },
   {
    "duration": 11,
    "start_time": "2022-02-15T17:13:20.889Z"
   },
   {
    "duration": 15,
    "start_time": "2022-02-15T17:13:20.904Z"
   },
   {
    "duration": 15,
    "start_time": "2022-02-15T17:13:20.950Z"
   },
   {
    "duration": 17,
    "start_time": "2022-02-15T17:13:20.968Z"
   },
   {
    "duration": 14,
    "start_time": "2022-02-15T17:13:20.988Z"
   },
   {
    "duration": 272,
    "start_time": "2022-02-15T17:13:21.006Z"
   },
   {
    "duration": 41,
    "start_time": "2022-02-15T17:13:21.282Z"
   },
   {
    "duration": 58,
    "start_time": "2022-02-15T17:13:21.326Z"
   },
   {
    "duration": 40,
    "start_time": "2022-02-15T17:13:21.387Z"
   },
   {
    "duration": 64,
    "start_time": "2022-02-15T17:13:21.429Z"
   },
   {
    "duration": 11,
    "start_time": "2022-02-15T17:13:21.496Z"
   },
   {
    "duration": 53,
    "start_time": "2022-02-15T17:13:21.510Z"
   },
   {
    "duration": 11,
    "start_time": "2022-02-15T17:13:21.566Z"
   },
   {
    "duration": 12,
    "start_time": "2022-02-15T17:13:21.580Z"
   },
   {
    "duration": 15,
    "start_time": "2022-02-15T17:13:21.595Z"
   },
   {
    "duration": 46,
    "start_time": "2022-02-15T17:13:21.613Z"
   },
   {
    "duration": 11,
    "start_time": "2022-02-15T17:13:21.662Z"
   },
   {
    "duration": 5,
    "start_time": "2022-02-15T17:13:21.676Z"
   },
   {
    "duration": 499,
    "start_time": "2022-02-15T17:13:29.877Z"
   },
   {
    "duration": 301,
    "start_time": "2022-02-15T17:15:12.900Z"
   },
   {
    "duration": 302,
    "start_time": "2022-02-15T17:15:26.370Z"
   },
   {
    "duration": 24,
    "start_time": "2022-02-15T17:16:12.096Z"
   },
   {
    "duration": 294,
    "start_time": "2022-02-15T17:16:54.661Z"
   },
   {
    "duration": 294,
    "start_time": "2022-02-15T17:24:27.208Z"
   },
   {
    "duration": 2012,
    "start_time": "2022-02-15T17:24:41.103Z"
   },
   {
    "duration": 344,
    "start_time": "2022-02-15T17:25:43.251Z"
   },
   {
    "duration": 7349,
    "start_time": "2022-02-15T17:26:28.065Z"
   },
   {
    "duration": 299,
    "start_time": "2022-02-15T17:26:57.386Z"
   },
   {
    "duration": 288,
    "start_time": "2022-02-15T17:27:47.963Z"
   },
   {
    "duration": 300,
    "start_time": "2022-02-15T17:28:14.850Z"
   },
   {
    "duration": 282,
    "start_time": "2022-02-15T17:29:33.793Z"
   },
   {
    "duration": 285,
    "start_time": "2022-02-15T17:30:25.793Z"
   },
   {
    "duration": 20,
    "start_time": "2022-02-15T17:30:47.097Z"
   },
   {
    "duration": 292,
    "start_time": "2022-02-15T17:31:07.537Z"
   },
   {
    "duration": 308,
    "start_time": "2022-02-15T17:31:17.738Z"
   },
   {
    "duration": 474,
    "start_time": "2022-02-15T17:31:23.917Z"
   },
   {
    "duration": 301,
    "start_time": "2022-02-15T17:33:41.374Z"
   },
   {
    "duration": 295,
    "start_time": "2022-02-15T18:17:03.222Z"
   },
   {
    "duration": 5,
    "start_time": "2022-02-15T18:17:09.763Z"
   },
   {
    "duration": 307,
    "start_time": "2022-02-15T18:17:09.770Z"
   },
   {
    "duration": 10,
    "start_time": "2022-02-15T18:17:10.080Z"
   },
   {
    "duration": 14,
    "start_time": "2022-02-15T18:17:10.092Z"
   },
   {
    "duration": 13,
    "start_time": "2022-02-15T18:17:10.109Z"
   },
   {
    "duration": 37,
    "start_time": "2022-02-15T18:17:10.124Z"
   },
   {
    "duration": 15,
    "start_time": "2022-02-15T18:17:10.163Z"
   },
   {
    "duration": 258,
    "start_time": "2022-02-15T18:17:10.182Z"
   },
   {
    "duration": 36,
    "start_time": "2022-02-15T18:17:10.448Z"
   },
   {
    "duration": 33,
    "start_time": "2022-02-15T18:17:10.487Z"
   },
   {
    "duration": 40,
    "start_time": "2022-02-15T18:17:10.549Z"
   },
   {
    "duration": 73,
    "start_time": "2022-02-15T18:17:10.593Z"
   },
   {
    "duration": 11,
    "start_time": "2022-02-15T18:17:10.669Z"
   },
   {
    "duration": 20,
    "start_time": "2022-02-15T18:17:10.682Z"
   },
   {
    "duration": 10,
    "start_time": "2022-02-15T18:17:10.704Z"
   },
   {
    "duration": 34,
    "start_time": "2022-02-15T18:17:10.716Z"
   },
   {
    "duration": 13,
    "start_time": "2022-02-15T18:17:10.752Z"
   },
   {
    "duration": 15,
    "start_time": "2022-02-15T18:17:10.767Z"
   },
   {
    "duration": 10,
    "start_time": "2022-02-15T18:17:10.784Z"
   },
   {
    "duration": 4,
    "start_time": "2022-02-15T18:17:10.796Z"
   },
   {
    "duration": 186,
    "start_time": "2022-02-15T18:17:10.802Z"
   },
   {
    "duration": -1896,
    "start_time": "2022-02-15T18:17:12.887Z"
   },
   {
    "duration": -2183,
    "start_time": "2022-02-15T18:17:13.175Z"
   },
   {
    "duration": 309,
    "start_time": "2022-02-15T18:17:24.623Z"
   },
   {
    "duration": 302,
    "start_time": "2022-02-15T18:17:54.700Z"
   },
   {
    "duration": 99,
    "start_time": "2022-02-15T18:18:51.566Z"
   },
   {
    "duration": 2226,
    "start_time": "2022-02-15T18:18:58.859Z"
   },
   {
    "duration": 2523,
    "start_time": "2022-02-15T18:19:14.146Z"
   },
   {
    "duration": 5,
    "start_time": "2022-02-15T18:21:41.219Z"
   },
   {
    "duration": 296,
    "start_time": "2022-02-15T18:21:54.138Z"
   },
   {
    "duration": 3052,
    "start_time": "2022-02-15T18:23:38.904Z"
   },
   {
    "duration": 2101,
    "start_time": "2022-02-15T18:24:20.513Z"
   },
   {
    "duration": 2932,
    "start_time": "2022-02-15T18:24:44.042Z"
   },
   {
    "duration": 576,
    "start_time": "2022-02-15T18:27:32.363Z"
   },
   {
    "duration": 7766,
    "start_time": "2022-02-15T18:28:45.564Z"
   },
   {
    "duration": 909,
    "start_time": "2022-02-15T18:29:27.244Z"
   },
   {
    "duration": 1699,
    "start_time": "2022-02-15T18:30:29.292Z"
   },
   {
    "duration": 941,
    "start_time": "2022-02-15T18:30:59.454Z"
   },
   {
    "duration": 21,
    "start_time": "2022-02-15T18:35:54.122Z"
   },
   {
    "duration": 918,
    "start_time": "2022-02-15T18:37:42.636Z"
   },
   {
    "duration": 953,
    "start_time": "2022-02-15T18:38:11.128Z"
   },
   {
    "duration": 69,
    "start_time": "2022-02-15T18:38:22.676Z"
   },
   {
    "duration": 695,
    "start_time": "2022-02-15T18:43:16.168Z"
   },
   {
    "duration": 303,
    "start_time": "2022-02-16T13:14:22.717Z"
   },
   {
    "duration": 1548,
    "start_time": "2022-02-16T13:14:29.979Z"
   },
   {
    "duration": 298,
    "start_time": "2022-02-16T13:14:31.530Z"
   },
   {
    "duration": 12,
    "start_time": "2022-02-16T13:14:31.830Z"
   },
   {
    "duration": 15,
    "start_time": "2022-02-16T13:14:31.844Z"
   },
   {
    "duration": 21,
    "start_time": "2022-02-16T13:14:31.861Z"
   },
   {
    "duration": 31,
    "start_time": "2022-02-16T13:14:31.884Z"
   },
   {
    "duration": 21,
    "start_time": "2022-02-16T13:14:31.917Z"
   },
   {
    "duration": 243,
    "start_time": "2022-02-16T13:14:31.942Z"
   },
   {
    "duration": 35,
    "start_time": "2022-02-16T13:14:32.187Z"
   },
   {
    "duration": 34,
    "start_time": "2022-02-16T13:14:32.224Z"
   },
   {
    "duration": 52,
    "start_time": "2022-02-16T13:14:32.261Z"
   },
   {
    "duration": 38,
    "start_time": "2022-02-16T13:14:32.315Z"
   },
   {
    "duration": 8,
    "start_time": "2022-02-16T13:14:32.354Z"
   },
   {
    "duration": 17,
    "start_time": "2022-02-16T13:14:32.364Z"
   },
   {
    "duration": 30,
    "start_time": "2022-02-16T13:14:32.383Z"
   },
   {
    "duration": 6,
    "start_time": "2022-02-16T13:14:32.415Z"
   },
   {
    "duration": 17,
    "start_time": "2022-02-16T13:14:32.423Z"
   },
   {
    "duration": 17,
    "start_time": "2022-02-16T13:14:32.441Z"
   },
   {
    "duration": 10,
    "start_time": "2022-02-16T13:14:32.460Z"
   },
   {
    "duration": 10,
    "start_time": "2022-02-16T13:14:32.472Z"
   },
   {
    "duration": 783,
    "start_time": "2022-02-16T13:14:32.484Z"
   },
   {
    "duration": 60,
    "start_time": "2022-02-16T13:14:33.269Z"
   },
   {
    "duration": 450,
    "start_time": "2022-02-16T13:14:33.332Z"
   },
   {
    "duration": 584,
    "start_time": "2022-02-16T13:14:33.784Z"
   },
   {
    "duration": 79,
    "start_time": "2022-02-16T13:14:34.370Z"
   },
   {
    "duration": 422,
    "start_time": "2022-02-16T13:15:49.347Z"
   },
   {
    "duration": 546,
    "start_time": "2022-02-16T13:18:11.627Z"
   },
   {
    "duration": 479,
    "start_time": "2022-02-16T13:18:40.238Z"
   },
   {
    "duration": 941,
    "start_time": "2022-02-16T13:19:31.116Z"
   },
   {
    "duration": 61,
    "start_time": "2022-02-16T13:19:57.437Z"
   },
   {
    "duration": 480,
    "start_time": "2022-02-16T13:20:20.915Z"
   },
   {
    "duration": 290,
    "start_time": "2022-02-16T13:25:15.365Z"
   },
   {
    "duration": 96,
    "start_time": "2022-02-16T13:25:21.623Z"
   },
   {
    "duration": 286,
    "start_time": "2022-02-16T14:00:52.061Z"
   },
   {
    "duration": 239,
    "start_time": "2022-02-16T14:01:32.095Z"
   },
   {
    "duration": 1407,
    "start_time": "2022-02-16T14:07:56.565Z"
   },
   {
    "duration": 294,
    "start_time": "2022-02-16T14:07:57.974Z"
   },
   {
    "duration": 12,
    "start_time": "2022-02-16T14:07:58.270Z"
   },
   {
    "duration": 29,
    "start_time": "2022-02-16T14:07:58.284Z"
   },
   {
    "duration": 30,
    "start_time": "2022-02-16T14:07:58.315Z"
   },
   {
    "duration": 23,
    "start_time": "2022-02-16T14:07:58.347Z"
   },
   {
    "duration": 20,
    "start_time": "2022-02-16T14:07:58.372Z"
   },
   {
    "duration": 232,
    "start_time": "2022-02-16T14:07:58.395Z"
   },
   {
    "duration": 25,
    "start_time": "2022-02-16T14:07:58.630Z"
   },
   {
    "duration": 51,
    "start_time": "2022-02-16T14:07:58.657Z"
   },
   {
    "duration": 29,
    "start_time": "2022-02-16T14:07:58.711Z"
   },
   {
    "duration": 40,
    "start_time": "2022-02-16T14:07:58.742Z"
   },
   {
    "duration": 25,
    "start_time": "2022-02-16T14:07:58.784Z"
   },
   {
    "duration": 19,
    "start_time": "2022-02-16T14:07:58.811Z"
   },
   {
    "duration": 7,
    "start_time": "2022-02-16T14:07:58.832Z"
   },
   {
    "duration": 9,
    "start_time": "2022-02-16T14:07:58.841Z"
   },
   {
    "duration": 17,
    "start_time": "2022-02-16T14:07:58.852Z"
   },
   {
    "duration": 40,
    "start_time": "2022-02-16T14:07:58.871Z"
   },
   {
    "duration": 10,
    "start_time": "2022-02-16T14:07:58.913Z"
   },
   {
    "duration": 10,
    "start_time": "2022-02-16T14:07:58.925Z"
   },
   {
    "duration": 355,
    "start_time": "2022-02-16T14:08:15.514Z"
   },
   {
    "duration": 1430,
    "start_time": "2022-02-16T14:08:20.650Z"
   },
   {
    "duration": 291,
    "start_time": "2022-02-16T14:08:22.083Z"
   },
   {
    "duration": 13,
    "start_time": "2022-02-16T14:08:22.377Z"
   },
   {
    "duration": 19,
    "start_time": "2022-02-16T14:08:22.393Z"
   },
   {
    "duration": 16,
    "start_time": "2022-02-16T14:08:22.414Z"
   },
   {
    "duration": 15,
    "start_time": "2022-02-16T14:08:22.432Z"
   },
   {
    "duration": 13,
    "start_time": "2022-02-16T14:08:22.449Z"
   },
   {
    "duration": 236,
    "start_time": "2022-02-16T14:08:22.465Z"
   },
   {
    "duration": 27,
    "start_time": "2022-02-16T14:08:22.707Z"
   },
   {
    "duration": 30,
    "start_time": "2022-02-16T14:08:22.736Z"
   },
   {
    "duration": 53,
    "start_time": "2022-02-16T14:08:22.768Z"
   },
   {
    "duration": 35,
    "start_time": "2022-02-16T14:08:22.823Z"
   },
   {
    "duration": 8,
    "start_time": "2022-02-16T14:08:22.860Z"
   },
   {
    "duration": 38,
    "start_time": "2022-02-16T14:08:22.870Z"
   },
   {
    "duration": 8,
    "start_time": "2022-02-16T14:08:22.910Z"
   },
   {
    "duration": 12,
    "start_time": "2022-02-16T14:08:22.919Z"
   },
   {
    "duration": 21,
    "start_time": "2022-02-16T14:08:22.934Z"
   },
   {
    "duration": 12,
    "start_time": "2022-02-16T14:08:22.957Z"
   },
   {
    "duration": 10,
    "start_time": "2022-02-16T14:08:22.971Z"
   },
   {
    "duration": 27,
    "start_time": "2022-02-16T14:08:22.982Z"
   },
   {
    "duration": 284,
    "start_time": "2022-02-16T14:08:34.538Z"
   },
   {
    "duration": 1551,
    "start_time": "2022-02-16T14:08:41.660Z"
   },
   {
    "duration": 280,
    "start_time": "2022-02-16T14:08:47.289Z"
   },
   {
    "duration": 276,
    "start_time": "2022-02-16T14:09:09.028Z"
   },
   {
    "duration": 338,
    "start_time": "2022-02-16T14:13:27.160Z"
   },
   {
    "duration": 1519,
    "start_time": "2022-02-16T14:13:30.620Z"
   },
   {
    "duration": 297,
    "start_time": "2022-02-16T14:13:32.141Z"
   },
   {
    "duration": 12,
    "start_time": "2022-02-16T14:13:32.440Z"
   },
   {
    "duration": 11,
    "start_time": "2022-02-16T14:13:32.455Z"
   },
   {
    "duration": 13,
    "start_time": "2022-02-16T14:13:32.468Z"
   },
   {
    "duration": 29,
    "start_time": "2022-02-16T14:13:32.483Z"
   },
   {
    "duration": 21,
    "start_time": "2022-02-16T14:13:32.514Z"
   },
   {
    "duration": 232,
    "start_time": "2022-02-16T14:13:32.538Z"
   },
   {
    "duration": 37,
    "start_time": "2022-02-16T14:13:32.772Z"
   },
   {
    "duration": 54,
    "start_time": "2022-02-16T14:13:32.810Z"
   },
   {
    "duration": 27,
    "start_time": "2022-02-16T14:13:32.866Z"
   },
   {
    "duration": 47,
    "start_time": "2022-02-16T14:13:32.895Z"
   },
   {
    "duration": 8,
    "start_time": "2022-02-16T14:13:32.944Z"
   },
   {
    "duration": 15,
    "start_time": "2022-02-16T14:13:32.954Z"
   },
   {
    "duration": 8,
    "start_time": "2022-02-16T14:13:32.971Z"
   },
   {
    "duration": 46,
    "start_time": "2022-02-16T14:13:32.981Z"
   },
   {
    "duration": 25,
    "start_time": "2022-02-16T14:13:33.029Z"
   },
   {
    "duration": 13,
    "start_time": "2022-02-16T14:13:33.056Z"
   },
   {
    "duration": 12,
    "start_time": "2022-02-16T14:13:33.070Z"
   },
   {
    "duration": 4,
    "start_time": "2022-02-16T14:13:33.083Z"
   },
   {
    "duration": 298,
    "start_time": "2022-02-16T14:14:58.457Z"
   },
   {
    "duration": 1425,
    "start_time": "2022-02-16T14:15:08.682Z"
   },
   {
    "duration": 282,
    "start_time": "2022-02-16T14:15:10.110Z"
   },
   {
    "duration": 16,
    "start_time": "2022-02-16T14:15:10.394Z"
   },
   {
    "duration": 13,
    "start_time": "2022-02-16T14:15:10.412Z"
   },
   {
    "duration": 19,
    "start_time": "2022-02-16T14:15:10.427Z"
   },
   {
    "duration": 18,
    "start_time": "2022-02-16T14:15:10.448Z"
   },
   {
    "duration": 14,
    "start_time": "2022-02-16T14:15:10.468Z"
   },
   {
    "duration": 226,
    "start_time": "2022-02-16T14:15:10.484Z"
   },
   {
    "duration": 28,
    "start_time": "2022-02-16T14:15:10.713Z"
   },
   {
    "duration": 33,
    "start_time": "2022-02-16T14:15:10.744Z"
   },
   {
    "duration": 54,
    "start_time": "2022-02-16T14:15:10.779Z"
   },
   {
    "duration": 35,
    "start_time": "2022-02-16T14:15:10.835Z"
   },
   {
    "duration": 35,
    "start_time": "2022-02-16T14:15:10.872Z"
   },
   {
    "duration": 19,
    "start_time": "2022-02-16T14:15:10.909Z"
   },
   {
    "duration": 39,
    "start_time": "2022-02-16T14:15:10.931Z"
   },
   {
    "duration": 5,
    "start_time": "2022-02-16T14:15:10.972Z"
   },
   {
    "duration": 11,
    "start_time": "2022-02-16T14:15:10.979Z"
   },
   {
    "duration": 14,
    "start_time": "2022-02-16T14:15:10.992Z"
   },
   {
    "duration": 10,
    "start_time": "2022-02-16T14:15:11.008Z"
   },
   {
    "duration": 5,
    "start_time": "2022-02-16T14:15:11.020Z"
   },
   {
    "duration": 323,
    "start_time": "2022-02-16T14:16:25.567Z"
   },
   {
    "duration": 1515,
    "start_time": "2022-02-16T14:16:42.217Z"
   },
   {
    "duration": 305,
    "start_time": "2022-02-16T14:16:58.540Z"
   },
   {
    "duration": 319,
    "start_time": "2022-02-16T14:17:55.606Z"
   },
   {
    "duration": 1487,
    "start_time": "2022-02-16T14:18:01.820Z"
   },
   {
    "duration": 305,
    "start_time": "2022-02-16T14:18:03.310Z"
   },
   {
    "duration": 13,
    "start_time": "2022-02-16T14:18:03.617Z"
   },
   {
    "duration": 20,
    "start_time": "2022-02-16T14:18:03.632Z"
   },
   {
    "duration": 20,
    "start_time": "2022-02-16T14:18:03.654Z"
   },
   {
    "duration": 23,
    "start_time": "2022-02-16T14:18:03.676Z"
   },
   {
    "duration": 19,
    "start_time": "2022-02-16T14:18:03.700Z"
   },
   {
    "duration": 237,
    "start_time": "2022-02-16T14:18:03.721Z"
   },
   {
    "duration": 28,
    "start_time": "2022-02-16T14:18:03.961Z"
   },
   {
    "duration": 51,
    "start_time": "2022-02-16T14:18:03.991Z"
   },
   {
    "duration": 30,
    "start_time": "2022-02-16T14:18:04.044Z"
   },
   {
    "duration": 53,
    "start_time": "2022-02-16T14:18:04.076Z"
   },
   {
    "duration": 10,
    "start_time": "2022-02-16T14:18:04.131Z"
   },
   {
    "duration": 33,
    "start_time": "2022-02-16T14:18:04.142Z"
   },
   {
    "duration": 18,
    "start_time": "2022-02-16T14:18:04.177Z"
   },
   {
    "duration": 17,
    "start_time": "2022-02-16T14:18:04.197Z"
   },
   {
    "duration": 23,
    "start_time": "2022-02-16T14:18:04.216Z"
   },
   {
    "duration": 20,
    "start_time": "2022-02-16T14:18:04.241Z"
   },
   {
    "duration": 18,
    "start_time": "2022-02-16T14:18:04.263Z"
   },
   {
    "duration": 11,
    "start_time": "2022-02-16T14:18:04.283Z"
   },
   {
    "duration": 1482,
    "start_time": "2022-02-16T14:21:28.195Z"
   },
   {
    "duration": 309,
    "start_time": "2022-02-16T14:21:29.679Z"
   },
   {
    "duration": 12,
    "start_time": "2022-02-16T14:21:29.991Z"
   },
   {
    "duration": 57,
    "start_time": "2022-02-16T14:21:30.007Z"
   },
   {
    "duration": 39,
    "start_time": "2022-02-16T14:21:30.065Z"
   },
   {
    "duration": 77,
    "start_time": "2022-02-16T14:21:30.105Z"
   },
   {
    "duration": 55,
    "start_time": "2022-02-16T14:21:30.184Z"
   },
   {
    "duration": 294,
    "start_time": "2022-02-16T14:21:30.241Z"
   },
   {
    "duration": 27,
    "start_time": "2022-02-16T14:21:30.538Z"
   },
   {
    "duration": 121,
    "start_time": "2022-02-16T14:21:30.568Z"
   },
   {
    "duration": 30,
    "start_time": "2022-02-16T14:21:30.691Z"
   },
   {
    "duration": 58,
    "start_time": "2022-02-16T14:21:30.723Z"
   },
   {
    "duration": 12,
    "start_time": "2022-02-16T14:21:30.783Z"
   },
   {
    "duration": 31,
    "start_time": "2022-02-16T14:21:30.797Z"
   },
   {
    "duration": 10,
    "start_time": "2022-02-16T14:21:30.831Z"
   },
   {
    "duration": 18,
    "start_time": "2022-02-16T14:21:30.843Z"
   },
   {
    "duration": 54,
    "start_time": "2022-02-16T14:21:30.863Z"
   },
   {
    "duration": 38,
    "start_time": "2022-02-16T14:21:30.919Z"
   },
   {
    "duration": 21,
    "start_time": "2022-02-16T14:21:30.960Z"
   },
   {
    "duration": 45,
    "start_time": "2022-02-16T14:21:30.983Z"
   },
   {
    "duration": 1502,
    "start_time": "2022-02-16T14:27:51.491Z"
   },
   {
    "duration": 284,
    "start_time": "2022-02-16T14:27:52.995Z"
   },
   {
    "duration": 12,
    "start_time": "2022-02-16T14:27:53.282Z"
   },
   {
    "duration": 16,
    "start_time": "2022-02-16T14:27:53.296Z"
   },
   {
    "duration": 14,
    "start_time": "2022-02-16T14:27:53.314Z"
   },
   {
    "duration": 13,
    "start_time": "2022-02-16T14:27:53.330Z"
   },
   {
    "duration": 12,
    "start_time": "2022-02-16T14:27:53.345Z"
   },
   {
    "duration": 248,
    "start_time": "2022-02-16T14:27:53.360Z"
   },
   {
    "duration": 27,
    "start_time": "2022-02-16T14:27:53.611Z"
   },
   {
    "duration": 35,
    "start_time": "2022-02-16T14:27:53.640Z"
   },
   {
    "duration": 49,
    "start_time": "2022-02-16T14:27:53.677Z"
   },
   {
    "duration": 37,
    "start_time": "2022-02-16T14:27:53.728Z"
   },
   {
    "duration": 9,
    "start_time": "2022-02-16T14:27:53.767Z"
   },
   {
    "duration": 35,
    "start_time": "2022-02-16T14:27:53.778Z"
   },
   {
    "duration": 9,
    "start_time": "2022-02-16T14:27:53.815Z"
   },
   {
    "duration": 10,
    "start_time": "2022-02-16T14:27:53.826Z"
   },
   {
    "duration": 17,
    "start_time": "2022-02-16T14:27:53.838Z"
   },
   {
    "duration": 17,
    "start_time": "2022-02-16T14:27:53.857Z"
   },
   {
    "duration": 34,
    "start_time": "2022-02-16T14:27:53.877Z"
   },
   {
    "duration": 5,
    "start_time": "2022-02-16T14:27:53.912Z"
   },
   {
    "duration": 1670,
    "start_time": "2022-02-16T14:32:11.848Z"
   },
   {
    "duration": 305,
    "start_time": "2022-02-16T14:32:13.521Z"
   },
   {
    "duration": 12,
    "start_time": "2022-02-16T14:32:13.828Z"
   },
   {
    "duration": 10,
    "start_time": "2022-02-16T14:32:13.843Z"
   },
   {
    "duration": 16,
    "start_time": "2022-02-16T14:32:13.855Z"
   },
   {
    "duration": 13,
    "start_time": "2022-02-16T14:32:13.873Z"
   },
   {
    "duration": 30,
    "start_time": "2022-02-16T14:32:13.888Z"
   },
   {
    "duration": 246,
    "start_time": "2022-02-16T14:32:13.922Z"
   },
   {
    "duration": 38,
    "start_time": "2022-02-16T14:32:14.170Z"
   },
   {
    "duration": 34,
    "start_time": "2022-02-16T14:32:14.211Z"
   },
   {
    "duration": 27,
    "start_time": "2022-02-16T14:32:14.247Z"
   },
   {
    "duration": 60,
    "start_time": "2022-02-16T14:32:14.275Z"
   },
   {
    "duration": 8,
    "start_time": "2022-02-16T14:32:14.337Z"
   },
   {
    "duration": 13,
    "start_time": "2022-02-16T14:32:14.347Z"
   },
   {
    "duration": 7,
    "start_time": "2022-02-16T14:32:14.363Z"
   },
   {
    "duration": 37,
    "start_time": "2022-02-16T14:32:14.372Z"
   },
   {
    "duration": 9,
    "start_time": "2022-02-16T14:32:14.411Z"
   },
   {
    "duration": 15,
    "start_time": "2022-02-16T14:32:14.422Z"
   },
   {
    "duration": 9,
    "start_time": "2022-02-16T14:32:14.439Z"
   },
   {
    "duration": 4,
    "start_time": "2022-02-16T14:32:14.450Z"
   },
   {
    "duration": 1451,
    "start_time": "2022-02-16T14:41:40.297Z"
   },
   {
    "duration": 288,
    "start_time": "2022-02-16T14:41:41.751Z"
   },
   {
    "duration": 12,
    "start_time": "2022-02-16T14:41:42.041Z"
   },
   {
    "duration": 16,
    "start_time": "2022-02-16T14:41:42.055Z"
   },
   {
    "duration": 16,
    "start_time": "2022-02-16T14:41:42.073Z"
   },
   {
    "duration": 25,
    "start_time": "2022-02-16T14:41:42.091Z"
   },
   {
    "duration": 13,
    "start_time": "2022-02-16T14:41:42.118Z"
   },
   {
    "duration": 231,
    "start_time": "2022-02-16T14:41:42.134Z"
   },
   {
    "duration": 40,
    "start_time": "2022-02-16T14:41:42.367Z"
   },
   {
    "duration": 54,
    "start_time": "2022-02-16T14:41:42.409Z"
   },
   {
    "duration": 32,
    "start_time": "2022-02-16T14:41:42.465Z"
   },
   {
    "duration": 41,
    "start_time": "2022-02-16T14:41:42.499Z"
   },
   {
    "duration": 8,
    "start_time": "2022-02-16T14:41:42.542Z"
   },
   {
    "duration": 13,
    "start_time": "2022-02-16T14:41:42.552Z"
   },
   {
    "duration": 8,
    "start_time": "2022-02-16T14:41:42.567Z"
   },
   {
    "duration": 4,
    "start_time": "2022-02-16T14:41:42.577Z"
   },
   {
    "duration": 16,
    "start_time": "2022-02-16T14:41:42.582Z"
   },
   {
    "duration": 17,
    "start_time": "2022-02-16T14:41:42.600Z"
   },
   {
    "duration": 10,
    "start_time": "2022-02-16T14:41:42.619Z"
   },
   {
    "duration": 4,
    "start_time": "2022-02-16T14:41:42.631Z"
   },
   {
    "duration": 1472,
    "start_time": "2022-02-16T14:59:06.006Z"
   },
   {
    "duration": 298,
    "start_time": "2022-02-16T14:59:07.480Z"
   },
   {
    "duration": 15,
    "start_time": "2022-02-16T14:59:07.780Z"
   },
   {
    "duration": 33,
    "start_time": "2022-02-16T14:59:07.797Z"
   },
   {
    "duration": 14,
    "start_time": "2022-02-16T14:59:07.832Z"
   },
   {
    "duration": 15,
    "start_time": "2022-02-16T14:59:07.848Z"
   },
   {
    "duration": 48,
    "start_time": "2022-02-16T14:59:07.865Z"
   },
   {
    "duration": 218,
    "start_time": "2022-02-16T14:59:07.916Z"
   },
   {
    "duration": 27,
    "start_time": "2022-02-16T14:59:08.136Z"
   },
   {
    "duration": 44,
    "start_time": "2022-02-16T14:59:08.165Z"
   },
   {
    "duration": 29,
    "start_time": "2022-02-16T14:59:08.211Z"
   },
   {
    "duration": 47,
    "start_time": "2022-02-16T14:59:08.241Z"
   },
   {
    "duration": 16,
    "start_time": "2022-02-16T14:59:08.290Z"
   },
   {
    "duration": 13,
    "start_time": "2022-02-16T14:59:08.308Z"
   },
   {
    "duration": 10,
    "start_time": "2022-02-16T14:59:08.323Z"
   },
   {
    "duration": 17,
    "start_time": "2022-02-16T14:59:08.336Z"
   },
   {
    "duration": 16,
    "start_time": "2022-02-16T14:59:08.355Z"
   },
   {
    "duration": 35,
    "start_time": "2022-02-16T14:59:08.373Z"
   },
   {
    "duration": 8,
    "start_time": "2022-02-16T14:59:08.410Z"
   },
   {
    "duration": 5,
    "start_time": "2022-02-16T14:59:08.420Z"
   },
   {
    "duration": 15,
    "start_time": "2022-02-16T14:59:08.427Z"
   },
   {
    "duration": 1465,
    "start_time": "2022-02-16T15:07:06.912Z"
   },
   {
    "duration": 285,
    "start_time": "2022-02-16T15:07:08.380Z"
   },
   {
    "duration": 16,
    "start_time": "2022-02-16T15:07:08.668Z"
   },
   {
    "duration": 30,
    "start_time": "2022-02-16T15:07:08.687Z"
   },
   {
    "duration": 14,
    "start_time": "2022-02-16T15:07:08.719Z"
   },
   {
    "duration": 15,
    "start_time": "2022-02-16T15:07:08.735Z"
   },
   {
    "duration": 23,
    "start_time": "2022-02-16T15:07:08.753Z"
   },
   {
    "duration": 260,
    "start_time": "2022-02-16T15:07:08.778Z"
   },
   {
    "duration": 30,
    "start_time": "2022-02-16T15:07:09.042Z"
   },
   {
    "duration": 48,
    "start_time": "2022-02-16T15:07:09.075Z"
   },
   {
    "duration": 37,
    "start_time": "2022-02-16T15:07:09.126Z"
   },
   {
    "duration": 50,
    "start_time": "2022-02-16T15:07:09.165Z"
   },
   {
    "duration": 8,
    "start_time": "2022-02-16T15:07:09.217Z"
   },
   {
    "duration": 22,
    "start_time": "2022-02-16T15:07:09.228Z"
   },
   {
    "duration": 22,
    "start_time": "2022-02-16T15:07:09.253Z"
   },
   {
    "duration": 42,
    "start_time": "2022-02-16T15:07:09.277Z"
   },
   {
    "duration": 26,
    "start_time": "2022-02-16T15:07:09.321Z"
   },
   {
    "duration": 19,
    "start_time": "2022-02-16T15:07:09.350Z"
   },
   {
    "duration": 25,
    "start_time": "2022-02-16T15:07:09.372Z"
   },
   {
    "duration": 13,
    "start_time": "2022-02-16T15:07:09.399Z"
   },
   {
    "duration": 13,
    "start_time": "2022-02-16T15:07:09.414Z"
   },
   {
    "duration": 1555,
    "start_time": "2022-02-16T15:35:40.785Z"
   },
   {
    "duration": 302,
    "start_time": "2022-02-16T15:35:42.343Z"
   },
   {
    "duration": 15,
    "start_time": "2022-02-16T15:35:42.648Z"
   },
   {
    "duration": 41,
    "start_time": "2022-02-16T15:35:42.666Z"
   },
   {
    "duration": 15,
    "start_time": "2022-02-16T15:35:42.710Z"
   },
   {
    "duration": 12,
    "start_time": "2022-02-16T15:35:42.727Z"
   },
   {
    "duration": 28,
    "start_time": "2022-02-16T15:35:42.740Z"
   },
   {
    "duration": 243,
    "start_time": "2022-02-16T15:35:42.770Z"
   },
   {
    "duration": 32,
    "start_time": "2022-02-16T15:35:43.016Z"
   },
   {
    "duration": 46,
    "start_time": "2022-02-16T15:35:43.051Z"
   },
   {
    "duration": 34,
    "start_time": "2022-02-16T15:35:43.107Z"
   },
   {
    "duration": 35,
    "start_time": "2022-02-16T15:35:43.143Z"
   },
   {
    "duration": 29,
    "start_time": "2022-02-16T15:35:43.180Z"
   },
   {
    "duration": 17,
    "start_time": "2022-02-16T15:35:43.212Z"
   },
   {
    "duration": 9,
    "start_time": "2022-02-16T15:35:43.232Z"
   },
   {
    "duration": 6,
    "start_time": "2022-02-16T15:35:43.243Z"
   },
   {
    "duration": 17,
    "start_time": "2022-02-16T15:35:43.251Z"
   },
   {
    "duration": 41,
    "start_time": "2022-02-16T15:35:43.270Z"
   },
   {
    "duration": 12,
    "start_time": "2022-02-16T15:35:43.313Z"
   },
   {
    "duration": 5,
    "start_time": "2022-02-16T15:35:43.328Z"
   },
   {
    "duration": 93,
    "start_time": "2022-02-16T15:35:43.335Z"
   },
   {
    "duration": -1470,
    "start_time": "2022-02-16T15:35:44.900Z"
   },
   {
    "duration": -1470,
    "start_time": "2022-02-16T15:35:44.902Z"
   },
   {
    "duration": -1469,
    "start_time": "2022-02-16T15:35:44.903Z"
   },
   {
    "duration": -1470,
    "start_time": "2022-02-16T15:35:44.905Z"
   },
   {
    "duration": 136,
    "start_time": "2022-02-16T15:36:36.279Z"
   },
   {
    "duration": 88,
    "start_time": "2022-02-16T15:36:50.657Z"
   },
   {
    "duration": 122,
    "start_time": "2022-02-16T15:38:28.194Z"
   },
   {
    "duration": 81,
    "start_time": "2022-02-16T15:38:58.903Z"
   },
   {
    "duration": 94,
    "start_time": "2022-02-16T15:42:49.590Z"
   },
   {
    "duration": 82,
    "start_time": "2022-02-16T15:43:31.897Z"
   },
   {
    "duration": 378,
    "start_time": "2022-02-16T15:43:49.698Z"
   },
   {
    "duration": 277,
    "start_time": "2022-02-16T15:45:25.777Z"
   },
   {
    "duration": 757,
    "start_time": "2022-02-16T15:45:56.426Z"
   },
   {
    "duration": 743,
    "start_time": "2022-02-16T15:46:39.537Z"
   },
   {
    "duration": 4,
    "start_time": "2022-02-16T15:47:29.797Z"
   },
   {
    "duration": 373,
    "start_time": "2022-02-16T15:47:29.811Z"
   },
   {
    "duration": 23,
    "start_time": "2022-02-16T15:47:30.187Z"
   },
   {
    "duration": 29,
    "start_time": "2022-02-16T15:47:30.213Z"
   },
   {
    "duration": 11,
    "start_time": "2022-02-16T15:47:30.245Z"
   },
   {
    "duration": 19,
    "start_time": "2022-02-16T15:47:30.258Z"
   },
   {
    "duration": 40,
    "start_time": "2022-02-16T15:47:30.279Z"
   },
   {
    "duration": 240,
    "start_time": "2022-02-16T15:47:30.321Z"
   },
   {
    "duration": 29,
    "start_time": "2022-02-16T15:47:30.564Z"
   },
   {
    "duration": 25,
    "start_time": "2022-02-16T15:47:30.606Z"
   },
   {
    "duration": 31,
    "start_time": "2022-02-16T15:47:30.634Z"
   },
   {
    "duration": 61,
    "start_time": "2022-02-16T15:47:30.667Z"
   },
   {
    "duration": 8,
    "start_time": "2022-02-16T15:47:30.730Z"
   },
   {
    "duration": 22,
    "start_time": "2022-02-16T15:47:30.740Z"
   },
   {
    "duration": 8,
    "start_time": "2022-02-16T15:47:30.764Z"
   },
   {
    "duration": 33,
    "start_time": "2022-02-16T15:47:30.774Z"
   },
   {
    "duration": 10,
    "start_time": "2022-02-16T15:47:30.809Z"
   },
   {
    "duration": 12,
    "start_time": "2022-02-16T15:47:30.821Z"
   },
   {
    "duration": 14,
    "start_time": "2022-02-16T15:47:30.835Z"
   },
   {
    "duration": 8,
    "start_time": "2022-02-16T15:47:30.851Z"
   },
   {
    "duration": 849,
    "start_time": "2022-02-16T15:47:30.862Z"
   },
   {
    "duration": 83,
    "start_time": "2022-02-16T15:47:31.713Z"
   },
   {
    "duration": -2210,
    "start_time": "2022-02-16T15:47:34.009Z"
   },
   {
    "duration": -2275,
    "start_time": "2022-02-16T15:47:34.075Z"
   },
   {
    "duration": -2289,
    "start_time": "2022-02-16T15:47:34.090Z"
   },
   {
    "duration": -2291,
    "start_time": "2022-02-16T15:47:34.093Z"
   },
   {
    "duration": 677,
    "start_time": "2022-02-16T15:47:46.758Z"
   },
   {
    "duration": 684,
    "start_time": "2022-02-16T15:55:46.619Z"
   },
   {
    "duration": 700,
    "start_time": "2022-02-16T15:58:14.874Z"
   },
   {
    "duration": 736,
    "start_time": "2022-02-16T15:58:49.950Z"
   },
   {
    "duration": 86,
    "start_time": "2022-02-16T15:59:11.970Z"
   },
   {
    "duration": 96,
    "start_time": "2022-02-16T15:59:14.776Z"
   },
   {
    "duration": 687,
    "start_time": "2022-02-16T15:59:18.338Z"
   },
   {
    "duration": 6,
    "start_time": "2022-02-16T16:00:17.050Z"
   },
   {
    "duration": 6,
    "start_time": "2022-02-16T16:08:32.442Z"
   },
   {
    "duration": 3,
    "start_time": "2022-02-16T16:08:47.620Z"
   },
   {
    "duration": 482,
    "start_time": "2022-02-16T16:08:47.636Z"
   },
   {
    "duration": 16,
    "start_time": "2022-02-16T16:08:48.120Z"
   },
   {
    "duration": 28,
    "start_time": "2022-02-16T16:08:48.139Z"
   },
   {
    "duration": 11,
    "start_time": "2022-02-16T16:08:48.170Z"
   },
   {
    "duration": 34,
    "start_time": "2022-02-16T16:08:48.183Z"
   },
   {
    "duration": 21,
    "start_time": "2022-02-16T16:08:48.219Z"
   },
   {
    "duration": 234,
    "start_time": "2022-02-16T16:08:48.242Z"
   },
   {
    "duration": 101,
    "start_time": "2022-02-16T16:08:48.479Z"
   },
   {
    "duration": 33,
    "start_time": "2022-02-16T16:08:48.583Z"
   },
   {
    "duration": 31,
    "start_time": "2022-02-16T16:08:48.618Z"
   },
   {
    "duration": 33,
    "start_time": "2022-02-16T16:08:48.651Z"
   },
   {
    "duration": 31,
    "start_time": "2022-02-16T16:08:48.686Z"
   },
   {
    "duration": 20,
    "start_time": "2022-02-16T16:08:48.719Z"
   },
   {
    "duration": 10,
    "start_time": "2022-02-16T16:08:48.742Z"
   },
   {
    "duration": 5,
    "start_time": "2022-02-16T16:08:48.753Z"
   },
   {
    "duration": 11,
    "start_time": "2022-02-16T16:08:48.760Z"
   },
   {
    "duration": 45,
    "start_time": "2022-02-16T16:08:48.773Z"
   },
   {
    "duration": 10,
    "start_time": "2022-02-16T16:08:48.820Z"
   },
   {
    "duration": 5,
    "start_time": "2022-02-16T16:08:48.832Z"
   },
   {
    "duration": 754,
    "start_time": "2022-02-16T16:08:48.839Z"
   },
   {
    "duration": 88,
    "start_time": "2022-02-16T16:08:49.595Z"
   },
   {
    "duration": -586,
    "start_time": "2022-02-16T16:08:50.271Z"
   },
   {
    "duration": -587,
    "start_time": "2022-02-16T16:08:50.273Z"
   },
   {
    "duration": -588,
    "start_time": "2022-02-16T16:08:50.275Z"
   },
   {
    "duration": -589,
    "start_time": "2022-02-16T16:08:50.277Z"
   },
   {
    "duration": -590,
    "start_time": "2022-02-16T16:08:50.279Z"
   },
   {
    "duration": 6,
    "start_time": "2022-02-16T16:12:06.015Z"
   },
   {
    "duration": 4,
    "start_time": "2022-02-16T16:20:40.302Z"
   },
   {
    "duration": 303,
    "start_time": "2022-02-16T16:20:40.308Z"
   },
   {
    "duration": 15,
    "start_time": "2022-02-16T16:20:40.614Z"
   },
   {
    "duration": 26,
    "start_time": "2022-02-16T16:20:40.631Z"
   },
   {
    "duration": 11,
    "start_time": "2022-02-16T16:20:40.659Z"
   },
   {
    "duration": 37,
    "start_time": "2022-02-16T16:20:40.672Z"
   },
   {
    "duration": 23,
    "start_time": "2022-02-16T16:20:40.711Z"
   },
   {
    "duration": 226,
    "start_time": "2022-02-16T16:20:40.736Z"
   },
   {
    "duration": 43,
    "start_time": "2022-02-16T16:20:40.965Z"
   },
   {
    "duration": 21,
    "start_time": "2022-02-16T16:20:41.010Z"
   },
   {
    "duration": 30,
    "start_time": "2022-02-16T16:20:41.032Z"
   },
   {
    "duration": 61,
    "start_time": "2022-02-16T16:20:41.064Z"
   },
   {
    "duration": 8,
    "start_time": "2022-02-16T16:20:41.127Z"
   },
   {
    "duration": 17,
    "start_time": "2022-02-16T16:20:41.136Z"
   },
   {
    "duration": 7,
    "start_time": "2022-02-16T16:20:41.156Z"
   },
   {
    "duration": 5,
    "start_time": "2022-02-16T16:20:41.165Z"
   },
   {
    "duration": 36,
    "start_time": "2022-02-16T16:20:41.172Z"
   },
   {
    "duration": 11,
    "start_time": "2022-02-16T16:20:41.211Z"
   },
   {
    "duration": 8,
    "start_time": "2022-02-16T16:20:41.224Z"
   },
   {
    "duration": 5,
    "start_time": "2022-02-16T16:20:41.234Z"
   },
   {
    "duration": 726,
    "start_time": "2022-02-16T16:20:41.241Z"
   },
   {
    "duration": 78,
    "start_time": "2022-02-16T16:20:41.969Z"
   },
   {
    "duration": -258,
    "start_time": "2022-02-16T16:20:42.307Z"
   },
   {
    "duration": -289,
    "start_time": "2022-02-16T16:20:42.339Z"
   },
   {
    "duration": -374,
    "start_time": "2022-02-16T16:20:42.425Z"
   },
   {
    "duration": -749,
    "start_time": "2022-02-16T16:20:42.802Z"
   },
   {
    "duration": -755,
    "start_time": "2022-02-16T16:20:42.809Z"
   },
   {
    "duration": 4,
    "start_time": "2022-02-16T16:21:11.382Z"
   },
   {
    "duration": 300,
    "start_time": "2022-02-16T16:21:11.389Z"
   },
   {
    "duration": 21,
    "start_time": "2022-02-16T16:21:11.692Z"
   },
   {
    "duration": 25,
    "start_time": "2022-02-16T16:21:11.715Z"
   },
   {
    "duration": 9,
    "start_time": "2022-02-16T16:21:11.743Z"
   },
   {
    "duration": 17,
    "start_time": "2022-02-16T16:21:11.754Z"
   },
   {
    "duration": 45,
    "start_time": "2022-02-16T16:21:11.773Z"
   },
   {
    "duration": 229,
    "start_time": "2022-02-16T16:21:11.821Z"
   },
   {
    "duration": 31,
    "start_time": "2022-02-16T16:21:12.053Z"
   },
   {
    "duration": 39,
    "start_time": "2022-02-16T16:21:12.086Z"
   },
   {
    "duration": 30,
    "start_time": "2022-02-16T16:21:12.127Z"
   },
   {
    "duration": 51,
    "start_time": "2022-02-16T16:21:12.159Z"
   },
   {
    "duration": 8,
    "start_time": "2022-02-16T16:21:12.212Z"
   },
   {
    "duration": 19,
    "start_time": "2022-02-16T16:21:12.221Z"
   },
   {
    "duration": 8,
    "start_time": "2022-02-16T16:21:12.242Z"
   },
   {
    "duration": 11,
    "start_time": "2022-02-16T16:21:12.252Z"
   },
   {
    "duration": 12,
    "start_time": "2022-02-16T16:21:12.265Z"
   },
   {
    "duration": 37,
    "start_time": "2022-02-16T16:21:12.279Z"
   },
   {
    "duration": 8,
    "start_time": "2022-02-16T16:21:12.319Z"
   },
   {
    "duration": 4,
    "start_time": "2022-02-16T16:21:12.329Z"
   },
   {
    "duration": 751,
    "start_time": "2022-02-16T16:21:12.335Z"
   },
   {
    "duration": 97,
    "start_time": "2022-02-16T16:21:13.089Z"
   },
   {
    "duration": -290,
    "start_time": "2022-02-16T16:21:13.478Z"
   },
   {
    "duration": -291,
    "start_time": "2022-02-16T16:21:13.480Z"
   },
   {
    "duration": -296,
    "start_time": "2022-02-16T16:21:13.486Z"
   },
   {
    "duration": -296,
    "start_time": "2022-02-16T16:21:13.488Z"
   },
   {
    "duration": -298,
    "start_time": "2022-02-16T16:21:13.491Z"
   },
   {
    "duration": 343,
    "start_time": "2022-02-16T16:21:22.842Z"
   },
   {
    "duration": 62,
    "start_time": "2022-02-16T16:21:28.687Z"
   },
   {
    "duration": 698,
    "start_time": "2022-02-16T16:21:47.649Z"
   },
   {
    "duration": 724,
    "start_time": "2022-02-16T16:21:55.511Z"
   },
   {
    "duration": 302,
    "start_time": "2022-02-16T16:22:01.852Z"
   },
   {
    "duration": 738,
    "start_time": "2022-02-16T16:22:15.081Z"
   },
   {
    "duration": 742,
    "start_time": "2022-02-16T16:22:28.481Z"
   },
   {
    "duration": 725,
    "start_time": "2022-02-16T16:22:39.633Z"
   },
   {
    "duration": 1150,
    "start_time": "2022-02-16T16:23:49.646Z"
   },
   {
    "duration": 725,
    "start_time": "2022-02-16T16:24:06.410Z"
   },
   {
    "duration": 368,
    "start_time": "2022-02-16T16:36:58.566Z"
   },
   {
    "duration": 8,
    "start_time": "2022-02-16T16:37:54.926Z"
   },
   {
    "duration": 14,
    "start_time": "2022-02-16T16:38:06.201Z"
   },
   {
    "duration": 241,
    "start_time": "2022-02-16T16:39:57.549Z"
   },
   {
    "duration": 256,
    "start_time": "2022-02-16T16:42:06.394Z"
   },
   {
    "duration": 253,
    "start_time": "2022-02-16T16:44:43.134Z"
   },
   {
    "duration": 283,
    "start_time": "2022-02-16T16:45:02.235Z"
   },
   {
    "duration": 254,
    "start_time": "2022-02-16T16:45:17.775Z"
   },
   {
    "duration": 256,
    "start_time": "2022-02-16T16:45:36.816Z"
   },
   {
    "duration": 269,
    "start_time": "2022-02-16T16:46:00.523Z"
   },
   {
    "duration": 338,
    "start_time": "2022-02-16T16:47:05.697Z"
   },
   {
    "duration": 33,
    "start_time": "2022-02-16T16:48:15.087Z"
   },
   {
    "duration": 14,
    "start_time": "2022-02-16T16:50:45.142Z"
   },
   {
    "duration": 14,
    "start_time": "2022-02-16T16:50:53.525Z"
   },
   {
    "duration": 4,
    "start_time": "2022-02-16T16:50:58.895Z"
   },
   {
    "duration": 318,
    "start_time": "2022-02-16T16:50:58.904Z"
   },
   {
    "duration": 15,
    "start_time": "2022-02-16T16:50:59.224Z"
   },
   {
    "duration": 28,
    "start_time": "2022-02-16T16:50:59.241Z"
   },
   {
    "duration": 10,
    "start_time": "2022-02-16T16:50:59.272Z"
   },
   {
    "duration": 11,
    "start_time": "2022-02-16T16:50:59.308Z"
   },
   {
    "duration": 24,
    "start_time": "2022-02-16T16:50:59.322Z"
   },
   {
    "duration": 242,
    "start_time": "2022-02-16T16:50:59.349Z"
   },
   {
    "duration": 28,
    "start_time": "2022-02-16T16:50:59.594Z"
   },
   {
    "duration": 25,
    "start_time": "2022-02-16T16:50:59.625Z"
   },
   {
    "duration": 56,
    "start_time": "2022-02-16T16:50:59.653Z"
   },
   {
    "duration": 34,
    "start_time": "2022-02-16T16:50:59.710Z"
   },
   {
    "duration": 9,
    "start_time": "2022-02-16T16:50:59.745Z"
   },
   {
    "duration": 15,
    "start_time": "2022-02-16T16:50:59.756Z"
   },
   {
    "duration": 13,
    "start_time": "2022-02-16T16:50:59.773Z"
   },
   {
    "duration": 5,
    "start_time": "2022-02-16T16:50:59.808Z"
   },
   {
    "duration": 11,
    "start_time": "2022-02-16T16:50:59.815Z"
   },
   {
    "duration": 12,
    "start_time": "2022-02-16T16:50:59.828Z"
   },
   {
    "duration": 9,
    "start_time": "2022-02-16T16:50:59.841Z"
   },
   {
    "duration": 4,
    "start_time": "2022-02-16T16:50:59.852Z"
   },
   {
    "duration": 282,
    "start_time": "2022-02-16T16:50:59.857Z"
   },
   {
    "duration": -1425,
    "start_time": "2022-02-16T16:51:01.566Z"
   },
   {
    "duration": -1425,
    "start_time": "2022-02-16T16:51:01.567Z"
   },
   {
    "duration": -1426,
    "start_time": "2022-02-16T16:51:01.569Z"
   },
   {
    "duration": -1426,
    "start_time": "2022-02-16T16:51:01.570Z"
   },
   {
    "duration": -1427,
    "start_time": "2022-02-16T16:51:01.572Z"
   },
   {
    "duration": -1433,
    "start_time": "2022-02-16T16:51:01.579Z"
   },
   {
    "duration": -1581,
    "start_time": "2022-02-16T16:51:01.728Z"
   },
   {
    "duration": -1582,
    "start_time": "2022-02-16T16:51:01.730Z"
   },
   {
    "duration": 251,
    "start_time": "2022-02-16T16:52:54.466Z"
   },
   {
    "duration": 1779,
    "start_time": "2022-02-16T16:55:41.818Z"
   },
   {
    "duration": 1815,
    "start_time": "2022-02-16T16:56:00.465Z"
   },
   {
    "duration": 258,
    "start_time": "2022-02-16T16:56:56.774Z"
   },
   {
    "duration": 2761,
    "start_time": "2022-02-16T17:01:59.890Z"
   },
   {
    "duration": 2700,
    "start_time": "2022-02-16T17:02:55.308Z"
   },
   {
    "duration": 22,
    "start_time": "2022-02-16T17:03:33.538Z"
   },
   {
    "duration": 23,
    "start_time": "2022-02-16T17:04:01.437Z"
   },
   {
    "duration": 76,
    "start_time": "2022-02-16T17:04:18.798Z"
   },
   {
    "duration": 22,
    "start_time": "2022-02-16T17:04:24.956Z"
   },
   {
    "duration": 264,
    "start_time": "2022-02-16T17:16:58.931Z"
   },
   {
    "duration": 4,
    "start_time": "2022-02-16T17:17:23.422Z"
   },
   {
    "duration": 300,
    "start_time": "2022-02-16T17:17:23.428Z"
   },
   {
    "duration": 17,
    "start_time": "2022-02-16T17:17:23.730Z"
   },
   {
    "duration": 242,
    "start_time": "2022-02-16T17:17:28.197Z"
   },
   {
    "duration": 293,
    "start_time": "2022-02-16T17:17:37.691Z"
   },
   {
    "duration": 264,
    "start_time": "2022-02-16T17:29:31.612Z"
   },
   {
    "duration": 313,
    "start_time": "2022-02-16T17:30:11.776Z"
   },
   {
    "duration": 262,
    "start_time": "2022-02-16T17:31:06.444Z"
   },
   {
    "duration": 272,
    "start_time": "2022-02-16T17:37:50.840Z"
   },
   {
    "duration": 377,
    "start_time": "2022-02-16T17:38:02.671Z"
   },
   {
    "duration": 253,
    "start_time": "2022-02-16T17:38:19.092Z"
   },
   {
    "duration": 18,
    "start_time": "2022-02-16T17:38:39.024Z"
   },
   {
    "duration": 802,
    "start_time": "2022-02-16T17:39:45.819Z"
   },
   {
    "duration": 14,
    "start_time": "2022-02-16T17:51:20.110Z"
   },
   {
    "duration": 17,
    "start_time": "2022-02-16T17:51:36.414Z"
   },
   {
    "duration": 14,
    "start_time": "2022-02-16T17:51:54.168Z"
   },
   {
    "duration": 329,
    "start_time": "2022-02-16T17:58:57.192Z"
   },
   {
    "duration": 280,
    "start_time": "2022-02-16T17:59:14.507Z"
   },
   {
    "duration": 305,
    "start_time": "2022-02-16T17:59:20.948Z"
   },
   {
    "duration": 255,
    "start_time": "2022-02-16T18:00:25.013Z"
   },
   {
    "duration": 5,
    "start_time": "2022-02-16T18:00:31.933Z"
   },
   {
    "duration": 313,
    "start_time": "2022-02-16T18:00:31.940Z"
   },
   {
    "duration": 13,
    "start_time": "2022-02-16T18:00:32.256Z"
   },
   {
    "duration": 46,
    "start_time": "2022-02-16T18:00:32.272Z"
   },
   {
    "duration": 10,
    "start_time": "2022-02-16T18:00:32.320Z"
   },
   {
    "duration": 28,
    "start_time": "2022-02-16T18:00:32.332Z"
   },
   {
    "duration": 26,
    "start_time": "2022-02-16T18:00:32.362Z"
   },
   {
    "duration": 203,
    "start_time": "2022-02-16T18:00:32.391Z"
   },
   {
    "duration": 37,
    "start_time": "2022-02-16T18:00:32.596Z"
   },
   {
    "duration": 21,
    "start_time": "2022-02-16T18:00:32.635Z"
   },
   {
    "duration": 58,
    "start_time": "2022-02-16T18:00:32.658Z"
   },
   {
    "duration": 40,
    "start_time": "2022-02-16T18:00:32.718Z"
   },
   {
    "duration": 8,
    "start_time": "2022-02-16T18:00:32.760Z"
   },
   {
    "duration": 14,
    "start_time": "2022-02-16T18:00:32.770Z"
   },
   {
    "duration": 29,
    "start_time": "2022-02-16T18:00:32.786Z"
   },
   {
    "duration": 4,
    "start_time": "2022-02-16T18:00:32.818Z"
   },
   {
    "duration": 19,
    "start_time": "2022-02-16T18:00:32.824Z"
   },
   {
    "duration": 13,
    "start_time": "2022-02-16T18:00:32.845Z"
   },
   {
    "duration": 11,
    "start_time": "2022-02-16T18:00:32.860Z"
   },
   {
    "duration": 34,
    "start_time": "2022-02-16T18:00:32.873Z"
   },
   {
    "duration": 707,
    "start_time": "2022-02-16T18:00:32.910Z"
   },
   {
    "duration": 396,
    "start_time": "2022-02-16T18:00:33.619Z"
   },
   {
    "duration": 6,
    "start_time": "2022-02-16T18:00:34.018Z"
   },
   {
    "duration": 384,
    "start_time": "2022-02-16T18:01:08.650Z"
   },
   {
    "duration": 803,
    "start_time": "2022-02-16T18:13:21.089Z"
   },
   {
    "duration": 14,
    "start_time": "2022-02-16T18:15:07.151Z"
   },
   {
    "duration": 548,
    "start_time": "2022-02-16T18:15:47.447Z"
   },
   {
    "duration": 721,
    "start_time": "2022-02-16T18:17:33.171Z"
   },
   {
    "duration": 8,
    "start_time": "2022-02-16T18:18:10.494Z"
   },
   {
    "duration": 4,
    "start_time": "2022-02-16T18:41:27.196Z"
   },
   {
    "duration": 299,
    "start_time": "2022-02-16T18:41:27.202Z"
   },
   {
    "duration": 12,
    "start_time": "2022-02-16T18:41:27.504Z"
   },
   {
    "duration": 31,
    "start_time": "2022-02-16T18:41:27.519Z"
   },
   {
    "duration": 11,
    "start_time": "2022-02-16T18:41:27.552Z"
   },
   {
    "duration": 15,
    "start_time": "2022-02-16T18:41:27.565Z"
   },
   {
    "duration": 49,
    "start_time": "2022-02-16T18:41:27.582Z"
   },
   {
    "duration": 223,
    "start_time": "2022-02-16T18:41:27.634Z"
   },
   {
    "duration": 29,
    "start_time": "2022-02-16T18:41:27.860Z"
   },
   {
    "duration": 21,
    "start_time": "2022-02-16T18:41:27.907Z"
   },
   {
    "duration": 30,
    "start_time": "2022-02-16T18:41:27.930Z"
   },
   {
    "duration": 53,
    "start_time": "2022-02-16T18:41:27.961Z"
   },
   {
    "duration": 8,
    "start_time": "2022-02-16T18:41:28.016Z"
   },
   {
    "duration": 24,
    "start_time": "2022-02-16T18:41:28.026Z"
   },
   {
    "duration": 8,
    "start_time": "2022-02-16T18:41:28.052Z"
   },
   {
    "duration": 4,
    "start_time": "2022-02-16T18:41:28.062Z"
   },
   {
    "duration": 41,
    "start_time": "2022-02-16T18:41:28.068Z"
   },
   {
    "duration": 14,
    "start_time": "2022-02-16T18:41:28.111Z"
   },
   {
    "duration": 17,
    "start_time": "2022-02-16T18:41:28.127Z"
   },
   {
    "duration": 5,
    "start_time": "2022-02-16T18:41:28.147Z"
   },
   {
    "duration": 783,
    "start_time": "2022-02-16T18:41:28.154Z"
   },
   {
    "duration": 530,
    "start_time": "2022-02-16T18:41:28.939Z"
   },
   {
    "duration": 676,
    "start_time": "2022-02-16T18:41:29.472Z"
   },
   {
    "duration": 6,
    "start_time": "2022-02-16T18:41:30.151Z"
   },
   {
    "duration": 531,
    "start_time": "2022-02-16T18:45:51.139Z"
   },
   {
    "duration": 41,
    "start_time": "2022-02-16T18:50:13.648Z"
   },
   {
    "duration": 45,
    "start_time": "2022-02-16T18:51:42.060Z"
   },
   {
    "duration": 5,
    "start_time": "2022-02-16T18:51:55.181Z"
   },
   {
    "duration": 53,
    "start_time": "2022-02-16T18:52:46.142Z"
   },
   {
    "duration": 6,
    "start_time": "2022-02-16T18:53:00.803Z"
   },
   {
    "duration": 48,
    "start_time": "2022-02-16T18:53:56.680Z"
   },
   {
    "duration": 3329,
    "start_time": "2022-02-16T18:54:22.623Z"
   },
   {
    "duration": 86,
    "start_time": "2022-02-16T19:00:53.200Z"
   },
   {
    "duration": 59,
    "start_time": "2022-02-16T19:01:10.749Z"
   },
   {
    "duration": 39,
    "start_time": "2022-02-16T19:02:07.780Z"
   },
   {
    "duration": 3870,
    "start_time": "2022-02-16T19:02:22.290Z"
   },
   {
    "duration": 246,
    "start_time": "2022-02-16T19:11:58.270Z"
   },
   {
    "duration": 3455,
    "start_time": "2022-02-16T19:12:08.919Z"
   },
   {
    "duration": 300,
    "start_time": "2022-02-16T19:13:20.567Z"
   },
   {
    "duration": 37,
    "start_time": "2022-02-16T19:13:43.359Z"
   },
   {
    "duration": 247,
    "start_time": "2022-02-16T19:25:20.167Z"
   },
   {
    "duration": 237,
    "start_time": "2022-02-16T19:25:28.176Z"
   },
   {
    "duration": 2473,
    "start_time": "2022-02-16T19:25:48.559Z"
   },
   {
    "duration": 2578,
    "start_time": "2022-02-16T19:26:17.347Z"
   },
   {
    "duration": 2637,
    "start_time": "2022-02-16T19:26:26.389Z"
   },
   {
    "duration": 362,
    "start_time": "2022-02-17T13:30:07.670Z"
   },
   {
    "duration": 1308,
    "start_time": "2022-02-17T13:30:14.450Z"
   },
   {
    "duration": 293,
    "start_time": "2022-02-17T13:30:15.760Z"
   },
   {
    "duration": 366,
    "start_time": "2022-02-17T13:30:16.055Z"
   },
   {
    "duration": -422,
    "start_time": "2022-02-17T13:30:16.845Z"
   },
   {
    "duration": -425,
    "start_time": "2022-02-17T13:30:16.849Z"
   },
   {
    "duration": -430,
    "start_time": "2022-02-17T13:30:16.855Z"
   },
   {
    "duration": -433,
    "start_time": "2022-02-17T13:30:16.860Z"
   },
   {
    "duration": -439,
    "start_time": "2022-02-17T13:30:16.867Z"
   },
   {
    "duration": -440,
    "start_time": "2022-02-17T13:30:16.870Z"
   },
   {
    "duration": -469,
    "start_time": "2022-02-17T13:30:16.900Z"
   },
   {
    "duration": -503,
    "start_time": "2022-02-17T13:30:16.936Z"
   },
   {
    "duration": -530,
    "start_time": "2022-02-17T13:30:16.964Z"
   },
   {
    "duration": -540,
    "start_time": "2022-02-17T13:30:16.975Z"
   },
   {
    "duration": -571,
    "start_time": "2022-02-17T13:30:17.007Z"
   },
   {
    "duration": -599,
    "start_time": "2022-02-17T13:30:17.037Z"
   },
   {
    "duration": -601,
    "start_time": "2022-02-17T13:30:17.040Z"
   },
   {
    "duration": -639,
    "start_time": "2022-02-17T13:30:17.079Z"
   },
   {
    "duration": -664,
    "start_time": "2022-02-17T13:30:17.106Z"
   },
   {
    "duration": -728,
    "start_time": "2022-02-17T13:30:17.171Z"
   },
   {
    "duration": -739,
    "start_time": "2022-02-17T13:30:17.184Z"
   },
   {
    "duration": -797,
    "start_time": "2022-02-17T13:30:17.243Z"
   },
   {
    "duration": -845,
    "start_time": "2022-02-17T13:30:17.293Z"
   },
   {
    "duration": -874,
    "start_time": "2022-02-17T13:30:17.323Z"
   },
   {
    "duration": -909,
    "start_time": "2022-02-17T13:30:17.360Z"
   },
   {
    "duration": -938,
    "start_time": "2022-02-17T13:30:17.390Z"
   },
   {
    "duration": -952,
    "start_time": "2022-02-17T13:30:17.405Z"
   },
   {
    "duration": 320,
    "start_time": "2022-02-17T13:30:24.642Z"
   },
   {
    "duration": 3,
    "start_time": "2022-02-17T13:30:31.769Z"
   },
   {
    "duration": 289,
    "start_time": "2022-02-17T13:30:31.775Z"
   },
   {
    "duration": 302,
    "start_time": "2022-02-17T13:30:32.066Z"
   },
   {
    "duration": -426,
    "start_time": "2022-02-17T13:30:32.797Z"
   },
   {
    "duration": -433,
    "start_time": "2022-02-17T13:30:32.805Z"
   },
   {
    "duration": -466,
    "start_time": "2022-02-17T13:30:32.839Z"
   },
   {
    "duration": -559,
    "start_time": "2022-02-17T13:30:32.932Z"
   },
   {
    "duration": -571,
    "start_time": "2022-02-17T13:30:32.945Z"
   },
   {
    "duration": -575,
    "start_time": "2022-02-17T13:30:32.950Z"
   },
   {
    "duration": -581,
    "start_time": "2022-02-17T13:30:32.957Z"
   },
   {
    "duration": -590,
    "start_time": "2022-02-17T13:30:32.967Z"
   },
   {
    "duration": -603,
    "start_time": "2022-02-17T13:30:32.981Z"
   },
   {
    "duration": -614,
    "start_time": "2022-02-17T13:30:32.993Z"
   },
   {
    "duration": -629,
    "start_time": "2022-02-17T13:30:33.009Z"
   },
   {
    "duration": -655,
    "start_time": "2022-02-17T13:30:33.036Z"
   },
   {
    "duration": -713,
    "start_time": "2022-02-17T13:30:33.095Z"
   },
   {
    "duration": -718,
    "start_time": "2022-02-17T13:30:33.100Z"
   },
   {
    "duration": -725,
    "start_time": "2022-02-17T13:30:33.108Z"
   },
   {
    "duration": -732,
    "start_time": "2022-02-17T13:30:33.116Z"
   },
   {
    "duration": -734,
    "start_time": "2022-02-17T13:30:33.119Z"
   },
   {
    "duration": -769,
    "start_time": "2022-02-17T13:30:33.155Z"
   },
   {
    "duration": -863,
    "start_time": "2022-02-17T13:30:33.249Z"
   },
   {
    "duration": -879,
    "start_time": "2022-02-17T13:30:33.266Z"
   },
   {
    "duration": -900,
    "start_time": "2022-02-17T13:30:33.288Z"
   },
   {
    "duration": -914,
    "start_time": "2022-02-17T13:30:33.303Z"
   },
   {
    "duration": -943,
    "start_time": "2022-02-17T13:30:33.333Z"
   },
   {
    "duration": -1014,
    "start_time": "2022-02-17T13:30:33.405Z"
   },
   {
    "duration": 309,
    "start_time": "2022-02-17T13:30:46.030Z"
   },
   {
    "duration": 4,
    "start_time": "2022-02-17T13:33:48.030Z"
   },
   {
    "duration": 282,
    "start_time": "2022-02-17T13:33:48.036Z"
   },
   {
    "duration": 314,
    "start_time": "2022-02-17T13:33:48.320Z"
   },
   {
    "duration": -342,
    "start_time": "2022-02-17T13:33:48.978Z"
   },
   {
    "duration": -347,
    "start_time": "2022-02-17T13:33:48.984Z"
   },
   {
    "duration": -353,
    "start_time": "2022-02-17T13:33:48.991Z"
   },
   {
    "duration": -601,
    "start_time": "2022-02-17T13:33:49.240Z"
   },
   {
    "duration": -617,
    "start_time": "2022-02-17T13:33:49.258Z"
   },
   {
    "duration": -624,
    "start_time": "2022-02-17T13:33:49.266Z"
   },
   {
    "duration": -628,
    "start_time": "2022-02-17T13:33:49.271Z"
   },
   {
    "duration": -629,
    "start_time": "2022-02-17T13:33:49.273Z"
   },
   {
    "duration": -631,
    "start_time": "2022-02-17T13:33:49.276Z"
   },
   {
    "duration": -637,
    "start_time": "2022-02-17T13:33:49.283Z"
   },
   {
    "duration": -663,
    "start_time": "2022-02-17T13:33:49.309Z"
   },
   {
    "duration": -677,
    "start_time": "2022-02-17T13:33:49.325Z"
   },
   {
    "duration": -769,
    "start_time": "2022-02-17T13:33:49.418Z"
   },
   {
    "duration": -796,
    "start_time": "2022-02-17T13:33:49.446Z"
   },
   {
    "duration": -812,
    "start_time": "2022-02-17T13:33:49.464Z"
   },
   {
    "duration": -817,
    "start_time": "2022-02-17T13:33:49.470Z"
   },
   {
    "duration": -827,
    "start_time": "2022-02-17T13:33:49.481Z"
   },
   {
    "duration": -882,
    "start_time": "2022-02-17T13:33:49.537Z"
   },
   {
    "duration": -907,
    "start_time": "2022-02-17T13:33:49.563Z"
   },
   {
    "duration": -946,
    "start_time": "2022-02-17T13:33:49.603Z"
   },
   {
    "duration": -960,
    "start_time": "2022-02-17T13:33:49.618Z"
   },
   {
    "duration": -972,
    "start_time": "2022-02-17T13:33:49.631Z"
   },
   {
    "duration": -983,
    "start_time": "2022-02-17T13:33:49.643Z"
   },
   {
    "duration": -1053,
    "start_time": "2022-02-17T13:33:49.715Z"
   },
   {
    "duration": 3,
    "start_time": "2022-02-17T13:34:06.331Z"
   },
   {
    "duration": 281,
    "start_time": "2022-02-17T13:34:09.920Z"
   },
   {
    "duration": 292,
    "start_time": "2022-02-17T13:34:12.699Z"
   },
   {
    "duration": 316,
    "start_time": "2022-02-17T13:34:26.767Z"
   },
   {
    "duration": 304,
    "start_time": "2022-02-17T13:34:30.300Z"
   },
   {
    "duration": 266,
    "start_time": "2022-02-17T13:34:36.691Z"
   },
   {
    "duration": 328,
    "start_time": "2022-02-17T13:34:39.168Z"
   },
   {
    "duration": 29,
    "start_time": "2022-02-17T13:34:41.065Z"
   },
   {
    "duration": 273,
    "start_time": "2022-02-17T13:34:53.941Z"
   },
   {
    "duration": 319,
    "start_time": "2022-02-17T13:34:55.399Z"
   },
   {
    "duration": 3098,
    "start_time": "2022-02-17T13:35:17.521Z"
   },
   {
    "duration": -376,
    "start_time": "2022-02-17T13:35:20.996Z"
   },
   {
    "duration": 3,
    "start_time": "2022-02-17T13:35:25.006Z"
   },
   {
    "duration": 278,
    "start_time": "2022-02-17T13:35:25.012Z"
   },
   {
    "duration": 2702,
    "start_time": "2022-02-17T13:35:25.292Z"
   },
   {
    "duration": -329,
    "start_time": "2022-02-17T13:35:28.325Z"
   },
   {
    "duration": -344,
    "start_time": "2022-02-17T13:35:28.341Z"
   },
   {
    "duration": -361,
    "start_time": "2022-02-17T13:35:28.358Z"
   },
   {
    "duration": -447,
    "start_time": "2022-02-17T13:35:28.445Z"
   },
   {
    "duration": -458,
    "start_time": "2022-02-17T13:35:28.457Z"
   },
   {
    "duration": -467,
    "start_time": "2022-02-17T13:35:28.467Z"
   },
   {
    "duration": -475,
    "start_time": "2022-02-17T13:35:28.476Z"
   },
   {
    "duration": -477,
    "start_time": "2022-02-17T13:35:28.479Z"
   },
   {
    "duration": -489,
    "start_time": "2022-02-17T13:35:28.492Z"
   },
   {
    "duration": -524,
    "start_time": "2022-02-17T13:35:28.527Z"
   },
   {
    "duration": -532,
    "start_time": "2022-02-17T13:35:28.536Z"
   },
   {
    "duration": -553,
    "start_time": "2022-02-17T13:35:28.558Z"
   },
   {
    "duration": -571,
    "start_time": "2022-02-17T13:35:28.576Z"
   },
   {
    "duration": -591,
    "start_time": "2022-02-17T13:35:28.597Z"
   },
   {
    "duration": -633,
    "start_time": "2022-02-17T13:35:28.640Z"
   },
   {
    "duration": -651,
    "start_time": "2022-02-17T13:35:28.658Z"
   },
   {
    "duration": -661,
    "start_time": "2022-02-17T13:35:28.669Z"
   },
   {
    "duration": -672,
    "start_time": "2022-02-17T13:35:28.681Z"
   },
   {
    "duration": -688,
    "start_time": "2022-02-17T13:35:28.697Z"
   },
   {
    "duration": -703,
    "start_time": "2022-02-17T13:35:28.713Z"
   },
   {
    "duration": -707,
    "start_time": "2022-02-17T13:35:28.717Z"
   },
   {
    "duration": -731,
    "start_time": "2022-02-17T13:35:28.742Z"
   },
   {
    "duration": -787,
    "start_time": "2022-02-17T13:35:28.799Z"
   },
   {
    "duration": -851,
    "start_time": "2022-02-17T13:35:28.863Z"
   },
   {
    "duration": 4,
    "start_time": "2022-02-17T13:35:39.159Z"
   },
   {
    "duration": 324,
    "start_time": "2022-02-17T13:35:42.641Z"
   },
   {
    "duration": -402,
    "start_time": "2022-02-17T13:35:50.932Z"
   },
   {
    "duration": 27,
    "start_time": "2022-02-17T13:35:56.960Z"
   },
   {
    "duration": 1171,
    "start_time": "2022-02-17T13:35:59.959Z"
   },
   {
    "duration": 674,
    "start_time": "2022-02-17T13:36:10.166Z"
   },
   {
    "duration": 340,
    "start_time": "2022-02-17T13:36:45.374Z"
   },
   {
    "duration": 3,
    "start_time": "2022-02-17T13:37:20.836Z"
   },
   {
    "duration": 277,
    "start_time": "2022-02-17T13:37:20.841Z"
   },
   {
    "duration": 321,
    "start_time": "2022-02-17T13:37:21.121Z"
   },
   {
    "duration": -436,
    "start_time": "2022-02-17T13:37:21.881Z"
   },
   {
    "duration": -439,
    "start_time": "2022-02-17T13:37:21.885Z"
   },
   {
    "duration": -440,
    "start_time": "2022-02-17T13:37:21.887Z"
   },
   {
    "duration": -442,
    "start_time": "2022-02-17T13:37:21.890Z"
   },
   {
    "duration": -441,
    "start_time": "2022-02-17T13:37:21.891Z"
   },
   {
    "duration": -442,
    "start_time": "2022-02-17T13:37:21.893Z"
   },
   {
    "duration": -444,
    "start_time": "2022-02-17T13:37:21.896Z"
   },
   {
    "duration": -570,
    "start_time": "2022-02-17T13:37:22.023Z"
   },
   {
    "duration": -572,
    "start_time": "2022-02-17T13:37:22.026Z"
   },
   {
    "duration": -573,
    "start_time": "2022-02-17T13:37:22.028Z"
   },
   {
    "duration": -575,
    "start_time": "2022-02-17T13:37:22.031Z"
   },
   {
    "duration": -576,
    "start_time": "2022-02-17T13:37:22.033Z"
   },
   {
    "duration": -577,
    "start_time": "2022-02-17T13:37:22.035Z"
   },
   {
    "duration": -582,
    "start_time": "2022-02-17T13:37:22.041Z"
   },
   {
    "duration": -584,
    "start_time": "2022-02-17T13:37:22.044Z"
   },
   {
    "duration": -586,
    "start_time": "2022-02-17T13:37:22.047Z"
   },
   {
    "duration": -594,
    "start_time": "2022-02-17T13:37:22.056Z"
   },
   {
    "duration": -597,
    "start_time": "2022-02-17T13:37:22.060Z"
   },
   {
    "duration": -606,
    "start_time": "2022-02-17T13:37:22.070Z"
   },
   {
    "duration": -614,
    "start_time": "2022-02-17T13:37:22.078Z"
   },
   {
    "duration": -617,
    "start_time": "2022-02-17T13:37:22.082Z"
   },
   {
    "duration": -637,
    "start_time": "2022-02-17T13:37:22.103Z"
   },
   {
    "duration": -642,
    "start_time": "2022-02-17T13:37:22.109Z"
   },
   {
    "duration": -645,
    "start_time": "2022-02-17T13:37:22.113Z"
   },
   {
    "duration": 4,
    "start_time": "2022-02-17T13:37:35.004Z"
   },
   {
    "duration": 303,
    "start_time": "2022-02-17T13:37:39.290Z"
   },
   {
    "duration": 13,
    "start_time": "2022-02-17T13:37:43.296Z"
   },
   {
    "duration": 9,
    "start_time": "2022-02-17T13:37:45.395Z"
   },
   {
    "duration": 296,
    "start_time": "2022-02-17T13:38:15.824Z"
   },
   {
    "duration": 273,
    "start_time": "2022-02-17T13:38:21.545Z"
   },
   {
    "duration": 301,
    "start_time": "2022-02-17T13:38:24.678Z"
   },
   {
    "duration": 259,
    "start_time": "2022-02-17T13:38:36.525Z"
   },
   {
    "duration": 317,
    "start_time": "2022-02-17T13:38:39.855Z"
   },
   {
    "duration": 252,
    "start_time": "2022-02-17T13:38:48.997Z"
   },
   {
    "duration": 3,
    "start_time": "2022-02-17T13:40:28.861Z"
   },
   {
    "duration": 357,
    "start_time": "2022-02-17T13:40:28.866Z"
   },
   {
    "duration": 3611,
    "start_time": "2022-02-17T13:40:29.225Z"
   },
   {
    "duration": -517,
    "start_time": "2022-02-17T13:40:33.356Z"
   },
   {
    "duration": -518,
    "start_time": "2022-02-17T13:40:33.358Z"
   },
   {
    "duration": -519,
    "start_time": "2022-02-17T13:40:33.360Z"
   },
   {
    "duration": -779,
    "start_time": "2022-02-17T13:40:33.621Z"
   },
   {
    "duration": -781,
    "start_time": "2022-02-17T13:40:33.624Z"
   },
   {
    "duration": -783,
    "start_time": "2022-02-17T13:40:33.627Z"
   },
   {
    "duration": -787,
    "start_time": "2022-02-17T13:40:33.632Z"
   },
   {
    "duration": -798,
    "start_time": "2022-02-17T13:40:33.644Z"
   },
   {
    "duration": -814,
    "start_time": "2022-02-17T13:40:33.661Z"
   },
   {
    "duration": -861,
    "start_time": "2022-02-17T13:40:33.709Z"
   },
   {
    "duration": -892,
    "start_time": "2022-02-17T13:40:33.740Z"
   },
   {
    "duration": -937,
    "start_time": "2022-02-17T13:40:33.786Z"
   },
   {
    "duration": -959,
    "start_time": "2022-02-17T13:40:33.809Z"
   },
   {
    "duration": -980,
    "start_time": "2022-02-17T13:40:33.830Z"
   },
   {
    "duration": -1006,
    "start_time": "2022-02-17T13:40:33.857Z"
   },
   {
    "duration": -1008,
    "start_time": "2022-02-17T13:40:33.860Z"
   },
   {
    "duration": -1013,
    "start_time": "2022-02-17T13:40:33.865Z"
   },
   {
    "duration": -1036,
    "start_time": "2022-02-17T13:40:33.889Z"
   },
   {
    "duration": -1073,
    "start_time": "2022-02-17T13:40:33.927Z"
   },
   {
    "duration": -1074,
    "start_time": "2022-02-17T13:40:33.929Z"
   },
   {
    "duration": -1088,
    "start_time": "2022-02-17T13:40:33.943Z"
   },
   {
    "duration": -1101,
    "start_time": "2022-02-17T13:40:33.957Z"
   },
   {
    "duration": -1120,
    "start_time": "2022-02-17T13:40:33.977Z"
   },
   {
    "duration": -1145,
    "start_time": "2022-02-17T13:40:34.003Z"
   },
   {
    "duration": 352,
    "start_time": "2022-02-17T13:40:48.605Z"
   },
   {
    "duration": 608,
    "start_time": "2022-02-17T13:40:52.495Z"
   },
   {
    "duration": 5,
    "start_time": "2022-02-17T13:41:21.168Z"
   },
   {
    "duration": 352,
    "start_time": "2022-02-17T13:41:21.179Z"
   },
   {
    "duration": 300,
    "start_time": "2022-02-17T13:41:21.534Z"
   },
   {
    "duration": -255,
    "start_time": "2022-02-17T13:41:22.092Z"
   },
   {
    "duration": -299,
    "start_time": "2022-02-17T13:41:22.137Z"
   },
   {
    "duration": -310,
    "start_time": "2022-02-17T13:41:22.149Z"
   },
   {
    "duration": -346,
    "start_time": "2022-02-17T13:41:22.186Z"
   },
   {
    "duration": -370,
    "start_time": "2022-02-17T13:41:22.211Z"
   },
   {
    "duration": -402,
    "start_time": "2022-02-17T13:41:22.243Z"
   },
   {
    "duration": -446,
    "start_time": "2022-02-17T13:41:22.288Z"
   },
   {
    "duration": -490,
    "start_time": "2022-02-17T13:41:22.333Z"
   },
   {
    "duration": -524,
    "start_time": "2022-02-17T13:41:22.368Z"
   },
   {
    "duration": -547,
    "start_time": "2022-02-17T13:41:22.393Z"
   },
   {
    "duration": -588,
    "start_time": "2022-02-17T13:41:22.435Z"
   },
   {
    "duration": -611,
    "start_time": "2022-02-17T13:41:22.460Z"
   },
   {
    "duration": -726,
    "start_time": "2022-02-17T13:41:22.576Z"
   },
   {
    "duration": -745,
    "start_time": "2022-02-17T13:41:22.596Z"
   },
   {
    "duration": -754,
    "start_time": "2022-02-17T13:41:22.606Z"
   },
   {
    "duration": -757,
    "start_time": "2022-02-17T13:41:22.611Z"
   },
   {
    "duration": -919,
    "start_time": "2022-02-17T13:41:22.774Z"
   },
   {
    "duration": -938,
    "start_time": "2022-02-17T13:41:22.794Z"
   },
   {
    "duration": -947,
    "start_time": "2022-02-17T13:41:22.805Z"
   },
   {
    "duration": -953,
    "start_time": "2022-02-17T13:41:22.812Z"
   },
   {
    "duration": -962,
    "start_time": "2022-02-17T13:41:22.822Z"
   },
   {
    "duration": -968,
    "start_time": "2022-02-17T13:41:22.829Z"
   },
   {
    "duration": -992,
    "start_time": "2022-02-17T13:41:22.854Z"
   },
   {
    "duration": -1009,
    "start_time": "2022-02-17T13:41:22.872Z"
   },
   {
    "duration": 323,
    "start_time": "2022-02-17T13:41:28.091Z"
   },
   {
    "duration": 3,
    "start_time": "2022-02-17T13:41:35.630Z"
   },
   {
    "duration": 3,
    "start_time": "2022-02-17T13:44:35.948Z"
   },
   {
    "duration": 316,
    "start_time": "2022-02-17T13:44:35.953Z"
   },
   {
    "duration": 311,
    "start_time": "2022-02-17T13:44:36.271Z"
   },
   {
    "duration": -349,
    "start_time": "2022-02-17T13:44:36.933Z"
   },
   {
    "duration": -432,
    "start_time": "2022-02-17T13:44:37.017Z"
   },
   {
    "duration": -473,
    "start_time": "2022-02-17T13:44:37.059Z"
   },
   {
    "duration": -492,
    "start_time": "2022-02-17T13:44:37.079Z"
   },
   {
    "duration": -531,
    "start_time": "2022-02-17T13:44:37.119Z"
   },
   {
    "duration": -550,
    "start_time": "2022-02-17T13:44:37.139Z"
   },
   {
    "duration": -574,
    "start_time": "2022-02-17T13:44:37.164Z"
   },
   {
    "duration": -611,
    "start_time": "2022-02-17T13:44:37.202Z"
   },
   {
    "duration": -653,
    "start_time": "2022-02-17T13:44:37.245Z"
   },
   {
    "duration": -749,
    "start_time": "2022-02-17T13:44:37.342Z"
   },
   {
    "duration": -763,
    "start_time": "2022-02-17T13:44:37.357Z"
   },
   {
    "duration": -766,
    "start_time": "2022-02-17T13:44:37.361Z"
   },
   {
    "duration": -775,
    "start_time": "2022-02-17T13:44:37.371Z"
   },
   {
    "duration": -778,
    "start_time": "2022-02-17T13:44:37.375Z"
   },
   {
    "duration": -794,
    "start_time": "2022-02-17T13:44:37.392Z"
   },
   {
    "duration": -810,
    "start_time": "2022-02-17T13:44:37.409Z"
   },
   {
    "duration": -840,
    "start_time": "2022-02-17T13:44:37.440Z"
   },
   {
    "duration": -881,
    "start_time": "2022-02-17T13:44:37.482Z"
   },
   {
    "duration": -898,
    "start_time": "2022-02-17T13:44:37.500Z"
   },
   {
    "duration": -933,
    "start_time": "2022-02-17T13:44:37.536Z"
   },
   {
    "duration": -955,
    "start_time": "2022-02-17T13:44:37.559Z"
   },
   {
    "duration": -980,
    "start_time": "2022-02-17T13:44:37.585Z"
   },
   {
    "duration": -988,
    "start_time": "2022-02-17T13:44:37.594Z"
   },
   {
    "duration": -999,
    "start_time": "2022-02-17T13:44:37.606Z"
   },
   {
    "duration": 3,
    "start_time": "2022-02-17T13:44:49.308Z"
   },
   {
    "duration": 377,
    "start_time": "2022-02-17T13:44:57.990Z"
   },
   {
    "duration": 327,
    "start_time": "2022-02-17T13:45:15.113Z"
   },
   {
    "duration": 37,
    "start_time": "2022-02-17T13:45:19.468Z"
   },
   {
    "duration": 23,
    "start_time": "2022-02-17T13:45:56.227Z"
   },
   {
    "duration": 4,
    "start_time": "2022-02-17T13:46:00.308Z"
   },
   {
    "duration": 283,
    "start_time": "2022-02-17T13:46:00.313Z"
   },
   {
    "duration": 23,
    "start_time": "2022-02-17T13:46:00.599Z"
   },
   {
    "duration": 25,
    "start_time": "2022-02-17T13:46:00.624Z"
   },
   {
    "duration": 7,
    "start_time": "2022-02-17T13:46:00.651Z"
   },
   {
    "duration": 12,
    "start_time": "2022-02-17T13:46:00.660Z"
   },
   {
    "duration": 20,
    "start_time": "2022-02-17T13:46:00.674Z"
   },
   {
    "duration": 186,
    "start_time": "2022-02-17T13:46:00.696Z"
   },
   {
    "duration": 24,
    "start_time": "2022-02-17T13:46:00.883Z"
   },
   {
    "duration": 34,
    "start_time": "2022-02-17T13:46:00.908Z"
   },
   {
    "duration": 25,
    "start_time": "2022-02-17T13:46:00.944Z"
   },
   {
    "duration": 29,
    "start_time": "2022-02-17T13:46:00.971Z"
   },
   {
    "duration": 30,
    "start_time": "2022-02-17T13:46:01.002Z"
   },
   {
    "duration": 99,
    "start_time": "2022-02-17T13:46:01.035Z"
   },
   {
    "duration": 9,
    "start_time": "2022-02-17T13:46:01.136Z"
   },
   {
    "duration": 4,
    "start_time": "2022-02-17T13:46:01.146Z"
   },
   {
    "duration": 10,
    "start_time": "2022-02-17T13:46:01.153Z"
   },
   {
    "duration": 13,
    "start_time": "2022-02-17T13:46:01.165Z"
   },
   {
    "duration": 10,
    "start_time": "2022-02-17T13:46:01.182Z"
   },
   {
    "duration": 39,
    "start_time": "2022-02-17T13:46:01.194Z"
   },
   {
    "duration": 637,
    "start_time": "2022-02-17T13:46:01.235Z"
   },
   {
    "duration": 339,
    "start_time": "2022-02-17T13:46:01.873Z"
   },
   {
    "duration": 787,
    "start_time": "2022-02-17T13:46:02.214Z"
   },
   {
    "duration": 48,
    "start_time": "2022-02-17T13:46:03.003Z"
   },
   {
    "duration": 8,
    "start_time": "2022-02-17T13:46:03.053Z"
   },
   {
    "duration": 4310,
    "start_time": "2022-02-17T13:46:03.063Z"
   },
   {
    "duration": 343,
    "start_time": "2022-02-17T13:46:07.374Z"
   },
   {
    "duration": 339,
    "start_time": "2022-02-17T13:46:53.647Z"
   },
   {
    "duration": 336,
    "start_time": "2022-02-17T13:47:10.607Z"
   },
   {
    "duration": 105,
    "start_time": "2022-02-17T13:48:01.316Z"
   },
   {
    "duration": 368,
    "start_time": "2022-02-17T13:48:17.078Z"
   },
   {
    "duration": 21,
    "start_time": "2022-02-17T13:48:30.476Z"
   },
   {
    "duration": 3,
    "start_time": "2022-02-17T14:07:08.929Z"
   },
   {
    "duration": 289,
    "start_time": "2022-02-17T14:07:08.938Z"
   },
   {
    "duration": 16,
    "start_time": "2022-02-17T14:07:09.229Z"
   },
   {
    "duration": 24,
    "start_time": "2022-02-17T14:07:09.247Z"
   },
   {
    "duration": 7,
    "start_time": "2022-02-17T14:07:09.273Z"
   },
   {
    "duration": 15,
    "start_time": "2022-02-17T14:07:09.282Z"
   },
   {
    "duration": 49,
    "start_time": "2022-02-17T14:07:09.298Z"
   },
   {
    "duration": 163,
    "start_time": "2022-02-17T14:07:09.349Z"
   },
   {
    "duration": 27,
    "start_time": "2022-02-17T14:07:09.513Z"
   },
   {
    "duration": 22,
    "start_time": "2022-02-17T14:07:09.543Z"
   },
   {
    "duration": 38,
    "start_time": "2022-02-17T14:07:09.567Z"
   },
   {
    "duration": 50,
    "start_time": "2022-02-17T14:07:09.607Z"
   },
   {
    "duration": 9,
    "start_time": "2022-02-17T14:07:09.658Z"
   },
   {
    "duration": 10,
    "start_time": "2022-02-17T14:07:09.669Z"
   },
   {
    "duration": 6,
    "start_time": "2022-02-17T14:07:09.681Z"
   },
   {
    "duration": 3,
    "start_time": "2022-02-17T14:07:09.688Z"
   },
   {
    "duration": 40,
    "start_time": "2022-02-17T14:07:09.693Z"
   },
   {
    "duration": 9,
    "start_time": "2022-02-17T14:07:09.735Z"
   },
   {
    "duration": 7,
    "start_time": "2022-02-17T14:07:09.745Z"
   },
   {
    "duration": 3,
    "start_time": "2022-02-17T14:07:09.754Z"
   },
   {
    "duration": 634,
    "start_time": "2022-02-17T14:07:09.758Z"
   },
   {
    "duration": 344,
    "start_time": "2022-02-17T14:07:10.394Z"
   },
   {
    "duration": 456,
    "start_time": "2022-02-17T14:07:10.740Z"
   },
   {
    "duration": 42,
    "start_time": "2022-02-17T14:07:11.197Z"
   },
   {
    "duration": 7,
    "start_time": "2022-02-17T14:07:11.240Z"
   },
   {
    "duration": 2485,
    "start_time": "2022-02-17T14:07:11.248Z"
   },
   {
    "duration": 16,
    "start_time": "2022-02-17T14:07:13.734Z"
   },
   {
    "duration": 584,
    "start_time": "2022-02-17T14:07:13.753Z"
   },
   {
    "duration": 183,
    "start_time": "2022-02-17T14:10:24.492Z"
   },
   {
    "duration": 169,
    "start_time": "2022-02-17T14:13:39.561Z"
   },
   {
    "duration": 358,
    "start_time": "2022-02-17T14:19:08.709Z"
   },
   {
    "duration": 173,
    "start_time": "2022-02-17T14:20:27.508Z"
   },
   {
    "duration": 579,
    "start_time": "2022-02-17T14:28:45.044Z"
   },
   {
    "duration": 318,
    "start_time": "2022-02-17T14:31:14.061Z"
   },
   {
    "duration": 244,
    "start_time": "2022-02-17T14:31:56.491Z"
   },
   {
    "duration": 256,
    "start_time": "2022-02-17T14:32:17.453Z"
   },
   {
    "duration": 175,
    "start_time": "2022-02-17T14:32:33.103Z"
   },
   {
    "duration": 162,
    "start_time": "2022-02-17T14:33:00.993Z"
   },
   {
    "duration": 463,
    "start_time": "2022-02-17T14:33:19.663Z"
   },
   {
    "duration": 164,
    "start_time": "2022-02-17T14:33:33.233Z"
   },
   {
    "duration": 14,
    "start_time": "2022-02-17T14:34:41.091Z"
   },
   {
    "duration": 8201,
    "start_time": "2022-02-17T14:34:42.930Z"
   },
   {
    "duration": 18,
    "start_time": "2022-02-17T14:35:08.330Z"
   },
   {
    "duration": 169,
    "start_time": "2022-02-17T14:35:12.111Z"
   },
   {
    "duration": 2692,
    "start_time": "2022-02-17T14:37:25.978Z"
   },
   {
    "duration": 4003,
    "start_time": "2022-02-17T14:37:39.507Z"
   },
   {
    "duration": 2506,
    "start_time": "2022-02-17T14:38:04.138Z"
   },
   {
    "duration": 2500,
    "start_time": "2022-02-17T14:38:27.000Z"
   },
   {
    "duration": 2154,
    "start_time": "2022-02-17T14:38:45.818Z"
   },
   {
    "duration": 4428,
    "start_time": "2022-02-17T14:40:25.548Z"
   },
   {
    "duration": 259,
    "start_time": "2022-02-17T14:40:38.458Z"
   },
   {
    "duration": 3044,
    "start_time": "2022-02-17T14:41:02.467Z"
   },
   {
    "duration": 2291,
    "start_time": "2022-02-17T14:41:14.199Z"
   },
   {
    "duration": 2260,
    "start_time": "2022-02-17T14:41:26.009Z"
   },
   {
    "duration": 2183,
    "start_time": "2022-02-17T14:42:00.159Z"
   },
   {
    "duration": 2148,
    "start_time": "2022-02-17T14:42:30.059Z"
   },
   {
    "duration": 39,
    "start_time": "2022-02-17T14:42:45.521Z"
   },
   {
    "duration": 164,
    "start_time": "2022-02-17T14:42:48.618Z"
   },
   {
    "duration": 170,
    "start_time": "2022-02-17T14:43:08.698Z"
   },
   {
    "duration": 311,
    "start_time": "2022-02-17T14:43:42.879Z"
   },
   {
    "duration": 167,
    "start_time": "2022-02-17T14:45:00.544Z"
   },
   {
    "duration": 311,
    "start_time": "2022-02-17T14:45:08.554Z"
   },
   {
    "duration": 7993,
    "start_time": "2022-02-17T14:49:13.640Z"
   },
   {
    "duration": 298,
    "start_time": "2022-02-17T14:49:29.327Z"
   },
   {
    "duration": 406,
    "start_time": "2022-02-17T14:50:11.656Z"
   },
   {
    "duration": 7901,
    "start_time": "2022-02-17T15:31:50.543Z"
   },
   {
    "duration": 330,
    "start_time": "2022-02-17T15:32:43.292Z"
   },
   {
    "duration": 49,
    "start_time": "2022-02-17T15:33:01.743Z"
   },
   {
    "duration": 311,
    "start_time": "2022-02-17T15:33:27.054Z"
   },
   {
    "duration": 7930,
    "start_time": "2022-02-17T15:33:39.685Z"
   },
   {
    "duration": 2585,
    "start_time": "2022-02-17T15:35:12.883Z"
   },
   {
    "duration": 640,
    "start_time": "2022-02-17T15:36:53.453Z"
   },
   {
    "duration": 600,
    "start_time": "2022-02-17T15:37:53.104Z"
   },
   {
    "duration": 300,
    "start_time": "2022-02-17T15:38:04.034Z"
   },
   {
    "duration": 423,
    "start_time": "2022-02-17T15:38:24.483Z"
   },
   {
    "duration": 15,
    "start_time": "2022-02-17T15:41:06.784Z"
   },
   {
    "duration": 17,
    "start_time": "2022-02-17T15:41:19.982Z"
   },
   {
    "duration": 17,
    "start_time": "2022-02-17T15:41:30.895Z"
   },
   {
    "duration": 312,
    "start_time": "2022-02-17T15:41:59.556Z"
   },
   {
    "duration": 5,
    "start_time": "2022-02-17T15:42:09.186Z"
   },
   {
    "duration": 368,
    "start_time": "2022-02-17T15:42:09.193Z"
   },
   {
    "duration": 17,
    "start_time": "2022-02-17T15:42:09.563Z"
   },
   {
    "duration": 27,
    "start_time": "2022-02-17T15:42:09.582Z"
   },
   {
    "duration": 22,
    "start_time": "2022-02-17T15:42:09.611Z"
   },
   {
    "duration": 14,
    "start_time": "2022-02-17T15:42:09.634Z"
   },
   {
    "duration": 23,
    "start_time": "2022-02-17T15:42:09.650Z"
   },
   {
    "duration": 173,
    "start_time": "2022-02-17T15:42:09.675Z"
   },
   {
    "duration": 25,
    "start_time": "2022-02-17T15:42:09.851Z"
   },
   {
    "duration": 17,
    "start_time": "2022-02-17T15:42:09.878Z"
   },
   {
    "duration": 62,
    "start_time": "2022-02-17T15:42:09.897Z"
   },
   {
    "duration": 41,
    "start_time": "2022-02-17T15:42:09.961Z"
   },
   {
    "duration": 9,
    "start_time": "2022-02-17T15:42:10.004Z"
   },
   {
    "duration": 16,
    "start_time": "2022-02-17T15:42:10.031Z"
   },
   {
    "duration": 9,
    "start_time": "2022-02-17T15:42:10.049Z"
   },
   {
    "duration": 4,
    "start_time": "2022-02-17T15:42:10.060Z"
   },
   {
    "duration": 11,
    "start_time": "2022-02-17T15:42:10.066Z"
   },
   {
    "duration": 9,
    "start_time": "2022-02-17T15:42:10.078Z"
   },
   {
    "duration": 8,
    "start_time": "2022-02-17T15:42:10.089Z"
   },
   {
    "duration": 4,
    "start_time": "2022-02-17T15:42:10.133Z"
   },
   {
    "duration": 617,
    "start_time": "2022-02-17T15:42:10.139Z"
   },
   {
    "duration": 347,
    "start_time": "2022-02-17T15:42:10.758Z"
   },
   {
    "duration": 466,
    "start_time": "2022-02-17T15:42:11.107Z"
   },
   {
    "duration": 30,
    "start_time": "2022-02-17T15:42:11.574Z"
   },
   {
    "duration": 6,
    "start_time": "2022-02-17T15:42:11.606Z"
   },
   {
    "duration": 2250,
    "start_time": "2022-02-17T15:42:11.614Z"
   },
   {
    "duration": 14,
    "start_time": "2022-02-17T15:42:13.867Z"
   },
   {
    "duration": 331,
    "start_time": "2022-02-17T15:42:13.883Z"
   },
   {
    "duration": -356,
    "start_time": "2022-02-17T15:42:14.573Z"
   },
   {
    "duration": -413,
    "start_time": "2022-02-17T15:42:14.631Z"
   },
   {
    "duration": -419,
    "start_time": "2022-02-17T15:42:14.639Z"
   },
   {
    "duration": 3,
    "start_time": "2022-02-17T15:42:27.984Z"
   },
   {
    "duration": 17,
    "start_time": "2022-02-17T15:42:46.947Z"
   },
   {
    "duration": 16,
    "start_time": "2022-02-17T15:42:48.613Z"
   },
   {
    "duration": 4,
    "start_time": "2022-02-17T15:42:54.414Z"
   },
   {
    "duration": 344,
    "start_time": "2022-02-17T15:43:04.914Z"
   },
   {
    "duration": 21,
    "start_time": "2022-02-17T15:43:26.304Z"
   },
   {
    "duration": 13,
    "start_time": "2022-02-17T15:45:32.623Z"
   },
   {
    "duration": 6,
    "start_time": "2022-02-17T15:45:35.263Z"
   },
   {
    "duration": 5,
    "start_time": "2022-02-17T15:45:37.942Z"
   },
   {
    "duration": 7808,
    "start_time": "2022-02-17T15:45:53.651Z"
   },
   {
    "duration": 21,
    "start_time": "2022-02-17T15:49:07.251Z"
   },
   {
    "duration": 23,
    "start_time": "2022-02-17T15:49:11.631Z"
   },
   {
    "duration": 7722,
    "start_time": "2022-02-17T15:49:22.612Z"
   },
   {
    "duration": 16,
    "start_time": "2022-02-17T15:51:46.132Z"
   },
   {
    "duration": 13,
    "start_time": "2022-02-17T15:51:49.731Z"
   },
   {
    "duration": 7752,
    "start_time": "2022-02-17T15:52:05.252Z"
   },
   {
    "duration": 8109,
    "start_time": "2022-02-17T15:52:18.696Z"
   },
   {
    "duration": 7809,
    "start_time": "2022-02-17T15:52:54.492Z"
   },
   {
    "duration": 163,
    "start_time": "2022-02-17T15:53:31.941Z"
   },
   {
    "duration": 1809,
    "start_time": "2022-02-17T15:55:25.111Z"
   },
   {
    "duration": 7841,
    "start_time": "2022-02-17T15:56:36.859Z"
   },
   {
    "duration": 419,
    "start_time": "2022-02-17T15:57:20.865Z"
   },
   {
    "duration": 7885,
    "start_time": "2022-02-17T15:58:41.912Z"
   },
   {
    "duration": 7769,
    "start_time": "2022-02-17T16:16:45.479Z"
   },
   {
    "duration": 16,
    "start_time": "2022-02-17T16:18:39.256Z"
   },
   {
    "duration": -710,
    "start_time": "2022-02-17T16:18:51.192Z"
   },
   {
    "duration": -730,
    "start_time": "2022-02-17T16:18:51.212Z"
   },
   {
    "duration": -738,
    "start_time": "2022-02-17T16:18:51.221Z"
   },
   {
    "duration": -743,
    "start_time": "2022-02-17T16:18:51.227Z"
   },
   {
    "duration": -747,
    "start_time": "2022-02-17T16:18:51.232Z"
   },
   {
    "duration": -750,
    "start_time": "2022-02-17T16:18:51.236Z"
   },
   {
    "duration": -752,
    "start_time": "2022-02-17T16:18:51.239Z"
   },
   {
    "duration": -753,
    "start_time": "2022-02-17T16:18:51.241Z"
   },
   {
    "duration": -755,
    "start_time": "2022-02-17T16:18:51.244Z"
   },
   {
    "duration": -756,
    "start_time": "2022-02-17T16:18:51.246Z"
   },
   {
    "duration": -757,
    "start_time": "2022-02-17T16:18:51.248Z"
   },
   {
    "duration": -758,
    "start_time": "2022-02-17T16:18:51.250Z"
   },
   {
    "duration": -759,
    "start_time": "2022-02-17T16:18:51.252Z"
   },
   {
    "duration": -760,
    "start_time": "2022-02-17T16:18:51.254Z"
   },
   {
    "duration": -759,
    "start_time": "2022-02-17T16:18:51.255Z"
   },
   {
    "duration": -760,
    "start_time": "2022-02-17T16:18:51.257Z"
   },
   {
    "duration": -761,
    "start_time": "2022-02-17T16:18:51.259Z"
   },
   {
    "duration": -953,
    "start_time": "2022-02-17T16:18:51.453Z"
   },
   {
    "duration": -972,
    "start_time": "2022-02-17T16:18:51.473Z"
   },
   {
    "duration": -975,
    "start_time": "2022-02-17T16:18:51.478Z"
   },
   {
    "duration": -978,
    "start_time": "2022-02-17T16:18:51.483Z"
   },
   {
    "duration": -980,
    "start_time": "2022-02-17T16:18:51.486Z"
   },
   {
    "duration": -981,
    "start_time": "2022-02-17T16:18:51.488Z"
   },
   {
    "duration": -983,
    "start_time": "2022-02-17T16:18:51.491Z"
   },
   {
    "duration": -984,
    "start_time": "2022-02-17T16:18:51.493Z"
   },
   {
    "duration": -984,
    "start_time": "2022-02-17T16:18:51.494Z"
   },
   {
    "duration": -985,
    "start_time": "2022-02-17T16:18:51.496Z"
   },
   {
    "duration": -986,
    "start_time": "2022-02-17T16:18:51.498Z"
   },
   {
    "duration": -988,
    "start_time": "2022-02-17T16:18:51.501Z"
   },
   {
    "duration": -989,
    "start_time": "2022-02-17T16:18:51.503Z"
   },
   {
    "duration": -989,
    "start_time": "2022-02-17T16:18:51.504Z"
   },
   {
    "duration": -990,
    "start_time": "2022-02-17T16:18:51.506Z"
   },
   {
    "duration": 4,
    "start_time": "2022-02-17T16:19:07.737Z"
   },
   {
    "duration": 360,
    "start_time": "2022-02-17T16:19:07.744Z"
   },
   {
    "duration": 23,
    "start_time": "2022-02-17T16:19:08.107Z"
   },
   {
    "duration": 39,
    "start_time": "2022-02-17T16:19:08.132Z"
   },
   {
    "duration": 11,
    "start_time": "2022-02-17T16:19:08.173Z"
   },
   {
    "duration": 14,
    "start_time": "2022-02-17T16:19:08.186Z"
   },
   {
    "duration": 30,
    "start_time": "2022-02-17T16:19:08.232Z"
   },
   {
    "duration": 262,
    "start_time": "2022-02-17T16:19:08.264Z"
   },
   {
    "duration": 31,
    "start_time": "2022-02-17T16:19:08.532Z"
   },
   {
    "duration": 25,
    "start_time": "2022-02-17T16:19:08.566Z"
   },
   {
    "duration": 51,
    "start_time": "2022-02-17T16:19:08.593Z"
   },
   {
    "duration": 42,
    "start_time": "2022-02-17T16:19:08.646Z"
   },
   {
    "duration": 8,
    "start_time": "2022-02-17T16:19:08.690Z"
   },
   {
    "duration": 36,
    "start_time": "2022-02-17T16:19:08.699Z"
   },
   {
    "duration": 7,
    "start_time": "2022-02-17T16:19:08.737Z"
   },
   {
    "duration": 3,
    "start_time": "2022-02-17T16:19:08.746Z"
   },
   {
    "duration": 8,
    "start_time": "2022-02-17T16:19:08.751Z"
   },
   {
    "duration": 9,
    "start_time": "2022-02-17T16:19:08.761Z"
   },
   {
    "duration": 8,
    "start_time": "2022-02-17T16:19:08.772Z"
   },
   {
    "duration": 52,
    "start_time": "2022-02-17T16:19:08.781Z"
   },
   {
    "duration": 629,
    "start_time": "2022-02-17T16:19:08.834Z"
   },
   {
    "duration": 555,
    "start_time": "2022-02-17T16:19:09.466Z"
   },
   {
    "duration": 751,
    "start_time": "2022-02-17T16:19:10.023Z"
   },
   {
    "duration": 55,
    "start_time": "2022-02-17T16:19:10.776Z"
   },
   {
    "duration": 6,
    "start_time": "2022-02-17T16:19:10.834Z"
   },
   {
    "duration": 4071,
    "start_time": "2022-02-17T16:19:10.842Z"
   },
   {
    "duration": 28,
    "start_time": "2022-02-17T16:19:14.917Z"
   },
   {
    "duration": 11797,
    "start_time": "2022-02-17T16:19:14.947Z"
   },
   {
    "duration": -484,
    "start_time": "2022-02-17T16:19:27.229Z"
   },
   {
    "duration": -495,
    "start_time": "2022-02-17T16:19:27.241Z"
   },
   {
    "duration": -509,
    "start_time": "2022-02-17T16:19:27.257Z"
   },
   {
    "duration": -512,
    "start_time": "2022-02-17T16:19:27.261Z"
   },
   {
    "duration": -515,
    "start_time": "2022-02-17T16:19:27.264Z"
   },
   {
    "duration": 8045,
    "start_time": "2022-02-17T16:19:32.416Z"
   },
   {
    "duration": 1523,
    "start_time": "2022-02-17T16:19:47.596Z"
   },
   {
    "duration": 27,
    "start_time": "2022-02-17T16:20:23.566Z"
   },
   {
    "duration": 325,
    "start_time": "2022-02-17T16:21:16.108Z"
   },
   {
    "duration": 341,
    "start_time": "2022-02-17T16:21:48.587Z"
   },
   {
    "duration": -622,
    "start_time": "2022-02-17T16:23:10.612Z"
   },
   {
    "duration": 7680,
    "start_time": "2022-02-17T16:23:16.247Z"
   },
   {
    "duration": 691,
    "start_time": "2022-02-17T16:23:45.267Z"
   },
   {
    "duration": 27,
    "start_time": "2022-02-17T16:24:00.864Z"
   },
   {
    "duration": 568,
    "start_time": "2022-02-17T16:24:09.751Z"
   },
   {
    "duration": 192,
    "start_time": "2022-02-17T16:24:17.420Z"
   },
   {
    "duration": 228,
    "start_time": "2022-02-19T11:22:43.729Z"
   },
   {
    "duration": 1261,
    "start_time": "2022-02-19T11:22:53.754Z"
   },
   {
    "duration": 264,
    "start_time": "2022-02-19T11:22:55.017Z"
   },
   {
    "duration": 19,
    "start_time": "2022-02-19T11:22:55.283Z"
   },
   {
    "duration": 33,
    "start_time": "2022-02-19T11:22:55.305Z"
   },
   {
    "duration": 8,
    "start_time": "2022-02-19T11:22:55.340Z"
   },
   {
    "duration": 12,
    "start_time": "2022-02-19T11:22:55.350Z"
   },
   {
    "duration": 27,
    "start_time": "2022-02-19T11:22:55.363Z"
   },
   {
    "duration": 191,
    "start_time": "2022-02-19T11:22:55.392Z"
   },
   {
    "duration": 26,
    "start_time": "2022-02-19T11:22:55.585Z"
   },
   {
    "duration": 35,
    "start_time": "2022-02-19T11:22:55.612Z"
   },
   {
    "duration": 31,
    "start_time": "2022-02-19T11:22:55.649Z"
   },
   {
    "duration": 54,
    "start_time": "2022-02-19T11:22:55.682Z"
   },
   {
    "duration": 7,
    "start_time": "2022-02-19T11:22:55.737Z"
   },
   {
    "duration": 12,
    "start_time": "2022-02-19T11:22:55.746Z"
   },
   {
    "duration": 6,
    "start_time": "2022-02-19T11:22:55.760Z"
   },
   {
    "duration": 4,
    "start_time": "2022-02-19T11:22:55.767Z"
   },
   {
    "duration": 13,
    "start_time": "2022-02-19T11:22:55.773Z"
   },
   {
    "duration": 11,
    "start_time": "2022-02-19T11:22:55.788Z"
   },
   {
    "duration": 36,
    "start_time": "2022-02-19T11:22:55.800Z"
   },
   {
    "duration": 3,
    "start_time": "2022-02-19T11:22:55.837Z"
   },
   {
    "duration": 656,
    "start_time": "2022-02-19T11:22:55.842Z"
   },
   {
    "duration": 347,
    "start_time": "2022-02-19T11:22:56.500Z"
   },
   {
    "duration": 476,
    "start_time": "2022-02-19T11:22:56.849Z"
   },
   {
    "duration": 33,
    "start_time": "2022-02-19T11:22:57.330Z"
   },
   {
    "duration": 5,
    "start_time": "2022-02-19T11:22:57.364Z"
   },
   {
    "duration": 2294,
    "start_time": "2022-02-19T11:22:57.370Z"
   },
   {
    "duration": 597,
    "start_time": "2022-02-19T11:22:59.665Z"
   },
   {
    "duration": -1050,
    "start_time": "2022-02-19T11:23:01.313Z"
   },
   {
    "duration": 394,
    "start_time": "2022-02-19T11:23:56.211Z"
   },
   {
    "duration": 379,
    "start_time": "2022-02-19T11:24:24.597Z"
   },
   {
    "duration": 194,
    "start_time": "2022-02-19T11:24:44.274Z"
   },
   {
    "duration": 183,
    "start_time": "2022-02-19T11:25:17.874Z"
   },
   {
    "duration": 186,
    "start_time": "2022-02-19T11:26:00.774Z"
   },
   {
    "duration": 192,
    "start_time": "2022-02-19T12:03:58.583Z"
   },
   {
    "duration": 205,
    "start_time": "2022-02-19T12:04:08.029Z"
   },
   {
    "duration": 189,
    "start_time": "2022-02-19T12:04:34.796Z"
   },
   {
    "duration": 376,
    "start_time": "2022-02-19T12:07:33.280Z"
   },
   {
    "duration": 700,
    "start_time": "2022-02-19T12:11:07.279Z"
   },
   {
    "duration": 555,
    "start_time": "2022-02-19T12:12:04.188Z"
   },
   {
    "duration": 572,
    "start_time": "2022-02-19T12:24:57.617Z"
   },
   {
    "duration": 719,
    "start_time": "2022-02-19T12:26:11.403Z"
   },
   {
    "duration": 6,
    "start_time": "2022-02-19T12:54:30.525Z"
   },
   {
    "duration": 8,
    "start_time": "2022-02-19T12:58:11.317Z"
   },
   {
    "duration": 6,
    "start_time": "2022-02-19T12:58:27.795Z"
   },
   {
    "duration": 5,
    "start_time": "2022-02-19T12:58:50.485Z"
   },
   {
    "duration": 11,
    "start_time": "2022-02-19T13:16:00.919Z"
   },
   {
    "duration": 4,
    "start_time": "2022-02-19T13:19:46.080Z"
   },
   {
    "duration": 11,
    "start_time": "2022-02-19T13:20:12.664Z"
   },
   {
    "duration": 5,
    "start_time": "2022-02-19T13:20:21.733Z"
   },
   {
    "duration": 566,
    "start_time": "2022-02-19T13:30:52.194Z"
   },
   {
    "duration": 7,
    "start_time": "2022-02-19T13:30:59.318Z"
   },
   {
    "duration": 551,
    "start_time": "2022-02-19T13:31:24.470Z"
   },
   {
    "duration": 6,
    "start_time": "2022-02-19T13:31:32.201Z"
   },
   {
    "duration": 4,
    "start_time": "2022-02-19T13:31:35.068Z"
   },
   {
    "duration": 273,
    "start_time": "2022-02-19T13:31:35.076Z"
   },
   {
    "duration": 16,
    "start_time": "2022-02-19T13:31:35.351Z"
   },
   {
    "duration": 25,
    "start_time": "2022-02-19T13:31:35.369Z"
   },
   {
    "duration": 7,
    "start_time": "2022-02-19T13:31:35.396Z"
   },
   {
    "duration": 32,
    "start_time": "2022-02-19T13:31:35.405Z"
   },
   {
    "duration": 22,
    "start_time": "2022-02-19T13:31:35.438Z"
   },
   {
    "duration": 177,
    "start_time": "2022-02-19T13:31:35.462Z"
   },
   {
    "duration": 23,
    "start_time": "2022-02-19T13:31:35.641Z"
   },
   {
    "duration": 16,
    "start_time": "2022-02-19T13:31:35.666Z"
   },
   {
    "duration": 48,
    "start_time": "2022-02-19T13:31:35.684Z"
   },
   {
    "duration": 28,
    "start_time": "2022-02-19T13:31:35.733Z"
   },
   {
    "duration": 7,
    "start_time": "2022-02-19T13:31:35.762Z"
   },
   {
    "duration": 11,
    "start_time": "2022-02-19T13:31:35.770Z"
   },
   {
    "duration": 7,
    "start_time": "2022-02-19T13:31:35.782Z"
   },
   {
    "duration": 4,
    "start_time": "2022-02-19T13:31:35.790Z"
   },
   {
    "duration": 37,
    "start_time": "2022-02-19T13:31:35.795Z"
   },
   {
    "duration": 9,
    "start_time": "2022-02-19T13:31:35.834Z"
   },
   {
    "duration": 8,
    "start_time": "2022-02-19T13:31:35.844Z"
   },
   {
    "duration": 4,
    "start_time": "2022-02-19T13:31:35.853Z"
   },
   {
    "duration": 647,
    "start_time": "2022-02-19T13:31:35.858Z"
   },
   {
    "duration": 361,
    "start_time": "2022-02-19T13:31:36.507Z"
   },
   {
    "duration": 477,
    "start_time": "2022-02-19T13:31:36.869Z"
   },
   {
    "duration": 31,
    "start_time": "2022-02-19T13:31:37.349Z"
   },
   {
    "duration": 6,
    "start_time": "2022-02-19T13:31:37.382Z"
   },
   {
    "duration": 2419,
    "start_time": "2022-02-19T13:31:37.389Z"
   },
   {
    "duration": 590,
    "start_time": "2022-02-19T13:31:39.809Z"
   },
   {
    "duration": 724,
    "start_time": "2022-02-19T13:31:40.400Z"
   },
   {
    "duration": 6,
    "start_time": "2022-02-19T13:31:41.130Z"
   },
   {
    "duration": 8,
    "start_time": "2022-02-19T13:31:41.138Z"
   },
   {
    "duration": 3,
    "start_time": "2022-02-19T13:37:45.104Z"
   },
   {
    "duration": 190,
    "start_time": "2022-02-19T13:37:55.164Z"
   },
   {
    "duration": 4,
    "start_time": "2022-02-19T13:38:20.198Z"
   },
   {
    "duration": 6,
    "start_time": "2022-02-19T13:38:24.756Z"
   },
   {
    "duration": 7,
    "start_time": "2022-02-19T13:38:51.211Z"
   },
   {
    "duration": 190,
    "start_time": "2022-02-19T13:39:04.571Z"
   },
   {
    "duration": 6,
    "start_time": "2022-02-19T13:39:07.595Z"
   },
   {
    "duration": 4737,
    "start_time": "2022-02-19T13:41:41.723Z"
   },
   {
    "duration": 7,
    "start_time": "2022-02-19T13:46:38.512Z"
   },
   {
    "duration": 6,
    "start_time": "2022-02-19T13:46:46.830Z"
   },
   {
    "duration": 192,
    "start_time": "2022-02-19T13:56:15.064Z"
   },
   {
    "duration": 6,
    "start_time": "2022-02-19T13:56:34.440Z"
   },
   {
    "duration": 6,
    "start_time": "2022-02-19T14:05:09.317Z"
   },
   {
    "duration": 571,
    "start_time": "2022-02-19T14:09:37.568Z"
   },
   {
    "duration": 6,
    "start_time": "2022-02-19T14:19:09.376Z"
   },
   {
    "duration": 4,
    "start_time": "2022-02-19T14:19:18.104Z"
   },
   {
    "duration": 61,
    "start_time": "2022-02-19T14:19:46.616Z"
   },
   {
    "duration": 5,
    "start_time": "2022-02-19T14:19:51.168Z"
   },
   {
    "duration": 6,
    "start_time": "2022-02-19T14:30:16.050Z"
   },
   {
    "duration": 5,
    "start_time": "2022-02-19T14:30:24.631Z"
   },
   {
    "duration": 8,
    "start_time": "2022-02-19T14:30:45.105Z"
   },
   {
    "duration": 11,
    "start_time": "2022-02-19T14:32:11.837Z"
   },
   {
    "duration": 7,
    "start_time": "2022-02-19T14:39:25.789Z"
   },
   {
    "duration": 5,
    "start_time": "2022-02-19T14:39:33.000Z"
   },
   {
    "duration": 207,
    "start_time": "2022-02-19T14:42:45.142Z"
   },
   {
    "duration": 197,
    "start_time": "2022-02-19T14:42:53.082Z"
   },
   {
    "duration": 17,
    "start_time": "2022-02-19T14:43:27.182Z"
   },
   {
    "duration": 17,
    "start_time": "2022-02-19T14:44:05.031Z"
   },
   {
    "duration": 5,
    "start_time": "2022-02-19T14:46:19.569Z"
   },
   {
    "duration": 5,
    "start_time": "2022-02-19T14:49:24.496Z"
   },
   {
    "duration": 14,
    "start_time": "2022-02-19T14:49:40.731Z"
   },
   {
    "duration": 14,
    "start_time": "2022-02-19T14:50:17.848Z"
   },
   {
    "duration": 7,
    "start_time": "2022-02-19T14:52:13.831Z"
   },
   {
    "duration": 4,
    "start_time": "2022-02-19T14:52:33.637Z"
   },
   {
    "duration": 283,
    "start_time": "2022-02-19T14:52:33.644Z"
   },
   {
    "duration": 17,
    "start_time": "2022-02-19T14:52:33.929Z"
   },
   {
    "duration": 26,
    "start_time": "2022-02-19T14:52:33.948Z"
   },
   {
    "duration": 9,
    "start_time": "2022-02-19T14:52:33.976Z"
   },
   {
    "duration": 10,
    "start_time": "2022-02-19T14:52:33.987Z"
   },
   {
    "duration": 45,
    "start_time": "2022-02-19T14:52:33.999Z"
   },
   {
    "duration": 184,
    "start_time": "2022-02-19T14:52:34.047Z"
   },
   {
    "duration": 24,
    "start_time": "2022-02-19T14:52:34.233Z"
   },
   {
    "duration": 25,
    "start_time": "2022-02-19T14:52:34.259Z"
   },
   {
    "duration": 25,
    "start_time": "2022-02-19T14:52:34.285Z"
   },
   {
    "duration": 29,
    "start_time": "2022-02-19T14:52:34.330Z"
   },
   {
    "duration": 7,
    "start_time": "2022-02-19T14:52:34.361Z"
   },
   {
    "duration": 11,
    "start_time": "2022-02-19T14:52:34.369Z"
   },
   {
    "duration": 7,
    "start_time": "2022-02-19T14:52:34.382Z"
   },
   {
    "duration": 4,
    "start_time": "2022-02-19T14:52:34.390Z"
   },
   {
    "duration": 42,
    "start_time": "2022-02-19T14:52:34.395Z"
   },
   {
    "duration": 10,
    "start_time": "2022-02-19T14:52:34.439Z"
   },
   {
    "duration": 6,
    "start_time": "2022-02-19T14:52:34.451Z"
   },
   {
    "duration": 3,
    "start_time": "2022-02-19T14:52:34.459Z"
   },
   {
    "duration": 678,
    "start_time": "2022-02-19T14:52:34.463Z"
   },
   {
    "duration": 347,
    "start_time": "2022-02-19T14:52:35.143Z"
   },
   {
    "duration": 469,
    "start_time": "2022-02-19T14:52:35.493Z"
   },
   {
    "duration": 30,
    "start_time": "2022-02-19T14:52:35.964Z"
   },
   {
    "duration": 5,
    "start_time": "2022-02-19T14:52:35.996Z"
   },
   {
    "duration": 2321,
    "start_time": "2022-02-19T14:52:36.002Z"
   },
   {
    "duration": 8,
    "start_time": "2022-02-19T14:52:38.324Z"
   },
   {
    "duration": 18,
    "start_time": "2022-02-19T14:52:38.333Z"
   },
   {
    "duration": 11,
    "start_time": "2022-02-19T14:52:38.353Z"
   },
   {
    "duration": 581,
    "start_time": "2022-02-19T14:52:38.365Z"
   },
   {
    "duration": 631,
    "start_time": "2022-02-19T14:52:38.947Z"
   },
   {
    "duration": 9,
    "start_time": "2022-02-19T14:52:39.580Z"
   },
   {
    "duration": 5,
    "start_time": "2022-02-19T14:52:39.590Z"
   },
   {
    "duration": 4,
    "start_time": "2022-02-19T14:52:39.597Z"
   },
   {
    "duration": 29,
    "start_time": "2022-02-19T14:52:39.603Z"
   },
   {
    "duration": 3,
    "start_time": "2022-02-19T14:52:39.634Z"
   },
   {
    "duration": 12,
    "start_time": "2022-02-19T14:54:56.667Z"
   },
   {
    "duration": 4,
    "start_time": "2022-02-19T14:55:01.815Z"
   },
   {
    "duration": 293,
    "start_time": "2022-02-19T14:55:01.821Z"
   },
   {
    "duration": 17,
    "start_time": "2022-02-19T14:55:02.116Z"
   },
   {
    "duration": 26,
    "start_time": "2022-02-19T14:55:02.135Z"
   },
   {
    "duration": 9,
    "start_time": "2022-02-19T14:55:02.163Z"
   },
   {
    "duration": 11,
    "start_time": "2022-02-19T14:55:02.174Z"
   },
   {
    "duration": 47,
    "start_time": "2022-02-19T14:55:02.186Z"
   },
   {
    "duration": 186,
    "start_time": "2022-02-19T14:55:02.235Z"
   },
   {
    "duration": 29,
    "start_time": "2022-02-19T14:55:02.424Z"
   },
   {
    "duration": 18,
    "start_time": "2022-02-19T14:55:02.455Z"
   },
   {
    "duration": 25,
    "start_time": "2022-02-19T14:55:02.474Z"
   },
   {
    "duration": 55,
    "start_time": "2022-02-19T14:55:02.500Z"
   },
   {
    "duration": 7,
    "start_time": "2022-02-19T14:55:02.556Z"
   },
   {
    "duration": 12,
    "start_time": "2022-02-19T14:55:02.565Z"
   },
   {
    "duration": 7,
    "start_time": "2022-02-19T14:55:02.578Z"
   },
   {
    "duration": 3,
    "start_time": "2022-02-19T14:55:02.587Z"
   },
   {
    "duration": 41,
    "start_time": "2022-02-19T14:55:02.592Z"
   },
   {
    "duration": 17,
    "start_time": "2022-02-19T14:55:02.635Z"
   },
   {
    "duration": 10,
    "start_time": "2022-02-19T14:55:02.653Z"
   },
   {
    "duration": 3,
    "start_time": "2022-02-19T14:55:02.664Z"
   },
   {
    "duration": 627,
    "start_time": "2022-02-19T14:55:02.669Z"
   },
   {
    "duration": 350,
    "start_time": "2022-02-19T14:55:03.298Z"
   },
   {
    "duration": 474,
    "start_time": "2022-02-19T14:55:03.649Z"
   },
   {
    "duration": 30,
    "start_time": "2022-02-19T14:55:04.129Z"
   },
   {
    "duration": 4,
    "start_time": "2022-02-19T14:55:04.161Z"
   },
   {
    "duration": 2318,
    "start_time": "2022-02-19T14:55:04.167Z"
   },
   {
    "duration": 4,
    "start_time": "2022-02-19T14:55:06.487Z"
   },
   {
    "duration": 19,
    "start_time": "2022-02-19T14:55:06.492Z"
   },
   {
    "duration": 23,
    "start_time": "2022-02-19T14:55:06.513Z"
   },
   {
    "duration": 604,
    "start_time": "2022-02-19T14:55:06.538Z"
   },
   {
    "duration": 595,
    "start_time": "2022-02-19T14:55:07.143Z"
   },
   {
    "duration": 6,
    "start_time": "2022-02-19T14:55:07.740Z"
   },
   {
    "duration": 6,
    "start_time": "2022-02-19T14:55:07.747Z"
   },
   {
    "duration": 12,
    "start_time": "2022-02-19T14:56:19.631Z"
   },
   {
    "duration": 11,
    "start_time": "2022-02-19T14:57:03.779Z"
   },
   {
    "duration": 34,
    "start_time": "2022-02-19T14:57:26.368Z"
   },
   {
    "duration": 458,
    "start_time": "2022-02-19T14:59:09.773Z"
   },
   {
    "duration": 14,
    "start_time": "2022-02-19T15:00:42.411Z"
   },
   {
    "duration": 24,
    "start_time": "2022-02-19T15:00:49.693Z"
   },
   {
    "duration": 463,
    "start_time": "2022-02-19T15:00:58.501Z"
   },
   {
    "duration": 37,
    "start_time": "2022-02-19T15:02:58.507Z"
   },
   {
    "duration": 36,
    "start_time": "2022-02-19T15:03:15.246Z"
   },
   {
    "duration": 30,
    "start_time": "2022-02-19T15:03:24.376Z"
   },
   {
    "duration": 13,
    "start_time": "2022-02-19T15:03:30.022Z"
   },
   {
    "duration": 13,
    "start_time": "2022-02-19T15:04:10.019Z"
   },
   {
    "duration": 3,
    "start_time": "2022-02-19T15:06:31.841Z"
   },
   {
    "duration": 265,
    "start_time": "2022-02-19T15:06:31.848Z"
   },
   {
    "duration": 18,
    "start_time": "2022-02-19T15:06:32.115Z"
   },
   {
    "duration": 26,
    "start_time": "2022-02-19T15:06:32.135Z"
   },
   {
    "duration": 11,
    "start_time": "2022-02-19T15:06:32.164Z"
   },
   {
    "duration": 12,
    "start_time": "2022-02-19T15:06:32.177Z"
   },
   {
    "duration": 48,
    "start_time": "2022-02-19T15:06:32.190Z"
   },
   {
    "duration": 171,
    "start_time": "2022-02-19T15:06:32.239Z"
   },
   {
    "duration": 31,
    "start_time": "2022-02-19T15:06:32.412Z"
   },
   {
    "duration": 18,
    "start_time": "2022-02-19T15:06:32.445Z"
   },
   {
    "duration": 27,
    "start_time": "2022-02-19T15:06:32.465Z"
   },
   {
    "duration": 54,
    "start_time": "2022-02-19T15:06:32.494Z"
   },
   {
    "duration": 8,
    "start_time": "2022-02-19T15:06:32.551Z"
   },
   {
    "duration": 13,
    "start_time": "2022-02-19T15:06:32.560Z"
   },
   {
    "duration": 6,
    "start_time": "2022-02-19T15:06:32.575Z"
   },
   {
    "duration": 3,
    "start_time": "2022-02-19T15:06:32.583Z"
   },
   {
    "duration": 43,
    "start_time": "2022-02-19T15:06:32.588Z"
   },
   {
    "duration": 11,
    "start_time": "2022-02-19T15:06:32.632Z"
   },
   {
    "duration": 8,
    "start_time": "2022-02-19T15:06:32.644Z"
   },
   {
    "duration": 3,
    "start_time": "2022-02-19T15:06:32.654Z"
   },
   {
    "duration": 636,
    "start_time": "2022-02-19T15:06:32.658Z"
   },
   {
    "duration": 367,
    "start_time": "2022-02-19T15:06:33.296Z"
   },
   {
    "duration": 455,
    "start_time": "2022-02-19T15:06:33.665Z"
   },
   {
    "duration": 36,
    "start_time": "2022-02-19T15:06:34.123Z"
   },
   {
    "duration": 12,
    "start_time": "2022-02-19T15:06:34.160Z"
   },
   {
    "duration": 23,
    "start_time": "2022-02-19T15:06:34.174Z"
   },
   {
    "duration": 5,
    "start_time": "2022-02-19T15:06:34.199Z"
   },
   {
    "duration": 2326,
    "start_time": "2022-02-19T15:06:34.205Z"
   },
   {
    "duration": 588,
    "start_time": "2022-02-19T15:06:36.532Z"
   },
   {
    "duration": 685,
    "start_time": "2022-02-19T15:06:37.122Z"
   },
   {
    "duration": 7,
    "start_time": "2022-02-19T15:06:37.809Z"
   },
   {
    "duration": 17,
    "start_time": "2022-02-19T15:06:37.818Z"
   },
   {
    "duration": 5,
    "start_time": "2022-02-19T15:08:08.977Z"
   },
   {
    "duration": 189,
    "start_time": "2022-02-19T15:08:18.366Z"
   },
   {
    "duration": 5,
    "start_time": "2022-02-19T15:08:27.351Z"
   },
   {
    "duration": 5,
    "start_time": "2022-02-19T15:08:46.312Z"
   },
   {
    "duration": 212,
    "start_time": "2022-02-19T15:12:30.851Z"
   },
   {
    "duration": 3,
    "start_time": "2022-02-19T15:13:09.193Z"
   },
   {
    "duration": 15,
    "start_time": "2022-02-19T15:15:20.057Z"
   },
   {
    "duration": 15,
    "start_time": "2022-02-19T15:15:47.466Z"
   },
   {
    "duration": 14,
    "start_time": "2022-02-19T15:16:14.057Z"
   },
   {
    "duration": 3,
    "start_time": "2022-02-19T15:16:27.738Z"
   },
   {
    "duration": 279,
    "start_time": "2022-02-19T15:16:27.744Z"
   },
   {
    "duration": 18,
    "start_time": "2022-02-19T15:16:28.025Z"
   },
   {
    "duration": 29,
    "start_time": "2022-02-19T15:16:28.045Z"
   },
   {
    "duration": 9,
    "start_time": "2022-02-19T15:16:28.076Z"
   },
   {
    "duration": 12,
    "start_time": "2022-02-19T15:16:28.087Z"
   },
   {
    "duration": 52,
    "start_time": "2022-02-19T15:16:28.100Z"
   },
   {
    "duration": 187,
    "start_time": "2022-02-19T15:16:28.154Z"
   },
   {
    "duration": 6,
    "start_time": "2022-02-19T15:24:42.206Z"
   },
   {
    "duration": 6,
    "start_time": "2022-02-19T15:40:07.219Z"
   },
   {
    "duration": 178,
    "start_time": "2022-02-19T15:42:23.803Z"
   },
   {
    "duration": 8,
    "start_time": "2022-02-19T15:46:24.091Z"
   },
   {
    "duration": 7,
    "start_time": "2022-02-19T15:46:56.615Z"
   },
   {
    "duration": 3316,
    "start_time": "2022-02-19T16:04:16.442Z"
   },
   {
    "duration": 154,
    "start_time": "2022-02-19T16:04:32.540Z"
   },
   {
    "duration": 342,
    "start_time": "2022-02-19T16:04:44.608Z"
   },
   {
    "duration": 170,
    "start_time": "2022-02-19T16:04:52.841Z"
   },
   {
    "duration": 219,
    "start_time": "2022-02-19T16:06:35.261Z"
   },
   {
    "duration": 236,
    "start_time": "2022-02-19T16:24:10.636Z"
   },
   {
    "duration": 192,
    "start_time": "2022-02-19T16:24:16.065Z"
   },
   {
    "duration": 1250,
    "start_time": "2022-02-19T16:24:21.380Z"
   },
   {
    "duration": 266,
    "start_time": "2022-02-19T16:24:22.632Z"
   },
   {
    "duration": 23,
    "start_time": "2022-02-19T16:24:22.900Z"
   },
   {
    "duration": 43,
    "start_time": "2022-02-19T16:24:22.925Z"
   },
   {
    "duration": 12,
    "start_time": "2022-02-19T16:24:22.970Z"
   },
   {
    "duration": 14,
    "start_time": "2022-02-19T16:24:22.984Z"
   },
   {
    "duration": 46,
    "start_time": "2022-02-19T16:24:22.999Z"
   },
   {
    "duration": 191,
    "start_time": "2022-02-19T16:24:23.047Z"
   },
   {
    "duration": 23,
    "start_time": "2022-02-19T16:24:23.240Z"
   },
   {
    "duration": 26,
    "start_time": "2022-02-19T16:24:23.265Z"
   },
   {
    "duration": 57,
    "start_time": "2022-02-19T16:24:23.293Z"
   },
   {
    "duration": 7,
    "start_time": "2022-02-19T16:24:23.351Z"
   },
   {
    "duration": 11,
    "start_time": "2022-02-19T16:24:23.360Z"
   },
   {
    "duration": 6,
    "start_time": "2022-02-19T16:24:23.373Z"
   },
   {
    "duration": 3,
    "start_time": "2022-02-19T16:24:23.381Z"
   },
   {
    "duration": 46,
    "start_time": "2022-02-19T16:24:23.385Z"
   },
   {
    "duration": 14,
    "start_time": "2022-02-19T16:24:23.432Z"
   },
   {
    "duration": 8,
    "start_time": "2022-02-19T16:24:23.447Z"
   },
   {
    "duration": 3,
    "start_time": "2022-02-19T16:24:23.457Z"
   },
   {
    "duration": 751,
    "start_time": "2022-02-19T16:24:23.461Z"
   },
   {
    "duration": 342,
    "start_time": "2022-02-19T16:24:24.213Z"
   },
   {
    "duration": 454,
    "start_time": "2022-02-19T16:24:24.557Z"
   },
   {
    "duration": 43,
    "start_time": "2022-02-19T16:24:25.014Z"
   },
   {
    "duration": 12,
    "start_time": "2022-02-19T16:24:25.059Z"
   },
   {
    "duration": 23,
    "start_time": "2022-02-19T16:24:25.073Z"
   },
   {
    "duration": 5,
    "start_time": "2022-02-19T16:24:25.098Z"
   },
   {
    "duration": 2382,
    "start_time": "2022-02-19T16:24:25.105Z"
   },
   {
    "duration": 657,
    "start_time": "2022-02-19T16:24:27.488Z"
   },
   {
    "duration": 572,
    "start_time": "2022-02-19T16:24:28.147Z"
   },
   {
    "duration": 13,
    "start_time": "2022-02-19T16:24:28.721Z"
   },
   {
    "duration": 7,
    "start_time": "2022-02-19T16:24:28.735Z"
   },
   {
    "duration": 5182,
    "start_time": "2022-02-19T16:24:28.743Z"
   },
   {
    "duration": 224,
    "start_time": "2022-02-19T16:27:14.414Z"
   },
   {
    "duration": 1215,
    "start_time": "2022-02-19T16:27:19.598Z"
   },
   {
    "duration": 266,
    "start_time": "2022-02-19T16:27:20.815Z"
   },
   {
    "duration": 22,
    "start_time": "2022-02-19T16:27:21.083Z"
   },
   {
    "duration": 34,
    "start_time": "2022-02-19T16:27:21.107Z"
   },
   {
    "duration": 8,
    "start_time": "2022-02-19T16:27:21.143Z"
   },
   {
    "duration": 12,
    "start_time": "2022-02-19T16:27:21.152Z"
   },
   {
    "duration": 22,
    "start_time": "2022-02-19T16:27:21.166Z"
   },
   {
    "duration": 188,
    "start_time": "2022-02-19T16:27:21.190Z"
   },
   {
    "duration": 23,
    "start_time": "2022-02-19T16:27:21.380Z"
   },
   {
    "duration": 38,
    "start_time": "2022-02-19T16:27:21.405Z"
   },
   {
    "duration": 28,
    "start_time": "2022-02-19T16:27:21.445Z"
   },
   {
    "duration": 7,
    "start_time": "2022-02-19T16:27:21.475Z"
   },
   {
    "duration": 12,
    "start_time": "2022-02-19T16:27:21.483Z"
   },
   {
    "duration": 35,
    "start_time": "2022-02-19T16:27:21.496Z"
   },
   {
    "duration": 4,
    "start_time": "2022-02-19T16:27:21.533Z"
   },
   {
    "duration": 11,
    "start_time": "2022-02-19T16:27:21.538Z"
   },
   {
    "duration": 13,
    "start_time": "2022-02-19T16:27:21.550Z"
   },
   {
    "duration": 7,
    "start_time": "2022-02-19T16:27:21.565Z"
   },
   {
    "duration": 3,
    "start_time": "2022-02-19T16:27:21.573Z"
   },
   {
    "duration": 640,
    "start_time": "2022-02-19T16:27:21.578Z"
   },
   {
    "duration": 337,
    "start_time": "2022-02-19T16:27:22.220Z"
   },
   {
    "duration": 462,
    "start_time": "2022-02-19T16:27:22.558Z"
   },
   {
    "duration": 37,
    "start_time": "2022-02-19T16:27:23.024Z"
   },
   {
    "duration": 14,
    "start_time": "2022-02-19T16:27:23.063Z"
   },
   {
    "duration": 23,
    "start_time": "2022-02-19T16:27:23.079Z"
   },
   {
    "duration": 27,
    "start_time": "2022-02-19T16:27:23.103Z"
   },
   {
    "duration": 2309,
    "start_time": "2022-02-19T16:27:23.132Z"
   },
   {
    "duration": 696,
    "start_time": "2022-02-19T16:27:25.442Z"
   },
   {
    "duration": 568,
    "start_time": "2022-02-19T16:27:26.139Z"
   },
   {
    "duration": 6,
    "start_time": "2022-02-19T16:27:26.709Z"
   },
   {
    "duration": 17,
    "start_time": "2022-02-19T16:27:26.716Z"
   },
   {
    "duration": 5221,
    "start_time": "2022-02-19T16:27:26.735Z"
   },
   {
    "duration": 1298,
    "start_time": "2022-02-19T16:44:01.126Z"
   },
   {
    "duration": 265,
    "start_time": "2022-02-19T16:44:02.426Z"
   },
   {
    "duration": 21,
    "start_time": "2022-02-19T16:44:02.694Z"
   },
   {
    "duration": 33,
    "start_time": "2022-02-19T16:44:02.717Z"
   },
   {
    "duration": 9,
    "start_time": "2022-02-19T16:44:02.752Z"
   },
   {
    "duration": 13,
    "start_time": "2022-02-19T16:44:02.763Z"
   },
   {
    "duration": 24,
    "start_time": "2022-02-19T16:44:02.778Z"
   },
   {
    "duration": 196,
    "start_time": "2022-02-19T16:44:02.804Z"
   },
   {
    "duration": 29,
    "start_time": "2022-02-19T16:44:03.002Z"
   },
   {
    "duration": 24,
    "start_time": "2022-02-19T16:44:03.032Z"
   },
   {
    "duration": 30,
    "start_time": "2022-02-19T16:44:03.057Z"
   },
   {
    "duration": 6,
    "start_time": "2022-02-19T16:44:03.088Z"
   },
   {
    "duration": 39,
    "start_time": "2022-02-19T16:44:03.096Z"
   },
   {
    "duration": 6,
    "start_time": "2022-02-19T16:44:03.137Z"
   },
   {
    "duration": 3,
    "start_time": "2022-02-19T16:44:03.145Z"
   },
   {
    "duration": 8,
    "start_time": "2022-02-19T16:44:03.149Z"
   },
   {
    "duration": 9,
    "start_time": "2022-02-19T16:44:03.159Z"
   },
   {
    "duration": 6,
    "start_time": "2022-02-19T16:44:03.170Z"
   },
   {
    "duration": 3,
    "start_time": "2022-02-19T16:44:03.178Z"
   },
   {
    "duration": 649,
    "start_time": "2022-02-19T16:44:03.182Z"
   },
   {
    "duration": 354,
    "start_time": "2022-02-19T16:44:03.832Z"
   },
   {
    "duration": 434,
    "start_time": "2022-02-19T16:44:04.187Z"
   },
   {
    "duration": 37,
    "start_time": "2022-02-19T16:44:04.624Z"
   },
   {
    "duration": 11,
    "start_time": "2022-02-19T16:44:04.663Z"
   },
   {
    "duration": 24,
    "start_time": "2022-02-19T16:44:04.676Z"
   },
   {
    "duration": 5,
    "start_time": "2022-02-19T16:44:04.701Z"
   },
   {
    "duration": 2331,
    "start_time": "2022-02-19T16:44:04.708Z"
   },
   {
    "duration": 622,
    "start_time": "2022-02-19T16:44:07.040Z"
   },
   {
    "duration": 561,
    "start_time": "2022-02-19T16:44:07.663Z"
   },
   {
    "duration": 6,
    "start_time": "2022-02-19T16:44:08.230Z"
   },
   {
    "duration": 9,
    "start_time": "2022-02-19T16:44:08.239Z"
   },
   {
    "duration": 5149,
    "start_time": "2022-02-19T16:44:08.249Z"
   },
   {
    "duration": 241,
    "start_time": "2022-02-19T16:44:38.829Z"
   },
   {
    "duration": 1213,
    "start_time": "2022-02-19T16:44:45.895Z"
   },
   {
    "duration": 276,
    "start_time": "2022-02-19T16:44:50.087Z"
   },
   {
    "duration": 20,
    "start_time": "2022-02-19T16:44:54.061Z"
   },
   {
    "duration": 30,
    "start_time": "2022-02-19T16:44:57.536Z"
   },
   {
    "duration": 10,
    "start_time": "2022-02-19T16:45:00.379Z"
   },
   {
    "duration": 9,
    "start_time": "2022-02-19T16:45:01.516Z"
   },
   {
    "duration": 166,
    "start_time": "2022-02-19T16:45:03.924Z"
   },
   {
    "duration": 29,
    "start_time": "2022-02-19T16:45:07.432Z"
   },
   {
    "duration": 8,
    "start_time": "2022-02-19T16:45:10.756Z"
   },
   {
    "duration": 7,
    "start_time": "2022-02-19T16:45:12.273Z"
   },
   {
    "duration": 9,
    "start_time": "2022-02-19T16:45:13.728Z"
   },
   {
    "duration": 627,
    "start_time": "2022-02-19T16:45:17.074Z"
   },
   {
    "duration": 336,
    "start_time": "2022-02-19T16:45:20.502Z"
   },
   {
    "duration": 319,
    "start_time": "2022-02-19T16:45:22.628Z"
   },
   {
    "duration": 611,
    "start_time": "2022-02-19T16:45:31.133Z"
   },
   {
    "duration": 344,
    "start_time": "2022-02-19T16:45:34.923Z"
   },
   {
    "duration": 213,
    "start_time": "2022-02-19T16:45:38.142Z"
   },
   {
    "duration": 19,
    "start_time": "2022-02-19T16:46:34.411Z"
   },
   {
    "duration": 14,
    "start_time": "2022-02-19T16:46:37.736Z"
   },
   {
    "duration": 277,
    "start_time": "2022-02-19T16:46:41.285Z"
   },
   {
    "duration": 31,
    "start_time": "2022-02-19T16:46:49.961Z"
   },
   {
    "duration": 185,
    "start_time": "2022-02-19T16:46:58.351Z"
   },
   {
    "duration": 181,
    "start_time": "2022-02-19T16:47:13.165Z"
   },
   {
    "duration": 17,
    "start_time": "2022-02-19T16:59:28.521Z"
   },
   {
    "duration": 476,
    "start_time": "2022-02-19T16:59:28.540Z"
   },
   {
    "duration": 188,
    "start_time": "2022-02-19T16:59:29.025Z"
   },
   {
    "duration": 63,
    "start_time": "2022-02-19T16:59:29.215Z"
   },
   {
    "duration": 17,
    "start_time": "2022-02-19T16:59:29.279Z"
   },
   {
    "duration": 10,
    "start_time": "2022-02-19T16:59:29.299Z"
   },
   {
    "duration": 21,
    "start_time": "2022-02-19T16:59:29.311Z"
   },
   {
    "duration": 198,
    "start_time": "2022-02-19T16:59:29.335Z"
   },
   {
    "duration": 25,
    "start_time": "2022-02-19T16:59:29.535Z"
   },
   {
    "duration": 31,
    "start_time": "2022-02-19T16:59:29.561Z"
   },
   {
    "duration": 46,
    "start_time": "2022-02-19T16:59:29.593Z"
   },
   {
    "duration": 7,
    "start_time": "2022-02-19T16:59:29.640Z"
   },
   {
    "duration": 17,
    "start_time": "2022-02-19T16:59:29.648Z"
   },
   {
    "duration": 7,
    "start_time": "2022-02-19T16:59:29.668Z"
   },
   {
    "duration": 8,
    "start_time": "2022-02-19T16:59:29.677Z"
   },
   {
    "duration": 10,
    "start_time": "2022-02-19T16:59:29.687Z"
   },
   {
    "duration": 10,
    "start_time": "2022-02-19T16:59:29.698Z"
   },
   {
    "duration": 27,
    "start_time": "2022-02-19T16:59:29.709Z"
   },
   {
    "duration": 5,
    "start_time": "2022-02-19T16:59:29.738Z"
   },
   {
    "duration": 705,
    "start_time": "2022-02-19T16:59:29.745Z"
   },
   {
    "duration": 394,
    "start_time": "2022-02-19T16:59:30.452Z"
   },
   {
    "duration": 584,
    "start_time": "2022-02-19T16:59:30.848Z"
   },
   {
    "duration": 30,
    "start_time": "2022-02-19T16:59:31.438Z"
   },
   {
    "duration": 14,
    "start_time": "2022-02-19T16:59:31.471Z"
   },
   {
    "duration": 30,
    "start_time": "2022-02-19T16:59:31.487Z"
   },
   {
    "duration": 23,
    "start_time": "2022-02-19T16:59:31.519Z"
   },
   {
    "duration": 2326,
    "start_time": "2022-02-19T16:59:31.544Z"
   },
   {
    "duration": 4551,
    "start_time": "2022-02-19T16:59:33.872Z"
   },
   {
    "duration": 573,
    "start_time": "2022-02-19T16:59:38.424Z"
   },
   {
    "duration": 10,
    "start_time": "2022-02-19T16:59:38.999Z"
   },
   {
    "duration": 22,
    "start_time": "2022-02-19T16:59:39.011Z"
   },
   {
    "duration": 5231,
    "start_time": "2022-02-19T16:59:39.034Z"
   },
   {
    "duration": 218,
    "start_time": "2022-02-19T16:59:56.953Z"
   },
   {
    "duration": 216,
    "start_time": "2022-02-19T17:00:00.760Z"
   },
   {
    "duration": 1303,
    "start_time": "2022-02-19T17:13:09.643Z"
   },
   {
    "duration": 269,
    "start_time": "2022-02-19T17:13:10.948Z"
   },
   {
    "duration": 24,
    "start_time": "2022-02-19T17:13:11.219Z"
   },
   {
    "duration": 29,
    "start_time": "2022-02-19T17:13:11.245Z"
   },
   {
    "duration": 7,
    "start_time": "2022-02-19T17:13:11.276Z"
   },
   {
    "duration": 11,
    "start_time": "2022-02-19T17:13:11.285Z"
   },
   {
    "duration": 44,
    "start_time": "2022-02-19T17:13:11.297Z"
   },
   {
    "duration": 157,
    "start_time": "2022-02-19T17:13:11.343Z"
   },
   {
    "duration": 38,
    "start_time": "2022-02-19T17:13:11.502Z"
   },
   {
    "duration": 26,
    "start_time": "2022-02-19T17:13:11.542Z"
   },
   {
    "duration": 30,
    "start_time": "2022-02-19T17:13:11.569Z"
   },
   {
    "duration": 7,
    "start_time": "2022-02-19T17:13:11.600Z"
   },
   {
    "duration": 33,
    "start_time": "2022-02-19T17:13:11.608Z"
   },
   {
    "duration": 6,
    "start_time": "2022-02-19T17:13:11.643Z"
   },
   {
    "duration": 4,
    "start_time": "2022-02-19T17:13:11.650Z"
   },
   {
    "duration": 8,
    "start_time": "2022-02-19T17:13:11.656Z"
   },
   {
    "duration": 10,
    "start_time": "2022-02-19T17:13:11.665Z"
   },
   {
    "duration": 8,
    "start_time": "2022-02-19T17:13:11.676Z"
   },
   {
    "duration": 4,
    "start_time": "2022-02-19T17:13:11.685Z"
   },
   {
    "duration": 643,
    "start_time": "2022-02-19T17:13:11.730Z"
   },
   {
    "duration": 351,
    "start_time": "2022-02-19T17:13:12.374Z"
   },
   {
    "duration": 460,
    "start_time": "2022-02-19T17:13:12.726Z"
   },
   {
    "duration": 31,
    "start_time": "2022-02-19T17:13:13.189Z"
   },
   {
    "duration": 16,
    "start_time": "2022-02-19T17:13:13.222Z"
   },
   {
    "duration": 22,
    "start_time": "2022-02-19T17:13:13.240Z"
   },
   {
    "duration": 5,
    "start_time": "2022-02-19T17:13:13.263Z"
   },
   {
    "duration": 2346,
    "start_time": "2022-02-19T17:13:13.270Z"
   },
   {
    "duration": 628,
    "start_time": "2022-02-19T17:13:15.617Z"
   },
   {
    "duration": 560,
    "start_time": "2022-02-19T17:13:16.247Z"
   },
   {
    "duration": 24,
    "start_time": "2022-02-19T17:13:16.809Z"
   },
   {
    "duration": 7,
    "start_time": "2022-02-19T17:13:16.835Z"
   },
   {
    "duration": 5146,
    "start_time": "2022-02-19T17:13:16.843Z"
   },
   {
    "duration": 3,
    "start_time": "2022-02-19T17:13:32.211Z"
   },
   {
    "duration": 1290,
    "start_time": "2022-02-19T17:13:35.647Z"
   },
   {
    "duration": 273,
    "start_time": "2022-02-19T17:13:36.940Z"
   },
   {
    "duration": 21,
    "start_time": "2022-02-19T17:13:37.215Z"
   },
   {
    "duration": 31,
    "start_time": "2022-02-19T17:13:37.239Z"
   },
   {
    "duration": 8,
    "start_time": "2022-02-19T17:13:37.272Z"
   },
   {
    "duration": 16,
    "start_time": "2022-02-19T17:13:37.281Z"
   },
   {
    "duration": 48,
    "start_time": "2022-02-19T17:13:37.299Z"
   },
   {
    "duration": 181,
    "start_time": "2022-02-19T17:13:37.349Z"
   },
   {
    "duration": 22,
    "start_time": "2022-02-19T17:13:37.532Z"
   },
   {
    "duration": 27,
    "start_time": "2022-02-19T17:13:37.556Z"
   },
   {
    "duration": 62,
    "start_time": "2022-02-19T17:13:37.584Z"
   },
   {
    "duration": 8,
    "start_time": "2022-02-19T17:13:37.647Z"
   },
   {
    "duration": 13,
    "start_time": "2022-02-19T17:13:37.656Z"
   },
   {
    "duration": 7,
    "start_time": "2022-02-19T17:13:37.671Z"
   },
   {
    "duration": 4,
    "start_time": "2022-02-19T17:13:37.679Z"
   },
   {
    "duration": 9,
    "start_time": "2022-02-19T17:13:37.685Z"
   },
   {
    "duration": 45,
    "start_time": "2022-02-19T17:13:37.696Z"
   },
   {
    "duration": 8,
    "start_time": "2022-02-19T17:13:37.742Z"
   },
   {
    "duration": 3,
    "start_time": "2022-02-19T17:13:37.752Z"
   },
   {
    "duration": 824,
    "start_time": "2022-02-19T17:13:37.756Z"
   },
   {
    "duration": 369,
    "start_time": "2022-02-19T17:13:38.582Z"
   },
   {
    "duration": 479,
    "start_time": "2022-02-19T17:13:38.953Z"
   },
   {
    "duration": 35,
    "start_time": "2022-02-19T17:13:39.435Z"
   },
   {
    "duration": 14,
    "start_time": "2022-02-19T17:13:39.471Z"
   },
   {
    "duration": 45,
    "start_time": "2022-02-19T17:13:39.486Z"
   },
   {
    "duration": 5,
    "start_time": "2022-02-19T17:13:39.533Z"
   },
   {
    "duration": 2377,
    "start_time": "2022-02-19T17:13:39.540Z"
   },
   {
    "duration": 648,
    "start_time": "2022-02-19T17:13:41.919Z"
   },
   {
    "duration": 582,
    "start_time": "2022-02-19T17:13:42.569Z"
   },
   {
    "duration": 7,
    "start_time": "2022-02-19T17:13:43.152Z"
   },
   {
    "duration": 16,
    "start_time": "2022-02-19T17:13:43.161Z"
   },
   {
    "duration": 2,
    "start_time": "2022-02-19T17:13:43.179Z"
   },
   {
    "duration": 297,
    "start_time": "2022-02-19T17:13:43.182Z"
   },
   {
    "duration": -927,
    "start_time": "2022-02-19T17:13:44.408Z"
   },
   {
    "duration": 253,
    "start_time": "2022-02-19T17:14:09.099Z"
   },
   {
    "duration": 196,
    "start_time": "2022-02-19T17:14:12.776Z"
   },
   {
    "duration": 249,
    "start_time": "2022-02-19T17:15:02.848Z"
   },
   {
    "duration": 1295,
    "start_time": "2022-02-19T17:15:10.043Z"
   },
   {
    "duration": 260,
    "start_time": "2022-02-19T17:15:11.341Z"
   },
   {
    "duration": 20,
    "start_time": "2022-02-19T17:15:11.603Z"
   },
   {
    "duration": 30,
    "start_time": "2022-02-19T17:15:11.629Z"
   },
   {
    "duration": 8,
    "start_time": "2022-02-19T17:15:11.660Z"
   },
   {
    "duration": 15,
    "start_time": "2022-02-19T17:15:11.670Z"
   },
   {
    "duration": 28,
    "start_time": "2022-02-19T17:15:11.686Z"
   },
   {
    "duration": 179,
    "start_time": "2022-02-19T17:15:11.729Z"
   },
   {
    "duration": 28,
    "start_time": "2022-02-19T17:15:11.910Z"
   },
   {
    "duration": 26,
    "start_time": "2022-02-19T17:15:11.939Z"
   },
   {
    "duration": 30,
    "start_time": "2022-02-19T17:15:11.967Z"
   },
   {
    "duration": 32,
    "start_time": "2022-02-19T17:15:11.999Z"
   },
   {
    "duration": 14,
    "start_time": "2022-02-19T17:15:12.032Z"
   },
   {
    "duration": 7,
    "start_time": "2022-02-19T17:15:12.047Z"
   },
   {
    "duration": 4,
    "start_time": "2022-02-19T17:15:12.055Z"
   },
   {
    "duration": 10,
    "start_time": "2022-02-19T17:15:12.061Z"
   },
   {
    "duration": 11,
    "start_time": "2022-02-19T17:15:12.073Z"
   },
   {
    "duration": 9,
    "start_time": "2022-02-19T17:15:12.086Z"
   },
   {
    "duration": 3,
    "start_time": "2022-02-19T17:15:12.131Z"
   },
   {
    "duration": 664,
    "start_time": "2022-02-19T17:15:12.136Z"
   },
   {
    "duration": 365,
    "start_time": "2022-02-19T17:15:12.801Z"
   },
   {
    "duration": 495,
    "start_time": "2022-02-19T17:15:13.168Z"
   },
   {
    "duration": 35,
    "start_time": "2022-02-19T17:15:13.665Z"
   },
   {
    "duration": 12,
    "start_time": "2022-02-19T17:15:13.702Z"
   },
   {
    "duration": 36,
    "start_time": "2022-02-19T17:15:13.716Z"
   },
   {
    "duration": 5,
    "start_time": "2022-02-19T17:15:13.753Z"
   },
   {
    "duration": 2344,
    "start_time": "2022-02-19T17:15:13.760Z"
   },
   {
    "duration": 657,
    "start_time": "2022-02-19T17:15:16.106Z"
   },
   {
    "duration": 585,
    "start_time": "2022-02-19T17:15:16.764Z"
   },
   {
    "duration": 6,
    "start_time": "2022-02-19T17:15:17.351Z"
   },
   {
    "duration": 7,
    "start_time": "2022-02-19T17:15:17.358Z"
   },
   {
    "duration": 3,
    "start_time": "2022-02-19T17:15:17.367Z"
   },
   {
    "duration": 258,
    "start_time": "2022-02-19T17:15:17.372Z"
   },
   {
    "duration": -904,
    "start_time": "2022-02-19T17:15:18.536Z"
   },
   {
    "duration": 476,
    "start_time": "2022-02-19T17:15:32.378Z"
   },
   {
    "duration": 496,
    "start_time": "2022-02-19T17:15:42.290Z"
   },
   {
    "duration": 4,
    "start_time": "2022-02-19T17:15:55.814Z"
   },
   {
    "duration": 295,
    "start_time": "2022-02-19T17:15:55.819Z"
   },
   {
    "duration": 18,
    "start_time": "2022-02-19T17:15:56.116Z"
   },
   {
    "duration": 27,
    "start_time": "2022-02-19T17:15:56.136Z"
   },
   {
    "duration": 9,
    "start_time": "2022-02-19T17:15:56.164Z"
   },
   {
    "duration": 28,
    "start_time": "2022-02-19T17:15:56.174Z"
   },
   {
    "duration": 29,
    "start_time": "2022-02-19T17:15:56.204Z"
   },
   {
    "duration": 179,
    "start_time": "2022-02-19T17:15:56.235Z"
   },
   {
    "duration": 23,
    "start_time": "2022-02-19T17:15:56.416Z"
   },
   {
    "duration": 24,
    "start_time": "2022-02-19T17:15:56.441Z"
   },
   {
    "duration": 29,
    "start_time": "2022-02-19T17:15:56.467Z"
   },
   {
    "duration": 7,
    "start_time": "2022-02-19T17:15:56.497Z"
   },
   {
    "duration": 12,
    "start_time": "2022-02-19T17:15:56.530Z"
   },
   {
    "duration": 7,
    "start_time": "2022-02-19T17:15:56.544Z"
   },
   {
    "duration": 4,
    "start_time": "2022-02-19T17:15:56.552Z"
   },
   {
    "duration": 9,
    "start_time": "2022-02-19T17:15:56.557Z"
   },
   {
    "duration": 10,
    "start_time": "2022-02-19T17:15:56.567Z"
   },
   {
    "duration": 7,
    "start_time": "2022-02-19T17:15:56.579Z"
   },
   {
    "duration": 3,
    "start_time": "2022-02-19T17:15:56.589Z"
   },
   {
    "duration": 674,
    "start_time": "2022-02-19T17:15:56.631Z"
   },
   {
    "duration": 372,
    "start_time": "2022-02-19T17:15:57.306Z"
   },
   {
    "duration": 496,
    "start_time": "2022-02-19T17:16:08.968Z"
   },
   {
    "duration": 485,
    "start_time": "2022-02-19T17:17:11.200Z"
   },
   {
    "duration": 44,
    "start_time": "2022-02-19T17:20:53.892Z"
   },
   {
    "duration": 208,
    "start_time": "2022-02-19T17:21:25.356Z"
   },
   {
    "duration": 211,
    "start_time": "2022-02-19T17:21:43.617Z"
   },
   {
    "duration": 189,
    "start_time": "2022-02-19T17:24:54.837Z"
   },
   {
    "duration": 3,
    "start_time": "2022-02-19T17:25:29.639Z"
   },
   {
    "duration": 272,
    "start_time": "2022-02-19T17:25:29.643Z"
   },
   {
    "duration": 17,
    "start_time": "2022-02-19T17:25:29.917Z"
   },
   {
    "duration": 27,
    "start_time": "2022-02-19T17:25:29.936Z"
   },
   {
    "duration": 8,
    "start_time": "2022-02-19T17:25:29.964Z"
   },
   {
    "duration": 11,
    "start_time": "2022-02-19T17:25:29.973Z"
   },
   {
    "duration": 47,
    "start_time": "2022-02-19T17:25:29.986Z"
   },
   {
    "duration": 177,
    "start_time": "2022-02-19T17:25:30.035Z"
   },
   {
    "duration": 33,
    "start_time": "2022-02-19T17:25:30.216Z"
   },
   {
    "duration": 25,
    "start_time": "2022-02-19T17:25:30.252Z"
   },
   {
    "duration": 31,
    "start_time": "2022-02-19T17:25:30.279Z"
   },
   {
    "duration": 26,
    "start_time": "2022-02-19T17:25:30.311Z"
   },
   {
    "duration": 12,
    "start_time": "2022-02-19T17:25:30.338Z"
   },
   {
    "duration": 7,
    "start_time": "2022-02-19T17:25:30.352Z"
   },
   {
    "duration": 10,
    "start_time": "2022-02-19T17:25:30.360Z"
   },
   {
    "duration": 13,
    "start_time": "2022-02-19T17:25:30.371Z"
   },
   {
    "duration": 15,
    "start_time": "2022-02-19T17:25:30.385Z"
   },
   {
    "duration": 32,
    "start_time": "2022-02-19T17:25:30.402Z"
   },
   {
    "duration": 4,
    "start_time": "2022-02-19T17:25:30.435Z"
   },
   {
    "duration": 668,
    "start_time": "2022-02-19T17:25:30.440Z"
   },
   {
    "duration": 370,
    "start_time": "2022-02-19T17:25:31.110Z"
   },
   {
    "duration": 473,
    "start_time": "2022-02-19T17:25:31.481Z"
   },
   {
    "duration": 45,
    "start_time": "2022-02-19T17:25:31.955Z"
   },
   {
    "duration": 31,
    "start_time": "2022-02-19T17:25:32.002Z"
   },
   {
    "duration": 30,
    "start_time": "2022-02-19T17:25:32.034Z"
   },
   {
    "duration": 6,
    "start_time": "2022-02-19T17:25:32.065Z"
   },
   {
    "duration": 2316,
    "start_time": "2022-02-19T17:25:32.073Z"
   },
   {
    "duration": 600,
    "start_time": "2022-02-19T17:25:34.391Z"
   },
   {
    "duration": 676,
    "start_time": "2022-02-19T17:25:34.992Z"
   },
   {
    "duration": 7,
    "start_time": "2022-02-19T17:25:35.670Z"
   },
   {
    "duration": 7,
    "start_time": "2022-02-19T17:25:35.678Z"
   },
   {
    "duration": 195,
    "start_time": "2022-02-19T17:25:35.687Z"
   },
   {
    "duration": -919,
    "start_time": "2022-02-19T17:25:36.803Z"
   },
   {
    "duration": 2345,
    "start_time": "2022-02-19T17:26:36.816Z"
   },
   {
    "duration": 5050,
    "start_time": "2022-02-19T17:28:14.858Z"
   },
   {
    "duration": 5583,
    "start_time": "2022-02-19T17:28:23.858Z"
   },
   {
    "duration": 4860,
    "start_time": "2022-02-19T17:29:40.235Z"
   },
   {
    "duration": 5605,
    "start_time": "2022-02-19T17:30:49.739Z"
   },
   {
    "duration": 4865,
    "start_time": "2022-02-19T17:31:12.661Z"
   },
   {
    "duration": 4921,
    "start_time": "2022-02-19T17:31:19.327Z"
   },
   {
    "duration": 3,
    "start_time": "2022-02-19T17:32:01.543Z"
   },
   {
    "duration": 264,
    "start_time": "2022-02-19T17:32:01.548Z"
   },
   {
    "duration": 17,
    "start_time": "2022-02-19T17:32:01.814Z"
   },
   {
    "duration": 26,
    "start_time": "2022-02-19T17:32:01.833Z"
   },
   {
    "duration": 10,
    "start_time": "2022-02-19T17:32:01.861Z"
   },
   {
    "duration": 12,
    "start_time": "2022-02-19T17:32:01.873Z"
   },
   {
    "duration": 47,
    "start_time": "2022-02-19T17:32:01.888Z"
   },
   {
    "duration": 171,
    "start_time": "2022-02-19T17:32:01.937Z"
   },
   {
    "duration": 33,
    "start_time": "2022-02-19T17:32:02.109Z"
   },
   {
    "duration": 29,
    "start_time": "2022-02-19T17:32:02.144Z"
   },
   {
    "duration": 30,
    "start_time": "2022-02-19T17:32:02.174Z"
   },
   {
    "duration": 28,
    "start_time": "2022-02-19T17:32:02.205Z"
   },
   {
    "duration": 13,
    "start_time": "2022-02-19T17:32:02.234Z"
   },
   {
    "duration": 7,
    "start_time": "2022-02-19T17:32:02.248Z"
   },
   {
    "duration": 3,
    "start_time": "2022-02-19T17:32:02.256Z"
   },
   {
    "duration": 14,
    "start_time": "2022-02-19T17:32:02.261Z"
   },
   {
    "duration": 11,
    "start_time": "2022-02-19T17:32:02.278Z"
   },
   {
    "duration": 8,
    "start_time": "2022-02-19T17:32:02.290Z"
   },
   {
    "duration": 33,
    "start_time": "2022-02-19T17:32:02.301Z"
   },
   {
    "duration": 659,
    "start_time": "2022-02-19T17:32:02.336Z"
   },
   {
    "duration": 365,
    "start_time": "2022-02-19T17:32:02.997Z"
   },
   {
    "duration": 482,
    "start_time": "2022-02-19T17:32:03.363Z"
   },
   {
    "duration": 39,
    "start_time": "2022-02-19T17:32:03.847Z"
   },
   {
    "duration": 16,
    "start_time": "2022-02-19T17:32:03.888Z"
   },
   {
    "duration": 51,
    "start_time": "2022-02-19T17:32:03.906Z"
   },
   {
    "duration": 5,
    "start_time": "2022-02-19T17:32:03.958Z"
   },
   {
    "duration": 2348,
    "start_time": "2022-02-19T17:32:03.965Z"
   },
   {
    "duration": 661,
    "start_time": "2022-02-19T17:32:06.315Z"
   },
   {
    "duration": 583,
    "start_time": "2022-02-19T17:32:06.978Z"
   },
   {
    "duration": 7,
    "start_time": "2022-02-19T17:32:07.562Z"
   },
   {
    "duration": 7,
    "start_time": "2022-02-19T17:32:07.571Z"
   },
   {
    "duration": 184,
    "start_time": "2022-02-19T17:32:07.580Z"
   },
   {
    "duration": -914,
    "start_time": "2022-02-19T17:32:08.681Z"
   },
   {
    "duration": 192,
    "start_time": "2022-02-19T17:33:10.736Z"
   },
   {
    "duration": 9,
    "start_time": "2022-02-19T17:35:25.693Z"
   },
   {
    "duration": 5,
    "start_time": "2022-02-19T17:36:24.758Z"
   },
   {
    "duration": 3,
    "start_time": "2022-02-19T17:36:41.926Z"
   },
   {
    "duration": 261,
    "start_time": "2022-02-19T17:36:41.932Z"
   },
   {
    "duration": 16,
    "start_time": "2022-02-19T17:36:42.195Z"
   },
   {
    "duration": 30,
    "start_time": "2022-02-19T17:36:42.212Z"
   },
   {
    "duration": 8,
    "start_time": "2022-02-19T17:36:42.243Z"
   },
   {
    "duration": 13,
    "start_time": "2022-02-19T17:36:42.253Z"
   },
   {
    "duration": 24,
    "start_time": "2022-02-19T17:36:42.268Z"
   },
   {
    "duration": 160,
    "start_time": "2022-02-19T17:36:42.293Z"
   },
   {
    "duration": 19,
    "start_time": "2022-02-19T17:36:42.455Z"
   },
   {
    "duration": 24,
    "start_time": "2022-02-19T17:36:42.476Z"
   },
   {
    "duration": 54,
    "start_time": "2022-02-19T17:36:42.501Z"
   },
   {
    "duration": 7,
    "start_time": "2022-02-19T17:36:42.557Z"
   },
   {
    "duration": 11,
    "start_time": "2022-02-19T17:36:42.566Z"
   },
   {
    "duration": 6,
    "start_time": "2022-02-19T17:36:42.579Z"
   },
   {
    "duration": 4,
    "start_time": "2022-02-19T17:36:42.586Z"
   },
   {
    "duration": 9,
    "start_time": "2022-02-19T17:36:42.591Z"
   },
   {
    "duration": 11,
    "start_time": "2022-02-19T17:36:42.630Z"
   },
   {
    "duration": 8,
    "start_time": "2022-02-19T17:36:42.642Z"
   },
   {
    "duration": 3,
    "start_time": "2022-02-19T17:36:42.652Z"
   },
   {
    "duration": 668,
    "start_time": "2022-02-19T17:36:42.657Z"
   },
   {
    "duration": 367,
    "start_time": "2022-02-19T17:36:43.330Z"
   },
   {
    "duration": 496,
    "start_time": "2022-02-19T17:36:43.699Z"
   },
   {
    "duration": 48,
    "start_time": "2022-02-19T17:36:44.196Z"
   },
   {
    "duration": 14,
    "start_time": "2022-02-19T17:36:44.247Z"
   },
   {
    "duration": 32,
    "start_time": "2022-02-19T17:36:44.263Z"
   },
   {
    "duration": 6,
    "start_time": "2022-02-19T17:36:44.296Z"
   },
   {
    "duration": 2390,
    "start_time": "2022-02-19T17:36:44.303Z"
   },
   {
    "duration": 689,
    "start_time": "2022-02-19T17:36:46.695Z"
   },
   {
    "duration": 598,
    "start_time": "2022-02-19T17:36:47.386Z"
   },
   {
    "duration": 7,
    "start_time": "2022-02-19T17:36:47.985Z"
   },
   {
    "duration": 7,
    "start_time": "2022-02-19T17:36:47.993Z"
   },
   {
    "duration": 199,
    "start_time": "2022-02-19T17:36:48.001Z"
   },
   {
    "duration": -1332,
    "start_time": "2022-02-19T17:36:49.534Z"
   },
   {
    "duration": -1337,
    "start_time": "2022-02-19T17:36:49.540Z"
   },
   {
    "duration": 5,
    "start_time": "2022-02-19T17:36:54.731Z"
   },
   {
    "duration": 216,
    "start_time": "2022-02-19T17:37:16.086Z"
   },
   {
    "duration": 12,
    "start_time": "2022-02-19T17:37:24.389Z"
   },
   {
    "duration": 197,
    "start_time": "2022-02-19T17:37:45.407Z"
   },
   {
    "duration": 68,
    "start_time": "2022-02-19T17:38:47.260Z"
   },
   {
    "duration": 321,
    "start_time": "2022-02-19T17:38:57.019Z"
   },
   {
    "duration": 19,
    "start_time": "2022-02-19T17:39:51.555Z"
   },
   {
    "duration": 8,
    "start_time": "2022-02-19T17:40:36.688Z"
   },
   {
    "duration": 7,
    "start_time": "2022-02-19T17:42:56.683Z"
   },
   {
    "duration": 8,
    "start_time": "2022-02-19T17:42:59.786Z"
   },
   {
    "duration": 167,
    "start_time": "2022-02-19T17:47:13.222Z"
   },
   {
    "duration": 464,
    "start_time": "2022-02-19T17:55:06.459Z"
   },
   {
    "duration": 492,
    "start_time": "2022-02-19T17:55:26.669Z"
   },
   {
    "duration": 1313,
    "start_time": "2022-02-19T22:51:24.060Z"
   },
   {
    "duration": 288,
    "start_time": "2022-02-19T22:51:25.375Z"
   },
   {
    "duration": 22,
    "start_time": "2022-02-19T22:51:25.665Z"
   },
   {
    "duration": 30,
    "start_time": "2022-02-19T22:51:25.688Z"
   },
   {
    "duration": 8,
    "start_time": "2022-02-19T22:51:25.720Z"
   },
   {
    "duration": 31,
    "start_time": "2022-02-19T22:51:25.730Z"
   },
   {
    "duration": 25,
    "start_time": "2022-02-19T22:51:25.763Z"
   },
   {
    "duration": 196,
    "start_time": "2022-02-19T22:51:25.789Z"
   },
   {
    "duration": 25,
    "start_time": "2022-02-19T22:51:25.988Z"
   },
   {
    "duration": 43,
    "start_time": "2022-02-19T22:51:26.016Z"
   },
   {
    "duration": 34,
    "start_time": "2022-02-19T22:51:26.060Z"
   },
   {
    "duration": 8,
    "start_time": "2022-02-19T22:51:26.096Z"
   },
   {
    "duration": 13,
    "start_time": "2022-02-19T22:51:26.105Z"
   },
   {
    "duration": 7,
    "start_time": "2022-02-19T22:51:26.120Z"
   },
   {
    "duration": 32,
    "start_time": "2022-02-19T22:51:26.129Z"
   },
   {
    "duration": 10,
    "start_time": "2022-02-19T22:51:26.163Z"
   },
   {
    "duration": 12,
    "start_time": "2022-02-19T22:51:26.175Z"
   },
   {
    "duration": 8,
    "start_time": "2022-02-19T22:51:26.188Z"
   },
   {
    "duration": 4,
    "start_time": "2022-02-19T22:51:26.197Z"
   },
   {
    "duration": 662,
    "start_time": "2022-02-19T22:51:26.203Z"
   },
   {
    "duration": 358,
    "start_time": "2022-02-19T22:51:26.866Z"
   },
   {
    "duration": 480,
    "start_time": "2022-02-19T22:51:27.227Z"
   },
   {
    "duration": 58,
    "start_time": "2022-02-19T22:51:27.709Z"
   },
   {
    "duration": 16,
    "start_time": "2022-02-19T22:51:27.769Z"
   },
   {
    "duration": 31,
    "start_time": "2022-02-19T22:51:27.787Z"
   },
   {
    "duration": 6,
    "start_time": "2022-02-19T22:51:27.820Z"
   },
   {
    "duration": 2349,
    "start_time": "2022-02-19T22:51:27.830Z"
   },
   {
    "duration": 751,
    "start_time": "2022-02-19T22:51:30.182Z"
   },
   {
    "duration": 642,
    "start_time": "2022-02-19T22:51:30.935Z"
   },
   {
    "duration": 6,
    "start_time": "2022-02-19T22:51:31.579Z"
   },
   {
    "duration": 7,
    "start_time": "2022-02-19T22:51:31.587Z"
   },
   {
    "duration": 28,
    "start_time": "2022-02-19T22:51:31.596Z"
   },
   {
    "duration": 7,
    "start_time": "2022-02-19T22:51:31.626Z"
   },
   {
    "duration": 1260,
    "start_time": "2022-02-20T16:27:02.257Z"
   },
   {
    "duration": 257,
    "start_time": "2022-02-20T16:27:03.519Z"
   },
   {
    "duration": 19,
    "start_time": "2022-02-20T16:27:03.778Z"
   },
   {
    "duration": 32,
    "start_time": "2022-02-20T16:27:03.799Z"
   },
   {
    "duration": 9,
    "start_time": "2022-02-20T16:27:03.833Z"
   },
   {
    "duration": 9,
    "start_time": "2022-02-20T16:27:03.843Z"
   },
   {
    "duration": 22,
    "start_time": "2022-02-20T16:27:03.853Z"
   },
   {
    "duration": 186,
    "start_time": "2022-02-20T16:27:03.878Z"
   },
   {
    "duration": 25,
    "start_time": "2022-02-20T16:27:04.066Z"
   },
   {
    "duration": 38,
    "start_time": "2022-02-20T16:27:04.093Z"
   },
   {
    "duration": 33,
    "start_time": "2022-02-20T16:27:04.133Z"
   },
   {
    "duration": 8,
    "start_time": "2022-02-20T16:27:04.168Z"
   },
   {
    "duration": 13,
    "start_time": "2022-02-20T16:27:04.178Z"
   },
   {
    "duration": 37,
    "start_time": "2022-02-20T16:27:04.193Z"
   },
   {
    "duration": 5,
    "start_time": "2022-02-20T16:27:04.232Z"
   },
   {
    "duration": 9,
    "start_time": "2022-02-20T16:27:04.239Z"
   },
   {
    "duration": 12,
    "start_time": "2022-02-20T16:27:04.250Z"
   },
   {
    "duration": 7,
    "start_time": "2022-02-20T16:27:04.264Z"
   },
   {
    "duration": 3,
    "start_time": "2022-02-20T16:27:04.273Z"
   },
   {
    "duration": 693,
    "start_time": "2022-02-20T16:27:04.278Z"
   },
   {
    "duration": 364,
    "start_time": "2022-02-20T16:27:04.973Z"
   },
   {
    "duration": 485,
    "start_time": "2022-02-20T16:27:05.339Z"
   },
   {
    "duration": 45,
    "start_time": "2022-02-20T16:27:05.831Z"
   },
   {
    "duration": 16,
    "start_time": "2022-02-20T16:27:05.879Z"
   },
   {
    "duration": 50,
    "start_time": "2022-02-20T16:27:05.897Z"
   },
   {
    "duration": 5,
    "start_time": "2022-02-20T16:27:05.949Z"
   },
   {
    "duration": 2366,
    "start_time": "2022-02-20T16:27:05.955Z"
   },
   {
    "duration": 655,
    "start_time": "2022-02-20T16:27:08.322Z"
   },
   {
    "duration": 584,
    "start_time": "2022-02-20T16:27:08.979Z"
   },
   {
    "duration": 6,
    "start_time": "2022-02-20T16:27:09.564Z"
   },
   {
    "duration": 6,
    "start_time": "2022-02-20T16:27:09.571Z"
   },
   {
    "duration": 18,
    "start_time": "2022-02-20T16:27:09.579Z"
   },
   {
    "duration": 32,
    "start_time": "2022-02-20T16:27:09.598Z"
   },
   {
    "duration": 494,
    "start_time": "2022-02-20T16:29:37.429Z"
   },
   {
    "duration": 60,
    "start_time": "2022-02-20T16:40:57.022Z"
   },
   {
    "duration": 82,
    "start_time": "2022-02-20T16:41:45.207Z"
   },
   {
    "duration": 587,
    "start_time": "2022-02-20T16:41:54.586Z"
   },
   {
    "duration": 1178,
    "start_time": "2022-02-20T16:48:26.046Z"
   },
   {
    "duration": 1298,
    "start_time": "2022-02-20T16:48:57.924Z"
   },
   {
    "duration": 567,
    "start_time": "2022-02-20T16:49:51.494Z"
   },
   {
    "duration": 787,
    "start_time": "2022-02-20T16:50:55.271Z"
   },
   {
    "duration": 727,
    "start_time": "2022-02-20T16:53:35.102Z"
   },
   {
    "duration": 684,
    "start_time": "2022-02-20T16:58:47.070Z"
   },
   {
    "duration": 806,
    "start_time": "2022-02-20T16:59:53.794Z"
   },
   {
    "duration": 738,
    "start_time": "2022-02-20T17:00:11.130Z"
   },
   {
    "duration": 593,
    "start_time": "2022-02-20T17:00:20.940Z"
   },
   {
    "duration": 66,
    "start_time": "2022-02-20T17:08:25.258Z"
   },
   {
    "duration": 58,
    "start_time": "2022-02-20T17:08:37.276Z"
   },
   {
    "duration": 60,
    "start_time": "2022-02-20T17:09:04.729Z"
   },
   {
    "duration": 59,
    "start_time": "2022-02-20T17:09:09.298Z"
   },
   {
    "duration": 64,
    "start_time": "2022-02-20T17:09:17.104Z"
   },
   {
    "duration": 744,
    "start_time": "2022-02-20T17:10:15.051Z"
   },
   {
    "duration": 61,
    "start_time": "2022-02-20T17:10:56.305Z"
   },
   {
    "duration": 810,
    "start_time": "2022-02-20T17:11:02.689Z"
   },
   {
    "duration": 738,
    "start_time": "2022-02-20T17:11:22.090Z"
   },
   {
    "duration": 750,
    "start_time": "2022-02-20T17:11:31.740Z"
   },
   {
    "duration": 560,
    "start_time": "2022-02-20T17:11:42.122Z"
   },
   {
    "duration": 673,
    "start_time": "2022-02-20T17:11:58.390Z"
   },
   {
    "duration": 604,
    "start_time": "2022-02-20T17:12:08.985Z"
   },
   {
    "duration": 60,
    "start_time": "2022-02-20T17:20:08.582Z"
   },
   {
    "duration": 67,
    "start_time": "2022-02-20T17:20:56.037Z"
   },
   {
    "duration": 571,
    "start_time": "2022-02-20T17:21:20.000Z"
   },
   {
    "duration": 659,
    "start_time": "2022-02-20T17:21:52.172Z"
   },
   {
    "duration": 661,
    "start_time": "2022-02-20T17:26:10.378Z"
   }
  ],
  "kernelspec": {
   "display_name": "Python 3 (ipykernel)",
   "language": "python",
   "name": "python3"
  },
  "language_info": {
   "codemirror_mode": {
    "name": "ipython",
    "version": 3
   },
   "file_extension": ".py",
   "mimetype": "text/x-python",
   "name": "python",
   "nbconvert_exporter": "python",
   "pygments_lexer": "ipython3",
   "version": "3.9.7"
  },
  "toc": {
   "base_numbering": 1,
   "nav_menu": {},
   "number_sections": true,
   "sideBar": true,
   "skip_h1_title": true,
   "title_cell": "Table of Contents",
   "title_sidebar": "Contents",
   "toc_cell": false,
   "toc_position": {},
   "toc_section_display": true,
   "toc_window_display": true
  }
 },
 "nbformat": 4,
 "nbformat_minor": 2
}
