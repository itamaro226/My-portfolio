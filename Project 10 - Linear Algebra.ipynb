{
 "cells": [
  {
   "cell_type": "markdown",
   "metadata": {},
   "source": [
    "# Statement"
   ]
  },
  {
   "cell_type": "markdown",
   "metadata": {},
   "source": [
    "The Sure Tomorrow insurance company wants to solve several tasks with the help of Machine Learning and you are asked to evaluate that possibility.\n",
    "\n",
    "- Task 1: Find customers who are similar to a given customer. This will help the company's agents with marketing.\n",
    "- Task 2: Predict whether a new customer is likely to receive an insurance benefit. Can a prediction model do better than a dummy model?\n",
    "- Task 3: Predict the number of insurance benefits a new customer is likely to receive using a linear regression model.\n",
    "- Task 4: Protect clients' personal data without breaking the model from the previous task. It's necessary to develop a data transformation algorithm that would make it hard to recover personal information if the data fell into the wrong hands. This is called data masking, or data obfuscation. But the data should be protected in such a way that the quality of machine learning models doesn't suffer. You don't need to pick the best model, just prove that the algorithm works correctly."
   ]
  },
  {
   "cell_type": "markdown",
   "metadata": {},
   "source": [
    "# Data Preprocessing & Exploration\n",
    "\n",
    "## Initialization"
   ]
  },
  {
   "cell_type": "code",
   "execution_count": 110,
   "metadata": {},
   "outputs": [
    {
     "name": "stdout",
     "output_type": "stream",
     "text": [
      "Requirement already satisfied: scikit-learn in /opt/conda/lib/python3.9/site-packages (1.1.1)\n",
      "Requirement already satisfied: threadpoolctl>=2.0.0 in /opt/conda/lib/python3.9/site-packages (from scikit-learn) (3.1.0)\n",
      "Requirement already satisfied: numpy>=1.17.3 in /opt/conda/lib/python3.9/site-packages (from scikit-learn) (1.21.1)\n",
      "Requirement already satisfied: scipy>=1.3.2 in /opt/conda/lib/python3.9/site-packages (from scikit-learn) (1.8.0)\n",
      "Requirement already satisfied: joblib>=1.0.0 in /opt/conda/lib/python3.9/site-packages (from scikit-learn) (1.1.0)\n",
      "Note: you may need to restart the kernel to use updated packages.\n"
     ]
    }
   ],
   "source": [
    "pip install scikit-learn --upgrade"
   ]
  },
  {
   "cell_type": "code",
   "execution_count": 111,
   "metadata": {},
   "outputs": [],
   "source": [
    "import numpy as np\n",
    "import pandas as pd\n",
    "import math\n",
    "import seaborn as sns\n",
    "import random\n",
    "import sklearn.linear_model\n",
    "import sklearn.metrics\n",
    "import sklearn.neighbors\n",
    "import sklearn.preprocessing\n",
    "from sklearn.neighbors import RadiusNeighborsClassifier\n",
    "from sklearn.model_selection import train_test_split\n",
    "import itertools\n",
    "from IPython.display import display"
   ]
  },
  {
   "cell_type": "markdown",
   "metadata": {},
   "source": [
    "## Load Data"
   ]
  },
  {
   "cell_type": "markdown",
   "metadata": {},
   "source": [
    "Load data and conduct a basic check that it's free from obvious issues."
   ]
  },
  {
   "cell_type": "code",
   "execution_count": 112,
   "metadata": {},
   "outputs": [
    {
     "data": {
      "text/html": [
       "<div>\n",
       "<style scoped>\n",
       "    .dataframe tbody tr th:only-of-type {\n",
       "        vertical-align: middle;\n",
       "    }\n",
       "\n",
       "    .dataframe tbody tr th {\n",
       "        vertical-align: top;\n",
       "    }\n",
       "\n",
       "    .dataframe thead th {\n",
       "        text-align: right;\n",
       "    }\n",
       "</style>\n",
       "<table border=\"1\" class=\"dataframe\">\n",
       "  <thead>\n",
       "    <tr style=\"text-align: right;\">\n",
       "      <th></th>\n",
       "      <th>gender</th>\n",
       "      <th>age</th>\n",
       "      <th>income</th>\n",
       "      <th>family_members</th>\n",
       "      <th>insurance_benefits</th>\n",
       "    </tr>\n",
       "  </thead>\n",
       "  <tbody>\n",
       "    <tr>\n",
       "      <th>889</th>\n",
       "      <td>1</td>\n",
       "      <td>33</td>\n",
       "      <td>28000.0</td>\n",
       "      <td>2</td>\n",
       "      <td>0</td>\n",
       "    </tr>\n",
       "    <tr>\n",
       "      <th>3781</th>\n",
       "      <td>0</td>\n",
       "      <td>32</td>\n",
       "      <td>42100.0</td>\n",
       "      <td>0</td>\n",
       "      <td>0</td>\n",
       "    </tr>\n",
       "    <tr>\n",
       "      <th>2161</th>\n",
       "      <td>1</td>\n",
       "      <td>39</td>\n",
       "      <td>36000.0</td>\n",
       "      <td>0</td>\n",
       "      <td>0</td>\n",
       "    </tr>\n",
       "    <tr>\n",
       "      <th>1731</th>\n",
       "      <td>0</td>\n",
       "      <td>24</td>\n",
       "      <td>43200.0</td>\n",
       "      <td>2</td>\n",
       "      <td>0</td>\n",
       "    </tr>\n",
       "    <tr>\n",
       "      <th>1539</th>\n",
       "      <td>0</td>\n",
       "      <td>18</td>\n",
       "      <td>42400.0</td>\n",
       "      <td>1</td>\n",
       "      <td>0</td>\n",
       "    </tr>\n",
       "  </tbody>\n",
       "</table>\n",
       "</div>"
      ],
      "text/plain": [
       "      gender  age   income  family_members  insurance_benefits\n",
       "889        1   33  28000.0               2                   0\n",
       "3781       0   32  42100.0               0                   0\n",
       "2161       1   39  36000.0               0                   0\n",
       "1731       0   24  43200.0               2                   0\n",
       "1539       0   18  42400.0               1                   0"
      ]
     },
     "execution_count": 112,
     "metadata": {},
     "output_type": "execute_result"
    }
   ],
   "source": [
    "# load the DF\n",
    "df = pd.read_csv('https://code.s3.yandex.net/datasets/insurance_us.csv')\n",
    "df = df.rename(columns={'Gender': 'gender', 'Age': 'age', 'Salary': 'income', 'Family members': 'family_members', 'Insurance benefits': 'insurance_benefits'})\n",
    "\n",
    "# we may want to fix the age type (from float to int) though this is not critical\n",
    "# checking all age values are integers indeed and do the conversion if so\n",
    "if (df['age'] % 1 > 0).sum() == 0: df['age'] = df['age'].astype('int')\n",
    "\n",
    "df.sample(5)"
   ]
  },
  {
   "cell_type": "markdown",
   "metadata": {},
   "source": [
    "We rename the colums to make the code look more consistent with its style."
   ]
  },
  {
   "cell_type": "code",
   "execution_count": 113,
   "metadata": {},
   "outputs": [],
   "source": [
    "df = df.rename(columns={'Gender': 'gender', 'Age': 'age', 'Salary': 'income', 'Family members': 'family_members', 'Insurance benefits': 'insurance_benefits'})"
   ]
  },
  {
   "cell_type": "code",
   "execution_count": 114,
   "metadata": {},
   "outputs": [
    {
     "data": {
      "text/html": [
       "<div>\n",
       "<style scoped>\n",
       "    .dataframe tbody tr th:only-of-type {\n",
       "        vertical-align: middle;\n",
       "    }\n",
       "\n",
       "    .dataframe tbody tr th {\n",
       "        vertical-align: top;\n",
       "    }\n",
       "\n",
       "    .dataframe thead th {\n",
       "        text-align: right;\n",
       "    }\n",
       "</style>\n",
       "<table border=\"1\" class=\"dataframe\">\n",
       "  <thead>\n",
       "    <tr style=\"text-align: right;\">\n",
       "      <th></th>\n",
       "      <th>gender</th>\n",
       "      <th>age</th>\n",
       "      <th>income</th>\n",
       "      <th>family_members</th>\n",
       "      <th>insurance_benefits</th>\n",
       "    </tr>\n",
       "  </thead>\n",
       "  <tbody>\n",
       "    <tr>\n",
       "      <th>0</th>\n",
       "      <td>1</td>\n",
       "      <td>41</td>\n",
       "      <td>49600.0</td>\n",
       "      <td>1</td>\n",
       "      <td>0</td>\n",
       "    </tr>\n",
       "    <tr>\n",
       "      <th>1</th>\n",
       "      <td>0</td>\n",
       "      <td>46</td>\n",
       "      <td>38000.0</td>\n",
       "      <td>1</td>\n",
       "      <td>1</td>\n",
       "    </tr>\n",
       "    <tr>\n",
       "      <th>2</th>\n",
       "      <td>0</td>\n",
       "      <td>29</td>\n",
       "      <td>21000.0</td>\n",
       "      <td>0</td>\n",
       "      <td>0</td>\n",
       "    </tr>\n",
       "    <tr>\n",
       "      <th>3</th>\n",
       "      <td>0</td>\n",
       "      <td>21</td>\n",
       "      <td>41700.0</td>\n",
       "      <td>2</td>\n",
       "      <td>0</td>\n",
       "    </tr>\n",
       "    <tr>\n",
       "      <th>4</th>\n",
       "      <td>1</td>\n",
       "      <td>28</td>\n",
       "      <td>26100.0</td>\n",
       "      <td>0</td>\n",
       "      <td>0</td>\n",
       "    </tr>\n",
       "    <tr>\n",
       "      <th>...</th>\n",
       "      <td>...</td>\n",
       "      <td>...</td>\n",
       "      <td>...</td>\n",
       "      <td>...</td>\n",
       "      <td>...</td>\n",
       "    </tr>\n",
       "    <tr>\n",
       "      <th>4995</th>\n",
       "      <td>0</td>\n",
       "      <td>28</td>\n",
       "      <td>35700.0</td>\n",
       "      <td>2</td>\n",
       "      <td>0</td>\n",
       "    </tr>\n",
       "    <tr>\n",
       "      <th>4996</th>\n",
       "      <td>0</td>\n",
       "      <td>34</td>\n",
       "      <td>52400.0</td>\n",
       "      <td>1</td>\n",
       "      <td>0</td>\n",
       "    </tr>\n",
       "    <tr>\n",
       "      <th>4997</th>\n",
       "      <td>0</td>\n",
       "      <td>20</td>\n",
       "      <td>33900.0</td>\n",
       "      <td>2</td>\n",
       "      <td>0</td>\n",
       "    </tr>\n",
       "    <tr>\n",
       "      <th>4998</th>\n",
       "      <td>1</td>\n",
       "      <td>22</td>\n",
       "      <td>32700.0</td>\n",
       "      <td>3</td>\n",
       "      <td>0</td>\n",
       "    </tr>\n",
       "    <tr>\n",
       "      <th>4999</th>\n",
       "      <td>1</td>\n",
       "      <td>28</td>\n",
       "      <td>40600.0</td>\n",
       "      <td>1</td>\n",
       "      <td>0</td>\n",
       "    </tr>\n",
       "  </tbody>\n",
       "</table>\n",
       "<p>5000 rows × 5 columns</p>\n",
       "</div>"
      ],
      "text/plain": [
       "      gender  age   income  family_members  insurance_benefits\n",
       "0          1   41  49600.0               1                   0\n",
       "1          0   46  38000.0               1                   1\n",
       "2          0   29  21000.0               0                   0\n",
       "3          0   21  41700.0               2                   0\n",
       "4          1   28  26100.0               0                   0\n",
       "...      ...  ...      ...             ...                 ...\n",
       "4995       0   28  35700.0               2                   0\n",
       "4996       0   34  52400.0               1                   0\n",
       "4997       0   20  33900.0               2                   0\n",
       "4998       1   22  32700.0               3                   0\n",
       "4999       1   28  40600.0               1                   0\n",
       "\n",
       "[5000 rows x 5 columns]"
      ]
     },
     "execution_count": 114,
     "metadata": {},
     "output_type": "execute_result"
    }
   ],
   "source": [
    "df"
   ]
  },
  {
   "cell_type": "code",
   "execution_count": 115,
   "metadata": {},
   "outputs": [
    {
     "name": "stdout",
     "output_type": "stream",
     "text": [
      "<class 'pandas.core.frame.DataFrame'>\n",
      "RangeIndex: 5000 entries, 0 to 4999\n",
      "Data columns (total 5 columns):\n",
      " #   Column              Non-Null Count  Dtype  \n",
      "---  ------              --------------  -----  \n",
      " 0   gender              5000 non-null   int64  \n",
      " 1   age                 5000 non-null   int64  \n",
      " 2   income              5000 non-null   float64\n",
      " 3   family_members      5000 non-null   int64  \n",
      " 4   insurance_benefits  5000 non-null   int64  \n",
      "dtypes: float64(1), int64(4)\n",
      "memory usage: 195.4 KB\n"
     ]
    }
   ],
   "source": [
    "df.info()"
   ]
  },
  {
   "cell_type": "code",
   "execution_count": 116,
   "metadata": {},
   "outputs": [],
   "source": [
    "# we may want to fix the age type (from float to int) though this is not critical\n",
    "df['age']=df['age'].astype(int)\n",
    "# write your conversion here if you choose:"
   ]
  },
  {
   "cell_type": "code",
   "execution_count": 117,
   "metadata": {},
   "outputs": [
    {
     "name": "stdout",
     "output_type": "stream",
     "text": [
      "<class 'pandas.core.frame.DataFrame'>\n",
      "RangeIndex: 5000 entries, 0 to 4999\n",
      "Data columns (total 5 columns):\n",
      " #   Column              Non-Null Count  Dtype  \n",
      "---  ------              --------------  -----  \n",
      " 0   gender              5000 non-null   int64  \n",
      " 1   age                 5000 non-null   int64  \n",
      " 2   income              5000 non-null   float64\n",
      " 3   family_members      5000 non-null   int64  \n",
      " 4   insurance_benefits  5000 non-null   int64  \n",
      "dtypes: float64(1), int64(4)\n",
      "memory usage: 195.4 KB\n"
     ]
    }
   ],
   "source": [
    "# check to see that the conversion was successful\n",
    "df.info()"
   ]
  },
  {
   "cell_type": "code",
   "execution_count": 118,
   "metadata": {},
   "outputs": [],
   "source": [
    "# now have a look at the data's descriptive statistics. \n",
    "# Does everything look okay?"
   ]
  },
  {
   "cell_type": "code",
   "execution_count": 119,
   "metadata": {},
   "outputs": [
    {
     "data": {
      "text/html": [
       "<div>\n",
       "<style scoped>\n",
       "    .dataframe tbody tr th:only-of-type {\n",
       "        vertical-align: middle;\n",
       "    }\n",
       "\n",
       "    .dataframe tbody tr th {\n",
       "        vertical-align: top;\n",
       "    }\n",
       "\n",
       "    .dataframe thead th {\n",
       "        text-align: right;\n",
       "    }\n",
       "</style>\n",
       "<table border=\"1\" class=\"dataframe\">\n",
       "  <thead>\n",
       "    <tr style=\"text-align: right;\">\n",
       "      <th></th>\n",
       "      <th>gender</th>\n",
       "      <th>age</th>\n",
       "      <th>income</th>\n",
       "      <th>family_members</th>\n",
       "      <th>insurance_benefits</th>\n",
       "    </tr>\n",
       "  </thead>\n",
       "  <tbody>\n",
       "    <tr>\n",
       "      <th>count</th>\n",
       "      <td>5000.000000</td>\n",
       "      <td>5000.000000</td>\n",
       "      <td>5000.000000</td>\n",
       "      <td>5000.000000</td>\n",
       "      <td>5000.000000</td>\n",
       "    </tr>\n",
       "    <tr>\n",
       "      <th>mean</th>\n",
       "      <td>0.499000</td>\n",
       "      <td>30.952800</td>\n",
       "      <td>39916.360000</td>\n",
       "      <td>1.194200</td>\n",
       "      <td>0.148000</td>\n",
       "    </tr>\n",
       "    <tr>\n",
       "      <th>std</th>\n",
       "      <td>0.500049</td>\n",
       "      <td>8.440807</td>\n",
       "      <td>9900.083569</td>\n",
       "      <td>1.091387</td>\n",
       "      <td>0.463183</td>\n",
       "    </tr>\n",
       "    <tr>\n",
       "      <th>min</th>\n",
       "      <td>0.000000</td>\n",
       "      <td>18.000000</td>\n",
       "      <td>5300.000000</td>\n",
       "      <td>0.000000</td>\n",
       "      <td>0.000000</td>\n",
       "    </tr>\n",
       "    <tr>\n",
       "      <th>25%</th>\n",
       "      <td>0.000000</td>\n",
       "      <td>24.000000</td>\n",
       "      <td>33300.000000</td>\n",
       "      <td>0.000000</td>\n",
       "      <td>0.000000</td>\n",
       "    </tr>\n",
       "    <tr>\n",
       "      <th>50%</th>\n",
       "      <td>0.000000</td>\n",
       "      <td>30.000000</td>\n",
       "      <td>40200.000000</td>\n",
       "      <td>1.000000</td>\n",
       "      <td>0.000000</td>\n",
       "    </tr>\n",
       "    <tr>\n",
       "      <th>75%</th>\n",
       "      <td>1.000000</td>\n",
       "      <td>37.000000</td>\n",
       "      <td>46600.000000</td>\n",
       "      <td>2.000000</td>\n",
       "      <td>0.000000</td>\n",
       "    </tr>\n",
       "    <tr>\n",
       "      <th>max</th>\n",
       "      <td>1.000000</td>\n",
       "      <td>65.000000</td>\n",
       "      <td>79000.000000</td>\n",
       "      <td>6.000000</td>\n",
       "      <td>5.000000</td>\n",
       "    </tr>\n",
       "  </tbody>\n",
       "</table>\n",
       "</div>"
      ],
      "text/plain": [
       "            gender          age        income  family_members  \\\n",
       "count  5000.000000  5000.000000   5000.000000     5000.000000   \n",
       "mean      0.499000    30.952800  39916.360000        1.194200   \n",
       "std       0.500049     8.440807   9900.083569        1.091387   \n",
       "min       0.000000    18.000000   5300.000000        0.000000   \n",
       "25%       0.000000    24.000000  33300.000000        0.000000   \n",
       "50%       0.000000    30.000000  40200.000000        1.000000   \n",
       "75%       1.000000    37.000000  46600.000000        2.000000   \n",
       "max       1.000000    65.000000  79000.000000        6.000000   \n",
       "\n",
       "       insurance_benefits  \n",
       "count         5000.000000  \n",
       "mean             0.148000  \n",
       "std              0.463183  \n",
       "min              0.000000  \n",
       "25%              0.000000  \n",
       "50%              0.000000  \n",
       "75%              0.000000  \n",
       "max              5.000000  "
      ]
     },
     "execution_count": 119,
     "metadata": {},
     "output_type": "execute_result"
    }
   ],
   "source": [
    "df.describe()"
   ]
  },
  {
   "cell_type": "code",
   "execution_count": 120,
   "metadata": {},
   "outputs": [],
   "source": [
    "#We seem to have exceptions in some columns, we will examine this in depth.\n",
    "columns = ['gender','family_members','insurance_benefits']"
   ]
  },
  {
   "cell_type": "code",
   "execution_count": 121,
   "metadata": {},
   "outputs": [
    {
     "data": {
      "text/plain": [
       "<AxesSubplot:>"
      ]
     },
     "execution_count": 121,
     "metadata": {},
     "output_type": "execute_result"
    },
    {
     "data": {
      "image/png": "[encoded data removed]",
      "text/plain": [
       "<Figure size 432x288 with 1 Axes>"
      ]
     },
     "metadata": {
      "needs_background": "light"
     },
     "output_type": "display_data"
    }
   ],
   "source": [
    "df.boxplot(columns)"
   ]
  },
  {
   "cell_type": "code",
   "execution_count": 122,
   "metadata": {},
   "outputs": [
    {
     "data": {
      "text/plain": [
       "<AxesSubplot:>"
      ]
     },
     "execution_count": 122,
     "metadata": {},
     "output_type": "execute_result"
    },
    {
     "data": {
      "image/png": "[encoded data removed]",
      "text/plain": [
       "<Figure size 432x288 with 1 Axes>"
      ]
     },
     "metadata": {
      "needs_background": "light"
     },
     "output_type": "display_data"
    }
   ],
   "source": [
    "df.boxplot('income')"
   ]
  },
  {
   "cell_type": "code",
   "execution_count": 123,
   "metadata": {},
   "outputs": [],
   "source": [
    "columns = ['gender', 'income','family_members']"
   ]
  },
  {
   "cell_type": "code",
   "execution_count": 124,
   "metadata": {},
   "outputs": [
    {
     "data": {
      "text/plain": [
       "gender                0\n",
       "age                   0\n",
       "income                0\n",
       "family_members        0\n",
       "insurance_benefits    0\n",
       "dtype: int64"
      ]
     },
     "execution_count": 124,
     "metadata": {},
     "output_type": "execute_result"
    }
   ],
   "source": [
    "df.isnull().sum()"
   ]
  },
  {
   "cell_type": "code",
   "execution_count": 125,
   "metadata": {},
   "outputs": [],
   "source": [
    "df = df.dropna(axis = 0)"
   ]
  },
  {
   "cell_type": "code",
   "execution_count": 126,
   "metadata": {},
   "outputs": [
    {
     "data": {
      "text/plain": [
       "gender                0\n",
       "age                   0\n",
       "income                0\n",
       "family_members        0\n",
       "insurance_benefits    0\n",
       "dtype: int64"
      ]
     },
     "execution_count": 126,
     "metadata": {},
     "output_type": "execute_result"
    }
   ],
   "source": [
    "df.isnull().sum()"
   ]
  },
  {
   "cell_type": "code",
   "execution_count": 127,
   "metadata": {},
   "outputs": [
    {
     "data": {
      "text/plain": [
       "153"
      ]
     },
     "execution_count": 127,
     "metadata": {},
     "output_type": "execute_result"
    }
   ],
   "source": [
    "df.duplicated().sum()"
   ]
  },
  {
   "cell_type": "markdown",
   "metadata": {},
   "source": [
    "Steps of data preparation:\n",
    "\n",
    "1. Initially no missing values ​​were found.\n",
    "\n",
    "2. We searched for exceptional values, after we found them we turned them into missing values ​​- and removed them from the data set.\n",
    "\n",
    "3. We were looking for duplicates -although duplicates have been found, there is no specific identifier for each person, so it could very well be that these are different people who simply have identical data, so we will not delete the duplicates."
   ]
  },
  {
   "cell_type": "markdown",
   "metadata": {},
   "source": [
    "## EDA"
   ]
  },
  {
   "cell_type": "markdown",
   "metadata": {},
   "source": [
    "Let's quickly check whether there are certain groups of customers by looking at the pair plot."
   ]
  },
  {
   "cell_type": "code",
   "execution_count": 128,
   "metadata": {},
   "outputs": [
    {
     "data": {
      "image/png": "[encoded data removed]",
      "text/plain": [
       "<Figure size 864x864 with 30 Axes>"
      ]
     },
     "metadata": {
      "needs_background": "light"
     },
     "output_type": "display_data"
    }
   ],
   "source": [
    "g = sns.pairplot(df, kind='hist')\n",
    "g.fig.set_size_inches(12, 12)"
   ]
  },
  {
   "cell_type": "markdown",
   "metadata": {},
   "source": [
    "Ok, it is a bit difficult to spot obvious groups (clusters) as it is difficult to combine several variables simultaneously (to analyze multivariate distributions). That's where LA and ML can be quite handy."
   ]
  },
  {
   "cell_type": "markdown",
   "metadata": {},
   "source": [
    "# Task 1. Similar Customers"
   ]
  },
  {
   "cell_type": "markdown",
   "metadata": {},
   "source": [
    "In the language of ML, it is necessary to develop a procedure that returns k nearest neighbors (objects) for a given object based on the distance between the objects.\n",
    "\n",
    "You may want to review the following lessons (chapter -> lesson)\n",
    "- Distance Between Vectors -> Euclidean Distance\n",
    "- Distance Between Vectors -> Manhattan Distance\n",
    "\n",
    "To solve the task, we can try different distance metrics."
   ]
  },
  {
   "cell_type": "markdown",
   "metadata": {},
   "source": [
    "Write a function that returns k nearest neighbors for an $n^{th}$ object based on a specified distance metric. The number of received insurance benefits should not be taken into account for this task. \n",
    "\n",
    "You can use a ready implementation of the kNN algorithm from scikit-learn (check [the link](https://scikit-learn.org/stable/modules/generated/sklearn.neighbors.NearestNeighbors.html#sklearn.neighbors.NearestNeighbors)) or use your own.\n",
    "\n",
    "Test it for four combination of two cases\n",
    "- Scaling\n",
    "  - the data is not scaled\n",
    "  - the data is scaled with the [MaxAbsScaler](https://scikit-learn.org/stable/modules/generated/sklearn.preprocessing.MaxAbsScaler.html) scaler\n",
    "- Distance Metrics\n",
    "  - Euclidean\n",
    "  - Manhattan\n",
    "\n",
    "Answer these questions:\n",
    "- Does the data being not scaled affect the kNN algorithm? If so, how does that appear?\n",
    "- How similar are the results using the Manhattan distance metric (regardless of the scaling)?"
   ]
  },
  {
   "cell_type": "code",
   "execution_count": 129,
   "metadata": {},
   "outputs": [],
   "source": [
    "feature_names = ['gender', 'age', 'income', 'family_members']"
   ]
  },
  {
   "cell_type": "code",
   "execution_count": 130,
   "metadata": {},
   "outputs": [],
   "source": [
    "def get_knn(df, n, k, metric):\n",
    "    \n",
    "    \"\"\"\n",
    "    Returns k nearest neighbors\n",
    "\n",
    "    :param df: pandas dataframe used to find similar objects within\n",
    "    :param n: object no for which the nearest neighbours are looked for\n",
    "    :param k: the number of the nearest neighbours to return\n",
    "    :param metric: name of distance metric\n",
    "    \"\"\"\n",
    "\n",
    "    nbrs = sklearn.neighbors.NearestNeighbors(n_neighbors=k, algorithm='brute', metric=metric).fit(df[feature_names])\n",
    "    nbrs_distances, nbrs_indices = nbrs.kneighbors([df.iloc[n][feature_names]], k, return_distance=True)\n",
    "    \n",
    "    df_res = pd.concat([\n",
    "        df.iloc[nbrs_indices[0]], \n",
    "        pd.DataFrame(nbrs_distances.T, index=nbrs_indices[0], columns=['distance'])\n",
    "        ], axis=1)\n",
    "    \n",
    "    print(df_res)"
   ]
  },
  {
   "cell_type": "code",
   "execution_count": 131,
   "metadata": {},
   "outputs": [
    {
     "name": "stdout",
     "output_type": "stream",
     "text": [
      "      gender  age   income  family_members  insurance_benefits  distance\n",
      "4          1   28  26100.0               0                   0  0.000000\n",
      "2701       1   31  26100.0               3                   0  4.242641\n",
      "2773       1   24  26100.0               2                   0  4.472136\n",
      "3346       0   34  26100.0               0                   0  6.082763\n",
      "4721       1   22  26100.0               2                   0  6.324555\n"
     ]
    },
    {
     "name": "stderr",
     "output_type": "stream",
     "text": [
      "/opt/conda/lib/python3.9/site-packages/sklearn/base.py:450: UserWarning: X does not have valid feature names, but NearestNeighbors was fitted with feature names\n",
      "  warnings.warn(\n"
     ]
    }
   ],
   "source": [
    "k=5\n",
    "n = 4\n",
    "metric = 'euclidean'\n",
    "\n",
    "df_nn = get_knn(df, n=n, k=k, metric=metric)\n",
    "df_nn"
   ]
  },
  {
   "cell_type": "markdown",
   "metadata": {},
   "source": [
    "Scaling the data."
   ]
  },
  {
   "cell_type": "code",
   "execution_count": 132,
   "metadata": {},
   "outputs": [],
   "source": [
    "feature_names = ['gender', 'age', 'income', 'family_members']\n",
    "\n",
    "transformer_mas = sklearn.preprocessing.MaxAbsScaler().fit(df[feature_names].to_numpy())\n",
    "\n",
    "df_scaled = df.copy()\n",
    "df_scaled.loc[:, feature_names] = transformer_mas.transform(df[feature_names].to_numpy())"
   ]
  },
  {
   "cell_type": "code",
   "execution_count": 133,
   "metadata": {},
   "outputs": [
    {
     "data": {
      "text/html": [
       "<div>\n",
       "<style scoped>\n",
       "    .dataframe tbody tr th:only-of-type {\n",
       "        vertical-align: middle;\n",
       "    }\n",
       "\n",
       "    .dataframe tbody tr th {\n",
       "        vertical-align: top;\n",
       "    }\n",
       "\n",
       "    .dataframe thead th {\n",
       "        text-align: right;\n",
       "    }\n",
       "</style>\n",
       "<table border=\"1\" class=\"dataframe\">\n",
       "  <thead>\n",
       "    <tr style=\"text-align: right;\">\n",
       "      <th></th>\n",
       "      <th>gender</th>\n",
       "      <th>age</th>\n",
       "      <th>income</th>\n",
       "      <th>family_members</th>\n",
       "      <th>insurance_benefits</th>\n",
       "    </tr>\n",
       "  </thead>\n",
       "  <tbody>\n",
       "    <tr>\n",
       "      <th>2052</th>\n",
       "      <td>1.0</td>\n",
       "      <td>0.753846</td>\n",
       "      <td>0.500000</td>\n",
       "      <td>0.000000</td>\n",
       "      <td>2</td>\n",
       "    </tr>\n",
       "    <tr>\n",
       "      <th>2251</th>\n",
       "      <td>0.0</td>\n",
       "      <td>0.353846</td>\n",
       "      <td>0.572152</td>\n",
       "      <td>0.000000</td>\n",
       "      <td>0</td>\n",
       "    </tr>\n",
       "    <tr>\n",
       "      <th>3942</th>\n",
       "      <td>1.0</td>\n",
       "      <td>0.307692</td>\n",
       "      <td>0.579747</td>\n",
       "      <td>0.000000</td>\n",
       "      <td>0</td>\n",
       "    </tr>\n",
       "    <tr>\n",
       "      <th>4887</th>\n",
       "      <td>1.0</td>\n",
       "      <td>0.400000</td>\n",
       "      <td>0.645570</td>\n",
       "      <td>0.000000</td>\n",
       "      <td>0</td>\n",
       "    </tr>\n",
       "    <tr>\n",
       "      <th>4411</th>\n",
       "      <td>1.0</td>\n",
       "      <td>0.338462</td>\n",
       "      <td>0.512658</td>\n",
       "      <td>0.166667</td>\n",
       "      <td>0</td>\n",
       "    </tr>\n",
       "  </tbody>\n",
       "</table>\n",
       "</div>"
      ],
      "text/plain": [
       "      gender       age    income  family_members  insurance_benefits\n",
       "2052     1.0  0.753846  0.500000        0.000000                   2\n",
       "2251     0.0  0.353846  0.572152        0.000000                   0\n",
       "3942     1.0  0.307692  0.579747        0.000000                   0\n",
       "4887     1.0  0.400000  0.645570        0.000000                   0\n",
       "4411     1.0  0.338462  0.512658        0.166667                   0"
      ]
     },
     "execution_count": 133,
     "metadata": {},
     "output_type": "execute_result"
    }
   ],
   "source": [
    "df_scaled.sample(5)"
   ]
  },
  {
   "cell_type": "markdown",
   "metadata": {},
   "source": [
    "Now, let's get similar records for a given one for every combination"
   ]
  },
  {
   "cell_type": "code",
   "execution_count": 167,
   "metadata": {},
   "outputs": [
    {
     "name": "stdout",
     "output_type": "stream",
     "text": [
      "      gender  age   income  family_members  distance\n",
      "4          1   28  26100.0               0  0.000000\n",
      "2701       1   31  26100.0               3  4.242641\n",
      "2773       1   24  26100.0               2  4.472136\n",
      "3346       0   34  26100.0               0  6.082763\n",
      "4721       1   22  26100.0               2  6.324555\n"
     ]
    },
    {
     "name": "stderr",
     "output_type": "stream",
     "text": [
      "/opt/conda/lib/python3.9/site-packages/sklearn/base.py:450: UserWarning: X does not have valid feature names, but NearestNeighbors was fitted with feature names\n",
      "  warnings.warn(\n"
     ]
    }
   ],
   "source": [
    "get_knn(df[feature_names], 4, 5, metric='euclidean')"
   ]
  },
  {
   "cell_type": "code",
   "execution_count": 166,
   "metadata": {},
   "outputs": [
    {
     "name": "stdout",
     "output_type": "stream",
     "text": [
      "      gender  age   income  family_members  distance\n",
      "4          1   28  26100.0               0       0.0\n",
      "2773       1   24  26100.0               2       6.0\n",
      "2701       1   31  26100.0               3       6.0\n",
      "3346       0   34  26100.0               0       7.0\n",
      "4721       1   22  26100.0               2       8.0\n"
     ]
    },
    {
     "name": "stderr",
     "output_type": "stream",
     "text": [
      "/opt/conda/lib/python3.9/site-packages/sklearn/base.py:450: UserWarning: X does not have valid feature names, but NearestNeighbors was fitted with feature names\n",
      "  warnings.warn(\n"
     ]
    }
   ],
   "source": [
    "get_knn(df[feature_names], 4, 5, metric='manhattan')"
   ]
  },
  {
   "cell_type": "code",
   "execution_count": 136,
   "metadata": {},
   "outputs": [
    {
     "name": "stdout",
     "output_type": "stream",
     "text": [
      "      gender       age    income  family_members  distance\n",
      "4        1.0  0.430769  0.330380             0.0  0.000000\n",
      "349      1.0  0.430769  0.322785             0.0  0.007595\n",
      "3934     1.0  0.430769  0.321519             0.0  0.008861\n",
      "3665     1.0  0.430769  0.317722             0.0  0.012658\n",
      "1435     1.0  0.446154  0.331646             0.0  0.015437\n"
     ]
    },
    {
     "name": "stderr",
     "output_type": "stream",
     "text": [
      "/opt/conda/lib/python3.9/site-packages/sklearn/base.py:450: UserWarning: X does not have valid feature names, but NearestNeighbors was fitted with feature names\n",
      "  warnings.warn(\n"
     ]
    }
   ],
   "source": [
    "get_knn(df_scaled[feature_names], 4, 5, metric='euclidean')"
   ]
  },
  {
   "cell_type": "code",
   "execution_count": 137,
   "metadata": {},
   "outputs": [
    {
     "name": "stdout",
     "output_type": "stream",
     "text": [
      "      gender       age    income  family_members  distance\n",
      "4        1.0  0.430769  0.330380             0.0  0.000000\n",
      "349      1.0  0.430769  0.322785             0.0  0.007595\n",
      "3934     1.0  0.430769  0.321519             0.0  0.008861\n",
      "3665     1.0  0.430769  0.317722             0.0  0.012658\n",
      "1435     1.0  0.446154  0.331646             0.0  0.016650\n"
     ]
    },
    {
     "name": "stderr",
     "output_type": "stream",
     "text": [
      "/opt/conda/lib/python3.9/site-packages/sklearn/base.py:450: UserWarning: X does not have valid feature names, but NearestNeighbors was fitted with feature names\n",
      "  warnings.warn(\n"
     ]
    }
   ],
   "source": [
    "get_knn(df_scaled[feature_names], 4, 5, metric='manhattan')"
   ]
  },
  {
   "cell_type": "markdown",
   "metadata": {},
   "source": [
    "Answers to the questions"
   ]
  },
  {
   "cell_type": "markdown",
   "metadata": {},
   "source": [
    "**Does the data being not scaled affect the kNN algorithm? If so, how does that appear?** \n",
    "\n",
    "When the data were not scaled, the distances were much greater."
   ]
  },
  {
   "cell_type": "markdown",
   "metadata": {},
   "source": [
    "**How similar are the results using the Manhattan distance metric (regardless of the scaling)?** \n",
    "\n",
    "Exactly the same in the scale data, in the regular data it seems to have a little diffrent."
   ]
  },
  {
   "cell_type": "markdown",
   "metadata": {},
   "source": [
    "# Task 2. Is Customer Likely to Receive Insurance Benefit?"
   ]
  },
  {
   "cell_type": "markdown",
   "metadata": {},
   "source": [
    "In terms of machine learning we can look at this like a binary classification task."
   ]
  },
  {
   "cell_type": "markdown",
   "metadata": {},
   "source": [
    "With `insurance_benefits` being more than zero as the target, evaluate whether the kNN classification approach can do better than a dummy model.\n",
    "\n",
    "Instructions:\n",
    "- Build a KNN-based classifier and measure its quality with the F1 metric for k=1..10 for both the original data and the scaled one. That'd be interesting to see how k may influece the evaluation metric, and whether scaling the data makes any difference. You can use a ready implemention of the kNN classification algorithm from scikit-learn (check [the link](https://scikit-learn.org/stable/modules/generated/sklearn.neighbors.KNeighborsClassifier.html)) or use your own.\n",
    "- Build the dummy model which is just random for this case. It should return \"1\" with some probability. Let's test the model with four probability values: 0, the probability of paying any insurance benefit, 0.5, 1.\n",
    "\n",
    "The probability of paying any insurance benefit can be defined as\n",
    "\n",
    "$$\n",
    "P\\{\\text{insurance benefit received}\\}=\\frac{\\text{number of clients received any insurance benefit}}{\\text{total number of clients}}.\n",
    "$$\n",
    "\n",
    "Split the whole data in the 70:30 proportion for the training/testing parts."
   ]
  },
  {
   "cell_type": "code",
   "execution_count": 138,
   "metadata": {},
   "outputs": [],
   "source": [
    "# calculate the target\n",
    "\n",
    "df['insurance_benefits_received'] = (df['insurance_benefits'] > 0).astype('int')"
   ]
  },
  {
   "cell_type": "code",
   "execution_count": 139,
   "metadata": {},
   "outputs": [
    {
     "data": {
      "text/plain": [
       "0    4436\n",
       "1     564\n",
       "Name: insurance_benefits_received, dtype: int64"
      ]
     },
     "execution_count": 139,
     "metadata": {},
     "output_type": "execute_result"
    }
   ],
   "source": [
    "# check for the class imbalance with value_counts()\n",
    "\n",
    "df['insurance_benefits_received'].value_counts()"
   ]
  },
  {
   "cell_type": "code",
   "execution_count": 140,
   "metadata": {},
   "outputs": [],
   "source": [
    "df_scaled['insurance_benefits_received'] = (df_scaled['insurance_benefits'] > 0).astype('int')"
   ]
  },
  {
   "cell_type": "code",
   "execution_count": 141,
   "metadata": {},
   "outputs": [
    {
     "data": {
      "text/plain": [
       "0    4436\n",
       "1     564\n",
       "Name: insurance_benefits_received, dtype: int64"
      ]
     },
     "execution_count": 141,
     "metadata": {},
     "output_type": "execute_result"
    }
   ],
   "source": [
    "df_scaled['insurance_benefits_received'].value_counts()"
   ]
  },
  {
   "cell_type": "code",
   "execution_count": 142,
   "metadata": {},
   "outputs": [],
   "source": [
    "def eval_classifier(y_true, y_pred):\n",
    "    \n",
    "    f1_score = sklearn.metrics.f1_score(y_true, y_pred)\n",
    "    print(f'F1: {f1_score:.2f}')\n",
    "    \n",
    "# if you have an issue with the following line, restart the kernel and run the notebook again\n",
    "    cm = sklearn.metrics.confusion_matrix(y_true, y_pred, normalize='all')\n",
    "    print('Confusion Matrix')\n",
    "    print(cm)"
   ]
  },
  {
   "cell_type": "code",
   "execution_count": 143,
   "metadata": {},
   "outputs": [
    {
     "name": "stdout",
     "output_type": "stream",
     "text": [
      "F1: 0.62\n",
      "Confusion Matrix\n",
      "[[0.87133333 0.02      ]\n",
      " [0.05133333 0.05733333]]\n",
      "F1: 0.41\n",
      "Confusion Matrix\n",
      "[[0.88733333 0.004     ]\n",
      " [0.08       0.02866667]]\n",
      "F1: 0.41\n",
      "Confusion Matrix\n",
      "[[0.88       0.01133333]\n",
      " [0.07733333 0.03133333]]\n",
      "F1: 0.28\n",
      "Confusion Matrix\n",
      "[[0.88866667 0.00266667]\n",
      " [0.09066667 0.018     ]]\n",
      "F1: 0.27\n",
      "Confusion Matrix\n",
      "[[0.88533333 0.006     ]\n",
      " [0.09066667 0.018     ]]\n",
      "F1: 0.11\n",
      "Confusion Matrix\n",
      "[[0.89       0.00133333]\n",
      " [0.102      0.00666667]]\n",
      "F1: 0.11\n",
      "Confusion Matrix\n",
      "[[0.88866667 0.00266667]\n",
      " [0.102      0.00666667]]\n",
      "F1: 0.07\n",
      "Confusion Matrix\n",
      "[[0.89133333 0.        ]\n",
      " [0.10466667 0.004     ]]\n",
      "F1: 0.08\n",
      "Confusion Matrix\n",
      "[[0.89133333 0.        ]\n",
      " [0.104      0.00466667]]\n"
     ]
    }
   ],
   "source": [
    "X = df[['age', 'gender', 'income', 'family_members']].to_numpy()\n",
    "y = df['insurance_benefits_received'].to_numpy()\n",
    "\n",
    "X_train, X_test, y_train, y_test = train_test_split(X, y, test_size=0.3, random_state=12345)\n",
    "for k in range(1,10):\n",
    "    \n",
    "    model = sklearn.neighbors.KNeighborsClassifier(n_neighbors=k)\n",
    "\n",
    "    model.fit(X_train, y_train)\n",
    "\n",
    "    y_test_pred = model.predict(X_test)\n",
    "    eval_classifier(y_test, y_test_pred)"
   ]
  },
  {
   "cell_type": "code",
   "execution_count": 144,
   "metadata": {},
   "outputs": [
    {
     "name": "stdout",
     "output_type": "stream",
     "text": [
      "F1: 0.97\n",
      "Confusion Matrix\n",
      "[[0.88866667 0.00266667]\n",
      " [0.00466667 0.104     ]]\n",
      "F1: 0.93\n",
      "Confusion Matrix\n",
      "[[8.90666667e-01 6.66666667e-04]\n",
      " [1.40000000e-02 9.46666667e-02]]\n",
      "F1: 0.95\n",
      "Confusion Matrix\n",
      "[[0.88933333 0.002     ]\n",
      " [0.00866667 0.1       ]]\n",
      "F1: 0.91\n",
      "Confusion Matrix\n",
      "[[0.88933333 0.002     ]\n",
      " [0.01666667 0.092     ]]\n",
      "F1: 0.92\n",
      "Confusion Matrix\n",
      "[[0.88666667 0.00466667]\n",
      " [0.01133333 0.09733333]]\n",
      "F1: 0.90\n",
      "Confusion Matrix\n",
      "[[0.89       0.00133333]\n",
      " [0.018      0.09066667]]\n",
      "F1: 0.92\n",
      "Confusion Matrix\n",
      "[[0.88733333 0.004     ]\n",
      " [0.01266667 0.096     ]]\n",
      "F1: 0.90\n",
      "Confusion Matrix\n",
      "[[0.88866667 0.00266667]\n",
      " [0.01733333 0.09133333]]\n",
      "F1: 0.92\n",
      "Confusion Matrix\n",
      "[[0.88866667 0.00266667]\n",
      " [0.01466667 0.094     ]]\n"
     ]
    }
   ],
   "source": [
    "X = df_scaled[['age', 'gender', 'income', 'family_members']].to_numpy()\n",
    "y = df_scaled['insurance_benefits_received'].to_numpy()\n",
    "\n",
    "X_train, X_test, y_train, y_test = train_test_split(X, y, test_size=0.3, random_state=12345)\n",
    "for k in range(1,10):\n",
    "    \n",
    "    model = sklearn.neighbors.KNeighborsClassifier(n_neighbors=k)\n",
    "\n",
    "    model.fit(X_train, y_train)\n",
    "\n",
    "    y_test_pred = model.predict(X_test)\n",
    "    eval_classifier(y_test, y_test_pred)"
   ]
  },
  {
   "cell_type": "markdown",
   "metadata": {},
   "source": [
    "It seems that changing the scale of the data set had a very positive effect on the F1 index and raised it significantly.\n",
    "It also seems that the number of K has no significant effect on the F1 score, but the optimal result was at K=1."
   ]
  },
  {
   "cell_type": "code",
   "execution_count": 145,
   "metadata": {},
   "outputs": [],
   "source": [
    "# generating output of a random model\n",
    "\n",
    "def rnd_model_predict(P, size, seed=42):\n",
    "\n",
    "    rng = np.random.default_rng(seed=seed)\n",
    "    return rng.binomial(n=1, p=P, size=size)"
   ]
  },
  {
   "cell_type": "code",
   "execution_count": 146,
   "metadata": {},
   "outputs": [
    {
     "name": "stdout",
     "output_type": "stream",
     "text": [
      "The probability: 0.00\n",
      "F1: 0.00\n",
      "Confusion Matrix\n",
      "[[0.8872 0.    ]\n",
      " [0.1128 0.    ]]\n",
      "\n",
      "The probability: 0.11\n",
      "F1: 0.12\n",
      "Confusion Matrix\n",
      "[[0.7914 0.0958]\n",
      " [0.0994 0.0134]]\n",
      "\n",
      "The probability: 0.50\n",
      "F1: 0.20\n",
      "Confusion Matrix\n",
      "[[0.456  0.4312]\n",
      " [0.053  0.0598]]\n",
      "\n",
      "The probability: 1.00\n",
      "F1: 0.20\n",
      "Confusion Matrix\n",
      "[[0.     0.8872]\n",
      " [0.     0.1128]]\n",
      "\n"
     ]
    }
   ],
   "source": [
    "for P in [0, df['insurance_benefits_received'].sum() / len(df), 0.5, 1]:\n",
    "\n",
    "    print(f'The probability: {P:.2f}')\n",
    "    y_pred_rnd = rnd_model_predict(P, len(df), seed=42)\n",
    "        \n",
    "    eval_classifier(df['insurance_benefits_received'], y_pred_rnd)\n",
    "    \n",
    "    print()"
   ]
  },
  {
   "cell_type": "markdown",
   "metadata": {},
   "source": [
    "Our model's F1 score is better than the dummy model."
   ]
  },
  {
   "cell_type": "markdown",
   "metadata": {},
   "source": [
    "# Task 3. Regression (with Linear Regression)"
   ]
  },
  {
   "cell_type": "markdown",
   "metadata": {},
   "source": [
    "With `insurance_benefits` as the target, evaluate what RMSE would be for a Linear Regression model."
   ]
  },
  {
   "cell_type": "markdown",
   "metadata": {},
   "source": [
    "Build your own implementation of LR. For that, recall how the linear regression task's solution is formulated in terms of LA. Check RMSE for both the original data and the scaled one. Can you see any difference in RMSE between these two cases?\n",
    "\n",
    "Let's denote\n",
    "- $X$ — feature matrix, each row is a case, each column is a feature, the first column consists of unities\n",
    "- $y$ — target (a vector)\n",
    "- $\\hat{y}$ — estimated tagret (a vector)\n",
    "- $w$ — weight vector\n",
    "\n",
    "The task of linear regression in the language of matrices can be formulated as\n",
    "\n",
    "$$\n",
    "y = Xw\n",
    "$$\n",
    "\n",
    "The training objective then is to find such $w$ that it would minimize the L2-distance (MSE) between $Xw$ and $y$:\n",
    "\n",
    "$$\n",
    "\\min_w d_2(Xw, y) \\quad \\text{or} \\quad \\min_w \\text{MSE}(Xw, y)\n",
    "$$\n",
    "\n",
    "It appears that there is analytical solution for the above:\n",
    "\n",
    "$$\n",
    "w = (X^T X)^{-1} X^T y\n",
    "$$\n",
    "\n",
    "The formula above can be used to find the weights $w$ and the latter can be used to calculate predicted values\n",
    "\n",
    "$$\n",
    "\\hat{y} = X_{val}w\n",
    "$$"
   ]
  },
  {
   "cell_type": "markdown",
   "metadata": {},
   "source": [
    "Split the whole data in the 70:30 proportion for the training/validation parts. Use the RMSE metric for the model evaluation."
   ]
  },
  {
   "cell_type": "code",
   "execution_count": 147,
   "metadata": {},
   "outputs": [],
   "source": [
    "class MyLinearRegression:\n",
    "    \n",
    "    def __init__(self):\n",
    "        \n",
    "        self.weights = None\n",
    "    \n",
    "    def fit(self, X, y):\n",
    "        \n",
    "        # adding the unities\n",
    "        X2 = np.append(np.ones([len(X), 1]), X, axis=1)\n",
    "        self.weights = np.linalg.inv(X2.T.dot(X2)).dot(X2.T).dot(y)# <your code here>\n",
    "\n",
    "    def predict(self, X):\n",
    "        \n",
    "        # adding the unities\n",
    "        X2 = np.append(np.ones([len(X), 1]), X, axis=1)# <your code here>\n",
    "        y_pred = X2.dot(self.weights)# <your code here>\n",
    "        \n",
    "        return y_pred"
   ]
  },
  {
   "cell_type": "code",
   "execution_count": 148,
   "metadata": {},
   "outputs": [],
   "source": [
    "def eval_regressor(y_true, y_pred):\n",
    "    \n",
    "    rmse = math.sqrt(sklearn.metrics.mean_squared_error(y_true, y_pred))\n",
    "    print(f'RMSE: {rmse:.2f}')\n",
    "    \n",
    "    r2_score = math.sqrt(sklearn.metrics.r2_score(y_true, y_pred))\n",
    "    print(f'R2: {r2_score:.2f}')    "
   ]
  },
  {
   "cell_type": "code",
   "execution_count": 149,
   "metadata": {},
   "outputs": [
    {
     "name": "stdout",
     "output_type": "stream",
     "text": [
      "[-9.43539012e-01  3.57495491e-02  1.64272726e-02 -2.60743659e-07\n",
      " -1.16902127e-02]\n",
      "RMSE: 0.34\n",
      "R2: 0.66\n"
     ]
    }
   ],
   "source": [
    "X = df[['age', 'gender', 'income', 'family_members']].to_numpy()\n",
    "y = df['insurance_benefits'].to_numpy()\n",
    "\n",
    "X_train, X_test, y_train, y_test = train_test_split(X, y, test_size=0.3, random_state=12345)\n",
    "\n",
    "lr = MyLinearRegression()\n",
    "\n",
    "lr.fit(X_train, y_train)\n",
    "print(lr.weights)\n",
    "\n",
    "y_test_pred = lr.predict(X_test)\n",
    "eval_regressor(y_test, y_test_pred)"
   ]
  },
  {
   "cell_type": "code",
   "execution_count": 150,
   "metadata": {},
   "outputs": [
    {
     "name": "stdout",
     "output_type": "stream",
     "text": [
      "[-0.94353901  2.32372069  0.01642727 -0.02059875 -0.07014128]\n",
      "RMSE: 0.34\n",
      "R2: 0.66\n"
     ]
    }
   ],
   "source": [
    "X_s = df_scaled[['age', 'gender', 'income', 'family_members']].to_numpy()\n",
    "y_s = df_scaled['insurance_benefits'].to_numpy()\n",
    "\n",
    "X_train, X_test, y_train, y_test = train_test_split(X_s, y_s, test_size=0.3, random_state=12345)\n",
    "\n",
    "lr = MyLinearRegression()\n",
    "\n",
    "lr.fit(X_train, y_train)\n",
    "print(lr.weights)\n",
    "\n",
    "y_test_pred = lr.predict(X_test)\n",
    "eval_regressor(y_test, y_test_pred)"
   ]
  },
  {
   "cell_type": "markdown",
   "metadata": {},
   "source": [
    "Both sets of data give exactly the same result in both indices - \n",
    "\n",
    "conclusion:\n",
    "The scaling on the data set was not significant in the current model."
   ]
  },
  {
   "cell_type": "markdown",
   "metadata": {},
   "source": [
    "# Task 4. Obfuscating Data"
   ]
  },
  {
   "cell_type": "markdown",
   "metadata": {},
   "source": [
    "It best to obfuscate data by multiplying the numerical features (remember, they can be seen as the matrix $X$) by an invertible matrix $P$. \n",
    "\n",
    "$$\n",
    "X' = X \\times P\n",
    "$$\n",
    "\n",
    "Try to do that and check how the features' values will look like after the transformation. By the way, the intertible property is important here so make sure that $P$ is indeed invertible.\n",
    "\n",
    "You may want to review the 'Matrices and Matrix Operations -> Matrix Multiplication' lesson to recall the rule of matrix multiplication and its implementation with NumPy."
   ]
  },
  {
   "cell_type": "code",
   "execution_count": 151,
   "metadata": {},
   "outputs": [],
   "source": [
    "personal_info_column_list = ['gender', 'age', 'income', 'family_members']\n",
    "df_pn = df[personal_info_column_list]"
   ]
  },
  {
   "cell_type": "code",
   "execution_count": 152,
   "metadata": {},
   "outputs": [],
   "source": [
    "X = df_pn.to_numpy()"
   ]
  },
  {
   "cell_type": "markdown",
   "metadata": {},
   "source": [
    "Generating a random matrix $P$."
   ]
  },
  {
   "cell_type": "code",
   "execution_count": 153,
   "metadata": {},
   "outputs": [],
   "source": [
    "rng = np.random.default_rng(seed=42)\n",
    "P = rng.random(size=(X.shape[1], X.shape[1]))"
   ]
  },
  {
   "cell_type": "markdown",
   "metadata": {},
   "source": [
    "Checking the matrix $P$ is invertible"
   ]
  },
  {
   "cell_type": "code",
   "execution_count": 154,
   "metadata": {},
   "outputs": [
    {
     "data": {
      "text/plain": [
       "array([[ 0.41467992, -1.43783972,  0.62798546,  1.14001268],\n",
       "       [-1.06101789,  0.44219337,  0.1329549 ,  1.18425933],\n",
       "       [ 1.42362442,  1.60461607, -2.0553823 , -1.53699695],\n",
       "       [-0.11128575, -0.65813802,  1.74995517, -0.11816316]])"
      ]
     },
     "execution_count": 154,
     "metadata": {},
     "output_type": "execute_result"
    }
   ],
   "source": [
    "np.linalg.inv(P)"
   ]
  },
  {
   "cell_type": "markdown",
   "metadata": {},
   "source": [
    "Can you guess the customers' ages or income after the transformation?"
   ]
  },
  {
   "cell_type": "markdown",
   "metadata": {},
   "source": [
    "Yes, the age or income will be the difference between the number and 0/1 (depending on the position of the number in the column)."
   ]
  },
  {
   "cell_type": "markdown",
   "metadata": {},
   "source": [
    "Can you recover the original data from $X'$ if you know $P$? Try to check that with calculations by moving $P$ from the right side of the formula above to the left one. The rules of matrix multiplcation are really helpful here."
   ]
  },
  {
   "cell_type": "code",
   "execution_count": 155,
   "metadata": {},
   "outputs": [
    {
     "data": {
      "text/plain": [
       "array([[ 1.00000000e+00,  4.10000000e+01,  4.96000000e+04,\n",
       "         1.00000000e+00],\n",
       "       [ 1.67952800e-12,  4.60000000e+01,  3.80000000e+04,\n",
       "         1.00000000e+00],\n",
       "       [-6.23021448e-13,  2.90000000e+01,  2.10000000e+04,\n",
       "        -2.03032656e-13],\n",
       "       ...,\n",
       "       [ 1.57996161e-12,  2.00000000e+01,  3.39000000e+04,\n",
       "         2.00000000e+00],\n",
       "       [ 1.00000000e+00,  2.20000000e+01,  3.27000000e+04,\n",
       "         3.00000000e+00],\n",
       "       [ 1.00000000e+00,  2.80000000e+01,  4.06000000e+04,\n",
       "         1.00000000e+00]])"
      ]
     },
     "execution_count": 155,
     "metadata": {},
     "output_type": "execute_result"
    }
   ],
   "source": [
    "np.dot(np.dot(X, P), np.linalg.inv(P))"
   ]
  },
  {
   "cell_type": "markdown",
   "metadata": {},
   "source": [
    "Print all three cases for a few customers\n",
    "- The original data\n",
    "- The transformed one\n",
    "- The reversed (recovered) one"
   ]
  },
  {
   "cell_type": "code",
   "execution_count": 156,
   "metadata": {},
   "outputs": [
    {
     "data": {
      "text/plain": [
       "array([[0.77395605, 0.43887844, 0.85859792, 0.69736803],\n",
       "       [0.09417735, 0.97562235, 0.7611397 , 0.78606431],\n",
       "       [0.12811363, 0.45038594, 0.37079802, 0.92676499],\n",
       "       [0.64386512, 0.82276161, 0.4434142 , 0.22723872]])"
      ]
     },
     "execution_count": 156,
     "metadata": {},
     "output_type": "execute_result"
    }
   ],
   "source": [
    "P"
   ]
  },
  {
   "cell_type": "code",
   "execution_count": 157,
   "metadata": {},
   "outputs": [
    {
     "data": {
      "text/plain": [
       "array([[ 0.41467992, -1.43783972,  0.62798546,  1.14001268],\n",
       "       [-1.06101789,  0.44219337,  0.1329549 ,  1.18425933],\n",
       "       [ 1.42362442,  1.60461607, -2.0553823 , -1.53699695],\n",
       "       [-0.11128575, -0.65813802,  1.74995517, -0.11816316]])"
      ]
     },
     "execution_count": 157,
     "metadata": {},
     "output_type": "execute_result"
    }
   ],
   "source": [
    "np.linalg.inv(P)"
   ]
  },
  {
   "cell_type": "code",
   "execution_count": 158,
   "metadata": {
    "scrolled": true
   },
   "outputs": [
    {
     "data": {
      "text/plain": [
       "array([[1.00e+00, 4.10e+01, 4.96e+04, 1.00e+00],\n",
       "       [0.00e+00, 4.60e+01, 3.80e+04, 1.00e+00],\n",
       "       [0.00e+00, 2.90e+01, 2.10e+04, 0.00e+00],\n",
       "       ...,\n",
       "       [0.00e+00, 2.00e+01, 3.39e+04, 2.00e+00],\n",
       "       [1.00e+00, 2.20e+01, 3.27e+04, 3.00e+00],\n",
       "       [1.00e+00, 2.80e+01, 4.06e+04, 1.00e+00]])"
      ]
     },
     "execution_count": 158,
     "metadata": {},
     "output_type": "execute_result"
    }
   ],
   "source": [
    "X"
   ]
  },
  {
   "cell_type": "markdown",
   "metadata": {},
   "source": [
    "## Proof That Data Obfuscation Can Work with LR"
   ]
  },
  {
   "cell_type": "markdown",
   "metadata": {},
   "source": [
    "The regression task has been solved with linear regression in this project. Your next task is to prove _analytically_ that the given obfuscation method won't affect linear regression in terms of predicted values i.e. their values will remain the same. Can you believe that? Well, you don't have to, you should prove it!"
   ]
  },
  {
   "cell_type": "markdown",
   "metadata": {},
   "source": [
    "So, the data is obfuscated and there is $X \\times P$ instead of just $X$ now. Consequently, there are other weights $w_P$ as\n",
    "$$\n",
    "w = (X^T X)^{-1} X^T y \\quad \\Rightarrow \\quad w_P = [(XP)^T XP]^{-1} (XP)^T y\n",
    "$$\n",
    "\n",
    "How would $w$ and $w_P$ be linked if you simplify the formula for $w_P$ above? \n",
    "\n",
    "What would be predicted values with $w_P$? \n",
    "\n",
    "What does that mean for the quality of linear regression if you measure it with RMSE?\n",
    "\n",
    "Check Appendix B Properties of Matrices in the end of the notebook. There are useful formulas in there!\n",
    "\n",
    "No code is necessary in this section, only analytical explanation!"
   ]
  },
  {
   "cell_type": "markdown",
   "metadata": {},
   "source": [
    "**Answer**"
   ]
  },
  {
   "cell_type": "markdown",
   "metadata": {},
   "source": [
    "Given X~=XP for P an invertible matrix, we have\n",
    "\n",
    "β(X~)=\n",
    "(X~TX~)−1X~Ty=\n",
    "(PTXTXP)−1PTXTy\n",
    "=P−1(XTX)−1P−TPTXTy=\n",
    "P−1(XTX)−1(PP−1)TXTy=\n",
    "P−1(XTX)−1XTy=\n",
    "P−1β(X)\n",
    "which uses the facts that (AB)−1=B−1A−1 and (AB)T=BTAT. This should make it clear that the only difference in the coefficients compared to the usual case is a is a factor P−1.\n",
    "\n",
    "Whether or not this is small or a large difference in the coefficients compared to using X instead of XP depends on the choice of P.\n",
    "\n",
    "As an example, we would expect a diagonal P with diagonal elements close to 1 to be very similar; in the case that all diagonal elements are exactly 1, then P=I and it should be obvious why this special case would result in estimating the same coefficients.\n",
    "However, looking at the model predictions, we see that the P−1 factor must cancel out:\n",
    "\n",
    "Xβ(X)=Xβ(X)=XPP−1β(X)=X~β(X~)"
   ]
  },
  {
   "cell_type": "markdown",
   "metadata": {},
   "source": [
    "**Analytical proof**"
   ]
  },
  {
   "cell_type": "markdown",
   "metadata": {},
   "source": [
    "## Test Linear Regression With Data Obfuscation"
   ]
  },
  {
   "cell_type": "markdown",
   "metadata": {},
   "source": [
    "Now, let's prove Linear Regression can work computationally with the chosen obfuscation transformation.\n",
    "\n",
    "Build a procedure or a class that runs Linear Regression optionally with the obfuscation. You can use either a ready implementation of Linear Regression from sciki-learn or your own.\n",
    "\n",
    "Run Linear Regression for the original data and the obfuscated one, compare the predicted values and the RMSE, $R^2$ metric values. Is there any difference?"
   ]
  },
  {
   "cell_type": "markdown",
   "metadata": {},
   "source": [
    "**Procedure**\n",
    "\n",
    "- Create a square matrix $P$ of random numbers.\n",
    "- Check that it is invertible. If not, repeat the first point until we get an invertible matrix.\n",
    "- <! your comment here !>\n",
    "- Use $XP$ as the new feature matrix"
   ]
  },
  {
   "cell_type": "code",
   "execution_count": 162,
   "metadata": {},
   "outputs": [
    {
     "data": {
      "text/plain": [
       "(5000, 4)"
      ]
     },
     "execution_count": 162,
     "metadata": {},
     "output_type": "execute_result"
    }
   ],
   "source": [
    "k = rng.random(size=(5000,4))\n",
    "k.shape"
   ]
  },
  {
   "cell_type": "code",
   "execution_count": 163,
   "metadata": {},
   "outputs": [],
   "source": [
    "class MyLinearRegression1:\n",
    "    \n",
    "    def __init__(self):\n",
    "        \n",
    "        self.weights = None\n",
    "        self.X =X*k\n",
    "    def fit(self, X, y):\n",
    "        \n",
    "        # adding the unities\n",
    "        \n",
    "        X2 = np.append(np.ones([len(X), 1]), X, axis=1)\n",
    "        self.weights = np.linalg.inv(X2.T.dot(X2)).dot(X2.T).dot(y)# <your code here>\n",
    "        \n",
    "    def predict(self, X):\n",
    "        \n",
    "        # adding the unities\n",
    "        X2 = np.append(np.ones([len(X), 1]), X, axis=1)# <your code here>\n",
    "        y_pred = X2.dot(self.weights)# <your code here>\n",
    "        \n",
    "        return y_pred"
   ]
  },
  {
   "cell_type": "code",
   "execution_count": 164,
   "metadata": {},
   "outputs": [
    {
     "name": "stdout",
     "output_type": "stream",
     "text": [
      "[-9.43539012e-01  3.57495491e-02  1.64272726e-02 -2.60743659e-07\n",
      " -1.16902127e-02]\n",
      "RMSE: 0.34\n",
      "R2: 0.66\n"
     ]
    }
   ],
   "source": [
    "X = df[['age', 'gender', 'income', 'family_members']].to_numpy()\n",
    "y = df['insurance_benefits'].to_numpy()\n",
    "\n",
    "X_train, X_test, y_train, y_test = train_test_split(X, y, test_size=0.3, random_state=12345)\n",
    "\n",
    "lr = MyLinearRegression1()\n",
    "\n",
    "lr.fit(X_train, y_train)\n",
    "print(lr.weights)\n",
    "\n",
    "y_test_pred = lr.predict(X_test)\n",
    "eval_regressor(y_test, y_test_pred)"
   ]
  },
  {
   "cell_type": "code",
   "execution_count": 165,
   "metadata": {},
   "outputs": [
    {
     "name": "stdout",
     "output_type": "stream",
     "text": [
      "[-0.94353901  2.32372069  0.01642727 -0.02059875 -0.07014128]\n",
      "RMSE: 0.34\n",
      "R2: 0.66\n"
     ]
    }
   ],
   "source": [
    "X_s = df_scaled[['age', 'gender', 'income', 'family_members']].to_numpy()\n",
    "y_s = df_scaled['insurance_benefits'].to_numpy()\n",
    "\n",
    "X_train, X_test, y_train, y_test = train_test_split(X_s, y_s, test_size=0.3, random_state=12345)\n",
    "\n",
    "lr = MyLinearRegression1()\n",
    "\n",
    "lr.fit(X_train, y_train)\n",
    "print(lr.weights)\n",
    "\n",
    "y_test_pred = lr.predict(X_test)\n",
    "eval_regressor(y_test, y_test_pred)"
   ]
  },
  {
   "cell_type": "markdown",
   "metadata": {},
   "source": [
    "# Conclusions"
   ]
  },
  {
   "cell_type": "markdown",
   "metadata": {},
   "source": [
    "1. Task 2 - Changing the scale of the data set had a very positive effect on the F1 index and raised it significantly. It also seems that the number of K has no significant effect on the F1 score, but the optimal result was at K=1."
   ]
  },
  {
   "cell_type": "markdown",
   "metadata": {},
   "source": [
    "2. Task 3 - Both sets of data give exactly the same result in both indices -\n",
    "\n",
    "conclusion: The scaling on the data set was not significant in the current model."
   ]
  },
  {
   "cell_type": "markdown",
   "metadata": {},
   "source": [
    "3. Task 4 - We prove analytically that the given obfuscation method won't affect linear regression in terms of predicted values i.e. their values will remain the same. "
   ]
  },
  {
   "cell_type": "markdown",
   "metadata": {},
   "source": [
    "4. task 5 - The new model we will develop which blurs the customer data gives exactly the same scores as the original model.\n",
    "\n",
    "Conclusion - The blurring of the data does not harm the model, both in the original data set and in the scaled one."
   ]
  }
 ],
 "metadata": {
  "ExecuteTimeLog": [
   {
    "duration": 1843,
    "start_time": "2022-07-20T14:44:26.478Z"
   },
   {
    "duration": 11068,
    "start_time": "2022-07-20T14:44:31.453Z"
   },
   {
    "duration": 4,
    "start_time": "2022-07-20T14:44:43.558Z"
   },
   {
    "duration": 98,
    "start_time": "2022-07-20T14:44:46.257Z"
   },
   {
    "duration": 5,
    "start_time": "2022-07-20T14:44:52.596Z"
   },
   {
    "duration": 20,
    "start_time": "2022-07-20T14:44:55.153Z"
   },
   {
    "duration": 126,
    "start_time": "2022-07-20T14:47:57.025Z"
   },
   {
    "duration": 10,
    "start_time": "2022-07-20T14:48:15.838Z"
   },
   {
    "duration": 4,
    "start_time": "2022-07-20T14:50:16.578Z"
   },
   {
    "duration": 2,
    "start_time": "2022-07-20T14:50:21.776Z"
   },
   {
    "duration": 2,
    "start_time": "2022-07-20T14:50:36.176Z"
   },
   {
    "duration": 12,
    "start_time": "2022-07-20T14:50:47.184Z"
   },
   {
    "duration": 2543,
    "start_time": "2022-07-20T14:51:01.365Z"
   },
   {
    "duration": 3,
    "start_time": "2022-07-20T14:51:03.910Z"
   },
   {
    "duration": 42,
    "start_time": "2022-07-20T14:51:03.915Z"
   },
   {
    "duration": 4,
    "start_time": "2022-07-20T14:51:03.958Z"
   },
   {
    "duration": 28,
    "start_time": "2022-07-20T14:51:03.964Z"
   },
   {
    "duration": 17,
    "start_time": "2022-07-20T14:51:03.994Z"
   },
   {
    "duration": 5,
    "start_time": "2022-07-20T14:51:04.013Z"
   },
   {
    "duration": 6,
    "start_time": "2022-07-20T14:59:42.979Z"
   },
   {
    "duration": 13,
    "start_time": "2022-07-20T15:13:35.817Z"
   },
   {
    "duration": 4,
    "start_time": "2022-07-20T15:13:43.958Z"
   },
   {
    "duration": 11,
    "start_time": "2022-07-20T15:13:49.219Z"
   },
   {
    "duration": 10,
    "start_time": "2022-07-20T15:13:53.696Z"
   },
   {
    "duration": 28,
    "start_time": "2022-07-20T15:14:19.379Z"
   },
   {
    "duration": 4,
    "start_time": "2022-07-20T15:26:04.847Z"
   },
   {
    "duration": 36,
    "start_time": "2022-07-20T15:26:25.223Z"
   },
   {
    "duration": 23,
    "start_time": "2022-07-20T15:30:05.255Z"
   },
   {
    "duration": 18,
    "start_time": "2022-07-20T15:30:17.101Z"
   },
   {
    "duration": 16,
    "start_time": "2022-07-20T15:30:29.558Z"
   },
   {
    "duration": 24,
    "start_time": "2022-07-20T15:39:44.562Z"
   },
   {
    "duration": 18,
    "start_time": "2022-07-20T15:40:09.613Z"
   },
   {
    "duration": 19,
    "start_time": "2022-07-20T15:40:27.277Z"
   },
   {
    "duration": 33,
    "start_time": "2022-07-20T15:51:49.665Z"
   },
   {
    "duration": 11,
    "start_time": "2022-07-20T15:52:01.394Z"
   },
   {
    "duration": 9,
    "start_time": "2022-07-20T15:52:11.971Z"
   },
   {
    "duration": 10,
    "start_time": "2022-07-20T15:52:21.394Z"
   },
   {
    "duration": 43,
    "start_time": "2022-07-20T15:55:28.790Z"
   },
   {
    "duration": 13,
    "start_time": "2022-07-20T15:55:44.943Z"
   },
   {
    "duration": 36,
    "start_time": "2022-07-20T15:58:57.360Z"
   },
   {
    "duration": 22,
    "start_time": "2022-07-20T15:59:08.820Z"
   },
   {
    "duration": 15,
    "start_time": "2022-07-20T16:01:44.452Z"
   },
   {
    "duration": 13,
    "start_time": "2022-07-20T16:01:54.096Z"
   },
   {
    "duration": 188,
    "start_time": "2022-07-20T16:05:53.552Z"
   },
   {
    "duration": 28,
    "start_time": "2022-07-20T16:06:28.455Z"
   },
   {
    "duration": 141,
    "start_time": "2022-07-20T16:06:30.395Z"
   },
   {
    "duration": 118,
    "start_time": "2022-07-20T16:07:26.415Z"
   },
   {
    "duration": 10,
    "start_time": "2022-07-20T16:10:24.366Z"
   },
   {
    "duration": 7,
    "start_time": "2022-07-20T16:10:51.171Z"
   },
   {
    "duration": 25,
    "start_time": "2022-07-20T16:11:44.653Z"
   },
   {
    "duration": 14,
    "start_time": "2022-07-20T16:12:06.655Z"
   },
   {
    "duration": 1390,
    "start_time": "2022-07-20T16:12:28.606Z"
   },
   {
    "duration": 9,
    "start_time": "2022-07-20T16:12:31.115Z"
   },
   {
    "duration": 1560,
    "start_time": "2022-07-20T16:13:09.825Z"
   },
   {
    "duration": 118,
    "start_time": "2022-07-20T16:13:11.775Z"
   },
   {
    "duration": 56,
    "start_time": "2022-07-20T16:13:17.558Z"
   },
   {
    "duration": 196,
    "start_time": "2022-07-20T16:13:22.675Z"
   },
   {
    "duration": 12,
    "start_time": "2022-07-20T16:13:34.655Z"
   },
   {
    "duration": 7,
    "start_time": "2022-07-20T16:13:37.153Z"
   },
   {
    "duration": 35,
    "start_time": "2022-07-20T16:15:24.362Z"
   },
   {
    "duration": 223,
    "start_time": "2022-07-20T16:15:26.755Z"
   },
   {
    "duration": 103,
    "start_time": "2022-07-20T16:15:31.162Z"
   },
   {
    "duration": 3,
    "start_time": "2022-07-20T16:15:37.867Z"
   },
   {
    "duration": 10,
    "start_time": "2022-07-20T16:15:40.552Z"
   },
   {
    "duration": 6,
    "start_time": "2022-07-20T16:15:43.114Z"
   },
   {
    "duration": 7,
    "start_time": "2022-07-20T16:16:08.858Z"
   },
   {
    "duration": 6,
    "start_time": "2022-07-20T16:16:16.320Z"
   },
   {
    "duration": 7,
    "start_time": "2022-07-20T16:16:18.814Z"
   },
   {
    "duration": 3,
    "start_time": "2022-07-20T16:18:13.872Z"
   },
   {
    "duration": 3737,
    "start_time": "2022-07-20T16:22:11.755Z"
   },
   {
    "duration": 10090,
    "start_time": "2022-07-21T07:40:16.850Z"
   },
   {
    "duration": 1591,
    "start_time": "2022-07-21T07:40:26.943Z"
   },
   {
    "duration": 86,
    "start_time": "2022-07-21T07:40:28.536Z"
   },
   {
    "duration": 4,
    "start_time": "2022-07-21T07:40:28.624Z"
   },
   {
    "duration": 21,
    "start_time": "2022-07-21T07:40:28.630Z"
   },
   {
    "duration": 12,
    "start_time": "2022-07-21T07:40:28.653Z"
   },
   {
    "duration": 4,
    "start_time": "2022-07-21T07:40:28.666Z"
   },
   {
    "duration": 18,
    "start_time": "2022-07-21T07:40:28.671Z"
   },
   {
    "duration": 3,
    "start_time": "2022-07-21T07:40:28.690Z"
   },
   {
    "duration": 23,
    "start_time": "2022-07-21T07:40:28.712Z"
   },
   {
    "duration": 3,
    "start_time": "2022-07-21T07:40:28.736Z"
   },
   {
    "duration": 172,
    "start_time": "2022-07-21T07:40:28.741Z"
   },
   {
    "duration": 138,
    "start_time": "2022-07-21T07:40:28.915Z"
   },
   {
    "duration": 3,
    "start_time": "2022-07-21T07:40:29.055Z"
   },
   {
    "duration": 14,
    "start_time": "2022-07-21T07:40:29.061Z"
   },
   {
    "duration": 8,
    "start_time": "2022-07-21T07:40:29.077Z"
   },
   {
    "duration": 30,
    "start_time": "2022-07-21T07:40:29.086Z"
   },
   {
    "duration": 13,
    "start_time": "2022-07-21T07:40:29.118Z"
   },
   {
    "duration": 6,
    "start_time": "2022-07-21T07:40:29.133Z"
   },
   {
    "duration": 3784,
    "start_time": "2022-07-21T07:40:29.140Z"
   },
   {
    "duration": 3,
    "start_time": "2022-07-21T07:40:32.926Z"
   },
   {
    "duration": 151,
    "start_time": "2022-07-21T07:40:32.930Z"
   },
   {
    "duration": 0,
    "start_time": "2022-07-21T07:40:33.083Z"
   },
   {
    "duration": 0,
    "start_time": "2022-07-21T07:40:33.085Z"
   },
   {
    "duration": 0,
    "start_time": "2022-07-21T07:40:33.086Z"
   },
   {
    "duration": 0,
    "start_time": "2022-07-21T07:40:33.088Z"
   },
   {
    "duration": 0,
    "start_time": "2022-07-21T07:40:33.090Z"
   },
   {
    "duration": 0,
    "start_time": "2022-07-21T07:40:33.092Z"
   },
   {
    "duration": 0,
    "start_time": "2022-07-21T07:40:33.093Z"
   },
   {
    "duration": 0,
    "start_time": "2022-07-21T07:40:33.095Z"
   },
   {
    "duration": 0,
    "start_time": "2022-07-21T07:40:33.096Z"
   },
   {
    "duration": 0,
    "start_time": "2022-07-21T07:40:33.098Z"
   },
   {
    "duration": 0,
    "start_time": "2022-07-21T07:40:33.099Z"
   },
   {
    "duration": 0,
    "start_time": "2022-07-21T07:40:33.101Z"
   },
   {
    "duration": 0,
    "start_time": "2022-07-21T07:40:33.103Z"
   },
   {
    "duration": 4,
    "start_time": "2022-07-21T07:50:09.540Z"
   },
   {
    "duration": 11,
    "start_time": "2022-07-21T07:50:18.066Z"
   },
   {
    "duration": 12,
    "start_time": "2022-07-21T07:50:25.372Z"
   },
   {
    "duration": 121,
    "start_time": "2022-07-21T07:57:33.161Z"
   },
   {
    "duration": 10,
    "start_time": "2022-07-21T07:58:39.663Z"
   },
   {
    "duration": 24,
    "start_time": "2022-07-21T07:58:43.783Z"
   },
   {
    "duration": 21,
    "start_time": "2022-07-21T08:04:22.565Z"
   },
   {
    "duration": 28,
    "start_time": "2022-07-21T08:04:41.479Z"
   },
   {
    "duration": 23,
    "start_time": "2022-07-21T08:04:49.222Z"
   },
   {
    "duration": 33,
    "start_time": "2022-07-21T08:05:35.572Z"
   },
   {
    "duration": 21,
    "start_time": "2022-07-21T08:05:44.126Z"
   },
   {
    "duration": 11,
    "start_time": "2022-07-21T08:05:54.427Z"
   },
   {
    "duration": 30,
    "start_time": "2022-07-21T08:06:12.496Z"
   },
   {
    "duration": 340,
    "start_time": "2022-07-21T10:07:48.595Z"
   },
   {
    "duration": 25,
    "start_time": "2022-07-21T10:10:51.930Z"
   },
   {
    "duration": 14,
    "start_time": "2022-07-21T10:13:25.439Z"
   },
   {
    "duration": 15,
    "start_time": "2022-07-21T10:13:39.539Z"
   },
   {
    "duration": 6,
    "start_time": "2022-07-21T10:13:44.338Z"
   },
   {
    "duration": 5,
    "start_time": "2022-07-21T10:16:46.028Z"
   },
   {
    "duration": 24,
    "start_time": "2022-07-21T10:16:55.851Z"
   },
   {
    "duration": 3,
    "start_time": "2022-07-21T10:17:41.364Z"
   },
   {
    "duration": 5,
    "start_time": "2022-07-21T10:17:43.345Z"
   },
   {
    "duration": 26,
    "start_time": "2022-07-21T10:17:46.868Z"
   },
   {
    "duration": 30,
    "start_time": "2022-07-21T10:18:20.604Z"
   },
   {
    "duration": 34,
    "start_time": "2022-07-21T10:19:17.324Z"
   },
   {
    "duration": 22,
    "start_time": "2022-07-21T10:19:53.027Z"
   },
   {
    "duration": 70,
    "start_time": "2022-07-21T10:21:13.572Z"
   },
   {
    "duration": 23,
    "start_time": "2022-07-21T10:21:17.485Z"
   },
   {
    "duration": 23,
    "start_time": "2022-07-21T10:21:47.564Z"
   },
   {
    "duration": 27,
    "start_time": "2022-07-21T10:22:21.167Z"
   },
   {
    "duration": 19,
    "start_time": "2022-07-21T10:22:37.304Z"
   },
   {
    "duration": 21,
    "start_time": "2022-07-21T10:22:42.694Z"
   },
   {
    "duration": 24,
    "start_time": "2022-07-21T10:23:39.935Z"
   },
   {
    "duration": 23,
    "start_time": "2022-07-21T10:23:56.166Z"
   },
   {
    "duration": 20,
    "start_time": "2022-07-21T10:24:07.632Z"
   },
   {
    "duration": 21,
    "start_time": "2022-07-21T10:24:16.766Z"
   },
   {
    "duration": 22,
    "start_time": "2022-07-21T10:33:10.018Z"
   },
   {
    "duration": 26,
    "start_time": "2022-07-21T10:33:22.078Z"
   },
   {
    "duration": 24,
    "start_time": "2022-07-21T10:33:34.968Z"
   },
   {
    "duration": 21,
    "start_time": "2022-07-21T10:33:39.153Z"
   },
   {
    "duration": 22,
    "start_time": "2022-07-21T10:33:42.915Z"
   },
   {
    "duration": 2993,
    "start_time": "2022-07-21T10:34:20.460Z"
   },
   {
    "duration": 4,
    "start_time": "2022-07-21T10:34:23.455Z"
   },
   {
    "duration": 37,
    "start_time": "2022-07-21T10:34:23.460Z"
   },
   {
    "duration": 4,
    "start_time": "2022-07-21T10:34:23.499Z"
   },
   {
    "duration": 13,
    "start_time": "2022-07-21T10:34:23.505Z"
   },
   {
    "duration": 14,
    "start_time": "2022-07-21T10:34:23.520Z"
   },
   {
    "duration": 3,
    "start_time": "2022-07-21T10:34:23.536Z"
   },
   {
    "duration": 15,
    "start_time": "2022-07-21T10:34:23.540Z"
   },
   {
    "duration": 10,
    "start_time": "2022-07-21T10:34:23.557Z"
   },
   {
    "duration": 52,
    "start_time": "2022-07-21T10:34:23.569Z"
   },
   {
    "duration": 4,
    "start_time": "2022-07-21T10:34:23.623Z"
   },
   {
    "duration": 185,
    "start_time": "2022-07-21T10:34:23.628Z"
   },
   {
    "duration": 137,
    "start_time": "2022-07-21T10:34:23.815Z"
   },
   {
    "duration": 3,
    "start_time": "2022-07-21T10:34:23.955Z"
   },
   {
    "duration": 18,
    "start_time": "2022-07-21T10:34:23.959Z"
   },
   {
    "duration": 7,
    "start_time": "2022-07-21T10:34:23.979Z"
   },
   {
    "duration": 25,
    "start_time": "2022-07-21T10:34:23.988Z"
   },
   {
    "duration": 10,
    "start_time": "2022-07-21T10:34:24.015Z"
   },
   {
    "duration": 11,
    "start_time": "2022-07-21T10:34:24.027Z"
   },
   {
    "duration": 4058,
    "start_time": "2022-07-21T10:34:24.040Z"
   },
   {
    "duration": 9,
    "start_time": "2022-07-21T10:34:28.101Z"
   },
   {
    "duration": 6,
    "start_time": "2022-07-21T10:34:28.112Z"
   },
   {
    "duration": 16,
    "start_time": "2022-07-21T10:34:28.120Z"
   },
   {
    "duration": 12,
    "start_time": "2022-07-21T10:34:28.139Z"
   },
   {
    "duration": 26,
    "start_time": "2022-07-21T10:34:28.153Z"
   },
   {
    "duration": 47,
    "start_time": "2022-07-21T10:34:28.181Z"
   },
   {
    "duration": 21,
    "start_time": "2022-07-21T10:34:28.229Z"
   },
   {
    "duration": 20,
    "start_time": "2022-07-21T10:34:28.252Z"
   },
   {
    "duration": 70,
    "start_time": "2022-07-21T10:34:28.275Z"
   },
   {
    "duration": 0,
    "start_time": "2022-07-21T10:34:28.347Z"
   },
   {
    "duration": 0,
    "start_time": "2022-07-21T10:34:28.349Z"
   },
   {
    "duration": 0,
    "start_time": "2022-07-21T10:34:28.351Z"
   },
   {
    "duration": 0,
    "start_time": "2022-07-21T10:34:28.352Z"
   },
   {
    "duration": 0,
    "start_time": "2022-07-21T10:34:28.354Z"
   },
   {
    "duration": 0,
    "start_time": "2022-07-21T10:34:28.355Z"
   },
   {
    "duration": 0,
    "start_time": "2022-07-21T10:34:28.357Z"
   },
   {
    "duration": 0,
    "start_time": "2022-07-21T10:34:28.359Z"
   },
   {
    "duration": 0,
    "start_time": "2022-07-21T10:34:28.360Z"
   },
   {
    "duration": 1,
    "start_time": "2022-07-21T10:34:28.362Z"
   },
   {
    "duration": 11,
    "start_time": "2022-07-21T11:17:27.437Z"
   },
   {
    "duration": 1318,
    "start_time": "2022-07-21T11:18:02.958Z"
   },
   {
    "duration": 5,
    "start_time": "2022-07-21T11:19:07.175Z"
   },
   {
    "duration": 9,
    "start_time": "2022-07-21T11:19:41.523Z"
   },
   {
    "duration": 10,
    "start_time": "2022-07-21T11:19:50.898Z"
   },
   {
    "duration": 5,
    "start_time": "2022-07-21T11:20:39.998Z"
   },
   {
    "duration": 9,
    "start_time": "2022-07-21T11:20:54.465Z"
   },
   {
    "duration": 24,
    "start_time": "2022-07-21T11:21:08.421Z"
   },
   {
    "duration": 7,
    "start_time": "2022-07-21T11:21:26.440Z"
   },
   {
    "duration": 8,
    "start_time": "2022-07-21T11:21:44.620Z"
   },
   {
    "duration": 5,
    "start_time": "2022-07-21T11:22:55.942Z"
   },
   {
    "duration": 5,
    "start_time": "2022-07-21T11:23:42.057Z"
   },
   {
    "duration": 25,
    "start_time": "2022-07-21T11:27:59.859Z"
   },
   {
    "duration": 11,
    "start_time": "2022-07-21T11:28:11.284Z"
   },
   {
    "duration": 22,
    "start_time": "2022-07-21T11:28:17.519Z"
   },
   {
    "duration": 6,
    "start_time": "2022-07-21T11:28:35.911Z"
   },
   {
    "duration": 6512,
    "start_time": "2022-07-23T08:20:08.989Z"
   },
   {
    "duration": 1401,
    "start_time": "2022-07-23T08:20:15.503Z"
   },
   {
    "duration": 86,
    "start_time": "2022-07-23T08:20:16.906Z"
   },
   {
    "duration": 4,
    "start_time": "2022-07-23T08:20:16.994Z"
   },
   {
    "duration": 26,
    "start_time": "2022-07-23T08:20:17.000Z"
   },
   {
    "duration": 12,
    "start_time": "2022-07-23T08:20:17.027Z"
   },
   {
    "duration": 8,
    "start_time": "2022-07-23T08:20:17.041Z"
   },
   {
    "duration": 14,
    "start_time": "2022-07-23T08:20:17.050Z"
   },
   {
    "duration": 13,
    "start_time": "2022-07-23T08:20:17.066Z"
   },
   {
    "duration": 26,
    "start_time": "2022-07-23T08:20:17.082Z"
   },
   {
    "duration": 3,
    "start_time": "2022-07-23T08:20:17.110Z"
   },
   {
    "duration": 154,
    "start_time": "2022-07-23T08:20:17.114Z"
   },
   {
    "duration": 119,
    "start_time": "2022-07-23T08:20:17.270Z"
   },
   {
    "duration": 2,
    "start_time": "2022-07-23T08:20:17.391Z"
   },
   {
    "duration": 13,
    "start_time": "2022-07-23T08:20:17.395Z"
   },
   {
    "duration": 6,
    "start_time": "2022-07-23T08:20:17.410Z"
   },
   {
    "duration": 7,
    "start_time": "2022-07-23T08:20:17.418Z"
   },
   {
    "duration": 39,
    "start_time": "2022-07-23T08:20:17.426Z"
   },
   {
    "duration": 8,
    "start_time": "2022-07-23T08:20:17.466Z"
   },
   {
    "duration": 3286,
    "start_time": "2022-07-23T08:20:17.476Z"
   },
   {
    "duration": 3,
    "start_time": "2022-07-23T08:20:20.763Z"
   },
   {
    "duration": 18,
    "start_time": "2022-07-23T08:20:20.768Z"
   },
   {
    "duration": 16,
    "start_time": "2022-07-23T08:20:20.788Z"
   },
   {
    "duration": 13,
    "start_time": "2022-07-23T08:20:20.805Z"
   },
   {
    "duration": 22,
    "start_time": "2022-07-23T08:20:20.819Z"
   },
   {
    "duration": 32,
    "start_time": "2022-07-23T08:20:20.842Z"
   },
   {
    "duration": 17,
    "start_time": "2022-07-23T08:20:20.876Z"
   },
   {
    "duration": 17,
    "start_time": "2022-07-23T08:20:20.897Z"
   },
   {
    "duration": 4,
    "start_time": "2022-07-23T08:20:20.916Z"
   },
   {
    "duration": 7,
    "start_time": "2022-07-23T08:20:20.921Z"
   },
   {
    "duration": 4,
    "start_time": "2022-07-23T08:20:20.930Z"
   },
   {
    "duration": 26,
    "start_time": "2022-07-23T08:20:20.935Z"
   },
   {
    "duration": 207,
    "start_time": "2022-07-23T08:20:20.963Z"
   },
   {
    "duration": 0,
    "start_time": "2022-07-23T08:20:21.171Z"
   },
   {
    "duration": 0,
    "start_time": "2022-07-23T08:20:21.173Z"
   },
   {
    "duration": 0,
    "start_time": "2022-07-23T08:20:21.175Z"
   },
   {
    "duration": 0,
    "start_time": "2022-07-23T08:20:21.176Z"
   },
   {
    "duration": 0,
    "start_time": "2022-07-23T08:20:21.177Z"
   },
   {
    "duration": 0,
    "start_time": "2022-07-23T08:20:21.178Z"
   },
   {
    "duration": 4,
    "start_time": "2022-07-23T08:21:38.639Z"
   },
   {
    "duration": 6,
    "start_time": "2022-07-23T08:21:40.512Z"
   },
   {
    "duration": 3,
    "start_time": "2022-07-23T08:21:52.343Z"
   },
   {
    "duration": 6,
    "start_time": "2022-07-23T08:21:54.873Z"
   },
   {
    "duration": 45,
    "start_time": "2022-07-23T08:26:17.612Z"
   },
   {
    "duration": 2549,
    "start_time": "2022-07-23T08:26:25.813Z"
   },
   {
    "duration": 1192,
    "start_time": "2022-07-23T08:26:28.367Z"
   },
   {
    "duration": 40,
    "start_time": "2022-07-23T08:26:29.561Z"
   },
   {
    "duration": 3,
    "start_time": "2022-07-23T08:26:29.603Z"
   },
   {
    "duration": 16,
    "start_time": "2022-07-23T08:26:29.608Z"
   },
   {
    "duration": 10,
    "start_time": "2022-07-23T08:26:29.625Z"
   },
   {
    "duration": 3,
    "start_time": "2022-07-23T08:26:29.636Z"
   },
   {
    "duration": 12,
    "start_time": "2022-07-23T08:26:29.640Z"
   },
   {
    "duration": 2,
    "start_time": "2022-07-23T08:26:29.653Z"
   },
   {
    "duration": 26,
    "start_time": "2022-07-23T08:26:29.657Z"
   },
   {
    "duration": 2,
    "start_time": "2022-07-23T08:26:29.685Z"
   },
   {
    "duration": 152,
    "start_time": "2022-07-23T08:26:29.689Z"
   },
   {
    "duration": 123,
    "start_time": "2022-07-23T08:26:29.843Z"
   },
   {
    "duration": 4,
    "start_time": "2022-07-23T08:26:29.968Z"
   },
   {
    "duration": 15,
    "start_time": "2022-07-23T08:26:29.975Z"
   },
   {
    "duration": 6,
    "start_time": "2022-07-23T08:26:29.992Z"
   },
   {
    "duration": 7,
    "start_time": "2022-07-23T08:26:29.999Z"
   },
   {
    "duration": 10,
    "start_time": "2022-07-23T08:26:30.007Z"
   },
   {
    "duration": 11,
    "start_time": "2022-07-23T08:26:30.019Z"
   },
   {
    "duration": 3332,
    "start_time": "2022-07-23T08:26:30.032Z"
   },
   {
    "duration": 3,
    "start_time": "2022-07-23T08:26:33.366Z"
   },
   {
    "duration": 12,
    "start_time": "2022-07-23T08:26:33.371Z"
   },
   {
    "duration": 13,
    "start_time": "2022-07-23T08:26:33.384Z"
   },
   {
    "duration": 9,
    "start_time": "2022-07-23T08:26:33.398Z"
   },
   {
    "duration": 18,
    "start_time": "2022-07-23T08:26:33.408Z"
   },
   {
    "duration": 42,
    "start_time": "2022-07-23T08:26:33.427Z"
   },
   {
    "duration": 18,
    "start_time": "2022-07-23T08:26:33.471Z"
   },
   {
    "duration": 17,
    "start_time": "2022-07-23T08:26:33.492Z"
   },
   {
    "duration": 97,
    "start_time": "2022-07-23T08:26:33.510Z"
   },
   {
    "duration": 54,
    "start_time": "2022-07-23T08:26:51.796Z"
   },
   {
    "duration": 9,
    "start_time": "2022-07-23T08:27:08.495Z"
   },
   {
    "duration": 28,
    "start_time": "2022-07-23T08:29:29.061Z"
   },
   {
    "duration": 7,
    "start_time": "2022-07-23T08:30:42.243Z"
   },
   {
    "duration": 5,
    "start_time": "2022-07-23T08:30:48.454Z"
   },
   {
    "duration": 5,
    "start_time": "2022-07-23T08:31:06.077Z"
   },
   {
    "duration": 15,
    "start_time": "2022-07-23T08:31:27.290Z"
   },
   {
    "duration": 8,
    "start_time": "2022-07-23T08:32:04.372Z"
   },
   {
    "duration": 5,
    "start_time": "2022-07-23T08:32:06.476Z"
   },
   {
    "duration": 20,
    "start_time": "2022-07-23T08:32:09.397Z"
   },
   {
    "duration": 7,
    "start_time": "2022-07-23T08:32:19.014Z"
   },
   {
    "duration": 6,
    "start_time": "2022-07-23T08:32:37.578Z"
   },
   {
    "duration": 5,
    "start_time": "2022-07-23T08:32:39.775Z"
   },
   {
    "duration": 6,
    "start_time": "2022-07-23T08:33:23.715Z"
   },
   {
    "duration": 5,
    "start_time": "2022-07-23T08:33:25.876Z"
   },
   {
    "duration": 4,
    "start_time": "2022-07-23T08:36:55.039Z"
   },
   {
    "duration": 5,
    "start_time": "2022-07-23T08:36:57.585Z"
   },
   {
    "duration": 2693,
    "start_time": "2022-07-23T08:38:10.847Z"
   },
   {
    "duration": 3,
    "start_time": "2022-07-23T08:38:13.542Z"
   },
   {
    "duration": 61,
    "start_time": "2022-07-23T08:38:13.547Z"
   },
   {
    "duration": 3,
    "start_time": "2022-07-23T08:38:13.610Z"
   },
   {
    "duration": 21,
    "start_time": "2022-07-23T08:38:13.617Z"
   },
   {
    "duration": 18,
    "start_time": "2022-07-23T08:38:13.640Z"
   },
   {
    "duration": 16,
    "start_time": "2022-07-23T08:38:13.660Z"
   },
   {
    "duration": 20,
    "start_time": "2022-07-23T08:38:13.677Z"
   },
   {
    "duration": 10,
    "start_time": "2022-07-23T08:38:13.699Z"
   },
   {
    "duration": 39,
    "start_time": "2022-07-23T08:38:13.711Z"
   },
   {
    "duration": 3,
    "start_time": "2022-07-23T08:38:13.751Z"
   },
   {
    "duration": 156,
    "start_time": "2022-07-23T08:38:13.756Z"
   },
   {
    "duration": 120,
    "start_time": "2022-07-23T08:38:13.914Z"
   },
   {
    "duration": 3,
    "start_time": "2022-07-23T08:38:14.037Z"
   },
   {
    "duration": 28,
    "start_time": "2022-07-23T08:38:14.041Z"
   },
   {
    "duration": 19,
    "start_time": "2022-07-23T08:38:14.071Z"
   },
   {
    "duration": 16,
    "start_time": "2022-07-23T08:38:14.092Z"
   },
   {
    "duration": 7,
    "start_time": "2022-07-23T08:38:14.109Z"
   },
   {
    "duration": 9,
    "start_time": "2022-07-23T08:38:14.117Z"
   },
   {
    "duration": 3575,
    "start_time": "2022-07-23T08:38:14.127Z"
   },
   {
    "duration": 2,
    "start_time": "2022-07-23T08:38:17.705Z"
   },
   {
    "duration": 25,
    "start_time": "2022-07-23T08:38:17.709Z"
   },
   {
    "duration": 37,
    "start_time": "2022-07-23T08:38:17.736Z"
   },
   {
    "duration": 17,
    "start_time": "2022-07-23T08:38:17.775Z"
   },
   {
    "duration": 27,
    "start_time": "2022-07-23T08:38:17.794Z"
   },
   {
    "duration": 19,
    "start_time": "2022-07-23T08:38:17.823Z"
   },
   {
    "duration": 26,
    "start_time": "2022-07-23T08:38:17.844Z"
   },
   {
    "duration": 24,
    "start_time": "2022-07-23T08:38:17.872Z"
   },
   {
    "duration": 45,
    "start_time": "2022-07-23T08:38:17.898Z"
   },
   {
    "duration": 46,
    "start_time": "2022-07-23T08:38:17.944Z"
   },
   {
    "duration": 53,
    "start_time": "2022-07-23T08:38:17.991Z"
   },
   {
    "duration": 43,
    "start_time": "2022-07-23T08:38:18.046Z"
   },
   {
    "duration": 51,
    "start_time": "2022-07-23T08:38:18.091Z"
   },
   {
    "duration": 0,
    "start_time": "2022-07-23T08:38:18.144Z"
   },
   {
    "duration": 0,
    "start_time": "2022-07-23T08:38:18.145Z"
   },
   {
    "duration": 0,
    "start_time": "2022-07-23T08:38:18.147Z"
   },
   {
    "duration": 0,
    "start_time": "2022-07-23T08:38:18.148Z"
   },
   {
    "duration": 0,
    "start_time": "2022-07-23T08:38:18.149Z"
   },
   {
    "duration": 0,
    "start_time": "2022-07-23T08:38:18.151Z"
   },
   {
    "duration": 15,
    "start_time": "2022-07-23T08:38:56.683Z"
   },
   {
    "duration": 15,
    "start_time": "2022-07-23T08:39:06.294Z"
   },
   {
    "duration": 15,
    "start_time": "2022-07-23T08:39:10.352Z"
   },
   {
    "duration": 16,
    "start_time": "2022-07-23T08:39:17.606Z"
   },
   {
    "duration": 5,
    "start_time": "2022-07-23T08:39:45.900Z"
   },
   {
    "duration": 5,
    "start_time": "2022-07-23T08:39:57.482Z"
   },
   {
    "duration": 24,
    "start_time": "2022-07-23T08:41:11.405Z"
   },
   {
    "duration": 2546,
    "start_time": "2022-07-23T08:43:29.642Z"
   },
   {
    "duration": 4,
    "start_time": "2022-07-23T08:43:32.190Z"
   },
   {
    "duration": 36,
    "start_time": "2022-07-23T08:43:32.195Z"
   },
   {
    "duration": 4,
    "start_time": "2022-07-23T08:43:32.233Z"
   },
   {
    "duration": 15,
    "start_time": "2022-07-23T08:43:32.239Z"
   },
   {
    "duration": 18,
    "start_time": "2022-07-23T08:43:32.255Z"
   },
   {
    "duration": 4,
    "start_time": "2022-07-23T08:43:32.274Z"
   },
   {
    "duration": 16,
    "start_time": "2022-07-23T08:43:32.279Z"
   },
   {
    "duration": 3,
    "start_time": "2022-07-23T08:43:32.296Z"
   },
   {
    "duration": 24,
    "start_time": "2022-07-23T08:43:32.301Z"
   },
   {
    "duration": 3,
    "start_time": "2022-07-23T08:43:32.327Z"
   },
   {
    "duration": 148,
    "start_time": "2022-07-23T08:43:32.331Z"
   },
   {
    "duration": 263,
    "start_time": "2022-07-23T08:43:32.481Z"
   },
   {
    "duration": 2,
    "start_time": "2022-07-23T08:43:32.747Z"
   },
   {
    "duration": 19,
    "start_time": "2022-07-23T08:43:32.751Z"
   },
   {
    "duration": 7,
    "start_time": "2022-07-23T08:43:32.771Z"
   },
   {
    "duration": 14,
    "start_time": "2022-07-23T08:43:32.780Z"
   },
   {
    "duration": 7,
    "start_time": "2022-07-23T08:43:32.795Z"
   },
   {
    "duration": 6,
    "start_time": "2022-07-23T08:43:32.804Z"
   },
   {
    "duration": 3692,
    "start_time": "2022-07-23T08:43:32.811Z"
   },
   {
    "duration": 3,
    "start_time": "2022-07-23T08:43:36.504Z"
   },
   {
    "duration": 9,
    "start_time": "2022-07-23T08:43:36.509Z"
   },
   {
    "duration": 13,
    "start_time": "2022-07-23T08:43:36.520Z"
   },
   {
    "duration": 10,
    "start_time": "2022-07-23T08:43:36.535Z"
   },
   {
    "duration": 32,
    "start_time": "2022-07-23T08:43:36.547Z"
   },
   {
    "duration": 19,
    "start_time": "2022-07-23T08:43:36.581Z"
   },
   {
    "duration": 19,
    "start_time": "2022-07-23T08:43:36.602Z"
   },
   {
    "duration": 48,
    "start_time": "2022-07-23T08:43:36.622Z"
   },
   {
    "duration": 4,
    "start_time": "2022-07-23T08:43:36.672Z"
   },
   {
    "duration": 28,
    "start_time": "2022-07-23T08:43:36.677Z"
   },
   {
    "duration": 3,
    "start_time": "2022-07-23T08:43:36.707Z"
   },
   {
    "duration": 14,
    "start_time": "2022-07-23T08:43:36.712Z"
   },
   {
    "duration": 51,
    "start_time": "2022-07-23T08:43:36.727Z"
   },
   {
    "duration": 0,
    "start_time": "2022-07-23T08:43:36.779Z"
   },
   {
    "duration": 0,
    "start_time": "2022-07-23T08:43:36.781Z"
   },
   {
    "duration": 0,
    "start_time": "2022-07-23T08:43:36.782Z"
   },
   {
    "duration": 0,
    "start_time": "2022-07-23T08:43:36.784Z"
   },
   {
    "duration": 0,
    "start_time": "2022-07-23T08:43:36.786Z"
   },
   {
    "duration": 0,
    "start_time": "2022-07-23T08:43:36.787Z"
   },
   {
    "duration": 6,
    "start_time": "2022-07-23T08:44:12.290Z"
   },
   {
    "duration": 6,
    "start_time": "2022-07-23T08:44:46.840Z"
   },
   {
    "duration": 6,
    "start_time": "2022-07-23T08:44:50.849Z"
   },
   {
    "duration": 4,
    "start_time": "2022-07-23T08:45:16.698Z"
   },
   {
    "duration": 4,
    "start_time": "2022-07-23T08:45:37.209Z"
   },
   {
    "duration": 65,
    "start_time": "2022-07-23T08:45:44.999Z"
   },
   {
    "duration": 13,
    "start_time": "2022-07-23T08:53:33.747Z"
   },
   {
    "duration": 12,
    "start_time": "2022-07-23T08:55:02.747Z"
   },
   {
    "duration": 7,
    "start_time": "2022-07-23T08:59:02.705Z"
   },
   {
    "duration": 6,
    "start_time": "2022-07-23T09:15:15.911Z"
   },
   {
    "duration": 9,
    "start_time": "2022-07-23T09:16:57.011Z"
   },
   {
    "duration": 22,
    "start_time": "2022-07-23T09:17:00.550Z"
   },
   {
    "duration": 4,
    "start_time": "2022-07-23T09:17:42.633Z"
   },
   {
    "duration": 6,
    "start_time": "2022-07-23T09:17:56.251Z"
   },
   {
    "duration": 6,
    "start_time": "2022-07-23T09:18:03.974Z"
   },
   {
    "duration": 33,
    "start_time": "2022-07-23T09:19:42.590Z"
   },
   {
    "duration": 5,
    "start_time": "2022-07-23T09:23:30.715Z"
   },
   {
    "duration": 24,
    "start_time": "2022-07-23T09:23:38.589Z"
   },
   {
    "duration": 13,
    "start_time": "2022-07-23T09:25:25.990Z"
   },
   {
    "duration": 7,
    "start_time": "2022-07-23T09:25:40.976Z"
   },
   {
    "duration": 8,
    "start_time": "2022-07-23T09:27:00.949Z"
   },
   {
    "duration": 12,
    "start_time": "2022-07-23T09:27:49.656Z"
   },
   {
    "duration": 20,
    "start_time": "2022-07-23T09:28:03.487Z"
   },
   {
    "duration": 18,
    "start_time": "2022-07-23T09:29:42.209Z"
   },
   {
    "duration": 86,
    "start_time": "2022-07-23T09:29:55.104Z"
   },
   {
    "duration": 9,
    "start_time": "2022-07-23T09:31:04.978Z"
   },
   {
    "duration": 53,
    "start_time": "2022-07-23T09:32:09.171Z"
   },
   {
    "duration": 18,
    "start_time": "2022-07-23T09:35:59.080Z"
   },
   {
    "duration": 18,
    "start_time": "2022-07-23T09:36:32.513Z"
   },
   {
    "duration": 47,
    "start_time": "2022-07-23T10:10:57.998Z"
   },
   {
    "duration": 127,
    "start_time": "2022-07-23T10:11:26.419Z"
   },
   {
    "duration": 24,
    "start_time": "2022-07-23T10:11:35.965Z"
   },
   {
    "duration": 7,
    "start_time": "2022-07-23T10:13:10.138Z"
   },
   {
    "duration": 16,
    "start_time": "2022-07-23T10:13:39.170Z"
   },
   {
    "duration": 8,
    "start_time": "2022-07-23T10:14:42.409Z"
   },
   {
    "duration": 17,
    "start_time": "2022-07-23T10:23:06.548Z"
   },
   {
    "duration": 13,
    "start_time": "2022-07-23T10:54:21.697Z"
   },
   {
    "duration": 5,
    "start_time": "2022-07-23T10:54:32.540Z"
   },
   {
    "duration": 5,
    "start_time": "2022-07-23T10:54:36.356Z"
   },
   {
    "duration": 20,
    "start_time": "2022-07-23T10:54:40.176Z"
   },
   {
    "duration": 3,
    "start_time": "2022-07-23T10:57:12.201Z"
   },
   {
    "duration": 3,
    "start_time": "2022-07-23T10:57:23.496Z"
   },
   {
    "duration": 24,
    "start_time": "2022-07-23T10:57:27.249Z"
   },
   {
    "duration": 4,
    "start_time": "2022-07-23T10:58:06.518Z"
   },
   {
    "duration": 9,
    "start_time": "2022-07-23T10:58:14.206Z"
   },
   {
    "duration": 8,
    "start_time": "2022-07-23T10:59:39.492Z"
   },
   {
    "duration": 10,
    "start_time": "2022-07-23T11:00:07.115Z"
   },
   {
    "duration": 2593,
    "start_time": "2022-07-23T11:00:15.654Z"
   },
   {
    "duration": 5,
    "start_time": "2022-07-23T11:00:18.250Z"
   },
   {
    "duration": 32,
    "start_time": "2022-07-23T11:00:18.256Z"
   },
   {
    "duration": 4,
    "start_time": "2022-07-23T11:00:18.290Z"
   },
   {
    "duration": 17,
    "start_time": "2022-07-23T11:00:18.296Z"
   },
   {
    "duration": 15,
    "start_time": "2022-07-23T11:00:18.315Z"
   },
   {
    "duration": 13,
    "start_time": "2022-07-23T11:00:18.332Z"
   },
   {
    "duration": 12,
    "start_time": "2022-07-23T11:00:18.346Z"
   },
   {
    "duration": 2,
    "start_time": "2022-07-23T11:00:18.360Z"
   },
   {
    "duration": 29,
    "start_time": "2022-07-23T11:00:18.363Z"
   },
   {
    "duration": 3,
    "start_time": "2022-07-23T11:00:18.393Z"
   },
   {
    "duration": 153,
    "start_time": "2022-07-23T11:00:18.398Z"
   },
   {
    "duration": 126,
    "start_time": "2022-07-23T11:00:18.560Z"
   },
   {
    "duration": 2,
    "start_time": "2022-07-23T11:00:18.690Z"
   },
   {
    "duration": 25,
    "start_time": "2022-07-23T11:00:18.694Z"
   },
   {
    "duration": 15,
    "start_time": "2022-07-23T11:00:18.721Z"
   },
   {
    "duration": 17,
    "start_time": "2022-07-23T11:00:18.738Z"
   },
   {
    "duration": 9,
    "start_time": "2022-07-23T11:00:18.757Z"
   },
   {
    "duration": 9,
    "start_time": "2022-07-23T11:00:18.768Z"
   },
   {
    "duration": 3522,
    "start_time": "2022-07-23T11:00:18.779Z"
   },
   {
    "duration": 3,
    "start_time": "2022-07-23T11:00:22.302Z"
   },
   {
    "duration": 9,
    "start_time": "2022-07-23T11:00:22.306Z"
   },
   {
    "duration": 16,
    "start_time": "2022-07-23T11:00:22.316Z"
   },
   {
    "duration": 8,
    "start_time": "2022-07-23T11:00:22.334Z"
   },
   {
    "duration": 30,
    "start_time": "2022-07-23T11:00:22.344Z"
   },
   {
    "duration": 16,
    "start_time": "2022-07-23T11:00:22.375Z"
   },
   {
    "duration": 15,
    "start_time": "2022-07-23T11:00:22.393Z"
   },
   {
    "duration": 18,
    "start_time": "2022-07-23T11:00:22.410Z"
   },
   {
    "duration": 4,
    "start_time": "2022-07-23T11:00:22.429Z"
   },
   {
    "duration": 4,
    "start_time": "2022-07-23T11:00:22.461Z"
   },
   {
    "duration": 5,
    "start_time": "2022-07-23T11:00:22.467Z"
   },
   {
    "duration": 8,
    "start_time": "2022-07-23T11:00:22.474Z"
   },
   {
    "duration": 8,
    "start_time": "2022-07-23T11:00:22.484Z"
   },
   {
    "duration": 89,
    "start_time": "2022-07-23T11:00:22.493Z"
   },
   {
    "duration": 8,
    "start_time": "2022-07-23T11:00:22.584Z"
   },
   {
    "duration": 67,
    "start_time": "2022-07-23T11:00:22.594Z"
   },
   {
    "duration": 3,
    "start_time": "2022-07-23T11:00:22.662Z"
   },
   {
    "duration": 9,
    "start_time": "2022-07-23T11:00:22.667Z"
   },
   {
    "duration": 17,
    "start_time": "2022-07-23T11:00:22.678Z"
   },
   {
    "duration": 0,
    "start_time": "2022-07-23T11:00:22.697Z"
   },
   {
    "duration": 0,
    "start_time": "2022-07-23T11:00:22.698Z"
   },
   {
    "duration": 0,
    "start_time": "2022-07-23T11:00:22.700Z"
   },
   {
    "duration": 0,
    "start_time": "2022-07-23T11:00:22.701Z"
   },
   {
    "duration": 0,
    "start_time": "2022-07-23T11:00:22.703Z"
   },
   {
    "duration": 0,
    "start_time": "2022-07-23T11:00:22.704Z"
   },
   {
    "duration": 0,
    "start_time": "2022-07-23T11:00:22.705Z"
   },
   {
    "duration": 0,
    "start_time": "2022-07-23T11:00:22.706Z"
   },
   {
    "duration": 0,
    "start_time": "2022-07-23T11:00:22.707Z"
   },
   {
    "duration": 5,
    "start_time": "2022-07-23T11:00:30.656Z"
   },
   {
    "duration": 4,
    "start_time": "2022-07-23T11:00:36.251Z"
   },
   {
    "duration": 4,
    "start_time": "2022-07-23T11:00:48.784Z"
   },
   {
    "duration": 3,
    "start_time": "2022-07-23T11:00:50.760Z"
   },
   {
    "duration": 10,
    "start_time": "2022-07-23T11:00:54.599Z"
   },
   {
    "duration": 13,
    "start_time": "2022-07-23T11:01:05.848Z"
   },
   {
    "duration": 21,
    "start_time": "2022-07-23T11:19:41.954Z"
   },
   {
    "duration": 54,
    "start_time": "2022-07-23T11:20:08.569Z"
   },
   {
    "duration": 37,
    "start_time": "2022-07-23T11:20:19.417Z"
   },
   {
    "duration": 26,
    "start_time": "2022-07-23T11:20:43.288Z"
   },
   {
    "duration": 67,
    "start_time": "2022-07-23T11:20:49.519Z"
   },
   {
    "duration": 10,
    "start_time": "2022-07-23T11:21:13.350Z"
   },
   {
    "duration": 11,
    "start_time": "2022-07-23T11:22:19.477Z"
   },
   {
    "duration": 17,
    "start_time": "2022-07-23T11:22:34.195Z"
   },
   {
    "duration": 18,
    "start_time": "2022-07-23T11:22:50.964Z"
   },
   {
    "duration": 21,
    "start_time": "2022-07-23T11:23:12.593Z"
   },
   {
    "duration": 61,
    "start_time": "2022-07-23T11:28:58.975Z"
   },
   {
    "duration": 35,
    "start_time": "2022-07-23T11:29:16.069Z"
   },
   {
    "duration": 265,
    "start_time": "2022-07-23T11:31:06.707Z"
   },
   {
    "duration": 80,
    "start_time": "2022-07-23T11:32:39.048Z"
   },
   {
    "duration": 326,
    "start_time": "2022-07-23T11:32:50.546Z"
   },
   {
    "duration": 59,
    "start_time": "2022-07-23T11:32:58.768Z"
   },
   {
    "duration": 59,
    "start_time": "2022-07-23T11:33:09.586Z"
   },
   {
    "duration": 57,
    "start_time": "2022-07-23T11:33:15.153Z"
   },
   {
    "duration": 253,
    "start_time": "2022-07-23T11:33:24.153Z"
   },
   {
    "duration": 54,
    "start_time": "2022-07-23T11:33:27.267Z"
   },
   {
    "duration": 60,
    "start_time": "2022-07-23T11:34:03.387Z"
   },
   {
    "duration": 49,
    "start_time": "2022-07-23T11:36:47.980Z"
   },
   {
    "duration": 280,
    "start_time": "2022-07-23T11:38:40.345Z"
   },
   {
    "duration": 328,
    "start_time": "2022-07-23T11:39:49.985Z"
   },
   {
    "duration": 4,
    "start_time": "2022-07-23T11:40:06.650Z"
   },
   {
    "duration": 22,
    "start_time": "2022-07-23T11:40:08.653Z"
   },
   {
    "duration": 19,
    "start_time": "2022-07-23T11:50:34.858Z"
   },
   {
    "duration": 20,
    "start_time": "2022-07-23T11:51:00.190Z"
   },
   {
    "duration": 2519,
    "start_time": "2022-07-23T11:53:58.137Z"
   },
   {
    "duration": 4,
    "start_time": "2022-07-23T11:54:00.658Z"
   },
   {
    "duration": 58,
    "start_time": "2022-07-23T11:54:00.664Z"
   },
   {
    "duration": 4,
    "start_time": "2022-07-23T11:54:00.725Z"
   },
   {
    "duration": 29,
    "start_time": "2022-07-23T11:54:00.731Z"
   },
   {
    "duration": 28,
    "start_time": "2022-07-23T11:54:00.762Z"
   },
   {
    "duration": 28,
    "start_time": "2022-07-23T11:54:00.792Z"
   },
   {
    "duration": 21,
    "start_time": "2022-07-23T11:54:00.821Z"
   },
   {
    "duration": 13,
    "start_time": "2022-07-23T11:54:00.844Z"
   },
   {
    "duration": 26,
    "start_time": "2022-07-23T11:54:00.860Z"
   },
   {
    "duration": 3,
    "start_time": "2022-07-23T11:54:00.888Z"
   },
   {
    "duration": 159,
    "start_time": "2022-07-23T11:54:00.893Z"
   },
   {
    "duration": 124,
    "start_time": "2022-07-23T11:54:01.054Z"
   },
   {
    "duration": 3,
    "start_time": "2022-07-23T11:54:01.179Z"
   },
   {
    "duration": 30,
    "start_time": "2022-07-23T11:54:01.183Z"
   },
   {
    "duration": 29,
    "start_time": "2022-07-23T11:54:01.215Z"
   },
   {
    "duration": 17,
    "start_time": "2022-07-23T11:54:01.246Z"
   },
   {
    "duration": 24,
    "start_time": "2022-07-23T11:54:01.265Z"
   },
   {
    "duration": 32,
    "start_time": "2022-07-23T11:54:01.291Z"
   },
   {
    "duration": 3614,
    "start_time": "2022-07-23T11:54:01.325Z"
   },
   {
    "duration": 3,
    "start_time": "2022-07-23T11:54:04.940Z"
   },
   {
    "duration": 9,
    "start_time": "2022-07-23T11:54:04.944Z"
   },
   {
    "duration": 10,
    "start_time": "2022-07-23T11:54:04.961Z"
   },
   {
    "duration": 13,
    "start_time": "2022-07-23T11:54:04.972Z"
   },
   {
    "duration": 23,
    "start_time": "2022-07-23T11:54:04.987Z"
   },
   {
    "duration": 19,
    "start_time": "2022-07-23T11:54:05.011Z"
   },
   {
    "duration": 50,
    "start_time": "2022-07-23T11:54:05.032Z"
   },
   {
    "duration": 19,
    "start_time": "2022-07-23T11:54:05.087Z"
   },
   {
    "duration": 4,
    "start_time": "2022-07-23T11:54:05.107Z"
   },
   {
    "duration": 10,
    "start_time": "2022-07-23T11:54:05.112Z"
   },
   {
    "duration": 10,
    "start_time": "2022-07-23T11:54:05.123Z"
   },
   {
    "duration": 27,
    "start_time": "2022-07-23T11:54:05.134Z"
   },
   {
    "duration": 8,
    "start_time": "2022-07-23T11:54:05.163Z"
   },
   {
    "duration": 354,
    "start_time": "2022-07-23T11:54:05.172Z"
   },
   {
    "duration": 347,
    "start_time": "2022-07-23T11:54:05.527Z"
   },
   {
    "duration": 4,
    "start_time": "2022-07-23T11:54:05.876Z"
   },
   {
    "duration": 31,
    "start_time": "2022-07-23T11:54:05.882Z"
   },
   {
    "duration": 6,
    "start_time": "2022-07-23T11:54:05.915Z"
   },
   {
    "duration": 14,
    "start_time": "2022-07-23T11:54:05.923Z"
   },
   {
    "duration": 27,
    "start_time": "2022-07-23T11:54:05.939Z"
   },
   {
    "duration": 92,
    "start_time": "2022-07-23T11:54:05.968Z"
   },
   {
    "duration": 96,
    "start_time": "2022-07-23T11:54:06.065Z"
   },
   {
    "duration": 6,
    "start_time": "2022-07-23T11:54:06.163Z"
   },
   {
    "duration": 5,
    "start_time": "2022-07-23T11:54:06.170Z"
   },
   {
    "duration": 9,
    "start_time": "2022-07-23T12:03:30.856Z"
   },
   {
    "duration": 5,
    "start_time": "2022-07-23T12:03:36.238Z"
   },
   {
    "duration": 4,
    "start_time": "2022-07-23T12:03:37.974Z"
   },
   {
    "duration": 9,
    "start_time": "2022-07-23T12:03:41.842Z"
   },
   {
    "duration": 6,
    "start_time": "2022-07-23T12:03:48.792Z"
   },
   {
    "duration": 4,
    "start_time": "2022-07-23T12:11:32.840Z"
   },
   {
    "duration": 4,
    "start_time": "2022-07-23T12:13:38.181Z"
   },
   {
    "duration": 9,
    "start_time": "2022-07-23T12:24:53.151Z"
   },
   {
    "duration": 9,
    "start_time": "2022-07-23T12:25:12.251Z"
   },
   {
    "duration": 5,
    "start_time": "2022-07-23T12:25:16.257Z"
   },
   {
    "duration": 4,
    "start_time": "2022-07-23T12:25:19.146Z"
   },
   {
    "duration": 5,
    "start_time": "2022-07-23T12:25:25.763Z"
   },
   {
    "duration": 5,
    "start_time": "2022-07-23T12:26:52.275Z"
   },
   {
    "duration": 10,
    "start_time": "2022-07-23T12:32:11.443Z"
   },
   {
    "duration": 5,
    "start_time": "2022-07-23T12:32:15.290Z"
   },
   {
    "duration": 10,
    "start_time": "2022-07-23T12:32:45.256Z"
   },
   {
    "duration": 5,
    "start_time": "2022-07-23T12:33:00.259Z"
   },
   {
    "duration": 6,
    "start_time": "2022-07-23T12:33:07.574Z"
   },
   {
    "duration": 7,
    "start_time": "2022-07-23T12:34:05.410Z"
   },
   {
    "duration": 4,
    "start_time": "2022-07-23T12:34:22.064Z"
   },
   {
    "duration": 5,
    "start_time": "2022-07-23T12:34:30.002Z"
   },
   {
    "duration": 4,
    "start_time": "2022-07-23T12:34:31.851Z"
   },
   {
    "duration": 5,
    "start_time": "2022-07-23T12:34:40.085Z"
   },
   {
    "duration": 3,
    "start_time": "2022-07-23T12:46:30.440Z"
   },
   {
    "duration": 7,
    "start_time": "2022-07-23T12:46:32.487Z"
   },
   {
    "duration": 53,
    "start_time": "2022-07-24T06:52:12.305Z"
   },
   {
    "duration": 18166,
    "start_time": "2022-07-24T07:04:15.048Z"
   },
   {
    "duration": 1570,
    "start_time": "2022-07-24T07:04:33.218Z"
   },
   {
    "duration": 90,
    "start_time": "2022-07-24T07:04:34.790Z"
   },
   {
    "duration": 4,
    "start_time": "2022-07-24T07:04:34.882Z"
   },
   {
    "duration": 54,
    "start_time": "2022-07-24T07:04:34.889Z"
   },
   {
    "duration": 47,
    "start_time": "2022-07-24T07:04:34.945Z"
   },
   {
    "duration": 16,
    "start_time": "2022-07-24T07:04:34.995Z"
   },
   {
    "duration": 41,
    "start_time": "2022-07-24T07:04:35.013Z"
   },
   {
    "duration": 82,
    "start_time": "2022-07-24T07:04:35.056Z"
   },
   {
    "duration": 0,
    "start_time": "2022-07-24T07:04:42.214Z"
   },
   {
    "duration": 0,
    "start_time": "2022-07-24T07:04:42.216Z"
   },
   {
    "duration": 0,
    "start_time": "2022-07-24T07:04:42.217Z"
   },
   {
    "duration": 0,
    "start_time": "2022-07-24T07:04:42.219Z"
   },
   {
    "duration": 0,
    "start_time": "2022-07-24T07:04:42.220Z"
   },
   {
    "duration": 0,
    "start_time": "2022-07-24T07:04:42.221Z"
   },
   {
    "duration": 0,
    "start_time": "2022-07-24T07:04:42.223Z"
   },
   {
    "duration": 0,
    "start_time": "2022-07-24T07:04:42.225Z"
   },
   {
    "duration": 0,
    "start_time": "2022-07-24T07:04:42.226Z"
   },
   {
    "duration": 0,
    "start_time": "2022-07-24T07:04:42.227Z"
   },
   {
    "duration": 0,
    "start_time": "2022-07-24T07:04:42.228Z"
   },
   {
    "duration": 0,
    "start_time": "2022-07-24T07:04:42.229Z"
   },
   {
    "duration": 0,
    "start_time": "2022-07-24T07:04:42.230Z"
   },
   {
    "duration": 0,
    "start_time": "2022-07-24T07:04:42.231Z"
   },
   {
    "duration": 1,
    "start_time": "2022-07-24T07:04:42.232Z"
   },
   {
    "duration": 0,
    "start_time": "2022-07-24T07:04:42.234Z"
   },
   {
    "duration": 0,
    "start_time": "2022-07-24T07:04:42.235Z"
   },
   {
    "duration": 0,
    "start_time": "2022-07-24T07:04:42.236Z"
   },
   {
    "duration": 0,
    "start_time": "2022-07-24T07:04:42.238Z"
   },
   {
    "duration": 0,
    "start_time": "2022-07-24T07:04:42.239Z"
   },
   {
    "duration": 0,
    "start_time": "2022-07-24T07:04:42.240Z"
   },
   {
    "duration": 0,
    "start_time": "2022-07-24T07:04:42.242Z"
   },
   {
    "duration": 0,
    "start_time": "2022-07-24T07:04:42.243Z"
   },
   {
    "duration": 0,
    "start_time": "2022-07-24T07:04:42.244Z"
   },
   {
    "duration": 0,
    "start_time": "2022-07-24T07:04:42.245Z"
   },
   {
    "duration": 0,
    "start_time": "2022-07-24T07:04:42.246Z"
   },
   {
    "duration": 0,
    "start_time": "2022-07-24T07:04:42.247Z"
   },
   {
    "duration": 0,
    "start_time": "2022-07-24T07:04:42.248Z"
   },
   {
    "duration": 0,
    "start_time": "2022-07-24T07:04:42.249Z"
   },
   {
    "duration": 0,
    "start_time": "2022-07-24T07:04:42.310Z"
   },
   {
    "duration": 0,
    "start_time": "2022-07-24T07:04:42.312Z"
   },
   {
    "duration": 0,
    "start_time": "2022-07-24T07:04:42.313Z"
   },
   {
    "duration": 0,
    "start_time": "2022-07-24T07:04:42.314Z"
   },
   {
    "duration": 0,
    "start_time": "2022-07-24T07:04:42.316Z"
   },
   {
    "duration": 0,
    "start_time": "2022-07-24T07:04:42.317Z"
   },
   {
    "duration": 0,
    "start_time": "2022-07-24T07:04:42.318Z"
   },
   {
    "duration": 0,
    "start_time": "2022-07-24T07:04:42.319Z"
   },
   {
    "duration": 0,
    "start_time": "2022-07-24T07:04:42.321Z"
   },
   {
    "duration": 0,
    "start_time": "2022-07-24T07:04:42.321Z"
   },
   {
    "duration": 0,
    "start_time": "2022-07-24T07:04:42.322Z"
   },
   {
    "duration": 0,
    "start_time": "2022-07-24T07:04:42.323Z"
   },
   {
    "duration": 0,
    "start_time": "2022-07-24T07:04:42.324Z"
   },
   {
    "duration": 0,
    "start_time": "2022-07-24T07:04:42.325Z"
   },
   {
    "duration": 0,
    "start_time": "2022-07-24T07:04:42.326Z"
   },
   {
    "duration": 0,
    "start_time": "2022-07-24T07:04:42.327Z"
   },
   {
    "duration": 0,
    "start_time": "2022-07-24T07:04:42.328Z"
   },
   {
    "duration": 0,
    "start_time": "2022-07-24T07:04:42.329Z"
   },
   {
    "duration": 0,
    "start_time": "2022-07-24T07:04:42.330Z"
   },
   {
    "duration": 0,
    "start_time": "2022-07-24T07:04:42.331Z"
   },
   {
    "duration": 0,
    "start_time": "2022-07-24T07:04:42.332Z"
   },
   {
    "duration": 0,
    "start_time": "2022-07-24T07:04:42.334Z"
   },
   {
    "duration": 0,
    "start_time": "2022-07-24T07:04:42.335Z"
   },
   {
    "duration": 0,
    "start_time": "2022-07-24T07:04:42.336Z"
   },
   {
    "duration": 3068,
    "start_time": "2022-07-24T07:05:17.373Z"
   },
   {
    "duration": 5,
    "start_time": "2022-07-24T07:05:20.444Z"
   },
   {
    "duration": 43,
    "start_time": "2022-07-24T07:05:20.452Z"
   },
   {
    "duration": 5,
    "start_time": "2022-07-24T07:05:20.498Z"
   },
   {
    "duration": 18,
    "start_time": "2022-07-24T07:05:20.505Z"
   },
   {
    "duration": 18,
    "start_time": "2022-07-24T07:05:20.525Z"
   },
   {
    "duration": 13,
    "start_time": "2022-07-24T07:05:20.545Z"
   },
   {
    "duration": 20,
    "start_time": "2022-07-24T07:05:20.560Z"
   },
   {
    "duration": 23,
    "start_time": "2022-07-24T07:05:20.582Z"
   },
   {
    "duration": 28,
    "start_time": "2022-07-24T07:05:20.608Z"
   },
   {
    "duration": 3,
    "start_time": "2022-07-24T07:05:20.638Z"
   },
   {
    "duration": 180,
    "start_time": "2022-07-24T07:05:20.643Z"
   },
   {
    "duration": 150,
    "start_time": "2022-07-24T07:05:20.826Z"
   },
   {
    "duration": 3,
    "start_time": "2022-07-24T07:05:20.978Z"
   },
   {
    "duration": 31,
    "start_time": "2022-07-24T07:05:20.983Z"
   },
   {
    "duration": 8,
    "start_time": "2022-07-24T07:05:21.016Z"
   },
   {
    "duration": 10,
    "start_time": "2022-07-24T07:05:21.026Z"
   },
   {
    "duration": 17,
    "start_time": "2022-07-24T07:05:21.038Z"
   },
   {
    "duration": 11,
    "start_time": "2022-07-24T07:05:21.057Z"
   },
   {
    "duration": 4432,
    "start_time": "2022-07-24T07:05:21.070Z"
   },
   {
    "duration": 7,
    "start_time": "2022-07-24T07:05:25.504Z"
   },
   {
    "duration": 21,
    "start_time": "2022-07-24T07:05:25.514Z"
   },
   {
    "duration": 47,
    "start_time": "2022-07-24T07:05:25.537Z"
   },
   {
    "duration": 31,
    "start_time": "2022-07-24T07:05:25.587Z"
   },
   {
    "duration": 33,
    "start_time": "2022-07-24T07:05:25.620Z"
   },
   {
    "duration": 28,
    "start_time": "2022-07-24T07:05:25.655Z"
   },
   {
    "duration": 45,
    "start_time": "2022-07-24T07:05:25.685Z"
   },
   {
    "duration": 33,
    "start_time": "2022-07-24T07:05:25.734Z"
   },
   {
    "duration": 10,
    "start_time": "2022-07-24T07:05:25.769Z"
   },
   {
    "duration": 16,
    "start_time": "2022-07-24T07:05:25.781Z"
   },
   {
    "duration": 174,
    "start_time": "2022-07-24T07:05:25.809Z"
   },
   {
    "duration": 8,
    "start_time": "2022-07-24T07:05:25.985Z"
   },
   {
    "duration": 16,
    "start_time": "2022-07-24T07:05:25.995Z"
   },
   {
    "duration": 386,
    "start_time": "2022-07-24T07:05:26.013Z"
   },
   {
    "duration": 452,
    "start_time": "2022-07-24T07:05:26.401Z"
   },
   {
    "duration": 4,
    "start_time": "2022-07-24T07:05:26.854Z"
   },
   {
    "duration": 43,
    "start_time": "2022-07-24T07:05:26.859Z"
   },
   {
    "duration": 9,
    "start_time": "2022-07-24T07:05:26.904Z"
   },
   {
    "duration": 24,
    "start_time": "2022-07-24T07:05:26.915Z"
   },
   {
    "duration": 45,
    "start_time": "2022-07-24T07:05:26.941Z"
   },
   {
    "duration": 40,
    "start_time": "2022-07-24T07:05:26.989Z"
   },
   {
    "duration": 4,
    "start_time": "2022-07-24T07:05:27.112Z"
   },
   {
    "duration": 92,
    "start_time": "2022-07-24T07:05:27.118Z"
   },
   {
    "duration": 4,
    "start_time": "2022-07-24T07:05:27.213Z"
   },
   {
    "duration": 16,
    "start_time": "2022-07-24T07:05:27.218Z"
   },
   {
    "duration": 76,
    "start_time": "2022-07-24T07:05:27.236Z"
   },
   {
    "duration": 12,
    "start_time": "2022-07-24T07:05:27.314Z"
   },
   {
    "duration": 91,
    "start_time": "2022-07-24T07:05:27.328Z"
   },
   {
    "duration": 185,
    "start_time": "2022-07-24T07:05:27.425Z"
   },
   {
    "duration": 6,
    "start_time": "2022-07-24T07:05:27.612Z"
   },
   {
    "duration": 10,
    "start_time": "2022-07-24T07:05:27.621Z"
   },
   {
    "duration": 83,
    "start_time": "2022-07-24T07:05:27.634Z"
   },
   {
    "duration": 0,
    "start_time": "2022-07-24T07:05:27.720Z"
   },
   {
    "duration": 72,
    "start_time": "2022-07-24T07:05:42.814Z"
   },
   {
    "duration": 75,
    "start_time": "2022-07-24T07:06:50.934Z"
   },
   {
    "duration": 74,
    "start_time": "2022-07-24T07:08:48.095Z"
   },
   {
    "duration": 5,
    "start_time": "2022-07-24T07:08:58.934Z"
   },
   {
    "duration": 5,
    "start_time": "2022-07-24T07:10:17.178Z"
   },
   {
    "duration": 6,
    "start_time": "2022-07-24T07:10:31.977Z"
   },
   {
    "duration": 25,
    "start_time": "2022-07-24T07:10:47.382Z"
   },
   {
    "duration": 84,
    "start_time": "2022-07-24T07:11:26.025Z"
   },
   {
    "duration": 5,
    "start_time": "2022-07-24T07:11:35.616Z"
   },
   {
    "duration": 18,
    "start_time": "2022-07-24T07:11:37.945Z"
   },
   {
    "duration": 3,
    "start_time": "2022-07-24T07:12:24.500Z"
   },
   {
    "duration": 6,
    "start_time": "2022-07-24T07:12:27.256Z"
   },
   {
    "duration": 14,
    "start_time": "2022-07-24T07:13:04.014Z"
   },
   {
    "duration": 18,
    "start_time": "2022-07-24T07:13:12.256Z"
   },
   {
    "duration": 11,
    "start_time": "2022-07-24T08:47:45.570Z"
   },
   {
    "duration": 20,
    "start_time": "2022-07-24T08:47:49.093Z"
   },
   {
    "duration": 18,
    "start_time": "2022-07-24T08:48:05.155Z"
   },
   {
    "duration": 3252,
    "start_time": "2022-07-24T08:48:09.781Z"
   },
   {
    "duration": 5,
    "start_time": "2022-07-24T08:48:13.037Z"
   },
   {
    "duration": 55,
    "start_time": "2022-07-24T08:48:13.045Z"
   },
   {
    "duration": 5,
    "start_time": "2022-07-24T08:48:13.103Z"
   },
   {
    "duration": 27,
    "start_time": "2022-07-24T08:48:13.110Z"
   },
   {
    "duration": 20,
    "start_time": "2022-07-24T08:48:13.139Z"
   },
   {
    "duration": 16,
    "start_time": "2022-07-24T08:48:13.161Z"
   },
   {
    "duration": 30,
    "start_time": "2022-07-24T08:48:13.178Z"
   },
   {
    "duration": 15,
    "start_time": "2022-07-24T08:48:13.210Z"
   },
   {
    "duration": 41,
    "start_time": "2022-07-24T08:48:13.229Z"
   },
   {
    "duration": 3,
    "start_time": "2022-07-24T08:48:13.273Z"
   },
   {
    "duration": 183,
    "start_time": "2022-07-24T08:48:13.278Z"
   },
   {
    "duration": 163,
    "start_time": "2022-07-24T08:48:13.463Z"
   },
   {
    "duration": 3,
    "start_time": "2022-07-24T08:48:13.628Z"
   },
   {
    "duration": 17,
    "start_time": "2022-07-24T08:48:13.633Z"
   },
   {
    "duration": 11,
    "start_time": "2022-07-24T08:48:13.652Z"
   },
   {
    "duration": 23,
    "start_time": "2022-07-24T08:48:13.665Z"
   },
   {
    "duration": 31,
    "start_time": "2022-07-24T08:48:13.690Z"
   },
   {
    "duration": 22,
    "start_time": "2022-07-24T08:48:13.723Z"
   },
   {
    "duration": 4490,
    "start_time": "2022-07-24T08:48:13.747Z"
   },
   {
    "duration": 4,
    "start_time": "2022-07-24T08:48:18.239Z"
   },
   {
    "duration": 17,
    "start_time": "2022-07-24T08:48:18.245Z"
   },
   {
    "duration": 30,
    "start_time": "2022-07-24T08:48:18.265Z"
   },
   {
    "duration": 61,
    "start_time": "2022-07-24T08:48:18.297Z"
   },
   {
    "duration": 39,
    "start_time": "2022-07-24T08:48:18.360Z"
   },
   {
    "duration": 59,
    "start_time": "2022-07-24T08:48:18.400Z"
   },
   {
    "duration": 31,
    "start_time": "2022-07-24T08:48:18.461Z"
   },
   {
    "duration": 35,
    "start_time": "2022-07-24T08:48:18.498Z"
   },
   {
    "duration": 14,
    "start_time": "2022-07-24T08:48:18.535Z"
   },
   {
    "duration": 16,
    "start_time": "2022-07-24T08:48:18.551Z"
   },
   {
    "duration": 22,
    "start_time": "2022-07-24T08:48:18.570Z"
   },
   {
    "duration": 44,
    "start_time": "2022-07-24T08:48:18.595Z"
   },
   {
    "duration": 14,
    "start_time": "2022-07-24T08:48:18.642Z"
   },
   {
    "duration": 531,
    "start_time": "2022-07-24T08:48:18.659Z"
   },
   {
    "duration": 468,
    "start_time": "2022-07-24T08:48:19.192Z"
   },
   {
    "duration": 4,
    "start_time": "2022-07-24T08:48:19.662Z"
   },
   {
    "duration": 47,
    "start_time": "2022-07-24T08:48:19.668Z"
   },
   {
    "duration": 14,
    "start_time": "2022-07-24T08:48:19.718Z"
   },
   {
    "duration": 18,
    "start_time": "2022-07-24T08:48:19.735Z"
   },
   {
    "duration": 21,
    "start_time": "2022-07-24T08:48:19.756Z"
   },
   {
    "duration": 109,
    "start_time": "2022-07-24T08:48:19.811Z"
   },
   {
    "duration": 89,
    "start_time": "2022-07-24T08:48:19.923Z"
   },
   {
    "duration": 97,
    "start_time": "2022-07-24T08:48:20.015Z"
   },
   {
    "duration": 29,
    "start_time": "2022-07-24T08:48:20.114Z"
   },
   {
    "duration": 17,
    "start_time": "2022-07-24T08:48:20.146Z"
   },
   {
    "duration": 59,
    "start_time": "2022-07-24T08:48:20.168Z"
   },
   {
    "duration": 183,
    "start_time": "2022-07-24T08:48:20.229Z"
   },
   {
    "duration": 30,
    "start_time": "2022-07-24T08:48:20.414Z"
   },
   {
    "duration": 85,
    "start_time": "2022-07-24T08:48:20.447Z"
   },
   {
    "duration": 104,
    "start_time": "2022-07-24T08:48:20.534Z"
   },
   {
    "duration": 29,
    "start_time": "2022-07-24T08:48:20.641Z"
   },
   {
    "duration": 137,
    "start_time": "2022-07-24T08:48:20.673Z"
   },
   {
    "duration": 25,
    "start_time": "2022-07-24T08:48:20.813Z"
   },
   {
    "duration": 19,
    "start_time": "2022-07-24T08:48:36.392Z"
   },
   {
    "duration": 5,
    "start_time": "2022-07-24T08:49:07.369Z"
   },
   {
    "duration": 5,
    "start_time": "2022-07-24T08:49:09.205Z"
   },
   {
    "duration": 19,
    "start_time": "2022-07-24T08:49:12.216Z"
   },
   {
    "duration": 13,
    "start_time": "2022-07-24T08:49:37.861Z"
   },
   {
    "duration": 15,
    "start_time": "2022-07-24T08:49:54.252Z"
   },
   {
    "duration": 6,
    "start_time": "2022-07-24T08:50:56.521Z"
   },
   {
    "duration": 19,
    "start_time": "2022-07-24T08:50:58.779Z"
   },
   {
    "duration": 17,
    "start_time": "2022-07-24T08:51:07.777Z"
   },
   {
    "duration": 5,
    "start_time": "2022-07-24T08:54:54.754Z"
   },
   {
    "duration": 19,
    "start_time": "2022-07-24T08:54:56.992Z"
   },
   {
    "duration": 18,
    "start_time": "2022-07-24T08:55:20.956Z"
   },
   {
    "duration": 4,
    "start_time": "2022-07-24T08:55:47.531Z"
   },
   {
    "duration": 5,
    "start_time": "2022-07-24T08:55:59.275Z"
   },
   {
    "duration": 4,
    "start_time": "2022-07-24T08:56:30.791Z"
   },
   {
    "duration": 6,
    "start_time": "2022-07-24T08:56:34.893Z"
   },
   {
    "duration": 17,
    "start_time": "2022-07-24T08:56:37.272Z"
   },
   {
    "duration": 7,
    "start_time": "2022-07-24T08:57:13.465Z"
   },
   {
    "duration": 9,
    "start_time": "2022-07-24T08:57:16.229Z"
   },
   {
    "duration": 9,
    "start_time": "2022-07-24T08:57:57.654Z"
   },
   {
    "duration": 11,
    "start_time": "2022-07-25T12:46:04.706Z"
   },
   {
    "duration": 10292,
    "start_time": "2022-07-25T12:46:22.175Z"
   },
   {
    "duration": 1487,
    "start_time": "2022-07-25T12:46:32.470Z"
   },
   {
    "duration": 96,
    "start_time": "2022-07-25T12:46:33.959Z"
   },
   {
    "duration": 4,
    "start_time": "2022-07-25T12:46:34.057Z"
   },
   {
    "duration": 26,
    "start_time": "2022-07-25T12:46:34.062Z"
   },
   {
    "duration": 18,
    "start_time": "2022-07-25T12:46:34.090Z"
   },
   {
    "duration": 4,
    "start_time": "2022-07-25T12:46:34.110Z"
   },
   {
    "duration": 17,
    "start_time": "2022-07-25T12:46:34.115Z"
   },
   {
    "duration": 8,
    "start_time": "2022-07-25T12:46:34.134Z"
   },
   {
    "duration": 33,
    "start_time": "2022-07-25T12:46:34.145Z"
   },
   {
    "duration": 3,
    "start_time": "2022-07-25T12:46:34.179Z"
   },
   {
    "duration": 170,
    "start_time": "2022-07-25T12:46:34.184Z"
   },
   {
    "duration": 132,
    "start_time": "2022-07-25T12:46:34.355Z"
   },
   {
    "duration": 3,
    "start_time": "2022-07-25T12:46:34.489Z"
   },
   {
    "duration": 27,
    "start_time": "2022-07-25T12:46:34.494Z"
   },
   {
    "duration": 7,
    "start_time": "2022-07-25T12:46:34.522Z"
   },
   {
    "duration": 11,
    "start_time": "2022-07-25T12:46:34.530Z"
   },
   {
    "duration": 6,
    "start_time": "2022-07-25T12:46:34.543Z"
   },
   {
    "duration": 7,
    "start_time": "2022-07-25T12:46:34.551Z"
   },
   {
    "duration": 3922,
    "start_time": "2022-07-25T12:46:34.559Z"
   },
   {
    "duration": 3,
    "start_time": "2022-07-25T12:46:38.482Z"
   },
   {
    "duration": 9,
    "start_time": "2022-07-25T12:46:38.487Z"
   },
   {
    "duration": 12,
    "start_time": "2022-07-25T12:46:38.520Z"
   },
   {
    "duration": 143,
    "start_time": "2022-07-25T12:46:38.534Z"
   },
   {
    "duration": 0,
    "start_time": "2022-07-25T12:46:38.679Z"
   },
   {
    "duration": 0,
    "start_time": "2022-07-25T12:46:38.680Z"
   },
   {
    "duration": 0,
    "start_time": "2022-07-25T12:46:38.682Z"
   },
   {
    "duration": 11,
    "start_time": "2022-07-25T12:46:52.899Z"
   },
   {
    "duration": 5,
    "start_time": "2022-07-25T12:47:14.643Z"
   },
   {
    "duration": 25,
    "start_time": "2022-07-25T12:47:18.853Z"
   },
   {
    "duration": 5,
    "start_time": "2022-07-25T13:11:04.687Z"
   },
   {
    "duration": 27,
    "start_time": "2022-07-25T13:11:10.486Z"
   },
   {
    "duration": 26,
    "start_time": "2022-07-25T13:14:06.717Z"
   },
   {
    "duration": 5,
    "start_time": "2022-07-25T13:14:12.523Z"
   },
   {
    "duration": 23,
    "start_time": "2022-07-25T13:14:15.716Z"
   },
   {
    "duration": 32,
    "start_time": "2022-07-25T13:14:26.100Z"
   },
   {
    "duration": 26,
    "start_time": "2022-07-25T13:15:25.127Z"
   },
   {
    "duration": 5,
    "start_time": "2022-07-25T13:16:15.570Z"
   },
   {
    "duration": 17,
    "start_time": "2022-07-25T13:16:21.063Z"
   },
   {
    "duration": 20,
    "start_time": "2022-07-25T13:16:30.806Z"
   },
   {
    "duration": 5,
    "start_time": "2022-07-25T13:18:48.793Z"
   },
   {
    "duration": 12,
    "start_time": "2022-07-25T13:18:52.766Z"
   },
   {
    "duration": 22,
    "start_time": "2022-07-25T13:18:57.198Z"
   },
   {
    "duration": 24,
    "start_time": "2022-07-25T13:19:00.663Z"
   },
   {
    "duration": 4,
    "start_time": "2022-07-25T13:19:15.153Z"
   },
   {
    "duration": 11,
    "start_time": "2022-07-25T13:19:19.510Z"
   },
   {
    "duration": 26,
    "start_time": "2022-07-25T13:19:23.705Z"
   },
   {
    "duration": 23,
    "start_time": "2022-07-25T13:19:27.554Z"
   },
   {
    "duration": 20,
    "start_time": "2022-07-25T13:20:12.387Z"
   },
   {
    "duration": 18,
    "start_time": "2022-07-25T13:22:17.865Z"
   },
   {
    "duration": 3091,
    "start_time": "2022-07-25T14:22:10.927Z"
   },
   {
    "duration": 8,
    "start_time": "2022-07-25T14:22:14.021Z"
   },
   {
    "duration": 33,
    "start_time": "2022-07-25T14:22:14.031Z"
   },
   {
    "duration": 4,
    "start_time": "2022-07-25T14:22:14.067Z"
   },
   {
    "duration": 21,
    "start_time": "2022-07-25T14:22:14.074Z"
   },
   {
    "duration": 23,
    "start_time": "2022-07-25T14:22:14.098Z"
   },
   {
    "duration": 18,
    "start_time": "2022-07-25T14:22:14.124Z"
   },
   {
    "duration": 31,
    "start_time": "2022-07-25T14:22:14.144Z"
   },
   {
    "duration": 8,
    "start_time": "2022-07-25T14:22:14.177Z"
   },
   {
    "duration": 50,
    "start_time": "2022-07-25T14:22:14.188Z"
   },
   {
    "duration": 3,
    "start_time": "2022-07-25T14:22:14.240Z"
   },
   {
    "duration": 199,
    "start_time": "2022-07-25T14:22:14.245Z"
   },
   {
    "duration": 170,
    "start_time": "2022-07-25T14:22:14.446Z"
   },
   {
    "duration": 4,
    "start_time": "2022-07-25T14:22:14.617Z"
   },
   {
    "duration": 36,
    "start_time": "2022-07-25T14:22:14.623Z"
   },
   {
    "duration": 9,
    "start_time": "2022-07-25T14:22:14.661Z"
   },
   {
    "duration": 14,
    "start_time": "2022-07-25T14:22:14.672Z"
   },
   {
    "duration": 19,
    "start_time": "2022-07-25T14:22:14.688Z"
   },
   {
    "duration": 25,
    "start_time": "2022-07-25T14:22:14.709Z"
   },
   {
    "duration": 4399,
    "start_time": "2022-07-25T14:22:14.736Z"
   },
   {
    "duration": 3,
    "start_time": "2022-07-25T14:22:19.137Z"
   },
   {
    "duration": 5,
    "start_time": "2022-07-25T14:22:40.867Z"
   },
   {
    "duration": 14,
    "start_time": "2022-07-25T14:22:45.080Z"
   },
   {
    "duration": 13,
    "start_time": "2022-07-25T14:22:48.048Z"
   },
   {
    "duration": 22,
    "start_time": "2022-07-25T14:22:51.680Z"
   },
   {
    "duration": 22,
    "start_time": "2022-07-25T14:22:54.800Z"
   },
   {
    "duration": 4,
    "start_time": "2022-07-25T14:23:08.212Z"
   },
   {
    "duration": 11,
    "start_time": "2022-07-25T14:23:10.720Z"
   },
   {
    "duration": 22,
    "start_time": "2022-07-25T14:23:16.009Z"
   },
   {
    "duration": 23,
    "start_time": "2022-07-25T14:23:22.552Z"
   },
   {
    "duration": 21,
    "start_time": "2022-07-25T14:23:33.069Z"
   },
   {
    "duration": 21,
    "start_time": "2022-07-25T14:23:43.779Z"
   },
   {
    "duration": 23,
    "start_time": "2022-07-25T14:24:21.667Z"
   },
   {
    "duration": 4,
    "start_time": "2022-07-25T14:33:08.923Z"
   },
   {
    "duration": 22,
    "start_time": "2022-07-25T14:33:13.239Z"
   },
   {
    "duration": 5,
    "start_time": "2022-07-25T15:16:35.266Z"
   },
   {
    "duration": 35,
    "start_time": "2022-07-25T15:16:41.648Z"
   },
   {
    "duration": 27,
    "start_time": "2022-07-25T15:17:07.209Z"
   },
   {
    "duration": 5,
    "start_time": "2022-07-25T15:17:26.818Z"
   },
   {
    "duration": 24,
    "start_time": "2022-07-25T15:17:30.065Z"
   },
   {
    "duration": 5,
    "start_time": "2022-07-25T15:21:32.209Z"
   },
   {
    "duration": 367,
    "start_time": "2022-07-25T15:21:37.747Z"
   },
   {
    "duration": 21,
    "start_time": "2022-07-25T15:21:42.228Z"
   },
   {
    "duration": 2973,
    "start_time": "2022-07-25T15:21:46.923Z"
   },
   {
    "duration": 5,
    "start_time": "2022-07-25T15:21:49.898Z"
   },
   {
    "duration": 38,
    "start_time": "2022-07-25T15:21:49.905Z"
   },
   {
    "duration": 4,
    "start_time": "2022-07-25T15:21:49.946Z"
   },
   {
    "duration": 19,
    "start_time": "2022-07-25T15:21:49.951Z"
   },
   {
    "duration": 24,
    "start_time": "2022-07-25T15:21:49.971Z"
   },
   {
    "duration": 4,
    "start_time": "2022-07-25T15:21:49.997Z"
   },
   {
    "duration": 25,
    "start_time": "2022-07-25T15:21:50.003Z"
   },
   {
    "duration": 13,
    "start_time": "2022-07-25T15:21:50.030Z"
   },
   {
    "duration": 50,
    "start_time": "2022-07-25T15:21:50.046Z"
   },
   {
    "duration": 5,
    "start_time": "2022-07-25T15:21:50.098Z"
   },
   {
    "duration": 160,
    "start_time": "2022-07-25T15:21:50.105Z"
   },
   {
    "duration": 325,
    "start_time": "2022-07-25T15:21:50.267Z"
   },
   {
    "duration": 4,
    "start_time": "2022-07-25T15:21:50.593Z"
   },
   {
    "duration": 20,
    "start_time": "2022-07-25T15:21:50.599Z"
   },
   {
    "duration": 8,
    "start_time": "2022-07-25T15:21:50.621Z"
   },
   {
    "duration": 12,
    "start_time": "2022-07-25T15:21:50.631Z"
   },
   {
    "duration": 7,
    "start_time": "2022-07-25T15:21:50.645Z"
   },
   {
    "duration": 10,
    "start_time": "2022-07-25T15:21:50.654Z"
   },
   {
    "duration": 4088,
    "start_time": "2022-07-25T15:21:50.666Z"
   },
   {
    "duration": 3,
    "start_time": "2022-07-25T15:21:54.756Z"
   },
   {
    "duration": 15,
    "start_time": "2022-07-25T15:21:54.762Z"
   },
   {
    "duration": 20,
    "start_time": "2022-07-25T15:21:54.779Z"
   },
   {
    "duration": 17,
    "start_time": "2022-07-25T15:21:54.801Z"
   },
   {
    "duration": 99,
    "start_time": "2022-07-25T15:21:54.821Z"
   },
   {
    "duration": 21,
    "start_time": "2022-07-25T15:22:01.468Z"
   },
   {
    "duration": 21,
    "start_time": "2022-07-25T15:22:04.381Z"
   },
   {
    "duration": 21,
    "start_time": "2022-07-25T15:22:08.107Z"
   },
   {
    "duration": 19,
    "start_time": "2022-07-25T15:22:16.049Z"
   },
   {
    "duration": 20,
    "start_time": "2022-07-25T15:29:40.962Z"
   },
   {
    "duration": 20,
    "start_time": "2022-07-25T15:30:16.963Z"
   },
   {
    "duration": 19,
    "start_time": "2022-07-25T15:30:53.176Z"
   },
   {
    "duration": 4,
    "start_time": "2022-07-25T15:33:05.634Z"
   },
   {
    "duration": 24,
    "start_time": "2022-07-25T15:33:11.904Z"
   },
   {
    "duration": 5,
    "start_time": "2022-07-25T15:33:26.478Z"
   },
   {
    "duration": 20,
    "start_time": "2022-07-25T15:33:30.504Z"
   },
   {
    "duration": 2870,
    "start_time": "2022-07-25T15:34:35.723Z"
   },
   {
    "duration": 5,
    "start_time": "2022-07-25T15:34:38.596Z"
   },
   {
    "duration": 37,
    "start_time": "2022-07-25T15:34:38.603Z"
   },
   {
    "duration": 4,
    "start_time": "2022-07-25T15:34:38.643Z"
   },
   {
    "duration": 29,
    "start_time": "2022-07-25T15:34:38.649Z"
   },
   {
    "duration": 20,
    "start_time": "2022-07-25T15:34:38.680Z"
   },
   {
    "duration": 27,
    "start_time": "2022-07-25T15:34:38.702Z"
   },
   {
    "duration": 29,
    "start_time": "2022-07-25T15:34:38.731Z"
   },
   {
    "duration": 17,
    "start_time": "2022-07-25T15:34:38.762Z"
   },
   {
    "duration": 65,
    "start_time": "2022-07-25T15:34:38.782Z"
   },
   {
    "duration": 22,
    "start_time": "2022-07-25T15:34:38.849Z"
   },
   {
    "duration": 186,
    "start_time": "2022-07-25T15:34:38.873Z"
   },
   {
    "duration": 136,
    "start_time": "2022-07-25T15:34:39.061Z"
   },
   {
    "duration": 3,
    "start_time": "2022-07-25T15:34:39.199Z"
   },
   {
    "duration": 10,
    "start_time": "2022-07-25T15:34:39.210Z"
   },
   {
    "duration": 6,
    "start_time": "2022-07-25T15:34:39.222Z"
   },
   {
    "duration": 13,
    "start_time": "2022-07-25T15:34:39.230Z"
   },
   {
    "duration": 15,
    "start_time": "2022-07-25T15:34:39.245Z"
   },
   {
    "duration": 14,
    "start_time": "2022-07-25T15:34:39.262Z"
   },
   {
    "duration": 4167,
    "start_time": "2022-07-25T15:34:39.278Z"
   },
   {
    "duration": 3,
    "start_time": "2022-07-25T15:34:43.446Z"
   },
   {
    "duration": 10,
    "start_time": "2022-07-25T15:34:43.451Z"
   },
   {
    "duration": 18,
    "start_time": "2022-07-25T15:34:43.463Z"
   },
   {
    "duration": 12,
    "start_time": "2022-07-25T15:34:43.482Z"
   },
   {
    "duration": 119,
    "start_time": "2022-07-25T15:34:43.496Z"
   },
   {
    "duration": 120,
    "start_time": "2022-07-25T15:34:43.617Z"
   },
   {
    "duration": 24,
    "start_time": "2022-07-25T15:34:43.739Z"
   },
   {
    "duration": 19,
    "start_time": "2022-07-25T15:34:43.766Z"
   },
   {
    "duration": 5,
    "start_time": "2022-07-25T15:34:43.787Z"
   },
   {
    "duration": 7,
    "start_time": "2022-07-25T15:34:43.811Z"
   },
   {
    "duration": 13,
    "start_time": "2022-07-25T15:34:43.819Z"
   },
   {
    "duration": 8,
    "start_time": "2022-07-25T15:34:43.833Z"
   },
   {
    "duration": 13,
    "start_time": "2022-07-25T15:34:43.843Z"
   },
   {
    "duration": 368,
    "start_time": "2022-07-25T15:34:43.857Z"
   },
   {
    "duration": 427,
    "start_time": "2022-07-25T15:34:44.228Z"
   },
   {
    "duration": 4,
    "start_time": "2022-07-25T15:34:44.657Z"
   },
   {
    "duration": 32,
    "start_time": "2022-07-25T15:34:44.663Z"
   },
   {
    "duration": 15,
    "start_time": "2022-07-25T15:34:44.697Z"
   },
   {
    "duration": 26,
    "start_time": "2022-07-25T15:34:44.715Z"
   },
   {
    "duration": 23,
    "start_time": "2022-07-25T15:34:44.743Z"
   },
   {
    "duration": 50,
    "start_time": "2022-07-25T15:34:44.768Z"
   },
   {
    "duration": 93,
    "start_time": "2022-07-25T15:34:44.821Z"
   },
   {
    "duration": 93,
    "start_time": "2022-07-25T15:34:44.917Z"
   },
   {
    "duration": 25,
    "start_time": "2022-07-25T15:34:45.013Z"
   },
   {
    "duration": 14,
    "start_time": "2022-07-25T15:34:45.040Z"
   },
   {
    "duration": 55,
    "start_time": "2022-07-25T15:34:45.057Z"
   },
   {
    "duration": 6,
    "start_time": "2022-07-25T15:34:45.114Z"
   },
   {
    "duration": 92,
    "start_time": "2022-07-25T15:34:45.122Z"
   },
   {
    "duration": 96,
    "start_time": "2022-07-25T15:34:45.216Z"
   },
   {
    "duration": 16,
    "start_time": "2022-07-25T15:34:45.315Z"
   },
   {
    "duration": 109,
    "start_time": "2022-07-25T15:34:45.411Z"
   },
   {
    "duration": 0,
    "start_time": "2022-07-25T15:34:45.522Z"
   },
   {
    "duration": 0,
    "start_time": "2022-07-25T15:34:45.524Z"
   },
   {
    "duration": 0,
    "start_time": "2022-07-25T15:34:45.525Z"
   },
   {
    "duration": 5,
    "start_time": "2022-07-25T15:35:29.653Z"
   },
   {
    "duration": 265,
    "start_time": "2022-07-25T15:35:31.694Z"
   },
   {
    "duration": 6,
    "start_time": "2022-07-25T15:35:37.772Z"
   },
   {
    "duration": 10,
    "start_time": "2022-07-25T15:35:41.592Z"
   },
   {
    "duration": 11,
    "start_time": "2022-07-25T15:35:44.396Z"
   },
   {
    "duration": 4,
    "start_time": "2022-07-25T15:36:00.784Z"
   },
   {
    "duration": 128,
    "start_time": "2022-07-25T15:36:02.531Z"
   },
   {
    "duration": 10,
    "start_time": "2022-07-25T15:36:30.243Z"
   },
   {
    "duration": 9,
    "start_time": "2022-07-25T15:36:35.793Z"
   },
   {
    "duration": 94,
    "start_time": "2022-07-25T15:36:41.874Z"
   },
   {
    "duration": 74,
    "start_time": "2022-07-25T15:37:12.563Z"
   },
   {
    "duration": 5,
    "start_time": "2022-07-25T15:37:17.429Z"
   },
   {
    "duration": 127,
    "start_time": "2022-07-25T15:37:19.402Z"
   },
   {
    "duration": 4,
    "start_time": "2022-07-25T15:41:17.568Z"
   },
   {
    "duration": 126,
    "start_time": "2022-07-25T15:41:19.250Z"
   },
   {
    "duration": 5,
    "start_time": "2022-07-25T15:41:33.949Z"
   },
   {
    "duration": 146,
    "start_time": "2022-07-25T15:41:35.891Z"
   },
   {
    "duration": 5,
    "start_time": "2022-07-25T15:42:11.626Z"
   },
   {
    "duration": 19,
    "start_time": "2022-07-25T15:42:15.853Z"
   },
   {
    "duration": 5,
    "start_time": "2022-07-25T15:42:28.765Z"
   },
   {
    "duration": 118,
    "start_time": "2022-07-25T15:42:30.758Z"
   },
   {
    "duration": 5,
    "start_time": "2022-07-25T15:42:34.260Z"
   },
   {
    "duration": 13,
    "start_time": "2022-07-25T15:42:36.771Z"
   },
   {
    "duration": 14,
    "start_time": "2022-07-25T15:42:40.191Z"
   },
   {
    "duration": 1641,
    "start_time": "2022-07-25T16:41:54.604Z"
   },
   {
    "duration": 59,
    "start_time": "2022-07-25T16:41:56.247Z"
   },
   {
    "duration": 6,
    "start_time": "2022-07-25T16:41:56.308Z"
   },
   {
    "duration": 29,
    "start_time": "2022-07-25T16:41:56.316Z"
   },
   {
    "duration": 12,
    "start_time": "2022-07-25T16:41:56.471Z"
   },
   {
    "duration": 5,
    "start_time": "2022-07-25T16:41:56.657Z"
   },
   {
    "duration": 15,
    "start_time": "2022-07-25T16:41:56.814Z"
   },
   {
    "duration": 2,
    "start_time": "2022-07-25T16:41:57.046Z"
   },
   {
    "duration": 22,
    "start_time": "2022-07-25T16:41:57.270Z"
   },
   {
    "duration": 3,
    "start_time": "2022-07-25T16:41:57.472Z"
   },
   {
    "duration": 166,
    "start_time": "2022-07-25T16:41:57.658Z"
   },
   {
    "duration": 109,
    "start_time": "2022-07-25T16:41:57.840Z"
   },
   {
    "duration": 3,
    "start_time": "2022-07-25T16:41:58.046Z"
   },
   {
    "duration": 11,
    "start_time": "2022-07-25T16:41:58.250Z"
   },
   {
    "duration": 6,
    "start_time": "2022-07-25T16:41:58.458Z"
   },
   {
    "duration": 6,
    "start_time": "2022-07-25T16:41:58.665Z"
   },
   {
    "duration": 6,
    "start_time": "2022-07-25T16:41:58.869Z"
   },
   {
    "duration": 6,
    "start_time": "2022-07-25T16:41:59.098Z"
   },
   {
    "duration": 3591,
    "start_time": "2022-07-25T16:42:00.243Z"
   },
   {
    "duration": 3,
    "start_time": "2022-07-25T16:42:03.837Z"
   },
   {
    "duration": 9,
    "start_time": "2022-07-25T16:42:03.842Z"
   },
   {
    "duration": 11,
    "start_time": "2022-07-25T16:42:03.863Z"
   },
   {
    "duration": 12,
    "start_time": "2022-07-25T16:42:04.038Z"
   },
   {
    "duration": 196,
    "start_time": "2022-07-25T16:42:06.071Z"
   },
   {
    "duration": 17,
    "start_time": "2022-07-25T16:42:06.684Z"
   },
   {
    "duration": 86,
    "start_time": "2022-07-25T16:42:07.185Z"
   },
   {
    "duration": 17,
    "start_time": "2022-07-25T16:42:07.841Z"
   },
   {
    "duration": 76,
    "start_time": "2022-07-25T17:51:15.625Z"
   },
   {
    "duration": 4,
    "start_time": "2022-07-25T17:51:21.816Z"
   },
   {
    "duration": 38,
    "start_time": "2022-07-25T17:51:27.222Z"
   },
   {
    "duration": 7008,
    "start_time": "2022-07-25T17:51:31.454Z"
   },
   {
    "duration": 1232,
    "start_time": "2022-07-25T17:51:38.464Z"
   },
   {
    "duration": 86,
    "start_time": "2022-07-25T17:51:39.697Z"
   },
   {
    "duration": 4,
    "start_time": "2022-07-25T17:51:39.784Z"
   },
   {
    "duration": 18,
    "start_time": "2022-07-25T17:51:39.791Z"
   },
   {
    "duration": 11,
    "start_time": "2022-07-25T17:51:39.811Z"
   },
   {
    "duration": 3,
    "start_time": "2022-07-25T17:51:39.823Z"
   },
   {
    "duration": 11,
    "start_time": "2022-07-25T17:51:39.827Z"
   },
   {
    "duration": 1,
    "start_time": "2022-07-25T17:51:39.840Z"
   },
   {
    "duration": 23,
    "start_time": "2022-07-25T17:51:39.842Z"
   },
   {
    "duration": 2,
    "start_time": "2022-07-25T17:51:39.867Z"
   },
   {
    "duration": 159,
    "start_time": "2022-07-25T17:51:39.870Z"
   },
   {
    "duration": 106,
    "start_time": "2022-07-25T17:51:40.030Z"
   },
   {
    "duration": 2,
    "start_time": "2022-07-25T17:51:40.138Z"
   },
   {
    "duration": 11,
    "start_time": "2022-07-25T17:51:40.141Z"
   },
   {
    "duration": 5,
    "start_time": "2022-07-25T17:51:40.153Z"
   },
   {
    "duration": 6,
    "start_time": "2022-07-25T17:51:40.159Z"
   },
   {
    "duration": 9,
    "start_time": "2022-07-25T17:51:40.166Z"
   },
   {
    "duration": 15,
    "start_time": "2022-07-25T17:51:40.176Z"
   },
   {
    "duration": 2965,
    "start_time": "2022-07-25T17:51:40.193Z"
   },
   {
    "duration": 2,
    "start_time": "2022-07-25T17:51:43.160Z"
   },
   {
    "duration": 6,
    "start_time": "2022-07-25T17:51:43.163Z"
   },
   {
    "duration": 11,
    "start_time": "2022-07-25T17:51:43.170Z"
   },
   {
    "duration": 21,
    "start_time": "2022-07-25T17:51:43.182Z"
   },
   {
    "duration": 261,
    "start_time": "2022-07-25T17:51:48.343Z"
   },
   {
    "duration": 17,
    "start_time": "2022-07-25T17:51:59.851Z"
   },
   {
    "duration": 4,
    "start_time": "2022-07-25T17:52:07.906Z"
   },
   {
    "duration": 16,
    "start_time": "2022-07-25T17:52:12.343Z"
   },
   {
    "duration": 16,
    "start_time": "2022-07-25T17:52:22.901Z"
   },
   {
    "duration": 4,
    "start_time": "2022-07-25T17:58:52.908Z"
   },
   {
    "duration": 77,
    "start_time": "2022-07-25T17:58:58.053Z"
   },
   {
    "duration": 4,
    "start_time": "2022-07-25T17:59:30.190Z"
   },
   {
    "duration": 19,
    "start_time": "2022-07-25T17:59:34.902Z"
   },
   {
    "duration": 4,
    "start_time": "2022-07-25T18:01:24.457Z"
   },
   {
    "duration": 18,
    "start_time": "2022-07-25T18:01:28.880Z"
   },
   {
    "duration": 4,
    "start_time": "2022-07-25T18:01:43.283Z"
   },
   {
    "duration": 16,
    "start_time": "2022-07-25T18:01:47.378Z"
   },
   {
    "duration": 15,
    "start_time": "2022-07-25T18:02:01.542Z"
   },
   {
    "duration": 18,
    "start_time": "2022-07-25T18:02:15.414Z"
   },
   {
    "duration": 21,
    "start_time": "2022-07-25T18:02:25.759Z"
   },
   {
    "duration": 4,
    "start_time": "2022-07-25T18:05:08.015Z"
   },
   {
    "duration": 24,
    "start_time": "2022-07-25T18:05:12.295Z"
   },
   {
    "duration": 22,
    "start_time": "2022-07-25T18:05:20.962Z"
   },
   {
    "duration": 4,
    "start_time": "2022-07-25T18:05:40.157Z"
   },
   {
    "duration": 21,
    "start_time": "2022-07-25T18:05:43.953Z"
   },
   {
    "duration": 4,
    "start_time": "2022-07-25T18:06:11.057Z"
   },
   {
    "duration": 17,
    "start_time": "2022-07-25T18:06:15.962Z"
   },
   {
    "duration": 3,
    "start_time": "2022-07-25T18:10:05.874Z"
   },
   {
    "duration": 19,
    "start_time": "2022-07-25T18:10:11.414Z"
   },
   {
    "duration": 4,
    "start_time": "2022-07-25T18:10:33.854Z"
   },
   {
    "duration": 1348,
    "start_time": "2022-07-26T06:23:46.878Z"
   },
   {
    "duration": 2391,
    "start_time": "2022-07-26T06:23:51.117Z"
   },
   {
    "duration": 4,
    "start_time": "2022-07-26T06:23:53.510Z"
   },
   {
    "duration": 66,
    "start_time": "2022-07-26T06:23:53.515Z"
   },
   {
    "duration": 4,
    "start_time": "2022-07-26T06:23:53.583Z"
   },
   {
    "duration": 20,
    "start_time": "2022-07-26T06:23:53.588Z"
   },
   {
    "duration": 10,
    "start_time": "2022-07-26T06:23:53.610Z"
   },
   {
    "duration": 3,
    "start_time": "2022-07-26T06:23:53.622Z"
   },
   {
    "duration": 21,
    "start_time": "2022-07-26T06:23:53.626Z"
   },
   {
    "duration": 9,
    "start_time": "2022-07-26T06:23:53.648Z"
   },
   {
    "duration": 29,
    "start_time": "2022-07-26T06:23:53.659Z"
   },
   {
    "duration": 2,
    "start_time": "2022-07-26T06:23:53.690Z"
   },
   {
    "duration": 146,
    "start_time": "2022-07-26T06:23:53.693Z"
   },
   {
    "duration": 125,
    "start_time": "2022-07-26T06:23:53.841Z"
   },
   {
    "duration": 2,
    "start_time": "2022-07-26T06:23:53.968Z"
   },
   {
    "duration": 12,
    "start_time": "2022-07-26T06:23:53.972Z"
   },
   {
    "duration": 5,
    "start_time": "2022-07-26T06:23:53.986Z"
   },
   {
    "duration": 10,
    "start_time": "2022-07-26T06:23:53.993Z"
   },
   {
    "duration": 9,
    "start_time": "2022-07-26T06:23:54.004Z"
   },
   {
    "duration": 8,
    "start_time": "2022-07-26T06:23:54.014Z"
   },
   {
    "duration": 3416,
    "start_time": "2022-07-26T06:23:54.024Z"
   },
   {
    "duration": 3,
    "start_time": "2022-07-26T06:23:57.442Z"
   },
   {
    "duration": 21,
    "start_time": "2022-07-26T06:23:57.446Z"
   },
   {
    "duration": 21,
    "start_time": "2022-07-26T06:23:57.468Z"
   },
   {
    "duration": 9,
    "start_time": "2022-07-26T06:23:57.491Z"
   },
   {
    "duration": 258,
    "start_time": "2022-07-26T06:23:57.502Z"
   },
   {
    "duration": 20,
    "start_time": "2022-07-26T06:23:57.763Z"
   },
   {
    "duration": 16,
    "start_time": "2022-07-26T06:23:57.785Z"
   },
   {
    "duration": 16,
    "start_time": "2022-07-26T06:23:57.805Z"
   },
   {
    "duration": 39,
    "start_time": "2022-07-26T06:23:57.822Z"
   },
   {
    "duration": 6,
    "start_time": "2022-07-26T06:23:57.862Z"
   },
   {
    "duration": 7,
    "start_time": "2022-07-26T06:23:57.869Z"
   },
   {
    "duration": 8,
    "start_time": "2022-07-26T06:23:57.877Z"
   },
   {
    "duration": 4,
    "start_time": "2022-07-26T06:23:57.886Z"
   },
   {
    "duration": 348,
    "start_time": "2022-07-26T06:23:57.892Z"
   },
   {
    "duration": 373,
    "start_time": "2022-07-26T06:23:58.241Z"
   },
   {
    "duration": 3,
    "start_time": "2022-07-26T06:23:58.616Z"
   },
   {
    "duration": 29,
    "start_time": "2022-07-26T06:23:58.620Z"
   },
   {
    "duration": 5,
    "start_time": "2022-07-26T06:23:58.660Z"
   },
   {
    "duration": 10,
    "start_time": "2022-07-26T06:23:58.666Z"
   },
   {
    "duration": 12,
    "start_time": "2022-07-26T06:23:58.678Z"
   },
   {
    "duration": 80,
    "start_time": "2022-07-26T06:23:58.692Z"
   },
   {
    "duration": 89,
    "start_time": "2022-07-26T06:23:58.775Z"
   },
   {
    "duration": 95,
    "start_time": "2022-07-26T06:23:58.866Z"
   },
   {
    "duration": 3,
    "start_time": "2022-07-26T06:23:58.963Z"
   },
   {
    "duration": 12,
    "start_time": "2022-07-26T06:23:58.968Z"
   },
   {
    "duration": 80,
    "start_time": "2022-07-26T06:23:58.982Z"
   },
   {
    "duration": 5,
    "start_time": "2022-07-26T06:23:59.063Z"
   },
   {
    "duration": 93,
    "start_time": "2022-07-26T06:23:59.069Z"
   },
   {
    "duration": 8,
    "start_time": "2022-07-26T06:23:59.164Z"
   },
   {
    "duration": 88,
    "start_time": "2022-07-26T06:23:59.174Z"
   },
   {
    "duration": 7,
    "start_time": "2022-07-26T06:23:59.264Z"
   },
   {
    "duration": 13,
    "start_time": "2022-07-26T06:23:59.273Z"
   },
   {
    "duration": 80,
    "start_time": "2022-07-26T06:23:59.288Z"
   },
   {
    "duration": 4,
    "start_time": "2022-07-26T06:24:39.394Z"
   },
   {
    "duration": 123,
    "start_time": "2022-07-26T06:24:46.703Z"
   },
   {
    "duration": 4,
    "start_time": "2022-07-26T06:25:51.143Z"
   },
   {
    "duration": 822,
    "start_time": "2022-07-26T06:25:57.836Z"
   },
   {
    "duration": 822,
    "start_time": "2022-07-26T06:26:11.847Z"
   },
   {
    "duration": 5,
    "start_time": "2022-07-26T06:26:35.572Z"
   },
   {
    "duration": 953,
    "start_time": "2022-07-26T06:26:43.449Z"
   },
   {
    "duration": 49,
    "start_time": "2022-07-26T06:27:05.097Z"
   },
   {
    "duration": 4,
    "start_time": "2022-07-26T06:27:58.812Z"
   },
   {
    "duration": 24,
    "start_time": "2022-07-26T06:28:05.004Z"
   },
   {
    "duration": 2436,
    "start_time": "2022-07-26T06:54:37.719Z"
   },
   {
    "duration": 4,
    "start_time": "2022-07-26T06:54:40.157Z"
   },
   {
    "duration": 35,
    "start_time": "2022-07-26T06:54:40.163Z"
   },
   {
    "duration": 4,
    "start_time": "2022-07-26T06:54:40.200Z"
   },
   {
    "duration": 18,
    "start_time": "2022-07-26T06:54:40.206Z"
   },
   {
    "duration": 14,
    "start_time": "2022-07-26T06:54:40.225Z"
   },
   {
    "duration": 10,
    "start_time": "2022-07-26T06:54:40.240Z"
   },
   {
    "duration": 13,
    "start_time": "2022-07-26T06:54:40.251Z"
   },
   {
    "duration": 2,
    "start_time": "2022-07-26T06:54:40.266Z"
   },
   {
    "duration": 23,
    "start_time": "2022-07-26T06:54:40.272Z"
   },
   {
    "duration": 4,
    "start_time": "2022-07-26T06:54:40.297Z"
   },
   {
    "duration": 164,
    "start_time": "2022-07-26T06:54:40.302Z"
   },
   {
    "duration": 119,
    "start_time": "2022-07-26T06:54:40.468Z"
   },
   {
    "duration": 2,
    "start_time": "2022-07-26T06:54:40.589Z"
   },
   {
    "duration": 14,
    "start_time": "2022-07-26T06:54:40.593Z"
   },
   {
    "duration": 6,
    "start_time": "2022-07-26T06:54:40.608Z"
   },
   {
    "duration": 8,
    "start_time": "2022-07-26T06:54:40.616Z"
   },
   {
    "duration": 7,
    "start_time": "2022-07-26T06:54:40.625Z"
   },
   {
    "duration": 5,
    "start_time": "2022-07-26T06:54:40.634Z"
   },
   {
    "duration": 3435,
    "start_time": "2022-07-26T06:54:40.640Z"
   },
   {
    "duration": 3,
    "start_time": "2022-07-26T06:54:44.076Z"
   },
   {
    "duration": 21,
    "start_time": "2022-07-26T06:54:44.080Z"
   },
   {
    "duration": 29,
    "start_time": "2022-07-26T06:54:44.103Z"
   },
   {
    "duration": 35,
    "start_time": "2022-07-26T06:54:44.133Z"
   },
   {
    "duration": 98,
    "start_time": "2022-07-26T06:54:44.170Z"
   },
   {
    "duration": 108,
    "start_time": "2022-07-26T06:54:44.270Z"
   },
   {
    "duration": 30,
    "start_time": "2022-07-26T06:54:44.380Z"
   },
   {
    "duration": 19,
    "start_time": "2022-07-26T06:54:44.415Z"
   },
   {
    "duration": 5,
    "start_time": "2022-07-26T06:54:44.435Z"
   },
   {
    "duration": 5,
    "start_time": "2022-07-26T06:54:44.462Z"
   },
   {
    "duration": 6,
    "start_time": "2022-07-26T06:54:44.468Z"
   },
   {
    "duration": 9,
    "start_time": "2022-07-26T06:54:44.475Z"
   },
   {
    "duration": 5,
    "start_time": "2022-07-26T06:54:44.486Z"
   },
   {
    "duration": 342,
    "start_time": "2022-07-26T06:54:44.492Z"
   },
   {
    "duration": 375,
    "start_time": "2022-07-26T06:54:44.836Z"
   },
   {
    "duration": 4,
    "start_time": "2022-07-26T06:54:45.212Z"
   },
   {
    "duration": 26,
    "start_time": "2022-07-26T06:54:45.217Z"
   },
   {
    "duration": 19,
    "start_time": "2022-07-26T06:54:45.245Z"
   },
   {
    "duration": 11,
    "start_time": "2022-07-26T06:54:45.267Z"
   },
   {
    "duration": 13,
    "start_time": "2022-07-26T06:54:45.279Z"
   },
   {
    "duration": 71,
    "start_time": "2022-07-26T06:54:45.294Z"
   },
   {
    "duration": 194,
    "start_time": "2022-07-26T06:54:45.367Z"
   },
   {
    "duration": 6,
    "start_time": "2022-07-26T06:54:45.562Z"
   },
   {
    "duration": 7,
    "start_time": "2022-07-26T06:54:45.569Z"
   },
   {
    "duration": 9,
    "start_time": "2022-07-26T06:54:45.578Z"
   },
   {
    "duration": 10,
    "start_time": "2022-07-26T06:54:45.588Z"
   },
   {
    "duration": 63,
    "start_time": "2022-07-26T06:54:45.600Z"
   },
   {
    "duration": 12,
    "start_time": "2022-07-26T06:54:45.665Z"
   },
   {
    "duration": 88,
    "start_time": "2022-07-26T06:54:45.679Z"
   },
   {
    "duration": 93,
    "start_time": "2022-07-26T06:54:45.769Z"
   },
   {
    "duration": 4,
    "start_time": "2022-07-26T06:54:45.863Z"
   },
   {
    "duration": 40,
    "start_time": "2022-07-26T06:54:45.869Z"
   },
   {
    "duration": 54,
    "start_time": "2022-07-26T06:54:45.911Z"
   },
   {
    "duration": 4,
    "start_time": "2022-07-26T06:55:28.653Z"
   },
   {
    "duration": 11,
    "start_time": "2022-07-26T06:55:37.833Z"
   },
   {
    "duration": 11,
    "start_time": "2022-07-26T06:55:39.890Z"
   },
   {
    "duration": 19,
    "start_time": "2022-07-26T06:55:48.660Z"
   },
   {
    "duration": 4,
    "start_time": "2022-07-26T06:58:40.582Z"
   },
   {
    "duration": 23,
    "start_time": "2022-07-26T06:59:55.197Z"
   },
   {
    "duration": 3612,
    "start_time": "2022-07-26T07:40:08.316Z"
   },
   {
    "duration": 4,
    "start_time": "2022-07-26T07:40:11.930Z"
   },
   {
    "duration": 32,
    "start_time": "2022-07-26T07:40:11.936Z"
   },
   {
    "duration": 4,
    "start_time": "2022-07-26T07:40:11.970Z"
   },
   {
    "duration": 17,
    "start_time": "2022-07-26T07:40:11.975Z"
   },
   {
    "duration": 13,
    "start_time": "2022-07-26T07:40:11.993Z"
   },
   {
    "duration": 8,
    "start_time": "2022-07-26T07:40:12.008Z"
   },
   {
    "duration": 12,
    "start_time": "2022-07-26T07:40:12.017Z"
   },
   {
    "duration": 2,
    "start_time": "2022-07-26T07:40:12.030Z"
   },
   {
    "duration": 22,
    "start_time": "2022-07-26T07:40:12.060Z"
   },
   {
    "duration": 2,
    "start_time": "2022-07-26T07:40:12.084Z"
   },
   {
    "duration": 156,
    "start_time": "2022-07-26T07:40:12.088Z"
   },
   {
    "duration": 275,
    "start_time": "2022-07-26T07:40:12.247Z"
   },
   {
    "duration": 3,
    "start_time": "2022-07-26T07:40:12.524Z"
   },
   {
    "duration": 14,
    "start_time": "2022-07-26T07:40:12.528Z"
   },
   {
    "duration": 5,
    "start_time": "2022-07-26T07:40:12.544Z"
   },
   {
    "duration": 6,
    "start_time": "2022-07-26T07:40:12.559Z"
   },
   {
    "duration": 10,
    "start_time": "2022-07-26T07:40:12.566Z"
   },
   {
    "duration": 6,
    "start_time": "2022-07-26T07:40:12.577Z"
   },
   {
    "duration": 3637,
    "start_time": "2022-07-26T07:40:12.585Z"
   },
   {
    "duration": 3,
    "start_time": "2022-07-26T07:40:16.224Z"
   },
   {
    "duration": 17,
    "start_time": "2022-07-26T07:40:16.229Z"
   },
   {
    "duration": 33,
    "start_time": "2022-07-26T07:40:16.248Z"
   },
   {
    "duration": 43,
    "start_time": "2022-07-26T07:40:16.284Z"
   },
   {
    "duration": 45,
    "start_time": "2022-07-26T07:40:16.329Z"
   },
   {
    "duration": 208,
    "start_time": "2022-07-26T07:40:16.377Z"
   },
   {
    "duration": 39,
    "start_time": "2022-07-26T07:40:16.587Z"
   },
   {
    "duration": 17,
    "start_time": "2022-07-26T07:40:16.631Z"
   },
   {
    "duration": 4,
    "start_time": "2022-07-26T07:40:16.649Z"
   },
   {
    "duration": 12,
    "start_time": "2022-07-26T07:40:16.655Z"
   },
   {
    "duration": 10,
    "start_time": "2022-07-26T07:40:16.668Z"
   },
   {
    "duration": 9,
    "start_time": "2022-07-26T07:40:16.680Z"
   },
   {
    "duration": 5,
    "start_time": "2022-07-26T07:40:16.692Z"
   },
   {
    "duration": 340,
    "start_time": "2022-07-26T07:40:16.699Z"
   },
   {
    "duration": 397,
    "start_time": "2022-07-26T07:40:17.040Z"
   },
   {
    "duration": 3,
    "start_time": "2022-07-26T07:40:17.439Z"
   },
   {
    "duration": 34,
    "start_time": "2022-07-26T07:40:17.443Z"
   },
   {
    "duration": 5,
    "start_time": "2022-07-26T07:40:17.478Z"
   },
   {
    "duration": 21,
    "start_time": "2022-07-26T07:40:17.485Z"
   },
   {
    "duration": 17,
    "start_time": "2022-07-26T07:40:17.508Z"
   },
   {
    "duration": 103,
    "start_time": "2022-07-26T07:40:17.562Z"
   },
   {
    "duration": 95,
    "start_time": "2022-07-26T07:40:17.667Z"
   },
   {
    "duration": 105,
    "start_time": "2022-07-26T07:40:17.764Z"
   },
   {
    "duration": 7,
    "start_time": "2022-07-26T07:40:17.870Z"
   },
   {
    "duration": 11,
    "start_time": "2022-07-26T07:40:17.879Z"
   },
   {
    "duration": 71,
    "start_time": "2022-07-26T07:40:17.892Z"
   },
   {
    "duration": 6,
    "start_time": "2022-07-26T07:40:17.965Z"
   },
   {
    "duration": 93,
    "start_time": "2022-07-26T07:40:17.973Z"
   },
   {
    "duration": 97,
    "start_time": "2022-07-26T07:40:18.069Z"
   },
   {
    "duration": 11,
    "start_time": "2022-07-26T07:40:18.169Z"
   },
   {
    "duration": 7,
    "start_time": "2022-07-26T07:40:18.260Z"
   },
   {
    "duration": 16,
    "start_time": "2022-07-26T07:40:18.269Z"
   },
   {
    "duration": 80,
    "start_time": "2022-07-26T07:40:18.290Z"
   },
   {
    "duration": 6764,
    "start_time": "2022-07-26T09:15:21.701Z"
   },
   {
    "duration": 1470,
    "start_time": "2022-07-26T09:15:28.468Z"
   },
   {
    "duration": 169,
    "start_time": "2022-07-26T09:15:29.940Z"
   },
   {
    "duration": 4,
    "start_time": "2022-07-26T09:15:30.111Z"
   },
   {
    "duration": 25,
    "start_time": "2022-07-26T09:15:30.117Z"
   },
   {
    "duration": 18,
    "start_time": "2022-07-26T09:15:30.144Z"
   },
   {
    "duration": 35,
    "start_time": "2022-07-26T09:15:30.164Z"
   },
   {
    "duration": 31,
    "start_time": "2022-07-26T09:15:30.200Z"
   },
   {
    "duration": 21,
    "start_time": "2022-07-26T09:15:30.233Z"
   },
   {
    "duration": 46,
    "start_time": "2022-07-26T09:15:30.260Z"
   },
   {
    "duration": 2,
    "start_time": "2022-07-26T09:15:30.308Z"
   },
   {
    "duration": 161,
    "start_time": "2022-07-26T09:15:30.312Z"
   },
   {
    "duration": 125,
    "start_time": "2022-07-26T09:15:30.475Z"
   },
   {
    "duration": 3,
    "start_time": "2022-07-26T09:15:30.602Z"
   },
   {
    "duration": 24,
    "start_time": "2022-07-26T09:15:30.607Z"
   },
   {
    "duration": 16,
    "start_time": "2022-07-26T09:15:30.633Z"
   },
   {
    "duration": 24,
    "start_time": "2022-07-26T09:15:30.651Z"
   },
   {
    "duration": 29,
    "start_time": "2022-07-26T09:15:30.677Z"
   },
   {
    "duration": 42,
    "start_time": "2022-07-26T09:15:30.707Z"
   },
   {
    "duration": 3606,
    "start_time": "2022-07-26T09:15:30.751Z"
   },
   {
    "duration": 4,
    "start_time": "2022-07-26T09:15:34.360Z"
   },
   {
    "duration": 120,
    "start_time": "2022-07-26T09:15:56.627Z"
   },
   {
    "duration": 3,
    "start_time": "2022-07-26T09:16:53.709Z"
   },
   {
    "duration": 26,
    "start_time": "2022-07-26T09:17:00.328Z"
   },
   {
    "duration": 3,
    "start_time": "2022-07-26T09:18:35.587Z"
   },
   {
    "duration": 18,
    "start_time": "2022-07-26T09:18:43.000Z"
   },
   {
    "duration": 3,
    "start_time": "2022-07-26T09:18:52.407Z"
   },
   {
    "duration": 21,
    "start_time": "2022-07-26T09:18:58.538Z"
   },
   {
    "duration": 3,
    "start_time": "2022-07-26T09:21:15.208Z"
   },
   {
    "duration": 371,
    "start_time": "2022-07-26T09:21:21.449Z"
   },
   {
    "duration": 9150,
    "start_time": "2022-07-26T16:28:54.634Z"
   },
   {
    "duration": 1358,
    "start_time": "2022-07-26T16:29:03.786Z"
   },
   {
    "duration": 50,
    "start_time": "2022-07-26T16:29:20.517Z"
   },
   {
    "duration": 2462,
    "start_time": "2022-07-26T16:30:53.794Z"
   },
   {
    "duration": 3,
    "start_time": "2022-07-26T16:30:56.259Z"
   },
   {
    "duration": 78,
    "start_time": "2022-07-26T16:30:56.264Z"
   },
   {
    "duration": 4,
    "start_time": "2022-07-26T16:30:56.345Z"
   },
   {
    "duration": 25,
    "start_time": "2022-07-26T16:30:56.351Z"
   },
   {
    "duration": 29,
    "start_time": "2022-07-26T16:30:56.378Z"
   },
   {
    "duration": 19,
    "start_time": "2022-07-26T16:30:56.411Z"
   },
   {
    "duration": 23,
    "start_time": "2022-07-26T16:30:56.431Z"
   },
   {
    "duration": 20,
    "start_time": "2022-07-26T16:30:56.456Z"
   },
   {
    "duration": 38,
    "start_time": "2022-07-26T16:30:56.479Z"
   },
   {
    "duration": 3,
    "start_time": "2022-07-26T16:30:56.519Z"
   },
   {
    "duration": 197,
    "start_time": "2022-07-26T16:30:56.524Z"
   },
   {
    "duration": 156,
    "start_time": "2022-07-26T16:30:56.723Z"
   },
   {
    "duration": 3,
    "start_time": "2022-07-26T16:30:56.880Z"
   },
   {
    "duration": 15,
    "start_time": "2022-07-26T16:30:56.884Z"
   },
   {
    "duration": 5,
    "start_time": "2022-07-26T16:30:56.901Z"
   },
   {
    "duration": 11,
    "start_time": "2022-07-26T16:30:56.908Z"
   },
   {
    "duration": 19,
    "start_time": "2022-07-26T16:30:56.921Z"
   },
   {
    "duration": 11,
    "start_time": "2022-07-26T16:30:56.942Z"
   },
   {
    "duration": 3371,
    "start_time": "2022-07-26T16:30:56.961Z"
   },
   {
    "duration": 3,
    "start_time": "2022-07-26T16:31:00.333Z"
   },
   {
    "duration": 21,
    "start_time": "2022-07-26T16:31:00.338Z"
   },
   {
    "duration": 4,
    "start_time": "2022-07-26T16:31:18.932Z"
   },
   {
    "duration": 257,
    "start_time": "2022-07-26T16:31:20.615Z"
   },
   {
    "duration": 10,
    "start_time": "2022-07-26T16:31:45.859Z"
   },
   {
    "duration": 12,
    "start_time": "2022-07-26T16:31:48.528Z"
   },
   {
    "duration": 19,
    "start_time": "2022-07-26T16:31:51.038Z"
   },
   {
    "duration": 2422,
    "start_time": "2022-07-26T16:34:57.579Z"
   },
   {
    "duration": 1160,
    "start_time": "2022-07-26T16:35:00.003Z"
   },
   {
    "duration": 43,
    "start_time": "2022-07-26T16:35:01.165Z"
   },
   {
    "duration": 9,
    "start_time": "2022-07-26T16:35:01.210Z"
   },
   {
    "duration": 28,
    "start_time": "2022-07-26T16:35:01.222Z"
   },
   {
    "duration": 39,
    "start_time": "2022-07-26T16:35:01.251Z"
   },
   {
    "duration": 15,
    "start_time": "2022-07-26T16:35:01.292Z"
   },
   {
    "duration": 20,
    "start_time": "2022-07-26T16:35:01.309Z"
   },
   {
    "duration": 15,
    "start_time": "2022-07-26T16:35:01.331Z"
   },
   {
    "duration": 37,
    "start_time": "2022-07-26T16:35:01.348Z"
   },
   {
    "duration": 12,
    "start_time": "2022-07-26T16:35:01.387Z"
   },
   {
    "duration": 166,
    "start_time": "2022-07-26T16:35:01.400Z"
   },
   {
    "duration": 132,
    "start_time": "2022-07-26T16:35:01.568Z"
   },
   {
    "duration": 3,
    "start_time": "2022-07-26T16:35:01.703Z"
   },
   {
    "duration": 26,
    "start_time": "2022-07-26T16:35:01.708Z"
   },
   {
    "duration": 51,
    "start_time": "2022-07-26T16:35:01.736Z"
   },
   {
    "duration": 37,
    "start_time": "2022-07-26T16:35:01.789Z"
   },
   {
    "duration": 28,
    "start_time": "2022-07-26T16:35:01.829Z"
   },
   {
    "duration": 57,
    "start_time": "2022-07-26T16:35:01.859Z"
   },
   {
    "duration": 3496,
    "start_time": "2022-07-26T16:35:01.919Z"
   },
   {
    "duration": 2,
    "start_time": "2022-07-26T16:35:05.418Z"
   },
   {
    "duration": 7,
    "start_time": "2022-07-26T16:35:05.422Z"
   },
   {
    "duration": 147,
    "start_time": "2022-07-26T16:35:05.430Z"
   },
   {
    "duration": 13,
    "start_time": "2022-07-26T16:35:05.661Z"
   },
   {
    "duration": 14,
    "start_time": "2022-07-26T16:35:05.676Z"
   },
   {
    "duration": 79,
    "start_time": "2022-07-26T16:35:05.692Z"
   },
   {
    "duration": 19,
    "start_time": "2022-07-26T16:35:05.773Z"
   },
   {
    "duration": 19,
    "start_time": "2022-07-26T16:35:05.794Z"
   },
   {
    "duration": 16,
    "start_time": "2022-07-26T16:35:05.815Z"
   },
   {
    "duration": 5,
    "start_time": "2022-07-26T16:35:05.861Z"
   },
   {
    "duration": 14,
    "start_time": "2022-07-26T16:35:05.868Z"
   },
   {
    "duration": 15,
    "start_time": "2022-07-26T16:35:05.884Z"
   },
   {
    "duration": 7,
    "start_time": "2022-07-26T16:35:05.901Z"
   },
   {
    "duration": 11,
    "start_time": "2022-07-26T16:35:05.909Z"
   },
   {
    "duration": 346,
    "start_time": "2022-07-26T16:35:05.922Z"
   },
   {
    "duration": 452,
    "start_time": "2022-07-26T16:35:06.270Z"
   },
   {
    "duration": 3,
    "start_time": "2022-07-26T16:35:06.724Z"
   },
   {
    "duration": 41,
    "start_time": "2022-07-26T16:35:06.728Z"
   },
   {
    "duration": 4,
    "start_time": "2022-07-26T16:35:06.771Z"
   },
   {
    "duration": 11,
    "start_time": "2022-07-26T16:35:06.777Z"
   },
   {
    "duration": 15,
    "start_time": "2022-07-26T16:35:06.792Z"
   },
   {
    "duration": 16,
    "start_time": "2022-07-26T16:35:06.860Z"
   },
   {
    "duration": 6,
    "start_time": "2022-07-26T16:35:06.962Z"
   },
   {
    "duration": 95,
    "start_time": "2022-07-26T16:35:06.970Z"
   },
   {
    "duration": 5,
    "start_time": "2022-07-26T16:35:07.067Z"
   },
   {
    "duration": 9,
    "start_time": "2022-07-26T16:35:07.074Z"
   },
   {
    "duration": 80,
    "start_time": "2022-07-26T16:35:07.085Z"
   },
   {
    "duration": 7,
    "start_time": "2022-07-26T16:35:07.167Z"
   },
   {
    "duration": 88,
    "start_time": "2022-07-26T16:35:07.176Z"
   },
   {
    "duration": 14,
    "start_time": "2022-07-26T16:35:07.267Z"
   },
   {
    "duration": 11,
    "start_time": "2022-07-26T16:35:07.361Z"
   },
   {
    "duration": 87,
    "start_time": "2022-07-26T16:35:07.374Z"
   },
   {
    "duration": 16,
    "start_time": "2022-07-26T16:35:07.462Z"
   },
   {
    "duration": 85,
    "start_time": "2022-07-26T16:35:07.480Z"
   },
   {
    "duration": 2464,
    "start_time": "2022-07-26T16:43:49.879Z"
   },
   {
    "duration": 4,
    "start_time": "2022-07-26T16:43:52.345Z"
   },
   {
    "duration": 49,
    "start_time": "2022-07-26T16:43:52.350Z"
   },
   {
    "duration": 3,
    "start_time": "2022-07-26T16:43:52.401Z"
   },
   {
    "duration": 17,
    "start_time": "2022-07-26T16:43:52.405Z"
   },
   {
    "duration": 12,
    "start_time": "2022-07-26T16:43:52.424Z"
   },
   {
    "duration": 6,
    "start_time": "2022-07-26T16:43:52.437Z"
   },
   {
    "duration": 12,
    "start_time": "2022-07-26T16:43:52.444Z"
   },
   {
    "duration": 3,
    "start_time": "2022-07-26T16:43:52.457Z"
   },
   {
    "duration": 31,
    "start_time": "2022-07-26T16:43:52.462Z"
   },
   {
    "duration": 3,
    "start_time": "2022-07-26T16:43:52.495Z"
   },
   {
    "duration": 138,
    "start_time": "2022-07-26T16:43:52.499Z"
   },
   {
    "duration": 124,
    "start_time": "2022-07-26T16:43:52.638Z"
   },
   {
    "duration": 2,
    "start_time": "2022-07-26T16:43:52.764Z"
   },
   {
    "duration": 14,
    "start_time": "2022-07-26T16:43:52.768Z"
   },
   {
    "duration": 6,
    "start_time": "2022-07-26T16:43:52.783Z"
   },
   {
    "duration": 10,
    "start_time": "2022-07-26T16:43:52.791Z"
   },
   {
    "duration": 6,
    "start_time": "2022-07-26T16:43:52.802Z"
   },
   {
    "duration": 5,
    "start_time": "2022-07-26T16:43:52.810Z"
   },
   {
    "duration": 3410,
    "start_time": "2022-07-26T16:43:52.817Z"
   },
   {
    "duration": 3,
    "start_time": "2022-07-26T16:43:56.229Z"
   },
   {
    "duration": 4,
    "start_time": "2022-07-26T16:44:02.203Z"
   },
   {
    "duration": 180,
    "start_time": "2022-07-26T16:44:07.382Z"
   },
   {
    "duration": 2589,
    "start_time": "2022-07-26T16:46:42.753Z"
   },
   {
    "duration": 5,
    "start_time": "2022-07-26T16:46:45.345Z"
   },
   {
    "duration": 77,
    "start_time": "2022-07-26T16:46:45.351Z"
   },
   {
    "duration": 4,
    "start_time": "2022-07-26T16:46:45.430Z"
   },
   {
    "duration": 18,
    "start_time": "2022-07-26T16:46:45.436Z"
   },
   {
    "duration": 12,
    "start_time": "2022-07-26T16:46:45.456Z"
   },
   {
    "duration": 3,
    "start_time": "2022-07-26T16:46:45.470Z"
   },
   {
    "duration": 18,
    "start_time": "2022-07-26T16:46:45.475Z"
   },
   {
    "duration": 2,
    "start_time": "2022-07-26T16:46:45.495Z"
   },
   {
    "duration": 23,
    "start_time": "2022-07-26T16:46:45.656Z"
   },
   {
    "duration": 3,
    "start_time": "2022-07-26T16:46:45.680Z"
   },
   {
    "duration": 145,
    "start_time": "2022-07-26T16:46:45.684Z"
   },
   {
    "duration": 107,
    "start_time": "2022-07-26T16:46:45.831Z"
   },
   {
    "duration": 3,
    "start_time": "2022-07-26T16:46:45.940Z"
   },
   {
    "duration": 17,
    "start_time": "2022-07-26T16:46:45.944Z"
   },
   {
    "duration": 6,
    "start_time": "2022-07-26T16:46:45.963Z"
   },
   {
    "duration": 6,
    "start_time": "2022-07-26T16:46:45.971Z"
   },
   {
    "duration": 8,
    "start_time": "2022-07-26T16:46:45.978Z"
   },
   {
    "duration": 3386,
    "start_time": "2022-07-26T16:46:45.987Z"
   },
   {
    "duration": 3,
    "start_time": "2022-07-26T16:46:49.375Z"
   },
   {
    "duration": 5,
    "start_time": "2022-07-26T16:46:49.380Z"
   },
   {
    "duration": 93,
    "start_time": "2022-07-26T16:46:52.971Z"
   },
   {
    "duration": 5,
    "start_time": "2022-07-26T16:48:51.581Z"
   },
   {
    "duration": 12,
    "start_time": "2022-07-26T16:48:55.430Z"
   },
   {
    "duration": 11,
    "start_time": "2022-07-26T16:48:59.864Z"
   },
   {
    "duration": 10,
    "start_time": "2022-07-26T16:49:02.135Z"
   },
   {
    "duration": 116,
    "start_time": "2022-07-26T16:49:05.611Z"
   },
   {
    "duration": 12,
    "start_time": "2022-07-26T16:49:12.324Z"
   },
   {
    "duration": 12,
    "start_time": "2022-07-26T16:49:16.181Z"
   },
   {
    "duration": 12,
    "start_time": "2022-07-26T16:49:23.276Z"
   },
   {
    "duration": 12,
    "start_time": "2022-07-26T16:49:40.975Z"
   },
   {
    "duration": 13,
    "start_time": "2022-07-26T16:49:44.261Z"
   },
   {
    "duration": 2603,
    "start_time": "2022-07-26T16:50:04.321Z"
   },
   {
    "duration": 5,
    "start_time": "2022-07-26T16:50:06.926Z"
   },
   {
    "duration": 56,
    "start_time": "2022-07-26T16:50:06.932Z"
   },
   {
    "duration": 4,
    "start_time": "2022-07-26T16:50:06.990Z"
   },
   {
    "duration": 14,
    "start_time": "2022-07-26T16:50:06.996Z"
   },
   {
    "duration": 15,
    "start_time": "2022-07-26T16:50:07.012Z"
   },
   {
    "duration": 3,
    "start_time": "2022-07-26T16:50:07.028Z"
   },
   {
    "duration": 12,
    "start_time": "2022-07-26T16:50:07.033Z"
   },
   {
    "duration": 2,
    "start_time": "2022-07-26T16:50:07.047Z"
   },
   {
    "duration": 22,
    "start_time": "2022-07-26T16:50:07.060Z"
   },
   {
    "duration": 2,
    "start_time": "2022-07-26T16:50:07.084Z"
   },
   {
    "duration": 147,
    "start_time": "2022-07-26T16:50:07.088Z"
   },
   {
    "duration": 113,
    "start_time": "2022-07-26T16:50:07.236Z"
   },
   {
    "duration": 11,
    "start_time": "2022-07-26T16:50:07.350Z"
   },
   {
    "duration": 5,
    "start_time": "2022-07-26T16:50:07.362Z"
   },
   {
    "duration": 8,
    "start_time": "2022-07-26T16:50:07.369Z"
   },
   {
    "duration": 7,
    "start_time": "2022-07-26T16:50:07.379Z"
   },
   {
    "duration": 9,
    "start_time": "2022-07-26T16:50:07.387Z"
   },
   {
    "duration": 3614,
    "start_time": "2022-07-26T16:50:07.397Z"
   },
   {
    "duration": 3,
    "start_time": "2022-07-26T16:50:11.012Z"
   },
   {
    "duration": 10,
    "start_time": "2022-07-26T16:50:11.016Z"
   },
   {
    "duration": 35,
    "start_time": "2022-07-26T16:50:11.027Z"
   },
   {
    "duration": 111,
    "start_time": "2022-07-26T16:50:11.065Z"
   },
   {
    "duration": 89,
    "start_time": "2022-07-26T16:50:11.177Z"
   },
   {
    "duration": 16,
    "start_time": "2022-07-26T16:50:11.267Z"
   },
   {
    "duration": 11,
    "start_time": "2022-07-26T16:50:11.285Z"
   },
   {
    "duration": 12,
    "start_time": "2022-07-26T16:50:11.298Z"
   },
   {
    "duration": 11,
    "start_time": "2022-07-26T16:50:11.313Z"
   },
   {
    "duration": 34,
    "start_time": "2022-07-26T16:50:11.326Z"
   },
   {
    "duration": 6,
    "start_time": "2022-07-26T16:50:11.362Z"
   },
   {
    "duration": 8,
    "start_time": "2022-07-26T16:50:11.369Z"
   },
   {
    "duration": 7,
    "start_time": "2022-07-26T16:50:11.378Z"
   },
   {
    "duration": 15,
    "start_time": "2022-07-26T16:50:11.387Z"
   },
   {
    "duration": 315,
    "start_time": "2022-07-26T16:50:11.404Z"
   },
   {
    "duration": 371,
    "start_time": "2022-07-26T16:50:11.721Z"
   },
   {
    "duration": 3,
    "start_time": "2022-07-26T16:50:12.094Z"
   },
   {
    "duration": 29,
    "start_time": "2022-07-26T16:50:12.098Z"
   },
   {
    "duration": 4,
    "start_time": "2022-07-26T16:50:12.129Z"
   },
   {
    "duration": 9,
    "start_time": "2022-07-26T16:50:12.134Z"
   },
   {
    "duration": 19,
    "start_time": "2022-07-26T16:50:12.145Z"
   },
   {
    "duration": 99,
    "start_time": "2022-07-26T16:50:12.166Z"
   },
   {
    "duration": 5,
    "start_time": "2022-07-26T16:50:12.267Z"
   },
   {
    "duration": 88,
    "start_time": "2022-07-26T16:50:12.274Z"
   },
   {
    "duration": 8,
    "start_time": "2022-07-26T16:50:12.364Z"
   },
   {
    "duration": 6,
    "start_time": "2022-07-26T16:50:12.374Z"
   },
   {
    "duration": 11,
    "start_time": "2022-07-26T16:50:12.382Z"
   },
   {
    "duration": 5,
    "start_time": "2022-07-26T16:50:12.461Z"
   },
   {
    "duration": 11,
    "start_time": "2022-07-26T16:50:12.468Z"
   },
   {
    "duration": 84,
    "start_time": "2022-07-26T16:50:12.480Z"
   },
   {
    "duration": 13,
    "start_time": "2022-07-26T16:50:12.566Z"
   },
   {
    "duration": 5,
    "start_time": "2022-07-26T16:50:12.660Z"
   },
   {
    "duration": 22,
    "start_time": "2022-07-26T16:50:12.667Z"
   },
   {
    "duration": 0,
    "start_time": "2022-07-26T16:50:12.690Z"
   },
   {
    "duration": 5,
    "start_time": "2022-07-26T16:50:42.099Z"
   },
   {
    "duration": 5,
    "start_time": "2022-07-26T16:50:44.288Z"
   },
   {
    "duration": 16,
    "start_time": "2022-07-26T16:50:46.437Z"
   },
   {
    "duration": 9,
    "start_time": "2022-07-26T16:50:50.827Z"
   },
   {
    "duration": 12,
    "start_time": "2022-07-26T16:54:05.800Z"
   },
   {
    "duration": 13,
    "start_time": "2022-07-26T16:54:07.791Z"
   }
  ],
  "kernelspec": {
   "display_name": "Python 3 (ipykernel)",
   "language": "python",
   "name": "python3"
  },
  "language_info": {
   "codemirror_mode": {
    "name": "ipython",
    "version": 3
   },
   "file_extension": ".py",
   "mimetype": "text/x-python",
   "name": "python",
   "nbconvert_exporter": "python",
   "pygments_lexer": "ipython3",
   "version": "3.9.7"
  },
  "toc": {
   "base_numbering": 1,
   "nav_menu": {},
   "number_sections": true,
   "sideBar": true,
   "skip_h1_title": true,
   "title_cell": "Table of Contents",
   "title_sidebar": "Contents",
   "toc_cell": false,
   "toc_position": {},
   "toc_section_display": true,
   "toc_window_display": false
  }
 },
 "nbformat": 4,
 "nbformat_minor": 4
}
